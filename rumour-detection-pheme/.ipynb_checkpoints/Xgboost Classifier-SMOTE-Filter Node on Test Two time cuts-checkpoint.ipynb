{
 "cells": [
  {
   "cell_type": "code",
   "execution_count": 1,
   "id": "24cf3cd1",
   "metadata": {},
   "outputs": [
    {
     "name": "stdout",
     "output_type": "stream",
     "text": [
      "Requirement already satisfied: xgboost in /home/azureuser/miniconda3/lib/python3.12/site-packages (2.1.1)\n",
      "Requirement already satisfied: numpy in /home/azureuser/miniconda3/lib/python3.12/site-packages (from xgboost) (1.26.4)\n",
      "Requirement already satisfied: nvidia-nccl-cu12 in /home/azureuser/miniconda3/lib/python3.12/site-packages (from xgboost) (2.23.4)\n",
      "Requirement already satisfied: scipy in /home/azureuser/miniconda3/lib/python3.12/site-packages (from xgboost) (1.13.1)\n"
     ]
    }
   ],
   "source": [
    "!python -m pip install xgboost"
   ]
  },
  {
   "cell_type": "code",
   "execution_count": 12,
   "id": "dfdb00f7",
   "metadata": {},
   "outputs": [
    {
     "name": "stdout",
     "output_type": "stream",
     "text": [
      "Collecting hyperopt\n",
      "  Using cached hyperopt-0.2.7-py2.py3-none-any.whl.metadata (1.7 kB)\n",
      "Requirement already satisfied: numpy in /home/azureuser/miniconda3/envs/mastering/lib/python3.12/site-packages (from hyperopt) (1.26.4)\n",
      "Requirement already satisfied: scipy in /home/azureuser/miniconda3/envs/mastering/lib/python3.12/site-packages (from hyperopt) (1.14.0)\n",
      "Requirement already satisfied: six in /home/azureuser/miniconda3/envs/mastering/lib/python3.12/site-packages (from hyperopt) (1.16.0)\n",
      "Requirement already satisfied: networkx>=2.2 in /home/azureuser/miniconda3/envs/mastering/lib/python3.12/site-packages (from hyperopt) (3.3)\n",
      "Collecting future (from hyperopt)\n",
      "  Using cached future-1.0.0-py3-none-any.whl.metadata (4.0 kB)\n",
      "Requirement already satisfied: tqdm in /home/azureuser/miniconda3/envs/mastering/lib/python3.12/site-packages (from hyperopt) (4.66.5)\n",
      "Requirement already satisfied: cloudpickle in /home/azureuser/miniconda3/envs/mastering/lib/python3.12/site-packages (from hyperopt) (3.0.0)\n",
      "Collecting py4j (from hyperopt)\n",
      "  Using cached py4j-0.10.9.7-py2.py3-none-any.whl.metadata (1.5 kB)\n",
      "Using cached hyperopt-0.2.7-py2.py3-none-any.whl (1.6 MB)\n",
      "Using cached future-1.0.0-py3-none-any.whl (491 kB)\n",
      "Using cached py4j-0.10.9.7-py2.py3-none-any.whl (200 kB)\n",
      "Installing collected packages: py4j, future, hyperopt\n",
      "Successfully installed future-1.0.0 hyperopt-0.2.7 py4j-0.10.9.7\n"
     ]
    }
   ],
   "source": [
    "!python -m pip install hyperopt"
   ]
  },
  {
   "cell_type": "code",
   "execution_count": 1,
   "id": "92b0137f",
   "metadata": {},
   "outputs": [],
   "source": [
    "import pandas as pd\n",
    "from sklearn.model_selection import train_test_split,GridSearchCV,StratifiedKFold\n",
    "from sklearn.ensemble import GradientBoostingClassifier\n",
    "from tqdm import tqdm\n",
    "from utils import LoadRumoursDataset,LoadRumoursDatasetFilterNode\n",
    "import numpy as np\n",
    "from sklearn.model_selection import train_test_split, cross_val_score\n",
    "import matplotlib.pylab as plt\n",
    "import uuid\n",
    "from tqdm import tqdm\n",
    "import xgboost as xgb\n",
    "from sklearn.metrics import *\n",
    "from imblearn.over_sampling import SMOTE"
   ]
  },
  {
   "cell_type": "code",
   "execution_count": 8,
   "id": "e1759fb9",
   "metadata": {},
   "outputs": [],
   "source": [
    "import mlflow\n",
    "mlflow.set_tracking_uri(\"sqlite:///mlflow.db\")\n",
    "#mlflow.set_experiment(\"spyder-experiment\")\n",
    "import mlflow.pytorch\n",
    "#mlflow.set_experiment(\"Xgboost experiments 2024-09-26 SMOTE\")"
   ]
  },
  {
   "cell_type": "code",
   "execution_count": 2,
   "id": "d32ca9d4",
   "metadata": {},
   "outputs": [],
   "source": [
    "#\n",
    "file_path_replies = r\"/home/azureuser/rumour-detection-pheme/replies_charlie_hebdo.pkl\"\n",
    "file_path_posts = r\"/home/azureuser/rumour-detection-pheme/posts_charlie_hebdo.pkl\"\n"
   ]
  },
  {
   "cell_type": "markdown",
   "id": "485cc26c-95e5-4ffe-9588-f2c1b1a7021c",
   "metadata": {},
   "source": [
    "### SMOTE APPROACH"
   ]
  },
  {
   "cell_type": "code",
   "execution_count": 3,
   "id": "a70429a1",
   "metadata": {},
   "outputs": [],
   "source": [
    "time_cut =(24*60*3)\n",
    "processor = LoadRumoursDatasetFilterNode(file_path_replies, file_path_posts, time_cut)\n",
    "processor.load_data()\n",
    "processor.process_data()\n",
    "df_final = processor.get_final_dataframe()\n"
   ]
  },
  {
   "cell_type": "code",
   "execution_count": 4,
   "id": "4dbad7b9",
   "metadata": {},
   "outputs": [
    {
     "data": {
      "text/html": [
       "<div>\n",
       "<style scoped>\n",
       "    .dataframe tbody tr th:only-of-type {\n",
       "        vertical-align: middle;\n",
       "    }\n",
       "\n",
       "    .dataframe tbody tr th {\n",
       "        vertical-align: top;\n",
       "    }\n",
       "\n",
       "    .dataframe thead th {\n",
       "        text-align: right;\n",
       "    }\n",
       "</style>\n",
       "<table border=\"1\" class=\"dataframe\">\n",
       "  <thead>\n",
       "    <tr style=\"text-align: right;\">\n",
       "      <th></th>\n",
       "      <th>followers</th>\n",
       "      <th>favorite_count</th>\n",
       "      <th>retweet_count</th>\n",
       "      <th>rumour</th>\n",
       "      <th>embeddings_avg</th>\n",
       "      <th>replies</th>\n",
       "      <th>first_time_diff</th>\n",
       "      <th>no_verified</th>\n",
       "      <th>verified</th>\n",
       "    </tr>\n",
       "  </thead>\n",
       "  <tbody>\n",
       "    <tr>\n",
       "      <th>0</th>\n",
       "      <td>-0.073004</td>\n",
       "      <td>-0.532290</td>\n",
       "      <td>-0.160000</td>\n",
       "      <td>1</td>\n",
       "      <td>[-0.12270056130364537, 0.01583862374536693, -0...</td>\n",
       "      <td>5</td>\n",
       "      <td>3.510619</td>\n",
       "      <td>1</td>\n",
       "      <td>0</td>\n",
       "    </tr>\n",
       "    <tr>\n",
       "      <th>1</th>\n",
       "      <td>0.031065</td>\n",
       "      <td>-0.344423</td>\n",
       "      <td>1.293333</td>\n",
       "      <td>1</td>\n",
       "      <td>[-0.12335950043052435, -0.055849663292368255, ...</td>\n",
       "      <td>5</td>\n",
       "      <td>0.999077</td>\n",
       "      <td>0</td>\n",
       "      <td>1</td>\n",
       "    </tr>\n",
       "    <tr>\n",
       "      <th>2</th>\n",
       "      <td>0.356672</td>\n",
       "      <td>-0.524462</td>\n",
       "      <td>-0.302222</td>\n",
       "      <td>1</td>\n",
       "      <td>[-0.1364929385483265, -0.07159566258390744, -0...</td>\n",
       "      <td>5</td>\n",
       "      <td>0.740536</td>\n",
       "      <td>0</td>\n",
       "      <td>1</td>\n",
       "    </tr>\n",
       "    <tr>\n",
       "      <th>3</th>\n",
       "      <td>0.332156</td>\n",
       "      <td>-0.524462</td>\n",
       "      <td>-0.400000</td>\n",
       "      <td>1</td>\n",
       "      <td>[-0.045377860377941816, -0.20127306692302227, ...</td>\n",
       "      <td>3</td>\n",
       "      <td>-0.164358</td>\n",
       "      <td>0</td>\n",
       "      <td>1</td>\n",
       "    </tr>\n",
       "    <tr>\n",
       "      <th>4</th>\n",
       "      <td>1.046022</td>\n",
       "      <td>-0.391389</td>\n",
       "      <td>0.964444</td>\n",
       "      <td>1</td>\n",
       "      <td>[-0.03706469060853124, -0.1309182441327721, -0...</td>\n",
       "      <td>10</td>\n",
       "      <td>-0.352724</td>\n",
       "      <td>0</td>\n",
       "      <td>1</td>\n",
       "    </tr>\n",
       "    <tr>\n",
       "      <th>...</th>\n",
       "      <td>...</td>\n",
       "      <td>...</td>\n",
       "      <td>...</td>\n",
       "      <td>...</td>\n",
       "      <td>...</td>\n",
       "      <td>...</td>\n",
       "      <td>...</td>\n",
       "      <td>...</td>\n",
       "      <td>...</td>\n",
       "    </tr>\n",
       "    <tr>\n",
       "      <th>1997</th>\n",
       "      <td>3.895910</td>\n",
       "      <td>-0.140900</td>\n",
       "      <td>-0.124444</td>\n",
       "      <td>0</td>\n",
       "      <td>[0.21622000262141228, -0.15450449846684933, -0...</td>\n",
       "      <td>8</td>\n",
       "      <td>0.204986</td>\n",
       "      <td>0</td>\n",
       "      <td>1</td>\n",
       "    </tr>\n",
       "    <tr>\n",
       "      <th>1998</th>\n",
       "      <td>10.452911</td>\n",
       "      <td>3.859100</td>\n",
       "      <td>5.213333</td>\n",
       "      <td>0</td>\n",
       "      <td>[0.21485890651291067, 0.03315381561829285, -0....</td>\n",
       "      <td>9</td>\n",
       "      <td>-0.245614</td>\n",
       "      <td>0</td>\n",
       "      <td>1</td>\n",
       "    </tr>\n",
       "    <tr>\n",
       "      <th>1999</th>\n",
       "      <td>0.012322</td>\n",
       "      <td>1.189824</td>\n",
       "      <td>0.955556</td>\n",
       "      <td>0</td>\n",
       "      <td>[0.08846200071275234, -0.1485882457345724, 0.1...</td>\n",
       "      <td>9</td>\n",
       "      <td>0.500462</td>\n",
       "      <td>1</td>\n",
       "      <td>0</td>\n",
       "    </tr>\n",
       "    <tr>\n",
       "      <th>2000</th>\n",
       "      <td>3.631498</td>\n",
       "      <td>0.477495</td>\n",
       "      <td>1.075556</td>\n",
       "      <td>0</td>\n",
       "      <td>[0.021962551607025996, -0.019428667094972398, ...</td>\n",
       "      <td>18</td>\n",
       "      <td>-0.271468</td>\n",
       "      <td>0</td>\n",
       "      <td>1</td>\n",
       "    </tr>\n",
       "    <tr>\n",
       "      <th>2001</th>\n",
       "      <td>0.952113</td>\n",
       "      <td>-0.320939</td>\n",
       "      <td>-0.275556</td>\n",
       "      <td>0</td>\n",
       "      <td>[0.11712110787630081, -0.1469299958811866, -0....</td>\n",
       "      <td>5</td>\n",
       "      <td>-0.049861</td>\n",
       "      <td>0</td>\n",
       "      <td>1</td>\n",
       "    </tr>\n",
       "  </tbody>\n",
       "</table>\n",
       "<p>2002 rows × 9 columns</p>\n",
       "</div>"
      ],
      "text/plain": [
       "      followers  favorite_count  retweet_count  rumour  \\\n",
       "0     -0.073004       -0.532290      -0.160000       1   \n",
       "1      0.031065       -0.344423       1.293333       1   \n",
       "2      0.356672       -0.524462      -0.302222       1   \n",
       "3      0.332156       -0.524462      -0.400000       1   \n",
       "4      1.046022       -0.391389       0.964444       1   \n",
       "...         ...             ...            ...     ...   \n",
       "1997   3.895910       -0.140900      -0.124444       0   \n",
       "1998  10.452911        3.859100       5.213333       0   \n",
       "1999   0.012322        1.189824       0.955556       0   \n",
       "2000   3.631498        0.477495       1.075556       0   \n",
       "2001   0.952113       -0.320939      -0.275556       0   \n",
       "\n",
       "                                         embeddings_avg  replies  \\\n",
       "0     [-0.12270056130364537, 0.01583862374536693, -0...        5   \n",
       "1     [-0.12335950043052435, -0.055849663292368255, ...        5   \n",
       "2     [-0.1364929385483265, -0.07159566258390744, -0...        5   \n",
       "3     [-0.045377860377941816, -0.20127306692302227, ...        3   \n",
       "4     [-0.03706469060853124, -0.1309182441327721, -0...       10   \n",
       "...                                                 ...      ...   \n",
       "1997  [0.21622000262141228, -0.15450449846684933, -0...        8   \n",
       "1998  [0.21485890651291067, 0.03315381561829285, -0....        9   \n",
       "1999  [0.08846200071275234, -0.1485882457345724, 0.1...        9   \n",
       "2000  [0.021962551607025996, -0.019428667094972398, ...       18   \n",
       "2001  [0.11712110787630081, -0.1469299958811866, -0....        5   \n",
       "\n",
       "      first_time_diff  no_verified  verified  \n",
       "0            3.510619            1         0  \n",
       "1            0.999077            0         1  \n",
       "2            0.740536            0         1  \n",
       "3           -0.164358            0         1  \n",
       "4           -0.352724            0         1  \n",
       "...               ...          ...       ...  \n",
       "1997         0.204986            0         1  \n",
       "1998        -0.245614            0         1  \n",
       "1999         0.500462            1         0  \n",
       "2000        -0.271468            0         1  \n",
       "2001        -0.049861            0         1  \n",
       "\n",
       "[2002 rows x 9 columns]"
      ]
     },
     "execution_count": 4,
     "metadata": {},
     "output_type": "execute_result"
    }
   ],
   "source": [
    "df_final"
   ]
  },
  {
   "cell_type": "code",
   "execution_count": 10,
   "id": "c2c477b7",
   "metadata": {},
   "outputs": [],
   "source": [
    "X  = df_final.drop(columns=['rumour'])\n",
    "X = np.hstack([X.drop(columns=['embeddings_avg']).values, np.array(pd.DataFrame(X.embeddings_avg.tolist()))])\n",
    "#X = np.hstack([X.drop(columns=['embeddings_avg']).values, np.array(pd.DataFrame(X.embeddings_avg.tolist()))])\n",
    "y =df_final['rumour']\n",
    "\n",
    "# Split the data into training and testing sets\n",
    "X_train, X_test, y_train, y_test = train_test_split(\n",
    "    X, y, test_size=0.2, random_state=42,stratify=y,shuffle=True\n",
    ")"
   ]
  },
  {
   "cell_type": "code",
   "execution_count": 14,
   "id": "0bcddc05-ebf9-4046-8af0-c99fb78a63dc",
   "metadata": {},
   "outputs": [
    {
     "name": "stdout",
     "output_type": "stream",
     "text": [
      "357 (1601,)\n"
     ]
    }
   ],
   "source": [
    "print(y_train.sum(),y_train.shape)"
   ]
  },
  {
   "cell_type": "code",
   "execution_count": 15,
   "id": "7f5e69a4-1af8-421b-bb09-74bf64ccb7ac",
   "metadata": {},
   "outputs": [
    {
     "name": "stdout",
     "output_type": "stream",
     "text": [
      "90 (401,)\n"
     ]
    }
   ],
   "source": [
    "print(y_test.sum(),y_test.shape)"
   ]
  },
  {
   "cell_type": "code",
   "execution_count": 11,
   "id": "b6c366a4-d58f-4d47-b863-7ccf376fb020",
   "metadata": {},
   "outputs": [],
   "source": [
    "# Apply SMOTE to the features without embeddings\n",
    "from imblearn.over_sampling import SMOTE\n",
    "smote = SMOTE(random_state=42,sampling_strategy='minority')\n",
    "X_resampled, y_resampled = smote.fit_resample(X_train, y_train)"
   ]
  },
  {
   "cell_type": "code",
   "execution_count": 17,
   "id": "8618d1a9-7111-4960-9537-86622b09e9a1",
   "metadata": {},
   "outputs": [
    {
     "data": {
      "text/plain": [
       "(2488, 107)"
      ]
     },
     "execution_count": 17,
     "metadata": {},
     "output_type": "execute_result"
    }
   ],
   "source": [
    "X_resampled.shape"
   ]
  },
  {
   "cell_type": "code",
   "execution_count": 18,
   "id": "ec70d774-e2f5-445d-905a-781710eed9ba",
   "metadata": {},
   "outputs": [
    {
     "name": "stdout",
     "output_type": "stream",
     "text": [
      "1244 (2488,)\n"
     ]
    }
   ],
   "source": [
    "print(y_resampled.sum(),y_resampled.shape)"
   ]
  },
  {
   "cell_type": "markdown",
   "id": "215b8166-ae83-4787-b1ba-0baf85fd7a4e",
   "metadata": {},
   "source": [
    "#### Hyperparameter tunning"
   ]
  },
  {
   "cell_type": "code",
   "execution_count": 12,
   "id": "13e2d2c3-12be-450f-951d-114e784de22e",
   "metadata": {},
   "outputs": [],
   "source": [
    "import xgboost as xgb\n",
    "from sklearn.model_selection import RandomizedSearchCV\n",
    "import scipy.stats as stats\n",
    "\n",
    "# Define the hyperparameter distributions\n",
    "param_dist = {\n",
    "     'max_depth': [3, 4, 5, 6],\n",
    "    'learning_rate': np.linspace(0.001, 0.1, 20),\n",
    "    'n_estimators': [20,50, 100, 150, 200]\n",
    "}\n",
    "\n",
    "# Create the XGBoost model object\n",
    "xgb_model = xgb.XGBClassifier()\n",
    "\n",
    "# Create the RandomizedSearchCV object\n",
    "random_search = RandomizedSearchCV(xgb_model, param_distributions=param_dist, n_iter=20, cv=5, scoring='f1')\n"
   ]
  },
  {
   "cell_type": "code",
   "execution_count": 13,
   "id": "03f8b458-217a-4902-8dd7-08dab287625c",
   "metadata": {},
   "outputs": [
    {
     "name": "stdout",
     "output_type": "stream",
     "text": [
      "Best set of hyperparameters:  {'n_estimators': 150, 'max_depth': 6, 'learning_rate': 0.07915789473684211}\n",
      "Best score:  0.9343967429206297\n"
     ]
    }
   ],
   "source": [
    "# Fit the RandomizedSearchCV object to the training data\n",
    "random_search.fit(X_resampled, y_resampled)\n",
    "\n",
    "# Print the best set of hyperparameters and the corresponding score\n",
    "print(\"Best set of hyperparameters: \", random_search.best_params_)\n",
    "print(\"Best score: \", random_search.best_score_)"
   ]
  },
  {
   "cell_type": "code",
   "execution_count": 14,
   "id": "8eeccc2f",
   "metadata": {},
   "outputs": [],
   "source": [
    "best_params = random_search.best_params_"
   ]
  },
  {
   "cell_type": "code",
   "execution_count": 21,
   "id": "dd1d915b",
   "metadata": {},
   "outputs": [],
   "source": [
    "from sklearn.metrics import roc_auc_score, accuracy_score, precision_score, recall_score, confusion_matrix\n",
    "import matplotlib.pyplot as plt\n",
    "import seaborn as sns\n",
    "from sklearn.model_selection import cross_val_score\n",
    "\n",
    "def modelfit(alg, X_train, y_train, X_test, y_test, performCV=True, printFeatureImportance=True, cv_folds=5):\n",
    "    # Fit the algorithm on the data\n",
    "    #alg.fit(X_train, y_train)\n",
    "        \n",
    "    # Predict training set:\n",
    "    dtrain_predictions = alg.predict(X_train)\n",
    "    dtrain_predprob = alg.predict_proba(X_train)[:,1]\n",
    "\n",
    "    # Predict test set:\n",
    "    dtest_predictions = alg.predict(X_test)\n",
    "    dtest_predprob = alg.predict_proba(X_test)[:,1]\n",
    "    \n",
    "    # Perform cross-validation:\n",
    "    if performCV:\n",
    "        cv_score = cross_val_score(alg, X_train, y_train, cv=cv_folds, scoring='recall')\n",
    "    \n",
    "    # Print model report for Train:\n",
    "    print(\"\\nModel Report Train\")\n",
    "    print(\"AUC Score : %f\" % roc_auc_score(y_train, dtrain_predprob))\n",
    "    print(\"Accuracy : %.4g\" % accuracy_score(y_train, dtrain_predictions))\n",
    "    print(\"Precision : %.4g\" % precision_score(y_train, dtrain_predictions))\n",
    "    print(\"Recall : %f\" % recall_score(y_train, dtrain_predictions))\n",
    "    \n",
    "\n",
    "    \n",
    "    # Print model report for Test:\n",
    "    print(\"\\nModel Report Test\")\n",
    "    print(\"AUC Score : %f\" % roc_auc_score(y_test, dtest_predprob))\n",
    "    print(\"Accuracy : %.4g\" % accuracy_score(y_test, dtest_predictions))\n",
    "    print(\"Precision : %.4g\" % precision_score(y_test, dtest_predictions))\n",
    "    print(\"Recall : %f\" % recall_score(y_test, dtest_predictions))\n",
    "    \n",
    "\n",
    "    \n",
    "    plt.tight_layout()\n",
    "    plt.show()\n",
    "    \n",
    "    if performCV:\n",
    "        print(\"CV Score : Mean - %.7g | Std - %.7g | Min - %.7g | Max - %.7g\" % (np.mean(cv_score), np.std(cv_score), np.min(cv_score), np.max(cv_score)))\n",
    "\n",
    "    return alg\n",
    "\n"
   ]
  },
  {
   "cell_type": "code",
   "execution_count": 29,
   "id": "428c902d-342c-4b5d-ba81-c423ab8b0725",
   "metadata": {},
   "outputs": [],
   "source": [
    "best_params={\n",
    "             'n_estimators': 50, \n",
    "             'max_depth': 3, \n",
    "             'learning_rate': 0.05, \n",
    "       }"
   ]
  },
  {
   "cell_type": "code",
   "execution_count": 30,
   "id": "f86f66f2",
   "metadata": {},
   "outputs": [
    {
     "data": {
      "text/html": [
       "<style>#sk-container-id-12 {\n",
       "  /* Definition of color scheme common for light and dark mode */\n",
       "  --sklearn-color-text: black;\n",
       "  --sklearn-color-line: gray;\n",
       "  /* Definition of color scheme for unfitted estimators */\n",
       "  --sklearn-color-unfitted-level-0: #fff5e6;\n",
       "  --sklearn-color-unfitted-level-1: #f6e4d2;\n",
       "  --sklearn-color-unfitted-level-2: #ffe0b3;\n",
       "  --sklearn-color-unfitted-level-3: chocolate;\n",
       "  /* Definition of color scheme for fitted estimators */\n",
       "  --sklearn-color-fitted-level-0: #f0f8ff;\n",
       "  --sklearn-color-fitted-level-1: #d4ebff;\n",
       "  --sklearn-color-fitted-level-2: #b3dbfd;\n",
       "  --sklearn-color-fitted-level-3: cornflowerblue;\n",
       "\n",
       "  /* Specific color for light theme */\n",
       "  --sklearn-color-text-on-default-background: var(--sg-text-color, var(--theme-code-foreground, var(--jp-content-font-color1, black)));\n",
       "  --sklearn-color-background: var(--sg-background-color, var(--theme-background, var(--jp-layout-color0, white)));\n",
       "  --sklearn-color-border-box: var(--sg-text-color, var(--theme-code-foreground, var(--jp-content-font-color1, black)));\n",
       "  --sklearn-color-icon: #696969;\n",
       "\n",
       "  @media (prefers-color-scheme: dark) {\n",
       "    /* Redefinition of color scheme for dark theme */\n",
       "    --sklearn-color-text-on-default-background: var(--sg-text-color, var(--theme-code-foreground, var(--jp-content-font-color1, white)));\n",
       "    --sklearn-color-background: var(--sg-background-color, var(--theme-background, var(--jp-layout-color0, #111)));\n",
       "    --sklearn-color-border-box: var(--sg-text-color, var(--theme-code-foreground, var(--jp-content-font-color1, white)));\n",
       "    --sklearn-color-icon: #878787;\n",
       "  }\n",
       "}\n",
       "\n",
       "#sk-container-id-12 {\n",
       "  color: var(--sklearn-color-text);\n",
       "}\n",
       "\n",
       "#sk-container-id-12 pre {\n",
       "  padding: 0;\n",
       "}\n",
       "\n",
       "#sk-container-id-12 input.sk-hidden--visually {\n",
       "  border: 0;\n",
       "  clip: rect(1px 1px 1px 1px);\n",
       "  clip: rect(1px, 1px, 1px, 1px);\n",
       "  height: 1px;\n",
       "  margin: -1px;\n",
       "  overflow: hidden;\n",
       "  padding: 0;\n",
       "  position: absolute;\n",
       "  width: 1px;\n",
       "}\n",
       "\n",
       "#sk-container-id-12 div.sk-dashed-wrapped {\n",
       "  border: 1px dashed var(--sklearn-color-line);\n",
       "  margin: 0 0.4em 0.5em 0.4em;\n",
       "  box-sizing: border-box;\n",
       "  padding-bottom: 0.4em;\n",
       "  background-color: var(--sklearn-color-background);\n",
       "}\n",
       "\n",
       "#sk-container-id-12 div.sk-container {\n",
       "  /* jupyter's `normalize.less` sets `[hidden] { display: none; }`\n",
       "     but bootstrap.min.css set `[hidden] { display: none !important; }`\n",
       "     so we also need the `!important` here to be able to override the\n",
       "     default hidden behavior on the sphinx rendered scikit-learn.org.\n",
       "     See: https://github.com/scikit-learn/scikit-learn/issues/21755 */\n",
       "  display: inline-block !important;\n",
       "  position: relative;\n",
       "}\n",
       "\n",
       "#sk-container-id-12 div.sk-text-repr-fallback {\n",
       "  display: none;\n",
       "}\n",
       "\n",
       "div.sk-parallel-item,\n",
       "div.sk-serial,\n",
       "div.sk-item {\n",
       "  /* draw centered vertical line to link estimators */\n",
       "  background-image: linear-gradient(var(--sklearn-color-text-on-default-background), var(--sklearn-color-text-on-default-background));\n",
       "  background-size: 2px 100%;\n",
       "  background-repeat: no-repeat;\n",
       "  background-position: center center;\n",
       "}\n",
       "\n",
       "/* Parallel-specific style estimator block */\n",
       "\n",
       "#sk-container-id-12 div.sk-parallel-item::after {\n",
       "  content: \"\";\n",
       "  width: 100%;\n",
       "  border-bottom: 2px solid var(--sklearn-color-text-on-default-background);\n",
       "  flex-grow: 1;\n",
       "}\n",
       "\n",
       "#sk-container-id-12 div.sk-parallel {\n",
       "  display: flex;\n",
       "  align-items: stretch;\n",
       "  justify-content: center;\n",
       "  background-color: var(--sklearn-color-background);\n",
       "  position: relative;\n",
       "}\n",
       "\n",
       "#sk-container-id-12 div.sk-parallel-item {\n",
       "  display: flex;\n",
       "  flex-direction: column;\n",
       "}\n",
       "\n",
       "#sk-container-id-12 div.sk-parallel-item:first-child::after {\n",
       "  align-self: flex-end;\n",
       "  width: 50%;\n",
       "}\n",
       "\n",
       "#sk-container-id-12 div.sk-parallel-item:last-child::after {\n",
       "  align-self: flex-start;\n",
       "  width: 50%;\n",
       "}\n",
       "\n",
       "#sk-container-id-12 div.sk-parallel-item:only-child::after {\n",
       "  width: 0;\n",
       "}\n",
       "\n",
       "/* Serial-specific style estimator block */\n",
       "\n",
       "#sk-container-id-12 div.sk-serial {\n",
       "  display: flex;\n",
       "  flex-direction: column;\n",
       "  align-items: center;\n",
       "  background-color: var(--sklearn-color-background);\n",
       "  padding-right: 1em;\n",
       "  padding-left: 1em;\n",
       "}\n",
       "\n",
       "\n",
       "/* Toggleable style: style used for estimator/Pipeline/ColumnTransformer box that is\n",
       "clickable and can be expanded/collapsed.\n",
       "- Pipeline and ColumnTransformer use this feature and define the default style\n",
       "- Estimators will overwrite some part of the style using the `sk-estimator` class\n",
       "*/\n",
       "\n",
       "/* Pipeline and ColumnTransformer style (default) */\n",
       "\n",
       "#sk-container-id-12 div.sk-toggleable {\n",
       "  /* Default theme specific background. It is overwritten whether we have a\n",
       "  specific estimator or a Pipeline/ColumnTransformer */\n",
       "  background-color: var(--sklearn-color-background);\n",
       "}\n",
       "\n",
       "/* Toggleable label */\n",
       "#sk-container-id-12 label.sk-toggleable__label {\n",
       "  cursor: pointer;\n",
       "  display: block;\n",
       "  width: 100%;\n",
       "  margin-bottom: 0;\n",
       "  padding: 0.5em;\n",
       "  box-sizing: border-box;\n",
       "  text-align: center;\n",
       "}\n",
       "\n",
       "#sk-container-id-12 label.sk-toggleable__label-arrow:before {\n",
       "  /* Arrow on the left of the label */\n",
       "  content: \"▸\";\n",
       "  float: left;\n",
       "  margin-right: 0.25em;\n",
       "  color: var(--sklearn-color-icon);\n",
       "}\n",
       "\n",
       "#sk-container-id-12 label.sk-toggleable__label-arrow:hover:before {\n",
       "  color: var(--sklearn-color-text);\n",
       "}\n",
       "\n",
       "/* Toggleable content - dropdown */\n",
       "\n",
       "#sk-container-id-12 div.sk-toggleable__content {\n",
       "  max-height: 0;\n",
       "  max-width: 0;\n",
       "  overflow: hidden;\n",
       "  text-align: left;\n",
       "  /* unfitted */\n",
       "  background-color: var(--sklearn-color-unfitted-level-0);\n",
       "}\n",
       "\n",
       "#sk-container-id-12 div.sk-toggleable__content.fitted {\n",
       "  /* fitted */\n",
       "  background-color: var(--sklearn-color-fitted-level-0);\n",
       "}\n",
       "\n",
       "#sk-container-id-12 div.sk-toggleable__content pre {\n",
       "  margin: 0.2em;\n",
       "  border-radius: 0.25em;\n",
       "  color: var(--sklearn-color-text);\n",
       "  /* unfitted */\n",
       "  background-color: var(--sklearn-color-unfitted-level-0);\n",
       "}\n",
       "\n",
       "#sk-container-id-12 div.sk-toggleable__content.fitted pre {\n",
       "  /* unfitted */\n",
       "  background-color: var(--sklearn-color-fitted-level-0);\n",
       "}\n",
       "\n",
       "#sk-container-id-12 input.sk-toggleable__control:checked~div.sk-toggleable__content {\n",
       "  /* Expand drop-down */\n",
       "  max-height: 200px;\n",
       "  max-width: 100%;\n",
       "  overflow: auto;\n",
       "}\n",
       "\n",
       "#sk-container-id-12 input.sk-toggleable__control:checked~label.sk-toggleable__label-arrow:before {\n",
       "  content: \"▾\";\n",
       "}\n",
       "\n",
       "/* Pipeline/ColumnTransformer-specific style */\n",
       "\n",
       "#sk-container-id-12 div.sk-label input.sk-toggleable__control:checked~label.sk-toggleable__label {\n",
       "  color: var(--sklearn-color-text);\n",
       "  background-color: var(--sklearn-color-unfitted-level-2);\n",
       "}\n",
       "\n",
       "#sk-container-id-12 div.sk-label.fitted input.sk-toggleable__control:checked~label.sk-toggleable__label {\n",
       "  background-color: var(--sklearn-color-fitted-level-2);\n",
       "}\n",
       "\n",
       "/* Estimator-specific style */\n",
       "\n",
       "/* Colorize estimator box */\n",
       "#sk-container-id-12 div.sk-estimator input.sk-toggleable__control:checked~label.sk-toggleable__label {\n",
       "  /* unfitted */\n",
       "  background-color: var(--sklearn-color-unfitted-level-2);\n",
       "}\n",
       "\n",
       "#sk-container-id-12 div.sk-estimator.fitted input.sk-toggleable__control:checked~label.sk-toggleable__label {\n",
       "  /* fitted */\n",
       "  background-color: var(--sklearn-color-fitted-level-2);\n",
       "}\n",
       "\n",
       "#sk-container-id-12 div.sk-label label.sk-toggleable__label,\n",
       "#sk-container-id-12 div.sk-label label {\n",
       "  /* The background is the default theme color */\n",
       "  color: var(--sklearn-color-text-on-default-background);\n",
       "}\n",
       "\n",
       "/* On hover, darken the color of the background */\n",
       "#sk-container-id-12 div.sk-label:hover label.sk-toggleable__label {\n",
       "  color: var(--sklearn-color-text);\n",
       "  background-color: var(--sklearn-color-unfitted-level-2);\n",
       "}\n",
       "\n",
       "/* Label box, darken color on hover, fitted */\n",
       "#sk-container-id-12 div.sk-label.fitted:hover label.sk-toggleable__label.fitted {\n",
       "  color: var(--sklearn-color-text);\n",
       "  background-color: var(--sklearn-color-fitted-level-2);\n",
       "}\n",
       "\n",
       "/* Estimator label */\n",
       "\n",
       "#sk-container-id-12 div.sk-label label {\n",
       "  font-family: monospace;\n",
       "  font-weight: bold;\n",
       "  display: inline-block;\n",
       "  line-height: 1.2em;\n",
       "}\n",
       "\n",
       "#sk-container-id-12 div.sk-label-container {\n",
       "  text-align: center;\n",
       "}\n",
       "\n",
       "/* Estimator-specific */\n",
       "#sk-container-id-12 div.sk-estimator {\n",
       "  font-family: monospace;\n",
       "  border: 1px dotted var(--sklearn-color-border-box);\n",
       "  border-radius: 0.25em;\n",
       "  box-sizing: border-box;\n",
       "  margin-bottom: 0.5em;\n",
       "  /* unfitted */\n",
       "  background-color: var(--sklearn-color-unfitted-level-0);\n",
       "}\n",
       "\n",
       "#sk-container-id-12 div.sk-estimator.fitted {\n",
       "  /* fitted */\n",
       "  background-color: var(--sklearn-color-fitted-level-0);\n",
       "}\n",
       "\n",
       "/* on hover */\n",
       "#sk-container-id-12 div.sk-estimator:hover {\n",
       "  /* unfitted */\n",
       "  background-color: var(--sklearn-color-unfitted-level-2);\n",
       "}\n",
       "\n",
       "#sk-container-id-12 div.sk-estimator.fitted:hover {\n",
       "  /* fitted */\n",
       "  background-color: var(--sklearn-color-fitted-level-2);\n",
       "}\n",
       "\n",
       "/* Specification for estimator info (e.g. \"i\" and \"?\") */\n",
       "\n",
       "/* Common style for \"i\" and \"?\" */\n",
       "\n",
       ".sk-estimator-doc-link,\n",
       "a:link.sk-estimator-doc-link,\n",
       "a:visited.sk-estimator-doc-link {\n",
       "  float: right;\n",
       "  font-size: smaller;\n",
       "  line-height: 1em;\n",
       "  font-family: monospace;\n",
       "  background-color: var(--sklearn-color-background);\n",
       "  border-radius: 1em;\n",
       "  height: 1em;\n",
       "  width: 1em;\n",
       "  text-decoration: none !important;\n",
       "  margin-left: 1ex;\n",
       "  /* unfitted */\n",
       "  border: var(--sklearn-color-unfitted-level-1) 1pt solid;\n",
       "  color: var(--sklearn-color-unfitted-level-1);\n",
       "}\n",
       "\n",
       ".sk-estimator-doc-link.fitted,\n",
       "a:link.sk-estimator-doc-link.fitted,\n",
       "a:visited.sk-estimator-doc-link.fitted {\n",
       "  /* fitted */\n",
       "  border: var(--sklearn-color-fitted-level-1) 1pt solid;\n",
       "  color: var(--sklearn-color-fitted-level-1);\n",
       "}\n",
       "\n",
       "/* On hover */\n",
       "div.sk-estimator:hover .sk-estimator-doc-link:hover,\n",
       ".sk-estimator-doc-link:hover,\n",
       "div.sk-label-container:hover .sk-estimator-doc-link:hover,\n",
       ".sk-estimator-doc-link:hover {\n",
       "  /* unfitted */\n",
       "  background-color: var(--sklearn-color-unfitted-level-3);\n",
       "  color: var(--sklearn-color-background);\n",
       "  text-decoration: none;\n",
       "}\n",
       "\n",
       "div.sk-estimator.fitted:hover .sk-estimator-doc-link.fitted:hover,\n",
       ".sk-estimator-doc-link.fitted:hover,\n",
       "div.sk-label-container:hover .sk-estimator-doc-link.fitted:hover,\n",
       ".sk-estimator-doc-link.fitted:hover {\n",
       "  /* fitted */\n",
       "  background-color: var(--sklearn-color-fitted-level-3);\n",
       "  color: var(--sklearn-color-background);\n",
       "  text-decoration: none;\n",
       "}\n",
       "\n",
       "/* Span, style for the box shown on hovering the info icon */\n",
       ".sk-estimator-doc-link span {\n",
       "  display: none;\n",
       "  z-index: 9999;\n",
       "  position: relative;\n",
       "  font-weight: normal;\n",
       "  right: .2ex;\n",
       "  padding: .5ex;\n",
       "  margin: .5ex;\n",
       "  width: min-content;\n",
       "  min-width: 20ex;\n",
       "  max-width: 50ex;\n",
       "  color: var(--sklearn-color-text);\n",
       "  box-shadow: 2pt 2pt 4pt #999;\n",
       "  /* unfitted */\n",
       "  background: var(--sklearn-color-unfitted-level-0);\n",
       "  border: .5pt solid var(--sklearn-color-unfitted-level-3);\n",
       "}\n",
       "\n",
       ".sk-estimator-doc-link.fitted span {\n",
       "  /* fitted */\n",
       "  background: var(--sklearn-color-fitted-level-0);\n",
       "  border: var(--sklearn-color-fitted-level-3);\n",
       "}\n",
       "\n",
       ".sk-estimator-doc-link:hover span {\n",
       "  display: block;\n",
       "}\n",
       "\n",
       "/* \"?\"-specific style due to the `<a>` HTML tag */\n",
       "\n",
       "#sk-container-id-12 a.estimator_doc_link {\n",
       "  float: right;\n",
       "  font-size: 1rem;\n",
       "  line-height: 1em;\n",
       "  font-family: monospace;\n",
       "  background-color: var(--sklearn-color-background);\n",
       "  border-radius: 1rem;\n",
       "  height: 1rem;\n",
       "  width: 1rem;\n",
       "  text-decoration: none;\n",
       "  /* unfitted */\n",
       "  color: var(--sklearn-color-unfitted-level-1);\n",
       "  border: var(--sklearn-color-unfitted-level-1) 1pt solid;\n",
       "}\n",
       "\n",
       "#sk-container-id-12 a.estimator_doc_link.fitted {\n",
       "  /* fitted */\n",
       "  border: var(--sklearn-color-fitted-level-1) 1pt solid;\n",
       "  color: var(--sklearn-color-fitted-level-1);\n",
       "}\n",
       "\n",
       "/* On hover */\n",
       "#sk-container-id-12 a.estimator_doc_link:hover {\n",
       "  /* unfitted */\n",
       "  background-color: var(--sklearn-color-unfitted-level-3);\n",
       "  color: var(--sklearn-color-background);\n",
       "  text-decoration: none;\n",
       "}\n",
       "\n",
       "#sk-container-id-12 a.estimator_doc_link.fitted:hover {\n",
       "  /* fitted */\n",
       "  background-color: var(--sklearn-color-fitted-level-3);\n",
       "}\n",
       "</style><div id=\"sk-container-id-12\" class=\"sk-top-container\"><div class=\"sk-text-repr-fallback\"><pre>XGBClassifier(base_score=None, booster=None, callbacks=None,\n",
       "              colsample_bylevel=None, colsample_bynode=None,\n",
       "              colsample_bytree=None, device=None, early_stopping_rounds=None,\n",
       "              enable_categorical=False, eval_metric=&#x27;logloss&#x27;,\n",
       "              feature_types=None, gamma=None, grow_policy=None,\n",
       "              importance_type=None, interaction_constraints=None,\n",
       "              learning_rate=0.05, max_bin=None, max_cat_threshold=None,\n",
       "              max_cat_to_onehot=None, max_delta_step=None, max_depth=3,\n",
       "              max_leaves=None, min_child_weight=None, missing=nan,\n",
       "              monotone_constraints=None, multi_strategy=None, n_estimators=50,\n",
       "              n_jobs=None, num_parallel_tree=None, random_state=None, ...)</pre><b>In a Jupyter environment, please rerun this cell to show the HTML representation or trust the notebook. <br />On GitHub, the HTML representation is unable to render, please try loading this page with nbviewer.org.</b></div><div class=\"sk-container\" hidden><div class=\"sk-item\"><div class=\"sk-estimator fitted sk-toggleable\"><input class=\"sk-toggleable__control sk-hidden--visually\" id=\"sk-estimator-id-12\" type=\"checkbox\" checked><label for=\"sk-estimator-id-12\" class=\"sk-toggleable__label fitted sk-toggleable__label-arrow fitted\">&nbsp;XGBClassifier<span class=\"sk-estimator-doc-link fitted\">i<span>Fitted</span></span></label><div class=\"sk-toggleable__content fitted\"><pre>XGBClassifier(base_score=None, booster=None, callbacks=None,\n",
       "              colsample_bylevel=None, colsample_bynode=None,\n",
       "              colsample_bytree=None, device=None, early_stopping_rounds=None,\n",
       "              enable_categorical=False, eval_metric=&#x27;logloss&#x27;,\n",
       "              feature_types=None, gamma=None, grow_policy=None,\n",
       "              importance_type=None, interaction_constraints=None,\n",
       "              learning_rate=0.05, max_bin=None, max_cat_threshold=None,\n",
       "              max_cat_to_onehot=None, max_delta_step=None, max_depth=3,\n",
       "              max_leaves=None, min_child_weight=None, missing=nan,\n",
       "              monotone_constraints=None, multi_strategy=None, n_estimators=50,\n",
       "              n_jobs=None, num_parallel_tree=None, random_state=None, ...)</pre></div> </div></div></div></div>"
      ],
      "text/plain": [
       "XGBClassifier(base_score=None, booster=None, callbacks=None,\n",
       "              colsample_bylevel=None, colsample_bynode=None,\n",
       "              colsample_bytree=None, device=None, early_stopping_rounds=None,\n",
       "              enable_categorical=False, eval_metric='logloss',\n",
       "              feature_types=None, gamma=None, grow_policy=None,\n",
       "              importance_type=None, interaction_constraints=None,\n",
       "              learning_rate=0.05, max_bin=None, max_cat_threshold=None,\n",
       "              max_cat_to_onehot=None, max_delta_step=None, max_depth=3,\n",
       "              max_leaves=None, min_child_weight=None, missing=nan,\n",
       "              monotone_constraints=None, multi_strategy=None, n_estimators=50,\n",
       "              n_jobs=None, num_parallel_tree=None, random_state=None, ...)"
      ]
     },
     "execution_count": 30,
     "metadata": {},
     "output_type": "execute_result"
    }
   ],
   "source": [
    "# Train the final model with the best hyperparameters\n",
    "final_model = xgb.XGBClassifier(\n",
    "    eval_metric='logloss',\n",
    "    **best_params\n",
    ")\n",
    "final_model.fit(X_resampled, y_resampled)\n"
   ]
  },
  {
   "cell_type": "code",
   "execution_count": 23,
   "id": "e95a5b56",
   "metadata": {},
   "outputs": [
    {
     "name": "stdout",
     "output_type": "stream",
     "text": [
      "\n",
      "Model Report Train\n",
      "AUC Score : 0.966499\n",
      "Accuracy : 0.8967\n",
      "Precision : 0.8675\n",
      "Recall : 0.936495\n",
      "\n",
      "Model Report Test\n",
      "AUC Score : 0.886995\n",
      "Accuracy : 0.8155\n",
      "Precision : 0.5571\n",
      "Recall : 0.866667\n"
     ]
    },
    {
     "data": {
      "text/plain": [
       "<Figure size 640x480 with 0 Axes>"
      ]
     },
     "metadata": {},
     "output_type": "display_data"
    },
    {
     "name": "stdout",
     "output_type": "stream",
     "text": [
      "CV Score : Mean - 0.9035303 | Std - 0.02317016 | Min - 0.8634538 | Max - 0.9317269\n"
     ]
    },
    {
     "data": {
      "text/html": [
       "<style>#sk-container-id-6 {\n",
       "  /* Definition of color scheme common for light and dark mode */\n",
       "  --sklearn-color-text: black;\n",
       "  --sklearn-color-line: gray;\n",
       "  /* Definition of color scheme for unfitted estimators */\n",
       "  --sklearn-color-unfitted-level-0: #fff5e6;\n",
       "  --sklearn-color-unfitted-level-1: #f6e4d2;\n",
       "  --sklearn-color-unfitted-level-2: #ffe0b3;\n",
       "  --sklearn-color-unfitted-level-3: chocolate;\n",
       "  /* Definition of color scheme for fitted estimators */\n",
       "  --sklearn-color-fitted-level-0: #f0f8ff;\n",
       "  --sklearn-color-fitted-level-1: #d4ebff;\n",
       "  --sklearn-color-fitted-level-2: #b3dbfd;\n",
       "  --sklearn-color-fitted-level-3: cornflowerblue;\n",
       "\n",
       "  /* Specific color for light theme */\n",
       "  --sklearn-color-text-on-default-background: var(--sg-text-color, var(--theme-code-foreground, var(--jp-content-font-color1, black)));\n",
       "  --sklearn-color-background: var(--sg-background-color, var(--theme-background, var(--jp-layout-color0, white)));\n",
       "  --sklearn-color-border-box: var(--sg-text-color, var(--theme-code-foreground, var(--jp-content-font-color1, black)));\n",
       "  --sklearn-color-icon: #696969;\n",
       "\n",
       "  @media (prefers-color-scheme: dark) {\n",
       "    /* Redefinition of color scheme for dark theme */\n",
       "    --sklearn-color-text-on-default-background: var(--sg-text-color, var(--theme-code-foreground, var(--jp-content-font-color1, white)));\n",
       "    --sklearn-color-background: var(--sg-background-color, var(--theme-background, var(--jp-layout-color0, #111)));\n",
       "    --sklearn-color-border-box: var(--sg-text-color, var(--theme-code-foreground, var(--jp-content-font-color1, white)));\n",
       "    --sklearn-color-icon: #878787;\n",
       "  }\n",
       "}\n",
       "\n",
       "#sk-container-id-6 {\n",
       "  color: var(--sklearn-color-text);\n",
       "}\n",
       "\n",
       "#sk-container-id-6 pre {\n",
       "  padding: 0;\n",
       "}\n",
       "\n",
       "#sk-container-id-6 input.sk-hidden--visually {\n",
       "  border: 0;\n",
       "  clip: rect(1px 1px 1px 1px);\n",
       "  clip: rect(1px, 1px, 1px, 1px);\n",
       "  height: 1px;\n",
       "  margin: -1px;\n",
       "  overflow: hidden;\n",
       "  padding: 0;\n",
       "  position: absolute;\n",
       "  width: 1px;\n",
       "}\n",
       "\n",
       "#sk-container-id-6 div.sk-dashed-wrapped {\n",
       "  border: 1px dashed var(--sklearn-color-line);\n",
       "  margin: 0 0.4em 0.5em 0.4em;\n",
       "  box-sizing: border-box;\n",
       "  padding-bottom: 0.4em;\n",
       "  background-color: var(--sklearn-color-background);\n",
       "}\n",
       "\n",
       "#sk-container-id-6 div.sk-container {\n",
       "  /* jupyter's `normalize.less` sets `[hidden] { display: none; }`\n",
       "     but bootstrap.min.css set `[hidden] { display: none !important; }`\n",
       "     so we also need the `!important` here to be able to override the\n",
       "     default hidden behavior on the sphinx rendered scikit-learn.org.\n",
       "     See: https://github.com/scikit-learn/scikit-learn/issues/21755 */\n",
       "  display: inline-block !important;\n",
       "  position: relative;\n",
       "}\n",
       "\n",
       "#sk-container-id-6 div.sk-text-repr-fallback {\n",
       "  display: none;\n",
       "}\n",
       "\n",
       "div.sk-parallel-item,\n",
       "div.sk-serial,\n",
       "div.sk-item {\n",
       "  /* draw centered vertical line to link estimators */\n",
       "  background-image: linear-gradient(var(--sklearn-color-text-on-default-background), var(--sklearn-color-text-on-default-background));\n",
       "  background-size: 2px 100%;\n",
       "  background-repeat: no-repeat;\n",
       "  background-position: center center;\n",
       "}\n",
       "\n",
       "/* Parallel-specific style estimator block */\n",
       "\n",
       "#sk-container-id-6 div.sk-parallel-item::after {\n",
       "  content: \"\";\n",
       "  width: 100%;\n",
       "  border-bottom: 2px solid var(--sklearn-color-text-on-default-background);\n",
       "  flex-grow: 1;\n",
       "}\n",
       "\n",
       "#sk-container-id-6 div.sk-parallel {\n",
       "  display: flex;\n",
       "  align-items: stretch;\n",
       "  justify-content: center;\n",
       "  background-color: var(--sklearn-color-background);\n",
       "  position: relative;\n",
       "}\n",
       "\n",
       "#sk-container-id-6 div.sk-parallel-item {\n",
       "  display: flex;\n",
       "  flex-direction: column;\n",
       "}\n",
       "\n",
       "#sk-container-id-6 div.sk-parallel-item:first-child::after {\n",
       "  align-self: flex-end;\n",
       "  width: 50%;\n",
       "}\n",
       "\n",
       "#sk-container-id-6 div.sk-parallel-item:last-child::after {\n",
       "  align-self: flex-start;\n",
       "  width: 50%;\n",
       "}\n",
       "\n",
       "#sk-container-id-6 div.sk-parallel-item:only-child::after {\n",
       "  width: 0;\n",
       "}\n",
       "\n",
       "/* Serial-specific style estimator block */\n",
       "\n",
       "#sk-container-id-6 div.sk-serial {\n",
       "  display: flex;\n",
       "  flex-direction: column;\n",
       "  align-items: center;\n",
       "  background-color: var(--sklearn-color-background);\n",
       "  padding-right: 1em;\n",
       "  padding-left: 1em;\n",
       "}\n",
       "\n",
       "\n",
       "/* Toggleable style: style used for estimator/Pipeline/ColumnTransformer box that is\n",
       "clickable and can be expanded/collapsed.\n",
       "- Pipeline and ColumnTransformer use this feature and define the default style\n",
       "- Estimators will overwrite some part of the style using the `sk-estimator` class\n",
       "*/\n",
       "\n",
       "/* Pipeline and ColumnTransformer style (default) */\n",
       "\n",
       "#sk-container-id-6 div.sk-toggleable {\n",
       "  /* Default theme specific background. It is overwritten whether we have a\n",
       "  specific estimator or a Pipeline/ColumnTransformer */\n",
       "  background-color: var(--sklearn-color-background);\n",
       "}\n",
       "\n",
       "/* Toggleable label */\n",
       "#sk-container-id-6 label.sk-toggleable__label {\n",
       "  cursor: pointer;\n",
       "  display: block;\n",
       "  width: 100%;\n",
       "  margin-bottom: 0;\n",
       "  padding: 0.5em;\n",
       "  box-sizing: border-box;\n",
       "  text-align: center;\n",
       "}\n",
       "\n",
       "#sk-container-id-6 label.sk-toggleable__label-arrow:before {\n",
       "  /* Arrow on the left of the label */\n",
       "  content: \"▸\";\n",
       "  float: left;\n",
       "  margin-right: 0.25em;\n",
       "  color: var(--sklearn-color-icon);\n",
       "}\n",
       "\n",
       "#sk-container-id-6 label.sk-toggleable__label-arrow:hover:before {\n",
       "  color: var(--sklearn-color-text);\n",
       "}\n",
       "\n",
       "/* Toggleable content - dropdown */\n",
       "\n",
       "#sk-container-id-6 div.sk-toggleable__content {\n",
       "  max-height: 0;\n",
       "  max-width: 0;\n",
       "  overflow: hidden;\n",
       "  text-align: left;\n",
       "  /* unfitted */\n",
       "  background-color: var(--sklearn-color-unfitted-level-0);\n",
       "}\n",
       "\n",
       "#sk-container-id-6 div.sk-toggleable__content.fitted {\n",
       "  /* fitted */\n",
       "  background-color: var(--sklearn-color-fitted-level-0);\n",
       "}\n",
       "\n",
       "#sk-container-id-6 div.sk-toggleable__content pre {\n",
       "  margin: 0.2em;\n",
       "  border-radius: 0.25em;\n",
       "  color: var(--sklearn-color-text);\n",
       "  /* unfitted */\n",
       "  background-color: var(--sklearn-color-unfitted-level-0);\n",
       "}\n",
       "\n",
       "#sk-container-id-6 div.sk-toggleable__content.fitted pre {\n",
       "  /* unfitted */\n",
       "  background-color: var(--sklearn-color-fitted-level-0);\n",
       "}\n",
       "\n",
       "#sk-container-id-6 input.sk-toggleable__control:checked~div.sk-toggleable__content {\n",
       "  /* Expand drop-down */\n",
       "  max-height: 200px;\n",
       "  max-width: 100%;\n",
       "  overflow: auto;\n",
       "}\n",
       "\n",
       "#sk-container-id-6 input.sk-toggleable__control:checked~label.sk-toggleable__label-arrow:before {\n",
       "  content: \"▾\";\n",
       "}\n",
       "\n",
       "/* Pipeline/ColumnTransformer-specific style */\n",
       "\n",
       "#sk-container-id-6 div.sk-label input.sk-toggleable__control:checked~label.sk-toggleable__label {\n",
       "  color: var(--sklearn-color-text);\n",
       "  background-color: var(--sklearn-color-unfitted-level-2);\n",
       "}\n",
       "\n",
       "#sk-container-id-6 div.sk-label.fitted input.sk-toggleable__control:checked~label.sk-toggleable__label {\n",
       "  background-color: var(--sklearn-color-fitted-level-2);\n",
       "}\n",
       "\n",
       "/* Estimator-specific style */\n",
       "\n",
       "/* Colorize estimator box */\n",
       "#sk-container-id-6 div.sk-estimator input.sk-toggleable__control:checked~label.sk-toggleable__label {\n",
       "  /* unfitted */\n",
       "  background-color: var(--sklearn-color-unfitted-level-2);\n",
       "}\n",
       "\n",
       "#sk-container-id-6 div.sk-estimator.fitted input.sk-toggleable__control:checked~label.sk-toggleable__label {\n",
       "  /* fitted */\n",
       "  background-color: var(--sklearn-color-fitted-level-2);\n",
       "}\n",
       "\n",
       "#sk-container-id-6 div.sk-label label.sk-toggleable__label,\n",
       "#sk-container-id-6 div.sk-label label {\n",
       "  /* The background is the default theme color */\n",
       "  color: var(--sklearn-color-text-on-default-background);\n",
       "}\n",
       "\n",
       "/* On hover, darken the color of the background */\n",
       "#sk-container-id-6 div.sk-label:hover label.sk-toggleable__label {\n",
       "  color: var(--sklearn-color-text);\n",
       "  background-color: var(--sklearn-color-unfitted-level-2);\n",
       "}\n",
       "\n",
       "/* Label box, darken color on hover, fitted */\n",
       "#sk-container-id-6 div.sk-label.fitted:hover label.sk-toggleable__label.fitted {\n",
       "  color: var(--sklearn-color-text);\n",
       "  background-color: var(--sklearn-color-fitted-level-2);\n",
       "}\n",
       "\n",
       "/* Estimator label */\n",
       "\n",
       "#sk-container-id-6 div.sk-label label {\n",
       "  font-family: monospace;\n",
       "  font-weight: bold;\n",
       "  display: inline-block;\n",
       "  line-height: 1.2em;\n",
       "}\n",
       "\n",
       "#sk-container-id-6 div.sk-label-container {\n",
       "  text-align: center;\n",
       "}\n",
       "\n",
       "/* Estimator-specific */\n",
       "#sk-container-id-6 div.sk-estimator {\n",
       "  font-family: monospace;\n",
       "  border: 1px dotted var(--sklearn-color-border-box);\n",
       "  border-radius: 0.25em;\n",
       "  box-sizing: border-box;\n",
       "  margin-bottom: 0.5em;\n",
       "  /* unfitted */\n",
       "  background-color: var(--sklearn-color-unfitted-level-0);\n",
       "}\n",
       "\n",
       "#sk-container-id-6 div.sk-estimator.fitted {\n",
       "  /* fitted */\n",
       "  background-color: var(--sklearn-color-fitted-level-0);\n",
       "}\n",
       "\n",
       "/* on hover */\n",
       "#sk-container-id-6 div.sk-estimator:hover {\n",
       "  /* unfitted */\n",
       "  background-color: var(--sklearn-color-unfitted-level-2);\n",
       "}\n",
       "\n",
       "#sk-container-id-6 div.sk-estimator.fitted:hover {\n",
       "  /* fitted */\n",
       "  background-color: var(--sklearn-color-fitted-level-2);\n",
       "}\n",
       "\n",
       "/* Specification for estimator info (e.g. \"i\" and \"?\") */\n",
       "\n",
       "/* Common style for \"i\" and \"?\" */\n",
       "\n",
       ".sk-estimator-doc-link,\n",
       "a:link.sk-estimator-doc-link,\n",
       "a:visited.sk-estimator-doc-link {\n",
       "  float: right;\n",
       "  font-size: smaller;\n",
       "  line-height: 1em;\n",
       "  font-family: monospace;\n",
       "  background-color: var(--sklearn-color-background);\n",
       "  border-radius: 1em;\n",
       "  height: 1em;\n",
       "  width: 1em;\n",
       "  text-decoration: none !important;\n",
       "  margin-left: 1ex;\n",
       "  /* unfitted */\n",
       "  border: var(--sklearn-color-unfitted-level-1) 1pt solid;\n",
       "  color: var(--sklearn-color-unfitted-level-1);\n",
       "}\n",
       "\n",
       ".sk-estimator-doc-link.fitted,\n",
       "a:link.sk-estimator-doc-link.fitted,\n",
       "a:visited.sk-estimator-doc-link.fitted {\n",
       "  /* fitted */\n",
       "  border: var(--sklearn-color-fitted-level-1) 1pt solid;\n",
       "  color: var(--sklearn-color-fitted-level-1);\n",
       "}\n",
       "\n",
       "/* On hover */\n",
       "div.sk-estimator:hover .sk-estimator-doc-link:hover,\n",
       ".sk-estimator-doc-link:hover,\n",
       "div.sk-label-container:hover .sk-estimator-doc-link:hover,\n",
       ".sk-estimator-doc-link:hover {\n",
       "  /* unfitted */\n",
       "  background-color: var(--sklearn-color-unfitted-level-3);\n",
       "  color: var(--sklearn-color-background);\n",
       "  text-decoration: none;\n",
       "}\n",
       "\n",
       "div.sk-estimator.fitted:hover .sk-estimator-doc-link.fitted:hover,\n",
       ".sk-estimator-doc-link.fitted:hover,\n",
       "div.sk-label-container:hover .sk-estimator-doc-link.fitted:hover,\n",
       ".sk-estimator-doc-link.fitted:hover {\n",
       "  /* fitted */\n",
       "  background-color: var(--sklearn-color-fitted-level-3);\n",
       "  color: var(--sklearn-color-background);\n",
       "  text-decoration: none;\n",
       "}\n",
       "\n",
       "/* Span, style for the box shown on hovering the info icon */\n",
       ".sk-estimator-doc-link span {\n",
       "  display: none;\n",
       "  z-index: 9999;\n",
       "  position: relative;\n",
       "  font-weight: normal;\n",
       "  right: .2ex;\n",
       "  padding: .5ex;\n",
       "  margin: .5ex;\n",
       "  width: min-content;\n",
       "  min-width: 20ex;\n",
       "  max-width: 50ex;\n",
       "  color: var(--sklearn-color-text);\n",
       "  box-shadow: 2pt 2pt 4pt #999;\n",
       "  /* unfitted */\n",
       "  background: var(--sklearn-color-unfitted-level-0);\n",
       "  border: .5pt solid var(--sklearn-color-unfitted-level-3);\n",
       "}\n",
       "\n",
       ".sk-estimator-doc-link.fitted span {\n",
       "  /* fitted */\n",
       "  background: var(--sklearn-color-fitted-level-0);\n",
       "  border: var(--sklearn-color-fitted-level-3);\n",
       "}\n",
       "\n",
       ".sk-estimator-doc-link:hover span {\n",
       "  display: block;\n",
       "}\n",
       "\n",
       "/* \"?\"-specific style due to the `<a>` HTML tag */\n",
       "\n",
       "#sk-container-id-6 a.estimator_doc_link {\n",
       "  float: right;\n",
       "  font-size: 1rem;\n",
       "  line-height: 1em;\n",
       "  font-family: monospace;\n",
       "  background-color: var(--sklearn-color-background);\n",
       "  border-radius: 1rem;\n",
       "  height: 1rem;\n",
       "  width: 1rem;\n",
       "  text-decoration: none;\n",
       "  /* unfitted */\n",
       "  color: var(--sklearn-color-unfitted-level-1);\n",
       "  border: var(--sklearn-color-unfitted-level-1) 1pt solid;\n",
       "}\n",
       "\n",
       "#sk-container-id-6 a.estimator_doc_link.fitted {\n",
       "  /* fitted */\n",
       "  border: var(--sklearn-color-fitted-level-1) 1pt solid;\n",
       "  color: var(--sklearn-color-fitted-level-1);\n",
       "}\n",
       "\n",
       "/* On hover */\n",
       "#sk-container-id-6 a.estimator_doc_link:hover {\n",
       "  /* unfitted */\n",
       "  background-color: var(--sklearn-color-unfitted-level-3);\n",
       "  color: var(--sklearn-color-background);\n",
       "  text-decoration: none;\n",
       "}\n",
       "\n",
       "#sk-container-id-6 a.estimator_doc_link.fitted:hover {\n",
       "  /* fitted */\n",
       "  background-color: var(--sklearn-color-fitted-level-3);\n",
       "}\n",
       "</style><div id=\"sk-container-id-6\" class=\"sk-top-container\"><div class=\"sk-text-repr-fallback\"><pre>XGBClassifier(base_score=None, booster=None, callbacks=None,\n",
       "              colsample_bylevel=None, colsample_bynode=None,\n",
       "              colsample_bytree=None, device=None, early_stopping_rounds=None,\n",
       "              enable_categorical=False, eval_metric=&#x27;logloss&#x27;,\n",
       "              feature_types=None, gamma=None, grow_policy=None,\n",
       "              importance_type=None, interaction_constraints=None,\n",
       "              learning_rate=0.05, max_bin=None, max_cat_threshold=None,\n",
       "              max_cat_to_onehot=None, max_delta_step=None, max_depth=3,\n",
       "              max_leaves=None, min_child_weight=None, missing=nan,\n",
       "              monotone_constraints=None, multi_strategy=None, n_estimators=50,\n",
       "              n_jobs=None, num_parallel_tree=None, random_state=None, ...)</pre><b>In a Jupyter environment, please rerun this cell to show the HTML representation or trust the notebook. <br />On GitHub, the HTML representation is unable to render, please try loading this page with nbviewer.org.</b></div><div class=\"sk-container\" hidden><div class=\"sk-item\"><div class=\"sk-estimator fitted sk-toggleable\"><input class=\"sk-toggleable__control sk-hidden--visually\" id=\"sk-estimator-id-6\" type=\"checkbox\" checked><label for=\"sk-estimator-id-6\" class=\"sk-toggleable__label fitted sk-toggleable__label-arrow fitted\">&nbsp;XGBClassifier<span class=\"sk-estimator-doc-link fitted\">i<span>Fitted</span></span></label><div class=\"sk-toggleable__content fitted\"><pre>XGBClassifier(base_score=None, booster=None, callbacks=None,\n",
       "              colsample_bylevel=None, colsample_bynode=None,\n",
       "              colsample_bytree=None, device=None, early_stopping_rounds=None,\n",
       "              enable_categorical=False, eval_metric=&#x27;logloss&#x27;,\n",
       "              feature_types=None, gamma=None, grow_policy=None,\n",
       "              importance_type=None, interaction_constraints=None,\n",
       "              learning_rate=0.05, max_bin=None, max_cat_threshold=None,\n",
       "              max_cat_to_onehot=None, max_delta_step=None, max_depth=3,\n",
       "              max_leaves=None, min_child_weight=None, missing=nan,\n",
       "              monotone_constraints=None, multi_strategy=None, n_estimators=50,\n",
       "              n_jobs=None, num_parallel_tree=None, random_state=None, ...)</pre></div> </div></div></div></div>"
      ],
      "text/plain": [
       "XGBClassifier(base_score=None, booster=None, callbacks=None,\n",
       "              colsample_bylevel=None, colsample_bynode=None,\n",
       "              colsample_bytree=None, device=None, early_stopping_rounds=None,\n",
       "              enable_categorical=False, eval_metric='logloss',\n",
       "              feature_types=None, gamma=None, grow_policy=None,\n",
       "              importance_type=None, interaction_constraints=None,\n",
       "              learning_rate=0.05, max_bin=None, max_cat_threshold=None,\n",
       "              max_cat_to_onehot=None, max_delta_step=None, max_depth=3,\n",
       "              max_leaves=None, min_child_weight=None, missing=nan,\n",
       "              monotone_constraints=None, multi_strategy=None, n_estimators=50,\n",
       "              n_jobs=None, num_parallel_tree=None, random_state=None, ...)"
      ]
     },
     "execution_count": 23,
     "metadata": {},
     "output_type": "execute_result"
    }
   ],
   "source": [
    "modelfit(final_model,X_resampled, y_resampled,X_test,y_test)"
   ]
  },
  {
   "cell_type": "code",
   "execution_count": 24,
   "id": "ed631464-4d98-498b-8433-276dcc67d209",
   "metadata": {},
   "outputs": [
    {
     "name": "stdout",
     "output_type": "stream",
     "text": [
      "\n",
      "Model Report Train\n",
      "AUC Score : 0.953527\n",
      "Accuracy : 0.8695\n",
      "Precision : 0.6468\n",
      "Recall : 0.913165\n",
      "\n",
      "Model Report Test\n",
      "AUC Score : 0.886995\n",
      "Accuracy : 0.8155\n",
      "Precision : 0.5571\n",
      "Recall : 0.866667\n"
     ]
    },
    {
     "data": {
      "text/plain": [
       "<Figure size 640x480 with 0 Axes>"
      ]
     },
     "metadata": {},
     "output_type": "display_data"
    },
    {
     "name": "stdout",
     "output_type": "stream",
     "text": [
      "CV Score : Mean - 0.579734 | Std - 0.03872896 | Min - 0.5352113 | Max - 0.6338028\n"
     ]
    },
    {
     "data": {
      "text/html": [
       "<style>#sk-container-id-7 {\n",
       "  /* Definition of color scheme common for light and dark mode */\n",
       "  --sklearn-color-text: black;\n",
       "  --sklearn-color-line: gray;\n",
       "  /* Definition of color scheme for unfitted estimators */\n",
       "  --sklearn-color-unfitted-level-0: #fff5e6;\n",
       "  --sklearn-color-unfitted-level-1: #f6e4d2;\n",
       "  --sklearn-color-unfitted-level-2: #ffe0b3;\n",
       "  --sklearn-color-unfitted-level-3: chocolate;\n",
       "  /* Definition of color scheme for fitted estimators */\n",
       "  --sklearn-color-fitted-level-0: #f0f8ff;\n",
       "  --sklearn-color-fitted-level-1: #d4ebff;\n",
       "  --sklearn-color-fitted-level-2: #b3dbfd;\n",
       "  --sklearn-color-fitted-level-3: cornflowerblue;\n",
       "\n",
       "  /* Specific color for light theme */\n",
       "  --sklearn-color-text-on-default-background: var(--sg-text-color, var(--theme-code-foreground, var(--jp-content-font-color1, black)));\n",
       "  --sklearn-color-background: var(--sg-background-color, var(--theme-background, var(--jp-layout-color0, white)));\n",
       "  --sklearn-color-border-box: var(--sg-text-color, var(--theme-code-foreground, var(--jp-content-font-color1, black)));\n",
       "  --sklearn-color-icon: #696969;\n",
       "\n",
       "  @media (prefers-color-scheme: dark) {\n",
       "    /* Redefinition of color scheme for dark theme */\n",
       "    --sklearn-color-text-on-default-background: var(--sg-text-color, var(--theme-code-foreground, var(--jp-content-font-color1, white)));\n",
       "    --sklearn-color-background: var(--sg-background-color, var(--theme-background, var(--jp-layout-color0, #111)));\n",
       "    --sklearn-color-border-box: var(--sg-text-color, var(--theme-code-foreground, var(--jp-content-font-color1, white)));\n",
       "    --sklearn-color-icon: #878787;\n",
       "  }\n",
       "}\n",
       "\n",
       "#sk-container-id-7 {\n",
       "  color: var(--sklearn-color-text);\n",
       "}\n",
       "\n",
       "#sk-container-id-7 pre {\n",
       "  padding: 0;\n",
       "}\n",
       "\n",
       "#sk-container-id-7 input.sk-hidden--visually {\n",
       "  border: 0;\n",
       "  clip: rect(1px 1px 1px 1px);\n",
       "  clip: rect(1px, 1px, 1px, 1px);\n",
       "  height: 1px;\n",
       "  margin: -1px;\n",
       "  overflow: hidden;\n",
       "  padding: 0;\n",
       "  position: absolute;\n",
       "  width: 1px;\n",
       "}\n",
       "\n",
       "#sk-container-id-7 div.sk-dashed-wrapped {\n",
       "  border: 1px dashed var(--sklearn-color-line);\n",
       "  margin: 0 0.4em 0.5em 0.4em;\n",
       "  box-sizing: border-box;\n",
       "  padding-bottom: 0.4em;\n",
       "  background-color: var(--sklearn-color-background);\n",
       "}\n",
       "\n",
       "#sk-container-id-7 div.sk-container {\n",
       "  /* jupyter's `normalize.less` sets `[hidden] { display: none; }`\n",
       "     but bootstrap.min.css set `[hidden] { display: none !important; }`\n",
       "     so we also need the `!important` here to be able to override the\n",
       "     default hidden behavior on the sphinx rendered scikit-learn.org.\n",
       "     See: https://github.com/scikit-learn/scikit-learn/issues/21755 */\n",
       "  display: inline-block !important;\n",
       "  position: relative;\n",
       "}\n",
       "\n",
       "#sk-container-id-7 div.sk-text-repr-fallback {\n",
       "  display: none;\n",
       "}\n",
       "\n",
       "div.sk-parallel-item,\n",
       "div.sk-serial,\n",
       "div.sk-item {\n",
       "  /* draw centered vertical line to link estimators */\n",
       "  background-image: linear-gradient(var(--sklearn-color-text-on-default-background), var(--sklearn-color-text-on-default-background));\n",
       "  background-size: 2px 100%;\n",
       "  background-repeat: no-repeat;\n",
       "  background-position: center center;\n",
       "}\n",
       "\n",
       "/* Parallel-specific style estimator block */\n",
       "\n",
       "#sk-container-id-7 div.sk-parallel-item::after {\n",
       "  content: \"\";\n",
       "  width: 100%;\n",
       "  border-bottom: 2px solid var(--sklearn-color-text-on-default-background);\n",
       "  flex-grow: 1;\n",
       "}\n",
       "\n",
       "#sk-container-id-7 div.sk-parallel {\n",
       "  display: flex;\n",
       "  align-items: stretch;\n",
       "  justify-content: center;\n",
       "  background-color: var(--sklearn-color-background);\n",
       "  position: relative;\n",
       "}\n",
       "\n",
       "#sk-container-id-7 div.sk-parallel-item {\n",
       "  display: flex;\n",
       "  flex-direction: column;\n",
       "}\n",
       "\n",
       "#sk-container-id-7 div.sk-parallel-item:first-child::after {\n",
       "  align-self: flex-end;\n",
       "  width: 50%;\n",
       "}\n",
       "\n",
       "#sk-container-id-7 div.sk-parallel-item:last-child::after {\n",
       "  align-self: flex-start;\n",
       "  width: 50%;\n",
       "}\n",
       "\n",
       "#sk-container-id-7 div.sk-parallel-item:only-child::after {\n",
       "  width: 0;\n",
       "}\n",
       "\n",
       "/* Serial-specific style estimator block */\n",
       "\n",
       "#sk-container-id-7 div.sk-serial {\n",
       "  display: flex;\n",
       "  flex-direction: column;\n",
       "  align-items: center;\n",
       "  background-color: var(--sklearn-color-background);\n",
       "  padding-right: 1em;\n",
       "  padding-left: 1em;\n",
       "}\n",
       "\n",
       "\n",
       "/* Toggleable style: style used for estimator/Pipeline/ColumnTransformer box that is\n",
       "clickable and can be expanded/collapsed.\n",
       "- Pipeline and ColumnTransformer use this feature and define the default style\n",
       "- Estimators will overwrite some part of the style using the `sk-estimator` class\n",
       "*/\n",
       "\n",
       "/* Pipeline and ColumnTransformer style (default) */\n",
       "\n",
       "#sk-container-id-7 div.sk-toggleable {\n",
       "  /* Default theme specific background. It is overwritten whether we have a\n",
       "  specific estimator or a Pipeline/ColumnTransformer */\n",
       "  background-color: var(--sklearn-color-background);\n",
       "}\n",
       "\n",
       "/* Toggleable label */\n",
       "#sk-container-id-7 label.sk-toggleable__label {\n",
       "  cursor: pointer;\n",
       "  display: block;\n",
       "  width: 100%;\n",
       "  margin-bottom: 0;\n",
       "  padding: 0.5em;\n",
       "  box-sizing: border-box;\n",
       "  text-align: center;\n",
       "}\n",
       "\n",
       "#sk-container-id-7 label.sk-toggleable__label-arrow:before {\n",
       "  /* Arrow on the left of the label */\n",
       "  content: \"▸\";\n",
       "  float: left;\n",
       "  margin-right: 0.25em;\n",
       "  color: var(--sklearn-color-icon);\n",
       "}\n",
       "\n",
       "#sk-container-id-7 label.sk-toggleable__label-arrow:hover:before {\n",
       "  color: var(--sklearn-color-text);\n",
       "}\n",
       "\n",
       "/* Toggleable content - dropdown */\n",
       "\n",
       "#sk-container-id-7 div.sk-toggleable__content {\n",
       "  max-height: 0;\n",
       "  max-width: 0;\n",
       "  overflow: hidden;\n",
       "  text-align: left;\n",
       "  /* unfitted */\n",
       "  background-color: var(--sklearn-color-unfitted-level-0);\n",
       "}\n",
       "\n",
       "#sk-container-id-7 div.sk-toggleable__content.fitted {\n",
       "  /* fitted */\n",
       "  background-color: var(--sklearn-color-fitted-level-0);\n",
       "}\n",
       "\n",
       "#sk-container-id-7 div.sk-toggleable__content pre {\n",
       "  margin: 0.2em;\n",
       "  border-radius: 0.25em;\n",
       "  color: var(--sklearn-color-text);\n",
       "  /* unfitted */\n",
       "  background-color: var(--sklearn-color-unfitted-level-0);\n",
       "}\n",
       "\n",
       "#sk-container-id-7 div.sk-toggleable__content.fitted pre {\n",
       "  /* unfitted */\n",
       "  background-color: var(--sklearn-color-fitted-level-0);\n",
       "}\n",
       "\n",
       "#sk-container-id-7 input.sk-toggleable__control:checked~div.sk-toggleable__content {\n",
       "  /* Expand drop-down */\n",
       "  max-height: 200px;\n",
       "  max-width: 100%;\n",
       "  overflow: auto;\n",
       "}\n",
       "\n",
       "#sk-container-id-7 input.sk-toggleable__control:checked~label.sk-toggleable__label-arrow:before {\n",
       "  content: \"▾\";\n",
       "}\n",
       "\n",
       "/* Pipeline/ColumnTransformer-specific style */\n",
       "\n",
       "#sk-container-id-7 div.sk-label input.sk-toggleable__control:checked~label.sk-toggleable__label {\n",
       "  color: var(--sklearn-color-text);\n",
       "  background-color: var(--sklearn-color-unfitted-level-2);\n",
       "}\n",
       "\n",
       "#sk-container-id-7 div.sk-label.fitted input.sk-toggleable__control:checked~label.sk-toggleable__label {\n",
       "  background-color: var(--sklearn-color-fitted-level-2);\n",
       "}\n",
       "\n",
       "/* Estimator-specific style */\n",
       "\n",
       "/* Colorize estimator box */\n",
       "#sk-container-id-7 div.sk-estimator input.sk-toggleable__control:checked~label.sk-toggleable__label {\n",
       "  /* unfitted */\n",
       "  background-color: var(--sklearn-color-unfitted-level-2);\n",
       "}\n",
       "\n",
       "#sk-container-id-7 div.sk-estimator.fitted input.sk-toggleable__control:checked~label.sk-toggleable__label {\n",
       "  /* fitted */\n",
       "  background-color: var(--sklearn-color-fitted-level-2);\n",
       "}\n",
       "\n",
       "#sk-container-id-7 div.sk-label label.sk-toggleable__label,\n",
       "#sk-container-id-7 div.sk-label label {\n",
       "  /* The background is the default theme color */\n",
       "  color: var(--sklearn-color-text-on-default-background);\n",
       "}\n",
       "\n",
       "/* On hover, darken the color of the background */\n",
       "#sk-container-id-7 div.sk-label:hover label.sk-toggleable__label {\n",
       "  color: var(--sklearn-color-text);\n",
       "  background-color: var(--sklearn-color-unfitted-level-2);\n",
       "}\n",
       "\n",
       "/* Label box, darken color on hover, fitted */\n",
       "#sk-container-id-7 div.sk-label.fitted:hover label.sk-toggleable__label.fitted {\n",
       "  color: var(--sklearn-color-text);\n",
       "  background-color: var(--sklearn-color-fitted-level-2);\n",
       "}\n",
       "\n",
       "/* Estimator label */\n",
       "\n",
       "#sk-container-id-7 div.sk-label label {\n",
       "  font-family: monospace;\n",
       "  font-weight: bold;\n",
       "  display: inline-block;\n",
       "  line-height: 1.2em;\n",
       "}\n",
       "\n",
       "#sk-container-id-7 div.sk-label-container {\n",
       "  text-align: center;\n",
       "}\n",
       "\n",
       "/* Estimator-specific */\n",
       "#sk-container-id-7 div.sk-estimator {\n",
       "  font-family: monospace;\n",
       "  border: 1px dotted var(--sklearn-color-border-box);\n",
       "  border-radius: 0.25em;\n",
       "  box-sizing: border-box;\n",
       "  margin-bottom: 0.5em;\n",
       "  /* unfitted */\n",
       "  background-color: var(--sklearn-color-unfitted-level-0);\n",
       "}\n",
       "\n",
       "#sk-container-id-7 div.sk-estimator.fitted {\n",
       "  /* fitted */\n",
       "  background-color: var(--sklearn-color-fitted-level-0);\n",
       "}\n",
       "\n",
       "/* on hover */\n",
       "#sk-container-id-7 div.sk-estimator:hover {\n",
       "  /* unfitted */\n",
       "  background-color: var(--sklearn-color-unfitted-level-2);\n",
       "}\n",
       "\n",
       "#sk-container-id-7 div.sk-estimator.fitted:hover {\n",
       "  /* fitted */\n",
       "  background-color: var(--sklearn-color-fitted-level-2);\n",
       "}\n",
       "\n",
       "/* Specification for estimator info (e.g. \"i\" and \"?\") */\n",
       "\n",
       "/* Common style for \"i\" and \"?\" */\n",
       "\n",
       ".sk-estimator-doc-link,\n",
       "a:link.sk-estimator-doc-link,\n",
       "a:visited.sk-estimator-doc-link {\n",
       "  float: right;\n",
       "  font-size: smaller;\n",
       "  line-height: 1em;\n",
       "  font-family: monospace;\n",
       "  background-color: var(--sklearn-color-background);\n",
       "  border-radius: 1em;\n",
       "  height: 1em;\n",
       "  width: 1em;\n",
       "  text-decoration: none !important;\n",
       "  margin-left: 1ex;\n",
       "  /* unfitted */\n",
       "  border: var(--sklearn-color-unfitted-level-1) 1pt solid;\n",
       "  color: var(--sklearn-color-unfitted-level-1);\n",
       "}\n",
       "\n",
       ".sk-estimator-doc-link.fitted,\n",
       "a:link.sk-estimator-doc-link.fitted,\n",
       "a:visited.sk-estimator-doc-link.fitted {\n",
       "  /* fitted */\n",
       "  border: var(--sklearn-color-fitted-level-1) 1pt solid;\n",
       "  color: var(--sklearn-color-fitted-level-1);\n",
       "}\n",
       "\n",
       "/* On hover */\n",
       "div.sk-estimator:hover .sk-estimator-doc-link:hover,\n",
       ".sk-estimator-doc-link:hover,\n",
       "div.sk-label-container:hover .sk-estimator-doc-link:hover,\n",
       ".sk-estimator-doc-link:hover {\n",
       "  /* unfitted */\n",
       "  background-color: var(--sklearn-color-unfitted-level-3);\n",
       "  color: var(--sklearn-color-background);\n",
       "  text-decoration: none;\n",
       "}\n",
       "\n",
       "div.sk-estimator.fitted:hover .sk-estimator-doc-link.fitted:hover,\n",
       ".sk-estimator-doc-link.fitted:hover,\n",
       "div.sk-label-container:hover .sk-estimator-doc-link.fitted:hover,\n",
       ".sk-estimator-doc-link.fitted:hover {\n",
       "  /* fitted */\n",
       "  background-color: var(--sklearn-color-fitted-level-3);\n",
       "  color: var(--sklearn-color-background);\n",
       "  text-decoration: none;\n",
       "}\n",
       "\n",
       "/* Span, style for the box shown on hovering the info icon */\n",
       ".sk-estimator-doc-link span {\n",
       "  display: none;\n",
       "  z-index: 9999;\n",
       "  position: relative;\n",
       "  font-weight: normal;\n",
       "  right: .2ex;\n",
       "  padding: .5ex;\n",
       "  margin: .5ex;\n",
       "  width: min-content;\n",
       "  min-width: 20ex;\n",
       "  max-width: 50ex;\n",
       "  color: var(--sklearn-color-text);\n",
       "  box-shadow: 2pt 2pt 4pt #999;\n",
       "  /* unfitted */\n",
       "  background: var(--sklearn-color-unfitted-level-0);\n",
       "  border: .5pt solid var(--sklearn-color-unfitted-level-3);\n",
       "}\n",
       "\n",
       ".sk-estimator-doc-link.fitted span {\n",
       "  /* fitted */\n",
       "  background: var(--sklearn-color-fitted-level-0);\n",
       "  border: var(--sklearn-color-fitted-level-3);\n",
       "}\n",
       "\n",
       ".sk-estimator-doc-link:hover span {\n",
       "  display: block;\n",
       "}\n",
       "\n",
       "/* \"?\"-specific style due to the `<a>` HTML tag */\n",
       "\n",
       "#sk-container-id-7 a.estimator_doc_link {\n",
       "  float: right;\n",
       "  font-size: 1rem;\n",
       "  line-height: 1em;\n",
       "  font-family: monospace;\n",
       "  background-color: var(--sklearn-color-background);\n",
       "  border-radius: 1rem;\n",
       "  height: 1rem;\n",
       "  width: 1rem;\n",
       "  text-decoration: none;\n",
       "  /* unfitted */\n",
       "  color: var(--sklearn-color-unfitted-level-1);\n",
       "  border: var(--sklearn-color-unfitted-level-1) 1pt solid;\n",
       "}\n",
       "\n",
       "#sk-container-id-7 a.estimator_doc_link.fitted {\n",
       "  /* fitted */\n",
       "  border: var(--sklearn-color-fitted-level-1) 1pt solid;\n",
       "  color: var(--sklearn-color-fitted-level-1);\n",
       "}\n",
       "\n",
       "/* On hover */\n",
       "#sk-container-id-7 a.estimator_doc_link:hover {\n",
       "  /* unfitted */\n",
       "  background-color: var(--sklearn-color-unfitted-level-3);\n",
       "  color: var(--sklearn-color-background);\n",
       "  text-decoration: none;\n",
       "}\n",
       "\n",
       "#sk-container-id-7 a.estimator_doc_link.fitted:hover {\n",
       "  /* fitted */\n",
       "  background-color: var(--sklearn-color-fitted-level-3);\n",
       "}\n",
       "</style><div id=\"sk-container-id-7\" class=\"sk-top-container\"><div class=\"sk-text-repr-fallback\"><pre>XGBClassifier(base_score=None, booster=None, callbacks=None,\n",
       "              colsample_bylevel=None, colsample_bynode=None,\n",
       "              colsample_bytree=None, device=None, early_stopping_rounds=None,\n",
       "              enable_categorical=False, eval_metric=&#x27;logloss&#x27;,\n",
       "              feature_types=None, gamma=None, grow_policy=None,\n",
       "              importance_type=None, interaction_constraints=None,\n",
       "              learning_rate=0.05, max_bin=None, max_cat_threshold=None,\n",
       "              max_cat_to_onehot=None, max_delta_step=None, max_depth=3,\n",
       "              max_leaves=None, min_child_weight=None, missing=nan,\n",
       "              monotone_constraints=None, multi_strategy=None, n_estimators=50,\n",
       "              n_jobs=None, num_parallel_tree=None, random_state=None, ...)</pre><b>In a Jupyter environment, please rerun this cell to show the HTML representation or trust the notebook. <br />On GitHub, the HTML representation is unable to render, please try loading this page with nbviewer.org.</b></div><div class=\"sk-container\" hidden><div class=\"sk-item\"><div class=\"sk-estimator fitted sk-toggleable\"><input class=\"sk-toggleable__control sk-hidden--visually\" id=\"sk-estimator-id-7\" type=\"checkbox\" checked><label for=\"sk-estimator-id-7\" class=\"sk-toggleable__label fitted sk-toggleable__label-arrow fitted\">&nbsp;XGBClassifier<span class=\"sk-estimator-doc-link fitted\">i<span>Fitted</span></span></label><div class=\"sk-toggleable__content fitted\"><pre>XGBClassifier(base_score=None, booster=None, callbacks=None,\n",
       "              colsample_bylevel=None, colsample_bynode=None,\n",
       "              colsample_bytree=None, device=None, early_stopping_rounds=None,\n",
       "              enable_categorical=False, eval_metric=&#x27;logloss&#x27;,\n",
       "              feature_types=None, gamma=None, grow_policy=None,\n",
       "              importance_type=None, interaction_constraints=None,\n",
       "              learning_rate=0.05, max_bin=None, max_cat_threshold=None,\n",
       "              max_cat_to_onehot=None, max_delta_step=None, max_depth=3,\n",
       "              max_leaves=None, min_child_weight=None, missing=nan,\n",
       "              monotone_constraints=None, multi_strategy=None, n_estimators=50,\n",
       "              n_jobs=None, num_parallel_tree=None, random_state=None, ...)</pre></div> </div></div></div></div>"
      ],
      "text/plain": [
       "XGBClassifier(base_score=None, booster=None, callbacks=None,\n",
       "              colsample_bylevel=None, colsample_bynode=None,\n",
       "              colsample_bytree=None, device=None, early_stopping_rounds=None,\n",
       "              enable_categorical=False, eval_metric='logloss',\n",
       "              feature_types=None, gamma=None, grow_policy=None,\n",
       "              importance_type=None, interaction_constraints=None,\n",
       "              learning_rate=0.05, max_bin=None, max_cat_threshold=None,\n",
       "              max_cat_to_onehot=None, max_delta_step=None, max_depth=3,\n",
       "              max_leaves=None, min_child_weight=None, missing=nan,\n",
       "              monotone_constraints=None, multi_strategy=None, n_estimators=50,\n",
       "              n_jobs=None, num_parallel_tree=None, random_state=None, ...)"
      ]
     },
     "execution_count": 24,
     "metadata": {},
     "output_type": "execute_result"
    }
   ],
   "source": [
    "modelfit(final_model,X_train, y_train,X_test,y_test)"
   ]
  },
  {
   "cell_type": "markdown",
   "id": "cb1243ac-c4f7-4187-8658-d2b8c9d7fd45",
   "metadata": {},
   "source": [
    "#### Without SMOTE"
   ]
  },
  {
   "cell_type": "code",
   "execution_count": 25,
   "id": "2c4b0fb1-0866-49d8-8e19-579c12d3635f",
   "metadata": {},
   "outputs": [
    {
     "data": {
      "text/html": [
       "<style>#sk-container-id-8 {\n",
       "  /* Definition of color scheme common for light and dark mode */\n",
       "  --sklearn-color-text: black;\n",
       "  --sklearn-color-line: gray;\n",
       "  /* Definition of color scheme for unfitted estimators */\n",
       "  --sklearn-color-unfitted-level-0: #fff5e6;\n",
       "  --sklearn-color-unfitted-level-1: #f6e4d2;\n",
       "  --sklearn-color-unfitted-level-2: #ffe0b3;\n",
       "  --sklearn-color-unfitted-level-3: chocolate;\n",
       "  /* Definition of color scheme for fitted estimators */\n",
       "  --sklearn-color-fitted-level-0: #f0f8ff;\n",
       "  --sklearn-color-fitted-level-1: #d4ebff;\n",
       "  --sklearn-color-fitted-level-2: #b3dbfd;\n",
       "  --sklearn-color-fitted-level-3: cornflowerblue;\n",
       "\n",
       "  /* Specific color for light theme */\n",
       "  --sklearn-color-text-on-default-background: var(--sg-text-color, var(--theme-code-foreground, var(--jp-content-font-color1, black)));\n",
       "  --sklearn-color-background: var(--sg-background-color, var(--theme-background, var(--jp-layout-color0, white)));\n",
       "  --sklearn-color-border-box: var(--sg-text-color, var(--theme-code-foreground, var(--jp-content-font-color1, black)));\n",
       "  --sklearn-color-icon: #696969;\n",
       "\n",
       "  @media (prefers-color-scheme: dark) {\n",
       "    /* Redefinition of color scheme for dark theme */\n",
       "    --sklearn-color-text-on-default-background: var(--sg-text-color, var(--theme-code-foreground, var(--jp-content-font-color1, white)));\n",
       "    --sklearn-color-background: var(--sg-background-color, var(--theme-background, var(--jp-layout-color0, #111)));\n",
       "    --sklearn-color-border-box: var(--sg-text-color, var(--theme-code-foreground, var(--jp-content-font-color1, white)));\n",
       "    --sklearn-color-icon: #878787;\n",
       "  }\n",
       "}\n",
       "\n",
       "#sk-container-id-8 {\n",
       "  color: var(--sklearn-color-text);\n",
       "}\n",
       "\n",
       "#sk-container-id-8 pre {\n",
       "  padding: 0;\n",
       "}\n",
       "\n",
       "#sk-container-id-8 input.sk-hidden--visually {\n",
       "  border: 0;\n",
       "  clip: rect(1px 1px 1px 1px);\n",
       "  clip: rect(1px, 1px, 1px, 1px);\n",
       "  height: 1px;\n",
       "  margin: -1px;\n",
       "  overflow: hidden;\n",
       "  padding: 0;\n",
       "  position: absolute;\n",
       "  width: 1px;\n",
       "}\n",
       "\n",
       "#sk-container-id-8 div.sk-dashed-wrapped {\n",
       "  border: 1px dashed var(--sklearn-color-line);\n",
       "  margin: 0 0.4em 0.5em 0.4em;\n",
       "  box-sizing: border-box;\n",
       "  padding-bottom: 0.4em;\n",
       "  background-color: var(--sklearn-color-background);\n",
       "}\n",
       "\n",
       "#sk-container-id-8 div.sk-container {\n",
       "  /* jupyter's `normalize.less` sets `[hidden] { display: none; }`\n",
       "     but bootstrap.min.css set `[hidden] { display: none !important; }`\n",
       "     so we also need the `!important` here to be able to override the\n",
       "     default hidden behavior on the sphinx rendered scikit-learn.org.\n",
       "     See: https://github.com/scikit-learn/scikit-learn/issues/21755 */\n",
       "  display: inline-block !important;\n",
       "  position: relative;\n",
       "}\n",
       "\n",
       "#sk-container-id-8 div.sk-text-repr-fallback {\n",
       "  display: none;\n",
       "}\n",
       "\n",
       "div.sk-parallel-item,\n",
       "div.sk-serial,\n",
       "div.sk-item {\n",
       "  /* draw centered vertical line to link estimators */\n",
       "  background-image: linear-gradient(var(--sklearn-color-text-on-default-background), var(--sklearn-color-text-on-default-background));\n",
       "  background-size: 2px 100%;\n",
       "  background-repeat: no-repeat;\n",
       "  background-position: center center;\n",
       "}\n",
       "\n",
       "/* Parallel-specific style estimator block */\n",
       "\n",
       "#sk-container-id-8 div.sk-parallel-item::after {\n",
       "  content: \"\";\n",
       "  width: 100%;\n",
       "  border-bottom: 2px solid var(--sklearn-color-text-on-default-background);\n",
       "  flex-grow: 1;\n",
       "}\n",
       "\n",
       "#sk-container-id-8 div.sk-parallel {\n",
       "  display: flex;\n",
       "  align-items: stretch;\n",
       "  justify-content: center;\n",
       "  background-color: var(--sklearn-color-background);\n",
       "  position: relative;\n",
       "}\n",
       "\n",
       "#sk-container-id-8 div.sk-parallel-item {\n",
       "  display: flex;\n",
       "  flex-direction: column;\n",
       "}\n",
       "\n",
       "#sk-container-id-8 div.sk-parallel-item:first-child::after {\n",
       "  align-self: flex-end;\n",
       "  width: 50%;\n",
       "}\n",
       "\n",
       "#sk-container-id-8 div.sk-parallel-item:last-child::after {\n",
       "  align-self: flex-start;\n",
       "  width: 50%;\n",
       "}\n",
       "\n",
       "#sk-container-id-8 div.sk-parallel-item:only-child::after {\n",
       "  width: 0;\n",
       "}\n",
       "\n",
       "/* Serial-specific style estimator block */\n",
       "\n",
       "#sk-container-id-8 div.sk-serial {\n",
       "  display: flex;\n",
       "  flex-direction: column;\n",
       "  align-items: center;\n",
       "  background-color: var(--sklearn-color-background);\n",
       "  padding-right: 1em;\n",
       "  padding-left: 1em;\n",
       "}\n",
       "\n",
       "\n",
       "/* Toggleable style: style used for estimator/Pipeline/ColumnTransformer box that is\n",
       "clickable and can be expanded/collapsed.\n",
       "- Pipeline and ColumnTransformer use this feature and define the default style\n",
       "- Estimators will overwrite some part of the style using the `sk-estimator` class\n",
       "*/\n",
       "\n",
       "/* Pipeline and ColumnTransformer style (default) */\n",
       "\n",
       "#sk-container-id-8 div.sk-toggleable {\n",
       "  /* Default theme specific background. It is overwritten whether we have a\n",
       "  specific estimator or a Pipeline/ColumnTransformer */\n",
       "  background-color: var(--sklearn-color-background);\n",
       "}\n",
       "\n",
       "/* Toggleable label */\n",
       "#sk-container-id-8 label.sk-toggleable__label {\n",
       "  cursor: pointer;\n",
       "  display: block;\n",
       "  width: 100%;\n",
       "  margin-bottom: 0;\n",
       "  padding: 0.5em;\n",
       "  box-sizing: border-box;\n",
       "  text-align: center;\n",
       "}\n",
       "\n",
       "#sk-container-id-8 label.sk-toggleable__label-arrow:before {\n",
       "  /* Arrow on the left of the label */\n",
       "  content: \"▸\";\n",
       "  float: left;\n",
       "  margin-right: 0.25em;\n",
       "  color: var(--sklearn-color-icon);\n",
       "}\n",
       "\n",
       "#sk-container-id-8 label.sk-toggleable__label-arrow:hover:before {\n",
       "  color: var(--sklearn-color-text);\n",
       "}\n",
       "\n",
       "/* Toggleable content - dropdown */\n",
       "\n",
       "#sk-container-id-8 div.sk-toggleable__content {\n",
       "  max-height: 0;\n",
       "  max-width: 0;\n",
       "  overflow: hidden;\n",
       "  text-align: left;\n",
       "  /* unfitted */\n",
       "  background-color: var(--sklearn-color-unfitted-level-0);\n",
       "}\n",
       "\n",
       "#sk-container-id-8 div.sk-toggleable__content.fitted {\n",
       "  /* fitted */\n",
       "  background-color: var(--sklearn-color-fitted-level-0);\n",
       "}\n",
       "\n",
       "#sk-container-id-8 div.sk-toggleable__content pre {\n",
       "  margin: 0.2em;\n",
       "  border-radius: 0.25em;\n",
       "  color: var(--sklearn-color-text);\n",
       "  /* unfitted */\n",
       "  background-color: var(--sklearn-color-unfitted-level-0);\n",
       "}\n",
       "\n",
       "#sk-container-id-8 div.sk-toggleable__content.fitted pre {\n",
       "  /* unfitted */\n",
       "  background-color: var(--sklearn-color-fitted-level-0);\n",
       "}\n",
       "\n",
       "#sk-container-id-8 input.sk-toggleable__control:checked~div.sk-toggleable__content {\n",
       "  /* Expand drop-down */\n",
       "  max-height: 200px;\n",
       "  max-width: 100%;\n",
       "  overflow: auto;\n",
       "}\n",
       "\n",
       "#sk-container-id-8 input.sk-toggleable__control:checked~label.sk-toggleable__label-arrow:before {\n",
       "  content: \"▾\";\n",
       "}\n",
       "\n",
       "/* Pipeline/ColumnTransformer-specific style */\n",
       "\n",
       "#sk-container-id-8 div.sk-label input.sk-toggleable__control:checked~label.sk-toggleable__label {\n",
       "  color: var(--sklearn-color-text);\n",
       "  background-color: var(--sklearn-color-unfitted-level-2);\n",
       "}\n",
       "\n",
       "#sk-container-id-8 div.sk-label.fitted input.sk-toggleable__control:checked~label.sk-toggleable__label {\n",
       "  background-color: var(--sklearn-color-fitted-level-2);\n",
       "}\n",
       "\n",
       "/* Estimator-specific style */\n",
       "\n",
       "/* Colorize estimator box */\n",
       "#sk-container-id-8 div.sk-estimator input.sk-toggleable__control:checked~label.sk-toggleable__label {\n",
       "  /* unfitted */\n",
       "  background-color: var(--sklearn-color-unfitted-level-2);\n",
       "}\n",
       "\n",
       "#sk-container-id-8 div.sk-estimator.fitted input.sk-toggleable__control:checked~label.sk-toggleable__label {\n",
       "  /* fitted */\n",
       "  background-color: var(--sklearn-color-fitted-level-2);\n",
       "}\n",
       "\n",
       "#sk-container-id-8 div.sk-label label.sk-toggleable__label,\n",
       "#sk-container-id-8 div.sk-label label {\n",
       "  /* The background is the default theme color */\n",
       "  color: var(--sklearn-color-text-on-default-background);\n",
       "}\n",
       "\n",
       "/* On hover, darken the color of the background */\n",
       "#sk-container-id-8 div.sk-label:hover label.sk-toggleable__label {\n",
       "  color: var(--sklearn-color-text);\n",
       "  background-color: var(--sklearn-color-unfitted-level-2);\n",
       "}\n",
       "\n",
       "/* Label box, darken color on hover, fitted */\n",
       "#sk-container-id-8 div.sk-label.fitted:hover label.sk-toggleable__label.fitted {\n",
       "  color: var(--sklearn-color-text);\n",
       "  background-color: var(--sklearn-color-fitted-level-2);\n",
       "}\n",
       "\n",
       "/* Estimator label */\n",
       "\n",
       "#sk-container-id-8 div.sk-label label {\n",
       "  font-family: monospace;\n",
       "  font-weight: bold;\n",
       "  display: inline-block;\n",
       "  line-height: 1.2em;\n",
       "}\n",
       "\n",
       "#sk-container-id-8 div.sk-label-container {\n",
       "  text-align: center;\n",
       "}\n",
       "\n",
       "/* Estimator-specific */\n",
       "#sk-container-id-8 div.sk-estimator {\n",
       "  font-family: monospace;\n",
       "  border: 1px dotted var(--sklearn-color-border-box);\n",
       "  border-radius: 0.25em;\n",
       "  box-sizing: border-box;\n",
       "  margin-bottom: 0.5em;\n",
       "  /* unfitted */\n",
       "  background-color: var(--sklearn-color-unfitted-level-0);\n",
       "}\n",
       "\n",
       "#sk-container-id-8 div.sk-estimator.fitted {\n",
       "  /* fitted */\n",
       "  background-color: var(--sklearn-color-fitted-level-0);\n",
       "}\n",
       "\n",
       "/* on hover */\n",
       "#sk-container-id-8 div.sk-estimator:hover {\n",
       "  /* unfitted */\n",
       "  background-color: var(--sklearn-color-unfitted-level-2);\n",
       "}\n",
       "\n",
       "#sk-container-id-8 div.sk-estimator.fitted:hover {\n",
       "  /* fitted */\n",
       "  background-color: var(--sklearn-color-fitted-level-2);\n",
       "}\n",
       "\n",
       "/* Specification for estimator info (e.g. \"i\" and \"?\") */\n",
       "\n",
       "/* Common style for \"i\" and \"?\" */\n",
       "\n",
       ".sk-estimator-doc-link,\n",
       "a:link.sk-estimator-doc-link,\n",
       "a:visited.sk-estimator-doc-link {\n",
       "  float: right;\n",
       "  font-size: smaller;\n",
       "  line-height: 1em;\n",
       "  font-family: monospace;\n",
       "  background-color: var(--sklearn-color-background);\n",
       "  border-radius: 1em;\n",
       "  height: 1em;\n",
       "  width: 1em;\n",
       "  text-decoration: none !important;\n",
       "  margin-left: 1ex;\n",
       "  /* unfitted */\n",
       "  border: var(--sklearn-color-unfitted-level-1) 1pt solid;\n",
       "  color: var(--sklearn-color-unfitted-level-1);\n",
       "}\n",
       "\n",
       ".sk-estimator-doc-link.fitted,\n",
       "a:link.sk-estimator-doc-link.fitted,\n",
       "a:visited.sk-estimator-doc-link.fitted {\n",
       "  /* fitted */\n",
       "  border: var(--sklearn-color-fitted-level-1) 1pt solid;\n",
       "  color: var(--sklearn-color-fitted-level-1);\n",
       "}\n",
       "\n",
       "/* On hover */\n",
       "div.sk-estimator:hover .sk-estimator-doc-link:hover,\n",
       ".sk-estimator-doc-link:hover,\n",
       "div.sk-label-container:hover .sk-estimator-doc-link:hover,\n",
       ".sk-estimator-doc-link:hover {\n",
       "  /* unfitted */\n",
       "  background-color: var(--sklearn-color-unfitted-level-3);\n",
       "  color: var(--sklearn-color-background);\n",
       "  text-decoration: none;\n",
       "}\n",
       "\n",
       "div.sk-estimator.fitted:hover .sk-estimator-doc-link.fitted:hover,\n",
       ".sk-estimator-doc-link.fitted:hover,\n",
       "div.sk-label-container:hover .sk-estimator-doc-link.fitted:hover,\n",
       ".sk-estimator-doc-link.fitted:hover {\n",
       "  /* fitted */\n",
       "  background-color: var(--sklearn-color-fitted-level-3);\n",
       "  color: var(--sklearn-color-background);\n",
       "  text-decoration: none;\n",
       "}\n",
       "\n",
       "/* Span, style for the box shown on hovering the info icon */\n",
       ".sk-estimator-doc-link span {\n",
       "  display: none;\n",
       "  z-index: 9999;\n",
       "  position: relative;\n",
       "  font-weight: normal;\n",
       "  right: .2ex;\n",
       "  padding: .5ex;\n",
       "  margin: .5ex;\n",
       "  width: min-content;\n",
       "  min-width: 20ex;\n",
       "  max-width: 50ex;\n",
       "  color: var(--sklearn-color-text);\n",
       "  box-shadow: 2pt 2pt 4pt #999;\n",
       "  /* unfitted */\n",
       "  background: var(--sklearn-color-unfitted-level-0);\n",
       "  border: .5pt solid var(--sklearn-color-unfitted-level-3);\n",
       "}\n",
       "\n",
       ".sk-estimator-doc-link.fitted span {\n",
       "  /* fitted */\n",
       "  background: var(--sklearn-color-fitted-level-0);\n",
       "  border: var(--sklearn-color-fitted-level-3);\n",
       "}\n",
       "\n",
       ".sk-estimator-doc-link:hover span {\n",
       "  display: block;\n",
       "}\n",
       "\n",
       "/* \"?\"-specific style due to the `<a>` HTML tag */\n",
       "\n",
       "#sk-container-id-8 a.estimator_doc_link {\n",
       "  float: right;\n",
       "  font-size: 1rem;\n",
       "  line-height: 1em;\n",
       "  font-family: monospace;\n",
       "  background-color: var(--sklearn-color-background);\n",
       "  border-radius: 1rem;\n",
       "  height: 1rem;\n",
       "  width: 1rem;\n",
       "  text-decoration: none;\n",
       "  /* unfitted */\n",
       "  color: var(--sklearn-color-unfitted-level-1);\n",
       "  border: var(--sklearn-color-unfitted-level-1) 1pt solid;\n",
       "}\n",
       "\n",
       "#sk-container-id-8 a.estimator_doc_link.fitted {\n",
       "  /* fitted */\n",
       "  border: var(--sklearn-color-fitted-level-1) 1pt solid;\n",
       "  color: var(--sklearn-color-fitted-level-1);\n",
       "}\n",
       "\n",
       "/* On hover */\n",
       "#sk-container-id-8 a.estimator_doc_link:hover {\n",
       "  /* unfitted */\n",
       "  background-color: var(--sklearn-color-unfitted-level-3);\n",
       "  color: var(--sklearn-color-background);\n",
       "  text-decoration: none;\n",
       "}\n",
       "\n",
       "#sk-container-id-8 a.estimator_doc_link.fitted:hover {\n",
       "  /* fitted */\n",
       "  background-color: var(--sklearn-color-fitted-level-3);\n",
       "}\n",
       "</style><div id=\"sk-container-id-8\" class=\"sk-top-container\"><div class=\"sk-text-repr-fallback\"><pre>XGBClassifier(base_score=None, booster=None, callbacks=None,\n",
       "              colsample_bylevel=None, colsample_bynode=None,\n",
       "              colsample_bytree=None, device=None, early_stopping_rounds=None,\n",
       "              enable_categorical=False, eval_metric=&#x27;logloss&#x27;,\n",
       "              feature_types=None, gamma=None, grow_policy=None,\n",
       "              importance_type=None, interaction_constraints=None,\n",
       "              learning_rate=0.05, max_bin=None, max_cat_threshold=None,\n",
       "              max_cat_to_onehot=None, max_delta_step=None, max_depth=3,\n",
       "              max_leaves=None, min_child_weight=None, missing=nan,\n",
       "              monotone_constraints=None, multi_strategy=None, n_estimators=50,\n",
       "              n_jobs=None, num_parallel_tree=None, random_state=None, ...)</pre><b>In a Jupyter environment, please rerun this cell to show the HTML representation or trust the notebook. <br />On GitHub, the HTML representation is unable to render, please try loading this page with nbviewer.org.</b></div><div class=\"sk-container\" hidden><div class=\"sk-item\"><div class=\"sk-estimator fitted sk-toggleable\"><input class=\"sk-toggleable__control sk-hidden--visually\" id=\"sk-estimator-id-8\" type=\"checkbox\" checked><label for=\"sk-estimator-id-8\" class=\"sk-toggleable__label fitted sk-toggleable__label-arrow fitted\">&nbsp;XGBClassifier<span class=\"sk-estimator-doc-link fitted\">i<span>Fitted</span></span></label><div class=\"sk-toggleable__content fitted\"><pre>XGBClassifier(base_score=None, booster=None, callbacks=None,\n",
       "              colsample_bylevel=None, colsample_bynode=None,\n",
       "              colsample_bytree=None, device=None, early_stopping_rounds=None,\n",
       "              enable_categorical=False, eval_metric=&#x27;logloss&#x27;,\n",
       "              feature_types=None, gamma=None, grow_policy=None,\n",
       "              importance_type=None, interaction_constraints=None,\n",
       "              learning_rate=0.05, max_bin=None, max_cat_threshold=None,\n",
       "              max_cat_to_onehot=None, max_delta_step=None, max_depth=3,\n",
       "              max_leaves=None, min_child_weight=None, missing=nan,\n",
       "              monotone_constraints=None, multi_strategy=None, n_estimators=50,\n",
       "              n_jobs=None, num_parallel_tree=None, random_state=None, ...)</pre></div> </div></div></div></div>"
      ],
      "text/plain": [
       "XGBClassifier(base_score=None, booster=None, callbacks=None,\n",
       "              colsample_bylevel=None, colsample_bynode=None,\n",
       "              colsample_bytree=None, device=None, early_stopping_rounds=None,\n",
       "              enable_categorical=False, eval_metric='logloss',\n",
       "              feature_types=None, gamma=None, grow_policy=None,\n",
       "              importance_type=None, interaction_constraints=None,\n",
       "              learning_rate=0.05, max_bin=None, max_cat_threshold=None,\n",
       "              max_cat_to_onehot=None, max_delta_step=None, max_depth=3,\n",
       "              max_leaves=None, min_child_weight=None, missing=nan,\n",
       "              monotone_constraints=None, multi_strategy=None, n_estimators=50,\n",
       "              n_jobs=None, num_parallel_tree=None, random_state=None, ...)"
      ]
     },
     "execution_count": 25,
     "metadata": {},
     "output_type": "execute_result"
    }
   ],
   "source": [
    "# Train the final model with the best hyperparameters\n",
    "final_model = xgb.XGBClassifier(\n",
    "    eval_metric='logloss',\n",
    "    **best_params\n",
    ")\n",
    "final_model.fit(X_train, y_train)\n"
   ]
  },
  {
   "cell_type": "code",
   "execution_count": 26,
   "id": "99e12a39",
   "metadata": {},
   "outputs": [
    {
     "name": "stdout",
     "output_type": "stream",
     "text": [
      "\n",
      "Model Report Train\n",
      "AUC Score : 0.961131\n",
      "Accuracy : 0.9032\n",
      "Precision : 0.8459\n",
      "Recall : 0.691877\n",
      "\n",
      "Model Report Test\n",
      "AUC Score : 0.889711\n",
      "Accuracy : 0.8329\n",
      "Precision : 0.6494\n",
      "Recall : 0.555556\n"
     ]
    },
    {
     "data": {
      "text/plain": [
       "<Figure size 640x480 with 0 Axes>"
      ]
     },
     "metadata": {},
     "output_type": "display_data"
    },
    {
     "name": "stdout",
     "output_type": "stream",
     "text": [
      "CV Score : Mean - 0.579734 | Std - 0.03872896 | Min - 0.5352113 | Max - 0.6338028\n"
     ]
    },
    {
     "data": {
      "text/html": [
       "<style>#sk-container-id-9 {\n",
       "  /* Definition of color scheme common for light and dark mode */\n",
       "  --sklearn-color-text: black;\n",
       "  --sklearn-color-line: gray;\n",
       "  /* Definition of color scheme for unfitted estimators */\n",
       "  --sklearn-color-unfitted-level-0: #fff5e6;\n",
       "  --sklearn-color-unfitted-level-1: #f6e4d2;\n",
       "  --sklearn-color-unfitted-level-2: #ffe0b3;\n",
       "  --sklearn-color-unfitted-level-3: chocolate;\n",
       "  /* Definition of color scheme for fitted estimators */\n",
       "  --sklearn-color-fitted-level-0: #f0f8ff;\n",
       "  --sklearn-color-fitted-level-1: #d4ebff;\n",
       "  --sklearn-color-fitted-level-2: #b3dbfd;\n",
       "  --sklearn-color-fitted-level-3: cornflowerblue;\n",
       "\n",
       "  /* Specific color for light theme */\n",
       "  --sklearn-color-text-on-default-background: var(--sg-text-color, var(--theme-code-foreground, var(--jp-content-font-color1, black)));\n",
       "  --sklearn-color-background: var(--sg-background-color, var(--theme-background, var(--jp-layout-color0, white)));\n",
       "  --sklearn-color-border-box: var(--sg-text-color, var(--theme-code-foreground, var(--jp-content-font-color1, black)));\n",
       "  --sklearn-color-icon: #696969;\n",
       "\n",
       "  @media (prefers-color-scheme: dark) {\n",
       "    /* Redefinition of color scheme for dark theme */\n",
       "    --sklearn-color-text-on-default-background: var(--sg-text-color, var(--theme-code-foreground, var(--jp-content-font-color1, white)));\n",
       "    --sklearn-color-background: var(--sg-background-color, var(--theme-background, var(--jp-layout-color0, #111)));\n",
       "    --sklearn-color-border-box: var(--sg-text-color, var(--theme-code-foreground, var(--jp-content-font-color1, white)));\n",
       "    --sklearn-color-icon: #878787;\n",
       "  }\n",
       "}\n",
       "\n",
       "#sk-container-id-9 {\n",
       "  color: var(--sklearn-color-text);\n",
       "}\n",
       "\n",
       "#sk-container-id-9 pre {\n",
       "  padding: 0;\n",
       "}\n",
       "\n",
       "#sk-container-id-9 input.sk-hidden--visually {\n",
       "  border: 0;\n",
       "  clip: rect(1px 1px 1px 1px);\n",
       "  clip: rect(1px, 1px, 1px, 1px);\n",
       "  height: 1px;\n",
       "  margin: -1px;\n",
       "  overflow: hidden;\n",
       "  padding: 0;\n",
       "  position: absolute;\n",
       "  width: 1px;\n",
       "}\n",
       "\n",
       "#sk-container-id-9 div.sk-dashed-wrapped {\n",
       "  border: 1px dashed var(--sklearn-color-line);\n",
       "  margin: 0 0.4em 0.5em 0.4em;\n",
       "  box-sizing: border-box;\n",
       "  padding-bottom: 0.4em;\n",
       "  background-color: var(--sklearn-color-background);\n",
       "}\n",
       "\n",
       "#sk-container-id-9 div.sk-container {\n",
       "  /* jupyter's `normalize.less` sets `[hidden] { display: none; }`\n",
       "     but bootstrap.min.css set `[hidden] { display: none !important; }`\n",
       "     so we also need the `!important` here to be able to override the\n",
       "     default hidden behavior on the sphinx rendered scikit-learn.org.\n",
       "     See: https://github.com/scikit-learn/scikit-learn/issues/21755 */\n",
       "  display: inline-block !important;\n",
       "  position: relative;\n",
       "}\n",
       "\n",
       "#sk-container-id-9 div.sk-text-repr-fallback {\n",
       "  display: none;\n",
       "}\n",
       "\n",
       "div.sk-parallel-item,\n",
       "div.sk-serial,\n",
       "div.sk-item {\n",
       "  /* draw centered vertical line to link estimators */\n",
       "  background-image: linear-gradient(var(--sklearn-color-text-on-default-background), var(--sklearn-color-text-on-default-background));\n",
       "  background-size: 2px 100%;\n",
       "  background-repeat: no-repeat;\n",
       "  background-position: center center;\n",
       "}\n",
       "\n",
       "/* Parallel-specific style estimator block */\n",
       "\n",
       "#sk-container-id-9 div.sk-parallel-item::after {\n",
       "  content: \"\";\n",
       "  width: 100%;\n",
       "  border-bottom: 2px solid var(--sklearn-color-text-on-default-background);\n",
       "  flex-grow: 1;\n",
       "}\n",
       "\n",
       "#sk-container-id-9 div.sk-parallel {\n",
       "  display: flex;\n",
       "  align-items: stretch;\n",
       "  justify-content: center;\n",
       "  background-color: var(--sklearn-color-background);\n",
       "  position: relative;\n",
       "}\n",
       "\n",
       "#sk-container-id-9 div.sk-parallel-item {\n",
       "  display: flex;\n",
       "  flex-direction: column;\n",
       "}\n",
       "\n",
       "#sk-container-id-9 div.sk-parallel-item:first-child::after {\n",
       "  align-self: flex-end;\n",
       "  width: 50%;\n",
       "}\n",
       "\n",
       "#sk-container-id-9 div.sk-parallel-item:last-child::after {\n",
       "  align-self: flex-start;\n",
       "  width: 50%;\n",
       "}\n",
       "\n",
       "#sk-container-id-9 div.sk-parallel-item:only-child::after {\n",
       "  width: 0;\n",
       "}\n",
       "\n",
       "/* Serial-specific style estimator block */\n",
       "\n",
       "#sk-container-id-9 div.sk-serial {\n",
       "  display: flex;\n",
       "  flex-direction: column;\n",
       "  align-items: center;\n",
       "  background-color: var(--sklearn-color-background);\n",
       "  padding-right: 1em;\n",
       "  padding-left: 1em;\n",
       "}\n",
       "\n",
       "\n",
       "/* Toggleable style: style used for estimator/Pipeline/ColumnTransformer box that is\n",
       "clickable and can be expanded/collapsed.\n",
       "- Pipeline and ColumnTransformer use this feature and define the default style\n",
       "- Estimators will overwrite some part of the style using the `sk-estimator` class\n",
       "*/\n",
       "\n",
       "/* Pipeline and ColumnTransformer style (default) */\n",
       "\n",
       "#sk-container-id-9 div.sk-toggleable {\n",
       "  /* Default theme specific background. It is overwritten whether we have a\n",
       "  specific estimator or a Pipeline/ColumnTransformer */\n",
       "  background-color: var(--sklearn-color-background);\n",
       "}\n",
       "\n",
       "/* Toggleable label */\n",
       "#sk-container-id-9 label.sk-toggleable__label {\n",
       "  cursor: pointer;\n",
       "  display: block;\n",
       "  width: 100%;\n",
       "  margin-bottom: 0;\n",
       "  padding: 0.5em;\n",
       "  box-sizing: border-box;\n",
       "  text-align: center;\n",
       "}\n",
       "\n",
       "#sk-container-id-9 label.sk-toggleable__label-arrow:before {\n",
       "  /* Arrow on the left of the label */\n",
       "  content: \"▸\";\n",
       "  float: left;\n",
       "  margin-right: 0.25em;\n",
       "  color: var(--sklearn-color-icon);\n",
       "}\n",
       "\n",
       "#sk-container-id-9 label.sk-toggleable__label-arrow:hover:before {\n",
       "  color: var(--sklearn-color-text);\n",
       "}\n",
       "\n",
       "/* Toggleable content - dropdown */\n",
       "\n",
       "#sk-container-id-9 div.sk-toggleable__content {\n",
       "  max-height: 0;\n",
       "  max-width: 0;\n",
       "  overflow: hidden;\n",
       "  text-align: left;\n",
       "  /* unfitted */\n",
       "  background-color: var(--sklearn-color-unfitted-level-0);\n",
       "}\n",
       "\n",
       "#sk-container-id-9 div.sk-toggleable__content.fitted {\n",
       "  /* fitted */\n",
       "  background-color: var(--sklearn-color-fitted-level-0);\n",
       "}\n",
       "\n",
       "#sk-container-id-9 div.sk-toggleable__content pre {\n",
       "  margin: 0.2em;\n",
       "  border-radius: 0.25em;\n",
       "  color: var(--sklearn-color-text);\n",
       "  /* unfitted */\n",
       "  background-color: var(--sklearn-color-unfitted-level-0);\n",
       "}\n",
       "\n",
       "#sk-container-id-9 div.sk-toggleable__content.fitted pre {\n",
       "  /* unfitted */\n",
       "  background-color: var(--sklearn-color-fitted-level-0);\n",
       "}\n",
       "\n",
       "#sk-container-id-9 input.sk-toggleable__control:checked~div.sk-toggleable__content {\n",
       "  /* Expand drop-down */\n",
       "  max-height: 200px;\n",
       "  max-width: 100%;\n",
       "  overflow: auto;\n",
       "}\n",
       "\n",
       "#sk-container-id-9 input.sk-toggleable__control:checked~label.sk-toggleable__label-arrow:before {\n",
       "  content: \"▾\";\n",
       "}\n",
       "\n",
       "/* Pipeline/ColumnTransformer-specific style */\n",
       "\n",
       "#sk-container-id-9 div.sk-label input.sk-toggleable__control:checked~label.sk-toggleable__label {\n",
       "  color: var(--sklearn-color-text);\n",
       "  background-color: var(--sklearn-color-unfitted-level-2);\n",
       "}\n",
       "\n",
       "#sk-container-id-9 div.sk-label.fitted input.sk-toggleable__control:checked~label.sk-toggleable__label {\n",
       "  background-color: var(--sklearn-color-fitted-level-2);\n",
       "}\n",
       "\n",
       "/* Estimator-specific style */\n",
       "\n",
       "/* Colorize estimator box */\n",
       "#sk-container-id-9 div.sk-estimator input.sk-toggleable__control:checked~label.sk-toggleable__label {\n",
       "  /* unfitted */\n",
       "  background-color: var(--sklearn-color-unfitted-level-2);\n",
       "}\n",
       "\n",
       "#sk-container-id-9 div.sk-estimator.fitted input.sk-toggleable__control:checked~label.sk-toggleable__label {\n",
       "  /* fitted */\n",
       "  background-color: var(--sklearn-color-fitted-level-2);\n",
       "}\n",
       "\n",
       "#sk-container-id-9 div.sk-label label.sk-toggleable__label,\n",
       "#sk-container-id-9 div.sk-label label {\n",
       "  /* The background is the default theme color */\n",
       "  color: var(--sklearn-color-text-on-default-background);\n",
       "}\n",
       "\n",
       "/* On hover, darken the color of the background */\n",
       "#sk-container-id-9 div.sk-label:hover label.sk-toggleable__label {\n",
       "  color: var(--sklearn-color-text);\n",
       "  background-color: var(--sklearn-color-unfitted-level-2);\n",
       "}\n",
       "\n",
       "/* Label box, darken color on hover, fitted */\n",
       "#sk-container-id-9 div.sk-label.fitted:hover label.sk-toggleable__label.fitted {\n",
       "  color: var(--sklearn-color-text);\n",
       "  background-color: var(--sklearn-color-fitted-level-2);\n",
       "}\n",
       "\n",
       "/* Estimator label */\n",
       "\n",
       "#sk-container-id-9 div.sk-label label {\n",
       "  font-family: monospace;\n",
       "  font-weight: bold;\n",
       "  display: inline-block;\n",
       "  line-height: 1.2em;\n",
       "}\n",
       "\n",
       "#sk-container-id-9 div.sk-label-container {\n",
       "  text-align: center;\n",
       "}\n",
       "\n",
       "/* Estimator-specific */\n",
       "#sk-container-id-9 div.sk-estimator {\n",
       "  font-family: monospace;\n",
       "  border: 1px dotted var(--sklearn-color-border-box);\n",
       "  border-radius: 0.25em;\n",
       "  box-sizing: border-box;\n",
       "  margin-bottom: 0.5em;\n",
       "  /* unfitted */\n",
       "  background-color: var(--sklearn-color-unfitted-level-0);\n",
       "}\n",
       "\n",
       "#sk-container-id-9 div.sk-estimator.fitted {\n",
       "  /* fitted */\n",
       "  background-color: var(--sklearn-color-fitted-level-0);\n",
       "}\n",
       "\n",
       "/* on hover */\n",
       "#sk-container-id-9 div.sk-estimator:hover {\n",
       "  /* unfitted */\n",
       "  background-color: var(--sklearn-color-unfitted-level-2);\n",
       "}\n",
       "\n",
       "#sk-container-id-9 div.sk-estimator.fitted:hover {\n",
       "  /* fitted */\n",
       "  background-color: var(--sklearn-color-fitted-level-2);\n",
       "}\n",
       "\n",
       "/* Specification for estimator info (e.g. \"i\" and \"?\") */\n",
       "\n",
       "/* Common style for \"i\" and \"?\" */\n",
       "\n",
       ".sk-estimator-doc-link,\n",
       "a:link.sk-estimator-doc-link,\n",
       "a:visited.sk-estimator-doc-link {\n",
       "  float: right;\n",
       "  font-size: smaller;\n",
       "  line-height: 1em;\n",
       "  font-family: monospace;\n",
       "  background-color: var(--sklearn-color-background);\n",
       "  border-radius: 1em;\n",
       "  height: 1em;\n",
       "  width: 1em;\n",
       "  text-decoration: none !important;\n",
       "  margin-left: 1ex;\n",
       "  /* unfitted */\n",
       "  border: var(--sklearn-color-unfitted-level-1) 1pt solid;\n",
       "  color: var(--sklearn-color-unfitted-level-1);\n",
       "}\n",
       "\n",
       ".sk-estimator-doc-link.fitted,\n",
       "a:link.sk-estimator-doc-link.fitted,\n",
       "a:visited.sk-estimator-doc-link.fitted {\n",
       "  /* fitted */\n",
       "  border: var(--sklearn-color-fitted-level-1) 1pt solid;\n",
       "  color: var(--sklearn-color-fitted-level-1);\n",
       "}\n",
       "\n",
       "/* On hover */\n",
       "div.sk-estimator:hover .sk-estimator-doc-link:hover,\n",
       ".sk-estimator-doc-link:hover,\n",
       "div.sk-label-container:hover .sk-estimator-doc-link:hover,\n",
       ".sk-estimator-doc-link:hover {\n",
       "  /* unfitted */\n",
       "  background-color: var(--sklearn-color-unfitted-level-3);\n",
       "  color: var(--sklearn-color-background);\n",
       "  text-decoration: none;\n",
       "}\n",
       "\n",
       "div.sk-estimator.fitted:hover .sk-estimator-doc-link.fitted:hover,\n",
       ".sk-estimator-doc-link.fitted:hover,\n",
       "div.sk-label-container:hover .sk-estimator-doc-link.fitted:hover,\n",
       ".sk-estimator-doc-link.fitted:hover {\n",
       "  /* fitted */\n",
       "  background-color: var(--sklearn-color-fitted-level-3);\n",
       "  color: var(--sklearn-color-background);\n",
       "  text-decoration: none;\n",
       "}\n",
       "\n",
       "/* Span, style for the box shown on hovering the info icon */\n",
       ".sk-estimator-doc-link span {\n",
       "  display: none;\n",
       "  z-index: 9999;\n",
       "  position: relative;\n",
       "  font-weight: normal;\n",
       "  right: .2ex;\n",
       "  padding: .5ex;\n",
       "  margin: .5ex;\n",
       "  width: min-content;\n",
       "  min-width: 20ex;\n",
       "  max-width: 50ex;\n",
       "  color: var(--sklearn-color-text);\n",
       "  box-shadow: 2pt 2pt 4pt #999;\n",
       "  /* unfitted */\n",
       "  background: var(--sklearn-color-unfitted-level-0);\n",
       "  border: .5pt solid var(--sklearn-color-unfitted-level-3);\n",
       "}\n",
       "\n",
       ".sk-estimator-doc-link.fitted span {\n",
       "  /* fitted */\n",
       "  background: var(--sklearn-color-fitted-level-0);\n",
       "  border: var(--sklearn-color-fitted-level-3);\n",
       "}\n",
       "\n",
       ".sk-estimator-doc-link:hover span {\n",
       "  display: block;\n",
       "}\n",
       "\n",
       "/* \"?\"-specific style due to the `<a>` HTML tag */\n",
       "\n",
       "#sk-container-id-9 a.estimator_doc_link {\n",
       "  float: right;\n",
       "  font-size: 1rem;\n",
       "  line-height: 1em;\n",
       "  font-family: monospace;\n",
       "  background-color: var(--sklearn-color-background);\n",
       "  border-radius: 1rem;\n",
       "  height: 1rem;\n",
       "  width: 1rem;\n",
       "  text-decoration: none;\n",
       "  /* unfitted */\n",
       "  color: var(--sklearn-color-unfitted-level-1);\n",
       "  border: var(--sklearn-color-unfitted-level-1) 1pt solid;\n",
       "}\n",
       "\n",
       "#sk-container-id-9 a.estimator_doc_link.fitted {\n",
       "  /* fitted */\n",
       "  border: var(--sklearn-color-fitted-level-1) 1pt solid;\n",
       "  color: var(--sklearn-color-fitted-level-1);\n",
       "}\n",
       "\n",
       "/* On hover */\n",
       "#sk-container-id-9 a.estimator_doc_link:hover {\n",
       "  /* unfitted */\n",
       "  background-color: var(--sklearn-color-unfitted-level-3);\n",
       "  color: var(--sklearn-color-background);\n",
       "  text-decoration: none;\n",
       "}\n",
       "\n",
       "#sk-container-id-9 a.estimator_doc_link.fitted:hover {\n",
       "  /* fitted */\n",
       "  background-color: var(--sklearn-color-fitted-level-3);\n",
       "}\n",
       "</style><div id=\"sk-container-id-9\" class=\"sk-top-container\"><div class=\"sk-text-repr-fallback\"><pre>XGBClassifier(base_score=None, booster=None, callbacks=None,\n",
       "              colsample_bylevel=None, colsample_bynode=None,\n",
       "              colsample_bytree=None, device=None, early_stopping_rounds=None,\n",
       "              enable_categorical=False, eval_metric=&#x27;logloss&#x27;,\n",
       "              feature_types=None, gamma=None, grow_policy=None,\n",
       "              importance_type=None, interaction_constraints=None,\n",
       "              learning_rate=0.05, max_bin=None, max_cat_threshold=None,\n",
       "              max_cat_to_onehot=None, max_delta_step=None, max_depth=3,\n",
       "              max_leaves=None, min_child_weight=None, missing=nan,\n",
       "              monotone_constraints=None, multi_strategy=None, n_estimators=50,\n",
       "              n_jobs=None, num_parallel_tree=None, random_state=None, ...)</pre><b>In a Jupyter environment, please rerun this cell to show the HTML representation or trust the notebook. <br />On GitHub, the HTML representation is unable to render, please try loading this page with nbviewer.org.</b></div><div class=\"sk-container\" hidden><div class=\"sk-item\"><div class=\"sk-estimator fitted sk-toggleable\"><input class=\"sk-toggleable__control sk-hidden--visually\" id=\"sk-estimator-id-9\" type=\"checkbox\" checked><label for=\"sk-estimator-id-9\" class=\"sk-toggleable__label fitted sk-toggleable__label-arrow fitted\">&nbsp;XGBClassifier<span class=\"sk-estimator-doc-link fitted\">i<span>Fitted</span></span></label><div class=\"sk-toggleable__content fitted\"><pre>XGBClassifier(base_score=None, booster=None, callbacks=None,\n",
       "              colsample_bylevel=None, colsample_bynode=None,\n",
       "              colsample_bytree=None, device=None, early_stopping_rounds=None,\n",
       "              enable_categorical=False, eval_metric=&#x27;logloss&#x27;,\n",
       "              feature_types=None, gamma=None, grow_policy=None,\n",
       "              importance_type=None, interaction_constraints=None,\n",
       "              learning_rate=0.05, max_bin=None, max_cat_threshold=None,\n",
       "              max_cat_to_onehot=None, max_delta_step=None, max_depth=3,\n",
       "              max_leaves=None, min_child_weight=None, missing=nan,\n",
       "              monotone_constraints=None, multi_strategy=None, n_estimators=50,\n",
       "              n_jobs=None, num_parallel_tree=None, random_state=None, ...)</pre></div> </div></div></div></div>"
      ],
      "text/plain": [
       "XGBClassifier(base_score=None, booster=None, callbacks=None,\n",
       "              colsample_bylevel=None, colsample_bynode=None,\n",
       "              colsample_bytree=None, device=None, early_stopping_rounds=None,\n",
       "              enable_categorical=False, eval_metric='logloss',\n",
       "              feature_types=None, gamma=None, grow_policy=None,\n",
       "              importance_type=None, interaction_constraints=None,\n",
       "              learning_rate=0.05, max_bin=None, max_cat_threshold=None,\n",
       "              max_cat_to_onehot=None, max_delta_step=None, max_depth=3,\n",
       "              max_leaves=None, min_child_weight=None, missing=nan,\n",
       "              monotone_constraints=None, multi_strategy=None, n_estimators=50,\n",
       "              n_jobs=None, num_parallel_tree=None, random_state=None, ...)"
      ]
     },
     "execution_count": 26,
     "metadata": {},
     "output_type": "execute_result"
    }
   ],
   "source": [
    "modelfit(final_model, X_train, y_train,X_test,y_test)"
   ]
  },
  {
   "cell_type": "markdown",
   "id": "6ab3ed17-2a36-4b98-b8a1-b4ddd85640eb",
   "metadata": {},
   "source": [
    "#### SMOTE and generic Xgboost pipeline"
   ]
  },
  {
   "cell_type": "code",
   "execution_count": 27,
   "id": "df4babdb-3115-4b81-a3bb-ac35dd4bd5c6",
   "metadata": {},
   "outputs": [
    {
     "data": {
      "text/html": [
       "<style>#sk-container-id-10 {\n",
       "  /* Definition of color scheme common for light and dark mode */\n",
       "  --sklearn-color-text: black;\n",
       "  --sklearn-color-line: gray;\n",
       "  /* Definition of color scheme for unfitted estimators */\n",
       "  --sklearn-color-unfitted-level-0: #fff5e6;\n",
       "  --sklearn-color-unfitted-level-1: #f6e4d2;\n",
       "  --sklearn-color-unfitted-level-2: #ffe0b3;\n",
       "  --sklearn-color-unfitted-level-3: chocolate;\n",
       "  /* Definition of color scheme for fitted estimators */\n",
       "  --sklearn-color-fitted-level-0: #f0f8ff;\n",
       "  --sklearn-color-fitted-level-1: #d4ebff;\n",
       "  --sklearn-color-fitted-level-2: #b3dbfd;\n",
       "  --sklearn-color-fitted-level-3: cornflowerblue;\n",
       "\n",
       "  /* Specific color for light theme */\n",
       "  --sklearn-color-text-on-default-background: var(--sg-text-color, var(--theme-code-foreground, var(--jp-content-font-color1, black)));\n",
       "  --sklearn-color-background: var(--sg-background-color, var(--theme-background, var(--jp-layout-color0, white)));\n",
       "  --sklearn-color-border-box: var(--sg-text-color, var(--theme-code-foreground, var(--jp-content-font-color1, black)));\n",
       "  --sklearn-color-icon: #696969;\n",
       "\n",
       "  @media (prefers-color-scheme: dark) {\n",
       "    /* Redefinition of color scheme for dark theme */\n",
       "    --sklearn-color-text-on-default-background: var(--sg-text-color, var(--theme-code-foreground, var(--jp-content-font-color1, white)));\n",
       "    --sklearn-color-background: var(--sg-background-color, var(--theme-background, var(--jp-layout-color0, #111)));\n",
       "    --sklearn-color-border-box: var(--sg-text-color, var(--theme-code-foreground, var(--jp-content-font-color1, white)));\n",
       "    --sklearn-color-icon: #878787;\n",
       "  }\n",
       "}\n",
       "\n",
       "#sk-container-id-10 {\n",
       "  color: var(--sklearn-color-text);\n",
       "}\n",
       "\n",
       "#sk-container-id-10 pre {\n",
       "  padding: 0;\n",
       "}\n",
       "\n",
       "#sk-container-id-10 input.sk-hidden--visually {\n",
       "  border: 0;\n",
       "  clip: rect(1px 1px 1px 1px);\n",
       "  clip: rect(1px, 1px, 1px, 1px);\n",
       "  height: 1px;\n",
       "  margin: -1px;\n",
       "  overflow: hidden;\n",
       "  padding: 0;\n",
       "  position: absolute;\n",
       "  width: 1px;\n",
       "}\n",
       "\n",
       "#sk-container-id-10 div.sk-dashed-wrapped {\n",
       "  border: 1px dashed var(--sklearn-color-line);\n",
       "  margin: 0 0.4em 0.5em 0.4em;\n",
       "  box-sizing: border-box;\n",
       "  padding-bottom: 0.4em;\n",
       "  background-color: var(--sklearn-color-background);\n",
       "}\n",
       "\n",
       "#sk-container-id-10 div.sk-container {\n",
       "  /* jupyter's `normalize.less` sets `[hidden] { display: none; }`\n",
       "     but bootstrap.min.css set `[hidden] { display: none !important; }`\n",
       "     so we also need the `!important` here to be able to override the\n",
       "     default hidden behavior on the sphinx rendered scikit-learn.org.\n",
       "     See: https://github.com/scikit-learn/scikit-learn/issues/21755 */\n",
       "  display: inline-block !important;\n",
       "  position: relative;\n",
       "}\n",
       "\n",
       "#sk-container-id-10 div.sk-text-repr-fallback {\n",
       "  display: none;\n",
       "}\n",
       "\n",
       "div.sk-parallel-item,\n",
       "div.sk-serial,\n",
       "div.sk-item {\n",
       "  /* draw centered vertical line to link estimators */\n",
       "  background-image: linear-gradient(var(--sklearn-color-text-on-default-background), var(--sklearn-color-text-on-default-background));\n",
       "  background-size: 2px 100%;\n",
       "  background-repeat: no-repeat;\n",
       "  background-position: center center;\n",
       "}\n",
       "\n",
       "/* Parallel-specific style estimator block */\n",
       "\n",
       "#sk-container-id-10 div.sk-parallel-item::after {\n",
       "  content: \"\";\n",
       "  width: 100%;\n",
       "  border-bottom: 2px solid var(--sklearn-color-text-on-default-background);\n",
       "  flex-grow: 1;\n",
       "}\n",
       "\n",
       "#sk-container-id-10 div.sk-parallel {\n",
       "  display: flex;\n",
       "  align-items: stretch;\n",
       "  justify-content: center;\n",
       "  background-color: var(--sklearn-color-background);\n",
       "  position: relative;\n",
       "}\n",
       "\n",
       "#sk-container-id-10 div.sk-parallel-item {\n",
       "  display: flex;\n",
       "  flex-direction: column;\n",
       "}\n",
       "\n",
       "#sk-container-id-10 div.sk-parallel-item:first-child::after {\n",
       "  align-self: flex-end;\n",
       "  width: 50%;\n",
       "}\n",
       "\n",
       "#sk-container-id-10 div.sk-parallel-item:last-child::after {\n",
       "  align-self: flex-start;\n",
       "  width: 50%;\n",
       "}\n",
       "\n",
       "#sk-container-id-10 div.sk-parallel-item:only-child::after {\n",
       "  width: 0;\n",
       "}\n",
       "\n",
       "/* Serial-specific style estimator block */\n",
       "\n",
       "#sk-container-id-10 div.sk-serial {\n",
       "  display: flex;\n",
       "  flex-direction: column;\n",
       "  align-items: center;\n",
       "  background-color: var(--sklearn-color-background);\n",
       "  padding-right: 1em;\n",
       "  padding-left: 1em;\n",
       "}\n",
       "\n",
       "\n",
       "/* Toggleable style: style used for estimator/Pipeline/ColumnTransformer box that is\n",
       "clickable and can be expanded/collapsed.\n",
       "- Pipeline and ColumnTransformer use this feature and define the default style\n",
       "- Estimators will overwrite some part of the style using the `sk-estimator` class\n",
       "*/\n",
       "\n",
       "/* Pipeline and ColumnTransformer style (default) */\n",
       "\n",
       "#sk-container-id-10 div.sk-toggleable {\n",
       "  /* Default theme specific background. It is overwritten whether we have a\n",
       "  specific estimator or a Pipeline/ColumnTransformer */\n",
       "  background-color: var(--sklearn-color-background);\n",
       "}\n",
       "\n",
       "/* Toggleable label */\n",
       "#sk-container-id-10 label.sk-toggleable__label {\n",
       "  cursor: pointer;\n",
       "  display: block;\n",
       "  width: 100%;\n",
       "  margin-bottom: 0;\n",
       "  padding: 0.5em;\n",
       "  box-sizing: border-box;\n",
       "  text-align: center;\n",
       "}\n",
       "\n",
       "#sk-container-id-10 label.sk-toggleable__label-arrow:before {\n",
       "  /* Arrow on the left of the label */\n",
       "  content: \"▸\";\n",
       "  float: left;\n",
       "  margin-right: 0.25em;\n",
       "  color: var(--sklearn-color-icon);\n",
       "}\n",
       "\n",
       "#sk-container-id-10 label.sk-toggleable__label-arrow:hover:before {\n",
       "  color: var(--sklearn-color-text);\n",
       "}\n",
       "\n",
       "/* Toggleable content - dropdown */\n",
       "\n",
       "#sk-container-id-10 div.sk-toggleable__content {\n",
       "  max-height: 0;\n",
       "  max-width: 0;\n",
       "  overflow: hidden;\n",
       "  text-align: left;\n",
       "  /* unfitted */\n",
       "  background-color: var(--sklearn-color-unfitted-level-0);\n",
       "}\n",
       "\n",
       "#sk-container-id-10 div.sk-toggleable__content.fitted {\n",
       "  /* fitted */\n",
       "  background-color: var(--sklearn-color-fitted-level-0);\n",
       "}\n",
       "\n",
       "#sk-container-id-10 div.sk-toggleable__content pre {\n",
       "  margin: 0.2em;\n",
       "  border-radius: 0.25em;\n",
       "  color: var(--sklearn-color-text);\n",
       "  /* unfitted */\n",
       "  background-color: var(--sklearn-color-unfitted-level-0);\n",
       "}\n",
       "\n",
       "#sk-container-id-10 div.sk-toggleable__content.fitted pre {\n",
       "  /* unfitted */\n",
       "  background-color: var(--sklearn-color-fitted-level-0);\n",
       "}\n",
       "\n",
       "#sk-container-id-10 input.sk-toggleable__control:checked~div.sk-toggleable__content {\n",
       "  /* Expand drop-down */\n",
       "  max-height: 200px;\n",
       "  max-width: 100%;\n",
       "  overflow: auto;\n",
       "}\n",
       "\n",
       "#sk-container-id-10 input.sk-toggleable__control:checked~label.sk-toggleable__label-arrow:before {\n",
       "  content: \"▾\";\n",
       "}\n",
       "\n",
       "/* Pipeline/ColumnTransformer-specific style */\n",
       "\n",
       "#sk-container-id-10 div.sk-label input.sk-toggleable__control:checked~label.sk-toggleable__label {\n",
       "  color: var(--sklearn-color-text);\n",
       "  background-color: var(--sklearn-color-unfitted-level-2);\n",
       "}\n",
       "\n",
       "#sk-container-id-10 div.sk-label.fitted input.sk-toggleable__control:checked~label.sk-toggleable__label {\n",
       "  background-color: var(--sklearn-color-fitted-level-2);\n",
       "}\n",
       "\n",
       "/* Estimator-specific style */\n",
       "\n",
       "/* Colorize estimator box */\n",
       "#sk-container-id-10 div.sk-estimator input.sk-toggleable__control:checked~label.sk-toggleable__label {\n",
       "  /* unfitted */\n",
       "  background-color: var(--sklearn-color-unfitted-level-2);\n",
       "}\n",
       "\n",
       "#sk-container-id-10 div.sk-estimator.fitted input.sk-toggleable__control:checked~label.sk-toggleable__label {\n",
       "  /* fitted */\n",
       "  background-color: var(--sklearn-color-fitted-level-2);\n",
       "}\n",
       "\n",
       "#sk-container-id-10 div.sk-label label.sk-toggleable__label,\n",
       "#sk-container-id-10 div.sk-label label {\n",
       "  /* The background is the default theme color */\n",
       "  color: var(--sklearn-color-text-on-default-background);\n",
       "}\n",
       "\n",
       "/* On hover, darken the color of the background */\n",
       "#sk-container-id-10 div.sk-label:hover label.sk-toggleable__label {\n",
       "  color: var(--sklearn-color-text);\n",
       "  background-color: var(--sklearn-color-unfitted-level-2);\n",
       "}\n",
       "\n",
       "/* Label box, darken color on hover, fitted */\n",
       "#sk-container-id-10 div.sk-label.fitted:hover label.sk-toggleable__label.fitted {\n",
       "  color: var(--sklearn-color-text);\n",
       "  background-color: var(--sklearn-color-fitted-level-2);\n",
       "}\n",
       "\n",
       "/* Estimator label */\n",
       "\n",
       "#sk-container-id-10 div.sk-label label {\n",
       "  font-family: monospace;\n",
       "  font-weight: bold;\n",
       "  display: inline-block;\n",
       "  line-height: 1.2em;\n",
       "}\n",
       "\n",
       "#sk-container-id-10 div.sk-label-container {\n",
       "  text-align: center;\n",
       "}\n",
       "\n",
       "/* Estimator-specific */\n",
       "#sk-container-id-10 div.sk-estimator {\n",
       "  font-family: monospace;\n",
       "  border: 1px dotted var(--sklearn-color-border-box);\n",
       "  border-radius: 0.25em;\n",
       "  box-sizing: border-box;\n",
       "  margin-bottom: 0.5em;\n",
       "  /* unfitted */\n",
       "  background-color: var(--sklearn-color-unfitted-level-0);\n",
       "}\n",
       "\n",
       "#sk-container-id-10 div.sk-estimator.fitted {\n",
       "  /* fitted */\n",
       "  background-color: var(--sklearn-color-fitted-level-0);\n",
       "}\n",
       "\n",
       "/* on hover */\n",
       "#sk-container-id-10 div.sk-estimator:hover {\n",
       "  /* unfitted */\n",
       "  background-color: var(--sklearn-color-unfitted-level-2);\n",
       "}\n",
       "\n",
       "#sk-container-id-10 div.sk-estimator.fitted:hover {\n",
       "  /* fitted */\n",
       "  background-color: var(--sklearn-color-fitted-level-2);\n",
       "}\n",
       "\n",
       "/* Specification for estimator info (e.g. \"i\" and \"?\") */\n",
       "\n",
       "/* Common style for \"i\" and \"?\" */\n",
       "\n",
       ".sk-estimator-doc-link,\n",
       "a:link.sk-estimator-doc-link,\n",
       "a:visited.sk-estimator-doc-link {\n",
       "  float: right;\n",
       "  font-size: smaller;\n",
       "  line-height: 1em;\n",
       "  font-family: monospace;\n",
       "  background-color: var(--sklearn-color-background);\n",
       "  border-radius: 1em;\n",
       "  height: 1em;\n",
       "  width: 1em;\n",
       "  text-decoration: none !important;\n",
       "  margin-left: 1ex;\n",
       "  /* unfitted */\n",
       "  border: var(--sklearn-color-unfitted-level-1) 1pt solid;\n",
       "  color: var(--sklearn-color-unfitted-level-1);\n",
       "}\n",
       "\n",
       ".sk-estimator-doc-link.fitted,\n",
       "a:link.sk-estimator-doc-link.fitted,\n",
       "a:visited.sk-estimator-doc-link.fitted {\n",
       "  /* fitted */\n",
       "  border: var(--sklearn-color-fitted-level-1) 1pt solid;\n",
       "  color: var(--sklearn-color-fitted-level-1);\n",
       "}\n",
       "\n",
       "/* On hover */\n",
       "div.sk-estimator:hover .sk-estimator-doc-link:hover,\n",
       ".sk-estimator-doc-link:hover,\n",
       "div.sk-label-container:hover .sk-estimator-doc-link:hover,\n",
       ".sk-estimator-doc-link:hover {\n",
       "  /* unfitted */\n",
       "  background-color: var(--sklearn-color-unfitted-level-3);\n",
       "  color: var(--sklearn-color-background);\n",
       "  text-decoration: none;\n",
       "}\n",
       "\n",
       "div.sk-estimator.fitted:hover .sk-estimator-doc-link.fitted:hover,\n",
       ".sk-estimator-doc-link.fitted:hover,\n",
       "div.sk-label-container:hover .sk-estimator-doc-link.fitted:hover,\n",
       ".sk-estimator-doc-link.fitted:hover {\n",
       "  /* fitted */\n",
       "  background-color: var(--sklearn-color-fitted-level-3);\n",
       "  color: var(--sklearn-color-background);\n",
       "  text-decoration: none;\n",
       "}\n",
       "\n",
       "/* Span, style for the box shown on hovering the info icon */\n",
       ".sk-estimator-doc-link span {\n",
       "  display: none;\n",
       "  z-index: 9999;\n",
       "  position: relative;\n",
       "  font-weight: normal;\n",
       "  right: .2ex;\n",
       "  padding: .5ex;\n",
       "  margin: .5ex;\n",
       "  width: min-content;\n",
       "  min-width: 20ex;\n",
       "  max-width: 50ex;\n",
       "  color: var(--sklearn-color-text);\n",
       "  box-shadow: 2pt 2pt 4pt #999;\n",
       "  /* unfitted */\n",
       "  background: var(--sklearn-color-unfitted-level-0);\n",
       "  border: .5pt solid var(--sklearn-color-unfitted-level-3);\n",
       "}\n",
       "\n",
       ".sk-estimator-doc-link.fitted span {\n",
       "  /* fitted */\n",
       "  background: var(--sklearn-color-fitted-level-0);\n",
       "  border: var(--sklearn-color-fitted-level-3);\n",
       "}\n",
       "\n",
       ".sk-estimator-doc-link:hover span {\n",
       "  display: block;\n",
       "}\n",
       "\n",
       "/* \"?\"-specific style due to the `<a>` HTML tag */\n",
       "\n",
       "#sk-container-id-10 a.estimator_doc_link {\n",
       "  float: right;\n",
       "  font-size: 1rem;\n",
       "  line-height: 1em;\n",
       "  font-family: monospace;\n",
       "  background-color: var(--sklearn-color-background);\n",
       "  border-radius: 1rem;\n",
       "  height: 1rem;\n",
       "  width: 1rem;\n",
       "  text-decoration: none;\n",
       "  /* unfitted */\n",
       "  color: var(--sklearn-color-unfitted-level-1);\n",
       "  border: var(--sklearn-color-unfitted-level-1) 1pt solid;\n",
       "}\n",
       "\n",
       "#sk-container-id-10 a.estimator_doc_link.fitted {\n",
       "  /* fitted */\n",
       "  border: var(--sklearn-color-fitted-level-1) 1pt solid;\n",
       "  color: var(--sklearn-color-fitted-level-1);\n",
       "}\n",
       "\n",
       "/* On hover */\n",
       "#sk-container-id-10 a.estimator_doc_link:hover {\n",
       "  /* unfitted */\n",
       "  background-color: var(--sklearn-color-unfitted-level-3);\n",
       "  color: var(--sklearn-color-background);\n",
       "  text-decoration: none;\n",
       "}\n",
       "\n",
       "#sk-container-id-10 a.estimator_doc_link.fitted:hover {\n",
       "  /* fitted */\n",
       "  background-color: var(--sklearn-color-fitted-level-3);\n",
       "}\n",
       "</style><div id=\"sk-container-id-10\" class=\"sk-top-container\"><div class=\"sk-text-repr-fallback\"><pre>XGBClassifier(alpha=0.5, base_score=None, booster=None, callbacks=None,\n",
       "              colsample_bylevel=None, colsample_bynode=None,\n",
       "              colsample_bytree=0.8, device=None, early_stopping_rounds=None,\n",
       "              enable_categorical=False, eval_metric=&#x27;logloss&#x27;,\n",
       "              feature_types=None, gamma=0.1, grow_policy=None,\n",
       "              importance_type=None, interaction_constraints=None, lambda=1,\n",
       "              learning_rate=0.05, max_bin=None, max_cat_threshold=None,\n",
       "              max_cat_to_onehot=None, max_delta_step=None, max_depth=5,\n",
       "              max_leaves=None, min_child_weight=1, missing=nan,\n",
       "              monotone_constraints=None, multi_strategy=None, n_estimators=100,\n",
       "              n_jobs=None, ...)</pre><b>In a Jupyter environment, please rerun this cell to show the HTML representation or trust the notebook. <br />On GitHub, the HTML representation is unable to render, please try loading this page with nbviewer.org.</b></div><div class=\"sk-container\" hidden><div class=\"sk-item\"><div class=\"sk-estimator fitted sk-toggleable\"><input class=\"sk-toggleable__control sk-hidden--visually\" id=\"sk-estimator-id-10\" type=\"checkbox\" checked><label for=\"sk-estimator-id-10\" class=\"sk-toggleable__label fitted sk-toggleable__label-arrow fitted\">&nbsp;XGBClassifier<span class=\"sk-estimator-doc-link fitted\">i<span>Fitted</span></span></label><div class=\"sk-toggleable__content fitted\"><pre>XGBClassifier(alpha=0.5, base_score=None, booster=None, callbacks=None,\n",
       "              colsample_bylevel=None, colsample_bynode=None,\n",
       "              colsample_bytree=0.8, device=None, early_stopping_rounds=None,\n",
       "              enable_categorical=False, eval_metric=&#x27;logloss&#x27;,\n",
       "              feature_types=None, gamma=0.1, grow_policy=None,\n",
       "              importance_type=None, interaction_constraints=None, lambda=1,\n",
       "              learning_rate=0.05, max_bin=None, max_cat_threshold=None,\n",
       "              max_cat_to_onehot=None, max_delta_step=None, max_depth=5,\n",
       "              max_leaves=None, min_child_weight=1, missing=nan,\n",
       "              monotone_constraints=None, multi_strategy=None, n_estimators=100,\n",
       "              n_jobs=None, ...)</pre></div> </div></div></div></div>"
      ],
      "text/plain": [
       "XGBClassifier(alpha=0.5, base_score=None, booster=None, callbacks=None,\n",
       "              colsample_bylevel=None, colsample_bynode=None,\n",
       "              colsample_bytree=0.8, device=None, early_stopping_rounds=None,\n",
       "              enable_categorical=False, eval_metric='logloss',\n",
       "              feature_types=None, gamma=0.1, grow_policy=None,\n",
       "              importance_type=None, interaction_constraints=None, lambda=1,\n",
       "              learning_rate=0.05, max_bin=None, max_cat_threshold=None,\n",
       "              max_cat_to_onehot=None, max_delta_step=None, max_depth=5,\n",
       "              max_leaves=None, min_child_weight=1, missing=nan,\n",
       "              monotone_constraints=None, multi_strategy=None, n_estimators=100,\n",
       "              n_jobs=None, ...)"
      ]
     },
     "execution_count": 27,
     "metadata": {},
     "output_type": "execute_result"
    }
   ],
   "source": [
    "# Train the final model with the best hyperparameters\n",
    "params =   {\n",
    "    'objective': 'binary:logistic',\n",
    "    'max_depth': 5,\n",
    "    'learning_rate': 0.05,\n",
    "    'n_estimators': 100,\n",
    "    'subsample': 0.8,\n",
    "    'colsample_bytree': 0.8,\n",
    "    'gamma': 0.1,\n",
    "    'min_child_weight': 1,\n",
    "    'lambda': 1,\n",
    "    'alpha': 0.5\n",
    "}\n",
    "final_model = xgb.XGBClassifier(\n",
    "    eval_metric='logloss',\n",
    "    **params\n",
    ")\n",
    "final_model.fit(X_resampled, y_resampled)\n"
   ]
  },
  {
   "cell_type": "code",
   "execution_count": 28,
   "id": "bb7338a0-c15c-4ebd-89ce-e84dcd31c8e3",
   "metadata": {},
   "outputs": [
    {
     "name": "stdout",
     "output_type": "stream",
     "text": [
      "\n",
      "Model Report Train\n",
      "AUC Score : 0.998653\n",
      "Accuracy : 0.9788\n",
      "Precision : 0.913\n",
      "Recall : 1.000000\n",
      "\n",
      "Model Report Test\n",
      "AUC Score : 0.906217\n",
      "Accuracy : 0.8304\n",
      "Precision : 0.5917\n",
      "Recall : 0.788889\n"
     ]
    },
    {
     "data": {
      "text/plain": [
       "<Figure size 640x480 with 0 Axes>"
      ]
     },
     "metadata": {},
     "output_type": "display_data"
    },
    {
     "name": "stdout",
     "output_type": "stream",
     "text": [
      "CV Score : Mean - 0.6272692 | Std - 0.04357213 | Min - 0.5633803 | Max - 0.6944444\n"
     ]
    },
    {
     "data": {
      "text/html": [
       "<style>#sk-container-id-11 {\n",
       "  /* Definition of color scheme common for light and dark mode */\n",
       "  --sklearn-color-text: black;\n",
       "  --sklearn-color-line: gray;\n",
       "  /* Definition of color scheme for unfitted estimators */\n",
       "  --sklearn-color-unfitted-level-0: #fff5e6;\n",
       "  --sklearn-color-unfitted-level-1: #f6e4d2;\n",
       "  --sklearn-color-unfitted-level-2: #ffe0b3;\n",
       "  --sklearn-color-unfitted-level-3: chocolate;\n",
       "  /* Definition of color scheme for fitted estimators */\n",
       "  --sklearn-color-fitted-level-0: #f0f8ff;\n",
       "  --sklearn-color-fitted-level-1: #d4ebff;\n",
       "  --sklearn-color-fitted-level-2: #b3dbfd;\n",
       "  --sklearn-color-fitted-level-3: cornflowerblue;\n",
       "\n",
       "  /* Specific color for light theme */\n",
       "  --sklearn-color-text-on-default-background: var(--sg-text-color, var(--theme-code-foreground, var(--jp-content-font-color1, black)));\n",
       "  --sklearn-color-background: var(--sg-background-color, var(--theme-background, var(--jp-layout-color0, white)));\n",
       "  --sklearn-color-border-box: var(--sg-text-color, var(--theme-code-foreground, var(--jp-content-font-color1, black)));\n",
       "  --sklearn-color-icon: #696969;\n",
       "\n",
       "  @media (prefers-color-scheme: dark) {\n",
       "    /* Redefinition of color scheme for dark theme */\n",
       "    --sklearn-color-text-on-default-background: var(--sg-text-color, var(--theme-code-foreground, var(--jp-content-font-color1, white)));\n",
       "    --sklearn-color-background: var(--sg-background-color, var(--theme-background, var(--jp-layout-color0, #111)));\n",
       "    --sklearn-color-border-box: var(--sg-text-color, var(--theme-code-foreground, var(--jp-content-font-color1, white)));\n",
       "    --sklearn-color-icon: #878787;\n",
       "  }\n",
       "}\n",
       "\n",
       "#sk-container-id-11 {\n",
       "  color: var(--sklearn-color-text);\n",
       "}\n",
       "\n",
       "#sk-container-id-11 pre {\n",
       "  padding: 0;\n",
       "}\n",
       "\n",
       "#sk-container-id-11 input.sk-hidden--visually {\n",
       "  border: 0;\n",
       "  clip: rect(1px 1px 1px 1px);\n",
       "  clip: rect(1px, 1px, 1px, 1px);\n",
       "  height: 1px;\n",
       "  margin: -1px;\n",
       "  overflow: hidden;\n",
       "  padding: 0;\n",
       "  position: absolute;\n",
       "  width: 1px;\n",
       "}\n",
       "\n",
       "#sk-container-id-11 div.sk-dashed-wrapped {\n",
       "  border: 1px dashed var(--sklearn-color-line);\n",
       "  margin: 0 0.4em 0.5em 0.4em;\n",
       "  box-sizing: border-box;\n",
       "  padding-bottom: 0.4em;\n",
       "  background-color: var(--sklearn-color-background);\n",
       "}\n",
       "\n",
       "#sk-container-id-11 div.sk-container {\n",
       "  /* jupyter's `normalize.less` sets `[hidden] { display: none; }`\n",
       "     but bootstrap.min.css set `[hidden] { display: none !important; }`\n",
       "     so we also need the `!important` here to be able to override the\n",
       "     default hidden behavior on the sphinx rendered scikit-learn.org.\n",
       "     See: https://github.com/scikit-learn/scikit-learn/issues/21755 */\n",
       "  display: inline-block !important;\n",
       "  position: relative;\n",
       "}\n",
       "\n",
       "#sk-container-id-11 div.sk-text-repr-fallback {\n",
       "  display: none;\n",
       "}\n",
       "\n",
       "div.sk-parallel-item,\n",
       "div.sk-serial,\n",
       "div.sk-item {\n",
       "  /* draw centered vertical line to link estimators */\n",
       "  background-image: linear-gradient(var(--sklearn-color-text-on-default-background), var(--sklearn-color-text-on-default-background));\n",
       "  background-size: 2px 100%;\n",
       "  background-repeat: no-repeat;\n",
       "  background-position: center center;\n",
       "}\n",
       "\n",
       "/* Parallel-specific style estimator block */\n",
       "\n",
       "#sk-container-id-11 div.sk-parallel-item::after {\n",
       "  content: \"\";\n",
       "  width: 100%;\n",
       "  border-bottom: 2px solid var(--sklearn-color-text-on-default-background);\n",
       "  flex-grow: 1;\n",
       "}\n",
       "\n",
       "#sk-container-id-11 div.sk-parallel {\n",
       "  display: flex;\n",
       "  align-items: stretch;\n",
       "  justify-content: center;\n",
       "  background-color: var(--sklearn-color-background);\n",
       "  position: relative;\n",
       "}\n",
       "\n",
       "#sk-container-id-11 div.sk-parallel-item {\n",
       "  display: flex;\n",
       "  flex-direction: column;\n",
       "}\n",
       "\n",
       "#sk-container-id-11 div.sk-parallel-item:first-child::after {\n",
       "  align-self: flex-end;\n",
       "  width: 50%;\n",
       "}\n",
       "\n",
       "#sk-container-id-11 div.sk-parallel-item:last-child::after {\n",
       "  align-self: flex-start;\n",
       "  width: 50%;\n",
       "}\n",
       "\n",
       "#sk-container-id-11 div.sk-parallel-item:only-child::after {\n",
       "  width: 0;\n",
       "}\n",
       "\n",
       "/* Serial-specific style estimator block */\n",
       "\n",
       "#sk-container-id-11 div.sk-serial {\n",
       "  display: flex;\n",
       "  flex-direction: column;\n",
       "  align-items: center;\n",
       "  background-color: var(--sklearn-color-background);\n",
       "  padding-right: 1em;\n",
       "  padding-left: 1em;\n",
       "}\n",
       "\n",
       "\n",
       "/* Toggleable style: style used for estimator/Pipeline/ColumnTransformer box that is\n",
       "clickable and can be expanded/collapsed.\n",
       "- Pipeline and ColumnTransformer use this feature and define the default style\n",
       "- Estimators will overwrite some part of the style using the `sk-estimator` class\n",
       "*/\n",
       "\n",
       "/* Pipeline and ColumnTransformer style (default) */\n",
       "\n",
       "#sk-container-id-11 div.sk-toggleable {\n",
       "  /* Default theme specific background. It is overwritten whether we have a\n",
       "  specific estimator or a Pipeline/ColumnTransformer */\n",
       "  background-color: var(--sklearn-color-background);\n",
       "}\n",
       "\n",
       "/* Toggleable label */\n",
       "#sk-container-id-11 label.sk-toggleable__label {\n",
       "  cursor: pointer;\n",
       "  display: block;\n",
       "  width: 100%;\n",
       "  margin-bottom: 0;\n",
       "  padding: 0.5em;\n",
       "  box-sizing: border-box;\n",
       "  text-align: center;\n",
       "}\n",
       "\n",
       "#sk-container-id-11 label.sk-toggleable__label-arrow:before {\n",
       "  /* Arrow on the left of the label */\n",
       "  content: \"▸\";\n",
       "  float: left;\n",
       "  margin-right: 0.25em;\n",
       "  color: var(--sklearn-color-icon);\n",
       "}\n",
       "\n",
       "#sk-container-id-11 label.sk-toggleable__label-arrow:hover:before {\n",
       "  color: var(--sklearn-color-text);\n",
       "}\n",
       "\n",
       "/* Toggleable content - dropdown */\n",
       "\n",
       "#sk-container-id-11 div.sk-toggleable__content {\n",
       "  max-height: 0;\n",
       "  max-width: 0;\n",
       "  overflow: hidden;\n",
       "  text-align: left;\n",
       "  /* unfitted */\n",
       "  background-color: var(--sklearn-color-unfitted-level-0);\n",
       "}\n",
       "\n",
       "#sk-container-id-11 div.sk-toggleable__content.fitted {\n",
       "  /* fitted */\n",
       "  background-color: var(--sklearn-color-fitted-level-0);\n",
       "}\n",
       "\n",
       "#sk-container-id-11 div.sk-toggleable__content pre {\n",
       "  margin: 0.2em;\n",
       "  border-radius: 0.25em;\n",
       "  color: var(--sklearn-color-text);\n",
       "  /* unfitted */\n",
       "  background-color: var(--sklearn-color-unfitted-level-0);\n",
       "}\n",
       "\n",
       "#sk-container-id-11 div.sk-toggleable__content.fitted pre {\n",
       "  /* unfitted */\n",
       "  background-color: var(--sklearn-color-fitted-level-0);\n",
       "}\n",
       "\n",
       "#sk-container-id-11 input.sk-toggleable__control:checked~div.sk-toggleable__content {\n",
       "  /* Expand drop-down */\n",
       "  max-height: 200px;\n",
       "  max-width: 100%;\n",
       "  overflow: auto;\n",
       "}\n",
       "\n",
       "#sk-container-id-11 input.sk-toggleable__control:checked~label.sk-toggleable__label-arrow:before {\n",
       "  content: \"▾\";\n",
       "}\n",
       "\n",
       "/* Pipeline/ColumnTransformer-specific style */\n",
       "\n",
       "#sk-container-id-11 div.sk-label input.sk-toggleable__control:checked~label.sk-toggleable__label {\n",
       "  color: var(--sklearn-color-text);\n",
       "  background-color: var(--sklearn-color-unfitted-level-2);\n",
       "}\n",
       "\n",
       "#sk-container-id-11 div.sk-label.fitted input.sk-toggleable__control:checked~label.sk-toggleable__label {\n",
       "  background-color: var(--sklearn-color-fitted-level-2);\n",
       "}\n",
       "\n",
       "/* Estimator-specific style */\n",
       "\n",
       "/* Colorize estimator box */\n",
       "#sk-container-id-11 div.sk-estimator input.sk-toggleable__control:checked~label.sk-toggleable__label {\n",
       "  /* unfitted */\n",
       "  background-color: var(--sklearn-color-unfitted-level-2);\n",
       "}\n",
       "\n",
       "#sk-container-id-11 div.sk-estimator.fitted input.sk-toggleable__control:checked~label.sk-toggleable__label {\n",
       "  /* fitted */\n",
       "  background-color: var(--sklearn-color-fitted-level-2);\n",
       "}\n",
       "\n",
       "#sk-container-id-11 div.sk-label label.sk-toggleable__label,\n",
       "#sk-container-id-11 div.sk-label label {\n",
       "  /* The background is the default theme color */\n",
       "  color: var(--sklearn-color-text-on-default-background);\n",
       "}\n",
       "\n",
       "/* On hover, darken the color of the background */\n",
       "#sk-container-id-11 div.sk-label:hover label.sk-toggleable__label {\n",
       "  color: var(--sklearn-color-text);\n",
       "  background-color: var(--sklearn-color-unfitted-level-2);\n",
       "}\n",
       "\n",
       "/* Label box, darken color on hover, fitted */\n",
       "#sk-container-id-11 div.sk-label.fitted:hover label.sk-toggleable__label.fitted {\n",
       "  color: var(--sklearn-color-text);\n",
       "  background-color: var(--sklearn-color-fitted-level-2);\n",
       "}\n",
       "\n",
       "/* Estimator label */\n",
       "\n",
       "#sk-container-id-11 div.sk-label label {\n",
       "  font-family: monospace;\n",
       "  font-weight: bold;\n",
       "  display: inline-block;\n",
       "  line-height: 1.2em;\n",
       "}\n",
       "\n",
       "#sk-container-id-11 div.sk-label-container {\n",
       "  text-align: center;\n",
       "}\n",
       "\n",
       "/* Estimator-specific */\n",
       "#sk-container-id-11 div.sk-estimator {\n",
       "  font-family: monospace;\n",
       "  border: 1px dotted var(--sklearn-color-border-box);\n",
       "  border-radius: 0.25em;\n",
       "  box-sizing: border-box;\n",
       "  margin-bottom: 0.5em;\n",
       "  /* unfitted */\n",
       "  background-color: var(--sklearn-color-unfitted-level-0);\n",
       "}\n",
       "\n",
       "#sk-container-id-11 div.sk-estimator.fitted {\n",
       "  /* fitted */\n",
       "  background-color: var(--sklearn-color-fitted-level-0);\n",
       "}\n",
       "\n",
       "/* on hover */\n",
       "#sk-container-id-11 div.sk-estimator:hover {\n",
       "  /* unfitted */\n",
       "  background-color: var(--sklearn-color-unfitted-level-2);\n",
       "}\n",
       "\n",
       "#sk-container-id-11 div.sk-estimator.fitted:hover {\n",
       "  /* fitted */\n",
       "  background-color: var(--sklearn-color-fitted-level-2);\n",
       "}\n",
       "\n",
       "/* Specification for estimator info (e.g. \"i\" and \"?\") */\n",
       "\n",
       "/* Common style for \"i\" and \"?\" */\n",
       "\n",
       ".sk-estimator-doc-link,\n",
       "a:link.sk-estimator-doc-link,\n",
       "a:visited.sk-estimator-doc-link {\n",
       "  float: right;\n",
       "  font-size: smaller;\n",
       "  line-height: 1em;\n",
       "  font-family: monospace;\n",
       "  background-color: var(--sklearn-color-background);\n",
       "  border-radius: 1em;\n",
       "  height: 1em;\n",
       "  width: 1em;\n",
       "  text-decoration: none !important;\n",
       "  margin-left: 1ex;\n",
       "  /* unfitted */\n",
       "  border: var(--sklearn-color-unfitted-level-1) 1pt solid;\n",
       "  color: var(--sklearn-color-unfitted-level-1);\n",
       "}\n",
       "\n",
       ".sk-estimator-doc-link.fitted,\n",
       "a:link.sk-estimator-doc-link.fitted,\n",
       "a:visited.sk-estimator-doc-link.fitted {\n",
       "  /* fitted */\n",
       "  border: var(--sklearn-color-fitted-level-1) 1pt solid;\n",
       "  color: var(--sklearn-color-fitted-level-1);\n",
       "}\n",
       "\n",
       "/* On hover */\n",
       "div.sk-estimator:hover .sk-estimator-doc-link:hover,\n",
       ".sk-estimator-doc-link:hover,\n",
       "div.sk-label-container:hover .sk-estimator-doc-link:hover,\n",
       ".sk-estimator-doc-link:hover {\n",
       "  /* unfitted */\n",
       "  background-color: var(--sklearn-color-unfitted-level-3);\n",
       "  color: var(--sklearn-color-background);\n",
       "  text-decoration: none;\n",
       "}\n",
       "\n",
       "div.sk-estimator.fitted:hover .sk-estimator-doc-link.fitted:hover,\n",
       ".sk-estimator-doc-link.fitted:hover,\n",
       "div.sk-label-container:hover .sk-estimator-doc-link.fitted:hover,\n",
       ".sk-estimator-doc-link.fitted:hover {\n",
       "  /* fitted */\n",
       "  background-color: var(--sklearn-color-fitted-level-3);\n",
       "  color: var(--sklearn-color-background);\n",
       "  text-decoration: none;\n",
       "}\n",
       "\n",
       "/* Span, style for the box shown on hovering the info icon */\n",
       ".sk-estimator-doc-link span {\n",
       "  display: none;\n",
       "  z-index: 9999;\n",
       "  position: relative;\n",
       "  font-weight: normal;\n",
       "  right: .2ex;\n",
       "  padding: .5ex;\n",
       "  margin: .5ex;\n",
       "  width: min-content;\n",
       "  min-width: 20ex;\n",
       "  max-width: 50ex;\n",
       "  color: var(--sklearn-color-text);\n",
       "  box-shadow: 2pt 2pt 4pt #999;\n",
       "  /* unfitted */\n",
       "  background: var(--sklearn-color-unfitted-level-0);\n",
       "  border: .5pt solid var(--sklearn-color-unfitted-level-3);\n",
       "}\n",
       "\n",
       ".sk-estimator-doc-link.fitted span {\n",
       "  /* fitted */\n",
       "  background: var(--sklearn-color-fitted-level-0);\n",
       "  border: var(--sklearn-color-fitted-level-3);\n",
       "}\n",
       "\n",
       ".sk-estimator-doc-link:hover span {\n",
       "  display: block;\n",
       "}\n",
       "\n",
       "/* \"?\"-specific style due to the `<a>` HTML tag */\n",
       "\n",
       "#sk-container-id-11 a.estimator_doc_link {\n",
       "  float: right;\n",
       "  font-size: 1rem;\n",
       "  line-height: 1em;\n",
       "  font-family: monospace;\n",
       "  background-color: var(--sklearn-color-background);\n",
       "  border-radius: 1rem;\n",
       "  height: 1rem;\n",
       "  width: 1rem;\n",
       "  text-decoration: none;\n",
       "  /* unfitted */\n",
       "  color: var(--sklearn-color-unfitted-level-1);\n",
       "  border: var(--sklearn-color-unfitted-level-1) 1pt solid;\n",
       "}\n",
       "\n",
       "#sk-container-id-11 a.estimator_doc_link.fitted {\n",
       "  /* fitted */\n",
       "  border: var(--sklearn-color-fitted-level-1) 1pt solid;\n",
       "  color: var(--sklearn-color-fitted-level-1);\n",
       "}\n",
       "\n",
       "/* On hover */\n",
       "#sk-container-id-11 a.estimator_doc_link:hover {\n",
       "  /* unfitted */\n",
       "  background-color: var(--sklearn-color-unfitted-level-3);\n",
       "  color: var(--sklearn-color-background);\n",
       "  text-decoration: none;\n",
       "}\n",
       "\n",
       "#sk-container-id-11 a.estimator_doc_link.fitted:hover {\n",
       "  /* fitted */\n",
       "  background-color: var(--sklearn-color-fitted-level-3);\n",
       "}\n",
       "</style><div id=\"sk-container-id-11\" class=\"sk-top-container\"><div class=\"sk-text-repr-fallback\"><pre>XGBClassifier(alpha=0.5, base_score=None, booster=None, callbacks=None,\n",
       "              colsample_bylevel=None, colsample_bynode=None,\n",
       "              colsample_bytree=0.8, device=None, early_stopping_rounds=None,\n",
       "              enable_categorical=False, eval_metric=&#x27;logloss&#x27;,\n",
       "              feature_types=None, gamma=0.1, grow_policy=None,\n",
       "              importance_type=None, interaction_constraints=None, lambda=1,\n",
       "              learning_rate=0.05, max_bin=None, max_cat_threshold=None,\n",
       "              max_cat_to_onehot=None, max_delta_step=None, max_depth=5,\n",
       "              max_leaves=None, min_child_weight=1, missing=nan,\n",
       "              monotone_constraints=None, multi_strategy=None, n_estimators=100,\n",
       "              n_jobs=None, ...)</pre><b>In a Jupyter environment, please rerun this cell to show the HTML representation or trust the notebook. <br />On GitHub, the HTML representation is unable to render, please try loading this page with nbviewer.org.</b></div><div class=\"sk-container\" hidden><div class=\"sk-item\"><div class=\"sk-estimator fitted sk-toggleable\"><input class=\"sk-toggleable__control sk-hidden--visually\" id=\"sk-estimator-id-11\" type=\"checkbox\" checked><label for=\"sk-estimator-id-11\" class=\"sk-toggleable__label fitted sk-toggleable__label-arrow fitted\">&nbsp;XGBClassifier<span class=\"sk-estimator-doc-link fitted\">i<span>Fitted</span></span></label><div class=\"sk-toggleable__content fitted\"><pre>XGBClassifier(alpha=0.5, base_score=None, booster=None, callbacks=None,\n",
       "              colsample_bylevel=None, colsample_bynode=None,\n",
       "              colsample_bytree=0.8, device=None, early_stopping_rounds=None,\n",
       "              enable_categorical=False, eval_metric=&#x27;logloss&#x27;,\n",
       "              feature_types=None, gamma=0.1, grow_policy=None,\n",
       "              importance_type=None, interaction_constraints=None, lambda=1,\n",
       "              learning_rate=0.05, max_bin=None, max_cat_threshold=None,\n",
       "              max_cat_to_onehot=None, max_delta_step=None, max_depth=5,\n",
       "              max_leaves=None, min_child_weight=1, missing=nan,\n",
       "              monotone_constraints=None, multi_strategy=None, n_estimators=100,\n",
       "              n_jobs=None, ...)</pre></div> </div></div></div></div>"
      ],
      "text/plain": [
       "XGBClassifier(alpha=0.5, base_score=None, booster=None, callbacks=None,\n",
       "              colsample_bylevel=None, colsample_bynode=None,\n",
       "              colsample_bytree=0.8, device=None, early_stopping_rounds=None,\n",
       "              enable_categorical=False, eval_metric='logloss',\n",
       "              feature_types=None, gamma=0.1, grow_policy=None,\n",
       "              importance_type=None, interaction_constraints=None, lambda=1,\n",
       "              learning_rate=0.05, max_bin=None, max_cat_threshold=None,\n",
       "              max_cat_to_onehot=None, max_delta_step=None, max_depth=5,\n",
       "              max_leaves=None, min_child_weight=1, missing=nan,\n",
       "              monotone_constraints=None, multi_strategy=None, n_estimators=100,\n",
       "              n_jobs=None, ...)"
      ]
     },
     "execution_count": 28,
     "metadata": {},
     "output_type": "execute_result"
    }
   ],
   "source": [
    "modelfit(final_model, X_train, y_train,X_test,y_test)"
   ]
  },
  {
   "cell_type": "code",
   "execution_count": null,
   "id": "0cc9409c-4ecd-4096-b0f7-4893bc9706aa",
   "metadata": {},
   "outputs": [],
   "source": []
  },
  {
   "cell_type": "markdown",
   "id": "0b476cc2-d35b-49e0-9894-73e9a58d2dc8",
   "metadata": {},
   "source": [
    "#### General Parameters:\n",
    "\n",
    "* objective: \"binary:logistic\" (since it's a binary classification problem)\n",
    "*  eval_metric: \"logloss\" (logarithmic loss is a good measure for classification)\n",
    "  \n",
    "#### Tree Booster Parameters:\n",
    "* max_depth: 4 (shallower trees to prevent overfitting)\n",
    "* learning_rate: 0.05 (a lower learning rate helps the model generalize better)\n",
    "* n_estimators: 100 (start with fewer trees to prevent overfitting on a small dataset)\n",
    "* subsample: 0.8 (use 80% of the data for each boosting round to introduce randomness)\n",
    "* colsample_bytree: 0.8 (use 80% of the features, useful with high-dimensional embeddings)\n",
    "\n",
    "#### Regularization Parameters:\n",
    "* gamma: 0.1 (penalty for additional leaf nodes, controls tree complexity)\n",
    "* min_child_weight: 1 (controls the minimum sum of instance weight in a child, useful for preventing overfitting)\n",
    "* lambda: 1 (L2 regularization to reduce overfitting)\n",
    "* alpha: 0.5 (L1 regularization for feature selection)\n",
    "  \n"
   ]
  },
  {
   "cell_type": "code",
   "execution_count": 34,
   "id": "e59ffdfd-243c-44cb-9883-67d222deba51",
   "metadata": {},
   "outputs": [],
   "source": [
    "def modelfit(alg, X_train, y_train, X_test, y_test, printFeatureImportance=True):\n",
    "    with mlflow.start_run():\n",
    "        # Fit the algorithm on the data\n",
    "        #alg.fit(X_resampled, y_resampled)\n",
    "            \n",
    "        # Predict training set:\n",
    "        dtrain_predictions = alg.predict(X_train)\n",
    "        dtrain_predprob = alg.predict_proba(X_train)[:, 1]\n",
    "\n",
    "        # Predict test set:\n",
    "        dtest_predictions = alg.predict(X_test)\n",
    "        dtest_predprob = alg.predict_proba(X_test)[:, 1]\n",
    "\n",
    "        # Log model parameters\n",
    "        mlflow.log_params(alg.get_params())\n",
    "\n",
    "        # Log metrics for Train\n",
    "        mlflow.log_metric(\"train_auc\", roc_auc_score(y_train, dtrain_predprob))\n",
    "        mlflow.log_metric(\"train_accuracy\", accuracy_score(y_train, dtrain_predictions))\n",
    "        mlflow.log_metric(\"train_precision\", precision_score(y_train, dtrain_predictions))\n",
    "        mlflow.log_metric(\"train_recall\", recall_score(y_train, dtrain_predictions))\n",
    "\n",
    "        # Log metrics for Test\n",
    "        mlflow.log_metric(\"test_auc\", roc_auc_score(y_test, dtest_predprob))\n",
    "        mlflow.log_metric(\"test_accuracy\", accuracy_score(y_test, dtest_predictions))\n",
    "        mlflow.log_metric(\"test_precision\", precision_score(y_test, dtest_predictions))\n",
    "        mlflow.log_metric(\"test_recall\", recall_score(y_test, dtest_predictions))\n",
    "\n",
    "        # Print model report for Train\n",
    "        print(\"\\nModel Report Train\")\n",
    "        print(\"AUC Score : %f\" % roc_auc_score(y_train, dtrain_predprob))\n",
    "        print(\"Accuracy : %.4g\" % accuracy_score(y_train, dtrain_predictions))\n",
    "        print(\"Precision : %.4g\" % precision_score(y_train, dtrain_predictions))\n",
    "        print(\"Recall : %f\" % recall_score(y_train, dtrain_predictions))\n",
    "\n",
    "      \n",
    "\n",
    "        # Log confusion matrix for Train\n",
    "        train_cm = confusion_matrix(y_train, dtrain_predictions)\n",
    "        mlflow.log_artifact(plot_confusion_matrix(train_cm, \"Train\"))\n",
    "\n",
    "        # Print model report for Test\n",
    "        print(\"\\nModel Report Test\")\n",
    "        print(\"AUC Score : %f\" % roc_auc_score(y_test, dtest_predprob))\n",
    "        print(\"Accuracy : %.4g\" % accuracy_score(y_test, dtest_predictions))\n",
    "        print(\"Precision : %.4g\" % precision_score(y_test, dtest_predictions))\n",
    "        print(\"Recall : %f\" % recall_score(y_test, dtest_predictions))\n",
    "\n",
    "\n",
    "        # Log the model with input example\n",
    "        input_example = X_train[0:1]   # Use the first row of X_train as an example\n",
    "        mlflow.sklearn.log_model(alg, \"model\", input_example=input_example)\n",
    "        mlflow.log_metric(\"time_cut\", time_cut)\n",
    "    \n",
    "    # Explicitly end the MLflow run\n",
    "    mlflow.end_run()\n",
    "\n",
    "    return alg\n",
    "\n"
   ]
  },
  {
   "cell_type": "code",
   "execution_count": 35,
   "id": "bb24e4b5-e3f0-49b9-b8ca-d339f90bb8dd",
   "metadata": {},
   "outputs": [
    {
     "name": "stderr",
     "output_type": "stream",
     "text": [
      "2024/10/01 01:28:56 INFO mlflow.tracking.fluent: Experiment with name 'Xgboost SMOTE Filter Node 2024-09-30 10 min-3days' does not exist. Creating a new experiment.\n"
     ]
    },
    {
     "data": {
      "text/plain": [
       "<Experiment: artifact_location='/home/azureuser/rumour-detection-pheme/mlruns/33', creation_time=1727746136710, experiment_id='33', last_update_time=1727746136710, lifecycle_stage='active', name='Xgboost SMOTE Filter Node 2024-09-30 10 min-3days', tags={}>"
      ]
     },
     "execution_count": 35,
     "metadata": {},
     "output_type": "execute_result"
    }
   ],
   "source": [
    "import mlflow\n",
    "mlflow.set_tracking_uri(\"sqlite:///mlflow.db\")\n",
    "#mlflow.set_experiment(\"spyder-experiment\")\n",
    "import mlflow.pytorch\n",
    "mlflow.set_experiment(\"Xgboost SMOTE Filter Node 2024-09-30 10 min-3days\")"
   ]
  },
  {
   "cell_type": "code",
   "execution_count": 36,
   "id": "b3e8a43c-3eef-493e-afa2-5e2587b63cc4",
   "metadata": {},
   "outputs": [
    {
     "name": "stdout",
     "output_type": "stream",
     "text": [
      "10\n",
      "\n",
      "Model Report Train\n",
      "AUC Score : 0.500000\n",
      "Accuracy : 0.75\n",
      "Precision : 0.75\n",
      "Recall : 1.000000\n",
      "\n",
      "Model Report Test\n",
      "AUC Score : 0.500000\n",
      "Accuracy : 0.6667\n",
      "Precision : 0.6667\n",
      "Recall : 1.000000\n"
     ]
    },
    {
     "name": "stderr",
     "output_type": "stream",
     "text": [
      "/home/azureuser/miniconda3/envs/mastering/lib/python3.12/site-packages/tqdm/auto.py:21: TqdmWarning: IProgress not found. Please update jupyter and ipywidgets. See https://ipywidgets.readthedocs.io/en/stable/user_install.html\n",
      "  from .autonotebook import tqdm as notebook_tqdm\n",
      "Downloading artifacts: 100%|███████████████████| 7/7 [00:00<00:00, 855.83it/s]\n"
     ]
    },
    {
     "name": "stdout",
     "output_type": "stream",
     "text": [
      "20\n",
      "\n",
      "Model Report Train\n",
      "AUC Score : 1.000000\n",
      "Accuracy : 1\n",
      "Precision : 1\n",
      "Recall : 1.000000\n",
      "\n",
      "Model Report Test\n",
      "AUC Score : 0.888889\n",
      "Accuracy : 0.6667\n",
      "Precision : 0.6\n",
      "Recall : 1.000000\n"
     ]
    },
    {
     "name": "stderr",
     "output_type": "stream",
     "text": [
      "Downloading artifacts: 100%|███████████████████| 7/7 [00:00<00:00, 791.08it/s]\n"
     ]
    },
    {
     "name": "stdout",
     "output_type": "stream",
     "text": [
      "30\n",
      "\n",
      "Model Report Train\n",
      "AUC Score : 1.000000\n",
      "Accuracy : 1\n",
      "Precision : 1\n",
      "Recall : 1.000000\n",
      "\n",
      "Model Report Test\n",
      "AUC Score : 0.866667\n",
      "Accuracy : 0.7273\n",
      "Precision : 0.6667\n",
      "Recall : 1.000000\n"
     ]
    },
    {
     "name": "stderr",
     "output_type": "stream",
     "text": [
      "Downloading artifacts: 100%|██████████████████| 7/7 [00:00<00:00, 1429.06it/s]\n"
     ]
    },
    {
     "name": "stdout",
     "output_type": "stream",
     "text": [
      "40\n",
      "\n",
      "Model Report Train\n",
      "AUC Score : 1.000000\n",
      "Accuracy : 1\n",
      "Precision : 1\n",
      "Recall : 1.000000\n",
      "\n",
      "Model Report Test\n",
      "AUC Score : 0.777778\n",
      "Accuracy : 0.7333\n",
      "Precision : 0.6923\n",
      "Recall : 1.000000\n"
     ]
    },
    {
     "name": "stderr",
     "output_type": "stream",
     "text": [
      "Downloading artifacts: 100%|███████████████████| 7/7 [00:00<00:00, 847.02it/s]\n"
     ]
    },
    {
     "name": "stdout",
     "output_type": "stream",
     "text": [
      "50\n",
      "\n",
      "Model Report Train\n",
      "AUC Score : 1.000000\n",
      "Accuracy : 1\n",
      "Precision : 1\n",
      "Recall : 1.000000\n",
      "\n",
      "Model Report Test\n",
      "AUC Score : 0.869318\n",
      "Accuracy : 0.8947\n",
      "Precision : 0.8462\n",
      "Recall : 1.000000\n"
     ]
    },
    {
     "name": "stderr",
     "output_type": "stream",
     "text": [
      "Downloading artifacts: 100%|███████████████████| 7/7 [00:00<00:00, 726.95it/s]\n"
     ]
    },
    {
     "name": "stdout",
     "output_type": "stream",
     "text": [
      "60\n",
      "\n",
      "Model Report Train\n",
      "AUC Score : 1.000000\n",
      "Accuracy : 1\n",
      "Precision : 1\n",
      "Recall : 1.000000\n",
      "\n",
      "Model Report Test\n",
      "AUC Score : 0.878788\n",
      "Accuracy : 0.8696\n",
      "Precision : 0.8\n",
      "Recall : 1.000000\n"
     ]
    },
    {
     "name": "stderr",
     "output_type": "stream",
     "text": [
      "Downloading artifacts: 100%|██████████████████| 7/7 [00:00<00:00, 1040.29it/s]\n"
     ]
    },
    {
     "name": "stdout",
     "output_type": "stream",
     "text": [
      "70\n",
      "\n",
      "Model Report Train\n",
      "AUC Score : 1.000000\n",
      "Accuracy : 1\n",
      "Precision : 1\n",
      "Recall : 1.000000\n",
      "\n",
      "Model Report Test\n",
      "AUC Score : 0.887574\n",
      "Accuracy : 0.7308\n",
      "Precision : 0.7143\n",
      "Recall : 0.769231\n"
     ]
    },
    {
     "name": "stderr",
     "output_type": "stream",
     "text": [
      "Downloading artifacts: 100%|███████████████████| 7/7 [00:00<00:00, 723.01it/s]\n"
     ]
    },
    {
     "name": "stdout",
     "output_type": "stream",
     "text": [
      "80\n",
      "\n",
      "Model Report Train\n",
      "AUC Score : 1.000000\n",
      "Accuracy : 1\n",
      "Precision : 1\n",
      "Recall : 1.000000\n",
      "\n",
      "Model Report Test\n",
      "AUC Score : 0.857778\n",
      "Accuracy : 0.7333\n",
      "Precision : 0.7333\n",
      "Recall : 0.733333\n"
     ]
    },
    {
     "name": "stderr",
     "output_type": "stream",
     "text": [
      "Downloading artifacts: 100%|███████████████████| 7/7 [00:00<00:00, 893.03it/s]\n"
     ]
    },
    {
     "name": "stdout",
     "output_type": "stream",
     "text": [
      "90\n",
      "\n",
      "Model Report Train\n",
      "AUC Score : 1.000000\n",
      "Accuracy : 1\n",
      "Precision : 1\n",
      "Recall : 1.000000\n",
      "\n",
      "Model Report Test\n",
      "AUC Score : 0.841176\n",
      "Accuracy : 0.7838\n",
      "Precision : 0.8\n",
      "Recall : 0.705882\n"
     ]
    },
    {
     "name": "stderr",
     "output_type": "stream",
     "text": [
      "Downloading artifacts: 100%|███████████████████| 7/7 [00:00<00:00, 418.31it/s]\n"
     ]
    },
    {
     "name": "stdout",
     "output_type": "stream",
     "text": [
      "100\n",
      "\n",
      "Model Report Train\n",
      "AUC Score : 0.999603\n",
      "Accuracy : 0.9886\n",
      "Precision : 0.9865\n",
      "Recall : 0.986486\n",
      "\n",
      "Model Report Test\n",
      "AUC Score : 0.914980\n",
      "Accuracy : 0.7778\n",
      "Precision : 0.7143\n",
      "Recall : 0.789474\n"
     ]
    },
    {
     "name": "stderr",
     "output_type": "stream",
     "text": [
      "Downloading artifacts: 100%|██████████████████| 7/7 [00:00<00:00, 1309.32it/s]\n"
     ]
    },
    {
     "name": "stdout",
     "output_type": "stream",
     "text": [
      "110\n",
      "\n",
      "Model Report Train\n",
      "AUC Score : 0.999678\n",
      "Accuracy : 0.9898\n",
      "Precision : 0.9873\n",
      "Recall : 0.987342\n",
      "\n",
      "Model Report Test\n",
      "AUC Score : 0.930000\n",
      "Accuracy : 0.86\n",
      "Precision : 0.8095\n",
      "Recall : 0.850000\n"
     ]
    },
    {
     "name": "stderr",
     "output_type": "stream",
     "text": [
      "Downloading artifacts: 100%|███████████████████| 7/7 [00:00<00:00, 601.36it/s]\n"
     ]
    },
    {
     "name": "stdout",
     "output_type": "stream",
     "text": [
      "120\n",
      "\n",
      "Model Report Train\n",
      "AUC Score : 0.999735\n",
      "Accuracy : 0.9864\n",
      "Precision : 0.9756\n",
      "Recall : 0.987654\n",
      "\n",
      "Model Report Test\n",
      "AUC Score : 0.926389\n",
      "Accuracy : 0.8571\n",
      "Precision : 0.7727\n",
      "Recall : 0.850000\n"
     ]
    },
    {
     "name": "stderr",
     "output_type": "stream",
     "text": [
      "Downloading artifacts: 100%|██████████████████| 7/7 [00:00<00:00, 1079.54it/s]\n"
     ]
    },
    {
     "name": "stdout",
     "output_type": "stream",
     "text": [
      "130\n",
      "\n",
      "Model Report Train\n",
      "AUC Score : 0.999791\n",
      "Accuracy : 0.9921\n",
      "Precision : 0.9885\n",
      "Recall : 0.988506\n",
      "\n",
      "Model Report Test\n",
      "AUC Score : 0.961197\n",
      "Accuracy : 0.8413\n",
      "Precision : 0.7143\n",
      "Recall : 0.909091\n"
     ]
    },
    {
     "name": "stderr",
     "output_type": "stream",
     "text": [
      "Downloading artifacts: 100%|███████████████████| 7/7 [00:00<00:00, 632.35it/s]\n"
     ]
    },
    {
     "name": "stdout",
     "output_type": "stream",
     "text": [
      "140\n",
      "\n",
      "Model Report Train\n",
      "AUC Score : 0.998970\n",
      "Accuracy : 0.9822\n",
      "Precision : 0.9681\n",
      "Recall : 0.978495\n",
      "\n",
      "Model Report Test\n",
      "AUC Score : 0.943841\n",
      "Accuracy : 0.831\n",
      "Precision : 0.6774\n",
      "Recall : 0.913043\n"
     ]
    },
    {
     "name": "stderr",
     "output_type": "stream",
     "text": [
      "Downloading artifacts: 100%|███████████████████| 7/7 [00:00<00:00, 652.42it/s]\n"
     ]
    },
    {
     "name": "stdout",
     "output_type": "stream",
     "text": [
      "150\n",
      "\n",
      "Model Report Train\n",
      "AUC Score : 0.999341\n",
      "Accuracy : 0.9803\n",
      "Precision : 0.949\n",
      "Recall : 0.989362\n",
      "\n",
      "Model Report Test\n",
      "AUC Score : 0.911859\n",
      "Accuracy : 0.8553\n",
      "Precision : 0.76\n",
      "Recall : 0.791667\n"
     ]
    },
    {
     "name": "stderr",
     "output_type": "stream",
     "text": [
      "Downloading artifacts: 100%|███████████████████| 7/7 [00:00<00:00, 868.82it/s]\n"
     ]
    },
    {
     "name": "stdout",
     "output_type": "stream",
     "text": [
      "160\n",
      "\n",
      "Model Report Train\n",
      "AUC Score : 0.999200\n",
      "Accuracy : 0.9735\n",
      "Precision : 0.9327\n",
      "Recall : 0.979798\n",
      "\n",
      "Model Report Test\n",
      "AUC Score : 0.937333\n",
      "Accuracy : 0.8588\n",
      "Precision : 0.7097\n",
      "Recall : 0.880000\n"
     ]
    },
    {
     "name": "stderr",
     "output_type": "stream",
     "text": [
      "Downloading artifacts: 100%|███████████████████| 7/7 [00:00<00:00, 624.80it/s]\n"
     ]
    },
    {
     "name": "stdout",
     "output_type": "stream",
     "text": [
      "170\n",
      "\n",
      "Model Report Train\n",
      "AUC Score : 0.996718\n",
      "Accuracy : 0.9638\n",
      "Precision : 0.8991\n",
      "Recall : 0.980000\n",
      "\n",
      "Model Report Test\n",
      "AUC Score : 0.921846\n",
      "Accuracy : 0.8556\n",
      "Precision : 0.7143\n",
      "Recall : 0.800000\n"
     ]
    },
    {
     "name": "stderr",
     "output_type": "stream",
     "text": [
      "Downloading artifacts: 100%|███████████████████| 7/7 [00:00<00:00, 713.84it/s]\n"
     ]
    },
    {
     "name": "stdout",
     "output_type": "stream",
     "text": [
      "180\n",
      "\n",
      "Model Report Train\n",
      "AUC Score : 0.998291\n",
      "Accuracy : 0.9686\n",
      "Precision : 0.9009\n",
      "Recall : 0.990099\n",
      "\n",
      "Model Report Test\n",
      "AUC Score : 0.900563\n",
      "Accuracy : 0.8646\n",
      "Precision : 0.7143\n",
      "Recall : 0.800000\n"
     ]
    },
    {
     "name": "stderr",
     "output_type": "stream",
     "text": [
      "Downloading artifacts: 100%|██████████████████| 7/7 [00:00<00:00, 1028.27it/s]\n"
     ]
    },
    {
     "name": "stdout",
     "output_type": "stream",
     "text": [
      "190\n",
      "\n",
      "Model Report Train\n",
      "AUC Score : 0.995285\n",
      "Accuracy : 0.9636\n",
      "Precision : 0.9018\n",
      "Recall : 0.961905\n",
      "\n",
      "Model Report Test\n",
      "AUC Score : 0.949051\n",
      "Accuracy : 0.8835\n",
      "Precision : 0.6944\n",
      "Recall : 0.961538\n"
     ]
    },
    {
     "name": "stderr",
     "output_type": "stream",
     "text": [
      "Downloading artifacts: 100%|███████████████████| 7/7 [00:00<00:00, 915.16it/s]\n"
     ]
    },
    {
     "name": "stdout",
     "output_type": "stream",
     "text": [
      "200\n",
      "\n",
      "Model Report Train\n",
      "AUC Score : 0.996139\n",
      "Accuracy : 0.9615\n",
      "Precision : 0.875\n",
      "Recall : 0.981308\n",
      "\n",
      "Model Report Test\n",
      "AUC Score : 0.895503\n",
      "Accuracy : 0.8559\n",
      "Precision : 0.6774\n",
      "Recall : 0.777778\n"
     ]
    },
    {
     "name": "stderr",
     "output_type": "stream",
     "text": [
      "Downloading artifacts: 100%|██████████████████| 7/7 [00:00<00:00, 1353.25it/s]\n"
     ]
    },
    {
     "name": "stdout",
     "output_type": "stream",
     "text": [
      "210\n",
      "\n",
      "Model Report Train\n",
      "AUC Score : 0.994199\n",
      "Accuracy : 0.9509\n",
      "Precision : 0.8359\n",
      "Recall : 0.981651\n",
      "\n",
      "Model Report Test\n",
      "AUC Score : 0.920238\n",
      "Accuracy : 0.8644\n",
      "Precision : 0.6765\n",
      "Recall : 0.821429\n"
     ]
    },
    {
     "name": "stderr",
     "output_type": "stream",
     "text": [
      "Downloading artifacts: 100%|███████████████████| 7/7 [00:00<00:00, 714.74it/s]\n"
     ]
    },
    {
     "name": "stdout",
     "output_type": "stream",
     "text": [
      "220\n",
      "\n",
      "Model Report Train\n",
      "AUC Score : 0.995030\n",
      "Accuracy : 0.9646\n",
      "Precision : 0.8605\n",
      "Recall : 1.000000\n",
      "\n",
      "Model Report Test\n",
      "AUC Score : 0.933622\n",
      "Accuracy : 0.8819\n",
      "Precision : 0.6857\n",
      "Recall : 0.857143\n"
     ]
    },
    {
     "name": "stderr",
     "output_type": "stream",
     "text": [
      "Downloading artifacts: 100%|███████████████████| 7/7 [00:00<00:00, 845.43it/s]\n"
     ]
    },
    {
     "name": "stdout",
     "output_type": "stream",
     "text": [
      "230\n",
      "\n",
      "Model Report Train\n",
      "AUC Score : 0.994059\n",
      "Accuracy : 0.9508\n",
      "Precision : 0.8244\n",
      "Recall : 0.972973\n",
      "\n",
      "Model Report Test\n",
      "AUC Score : 0.920408\n",
      "Accuracy : 0.8722\n",
      "Precision : 0.6667\n",
      "Recall : 0.785714\n"
     ]
    },
    {
     "name": "stderr",
     "output_type": "stream",
     "text": [
      "Downloading artifacts: 100%|███████████████████| 7/7 [00:00<00:00, 616.06it/s]\n"
     ]
    },
    {
     "name": "stdout",
     "output_type": "stream",
     "text": [
      "240\n",
      "\n",
      "Model Report Train\n",
      "AUC Score : 0.996016\n",
      "Accuracy : 0.9599\n",
      "Precision : 0.8409\n",
      "Recall : 0.991071\n",
      "\n",
      "Model Report Test\n",
      "AUC Score : 0.909091\n",
      "Accuracy : 0.8551\n",
      "Precision : 0.6\n",
      "Recall : 0.857143\n"
     ]
    },
    {
     "name": "stderr",
     "output_type": "stream",
     "text": [
      "Downloading artifacts: 100%|███████████████████| 7/7 [00:00<00:00, 958.79it/s]\n"
     ]
    },
    {
     "name": "stdout",
     "output_type": "stream",
     "text": [
      "250\n",
      "\n",
      "Model Report Train\n",
      "AUC Score : 0.994826\n",
      "Accuracy : 0.9577\n",
      "Precision : 0.8397\n",
      "Recall : 0.973451\n",
      "\n",
      "Model Report Test\n",
      "AUC Score : 0.937888\n",
      "Accuracy : 0.9091\n",
      "Precision : 0.7273\n",
      "Recall : 0.857143\n"
     ]
    },
    {
     "name": "stderr",
     "output_type": "stream",
     "text": [
      "Downloading artifacts: 100%|███████████████████| 7/7 [00:00<00:00, 696.91it/s]\n"
     ]
    },
    {
     "name": "stdout",
     "output_type": "stream",
     "text": [
      "260\n",
      "\n",
      "Model Report Train\n",
      "AUC Score : 0.993852\n",
      "Accuracy : 0.9527\n",
      "Precision : 0.8116\n",
      "Recall : 0.982456\n",
      "\n",
      "Model Report Test\n",
      "AUC Score : 0.938393\n",
      "Accuracy : 0.8716\n",
      "Precision : 0.6154\n",
      "Recall : 0.857143\n"
     ]
    },
    {
     "name": "stderr",
     "output_type": "stream",
     "text": [
      "Downloading artifacts: 100%|██████████████████| 7/7 [00:00<00:00, 1037.90it/s]\n"
     ]
    },
    {
     "name": "stdout",
     "output_type": "stream",
     "text": [
      "270\n",
      "\n",
      "Model Report Train\n",
      "AUC Score : 0.992719\n",
      "Accuracy : 0.9381\n",
      "Precision : 0.7533\n",
      "Recall : 0.991228\n",
      "\n",
      "Model Report Test\n",
      "AUC Score : 0.965561\n",
      "Accuracy : 0.9351\n",
      "Precision : 0.7647\n",
      "Recall : 0.928571\n"
     ]
    },
    {
     "name": "stderr",
     "output_type": "stream",
     "text": [
      "Downloading artifacts: 100%|███████████████████| 7/7 [00:00<00:00, 836.73it/s]\n"
     ]
    },
    {
     "name": "stdout",
     "output_type": "stream",
     "text": [
      "280\n",
      "\n",
      "Model Report Train\n",
      "AUC Score : 0.993244\n",
      "Accuracy : 0.947\n",
      "Precision : 0.7793\n",
      "Recall : 0.991228\n",
      "\n",
      "Model Report Test\n",
      "AUC Score : 0.936663\n",
      "Accuracy : 0.8974\n",
      "Precision : 0.7\n",
      "Recall : 0.750000\n"
     ]
    },
    {
     "name": "stderr",
     "output_type": "stream",
     "text": [
      "Downloading artifacts: 100%|███████████████████| 7/7 [00:00<00:00, 569.68it/s]\n"
     ]
    },
    {
     "name": "stdout",
     "output_type": "stream",
     "text": [
      "290\n",
      "\n",
      "Model Report Train\n",
      "AUC Score : 0.992365\n",
      "Accuracy : 0.9438\n",
      "Precision : 0.7687\n",
      "Recall : 0.991228\n",
      "\n",
      "Model Report Test\n",
      "AUC Score : 0.938058\n",
      "Accuracy : 0.8974\n",
      "Precision : 0.7\n",
      "Recall : 0.750000\n"
     ]
    },
    {
     "name": "stderr",
     "output_type": "stream",
     "text": [
      "Downloading artifacts: 100%|██████████████████| 7/7 [00:00<00:00, 1085.04it/s]\n"
     ]
    },
    {
     "name": "stdout",
     "output_type": "stream",
     "text": [
      "300\n",
      "\n",
      "Model Report Train\n",
      "AUC Score : 0.993258\n",
      "Accuracy : 0.9503\n",
      "Precision : 0.7943\n",
      "Recall : 0.982456\n",
      "\n",
      "Model Report Test\n",
      "AUC Score : 0.951172\n",
      "Accuracy : 0.8974\n",
      "Precision : 0.6765\n",
      "Recall : 0.821429\n"
     ]
    },
    {
     "name": "stderr",
     "output_type": "stream",
     "text": [
      "Downloading artifacts: 100%|███████████████████| 7/7 [00:00<00:00, 859.46it/s]\n"
     ]
    },
    {
     "name": "stdout",
     "output_type": "stream",
     "text": [
      "310\n",
      "\n",
      "Model Report Train\n",
      "AUC Score : 0.991895\n",
      "Accuracy : 0.9407\n",
      "Precision : 0.7603\n",
      "Recall : 0.982301\n",
      "\n",
      "Model Report Test\n",
      "AUC Score : 0.962689\n",
      "Accuracy : 0.9045\n",
      "Precision : 0.6944\n",
      "Recall : 0.862069\n"
     ]
    },
    {
     "name": "stderr",
     "output_type": "stream",
     "text": [
      "Downloading artifacts: 100%|███████████████████| 7/7 [00:00<00:00, 655.20it/s]\n"
     ]
    },
    {
     "name": "stdout",
     "output_type": "stream",
     "text": [
      "320\n",
      "\n",
      "Model Report Train\n",
      "AUC Score : 0.993259\n",
      "Accuracy : 0.9424\n",
      "Precision : 0.7619\n",
      "Recall : 0.991150\n",
      "\n",
      "Model Report Test\n",
      "AUC Score : 0.954203\n",
      "Accuracy : 0.9108\n",
      "Precision : 0.7027\n",
      "Recall : 0.896552\n"
     ]
    },
    {
     "name": "stderr",
     "output_type": "stream",
     "text": [
      "Downloading artifacts: 100%|███████████████████| 7/7 [00:00<00:00, 867.03it/s]\n"
     ]
    },
    {
     "name": "stdout",
     "output_type": "stream",
     "text": [
      "330\n",
      "\n",
      "Model Report Train\n",
      "AUC Score : 0.992931\n",
      "Accuracy : 0.9408\n",
      "Precision : 0.7568\n",
      "Recall : 0.991150\n",
      "\n",
      "Model Report Test\n",
      "AUC Score : 0.954203\n",
      "Accuracy : 0.8854\n",
      "Precision : 0.641\n",
      "Recall : 0.862069\n"
     ]
    },
    {
     "name": "stderr",
     "output_type": "stream",
     "text": [
      "Downloading artifacts: 100%|███████████████████| 7/7 [00:00<00:00, 547.17it/s]\n"
     ]
    },
    {
     "name": "stdout",
     "output_type": "stream",
     "text": [
      "340\n",
      "\n",
      "Model Report Train\n",
      "AUC Score : 0.990544\n",
      "Accuracy : 0.9458\n",
      "Precision : 0.7857\n",
      "Recall : 0.964912\n",
      "\n",
      "Model Report Test\n",
      "AUC Score : 0.923034\n",
      "Accuracy : 0.8599\n",
      "Precision : 0.5833\n",
      "Recall : 0.750000\n"
     ]
    },
    {
     "name": "stderr",
     "output_type": "stream",
     "text": [
      "Downloading artifacts: 100%|██████████████████| 7/7 [00:00<00:00, 1291.75it/s]\n"
     ]
    },
    {
     "name": "stdout",
     "output_type": "stream",
     "text": [
      "350\n",
      "\n",
      "Model Report Train\n",
      "AUC Score : 0.990544\n",
      "Accuracy : 0.9458\n",
      "Precision : 0.7857\n",
      "Recall : 0.964912\n",
      "\n",
      "Model Report Test\n",
      "AUC Score : 0.923034\n",
      "Accuracy : 0.8599\n",
      "Precision : 0.5833\n",
      "Recall : 0.750000\n"
     ]
    },
    {
     "name": "stderr",
     "output_type": "stream",
     "text": [
      "Downloading artifacts: 100%|███████████████████| 7/7 [00:00<00:00, 434.65it/s]\n"
     ]
    },
    {
     "name": "stdout",
     "output_type": "stream",
     "text": [
      "360\n",
      "\n",
      "Model Report Train\n",
      "AUC Score : 0.990544\n",
      "Accuracy : 0.9458\n",
      "Precision : 0.7857\n",
      "Recall : 0.964912\n",
      "\n",
      "Model Report Test\n",
      "AUC Score : 0.923034\n",
      "Accuracy : 0.8599\n",
      "Precision : 0.5833\n",
      "Recall : 0.750000\n"
     ]
    },
    {
     "name": "stderr",
     "output_type": "stream",
     "text": [
      "Downloading artifacts: 100%|███████████████████| 7/7 [00:00<00:00, 717.26it/s]\n"
     ]
    },
    {
     "name": "stdout",
     "output_type": "stream",
     "text": [
      "370\n",
      "\n",
      "Model Report Train\n",
      "AUC Score : 0.990544\n",
      "Accuracy : 0.9458\n",
      "Precision : 0.7857\n",
      "Recall : 0.964912\n",
      "\n",
      "Model Report Test\n",
      "AUC Score : 0.923034\n",
      "Accuracy : 0.8599\n",
      "Precision : 0.5833\n",
      "Recall : 0.750000\n"
     ]
    },
    {
     "name": "stderr",
     "output_type": "stream",
     "text": [
      "Downloading artifacts: 100%|███████████████████| 7/7 [00:00<00:00, 688.83it/s]\n"
     ]
    },
    {
     "name": "stdout",
     "output_type": "stream",
     "text": [
      "380\n",
      "\n",
      "Model Report Train\n",
      "AUC Score : 0.990544\n",
      "Accuracy : 0.9458\n",
      "Precision : 0.7857\n",
      "Recall : 0.964912\n",
      "\n",
      "Model Report Test\n",
      "AUC Score : 0.923034\n",
      "Accuracy : 0.8599\n",
      "Precision : 0.5833\n",
      "Recall : 0.750000\n"
     ]
    },
    {
     "name": "stderr",
     "output_type": "stream",
     "text": [
      "Downloading artifacts: 100%|███████████████████| 7/7 [00:00<00:00, 842.13it/s]\n"
     ]
    },
    {
     "name": "stdout",
     "output_type": "stream",
     "text": [
      "390\n",
      "\n",
      "Model Report Train\n",
      "AUC Score : 0.993006\n",
      "Accuracy : 0.9411\n",
      "Precision : 0.7603\n",
      "Recall : 0.982301\n",
      "\n",
      "Model Report Test\n",
      "AUC Score : 0.929163\n",
      "Accuracy : 0.8924\n",
      "Precision : 0.6667\n",
      "Recall : 0.827586\n"
     ]
    },
    {
     "name": "stderr",
     "output_type": "stream",
     "text": [
      "Downloading artifacts: 100%|███████████████████| 7/7 [00:00<00:00, 869.36it/s]\n"
     ]
    },
    {
     "name": "stdout",
     "output_type": "stream",
     "text": [
      "400\n",
      "\n",
      "Model Report Train\n",
      "AUC Score : 0.992233\n",
      "Accuracy : 0.9395\n",
      "Precision : 0.7586\n",
      "Recall : 0.973451\n",
      "\n",
      "Model Report Test\n",
      "AUC Score : 0.924886\n",
      "Accuracy : 0.8797\n",
      "Precision : 0.6389\n",
      "Recall : 0.793103\n"
     ]
    },
    {
     "name": "stderr",
     "output_type": "stream",
     "text": [
      "Downloading artifacts: 100%|██████████████████| 7/7 [00:00<00:00, 1033.08it/s]\n"
     ]
    },
    {
     "name": "stdout",
     "output_type": "stream",
     "text": [
      "410\n",
      "\n",
      "Model Report Train\n",
      "AUC Score : 0.993023\n",
      "Accuracy : 0.9443\n",
      "Precision : 0.7671\n",
      "Recall : 0.991150\n",
      "\n",
      "Model Report Test\n",
      "AUC Score : 0.923550\n",
      "Accuracy : 0.9051\n",
      "Precision : 0.6944\n",
      "Recall : 0.862069\n"
     ]
    },
    {
     "name": "stderr",
     "output_type": "stream",
     "text": [
      "Downloading artifacts: 100%|███████████████████| 7/7 [00:00<00:00, 808.04it/s]\n"
     ]
    },
    {
     "name": "stdout",
     "output_type": "stream",
     "text": [
      "420\n",
      "\n",
      "Model Report Train\n",
      "AUC Score : 0.993023\n",
      "Accuracy : 0.9443\n",
      "Precision : 0.7671\n",
      "Recall : 0.991150\n",
      "\n",
      "Model Report Test\n",
      "AUC Score : 0.923550\n",
      "Accuracy : 0.9051\n",
      "Precision : 0.6944\n",
      "Recall : 0.862069\n"
     ]
    },
    {
     "name": "stderr",
     "output_type": "stream",
     "text": [
      "Downloading artifacts: 100%|███████████████████| 7/7 [00:00<00:00, 497.92it/s]\n"
     ]
    },
    {
     "name": "stdout",
     "output_type": "stream",
     "text": [
      "430\n",
      "\n",
      "Model Report Train\n",
      "AUC Score : 0.993023\n",
      "Accuracy : 0.9443\n",
      "Precision : 0.7671\n",
      "Recall : 0.991150\n",
      "\n",
      "Model Report Test\n",
      "AUC Score : 0.923550\n",
      "Accuracy : 0.9051\n",
      "Precision : 0.6944\n",
      "Recall : 0.862069\n"
     ]
    },
    {
     "name": "stderr",
     "output_type": "stream",
     "text": [
      "Downloading artifacts: 100%|███████████████████| 7/7 [00:00<00:00, 585.91it/s]\n"
     ]
    },
    {
     "name": "stdout",
     "output_type": "stream",
     "text": [
      "440\n",
      "\n",
      "Model Report Train\n",
      "AUC Score : 0.993792\n",
      "Accuracy : 0.9475\n",
      "Precision : 0.7817\n",
      "Recall : 0.982301\n",
      "\n",
      "Model Report Test\n",
      "AUC Score : 0.919273\n",
      "Accuracy : 0.8797\n",
      "Precision : 0.6316\n",
      "Recall : 0.827586\n"
     ]
    },
    {
     "name": "stderr",
     "output_type": "stream",
     "text": [
      "Downloading artifacts: 100%|███████████████████| 7/7 [00:00<00:00, 635.90it/s]\n"
     ]
    },
    {
     "name": "stdout",
     "output_type": "stream",
     "text": [
      "450\n",
      "\n",
      "Model Report Train\n",
      "AUC Score : 0.993336\n",
      "Accuracy : 0.9476\n",
      "Precision : 0.7793\n",
      "Recall : 0.991228\n",
      "\n",
      "Model Report Test\n",
      "AUC Score : 0.922802\n",
      "Accuracy : 0.8544\n",
      "Precision : 0.561\n",
      "Recall : 0.821429\n"
     ]
    },
    {
     "name": "stderr",
     "output_type": "stream",
     "text": [
      "Downloading artifacts: 100%|██████████████████| 7/7 [00:00<00:00, 1153.55it/s]\n"
     ]
    },
    {
     "name": "stdout",
     "output_type": "stream",
     "text": [
      "460\n",
      "\n",
      "Model Report Train\n",
      "AUC Score : 0.991873\n",
      "Accuracy : 0.954\n",
      "Precision : 0.8148\n",
      "Recall : 0.964912\n",
      "\n",
      "Model Report Test\n",
      "AUC Score : 0.933516\n",
      "Accuracy : 0.8544\n",
      "Precision : 0.5641\n",
      "Recall : 0.785714\n"
     ]
    },
    {
     "name": "stderr",
     "output_type": "stream",
     "text": [
      "Downloading artifacts: 100%|██████████████████| 7/7 [00:00<00:00, 1598.79it/s]\n"
     ]
    },
    {
     "name": "stdout",
     "output_type": "stream",
     "text": [
      "470\n",
      "\n",
      "Model Report Train\n",
      "AUC Score : 0.991873\n",
      "Accuracy : 0.954\n",
      "Precision : 0.8148\n",
      "Recall : 0.964912\n",
      "\n",
      "Model Report Test\n",
      "AUC Score : 0.933516\n",
      "Accuracy : 0.8544\n",
      "Precision : 0.5641\n",
      "Recall : 0.785714\n"
     ]
    },
    {
     "name": "stderr",
     "output_type": "stream",
     "text": [
      "Downloading artifacts: 100%|███████████████████| 7/7 [00:00<00:00, 856.75it/s]\n"
     ]
    },
    {
     "name": "stdout",
     "output_type": "stream",
     "text": [
      "480\n",
      "\n",
      "Model Report Train\n",
      "AUC Score : 0.991873\n",
      "Accuracy : 0.954\n",
      "Precision : 0.8148\n",
      "Recall : 0.964912\n",
      "\n",
      "Model Report Test\n",
      "AUC Score : 0.933516\n",
      "Accuracy : 0.8544\n",
      "Precision : 0.5641\n",
      "Recall : 0.785714\n"
     ]
    },
    {
     "name": "stderr",
     "output_type": "stream",
     "text": [
      "Downloading artifacts: 100%|███████████████████| 7/7 [00:00<00:00, 716.75it/s]\n"
     ]
    },
    {
     "name": "stdout",
     "output_type": "stream",
     "text": [
      "490\n",
      "\n",
      "Model Report Train\n",
      "AUC Score : 0.991737\n",
      "Accuracy : 0.9445\n",
      "Precision : 0.7842\n",
      "Recall : 0.956140\n",
      "\n",
      "Model Report Test\n",
      "AUC Score : 0.932143\n",
      "Accuracy : 0.8481\n",
      "Precision : 0.55\n",
      "Recall : 0.785714\n"
     ]
    },
    {
     "name": "stderr",
     "output_type": "stream",
     "text": [
      "Downloading artifacts: 100%|███████████████████| 7/7 [00:00<00:00, 572.96it/s]\n"
     ]
    },
    {
     "name": "stdout",
     "output_type": "stream",
     "text": [
      "500\n",
      "\n",
      "Model Report Train\n",
      "AUC Score : 0.991922\n",
      "Accuracy : 0.9573\n",
      "Precision : 0.8321\n",
      "Recall : 0.956140\n",
      "\n",
      "Model Report Test\n",
      "AUC Score : 0.920879\n",
      "Accuracy : 0.8481\n",
      "Precision : 0.5476\n",
      "Recall : 0.821429\n"
     ]
    },
    {
     "name": "stderr",
     "output_type": "stream",
     "text": [
      "Downloading artifacts: 100%|██████████████████| 7/7 [00:00<00:00, 1203.83it/s]\n"
     ]
    },
    {
     "name": "stdout",
     "output_type": "stream",
     "text": [
      "510\n",
      "\n",
      "Model Report Train\n",
      "AUC Score : 0.991922\n",
      "Accuracy : 0.9573\n",
      "Precision : 0.8321\n",
      "Recall : 0.956140\n",
      "\n",
      "Model Report Test\n",
      "AUC Score : 0.920879\n",
      "Accuracy : 0.8481\n",
      "Precision : 0.5476\n",
      "Recall : 0.821429\n"
     ]
    },
    {
     "name": "stderr",
     "output_type": "stream",
     "text": [
      "Downloading artifacts: 100%|███████████████████| 7/7 [00:00<00:00, 743.82it/s]\n"
     ]
    },
    {
     "name": "stdout",
     "output_type": "stream",
     "text": [
      "520\n",
      "\n",
      "Model Report Train\n",
      "AUC Score : 0.992199\n",
      "Accuracy : 0.9446\n",
      "Precision : 0.7671\n",
      "Recall : 0.991150\n",
      "\n",
      "Model Report Test\n",
      "AUC Score : 0.940053\n",
      "Accuracy : 0.8805\n",
      "Precision : 0.625\n",
      "Recall : 0.862069\n"
     ]
    },
    {
     "name": "stderr",
     "output_type": "stream",
     "text": [
      "Downloading artifacts: 100%|███████████████████| 7/7 [00:00<00:00, 729.52it/s]\n"
     ]
    },
    {
     "name": "stdout",
     "output_type": "stream",
     "text": [
      "530\n",
      "\n",
      "Model Report Train\n",
      "AUC Score : 0.992199\n",
      "Accuracy : 0.9446\n",
      "Precision : 0.7671\n",
      "Recall : 0.991150\n",
      "\n",
      "Model Report Test\n",
      "AUC Score : 0.940053\n",
      "Accuracy : 0.8805\n",
      "Precision : 0.625\n",
      "Recall : 0.862069\n"
     ]
    },
    {
     "name": "stderr",
     "output_type": "stream",
     "text": [
      "Downloading artifacts: 100%|███████████████████| 7/7 [00:00<00:00, 647.50it/s]\n"
     ]
    },
    {
     "name": "stdout",
     "output_type": "stream",
     "text": [
      "540\n",
      "\n",
      "Model Report Train\n",
      "AUC Score : 0.992199\n",
      "Accuracy : 0.9446\n",
      "Precision : 0.7671\n",
      "Recall : 0.991150\n",
      "\n",
      "Model Report Test\n",
      "AUC Score : 0.940053\n",
      "Accuracy : 0.8805\n",
      "Precision : 0.625\n",
      "Recall : 0.862069\n"
     ]
    },
    {
     "name": "stderr",
     "output_type": "stream",
     "text": [
      "Downloading artifacts: 100%|███████████████████| 7/7 [00:00<00:00, 566.02it/s]\n"
     ]
    },
    {
     "name": "stdout",
     "output_type": "stream",
     "text": [
      "550\n",
      "\n",
      "Model Report Train\n",
      "AUC Score : 0.992199\n",
      "Accuracy : 0.9446\n",
      "Precision : 0.7671\n",
      "Recall : 0.991150\n",
      "\n",
      "Model Report Test\n",
      "AUC Score : 0.940053\n",
      "Accuracy : 0.8805\n",
      "Precision : 0.625\n",
      "Recall : 0.862069\n"
     ]
    },
    {
     "name": "stderr",
     "output_type": "stream",
     "text": [
      "Downloading artifacts: 100%|███████████████████| 7/7 [00:00<00:00, 735.11it/s]\n"
     ]
    },
    {
     "name": "stdout",
     "output_type": "stream",
     "text": [
      "560\n",
      "\n",
      "Model Report Train\n",
      "AUC Score : 0.992199\n",
      "Accuracy : 0.9446\n",
      "Precision : 0.7671\n",
      "Recall : 0.991150\n",
      "\n",
      "Model Report Test\n",
      "AUC Score : 0.940053\n",
      "Accuracy : 0.8805\n",
      "Precision : 0.625\n",
      "Recall : 0.862069\n"
     ]
    },
    {
     "name": "stderr",
     "output_type": "stream",
     "text": [
      "Downloading artifacts: 100%|███████████████████| 7/7 [00:00<00:00, 807.33it/s]\n"
     ]
    },
    {
     "name": "stdout",
     "output_type": "stream",
     "text": [
      "570\n",
      "\n",
      "Model Report Train\n",
      "AUC Score : 0.992199\n",
      "Accuracy : 0.9446\n",
      "Precision : 0.7671\n",
      "Recall : 0.991150\n",
      "\n",
      "Model Report Test\n",
      "AUC Score : 0.940053\n",
      "Accuracy : 0.8805\n",
      "Precision : 0.625\n",
      "Recall : 0.862069\n"
     ]
    },
    {
     "name": "stderr",
     "output_type": "stream",
     "text": [
      "Downloading artifacts: 100%|███████████████████| 7/7 [00:00<00:00, 781.69it/s]\n"
     ]
    },
    {
     "name": "stdout",
     "output_type": "stream",
     "text": [
      "580\n",
      "\n",
      "Model Report Train\n",
      "AUC Score : 0.992199\n",
      "Accuracy : 0.9446\n",
      "Precision : 0.7671\n",
      "Recall : 0.991150\n",
      "\n",
      "Model Report Test\n",
      "AUC Score : 0.940053\n",
      "Accuracy : 0.8805\n",
      "Precision : 0.625\n",
      "Recall : 0.862069\n"
     ]
    },
    {
     "name": "stderr",
     "output_type": "stream",
     "text": [
      "Downloading artifacts: 100%|███████████████████| 7/7 [00:00<00:00, 624.09it/s]\n"
     ]
    },
    {
     "name": "stdout",
     "output_type": "stream",
     "text": [
      "590\n",
      "\n",
      "Model Report Train\n",
      "AUC Score : 0.992199\n",
      "Accuracy : 0.9446\n",
      "Precision : 0.7671\n",
      "Recall : 0.991150\n",
      "\n",
      "Model Report Test\n",
      "AUC Score : 0.940053\n",
      "Accuracy : 0.8805\n",
      "Precision : 0.625\n",
      "Recall : 0.862069\n"
     ]
    },
    {
     "name": "stderr",
     "output_type": "stream",
     "text": [
      "Downloading artifacts: 100%|███████████████████| 7/7 [00:00<00:00, 853.10it/s]\n"
     ]
    },
    {
     "name": "stdout",
     "output_type": "stream",
     "text": [
      "600\n",
      "\n",
      "Model Report Train\n",
      "AUC Score : 0.992199\n",
      "Accuracy : 0.9446\n",
      "Precision : 0.7671\n",
      "Recall : 0.991150\n",
      "\n",
      "Model Report Test\n",
      "AUC Score : 0.940053\n",
      "Accuracy : 0.8805\n",
      "Precision : 0.625\n",
      "Recall : 0.862069\n"
     ]
    },
    {
     "name": "stderr",
     "output_type": "stream",
     "text": [
      "Downloading artifacts: 100%|███████████████████| 7/7 [00:00<00:00, 801.47it/s]\n"
     ]
    },
    {
     "name": "stdout",
     "output_type": "stream",
     "text": [
      "610\n",
      "\n",
      "Model Report Train\n",
      "AUC Score : 0.992779\n",
      "Accuracy : 0.9446\n",
      "Precision : 0.7671\n",
      "Recall : 0.991150\n",
      "\n",
      "Model Report Test\n",
      "AUC Score : 0.936340\n",
      "Accuracy : 0.8742\n",
      "Precision : 0.6098\n",
      "Recall : 0.862069\n"
     ]
    },
    {
     "name": "stderr",
     "output_type": "stream",
     "text": [
      "Downloading artifacts: 100%|███████████████████| 7/7 [00:00<00:00, 538.35it/s]\n"
     ]
    },
    {
     "name": "stdout",
     "output_type": "stream",
     "text": [
      "620\n",
      "\n",
      "Model Report Train\n",
      "AUC Score : 0.992779\n",
      "Accuracy : 0.9446\n",
      "Precision : 0.7671\n",
      "Recall : 0.991150\n",
      "\n",
      "Model Report Test\n",
      "AUC Score : 0.936340\n",
      "Accuracy : 0.8742\n",
      "Precision : 0.6098\n",
      "Recall : 0.862069\n"
     ]
    },
    {
     "name": "stderr",
     "output_type": "stream",
     "text": [
      "Downloading artifacts: 100%|██████████████████| 7/7 [00:00<00:00, 1178.18it/s]\n"
     ]
    },
    {
     "name": "stdout",
     "output_type": "stream",
     "text": [
      "630\n",
      "\n",
      "Model Report Train\n",
      "AUC Score : 0.992540\n",
      "Accuracy : 0.943\n",
      "Precision : 0.7619\n",
      "Recall : 0.991150\n",
      "\n",
      "Model Report Test\n",
      "AUC Score : 0.932891\n",
      "Accuracy : 0.8805\n",
      "Precision : 0.625\n",
      "Recall : 0.862069\n"
     ]
    },
    {
     "name": "stderr",
     "output_type": "stream",
     "text": [
      "Downloading artifacts: 100%|███████████████████| 7/7 [00:00<00:00, 705.38it/s]\n"
     ]
    },
    {
     "name": "stdout",
     "output_type": "stream",
     "text": [
      "640\n",
      "\n",
      "Model Report Train\n",
      "AUC Score : 0.992583\n",
      "Accuracy : 0.943\n",
      "Precision : 0.7619\n",
      "Recall : 0.991150\n",
      "\n",
      "Model Report Test\n",
      "AUC Score : 0.937401\n",
      "Accuracy : 0.8742\n",
      "Precision : 0.6098\n",
      "Recall : 0.862069\n"
     ]
    },
    {
     "name": "stderr",
     "output_type": "stream",
     "text": [
      "Downloading artifacts: 100%|███████████████████| 7/7 [00:00<00:00, 743.52it/s]\n"
     ]
    },
    {
     "name": "stdout",
     "output_type": "stream",
     "text": [
      "650\n",
      "\n",
      "Model Report Train\n",
      "AUC Score : 0.992165\n",
      "Accuracy : 0.943\n",
      "Precision : 0.7619\n",
      "Recall : 0.991150\n",
      "\n",
      "Model Report Test\n",
      "AUC Score : 0.938992\n",
      "Accuracy : 0.8805\n",
      "Precision : 0.625\n",
      "Recall : 0.862069\n"
     ]
    },
    {
     "name": "stderr",
     "output_type": "stream",
     "text": [
      "Downloading artifacts: 100%|██████████████████| 7/7 [00:00<00:00, 1169.87it/s]\n"
     ]
    },
    {
     "name": "stdout",
     "output_type": "stream",
     "text": [
      "660\n",
      "\n",
      "Model Report Train\n",
      "AUC Score : 0.992165\n",
      "Accuracy : 0.943\n",
      "Precision : 0.7619\n",
      "Recall : 0.991150\n",
      "\n",
      "Model Report Test\n",
      "AUC Score : 0.938992\n",
      "Accuracy : 0.8805\n",
      "Precision : 0.625\n",
      "Recall : 0.862069\n"
     ]
    },
    {
     "name": "stderr",
     "output_type": "stream",
     "text": [
      "Downloading artifacts: 100%|██████████████████| 7/7 [00:00<00:00, 1136.84it/s]\n"
     ]
    },
    {
     "name": "stdout",
     "output_type": "stream",
     "text": [
      "670\n",
      "\n",
      "Model Report Train\n",
      "AUC Score : 0.992165\n",
      "Accuracy : 0.943\n",
      "Precision : 0.7619\n",
      "Recall : 0.991150\n",
      "\n",
      "Model Report Test\n",
      "AUC Score : 0.938992\n",
      "Accuracy : 0.8805\n",
      "Precision : 0.625\n",
      "Recall : 0.862069\n"
     ]
    },
    {
     "name": "stderr",
     "output_type": "stream",
     "text": [
      "Downloading artifacts: 100%|███████████████████| 7/7 [00:00<00:00, 998.03it/s]\n"
     ]
    },
    {
     "name": "stdout",
     "output_type": "stream",
     "text": [
      "680\n",
      "\n",
      "Model Report Train\n",
      "AUC Score : 0.992165\n",
      "Accuracy : 0.943\n",
      "Precision : 0.7619\n",
      "Recall : 0.991150\n",
      "\n",
      "Model Report Test\n",
      "AUC Score : 0.938992\n",
      "Accuracy : 0.8805\n",
      "Precision : 0.625\n",
      "Recall : 0.862069\n"
     ]
    },
    {
     "name": "stderr",
     "output_type": "stream",
     "text": [
      "Downloading artifacts: 100%|███████████████████| 7/7 [00:00<00:00, 834.21it/s]\n"
     ]
    },
    {
     "name": "stdout",
     "output_type": "stream",
     "text": [
      "690\n",
      "\n",
      "Model Report Train\n",
      "AUC Score : 0.990640\n",
      "Accuracy : 0.9447\n",
      "Precision : 0.7746\n",
      "Recall : 0.973451\n",
      "\n",
      "Model Report Test\n",
      "AUC Score : 0.931300\n",
      "Accuracy : 0.8679\n",
      "Precision : 0.6111\n",
      "Recall : 0.758621\n"
     ]
    },
    {
     "name": "stderr",
     "output_type": "stream",
     "text": [
      "Downloading artifacts: 100%|███████████████████| 7/7 [00:00<00:00, 573.32it/s]\n"
     ]
    },
    {
     "name": "stdout",
     "output_type": "stream",
     "text": [
      "700\n",
      "\n",
      "Model Report Train\n",
      "AUC Score : 0.990640\n",
      "Accuracy : 0.9447\n",
      "Precision : 0.7746\n",
      "Recall : 0.973451\n",
      "\n",
      "Model Report Test\n",
      "AUC Score : 0.931300\n",
      "Accuracy : 0.8679\n",
      "Precision : 0.6111\n",
      "Recall : 0.758621\n"
     ]
    },
    {
     "name": "stderr",
     "output_type": "stream",
     "text": [
      "Downloading artifacts: 100%|███████████████████| 7/7 [00:00<00:00, 706.23it/s]\n"
     ]
    },
    {
     "name": "stdout",
     "output_type": "stream",
     "text": [
      "710\n",
      "\n",
      "Model Report Train\n",
      "AUC Score : 0.991116\n",
      "Accuracy : 0.9415\n",
      "Precision : 0.7676\n",
      "Recall : 0.964602\n",
      "\n",
      "Model Report Test\n",
      "AUC Score : 0.935544\n",
      "Accuracy : 0.8868\n",
      "Precision : 0.6571\n",
      "Recall : 0.793103\n"
     ]
    },
    {
     "name": "stderr",
     "output_type": "stream",
     "text": [
      "Downloading artifacts: 100%|███████████████████| 7/7 [00:00<00:00, 572.91it/s]\n"
     ]
    },
    {
     "name": "stdout",
     "output_type": "stream",
     "text": [
      "720\n",
      "\n",
      "Model Report Train\n",
      "AUC Score : 0.991116\n",
      "Accuracy : 0.9415\n",
      "Precision : 0.7676\n",
      "Recall : 0.964602\n",
      "\n",
      "Model Report Test\n",
      "AUC Score : 0.935544\n",
      "Accuracy : 0.8868\n",
      "Precision : 0.6571\n",
      "Recall : 0.793103\n"
     ]
    },
    {
     "name": "stderr",
     "output_type": "stream",
     "text": [
      "Downloading artifacts: 100%|███████████████████| 7/7 [00:00<00:00, 845.97it/s]\n"
     ]
    },
    {
     "name": "stdout",
     "output_type": "stream",
     "text": [
      "730\n",
      "\n",
      "Model Report Train\n",
      "AUC Score : 0.991116\n",
      "Accuracy : 0.9415\n",
      "Precision : 0.7676\n",
      "Recall : 0.964602\n",
      "\n",
      "Model Report Test\n",
      "AUC Score : 0.935544\n",
      "Accuracy : 0.8868\n",
      "Precision : 0.6571\n",
      "Recall : 0.793103\n"
     ]
    },
    {
     "name": "stderr",
     "output_type": "stream",
     "text": [
      "Downloading artifacts: 100%|███████████████████| 7/7 [00:00<00:00, 545.80it/s]\n"
     ]
    },
    {
     "name": "stdout",
     "output_type": "stream",
     "text": [
      "740\n",
      "\n",
      "Model Report Train\n",
      "AUC Score : 0.991116\n",
      "Accuracy : 0.9415\n",
      "Precision : 0.7676\n",
      "Recall : 0.964602\n",
      "\n",
      "Model Report Test\n",
      "AUC Score : 0.935544\n",
      "Accuracy : 0.8868\n",
      "Precision : 0.6571\n",
      "Recall : 0.793103\n"
     ]
    },
    {
     "name": "stderr",
     "output_type": "stream",
     "text": [
      "Downloading artifacts: 100%|██████████████████| 7/7 [00:00<00:00, 1699.77it/s]\n"
     ]
    },
    {
     "name": "stdout",
     "output_type": "stream",
     "text": [
      "750\n",
      "\n",
      "Model Report Train\n",
      "AUC Score : 0.991116\n",
      "Accuracy : 0.9415\n",
      "Precision : 0.7676\n",
      "Recall : 0.964602\n",
      "\n",
      "Model Report Test\n",
      "AUC Score : 0.935544\n",
      "Accuracy : 0.8868\n",
      "Precision : 0.6571\n",
      "Recall : 0.793103\n"
     ]
    },
    {
     "name": "stderr",
     "output_type": "stream",
     "text": [
      "Downloading artifacts: 100%|███████████████████| 7/7 [00:00<00:00, 515.52it/s]\n"
     ]
    },
    {
     "name": "stdout",
     "output_type": "stream",
     "text": [
      "760\n",
      "\n",
      "Model Report Train\n",
      "AUC Score : 0.991116\n",
      "Accuracy : 0.9415\n",
      "Precision : 0.7676\n",
      "Recall : 0.964602\n",
      "\n",
      "Model Report Test\n",
      "AUC Score : 0.935544\n",
      "Accuracy : 0.8868\n",
      "Precision : 0.6571\n",
      "Recall : 0.793103\n"
     ]
    },
    {
     "name": "stderr",
     "output_type": "stream",
     "text": [
      "Downloading artifacts: 100%|███████████████████| 7/7 [00:00<00:00, 645.89it/s]\n"
     ]
    },
    {
     "name": "stdout",
     "output_type": "stream",
     "text": [
      "770\n",
      "\n",
      "Model Report Train\n",
      "AUC Score : 0.991116\n",
      "Accuracy : 0.9415\n",
      "Precision : 0.7676\n",
      "Recall : 0.964602\n",
      "\n",
      "Model Report Test\n",
      "AUC Score : 0.935544\n",
      "Accuracy : 0.8868\n",
      "Precision : 0.6571\n",
      "Recall : 0.793103\n"
     ]
    },
    {
     "name": "stderr",
     "output_type": "stream",
     "text": [
      "Downloading artifacts: 100%|███████████████████| 7/7 [00:00<00:00, 670.55it/s]\n"
     ]
    },
    {
     "name": "stdout",
     "output_type": "stream",
     "text": [
      "780\n",
      "\n",
      "Model Report Train\n",
      "AUC Score : 0.987617\n",
      "Accuracy : 0.9351\n",
      "Precision : 0.7568\n",
      "Recall : 0.949153\n",
      "\n",
      "Model Report Test\n",
      "AUC Score : 0.919627\n",
      "Accuracy : 0.8642\n",
      "Precision : 0.5946\n",
      "Recall : 0.758621\n"
     ]
    },
    {
     "name": "stderr",
     "output_type": "stream",
     "text": [
      "Downloading artifacts: 100%|██████████████████| 7/7 [00:00<00:00, 1059.44it/s]\n"
     ]
    },
    {
     "name": "stdout",
     "output_type": "stream",
     "text": [
      "790\n",
      "\n",
      "Model Report Train\n",
      "AUC Score : 0.985539\n",
      "Accuracy : 0.9455\n",
      "Precision : 0.7943\n",
      "Recall : 0.941176\n",
      "\n",
      "Model Report Test\n",
      "AUC Score : 0.940370\n",
      "Accuracy : 0.8848\n",
      "Precision : 0.6486\n",
      "Recall : 0.800000\n"
     ]
    },
    {
     "name": "stderr",
     "output_type": "stream",
     "text": [
      "Downloading artifacts: 100%|███████████████████| 7/7 [00:00<00:00, 789.80it/s]\n"
     ]
    },
    {
     "name": "stdout",
     "output_type": "stream",
     "text": [
      "800\n",
      "\n",
      "Model Report Train\n",
      "AUC Score : 0.988783\n",
      "Accuracy : 0.9393\n",
      "Precision : 0.7595\n",
      "Recall : 0.975610\n",
      "\n",
      "Model Report Test\n",
      "AUC Score : 0.921095\n",
      "Accuracy : 0.9059\n",
      "Precision : 0.6923\n",
      "Recall : 0.870968\n"
     ]
    },
    {
     "name": "stderr",
     "output_type": "stream",
     "text": [
      "Downloading artifacts: 100%|███████████████████| 7/7 [00:00<00:00, 414.28it/s]\n"
     ]
    },
    {
     "name": "stdout",
     "output_type": "stream",
     "text": [
      "810\n",
      "\n",
      "Model Report Train\n",
      "AUC Score : 0.986985\n",
      "Accuracy : 0.9402\n",
      "Precision : 0.7722\n",
      "Recall : 0.960630\n",
      "\n",
      "Model Report Test\n",
      "AUC Score : 0.924777\n",
      "Accuracy : 0.8779\n",
      "Precision : 0.6279\n",
      "Recall : 0.843750\n"
     ]
    },
    {
     "name": "stderr",
     "output_type": "stream",
     "text": [
      "Downloading artifacts: 100%|███████████████████| 7/7 [00:00<00:00, 855.58it/s]\n"
     ]
    },
    {
     "name": "stdout",
     "output_type": "stream",
     "text": [
      "820\n",
      "\n",
      "Model Report Train\n",
      "AUC Score : 0.986985\n",
      "Accuracy : 0.9402\n",
      "Precision : 0.7722\n",
      "Recall : 0.960630\n",
      "\n",
      "Model Report Test\n",
      "AUC Score : 0.924777\n",
      "Accuracy : 0.8779\n",
      "Precision : 0.6279\n",
      "Recall : 0.843750\n"
     ]
    },
    {
     "name": "stderr",
     "output_type": "stream",
     "text": [
      "Downloading artifacts: 100%|███████████████████| 7/7 [00:00<00:00, 722.64it/s]\n"
     ]
    },
    {
     "name": "stdout",
     "output_type": "stream",
     "text": [
      "830\n",
      "\n",
      "Model Report Train\n",
      "AUC Score : 0.986122\n",
      "Accuracy : 0.9345\n",
      "Precision : 0.7546\n",
      "Recall : 0.960938\n",
      "\n",
      "Model Report Test\n",
      "AUC Score : 0.907366\n",
      "Accuracy : 0.8721\n",
      "Precision : 0.6136\n",
      "Recall : 0.843750\n"
     ]
    },
    {
     "name": "stderr",
     "output_type": "stream",
     "text": [
      "Downloading artifacts: 100%|██████████████████| 7/7 [00:00<00:00, 1377.18it/s]\n"
     ]
    },
    {
     "name": "stdout",
     "output_type": "stream",
     "text": [
      "840\n",
      "\n",
      "Model Report Train\n",
      "AUC Score : 0.983622\n",
      "Accuracy : 0.9201\n",
      "Precision : 0.7202\n",
      "Recall : 0.937984\n",
      "\n",
      "Model Report Test\n",
      "AUC Score : 0.927232\n",
      "Accuracy : 0.8721\n",
      "Precision : 0.6136\n",
      "Recall : 0.843750\n"
     ]
    },
    {
     "name": "stderr",
     "output_type": "stream",
     "text": [
      "Downloading artifacts: 100%|███████████████████| 7/7 [00:00<00:00, 746.83it/s]\n"
     ]
    },
    {
     "name": "stdout",
     "output_type": "stream",
     "text": [
      "850\n",
      "\n",
      "Model Report Train\n",
      "AUC Score : 0.985120\n",
      "Accuracy : 0.939\n",
      "Precision : 0.7702\n",
      "Recall : 0.961240\n",
      "\n",
      "Model Report Test\n",
      "AUC Score : 0.936364\n",
      "Accuracy : 0.8728\n",
      "Precision : 0.6122\n",
      "Recall : 0.909091\n"
     ]
    },
    {
     "name": "stderr",
     "output_type": "stream",
     "text": [
      "Downloading artifacts: 100%|███████████████████| 7/7 [00:00<00:00, 817.35it/s]\n"
     ]
    },
    {
     "name": "stdout",
     "output_type": "stream",
     "text": [
      "860\n",
      "\n",
      "Model Report Train\n",
      "AUC Score : 0.985120\n",
      "Accuracy : 0.939\n",
      "Precision : 0.7702\n",
      "Recall : 0.961240\n",
      "\n",
      "Model Report Test\n",
      "AUC Score : 0.936364\n",
      "Accuracy : 0.8728\n",
      "Precision : 0.6122\n",
      "Recall : 0.909091\n"
     ]
    },
    {
     "name": "stderr",
     "output_type": "stream",
     "text": [
      "Downloading artifacts: 100%|██████████████████| 7/7 [00:00<00:00, 1027.51it/s]\n"
     ]
    },
    {
     "name": "stdout",
     "output_type": "stream",
     "text": [
      "870\n",
      "\n",
      "Model Report Train\n",
      "AUC Score : 0.985120\n",
      "Accuracy : 0.939\n",
      "Precision : 0.7702\n",
      "Recall : 0.961240\n",
      "\n",
      "Model Report Test\n",
      "AUC Score : 0.936364\n",
      "Accuracy : 0.8728\n",
      "Precision : 0.6122\n",
      "Recall : 0.909091\n"
     ]
    },
    {
     "name": "stderr",
     "output_type": "stream",
     "text": [
      "Downloading artifacts: 100%|██████████████████| 7/7 [00:00<00:00, 1368.26it/s]\n"
     ]
    },
    {
     "name": "stdout",
     "output_type": "stream",
     "text": [
      "880\n",
      "\n",
      "Model Report Train\n",
      "AUC Score : 0.983539\n",
      "Accuracy : 0.9302\n",
      "Precision : 0.7485\n",
      "Recall : 0.945736\n",
      "\n",
      "Model Report Test\n",
      "AUC Score : 0.932035\n",
      "Accuracy : 0.8728\n",
      "Precision : 0.617\n",
      "Recall : 0.878788\n"
     ]
    },
    {
     "name": "stderr",
     "output_type": "stream",
     "text": [
      "Downloading artifacts: 100%|███████████████████| 7/7 [00:00<00:00, 524.58it/s]\n"
     ]
    },
    {
     "name": "stdout",
     "output_type": "stream",
     "text": [
      "890\n",
      "\n",
      "Model Report Train\n",
      "AUC Score : 0.983539\n",
      "Accuracy : 0.9302\n",
      "Precision : 0.7485\n",
      "Recall : 0.945736\n",
      "\n",
      "Model Report Test\n",
      "AUC Score : 0.932035\n",
      "Accuracy : 0.8728\n",
      "Precision : 0.617\n",
      "Recall : 0.878788\n"
     ]
    },
    {
     "name": "stderr",
     "output_type": "stream",
     "text": [
      "Downloading artifacts: 100%|███████████████████| 7/7 [00:00<00:00, 667.58it/s]\n"
     ]
    },
    {
     "name": "stdout",
     "output_type": "stream",
     "text": [
      "900\n",
      "\n",
      "Model Report Train\n",
      "AUC Score : 0.983539\n",
      "Accuracy : 0.9302\n",
      "Precision : 0.7485\n",
      "Recall : 0.945736\n",
      "\n",
      "Model Report Test\n",
      "AUC Score : 0.932035\n",
      "Accuracy : 0.8728\n",
      "Precision : 0.617\n",
      "Recall : 0.878788\n"
     ]
    },
    {
     "name": "stderr",
     "output_type": "stream",
     "text": [
      "Downloading artifacts: 100%|███████████████████| 7/7 [00:00<00:00, 822.74it/s]\n"
     ]
    },
    {
     "name": "stdout",
     "output_type": "stream",
     "text": [
      "910\n",
      "\n",
      "Model Report Train\n",
      "AUC Score : 0.984357\n",
      "Accuracy : 0.9317\n",
      "Precision : 0.75\n",
      "Recall : 0.953488\n",
      "\n",
      "Model Report Test\n",
      "AUC Score : 0.924026\n",
      "Accuracy : 0.8555\n",
      "Precision : 0.587\n",
      "Recall : 0.818182\n"
     ]
    },
    {
     "name": "stderr",
     "output_type": "stream",
     "text": [
      "Downloading artifacts: 100%|███████████████████| 7/7 [00:00<00:00, 681.84it/s]\n"
     ]
    },
    {
     "name": "stdout",
     "output_type": "stream",
     "text": [
      "920\n",
      "\n",
      "Model Report Train\n",
      "AUC Score : 0.984357\n",
      "Accuracy : 0.9317\n",
      "Precision : 0.75\n",
      "Recall : 0.953488\n",
      "\n",
      "Model Report Test\n",
      "AUC Score : 0.924026\n",
      "Accuracy : 0.8555\n",
      "Precision : 0.587\n",
      "Recall : 0.818182\n"
     ]
    },
    {
     "name": "stderr",
     "output_type": "stream",
     "text": [
      "Downloading artifacts: 100%|███████████████████| 7/7 [00:00<00:00, 815.22it/s]\n"
     ]
    },
    {
     "name": "stdout",
     "output_type": "stream",
     "text": [
      "930\n",
      "\n",
      "Model Report Train\n",
      "AUC Score : 0.984357\n",
      "Accuracy : 0.9317\n",
      "Precision : 0.75\n",
      "Recall : 0.953488\n",
      "\n",
      "Model Report Test\n",
      "AUC Score : 0.924026\n",
      "Accuracy : 0.8555\n",
      "Precision : 0.587\n",
      "Recall : 0.818182\n"
     ]
    },
    {
     "name": "stderr",
     "output_type": "stream",
     "text": [
      "Downloading artifacts: 100%|███████████████████| 7/7 [00:00<00:00, 784.57it/s]\n"
     ]
    },
    {
     "name": "stdout",
     "output_type": "stream",
     "text": [
      "940\n",
      "\n",
      "Model Report Train\n",
      "AUC Score : 0.985407\n",
      "Accuracy : 0.9347\n",
      "Precision : 0.7515\n",
      "Recall : 0.976923\n",
      "\n",
      "Model Report Test\n",
      "AUC Score : 0.933117\n",
      "Accuracy : 0.8844\n",
      "Precision : 0.6327\n",
      "Recall : 0.939394\n"
     ]
    },
    {
     "name": "stderr",
     "output_type": "stream",
     "text": [
      "Downloading artifacts: 100%|███████████████████| 7/7 [00:00<00:00, 894.04it/s]\n"
     ]
    },
    {
     "name": "stdout",
     "output_type": "stream",
     "text": [
      "950\n",
      "\n",
      "Model Report Train\n",
      "AUC Score : 0.985407\n",
      "Accuracy : 0.9347\n",
      "Precision : 0.7515\n",
      "Recall : 0.976923\n",
      "\n",
      "Model Report Test\n",
      "AUC Score : 0.933117\n",
      "Accuracy : 0.8844\n",
      "Precision : 0.6327\n",
      "Recall : 0.939394\n"
     ]
    },
    {
     "name": "stderr",
     "output_type": "stream",
     "text": [
      "Downloading artifacts: 100%|██████████████████| 7/7 [00:00<00:00, 1110.95it/s]\n"
     ]
    },
    {
     "name": "stdout",
     "output_type": "stream",
     "text": [
      "960\n",
      "\n",
      "Model Report Train\n",
      "AUC Score : 0.986060\n",
      "Accuracy : 0.939\n",
      "Precision : 0.7683\n",
      "Recall : 0.969231\n",
      "\n",
      "Model Report Test\n",
      "AUC Score : 0.939177\n",
      "Accuracy : 0.8844\n",
      "Precision : 0.6327\n",
      "Recall : 0.939394\n"
     ]
    },
    {
     "name": "stderr",
     "output_type": "stream",
     "text": [
      "Downloading artifacts: 100%|███████████████████| 7/7 [00:00<00:00, 867.00it/s]\n"
     ]
    },
    {
     "name": "stdout",
     "output_type": "stream",
     "text": [
      "970\n",
      "\n",
      "Model Report Train\n",
      "AUC Score : 0.987212\n",
      "Accuracy : 0.9348\n",
      "Precision : 0.7485\n",
      "Recall : 0.984615\n",
      "\n",
      "Model Report Test\n",
      "AUC Score : 0.936364\n",
      "Accuracy : 0.8902\n",
      "Precision : 0.6591\n",
      "Recall : 0.878788\n"
     ]
    },
    {
     "name": "stderr",
     "output_type": "stream",
     "text": [
      "Downloading artifacts: 100%|███████████████████| 7/7 [00:00<00:00, 803.26it/s]\n"
     ]
    },
    {
     "name": "stdout",
     "output_type": "stream",
     "text": [
      "980\n",
      "\n",
      "Model Report Train\n",
      "AUC Score : 0.987212\n",
      "Accuracy : 0.9348\n",
      "Precision : 0.7485\n",
      "Recall : 0.984615\n",
      "\n",
      "Model Report Test\n",
      "AUC Score : 0.936364\n",
      "Accuracy : 0.8902\n",
      "Precision : 0.6591\n",
      "Recall : 0.878788\n"
     ]
    },
    {
     "name": "stderr",
     "output_type": "stream",
     "text": [
      "Downloading artifacts: 100%|███████████████████| 7/7 [00:00<00:00, 580.53it/s]\n"
     ]
    },
    {
     "name": "stdout",
     "output_type": "stream",
     "text": [
      "990\n",
      "\n",
      "Model Report Train\n",
      "AUC Score : 0.987212\n",
      "Accuracy : 0.9348\n",
      "Precision : 0.7485\n",
      "Recall : 0.984615\n",
      "\n",
      "Model Report Test\n",
      "AUC Score : 0.936364\n",
      "Accuracy : 0.8902\n",
      "Precision : 0.6591\n",
      "Recall : 0.878788\n"
     ]
    },
    {
     "name": "stderr",
     "output_type": "stream",
     "text": [
      "Downloading artifacts: 100%|███████████████████| 7/7 [00:00<00:00, 699.55it/s]\n"
     ]
    },
    {
     "name": "stdout",
     "output_type": "stream",
     "text": [
      "1000\n",
      "\n",
      "Model Report Train\n",
      "AUC Score : 0.987212\n",
      "Accuracy : 0.9348\n",
      "Precision : 0.7485\n",
      "Recall : 0.984615\n",
      "\n",
      "Model Report Test\n",
      "AUC Score : 0.936364\n",
      "Accuracy : 0.8902\n",
      "Precision : 0.6591\n",
      "Recall : 0.878788\n"
     ]
    },
    {
     "name": "stderr",
     "output_type": "stream",
     "text": [
      "Downloading artifacts: 100%|███████████████████| 7/7 [00:00<00:00, 644.48it/s]\n"
     ]
    },
    {
     "name": "stdout",
     "output_type": "stream",
     "text": [
      "1010\n",
      "\n",
      "Model Report Train\n",
      "AUC Score : 0.987212\n",
      "Accuracy : 0.9348\n",
      "Precision : 0.7485\n",
      "Recall : 0.984615\n",
      "\n",
      "Model Report Test\n",
      "AUC Score : 0.936364\n",
      "Accuracy : 0.8902\n",
      "Precision : 0.6591\n",
      "Recall : 0.878788\n"
     ]
    },
    {
     "name": "stderr",
     "output_type": "stream",
     "text": [
      "Downloading artifacts: 100%|███████████████████| 7/7 [00:00<00:00, 441.68it/s]\n"
     ]
    },
    {
     "name": "stdout",
     "output_type": "stream",
     "text": [
      "1020\n",
      "\n",
      "Model Report Train\n",
      "AUC Score : 0.987212\n",
      "Accuracy : 0.9348\n",
      "Precision : 0.7485\n",
      "Recall : 0.984615\n",
      "\n",
      "Model Report Test\n",
      "AUC Score : 0.936364\n",
      "Accuracy : 0.8902\n",
      "Precision : 0.6591\n",
      "Recall : 0.878788\n"
     ]
    },
    {
     "name": "stderr",
     "output_type": "stream",
     "text": [
      "Downloading artifacts: 100%|███████████████████| 7/7 [00:00<00:00, 673.37it/s]\n"
     ]
    },
    {
     "name": "stdout",
     "output_type": "stream",
     "text": [
      "1030\n",
      "\n",
      "Model Report Train\n",
      "AUC Score : 0.987212\n",
      "Accuracy : 0.9348\n",
      "Precision : 0.7485\n",
      "Recall : 0.984615\n",
      "\n",
      "Model Report Test\n",
      "AUC Score : 0.936364\n",
      "Accuracy : 0.8902\n",
      "Precision : 0.6591\n",
      "Recall : 0.878788\n"
     ]
    },
    {
     "name": "stderr",
     "output_type": "stream",
     "text": [
      "Downloading artifacts: 100%|██████████████████| 7/7 [00:00<00:00, 1253.05it/s]\n"
     ]
    },
    {
     "name": "stdout",
     "output_type": "stream",
     "text": [
      "1040\n",
      "\n",
      "Model Report Train\n",
      "AUC Score : 0.987212\n",
      "Accuracy : 0.9348\n",
      "Precision : 0.7485\n",
      "Recall : 0.984615\n",
      "\n",
      "Model Report Test\n",
      "AUC Score : 0.936364\n",
      "Accuracy : 0.8902\n",
      "Precision : 0.6591\n",
      "Recall : 0.878788\n"
     ]
    },
    {
     "name": "stderr",
     "output_type": "stream",
     "text": [
      "Downloading artifacts: 100%|███████████████████| 7/7 [00:00<00:00, 950.87it/s]\n"
     ]
    },
    {
     "name": "stdout",
     "output_type": "stream",
     "text": [
      "1050\n",
      "\n",
      "Model Report Train\n",
      "AUC Score : 0.987212\n",
      "Accuracy : 0.9348\n",
      "Precision : 0.7485\n",
      "Recall : 0.984615\n",
      "\n",
      "Model Report Test\n",
      "AUC Score : 0.936364\n",
      "Accuracy : 0.8902\n",
      "Precision : 0.6591\n",
      "Recall : 0.878788\n"
     ]
    },
    {
     "name": "stderr",
     "output_type": "stream",
     "text": [
      "Downloading artifacts: 100%|███████████████████| 7/7 [00:00<00:00, 808.82it/s]\n"
     ]
    },
    {
     "name": "stdout",
     "output_type": "stream",
     "text": [
      "1060\n",
      "\n",
      "Model Report Train\n",
      "AUC Score : 0.987212\n",
      "Accuracy : 0.9348\n",
      "Precision : 0.7485\n",
      "Recall : 0.984615\n",
      "\n",
      "Model Report Test\n",
      "AUC Score : 0.936364\n",
      "Accuracy : 0.8902\n",
      "Precision : 0.6591\n",
      "Recall : 0.878788\n"
     ]
    },
    {
     "name": "stderr",
     "output_type": "stream",
     "text": [
      "Downloading artifacts: 100%|███████████████████| 7/7 [00:00<00:00, 955.17it/s]\n"
     ]
    },
    {
     "name": "stdout",
     "output_type": "stream",
     "text": [
      "1070\n",
      "\n",
      "Model Report Train\n",
      "AUC Score : 0.987212\n",
      "Accuracy : 0.9348\n",
      "Precision : 0.7485\n",
      "Recall : 0.984615\n",
      "\n",
      "Model Report Test\n",
      "AUC Score : 0.936364\n",
      "Accuracy : 0.8902\n",
      "Precision : 0.6591\n",
      "Recall : 0.878788\n"
     ]
    },
    {
     "name": "stderr",
     "output_type": "stream",
     "text": [
      "Downloading artifacts: 100%|███████████████████| 7/7 [00:00<00:00, 732.98it/s]\n"
     ]
    },
    {
     "name": "stdout",
     "output_type": "stream",
     "text": [
      "1080\n",
      "\n",
      "Model Report Train\n",
      "AUC Score : 0.987212\n",
      "Accuracy : 0.9348\n",
      "Precision : 0.7485\n",
      "Recall : 0.984615\n",
      "\n",
      "Model Report Test\n",
      "AUC Score : 0.936364\n",
      "Accuracy : 0.8902\n",
      "Precision : 0.6591\n",
      "Recall : 0.878788\n"
     ]
    },
    {
     "name": "stderr",
     "output_type": "stream",
     "text": [
      "Downloading artifacts: 100%|██████████████████| 7/7 [00:00<00:00, 1270.23it/s]\n"
     ]
    },
    {
     "name": "stdout",
     "output_type": "stream",
     "text": [
      "1090\n",
      "\n",
      "Model Report Train\n",
      "AUC Score : 0.987212\n",
      "Accuracy : 0.9348\n",
      "Precision : 0.7485\n",
      "Recall : 0.984615\n",
      "\n",
      "Model Report Test\n",
      "AUC Score : 0.936364\n",
      "Accuracy : 0.8902\n",
      "Precision : 0.6591\n",
      "Recall : 0.878788\n"
     ]
    },
    {
     "name": "stderr",
     "output_type": "stream",
     "text": [
      "Downloading artifacts: 100%|███████████████████| 7/7 [00:00<00:00, 535.45it/s]\n"
     ]
    },
    {
     "name": "stdout",
     "output_type": "stream",
     "text": [
      "1100\n",
      "\n",
      "Model Report Train\n",
      "AUC Score : 0.987212\n",
      "Accuracy : 0.9348\n",
      "Precision : 0.7485\n",
      "Recall : 0.984615\n",
      "\n",
      "Model Report Test\n",
      "AUC Score : 0.936364\n",
      "Accuracy : 0.8902\n",
      "Precision : 0.6591\n",
      "Recall : 0.878788\n"
     ]
    },
    {
     "name": "stderr",
     "output_type": "stream",
     "text": [
      "Downloading artifacts: 100%|███████████████████| 7/7 [00:00<00:00, 756.53it/s]\n"
     ]
    },
    {
     "name": "stdout",
     "output_type": "stream",
     "text": [
      "1110\n",
      "\n",
      "Model Report Train\n",
      "AUC Score : 0.987212\n",
      "Accuracy : 0.9348\n",
      "Precision : 0.7485\n",
      "Recall : 0.984615\n",
      "\n",
      "Model Report Test\n",
      "AUC Score : 0.936364\n",
      "Accuracy : 0.8902\n",
      "Precision : 0.6591\n",
      "Recall : 0.878788\n"
     ]
    },
    {
     "name": "stderr",
     "output_type": "stream",
     "text": [
      "Downloading artifacts: 100%|██████████████████| 7/7 [00:00<00:00, 1180.16it/s]\n"
     ]
    },
    {
     "name": "stdout",
     "output_type": "stream",
     "text": [
      "1120\n",
      "\n",
      "Model Report Train\n",
      "AUC Score : 0.987212\n",
      "Accuracy : 0.9348\n",
      "Precision : 0.7485\n",
      "Recall : 0.984615\n",
      "\n",
      "Model Report Test\n",
      "AUC Score : 0.936364\n",
      "Accuracy : 0.8902\n",
      "Precision : 0.6591\n",
      "Recall : 0.878788\n"
     ]
    },
    {
     "name": "stderr",
     "output_type": "stream",
     "text": [
      "Downloading artifacts: 100%|███████████████████| 7/7 [00:00<00:00, 485.40it/s]\n"
     ]
    },
    {
     "name": "stdout",
     "output_type": "stream",
     "text": [
      "1130\n",
      "\n",
      "Model Report Train\n",
      "AUC Score : 0.987212\n",
      "Accuracy : 0.9348\n",
      "Precision : 0.7485\n",
      "Recall : 0.984615\n",
      "\n",
      "Model Report Test\n",
      "AUC Score : 0.936364\n",
      "Accuracy : 0.8902\n",
      "Precision : 0.6591\n",
      "Recall : 0.878788\n"
     ]
    },
    {
     "name": "stderr",
     "output_type": "stream",
     "text": [
      "Downloading artifacts: 100%|██████████████████| 7/7 [00:00<00:00, 1262.10it/s]\n"
     ]
    },
    {
     "name": "stdout",
     "output_type": "stream",
     "text": [
      "1140\n",
      "\n",
      "Model Report Train\n",
      "AUC Score : 0.987212\n",
      "Accuracy : 0.9348\n",
      "Precision : 0.7485\n",
      "Recall : 0.984615\n",
      "\n",
      "Model Report Test\n",
      "AUC Score : 0.936364\n",
      "Accuracy : 0.8902\n",
      "Precision : 0.6591\n",
      "Recall : 0.878788\n"
     ]
    },
    {
     "name": "stderr",
     "output_type": "stream",
     "text": [
      "Downloading artifacts: 100%|██████████████████| 7/7 [00:00<00:00, 1021.90it/s]\n"
     ]
    },
    {
     "name": "stdout",
     "output_type": "stream",
     "text": [
      "1150\n",
      "\n",
      "Model Report Train\n",
      "AUC Score : 0.987212\n",
      "Accuracy : 0.9348\n",
      "Precision : 0.7485\n",
      "Recall : 0.984615\n",
      "\n",
      "Model Report Test\n",
      "AUC Score : 0.936364\n",
      "Accuracy : 0.8902\n",
      "Precision : 0.6591\n",
      "Recall : 0.878788\n"
     ]
    },
    {
     "name": "stderr",
     "output_type": "stream",
     "text": [
      "Downloading artifacts: 100%|██████████████████| 7/7 [00:00<00:00, 1124.44it/s]\n"
     ]
    },
    {
     "name": "stdout",
     "output_type": "stream",
     "text": [
      "1160\n",
      "\n",
      "Model Report Train\n",
      "AUC Score : 0.987212\n",
      "Accuracy : 0.9348\n",
      "Precision : 0.7485\n",
      "Recall : 0.984615\n",
      "\n",
      "Model Report Test\n",
      "AUC Score : 0.936364\n",
      "Accuracy : 0.8902\n",
      "Precision : 0.6591\n",
      "Recall : 0.878788\n"
     ]
    },
    {
     "name": "stderr",
     "output_type": "stream",
     "text": [
      "Downloading artifacts: 100%|███████████████████| 7/7 [00:00<00:00, 519.09it/s]\n"
     ]
    },
    {
     "name": "stdout",
     "output_type": "stream",
     "text": [
      "1170\n",
      "\n",
      "Model Report Train\n",
      "AUC Score : 0.987212\n",
      "Accuracy : 0.9348\n",
      "Precision : 0.7485\n",
      "Recall : 0.984615\n",
      "\n",
      "Model Report Test\n",
      "AUC Score : 0.936364\n",
      "Accuracy : 0.8902\n",
      "Precision : 0.6591\n",
      "Recall : 0.878788\n"
     ]
    },
    {
     "name": "stderr",
     "output_type": "stream",
     "text": [
      "Downloading artifacts: 100%|███████████████████| 7/7 [00:00<00:00, 839.24it/s]\n"
     ]
    },
    {
     "name": "stdout",
     "output_type": "stream",
     "text": [
      "1180\n",
      "\n",
      "Model Report Train\n",
      "AUC Score : 0.987212\n",
      "Accuracy : 0.9348\n",
      "Precision : 0.7485\n",
      "Recall : 0.984615\n",
      "\n",
      "Model Report Test\n",
      "AUC Score : 0.936364\n",
      "Accuracy : 0.8902\n",
      "Precision : 0.6591\n",
      "Recall : 0.878788\n"
     ]
    },
    {
     "name": "stderr",
     "output_type": "stream",
     "text": [
      "Downloading artifacts: 100%|███████████████████| 7/7 [00:00<00:00, 756.35it/s]\n"
     ]
    },
    {
     "name": "stdout",
     "output_type": "stream",
     "text": [
      "1190\n",
      "\n",
      "Model Report Train\n",
      "AUC Score : 0.987212\n",
      "Accuracy : 0.9348\n",
      "Precision : 0.7485\n",
      "Recall : 0.984615\n",
      "\n",
      "Model Report Test\n",
      "AUC Score : 0.936364\n",
      "Accuracy : 0.8902\n",
      "Precision : 0.6591\n",
      "Recall : 0.878788\n"
     ]
    },
    {
     "name": "stderr",
     "output_type": "stream",
     "text": [
      "Downloading artifacts: 100%|███████████████████| 7/7 [00:00<00:00, 658.45it/s]\n"
     ]
    },
    {
     "name": "stdout",
     "output_type": "stream",
     "text": [
      "1200\n",
      "\n",
      "Model Report Train\n",
      "AUC Score : 0.987212\n",
      "Accuracy : 0.9348\n",
      "Precision : 0.7485\n",
      "Recall : 0.984615\n",
      "\n",
      "Model Report Test\n",
      "AUC Score : 0.936364\n",
      "Accuracy : 0.8902\n",
      "Precision : 0.6591\n",
      "Recall : 0.878788\n"
     ]
    },
    {
     "name": "stderr",
     "output_type": "stream",
     "text": [
      "Downloading artifacts: 100%|███████████████████| 7/7 [00:00<00:00, 836.23it/s]\n"
     ]
    },
    {
     "name": "stdout",
     "output_type": "stream",
     "text": [
      "1210\n",
      "\n",
      "Model Report Train\n",
      "AUC Score : 0.987212\n",
      "Accuracy : 0.9348\n",
      "Precision : 0.7485\n",
      "Recall : 0.984615\n",
      "\n",
      "Model Report Test\n",
      "AUC Score : 0.936364\n",
      "Accuracy : 0.8902\n",
      "Precision : 0.6591\n",
      "Recall : 0.878788\n"
     ]
    },
    {
     "name": "stderr",
     "output_type": "stream",
     "text": [
      "Downloading artifacts: 100%|██████████████████| 7/7 [00:00<00:00, 1281.32it/s]\n"
     ]
    },
    {
     "name": "stdout",
     "output_type": "stream",
     "text": [
      "1220\n",
      "\n",
      "Model Report Train\n",
      "AUC Score : 0.987212\n",
      "Accuracy : 0.9348\n",
      "Precision : 0.7485\n",
      "Recall : 0.984615\n",
      "\n",
      "Model Report Test\n",
      "AUC Score : 0.936364\n",
      "Accuracy : 0.8902\n",
      "Precision : 0.6591\n",
      "Recall : 0.878788\n"
     ]
    },
    {
     "name": "stderr",
     "output_type": "stream",
     "text": [
      "Downloading artifacts: 100%|██████████████████| 7/7 [00:00<00:00, 1387.07it/s]\n"
     ]
    },
    {
     "name": "stdout",
     "output_type": "stream",
     "text": [
      "1230\n",
      "\n",
      "Model Report Train\n",
      "AUC Score : 0.987212\n",
      "Accuracy : 0.9348\n",
      "Precision : 0.7485\n",
      "Recall : 0.984615\n",
      "\n",
      "Model Report Test\n",
      "AUC Score : 0.936364\n",
      "Accuracy : 0.8902\n",
      "Precision : 0.6591\n",
      "Recall : 0.878788\n"
     ]
    },
    {
     "name": "stderr",
     "output_type": "stream",
     "text": [
      "Downloading artifacts: 100%|██████████████████| 7/7 [00:00<00:00, 1162.82it/s]\n"
     ]
    },
    {
     "name": "stdout",
     "output_type": "stream",
     "text": [
      "1240\n",
      "\n",
      "Model Report Train\n",
      "AUC Score : 0.987212\n",
      "Accuracy : 0.9348\n",
      "Precision : 0.7485\n",
      "Recall : 0.984615\n",
      "\n",
      "Model Report Test\n",
      "AUC Score : 0.936364\n",
      "Accuracy : 0.8902\n",
      "Precision : 0.6591\n",
      "Recall : 0.878788\n"
     ]
    },
    {
     "name": "stderr",
     "output_type": "stream",
     "text": [
      "Downloading artifacts: 100%|██████████████████| 7/7 [00:00<00:00, 1220.44it/s]\n"
     ]
    },
    {
     "name": "stdout",
     "output_type": "stream",
     "text": [
      "1250\n",
      "\n",
      "Model Report Train\n",
      "AUC Score : 0.982410\n",
      "Accuracy : 0.9307\n",
      "Precision : 0.7399\n",
      "Recall : 0.977099\n",
      "\n",
      "Model Report Test\n",
      "AUC Score : 0.916183\n",
      "Accuracy : 0.8851\n",
      "Precision : 0.6444\n",
      "Recall : 0.878788\n"
     ]
    },
    {
     "name": "stderr",
     "output_type": "stream",
     "text": [
      "Downloading artifacts: 100%|███████████████████| 7/7 [00:00<00:00, 941.81it/s]\n"
     ]
    },
    {
     "name": "stdout",
     "output_type": "stream",
     "text": [
      "1260\n",
      "\n",
      "Model Report Train\n",
      "AUC Score : 0.985207\n",
      "Accuracy : 0.9444\n",
      "Precision : 0.7866\n",
      "Recall : 0.969925\n",
      "\n",
      "Model Report Test\n",
      "AUC Score : 0.918415\n",
      "Accuracy : 0.8864\n",
      "Precision : 0.6512\n",
      "Recall : 0.848485\n"
     ]
    },
    {
     "name": "stderr",
     "output_type": "stream",
     "text": [
      "Downloading artifacts: 100%|██████████████████| 7/7 [00:00<00:00, 1156.14it/s]\n"
     ]
    },
    {
     "name": "stdout",
     "output_type": "stream",
     "text": [
      "1270\n",
      "\n",
      "Model Report Train\n",
      "AUC Score : 0.987281\n",
      "Accuracy : 0.9307\n",
      "Precision : 0.7471\n",
      "Recall : 0.954887\n",
      "\n",
      "Model Report Test\n",
      "AUC Score : 0.882786\n",
      "Accuracy : 0.8588\n",
      "Precision : 0.6\n",
      "Recall : 0.727273\n"
     ]
    },
    {
     "name": "stderr",
     "output_type": "stream",
     "text": [
      "Downloading artifacts: 100%|███████████████████| 7/7 [00:00<00:00, 710.54it/s]\n"
     ]
    },
    {
     "name": "stdout",
     "output_type": "stream",
     "text": [
      "1280\n",
      "\n",
      "Model Report Train\n",
      "AUC Score : 0.985904\n",
      "Accuracy : 0.9315\n",
      "Precision : 0.7544\n",
      "Recall : 0.948529\n",
      "\n",
      "Model Report Test\n",
      "AUC Score : 0.920081\n",
      "Accuracy : 0.8659\n",
      "Precision : 0.6042\n",
      "Recall : 0.852941\n"
     ]
    },
    {
     "name": "stderr",
     "output_type": "stream",
     "text": [
      "Downloading artifacts: 100%|██████████████████| 7/7 [00:00<00:00, 1304.26it/s]\n"
     ]
    },
    {
     "name": "stdout",
     "output_type": "stream",
     "text": [
      "1290\n",
      "\n",
      "Model Report Train\n",
      "AUC Score : 0.987733\n",
      "Accuracy : 0.9376\n",
      "Precision : 0.7791\n",
      "Recall : 0.933824\n",
      "\n",
      "Model Report Test\n",
      "AUC Score : 0.916166\n",
      "Accuracy : 0.8619\n",
      "Precision : 0.6098\n",
      "Recall : 0.735294\n"
     ]
    },
    {
     "name": "stderr",
     "output_type": "stream",
     "text": [
      "Downloading artifacts: 100%|███████████████████| 7/7 [00:00<00:00, 756.28it/s]\n"
     ]
    },
    {
     "name": "stdout",
     "output_type": "stream",
     "text": [
      "1300\n",
      "\n",
      "Model Report Train\n",
      "AUC Score : 0.985111\n",
      "Accuracy : 0.9382\n",
      "Precision : 0.7738\n",
      "Recall : 0.948905\n",
      "\n",
      "Model Report Test\n",
      "AUC Score : 0.890154\n",
      "Accuracy : 0.8525\n",
      "Precision : 0.587\n",
      "Recall : 0.771429\n"
     ]
    },
    {
     "name": "stderr",
     "output_type": "stream",
     "text": [
      "Downloading artifacts: 100%|███████████████████| 7/7 [00:00<00:00, 501.19it/s]\n"
     ]
    },
    {
     "name": "stdout",
     "output_type": "stream",
     "text": [
      "1310\n",
      "\n",
      "Model Report Train\n",
      "AUC Score : 0.983356\n",
      "Accuracy : 0.9239\n",
      "Precision : 0.7158\n",
      "Recall : 0.985507\n",
      "\n",
      "Model Report Test\n",
      "AUC Score : 0.934216\n",
      "Accuracy : 0.875\n",
      "Precision : 0.6222\n",
      "Recall : 0.823529\n"
     ]
    },
    {
     "name": "stderr",
     "output_type": "stream",
     "text": [
      "Downloading artifacts: 100%|███████████████████| 7/7 [00:00<00:00, 732.63it/s]\n"
     ]
    },
    {
     "name": "stdout",
     "output_type": "stream",
     "text": [
      "1320\n",
      "\n",
      "Model Report Train\n",
      "AUC Score : 0.977942\n",
      "Accuracy : 0.9194\n",
      "Precision : 0.7135\n",
      "Recall : 0.949640\n",
      "\n",
      "Model Report Test\n",
      "AUC Score : 0.935056\n",
      "Accuracy : 0.877\n",
      "Precision : 0.6304\n",
      "Recall : 0.828571\n"
     ]
    },
    {
     "name": "stderr",
     "output_type": "stream",
     "text": [
      "Downloading artifacts: 100%|███████████████████| 7/7 [00:00<00:00, 658.39it/s]\n"
     ]
    },
    {
     "name": "stdout",
     "output_type": "stream",
     "text": [
      "1330\n",
      "\n",
      "Model Report Train\n",
      "AUC Score : 0.981810\n",
      "Accuracy : 0.9335\n",
      "Precision : 0.7528\n",
      "Recall : 0.957143\n",
      "\n",
      "Model Report Test\n",
      "AUC Score : 0.918487\n",
      "Accuracy : 0.8883\n",
      "Precision : 0.6591\n",
      "Recall : 0.828571\n"
     ]
    },
    {
     "name": "stderr",
     "output_type": "stream",
     "text": [
      "Downloading artifacts: 100%|███████████████████| 7/7 [00:00<00:00, 744.41it/s]\n"
     ]
    },
    {
     "name": "stdout",
     "output_type": "stream",
     "text": [
      "1340\n",
      "\n",
      "Model Report Train\n",
      "AUC Score : 0.978746\n",
      "Accuracy : 0.9272\n",
      "Precision : 0.7416\n",
      "Recall : 0.936170\n",
      "\n",
      "Model Report Test\n",
      "AUC Score : 0.923594\n",
      "Accuracy : 0.8684\n",
      "Precision : 0.6042\n",
      "Recall : 0.828571\n"
     ]
    },
    {
     "name": "stderr",
     "output_type": "stream",
     "text": [
      "Downloading artifacts: 100%|███████████████████| 7/7 [00:00<00:00, 746.94it/s]\n"
     ]
    },
    {
     "name": "stdout",
     "output_type": "stream",
     "text": [
      "1350\n",
      "\n",
      "Model Report Train\n",
      "AUC Score : 0.983950\n",
      "Accuracy : 0.9265\n",
      "Precision : 0.7389\n",
      "Recall : 0.936620\n",
      "\n",
      "Model Report Test\n",
      "AUC Score : 0.885348\n",
      "Accuracy : 0.8482\n",
      "Precision : 0.5714\n",
      "Recall : 0.685714\n"
     ]
    },
    {
     "name": "stderr",
     "output_type": "stream",
     "text": [
      "Downloading artifacts: 100%|███████████████████| 7/7 [00:00<00:00, 814.72it/s]\n"
     ]
    },
    {
     "name": "stdout",
     "output_type": "stream",
     "text": [
      "1360\n",
      "\n",
      "Model Report Train\n",
      "AUC Score : 0.985025\n",
      "Accuracy : 0.9363\n",
      "Precision : 0.7527\n",
      "Recall : 0.979021\n",
      "\n",
      "Model Report Test\n",
      "AUC Score : 0.887739\n",
      "Accuracy : 0.8549\n",
      "Precision : 0.6\n",
      "Recall : 0.666667\n"
     ]
    },
    {
     "name": "stderr",
     "output_type": "stream",
     "text": [
      "Downloading artifacts: 100%|███████████████████| 7/7 [00:00<00:00, 895.48it/s]\n"
     ]
    },
    {
     "name": "stdout",
     "output_type": "stream",
     "text": [
      "1370\n",
      "\n",
      "Model Report Train\n",
      "AUC Score : 0.985249\n",
      "Accuracy : 0.9306\n",
      "Precision : 0.7306\n",
      "Recall : 0.986014\n",
      "\n",
      "Model Report Test\n",
      "AUC Score : 0.912124\n",
      "Accuracy : 0.8821\n",
      "Precision : 0.6444\n",
      "Recall : 0.805556\n"
     ]
    },
    {
     "name": "stderr",
     "output_type": "stream",
     "text": [
      "Downloading artifacts: 100%|███████████████████| 7/7 [00:00<00:00, 730.32it/s]\n"
     ]
    },
    {
     "name": "stdout",
     "output_type": "stream",
     "text": [
      "1380\n",
      "\n",
      "Model Report Train\n",
      "AUC Score : 0.982478\n",
      "Accuracy : 0.9223\n",
      "Precision : 0.7283\n",
      "Recall : 0.924138\n",
      "\n",
      "Model Report Test\n",
      "AUC Score : 0.916667\n",
      "Accuracy : 0.8832\n",
      "Precision : 0.6383\n",
      "Recall : 0.833333\n"
     ]
    },
    {
     "name": "stderr",
     "output_type": "stream",
     "text": [
      "Downloading artifacts: 100%|███████████████████| 7/7 [00:00<00:00, 718.68it/s]\n"
     ]
    },
    {
     "name": "stdout",
     "output_type": "stream",
     "text": [
      "1390\n",
      "\n",
      "Model Report Train\n",
      "AUC Score : 0.985127\n",
      "Accuracy : 0.942\n",
      "Precision : 0.7797\n",
      "Recall : 0.951724\n",
      "\n",
      "Model Report Test\n",
      "AUC Score : 0.905249\n",
      "Accuracy : 0.8643\n",
      "Precision : 0.5882\n",
      "Recall : 0.833333\n"
     ]
    },
    {
     "name": "stderr",
     "output_type": "stream",
     "text": [
      "Downloading artifacts: 100%|███████████████████| 7/7 [00:00<00:00, 850.28it/s]\n"
     ]
    },
    {
     "name": "stdout",
     "output_type": "stream",
     "text": [
      "1400\n",
      "\n",
      "Model Report Train\n",
      "AUC Score : 0.982168\n",
      "Accuracy : 0.9311\n",
      "Precision : 0.7459\n",
      "Recall : 0.945205\n",
      "\n",
      "Model Report Test\n",
      "AUC Score : 0.921409\n",
      "Accuracy : 0.88\n",
      "Precision : 0.625\n",
      "Recall : 0.833333\n"
     ]
    },
    {
     "name": "stderr",
     "output_type": "stream",
     "text": [
      "Downloading artifacts: 100%|██████████████████| 7/7 [00:00<00:00, 1339.06it/s]\n"
     ]
    },
    {
     "name": "stdout",
     "output_type": "stream",
     "text": [
      "1410\n",
      "\n",
      "Model Report Train\n",
      "AUC Score : 0.982988\n",
      "Accuracy : 0.932\n",
      "Precision : 0.75\n",
      "Recall : 0.946309\n",
      "\n",
      "Model Report Test\n",
      "AUC Score : 0.910048\n",
      "Accuracy : 0.8473\n",
      "Precision : 0.566\n",
      "Recall : 0.789474\n"
     ]
    },
    {
     "name": "stderr",
     "output_type": "stream",
     "text": [
      "Downloading artifacts: 100%|██████████████████| 7/7 [00:00<00:00, 1128.80it/s]\n"
     ]
    },
    {
     "name": "stdout",
     "output_type": "stream",
     "text": [
      "1420\n",
      "\n",
      "Model Report Train\n",
      "AUC Score : 0.984375\n",
      "Accuracy : 0.94\n",
      "Precision : 0.7656\n",
      "Recall : 0.973510\n",
      "\n",
      "Model Report Test\n",
      "AUC Score : 0.924204\n",
      "Accuracy : 0.8829\n",
      "Precision : 0.6346\n",
      "Recall : 0.868421\n"
     ]
    },
    {
     "name": "stderr",
     "output_type": "stream",
     "text": [
      "Downloading artifacts: 100%|███████████████████| 7/7 [00:00<00:00, 726.18it/s]\n"
     ]
    },
    {
     "name": "stdout",
     "output_type": "stream",
     "text": [
      "1430\n",
      "\n",
      "Model Report Train\n",
      "AUC Score : 0.981645\n",
      "Accuracy : 0.9306\n",
      "Precision : 0.75\n",
      "Recall : 0.941176\n",
      "\n",
      "Model Report Test\n",
      "AUC Score : 0.920583\n",
      "Accuracy : 0.8641\n",
      "Precision : 0.5926\n",
      "Recall : 0.842105\n"
     ]
    },
    {
     "name": "stderr",
     "output_type": "stream",
     "text": [
      "Downloading artifacts: 100%|███████████████████| 7/7 [00:00<00:00, 902.58it/s]\n"
     ]
    },
    {
     "name": "stdout",
     "output_type": "stream",
     "text": [
      "1440\n",
      "\n",
      "Model Report Train\n",
      "AUC Score : 0.983685\n",
      "Accuracy : 0.9246\n",
      "Precision : 0.7241\n",
      "Recall : 0.954545\n",
      "\n",
      "Model Report Test\n",
      "AUC Score : 0.921976\n",
      "Accuracy : 0.8756\n",
      "Precision : 0.62\n",
      "Recall : 0.815789\n"
     ]
    },
    {
     "name": "stderr",
     "output_type": "stream",
     "text": [
      "Downloading artifacts: 100%|███████████████████| 7/7 [00:00<00:00, 799.11it/s]\n"
     ]
    },
    {
     "name": "stdout",
     "output_type": "stream",
     "text": [
      "1450\n",
      "\n",
      "Model Report Train\n",
      "AUC Score : 0.983602\n",
      "Accuracy : 0.935\n",
      "Precision : 0.7487\n",
      "Recall : 0.967532\n",
      "\n",
      "Model Report Test\n",
      "AUC Score : 0.902526\n",
      "Accuracy : 0.8491\n",
      "Precision : 0.5577\n",
      "Recall : 0.763158\n"
     ]
    },
    {
     "name": "stderr",
     "output_type": "stream",
     "text": [
      "Downloading artifacts: 100%|██████████████████| 7/7 [00:00<00:00, 1017.36it/s]\n"
     ]
    },
    {
     "name": "stdout",
     "output_type": "stream",
     "text": [
      "1460\n",
      "\n",
      "Model Report Train\n",
      "AUC Score : 0.982418\n",
      "Accuracy : 0.938\n",
      "Precision : 0.7617\n",
      "Recall : 0.954545\n",
      "\n",
      "Model Report Test\n",
      "AUC Score : 0.912306\n",
      "Accuracy : 0.8738\n",
      "Precision : 0.6122\n",
      "Recall : 0.789474\n"
     ]
    },
    {
     "name": "stderr",
     "output_type": "stream",
     "text": [
      "Downloading artifacts: 100%|███████████████████| 7/7 [00:00<00:00, 762.96it/s]\n"
     ]
    },
    {
     "name": "stdout",
     "output_type": "stream",
     "text": [
      "1470\n",
      "\n",
      "Model Report Train\n",
      "AUC Score : 0.983554\n",
      "Accuracy : 0.9228\n",
      "Precision : 0.7115\n",
      "Recall : 0.954839\n",
      "\n",
      "Model Report Test\n",
      "AUC Score : 0.913193\n",
      "Accuracy : 0.8807\n",
      "Precision : 0.6275\n",
      "Recall : 0.820513\n"
     ]
    },
    {
     "name": "stderr",
     "output_type": "stream",
     "text": [
      "Downloading artifacts: 100%|███████████████████| 7/7 [00:00<00:00, 537.48it/s]\n"
     ]
    },
    {
     "name": "stdout",
     "output_type": "stream",
     "text": [
      "1480\n",
      "\n",
      "Model Report Train\n",
      "AUC Score : 0.980321\n",
      "Accuracy : 0.9289\n",
      "Precision : 0.7246\n",
      "Recall : 0.967742\n",
      "\n",
      "Model Report Test\n",
      "AUC Score : 0.902422\n",
      "Accuracy : 0.863\n",
      "Precision : 0.5849\n",
      "Recall : 0.794872\n"
     ]
    },
    {
     "name": "stderr",
     "output_type": "stream",
     "text": [
      "Downloading artifacts: 100%|███████████████████| 7/7 [00:00<00:00, 866.46it/s]\n"
     ]
    },
    {
     "name": "stdout",
     "output_type": "stream",
     "text": [
      "1490\n",
      "\n",
      "Model Report Train\n",
      "AUC Score : 0.978719\n",
      "Accuracy : 0.9284\n",
      "Precision : 0.7255\n",
      "Recall : 0.954839\n",
      "\n",
      "Model Report Test\n",
      "AUC Score : 0.905325\n",
      "Accuracy : 0.8914\n",
      "Precision : 0.6531\n",
      "Recall : 0.820513\n"
     ]
    },
    {
     "name": "stderr",
     "output_type": "stream",
     "text": [
      "Downloading artifacts: 100%|███████████████████| 7/7 [00:00<00:00, 905.81it/s]\n"
     ]
    },
    {
     "name": "stdout",
     "output_type": "stream",
     "text": [
      "1500\n",
      "\n",
      "Model Report Train\n",
      "AUC Score : 0.982761\n",
      "Accuracy : 0.9279\n",
      "Precision : 0.719\n",
      "Recall : 0.967949\n",
      "\n",
      "Model Report Test\n",
      "AUC Score : 0.911371\n",
      "Accuracy : 0.87\n",
      "Precision : 0.5962\n",
      "Recall : 0.794872\n"
     ]
    },
    {
     "name": "stderr",
     "output_type": "stream",
     "text": [
      "Downloading artifacts: 100%|███████████████████| 7/7 [00:00<00:00, 545.99it/s]\n"
     ]
    },
    {
     "name": "stdout",
     "output_type": "stream",
     "text": [
      "1510\n",
      "\n",
      "Model Report Train\n",
      "AUC Score : 0.977128\n",
      "Accuracy : 0.9232\n",
      "Precision : 0.7122\n",
      "Recall : 0.935897\n",
      "\n",
      "Model Report Test\n",
      "AUC Score : 0.937552\n",
      "Accuracy : 0.88\n",
      "Precision : 0.62\n",
      "Recall : 0.794872\n"
     ]
    },
    {
     "name": "stderr",
     "output_type": "stream",
     "text": [
      "Downloading artifacts: 100%|██████████████████| 7/7 [00:00<00:00, 1277.47it/s]\n"
     ]
    },
    {
     "name": "stdout",
     "output_type": "stream",
     "text": [
      "1520\n",
      "\n",
      "Model Report Train\n",
      "AUC Score : 0.982613\n",
      "Accuracy : 0.935\n",
      "Precision : 0.7379\n",
      "Recall : 0.968153\n",
      "\n",
      "Model Report Test\n",
      "AUC Score : 0.925600\n",
      "Accuracy : 0.8767\n",
      "Precision : 0.6078\n",
      "Recall : 0.794872\n"
     ]
    },
    {
     "name": "stderr",
     "output_type": "stream",
     "text": [
      "Downloading artifacts: 100%|██████████████████| 7/7 [00:00<00:00, 1327.91it/s]\n"
     ]
    },
    {
     "name": "stdout",
     "output_type": "stream",
     "text": [
      "1530\n",
      "\n",
      "Model Report Train\n",
      "AUC Score : 0.977953\n",
      "Accuracy : 0.9232\n",
      "Precision : 0.7056\n",
      "Recall : 0.955696\n",
      "\n",
      "Model Report Test\n",
      "AUC Score : 0.951058\n",
      "Accuracy : 0.9039\n",
      "Precision : 0.6667\n",
      "Recall : 0.900000\n"
     ]
    },
    {
     "name": "stderr",
     "output_type": "stream",
     "text": [
      "Downloading artifacts: 100%|██████████████████| 7/7 [00:00<00:00, 1572.41it/s]\n"
     ]
    },
    {
     "name": "stdout",
     "output_type": "stream",
     "text": [
      "1540\n",
      "\n",
      "Model Report Train\n",
      "AUC Score : 0.977519\n",
      "Accuracy : 0.915\n",
      "Precision : 0.6866\n",
      "Recall : 0.937107\n",
      "\n",
      "Model Report Test\n",
      "AUC Score : 0.947303\n",
      "Accuracy : 0.887\n",
      "Precision : 0.625\n",
      "Recall : 0.875000\n"
     ]
    },
    {
     "name": "stderr",
     "output_type": "stream",
     "text": [
      "Downloading artifacts: 100%|███████████████████| 7/7 [00:00<00:00, 645.06it/s]\n"
     ]
    },
    {
     "name": "stdout",
     "output_type": "stream",
     "text": [
      "1550\n",
      "\n",
      "Model Report Train\n",
      "AUC Score : 0.978221\n",
      "Accuracy : 0.9224\n",
      "Precision : 0.6986\n",
      "Recall : 0.962264\n",
      "\n",
      "Model Report Test\n",
      "AUC Score : 0.952409\n",
      "Accuracy : 0.8664\n",
      "Precision : 0.5738\n",
      "Recall : 0.875000\n"
     ]
    },
    {
     "name": "stderr",
     "output_type": "stream",
     "text": [
      "Downloading artifacts: 100%|███████████████████| 7/7 [00:00<00:00, 651.72it/s]\n"
     ]
    },
    {
     "name": "stdout",
     "output_type": "stream",
     "text": [
      "1560\n",
      "\n",
      "Model Report Train\n",
      "AUC Score : 0.976614\n",
      "Accuracy : 0.9223\n",
      "Precision : 0.6972\n",
      "Recall : 0.955975\n",
      "\n",
      "Model Report Test\n",
      "AUC Score : 0.930577\n",
      "Accuracy : 0.8894\n",
      "Precision : 0.6296\n",
      "Recall : 0.850000\n"
     ]
    },
    {
     "name": "stderr",
     "output_type": "stream",
     "text": [
      "Downloading artifacts: 100%|███████████████████| 7/7 [00:00<00:00, 689.90it/s]\n"
     ]
    },
    {
     "name": "stdout",
     "output_type": "stream",
     "text": [
      "1570\n",
      "\n",
      "Model Report Train\n",
      "AUC Score : 0.977077\n",
      "Accuracy : 0.9283\n",
      "Precision : 0.7163\n",
      "Recall : 0.956522\n",
      "\n",
      "Model Report Test\n",
      "AUC Score : 0.930901\n",
      "Accuracy : 0.8523\n",
      "Precision : 0.541\n",
      "Recall : 0.825000\n"
     ]
    },
    {
     "name": "stderr",
     "output_type": "stream",
     "text": [
      "Downloading artifacts: 100%|███████████████████| 7/7 [00:00<00:00, 749.69it/s]\n"
     ]
    },
    {
     "name": "stdout",
     "output_type": "stream",
     "text": [
      "1580\n",
      "\n",
      "Model Report Train\n",
      "AUC Score : 0.976223\n",
      "Accuracy : 0.9265\n",
      "Precision : 0.7156\n",
      "Recall : 0.937888\n",
      "\n",
      "Model Report Test\n",
      "AUC Score : 0.933081\n",
      "Accuracy : 0.8655\n",
      "Precision : 0.5714\n",
      "Recall : 0.800000\n"
     ]
    },
    {
     "name": "stderr",
     "output_type": "stream",
     "text": [
      "Downloading artifacts: 100%|██████████████████| 7/7 [00:00<00:00, 1412.43it/s]\n"
     ]
    },
    {
     "name": "stdout",
     "output_type": "stream",
     "text": [
      "1590\n",
      "\n",
      "Model Report Train\n",
      "AUC Score : 0.981001\n",
      "Accuracy : 0.9218\n",
      "Precision : 0.6886\n",
      "Recall : 0.975155\n",
      "\n",
      "Model Report Test\n",
      "AUC Score : 0.911562\n",
      "Accuracy : 0.8833\n",
      "Precision : 0.6071\n",
      "Recall : 0.850000\n"
     ]
    },
    {
     "name": "stderr",
     "output_type": "stream",
     "text": [
      "Downloading artifacts: 100%|███████████████████| 7/7 [00:00<00:00, 816.15it/s]\n"
     ]
    },
    {
     "name": "stdout",
     "output_type": "stream",
     "text": [
      "1600\n",
      "\n",
      "Model Report Train\n",
      "AUC Score : 0.977889\n",
      "Accuracy : 0.9194\n",
      "Precision : 0.6822\n",
      "Recall : 0.981707\n",
      "\n",
      "Model Report Test\n",
      "AUC Score : 0.920430\n",
      "Accuracy : 0.893\n",
      "Precision : 0.6415\n",
      "Recall : 0.829268\n"
     ]
    },
    {
     "name": "stderr",
     "output_type": "stream",
     "text": [
      "Downloading artifacts: 100%|███████████████████| 7/7 [00:00<00:00, 982.67it/s]\n"
     ]
    },
    {
     "name": "stdout",
     "output_type": "stream",
     "text": [
      "1610\n",
      "\n",
      "Model Report Train\n",
      "AUC Score : 0.979933\n",
      "Accuracy : 0.9235\n",
      "Precision : 0.7009\n",
      "Recall : 0.951515\n",
      "\n",
      "Model Report Test\n",
      "AUC Score : 0.908030\n",
      "Accuracy : 0.8821\n",
      "Precision : 0.6226\n",
      "Recall : 0.785714\n"
     ]
    },
    {
     "name": "stderr",
     "output_type": "stream",
     "text": [
      "Downloading artifacts: 100%|██████████████████| 7/7 [00:00<00:00, 1026.36it/s]\n"
     ]
    },
    {
     "name": "stdout",
     "output_type": "stream",
     "text": [
      "1620\n",
      "\n",
      "Model Report Train\n",
      "AUC Score : 0.983426\n",
      "Accuracy : 0.9342\n",
      "Precision : 0.7265\n",
      "Recall : 0.975904\n",
      "\n",
      "Model Report Test\n",
      "AUC Score : 0.878978\n",
      "Accuracy : 0.8462\n",
      "Precision : 0.537\n",
      "Recall : 0.690476\n"
     ]
    },
    {
     "name": "stderr",
     "output_type": "stream",
     "text": [
      "Downloading artifacts: 100%|██████████████████| 7/7 [00:00<00:00, 1212.33it/s]\n"
     ]
    },
    {
     "name": "stdout",
     "output_type": "stream",
     "text": [
      "1630\n",
      "\n",
      "Model Report Train\n",
      "AUC Score : 0.977286\n",
      "Accuracy : 0.9204\n",
      "Precision : 0.6835\n",
      "Recall : 0.975904\n",
      "\n",
      "Model Report Test\n",
      "AUC Score : 0.894533\n",
      "Accuracy : 0.8669\n",
      "Precision : 0.5789\n",
      "Recall : 0.785714\n"
     ]
    },
    {
     "name": "stderr",
     "output_type": "stream",
     "text": [
      "Downloading artifacts: 100%|███████████████████| 7/7 [00:00<00:00, 488.33it/s]\n"
     ]
    },
    {
     "name": "stdout",
     "output_type": "stream",
     "text": [
      "1640\n",
      "\n",
      "Model Report Train\n",
      "AUC Score : 0.978973\n",
      "Accuracy : 0.924\n",
      "Precision : 0.6991\n",
      "Recall : 0.951807\n",
      "\n",
      "Model Report Test\n",
      "AUC Score : 0.904418\n",
      "Accuracy : 0.88\n",
      "Precision : 0.62\n",
      "Recall : 0.738095\n"
     ]
    },
    {
     "name": "stderr",
     "output_type": "stream",
     "text": [
      "Downloading artifacts: 100%|███████████████████| 7/7 [00:00<00:00, 931.27it/s]\n"
     ]
    },
    {
     "name": "stdout",
     "output_type": "stream",
     "text": [
      "1650\n",
      "\n",
      "Model Report Train\n",
      "AUC Score : 0.979276\n",
      "Accuracy : 0.9198\n",
      "Precision : 0.6822\n",
      "Recall : 0.964072\n",
      "\n",
      "Model Report Test\n",
      "AUC Score : 0.910517\n",
      "Accuracy : 0.8854\n",
      "Precision : 0.6182\n",
      "Recall : 0.809524\n"
     ]
    },
    {
     "name": "stderr",
     "output_type": "stream",
     "text": [
      "Downloading artifacts: 100%|███████████████████| 7/7 [00:00<00:00, 534.41it/s]\n"
     ]
    },
    {
     "name": "stdout",
     "output_type": "stream",
     "text": [
      "1660\n",
      "\n",
      "Model Report Train\n",
      "AUC Score : 0.978123\n",
      "Accuracy : 0.9224\n",
      "Precision : 0.6926\n",
      "Recall : 0.952381\n",
      "\n",
      "Model Report Test\n",
      "AUC Score : 0.909457\n",
      "Accuracy : 0.8784\n",
      "Precision : 0.6078\n",
      "Recall : 0.738095\n"
     ]
    },
    {
     "name": "stderr",
     "output_type": "stream",
     "text": [
      "Downloading artifacts: 100%|███████████████████| 7/7 [00:00<00:00, 707.78it/s]\n"
     ]
    },
    {
     "name": "stdout",
     "output_type": "stream",
     "text": [
      "1670\n",
      "\n",
      "Model Report Train\n",
      "AUC Score : 0.977308\n",
      "Accuracy : 0.9189\n",
      "Precision : 0.692\n",
      "Recall : 0.917160\n",
      "\n",
      "Model Report Test\n",
      "AUC Score : 0.937583\n",
      "Accuracy : 0.8789\n",
      "Precision : 0.5902\n",
      "Recall : 0.857143\n"
     ]
    },
    {
     "name": "stderr",
     "output_type": "stream",
     "text": [
      "Downloading artifacts: 100%|███████████████████| 7/7 [00:00<00:00, 765.38it/s]\n"
     ]
    },
    {
     "name": "stdout",
     "output_type": "stream",
     "text": [
      "1680\n",
      "\n",
      "Model Report Train\n",
      "AUC Score : 0.978823\n",
      "Accuracy : 0.9195\n",
      "Precision : 0.6762\n",
      "Recall : 0.976331\n",
      "\n",
      "Model Report Test\n",
      "AUC Score : 0.925265\n",
      "Accuracy : 0.8953\n",
      "Precision : 0.6364\n",
      "Recall : 0.833333\n"
     ]
    },
    {
     "name": "stderr",
     "output_type": "stream",
     "text": [
      "Downloading artifacts: 100%|███████████████████| 7/7 [00:00<00:00, 622.42it/s]\n"
     ]
    },
    {
     "name": "stdout",
     "output_type": "stream",
     "text": [
      "1690\n",
      "\n",
      "Model Report Train\n",
      "AUC Score : 0.979338\n",
      "Accuracy : 0.9228\n",
      "Precision : 0.6862\n",
      "Recall : 0.970414\n",
      "\n",
      "Model Report Test\n",
      "AUC Score : 0.912844\n",
      "Accuracy : 0.8423\n",
      "Precision : 0.5072\n",
      "Recall : 0.833333\n"
     ]
    },
    {
     "name": "stderr",
     "output_type": "stream",
     "text": [
      "Downloading artifacts: 100%|██████████████████| 7/7 [00:00<00:00, 1057.26it/s]\n"
     ]
    },
    {
     "name": "stdout",
     "output_type": "stream",
     "text": [
      "1700\n",
      "\n",
      "Model Report Train\n",
      "AUC Score : 0.978746\n",
      "Accuracy : 0.9234\n",
      "Precision : 0.6943\n",
      "Recall : 0.940828\n",
      "\n",
      "Model Report Test\n",
      "AUC Score : 0.909145\n",
      "Accuracy : 0.8626\n",
      "Precision : 0.55\n",
      "Recall : 0.785714\n"
     ]
    },
    {
     "name": "stderr",
     "output_type": "stream",
     "text": [
      "Downloading artifacts: 100%|███████████████████| 7/7 [00:00<00:00, 932.04it/s]\n"
     ]
    },
    {
     "name": "stdout",
     "output_type": "stream",
     "text": [
      "1710\n",
      "\n",
      "Model Report Train\n",
      "AUC Score : 0.978411\n",
      "Accuracy : 0.9202\n",
      "Precision : 0.6777\n",
      "Recall : 0.964706\n",
      "\n",
      "Model Report Test\n",
      "AUC Score : 0.910203\n",
      "Accuracy : 0.8669\n",
      "Precision : 0.5574\n",
      "Recall : 0.809524\n"
     ]
    },
    {
     "name": "stderr",
     "output_type": "stream",
     "text": [
      "Downloading artifacts: 100%|███████████████████| 7/7 [00:00<00:00, 654.16it/s]\n"
     ]
    },
    {
     "name": "stdout",
     "output_type": "stream",
     "text": [
      "1720\n",
      "\n",
      "Model Report Train\n",
      "AUC Score : 0.977830\n",
      "Accuracy : 0.9156\n",
      "Precision : 0.6626\n",
      "Recall : 0.958824\n",
      "\n",
      "Model Report Test\n",
      "AUC Score : 0.889418\n",
      "Accuracy : 0.8577\n",
      "Precision : 0.5323\n",
      "Recall : 0.785714\n"
     ]
    },
    {
     "name": "stderr",
     "output_type": "stream",
     "text": [
      "Downloading artifacts: 100%|██████████████████| 7/7 [00:00<00:00, 1122.72it/s]\n"
     ]
    },
    {
     "name": "stdout",
     "output_type": "stream",
     "text": [
      "1730\n",
      "\n",
      "Model Report Train\n",
      "AUC Score : 0.977396\n",
      "Accuracy : 0.9254\n",
      "Precision : 0.6907\n",
      "Recall : 0.958824\n",
      "\n",
      "Model Report Test\n",
      "AUC Score : 0.871990\n",
      "Accuracy : 0.8736\n",
      "Precision : 0.5957\n",
      "Recall : 0.651163\n"
     ]
    },
    {
     "name": "stderr",
     "output_type": "stream",
     "text": [
      "Downloading artifacts: 100%|███████████████████| 7/7 [00:00<00:00, 933.07it/s]\n"
     ]
    },
    {
     "name": "stdout",
     "output_type": "stream",
     "text": [
      "1740\n",
      "\n",
      "Model Report Train\n",
      "AUC Score : 0.980149\n",
      "Accuracy : 0.9268\n",
      "Precision : 0.692\n",
      "Recall : 0.964706\n",
      "\n",
      "Model Report Test\n",
      "AUC Score : 0.889970\n",
      "Accuracy : 0.8815\n",
      "Precision : 0.6078\n",
      "Recall : 0.720930\n"
     ]
    },
    {
     "name": "stderr",
     "output_type": "stream",
     "text": [
      "Downloading artifacts: 100%|███████████████████| 7/7 [00:00<00:00, 822.34it/s]\n"
     ]
    },
    {
     "name": "stdout",
     "output_type": "stream",
     "text": [
      "1750\n",
      "\n",
      "Model Report Train\n",
      "AUC Score : 0.976659\n",
      "Accuracy : 0.9142\n",
      "Precision : 0.6548\n",
      "Recall : 0.964912\n",
      "\n",
      "Model Report Test\n",
      "AUC Score : 0.888799\n",
      "Accuracy : 0.8787\n",
      "Precision : 0.5926\n",
      "Recall : 0.744186\n"
     ]
    },
    {
     "name": "stderr",
     "output_type": "stream",
     "text": [
      "Downloading artifacts: 100%|███████████████████| 7/7 [00:00<00:00, 746.24it/s]\n"
     ]
    },
    {
     "name": "stdout",
     "output_type": "stream",
     "text": [
      "1760\n",
      "\n",
      "Model Report Train\n",
      "AUC Score : 0.976191\n",
      "Accuracy : 0.9261\n",
      "Precision : 0.6891\n",
      "Recall : 0.959064\n",
      "\n",
      "Model Report Test\n",
      "AUC Score : 0.905114\n",
      "Accuracy : 0.8723\n",
      "Precision : 0.5741\n",
      "Recall : 0.720930\n"
     ]
    },
    {
     "name": "stderr",
     "output_type": "stream",
     "text": [
      "Downloading artifacts: 100%|██████████████████| 7/7 [00:00<00:00, 1307.28it/s]\n"
     ]
    },
    {
     "name": "stdout",
     "output_type": "stream",
     "text": [
      "1770\n",
      "\n",
      "Model Report Train\n",
      "AUC Score : 0.977290\n",
      "Accuracy : 0.9204\n",
      "Precision : 0.6694\n",
      "Recall : 0.959064\n",
      "\n",
      "Model Report Test\n",
      "AUC Score : 0.927400\n",
      "Accuracy : 0.8556\n",
      "Precision : 0.5231\n",
      "Recall : 0.790698\n"
     ]
    },
    {
     "name": "stderr",
     "output_type": "stream",
     "text": [
      "Downloading artifacts: 100%|███████████████████| 7/7 [00:00<00:00, 849.32it/s]\n"
     ]
    },
    {
     "name": "stdout",
     "output_type": "stream",
     "text": [
      "1780\n",
      "\n",
      "Model Report Train\n",
      "AUC Score : 0.978289\n",
      "Accuracy : 0.9254\n",
      "Precision : 0.6818\n",
      "Recall : 0.964912\n",
      "\n",
      "Model Report Test\n",
      "AUC Score : 0.934125\n",
      "Accuracy : 0.8853\n",
      "Precision : 0.5902\n",
      "Recall : 0.837209\n"
     ]
    },
    {
     "name": "stderr",
     "output_type": "stream",
     "text": [
      "Downloading artifacts: 100%|██████████████████| 7/7 [00:00<00:00, 1015.22it/s]\n"
     ]
    },
    {
     "name": "stdout",
     "output_type": "stream",
     "text": [
      "1790\n",
      "\n",
      "Model Report Train\n",
      "AUC Score : 0.981068\n",
      "Accuracy : 0.9302\n",
      "Precision : 0.6929\n",
      "Recall : 0.976608\n",
      "\n",
      "Model Report Test\n",
      "AUC Score : 0.913649\n",
      "Accuracy : 0.8679\n",
      "Precision : 0.5484\n",
      "Recall : 0.790698\n"
     ]
    },
    {
     "name": "stderr",
     "output_type": "stream",
     "text": [
      "Downloading artifacts: 100%|███████████████████| 7/7 [00:00<00:00, 787.09it/s]\n"
     ]
    },
    {
     "name": "stdout",
     "output_type": "stream",
     "text": [
      "1800\n",
      "\n",
      "Model Report Train\n",
      "AUC Score : 0.979424\n",
      "Accuracy : 0.9304\n",
      "Precision : 0.6992\n",
      "Recall : 0.959302\n",
      "\n",
      "Model Report Test\n",
      "AUC Score : 0.907563\n",
      "Accuracy : 0.8648\n",
      "Precision : 0.5424\n",
      "Recall : 0.744186\n"
     ]
    },
    {
     "name": "stderr",
     "output_type": "stream",
     "text": [
      "Downloading artifacts: 100%|███████████████████| 7/7 [00:00<00:00, 587.65it/s]\n"
     ]
    },
    {
     "name": "stdout",
     "output_type": "stream",
     "text": [
      "1810\n",
      "\n",
      "Model Report Train\n",
      "AUC Score : 0.979424\n",
      "Accuracy : 0.9304\n",
      "Precision : 0.6992\n",
      "Recall : 0.959302\n",
      "\n",
      "Model Report Test\n",
      "AUC Score : 0.907563\n",
      "Accuracy : 0.8648\n",
      "Precision : 0.5424\n",
      "Recall : 0.744186\n"
     ]
    },
    {
     "name": "stderr",
     "output_type": "stream",
     "text": [
      "Downloading artifacts: 100%|██████████████████| 7/7 [00:00<00:00, 1094.34it/s]\n"
     ]
    },
    {
     "name": "stdout",
     "output_type": "stream",
     "text": [
      "1820\n",
      "\n",
      "Model Report Train\n",
      "AUC Score : 0.979424\n",
      "Accuracy : 0.9304\n",
      "Precision : 0.6992\n",
      "Recall : 0.959302\n",
      "\n",
      "Model Report Test\n",
      "AUC Score : 0.907563\n",
      "Accuracy : 0.8648\n",
      "Precision : 0.5424\n",
      "Recall : 0.744186\n"
     ]
    },
    {
     "name": "stderr",
     "output_type": "stream",
     "text": [
      "Downloading artifacts: 100%|██████████████████| 7/7 [00:00<00:00, 1068.26it/s]\n"
     ]
    },
    {
     "name": "stdout",
     "output_type": "stream",
     "text": [
      "1830\n",
      "\n",
      "Model Report Train\n",
      "AUC Score : 0.978898\n",
      "Accuracy : 0.9269\n",
      "Precision : 0.686\n",
      "Recall : 0.965116\n",
      "\n",
      "Model Report Test\n",
      "AUC Score : 0.905804\n",
      "Accuracy : 0.8719\n",
      "Precision : 0.5593\n",
      "Recall : 0.767442\n"
     ]
    },
    {
     "name": "stderr",
     "output_type": "stream",
     "text": [
      "Downloading artifacts: 100%|███████████████████| 7/7 [00:00<00:00, 646.46it/s]\n"
     ]
    },
    {
     "name": "stdout",
     "output_type": "stream",
     "text": [
      "1840\n",
      "\n",
      "Model Report Train\n",
      "AUC Score : 0.978898\n",
      "Accuracy : 0.9269\n",
      "Precision : 0.686\n",
      "Recall : 0.965116\n",
      "\n",
      "Model Report Test\n",
      "AUC Score : 0.905804\n",
      "Accuracy : 0.8719\n",
      "Precision : 0.5593\n",
      "Recall : 0.767442\n"
     ]
    },
    {
     "name": "stderr",
     "output_type": "stream",
     "text": [
      "Downloading artifacts: 100%|███████████████████| 7/7 [00:00<00:00, 703.66it/s]\n"
     ]
    },
    {
     "name": "stdout",
     "output_type": "stream",
     "text": [
      "1850\n",
      "\n",
      "Model Report Train\n",
      "AUC Score : 0.978898\n",
      "Accuracy : 0.9269\n",
      "Precision : 0.686\n",
      "Recall : 0.965116\n",
      "\n",
      "Model Report Test\n",
      "AUC Score : 0.905804\n",
      "Accuracy : 0.8719\n",
      "Precision : 0.5593\n",
      "Recall : 0.767442\n"
     ]
    },
    {
     "name": "stderr",
     "output_type": "stream",
     "text": [
      "Downloading artifacts: 100%|███████████████████| 7/7 [00:00<00:00, 578.09it/s]\n"
     ]
    },
    {
     "name": "stdout",
     "output_type": "stream",
     "text": [
      "1860\n",
      "\n",
      "Model Report Train\n",
      "AUC Score : 0.978898\n",
      "Accuracy : 0.9269\n",
      "Precision : 0.686\n",
      "Recall : 0.965116\n",
      "\n",
      "Model Report Test\n",
      "AUC Score : 0.905804\n",
      "Accuracy : 0.8719\n",
      "Precision : 0.5593\n",
      "Recall : 0.767442\n"
     ]
    },
    {
     "name": "stderr",
     "output_type": "stream",
     "text": [
      "Downloading artifacts: 100%|███████████████████| 7/7 [00:00<00:00, 628.36it/s]\n"
     ]
    },
    {
     "name": "stdout",
     "output_type": "stream",
     "text": [
      "1870\n",
      "\n",
      "Model Report Train\n",
      "AUC Score : 0.977102\n",
      "Accuracy : 0.926\n",
      "Precision : 0.6894\n",
      "Recall : 0.941860\n",
      "\n",
      "Model Report Test\n",
      "AUC Score : 0.898134\n",
      "Accuracy : 0.8434\n",
      "Precision : 0.4921\n",
      "Recall : 0.720930\n"
     ]
    },
    {
     "name": "stderr",
     "output_type": "stream",
     "text": [
      "Downloading artifacts: 100%|███████████████████| 7/7 [00:00<00:00, 637.14it/s]\n"
     ]
    },
    {
     "name": "stdout",
     "output_type": "stream",
     "text": [
      "1880\n",
      "\n",
      "Model Report Train\n",
      "AUC Score : 0.977102\n",
      "Accuracy : 0.926\n",
      "Precision : 0.6894\n",
      "Recall : 0.941860\n",
      "\n",
      "Model Report Test\n",
      "AUC Score : 0.898134\n",
      "Accuracy : 0.8434\n",
      "Precision : 0.4921\n",
      "Recall : 0.720930\n"
     ]
    },
    {
     "name": "stderr",
     "output_type": "stream",
     "text": [
      "Downloading artifacts: 100%|███████████████████| 7/7 [00:00<00:00, 910.05it/s]\n"
     ]
    },
    {
     "name": "stdout",
     "output_type": "stream",
     "text": [
      "1890\n",
      "\n",
      "Model Report Train\n",
      "AUC Score : 0.977102\n",
      "Accuracy : 0.926\n",
      "Precision : 0.6894\n",
      "Recall : 0.941860\n",
      "\n",
      "Model Report Test\n",
      "AUC Score : 0.898134\n",
      "Accuracy : 0.8434\n",
      "Precision : 0.4921\n",
      "Recall : 0.720930\n"
     ]
    },
    {
     "name": "stderr",
     "output_type": "stream",
     "text": [
      "Downloading artifacts: 100%|███████████████████| 7/7 [00:00<00:00, 591.15it/s]\n"
     ]
    },
    {
     "name": "stdout",
     "output_type": "stream",
     "text": [
      "1900\n",
      "\n",
      "Model Report Train\n",
      "AUC Score : 0.977102\n",
      "Accuracy : 0.926\n",
      "Precision : 0.6894\n",
      "Recall : 0.941860\n",
      "\n",
      "Model Report Test\n",
      "AUC Score : 0.898134\n",
      "Accuracy : 0.8434\n",
      "Precision : 0.4921\n",
      "Recall : 0.720930\n"
     ]
    },
    {
     "name": "stderr",
     "output_type": "stream",
     "text": [
      "Downloading artifacts: 100%|██████████████████| 7/7 [00:00<00:00, 1303.74it/s]\n"
     ]
    },
    {
     "name": "stdout",
     "output_type": "stream",
     "text": [
      "1910\n",
      "\n",
      "Model Report Train\n",
      "AUC Score : 0.977102\n",
      "Accuracy : 0.926\n",
      "Precision : 0.6894\n",
      "Recall : 0.941860\n",
      "\n",
      "Model Report Test\n",
      "AUC Score : 0.898134\n",
      "Accuracy : 0.8434\n",
      "Precision : 0.4921\n",
      "Recall : 0.720930\n"
     ]
    },
    {
     "name": "stderr",
     "output_type": "stream",
     "text": [
      "Downloading artifacts: 100%|███████████████████| 7/7 [00:00<00:00, 728.21it/s]\n"
     ]
    },
    {
     "name": "stdout",
     "output_type": "stream",
     "text": [
      "1920\n",
      "\n",
      "Model Report Train\n",
      "AUC Score : 0.975993\n",
      "Accuracy : 0.9226\n",
      "Precision : 0.6778\n",
      "Recall : 0.941860\n",
      "\n",
      "Model Report Test\n",
      "AUC Score : 0.922025\n",
      "Accuracy : 0.8861\n",
      "Precision : 0.5965\n",
      "Recall : 0.790698\n"
     ]
    },
    {
     "name": "stderr",
     "output_type": "stream",
     "text": [
      "Downloading artifacts: 100%|██████████████████| 7/7 [00:00<00:00, 1138.30it/s]\n"
     ]
    },
    {
     "name": "stdout",
     "output_type": "stream",
     "text": [
      "1930\n",
      "\n",
      "Model Report Train\n",
      "AUC Score : 0.975993\n",
      "Accuracy : 0.9226\n",
      "Precision : 0.6778\n",
      "Recall : 0.941860\n",
      "\n",
      "Model Report Test\n",
      "AUC Score : 0.922025\n",
      "Accuracy : 0.8861\n",
      "Precision : 0.5965\n",
      "Recall : 0.790698\n"
     ]
    },
    {
     "name": "stderr",
     "output_type": "stream",
     "text": [
      "Downloading artifacts: 100%|███████████████████| 7/7 [00:00<00:00, 993.04it/s]\n"
     ]
    },
    {
     "name": "stdout",
     "output_type": "stream",
     "text": [
      "1940\n",
      "\n",
      "Model Report Train\n",
      "AUC Score : 0.975993\n",
      "Accuracy : 0.9226\n",
      "Precision : 0.6778\n",
      "Recall : 0.941860\n",
      "\n",
      "Model Report Test\n",
      "AUC Score : 0.922025\n",
      "Accuracy : 0.8861\n",
      "Precision : 0.5965\n",
      "Recall : 0.790698\n"
     ]
    },
    {
     "name": "stderr",
     "output_type": "stream",
     "text": [
      "Downloading artifacts: 100%|███████████████████| 7/7 [00:00<00:00, 868.82it/s]\n"
     ]
    },
    {
     "name": "stdout",
     "output_type": "stream",
     "text": [
      "1950\n",
      "\n",
      "Model Report Train\n",
      "AUC Score : 0.975993\n",
      "Accuracy : 0.9226\n",
      "Precision : 0.6778\n",
      "Recall : 0.941860\n",
      "\n",
      "Model Report Test\n",
      "AUC Score : 0.922025\n",
      "Accuracy : 0.8861\n",
      "Precision : 0.5965\n",
      "Recall : 0.790698\n"
     ]
    },
    {
     "name": "stderr",
     "output_type": "stream",
     "text": [
      "Downloading artifacts: 100%|██████████████████| 7/7 [00:00<00:00, 1107.89it/s]\n"
     ]
    },
    {
     "name": "stdout",
     "output_type": "stream",
     "text": [
      "1960\n",
      "\n",
      "Model Report Train\n",
      "AUC Score : 0.975993\n",
      "Accuracy : 0.9226\n",
      "Precision : 0.6778\n",
      "Recall : 0.941860\n",
      "\n",
      "Model Report Test\n",
      "AUC Score : 0.922025\n",
      "Accuracy : 0.8861\n",
      "Precision : 0.5965\n",
      "Recall : 0.790698\n"
     ]
    },
    {
     "name": "stderr",
     "output_type": "stream",
     "text": [
      "Downloading artifacts: 100%|███████████████████| 7/7 [00:00<00:00, 537.43it/s]\n"
     ]
    },
    {
     "name": "stdout",
     "output_type": "stream",
     "text": [
      "1970\n",
      "\n",
      "Model Report Train\n",
      "AUC Score : 0.975993\n",
      "Accuracy : 0.9226\n",
      "Precision : 0.6778\n",
      "Recall : 0.941860\n",
      "\n",
      "Model Report Test\n",
      "AUC Score : 0.922025\n",
      "Accuracy : 0.8861\n",
      "Precision : 0.5965\n",
      "Recall : 0.790698\n"
     ]
    },
    {
     "name": "stderr",
     "output_type": "stream",
     "text": [
      "Downloading artifacts: 100%|███████████████████| 7/7 [00:00<00:00, 903.86it/s]\n"
     ]
    },
    {
     "name": "stdout",
     "output_type": "stream",
     "text": [
      "1980\n",
      "\n",
      "Model Report Train\n",
      "AUC Score : 0.975993\n",
      "Accuracy : 0.9226\n",
      "Precision : 0.6778\n",
      "Recall : 0.941860\n",
      "\n",
      "Model Report Test\n",
      "AUC Score : 0.922025\n",
      "Accuracy : 0.8861\n",
      "Precision : 0.5965\n",
      "Recall : 0.790698\n"
     ]
    },
    {
     "name": "stderr",
     "output_type": "stream",
     "text": [
      "Downloading artifacts: 100%|███████████████████| 7/7 [00:00<00:00, 595.52it/s]\n"
     ]
    },
    {
     "name": "stdout",
     "output_type": "stream",
     "text": [
      "1990\n",
      "\n",
      "Model Report Train\n",
      "AUC Score : 0.977614\n",
      "Accuracy : 0.9244\n",
      "Precision : 0.6835\n",
      "Recall : 0.941860\n",
      "\n",
      "Model Report Test\n",
      "AUC Score : 0.919237\n",
      "Accuracy : 0.8901\n",
      "Precision : 0.6071\n",
      "Recall : 0.790698\n"
     ]
    },
    {
     "name": "stderr",
     "output_type": "stream",
     "text": [
      "Downloading artifacts: 100%|██████████████████| 7/7 [00:00<00:00, 1000.48it/s]\n"
     ]
    },
    {
     "name": "stdout",
     "output_type": "stream",
     "text": [
      "2000\n",
      "\n",
      "Model Report Train\n",
      "AUC Score : 0.977614\n",
      "Accuracy : 0.9244\n",
      "Precision : 0.6835\n",
      "Recall : 0.941860\n",
      "\n",
      "Model Report Test\n",
      "AUC Score : 0.919237\n",
      "Accuracy : 0.8901\n",
      "Precision : 0.6071\n",
      "Recall : 0.790698\n"
     ]
    },
    {
     "name": "stderr",
     "output_type": "stream",
     "text": [
      "Downloading artifacts: 100%|███████████████████| 7/7 [00:00<00:00, 562.97it/s]\n"
     ]
    },
    {
     "name": "stdout",
     "output_type": "stream",
     "text": [
      "2010\n",
      "\n",
      "Model Report Train\n",
      "AUC Score : 0.977614\n",
      "Accuracy : 0.9244\n",
      "Precision : 0.6835\n",
      "Recall : 0.941860\n",
      "\n",
      "Model Report Test\n",
      "AUC Score : 0.919237\n",
      "Accuracy : 0.8901\n",
      "Precision : 0.6071\n",
      "Recall : 0.790698\n"
     ]
    },
    {
     "name": "stderr",
     "output_type": "stream",
     "text": [
      "Downloading artifacts: 100%|███████████████████| 7/7 [00:00<00:00, 654.05it/s]\n"
     ]
    },
    {
     "name": "stdout",
     "output_type": "stream",
     "text": [
      "2020\n",
      "\n",
      "Model Report Train\n",
      "AUC Score : 0.977614\n",
      "Accuracy : 0.9244\n",
      "Precision : 0.6835\n",
      "Recall : 0.941860\n",
      "\n",
      "Model Report Test\n",
      "AUC Score : 0.919237\n",
      "Accuracy : 0.8901\n",
      "Precision : 0.6071\n",
      "Recall : 0.790698\n"
     ]
    },
    {
     "name": "stderr",
     "output_type": "stream",
     "text": [
      "Downloading artifacts: 100%|███████████████████| 7/7 [00:00<00:00, 718.47it/s]\n"
     ]
    },
    {
     "name": "stdout",
     "output_type": "stream",
     "text": [
      "2030\n",
      "\n",
      "Model Report Train\n",
      "AUC Score : 0.977614\n",
      "Accuracy : 0.9244\n",
      "Precision : 0.6835\n",
      "Recall : 0.941860\n",
      "\n",
      "Model Report Test\n",
      "AUC Score : 0.919237\n",
      "Accuracy : 0.8901\n",
      "Precision : 0.6071\n",
      "Recall : 0.790698\n"
     ]
    },
    {
     "name": "stderr",
     "output_type": "stream",
     "text": [
      "Downloading artifacts: 100%|███████████████████| 7/7 [00:00<00:00, 772.70it/s]\n"
     ]
    },
    {
     "name": "stdout",
     "output_type": "stream",
     "text": [
      "2040\n",
      "\n",
      "Model Report Train\n",
      "AUC Score : 0.977614\n",
      "Accuracy : 0.9244\n",
      "Precision : 0.6835\n",
      "Recall : 0.941860\n",
      "\n",
      "Model Report Test\n",
      "AUC Score : 0.919237\n",
      "Accuracy : 0.8901\n",
      "Precision : 0.6071\n",
      "Recall : 0.790698\n"
     ]
    },
    {
     "name": "stderr",
     "output_type": "stream",
     "text": [
      "Downloading artifacts: 100%|██████████████████| 7/7 [00:00<00:00, 1259.66it/s]\n"
     ]
    },
    {
     "name": "stdout",
     "output_type": "stream",
     "text": [
      "2050\n",
      "\n",
      "Model Report Train\n",
      "AUC Score : 0.977614\n",
      "Accuracy : 0.9244\n",
      "Precision : 0.6835\n",
      "Recall : 0.941860\n",
      "\n",
      "Model Report Test\n",
      "AUC Score : 0.919237\n",
      "Accuracy : 0.8901\n",
      "Precision : 0.6071\n",
      "Recall : 0.790698\n"
     ]
    },
    {
     "name": "stderr",
     "output_type": "stream",
     "text": [
      "Downloading artifacts: 100%|███████████████████| 7/7 [00:00<00:00, 881.00it/s]\n"
     ]
    },
    {
     "name": "stdout",
     "output_type": "stream",
     "text": [
      "2060\n",
      "\n",
      "Model Report Train\n",
      "AUC Score : 0.977614\n",
      "Accuracy : 0.9244\n",
      "Precision : 0.6835\n",
      "Recall : 0.941860\n",
      "\n",
      "Model Report Test\n",
      "AUC Score : 0.919237\n",
      "Accuracy : 0.8901\n",
      "Precision : 0.6071\n",
      "Recall : 0.790698\n"
     ]
    },
    {
     "name": "stderr",
     "output_type": "stream",
     "text": [
      "Downloading artifacts: 100%|██████████████████| 7/7 [00:00<00:00, 1312.13it/s]\n"
     ]
    },
    {
     "name": "stdout",
     "output_type": "stream",
     "text": [
      "2070\n",
      "\n",
      "Model Report Train\n",
      "AUC Score : 0.977614\n",
      "Accuracy : 0.9244\n",
      "Precision : 0.6835\n",
      "Recall : 0.941860\n",
      "\n",
      "Model Report Test\n",
      "AUC Score : 0.919237\n",
      "Accuracy : 0.8901\n",
      "Precision : 0.6071\n",
      "Recall : 0.790698\n"
     ]
    },
    {
     "name": "stderr",
     "output_type": "stream",
     "text": [
      "Downloading artifacts: 100%|██████████████████| 7/7 [00:00<00:00, 1104.05it/s]\n"
     ]
    },
    {
     "name": "stdout",
     "output_type": "stream",
     "text": [
      "2080\n",
      "\n",
      "Model Report Train\n",
      "AUC Score : 0.977614\n",
      "Accuracy : 0.9244\n",
      "Precision : 0.6835\n",
      "Recall : 0.941860\n",
      "\n",
      "Model Report Test\n",
      "AUC Score : 0.919237\n",
      "Accuracy : 0.8901\n",
      "Precision : 0.6071\n",
      "Recall : 0.790698\n"
     ]
    },
    {
     "name": "stderr",
     "output_type": "stream",
     "text": [
      "Downloading artifacts: 100%|███████████████████| 7/7 [00:00<00:00, 862.16it/s]\n"
     ]
    },
    {
     "name": "stdout",
     "output_type": "stream",
     "text": [
      "2090\n",
      "\n",
      "Model Report Train\n",
      "AUC Score : 0.977193\n",
      "Accuracy : 0.9288\n",
      "Precision : 0.7\n",
      "Recall : 0.936047\n",
      "\n",
      "Model Report Test\n",
      "AUC Score : 0.913885\n",
      "Accuracy : 0.883\n",
      "Precision : 0.5862\n",
      "Recall : 0.790698\n"
     ]
    },
    {
     "name": "stderr",
     "output_type": "stream",
     "text": [
      "Downloading artifacts: 100%|███████████████████| 7/7 [00:00<00:00, 797.31it/s]\n"
     ]
    },
    {
     "name": "stdout",
     "output_type": "stream",
     "text": [
      "2100\n",
      "\n",
      "Model Report Train\n",
      "AUC Score : 0.977193\n",
      "Accuracy : 0.9288\n",
      "Precision : 0.7\n",
      "Recall : 0.936047\n",
      "\n",
      "Model Report Test\n",
      "AUC Score : 0.913885\n",
      "Accuracy : 0.883\n",
      "Precision : 0.5862\n",
      "Recall : 0.790698\n"
     ]
    },
    {
     "name": "stderr",
     "output_type": "stream",
     "text": [
      "Downloading artifacts: 100%|███████████████████| 7/7 [00:00<00:00, 637.94it/s]\n"
     ]
    },
    {
     "name": "stdout",
     "output_type": "stream",
     "text": [
      "2110\n",
      "\n",
      "Model Report Train\n",
      "AUC Score : 0.977193\n",
      "Accuracy : 0.9288\n",
      "Precision : 0.7\n",
      "Recall : 0.936047\n",
      "\n",
      "Model Report Test\n",
      "AUC Score : 0.913885\n",
      "Accuracy : 0.883\n",
      "Precision : 0.5862\n",
      "Recall : 0.790698\n"
     ]
    },
    {
     "name": "stderr",
     "output_type": "stream",
     "text": [
      "Downloading artifacts: 100%|██████████████████| 7/7 [00:00<00:00, 1074.71it/s]\n"
     ]
    },
    {
     "name": "stdout",
     "output_type": "stream",
     "text": [
      "2120\n",
      "\n",
      "Model Report Train\n",
      "AUC Score : 0.977193\n",
      "Accuracy : 0.9288\n",
      "Precision : 0.7\n",
      "Recall : 0.936047\n",
      "\n",
      "Model Report Test\n",
      "AUC Score : 0.913885\n",
      "Accuracy : 0.883\n",
      "Precision : 0.5862\n",
      "Recall : 0.790698\n"
     ]
    },
    {
     "name": "stderr",
     "output_type": "stream",
     "text": [
      "Downloading artifacts: 100%|██████████████████| 7/7 [00:00<00:00, 1030.87it/s]\n"
     ]
    },
    {
     "name": "stdout",
     "output_type": "stream",
     "text": [
      "2130\n",
      "\n",
      "Model Report Train\n",
      "AUC Score : 0.977193\n",
      "Accuracy : 0.9288\n",
      "Precision : 0.7\n",
      "Recall : 0.936047\n",
      "\n",
      "Model Report Test\n",
      "AUC Score : 0.913885\n",
      "Accuracy : 0.883\n",
      "Precision : 0.5862\n",
      "Recall : 0.790698\n"
     ]
    },
    {
     "name": "stderr",
     "output_type": "stream",
     "text": [
      "Downloading artifacts: 100%|███████████████████| 7/7 [00:00<00:00, 942.48it/s]\n"
     ]
    },
    {
     "name": "stdout",
     "output_type": "stream",
     "text": [
      "2140\n",
      "\n",
      "Model Report Train\n",
      "AUC Score : 0.977227\n",
      "Accuracy : 0.9253\n",
      "Precision : 0.6913\n",
      "Recall : 0.924419\n",
      "\n",
      "Model Report Test\n",
      "AUC Score : 0.915199\n",
      "Accuracy : 0.8794\n",
      "Precision : 0.5738\n",
      "Recall : 0.813953\n"
     ]
    },
    {
     "name": "stderr",
     "output_type": "stream",
     "text": [
      "Downloading artifacts: 100%|███████████████████| 7/7 [00:00<00:00, 789.55it/s]\n"
     ]
    },
    {
     "name": "stdout",
     "output_type": "stream",
     "text": [
      "2150\n",
      "\n",
      "Model Report Train\n",
      "AUC Score : 0.977227\n",
      "Accuracy : 0.9253\n",
      "Precision : 0.6913\n",
      "Recall : 0.924419\n",
      "\n",
      "Model Report Test\n",
      "AUC Score : 0.915199\n",
      "Accuracy : 0.8794\n",
      "Precision : 0.5738\n",
      "Recall : 0.813953\n"
     ]
    },
    {
     "name": "stderr",
     "output_type": "stream",
     "text": [
      "Downloading artifacts: 100%|███████████████████| 7/7 [00:00<00:00, 605.70it/s]\n"
     ]
    },
    {
     "name": "stdout",
     "output_type": "stream",
     "text": [
      "2160\n",
      "\n",
      "Model Report Train\n",
      "AUC Score : 0.977227\n",
      "Accuracy : 0.9253\n",
      "Precision : 0.6913\n",
      "Recall : 0.924419\n",
      "\n",
      "Model Report Test\n",
      "AUC Score : 0.915199\n",
      "Accuracy : 0.8794\n",
      "Precision : 0.5738\n",
      "Recall : 0.813953\n"
     ]
    },
    {
     "name": "stderr",
     "output_type": "stream",
     "text": [
      "Downloading artifacts: 100%|██████████████████| 7/7 [00:00<00:00, 1235.44it/s]\n"
     ]
    },
    {
     "name": "stdout",
     "output_type": "stream",
     "text": [
      "2170\n",
      "\n",
      "Model Report Train\n",
      "AUC Score : 0.977227\n",
      "Accuracy : 0.9253\n",
      "Precision : 0.6913\n",
      "Recall : 0.924419\n",
      "\n",
      "Model Report Test\n",
      "AUC Score : 0.915199\n",
      "Accuracy : 0.8794\n",
      "Precision : 0.5738\n",
      "Recall : 0.813953\n"
     ]
    },
    {
     "name": "stderr",
     "output_type": "stream",
     "text": [
      "Downloading artifacts: 100%|███████████████████| 7/7 [00:00<00:00, 452.36it/s]\n"
     ]
    },
    {
     "name": "stdout",
     "output_type": "stream",
     "text": [
      "2180\n",
      "\n",
      "Model Report Train\n",
      "AUC Score : 0.977227\n",
      "Accuracy : 0.9253\n",
      "Precision : 0.6913\n",
      "Recall : 0.924419\n",
      "\n",
      "Model Report Test\n",
      "AUC Score : 0.915199\n",
      "Accuracy : 0.8794\n",
      "Precision : 0.5738\n",
      "Recall : 0.813953\n"
     ]
    },
    {
     "name": "stderr",
     "output_type": "stream",
     "text": [
      "Downloading artifacts: 100%|███████████████████| 7/7 [00:00<00:00, 640.11it/s]\n"
     ]
    },
    {
     "name": "stdout",
     "output_type": "stream",
     "text": [
      "2190\n",
      "\n",
      "Model Report Train\n",
      "AUC Score : 0.977227\n",
      "Accuracy : 0.9253\n",
      "Precision : 0.6913\n",
      "Recall : 0.924419\n",
      "\n",
      "Model Report Test\n",
      "AUC Score : 0.915199\n",
      "Accuracy : 0.8794\n",
      "Precision : 0.5738\n",
      "Recall : 0.813953\n"
     ]
    },
    {
     "name": "stderr",
     "output_type": "stream",
     "text": [
      "Downloading artifacts: 100%|███████████████████| 7/7 [00:00<00:00, 628.62it/s]\n"
     ]
    },
    {
     "name": "stdout",
     "output_type": "stream",
     "text": [
      "2200\n",
      "\n",
      "Model Report Train\n",
      "AUC Score : 0.977227\n",
      "Accuracy : 0.9253\n",
      "Precision : 0.6913\n",
      "Recall : 0.924419\n",
      "\n",
      "Model Report Test\n",
      "AUC Score : 0.915199\n",
      "Accuracy : 0.8794\n",
      "Precision : 0.5738\n",
      "Recall : 0.813953\n"
     ]
    },
    {
     "name": "stderr",
     "output_type": "stream",
     "text": [
      "Downloading artifacts: 100%|███████████████████| 7/7 [00:00<00:00, 699.23it/s]\n"
     ]
    },
    {
     "name": "stdout",
     "output_type": "stream",
     "text": [
      "2210\n",
      "\n",
      "Model Report Train\n",
      "AUC Score : 0.977794\n",
      "Accuracy : 0.9298\n",
      "Precision : 0.6979\n",
      "Recall : 0.953488\n",
      "\n",
      "Model Report Test\n",
      "AUC Score : 0.924832\n",
      "Accuracy : 0.8723\n",
      "Precision : 0.5614\n",
      "Recall : 0.744186\n"
     ]
    },
    {
     "name": "stderr",
     "output_type": "stream",
     "text": [
      "Downloading artifacts: 100%|███████████████████| 7/7 [00:00<00:00, 504.04it/s]\n"
     ]
    },
    {
     "name": "stdout",
     "output_type": "stream",
     "text": [
      "2220\n",
      "\n",
      "Model Report Train\n",
      "AUC Score : 0.977794\n",
      "Accuracy : 0.9298\n",
      "Precision : 0.6979\n",
      "Recall : 0.953488\n",
      "\n",
      "Model Report Test\n",
      "AUC Score : 0.924832\n",
      "Accuracy : 0.8723\n",
      "Precision : 0.5614\n",
      "Recall : 0.744186\n"
     ]
    },
    {
     "name": "stderr",
     "output_type": "stream",
     "text": [
      "Downloading artifacts: 100%|███████████████████| 7/7 [00:00<00:00, 916.56it/s]\n"
     ]
    },
    {
     "name": "stdout",
     "output_type": "stream",
     "text": [
      "2230\n",
      "\n",
      "Model Report Train\n",
      "AUC Score : 0.977794\n",
      "Accuracy : 0.9298\n",
      "Precision : 0.6979\n",
      "Recall : 0.953488\n",
      "\n",
      "Model Report Test\n",
      "AUC Score : 0.924832\n",
      "Accuracy : 0.8723\n",
      "Precision : 0.5614\n",
      "Recall : 0.744186\n"
     ]
    },
    {
     "name": "stderr",
     "output_type": "stream",
     "text": [
      "Downloading artifacts: 100%|███████████████████| 7/7 [00:00<00:00, 591.84it/s]\n"
     ]
    },
    {
     "name": "stdout",
     "output_type": "stream",
     "text": [
      "2240\n",
      "\n",
      "Model Report Train\n",
      "AUC Score : 0.977794\n",
      "Accuracy : 0.9298\n",
      "Precision : 0.6979\n",
      "Recall : 0.953488\n",
      "\n",
      "Model Report Test\n",
      "AUC Score : 0.924832\n",
      "Accuracy : 0.8723\n",
      "Precision : 0.5614\n",
      "Recall : 0.744186\n"
     ]
    },
    {
     "name": "stderr",
     "output_type": "stream",
     "text": [
      "Downloading artifacts: 100%|███████████████████| 7/7 [00:00<00:00, 786.65it/s]\n"
     ]
    },
    {
     "name": "stdout",
     "output_type": "stream",
     "text": [
      "2250\n",
      "\n",
      "Model Report Train\n",
      "AUC Score : 0.977794\n",
      "Accuracy : 0.9298\n",
      "Precision : 0.6979\n",
      "Recall : 0.953488\n",
      "\n",
      "Model Report Test\n",
      "AUC Score : 0.924832\n",
      "Accuracy : 0.8723\n",
      "Precision : 0.5614\n",
      "Recall : 0.744186\n"
     ]
    },
    {
     "name": "stderr",
     "output_type": "stream",
     "text": [
      "Downloading artifacts: 100%|███████████████████| 7/7 [00:00<00:00, 714.15it/s]\n"
     ]
    },
    {
     "name": "stdout",
     "output_type": "stream",
     "text": [
      "2260\n",
      "\n",
      "Model Report Train\n",
      "AUC Score : 0.977794\n",
      "Accuracy : 0.9298\n",
      "Precision : 0.6979\n",
      "Recall : 0.953488\n",
      "\n",
      "Model Report Test\n",
      "AUC Score : 0.924832\n",
      "Accuracy : 0.8723\n",
      "Precision : 0.5614\n",
      "Recall : 0.744186\n"
     ]
    },
    {
     "name": "stderr",
     "output_type": "stream",
     "text": [
      "Downloading artifacts: 100%|███████████████████| 7/7 [00:00<00:00, 645.92it/s]\n"
     ]
    },
    {
     "name": "stdout",
     "output_type": "stream",
     "text": [
      "2270\n",
      "\n",
      "Model Report Train\n",
      "AUC Score : 0.977794\n",
      "Accuracy : 0.9298\n",
      "Precision : 0.6979\n",
      "Recall : 0.953488\n",
      "\n",
      "Model Report Test\n",
      "AUC Score : 0.924832\n",
      "Accuracy : 0.8723\n",
      "Precision : 0.5614\n",
      "Recall : 0.744186\n"
     ]
    },
    {
     "name": "stderr",
     "output_type": "stream",
     "text": [
      "Downloading artifacts: 100%|███████████████████| 7/7 [00:00<00:00, 675.58it/s]\n"
     ]
    },
    {
     "name": "stdout",
     "output_type": "stream",
     "text": [
      "2280\n",
      "\n",
      "Model Report Train\n",
      "AUC Score : 0.978368\n",
      "Accuracy : 0.9325\n",
      "Precision : 0.7051\n",
      "Recall : 0.959302\n",
      "\n",
      "Model Report Test\n",
      "AUC Score : 0.914469\n",
      "Accuracy : 0.8688\n",
      "Precision : 0.5517\n",
      "Recall : 0.744186\n"
     ]
    },
    {
     "name": "stderr",
     "output_type": "stream",
     "text": [
      "Downloading artifacts: 100%|███████████████████| 7/7 [00:00<00:00, 746.26it/s]\n"
     ]
    },
    {
     "name": "stdout",
     "output_type": "stream",
     "text": [
      "2290\n",
      "\n",
      "Model Report Train\n",
      "AUC Score : 0.978368\n",
      "Accuracy : 0.9325\n",
      "Precision : 0.7051\n",
      "Recall : 0.959302\n",
      "\n",
      "Model Report Test\n",
      "AUC Score : 0.914469\n",
      "Accuracy : 0.8688\n",
      "Precision : 0.5517\n",
      "Recall : 0.744186\n"
     ]
    },
    {
     "name": "stderr",
     "output_type": "stream",
     "text": [
      "Downloading artifacts: 100%|███████████████████| 7/7 [00:00<00:00, 731.90it/s]\n"
     ]
    },
    {
     "name": "stdout",
     "output_type": "stream",
     "text": [
      "2300\n",
      "\n",
      "Model Report Train\n",
      "AUC Score : 0.978368\n",
      "Accuracy : 0.9325\n",
      "Precision : 0.7051\n",
      "Recall : 0.959302\n",
      "\n",
      "Model Report Test\n",
      "AUC Score : 0.914469\n",
      "Accuracy : 0.8688\n",
      "Precision : 0.5517\n",
      "Recall : 0.744186\n"
     ]
    },
    {
     "name": "stderr",
     "output_type": "stream",
     "text": [
      "Downloading artifacts: 100%|███████████████████| 7/7 [00:00<00:00, 622.09it/s]\n"
     ]
    },
    {
     "name": "stdout",
     "output_type": "stream",
     "text": [
      "2310\n",
      "\n",
      "Model Report Train\n",
      "AUC Score : 0.978368\n",
      "Accuracy : 0.9325\n",
      "Precision : 0.7051\n",
      "Recall : 0.959302\n",
      "\n",
      "Model Report Test\n",
      "AUC Score : 0.914469\n",
      "Accuracy : 0.8688\n",
      "Precision : 0.5517\n",
      "Recall : 0.744186\n"
     ]
    },
    {
     "name": "stderr",
     "output_type": "stream",
     "text": [
      "Downloading artifacts: 100%|███████████████████| 7/7 [00:00<00:00, 904.20it/s]\n"
     ]
    },
    {
     "name": "stdout",
     "output_type": "stream",
     "text": [
      "2320\n",
      "\n",
      "Model Report Train\n",
      "AUC Score : 0.978368\n",
      "Accuracy : 0.9325\n",
      "Precision : 0.7051\n",
      "Recall : 0.959302\n",
      "\n",
      "Model Report Test\n",
      "AUC Score : 0.914469\n",
      "Accuracy : 0.8688\n",
      "Precision : 0.5517\n",
      "Recall : 0.744186\n"
     ]
    },
    {
     "name": "stderr",
     "output_type": "stream",
     "text": [
      "Downloading artifacts: 100%|███████████████████| 7/7 [00:00<00:00, 468.05it/s]\n"
     ]
    },
    {
     "name": "stdout",
     "output_type": "stream",
     "text": [
      "2330\n",
      "\n",
      "Model Report Train\n",
      "AUC Score : 0.978368\n",
      "Accuracy : 0.9325\n",
      "Precision : 0.7051\n",
      "Recall : 0.959302\n",
      "\n",
      "Model Report Test\n",
      "AUC Score : 0.914469\n",
      "Accuracy : 0.8688\n",
      "Precision : 0.5517\n",
      "Recall : 0.744186\n"
     ]
    },
    {
     "name": "stderr",
     "output_type": "stream",
     "text": [
      "Downloading artifacts: 100%|███████████████████| 7/7 [00:00<00:00, 696.51it/s]\n"
     ]
    },
    {
     "name": "stdout",
     "output_type": "stream",
     "text": [
      "2340\n",
      "\n",
      "Model Report Train\n",
      "AUC Score : 0.978368\n",
      "Accuracy : 0.9325\n",
      "Precision : 0.7051\n",
      "Recall : 0.959302\n",
      "\n",
      "Model Report Test\n",
      "AUC Score : 0.914469\n",
      "Accuracy : 0.8688\n",
      "Precision : 0.5517\n",
      "Recall : 0.744186\n"
     ]
    },
    {
     "name": "stderr",
     "output_type": "stream",
     "text": [
      "Downloading artifacts: 100%|███████████████████| 7/7 [00:00<00:00, 439.75it/s]\n"
     ]
    },
    {
     "name": "stdout",
     "output_type": "stream",
     "text": [
      "2350\n",
      "\n",
      "Model Report Train\n",
      "AUC Score : 0.978368\n",
      "Accuracy : 0.9325\n",
      "Precision : 0.7051\n",
      "Recall : 0.959302\n",
      "\n",
      "Model Report Test\n",
      "AUC Score : 0.914469\n",
      "Accuracy : 0.8688\n",
      "Precision : 0.5517\n",
      "Recall : 0.744186\n"
     ]
    },
    {
     "name": "stderr",
     "output_type": "stream",
     "text": [
      "Downloading artifacts: 100%|███████████████████| 7/7 [00:00<00:00, 471.54it/s]\n"
     ]
    },
    {
     "name": "stdout",
     "output_type": "stream",
     "text": [
      "2360\n",
      "\n",
      "Model Report Train\n",
      "AUC Score : 0.978368\n",
      "Accuracy : 0.9325\n",
      "Precision : 0.7051\n",
      "Recall : 0.959302\n",
      "\n",
      "Model Report Test\n",
      "AUC Score : 0.914469\n",
      "Accuracy : 0.8688\n",
      "Precision : 0.5517\n",
      "Recall : 0.744186\n"
     ]
    },
    {
     "name": "stderr",
     "output_type": "stream",
     "text": [
      "Downloading artifacts: 100%|██████████████████| 7/7 [00:00<00:00, 1226.51it/s]\n"
     ]
    },
    {
     "name": "stdout",
     "output_type": "stream",
     "text": [
      "2370\n",
      "\n",
      "Model Report Train\n",
      "AUC Score : 0.978368\n",
      "Accuracy : 0.9325\n",
      "Precision : 0.7051\n",
      "Recall : 0.959302\n",
      "\n",
      "Model Report Test\n",
      "AUC Score : 0.914469\n",
      "Accuracy : 0.8688\n",
      "Precision : 0.5517\n",
      "Recall : 0.744186\n"
     ]
    },
    {
     "name": "stderr",
     "output_type": "stream",
     "text": [
      "Downloading artifacts: 100%|███████████████████| 7/7 [00:00<00:00, 827.16it/s]\n"
     ]
    },
    {
     "name": "stdout",
     "output_type": "stream",
     "text": [
      "2380\n",
      "\n",
      "Model Report Train\n",
      "AUC Score : 0.978368\n",
      "Accuracy : 0.9325\n",
      "Precision : 0.7051\n",
      "Recall : 0.959302\n",
      "\n",
      "Model Report Test\n",
      "AUC Score : 0.914469\n",
      "Accuracy : 0.8688\n",
      "Precision : 0.5517\n",
      "Recall : 0.744186\n"
     ]
    },
    {
     "name": "stderr",
     "output_type": "stream",
     "text": [
      "Downloading artifacts: 100%|███████████████████| 7/7 [00:00<00:00, 624.25it/s]\n"
     ]
    },
    {
     "name": "stdout",
     "output_type": "stream",
     "text": [
      "2390\n",
      "\n",
      "Model Report Train\n",
      "AUC Score : 0.978368\n",
      "Accuracy : 0.9325\n",
      "Precision : 0.7051\n",
      "Recall : 0.959302\n",
      "\n",
      "Model Report Test\n",
      "AUC Score : 0.914469\n",
      "Accuracy : 0.8688\n",
      "Precision : 0.5517\n",
      "Recall : 0.744186\n"
     ]
    },
    {
     "name": "stderr",
     "output_type": "stream",
     "text": [
      "Downloading artifacts: 100%|██████████████████| 7/7 [00:00<00:00, 1154.91it/s]\n"
     ]
    },
    {
     "name": "stdout",
     "output_type": "stream",
     "text": [
      "2400\n",
      "\n",
      "Model Report Train\n",
      "AUC Score : 0.978368\n",
      "Accuracy : 0.9325\n",
      "Precision : 0.7051\n",
      "Recall : 0.959302\n",
      "\n",
      "Model Report Test\n",
      "AUC Score : 0.914469\n",
      "Accuracy : 0.8688\n",
      "Precision : 0.5517\n",
      "Recall : 0.744186\n"
     ]
    },
    {
     "name": "stderr",
     "output_type": "stream",
     "text": [
      "Downloading artifacts: 100%|██████████████████| 7/7 [00:00<00:00, 1238.04it/s]\n"
     ]
    },
    {
     "name": "stdout",
     "output_type": "stream",
     "text": [
      "2410\n",
      "\n",
      "Model Report Train\n",
      "AUC Score : 0.978368\n",
      "Accuracy : 0.9325\n",
      "Precision : 0.7051\n",
      "Recall : 0.959302\n",
      "\n",
      "Model Report Test\n",
      "AUC Score : 0.914469\n",
      "Accuracy : 0.8688\n",
      "Precision : 0.5517\n",
      "Recall : 0.744186\n"
     ]
    },
    {
     "name": "stderr",
     "output_type": "stream",
     "text": [
      "Downloading artifacts: 100%|███████████████████| 7/7 [00:00<00:00, 977.73it/s]\n"
     ]
    },
    {
     "name": "stdout",
     "output_type": "stream",
     "text": [
      "2420\n",
      "\n",
      "Model Report Train\n",
      "AUC Score : 0.978368\n",
      "Accuracy : 0.9325\n",
      "Precision : 0.7051\n",
      "Recall : 0.959302\n",
      "\n",
      "Model Report Test\n",
      "AUC Score : 0.914469\n",
      "Accuracy : 0.8688\n",
      "Precision : 0.5517\n",
      "Recall : 0.744186\n"
     ]
    },
    {
     "name": "stderr",
     "output_type": "stream",
     "text": [
      "Downloading artifacts: 100%|███████████████████| 7/7 [00:00<00:00, 783.02it/s]\n"
     ]
    },
    {
     "name": "stdout",
     "output_type": "stream",
     "text": [
      "2430\n",
      "\n",
      "Model Report Train\n",
      "AUC Score : 0.978368\n",
      "Accuracy : 0.9325\n",
      "Precision : 0.7051\n",
      "Recall : 0.959302\n",
      "\n",
      "Model Report Test\n",
      "AUC Score : 0.914469\n",
      "Accuracy : 0.8688\n",
      "Precision : 0.5517\n",
      "Recall : 0.744186\n"
     ]
    },
    {
     "name": "stderr",
     "output_type": "stream",
     "text": [
      "Downloading artifacts: 100%|███████████████████| 7/7 [00:00<00:00, 997.08it/s]\n"
     ]
    },
    {
     "name": "stdout",
     "output_type": "stream",
     "text": [
      "2440\n",
      "\n",
      "Model Report Train\n",
      "AUC Score : 0.978368\n",
      "Accuracy : 0.9325\n",
      "Precision : 0.7051\n",
      "Recall : 0.959302\n",
      "\n",
      "Model Report Test\n",
      "AUC Score : 0.914469\n",
      "Accuracy : 0.8688\n",
      "Precision : 0.5517\n",
      "Recall : 0.744186\n"
     ]
    },
    {
     "name": "stderr",
     "output_type": "stream",
     "text": [
      "Downloading artifacts: 100%|███████████████████| 7/7 [00:00<00:00, 636.77it/s]\n"
     ]
    },
    {
     "name": "stdout",
     "output_type": "stream",
     "text": [
      "2450\n",
      "\n",
      "Model Report Train\n",
      "AUC Score : 0.978368\n",
      "Accuracy : 0.9325\n",
      "Precision : 0.7051\n",
      "Recall : 0.959302\n",
      "\n",
      "Model Report Test\n",
      "AUC Score : 0.914469\n",
      "Accuracy : 0.8688\n",
      "Precision : 0.5517\n",
      "Recall : 0.744186\n"
     ]
    },
    {
     "name": "stderr",
     "output_type": "stream",
     "text": [
      "Downloading artifacts: 100%|██████████████████| 7/7 [00:00<00:00, 1615.15it/s]\n"
     ]
    },
    {
     "name": "stdout",
     "output_type": "stream",
     "text": [
      "2460\n",
      "\n",
      "Model Report Train\n",
      "AUC Score : 0.978368\n",
      "Accuracy : 0.9325\n",
      "Precision : 0.7051\n",
      "Recall : 0.959302\n",
      "\n",
      "Model Report Test\n",
      "AUC Score : 0.914469\n",
      "Accuracy : 0.8688\n",
      "Precision : 0.5517\n",
      "Recall : 0.744186\n"
     ]
    },
    {
     "name": "stderr",
     "output_type": "stream",
     "text": [
      "Downloading artifacts: 100%|██████████████████| 7/7 [00:00<00:00, 1338.38it/s]\n"
     ]
    },
    {
     "name": "stdout",
     "output_type": "stream",
     "text": [
      "2470\n",
      "\n",
      "Model Report Train\n",
      "AUC Score : 0.978368\n",
      "Accuracy : 0.9325\n",
      "Precision : 0.7051\n",
      "Recall : 0.959302\n",
      "\n",
      "Model Report Test\n",
      "AUC Score : 0.914469\n",
      "Accuracy : 0.8688\n",
      "Precision : 0.5517\n",
      "Recall : 0.744186\n"
     ]
    },
    {
     "name": "stderr",
     "output_type": "stream",
     "text": [
      "Downloading artifacts: 100%|███████████████████| 7/7 [00:00<00:00, 570.06it/s]\n"
     ]
    },
    {
     "name": "stdout",
     "output_type": "stream",
     "text": [
      "2480\n",
      "\n",
      "Model Report Train\n",
      "AUC Score : 0.978368\n",
      "Accuracy : 0.9325\n",
      "Precision : 0.7051\n",
      "Recall : 0.959302\n",
      "\n",
      "Model Report Test\n",
      "AUC Score : 0.914469\n",
      "Accuracy : 0.8688\n",
      "Precision : 0.5517\n",
      "Recall : 0.744186\n"
     ]
    },
    {
     "name": "stderr",
     "output_type": "stream",
     "text": [
      "Downloading artifacts: 100%|███████████████████| 7/7 [00:00<00:00, 283.99it/s]\n"
     ]
    },
    {
     "name": "stdout",
     "output_type": "stream",
     "text": [
      "2490\n",
      "\n",
      "Model Report Train\n",
      "AUC Score : 0.978368\n",
      "Accuracy : 0.9325\n",
      "Precision : 0.7051\n",
      "Recall : 0.959302\n",
      "\n",
      "Model Report Test\n",
      "AUC Score : 0.914469\n",
      "Accuracy : 0.8688\n",
      "Precision : 0.5517\n",
      "Recall : 0.744186\n"
     ]
    },
    {
     "name": "stderr",
     "output_type": "stream",
     "text": [
      "Downloading artifacts: 100%|███████████████████| 7/7 [00:00<00:00, 725.86it/s]\n"
     ]
    },
    {
     "name": "stdout",
     "output_type": "stream",
     "text": [
      "2500\n",
      "\n",
      "Model Report Train\n",
      "AUC Score : 0.978368\n",
      "Accuracy : 0.9325\n",
      "Precision : 0.7051\n",
      "Recall : 0.959302\n",
      "\n",
      "Model Report Test\n",
      "AUC Score : 0.914469\n",
      "Accuracy : 0.8688\n",
      "Precision : 0.5517\n",
      "Recall : 0.744186\n"
     ]
    },
    {
     "name": "stderr",
     "output_type": "stream",
     "text": [
      "Downloading artifacts: 100%|███████████████████| 7/7 [00:00<00:00, 985.54it/s]\n"
     ]
    },
    {
     "name": "stdout",
     "output_type": "stream",
     "text": [
      "2510\n",
      "\n",
      "Model Report Train\n",
      "AUC Score : 0.978368\n",
      "Accuracy : 0.9325\n",
      "Precision : 0.7051\n",
      "Recall : 0.959302\n",
      "\n",
      "Model Report Test\n",
      "AUC Score : 0.914469\n",
      "Accuracy : 0.8688\n",
      "Precision : 0.5517\n",
      "Recall : 0.744186\n"
     ]
    },
    {
     "name": "stderr",
     "output_type": "stream",
     "text": [
      "Downloading artifacts: 100%|███████████████████| 7/7 [00:00<00:00, 594.31it/s]\n"
     ]
    },
    {
     "name": "stdout",
     "output_type": "stream",
     "text": [
      "2520\n",
      "\n",
      "Model Report Train\n",
      "AUC Score : 0.978368\n",
      "Accuracy : 0.9325\n",
      "Precision : 0.7051\n",
      "Recall : 0.959302\n",
      "\n",
      "Model Report Test\n",
      "AUC Score : 0.914469\n",
      "Accuracy : 0.8688\n",
      "Precision : 0.5517\n",
      "Recall : 0.744186\n"
     ]
    },
    {
     "name": "stderr",
     "output_type": "stream",
     "text": [
      "Downloading artifacts: 100%|██████████████████| 7/7 [00:00<00:00, 1063.35it/s]\n"
     ]
    },
    {
     "name": "stdout",
     "output_type": "stream",
     "text": [
      "2530\n",
      "\n",
      "Model Report Train\n",
      "AUC Score : 0.978368\n",
      "Accuracy : 0.9325\n",
      "Precision : 0.7051\n",
      "Recall : 0.959302\n",
      "\n",
      "Model Report Test\n",
      "AUC Score : 0.914469\n",
      "Accuracy : 0.8688\n",
      "Precision : 0.5517\n",
      "Recall : 0.744186\n"
     ]
    },
    {
     "name": "stderr",
     "output_type": "stream",
     "text": [
      "Downloading artifacts: 100%|██████████████████| 7/7 [00:00<00:00, 1407.08it/s]\n"
     ]
    },
    {
     "name": "stdout",
     "output_type": "stream",
     "text": [
      "2540\n",
      "\n",
      "Model Report Train\n",
      "AUC Score : 0.978368\n",
      "Accuracy : 0.9325\n",
      "Precision : 0.7051\n",
      "Recall : 0.959302\n",
      "\n",
      "Model Report Test\n",
      "AUC Score : 0.914469\n",
      "Accuracy : 0.8688\n",
      "Precision : 0.5517\n",
      "Recall : 0.744186\n"
     ]
    },
    {
     "name": "stderr",
     "output_type": "stream",
     "text": [
      "Downloading artifacts: 100%|███████████████████| 7/7 [00:00<00:00, 663.27it/s]\n"
     ]
    },
    {
     "name": "stdout",
     "output_type": "stream",
     "text": [
      "2550\n",
      "\n",
      "Model Report Train\n",
      "AUC Score : 0.978368\n",
      "Accuracy : 0.9325\n",
      "Precision : 0.7051\n",
      "Recall : 0.959302\n",
      "\n",
      "Model Report Test\n",
      "AUC Score : 0.914469\n",
      "Accuracy : 0.8688\n",
      "Precision : 0.5517\n",
      "Recall : 0.744186\n"
     ]
    },
    {
     "name": "stderr",
     "output_type": "stream",
     "text": [
      "Downloading artifacts: 100%|███████████████████| 7/7 [00:00<00:00, 595.35it/s]\n"
     ]
    },
    {
     "name": "stdout",
     "output_type": "stream",
     "text": [
      "2560\n",
      "\n",
      "Model Report Train\n",
      "AUC Score : 0.978368\n",
      "Accuracy : 0.9325\n",
      "Precision : 0.7051\n",
      "Recall : 0.959302\n",
      "\n",
      "Model Report Test\n",
      "AUC Score : 0.914469\n",
      "Accuracy : 0.8688\n",
      "Precision : 0.5517\n",
      "Recall : 0.744186\n"
     ]
    },
    {
     "name": "stderr",
     "output_type": "stream",
     "text": [
      "Downloading artifacts: 100%|██████████████████| 7/7 [00:00<00:00, 1142.91it/s]\n"
     ]
    },
    {
     "name": "stdout",
     "output_type": "stream",
     "text": [
      "2570\n",
      "\n",
      "Model Report Train\n",
      "AUC Score : 0.978368\n",
      "Accuracy : 0.9325\n",
      "Precision : 0.7051\n",
      "Recall : 0.959302\n",
      "\n",
      "Model Report Test\n",
      "AUC Score : 0.914469\n",
      "Accuracy : 0.8688\n",
      "Precision : 0.5517\n",
      "Recall : 0.744186\n"
     ]
    },
    {
     "name": "stderr",
     "output_type": "stream",
     "text": [
      "Downloading artifacts: 100%|███████████████████| 7/7 [00:00<00:00, 883.44it/s]\n"
     ]
    },
    {
     "name": "stdout",
     "output_type": "stream",
     "text": [
      "2580\n",
      "\n",
      "Model Report Train\n",
      "AUC Score : 0.978368\n",
      "Accuracy : 0.9325\n",
      "Precision : 0.7051\n",
      "Recall : 0.959302\n",
      "\n",
      "Model Report Test\n",
      "AUC Score : 0.914469\n",
      "Accuracy : 0.8688\n",
      "Precision : 0.5517\n",
      "Recall : 0.744186\n"
     ]
    },
    {
     "name": "stderr",
     "output_type": "stream",
     "text": [
      "Downloading artifacts: 100%|███████████████████| 7/7 [00:00<00:00, 559.65it/s]\n"
     ]
    },
    {
     "name": "stdout",
     "output_type": "stream",
     "text": [
      "2590\n",
      "\n",
      "Model Report Train\n",
      "AUC Score : 0.978368\n",
      "Accuracy : 0.9325\n",
      "Precision : 0.7051\n",
      "Recall : 0.959302\n",
      "\n",
      "Model Report Test\n",
      "AUC Score : 0.914469\n",
      "Accuracy : 0.8688\n",
      "Precision : 0.5517\n",
      "Recall : 0.744186\n"
     ]
    },
    {
     "name": "stderr",
     "output_type": "stream",
     "text": [
      "Downloading artifacts: 100%|██████████████████| 7/7 [00:00<00:00, 1225.38it/s]\n"
     ]
    },
    {
     "name": "stdout",
     "output_type": "stream",
     "text": [
      "2600\n",
      "\n",
      "Model Report Train\n",
      "AUC Score : 0.978368\n",
      "Accuracy : 0.9325\n",
      "Precision : 0.7051\n",
      "Recall : 0.959302\n",
      "\n",
      "Model Report Test\n",
      "AUC Score : 0.914469\n",
      "Accuracy : 0.8688\n",
      "Precision : 0.5517\n",
      "Recall : 0.744186\n"
     ]
    },
    {
     "name": "stderr",
     "output_type": "stream",
     "text": [
      "Downloading artifacts: 100%|███████████████████| 7/7 [00:00<00:00, 790.70it/s]\n"
     ]
    },
    {
     "name": "stdout",
     "output_type": "stream",
     "text": [
      "2610\n",
      "\n",
      "Model Report Train\n",
      "AUC Score : 0.978368\n",
      "Accuracy : 0.9325\n",
      "Precision : 0.7051\n",
      "Recall : 0.959302\n",
      "\n",
      "Model Report Test\n",
      "AUC Score : 0.914469\n",
      "Accuracy : 0.8688\n",
      "Precision : 0.5517\n",
      "Recall : 0.744186\n"
     ]
    },
    {
     "name": "stderr",
     "output_type": "stream",
     "text": [
      "Downloading artifacts: 100%|███████████████████| 7/7 [00:00<00:00, 712.59it/s]\n"
     ]
    },
    {
     "name": "stdout",
     "output_type": "stream",
     "text": [
      "2620\n",
      "\n",
      "Model Report Train\n",
      "AUC Score : 0.978368\n",
      "Accuracy : 0.9325\n",
      "Precision : 0.7051\n",
      "Recall : 0.959302\n",
      "\n",
      "Model Report Test\n",
      "AUC Score : 0.914469\n",
      "Accuracy : 0.8688\n",
      "Precision : 0.5517\n",
      "Recall : 0.744186\n"
     ]
    },
    {
     "name": "stderr",
     "output_type": "stream",
     "text": [
      "Downloading artifacts: 100%|███████████████████| 7/7 [00:00<00:00, 909.26it/s]\n"
     ]
    },
    {
     "name": "stdout",
     "output_type": "stream",
     "text": [
      "2630\n",
      "\n",
      "Model Report Train\n",
      "AUC Score : 0.978368\n",
      "Accuracy : 0.9325\n",
      "Precision : 0.7051\n",
      "Recall : 0.959302\n",
      "\n",
      "Model Report Test\n",
      "AUC Score : 0.914469\n",
      "Accuracy : 0.8688\n",
      "Precision : 0.5517\n",
      "Recall : 0.744186\n"
     ]
    },
    {
     "name": "stderr",
     "output_type": "stream",
     "text": [
      "Downloading artifacts: 100%|███████████████████| 7/7 [00:00<00:00, 683.91it/s]\n"
     ]
    },
    {
     "name": "stdout",
     "output_type": "stream",
     "text": [
      "2640\n",
      "\n",
      "Model Report Train\n",
      "AUC Score : 0.978368\n",
      "Accuracy : 0.9325\n",
      "Precision : 0.7051\n",
      "Recall : 0.959302\n",
      "\n",
      "Model Report Test\n",
      "AUC Score : 0.914469\n",
      "Accuracy : 0.8688\n",
      "Precision : 0.5517\n",
      "Recall : 0.744186\n"
     ]
    },
    {
     "name": "stderr",
     "output_type": "stream",
     "text": [
      "Downloading artifacts: 100%|███████████████████| 7/7 [00:00<00:00, 694.01it/s]\n"
     ]
    },
    {
     "name": "stdout",
     "output_type": "stream",
     "text": [
      "2650\n",
      "\n",
      "Model Report Train\n",
      "AUC Score : 0.978368\n",
      "Accuracy : 0.9325\n",
      "Precision : 0.7051\n",
      "Recall : 0.959302\n",
      "\n",
      "Model Report Test\n",
      "AUC Score : 0.914469\n",
      "Accuracy : 0.8688\n",
      "Precision : 0.5517\n",
      "Recall : 0.744186\n"
     ]
    },
    {
     "name": "stderr",
     "output_type": "stream",
     "text": [
      "Downloading artifacts: 100%|███████████████████| 7/7 [00:00<00:00, 907.32it/s]\n"
     ]
    },
    {
     "name": "stdout",
     "output_type": "stream",
     "text": [
      "2660\n",
      "\n",
      "Model Report Train\n",
      "AUC Score : 0.978368\n",
      "Accuracy : 0.9325\n",
      "Precision : 0.7051\n",
      "Recall : 0.959302\n",
      "\n",
      "Model Report Test\n",
      "AUC Score : 0.914469\n",
      "Accuracy : 0.8688\n",
      "Precision : 0.5517\n",
      "Recall : 0.744186\n"
     ]
    },
    {
     "name": "stderr",
     "output_type": "stream",
     "text": [
      "Downloading artifacts: 100%|███████████████████| 7/7 [00:00<00:00, 535.81it/s]\n"
     ]
    },
    {
     "name": "stdout",
     "output_type": "stream",
     "text": [
      "2670\n",
      "\n",
      "Model Report Train\n",
      "AUC Score : 0.978368\n",
      "Accuracy : 0.9325\n",
      "Precision : 0.7051\n",
      "Recall : 0.959302\n",
      "\n",
      "Model Report Test\n",
      "AUC Score : 0.914469\n",
      "Accuracy : 0.8688\n",
      "Precision : 0.5517\n",
      "Recall : 0.744186\n"
     ]
    },
    {
     "name": "stderr",
     "output_type": "stream",
     "text": [
      "Downloading artifacts: 100%|███████████████████| 7/7 [00:00<00:00, 724.51it/s]\n"
     ]
    },
    {
     "name": "stdout",
     "output_type": "stream",
     "text": [
      "2680\n",
      "\n",
      "Model Report Train\n",
      "AUC Score : 0.978368\n",
      "Accuracy : 0.9325\n",
      "Precision : 0.7051\n",
      "Recall : 0.959302\n",
      "\n",
      "Model Report Test\n",
      "AUC Score : 0.914469\n",
      "Accuracy : 0.8688\n",
      "Precision : 0.5517\n",
      "Recall : 0.744186\n"
     ]
    },
    {
     "name": "stderr",
     "output_type": "stream",
     "text": [
      "Downloading artifacts: 100%|███████████████████| 7/7 [00:00<00:00, 986.99it/s]\n"
     ]
    },
    {
     "name": "stdout",
     "output_type": "stream",
     "text": [
      "2690\n",
      "\n",
      "Model Report Train\n",
      "AUC Score : 0.978368\n",
      "Accuracy : 0.9325\n",
      "Precision : 0.7051\n",
      "Recall : 0.959302\n",
      "\n",
      "Model Report Test\n",
      "AUC Score : 0.914469\n",
      "Accuracy : 0.8688\n",
      "Precision : 0.5517\n",
      "Recall : 0.744186\n"
     ]
    },
    {
     "name": "stderr",
     "output_type": "stream",
     "text": [
      "Downloading artifacts: 100%|███████████████████| 7/7 [00:00<00:00, 701.29it/s]\n"
     ]
    },
    {
     "name": "stdout",
     "output_type": "stream",
     "text": [
      "2700\n",
      "\n",
      "Model Report Train\n",
      "AUC Score : 0.978852\n",
      "Accuracy : 0.9229\n",
      "Precision : 0.6822\n",
      "Recall : 0.930636\n",
      "\n",
      "Model Report Test\n",
      "AUC Score : 0.913691\n",
      "Accuracy : 0.8759\n",
      "Precision : 0.5667\n",
      "Recall : 0.790698\n"
     ]
    },
    {
     "name": "stderr",
     "output_type": "stream",
     "text": [
      "Downloading artifacts: 100%|███████████████████| 7/7 [00:00<00:00, 489.59it/s]\n"
     ]
    },
    {
     "name": "stdout",
     "output_type": "stream",
     "text": [
      "2710\n",
      "\n",
      "Model Report Train\n",
      "AUC Score : 0.980355\n",
      "Accuracy : 0.9212\n",
      "Precision : 0.6721\n",
      "Recall : 0.947977\n",
      "\n",
      "Model Report Test\n",
      "AUC Score : 0.912209\n",
      "Accuracy : 0.8763\n",
      "Precision : 0.569\n",
      "Recall : 0.767442\n"
     ]
    },
    {
     "name": "stderr",
     "output_type": "stream",
     "text": [
      "Downloading artifacts: 100%|██████████████████| 7/7 [00:00<00:00, 1557.07it/s]\n"
     ]
    },
    {
     "name": "stdout",
     "output_type": "stream",
     "text": [
      "2720\n",
      "\n",
      "Model Report Train\n",
      "AUC Score : 0.978640\n",
      "Accuracy : 0.9293\n",
      "Precision : 0.6958\n",
      "Recall : 0.959770\n",
      "\n",
      "Model Report Test\n",
      "AUC Score : 0.911468\n",
      "Accuracy : 0.8799\n",
      "Precision : 0.5862\n",
      "Recall : 0.772727\n"
     ]
    },
    {
     "name": "stderr",
     "output_type": "stream",
     "text": [
      "Downloading artifacts: 100%|███████████████████| 7/7 [00:00<00:00, 683.27it/s]\n"
     ]
    },
    {
     "name": "stdout",
     "output_type": "stream",
     "text": [
      "2730\n",
      "\n",
      "Model Report Train\n",
      "AUC Score : 0.977976\n",
      "Accuracy : 0.9217\n",
      "Precision : 0.6833\n",
      "Recall : 0.926554\n",
      "\n",
      "Model Report Test\n",
      "AUC Score : 0.903148\n",
      "Accuracy : 0.8807\n",
      "Precision : 0.6122\n",
      "Recall : 0.666667\n"
     ]
    },
    {
     "name": "stderr",
     "output_type": "stream",
     "text": [
      "Downloading artifacts: 100%|███████████████████| 7/7 [00:00<00:00, 476.86it/s]\n"
     ]
    },
    {
     "name": "stdout",
     "output_type": "stream",
     "text": [
      "2740\n",
      "\n",
      "Model Report Train\n",
      "AUC Score : 0.976886\n",
      "Accuracy : 0.924\n",
      "Precision : 0.6992\n",
      "Recall : 0.929730\n",
      "\n",
      "Model Report Test\n",
      "AUC Score : 0.905917\n",
      "Accuracy : 0.878\n",
      "Precision : 0.6038\n",
      "Recall : 0.695652\n"
     ]
    },
    {
     "name": "stderr",
     "output_type": "stream",
     "text": [
      "Downloading artifacts: 100%|███████████████████| 7/7 [00:00<00:00, 522.29it/s]\n"
     ]
    },
    {
     "name": "stdout",
     "output_type": "stream",
     "text": [
      "2750\n",
      "\n",
      "Model Report Train\n",
      "AUC Score : 0.977552\n",
      "Accuracy : 0.9177\n",
      "Precision : 0.6805\n",
      "Recall : 0.947644\n",
      "\n",
      "Model Report Test\n",
      "AUC Score : 0.870505\n",
      "Accuracy : 0.8651\n",
      "Precision : 0.5763\n",
      "Recall : 0.708333\n"
     ]
    },
    {
     "name": "stderr",
     "output_type": "stream",
     "text": [
      "Downloading artifacts: 100%|███████████████████| 7/7 [00:00<00:00, 669.68it/s]\n"
     ]
    },
    {
     "name": "stdout",
     "output_type": "stream",
     "text": [
      "2760\n",
      "\n",
      "Model Report Train\n",
      "AUC Score : 0.977443\n",
      "Accuracy : 0.9201\n",
      "Precision : 0.696\n",
      "Recall : 0.950000\n",
      "\n",
      "Model Report Test\n",
      "AUC Score : 0.894108\n",
      "Accuracy : 0.8729\n",
      "Precision : 0.614\n",
      "Recall : 0.700000\n"
     ]
    },
    {
     "name": "stderr",
     "output_type": "stream",
     "text": [
      "Downloading artifacts: 100%|██████████████████| 7/7 [00:00<00:00, 1007.42it/s]\n"
     ]
    },
    {
     "name": "stdout",
     "output_type": "stream",
     "text": [
      "2770\n",
      "\n",
      "Model Report Train\n",
      "AUC Score : 0.976038\n",
      "Accuracy : 0.9199\n",
      "Precision : 0.7018\n",
      "Recall : 0.941463\n",
      "\n",
      "Model Report Test\n",
      "AUC Score : 0.891767\n",
      "Accuracy : 0.881\n",
      "Precision : 0.6393\n",
      "Recall : 0.750000\n"
     ]
    },
    {
     "name": "stderr",
     "output_type": "stream",
     "text": [
      "Downloading artifacts: 100%|██████████████████| 7/7 [00:00<00:00, 1115.72it/s]\n"
     ]
    },
    {
     "name": "stdout",
     "output_type": "stream",
     "text": [
      "2780\n",
      "\n",
      "Model Report Train\n",
      "AUC Score : 0.976544\n",
      "Accuracy : 0.9237\n",
      "Precision : 0.7127\n",
      "Recall : 0.946860\n",
      "\n",
      "Model Report Test\n",
      "AUC Score : 0.895457\n",
      "Accuracy : 0.8407\n",
      "Precision : 0.5373\n",
      "Recall : 0.692308\n"
     ]
    },
    {
     "name": "stderr",
     "output_type": "stream",
     "text": [
      "Downloading artifacts: 100%|███████████████████| 7/7 [00:00<00:00, 663.90it/s]\n"
     ]
    },
    {
     "name": "stdout",
     "output_type": "stream",
     "text": [
      "2790\n",
      "\n",
      "Model Report Train\n",
      "AUC Score : 0.972538\n",
      "Accuracy : 0.9139\n",
      "Precision : 0.6824\n",
      "Recall : 0.961905\n",
      "\n",
      "Model Report Test\n",
      "AUC Score : 0.907826\n",
      "Accuracy : 0.8653\n",
      "Precision : 0.6032\n",
      "Recall : 0.716981\n"
     ]
    },
    {
     "name": "stderr",
     "output_type": "stream",
     "text": [
      "Downloading artifacts: 100%|██████████████████| 7/7 [00:00<00:00, 1184.64it/s]\n"
     ]
    },
    {
     "name": "stdout",
     "output_type": "stream",
     "text": [
      "2800\n",
      "\n",
      "Model Report Train\n",
      "AUC Score : 0.975478\n",
      "Accuracy : 0.9187\n",
      "Precision : 0.7127\n",
      "Recall : 0.915888\n",
      "\n",
      "Model Report Test\n",
      "AUC Score : 0.900227\n",
      "Accuracy : 0.8662\n",
      "Precision : 0.6094\n",
      "Recall : 0.722222\n"
     ]
    },
    {
     "name": "stderr",
     "output_type": "stream",
     "text": [
      "Downloading artifacts: 100%|██████████████████| 7/7 [00:00<00:00, 1216.14it/s]\n"
     ]
    },
    {
     "name": "stdout",
     "output_type": "stream",
     "text": [
      "2810\n",
      "\n",
      "Model Report Train\n",
      "AUC Score : 0.973291\n",
      "Accuracy : 0.9151\n",
      "Precision : 0.7014\n",
      "Recall : 0.926606\n",
      "\n",
      "Model Report Test\n",
      "AUC Score : 0.912010\n",
      "Accuracy : 0.8804\n",
      "Precision : 0.6418\n",
      "Recall : 0.781818\n"
     ]
    },
    {
     "name": "stderr",
     "output_type": "stream",
     "text": [
      "Downloading artifacts: 100%|███████████████████| 7/7 [00:00<00:00, 748.43it/s]\n"
     ]
    },
    {
     "name": "stdout",
     "output_type": "stream",
     "text": [
      "2820\n",
      "\n",
      "Model Report Train\n",
      "AUC Score : 0.972838\n",
      "Accuracy : 0.9138\n",
      "Precision : 0.6936\n",
      "Recall : 0.940639\n",
      "\n",
      "Model Report Test\n",
      "AUC Score : 0.909790\n",
      "Accuracy : 0.8907\n",
      "Precision : 0.6667\n",
      "Recall : 0.800000\n"
     ]
    },
    {
     "name": "stderr",
     "output_type": "stream",
     "text": [
      "Downloading artifacts: 100%|███████████████████| 7/7 [00:00<00:00, 560.41it/s]\n"
     ]
    },
    {
     "name": "stdout",
     "output_type": "stream",
     "text": [
      "2830\n",
      "\n",
      "Model Report Train\n",
      "AUC Score : 0.974128\n",
      "Accuracy : 0.9125\n",
      "Precision : 0.6918\n",
      "Recall : 0.946188\n",
      "\n",
      "Model Report Test\n",
      "AUC Score : 0.919173\n",
      "Accuracy : 0.8812\n",
      "Precision : 0.6562\n",
      "Recall : 0.750000\n"
     ]
    },
    {
     "name": "stderr",
     "output_type": "stream",
     "text": [
      "Downloading artifacts: 100%|███████████████████| 7/7 [00:00<00:00, 965.73it/s]\n"
     ]
    },
    {
     "name": "stdout",
     "output_type": "stream",
     "text": [
      "2840\n",
      "\n",
      "Model Report Train\n",
      "AUC Score : 0.972474\n",
      "Accuracy : 0.9153\n",
      "Precision : 0.701\n",
      "Recall : 0.941964\n",
      "\n",
      "Model Report Test\n",
      "AUC Score : 0.928607\n",
      "Accuracy : 0.8754\n",
      "Precision : 0.625\n",
      "Recall : 0.803571\n"
     ]
    },
    {
     "name": "stderr",
     "output_type": "stream",
     "text": [
      "Downloading artifacts: 100%|███████████████████| 7/7 [00:00<00:00, 519.35it/s]\n"
     ]
    },
    {
     "name": "stdout",
     "output_type": "stream",
     "text": [
      "2850\n",
      "\n",
      "Model Report Train\n",
      "AUC Score : 0.969665\n",
      "Accuracy : 0.8999\n",
      "Precision : 0.6645\n",
      "Recall : 0.924444\n",
      "\n",
      "Model Report Test\n",
      "AUC Score : 0.930400\n",
      "Accuracy : 0.8754\n",
      "Precision : 0.6216\n",
      "Recall : 0.821429\n"
     ]
    },
    {
     "name": "stderr",
     "output_type": "stream",
     "text": [
      "Downloading artifacts: 100%|██████████████████| 7/7 [00:00<00:00, 1479.70it/s]\n"
     ]
    },
    {
     "name": "stdout",
     "output_type": "stream",
     "text": [
      "2860\n",
      "\n",
      "Model Report Train\n",
      "AUC Score : 0.969522\n",
      "Accuracy : 0.9045\n",
      "Precision : 0.6772\n",
      "Recall : 0.934498\n",
      "\n",
      "Model Report Test\n",
      "AUC Score : 0.934246\n",
      "Accuracy : 0.8827\n",
      "Precision : 0.64\n",
      "Recall : 0.842105\n"
     ]
    },
    {
     "name": "stderr",
     "output_type": "stream",
     "text": [
      "Downloading artifacts: 100%|███████████████████| 7/7 [00:00<00:00, 728.77it/s]\n"
     ]
    },
    {
     "name": "stdout",
     "output_type": "stream",
     "text": [
      "2870\n",
      "\n",
      "Model Report Train\n",
      "AUC Score : 0.970127\n",
      "Accuracy : 0.9057\n",
      "Precision : 0.6789\n",
      "Recall : 0.952790\n",
      "\n",
      "Model Report Test\n",
      "AUC Score : 0.921931\n",
      "Accuracy : 0.8766\n",
      "Precision : 0.6351\n",
      "Recall : 0.810345\n"
     ]
    },
    {
     "name": "stderr",
     "output_type": "stream",
     "text": [
      "Downloading artifacts: 100%|██████████████████| 7/7 [00:00<00:00, 1093.41it/s]\n"
     ]
    },
    {
     "name": "stdout",
     "output_type": "stream",
     "text": [
      "2880\n",
      "\n",
      "Model Report Train\n",
      "AUC Score : 0.969541\n",
      "Accuracy : 0.9011\n",
      "Precision : 0.675\n",
      "Recall : 0.923077\n",
      "\n",
      "Model Report Test\n",
      "AUC Score : 0.933695\n",
      "Accuracy : 0.8932\n",
      "Precision : 0.6806\n",
      "Recall : 0.830508\n"
     ]
    },
    {
     "name": "stderr",
     "output_type": "stream",
     "text": [
      "Downloading artifacts: 100%|██████████████████| 7/7 [00:00<00:00, 1065.51it/s]\n"
     ]
    },
    {
     "name": "stdout",
     "output_type": "stream",
     "text": [
      "2890\n",
      "\n",
      "Model Report Train\n",
      "AUC Score : 0.971148\n",
      "Accuracy : 0.9079\n",
      "Precision : 0.6885\n",
      "Recall : 0.940426\n",
      "\n",
      "Model Report Test\n",
      "AUC Score : 0.919036\n",
      "Accuracy : 0.8742\n",
      "Precision : 0.6316\n",
      "Recall : 0.813559\n"
     ]
    },
    {
     "name": "stderr",
     "output_type": "stream",
     "text": [
      "Downloading artifacts: 100%|███████████████████| 7/7 [00:00<00:00, 451.42it/s]\n"
     ]
    },
    {
     "name": "stdout",
     "output_type": "stream",
     "text": [
      "2900\n",
      "\n",
      "Model Report Train\n",
      "AUC Score : 0.971448\n",
      "Accuracy : 0.9089\n",
      "Precision : 0.6916\n",
      "Recall : 0.940678\n",
      "\n",
      "Model Report Test\n",
      "AUC Score : 0.928302\n",
      "Accuracy : 0.8842\n",
      "Precision : 0.6533\n",
      "Recall : 0.830508\n"
     ]
    },
    {
     "name": "stderr",
     "output_type": "stream",
     "text": [
      "Downloading artifacts: 100%|███████████████████| 7/7 [00:00<00:00, 731.94it/s]\n"
     ]
    },
    {
     "name": "stdout",
     "output_type": "stream",
     "text": [
      "2910\n",
      "\n",
      "Model Report Train\n",
      "AUC Score : 0.965679\n",
      "Accuracy : 0.9036\n",
      "Precision : 0.6855\n",
      "Recall : 0.915966\n",
      "\n",
      "Model Report Test\n",
      "AUC Score : 0.930456\n",
      "Accuracy : 0.8846\n",
      "Precision : 0.6622\n",
      "Recall : 0.816667\n"
     ]
    },
    {
     "name": "stderr",
     "output_type": "stream",
     "text": [
      "Downloading artifacts: 100%|███████████████████| 7/7 [00:00<00:00, 745.31it/s]\n"
     ]
    },
    {
     "name": "stdout",
     "output_type": "stream",
     "text": [
      "2920\n",
      "\n",
      "Model Report Train\n",
      "AUC Score : 0.967049\n",
      "Accuracy : 0.8994\n",
      "Precision : 0.6737\n",
      "Recall : 0.925311\n",
      "\n",
      "Model Report Test\n",
      "AUC Score : 0.940322\n",
      "Accuracy : 0.8854\n",
      "Precision : 0.6667\n",
      "Recall : 0.800000\n"
     ]
    },
    {
     "name": "stderr",
     "output_type": "stream",
     "text": [
      "Downloading artifacts: 100%|███████████████████| 7/7 [00:00<00:00, 701.10it/s]\n"
     ]
    },
    {
     "name": "stdout",
     "output_type": "stream",
     "text": [
      "2930\n",
      "\n",
      "Model Report Train\n",
      "AUC Score : 0.968847\n",
      "Accuracy : 0.9053\n",
      "Precision : 0.6869\n",
      "Recall : 0.933884\n",
      "\n",
      "Model Report Test\n",
      "AUC Score : 0.928488\n",
      "Accuracy : 0.8762\n",
      "Precision : 0.6447\n",
      "Recall : 0.803279\n"
     ]
    },
    {
     "name": "stderr",
     "output_type": "stream",
     "text": [
      "Downloading artifacts: 100%|███████████████████| 7/7 [00:00<00:00, 728.58it/s]\n"
     ]
    },
    {
     "name": "stdout",
     "output_type": "stream",
     "text": [
      "2940\n",
      "\n",
      "Model Report Train\n",
      "AUC Score : 0.966432\n",
      "Accuracy : 0.8967\n",
      "Precision : 0.6749\n",
      "Recall : 0.897119\n",
      "\n",
      "Model Report Test\n",
      "AUC Score : 0.938686\n",
      "Accuracy : 0.873\n",
      "Precision : 0.64\n",
      "Recall : 0.786885\n"
     ]
    },
    {
     "name": "stderr",
     "output_type": "stream",
     "text": [
      "Downloading artifacts: 100%|███████████████████| 7/7 [00:00<00:00, 631.63it/s]\n"
     ]
    },
    {
     "name": "stdout",
     "output_type": "stream",
     "text": [
      "2950\n",
      "\n",
      "Model Report Train\n",
      "AUC Score : 0.967062\n",
      "Accuracy : 0.9002\n",
      "Precision : 0.6788\n",
      "Recall : 0.918033\n",
      "\n",
      "Model Report Test\n",
      "AUC Score : 0.949470\n",
      "Accuracy : 0.8956\n",
      "Precision : 0.6795\n",
      "Recall : 0.868852\n"
     ]
    },
    {
     "name": "stderr",
     "output_type": "stream",
     "text": [
      "Downloading artifacts: 100%|███████████████████| 7/7 [00:00<00:00, 700.18it/s]\n"
     ]
    },
    {
     "name": "stdout",
     "output_type": "stream",
     "text": [
      "2960\n",
      "\n",
      "Model Report Train\n",
      "AUC Score : 0.966054\n",
      "Accuracy : 0.9005\n",
      "Precision : 0.6799\n",
      "Recall : 0.913934\n",
      "\n",
      "Model Report Test\n",
      "AUC Score : 0.935195\n",
      "Accuracy : 0.8738\n",
      "Precision : 0.6329\n",
      "Recall : 0.819672\n"
     ]
    },
    {
     "name": "stderr",
     "output_type": "stream",
     "text": [
      "Downloading artifacts: 100%|███████████████████| 7/7 [00:00<00:00, 660.07it/s]\n"
     ]
    },
    {
     "name": "stdout",
     "output_type": "stream",
     "text": [
      "2970\n",
      "\n",
      "Model Report Train\n",
      "AUC Score : 0.966880\n",
      "Accuracy : 0.9067\n",
      "Precision : 0.6964\n",
      "Recall : 0.932271\n",
      "\n",
      "Model Report Test\n",
      "AUC Score : 0.948675\n",
      "Accuracy : 0.8906\n",
      "Precision : 0.6667\n",
      "Recall : 0.888889\n"
     ]
    },
    {
     "name": "stderr",
     "output_type": "stream",
     "text": [
      "Downloading artifacts: 100%|███████████████████| 7/7 [00:00<00:00, 634.18it/s]\n"
     ]
    },
    {
     "name": "stdout",
     "output_type": "stream",
     "text": [
      "2980\n",
      "\n",
      "Model Report Train\n",
      "AUC Score : 0.969926\n",
      "Accuracy : 0.9107\n",
      "Precision : 0.7093\n",
      "Recall : 0.942085\n",
      "\n",
      "Model Report Test\n",
      "AUC Score : 0.954323\n",
      "Accuracy : 0.8885\n",
      "Precision : 0.6706\n",
      "Recall : 0.876923\n"
     ]
    },
    {
     "name": "stderr",
     "output_type": "stream",
     "text": [
      "Downloading artifacts: 100%|███████████████████| 7/7 [00:00<00:00, 709.82it/s]\n"
     ]
    },
    {
     "name": "stdout",
     "output_type": "stream",
     "text": [
      "2990\n",
      "\n",
      "Model Report Train\n",
      "AUC Score : 0.967376\n",
      "Accuracy : 0.9015\n",
      "Precision : 0.7006\n",
      "Recall : 0.906015\n",
      "\n",
      "Model Report Test\n",
      "AUC Score : 0.947262\n",
      "Accuracy : 0.8738\n",
      "Precision : 0.6506\n",
      "Recall : 0.818182\n"
     ]
    },
    {
     "name": "stderr",
     "output_type": "stream",
     "text": [
      "Downloading artifacts: 100%|███████████████████| 7/7 [00:00<00:00, 729.32it/s]\n"
     ]
    },
    {
     "name": "stdout",
     "output_type": "stream",
     "text": [
      "3000\n",
      "\n",
      "Model Report Train\n",
      "AUC Score : 0.965589\n",
      "Accuracy : 0.906\n",
      "Precision : 0.7151\n",
      "Recall : 0.912727\n",
      "\n",
      "Model Report Test\n",
      "AUC Score : 0.947082\n",
      "Accuracy : 0.8667\n",
      "Precision : 0.6316\n",
      "Recall : 0.869565\n"
     ]
    },
    {
     "name": "stderr",
     "output_type": "stream",
     "text": [
      "Downloading artifacts: 100%|███████████████████| 7/7 [00:00<00:00, 583.86it/s]\n"
     ]
    },
    {
     "name": "stdout",
     "output_type": "stream",
     "text": [
      "3010\n",
      "\n",
      "Model Report Train\n",
      "AUC Score : 0.968817\n",
      "Accuracy : 0.8972\n",
      "Precision : 0.6894\n",
      "Recall : 0.916667\n",
      "\n",
      "Model Report Test\n",
      "AUC Score : 0.934154\n",
      "Accuracy : 0.8922\n",
      "Precision : 0.7037\n",
      "Recall : 0.826087\n"
     ]
    },
    {
     "name": "stderr",
     "output_type": "stream",
     "text": [
      "Downloading artifacts: 100%|███████████████████| 7/7 [00:00<00:00, 763.47it/s]\n"
     ]
    },
    {
     "name": "stdout",
     "output_type": "stream",
     "text": [
      "3020\n",
      "\n",
      "Model Report Train\n",
      "AUC Score : 0.966663\n",
      "Accuracy : 0.9031\n",
      "Precision : 0.708\n",
      "Recall : 0.911348\n",
      "\n",
      "Model Report Test\n",
      "AUC Score : 0.928838\n",
      "Accuracy : 0.8609\n",
      "Precision : 0.6292\n",
      "Recall : 0.800000\n"
     ]
    },
    {
     "name": "stderr",
     "output_type": "stream",
     "text": [
      "Downloading artifacts: 100%|███████████████████| 7/7 [00:00<00:00, 487.86it/s]\n"
     ]
    },
    {
     "name": "stdout",
     "output_type": "stream",
     "text": [
      "3030\n",
      "\n",
      "Model Report Train\n",
      "AUC Score : 0.962649\n",
      "Accuracy : 0.8944\n",
      "Precision : 0.688\n",
      "Recall : 0.905263\n",
      "\n",
      "Model Report Test\n",
      "AUC Score : 0.928902\n",
      "Accuracy : 0.8713\n",
      "Precision : 0.6484\n",
      "Recall : 0.830986\n"
     ]
    },
    {
     "name": "stderr",
     "output_type": "stream",
     "text": [
      "Downloading artifacts: 100%|███████████████████| 7/7 [00:00<00:00, 675.44it/s]\n"
     ]
    },
    {
     "name": "stdout",
     "output_type": "stream",
     "text": [
      "3040\n",
      "\n",
      "Model Report Train\n",
      "AUC Score : 0.959966\n",
      "Accuracy : 0.8946\n",
      "Precision : 0.6846\n",
      "Recall : 0.923875\n",
      "\n",
      "Model Report Test\n",
      "AUC Score : 0.923713\n",
      "Accuracy : 0.8692\n",
      "Precision : 0.6517\n",
      "Recall : 0.805556\n"
     ]
    },
    {
     "name": "stderr",
     "output_type": "stream",
     "text": [
      "Downloading artifacts: 100%|██████████████████| 7/7 [00:00<00:00, 1042.58it/s]\n"
     ]
    },
    {
     "name": "stdout",
     "output_type": "stream",
     "text": [
      "3050\n",
      "\n",
      "Model Report Train\n",
      "AUC Score : 0.965272\n",
      "Accuracy : 0.9038\n",
      "Precision : 0.7065\n",
      "Recall : 0.931507\n",
      "\n",
      "Model Report Test\n",
      "AUC Score : 0.910833\n",
      "Accuracy : 0.8671\n",
      "Precision : 0.6484\n",
      "Recall : 0.808219\n"
     ]
    },
    {
     "name": "stderr",
     "output_type": "stream",
     "text": [
      "Downloading artifacts: 100%|███████████████████| 7/7 [00:00<00:00, 804.10it/s]\n"
     ]
    },
    {
     "name": "stdout",
     "output_type": "stream",
     "text": [
      "3060\n",
      "\n",
      "Model Report Train\n",
      "AUC Score : 0.963905\n",
      "Accuracy : 0.894\n",
      "Precision : 0.6923\n",
      "Recall : 0.906040\n",
      "\n",
      "Model Report Test\n",
      "AUC Score : 0.934642\n",
      "Accuracy : 0.8771\n",
      "Precision : 0.6667\n",
      "Recall : 0.853333\n"
     ]
    },
    {
     "name": "stderr",
     "output_type": "stream",
     "text": [
      "Downloading artifacts: 100%|██████████████████| 7/7 [00:00<00:00, 1143.00it/s]\n"
     ]
    },
    {
     "name": "stdout",
     "output_type": "stream",
     "text": [
      "3070\n",
      "\n",
      "Model Report Train\n",
      "AUC Score : 0.964809\n",
      "Accuracy : 0.8921\n",
      "Precision : 0.6921\n",
      "Recall : 0.897690\n",
      "\n",
      "Model Report Test\n",
      "AUC Score : 0.931123\n",
      "Accuracy : 0.8754\n",
      "Precision : 0.6702\n",
      "Recall : 0.828947\n"
     ]
    },
    {
     "name": "stderr",
     "output_type": "stream",
     "text": [
      "Downloading artifacts: 100%|██████████████████| 7/7 [00:00<00:00, 1060.09it/s]\n"
     ]
    },
    {
     "name": "stdout",
     "output_type": "stream",
     "text": [
      "3080\n",
      "\n",
      "Model Report Train\n",
      "AUC Score : 0.961244\n",
      "Accuracy : 0.8915\n",
      "Precision : 0.6902\n",
      "Recall : 0.912903\n",
      "\n",
      "Model Report Test\n",
      "AUC Score : 0.914090\n",
      "Accuracy : 0.8592\n",
      "Precision : 0.6337\n",
      "Recall : 0.831169\n"
     ]
    },
    {
     "name": "stderr",
     "output_type": "stream",
     "text": [
      "Downloading artifacts: 100%|███████████████████| 7/7 [00:00<00:00, 559.87it/s]\n"
     ]
    },
    {
     "name": "stdout",
     "output_type": "stream",
     "text": [
      "3090\n",
      "\n",
      "Model Report Train\n",
      "AUC Score : 0.960789\n",
      "Accuracy : 0.8895\n",
      "Precision : 0.6867\n",
      "Recall : 0.910543\n",
      "\n",
      "Model Report Test\n",
      "AUC Score : 0.928114\n",
      "Accuracy : 0.8687\n",
      "Precision : 0.6505\n",
      "Recall : 0.858974\n"
     ]
    },
    {
     "name": "stderr",
     "output_type": "stream",
     "text": [
      "Downloading artifacts: 100%|██████████████████| 7/7 [00:00<00:00, 1023.21it/s]\n"
     ]
    },
    {
     "name": "stdout",
     "output_type": "stream",
     "text": [
      "3100\n",
      "\n",
      "Model Report Train\n",
      "AUC Score : 0.962511\n",
      "Accuracy : 0.8824\n",
      "Precision : 0.6739\n",
      "Recall : 0.894904\n",
      "\n",
      "Model Report Test\n",
      "AUC Score : 0.933240\n",
      "Accuracy : 0.8667\n",
      "Precision : 0.6422\n",
      "Recall : 0.886076\n"
     ]
    },
    {
     "name": "stderr",
     "output_type": "stream",
     "text": [
      "Downloading artifacts: 100%|███████████████████| 7/7 [00:00<00:00, 449.92it/s]\n"
     ]
    },
    {
     "name": "stdout",
     "output_type": "stream",
     "text": [
      "3110\n",
      "\n",
      "Model Report Train\n",
      "AUC Score : 0.961837\n",
      "Accuracy : 0.884\n",
      "Precision : 0.6754\n",
      "Recall : 0.904762\n",
      "\n",
      "Model Report Test\n",
      "AUC Score : 0.929123\n",
      "Accuracy : 0.8726\n",
      "Precision : 0.6571\n",
      "Recall : 0.873418\n"
     ]
    },
    {
     "name": "stderr",
     "output_type": "stream",
     "text": [
      "Downloading artifacts: 100%|███████████████████| 7/7 [00:00<00:00, 955.27it/s]\n"
     ]
    },
    {
     "name": "stdout",
     "output_type": "stream",
     "text": [
      "3120\n",
      "\n",
      "Model Report Train\n",
      "AUC Score : 0.963166\n",
      "Accuracy : 0.8835\n",
      "Precision : 0.6721\n",
      "Recall : 0.911672\n",
      "\n",
      "Model Report Test\n",
      "AUC Score : 0.928419\n",
      "Accuracy : 0.865\n",
      "Precision : 0.6339\n",
      "Recall : 0.898734\n"
     ]
    },
    {
     "name": "stderr",
     "output_type": "stream",
     "text": [
      "Downloading artifacts: 100%|███████████████████| 7/7 [00:00<00:00, 681.83it/s]\n"
     ]
    },
    {
     "name": "stdout",
     "output_type": "stream",
     "text": [
      "3130\n",
      "\n",
      "Model Report Train\n",
      "AUC Score : 0.963674\n",
      "Accuracy : 0.8965\n",
      "Precision : 0.6986\n",
      "Recall : 0.921136\n",
      "\n",
      "Model Report Test\n",
      "AUC Score : 0.925378\n",
      "Accuracy : 0.8658\n",
      "Precision : 0.65\n",
      "Recall : 0.822785\n"
     ]
    },
    {
     "name": "stderr",
     "output_type": "stream",
     "text": [
      "Downloading artifacts: 100%|███████████████████| 7/7 [00:00<00:00, 747.27it/s]\n"
     ]
    },
    {
     "name": "stdout",
     "output_type": "stream",
     "text": [
      "3140\n",
      "\n",
      "Model Report Train\n",
      "AUC Score : 0.963469\n",
      "Accuracy : 0.8922\n",
      "Precision : 0.694\n",
      "Recall : 0.902821\n",
      "\n",
      "Model Report Test\n",
      "AUC Score : 0.917160\n",
      "Accuracy : 0.8501\n",
      "Precision : 0.6126\n",
      "Recall : 0.850000\n"
     ]
    },
    {
     "name": "stderr",
     "output_type": "stream",
     "text": [
      "Downloading artifacts: 100%|██████████████████| 7/7 [00:00<00:00, 1092.96it/s]\n"
     ]
    },
    {
     "name": "stdout",
     "output_type": "stream",
     "text": [
      "3150\n",
      "\n",
      "Model Report Train\n",
      "AUC Score : 0.963730\n",
      "Accuracy : 0.8942\n",
      "Precision : 0.6948\n",
      "Recall : 0.919255\n",
      "\n",
      "Model Report Test\n",
      "AUC Score : 0.930147\n",
      "Accuracy : 0.8591\n",
      "Precision : 0.6207\n",
      "Recall : 0.900000\n"
     ]
    },
    {
     "name": "stderr",
     "output_type": "stream",
     "text": [
      "Downloading artifacts: 100%|███████████████████| 7/7 [00:00<00:00, 997.02it/s]\n"
     ]
    },
    {
     "name": "stdout",
     "output_type": "stream",
     "text": [
      "3160\n",
      "\n",
      "Model Report Train\n",
      "AUC Score : 0.962123\n",
      "Accuracy : 0.8852\n",
      "Precision : 0.6815\n",
      "Recall : 0.895385\n",
      "\n",
      "Model Report Test\n",
      "AUC Score : 0.927246\n",
      "Accuracy : 0.8625\n",
      "Precision : 0.6389\n",
      "Recall : 0.851852\n"
     ]
    },
    {
     "name": "stderr",
     "output_type": "stream",
     "text": [
      "Downloading artifacts: 100%|███████████████████| 7/7 [00:00<00:00, 743.65it/s]\n"
     ]
    },
    {
     "name": "stdout",
     "output_type": "stream",
     "text": [
      "3170\n",
      "\n",
      "Model Report Train\n",
      "AUC Score : 0.961532\n",
      "Accuracy : 0.8822\n",
      "Precision : 0.6736\n",
      "Recall : 0.898773\n",
      "\n",
      "Model Report Test\n",
      "AUC Score : 0.933852\n",
      "Accuracy : 0.871\n",
      "Precision : 0.6545\n",
      "Recall : 0.878049\n"
     ]
    },
    {
     "name": "stderr",
     "output_type": "stream",
     "text": [
      "Downloading artifacts: 100%|██████████████████| 7/7 [00:00<00:00, 1243.44it/s]\n"
     ]
    },
    {
     "name": "stdout",
     "output_type": "stream",
     "text": [
      "3180\n",
      "\n",
      "Model Report Train\n",
      "AUC Score : 0.956409\n",
      "Accuracy : 0.8743\n",
      "Precision : 0.6568\n",
      "Recall : 0.880368\n",
      "\n",
      "Model Report Test\n",
      "AUC Score : 0.928903\n",
      "Accuracy : 0.859\n",
      "Precision : 0.633\n",
      "Recall : 0.841463\n"
     ]
    },
    {
     "name": "stderr",
     "output_type": "stream",
     "text": [
      "Downloading artifacts: 100%|███████████████████| 7/7 [00:00<00:00, 877.29it/s]\n"
     ]
    },
    {
     "name": "stdout",
     "output_type": "stream",
     "text": [
      "3190\n",
      "\n",
      "Model Report Train\n",
      "AUC Score : 0.959615\n",
      "Accuracy : 0.8819\n",
      "Precision : 0.6659\n",
      "Recall : 0.908257\n",
      "\n",
      "Model Report Test\n",
      "AUC Score : 0.908966\n",
      "Accuracy : 0.8421\n",
      "Precision : 0.5873\n",
      "Recall : 0.902439\n"
     ]
    },
    {
     "name": "stderr",
     "output_type": "stream",
     "text": [
      "Downloading artifacts: 100%|██████████████████| 7/7 [00:00<00:00, 1476.79it/s]\n"
     ]
    },
    {
     "name": "stdout",
     "output_type": "stream",
     "text": [
      "3200\n",
      "\n",
      "Model Report Train\n",
      "AUC Score : 0.953140\n",
      "Accuracy : 0.8727\n",
      "Precision : 0.6514\n",
      "Recall : 0.912281\n",
      "\n",
      "Model Report Test\n",
      "AUC Score : 0.917253\n",
      "Accuracy : 0.8605\n",
      "Precision : 0.6404\n",
      "Recall : 0.848837\n"
     ]
    },
    {
     "name": "stderr",
     "output_type": "stream",
     "text": [
      "Downloading artifacts: 100%|███████████████████| 7/7 [00:00<00:00, 940.16it/s]\n"
     ]
    },
    {
     "name": "stdout",
     "output_type": "stream",
     "text": [
      "3210\n",
      "\n",
      "Model Report Train\n",
      "AUC Score : 0.950477\n",
      "Accuracy : 0.8729\n",
      "Precision : 0.6618\n",
      "Recall : 0.893557\n",
      "\n",
      "Model Report Test\n",
      "AUC Score : 0.916792\n",
      "Accuracy : 0.8333\n",
      "Precision : 0.5935\n",
      "Recall : 0.820225\n"
     ]
    },
    {
     "name": "stderr",
     "output_type": "stream",
     "text": [
      "Downloading artifacts: 100%|███████████████████| 7/7 [00:00<00:00, 991.43it/s]\n"
     ]
    },
    {
     "name": "stdout",
     "output_type": "stream",
     "text": [
      "3220\n",
      "\n",
      "Model Report Train\n",
      "AUC Score : 0.953646\n",
      "Accuracy : 0.8681\n",
      "Precision : 0.6466\n",
      "Recall : 0.901961\n",
      "\n",
      "Model Report Test\n",
      "AUC Score : 0.908360\n",
      "Accuracy : 0.8254\n",
      "Precision : 0.5746\n",
      "Recall : 0.855556\n"
     ]
    },
    {
     "name": "stderr",
     "output_type": "stream",
     "text": [
      "Downloading artifacts: 100%|███████████████████| 7/7 [00:00<00:00, 656.44it/s]\n"
     ]
    },
    {
     "name": "stdout",
     "output_type": "stream",
     "text": [
      "3230\n",
      "\n",
      "Model Report Train\n",
      "AUC Score : 0.953646\n",
      "Accuracy : 0.8681\n",
      "Precision : 0.6466\n",
      "Recall : 0.901961\n",
      "\n",
      "Model Report Test\n",
      "AUC Score : 0.908360\n",
      "Accuracy : 0.8254\n",
      "Precision : 0.5746\n",
      "Recall : 0.855556\n"
     ]
    },
    {
     "name": "stderr",
     "output_type": "stream",
     "text": [
      "Downloading artifacts: 100%|███████████████████| 7/7 [00:00<00:00, 523.98it/s]\n"
     ]
    },
    {
     "name": "stdout",
     "output_type": "stream",
     "text": [
      "3240\n",
      "\n",
      "Model Report Train\n",
      "AUC Score : 0.953646\n",
      "Accuracy : 0.8681\n",
      "Precision : 0.6466\n",
      "Recall : 0.901961\n",
      "\n",
      "Model Report Test\n",
      "AUC Score : 0.908360\n",
      "Accuracy : 0.8254\n",
      "Precision : 0.5746\n",
      "Recall : 0.855556\n"
     ]
    },
    {
     "name": "stderr",
     "output_type": "stream",
     "text": [
      "Downloading artifacts: 100%|██████████████████| 7/7 [00:00<00:00, 1220.29it/s]\n"
     ]
    },
    {
     "name": "stdout",
     "output_type": "stream",
     "text": [
      "3250\n",
      "\n",
      "Model Report Train\n",
      "AUC Score : 0.953646\n",
      "Accuracy : 0.8681\n",
      "Precision : 0.6466\n",
      "Recall : 0.901961\n",
      "\n",
      "Model Report Test\n",
      "AUC Score : 0.908360\n",
      "Accuracy : 0.8254\n",
      "Precision : 0.5746\n",
      "Recall : 0.855556\n"
     ]
    },
    {
     "name": "stderr",
     "output_type": "stream",
     "text": [
      "Downloading artifacts: 100%|███████████████████| 7/7 [00:00<00:00, 986.27it/s]\n"
     ]
    },
    {
     "name": "stdout",
     "output_type": "stream",
     "text": [
      "3260\n",
      "\n",
      "Model Report Train\n",
      "AUC Score : 0.953646\n",
      "Accuracy : 0.8681\n",
      "Precision : 0.6466\n",
      "Recall : 0.901961\n",
      "\n",
      "Model Report Test\n",
      "AUC Score : 0.908360\n",
      "Accuracy : 0.8254\n",
      "Precision : 0.5746\n",
      "Recall : 0.855556\n"
     ]
    },
    {
     "name": "stderr",
     "output_type": "stream",
     "text": [
      "Downloading artifacts: 100%|███████████████████| 7/7 [00:00<00:00, 473.86it/s]\n"
     ]
    },
    {
     "name": "stdout",
     "output_type": "stream",
     "text": [
      "3270\n",
      "\n",
      "Model Report Train\n",
      "AUC Score : 0.953646\n",
      "Accuracy : 0.8681\n",
      "Precision : 0.6466\n",
      "Recall : 0.901961\n",
      "\n",
      "Model Report Test\n",
      "AUC Score : 0.908360\n",
      "Accuracy : 0.8254\n",
      "Precision : 0.5746\n",
      "Recall : 0.855556\n"
     ]
    },
    {
     "name": "stderr",
     "output_type": "stream",
     "text": [
      "Downloading artifacts: 100%|███████████████████| 7/7 [00:00<00:00, 420.20it/s]\n"
     ]
    },
    {
     "name": "stdout",
     "output_type": "stream",
     "text": [
      "3280\n",
      "\n",
      "Model Report Train\n",
      "AUC Score : 0.953646\n",
      "Accuracy : 0.8681\n",
      "Precision : 0.6466\n",
      "Recall : 0.901961\n",
      "\n",
      "Model Report Test\n",
      "AUC Score : 0.908360\n",
      "Accuracy : 0.8254\n",
      "Precision : 0.5746\n",
      "Recall : 0.855556\n"
     ]
    },
    {
     "name": "stderr",
     "output_type": "stream",
     "text": [
      "Downloading artifacts: 100%|██████████████████| 7/7 [00:00<00:00, 1277.03it/s]\n"
     ]
    },
    {
     "name": "stdout",
     "output_type": "stream",
     "text": [
      "3290\n",
      "\n",
      "Model Report Train\n",
      "AUC Score : 0.953646\n",
      "Accuracy : 0.8681\n",
      "Precision : 0.6466\n",
      "Recall : 0.901961\n",
      "\n",
      "Model Report Test\n",
      "AUC Score : 0.908360\n",
      "Accuracy : 0.8254\n",
      "Precision : 0.5746\n",
      "Recall : 0.855556\n"
     ]
    },
    {
     "name": "stderr",
     "output_type": "stream",
     "text": [
      "Downloading artifacts: 100%|███████████████████| 7/7 [00:00<00:00, 686.90it/s]\n"
     ]
    },
    {
     "name": "stdout",
     "output_type": "stream",
     "text": [
      "3300\n",
      "\n",
      "Model Report Train\n",
      "AUC Score : 0.953646\n",
      "Accuracy : 0.8681\n",
      "Precision : 0.6466\n",
      "Recall : 0.901961\n",
      "\n",
      "Model Report Test\n",
      "AUC Score : 0.908360\n",
      "Accuracy : 0.8254\n",
      "Precision : 0.5746\n",
      "Recall : 0.855556\n"
     ]
    },
    {
     "name": "stderr",
     "output_type": "stream",
     "text": [
      "Downloading artifacts: 100%|██████████████████| 7/7 [00:00<00:00, 1188.62it/s]\n"
     ]
    },
    {
     "name": "stdout",
     "output_type": "stream",
     "text": [
      "3310\n",
      "\n",
      "Model Report Train\n",
      "AUC Score : 0.952400\n",
      "Accuracy : 0.8688\n",
      "Precision : 0.6473\n",
      "Recall : 0.904762\n",
      "\n",
      "Model Report Test\n",
      "AUC Score : 0.903144\n",
      "Accuracy : 0.8229\n",
      "Precision : 0.5704\n",
      "Recall : 0.855556\n"
     ]
    },
    {
     "name": "stderr",
     "output_type": "stream",
     "text": [
      "Downloading artifacts: 100%|███████████████████| 7/7 [00:00<00:00, 814.22it/s]\n"
     ]
    },
    {
     "name": "stdout",
     "output_type": "stream",
     "text": [
      "3320\n",
      "\n",
      "Model Report Train\n",
      "AUC Score : 0.952400\n",
      "Accuracy : 0.8688\n",
      "Precision : 0.6473\n",
      "Recall : 0.904762\n",
      "\n",
      "Model Report Test\n",
      "AUC Score : 0.903144\n",
      "Accuracy : 0.8229\n",
      "Precision : 0.5704\n",
      "Recall : 0.855556\n"
     ]
    },
    {
     "name": "stderr",
     "output_type": "stream",
     "text": [
      "Downloading artifacts: 100%|███████████████████| 7/7 [00:00<00:00, 772.55it/s]\n"
     ]
    },
    {
     "name": "stdout",
     "output_type": "stream",
     "text": [
      "3330\n",
      "\n",
      "Model Report Train\n",
      "AUC Score : 0.952400\n",
      "Accuracy : 0.8688\n",
      "Precision : 0.6473\n",
      "Recall : 0.904762\n",
      "\n",
      "Model Report Test\n",
      "AUC Score : 0.903144\n",
      "Accuracy : 0.8229\n",
      "Precision : 0.5704\n",
      "Recall : 0.855556\n"
     ]
    },
    {
     "name": "stderr",
     "output_type": "stream",
     "text": [
      "Downloading artifacts: 100%|███████████████████| 7/7 [00:00<00:00, 580.21it/s]\n"
     ]
    },
    {
     "name": "stdout",
     "output_type": "stream",
     "text": [
      "3340\n",
      "\n",
      "Model Report Train\n",
      "AUC Score : 0.952400\n",
      "Accuracy : 0.8688\n",
      "Precision : 0.6473\n",
      "Recall : 0.904762\n",
      "\n",
      "Model Report Test\n",
      "AUC Score : 0.903144\n",
      "Accuracy : 0.8229\n",
      "Precision : 0.5704\n",
      "Recall : 0.855556\n"
     ]
    },
    {
     "name": "stderr",
     "output_type": "stream",
     "text": [
      "Downloading artifacts: 100%|██████████████████| 7/7 [00:00<00:00, 1024.32it/s]\n"
     ]
    },
    {
     "name": "stdout",
     "output_type": "stream",
     "text": [
      "3350\n",
      "\n",
      "Model Report Train\n",
      "AUC Score : 0.952400\n",
      "Accuracy : 0.8688\n",
      "Precision : 0.6473\n",
      "Recall : 0.904762\n",
      "\n",
      "Model Report Test\n",
      "AUC Score : 0.903144\n",
      "Accuracy : 0.8229\n",
      "Precision : 0.5704\n",
      "Recall : 0.855556\n"
     ]
    },
    {
     "name": "stderr",
     "output_type": "stream",
     "text": [
      "Downloading artifacts: 100%|███████████████████| 7/7 [00:00<00:00, 783.67it/s]\n"
     ]
    },
    {
     "name": "stdout",
     "output_type": "stream",
     "text": [
      "3360\n",
      "\n",
      "Model Report Train\n",
      "AUC Score : 0.952400\n",
      "Accuracy : 0.8688\n",
      "Precision : 0.6473\n",
      "Recall : 0.904762\n",
      "\n",
      "Model Report Test\n",
      "AUC Score : 0.903144\n",
      "Accuracy : 0.8229\n",
      "Precision : 0.5704\n",
      "Recall : 0.855556\n"
     ]
    },
    {
     "name": "stderr",
     "output_type": "stream",
     "text": [
      "Downloading artifacts: 100%|██████████████████| 7/7 [00:00<00:00, 1618.26it/s]\n"
     ]
    },
    {
     "name": "stdout",
     "output_type": "stream",
     "text": [
      "3370\n",
      "\n",
      "Model Report Train\n",
      "AUC Score : 0.954731\n",
      "Accuracy : 0.8726\n",
      "Precision : 0.6539\n",
      "Recall : 0.910364\n",
      "\n",
      "Model Report Test\n",
      "AUC Score : 0.890854\n",
      "Accuracy : 0.8105\n",
      "Precision : 0.5493\n",
      "Recall : 0.866667\n"
     ]
    },
    {
     "name": "stderr",
     "output_type": "stream",
     "text": [
      "Downloading artifacts: 100%|███████████████████| 7/7 [00:00<00:00, 374.52it/s]\n"
     ]
    },
    {
     "name": "stdout",
     "output_type": "stream",
     "text": [
      "3380\n",
      "\n",
      "Model Report Train\n",
      "AUC Score : 0.954731\n",
      "Accuracy : 0.8726\n",
      "Precision : 0.6539\n",
      "Recall : 0.910364\n",
      "\n",
      "Model Report Test\n",
      "AUC Score : 0.890854\n",
      "Accuracy : 0.8105\n",
      "Precision : 0.5493\n",
      "Recall : 0.866667\n"
     ]
    },
    {
     "name": "stderr",
     "output_type": "stream",
     "text": [
      "Downloading artifacts: 100%|███████████████████| 7/7 [00:00<00:00, 663.73it/s]\n"
     ]
    },
    {
     "name": "stdout",
     "output_type": "stream",
     "text": [
      "3390\n",
      "\n",
      "Model Report Train\n",
      "AUC Score : 0.954731\n",
      "Accuracy : 0.8726\n",
      "Precision : 0.6539\n",
      "Recall : 0.910364\n",
      "\n",
      "Model Report Test\n",
      "AUC Score : 0.890854\n",
      "Accuracy : 0.8105\n",
      "Precision : 0.5493\n",
      "Recall : 0.866667\n"
     ]
    },
    {
     "name": "stderr",
     "output_type": "stream",
     "text": [
      "Downloading artifacts: 100%|███████████████████| 7/7 [00:00<00:00, 923.74it/s]\n"
     ]
    },
    {
     "name": "stdout",
     "output_type": "stream",
     "text": [
      "3400\n",
      "\n",
      "Model Report Train\n",
      "AUC Score : 0.954731\n",
      "Accuracy : 0.8726\n",
      "Precision : 0.6539\n",
      "Recall : 0.910364\n",
      "\n",
      "Model Report Test\n",
      "AUC Score : 0.890854\n",
      "Accuracy : 0.8105\n",
      "Precision : 0.5493\n",
      "Recall : 0.866667\n"
     ]
    },
    {
     "name": "stderr",
     "output_type": "stream",
     "text": [
      "Downloading artifacts: 100%|███████████████████| 7/7 [00:00<00:00, 639.25it/s]\n"
     ]
    },
    {
     "name": "stdout",
     "output_type": "stream",
     "text": [
      "3410\n",
      "\n",
      "Model Report Train\n",
      "AUC Score : 0.954731\n",
      "Accuracy : 0.8726\n",
      "Precision : 0.6539\n",
      "Recall : 0.910364\n",
      "\n",
      "Model Report Test\n",
      "AUC Score : 0.890854\n",
      "Accuracy : 0.8105\n",
      "Precision : 0.5493\n",
      "Recall : 0.866667\n"
     ]
    },
    {
     "name": "stderr",
     "output_type": "stream",
     "text": [
      "Downloading artifacts: 100%|███████████████████| 7/7 [00:00<00:00, 906.20it/s]\n"
     ]
    },
    {
     "name": "stdout",
     "output_type": "stream",
     "text": [
      "3420\n",
      "\n",
      "Model Report Train\n",
      "AUC Score : 0.954731\n",
      "Accuracy : 0.8726\n",
      "Precision : 0.6539\n",
      "Recall : 0.910364\n",
      "\n",
      "Model Report Test\n",
      "AUC Score : 0.890854\n",
      "Accuracy : 0.8105\n",
      "Precision : 0.5493\n",
      "Recall : 0.866667\n"
     ]
    },
    {
     "name": "stderr",
     "output_type": "stream",
     "text": [
      "Downloading artifacts: 100%|██████████████████| 7/7 [00:00<00:00, 1195.54it/s]\n"
     ]
    },
    {
     "name": "stdout",
     "output_type": "stream",
     "text": [
      "3430\n",
      "\n",
      "Model Report Train\n",
      "AUC Score : 0.954731\n",
      "Accuracy : 0.8726\n",
      "Precision : 0.6539\n",
      "Recall : 0.910364\n",
      "\n",
      "Model Report Test\n",
      "AUC Score : 0.890854\n",
      "Accuracy : 0.8105\n",
      "Precision : 0.5493\n",
      "Recall : 0.866667\n"
     ]
    },
    {
     "name": "stderr",
     "output_type": "stream",
     "text": [
      "Downloading artifacts: 100%|███████████████████| 7/7 [00:00<00:00, 776.85it/s]\n"
     ]
    },
    {
     "name": "stdout",
     "output_type": "stream",
     "text": [
      "3440\n",
      "\n",
      "Model Report Train\n",
      "AUC Score : 0.954731\n",
      "Accuracy : 0.8726\n",
      "Precision : 0.6539\n",
      "Recall : 0.910364\n",
      "\n",
      "Model Report Test\n",
      "AUC Score : 0.890854\n",
      "Accuracy : 0.8105\n",
      "Precision : 0.5493\n",
      "Recall : 0.866667\n"
     ]
    },
    {
     "name": "stderr",
     "output_type": "stream",
     "text": [
      "Downloading artifacts: 100%|███████████████████| 7/7 [00:00<00:00, 727.76it/s]\n"
     ]
    },
    {
     "name": "stdout",
     "output_type": "stream",
     "text": [
      "3450\n",
      "\n",
      "Model Report Train\n",
      "AUC Score : 0.954731\n",
      "Accuracy : 0.8726\n",
      "Precision : 0.6539\n",
      "Recall : 0.910364\n",
      "\n",
      "Model Report Test\n",
      "AUC Score : 0.890854\n",
      "Accuracy : 0.8105\n",
      "Precision : 0.5493\n",
      "Recall : 0.866667\n"
     ]
    },
    {
     "name": "stderr",
     "output_type": "stream",
     "text": [
      "Downloading artifacts: 100%|██████████████████| 7/7 [00:00<00:00, 1030.04it/s]\n"
     ]
    },
    {
     "name": "stdout",
     "output_type": "stream",
     "text": [
      "3460\n",
      "\n",
      "Model Report Train\n",
      "AUC Score : 0.954731\n",
      "Accuracy : 0.8726\n",
      "Precision : 0.6539\n",
      "Recall : 0.910364\n",
      "\n",
      "Model Report Test\n",
      "AUC Score : 0.890854\n",
      "Accuracy : 0.8105\n",
      "Precision : 0.5493\n",
      "Recall : 0.866667\n"
     ]
    },
    {
     "name": "stderr",
     "output_type": "stream",
     "text": [
      "Downloading artifacts: 100%|██████████████████| 7/7 [00:00<00:00, 1585.15it/s]\n"
     ]
    },
    {
     "name": "stdout",
     "output_type": "stream",
     "text": [
      "3470\n",
      "\n",
      "Model Report Train\n",
      "AUC Score : 0.954731\n",
      "Accuracy : 0.8726\n",
      "Precision : 0.6539\n",
      "Recall : 0.910364\n",
      "\n",
      "Model Report Test\n",
      "AUC Score : 0.890854\n",
      "Accuracy : 0.8105\n",
      "Precision : 0.5493\n",
      "Recall : 0.866667\n"
     ]
    },
    {
     "name": "stderr",
     "output_type": "stream",
     "text": [
      "Downloading artifacts: 100%|██████████████████| 7/7 [00:00<00:00, 1362.23it/s]\n"
     ]
    },
    {
     "name": "stdout",
     "output_type": "stream",
     "text": [
      "3480\n",
      "\n",
      "Model Report Train\n",
      "AUC Score : 0.954731\n",
      "Accuracy : 0.8726\n",
      "Precision : 0.6539\n",
      "Recall : 0.910364\n",
      "\n",
      "Model Report Test\n",
      "AUC Score : 0.890854\n",
      "Accuracy : 0.8105\n",
      "Precision : 0.5493\n",
      "Recall : 0.866667\n"
     ]
    },
    {
     "name": "stderr",
     "output_type": "stream",
     "text": [
      "Downloading artifacts: 100%|██████████████████| 7/7 [00:00<00:00, 1646.76it/s]\n"
     ]
    },
    {
     "name": "stdout",
     "output_type": "stream",
     "text": [
      "3490\n",
      "\n",
      "Model Report Train\n",
      "AUC Score : 0.954731\n",
      "Accuracy : 0.8726\n",
      "Precision : 0.6539\n",
      "Recall : 0.910364\n",
      "\n",
      "Model Report Test\n",
      "AUC Score : 0.890854\n",
      "Accuracy : 0.8105\n",
      "Precision : 0.5493\n",
      "Recall : 0.866667\n"
     ]
    },
    {
     "name": "stderr",
     "output_type": "stream",
     "text": [
      "Downloading artifacts: 100%|███████████████████| 7/7 [00:00<00:00, 902.25it/s]\n"
     ]
    },
    {
     "name": "stdout",
     "output_type": "stream",
     "text": [
      "3500\n",
      "\n",
      "Model Report Train\n",
      "AUC Score : 0.954731\n",
      "Accuracy : 0.8726\n",
      "Precision : 0.6539\n",
      "Recall : 0.910364\n",
      "\n",
      "Model Report Test\n",
      "AUC Score : 0.890854\n",
      "Accuracy : 0.8105\n",
      "Precision : 0.5493\n",
      "Recall : 0.866667\n"
     ]
    },
    {
     "name": "stderr",
     "output_type": "stream",
     "text": [
      "Downloading artifacts: 100%|███████████████████| 7/7 [00:00<00:00, 635.67it/s]\n"
     ]
    },
    {
     "name": "stdout",
     "output_type": "stream",
     "text": [
      "3510\n",
      "\n",
      "Model Report Train\n",
      "AUC Score : 0.954731\n",
      "Accuracy : 0.8726\n",
      "Precision : 0.6539\n",
      "Recall : 0.910364\n",
      "\n",
      "Model Report Test\n",
      "AUC Score : 0.890854\n",
      "Accuracy : 0.8105\n",
      "Precision : 0.5493\n",
      "Recall : 0.866667\n"
     ]
    },
    {
     "name": "stderr",
     "output_type": "stream",
     "text": [
      "Downloading artifacts: 100%|██████████████████| 7/7 [00:00<00:00, 1159.29it/s]\n"
     ]
    },
    {
     "name": "stdout",
     "output_type": "stream",
     "text": [
      "3520\n",
      "\n",
      "Model Report Train\n",
      "AUC Score : 0.954731\n",
      "Accuracy : 0.8726\n",
      "Precision : 0.6539\n",
      "Recall : 0.910364\n",
      "\n",
      "Model Report Test\n",
      "AUC Score : 0.890890\n",
      "Accuracy : 0.8105\n",
      "Precision : 0.5493\n",
      "Recall : 0.866667\n"
     ]
    },
    {
     "name": "stderr",
     "output_type": "stream",
     "text": [
      "Downloading artifacts: 100%|███████████████████| 7/7 [00:00<00:00, 907.02it/s]\n"
     ]
    },
    {
     "name": "stdout",
     "output_type": "stream",
     "text": [
      "3530\n",
      "\n",
      "Model Report Train\n",
      "AUC Score : 0.954731\n",
      "Accuracy : 0.8726\n",
      "Precision : 0.6539\n",
      "Recall : 0.910364\n",
      "\n",
      "Model Report Test\n",
      "AUC Score : 0.890890\n",
      "Accuracy : 0.8105\n",
      "Precision : 0.5493\n",
      "Recall : 0.866667\n"
     ]
    },
    {
     "name": "stderr",
     "output_type": "stream",
     "text": [
      "Downloading artifacts: 100%|██████████████████| 7/7 [00:00<00:00, 1242.13it/s]\n"
     ]
    },
    {
     "name": "stdout",
     "output_type": "stream",
     "text": [
      "3540\n",
      "\n",
      "Model Report Train\n",
      "AUC Score : 0.954731\n",
      "Accuracy : 0.8726\n",
      "Precision : 0.6539\n",
      "Recall : 0.910364\n",
      "\n",
      "Model Report Test\n",
      "AUC Score : 0.890890\n",
      "Accuracy : 0.8105\n",
      "Precision : 0.5493\n",
      "Recall : 0.866667\n"
     ]
    },
    {
     "name": "stderr",
     "output_type": "stream",
     "text": [
      "Downloading artifacts: 100%|███████████████████| 7/7 [00:00<00:00, 782.46it/s]\n"
     ]
    },
    {
     "name": "stdout",
     "output_type": "stream",
     "text": [
      "3550\n",
      "\n",
      "Model Report Train\n",
      "AUC Score : 0.954731\n",
      "Accuracy : 0.8726\n",
      "Precision : 0.6539\n",
      "Recall : 0.910364\n",
      "\n",
      "Model Report Test\n",
      "AUC Score : 0.890890\n",
      "Accuracy : 0.8105\n",
      "Precision : 0.5493\n",
      "Recall : 0.866667\n"
     ]
    },
    {
     "name": "stderr",
     "output_type": "stream",
     "text": [
      "Downloading artifacts: 100%|██████████████████| 7/7 [00:00<00:00, 1210.23it/s]\n"
     ]
    },
    {
     "name": "stdout",
     "output_type": "stream",
     "text": [
      "3560\n",
      "\n",
      "Model Report Train\n",
      "AUC Score : 0.954731\n",
      "Accuracy : 0.8726\n",
      "Precision : 0.6539\n",
      "Recall : 0.910364\n",
      "\n",
      "Model Report Test\n",
      "AUC Score : 0.890890\n",
      "Accuracy : 0.8105\n",
      "Precision : 0.5493\n",
      "Recall : 0.866667\n"
     ]
    },
    {
     "name": "stderr",
     "output_type": "stream",
     "text": [
      "Downloading artifacts: 100%|██████████████████| 7/7 [00:00<00:00, 1777.57it/s]\n"
     ]
    },
    {
     "name": "stdout",
     "output_type": "stream",
     "text": [
      "3570\n",
      "\n",
      "Model Report Train\n",
      "AUC Score : 0.954731\n",
      "Accuracy : 0.8726\n",
      "Precision : 0.6539\n",
      "Recall : 0.910364\n",
      "\n",
      "Model Report Test\n",
      "AUC Score : 0.890890\n",
      "Accuracy : 0.8105\n",
      "Precision : 0.5493\n",
      "Recall : 0.866667\n"
     ]
    },
    {
     "name": "stderr",
     "output_type": "stream",
     "text": [
      "Downloading artifacts: 100%|███████████████████| 7/7 [00:00<00:00, 473.92it/s]\n"
     ]
    },
    {
     "name": "stdout",
     "output_type": "stream",
     "text": [
      "3580\n",
      "\n",
      "Model Report Train\n",
      "AUC Score : 0.954731\n",
      "Accuracy : 0.8726\n",
      "Precision : 0.6539\n",
      "Recall : 0.910364\n",
      "\n",
      "Model Report Test\n",
      "AUC Score : 0.890890\n",
      "Accuracy : 0.8105\n",
      "Precision : 0.5493\n",
      "Recall : 0.866667\n"
     ]
    },
    {
     "name": "stderr",
     "output_type": "stream",
     "text": [
      "Downloading artifacts: 100%|███████████████████| 7/7 [00:00<00:00, 415.50it/s]\n"
     ]
    },
    {
     "name": "stdout",
     "output_type": "stream",
     "text": [
      "3590\n",
      "\n",
      "Model Report Train\n",
      "AUC Score : 0.954731\n",
      "Accuracy : 0.8726\n",
      "Precision : 0.6539\n",
      "Recall : 0.910364\n",
      "\n",
      "Model Report Test\n",
      "AUC Score : 0.890890\n",
      "Accuracy : 0.8105\n",
      "Precision : 0.5493\n",
      "Recall : 0.866667\n"
     ]
    },
    {
     "name": "stderr",
     "output_type": "stream",
     "text": [
      "Downloading artifacts: 100%|███████████████████| 7/7 [00:00<00:00, 743.43it/s]\n"
     ]
    },
    {
     "name": "stdout",
     "output_type": "stream",
     "text": [
      "3600\n",
      "\n",
      "Model Report Train\n",
      "AUC Score : 0.954731\n",
      "Accuracy : 0.8726\n",
      "Precision : 0.6539\n",
      "Recall : 0.910364\n",
      "\n",
      "Model Report Test\n",
      "AUC Score : 0.890890\n",
      "Accuracy : 0.8105\n",
      "Precision : 0.5493\n",
      "Recall : 0.866667\n"
     ]
    },
    {
     "name": "stderr",
     "output_type": "stream",
     "text": [
      "Downloading artifacts: 100%|███████████████████| 7/7 [00:00<00:00, 738.86it/s]\n"
     ]
    },
    {
     "name": "stdout",
     "output_type": "stream",
     "text": [
      "3610\n",
      "\n",
      "Model Report Train\n",
      "AUC Score : 0.954731\n",
      "Accuracy : 0.8726\n",
      "Precision : 0.6539\n",
      "Recall : 0.910364\n",
      "\n",
      "Model Report Test\n",
      "AUC Score : 0.890890\n",
      "Accuracy : 0.8105\n",
      "Precision : 0.5493\n",
      "Recall : 0.866667\n"
     ]
    },
    {
     "name": "stderr",
     "output_type": "stream",
     "text": [
      "Downloading artifacts: 100%|██████████████████| 7/7 [00:00<00:00, 1240.66it/s]\n"
     ]
    },
    {
     "name": "stdout",
     "output_type": "stream",
     "text": [
      "3620\n",
      "\n",
      "Model Report Train\n",
      "AUC Score : 0.954731\n",
      "Accuracy : 0.8726\n",
      "Precision : 0.6539\n",
      "Recall : 0.910364\n",
      "\n",
      "Model Report Test\n",
      "AUC Score : 0.890890\n",
      "Accuracy : 0.8105\n",
      "Precision : 0.5493\n",
      "Recall : 0.866667\n"
     ]
    },
    {
     "name": "stderr",
     "output_type": "stream",
     "text": [
      "Downloading artifacts: 100%|███████████████████| 7/7 [00:00<00:00, 565.83it/s]\n"
     ]
    },
    {
     "name": "stdout",
     "output_type": "stream",
     "text": [
      "3630\n",
      "\n",
      "Model Report Train\n",
      "AUC Score : 0.954731\n",
      "Accuracy : 0.8726\n",
      "Precision : 0.6539\n",
      "Recall : 0.910364\n",
      "\n",
      "Model Report Test\n",
      "AUC Score : 0.890890\n",
      "Accuracy : 0.8105\n",
      "Precision : 0.5493\n",
      "Recall : 0.866667\n"
     ]
    },
    {
     "name": "stderr",
     "output_type": "stream",
     "text": [
      "Downloading artifacts: 100%|██████████████████| 7/7 [00:00<00:00, 1438.09it/s]\n"
     ]
    },
    {
     "name": "stdout",
     "output_type": "stream",
     "text": [
      "3640\n",
      "\n",
      "Model Report Train\n",
      "AUC Score : 0.954731\n",
      "Accuracy : 0.8726\n",
      "Precision : 0.6539\n",
      "Recall : 0.910364\n",
      "\n",
      "Model Report Test\n",
      "AUC Score : 0.890890\n",
      "Accuracy : 0.8105\n",
      "Precision : 0.5493\n",
      "Recall : 0.866667\n"
     ]
    },
    {
     "name": "stderr",
     "output_type": "stream",
     "text": [
      "Downloading artifacts: 100%|██████████████████| 7/7 [00:00<00:00, 1167.59it/s]\n"
     ]
    },
    {
     "name": "stdout",
     "output_type": "stream",
     "text": [
      "3650\n",
      "\n",
      "Model Report Train\n",
      "AUC Score : 0.954731\n",
      "Accuracy : 0.8726\n",
      "Precision : 0.6539\n",
      "Recall : 0.910364\n",
      "\n",
      "Model Report Test\n",
      "AUC Score : 0.890890\n",
      "Accuracy : 0.8105\n",
      "Precision : 0.5493\n",
      "Recall : 0.866667\n"
     ]
    },
    {
     "name": "stderr",
     "output_type": "stream",
     "text": [
      "Downloading artifacts: 100%|███████████████████| 7/7 [00:00<00:00, 494.56it/s]\n"
     ]
    },
    {
     "name": "stdout",
     "output_type": "stream",
     "text": [
      "3660\n",
      "\n",
      "Model Report Train\n",
      "AUC Score : 0.954731\n",
      "Accuracy : 0.8726\n",
      "Precision : 0.6539\n",
      "Recall : 0.910364\n",
      "\n",
      "Model Report Test\n",
      "AUC Score : 0.890890\n",
      "Accuracy : 0.8105\n",
      "Precision : 0.5493\n",
      "Recall : 0.866667\n"
     ]
    },
    {
     "name": "stderr",
     "output_type": "stream",
     "text": [
      "Downloading artifacts: 100%|██████████████████| 7/7 [00:00<00:00, 1236.01it/s]\n"
     ]
    },
    {
     "name": "stdout",
     "output_type": "stream",
     "text": [
      "3670\n",
      "\n",
      "Model Report Train\n",
      "AUC Score : 0.954731\n",
      "Accuracy : 0.8726\n",
      "Precision : 0.6539\n",
      "Recall : 0.910364\n",
      "\n",
      "Model Report Test\n",
      "AUC Score : 0.890890\n",
      "Accuracy : 0.8105\n",
      "Precision : 0.5493\n",
      "Recall : 0.866667\n"
     ]
    },
    {
     "name": "stderr",
     "output_type": "stream",
     "text": [
      "Downloading artifacts: 100%|███████████████████| 7/7 [00:00<00:00, 732.41it/s]\n"
     ]
    },
    {
     "name": "stdout",
     "output_type": "stream",
     "text": [
      "3680\n",
      "\n",
      "Model Report Train\n",
      "AUC Score : 0.954731\n",
      "Accuracy : 0.8726\n",
      "Precision : 0.6539\n",
      "Recall : 0.910364\n",
      "\n",
      "Model Report Test\n",
      "AUC Score : 0.890890\n",
      "Accuracy : 0.8105\n",
      "Precision : 0.5493\n",
      "Recall : 0.866667\n"
     ]
    },
    {
     "name": "stderr",
     "output_type": "stream",
     "text": [
      "Downloading artifacts: 100%|███████████████████| 7/7 [00:00<00:00, 507.76it/s]\n"
     ]
    },
    {
     "name": "stdout",
     "output_type": "stream",
     "text": [
      "3690\n",
      "\n",
      "Model Report Train\n",
      "AUC Score : 0.954731\n",
      "Accuracy : 0.8726\n",
      "Precision : 0.6539\n",
      "Recall : 0.910364\n",
      "\n",
      "Model Report Test\n",
      "AUC Score : 0.890890\n",
      "Accuracy : 0.8105\n",
      "Precision : 0.5493\n",
      "Recall : 0.866667\n"
     ]
    },
    {
     "name": "stderr",
     "output_type": "stream",
     "text": [
      "Downloading artifacts: 100%|███████████████████| 7/7 [00:00<00:00, 759.94it/s]\n"
     ]
    },
    {
     "name": "stdout",
     "output_type": "stream",
     "text": [
      "3700\n",
      "\n",
      "Model Report Train\n",
      "AUC Score : 0.954731\n",
      "Accuracy : 0.8726\n",
      "Precision : 0.6539\n",
      "Recall : 0.910364\n",
      "\n",
      "Model Report Test\n",
      "AUC Score : 0.890890\n",
      "Accuracy : 0.8105\n",
      "Precision : 0.5493\n",
      "Recall : 0.866667\n"
     ]
    },
    {
     "name": "stderr",
     "output_type": "stream",
     "text": [
      "Downloading artifacts: 100%|███████████████████| 7/7 [00:00<00:00, 663.15it/s]\n"
     ]
    },
    {
     "name": "stdout",
     "output_type": "stream",
     "text": [
      "3710\n",
      "\n",
      "Model Report Train\n",
      "AUC Score : 0.954731\n",
      "Accuracy : 0.8726\n",
      "Precision : 0.6539\n",
      "Recall : 0.910364\n",
      "\n",
      "Model Report Test\n",
      "AUC Score : 0.890890\n",
      "Accuracy : 0.8105\n",
      "Precision : 0.5493\n",
      "Recall : 0.866667\n"
     ]
    },
    {
     "name": "stderr",
     "output_type": "stream",
     "text": [
      "Downloading artifacts: 100%|██████████████████| 7/7 [00:00<00:00, 1085.96it/s]\n"
     ]
    },
    {
     "name": "stdout",
     "output_type": "stream",
     "text": [
      "3720\n",
      "\n",
      "Model Report Train\n",
      "AUC Score : 0.954731\n",
      "Accuracy : 0.8726\n",
      "Precision : 0.6539\n",
      "Recall : 0.910364\n",
      "\n",
      "Model Report Test\n",
      "AUC Score : 0.890890\n",
      "Accuracy : 0.8105\n",
      "Precision : 0.5493\n",
      "Recall : 0.866667\n"
     ]
    },
    {
     "name": "stderr",
     "output_type": "stream",
     "text": [
      "Downloading artifacts: 100%|██████████████████| 7/7 [00:00<00:00, 1197.88it/s]\n"
     ]
    },
    {
     "name": "stdout",
     "output_type": "stream",
     "text": [
      "3730\n",
      "\n",
      "Model Report Train\n",
      "AUC Score : 0.954731\n",
      "Accuracy : 0.8726\n",
      "Precision : 0.6539\n",
      "Recall : 0.910364\n",
      "\n",
      "Model Report Test\n",
      "AUC Score : 0.890890\n",
      "Accuracy : 0.8105\n",
      "Precision : 0.5493\n",
      "Recall : 0.866667\n"
     ]
    },
    {
     "name": "stderr",
     "output_type": "stream",
     "text": [
      "Downloading artifacts: 100%|███████████████████| 7/7 [00:00<00:00, 913.11it/s]\n"
     ]
    },
    {
     "name": "stdout",
     "output_type": "stream",
     "text": [
      "3740\n",
      "\n",
      "Model Report Train\n",
      "AUC Score : 0.954731\n",
      "Accuracy : 0.8726\n",
      "Precision : 0.6539\n",
      "Recall : 0.910364\n",
      "\n",
      "Model Report Test\n",
      "AUC Score : 0.890890\n",
      "Accuracy : 0.8105\n",
      "Precision : 0.5493\n",
      "Recall : 0.866667\n"
     ]
    },
    {
     "name": "stderr",
     "output_type": "stream",
     "text": [
      "Downloading artifacts: 100%|███████████████████| 7/7 [00:00<00:00, 768.87it/s]\n"
     ]
    },
    {
     "name": "stdout",
     "output_type": "stream",
     "text": [
      "3750\n",
      "\n",
      "Model Report Train\n",
      "AUC Score : 0.954731\n",
      "Accuracy : 0.8726\n",
      "Precision : 0.6539\n",
      "Recall : 0.910364\n",
      "\n",
      "Model Report Test\n",
      "AUC Score : 0.890890\n",
      "Accuracy : 0.8105\n",
      "Precision : 0.5493\n",
      "Recall : 0.866667\n"
     ]
    },
    {
     "name": "stderr",
     "output_type": "stream",
     "text": [
      "Downloading artifacts: 100%|███████████████████| 7/7 [00:00<00:00, 882.83it/s]\n"
     ]
    },
    {
     "name": "stdout",
     "output_type": "stream",
     "text": [
      "3760\n",
      "\n",
      "Model Report Train\n",
      "AUC Score : 0.954731\n",
      "Accuracy : 0.8726\n",
      "Precision : 0.6539\n",
      "Recall : 0.910364\n",
      "\n",
      "Model Report Test\n",
      "AUC Score : 0.890890\n",
      "Accuracy : 0.8105\n",
      "Precision : 0.5493\n",
      "Recall : 0.866667\n"
     ]
    },
    {
     "name": "stderr",
     "output_type": "stream",
     "text": [
      "Downloading artifacts: 100%|██████████████████| 7/7 [00:00<00:00, 1435.56it/s]\n"
     ]
    },
    {
     "name": "stdout",
     "output_type": "stream",
     "text": [
      "3770\n",
      "\n",
      "Model Report Train\n",
      "AUC Score : 0.953432\n",
      "Accuracy : 0.8695\n",
      "Precision : 0.6468\n",
      "Recall : 0.913165\n",
      "\n",
      "Model Report Test\n",
      "AUC Score : 0.886995\n",
      "Accuracy : 0.8155\n",
      "Precision : 0.5571\n",
      "Recall : 0.866667\n"
     ]
    },
    {
     "name": "stderr",
     "output_type": "stream",
     "text": [
      "Downloading artifacts: 100%|███████████████████| 7/7 [00:00<00:00, 663.81it/s]\n"
     ]
    },
    {
     "name": "stdout",
     "output_type": "stream",
     "text": [
      "3780\n",
      "\n",
      "Model Report Train\n",
      "AUC Score : 0.953432\n",
      "Accuracy : 0.8695\n",
      "Precision : 0.6468\n",
      "Recall : 0.913165\n",
      "\n",
      "Model Report Test\n",
      "AUC Score : 0.886995\n",
      "Accuracy : 0.8155\n",
      "Precision : 0.5571\n",
      "Recall : 0.866667\n"
     ]
    },
    {
     "name": "stderr",
     "output_type": "stream",
     "text": [
      "Downloading artifacts: 100%|███████████████████| 7/7 [00:00<00:00, 610.94it/s]\n"
     ]
    },
    {
     "name": "stdout",
     "output_type": "stream",
     "text": [
      "3790\n",
      "\n",
      "Model Report Train\n",
      "AUC Score : 0.953432\n",
      "Accuracy : 0.8695\n",
      "Precision : 0.6468\n",
      "Recall : 0.913165\n",
      "\n",
      "Model Report Test\n",
      "AUC Score : 0.886995\n",
      "Accuracy : 0.8155\n",
      "Precision : 0.5571\n",
      "Recall : 0.866667\n"
     ]
    },
    {
     "name": "stderr",
     "output_type": "stream",
     "text": [
      "Downloading artifacts: 100%|███████████████████| 7/7 [00:00<00:00, 600.80it/s]\n"
     ]
    },
    {
     "name": "stdout",
     "output_type": "stream",
     "text": [
      "3800\n",
      "\n",
      "Model Report Train\n",
      "AUC Score : 0.953432\n",
      "Accuracy : 0.8695\n",
      "Precision : 0.6468\n",
      "Recall : 0.913165\n",
      "\n",
      "Model Report Test\n",
      "AUC Score : 0.886995\n",
      "Accuracy : 0.8155\n",
      "Precision : 0.5571\n",
      "Recall : 0.866667\n"
     ]
    },
    {
     "name": "stderr",
     "output_type": "stream",
     "text": [
      "Downloading artifacts: 100%|███████████████████| 7/7 [00:00<00:00, 881.05it/s]\n"
     ]
    },
    {
     "name": "stdout",
     "output_type": "stream",
     "text": [
      "3810\n",
      "\n",
      "Model Report Train\n",
      "AUC Score : 0.953432\n",
      "Accuracy : 0.8695\n",
      "Precision : 0.6468\n",
      "Recall : 0.913165\n",
      "\n",
      "Model Report Test\n",
      "AUC Score : 0.886995\n",
      "Accuracy : 0.8155\n",
      "Precision : 0.5571\n",
      "Recall : 0.866667\n"
     ]
    },
    {
     "name": "stderr",
     "output_type": "stream",
     "text": [
      "Downloading artifacts: 100%|███████████████████| 7/7 [00:00<00:00, 800.57it/s]\n"
     ]
    },
    {
     "name": "stdout",
     "output_type": "stream",
     "text": [
      "3820\n",
      "\n",
      "Model Report Train\n",
      "AUC Score : 0.953432\n",
      "Accuracy : 0.8695\n",
      "Precision : 0.6468\n",
      "Recall : 0.913165\n",
      "\n",
      "Model Report Test\n",
      "AUC Score : 0.886995\n",
      "Accuracy : 0.8155\n",
      "Precision : 0.5571\n",
      "Recall : 0.866667\n"
     ]
    },
    {
     "name": "stderr",
     "output_type": "stream",
     "text": [
      "Downloading artifacts: 100%|███████████████████| 7/7 [00:00<00:00, 525.01it/s]\n"
     ]
    },
    {
     "name": "stdout",
     "output_type": "stream",
     "text": [
      "3830\n",
      "\n",
      "Model Report Train\n",
      "AUC Score : 0.953432\n",
      "Accuracy : 0.8695\n",
      "Precision : 0.6468\n",
      "Recall : 0.913165\n",
      "\n",
      "Model Report Test\n",
      "AUC Score : 0.886995\n",
      "Accuracy : 0.8155\n",
      "Precision : 0.5571\n",
      "Recall : 0.866667\n"
     ]
    },
    {
     "name": "stderr",
     "output_type": "stream",
     "text": [
      "Downloading artifacts: 100%|███████████████████| 7/7 [00:00<00:00, 583.46it/s]\n"
     ]
    },
    {
     "name": "stdout",
     "output_type": "stream",
     "text": [
      "3840\n",
      "\n",
      "Model Report Train\n",
      "AUC Score : 0.953432\n",
      "Accuracy : 0.8695\n",
      "Precision : 0.6468\n",
      "Recall : 0.913165\n",
      "\n",
      "Model Report Test\n",
      "AUC Score : 0.886995\n",
      "Accuracy : 0.8155\n",
      "Precision : 0.5571\n",
      "Recall : 0.866667\n"
     ]
    },
    {
     "name": "stderr",
     "output_type": "stream",
     "text": [
      "Downloading artifacts: 100%|███████████████████| 7/7 [00:00<00:00, 836.85it/s]\n"
     ]
    },
    {
     "name": "stdout",
     "output_type": "stream",
     "text": [
      "3850\n",
      "\n",
      "Model Report Train\n",
      "AUC Score : 0.953432\n",
      "Accuracy : 0.8695\n",
      "Precision : 0.6468\n",
      "Recall : 0.913165\n",
      "\n",
      "Model Report Test\n",
      "AUC Score : 0.886995\n",
      "Accuracy : 0.8155\n",
      "Precision : 0.5571\n",
      "Recall : 0.866667\n"
     ]
    },
    {
     "name": "stderr",
     "output_type": "stream",
     "text": [
      "Downloading artifacts: 100%|███████████████████| 7/7 [00:00<00:00, 946.06it/s]\n"
     ]
    },
    {
     "name": "stdout",
     "output_type": "stream",
     "text": [
      "3860\n",
      "\n",
      "Model Report Train\n",
      "AUC Score : 0.953432\n",
      "Accuracy : 0.8695\n",
      "Precision : 0.6468\n",
      "Recall : 0.913165\n",
      "\n",
      "Model Report Test\n",
      "AUC Score : 0.886995\n",
      "Accuracy : 0.8155\n",
      "Precision : 0.5571\n",
      "Recall : 0.866667\n"
     ]
    },
    {
     "name": "stderr",
     "output_type": "stream",
     "text": [
      "Downloading artifacts: 100%|███████████████████| 7/7 [00:00<00:00, 796.10it/s]\n"
     ]
    },
    {
     "name": "stdout",
     "output_type": "stream",
     "text": [
      "3870\n",
      "\n",
      "Model Report Train\n",
      "AUC Score : 0.953432\n",
      "Accuracy : 0.8695\n",
      "Precision : 0.6468\n",
      "Recall : 0.913165\n",
      "\n",
      "Model Report Test\n",
      "AUC Score : 0.886995\n",
      "Accuracy : 0.8155\n",
      "Precision : 0.5571\n",
      "Recall : 0.866667\n"
     ]
    },
    {
     "name": "stderr",
     "output_type": "stream",
     "text": [
      "Downloading artifacts: 100%|██████████████████| 7/7 [00:00<00:00, 1209.33it/s]\n"
     ]
    },
    {
     "name": "stdout",
     "output_type": "stream",
     "text": [
      "3880\n",
      "\n",
      "Model Report Train\n",
      "AUC Score : 0.953432\n",
      "Accuracy : 0.8695\n",
      "Precision : 0.6468\n",
      "Recall : 0.913165\n",
      "\n",
      "Model Report Test\n",
      "AUC Score : 0.886995\n",
      "Accuracy : 0.8155\n",
      "Precision : 0.5571\n",
      "Recall : 0.866667\n"
     ]
    },
    {
     "name": "stderr",
     "output_type": "stream",
     "text": [
      "Downloading artifacts: 100%|██████████████████| 7/7 [00:00<00:00, 1232.74it/s]\n"
     ]
    },
    {
     "name": "stdout",
     "output_type": "stream",
     "text": [
      "3890\n",
      "\n",
      "Model Report Train\n",
      "AUC Score : 0.953432\n",
      "Accuracy : 0.8695\n",
      "Precision : 0.6468\n",
      "Recall : 0.913165\n",
      "\n",
      "Model Report Test\n",
      "AUC Score : 0.886995\n",
      "Accuracy : 0.8155\n",
      "Precision : 0.5571\n",
      "Recall : 0.866667\n"
     ]
    },
    {
     "name": "stderr",
     "output_type": "stream",
     "text": [
      "Downloading artifacts: 100%|███████████████████| 7/7 [00:00<00:00, 531.94it/s]\n"
     ]
    },
    {
     "name": "stdout",
     "output_type": "stream",
     "text": [
      "3900\n",
      "\n",
      "Model Report Train\n",
      "AUC Score : 0.953432\n",
      "Accuracy : 0.8695\n",
      "Precision : 0.6468\n",
      "Recall : 0.913165\n",
      "\n",
      "Model Report Test\n",
      "AUC Score : 0.886995\n",
      "Accuracy : 0.8155\n",
      "Precision : 0.5571\n",
      "Recall : 0.866667\n"
     ]
    },
    {
     "name": "stderr",
     "output_type": "stream",
     "text": [
      "Downloading artifacts: 100%|███████████████████| 7/7 [00:00<00:00, 647.14it/s]\n"
     ]
    },
    {
     "name": "stdout",
     "output_type": "stream",
     "text": [
      "3910\n",
      "\n",
      "Model Report Train\n",
      "AUC Score : 0.953432\n",
      "Accuracy : 0.8695\n",
      "Precision : 0.6468\n",
      "Recall : 0.913165\n",
      "\n",
      "Model Report Test\n",
      "AUC Score : 0.886995\n",
      "Accuracy : 0.8155\n",
      "Precision : 0.5571\n",
      "Recall : 0.866667\n"
     ]
    },
    {
     "name": "stderr",
     "output_type": "stream",
     "text": [
      "Downloading artifacts: 100%|██████████████████| 7/7 [00:00<00:00, 1087.65it/s]\n"
     ]
    },
    {
     "name": "stdout",
     "output_type": "stream",
     "text": [
      "3920\n",
      "\n",
      "Model Report Train\n",
      "AUC Score : 0.953432\n",
      "Accuracy : 0.8695\n",
      "Precision : 0.6468\n",
      "Recall : 0.913165\n",
      "\n",
      "Model Report Test\n",
      "AUC Score : 0.886995\n",
      "Accuracy : 0.8155\n",
      "Precision : 0.5571\n",
      "Recall : 0.866667\n"
     ]
    },
    {
     "name": "stderr",
     "output_type": "stream",
     "text": [
      "Downloading artifacts: 100%|███████████████████| 7/7 [00:00<00:00, 774.67it/s]\n"
     ]
    },
    {
     "name": "stdout",
     "output_type": "stream",
     "text": [
      "3930\n",
      "\n",
      "Model Report Train\n",
      "AUC Score : 0.953432\n",
      "Accuracy : 0.8695\n",
      "Precision : 0.6468\n",
      "Recall : 0.913165\n",
      "\n",
      "Model Report Test\n",
      "AUC Score : 0.886995\n",
      "Accuracy : 0.8155\n",
      "Precision : 0.5571\n",
      "Recall : 0.866667\n"
     ]
    },
    {
     "name": "stderr",
     "output_type": "stream",
     "text": [
      "Downloading artifacts: 100%|███████████████████| 7/7 [00:00<00:00, 841.12it/s]\n"
     ]
    },
    {
     "name": "stdout",
     "output_type": "stream",
     "text": [
      "3940\n",
      "\n",
      "Model Report Train\n",
      "AUC Score : 0.953432\n",
      "Accuracy : 0.8695\n",
      "Precision : 0.6468\n",
      "Recall : 0.913165\n",
      "\n",
      "Model Report Test\n",
      "AUC Score : 0.886995\n",
      "Accuracy : 0.8155\n",
      "Precision : 0.5571\n",
      "Recall : 0.866667\n"
     ]
    },
    {
     "name": "stderr",
     "output_type": "stream",
     "text": [
      "Downloading artifacts: 100%|██████████████████| 7/7 [00:00<00:00, 1480.14it/s]\n"
     ]
    },
    {
     "name": "stdout",
     "output_type": "stream",
     "text": [
      "3950\n",
      "\n",
      "Model Report Train\n",
      "AUC Score : 0.953432\n",
      "Accuracy : 0.8695\n",
      "Precision : 0.6468\n",
      "Recall : 0.913165\n",
      "\n",
      "Model Report Test\n",
      "AUC Score : 0.886995\n",
      "Accuracy : 0.8155\n",
      "Precision : 0.5571\n",
      "Recall : 0.866667\n"
     ]
    },
    {
     "name": "stderr",
     "output_type": "stream",
     "text": [
      "Downloading artifacts: 100%|███████████████████| 7/7 [00:00<00:00, 812.92it/s]\n"
     ]
    },
    {
     "name": "stdout",
     "output_type": "stream",
     "text": [
      "3960\n",
      "\n",
      "Model Report Train\n",
      "AUC Score : 0.953432\n",
      "Accuracy : 0.8695\n",
      "Precision : 0.6468\n",
      "Recall : 0.913165\n",
      "\n",
      "Model Report Test\n",
      "AUC Score : 0.886995\n",
      "Accuracy : 0.8155\n",
      "Precision : 0.5571\n",
      "Recall : 0.866667\n"
     ]
    },
    {
     "name": "stderr",
     "output_type": "stream",
     "text": [
      "Downloading artifacts: 100%|███████████████████| 7/7 [00:00<00:00, 871.97it/s]\n"
     ]
    },
    {
     "name": "stdout",
     "output_type": "stream",
     "text": [
      "3970\n",
      "\n",
      "Model Report Train\n",
      "AUC Score : 0.953432\n",
      "Accuracy : 0.8695\n",
      "Precision : 0.6468\n",
      "Recall : 0.913165\n",
      "\n",
      "Model Report Test\n",
      "AUC Score : 0.886995\n",
      "Accuracy : 0.8155\n",
      "Precision : 0.5571\n",
      "Recall : 0.866667\n"
     ]
    },
    {
     "name": "stderr",
     "output_type": "stream",
     "text": [
      "Downloading artifacts: 100%|███████████████████| 7/7 [00:00<00:00, 854.41it/s]\n"
     ]
    },
    {
     "name": "stdout",
     "output_type": "stream",
     "text": [
      "3980\n",
      "\n",
      "Model Report Train\n",
      "AUC Score : 0.953432\n",
      "Accuracy : 0.8695\n",
      "Precision : 0.6468\n",
      "Recall : 0.913165\n",
      "\n",
      "Model Report Test\n",
      "AUC Score : 0.886995\n",
      "Accuracy : 0.8155\n",
      "Precision : 0.5571\n",
      "Recall : 0.866667\n"
     ]
    },
    {
     "name": "stderr",
     "output_type": "stream",
     "text": [
      "Downloading artifacts: 100%|███████████████████| 7/7 [00:00<00:00, 742.02it/s]\n"
     ]
    },
    {
     "name": "stdout",
     "output_type": "stream",
     "text": [
      "3990\n",
      "\n",
      "Model Report Train\n",
      "AUC Score : 0.953432\n",
      "Accuracy : 0.8695\n",
      "Precision : 0.6468\n",
      "Recall : 0.913165\n",
      "\n",
      "Model Report Test\n",
      "AUC Score : 0.886995\n",
      "Accuracy : 0.8155\n",
      "Precision : 0.5571\n",
      "Recall : 0.866667\n"
     ]
    },
    {
     "name": "stderr",
     "output_type": "stream",
     "text": [
      "Downloading artifacts: 100%|███████████████████| 7/7 [00:00<00:00, 759.42it/s]\n"
     ]
    },
    {
     "name": "stdout",
     "output_type": "stream",
     "text": [
      "4000\n",
      "\n",
      "Model Report Train\n",
      "AUC Score : 0.953432\n",
      "Accuracy : 0.8695\n",
      "Precision : 0.6468\n",
      "Recall : 0.913165\n",
      "\n",
      "Model Report Test\n",
      "AUC Score : 0.886995\n",
      "Accuracy : 0.8155\n",
      "Precision : 0.5571\n",
      "Recall : 0.866667\n"
     ]
    },
    {
     "name": "stderr",
     "output_type": "stream",
     "text": [
      "Downloading artifacts: 100%|███████████████████| 7/7 [00:00<00:00, 942.81it/s]\n"
     ]
    },
    {
     "name": "stdout",
     "output_type": "stream",
     "text": [
      "4010\n",
      "\n",
      "Model Report Train\n",
      "AUC Score : 0.953432\n",
      "Accuracy : 0.8695\n",
      "Precision : 0.6468\n",
      "Recall : 0.913165\n",
      "\n",
      "Model Report Test\n",
      "AUC Score : 0.886995\n",
      "Accuracy : 0.8155\n",
      "Precision : 0.5571\n",
      "Recall : 0.866667\n"
     ]
    },
    {
     "name": "stderr",
     "output_type": "stream",
     "text": [
      "Downloading artifacts: 100%|███████████████████| 7/7 [00:00<00:00, 996.71it/s]\n"
     ]
    },
    {
     "name": "stdout",
     "output_type": "stream",
     "text": [
      "4020\n",
      "\n",
      "Model Report Train\n",
      "AUC Score : 0.953432\n",
      "Accuracy : 0.8695\n",
      "Precision : 0.6468\n",
      "Recall : 0.913165\n",
      "\n",
      "Model Report Test\n",
      "AUC Score : 0.886995\n",
      "Accuracy : 0.8155\n",
      "Precision : 0.5571\n",
      "Recall : 0.866667\n"
     ]
    },
    {
     "name": "stderr",
     "output_type": "stream",
     "text": [
      "Downloading artifacts: 100%|███████████████████| 7/7 [00:00<00:00, 737.30it/s]\n"
     ]
    },
    {
     "name": "stdout",
     "output_type": "stream",
     "text": [
      "4030\n",
      "\n",
      "Model Report Train\n",
      "AUC Score : 0.953432\n",
      "Accuracy : 0.8695\n",
      "Precision : 0.6468\n",
      "Recall : 0.913165\n",
      "\n",
      "Model Report Test\n",
      "AUC Score : 0.886995\n",
      "Accuracy : 0.8155\n",
      "Precision : 0.5571\n",
      "Recall : 0.866667\n"
     ]
    },
    {
     "name": "stderr",
     "output_type": "stream",
     "text": [
      "Downloading artifacts: 100%|███████████████████| 7/7 [00:00<00:00, 997.12it/s]\n"
     ]
    },
    {
     "name": "stdout",
     "output_type": "stream",
     "text": [
      "4040\n",
      "\n",
      "Model Report Train\n",
      "AUC Score : 0.953432\n",
      "Accuracy : 0.8695\n",
      "Precision : 0.6468\n",
      "Recall : 0.913165\n",
      "\n",
      "Model Report Test\n",
      "AUC Score : 0.886995\n",
      "Accuracy : 0.8155\n",
      "Precision : 0.5571\n",
      "Recall : 0.866667\n"
     ]
    },
    {
     "name": "stderr",
     "output_type": "stream",
     "text": [
      "Downloading artifacts: 100%|██████████████████| 7/7 [00:00<00:00, 1116.61it/s]\n"
     ]
    },
    {
     "name": "stdout",
     "output_type": "stream",
     "text": [
      "4050\n",
      "\n",
      "Model Report Train\n",
      "AUC Score : 0.953432\n",
      "Accuracy : 0.8695\n",
      "Precision : 0.6468\n",
      "Recall : 0.913165\n",
      "\n",
      "Model Report Test\n",
      "AUC Score : 0.886995\n",
      "Accuracy : 0.8155\n",
      "Precision : 0.5571\n",
      "Recall : 0.866667\n"
     ]
    },
    {
     "name": "stderr",
     "output_type": "stream",
     "text": [
      "Downloading artifacts: 100%|███████████████████| 7/7 [00:00<00:00, 818.83it/s]\n"
     ]
    },
    {
     "name": "stdout",
     "output_type": "stream",
     "text": [
      "4060\n",
      "\n",
      "Model Report Train\n",
      "AUC Score : 0.953432\n",
      "Accuracy : 0.8695\n",
      "Precision : 0.6468\n",
      "Recall : 0.913165\n",
      "\n",
      "Model Report Test\n",
      "AUC Score : 0.886995\n",
      "Accuracy : 0.8155\n",
      "Precision : 0.5571\n",
      "Recall : 0.866667\n"
     ]
    },
    {
     "name": "stderr",
     "output_type": "stream",
     "text": [
      "Downloading artifacts: 100%|███████████████████| 7/7 [00:00<00:00, 563.13it/s]\n"
     ]
    },
    {
     "name": "stdout",
     "output_type": "stream",
     "text": [
      "4070\n",
      "\n",
      "Model Report Train\n",
      "AUC Score : 0.953432\n",
      "Accuracy : 0.8695\n",
      "Precision : 0.6468\n",
      "Recall : 0.913165\n",
      "\n",
      "Model Report Test\n",
      "AUC Score : 0.886995\n",
      "Accuracy : 0.8155\n",
      "Precision : 0.5571\n",
      "Recall : 0.866667\n"
     ]
    },
    {
     "name": "stderr",
     "output_type": "stream",
     "text": [
      "Downloading artifacts: 100%|███████████████████| 7/7 [00:00<00:00, 990.66it/s]\n"
     ]
    },
    {
     "name": "stdout",
     "output_type": "stream",
     "text": [
      "4080\n",
      "\n",
      "Model Report Train\n",
      "AUC Score : 0.953432\n",
      "Accuracy : 0.8695\n",
      "Precision : 0.6468\n",
      "Recall : 0.913165\n",
      "\n",
      "Model Report Test\n",
      "AUC Score : 0.886995\n",
      "Accuracy : 0.8155\n",
      "Precision : 0.5571\n",
      "Recall : 0.866667\n"
     ]
    },
    {
     "name": "stderr",
     "output_type": "stream",
     "text": [
      "Downloading artifacts: 100%|██████████████████| 7/7 [00:00<00:00, 1243.60it/s]\n"
     ]
    },
    {
     "name": "stdout",
     "output_type": "stream",
     "text": [
      "4090\n",
      "\n",
      "Model Report Train\n",
      "AUC Score : 0.953432\n",
      "Accuracy : 0.8695\n",
      "Precision : 0.6468\n",
      "Recall : 0.913165\n",
      "\n",
      "Model Report Test\n",
      "AUC Score : 0.886995\n",
      "Accuracy : 0.8155\n",
      "Precision : 0.5571\n",
      "Recall : 0.866667\n"
     ]
    },
    {
     "name": "stderr",
     "output_type": "stream",
     "text": [
      "Downloading artifacts: 100%|██████████████████| 7/7 [00:00<00:00, 1380.48it/s]\n"
     ]
    },
    {
     "name": "stdout",
     "output_type": "stream",
     "text": [
      "4100\n",
      "\n",
      "Model Report Train\n",
      "AUC Score : 0.953432\n",
      "Accuracy : 0.8695\n",
      "Precision : 0.6468\n",
      "Recall : 0.913165\n",
      "\n",
      "Model Report Test\n",
      "AUC Score : 0.886995\n",
      "Accuracy : 0.8155\n",
      "Precision : 0.5571\n",
      "Recall : 0.866667\n"
     ]
    },
    {
     "name": "stderr",
     "output_type": "stream",
     "text": [
      "Downloading artifacts: 100%|██████████████████| 7/7 [00:00<00:00, 1502.80it/s]\n"
     ]
    },
    {
     "name": "stdout",
     "output_type": "stream",
     "text": [
      "4110\n",
      "\n",
      "Model Report Train\n",
      "AUC Score : 0.953432\n",
      "Accuracy : 0.8695\n",
      "Precision : 0.6468\n",
      "Recall : 0.913165\n",
      "\n",
      "Model Report Test\n",
      "AUC Score : 0.886995\n",
      "Accuracy : 0.8155\n",
      "Precision : 0.5571\n",
      "Recall : 0.866667\n"
     ]
    },
    {
     "name": "stderr",
     "output_type": "stream",
     "text": [
      "Downloading artifacts: 100%|███████████████████| 7/7 [00:00<00:00, 739.89it/s]\n"
     ]
    },
    {
     "name": "stdout",
     "output_type": "stream",
     "text": [
      "4120\n",
      "\n",
      "Model Report Train\n",
      "AUC Score : 0.953432\n",
      "Accuracy : 0.8695\n",
      "Precision : 0.6468\n",
      "Recall : 0.913165\n",
      "\n",
      "Model Report Test\n",
      "AUC Score : 0.886995\n",
      "Accuracy : 0.8155\n",
      "Precision : 0.5571\n",
      "Recall : 0.866667\n"
     ]
    },
    {
     "name": "stderr",
     "output_type": "stream",
     "text": [
      "Downloading artifacts: 100%|███████████████████| 7/7 [00:00<00:00, 684.78it/s]\n"
     ]
    },
    {
     "name": "stdout",
     "output_type": "stream",
     "text": [
      "4130\n",
      "\n",
      "Model Report Train\n",
      "AUC Score : 0.953432\n",
      "Accuracy : 0.8695\n",
      "Precision : 0.6468\n",
      "Recall : 0.913165\n",
      "\n",
      "Model Report Test\n",
      "AUC Score : 0.886995\n",
      "Accuracy : 0.8155\n",
      "Precision : 0.5571\n",
      "Recall : 0.866667\n"
     ]
    },
    {
     "name": "stderr",
     "output_type": "stream",
     "text": [
      "Downloading artifacts: 100%|███████████████████| 7/7 [00:00<00:00, 548.40it/s]\n"
     ]
    },
    {
     "name": "stdout",
     "output_type": "stream",
     "text": [
      "4140\n",
      "\n",
      "Model Report Train\n",
      "AUC Score : 0.953432\n",
      "Accuracy : 0.8695\n",
      "Precision : 0.6468\n",
      "Recall : 0.913165\n",
      "\n",
      "Model Report Test\n",
      "AUC Score : 0.886995\n",
      "Accuracy : 0.8155\n",
      "Precision : 0.5571\n",
      "Recall : 0.866667\n"
     ]
    },
    {
     "name": "stderr",
     "output_type": "stream",
     "text": [
      "Downloading artifacts: 100%|███████████████████| 7/7 [00:00<00:00, 752.80it/s]\n"
     ]
    },
    {
     "name": "stdout",
     "output_type": "stream",
     "text": [
      "4150\n",
      "\n",
      "Model Report Train\n",
      "AUC Score : 0.953432\n",
      "Accuracy : 0.8695\n",
      "Precision : 0.6468\n",
      "Recall : 0.913165\n",
      "\n",
      "Model Report Test\n",
      "AUC Score : 0.886995\n",
      "Accuracy : 0.8155\n",
      "Precision : 0.5571\n",
      "Recall : 0.866667\n"
     ]
    },
    {
     "name": "stderr",
     "output_type": "stream",
     "text": [
      "Downloading artifacts: 100%|██████████████████| 7/7 [00:00<00:00, 1183.16it/s]\n"
     ]
    },
    {
     "name": "stdout",
     "output_type": "stream",
     "text": [
      "4160\n",
      "\n",
      "Model Report Train\n",
      "AUC Score : 0.953432\n",
      "Accuracy : 0.8695\n",
      "Precision : 0.6468\n",
      "Recall : 0.913165\n",
      "\n",
      "Model Report Test\n",
      "AUC Score : 0.886995\n",
      "Accuracy : 0.8155\n",
      "Precision : 0.5571\n",
      "Recall : 0.866667\n"
     ]
    },
    {
     "name": "stderr",
     "output_type": "stream",
     "text": [
      "Downloading artifacts: 100%|███████████████████| 7/7 [00:00<00:00, 654.50it/s]\n"
     ]
    },
    {
     "name": "stdout",
     "output_type": "stream",
     "text": [
      "4170\n",
      "\n",
      "Model Report Train\n",
      "AUC Score : 0.953432\n",
      "Accuracy : 0.8695\n",
      "Precision : 0.6468\n",
      "Recall : 0.913165\n",
      "\n",
      "Model Report Test\n",
      "AUC Score : 0.886995\n",
      "Accuracy : 0.8155\n",
      "Precision : 0.5571\n",
      "Recall : 0.866667\n"
     ]
    },
    {
     "name": "stderr",
     "output_type": "stream",
     "text": [
      "Downloading artifacts: 100%|███████████████████| 7/7 [00:00<00:00, 677.23it/s]\n"
     ]
    },
    {
     "name": "stdout",
     "output_type": "stream",
     "text": [
      "4180\n",
      "\n",
      "Model Report Train\n",
      "AUC Score : 0.953432\n",
      "Accuracy : 0.8695\n",
      "Precision : 0.6468\n",
      "Recall : 0.913165\n",
      "\n",
      "Model Report Test\n",
      "AUC Score : 0.886995\n",
      "Accuracy : 0.8155\n",
      "Precision : 0.5571\n",
      "Recall : 0.866667\n"
     ]
    },
    {
     "name": "stderr",
     "output_type": "stream",
     "text": [
      "Downloading artifacts: 100%|███████████████████| 7/7 [00:00<00:00, 702.16it/s]\n"
     ]
    },
    {
     "name": "stdout",
     "output_type": "stream",
     "text": [
      "4190\n",
      "\n",
      "Model Report Train\n",
      "AUC Score : 0.953432\n",
      "Accuracy : 0.8695\n",
      "Precision : 0.6468\n",
      "Recall : 0.913165\n",
      "\n",
      "Model Report Test\n",
      "AUC Score : 0.886995\n",
      "Accuracy : 0.8155\n",
      "Precision : 0.5571\n",
      "Recall : 0.866667\n"
     ]
    },
    {
     "name": "stderr",
     "output_type": "stream",
     "text": [
      "Downloading artifacts: 100%|███████████████████| 7/7 [00:00<00:00, 535.96it/s]\n"
     ]
    },
    {
     "name": "stdout",
     "output_type": "stream",
     "text": [
      "4200\n",
      "\n",
      "Model Report Train\n",
      "AUC Score : 0.953432\n",
      "Accuracy : 0.8695\n",
      "Precision : 0.6468\n",
      "Recall : 0.913165\n",
      "\n",
      "Model Report Test\n",
      "AUC Score : 0.886995\n",
      "Accuracy : 0.8155\n",
      "Precision : 0.5571\n",
      "Recall : 0.866667\n"
     ]
    },
    {
     "name": "stderr",
     "output_type": "stream",
     "text": [
      "Downloading artifacts: 100%|███████████████████| 7/7 [00:00<00:00, 662.40it/s]\n"
     ]
    },
    {
     "name": "stdout",
     "output_type": "stream",
     "text": [
      "4210\n",
      "\n",
      "Model Report Train\n",
      "AUC Score : 0.953432\n",
      "Accuracy : 0.8695\n",
      "Precision : 0.6468\n",
      "Recall : 0.913165\n",
      "\n",
      "Model Report Test\n",
      "AUC Score : 0.886995\n",
      "Accuracy : 0.8155\n",
      "Precision : 0.5571\n",
      "Recall : 0.866667\n"
     ]
    },
    {
     "name": "stderr",
     "output_type": "stream",
     "text": [
      "Downloading artifacts: 100%|███████████████████| 7/7 [00:00<00:00, 541.53it/s]\n"
     ]
    },
    {
     "name": "stdout",
     "output_type": "stream",
     "text": [
      "4220\n",
      "\n",
      "Model Report Train\n",
      "AUC Score : 0.953432\n",
      "Accuracy : 0.8695\n",
      "Precision : 0.6468\n",
      "Recall : 0.913165\n",
      "\n",
      "Model Report Test\n",
      "AUC Score : 0.886995\n",
      "Accuracy : 0.8155\n",
      "Precision : 0.5571\n",
      "Recall : 0.866667\n"
     ]
    },
    {
     "name": "stderr",
     "output_type": "stream",
     "text": [
      "Downloading artifacts: 100%|███████████████████| 7/7 [00:00<00:00, 859.72it/s]\n"
     ]
    },
    {
     "name": "stdout",
     "output_type": "stream",
     "text": [
      "4230\n",
      "\n",
      "Model Report Train\n",
      "AUC Score : 0.953432\n",
      "Accuracy : 0.8695\n",
      "Precision : 0.6468\n",
      "Recall : 0.913165\n",
      "\n",
      "Model Report Test\n",
      "AUC Score : 0.886995\n",
      "Accuracy : 0.8155\n",
      "Precision : 0.5571\n",
      "Recall : 0.866667\n"
     ]
    },
    {
     "name": "stderr",
     "output_type": "stream",
     "text": [
      "Downloading artifacts: 100%|███████████████████| 7/7 [00:00<00:00, 492.80it/s]\n"
     ]
    },
    {
     "name": "stdout",
     "output_type": "stream",
     "text": [
      "4240\n",
      "\n",
      "Model Report Train\n",
      "AUC Score : 0.953432\n",
      "Accuracy : 0.8695\n",
      "Precision : 0.6468\n",
      "Recall : 0.913165\n",
      "\n",
      "Model Report Test\n",
      "AUC Score : 0.886995\n",
      "Accuracy : 0.8155\n",
      "Precision : 0.5571\n",
      "Recall : 0.866667\n"
     ]
    },
    {
     "name": "stderr",
     "output_type": "stream",
     "text": [
      "Downloading artifacts: 100%|███████████████████| 7/7 [00:00<00:00, 971.87it/s]\n"
     ]
    },
    {
     "name": "stdout",
     "output_type": "stream",
     "text": [
      "4250\n",
      "\n",
      "Model Report Train\n",
      "AUC Score : 0.953527\n",
      "Accuracy : 0.8695\n",
      "Precision : 0.6468\n",
      "Recall : 0.913165\n",
      "\n",
      "Model Report Test\n",
      "AUC Score : 0.886995\n",
      "Accuracy : 0.8155\n",
      "Precision : 0.5571\n",
      "Recall : 0.866667\n"
     ]
    },
    {
     "name": "stderr",
     "output_type": "stream",
     "text": [
      "Downloading artifacts: 100%|███████████████████| 7/7 [00:00<00:00, 776.17it/s]\n"
     ]
    },
    {
     "name": "stdout",
     "output_type": "stream",
     "text": [
      "4260\n",
      "\n",
      "Model Report Train\n",
      "AUC Score : 0.953527\n",
      "Accuracy : 0.8695\n",
      "Precision : 0.6468\n",
      "Recall : 0.913165\n",
      "\n",
      "Model Report Test\n",
      "AUC Score : 0.886995\n",
      "Accuracy : 0.8155\n",
      "Precision : 0.5571\n",
      "Recall : 0.866667\n"
     ]
    },
    {
     "name": "stderr",
     "output_type": "stream",
     "text": [
      "Downloading artifacts: 100%|███████████████████| 7/7 [00:00<00:00, 905.87it/s]\n"
     ]
    },
    {
     "name": "stdout",
     "output_type": "stream",
     "text": [
      "4270\n",
      "\n",
      "Model Report Train\n",
      "AUC Score : 0.953527\n",
      "Accuracy : 0.8695\n",
      "Precision : 0.6468\n",
      "Recall : 0.913165\n",
      "\n",
      "Model Report Test\n",
      "AUC Score : 0.886995\n",
      "Accuracy : 0.8155\n",
      "Precision : 0.5571\n",
      "Recall : 0.866667\n"
     ]
    },
    {
     "name": "stderr",
     "output_type": "stream",
     "text": [
      "Downloading artifacts: 100%|██████████████████| 7/7 [00:00<00:00, 1329.35it/s]\n"
     ]
    },
    {
     "name": "stdout",
     "output_type": "stream",
     "text": [
      "4280\n",
      "\n",
      "Model Report Train\n",
      "AUC Score : 0.953527\n",
      "Accuracy : 0.8695\n",
      "Precision : 0.6468\n",
      "Recall : 0.913165\n",
      "\n",
      "Model Report Test\n",
      "AUC Score : 0.886995\n",
      "Accuracy : 0.8155\n",
      "Precision : 0.5571\n",
      "Recall : 0.866667\n"
     ]
    },
    {
     "name": "stderr",
     "output_type": "stream",
     "text": [
      "Downloading artifacts: 100%|██████████████████| 7/7 [00:00<00:00, 1184.83it/s]\n"
     ]
    },
    {
     "name": "stdout",
     "output_type": "stream",
     "text": [
      "4290\n",
      "\n",
      "Model Report Train\n",
      "AUC Score : 0.953527\n",
      "Accuracy : 0.8695\n",
      "Precision : 0.6468\n",
      "Recall : 0.913165\n",
      "\n",
      "Model Report Test\n",
      "AUC Score : 0.886995\n",
      "Accuracy : 0.8155\n",
      "Precision : 0.5571\n",
      "Recall : 0.866667\n"
     ]
    },
    {
     "name": "stderr",
     "output_type": "stream",
     "text": [
      "Downloading artifacts: 100%|███████████████████| 7/7 [00:00<00:00, 617.26it/s]\n"
     ]
    },
    {
     "name": "stdout",
     "output_type": "stream",
     "text": [
      "4300\n",
      "\n",
      "Model Report Train\n",
      "AUC Score : 0.953527\n",
      "Accuracy : 0.8695\n",
      "Precision : 0.6468\n",
      "Recall : 0.913165\n",
      "\n",
      "Model Report Test\n",
      "AUC Score : 0.886995\n",
      "Accuracy : 0.8155\n",
      "Precision : 0.5571\n",
      "Recall : 0.866667\n"
     ]
    },
    {
     "name": "stderr",
     "output_type": "stream",
     "text": [
      "Downloading artifacts: 100%|███████████████████| 7/7 [00:00<00:00, 957.23it/s]\n"
     ]
    },
    {
     "name": "stdout",
     "output_type": "stream",
     "text": [
      "4310\n",
      "\n",
      "Model Report Train\n",
      "AUC Score : 0.953527\n",
      "Accuracy : 0.8695\n",
      "Precision : 0.6468\n",
      "Recall : 0.913165\n",
      "\n",
      "Model Report Test\n",
      "AUC Score : 0.886995\n",
      "Accuracy : 0.8155\n",
      "Precision : 0.5571\n",
      "Recall : 0.866667\n"
     ]
    },
    {
     "name": "stderr",
     "output_type": "stream",
     "text": [
      "Downloading artifacts: 100%|███████████████████| 7/7 [00:00<00:00, 684.80it/s]\n"
     ]
    }
   ],
   "source": [
    "#\n",
    "file_path_replies = r\"/home/azureuser/rumour-detection-pheme/replies_charlie_hebdo.pkl\"\n",
    "file_path_posts = r\"/home/azureuser/rumour-detection-pheme/posts_charlie_hebdo.pkl\"\n",
    "\n",
    "for time_cut in range(10,24*3*60,10):\n",
    "    print(time_cut)\n",
    "    processor = LoadRumoursDatasetFilterNode(file_path_replies, file_path_posts, time_cut)\n",
    "    processor.load_data()\n",
    "    processor.process_data()\n",
    "    df_final = processor.get_final_dataframe()\n",
    "\n",
    "    X  = df_final.drop(columns=['rumour'])\n",
    "    X = np.hstack([X.drop(columns=['embeddings_avg']).values, np.array(pd.DataFrame(X.embeddings_avg.tolist()))])\n",
    "    y =df_final['rumour']\n",
    "\n",
    "    # Split the data into training and testing sets\n",
    "    X_train, X_test, y_train, y_test = train_test_split(\n",
    "        X, y, test_size=0.2, random_state=42,stratify=y,shuffle=True\n",
    "    )\n",
    "\n",
    "    if time_cut >20:\n",
    "\n",
    "        smote = SMOTE(random_state=42,sampling_strategy='minority')\n",
    "        X_resampled, y_resampled = smote.fit_resample(X_train, y_train)\n",
    "\n",
    "        final_model = xgb.XGBClassifier(\n",
    "        eval_metric='logloss',\n",
    "        **best_params\n",
    "        )\n",
    "        \n",
    "        final_model.fit(X_resampled, y_resampled)\n",
    "        \n",
    "        \n",
    "        modelfit(final_model,  X_train, y_train,X_test,y_test)\n",
    "    else:\n",
    "\n",
    "        final_model = xgb.XGBClassifier(\n",
    "        eval_metric='logloss',\n",
    "        **best_params\n",
    "        )\n",
    "        \n",
    "        final_model.fit(X_train, y_train)  \n",
    "        \n",
    "        modelfit(final_model,  X_train, y_train,X_test,y_test)"
   ]
  },
  {
   "cell_type": "code",
   "execution_count": 37,
   "id": "9f9551ae-8919-4ef9-8cb5-38fafe592827",
   "metadata": {},
   "outputs": [],
   "source": [
    "import mlflow\n",
    "mlflow.set_tracking_uri(\"sqlite:///mlflow.db\")\n",
    "import seaborn as sns\n",
    "\n",
    "# Get the experiment ID or name\n",
    "experiment_name = \"Xgboost SMOTE Filter Node 2024-09-30 10 min-3days\"  # Replace with your experiment name\n",
    "experiment = mlflow.get_experiment_by_name(experiment_name)\n",
    "\n",
    "if experiment is not None:\n",
    "    experiment_id = experiment.experiment_id\n",
    "\n",
    "    # Retrieve all runs in the experiment as a DataFrame\n",
    "    df = mlflow.search_runs(experiment_ids=[experiment_id])\n",
    "    \n",
    "    # Show the DataFrame\n",
    "    #print(df)\n",
    "else:\n",
    "    print(f\"Experiment '{experiment_name}' not found.\")\n"
   ]
  },
  {
   "cell_type": "code",
   "execution_count": 39,
   "id": "1fd31a0b-d636-463c-a84e-1b55bd817262",
   "metadata": {},
   "outputs": [
    {
     "data": {
      "image/png": "[encoded data removed]",
      "text/plain": [
       "<Figure size 1000x600 with 1 Axes>"
      ]
     },
     "metadata": {},
     "output_type": "display_data"
    }
   ],
   "source": [
    "\n",
    "# Plotting time_cut vs. test_accuracy\n",
    "plt.figure(figsize=(10, 6))\n",
    "sns.lineplot(x='metrics.time_cut', y='metrics.test_recall', data=df)\n",
    "plt.title('Time Cut vs. Test Recall')\n",
    "plt.xlabel('Time Cut')\n",
    "plt.ylabel('Test Recall')\n",
    "plt.grid(True)\n",
    "plt.show()"
   ]
  },
  {
   "cell_type": "code",
   "execution_count": 40,
   "id": "ab1323c8-5d1a-4dc4-9653-0db050e10f2a",
   "metadata": {},
   "outputs": [
    {
     "data": {
      "image/png": "[encoded data removed]",
      "text/plain": [
       "<Figure size 1000x600 with 1 Axes>"
      ]
     },
     "metadata": {},
     "output_type": "display_data"
    }
   ],
   "source": [
    "    # Ensure the metrics are numeric\n",
    "df['metrics.time_cut'] = pd.to_numeric(df['metrics.time_cut'], errors='coerce')\n",
    "df['metrics.test_precision'] = pd.to_numeric(df['metrics.test_precision'], errors='coerce')\n",
    "    \n",
    "# Plotting time_cut vs. test_accuracy\n",
    "plt.figure(figsize=(10, 6))\n",
    "sns.lineplot(x='metrics.time_cut', y='metrics.test_precision', data=df)\n",
    "plt.title('Time Cut vs. Test Precision')\n",
    "plt.xlabel('Time Cut')\n",
    "plt.ylabel('Test Precision')\n",
    "plt.grid(True)\n",
    "plt.show()"
   ]
  },
  {
   "cell_type": "code",
   "execution_count": null,
   "id": "fc3ef017",
   "metadata": {},
   "outputs": [],
   "source": []
  },
  {
   "cell_type": "code",
   "execution_count": null,
   "id": "0ff3b807",
   "metadata": {},
   "outputs": [],
   "source": []
  },
  {
   "cell_type": "code",
   "execution_count": null,
   "id": "9ac25513",
   "metadata": {},
   "outputs": [],
   "source": []
  },
  {
   "cell_type": "code",
   "execution_count": null,
   "id": "df46530c",
   "metadata": {},
   "outputs": [],
   "source": []
  },
  {
   "cell_type": "code",
   "execution_count": null,
   "id": "eccd6aa9",
   "metadata": {},
   "outputs": [],
   "source": []
  }
 ],
 "metadata": {
  "kernelspec": {
   "display_name": "mastering",
   "language": "python",
   "name": "mastering"
  },
  "language_info": {
   "codemirror_mode": {
    "name": "ipython",
    "version": 3
   },
   "file_extension": ".py",
   "mimetype": "text/x-python",
   "name": "python",
   "nbconvert_exporter": "python",
   "pygments_lexer": "ipython3",
   "version": "3.12.5"
  }
 },
 "nbformat": 4,
 "nbformat_minor": 5
}
