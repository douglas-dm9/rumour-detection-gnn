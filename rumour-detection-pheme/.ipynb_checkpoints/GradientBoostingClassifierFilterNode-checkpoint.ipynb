{
 "cells": [
  {
   "cell_type": "code",
   "execution_count": 1,
   "id": "4768654e-d9f9-46cf-a457-b658d46523cb",
   "metadata": {},
   "outputs": [],
   "source": [
    "import pandas as pd\n",
    "from sklearn.model_selection import train_test_split,GridSearchCV,StratifiedKFold\n",
    "from sklearn.ensemble import GradientBoostingClassifier\n",
    "from sklearn.metrics import *\n",
    "from tqdm import tqdm\n",
    "from utils import LoadRumoursDataset\n",
    "import numpy as np\n",
    "from sklearn.model_selection import train_test_split, cross_val_score\n",
    "import matplotlib.pylab as plt\n",
    "import uuid\n",
    "from tqdm import tqdm\n",
    "import seaborn as sns"
   ]
  },
  {
   "cell_type": "code",
   "execution_count": 3,
   "id": "ae8c233f",
   "metadata": {},
   "outputs": [],
   "source": [
    "mlflow.end_run()"
   ]
  },
  {
   "cell_type": "code",
   "execution_count": 15,
   "id": "6785d8ad-20e5-48cd-9f73-cf487b526f43",
   "metadata": {},
   "outputs": [
    {
     "name": "stderr",
     "output_type": "stream",
     "text": [
      "2024/08/24 18:48:42 INFO mlflow.tracking.fluent: Experiment with name 'GradientBoosting 2024-08-24' does not exist. Creating a new experiment.\n"
     ]
    },
    {
     "data": {
      "text/plain": [
       "<Experiment: artifact_location='/home/azureuser/rumour-detection-pheme/mlruns/7', creation_time=1724525322493, experiment_id='7', last_update_time=1724525322493, lifecycle_stage='active', name='GradientBoosting 2024-08-24', tags={}>"
      ]
     },
     "execution_count": 15,
     "metadata": {},
     "output_type": "execute_result"
    }
   ],
   "source": [
    "import mlflow\n",
    "mlflow.set_tracking_uri(\"sqlite:///mlflow.db\")\n",
    "#mlflow.set_experiment(\"spyder-experiment\")\n",
    "import mlflow.pytorch\n",
    "mlflow.set_experiment(\"GradientBoosting 2024-08-24\")"
   ]
  },
  {
   "cell_type": "code",
   "execution_count": 2,
   "id": "fda7eaeb-b01f-4bc2-b176-55a7f1bb2b58",
   "metadata": {},
   "outputs": [],
   "source": [
    "#\n",
    "file_path_replies = r\"/home/azureuser/rumour-detection-pheme/replies_charlie_hebdo.pkl\"\n",
    "file_path_posts = r\"/home/azureuser/rumour-detection-pheme/posts_charlie_hebdo.pkl\"\n"
   ]
  },
  {
   "cell_type": "code",
   "execution_count": 3,
   "id": "aa40cedc-f436-4ee4-b673-5e8e3a06bc0f",
   "metadata": {},
   "outputs": [],
   "source": [
    "time_cut =5\n",
    "processor = LoadRumoursDataset(file_path_replies, file_path_posts, time_cut)\n",
    "processor.load_data()\n",
    "processor.process_data()\n",
    "df_final = processor.get_final_dataframe()\n",
    "df_final['id'] = [uuid.uuid4() for _ in range(len(df_final))]\n"
   ]
  },
  {
   "cell_type": "code",
   "execution_count": 8,
   "id": "08726bc4",
   "metadata": {},
   "outputs": [
    {
     "data": {
      "text/plain": [
       "rumour\n",
       "0    1555\n",
       "1     447\n",
       "Name: id, dtype: int64"
      ]
     },
     "execution_count": 8,
     "metadata": {},
     "output_type": "execute_result"
    }
   ],
   "source": [
    "df_final.groupby('rumour')['id'].count()"
   ]
  },
  {
   "cell_type": "code",
   "execution_count": 35,
   "id": "b12e963a-180d-424d-a352-53cf9573571c",
   "metadata": {},
   "outputs": [],
   "source": [
    "df_not_rumours = df_final[df_final.rumour==0]\n",
    "\n",
    "n = int((df_final.rumour.sum())*1) // df_not_rumours['replies'].nunique()  # Unique number of values in 'replies' column\n",
    "\n",
    "# Group by 'replies' and sample 'n' rows from each group\n",
    "subset_df_not_rumours= df_not_rumours.sample(n= df_final[df_final.rumour==1].shape[0])\n",
    "\n",
    "#subset_df_not_rumours= df_not_rumours.groupby('replies',group_keys=False).apply(lambda x: x.sample(n=min(len(x), n))).reset_index(drop=True)\n"
   ]
  },
  {
   "cell_type": "code",
   "execution_count": 38,
   "id": "a1781185-e6a0-40e8-96ea-2638bd84e2dd",
   "metadata": {},
   "outputs": [],
   "source": [
    "df_final_balanced =pd.concat([subset_df_not_rumours,df_final[df_final.rumour==1]])"
   ]
  },
  {
   "cell_type": "code",
   "execution_count": 39,
   "id": "aeeb1e0b-5aeb-4eb4-9871-5c03b292f9bf",
   "metadata": {},
   "outputs": [],
   "source": [
    "df_final_remaining = df_final[(~df_final.id.isin(subset_df_not_rumours.id))&(df_final.rumour==0)]"
   ]
  },
  {
   "cell_type": "code",
   "execution_count": 40,
   "id": "2c8868cd-ce5b-430b-96d2-4fa4dcec91b2",
   "metadata": {},
   "outputs": [],
   "source": [
    "X  = df_final_balanced.drop(columns=['rumour','id'])\n",
    "X = np.hstack([X.drop(columns=['embeddings_avg']).values, np.array(pd.DataFrame(X.embeddings_avg.tolist()))])\n",
    "y =df_final_balanced['rumour']\n",
    "\n",
    "# Split the data into training and testing sets\n",
    "X_train, X_test, y_train, y_test = train_test_split(\n",
    "    X, y, test_size=0.3, random_state=42,stratify=y,shuffle=True\n",
    ")"
   ]
  },
  {
   "cell_type": "code",
   "execution_count": 41,
   "id": "dfe634e1-c2d5-4af4-9726-52634e089570",
   "metadata": {},
   "outputs": [],
   "source": [
    "X_test_all  = df_final_remaining.drop(columns=['rumour','id'])\n",
    "X_test_all = np.hstack([X_test_all.drop(columns=['embeddings_avg']).values, np.array(pd.DataFrame(X_test_all.embeddings_avg.tolist()))])\n",
    "y_test_all =df_final_remaining['rumour']\n",
    "X_test_all = np.concatenate((X_test_all, X_test), axis=0)\n",
    "y_test_all = pd.concat([y_test_all, y_test], axis=0)"
   ]
  },
  {
   "cell_type": "code",
   "execution_count": 42,
   "id": "6bfe1153-5126-42f1-b7aa-9c0d2417ba50",
   "metadata": {},
   "outputs": [],
   "source": [
    "from sklearn.metrics import roc_auc_score, accuracy_score, precision_score, recall_score, confusion_matrix\n",
    "import matplotlib.pyplot as plt\n",
    "import seaborn as sns\n",
    "from sklearn.model_selection import cross_val_score\n",
    "\n",
    "def modelfit(alg, X_train, y_train, X_test, y_test, performCV=True, printFeatureImportance=True, cv_folds=5):\n",
    "    # Fit the algorithm on the data\n",
    "    alg.fit(X_train, y_train)\n",
    "        \n",
    "    # Predict training set:\n",
    "    dtrain_predictions = alg.predict(X_train)\n",
    "    dtrain_predprob = alg.predict_proba(X_train)[:,1]\n",
    "\n",
    "    # Predict test set:\n",
    "    dtest_predictions = alg.predict(X_test)\n",
    "    dtest_predprob = alg.predict_proba(X_test)[:,1]\n",
    "    \n",
    "    # Perform cross-validation:\n",
    "    if performCV:\n",
    "        cv_score = cross_val_score(alg, X_train, y_train, cv=cv_folds, scoring='recall')\n",
    "    \n",
    "    # Print model report for Train:\n",
    "    print(\"\\nModel Report Train\")\n",
    "    print(\"AUC Score : %f\" % roc_auc_score(y_train, dtrain_predprob))\n",
    "    print(\"Accuracy : %.4g\" % accuracy_score(y_train, dtrain_predictions))\n",
    "    print(\"Precision : %.4g\" % precision_score(y_train, dtrain_predictions))\n",
    "    print(\"Recall : %f\" % recall_score(y_train, dtrain_predictions))\n",
    "    \n",
    "    # Plot confusion matrix for Train\n",
    "    plt.figure(figsize=(10, 5))\n",
    "    plt.subplot(1, 2, 1)\n",
    "    sns.heatmap(confusion_matrix(y_train, dtrain_predictions), annot=True, fmt=\"d\", cmap=\"Blues\")\n",
    "    plt.title(\"Confusion Matrix - Train\")\n",
    "    plt.xlabel(\"Predicted\")\n",
    "    plt.ylabel(\"Actual\")\n",
    "    \n",
    "    # Print model report for Test:\n",
    "    print(\"\\nModel Report Test\")\n",
    "    print(\"AUC Score : %f\" % roc_auc_score(y_test, dtest_predprob))\n",
    "    print(\"Accuracy : %.4g\" % accuracy_score(y_test, dtest_predictions))\n",
    "    print(\"Precision : %.4g\" % precision_score(y_test, dtest_predictions))\n",
    "    print(\"Recall : %f\" % recall_score(y_test, dtest_predictions))\n",
    "    \n",
    "    # Plot confusion matrix for Test\n",
    "    plt.subplot(1, 2, 2)\n",
    "    sns.heatmap(confusion_matrix(y_test, dtest_predictions), annot=True, fmt=\"d\", cmap=\"Blues\")\n",
    "    plt.title(\"Confusion Matrix - Test\")\n",
    "    plt.xlabel(\"Predicted\")\n",
    "    plt.ylabel(\"Actual\")\n",
    "    \n",
    "    plt.tight_layout()\n",
    "    plt.show()\n",
    "    \n",
    "    if performCV:\n",
    "        print(\"CV Score : Mean - %.7g | Std - %.7g | Min - %.7g | Max - %.7g\" % (np.mean(cv_score), np.std(cv_score), np.min(cv_score), np.max(cv_score)))\n",
    "\n",
    "    return alg\n",
    "\n"
   ]
  },
  {
   "cell_type": "code",
   "execution_count": 43,
   "id": "cae6af27-04e5-40d0-9ba9-93b3c1471ce4",
   "metadata": {},
   "outputs": [
    {
     "name": "stdout",
     "output_type": "stream",
     "text": [
      "\n",
      "Model Report Train\n",
      "AUC Score : 0.999990\n",
      "Accuracy : 0.9968\n",
      "Precision : 0.9968\n",
      "Recall : 0.996805\n",
      "\n",
      "Model Report Test\n",
      "AUC Score : 0.888281\n",
      "Accuracy : 0.8327\n",
      "Precision : 0.8027\n",
      "Recall : 0.880597\n"
     ]
    },
    {
     "data": {
      "image/png": "[encoded data removed]",
      "text/plain": [
       "<Figure size 1000x500 with 4 Axes>"
      ]
     },
     "metadata": {},
     "output_type": "display_data"
    },
    {
     "name": "stdout",
     "output_type": "stream",
     "text": [
      "CV Score : Mean - 0.8435228 | Std - 0.05782693 | Min - 0.7619048 | Max - 0.9365079\n"
     ]
    },
    {
     "data": {
      "text/html": [
       "<style>#sk-container-id-1 {\n",
       "  /* Definition of color scheme common for light and dark mode */\n",
       "  --sklearn-color-text: black;\n",
       "  --sklearn-color-line: gray;\n",
       "  /* Definition of color scheme for unfitted estimators */\n",
       "  --sklearn-color-unfitted-level-0: #fff5e6;\n",
       "  --sklearn-color-unfitted-level-1: #f6e4d2;\n",
       "  --sklearn-color-unfitted-level-2: #ffe0b3;\n",
       "  --sklearn-color-unfitted-level-3: chocolate;\n",
       "  /* Definition of color scheme for fitted estimators */\n",
       "  --sklearn-color-fitted-level-0: #f0f8ff;\n",
       "  --sklearn-color-fitted-level-1: #d4ebff;\n",
       "  --sklearn-color-fitted-level-2: #b3dbfd;\n",
       "  --sklearn-color-fitted-level-3: cornflowerblue;\n",
       "\n",
       "  /* Specific color for light theme */\n",
       "  --sklearn-color-text-on-default-background: var(--sg-text-color, var(--theme-code-foreground, var(--jp-content-font-color1, black)));\n",
       "  --sklearn-color-background: var(--sg-background-color, var(--theme-background, var(--jp-layout-color0, white)));\n",
       "  --sklearn-color-border-box: var(--sg-text-color, var(--theme-code-foreground, var(--jp-content-font-color1, black)));\n",
       "  --sklearn-color-icon: #696969;\n",
       "\n",
       "  @media (prefers-color-scheme: dark) {\n",
       "    /* Redefinition of color scheme for dark theme */\n",
       "    --sklearn-color-text-on-default-background: var(--sg-text-color, var(--theme-code-foreground, var(--jp-content-font-color1, white)));\n",
       "    --sklearn-color-background: var(--sg-background-color, var(--theme-background, var(--jp-layout-color0, #111)));\n",
       "    --sklearn-color-border-box: var(--sg-text-color, var(--theme-code-foreground, var(--jp-content-font-color1, white)));\n",
       "    --sklearn-color-icon: #878787;\n",
       "  }\n",
       "}\n",
       "\n",
       "#sk-container-id-1 {\n",
       "  color: var(--sklearn-color-text);\n",
       "}\n",
       "\n",
       "#sk-container-id-1 pre {\n",
       "  padding: 0;\n",
       "}\n",
       "\n",
       "#sk-container-id-1 input.sk-hidden--visually {\n",
       "  border: 0;\n",
       "  clip: rect(1px 1px 1px 1px);\n",
       "  clip: rect(1px, 1px, 1px, 1px);\n",
       "  height: 1px;\n",
       "  margin: -1px;\n",
       "  overflow: hidden;\n",
       "  padding: 0;\n",
       "  position: absolute;\n",
       "  width: 1px;\n",
       "}\n",
       "\n",
       "#sk-container-id-1 div.sk-dashed-wrapped {\n",
       "  border: 1px dashed var(--sklearn-color-line);\n",
       "  margin: 0 0.4em 0.5em 0.4em;\n",
       "  box-sizing: border-box;\n",
       "  padding-bottom: 0.4em;\n",
       "  background-color: var(--sklearn-color-background);\n",
       "}\n",
       "\n",
       "#sk-container-id-1 div.sk-container {\n",
       "  /* jupyter's `normalize.less` sets `[hidden] { display: none; }`\n",
       "     but bootstrap.min.css set `[hidden] { display: none !important; }`\n",
       "     so we also need the `!important` here to be able to override the\n",
       "     default hidden behavior on the sphinx rendered scikit-learn.org.\n",
       "     See: https://github.com/scikit-learn/scikit-learn/issues/21755 */\n",
       "  display: inline-block !important;\n",
       "  position: relative;\n",
       "}\n",
       "\n",
       "#sk-container-id-1 div.sk-text-repr-fallback {\n",
       "  display: none;\n",
       "}\n",
       "\n",
       "div.sk-parallel-item,\n",
       "div.sk-serial,\n",
       "div.sk-item {\n",
       "  /* draw centered vertical line to link estimators */\n",
       "  background-image: linear-gradient(var(--sklearn-color-text-on-default-background), var(--sklearn-color-text-on-default-background));\n",
       "  background-size: 2px 100%;\n",
       "  background-repeat: no-repeat;\n",
       "  background-position: center center;\n",
       "}\n",
       "\n",
       "/* Parallel-specific style estimator block */\n",
       "\n",
       "#sk-container-id-1 div.sk-parallel-item::after {\n",
       "  content: \"\";\n",
       "  width: 100%;\n",
       "  border-bottom: 2px solid var(--sklearn-color-text-on-default-background);\n",
       "  flex-grow: 1;\n",
       "}\n",
       "\n",
       "#sk-container-id-1 div.sk-parallel {\n",
       "  display: flex;\n",
       "  align-items: stretch;\n",
       "  justify-content: center;\n",
       "  background-color: var(--sklearn-color-background);\n",
       "  position: relative;\n",
       "}\n",
       "\n",
       "#sk-container-id-1 div.sk-parallel-item {\n",
       "  display: flex;\n",
       "  flex-direction: column;\n",
       "}\n",
       "\n",
       "#sk-container-id-1 div.sk-parallel-item:first-child::after {\n",
       "  align-self: flex-end;\n",
       "  width: 50%;\n",
       "}\n",
       "\n",
       "#sk-container-id-1 div.sk-parallel-item:last-child::after {\n",
       "  align-self: flex-start;\n",
       "  width: 50%;\n",
       "}\n",
       "\n",
       "#sk-container-id-1 div.sk-parallel-item:only-child::after {\n",
       "  width: 0;\n",
       "}\n",
       "\n",
       "/* Serial-specific style estimator block */\n",
       "\n",
       "#sk-container-id-1 div.sk-serial {\n",
       "  display: flex;\n",
       "  flex-direction: column;\n",
       "  align-items: center;\n",
       "  background-color: var(--sklearn-color-background);\n",
       "  padding-right: 1em;\n",
       "  padding-left: 1em;\n",
       "}\n",
       "\n",
       "\n",
       "/* Toggleable style: style used for estimator/Pipeline/ColumnTransformer box that is\n",
       "clickable and can be expanded/collapsed.\n",
       "- Pipeline and ColumnTransformer use this feature and define the default style\n",
       "- Estimators will overwrite some part of the style using the `sk-estimator` class\n",
       "*/\n",
       "\n",
       "/* Pipeline and ColumnTransformer style (default) */\n",
       "\n",
       "#sk-container-id-1 div.sk-toggleable {\n",
       "  /* Default theme specific background. It is overwritten whether we have a\n",
       "  specific estimator or a Pipeline/ColumnTransformer */\n",
       "  background-color: var(--sklearn-color-background);\n",
       "}\n",
       "\n",
       "/* Toggleable label */\n",
       "#sk-container-id-1 label.sk-toggleable__label {\n",
       "  cursor: pointer;\n",
       "  display: block;\n",
       "  width: 100%;\n",
       "  margin-bottom: 0;\n",
       "  padding: 0.5em;\n",
       "  box-sizing: border-box;\n",
       "  text-align: center;\n",
       "}\n",
       "\n",
       "#sk-container-id-1 label.sk-toggleable__label-arrow:before {\n",
       "  /* Arrow on the left of the label */\n",
       "  content: \"▸\";\n",
       "  float: left;\n",
       "  margin-right: 0.25em;\n",
       "  color: var(--sklearn-color-icon);\n",
       "}\n",
       "\n",
       "#sk-container-id-1 label.sk-toggleable__label-arrow:hover:before {\n",
       "  color: var(--sklearn-color-text);\n",
       "}\n",
       "\n",
       "/* Toggleable content - dropdown */\n",
       "\n",
       "#sk-container-id-1 div.sk-toggleable__content {\n",
       "  max-height: 0;\n",
       "  max-width: 0;\n",
       "  overflow: hidden;\n",
       "  text-align: left;\n",
       "  /* unfitted */\n",
       "  background-color: var(--sklearn-color-unfitted-level-0);\n",
       "}\n",
       "\n",
       "#sk-container-id-1 div.sk-toggleable__content.fitted {\n",
       "  /* fitted */\n",
       "  background-color: var(--sklearn-color-fitted-level-0);\n",
       "}\n",
       "\n",
       "#sk-container-id-1 div.sk-toggleable__content pre {\n",
       "  margin: 0.2em;\n",
       "  border-radius: 0.25em;\n",
       "  color: var(--sklearn-color-text);\n",
       "  /* unfitted */\n",
       "  background-color: var(--sklearn-color-unfitted-level-0);\n",
       "}\n",
       "\n",
       "#sk-container-id-1 div.sk-toggleable__content.fitted pre {\n",
       "  /* unfitted */\n",
       "  background-color: var(--sklearn-color-fitted-level-0);\n",
       "}\n",
       "\n",
       "#sk-container-id-1 input.sk-toggleable__control:checked~div.sk-toggleable__content {\n",
       "  /* Expand drop-down */\n",
       "  max-height: 200px;\n",
       "  max-width: 100%;\n",
       "  overflow: auto;\n",
       "}\n",
       "\n",
       "#sk-container-id-1 input.sk-toggleable__control:checked~label.sk-toggleable__label-arrow:before {\n",
       "  content: \"▾\";\n",
       "}\n",
       "\n",
       "/* Pipeline/ColumnTransformer-specific style */\n",
       "\n",
       "#sk-container-id-1 div.sk-label input.sk-toggleable__control:checked~label.sk-toggleable__label {\n",
       "  color: var(--sklearn-color-text);\n",
       "  background-color: var(--sklearn-color-unfitted-level-2);\n",
       "}\n",
       "\n",
       "#sk-container-id-1 div.sk-label.fitted input.sk-toggleable__control:checked~label.sk-toggleable__label {\n",
       "  background-color: var(--sklearn-color-fitted-level-2);\n",
       "}\n",
       "\n",
       "/* Estimator-specific style */\n",
       "\n",
       "/* Colorize estimator box */\n",
       "#sk-container-id-1 div.sk-estimator input.sk-toggleable__control:checked~label.sk-toggleable__label {\n",
       "  /* unfitted */\n",
       "  background-color: var(--sklearn-color-unfitted-level-2);\n",
       "}\n",
       "\n",
       "#sk-container-id-1 div.sk-estimator.fitted input.sk-toggleable__control:checked~label.sk-toggleable__label {\n",
       "  /* fitted */\n",
       "  background-color: var(--sklearn-color-fitted-level-2);\n",
       "}\n",
       "\n",
       "#sk-container-id-1 div.sk-label label.sk-toggleable__label,\n",
       "#sk-container-id-1 div.sk-label label {\n",
       "  /* The background is the default theme color */\n",
       "  color: var(--sklearn-color-text-on-default-background);\n",
       "}\n",
       "\n",
       "/* On hover, darken the color of the background */\n",
       "#sk-container-id-1 div.sk-label:hover label.sk-toggleable__label {\n",
       "  color: var(--sklearn-color-text);\n",
       "  background-color: var(--sklearn-color-unfitted-level-2);\n",
       "}\n",
       "\n",
       "/* Label box, darken color on hover, fitted */\n",
       "#sk-container-id-1 div.sk-label.fitted:hover label.sk-toggleable__label.fitted {\n",
       "  color: var(--sklearn-color-text);\n",
       "  background-color: var(--sklearn-color-fitted-level-2);\n",
       "}\n",
       "\n",
       "/* Estimator label */\n",
       "\n",
       "#sk-container-id-1 div.sk-label label {\n",
       "  font-family: monospace;\n",
       "  font-weight: bold;\n",
       "  display: inline-block;\n",
       "  line-height: 1.2em;\n",
       "}\n",
       "\n",
       "#sk-container-id-1 div.sk-label-container {\n",
       "  text-align: center;\n",
       "}\n",
       "\n",
       "/* Estimator-specific */\n",
       "#sk-container-id-1 div.sk-estimator {\n",
       "  font-family: monospace;\n",
       "  border: 1px dotted var(--sklearn-color-border-box);\n",
       "  border-radius: 0.25em;\n",
       "  box-sizing: border-box;\n",
       "  margin-bottom: 0.5em;\n",
       "  /* unfitted */\n",
       "  background-color: var(--sklearn-color-unfitted-level-0);\n",
       "}\n",
       "\n",
       "#sk-container-id-1 div.sk-estimator.fitted {\n",
       "  /* fitted */\n",
       "  background-color: var(--sklearn-color-fitted-level-0);\n",
       "}\n",
       "\n",
       "/* on hover */\n",
       "#sk-container-id-1 div.sk-estimator:hover {\n",
       "  /* unfitted */\n",
       "  background-color: var(--sklearn-color-unfitted-level-2);\n",
       "}\n",
       "\n",
       "#sk-container-id-1 div.sk-estimator.fitted:hover {\n",
       "  /* fitted */\n",
       "  background-color: var(--sklearn-color-fitted-level-2);\n",
       "}\n",
       "\n",
       "/* Specification for estimator info (e.g. \"i\" and \"?\") */\n",
       "\n",
       "/* Common style for \"i\" and \"?\" */\n",
       "\n",
       ".sk-estimator-doc-link,\n",
       "a:link.sk-estimator-doc-link,\n",
       "a:visited.sk-estimator-doc-link {\n",
       "  float: right;\n",
       "  font-size: smaller;\n",
       "  line-height: 1em;\n",
       "  font-family: monospace;\n",
       "  background-color: var(--sklearn-color-background);\n",
       "  border-radius: 1em;\n",
       "  height: 1em;\n",
       "  width: 1em;\n",
       "  text-decoration: none !important;\n",
       "  margin-left: 1ex;\n",
       "  /* unfitted */\n",
       "  border: var(--sklearn-color-unfitted-level-1) 1pt solid;\n",
       "  color: var(--sklearn-color-unfitted-level-1);\n",
       "}\n",
       "\n",
       ".sk-estimator-doc-link.fitted,\n",
       "a:link.sk-estimator-doc-link.fitted,\n",
       "a:visited.sk-estimator-doc-link.fitted {\n",
       "  /* fitted */\n",
       "  border: var(--sklearn-color-fitted-level-1) 1pt solid;\n",
       "  color: var(--sklearn-color-fitted-level-1);\n",
       "}\n",
       "\n",
       "/* On hover */\n",
       "div.sk-estimator:hover .sk-estimator-doc-link:hover,\n",
       ".sk-estimator-doc-link:hover,\n",
       "div.sk-label-container:hover .sk-estimator-doc-link:hover,\n",
       ".sk-estimator-doc-link:hover {\n",
       "  /* unfitted */\n",
       "  background-color: var(--sklearn-color-unfitted-level-3);\n",
       "  color: var(--sklearn-color-background);\n",
       "  text-decoration: none;\n",
       "}\n",
       "\n",
       "div.sk-estimator.fitted:hover .sk-estimator-doc-link.fitted:hover,\n",
       ".sk-estimator-doc-link.fitted:hover,\n",
       "div.sk-label-container:hover .sk-estimator-doc-link.fitted:hover,\n",
       ".sk-estimator-doc-link.fitted:hover {\n",
       "  /* fitted */\n",
       "  background-color: var(--sklearn-color-fitted-level-3);\n",
       "  color: var(--sklearn-color-background);\n",
       "  text-decoration: none;\n",
       "}\n",
       "\n",
       "/* Span, style for the box shown on hovering the info icon */\n",
       ".sk-estimator-doc-link span {\n",
       "  display: none;\n",
       "  z-index: 9999;\n",
       "  position: relative;\n",
       "  font-weight: normal;\n",
       "  right: .2ex;\n",
       "  padding: .5ex;\n",
       "  margin: .5ex;\n",
       "  width: min-content;\n",
       "  min-width: 20ex;\n",
       "  max-width: 50ex;\n",
       "  color: var(--sklearn-color-text);\n",
       "  box-shadow: 2pt 2pt 4pt #999;\n",
       "  /* unfitted */\n",
       "  background: var(--sklearn-color-unfitted-level-0);\n",
       "  border: .5pt solid var(--sklearn-color-unfitted-level-3);\n",
       "}\n",
       "\n",
       ".sk-estimator-doc-link.fitted span {\n",
       "  /* fitted */\n",
       "  background: var(--sklearn-color-fitted-level-0);\n",
       "  border: var(--sklearn-color-fitted-level-3);\n",
       "}\n",
       "\n",
       ".sk-estimator-doc-link:hover span {\n",
       "  display: block;\n",
       "}\n",
       "\n",
       "/* \"?\"-specific style due to the `<a>` HTML tag */\n",
       "\n",
       "#sk-container-id-1 a.estimator_doc_link {\n",
       "  float: right;\n",
       "  font-size: 1rem;\n",
       "  line-height: 1em;\n",
       "  font-family: monospace;\n",
       "  background-color: var(--sklearn-color-background);\n",
       "  border-radius: 1rem;\n",
       "  height: 1rem;\n",
       "  width: 1rem;\n",
       "  text-decoration: none;\n",
       "  /* unfitted */\n",
       "  color: var(--sklearn-color-unfitted-level-1);\n",
       "  border: var(--sklearn-color-unfitted-level-1) 1pt solid;\n",
       "}\n",
       "\n",
       "#sk-container-id-1 a.estimator_doc_link.fitted {\n",
       "  /* fitted */\n",
       "  border: var(--sklearn-color-fitted-level-1) 1pt solid;\n",
       "  color: var(--sklearn-color-fitted-level-1);\n",
       "}\n",
       "\n",
       "/* On hover */\n",
       "#sk-container-id-1 a.estimator_doc_link:hover {\n",
       "  /* unfitted */\n",
       "  background-color: var(--sklearn-color-unfitted-level-3);\n",
       "  color: var(--sklearn-color-background);\n",
       "  text-decoration: none;\n",
       "}\n",
       "\n",
       "#sk-container-id-1 a.estimator_doc_link.fitted:hover {\n",
       "  /* fitted */\n",
       "  background-color: var(--sklearn-color-fitted-level-3);\n",
       "}\n",
       "</style><div id=\"sk-container-id-1\" class=\"sk-top-container\"><div class=\"sk-text-repr-fallback\"><pre>GradientBoostingClassifier(random_state=42)</pre><b>In a Jupyter environment, please rerun this cell to show the HTML representation or trust the notebook. <br />On GitHub, the HTML representation is unable to render, please try loading this page with nbviewer.org.</b></div><div class=\"sk-container\" hidden><div class=\"sk-item\"><div class=\"sk-estimator fitted sk-toggleable\"><input class=\"sk-toggleable__control sk-hidden--visually\" id=\"sk-estimator-id-1\" type=\"checkbox\" checked><label for=\"sk-estimator-id-1\" class=\"sk-toggleable__label fitted sk-toggleable__label-arrow fitted\">&nbsp;&nbsp;GradientBoostingClassifier<a class=\"sk-estimator-doc-link fitted\" rel=\"noreferrer\" target=\"_blank\" href=\"https://scikit-learn.org/1.5/modules/generated/sklearn.ensemble.GradientBoostingClassifier.html\">?<span>Documentation for GradientBoostingClassifier</span></a><span class=\"sk-estimator-doc-link fitted\">i<span>Fitted</span></span></label><div class=\"sk-toggleable__content fitted\"><pre>GradientBoostingClassifier(random_state=42)</pre></div> </div></div></div></div>"
      ],
      "text/plain": [
       "GradientBoostingClassifier(random_state=42)"
      ]
     },
     "execution_count": 43,
     "metadata": {},
     "output_type": "execute_result"
    }
   ],
   "source": [
    "#Choose all predictors except target & IDcols\n",
    "gbm0 = GradientBoostingClassifier(random_state=42)\n",
    "modelfit(gbm0, X_train, y_train,X_test,y_test)"
   ]
  },
  {
   "cell_type": "code",
   "execution_count": 54,
   "id": "ebd75663-3ff1-4a00-afff-f5f98518f826",
   "metadata": {},
   "outputs": [
    {
     "data": {
      "text/html": [
       "<style>#sk-container-id-9 {\n",
       "  /* Definition of color scheme common for light and dark mode */\n",
       "  --sklearn-color-text: black;\n",
       "  --sklearn-color-line: gray;\n",
       "  /* Definition of color scheme for unfitted estimators */\n",
       "  --sklearn-color-unfitted-level-0: #fff5e6;\n",
       "  --sklearn-color-unfitted-level-1: #f6e4d2;\n",
       "  --sklearn-color-unfitted-level-2: #ffe0b3;\n",
       "  --sklearn-color-unfitted-level-3: chocolate;\n",
       "  /* Definition of color scheme for fitted estimators */\n",
       "  --sklearn-color-fitted-level-0: #f0f8ff;\n",
       "  --sklearn-color-fitted-level-1: #d4ebff;\n",
       "  --sklearn-color-fitted-level-2: #b3dbfd;\n",
       "  --sklearn-color-fitted-level-3: cornflowerblue;\n",
       "\n",
       "  /* Specific color for light theme */\n",
       "  --sklearn-color-text-on-default-background: var(--sg-text-color, var(--theme-code-foreground, var(--jp-content-font-color1, black)));\n",
       "  --sklearn-color-background: var(--sg-background-color, var(--theme-background, var(--jp-layout-color0, white)));\n",
       "  --sklearn-color-border-box: var(--sg-text-color, var(--theme-code-foreground, var(--jp-content-font-color1, black)));\n",
       "  --sklearn-color-icon: #696969;\n",
       "\n",
       "  @media (prefers-color-scheme: dark) {\n",
       "    /* Redefinition of color scheme for dark theme */\n",
       "    --sklearn-color-text-on-default-background: var(--sg-text-color, var(--theme-code-foreground, var(--jp-content-font-color1, white)));\n",
       "    --sklearn-color-background: var(--sg-background-color, var(--theme-background, var(--jp-layout-color0, #111)));\n",
       "    --sklearn-color-border-box: var(--sg-text-color, var(--theme-code-foreground, var(--jp-content-font-color1, white)));\n",
       "    --sklearn-color-icon: #878787;\n",
       "  }\n",
       "}\n",
       "\n",
       "#sk-container-id-9 {\n",
       "  color: var(--sklearn-color-text);\n",
       "}\n",
       "\n",
       "#sk-container-id-9 pre {\n",
       "  padding: 0;\n",
       "}\n",
       "\n",
       "#sk-container-id-9 input.sk-hidden--visually {\n",
       "  border: 0;\n",
       "  clip: rect(1px 1px 1px 1px);\n",
       "  clip: rect(1px, 1px, 1px, 1px);\n",
       "  height: 1px;\n",
       "  margin: -1px;\n",
       "  overflow: hidden;\n",
       "  padding: 0;\n",
       "  position: absolute;\n",
       "  width: 1px;\n",
       "}\n",
       "\n",
       "#sk-container-id-9 div.sk-dashed-wrapped {\n",
       "  border: 1px dashed var(--sklearn-color-line);\n",
       "  margin: 0 0.4em 0.5em 0.4em;\n",
       "  box-sizing: border-box;\n",
       "  padding-bottom: 0.4em;\n",
       "  background-color: var(--sklearn-color-background);\n",
       "}\n",
       "\n",
       "#sk-container-id-9 div.sk-container {\n",
       "  /* jupyter's `normalize.less` sets `[hidden] { display: none; }`\n",
       "     but bootstrap.min.css set `[hidden] { display: none !important; }`\n",
       "     so we also need the `!important` here to be able to override the\n",
       "     default hidden behavior on the sphinx rendered scikit-learn.org.\n",
       "     See: https://github.com/scikit-learn/scikit-learn/issues/21755 */\n",
       "  display: inline-block !important;\n",
       "  position: relative;\n",
       "}\n",
       "\n",
       "#sk-container-id-9 div.sk-text-repr-fallback {\n",
       "  display: none;\n",
       "}\n",
       "\n",
       "div.sk-parallel-item,\n",
       "div.sk-serial,\n",
       "div.sk-item {\n",
       "  /* draw centered vertical line to link estimators */\n",
       "  background-image: linear-gradient(var(--sklearn-color-text-on-default-background), var(--sklearn-color-text-on-default-background));\n",
       "  background-size: 2px 100%;\n",
       "  background-repeat: no-repeat;\n",
       "  background-position: center center;\n",
       "}\n",
       "\n",
       "/* Parallel-specific style estimator block */\n",
       "\n",
       "#sk-container-id-9 div.sk-parallel-item::after {\n",
       "  content: \"\";\n",
       "  width: 100%;\n",
       "  border-bottom: 2px solid var(--sklearn-color-text-on-default-background);\n",
       "  flex-grow: 1;\n",
       "}\n",
       "\n",
       "#sk-container-id-9 div.sk-parallel {\n",
       "  display: flex;\n",
       "  align-items: stretch;\n",
       "  justify-content: center;\n",
       "  background-color: var(--sklearn-color-background);\n",
       "  position: relative;\n",
       "}\n",
       "\n",
       "#sk-container-id-9 div.sk-parallel-item {\n",
       "  display: flex;\n",
       "  flex-direction: column;\n",
       "}\n",
       "\n",
       "#sk-container-id-9 div.sk-parallel-item:first-child::after {\n",
       "  align-self: flex-end;\n",
       "  width: 50%;\n",
       "}\n",
       "\n",
       "#sk-container-id-9 div.sk-parallel-item:last-child::after {\n",
       "  align-self: flex-start;\n",
       "  width: 50%;\n",
       "}\n",
       "\n",
       "#sk-container-id-9 div.sk-parallel-item:only-child::after {\n",
       "  width: 0;\n",
       "}\n",
       "\n",
       "/* Serial-specific style estimator block */\n",
       "\n",
       "#sk-container-id-9 div.sk-serial {\n",
       "  display: flex;\n",
       "  flex-direction: column;\n",
       "  align-items: center;\n",
       "  background-color: var(--sklearn-color-background);\n",
       "  padding-right: 1em;\n",
       "  padding-left: 1em;\n",
       "}\n",
       "\n",
       "\n",
       "/* Toggleable style: style used for estimator/Pipeline/ColumnTransformer box that is\n",
       "clickable and can be expanded/collapsed.\n",
       "- Pipeline and ColumnTransformer use this feature and define the default style\n",
       "- Estimators will overwrite some part of the style using the `sk-estimator` class\n",
       "*/\n",
       "\n",
       "/* Pipeline and ColumnTransformer style (default) */\n",
       "\n",
       "#sk-container-id-9 div.sk-toggleable {\n",
       "  /* Default theme specific background. It is overwritten whether we have a\n",
       "  specific estimator or a Pipeline/ColumnTransformer */\n",
       "  background-color: var(--sklearn-color-background);\n",
       "}\n",
       "\n",
       "/* Toggleable label */\n",
       "#sk-container-id-9 label.sk-toggleable__label {\n",
       "  cursor: pointer;\n",
       "  display: block;\n",
       "  width: 100%;\n",
       "  margin-bottom: 0;\n",
       "  padding: 0.5em;\n",
       "  box-sizing: border-box;\n",
       "  text-align: center;\n",
       "}\n",
       "\n",
       "#sk-container-id-9 label.sk-toggleable__label-arrow:before {\n",
       "  /* Arrow on the left of the label */\n",
       "  content: \"▸\";\n",
       "  float: left;\n",
       "  margin-right: 0.25em;\n",
       "  color: var(--sklearn-color-icon);\n",
       "}\n",
       "\n",
       "#sk-container-id-9 label.sk-toggleable__label-arrow:hover:before {\n",
       "  color: var(--sklearn-color-text);\n",
       "}\n",
       "\n",
       "/* Toggleable content - dropdown */\n",
       "\n",
       "#sk-container-id-9 div.sk-toggleable__content {\n",
       "  max-height: 0;\n",
       "  max-width: 0;\n",
       "  overflow: hidden;\n",
       "  text-align: left;\n",
       "  /* unfitted */\n",
       "  background-color: var(--sklearn-color-unfitted-level-0);\n",
       "}\n",
       "\n",
       "#sk-container-id-9 div.sk-toggleable__content.fitted {\n",
       "  /* fitted */\n",
       "  background-color: var(--sklearn-color-fitted-level-0);\n",
       "}\n",
       "\n",
       "#sk-container-id-9 div.sk-toggleable__content pre {\n",
       "  margin: 0.2em;\n",
       "  border-radius: 0.25em;\n",
       "  color: var(--sklearn-color-text);\n",
       "  /* unfitted */\n",
       "  background-color: var(--sklearn-color-unfitted-level-0);\n",
       "}\n",
       "\n",
       "#sk-container-id-9 div.sk-toggleable__content.fitted pre {\n",
       "  /* unfitted */\n",
       "  background-color: var(--sklearn-color-fitted-level-0);\n",
       "}\n",
       "\n",
       "#sk-container-id-9 input.sk-toggleable__control:checked~div.sk-toggleable__content {\n",
       "  /* Expand drop-down */\n",
       "  max-height: 200px;\n",
       "  max-width: 100%;\n",
       "  overflow: auto;\n",
       "}\n",
       "\n",
       "#sk-container-id-9 input.sk-toggleable__control:checked~label.sk-toggleable__label-arrow:before {\n",
       "  content: \"▾\";\n",
       "}\n",
       "\n",
       "/* Pipeline/ColumnTransformer-specific style */\n",
       "\n",
       "#sk-container-id-9 div.sk-label input.sk-toggleable__control:checked~label.sk-toggleable__label {\n",
       "  color: var(--sklearn-color-text);\n",
       "  background-color: var(--sklearn-color-unfitted-level-2);\n",
       "}\n",
       "\n",
       "#sk-container-id-9 div.sk-label.fitted input.sk-toggleable__control:checked~label.sk-toggleable__label {\n",
       "  background-color: var(--sklearn-color-fitted-level-2);\n",
       "}\n",
       "\n",
       "/* Estimator-specific style */\n",
       "\n",
       "/* Colorize estimator box */\n",
       "#sk-container-id-9 div.sk-estimator input.sk-toggleable__control:checked~label.sk-toggleable__label {\n",
       "  /* unfitted */\n",
       "  background-color: var(--sklearn-color-unfitted-level-2);\n",
       "}\n",
       "\n",
       "#sk-container-id-9 div.sk-estimator.fitted input.sk-toggleable__control:checked~label.sk-toggleable__label {\n",
       "  /* fitted */\n",
       "  background-color: var(--sklearn-color-fitted-level-2);\n",
       "}\n",
       "\n",
       "#sk-container-id-9 div.sk-label label.sk-toggleable__label,\n",
       "#sk-container-id-9 div.sk-label label {\n",
       "  /* The background is the default theme color */\n",
       "  color: var(--sklearn-color-text-on-default-background);\n",
       "}\n",
       "\n",
       "/* On hover, darken the color of the background */\n",
       "#sk-container-id-9 div.sk-label:hover label.sk-toggleable__label {\n",
       "  color: var(--sklearn-color-text);\n",
       "  background-color: var(--sklearn-color-unfitted-level-2);\n",
       "}\n",
       "\n",
       "/* Label box, darken color on hover, fitted */\n",
       "#sk-container-id-9 div.sk-label.fitted:hover label.sk-toggleable__label.fitted {\n",
       "  color: var(--sklearn-color-text);\n",
       "  background-color: var(--sklearn-color-fitted-level-2);\n",
       "}\n",
       "\n",
       "/* Estimator label */\n",
       "\n",
       "#sk-container-id-9 div.sk-label label {\n",
       "  font-family: monospace;\n",
       "  font-weight: bold;\n",
       "  display: inline-block;\n",
       "  line-height: 1.2em;\n",
       "}\n",
       "\n",
       "#sk-container-id-9 div.sk-label-container {\n",
       "  text-align: center;\n",
       "}\n",
       "\n",
       "/* Estimator-specific */\n",
       "#sk-container-id-9 div.sk-estimator {\n",
       "  font-family: monospace;\n",
       "  border: 1px dotted var(--sklearn-color-border-box);\n",
       "  border-radius: 0.25em;\n",
       "  box-sizing: border-box;\n",
       "  margin-bottom: 0.5em;\n",
       "  /* unfitted */\n",
       "  background-color: var(--sklearn-color-unfitted-level-0);\n",
       "}\n",
       "\n",
       "#sk-container-id-9 div.sk-estimator.fitted {\n",
       "  /* fitted */\n",
       "  background-color: var(--sklearn-color-fitted-level-0);\n",
       "}\n",
       "\n",
       "/* on hover */\n",
       "#sk-container-id-9 div.sk-estimator:hover {\n",
       "  /* unfitted */\n",
       "  background-color: var(--sklearn-color-unfitted-level-2);\n",
       "}\n",
       "\n",
       "#sk-container-id-9 div.sk-estimator.fitted:hover {\n",
       "  /* fitted */\n",
       "  background-color: var(--sklearn-color-fitted-level-2);\n",
       "}\n",
       "\n",
       "/* Specification for estimator info (e.g. \"i\" and \"?\") */\n",
       "\n",
       "/* Common style for \"i\" and \"?\" */\n",
       "\n",
       ".sk-estimator-doc-link,\n",
       "a:link.sk-estimator-doc-link,\n",
       "a:visited.sk-estimator-doc-link {\n",
       "  float: right;\n",
       "  font-size: smaller;\n",
       "  line-height: 1em;\n",
       "  font-family: monospace;\n",
       "  background-color: var(--sklearn-color-background);\n",
       "  border-radius: 1em;\n",
       "  height: 1em;\n",
       "  width: 1em;\n",
       "  text-decoration: none !important;\n",
       "  margin-left: 1ex;\n",
       "  /* unfitted */\n",
       "  border: var(--sklearn-color-unfitted-level-1) 1pt solid;\n",
       "  color: var(--sklearn-color-unfitted-level-1);\n",
       "}\n",
       "\n",
       ".sk-estimator-doc-link.fitted,\n",
       "a:link.sk-estimator-doc-link.fitted,\n",
       "a:visited.sk-estimator-doc-link.fitted {\n",
       "  /* fitted */\n",
       "  border: var(--sklearn-color-fitted-level-1) 1pt solid;\n",
       "  color: var(--sklearn-color-fitted-level-1);\n",
       "}\n",
       "\n",
       "/* On hover */\n",
       "div.sk-estimator:hover .sk-estimator-doc-link:hover,\n",
       ".sk-estimator-doc-link:hover,\n",
       "div.sk-label-container:hover .sk-estimator-doc-link:hover,\n",
       ".sk-estimator-doc-link:hover {\n",
       "  /* unfitted */\n",
       "  background-color: var(--sklearn-color-unfitted-level-3);\n",
       "  color: var(--sklearn-color-background);\n",
       "  text-decoration: none;\n",
       "}\n",
       "\n",
       "div.sk-estimator.fitted:hover .sk-estimator-doc-link.fitted:hover,\n",
       ".sk-estimator-doc-link.fitted:hover,\n",
       "div.sk-label-container:hover .sk-estimator-doc-link.fitted:hover,\n",
       ".sk-estimator-doc-link.fitted:hover {\n",
       "  /* fitted */\n",
       "  background-color: var(--sklearn-color-fitted-level-3);\n",
       "  color: var(--sklearn-color-background);\n",
       "  text-decoration: none;\n",
       "}\n",
       "\n",
       "/* Span, style for the box shown on hovering the info icon */\n",
       ".sk-estimator-doc-link span {\n",
       "  display: none;\n",
       "  z-index: 9999;\n",
       "  position: relative;\n",
       "  font-weight: normal;\n",
       "  right: .2ex;\n",
       "  padding: .5ex;\n",
       "  margin: .5ex;\n",
       "  width: min-content;\n",
       "  min-width: 20ex;\n",
       "  max-width: 50ex;\n",
       "  color: var(--sklearn-color-text);\n",
       "  box-shadow: 2pt 2pt 4pt #999;\n",
       "  /* unfitted */\n",
       "  background: var(--sklearn-color-unfitted-level-0);\n",
       "  border: .5pt solid var(--sklearn-color-unfitted-level-3);\n",
       "}\n",
       "\n",
       ".sk-estimator-doc-link.fitted span {\n",
       "  /* fitted */\n",
       "  background: var(--sklearn-color-fitted-level-0);\n",
       "  border: var(--sklearn-color-fitted-level-3);\n",
       "}\n",
       "\n",
       ".sk-estimator-doc-link:hover span {\n",
       "  display: block;\n",
       "}\n",
       "\n",
       "/* \"?\"-specific style due to the `<a>` HTML tag */\n",
       "\n",
       "#sk-container-id-9 a.estimator_doc_link {\n",
       "  float: right;\n",
       "  font-size: 1rem;\n",
       "  line-height: 1em;\n",
       "  font-family: monospace;\n",
       "  background-color: var(--sklearn-color-background);\n",
       "  border-radius: 1rem;\n",
       "  height: 1rem;\n",
       "  width: 1rem;\n",
       "  text-decoration: none;\n",
       "  /* unfitted */\n",
       "  color: var(--sklearn-color-unfitted-level-1);\n",
       "  border: var(--sklearn-color-unfitted-level-1) 1pt solid;\n",
       "}\n",
       "\n",
       "#sk-container-id-9 a.estimator_doc_link.fitted {\n",
       "  /* fitted */\n",
       "  border: var(--sklearn-color-fitted-level-1) 1pt solid;\n",
       "  color: var(--sklearn-color-fitted-level-1);\n",
       "}\n",
       "\n",
       "/* On hover */\n",
       "#sk-container-id-9 a.estimator_doc_link:hover {\n",
       "  /* unfitted */\n",
       "  background-color: var(--sklearn-color-unfitted-level-3);\n",
       "  color: var(--sklearn-color-background);\n",
       "  text-decoration: none;\n",
       "}\n",
       "\n",
       "#sk-container-id-9 a.estimator_doc_link.fitted:hover {\n",
       "  /* fitted */\n",
       "  background-color: var(--sklearn-color-fitted-level-3);\n",
       "}\n",
       "</style><div id=\"sk-container-id-9\" class=\"sk-top-container\"><div class=\"sk-text-repr-fallback\"><pre>GridSearchCV(cv=5,\n",
       "             estimator=GradientBoostingClassifier(learning_rate=0.05,\n",
       "                                                  max_depth=5,\n",
       "                                                  max_features=&#x27;sqrt&#x27;,\n",
       "                                                  min_samples_leaf=10,\n",
       "                                                  min_samples_split=5,\n",
       "                                                  random_state=10,\n",
       "                                                  subsample=0.8),\n",
       "             n_jobs=2, param_grid={&#x27;n_estimators&#x27;: range(5, 100, 5)},\n",
       "             scoring=&#x27;recall&#x27;)</pre><b>In a Jupyter environment, please rerun this cell to show the HTML representation or trust the notebook. <br />On GitHub, the HTML representation is unable to render, please try loading this page with nbviewer.org.</b></div><div class=\"sk-container\" hidden><div class=\"sk-item sk-dashed-wrapped\"><div class=\"sk-label-container\"><div class=\"sk-label fitted sk-toggleable\"><input class=\"sk-toggleable__control sk-hidden--visually\" id=\"sk-estimator-id-23\" type=\"checkbox\" ><label for=\"sk-estimator-id-23\" class=\"sk-toggleable__label fitted sk-toggleable__label-arrow fitted\">&nbsp;&nbsp;GridSearchCV<a class=\"sk-estimator-doc-link fitted\" rel=\"noreferrer\" target=\"_blank\" href=\"https://scikit-learn.org/1.5/modules/generated/sklearn.model_selection.GridSearchCV.html\">?<span>Documentation for GridSearchCV</span></a><span class=\"sk-estimator-doc-link fitted\">i<span>Fitted</span></span></label><div class=\"sk-toggleable__content fitted\"><pre>GridSearchCV(cv=5,\n",
       "             estimator=GradientBoostingClassifier(learning_rate=0.05,\n",
       "                                                  max_depth=5,\n",
       "                                                  max_features=&#x27;sqrt&#x27;,\n",
       "                                                  min_samples_leaf=10,\n",
       "                                                  min_samples_split=5,\n",
       "                                                  random_state=10,\n",
       "                                                  subsample=0.8),\n",
       "             n_jobs=2, param_grid={&#x27;n_estimators&#x27;: range(5, 100, 5)},\n",
       "             scoring=&#x27;recall&#x27;)</pre></div> </div></div><div class=\"sk-parallel\"><div class=\"sk-parallel-item\"><div class=\"sk-item\"><div class=\"sk-label-container\"><div class=\"sk-label fitted sk-toggleable\"><input class=\"sk-toggleable__control sk-hidden--visually\" id=\"sk-estimator-id-24\" type=\"checkbox\" ><label for=\"sk-estimator-id-24\" class=\"sk-toggleable__label fitted sk-toggleable__label-arrow fitted\">best_estimator_: GradientBoostingClassifier</label><div class=\"sk-toggleable__content fitted\"><pre>GradientBoostingClassifier(learning_rate=0.05, max_depth=5, max_features=&#x27;sqrt&#x27;,\n",
       "                           min_samples_leaf=10, min_samples_split=5,\n",
       "                           n_estimators=75, random_state=10, subsample=0.8)</pre></div> </div></div><div class=\"sk-serial\"><div class=\"sk-item\"><div class=\"sk-estimator fitted sk-toggleable\"><input class=\"sk-toggleable__control sk-hidden--visually\" id=\"sk-estimator-id-25\" type=\"checkbox\" ><label for=\"sk-estimator-id-25\" class=\"sk-toggleable__label fitted sk-toggleable__label-arrow fitted\">&nbsp;GradientBoostingClassifier<a class=\"sk-estimator-doc-link fitted\" rel=\"noreferrer\" target=\"_blank\" href=\"https://scikit-learn.org/1.5/modules/generated/sklearn.ensemble.GradientBoostingClassifier.html\">?<span>Documentation for GradientBoostingClassifier</span></a></label><div class=\"sk-toggleable__content fitted\"><pre>GradientBoostingClassifier(learning_rate=0.05, max_depth=5, max_features=&#x27;sqrt&#x27;,\n",
       "                           min_samples_leaf=10, min_samples_split=5,\n",
       "                           n_estimators=75, random_state=10, subsample=0.8)</pre></div> </div></div></div></div></div></div></div></div></div>"
      ],
      "text/plain": [
       "GridSearchCV(cv=5,\n",
       "             estimator=GradientBoostingClassifier(learning_rate=0.05,\n",
       "                                                  max_depth=5,\n",
       "                                                  max_features='sqrt',\n",
       "                                                  min_samples_leaf=10,\n",
       "                                                  min_samples_split=5,\n",
       "                                                  random_state=10,\n",
       "                                                  subsample=0.8),\n",
       "             n_jobs=2, param_grid={'n_estimators': range(5, 100, 5)},\n",
       "             scoring='recall')"
      ]
     },
     "execution_count": 54,
     "metadata": {},
     "output_type": "execute_result"
    }
   ],
   "source": [
    "#Choose all predictors except target & IDcols\n",
    "param_test1 = {'n_estimators':range(5,100,5)}\n",
    "gsearch1 = GridSearchCV(estimator = GradientBoostingClassifier(learning_rate=0.05, min_samples_split=5,\n",
    "                                  min_samples_leaf=10,max_depth=5,max_features='sqrt', subsample=0.8,random_state=10), \n",
    "                       param_grid = param_test1, scoring='recall',n_jobs=2, cv=5)\n",
    "gsearch1.fit(X_train,y_train)"
   ]
  },
  {
   "cell_type": "code",
   "execution_count": 55,
   "id": "6414a66f-b20f-4338-bffb-a86ffef3f8ba",
   "metadata": {},
   "outputs": [
    {
     "data": {
      "text/plain": [
       "({'n_estimators': 75}, 0.8530977982590885)"
      ]
     },
     "execution_count": 55,
     "metadata": {},
     "output_type": "execute_result"
    }
   ],
   "source": [
    "gsearch1.best_params_, gsearch1.best_score_"
   ]
  },
  {
   "cell_type": "code",
   "execution_count": null,
   "id": "cf5d98bb",
   "metadata": {},
   "outputs": [],
   "source": []
  },
  {
   "cell_type": "code",
   "execution_count": 56,
   "id": "be1d9640-42dd-43a9-a914-89a65cd22de6",
   "metadata": {},
   "outputs": [
    {
     "data": {
      "text/html": [
       "<style>#sk-container-id-10 {\n",
       "  /* Definition of color scheme common for light and dark mode */\n",
       "  --sklearn-color-text: black;\n",
       "  --sklearn-color-line: gray;\n",
       "  /* Definition of color scheme for unfitted estimators */\n",
       "  --sklearn-color-unfitted-level-0: #fff5e6;\n",
       "  --sklearn-color-unfitted-level-1: #f6e4d2;\n",
       "  --sklearn-color-unfitted-level-2: #ffe0b3;\n",
       "  --sklearn-color-unfitted-level-3: chocolate;\n",
       "  /* Definition of color scheme for fitted estimators */\n",
       "  --sklearn-color-fitted-level-0: #f0f8ff;\n",
       "  --sklearn-color-fitted-level-1: #d4ebff;\n",
       "  --sklearn-color-fitted-level-2: #b3dbfd;\n",
       "  --sklearn-color-fitted-level-3: cornflowerblue;\n",
       "\n",
       "  /* Specific color for light theme */\n",
       "  --sklearn-color-text-on-default-background: var(--sg-text-color, var(--theme-code-foreground, var(--jp-content-font-color1, black)));\n",
       "  --sklearn-color-background: var(--sg-background-color, var(--theme-background, var(--jp-layout-color0, white)));\n",
       "  --sklearn-color-border-box: var(--sg-text-color, var(--theme-code-foreground, var(--jp-content-font-color1, black)));\n",
       "  --sklearn-color-icon: #696969;\n",
       "\n",
       "  @media (prefers-color-scheme: dark) {\n",
       "    /* Redefinition of color scheme for dark theme */\n",
       "    --sklearn-color-text-on-default-background: var(--sg-text-color, var(--theme-code-foreground, var(--jp-content-font-color1, white)));\n",
       "    --sklearn-color-background: var(--sg-background-color, var(--theme-background, var(--jp-layout-color0, #111)));\n",
       "    --sklearn-color-border-box: var(--sg-text-color, var(--theme-code-foreground, var(--jp-content-font-color1, white)));\n",
       "    --sklearn-color-icon: #878787;\n",
       "  }\n",
       "}\n",
       "\n",
       "#sk-container-id-10 {\n",
       "  color: var(--sklearn-color-text);\n",
       "}\n",
       "\n",
       "#sk-container-id-10 pre {\n",
       "  padding: 0;\n",
       "}\n",
       "\n",
       "#sk-container-id-10 input.sk-hidden--visually {\n",
       "  border: 0;\n",
       "  clip: rect(1px 1px 1px 1px);\n",
       "  clip: rect(1px, 1px, 1px, 1px);\n",
       "  height: 1px;\n",
       "  margin: -1px;\n",
       "  overflow: hidden;\n",
       "  padding: 0;\n",
       "  position: absolute;\n",
       "  width: 1px;\n",
       "}\n",
       "\n",
       "#sk-container-id-10 div.sk-dashed-wrapped {\n",
       "  border: 1px dashed var(--sklearn-color-line);\n",
       "  margin: 0 0.4em 0.5em 0.4em;\n",
       "  box-sizing: border-box;\n",
       "  padding-bottom: 0.4em;\n",
       "  background-color: var(--sklearn-color-background);\n",
       "}\n",
       "\n",
       "#sk-container-id-10 div.sk-container {\n",
       "  /* jupyter's `normalize.less` sets `[hidden] { display: none; }`\n",
       "     but bootstrap.min.css set `[hidden] { display: none !important; }`\n",
       "     so we also need the `!important` here to be able to override the\n",
       "     default hidden behavior on the sphinx rendered scikit-learn.org.\n",
       "     See: https://github.com/scikit-learn/scikit-learn/issues/21755 */\n",
       "  display: inline-block !important;\n",
       "  position: relative;\n",
       "}\n",
       "\n",
       "#sk-container-id-10 div.sk-text-repr-fallback {\n",
       "  display: none;\n",
       "}\n",
       "\n",
       "div.sk-parallel-item,\n",
       "div.sk-serial,\n",
       "div.sk-item {\n",
       "  /* draw centered vertical line to link estimators */\n",
       "  background-image: linear-gradient(var(--sklearn-color-text-on-default-background), var(--sklearn-color-text-on-default-background));\n",
       "  background-size: 2px 100%;\n",
       "  background-repeat: no-repeat;\n",
       "  background-position: center center;\n",
       "}\n",
       "\n",
       "/* Parallel-specific style estimator block */\n",
       "\n",
       "#sk-container-id-10 div.sk-parallel-item::after {\n",
       "  content: \"\";\n",
       "  width: 100%;\n",
       "  border-bottom: 2px solid var(--sklearn-color-text-on-default-background);\n",
       "  flex-grow: 1;\n",
       "}\n",
       "\n",
       "#sk-container-id-10 div.sk-parallel {\n",
       "  display: flex;\n",
       "  align-items: stretch;\n",
       "  justify-content: center;\n",
       "  background-color: var(--sklearn-color-background);\n",
       "  position: relative;\n",
       "}\n",
       "\n",
       "#sk-container-id-10 div.sk-parallel-item {\n",
       "  display: flex;\n",
       "  flex-direction: column;\n",
       "}\n",
       "\n",
       "#sk-container-id-10 div.sk-parallel-item:first-child::after {\n",
       "  align-self: flex-end;\n",
       "  width: 50%;\n",
       "}\n",
       "\n",
       "#sk-container-id-10 div.sk-parallel-item:last-child::after {\n",
       "  align-self: flex-start;\n",
       "  width: 50%;\n",
       "}\n",
       "\n",
       "#sk-container-id-10 div.sk-parallel-item:only-child::after {\n",
       "  width: 0;\n",
       "}\n",
       "\n",
       "/* Serial-specific style estimator block */\n",
       "\n",
       "#sk-container-id-10 div.sk-serial {\n",
       "  display: flex;\n",
       "  flex-direction: column;\n",
       "  align-items: center;\n",
       "  background-color: var(--sklearn-color-background);\n",
       "  padding-right: 1em;\n",
       "  padding-left: 1em;\n",
       "}\n",
       "\n",
       "\n",
       "/* Toggleable style: style used for estimator/Pipeline/ColumnTransformer box that is\n",
       "clickable and can be expanded/collapsed.\n",
       "- Pipeline and ColumnTransformer use this feature and define the default style\n",
       "- Estimators will overwrite some part of the style using the `sk-estimator` class\n",
       "*/\n",
       "\n",
       "/* Pipeline and ColumnTransformer style (default) */\n",
       "\n",
       "#sk-container-id-10 div.sk-toggleable {\n",
       "  /* Default theme specific background. It is overwritten whether we have a\n",
       "  specific estimator or a Pipeline/ColumnTransformer */\n",
       "  background-color: var(--sklearn-color-background);\n",
       "}\n",
       "\n",
       "/* Toggleable label */\n",
       "#sk-container-id-10 label.sk-toggleable__label {\n",
       "  cursor: pointer;\n",
       "  display: block;\n",
       "  width: 100%;\n",
       "  margin-bottom: 0;\n",
       "  padding: 0.5em;\n",
       "  box-sizing: border-box;\n",
       "  text-align: center;\n",
       "}\n",
       "\n",
       "#sk-container-id-10 label.sk-toggleable__label-arrow:before {\n",
       "  /* Arrow on the left of the label */\n",
       "  content: \"▸\";\n",
       "  float: left;\n",
       "  margin-right: 0.25em;\n",
       "  color: var(--sklearn-color-icon);\n",
       "}\n",
       "\n",
       "#sk-container-id-10 label.sk-toggleable__label-arrow:hover:before {\n",
       "  color: var(--sklearn-color-text);\n",
       "}\n",
       "\n",
       "/* Toggleable content - dropdown */\n",
       "\n",
       "#sk-container-id-10 div.sk-toggleable__content {\n",
       "  max-height: 0;\n",
       "  max-width: 0;\n",
       "  overflow: hidden;\n",
       "  text-align: left;\n",
       "  /* unfitted */\n",
       "  background-color: var(--sklearn-color-unfitted-level-0);\n",
       "}\n",
       "\n",
       "#sk-container-id-10 div.sk-toggleable__content.fitted {\n",
       "  /* fitted */\n",
       "  background-color: var(--sklearn-color-fitted-level-0);\n",
       "}\n",
       "\n",
       "#sk-container-id-10 div.sk-toggleable__content pre {\n",
       "  margin: 0.2em;\n",
       "  border-radius: 0.25em;\n",
       "  color: var(--sklearn-color-text);\n",
       "  /* unfitted */\n",
       "  background-color: var(--sklearn-color-unfitted-level-0);\n",
       "}\n",
       "\n",
       "#sk-container-id-10 div.sk-toggleable__content.fitted pre {\n",
       "  /* unfitted */\n",
       "  background-color: var(--sklearn-color-fitted-level-0);\n",
       "}\n",
       "\n",
       "#sk-container-id-10 input.sk-toggleable__control:checked~div.sk-toggleable__content {\n",
       "  /* Expand drop-down */\n",
       "  max-height: 200px;\n",
       "  max-width: 100%;\n",
       "  overflow: auto;\n",
       "}\n",
       "\n",
       "#sk-container-id-10 input.sk-toggleable__control:checked~label.sk-toggleable__label-arrow:before {\n",
       "  content: \"▾\";\n",
       "}\n",
       "\n",
       "/* Pipeline/ColumnTransformer-specific style */\n",
       "\n",
       "#sk-container-id-10 div.sk-label input.sk-toggleable__control:checked~label.sk-toggleable__label {\n",
       "  color: var(--sklearn-color-text);\n",
       "  background-color: var(--sklearn-color-unfitted-level-2);\n",
       "}\n",
       "\n",
       "#sk-container-id-10 div.sk-label.fitted input.sk-toggleable__control:checked~label.sk-toggleable__label {\n",
       "  background-color: var(--sklearn-color-fitted-level-2);\n",
       "}\n",
       "\n",
       "/* Estimator-specific style */\n",
       "\n",
       "/* Colorize estimator box */\n",
       "#sk-container-id-10 div.sk-estimator input.sk-toggleable__control:checked~label.sk-toggleable__label {\n",
       "  /* unfitted */\n",
       "  background-color: var(--sklearn-color-unfitted-level-2);\n",
       "}\n",
       "\n",
       "#sk-container-id-10 div.sk-estimator.fitted input.sk-toggleable__control:checked~label.sk-toggleable__label {\n",
       "  /* fitted */\n",
       "  background-color: var(--sklearn-color-fitted-level-2);\n",
       "}\n",
       "\n",
       "#sk-container-id-10 div.sk-label label.sk-toggleable__label,\n",
       "#sk-container-id-10 div.sk-label label {\n",
       "  /* The background is the default theme color */\n",
       "  color: var(--sklearn-color-text-on-default-background);\n",
       "}\n",
       "\n",
       "/* On hover, darken the color of the background */\n",
       "#sk-container-id-10 div.sk-label:hover label.sk-toggleable__label {\n",
       "  color: var(--sklearn-color-text);\n",
       "  background-color: var(--sklearn-color-unfitted-level-2);\n",
       "}\n",
       "\n",
       "/* Label box, darken color on hover, fitted */\n",
       "#sk-container-id-10 div.sk-label.fitted:hover label.sk-toggleable__label.fitted {\n",
       "  color: var(--sklearn-color-text);\n",
       "  background-color: var(--sklearn-color-fitted-level-2);\n",
       "}\n",
       "\n",
       "/* Estimator label */\n",
       "\n",
       "#sk-container-id-10 div.sk-label label {\n",
       "  font-family: monospace;\n",
       "  font-weight: bold;\n",
       "  display: inline-block;\n",
       "  line-height: 1.2em;\n",
       "}\n",
       "\n",
       "#sk-container-id-10 div.sk-label-container {\n",
       "  text-align: center;\n",
       "}\n",
       "\n",
       "/* Estimator-specific */\n",
       "#sk-container-id-10 div.sk-estimator {\n",
       "  font-family: monospace;\n",
       "  border: 1px dotted var(--sklearn-color-border-box);\n",
       "  border-radius: 0.25em;\n",
       "  box-sizing: border-box;\n",
       "  margin-bottom: 0.5em;\n",
       "  /* unfitted */\n",
       "  background-color: var(--sklearn-color-unfitted-level-0);\n",
       "}\n",
       "\n",
       "#sk-container-id-10 div.sk-estimator.fitted {\n",
       "  /* fitted */\n",
       "  background-color: var(--sklearn-color-fitted-level-0);\n",
       "}\n",
       "\n",
       "/* on hover */\n",
       "#sk-container-id-10 div.sk-estimator:hover {\n",
       "  /* unfitted */\n",
       "  background-color: var(--sklearn-color-unfitted-level-2);\n",
       "}\n",
       "\n",
       "#sk-container-id-10 div.sk-estimator.fitted:hover {\n",
       "  /* fitted */\n",
       "  background-color: var(--sklearn-color-fitted-level-2);\n",
       "}\n",
       "\n",
       "/* Specification for estimator info (e.g. \"i\" and \"?\") */\n",
       "\n",
       "/* Common style for \"i\" and \"?\" */\n",
       "\n",
       ".sk-estimator-doc-link,\n",
       "a:link.sk-estimator-doc-link,\n",
       "a:visited.sk-estimator-doc-link {\n",
       "  float: right;\n",
       "  font-size: smaller;\n",
       "  line-height: 1em;\n",
       "  font-family: monospace;\n",
       "  background-color: var(--sklearn-color-background);\n",
       "  border-radius: 1em;\n",
       "  height: 1em;\n",
       "  width: 1em;\n",
       "  text-decoration: none !important;\n",
       "  margin-left: 1ex;\n",
       "  /* unfitted */\n",
       "  border: var(--sklearn-color-unfitted-level-1) 1pt solid;\n",
       "  color: var(--sklearn-color-unfitted-level-1);\n",
       "}\n",
       "\n",
       ".sk-estimator-doc-link.fitted,\n",
       "a:link.sk-estimator-doc-link.fitted,\n",
       "a:visited.sk-estimator-doc-link.fitted {\n",
       "  /* fitted */\n",
       "  border: var(--sklearn-color-fitted-level-1) 1pt solid;\n",
       "  color: var(--sklearn-color-fitted-level-1);\n",
       "}\n",
       "\n",
       "/* On hover */\n",
       "div.sk-estimator:hover .sk-estimator-doc-link:hover,\n",
       ".sk-estimator-doc-link:hover,\n",
       "div.sk-label-container:hover .sk-estimator-doc-link:hover,\n",
       ".sk-estimator-doc-link:hover {\n",
       "  /* unfitted */\n",
       "  background-color: var(--sklearn-color-unfitted-level-3);\n",
       "  color: var(--sklearn-color-background);\n",
       "  text-decoration: none;\n",
       "}\n",
       "\n",
       "div.sk-estimator.fitted:hover .sk-estimator-doc-link.fitted:hover,\n",
       ".sk-estimator-doc-link.fitted:hover,\n",
       "div.sk-label-container:hover .sk-estimator-doc-link.fitted:hover,\n",
       ".sk-estimator-doc-link.fitted:hover {\n",
       "  /* fitted */\n",
       "  background-color: var(--sklearn-color-fitted-level-3);\n",
       "  color: var(--sklearn-color-background);\n",
       "  text-decoration: none;\n",
       "}\n",
       "\n",
       "/* Span, style for the box shown on hovering the info icon */\n",
       ".sk-estimator-doc-link span {\n",
       "  display: none;\n",
       "  z-index: 9999;\n",
       "  position: relative;\n",
       "  font-weight: normal;\n",
       "  right: .2ex;\n",
       "  padding: .5ex;\n",
       "  margin: .5ex;\n",
       "  width: min-content;\n",
       "  min-width: 20ex;\n",
       "  max-width: 50ex;\n",
       "  color: var(--sklearn-color-text);\n",
       "  box-shadow: 2pt 2pt 4pt #999;\n",
       "  /* unfitted */\n",
       "  background: var(--sklearn-color-unfitted-level-0);\n",
       "  border: .5pt solid var(--sklearn-color-unfitted-level-3);\n",
       "}\n",
       "\n",
       ".sk-estimator-doc-link.fitted span {\n",
       "  /* fitted */\n",
       "  background: var(--sklearn-color-fitted-level-0);\n",
       "  border: var(--sklearn-color-fitted-level-3);\n",
       "}\n",
       "\n",
       ".sk-estimator-doc-link:hover span {\n",
       "  display: block;\n",
       "}\n",
       "\n",
       "/* \"?\"-specific style due to the `<a>` HTML tag */\n",
       "\n",
       "#sk-container-id-10 a.estimator_doc_link {\n",
       "  float: right;\n",
       "  font-size: 1rem;\n",
       "  line-height: 1em;\n",
       "  font-family: monospace;\n",
       "  background-color: var(--sklearn-color-background);\n",
       "  border-radius: 1rem;\n",
       "  height: 1rem;\n",
       "  width: 1rem;\n",
       "  text-decoration: none;\n",
       "  /* unfitted */\n",
       "  color: var(--sklearn-color-unfitted-level-1);\n",
       "  border: var(--sklearn-color-unfitted-level-1) 1pt solid;\n",
       "}\n",
       "\n",
       "#sk-container-id-10 a.estimator_doc_link.fitted {\n",
       "  /* fitted */\n",
       "  border: var(--sklearn-color-fitted-level-1) 1pt solid;\n",
       "  color: var(--sklearn-color-fitted-level-1);\n",
       "}\n",
       "\n",
       "/* On hover */\n",
       "#sk-container-id-10 a.estimator_doc_link:hover {\n",
       "  /* unfitted */\n",
       "  background-color: var(--sklearn-color-unfitted-level-3);\n",
       "  color: var(--sklearn-color-background);\n",
       "  text-decoration: none;\n",
       "}\n",
       "\n",
       "#sk-container-id-10 a.estimator_doc_link.fitted:hover {\n",
       "  /* fitted */\n",
       "  background-color: var(--sklearn-color-fitted-level-3);\n",
       "}\n",
       "</style><div id=\"sk-container-id-10\" class=\"sk-top-container\"><div class=\"sk-text-repr-fallback\"><pre>GridSearchCV(cv=5,\n",
       "             estimator=GradientBoostingClassifier(learning_rate=0.05,\n",
       "                                                  max_features=&#x27;sqrt&#x27;,\n",
       "                                                  n_estimators=75,\n",
       "                                                  random_state=10,\n",
       "                                                  subsample=0.8),\n",
       "             n_jobs=2,\n",
       "             param_grid={&#x27;max_depth&#x27;: range(3, 15, 3),\n",
       "                         &#x27;min_samples_split&#x27;: range(2, 20, 5)},\n",
       "             scoring=&#x27;recall&#x27;)</pre><b>In a Jupyter environment, please rerun this cell to show the HTML representation or trust the notebook. <br />On GitHub, the HTML representation is unable to render, please try loading this page with nbviewer.org.</b></div><div class=\"sk-container\" hidden><div class=\"sk-item sk-dashed-wrapped\"><div class=\"sk-label-container\"><div class=\"sk-label fitted sk-toggleable\"><input class=\"sk-toggleable__control sk-hidden--visually\" id=\"sk-estimator-id-26\" type=\"checkbox\" ><label for=\"sk-estimator-id-26\" class=\"sk-toggleable__label fitted sk-toggleable__label-arrow fitted\">&nbsp;&nbsp;GridSearchCV<a class=\"sk-estimator-doc-link fitted\" rel=\"noreferrer\" target=\"_blank\" href=\"https://scikit-learn.org/1.5/modules/generated/sklearn.model_selection.GridSearchCV.html\">?<span>Documentation for GridSearchCV</span></a><span class=\"sk-estimator-doc-link fitted\">i<span>Fitted</span></span></label><div class=\"sk-toggleable__content fitted\"><pre>GridSearchCV(cv=5,\n",
       "             estimator=GradientBoostingClassifier(learning_rate=0.05,\n",
       "                                                  max_features=&#x27;sqrt&#x27;,\n",
       "                                                  n_estimators=75,\n",
       "                                                  random_state=10,\n",
       "                                                  subsample=0.8),\n",
       "             n_jobs=2,\n",
       "             param_grid={&#x27;max_depth&#x27;: range(3, 15, 3),\n",
       "                         &#x27;min_samples_split&#x27;: range(2, 20, 5)},\n",
       "             scoring=&#x27;recall&#x27;)</pre></div> </div></div><div class=\"sk-parallel\"><div class=\"sk-parallel-item\"><div class=\"sk-item\"><div class=\"sk-label-container\"><div class=\"sk-label fitted sk-toggleable\"><input class=\"sk-toggleable__control sk-hidden--visually\" id=\"sk-estimator-id-27\" type=\"checkbox\" ><label for=\"sk-estimator-id-27\" class=\"sk-toggleable__label fitted sk-toggleable__label-arrow fitted\">best_estimator_: GradientBoostingClassifier</label><div class=\"sk-toggleable__content fitted\"><pre>GradientBoostingClassifier(learning_rate=0.05, max_depth=9, max_features=&#x27;sqrt&#x27;,\n",
       "                           min_samples_split=12, n_estimators=75,\n",
       "                           random_state=10, subsample=0.8)</pre></div> </div></div><div class=\"sk-serial\"><div class=\"sk-item\"><div class=\"sk-estimator fitted sk-toggleable\"><input class=\"sk-toggleable__control sk-hidden--visually\" id=\"sk-estimator-id-28\" type=\"checkbox\" ><label for=\"sk-estimator-id-28\" class=\"sk-toggleable__label fitted sk-toggleable__label-arrow fitted\">&nbsp;GradientBoostingClassifier<a class=\"sk-estimator-doc-link fitted\" rel=\"noreferrer\" target=\"_blank\" href=\"https://scikit-learn.org/1.5/modules/generated/sklearn.ensemble.GradientBoostingClassifier.html\">?<span>Documentation for GradientBoostingClassifier</span></a></label><div class=\"sk-toggleable__content fitted\"><pre>GradientBoostingClassifier(learning_rate=0.05, max_depth=9, max_features=&#x27;sqrt&#x27;,\n",
       "                           min_samples_split=12, n_estimators=75,\n",
       "                           random_state=10, subsample=0.8)</pre></div> </div></div></div></div></div></div></div></div></div>"
      ],
      "text/plain": [
       "GridSearchCV(cv=5,\n",
       "             estimator=GradientBoostingClassifier(learning_rate=0.05,\n",
       "                                                  max_features='sqrt',\n",
       "                                                  n_estimators=75,\n",
       "                                                  random_state=10,\n",
       "                                                  subsample=0.8),\n",
       "             n_jobs=2,\n",
       "             param_grid={'max_depth': range(3, 15, 3),\n",
       "                         'min_samples_split': range(2, 20, 5)},\n",
       "             scoring='recall')"
      ]
     },
     "execution_count": 56,
     "metadata": {},
     "output_type": "execute_result"
    }
   ],
   "source": [
    "\n",
    "#Grid seach on subsample and max_features\n",
    "param_test2 = {'max_depth':range(3,15,3), 'min_samples_split':range(2,20,5)}\n",
    "gsearch2 = GridSearchCV(estimator = GradientBoostingClassifier(learning_rate=0.05, n_estimators=75,\n",
    "                                                max_features='sqrt', subsample=0.8, random_state=10), \n",
    "                       param_grid = param_test2, scoring='recall',n_jobs=2, cv=5)\n",
    "gsearch2.fit(X_train,y_train)"
   ]
  },
  {
   "cell_type": "code",
   "execution_count": 57,
   "id": "39351c0d-d483-4947-a48d-529ceda2afc8",
   "metadata": {},
   "outputs": [
    {
     "data": {
      "text/plain": [
       "({'max_depth': 9, 'min_samples_split': 12}, 0.8625704045058884)"
      ]
     },
     "execution_count": 57,
     "metadata": {},
     "output_type": "execute_result"
    }
   ],
   "source": [
    "gsearch2.best_params_, gsearch2.best_score_"
   ]
  },
  {
   "cell_type": "code",
   "execution_count": null,
   "id": "ca76b38a-cf7f-4701-ab15-01b9f5b68385",
   "metadata": {},
   "outputs": [],
   "source": []
  },
  {
   "cell_type": "code",
   "execution_count": 58,
   "id": "331d8f26-d4b7-4bb9-b165-261072c52832",
   "metadata": {},
   "outputs": [
    {
     "data": {
      "text/html": [
       "<style>#sk-container-id-11 {\n",
       "  /* Definition of color scheme common for light and dark mode */\n",
       "  --sklearn-color-text: black;\n",
       "  --sklearn-color-line: gray;\n",
       "  /* Definition of color scheme for unfitted estimators */\n",
       "  --sklearn-color-unfitted-level-0: #fff5e6;\n",
       "  --sklearn-color-unfitted-level-1: #f6e4d2;\n",
       "  --sklearn-color-unfitted-level-2: #ffe0b3;\n",
       "  --sklearn-color-unfitted-level-3: chocolate;\n",
       "  /* Definition of color scheme for fitted estimators */\n",
       "  --sklearn-color-fitted-level-0: #f0f8ff;\n",
       "  --sklearn-color-fitted-level-1: #d4ebff;\n",
       "  --sklearn-color-fitted-level-2: #b3dbfd;\n",
       "  --sklearn-color-fitted-level-3: cornflowerblue;\n",
       "\n",
       "  /* Specific color for light theme */\n",
       "  --sklearn-color-text-on-default-background: var(--sg-text-color, var(--theme-code-foreground, var(--jp-content-font-color1, black)));\n",
       "  --sklearn-color-background: var(--sg-background-color, var(--theme-background, var(--jp-layout-color0, white)));\n",
       "  --sklearn-color-border-box: var(--sg-text-color, var(--theme-code-foreground, var(--jp-content-font-color1, black)));\n",
       "  --sklearn-color-icon: #696969;\n",
       "\n",
       "  @media (prefers-color-scheme: dark) {\n",
       "    /* Redefinition of color scheme for dark theme */\n",
       "    --sklearn-color-text-on-default-background: var(--sg-text-color, var(--theme-code-foreground, var(--jp-content-font-color1, white)));\n",
       "    --sklearn-color-background: var(--sg-background-color, var(--theme-background, var(--jp-layout-color0, #111)));\n",
       "    --sklearn-color-border-box: var(--sg-text-color, var(--theme-code-foreground, var(--jp-content-font-color1, white)));\n",
       "    --sklearn-color-icon: #878787;\n",
       "  }\n",
       "}\n",
       "\n",
       "#sk-container-id-11 {\n",
       "  color: var(--sklearn-color-text);\n",
       "}\n",
       "\n",
       "#sk-container-id-11 pre {\n",
       "  padding: 0;\n",
       "}\n",
       "\n",
       "#sk-container-id-11 input.sk-hidden--visually {\n",
       "  border: 0;\n",
       "  clip: rect(1px 1px 1px 1px);\n",
       "  clip: rect(1px, 1px, 1px, 1px);\n",
       "  height: 1px;\n",
       "  margin: -1px;\n",
       "  overflow: hidden;\n",
       "  padding: 0;\n",
       "  position: absolute;\n",
       "  width: 1px;\n",
       "}\n",
       "\n",
       "#sk-container-id-11 div.sk-dashed-wrapped {\n",
       "  border: 1px dashed var(--sklearn-color-line);\n",
       "  margin: 0 0.4em 0.5em 0.4em;\n",
       "  box-sizing: border-box;\n",
       "  padding-bottom: 0.4em;\n",
       "  background-color: var(--sklearn-color-background);\n",
       "}\n",
       "\n",
       "#sk-container-id-11 div.sk-container {\n",
       "  /* jupyter's `normalize.less` sets `[hidden] { display: none; }`\n",
       "     but bootstrap.min.css set `[hidden] { display: none !important; }`\n",
       "     so we also need the `!important` here to be able to override the\n",
       "     default hidden behavior on the sphinx rendered scikit-learn.org.\n",
       "     See: https://github.com/scikit-learn/scikit-learn/issues/21755 */\n",
       "  display: inline-block !important;\n",
       "  position: relative;\n",
       "}\n",
       "\n",
       "#sk-container-id-11 div.sk-text-repr-fallback {\n",
       "  display: none;\n",
       "}\n",
       "\n",
       "div.sk-parallel-item,\n",
       "div.sk-serial,\n",
       "div.sk-item {\n",
       "  /* draw centered vertical line to link estimators */\n",
       "  background-image: linear-gradient(var(--sklearn-color-text-on-default-background), var(--sklearn-color-text-on-default-background));\n",
       "  background-size: 2px 100%;\n",
       "  background-repeat: no-repeat;\n",
       "  background-position: center center;\n",
       "}\n",
       "\n",
       "/* Parallel-specific style estimator block */\n",
       "\n",
       "#sk-container-id-11 div.sk-parallel-item::after {\n",
       "  content: \"\";\n",
       "  width: 100%;\n",
       "  border-bottom: 2px solid var(--sklearn-color-text-on-default-background);\n",
       "  flex-grow: 1;\n",
       "}\n",
       "\n",
       "#sk-container-id-11 div.sk-parallel {\n",
       "  display: flex;\n",
       "  align-items: stretch;\n",
       "  justify-content: center;\n",
       "  background-color: var(--sklearn-color-background);\n",
       "  position: relative;\n",
       "}\n",
       "\n",
       "#sk-container-id-11 div.sk-parallel-item {\n",
       "  display: flex;\n",
       "  flex-direction: column;\n",
       "}\n",
       "\n",
       "#sk-container-id-11 div.sk-parallel-item:first-child::after {\n",
       "  align-self: flex-end;\n",
       "  width: 50%;\n",
       "}\n",
       "\n",
       "#sk-container-id-11 div.sk-parallel-item:last-child::after {\n",
       "  align-self: flex-start;\n",
       "  width: 50%;\n",
       "}\n",
       "\n",
       "#sk-container-id-11 div.sk-parallel-item:only-child::after {\n",
       "  width: 0;\n",
       "}\n",
       "\n",
       "/* Serial-specific style estimator block */\n",
       "\n",
       "#sk-container-id-11 div.sk-serial {\n",
       "  display: flex;\n",
       "  flex-direction: column;\n",
       "  align-items: center;\n",
       "  background-color: var(--sklearn-color-background);\n",
       "  padding-right: 1em;\n",
       "  padding-left: 1em;\n",
       "}\n",
       "\n",
       "\n",
       "/* Toggleable style: style used for estimator/Pipeline/ColumnTransformer box that is\n",
       "clickable and can be expanded/collapsed.\n",
       "- Pipeline and ColumnTransformer use this feature and define the default style\n",
       "- Estimators will overwrite some part of the style using the `sk-estimator` class\n",
       "*/\n",
       "\n",
       "/* Pipeline and ColumnTransformer style (default) */\n",
       "\n",
       "#sk-container-id-11 div.sk-toggleable {\n",
       "  /* Default theme specific background. It is overwritten whether we have a\n",
       "  specific estimator or a Pipeline/ColumnTransformer */\n",
       "  background-color: var(--sklearn-color-background);\n",
       "}\n",
       "\n",
       "/* Toggleable label */\n",
       "#sk-container-id-11 label.sk-toggleable__label {\n",
       "  cursor: pointer;\n",
       "  display: block;\n",
       "  width: 100%;\n",
       "  margin-bottom: 0;\n",
       "  padding: 0.5em;\n",
       "  box-sizing: border-box;\n",
       "  text-align: center;\n",
       "}\n",
       "\n",
       "#sk-container-id-11 label.sk-toggleable__label-arrow:before {\n",
       "  /* Arrow on the left of the label */\n",
       "  content: \"▸\";\n",
       "  float: left;\n",
       "  margin-right: 0.25em;\n",
       "  color: var(--sklearn-color-icon);\n",
       "}\n",
       "\n",
       "#sk-container-id-11 label.sk-toggleable__label-arrow:hover:before {\n",
       "  color: var(--sklearn-color-text);\n",
       "}\n",
       "\n",
       "/* Toggleable content - dropdown */\n",
       "\n",
       "#sk-container-id-11 div.sk-toggleable__content {\n",
       "  max-height: 0;\n",
       "  max-width: 0;\n",
       "  overflow: hidden;\n",
       "  text-align: left;\n",
       "  /* unfitted */\n",
       "  background-color: var(--sklearn-color-unfitted-level-0);\n",
       "}\n",
       "\n",
       "#sk-container-id-11 div.sk-toggleable__content.fitted {\n",
       "  /* fitted */\n",
       "  background-color: var(--sklearn-color-fitted-level-0);\n",
       "}\n",
       "\n",
       "#sk-container-id-11 div.sk-toggleable__content pre {\n",
       "  margin: 0.2em;\n",
       "  border-radius: 0.25em;\n",
       "  color: var(--sklearn-color-text);\n",
       "  /* unfitted */\n",
       "  background-color: var(--sklearn-color-unfitted-level-0);\n",
       "}\n",
       "\n",
       "#sk-container-id-11 div.sk-toggleable__content.fitted pre {\n",
       "  /* unfitted */\n",
       "  background-color: var(--sklearn-color-fitted-level-0);\n",
       "}\n",
       "\n",
       "#sk-container-id-11 input.sk-toggleable__control:checked~div.sk-toggleable__content {\n",
       "  /* Expand drop-down */\n",
       "  max-height: 200px;\n",
       "  max-width: 100%;\n",
       "  overflow: auto;\n",
       "}\n",
       "\n",
       "#sk-container-id-11 input.sk-toggleable__control:checked~label.sk-toggleable__label-arrow:before {\n",
       "  content: \"▾\";\n",
       "}\n",
       "\n",
       "/* Pipeline/ColumnTransformer-specific style */\n",
       "\n",
       "#sk-container-id-11 div.sk-label input.sk-toggleable__control:checked~label.sk-toggleable__label {\n",
       "  color: var(--sklearn-color-text);\n",
       "  background-color: var(--sklearn-color-unfitted-level-2);\n",
       "}\n",
       "\n",
       "#sk-container-id-11 div.sk-label.fitted input.sk-toggleable__control:checked~label.sk-toggleable__label {\n",
       "  background-color: var(--sklearn-color-fitted-level-2);\n",
       "}\n",
       "\n",
       "/* Estimator-specific style */\n",
       "\n",
       "/* Colorize estimator box */\n",
       "#sk-container-id-11 div.sk-estimator input.sk-toggleable__control:checked~label.sk-toggleable__label {\n",
       "  /* unfitted */\n",
       "  background-color: var(--sklearn-color-unfitted-level-2);\n",
       "}\n",
       "\n",
       "#sk-container-id-11 div.sk-estimator.fitted input.sk-toggleable__control:checked~label.sk-toggleable__label {\n",
       "  /* fitted */\n",
       "  background-color: var(--sklearn-color-fitted-level-2);\n",
       "}\n",
       "\n",
       "#sk-container-id-11 div.sk-label label.sk-toggleable__label,\n",
       "#sk-container-id-11 div.sk-label label {\n",
       "  /* The background is the default theme color */\n",
       "  color: var(--sklearn-color-text-on-default-background);\n",
       "}\n",
       "\n",
       "/* On hover, darken the color of the background */\n",
       "#sk-container-id-11 div.sk-label:hover label.sk-toggleable__label {\n",
       "  color: var(--sklearn-color-text);\n",
       "  background-color: var(--sklearn-color-unfitted-level-2);\n",
       "}\n",
       "\n",
       "/* Label box, darken color on hover, fitted */\n",
       "#sk-container-id-11 div.sk-label.fitted:hover label.sk-toggleable__label.fitted {\n",
       "  color: var(--sklearn-color-text);\n",
       "  background-color: var(--sklearn-color-fitted-level-2);\n",
       "}\n",
       "\n",
       "/* Estimator label */\n",
       "\n",
       "#sk-container-id-11 div.sk-label label {\n",
       "  font-family: monospace;\n",
       "  font-weight: bold;\n",
       "  display: inline-block;\n",
       "  line-height: 1.2em;\n",
       "}\n",
       "\n",
       "#sk-container-id-11 div.sk-label-container {\n",
       "  text-align: center;\n",
       "}\n",
       "\n",
       "/* Estimator-specific */\n",
       "#sk-container-id-11 div.sk-estimator {\n",
       "  font-family: monospace;\n",
       "  border: 1px dotted var(--sklearn-color-border-box);\n",
       "  border-radius: 0.25em;\n",
       "  box-sizing: border-box;\n",
       "  margin-bottom: 0.5em;\n",
       "  /* unfitted */\n",
       "  background-color: var(--sklearn-color-unfitted-level-0);\n",
       "}\n",
       "\n",
       "#sk-container-id-11 div.sk-estimator.fitted {\n",
       "  /* fitted */\n",
       "  background-color: var(--sklearn-color-fitted-level-0);\n",
       "}\n",
       "\n",
       "/* on hover */\n",
       "#sk-container-id-11 div.sk-estimator:hover {\n",
       "  /* unfitted */\n",
       "  background-color: var(--sklearn-color-unfitted-level-2);\n",
       "}\n",
       "\n",
       "#sk-container-id-11 div.sk-estimator.fitted:hover {\n",
       "  /* fitted */\n",
       "  background-color: var(--sklearn-color-fitted-level-2);\n",
       "}\n",
       "\n",
       "/* Specification for estimator info (e.g. \"i\" and \"?\") */\n",
       "\n",
       "/* Common style for \"i\" and \"?\" */\n",
       "\n",
       ".sk-estimator-doc-link,\n",
       "a:link.sk-estimator-doc-link,\n",
       "a:visited.sk-estimator-doc-link {\n",
       "  float: right;\n",
       "  font-size: smaller;\n",
       "  line-height: 1em;\n",
       "  font-family: monospace;\n",
       "  background-color: var(--sklearn-color-background);\n",
       "  border-radius: 1em;\n",
       "  height: 1em;\n",
       "  width: 1em;\n",
       "  text-decoration: none !important;\n",
       "  margin-left: 1ex;\n",
       "  /* unfitted */\n",
       "  border: var(--sklearn-color-unfitted-level-1) 1pt solid;\n",
       "  color: var(--sklearn-color-unfitted-level-1);\n",
       "}\n",
       "\n",
       ".sk-estimator-doc-link.fitted,\n",
       "a:link.sk-estimator-doc-link.fitted,\n",
       "a:visited.sk-estimator-doc-link.fitted {\n",
       "  /* fitted */\n",
       "  border: var(--sklearn-color-fitted-level-1) 1pt solid;\n",
       "  color: var(--sklearn-color-fitted-level-1);\n",
       "}\n",
       "\n",
       "/* On hover */\n",
       "div.sk-estimator:hover .sk-estimator-doc-link:hover,\n",
       ".sk-estimator-doc-link:hover,\n",
       "div.sk-label-container:hover .sk-estimator-doc-link:hover,\n",
       ".sk-estimator-doc-link:hover {\n",
       "  /* unfitted */\n",
       "  background-color: var(--sklearn-color-unfitted-level-3);\n",
       "  color: var(--sklearn-color-background);\n",
       "  text-decoration: none;\n",
       "}\n",
       "\n",
       "div.sk-estimator.fitted:hover .sk-estimator-doc-link.fitted:hover,\n",
       ".sk-estimator-doc-link.fitted:hover,\n",
       "div.sk-label-container:hover .sk-estimator-doc-link.fitted:hover,\n",
       ".sk-estimator-doc-link.fitted:hover {\n",
       "  /* fitted */\n",
       "  background-color: var(--sklearn-color-fitted-level-3);\n",
       "  color: var(--sklearn-color-background);\n",
       "  text-decoration: none;\n",
       "}\n",
       "\n",
       "/* Span, style for the box shown on hovering the info icon */\n",
       ".sk-estimator-doc-link span {\n",
       "  display: none;\n",
       "  z-index: 9999;\n",
       "  position: relative;\n",
       "  font-weight: normal;\n",
       "  right: .2ex;\n",
       "  padding: .5ex;\n",
       "  margin: .5ex;\n",
       "  width: min-content;\n",
       "  min-width: 20ex;\n",
       "  max-width: 50ex;\n",
       "  color: var(--sklearn-color-text);\n",
       "  box-shadow: 2pt 2pt 4pt #999;\n",
       "  /* unfitted */\n",
       "  background: var(--sklearn-color-unfitted-level-0);\n",
       "  border: .5pt solid var(--sklearn-color-unfitted-level-3);\n",
       "}\n",
       "\n",
       ".sk-estimator-doc-link.fitted span {\n",
       "  /* fitted */\n",
       "  background: var(--sklearn-color-fitted-level-0);\n",
       "  border: var(--sklearn-color-fitted-level-3);\n",
       "}\n",
       "\n",
       ".sk-estimator-doc-link:hover span {\n",
       "  display: block;\n",
       "}\n",
       "\n",
       "/* \"?\"-specific style due to the `<a>` HTML tag */\n",
       "\n",
       "#sk-container-id-11 a.estimator_doc_link {\n",
       "  float: right;\n",
       "  font-size: 1rem;\n",
       "  line-height: 1em;\n",
       "  font-family: monospace;\n",
       "  background-color: var(--sklearn-color-background);\n",
       "  border-radius: 1rem;\n",
       "  height: 1rem;\n",
       "  width: 1rem;\n",
       "  text-decoration: none;\n",
       "  /* unfitted */\n",
       "  color: var(--sklearn-color-unfitted-level-1);\n",
       "  border: var(--sklearn-color-unfitted-level-1) 1pt solid;\n",
       "}\n",
       "\n",
       "#sk-container-id-11 a.estimator_doc_link.fitted {\n",
       "  /* fitted */\n",
       "  border: var(--sklearn-color-fitted-level-1) 1pt solid;\n",
       "  color: var(--sklearn-color-fitted-level-1);\n",
       "}\n",
       "\n",
       "/* On hover */\n",
       "#sk-container-id-11 a.estimator_doc_link:hover {\n",
       "  /* unfitted */\n",
       "  background-color: var(--sklearn-color-unfitted-level-3);\n",
       "  color: var(--sklearn-color-background);\n",
       "  text-decoration: none;\n",
       "}\n",
       "\n",
       "#sk-container-id-11 a.estimator_doc_link.fitted:hover {\n",
       "  /* fitted */\n",
       "  background-color: var(--sklearn-color-fitted-level-3);\n",
       "}\n",
       "</style><div id=\"sk-container-id-11\" class=\"sk-top-container\"><div class=\"sk-text-repr-fallback\"><pre>GridSearchCV(cv=5,\n",
       "             estimator=GradientBoostingClassifier(learning_rate=0.05,\n",
       "                                                  max_depth=9,\n",
       "                                                  max_features=&#x27;sqrt&#x27;,\n",
       "                                                  n_estimators=75,\n",
       "                                                  random_state=10,\n",
       "                                                  subsample=0.8),\n",
       "             n_jobs=2,\n",
       "             param_grid={&#x27;min_samples_leaf&#x27;: range(2, 20, 3),\n",
       "                         &#x27;min_samples_split&#x27;: range(2, 20, 5)},\n",
       "             scoring=&#x27;recall&#x27;)</pre><b>In a Jupyter environment, please rerun this cell to show the HTML representation or trust the notebook. <br />On GitHub, the HTML representation is unable to render, please try loading this page with nbviewer.org.</b></div><div class=\"sk-container\" hidden><div class=\"sk-item sk-dashed-wrapped\"><div class=\"sk-label-container\"><div class=\"sk-label fitted sk-toggleable\"><input class=\"sk-toggleable__control sk-hidden--visually\" id=\"sk-estimator-id-29\" type=\"checkbox\" ><label for=\"sk-estimator-id-29\" class=\"sk-toggleable__label fitted sk-toggleable__label-arrow fitted\">&nbsp;&nbsp;GridSearchCV<a class=\"sk-estimator-doc-link fitted\" rel=\"noreferrer\" target=\"_blank\" href=\"https://scikit-learn.org/1.5/modules/generated/sklearn.model_selection.GridSearchCV.html\">?<span>Documentation for GridSearchCV</span></a><span class=\"sk-estimator-doc-link fitted\">i<span>Fitted</span></span></label><div class=\"sk-toggleable__content fitted\"><pre>GridSearchCV(cv=5,\n",
       "             estimator=GradientBoostingClassifier(learning_rate=0.05,\n",
       "                                                  max_depth=9,\n",
       "                                                  max_features=&#x27;sqrt&#x27;,\n",
       "                                                  n_estimators=75,\n",
       "                                                  random_state=10,\n",
       "                                                  subsample=0.8),\n",
       "             n_jobs=2,\n",
       "             param_grid={&#x27;min_samples_leaf&#x27;: range(2, 20, 3),\n",
       "                         &#x27;min_samples_split&#x27;: range(2, 20, 5)},\n",
       "             scoring=&#x27;recall&#x27;)</pre></div> </div></div><div class=\"sk-parallel\"><div class=\"sk-parallel-item\"><div class=\"sk-item\"><div class=\"sk-label-container\"><div class=\"sk-label fitted sk-toggleable\"><input class=\"sk-toggleable__control sk-hidden--visually\" id=\"sk-estimator-id-30\" type=\"checkbox\" ><label for=\"sk-estimator-id-30\" class=\"sk-toggleable__label fitted sk-toggleable__label-arrow fitted\">best_estimator_: GradientBoostingClassifier</label><div class=\"sk-toggleable__content fitted\"><pre>GradientBoostingClassifier(learning_rate=0.05, max_depth=9, max_features=&#x27;sqrt&#x27;,\n",
       "                           min_samples_leaf=2, min_samples_split=12,\n",
       "                           n_estimators=75, random_state=10, subsample=0.8)</pre></div> </div></div><div class=\"sk-serial\"><div class=\"sk-item\"><div class=\"sk-estimator fitted sk-toggleable\"><input class=\"sk-toggleable__control sk-hidden--visually\" id=\"sk-estimator-id-31\" type=\"checkbox\" ><label for=\"sk-estimator-id-31\" class=\"sk-toggleable__label fitted sk-toggleable__label-arrow fitted\">&nbsp;GradientBoostingClassifier<a class=\"sk-estimator-doc-link fitted\" rel=\"noreferrer\" target=\"_blank\" href=\"https://scikit-learn.org/1.5/modules/generated/sklearn.ensemble.GradientBoostingClassifier.html\">?<span>Documentation for GradientBoostingClassifier</span></a></label><div class=\"sk-toggleable__content fitted\"><pre>GradientBoostingClassifier(learning_rate=0.05, max_depth=9, max_features=&#x27;sqrt&#x27;,\n",
       "                           min_samples_leaf=2, min_samples_split=12,\n",
       "                           n_estimators=75, random_state=10, subsample=0.8)</pre></div> </div></div></div></div></div></div></div></div></div>"
      ],
      "text/plain": [
       "GridSearchCV(cv=5,\n",
       "             estimator=GradientBoostingClassifier(learning_rate=0.05,\n",
       "                                                  max_depth=9,\n",
       "                                                  max_features='sqrt',\n",
       "                                                  n_estimators=75,\n",
       "                                                  random_state=10,\n",
       "                                                  subsample=0.8),\n",
       "             n_jobs=2,\n",
       "             param_grid={'min_samples_leaf': range(2, 20, 3),\n",
       "                         'min_samples_split': range(2, 20, 5)},\n",
       "             scoring='recall')"
      ]
     },
     "execution_count": 58,
     "metadata": {},
     "output_type": "execute_result"
    }
   ],
   "source": [
    "#Grid seach on subsample and max_features\n",
    "param_test3 = { 'min_samples_split':range(2,20,5), 'min_samples_leaf':range(2,20,3)}\n",
    "gsearch3 = GridSearchCV(estimator = GradientBoostingClassifier(learning_rate=0.05, n_estimators=75,max_depth=9,\n",
    "                                                    max_features='sqrt', subsample=0.8, random_state=10), \n",
    "                       param_grid = param_test3, scoring='recall',n_jobs=2, cv=5)\n",
    "gsearch3.fit(X_train,y_train)"
   ]
  },
  {
   "cell_type": "code",
   "execution_count": 59,
   "id": "de25d4fd-cd56-4480-9448-0c5725830c51",
   "metadata": {},
   "outputs": [
    {
     "data": {
      "text/plain": [
       "({'min_samples_leaf': 2, 'min_samples_split': 12}, 0.869073220686124)"
      ]
     },
     "execution_count": 59,
     "metadata": {},
     "output_type": "execute_result"
    }
   ],
   "source": [
    "gsearch3.best_params_, gsearch3.best_score_"
   ]
  },
  {
   "cell_type": "code",
   "execution_count": null,
   "id": "a0edc1f8-2518-4a92-9b38-2e1222752676",
   "metadata": {},
   "outputs": [],
   "source": []
  },
  {
   "cell_type": "code",
   "execution_count": 60,
   "id": "1b2c6f7f-82ef-4fa8-8f82-bf2fafc7c3ca",
   "metadata": {},
   "outputs": [
    {
     "data": {
      "text/html": [
       "<style>#sk-container-id-12 {\n",
       "  /* Definition of color scheme common for light and dark mode */\n",
       "  --sklearn-color-text: black;\n",
       "  --sklearn-color-line: gray;\n",
       "  /* Definition of color scheme for unfitted estimators */\n",
       "  --sklearn-color-unfitted-level-0: #fff5e6;\n",
       "  --sklearn-color-unfitted-level-1: #f6e4d2;\n",
       "  --sklearn-color-unfitted-level-2: #ffe0b3;\n",
       "  --sklearn-color-unfitted-level-3: chocolate;\n",
       "  /* Definition of color scheme for fitted estimators */\n",
       "  --sklearn-color-fitted-level-0: #f0f8ff;\n",
       "  --sklearn-color-fitted-level-1: #d4ebff;\n",
       "  --sklearn-color-fitted-level-2: #b3dbfd;\n",
       "  --sklearn-color-fitted-level-3: cornflowerblue;\n",
       "\n",
       "  /* Specific color for light theme */\n",
       "  --sklearn-color-text-on-default-background: var(--sg-text-color, var(--theme-code-foreground, var(--jp-content-font-color1, black)));\n",
       "  --sklearn-color-background: var(--sg-background-color, var(--theme-background, var(--jp-layout-color0, white)));\n",
       "  --sklearn-color-border-box: var(--sg-text-color, var(--theme-code-foreground, var(--jp-content-font-color1, black)));\n",
       "  --sklearn-color-icon: #696969;\n",
       "\n",
       "  @media (prefers-color-scheme: dark) {\n",
       "    /* Redefinition of color scheme for dark theme */\n",
       "    --sklearn-color-text-on-default-background: var(--sg-text-color, var(--theme-code-foreground, var(--jp-content-font-color1, white)));\n",
       "    --sklearn-color-background: var(--sg-background-color, var(--theme-background, var(--jp-layout-color0, #111)));\n",
       "    --sklearn-color-border-box: var(--sg-text-color, var(--theme-code-foreground, var(--jp-content-font-color1, white)));\n",
       "    --sklearn-color-icon: #878787;\n",
       "  }\n",
       "}\n",
       "\n",
       "#sk-container-id-12 {\n",
       "  color: var(--sklearn-color-text);\n",
       "}\n",
       "\n",
       "#sk-container-id-12 pre {\n",
       "  padding: 0;\n",
       "}\n",
       "\n",
       "#sk-container-id-12 input.sk-hidden--visually {\n",
       "  border: 0;\n",
       "  clip: rect(1px 1px 1px 1px);\n",
       "  clip: rect(1px, 1px, 1px, 1px);\n",
       "  height: 1px;\n",
       "  margin: -1px;\n",
       "  overflow: hidden;\n",
       "  padding: 0;\n",
       "  position: absolute;\n",
       "  width: 1px;\n",
       "}\n",
       "\n",
       "#sk-container-id-12 div.sk-dashed-wrapped {\n",
       "  border: 1px dashed var(--sklearn-color-line);\n",
       "  margin: 0 0.4em 0.5em 0.4em;\n",
       "  box-sizing: border-box;\n",
       "  padding-bottom: 0.4em;\n",
       "  background-color: var(--sklearn-color-background);\n",
       "}\n",
       "\n",
       "#sk-container-id-12 div.sk-container {\n",
       "  /* jupyter's `normalize.less` sets `[hidden] { display: none; }`\n",
       "     but bootstrap.min.css set `[hidden] { display: none !important; }`\n",
       "     so we also need the `!important` here to be able to override the\n",
       "     default hidden behavior on the sphinx rendered scikit-learn.org.\n",
       "     See: https://github.com/scikit-learn/scikit-learn/issues/21755 */\n",
       "  display: inline-block !important;\n",
       "  position: relative;\n",
       "}\n",
       "\n",
       "#sk-container-id-12 div.sk-text-repr-fallback {\n",
       "  display: none;\n",
       "}\n",
       "\n",
       "div.sk-parallel-item,\n",
       "div.sk-serial,\n",
       "div.sk-item {\n",
       "  /* draw centered vertical line to link estimators */\n",
       "  background-image: linear-gradient(var(--sklearn-color-text-on-default-background), var(--sklearn-color-text-on-default-background));\n",
       "  background-size: 2px 100%;\n",
       "  background-repeat: no-repeat;\n",
       "  background-position: center center;\n",
       "}\n",
       "\n",
       "/* Parallel-specific style estimator block */\n",
       "\n",
       "#sk-container-id-12 div.sk-parallel-item::after {\n",
       "  content: \"\";\n",
       "  width: 100%;\n",
       "  border-bottom: 2px solid var(--sklearn-color-text-on-default-background);\n",
       "  flex-grow: 1;\n",
       "}\n",
       "\n",
       "#sk-container-id-12 div.sk-parallel {\n",
       "  display: flex;\n",
       "  align-items: stretch;\n",
       "  justify-content: center;\n",
       "  background-color: var(--sklearn-color-background);\n",
       "  position: relative;\n",
       "}\n",
       "\n",
       "#sk-container-id-12 div.sk-parallel-item {\n",
       "  display: flex;\n",
       "  flex-direction: column;\n",
       "}\n",
       "\n",
       "#sk-container-id-12 div.sk-parallel-item:first-child::after {\n",
       "  align-self: flex-end;\n",
       "  width: 50%;\n",
       "}\n",
       "\n",
       "#sk-container-id-12 div.sk-parallel-item:last-child::after {\n",
       "  align-self: flex-start;\n",
       "  width: 50%;\n",
       "}\n",
       "\n",
       "#sk-container-id-12 div.sk-parallel-item:only-child::after {\n",
       "  width: 0;\n",
       "}\n",
       "\n",
       "/* Serial-specific style estimator block */\n",
       "\n",
       "#sk-container-id-12 div.sk-serial {\n",
       "  display: flex;\n",
       "  flex-direction: column;\n",
       "  align-items: center;\n",
       "  background-color: var(--sklearn-color-background);\n",
       "  padding-right: 1em;\n",
       "  padding-left: 1em;\n",
       "}\n",
       "\n",
       "\n",
       "/* Toggleable style: style used for estimator/Pipeline/ColumnTransformer box that is\n",
       "clickable and can be expanded/collapsed.\n",
       "- Pipeline and ColumnTransformer use this feature and define the default style\n",
       "- Estimators will overwrite some part of the style using the `sk-estimator` class\n",
       "*/\n",
       "\n",
       "/* Pipeline and ColumnTransformer style (default) */\n",
       "\n",
       "#sk-container-id-12 div.sk-toggleable {\n",
       "  /* Default theme specific background. It is overwritten whether we have a\n",
       "  specific estimator or a Pipeline/ColumnTransformer */\n",
       "  background-color: var(--sklearn-color-background);\n",
       "}\n",
       "\n",
       "/* Toggleable label */\n",
       "#sk-container-id-12 label.sk-toggleable__label {\n",
       "  cursor: pointer;\n",
       "  display: block;\n",
       "  width: 100%;\n",
       "  margin-bottom: 0;\n",
       "  padding: 0.5em;\n",
       "  box-sizing: border-box;\n",
       "  text-align: center;\n",
       "}\n",
       "\n",
       "#sk-container-id-12 label.sk-toggleable__label-arrow:before {\n",
       "  /* Arrow on the left of the label */\n",
       "  content: \"▸\";\n",
       "  float: left;\n",
       "  margin-right: 0.25em;\n",
       "  color: var(--sklearn-color-icon);\n",
       "}\n",
       "\n",
       "#sk-container-id-12 label.sk-toggleable__label-arrow:hover:before {\n",
       "  color: var(--sklearn-color-text);\n",
       "}\n",
       "\n",
       "/* Toggleable content - dropdown */\n",
       "\n",
       "#sk-container-id-12 div.sk-toggleable__content {\n",
       "  max-height: 0;\n",
       "  max-width: 0;\n",
       "  overflow: hidden;\n",
       "  text-align: left;\n",
       "  /* unfitted */\n",
       "  background-color: var(--sklearn-color-unfitted-level-0);\n",
       "}\n",
       "\n",
       "#sk-container-id-12 div.sk-toggleable__content.fitted {\n",
       "  /* fitted */\n",
       "  background-color: var(--sklearn-color-fitted-level-0);\n",
       "}\n",
       "\n",
       "#sk-container-id-12 div.sk-toggleable__content pre {\n",
       "  margin: 0.2em;\n",
       "  border-radius: 0.25em;\n",
       "  color: var(--sklearn-color-text);\n",
       "  /* unfitted */\n",
       "  background-color: var(--sklearn-color-unfitted-level-0);\n",
       "}\n",
       "\n",
       "#sk-container-id-12 div.sk-toggleable__content.fitted pre {\n",
       "  /* unfitted */\n",
       "  background-color: var(--sklearn-color-fitted-level-0);\n",
       "}\n",
       "\n",
       "#sk-container-id-12 input.sk-toggleable__control:checked~div.sk-toggleable__content {\n",
       "  /* Expand drop-down */\n",
       "  max-height: 200px;\n",
       "  max-width: 100%;\n",
       "  overflow: auto;\n",
       "}\n",
       "\n",
       "#sk-container-id-12 input.sk-toggleable__control:checked~label.sk-toggleable__label-arrow:before {\n",
       "  content: \"▾\";\n",
       "}\n",
       "\n",
       "/* Pipeline/ColumnTransformer-specific style */\n",
       "\n",
       "#sk-container-id-12 div.sk-label input.sk-toggleable__control:checked~label.sk-toggleable__label {\n",
       "  color: var(--sklearn-color-text);\n",
       "  background-color: var(--sklearn-color-unfitted-level-2);\n",
       "}\n",
       "\n",
       "#sk-container-id-12 div.sk-label.fitted input.sk-toggleable__control:checked~label.sk-toggleable__label {\n",
       "  background-color: var(--sklearn-color-fitted-level-2);\n",
       "}\n",
       "\n",
       "/* Estimator-specific style */\n",
       "\n",
       "/* Colorize estimator box */\n",
       "#sk-container-id-12 div.sk-estimator input.sk-toggleable__control:checked~label.sk-toggleable__label {\n",
       "  /* unfitted */\n",
       "  background-color: var(--sklearn-color-unfitted-level-2);\n",
       "}\n",
       "\n",
       "#sk-container-id-12 div.sk-estimator.fitted input.sk-toggleable__control:checked~label.sk-toggleable__label {\n",
       "  /* fitted */\n",
       "  background-color: var(--sklearn-color-fitted-level-2);\n",
       "}\n",
       "\n",
       "#sk-container-id-12 div.sk-label label.sk-toggleable__label,\n",
       "#sk-container-id-12 div.sk-label label {\n",
       "  /* The background is the default theme color */\n",
       "  color: var(--sklearn-color-text-on-default-background);\n",
       "}\n",
       "\n",
       "/* On hover, darken the color of the background */\n",
       "#sk-container-id-12 div.sk-label:hover label.sk-toggleable__label {\n",
       "  color: var(--sklearn-color-text);\n",
       "  background-color: var(--sklearn-color-unfitted-level-2);\n",
       "}\n",
       "\n",
       "/* Label box, darken color on hover, fitted */\n",
       "#sk-container-id-12 div.sk-label.fitted:hover label.sk-toggleable__label.fitted {\n",
       "  color: var(--sklearn-color-text);\n",
       "  background-color: var(--sklearn-color-fitted-level-2);\n",
       "}\n",
       "\n",
       "/* Estimator label */\n",
       "\n",
       "#sk-container-id-12 div.sk-label label {\n",
       "  font-family: monospace;\n",
       "  font-weight: bold;\n",
       "  display: inline-block;\n",
       "  line-height: 1.2em;\n",
       "}\n",
       "\n",
       "#sk-container-id-12 div.sk-label-container {\n",
       "  text-align: center;\n",
       "}\n",
       "\n",
       "/* Estimator-specific */\n",
       "#sk-container-id-12 div.sk-estimator {\n",
       "  font-family: monospace;\n",
       "  border: 1px dotted var(--sklearn-color-border-box);\n",
       "  border-radius: 0.25em;\n",
       "  box-sizing: border-box;\n",
       "  margin-bottom: 0.5em;\n",
       "  /* unfitted */\n",
       "  background-color: var(--sklearn-color-unfitted-level-0);\n",
       "}\n",
       "\n",
       "#sk-container-id-12 div.sk-estimator.fitted {\n",
       "  /* fitted */\n",
       "  background-color: var(--sklearn-color-fitted-level-0);\n",
       "}\n",
       "\n",
       "/* on hover */\n",
       "#sk-container-id-12 div.sk-estimator:hover {\n",
       "  /* unfitted */\n",
       "  background-color: var(--sklearn-color-unfitted-level-2);\n",
       "}\n",
       "\n",
       "#sk-container-id-12 div.sk-estimator.fitted:hover {\n",
       "  /* fitted */\n",
       "  background-color: var(--sklearn-color-fitted-level-2);\n",
       "}\n",
       "\n",
       "/* Specification for estimator info (e.g. \"i\" and \"?\") */\n",
       "\n",
       "/* Common style for \"i\" and \"?\" */\n",
       "\n",
       ".sk-estimator-doc-link,\n",
       "a:link.sk-estimator-doc-link,\n",
       "a:visited.sk-estimator-doc-link {\n",
       "  float: right;\n",
       "  font-size: smaller;\n",
       "  line-height: 1em;\n",
       "  font-family: monospace;\n",
       "  background-color: var(--sklearn-color-background);\n",
       "  border-radius: 1em;\n",
       "  height: 1em;\n",
       "  width: 1em;\n",
       "  text-decoration: none !important;\n",
       "  margin-left: 1ex;\n",
       "  /* unfitted */\n",
       "  border: var(--sklearn-color-unfitted-level-1) 1pt solid;\n",
       "  color: var(--sklearn-color-unfitted-level-1);\n",
       "}\n",
       "\n",
       ".sk-estimator-doc-link.fitted,\n",
       "a:link.sk-estimator-doc-link.fitted,\n",
       "a:visited.sk-estimator-doc-link.fitted {\n",
       "  /* fitted */\n",
       "  border: var(--sklearn-color-fitted-level-1) 1pt solid;\n",
       "  color: var(--sklearn-color-fitted-level-1);\n",
       "}\n",
       "\n",
       "/* On hover */\n",
       "div.sk-estimator:hover .sk-estimator-doc-link:hover,\n",
       ".sk-estimator-doc-link:hover,\n",
       "div.sk-label-container:hover .sk-estimator-doc-link:hover,\n",
       ".sk-estimator-doc-link:hover {\n",
       "  /* unfitted */\n",
       "  background-color: var(--sklearn-color-unfitted-level-3);\n",
       "  color: var(--sklearn-color-background);\n",
       "  text-decoration: none;\n",
       "}\n",
       "\n",
       "div.sk-estimator.fitted:hover .sk-estimator-doc-link.fitted:hover,\n",
       ".sk-estimator-doc-link.fitted:hover,\n",
       "div.sk-label-container:hover .sk-estimator-doc-link.fitted:hover,\n",
       ".sk-estimator-doc-link.fitted:hover {\n",
       "  /* fitted */\n",
       "  background-color: var(--sklearn-color-fitted-level-3);\n",
       "  color: var(--sklearn-color-background);\n",
       "  text-decoration: none;\n",
       "}\n",
       "\n",
       "/* Span, style for the box shown on hovering the info icon */\n",
       ".sk-estimator-doc-link span {\n",
       "  display: none;\n",
       "  z-index: 9999;\n",
       "  position: relative;\n",
       "  font-weight: normal;\n",
       "  right: .2ex;\n",
       "  padding: .5ex;\n",
       "  margin: .5ex;\n",
       "  width: min-content;\n",
       "  min-width: 20ex;\n",
       "  max-width: 50ex;\n",
       "  color: var(--sklearn-color-text);\n",
       "  box-shadow: 2pt 2pt 4pt #999;\n",
       "  /* unfitted */\n",
       "  background: var(--sklearn-color-unfitted-level-0);\n",
       "  border: .5pt solid var(--sklearn-color-unfitted-level-3);\n",
       "}\n",
       "\n",
       ".sk-estimator-doc-link.fitted span {\n",
       "  /* fitted */\n",
       "  background: var(--sklearn-color-fitted-level-0);\n",
       "  border: var(--sklearn-color-fitted-level-3);\n",
       "}\n",
       "\n",
       ".sk-estimator-doc-link:hover span {\n",
       "  display: block;\n",
       "}\n",
       "\n",
       "/* \"?\"-specific style due to the `<a>` HTML tag */\n",
       "\n",
       "#sk-container-id-12 a.estimator_doc_link {\n",
       "  float: right;\n",
       "  font-size: 1rem;\n",
       "  line-height: 1em;\n",
       "  font-family: monospace;\n",
       "  background-color: var(--sklearn-color-background);\n",
       "  border-radius: 1rem;\n",
       "  height: 1rem;\n",
       "  width: 1rem;\n",
       "  text-decoration: none;\n",
       "  /* unfitted */\n",
       "  color: var(--sklearn-color-unfitted-level-1);\n",
       "  border: var(--sklearn-color-unfitted-level-1) 1pt solid;\n",
       "}\n",
       "\n",
       "#sk-container-id-12 a.estimator_doc_link.fitted {\n",
       "  /* fitted */\n",
       "  border: var(--sklearn-color-fitted-level-1) 1pt solid;\n",
       "  color: var(--sklearn-color-fitted-level-1);\n",
       "}\n",
       "\n",
       "/* On hover */\n",
       "#sk-container-id-12 a.estimator_doc_link:hover {\n",
       "  /* unfitted */\n",
       "  background-color: var(--sklearn-color-unfitted-level-3);\n",
       "  color: var(--sklearn-color-background);\n",
       "  text-decoration: none;\n",
       "}\n",
       "\n",
       "#sk-container-id-12 a.estimator_doc_link.fitted:hover {\n",
       "  /* fitted */\n",
       "  background-color: var(--sklearn-color-fitted-level-3);\n",
       "}\n",
       "</style><div id=\"sk-container-id-12\" class=\"sk-top-container\"><div class=\"sk-text-repr-fallback\"><pre>GridSearchCV(cv=5,\n",
       "             estimator=GradientBoostingClassifier(learning_rate=0.05,\n",
       "                                                  max_depth=9,\n",
       "                                                  min_samples_leaf=2,\n",
       "                                                  min_samples_split=12,\n",
       "                                                  n_estimators=75,\n",
       "                                                  random_state=10),\n",
       "             n_jobs=2, param_grid={&#x27;max_features&#x27;: range(4, 80, 5)},\n",
       "             scoring=&#x27;recall&#x27;)</pre><b>In a Jupyter environment, please rerun this cell to show the HTML representation or trust the notebook. <br />On GitHub, the HTML representation is unable to render, please try loading this page with nbviewer.org.</b></div><div class=\"sk-container\" hidden><div class=\"sk-item sk-dashed-wrapped\"><div class=\"sk-label-container\"><div class=\"sk-label fitted sk-toggleable\"><input class=\"sk-toggleable__control sk-hidden--visually\" id=\"sk-estimator-id-32\" type=\"checkbox\" ><label for=\"sk-estimator-id-32\" class=\"sk-toggleable__label fitted sk-toggleable__label-arrow fitted\">&nbsp;&nbsp;GridSearchCV<a class=\"sk-estimator-doc-link fitted\" rel=\"noreferrer\" target=\"_blank\" href=\"https://scikit-learn.org/1.5/modules/generated/sklearn.model_selection.GridSearchCV.html\">?<span>Documentation for GridSearchCV</span></a><span class=\"sk-estimator-doc-link fitted\">i<span>Fitted</span></span></label><div class=\"sk-toggleable__content fitted\"><pre>GridSearchCV(cv=5,\n",
       "             estimator=GradientBoostingClassifier(learning_rate=0.05,\n",
       "                                                  max_depth=9,\n",
       "                                                  min_samples_leaf=2,\n",
       "                                                  min_samples_split=12,\n",
       "                                                  n_estimators=75,\n",
       "                                                  random_state=10),\n",
       "             n_jobs=2, param_grid={&#x27;max_features&#x27;: range(4, 80, 5)},\n",
       "             scoring=&#x27;recall&#x27;)</pre></div> </div></div><div class=\"sk-parallel\"><div class=\"sk-parallel-item\"><div class=\"sk-item\"><div class=\"sk-label-container\"><div class=\"sk-label fitted sk-toggleable\"><input class=\"sk-toggleable__control sk-hidden--visually\" id=\"sk-estimator-id-33\" type=\"checkbox\" ><label for=\"sk-estimator-id-33\" class=\"sk-toggleable__label fitted sk-toggleable__label-arrow fitted\">best_estimator_: GradientBoostingClassifier</label><div class=\"sk-toggleable__content fitted\"><pre>GradientBoostingClassifier(learning_rate=0.05, max_depth=9, max_features=39,\n",
       "                           min_samples_leaf=2, min_samples_split=12,\n",
       "                           n_estimators=75, random_state=10)</pre></div> </div></div><div class=\"sk-serial\"><div class=\"sk-item\"><div class=\"sk-estimator fitted sk-toggleable\"><input class=\"sk-toggleable__control sk-hidden--visually\" id=\"sk-estimator-id-34\" type=\"checkbox\" ><label for=\"sk-estimator-id-34\" class=\"sk-toggleable__label fitted sk-toggleable__label-arrow fitted\">&nbsp;GradientBoostingClassifier<a class=\"sk-estimator-doc-link fitted\" rel=\"noreferrer\" target=\"_blank\" href=\"https://scikit-learn.org/1.5/modules/generated/sklearn.ensemble.GradientBoostingClassifier.html\">?<span>Documentation for GradientBoostingClassifier</span></a></label><div class=\"sk-toggleable__content fitted\"><pre>GradientBoostingClassifier(learning_rate=0.05, max_depth=9, max_features=39,\n",
       "                           min_samples_leaf=2, min_samples_split=12,\n",
       "                           n_estimators=75, random_state=10)</pre></div> </div></div></div></div></div></div></div></div></div>"
      ],
      "text/plain": [
       "GridSearchCV(cv=5,\n",
       "             estimator=GradientBoostingClassifier(learning_rate=0.05,\n",
       "                                                  max_depth=9,\n",
       "                                                  min_samples_leaf=2,\n",
       "                                                  min_samples_split=12,\n",
       "                                                  n_estimators=75,\n",
       "                                                  random_state=10),\n",
       "             n_jobs=2, param_grid={'max_features': range(4, 80, 5)},\n",
       "             scoring='recall')"
      ]
     },
     "execution_count": 60,
     "metadata": {},
     "output_type": "execute_result"
    }
   ],
   "source": [
    "#Grid seach on subsample and max_features\n",
    "param_test4 = {'max_features':range(4,80,5)}\n",
    "gsearch4 = GridSearchCV(estimator = GradientBoostingClassifier(learning_rate=0.05, n_estimators=75,max_depth=9, \n",
    "                            min_samples_split=12, min_samples_leaf=2, random_state=10),\n",
    "                       param_grid = param_test4, scoring='recall',n_jobs=2, cv=5)\n",
    "gsearch4.fit(X_train,y_train)"
   ]
  },
  {
   "cell_type": "code",
   "execution_count": 61,
   "id": "cf815010-9a2b-4c9f-a6db-338673c1d9f2",
   "metadata": {},
   "outputs": [
    {
     "data": {
      "text/plain": [
       "({'max_features': 39}, 0.8658986175115209)"
      ]
     },
     "execution_count": 61,
     "metadata": {},
     "output_type": "execute_result"
    }
   ],
   "source": [
    "gsearch4.best_params_, gsearch4.best_score_"
   ]
  },
  {
   "cell_type": "code",
   "execution_count": null,
   "id": "f1bf7531-7070-471d-af73-ac39cc6f6bb0",
   "metadata": {},
   "outputs": [],
   "source": []
  },
  {
   "cell_type": "code",
   "execution_count": 62,
   "id": "a150347d-459c-42a3-9461-67ef338842f7",
   "metadata": {},
   "outputs": [
    {
     "data": {
      "text/html": [
       "<style>#sk-container-id-13 {\n",
       "  /* Definition of color scheme common for light and dark mode */\n",
       "  --sklearn-color-text: black;\n",
       "  --sklearn-color-line: gray;\n",
       "  /* Definition of color scheme for unfitted estimators */\n",
       "  --sklearn-color-unfitted-level-0: #fff5e6;\n",
       "  --sklearn-color-unfitted-level-1: #f6e4d2;\n",
       "  --sklearn-color-unfitted-level-2: #ffe0b3;\n",
       "  --sklearn-color-unfitted-level-3: chocolate;\n",
       "  /* Definition of color scheme for fitted estimators */\n",
       "  --sklearn-color-fitted-level-0: #f0f8ff;\n",
       "  --sklearn-color-fitted-level-1: #d4ebff;\n",
       "  --sklearn-color-fitted-level-2: #b3dbfd;\n",
       "  --sklearn-color-fitted-level-3: cornflowerblue;\n",
       "\n",
       "  /* Specific color for light theme */\n",
       "  --sklearn-color-text-on-default-background: var(--sg-text-color, var(--theme-code-foreground, var(--jp-content-font-color1, black)));\n",
       "  --sklearn-color-background: var(--sg-background-color, var(--theme-background, var(--jp-layout-color0, white)));\n",
       "  --sklearn-color-border-box: var(--sg-text-color, var(--theme-code-foreground, var(--jp-content-font-color1, black)));\n",
       "  --sklearn-color-icon: #696969;\n",
       "\n",
       "  @media (prefers-color-scheme: dark) {\n",
       "    /* Redefinition of color scheme for dark theme */\n",
       "    --sklearn-color-text-on-default-background: var(--sg-text-color, var(--theme-code-foreground, var(--jp-content-font-color1, white)));\n",
       "    --sklearn-color-background: var(--sg-background-color, var(--theme-background, var(--jp-layout-color0, #111)));\n",
       "    --sklearn-color-border-box: var(--sg-text-color, var(--theme-code-foreground, var(--jp-content-font-color1, white)));\n",
       "    --sklearn-color-icon: #878787;\n",
       "  }\n",
       "}\n",
       "\n",
       "#sk-container-id-13 {\n",
       "  color: var(--sklearn-color-text);\n",
       "}\n",
       "\n",
       "#sk-container-id-13 pre {\n",
       "  padding: 0;\n",
       "}\n",
       "\n",
       "#sk-container-id-13 input.sk-hidden--visually {\n",
       "  border: 0;\n",
       "  clip: rect(1px 1px 1px 1px);\n",
       "  clip: rect(1px, 1px, 1px, 1px);\n",
       "  height: 1px;\n",
       "  margin: -1px;\n",
       "  overflow: hidden;\n",
       "  padding: 0;\n",
       "  position: absolute;\n",
       "  width: 1px;\n",
       "}\n",
       "\n",
       "#sk-container-id-13 div.sk-dashed-wrapped {\n",
       "  border: 1px dashed var(--sklearn-color-line);\n",
       "  margin: 0 0.4em 0.5em 0.4em;\n",
       "  box-sizing: border-box;\n",
       "  padding-bottom: 0.4em;\n",
       "  background-color: var(--sklearn-color-background);\n",
       "}\n",
       "\n",
       "#sk-container-id-13 div.sk-container {\n",
       "  /* jupyter's `normalize.less` sets `[hidden] { display: none; }`\n",
       "     but bootstrap.min.css set `[hidden] { display: none !important; }`\n",
       "     so we also need the `!important` here to be able to override the\n",
       "     default hidden behavior on the sphinx rendered scikit-learn.org.\n",
       "     See: https://github.com/scikit-learn/scikit-learn/issues/21755 */\n",
       "  display: inline-block !important;\n",
       "  position: relative;\n",
       "}\n",
       "\n",
       "#sk-container-id-13 div.sk-text-repr-fallback {\n",
       "  display: none;\n",
       "}\n",
       "\n",
       "div.sk-parallel-item,\n",
       "div.sk-serial,\n",
       "div.sk-item {\n",
       "  /* draw centered vertical line to link estimators */\n",
       "  background-image: linear-gradient(var(--sklearn-color-text-on-default-background), var(--sklearn-color-text-on-default-background));\n",
       "  background-size: 2px 100%;\n",
       "  background-repeat: no-repeat;\n",
       "  background-position: center center;\n",
       "}\n",
       "\n",
       "/* Parallel-specific style estimator block */\n",
       "\n",
       "#sk-container-id-13 div.sk-parallel-item::after {\n",
       "  content: \"\";\n",
       "  width: 100%;\n",
       "  border-bottom: 2px solid var(--sklearn-color-text-on-default-background);\n",
       "  flex-grow: 1;\n",
       "}\n",
       "\n",
       "#sk-container-id-13 div.sk-parallel {\n",
       "  display: flex;\n",
       "  align-items: stretch;\n",
       "  justify-content: center;\n",
       "  background-color: var(--sklearn-color-background);\n",
       "  position: relative;\n",
       "}\n",
       "\n",
       "#sk-container-id-13 div.sk-parallel-item {\n",
       "  display: flex;\n",
       "  flex-direction: column;\n",
       "}\n",
       "\n",
       "#sk-container-id-13 div.sk-parallel-item:first-child::after {\n",
       "  align-self: flex-end;\n",
       "  width: 50%;\n",
       "}\n",
       "\n",
       "#sk-container-id-13 div.sk-parallel-item:last-child::after {\n",
       "  align-self: flex-start;\n",
       "  width: 50%;\n",
       "}\n",
       "\n",
       "#sk-container-id-13 div.sk-parallel-item:only-child::after {\n",
       "  width: 0;\n",
       "}\n",
       "\n",
       "/* Serial-specific style estimator block */\n",
       "\n",
       "#sk-container-id-13 div.sk-serial {\n",
       "  display: flex;\n",
       "  flex-direction: column;\n",
       "  align-items: center;\n",
       "  background-color: var(--sklearn-color-background);\n",
       "  padding-right: 1em;\n",
       "  padding-left: 1em;\n",
       "}\n",
       "\n",
       "\n",
       "/* Toggleable style: style used for estimator/Pipeline/ColumnTransformer box that is\n",
       "clickable and can be expanded/collapsed.\n",
       "- Pipeline and ColumnTransformer use this feature and define the default style\n",
       "- Estimators will overwrite some part of the style using the `sk-estimator` class\n",
       "*/\n",
       "\n",
       "/* Pipeline and ColumnTransformer style (default) */\n",
       "\n",
       "#sk-container-id-13 div.sk-toggleable {\n",
       "  /* Default theme specific background. It is overwritten whether we have a\n",
       "  specific estimator or a Pipeline/ColumnTransformer */\n",
       "  background-color: var(--sklearn-color-background);\n",
       "}\n",
       "\n",
       "/* Toggleable label */\n",
       "#sk-container-id-13 label.sk-toggleable__label {\n",
       "  cursor: pointer;\n",
       "  display: block;\n",
       "  width: 100%;\n",
       "  margin-bottom: 0;\n",
       "  padding: 0.5em;\n",
       "  box-sizing: border-box;\n",
       "  text-align: center;\n",
       "}\n",
       "\n",
       "#sk-container-id-13 label.sk-toggleable__label-arrow:before {\n",
       "  /* Arrow on the left of the label */\n",
       "  content: \"▸\";\n",
       "  float: left;\n",
       "  margin-right: 0.25em;\n",
       "  color: var(--sklearn-color-icon);\n",
       "}\n",
       "\n",
       "#sk-container-id-13 label.sk-toggleable__label-arrow:hover:before {\n",
       "  color: var(--sklearn-color-text);\n",
       "}\n",
       "\n",
       "/* Toggleable content - dropdown */\n",
       "\n",
       "#sk-container-id-13 div.sk-toggleable__content {\n",
       "  max-height: 0;\n",
       "  max-width: 0;\n",
       "  overflow: hidden;\n",
       "  text-align: left;\n",
       "  /* unfitted */\n",
       "  background-color: var(--sklearn-color-unfitted-level-0);\n",
       "}\n",
       "\n",
       "#sk-container-id-13 div.sk-toggleable__content.fitted {\n",
       "  /* fitted */\n",
       "  background-color: var(--sklearn-color-fitted-level-0);\n",
       "}\n",
       "\n",
       "#sk-container-id-13 div.sk-toggleable__content pre {\n",
       "  margin: 0.2em;\n",
       "  border-radius: 0.25em;\n",
       "  color: var(--sklearn-color-text);\n",
       "  /* unfitted */\n",
       "  background-color: var(--sklearn-color-unfitted-level-0);\n",
       "}\n",
       "\n",
       "#sk-container-id-13 div.sk-toggleable__content.fitted pre {\n",
       "  /* unfitted */\n",
       "  background-color: var(--sklearn-color-fitted-level-0);\n",
       "}\n",
       "\n",
       "#sk-container-id-13 input.sk-toggleable__control:checked~div.sk-toggleable__content {\n",
       "  /* Expand drop-down */\n",
       "  max-height: 200px;\n",
       "  max-width: 100%;\n",
       "  overflow: auto;\n",
       "}\n",
       "\n",
       "#sk-container-id-13 input.sk-toggleable__control:checked~label.sk-toggleable__label-arrow:before {\n",
       "  content: \"▾\";\n",
       "}\n",
       "\n",
       "/* Pipeline/ColumnTransformer-specific style */\n",
       "\n",
       "#sk-container-id-13 div.sk-label input.sk-toggleable__control:checked~label.sk-toggleable__label {\n",
       "  color: var(--sklearn-color-text);\n",
       "  background-color: var(--sklearn-color-unfitted-level-2);\n",
       "}\n",
       "\n",
       "#sk-container-id-13 div.sk-label.fitted input.sk-toggleable__control:checked~label.sk-toggleable__label {\n",
       "  background-color: var(--sklearn-color-fitted-level-2);\n",
       "}\n",
       "\n",
       "/* Estimator-specific style */\n",
       "\n",
       "/* Colorize estimator box */\n",
       "#sk-container-id-13 div.sk-estimator input.sk-toggleable__control:checked~label.sk-toggleable__label {\n",
       "  /* unfitted */\n",
       "  background-color: var(--sklearn-color-unfitted-level-2);\n",
       "}\n",
       "\n",
       "#sk-container-id-13 div.sk-estimator.fitted input.sk-toggleable__control:checked~label.sk-toggleable__label {\n",
       "  /* fitted */\n",
       "  background-color: var(--sklearn-color-fitted-level-2);\n",
       "}\n",
       "\n",
       "#sk-container-id-13 div.sk-label label.sk-toggleable__label,\n",
       "#sk-container-id-13 div.sk-label label {\n",
       "  /* The background is the default theme color */\n",
       "  color: var(--sklearn-color-text-on-default-background);\n",
       "}\n",
       "\n",
       "/* On hover, darken the color of the background */\n",
       "#sk-container-id-13 div.sk-label:hover label.sk-toggleable__label {\n",
       "  color: var(--sklearn-color-text);\n",
       "  background-color: var(--sklearn-color-unfitted-level-2);\n",
       "}\n",
       "\n",
       "/* Label box, darken color on hover, fitted */\n",
       "#sk-container-id-13 div.sk-label.fitted:hover label.sk-toggleable__label.fitted {\n",
       "  color: var(--sklearn-color-text);\n",
       "  background-color: var(--sklearn-color-fitted-level-2);\n",
       "}\n",
       "\n",
       "/* Estimator label */\n",
       "\n",
       "#sk-container-id-13 div.sk-label label {\n",
       "  font-family: monospace;\n",
       "  font-weight: bold;\n",
       "  display: inline-block;\n",
       "  line-height: 1.2em;\n",
       "}\n",
       "\n",
       "#sk-container-id-13 div.sk-label-container {\n",
       "  text-align: center;\n",
       "}\n",
       "\n",
       "/* Estimator-specific */\n",
       "#sk-container-id-13 div.sk-estimator {\n",
       "  font-family: monospace;\n",
       "  border: 1px dotted var(--sklearn-color-border-box);\n",
       "  border-radius: 0.25em;\n",
       "  box-sizing: border-box;\n",
       "  margin-bottom: 0.5em;\n",
       "  /* unfitted */\n",
       "  background-color: var(--sklearn-color-unfitted-level-0);\n",
       "}\n",
       "\n",
       "#sk-container-id-13 div.sk-estimator.fitted {\n",
       "  /* fitted */\n",
       "  background-color: var(--sklearn-color-fitted-level-0);\n",
       "}\n",
       "\n",
       "/* on hover */\n",
       "#sk-container-id-13 div.sk-estimator:hover {\n",
       "  /* unfitted */\n",
       "  background-color: var(--sklearn-color-unfitted-level-2);\n",
       "}\n",
       "\n",
       "#sk-container-id-13 div.sk-estimator.fitted:hover {\n",
       "  /* fitted */\n",
       "  background-color: var(--sklearn-color-fitted-level-2);\n",
       "}\n",
       "\n",
       "/* Specification for estimator info (e.g. \"i\" and \"?\") */\n",
       "\n",
       "/* Common style for \"i\" and \"?\" */\n",
       "\n",
       ".sk-estimator-doc-link,\n",
       "a:link.sk-estimator-doc-link,\n",
       "a:visited.sk-estimator-doc-link {\n",
       "  float: right;\n",
       "  font-size: smaller;\n",
       "  line-height: 1em;\n",
       "  font-family: monospace;\n",
       "  background-color: var(--sklearn-color-background);\n",
       "  border-radius: 1em;\n",
       "  height: 1em;\n",
       "  width: 1em;\n",
       "  text-decoration: none !important;\n",
       "  margin-left: 1ex;\n",
       "  /* unfitted */\n",
       "  border: var(--sklearn-color-unfitted-level-1) 1pt solid;\n",
       "  color: var(--sklearn-color-unfitted-level-1);\n",
       "}\n",
       "\n",
       ".sk-estimator-doc-link.fitted,\n",
       "a:link.sk-estimator-doc-link.fitted,\n",
       "a:visited.sk-estimator-doc-link.fitted {\n",
       "  /* fitted */\n",
       "  border: var(--sklearn-color-fitted-level-1) 1pt solid;\n",
       "  color: var(--sklearn-color-fitted-level-1);\n",
       "}\n",
       "\n",
       "/* On hover */\n",
       "div.sk-estimator:hover .sk-estimator-doc-link:hover,\n",
       ".sk-estimator-doc-link:hover,\n",
       "div.sk-label-container:hover .sk-estimator-doc-link:hover,\n",
       ".sk-estimator-doc-link:hover {\n",
       "  /* unfitted */\n",
       "  background-color: var(--sklearn-color-unfitted-level-3);\n",
       "  color: var(--sklearn-color-background);\n",
       "  text-decoration: none;\n",
       "}\n",
       "\n",
       "div.sk-estimator.fitted:hover .sk-estimator-doc-link.fitted:hover,\n",
       ".sk-estimator-doc-link.fitted:hover,\n",
       "div.sk-label-container:hover .sk-estimator-doc-link.fitted:hover,\n",
       ".sk-estimator-doc-link.fitted:hover {\n",
       "  /* fitted */\n",
       "  background-color: var(--sklearn-color-fitted-level-3);\n",
       "  color: var(--sklearn-color-background);\n",
       "  text-decoration: none;\n",
       "}\n",
       "\n",
       "/* Span, style for the box shown on hovering the info icon */\n",
       ".sk-estimator-doc-link span {\n",
       "  display: none;\n",
       "  z-index: 9999;\n",
       "  position: relative;\n",
       "  font-weight: normal;\n",
       "  right: .2ex;\n",
       "  padding: .5ex;\n",
       "  margin: .5ex;\n",
       "  width: min-content;\n",
       "  min-width: 20ex;\n",
       "  max-width: 50ex;\n",
       "  color: var(--sklearn-color-text);\n",
       "  box-shadow: 2pt 2pt 4pt #999;\n",
       "  /* unfitted */\n",
       "  background: var(--sklearn-color-unfitted-level-0);\n",
       "  border: .5pt solid var(--sklearn-color-unfitted-level-3);\n",
       "}\n",
       "\n",
       ".sk-estimator-doc-link.fitted span {\n",
       "  /* fitted */\n",
       "  background: var(--sklearn-color-fitted-level-0);\n",
       "  border: var(--sklearn-color-fitted-level-3);\n",
       "}\n",
       "\n",
       ".sk-estimator-doc-link:hover span {\n",
       "  display: block;\n",
       "}\n",
       "\n",
       "/* \"?\"-specific style due to the `<a>` HTML tag */\n",
       "\n",
       "#sk-container-id-13 a.estimator_doc_link {\n",
       "  float: right;\n",
       "  font-size: 1rem;\n",
       "  line-height: 1em;\n",
       "  font-family: monospace;\n",
       "  background-color: var(--sklearn-color-background);\n",
       "  border-radius: 1rem;\n",
       "  height: 1rem;\n",
       "  width: 1rem;\n",
       "  text-decoration: none;\n",
       "  /* unfitted */\n",
       "  color: var(--sklearn-color-unfitted-level-1);\n",
       "  border: var(--sklearn-color-unfitted-level-1) 1pt solid;\n",
       "}\n",
       "\n",
       "#sk-container-id-13 a.estimator_doc_link.fitted {\n",
       "  /* fitted */\n",
       "  border: var(--sklearn-color-fitted-level-1) 1pt solid;\n",
       "  color: var(--sklearn-color-fitted-level-1);\n",
       "}\n",
       "\n",
       "/* On hover */\n",
       "#sk-container-id-13 a.estimator_doc_link:hover {\n",
       "  /* unfitted */\n",
       "  background-color: var(--sklearn-color-unfitted-level-3);\n",
       "  color: var(--sklearn-color-background);\n",
       "  text-decoration: none;\n",
       "}\n",
       "\n",
       "#sk-container-id-13 a.estimator_doc_link.fitted:hover {\n",
       "  /* fitted */\n",
       "  background-color: var(--sklearn-color-fitted-level-3);\n",
       "}\n",
       "</style><div id=\"sk-container-id-13\" class=\"sk-top-container\"><div class=\"sk-text-repr-fallback\"><pre>GridSearchCV(cv=5,\n",
       "             estimator=GradientBoostingClassifier(learning_rate=0.05,\n",
       "                                                  max_depth=9, max_features=39,\n",
       "                                                  min_samples_leaf=2,\n",
       "                                                  min_samples_split=12,\n",
       "                                                  n_estimators=75,\n",
       "                                                  random_state=10),\n",
       "             n_jobs=2,\n",
       "             param_grid={&#x27;subsample&#x27;: [0.6, 0.7, 0.75, 0.8, 0.85, 0.9]},\n",
       "             scoring=&#x27;recall&#x27;)</pre><b>In a Jupyter environment, please rerun this cell to show the HTML representation or trust the notebook. <br />On GitHub, the HTML representation is unable to render, please try loading this page with nbviewer.org.</b></div><div class=\"sk-container\" hidden><div class=\"sk-item sk-dashed-wrapped\"><div class=\"sk-label-container\"><div class=\"sk-label fitted sk-toggleable\"><input class=\"sk-toggleable__control sk-hidden--visually\" id=\"sk-estimator-id-35\" type=\"checkbox\" ><label for=\"sk-estimator-id-35\" class=\"sk-toggleable__label fitted sk-toggleable__label-arrow fitted\">&nbsp;&nbsp;GridSearchCV<a class=\"sk-estimator-doc-link fitted\" rel=\"noreferrer\" target=\"_blank\" href=\"https://scikit-learn.org/1.5/modules/generated/sklearn.model_selection.GridSearchCV.html\">?<span>Documentation for GridSearchCV</span></a><span class=\"sk-estimator-doc-link fitted\">i<span>Fitted</span></span></label><div class=\"sk-toggleable__content fitted\"><pre>GridSearchCV(cv=5,\n",
       "             estimator=GradientBoostingClassifier(learning_rate=0.05,\n",
       "                                                  max_depth=9, max_features=39,\n",
       "                                                  min_samples_leaf=2,\n",
       "                                                  min_samples_split=12,\n",
       "                                                  n_estimators=75,\n",
       "                                                  random_state=10),\n",
       "             n_jobs=2,\n",
       "             param_grid={&#x27;subsample&#x27;: [0.6, 0.7, 0.75, 0.8, 0.85, 0.9]},\n",
       "             scoring=&#x27;recall&#x27;)</pre></div> </div></div><div class=\"sk-parallel\"><div class=\"sk-parallel-item\"><div class=\"sk-item\"><div class=\"sk-label-container\"><div class=\"sk-label fitted sk-toggleable\"><input class=\"sk-toggleable__control sk-hidden--visually\" id=\"sk-estimator-id-36\" type=\"checkbox\" ><label for=\"sk-estimator-id-36\" class=\"sk-toggleable__label fitted sk-toggleable__label-arrow fitted\">best_estimator_: GradientBoostingClassifier</label><div class=\"sk-toggleable__content fitted\"><pre>GradientBoostingClassifier(learning_rate=0.05, max_depth=9, max_features=39,\n",
       "                           min_samples_leaf=2, min_samples_split=12,\n",
       "                           n_estimators=75, random_state=10, subsample=0.6)</pre></div> </div></div><div class=\"sk-serial\"><div class=\"sk-item\"><div class=\"sk-estimator fitted sk-toggleable\"><input class=\"sk-toggleable__control sk-hidden--visually\" id=\"sk-estimator-id-37\" type=\"checkbox\" ><label for=\"sk-estimator-id-37\" class=\"sk-toggleable__label fitted sk-toggleable__label-arrow fitted\">&nbsp;GradientBoostingClassifier<a class=\"sk-estimator-doc-link fitted\" rel=\"noreferrer\" target=\"_blank\" href=\"https://scikit-learn.org/1.5/modules/generated/sklearn.ensemble.GradientBoostingClassifier.html\">?<span>Documentation for GradientBoostingClassifier</span></a></label><div class=\"sk-toggleable__content fitted\"><pre>GradientBoostingClassifier(learning_rate=0.05, max_depth=9, max_features=39,\n",
       "                           min_samples_leaf=2, min_samples_split=12,\n",
       "                           n_estimators=75, random_state=10, subsample=0.6)</pre></div> </div></div></div></div></div></div></div></div></div>"
      ],
      "text/plain": [
       "GridSearchCV(cv=5,\n",
       "             estimator=GradientBoostingClassifier(learning_rate=0.05,\n",
       "                                                  max_depth=9, max_features=39,\n",
       "                                                  min_samples_leaf=2,\n",
       "                                                  min_samples_split=12,\n",
       "                                                  n_estimators=75,\n",
       "                                                  random_state=10),\n",
       "             n_jobs=2,\n",
       "             param_grid={'subsample': [0.6, 0.7, 0.75, 0.8, 0.85, 0.9]},\n",
       "             scoring='recall')"
      ]
     },
     "execution_count": 62,
     "metadata": {},
     "output_type": "execute_result"
    }
   ],
   "source": [
    "#Grid seach on subsample and max_features\n",
    "param_test5 = {'subsample':[0.6,0.7,0.75,0.8,0.85,0.9]}\n",
    "gsearch5 = GridSearchCV(estimator = GradientBoostingClassifier(learning_rate=0.05, n_estimators=75,max_depth=9, \n",
    "                            min_samples_split=12, min_samples_leaf=2, random_state=10, max_features=39),\n",
    "                       param_grid = param_test5, scoring='recall',n_jobs=2, cv=5)\n",
    "gsearch5.fit(X_train,y_train)"
   ]
  },
  {
   "cell_type": "code",
   "execution_count": 63,
   "id": "798ec25f-0bc1-4da5-a26e-463ee42317aa",
   "metadata": {},
   "outputs": [
    {
     "data": {
      "text/plain": [
       "({'subsample': 0.6}, 0.8626216077828982)"
      ]
     },
     "execution_count": 63,
     "metadata": {},
     "output_type": "execute_result"
    }
   ],
   "source": [
    "gsearch5.best_params_, gsearch5.best_score_"
   ]
  },
  {
   "cell_type": "code",
   "execution_count": 67,
   "id": "8a65a32e-2455-4ecf-8e71-5d25dd435aeb",
   "metadata": {},
   "outputs": [
    {
     "name": "stdout",
     "output_type": "stream",
     "text": [
      "\n",
      "Model Report Train\n",
      "AUC Score : 0.999314\n",
      "Accuracy : 0.984\n",
      "Precision : 0.9779\n",
      "Recall : 0.990415\n",
      "\n",
      "Model Report Test\n",
      "AUC Score : 0.915206\n",
      "Accuracy : 0.8301\n",
      "Precision : 0.3529\n",
      "Recall : 0.895522\n"
     ]
    },
    {
     "data": {
      "image/png": "[encoded data removed]",
      "text/plain": [
       "<Figure size 1000x500 with 4 Axes>"
      ]
     },
     "metadata": {},
     "output_type": "display_data"
    },
    {
     "name": "stdout",
     "output_type": "stream",
     "text": [
      "CV Score : Mean - 0.8402458 | Std - 0.04713845 | Min - 0.7619048 | Max - 0.9047619\n"
     ]
    }
   ],
   "source": [
    "#Choose all predictors except target & IDcols\n",
    "gbm_tuned_1 = GradientBoostingClassifier(learning_rate=0.1, n_estimators=15,max_depth=12,\n",
    "                            min_samples_split=12, min_samples_leaf=5, random_state=10, max_features=59,subsample=0.8)\n",
    "\n",
    "model = modelfit(gbm_tuned_1,  X_train, y_train,X_test_all,y_test_all)"
   ]
  },
  {
   "cell_type": "code",
   "execution_count": 68,
   "id": "ed2347fd-6243-4270-ad1e-c420408d2558",
   "metadata": {},
   "outputs": [
    {
     "name": "stdout",
     "output_type": "stream",
     "text": [
      "\n",
      "Model Report Train\n",
      "AUC Score : 0.927163\n",
      "Accuracy : 0.8592\n",
      "Precision : 0.8527\n",
      "Recall : 0.869010\n",
      "\n",
      "Model Report Test\n",
      "AUC Score : 0.869762\n",
      "Accuracy : 0.7881\n",
      "Precision : 0.7584\n",
      "Recall : 0.843284\n"
     ]
    },
    {
     "data": {
      "image/png": "[encoded data removed]",
      "text/plain": [
       "<Figure size 1000x500 with 4 Axes>"
      ]
     },
     "metadata": {},
     "output_type": "display_data"
    },
    {
     "name": "stdout",
     "output_type": "stream",
     "text": [
      "CV Score : Mean - 0.8274962 | Std - 0.05534087 | Min - 0.7301587 | Max - 0.8888889\n"
     ]
    },
    {
     "data": {
      "text/html": [
       "<style>#sk-container-id-14 {\n",
       "  /* Definition of color scheme common for light and dark mode */\n",
       "  --sklearn-color-text: black;\n",
       "  --sklearn-color-line: gray;\n",
       "  /* Definition of color scheme for unfitted estimators */\n",
       "  --sklearn-color-unfitted-level-0: #fff5e6;\n",
       "  --sklearn-color-unfitted-level-1: #f6e4d2;\n",
       "  --sklearn-color-unfitted-level-2: #ffe0b3;\n",
       "  --sklearn-color-unfitted-level-3: chocolate;\n",
       "  /* Definition of color scheme for fitted estimators */\n",
       "  --sklearn-color-fitted-level-0: #f0f8ff;\n",
       "  --sklearn-color-fitted-level-1: #d4ebff;\n",
       "  --sklearn-color-fitted-level-2: #b3dbfd;\n",
       "  --sklearn-color-fitted-level-3: cornflowerblue;\n",
       "\n",
       "  /* Specific color for light theme */\n",
       "  --sklearn-color-text-on-default-background: var(--sg-text-color, var(--theme-code-foreground, var(--jp-content-font-color1, black)));\n",
       "  --sklearn-color-background: var(--sg-background-color, var(--theme-background, var(--jp-layout-color0, white)));\n",
       "  --sklearn-color-border-box: var(--sg-text-color, var(--theme-code-foreground, var(--jp-content-font-color1, black)));\n",
       "  --sklearn-color-icon: #696969;\n",
       "\n",
       "  @media (prefers-color-scheme: dark) {\n",
       "    /* Redefinition of color scheme for dark theme */\n",
       "    --sklearn-color-text-on-default-background: var(--sg-text-color, var(--theme-code-foreground, var(--jp-content-font-color1, white)));\n",
       "    --sklearn-color-background: var(--sg-background-color, var(--theme-background, var(--jp-layout-color0, #111)));\n",
       "    --sklearn-color-border-box: var(--sg-text-color, var(--theme-code-foreground, var(--jp-content-font-color1, white)));\n",
       "    --sklearn-color-icon: #878787;\n",
       "  }\n",
       "}\n",
       "\n",
       "#sk-container-id-14 {\n",
       "  color: var(--sklearn-color-text);\n",
       "}\n",
       "\n",
       "#sk-container-id-14 pre {\n",
       "  padding: 0;\n",
       "}\n",
       "\n",
       "#sk-container-id-14 input.sk-hidden--visually {\n",
       "  border: 0;\n",
       "  clip: rect(1px 1px 1px 1px);\n",
       "  clip: rect(1px, 1px, 1px, 1px);\n",
       "  height: 1px;\n",
       "  margin: -1px;\n",
       "  overflow: hidden;\n",
       "  padding: 0;\n",
       "  position: absolute;\n",
       "  width: 1px;\n",
       "}\n",
       "\n",
       "#sk-container-id-14 div.sk-dashed-wrapped {\n",
       "  border: 1px dashed var(--sklearn-color-line);\n",
       "  margin: 0 0.4em 0.5em 0.4em;\n",
       "  box-sizing: border-box;\n",
       "  padding-bottom: 0.4em;\n",
       "  background-color: var(--sklearn-color-background);\n",
       "}\n",
       "\n",
       "#sk-container-id-14 div.sk-container {\n",
       "  /* jupyter's `normalize.less` sets `[hidden] { display: none; }`\n",
       "     but bootstrap.min.css set `[hidden] { display: none !important; }`\n",
       "     so we also need the `!important` here to be able to override the\n",
       "     default hidden behavior on the sphinx rendered scikit-learn.org.\n",
       "     See: https://github.com/scikit-learn/scikit-learn/issues/21755 */\n",
       "  display: inline-block !important;\n",
       "  position: relative;\n",
       "}\n",
       "\n",
       "#sk-container-id-14 div.sk-text-repr-fallback {\n",
       "  display: none;\n",
       "}\n",
       "\n",
       "div.sk-parallel-item,\n",
       "div.sk-serial,\n",
       "div.sk-item {\n",
       "  /* draw centered vertical line to link estimators */\n",
       "  background-image: linear-gradient(var(--sklearn-color-text-on-default-background), var(--sklearn-color-text-on-default-background));\n",
       "  background-size: 2px 100%;\n",
       "  background-repeat: no-repeat;\n",
       "  background-position: center center;\n",
       "}\n",
       "\n",
       "/* Parallel-specific style estimator block */\n",
       "\n",
       "#sk-container-id-14 div.sk-parallel-item::after {\n",
       "  content: \"\";\n",
       "  width: 100%;\n",
       "  border-bottom: 2px solid var(--sklearn-color-text-on-default-background);\n",
       "  flex-grow: 1;\n",
       "}\n",
       "\n",
       "#sk-container-id-14 div.sk-parallel {\n",
       "  display: flex;\n",
       "  align-items: stretch;\n",
       "  justify-content: center;\n",
       "  background-color: var(--sklearn-color-background);\n",
       "  position: relative;\n",
       "}\n",
       "\n",
       "#sk-container-id-14 div.sk-parallel-item {\n",
       "  display: flex;\n",
       "  flex-direction: column;\n",
       "}\n",
       "\n",
       "#sk-container-id-14 div.sk-parallel-item:first-child::after {\n",
       "  align-self: flex-end;\n",
       "  width: 50%;\n",
       "}\n",
       "\n",
       "#sk-container-id-14 div.sk-parallel-item:last-child::after {\n",
       "  align-self: flex-start;\n",
       "  width: 50%;\n",
       "}\n",
       "\n",
       "#sk-container-id-14 div.sk-parallel-item:only-child::after {\n",
       "  width: 0;\n",
       "}\n",
       "\n",
       "/* Serial-specific style estimator block */\n",
       "\n",
       "#sk-container-id-14 div.sk-serial {\n",
       "  display: flex;\n",
       "  flex-direction: column;\n",
       "  align-items: center;\n",
       "  background-color: var(--sklearn-color-background);\n",
       "  padding-right: 1em;\n",
       "  padding-left: 1em;\n",
       "}\n",
       "\n",
       "\n",
       "/* Toggleable style: style used for estimator/Pipeline/ColumnTransformer box that is\n",
       "clickable and can be expanded/collapsed.\n",
       "- Pipeline and ColumnTransformer use this feature and define the default style\n",
       "- Estimators will overwrite some part of the style using the `sk-estimator` class\n",
       "*/\n",
       "\n",
       "/* Pipeline and ColumnTransformer style (default) */\n",
       "\n",
       "#sk-container-id-14 div.sk-toggleable {\n",
       "  /* Default theme specific background. It is overwritten whether we have a\n",
       "  specific estimator or a Pipeline/ColumnTransformer */\n",
       "  background-color: var(--sklearn-color-background);\n",
       "}\n",
       "\n",
       "/* Toggleable label */\n",
       "#sk-container-id-14 label.sk-toggleable__label {\n",
       "  cursor: pointer;\n",
       "  display: block;\n",
       "  width: 100%;\n",
       "  margin-bottom: 0;\n",
       "  padding: 0.5em;\n",
       "  box-sizing: border-box;\n",
       "  text-align: center;\n",
       "}\n",
       "\n",
       "#sk-container-id-14 label.sk-toggleable__label-arrow:before {\n",
       "  /* Arrow on the left of the label */\n",
       "  content: \"▸\";\n",
       "  float: left;\n",
       "  margin-right: 0.25em;\n",
       "  color: var(--sklearn-color-icon);\n",
       "}\n",
       "\n",
       "#sk-container-id-14 label.sk-toggleable__label-arrow:hover:before {\n",
       "  color: var(--sklearn-color-text);\n",
       "}\n",
       "\n",
       "/* Toggleable content - dropdown */\n",
       "\n",
       "#sk-container-id-14 div.sk-toggleable__content {\n",
       "  max-height: 0;\n",
       "  max-width: 0;\n",
       "  overflow: hidden;\n",
       "  text-align: left;\n",
       "  /* unfitted */\n",
       "  background-color: var(--sklearn-color-unfitted-level-0);\n",
       "}\n",
       "\n",
       "#sk-container-id-14 div.sk-toggleable__content.fitted {\n",
       "  /* fitted */\n",
       "  background-color: var(--sklearn-color-fitted-level-0);\n",
       "}\n",
       "\n",
       "#sk-container-id-14 div.sk-toggleable__content pre {\n",
       "  margin: 0.2em;\n",
       "  border-radius: 0.25em;\n",
       "  color: var(--sklearn-color-text);\n",
       "  /* unfitted */\n",
       "  background-color: var(--sklearn-color-unfitted-level-0);\n",
       "}\n",
       "\n",
       "#sk-container-id-14 div.sk-toggleable__content.fitted pre {\n",
       "  /* unfitted */\n",
       "  background-color: var(--sklearn-color-fitted-level-0);\n",
       "}\n",
       "\n",
       "#sk-container-id-14 input.sk-toggleable__control:checked~div.sk-toggleable__content {\n",
       "  /* Expand drop-down */\n",
       "  max-height: 200px;\n",
       "  max-width: 100%;\n",
       "  overflow: auto;\n",
       "}\n",
       "\n",
       "#sk-container-id-14 input.sk-toggleable__control:checked~label.sk-toggleable__label-arrow:before {\n",
       "  content: \"▾\";\n",
       "}\n",
       "\n",
       "/* Pipeline/ColumnTransformer-specific style */\n",
       "\n",
       "#sk-container-id-14 div.sk-label input.sk-toggleable__control:checked~label.sk-toggleable__label {\n",
       "  color: var(--sklearn-color-text);\n",
       "  background-color: var(--sklearn-color-unfitted-level-2);\n",
       "}\n",
       "\n",
       "#sk-container-id-14 div.sk-label.fitted input.sk-toggleable__control:checked~label.sk-toggleable__label {\n",
       "  background-color: var(--sklearn-color-fitted-level-2);\n",
       "}\n",
       "\n",
       "/* Estimator-specific style */\n",
       "\n",
       "/* Colorize estimator box */\n",
       "#sk-container-id-14 div.sk-estimator input.sk-toggleable__control:checked~label.sk-toggleable__label {\n",
       "  /* unfitted */\n",
       "  background-color: var(--sklearn-color-unfitted-level-2);\n",
       "}\n",
       "\n",
       "#sk-container-id-14 div.sk-estimator.fitted input.sk-toggleable__control:checked~label.sk-toggleable__label {\n",
       "  /* fitted */\n",
       "  background-color: var(--sklearn-color-fitted-level-2);\n",
       "}\n",
       "\n",
       "#sk-container-id-14 div.sk-label label.sk-toggleable__label,\n",
       "#sk-container-id-14 div.sk-label label {\n",
       "  /* The background is the default theme color */\n",
       "  color: var(--sklearn-color-text-on-default-background);\n",
       "}\n",
       "\n",
       "/* On hover, darken the color of the background */\n",
       "#sk-container-id-14 div.sk-label:hover label.sk-toggleable__label {\n",
       "  color: var(--sklearn-color-text);\n",
       "  background-color: var(--sklearn-color-unfitted-level-2);\n",
       "}\n",
       "\n",
       "/* Label box, darken color on hover, fitted */\n",
       "#sk-container-id-14 div.sk-label.fitted:hover label.sk-toggleable__label.fitted {\n",
       "  color: var(--sklearn-color-text);\n",
       "  background-color: var(--sklearn-color-fitted-level-2);\n",
       "}\n",
       "\n",
       "/* Estimator label */\n",
       "\n",
       "#sk-container-id-14 div.sk-label label {\n",
       "  font-family: monospace;\n",
       "  font-weight: bold;\n",
       "  display: inline-block;\n",
       "  line-height: 1.2em;\n",
       "}\n",
       "\n",
       "#sk-container-id-14 div.sk-label-container {\n",
       "  text-align: center;\n",
       "}\n",
       "\n",
       "/* Estimator-specific */\n",
       "#sk-container-id-14 div.sk-estimator {\n",
       "  font-family: monospace;\n",
       "  border: 1px dotted var(--sklearn-color-border-box);\n",
       "  border-radius: 0.25em;\n",
       "  box-sizing: border-box;\n",
       "  margin-bottom: 0.5em;\n",
       "  /* unfitted */\n",
       "  background-color: var(--sklearn-color-unfitted-level-0);\n",
       "}\n",
       "\n",
       "#sk-container-id-14 div.sk-estimator.fitted {\n",
       "  /* fitted */\n",
       "  background-color: var(--sklearn-color-fitted-level-0);\n",
       "}\n",
       "\n",
       "/* on hover */\n",
       "#sk-container-id-14 div.sk-estimator:hover {\n",
       "  /* unfitted */\n",
       "  background-color: var(--sklearn-color-unfitted-level-2);\n",
       "}\n",
       "\n",
       "#sk-container-id-14 div.sk-estimator.fitted:hover {\n",
       "  /* fitted */\n",
       "  background-color: var(--sklearn-color-fitted-level-2);\n",
       "}\n",
       "\n",
       "/* Specification for estimator info (e.g. \"i\" and \"?\") */\n",
       "\n",
       "/* Common style for \"i\" and \"?\" */\n",
       "\n",
       ".sk-estimator-doc-link,\n",
       "a:link.sk-estimator-doc-link,\n",
       "a:visited.sk-estimator-doc-link {\n",
       "  float: right;\n",
       "  font-size: smaller;\n",
       "  line-height: 1em;\n",
       "  font-family: monospace;\n",
       "  background-color: var(--sklearn-color-background);\n",
       "  border-radius: 1em;\n",
       "  height: 1em;\n",
       "  width: 1em;\n",
       "  text-decoration: none !important;\n",
       "  margin-left: 1ex;\n",
       "  /* unfitted */\n",
       "  border: var(--sklearn-color-unfitted-level-1) 1pt solid;\n",
       "  color: var(--sklearn-color-unfitted-level-1);\n",
       "}\n",
       "\n",
       ".sk-estimator-doc-link.fitted,\n",
       "a:link.sk-estimator-doc-link.fitted,\n",
       "a:visited.sk-estimator-doc-link.fitted {\n",
       "  /* fitted */\n",
       "  border: var(--sklearn-color-fitted-level-1) 1pt solid;\n",
       "  color: var(--sklearn-color-fitted-level-1);\n",
       "}\n",
       "\n",
       "/* On hover */\n",
       "div.sk-estimator:hover .sk-estimator-doc-link:hover,\n",
       ".sk-estimator-doc-link:hover,\n",
       "div.sk-label-container:hover .sk-estimator-doc-link:hover,\n",
       ".sk-estimator-doc-link:hover {\n",
       "  /* unfitted */\n",
       "  background-color: var(--sklearn-color-unfitted-level-3);\n",
       "  color: var(--sklearn-color-background);\n",
       "  text-decoration: none;\n",
       "}\n",
       "\n",
       "div.sk-estimator.fitted:hover .sk-estimator-doc-link.fitted:hover,\n",
       ".sk-estimator-doc-link.fitted:hover,\n",
       "div.sk-label-container:hover .sk-estimator-doc-link.fitted:hover,\n",
       ".sk-estimator-doc-link.fitted:hover {\n",
       "  /* fitted */\n",
       "  background-color: var(--sklearn-color-fitted-level-3);\n",
       "  color: var(--sklearn-color-background);\n",
       "  text-decoration: none;\n",
       "}\n",
       "\n",
       "/* Span, style for the box shown on hovering the info icon */\n",
       ".sk-estimator-doc-link span {\n",
       "  display: none;\n",
       "  z-index: 9999;\n",
       "  position: relative;\n",
       "  font-weight: normal;\n",
       "  right: .2ex;\n",
       "  padding: .5ex;\n",
       "  margin: .5ex;\n",
       "  width: min-content;\n",
       "  min-width: 20ex;\n",
       "  max-width: 50ex;\n",
       "  color: var(--sklearn-color-text);\n",
       "  box-shadow: 2pt 2pt 4pt #999;\n",
       "  /* unfitted */\n",
       "  background: var(--sklearn-color-unfitted-level-0);\n",
       "  border: .5pt solid var(--sklearn-color-unfitted-level-3);\n",
       "}\n",
       "\n",
       ".sk-estimator-doc-link.fitted span {\n",
       "  /* fitted */\n",
       "  background: var(--sklearn-color-fitted-level-0);\n",
       "  border: var(--sklearn-color-fitted-level-3);\n",
       "}\n",
       "\n",
       ".sk-estimator-doc-link:hover span {\n",
       "  display: block;\n",
       "}\n",
       "\n",
       "/* \"?\"-specific style due to the `<a>` HTML tag */\n",
       "\n",
       "#sk-container-id-14 a.estimator_doc_link {\n",
       "  float: right;\n",
       "  font-size: 1rem;\n",
       "  line-height: 1em;\n",
       "  font-family: monospace;\n",
       "  background-color: var(--sklearn-color-background);\n",
       "  border-radius: 1rem;\n",
       "  height: 1rem;\n",
       "  width: 1rem;\n",
       "  text-decoration: none;\n",
       "  /* unfitted */\n",
       "  color: var(--sklearn-color-unfitted-level-1);\n",
       "  border: var(--sklearn-color-unfitted-level-1) 1pt solid;\n",
       "}\n",
       "\n",
       "#sk-container-id-14 a.estimator_doc_link.fitted {\n",
       "  /* fitted */\n",
       "  border: var(--sklearn-color-fitted-level-1) 1pt solid;\n",
       "  color: var(--sklearn-color-fitted-level-1);\n",
       "}\n",
       "\n",
       "/* On hover */\n",
       "#sk-container-id-14 a.estimator_doc_link:hover {\n",
       "  /* unfitted */\n",
       "  background-color: var(--sklearn-color-unfitted-level-3);\n",
       "  color: var(--sklearn-color-background);\n",
       "  text-decoration: none;\n",
       "}\n",
       "\n",
       "#sk-container-id-14 a.estimator_doc_link.fitted:hover {\n",
       "  /* fitted */\n",
       "  background-color: var(--sklearn-color-fitted-level-3);\n",
       "}\n",
       "</style><div id=\"sk-container-id-14\" class=\"sk-top-container\"><div class=\"sk-text-repr-fallback\"><pre>GradientBoostingClassifier(learning_rate=0.01, max_features=&#x27;sqrt&#x27;,\n",
       "                           min_samples_leaf=5, min_samples_split=12,\n",
       "                           n_estimators=15, subsample=0.8)</pre><b>In a Jupyter environment, please rerun this cell to show the HTML representation or trust the notebook. <br />On GitHub, the HTML representation is unable to render, please try loading this page with nbviewer.org.</b></div><div class=\"sk-container\" hidden><div class=\"sk-item\"><div class=\"sk-estimator fitted sk-toggleable\"><input class=\"sk-toggleable__control sk-hidden--visually\" id=\"sk-estimator-id-38\" type=\"checkbox\" checked><label for=\"sk-estimator-id-38\" class=\"sk-toggleable__label fitted sk-toggleable__label-arrow fitted\">&nbsp;&nbsp;GradientBoostingClassifier<a class=\"sk-estimator-doc-link fitted\" rel=\"noreferrer\" target=\"_blank\" href=\"https://scikit-learn.org/1.5/modules/generated/sklearn.ensemble.GradientBoostingClassifier.html\">?<span>Documentation for GradientBoostingClassifier</span></a><span class=\"sk-estimator-doc-link fitted\">i<span>Fitted</span></span></label><div class=\"sk-toggleable__content fitted\"><pre>GradientBoostingClassifier(learning_rate=0.01, max_features=&#x27;sqrt&#x27;,\n",
       "                           min_samples_leaf=5, min_samples_split=12,\n",
       "                           n_estimators=15, subsample=0.8)</pre></div> </div></div></div></div>"
      ],
      "text/plain": [
       "GradientBoostingClassifier(learning_rate=0.01, max_features='sqrt',\n",
       "                           min_samples_leaf=5, min_samples_split=12,\n",
       "                           n_estimators=15, subsample=0.8)"
      ]
     },
     "execution_count": 68,
     "metadata": {},
     "output_type": "execute_result"
    }
   ],
   "source": [
    "#Choose all predictors except target & IDcols\n",
    "gbm_tuned_1 = GradientBoostingClassifier(learning_rate=0.01, n_estimators=15,min_samples_split=12,min_samples_leaf=5,\\\n",
    "                                         subsample=0.8,max_features='sqrt')\n",
    "modelfit(gbm_tuned_1,  X_train, y_train,X_test,y_test)"
   ]
  },
  {
   "cell_type": "code",
   "execution_count": 71,
   "id": "54abf900",
   "metadata": {},
   "outputs": [
    {
     "name": "stdout",
     "output_type": "stream",
     "text": [
      "\n",
      "Model Report Train\n",
      "AUC Score : 0.936128\n",
      "Accuracy : 0.8528\n",
      "Precision : 0.8359\n",
      "Recall : 0.878594\n",
      "\n",
      "Model Report Test\n",
      "AUC Score : 0.892430\n",
      "Accuracy : 0.7901\n",
      "Precision : 0.3048\n",
      "Recall : 0.902985\n"
     ]
    },
    {
     "data": {
      "image/png": "[encoded data removed]",
      "text/plain": [
       "<Figure size 1000x500 with 4 Axes>"
      ]
     },
     "metadata": {},
     "output_type": "display_data"
    },
    {
     "name": "stdout",
     "output_type": "stream",
     "text": [
      "CV Score : Mean - 0.827445 | Std - 0.04320537 | Min - 0.7777778 | Max - 0.9047619\n"
     ]
    },
    {
     "data": {
      "text/html": [
       "<style>#sk-container-id-17 {\n",
       "  /* Definition of color scheme common for light and dark mode */\n",
       "  --sklearn-color-text: black;\n",
       "  --sklearn-color-line: gray;\n",
       "  /* Definition of color scheme for unfitted estimators */\n",
       "  --sklearn-color-unfitted-level-0: #fff5e6;\n",
       "  --sklearn-color-unfitted-level-1: #f6e4d2;\n",
       "  --sklearn-color-unfitted-level-2: #ffe0b3;\n",
       "  --sklearn-color-unfitted-level-3: chocolate;\n",
       "  /* Definition of color scheme for fitted estimators */\n",
       "  --sklearn-color-fitted-level-0: #f0f8ff;\n",
       "  --sklearn-color-fitted-level-1: #d4ebff;\n",
       "  --sklearn-color-fitted-level-2: #b3dbfd;\n",
       "  --sklearn-color-fitted-level-3: cornflowerblue;\n",
       "\n",
       "  /* Specific color for light theme */\n",
       "  --sklearn-color-text-on-default-background: var(--sg-text-color, var(--theme-code-foreground, var(--jp-content-font-color1, black)));\n",
       "  --sklearn-color-background: var(--sg-background-color, var(--theme-background, var(--jp-layout-color0, white)));\n",
       "  --sklearn-color-border-box: var(--sg-text-color, var(--theme-code-foreground, var(--jp-content-font-color1, black)));\n",
       "  --sklearn-color-icon: #696969;\n",
       "\n",
       "  @media (prefers-color-scheme: dark) {\n",
       "    /* Redefinition of color scheme for dark theme */\n",
       "    --sklearn-color-text-on-default-background: var(--sg-text-color, var(--theme-code-foreground, var(--jp-content-font-color1, white)));\n",
       "    --sklearn-color-background: var(--sg-background-color, var(--theme-background, var(--jp-layout-color0, #111)));\n",
       "    --sklearn-color-border-box: var(--sg-text-color, var(--theme-code-foreground, var(--jp-content-font-color1, white)));\n",
       "    --sklearn-color-icon: #878787;\n",
       "  }\n",
       "}\n",
       "\n",
       "#sk-container-id-17 {\n",
       "  color: var(--sklearn-color-text);\n",
       "}\n",
       "\n",
       "#sk-container-id-17 pre {\n",
       "  padding: 0;\n",
       "}\n",
       "\n",
       "#sk-container-id-17 input.sk-hidden--visually {\n",
       "  border: 0;\n",
       "  clip: rect(1px 1px 1px 1px);\n",
       "  clip: rect(1px, 1px, 1px, 1px);\n",
       "  height: 1px;\n",
       "  margin: -1px;\n",
       "  overflow: hidden;\n",
       "  padding: 0;\n",
       "  position: absolute;\n",
       "  width: 1px;\n",
       "}\n",
       "\n",
       "#sk-container-id-17 div.sk-dashed-wrapped {\n",
       "  border: 1px dashed var(--sklearn-color-line);\n",
       "  margin: 0 0.4em 0.5em 0.4em;\n",
       "  box-sizing: border-box;\n",
       "  padding-bottom: 0.4em;\n",
       "  background-color: var(--sklearn-color-background);\n",
       "}\n",
       "\n",
       "#sk-container-id-17 div.sk-container {\n",
       "  /* jupyter's `normalize.less` sets `[hidden] { display: none; }`\n",
       "     but bootstrap.min.css set `[hidden] { display: none !important; }`\n",
       "     so we also need the `!important` here to be able to override the\n",
       "     default hidden behavior on the sphinx rendered scikit-learn.org.\n",
       "     See: https://github.com/scikit-learn/scikit-learn/issues/21755 */\n",
       "  display: inline-block !important;\n",
       "  position: relative;\n",
       "}\n",
       "\n",
       "#sk-container-id-17 div.sk-text-repr-fallback {\n",
       "  display: none;\n",
       "}\n",
       "\n",
       "div.sk-parallel-item,\n",
       "div.sk-serial,\n",
       "div.sk-item {\n",
       "  /* draw centered vertical line to link estimators */\n",
       "  background-image: linear-gradient(var(--sklearn-color-text-on-default-background), var(--sklearn-color-text-on-default-background));\n",
       "  background-size: 2px 100%;\n",
       "  background-repeat: no-repeat;\n",
       "  background-position: center center;\n",
       "}\n",
       "\n",
       "/* Parallel-specific style estimator block */\n",
       "\n",
       "#sk-container-id-17 div.sk-parallel-item::after {\n",
       "  content: \"\";\n",
       "  width: 100%;\n",
       "  border-bottom: 2px solid var(--sklearn-color-text-on-default-background);\n",
       "  flex-grow: 1;\n",
       "}\n",
       "\n",
       "#sk-container-id-17 div.sk-parallel {\n",
       "  display: flex;\n",
       "  align-items: stretch;\n",
       "  justify-content: center;\n",
       "  background-color: var(--sklearn-color-background);\n",
       "  position: relative;\n",
       "}\n",
       "\n",
       "#sk-container-id-17 div.sk-parallel-item {\n",
       "  display: flex;\n",
       "  flex-direction: column;\n",
       "}\n",
       "\n",
       "#sk-container-id-17 div.sk-parallel-item:first-child::after {\n",
       "  align-self: flex-end;\n",
       "  width: 50%;\n",
       "}\n",
       "\n",
       "#sk-container-id-17 div.sk-parallel-item:last-child::after {\n",
       "  align-self: flex-start;\n",
       "  width: 50%;\n",
       "}\n",
       "\n",
       "#sk-container-id-17 div.sk-parallel-item:only-child::after {\n",
       "  width: 0;\n",
       "}\n",
       "\n",
       "/* Serial-specific style estimator block */\n",
       "\n",
       "#sk-container-id-17 div.sk-serial {\n",
       "  display: flex;\n",
       "  flex-direction: column;\n",
       "  align-items: center;\n",
       "  background-color: var(--sklearn-color-background);\n",
       "  padding-right: 1em;\n",
       "  padding-left: 1em;\n",
       "}\n",
       "\n",
       "\n",
       "/* Toggleable style: style used for estimator/Pipeline/ColumnTransformer box that is\n",
       "clickable and can be expanded/collapsed.\n",
       "- Pipeline and ColumnTransformer use this feature and define the default style\n",
       "- Estimators will overwrite some part of the style using the `sk-estimator` class\n",
       "*/\n",
       "\n",
       "/* Pipeline and ColumnTransformer style (default) */\n",
       "\n",
       "#sk-container-id-17 div.sk-toggleable {\n",
       "  /* Default theme specific background. It is overwritten whether we have a\n",
       "  specific estimator or a Pipeline/ColumnTransformer */\n",
       "  background-color: var(--sklearn-color-background);\n",
       "}\n",
       "\n",
       "/* Toggleable label */\n",
       "#sk-container-id-17 label.sk-toggleable__label {\n",
       "  cursor: pointer;\n",
       "  display: block;\n",
       "  width: 100%;\n",
       "  margin-bottom: 0;\n",
       "  padding: 0.5em;\n",
       "  box-sizing: border-box;\n",
       "  text-align: center;\n",
       "}\n",
       "\n",
       "#sk-container-id-17 label.sk-toggleable__label-arrow:before {\n",
       "  /* Arrow on the left of the label */\n",
       "  content: \"▸\";\n",
       "  float: left;\n",
       "  margin-right: 0.25em;\n",
       "  color: var(--sklearn-color-icon);\n",
       "}\n",
       "\n",
       "#sk-container-id-17 label.sk-toggleable__label-arrow:hover:before {\n",
       "  color: var(--sklearn-color-text);\n",
       "}\n",
       "\n",
       "/* Toggleable content - dropdown */\n",
       "\n",
       "#sk-container-id-17 div.sk-toggleable__content {\n",
       "  max-height: 0;\n",
       "  max-width: 0;\n",
       "  overflow: hidden;\n",
       "  text-align: left;\n",
       "  /* unfitted */\n",
       "  background-color: var(--sklearn-color-unfitted-level-0);\n",
       "}\n",
       "\n",
       "#sk-container-id-17 div.sk-toggleable__content.fitted {\n",
       "  /* fitted */\n",
       "  background-color: var(--sklearn-color-fitted-level-0);\n",
       "}\n",
       "\n",
       "#sk-container-id-17 div.sk-toggleable__content pre {\n",
       "  margin: 0.2em;\n",
       "  border-radius: 0.25em;\n",
       "  color: var(--sklearn-color-text);\n",
       "  /* unfitted */\n",
       "  background-color: var(--sklearn-color-unfitted-level-0);\n",
       "}\n",
       "\n",
       "#sk-container-id-17 div.sk-toggleable__content.fitted pre {\n",
       "  /* unfitted */\n",
       "  background-color: var(--sklearn-color-fitted-level-0);\n",
       "}\n",
       "\n",
       "#sk-container-id-17 input.sk-toggleable__control:checked~div.sk-toggleable__content {\n",
       "  /* Expand drop-down */\n",
       "  max-height: 200px;\n",
       "  max-width: 100%;\n",
       "  overflow: auto;\n",
       "}\n",
       "\n",
       "#sk-container-id-17 input.sk-toggleable__control:checked~label.sk-toggleable__label-arrow:before {\n",
       "  content: \"▾\";\n",
       "}\n",
       "\n",
       "/* Pipeline/ColumnTransformer-specific style */\n",
       "\n",
       "#sk-container-id-17 div.sk-label input.sk-toggleable__control:checked~label.sk-toggleable__label {\n",
       "  color: var(--sklearn-color-text);\n",
       "  background-color: var(--sklearn-color-unfitted-level-2);\n",
       "}\n",
       "\n",
       "#sk-container-id-17 div.sk-label.fitted input.sk-toggleable__control:checked~label.sk-toggleable__label {\n",
       "  background-color: var(--sklearn-color-fitted-level-2);\n",
       "}\n",
       "\n",
       "/* Estimator-specific style */\n",
       "\n",
       "/* Colorize estimator box */\n",
       "#sk-container-id-17 div.sk-estimator input.sk-toggleable__control:checked~label.sk-toggleable__label {\n",
       "  /* unfitted */\n",
       "  background-color: var(--sklearn-color-unfitted-level-2);\n",
       "}\n",
       "\n",
       "#sk-container-id-17 div.sk-estimator.fitted input.sk-toggleable__control:checked~label.sk-toggleable__label {\n",
       "  /* fitted */\n",
       "  background-color: var(--sklearn-color-fitted-level-2);\n",
       "}\n",
       "\n",
       "#sk-container-id-17 div.sk-label label.sk-toggleable__label,\n",
       "#sk-container-id-17 div.sk-label label {\n",
       "  /* The background is the default theme color */\n",
       "  color: var(--sklearn-color-text-on-default-background);\n",
       "}\n",
       "\n",
       "/* On hover, darken the color of the background */\n",
       "#sk-container-id-17 div.sk-label:hover label.sk-toggleable__label {\n",
       "  color: var(--sklearn-color-text);\n",
       "  background-color: var(--sklearn-color-unfitted-level-2);\n",
       "}\n",
       "\n",
       "/* Label box, darken color on hover, fitted */\n",
       "#sk-container-id-17 div.sk-label.fitted:hover label.sk-toggleable__label.fitted {\n",
       "  color: var(--sklearn-color-text);\n",
       "  background-color: var(--sklearn-color-fitted-level-2);\n",
       "}\n",
       "\n",
       "/* Estimator label */\n",
       "\n",
       "#sk-container-id-17 div.sk-label label {\n",
       "  font-family: monospace;\n",
       "  font-weight: bold;\n",
       "  display: inline-block;\n",
       "  line-height: 1.2em;\n",
       "}\n",
       "\n",
       "#sk-container-id-17 div.sk-label-container {\n",
       "  text-align: center;\n",
       "}\n",
       "\n",
       "/* Estimator-specific */\n",
       "#sk-container-id-17 div.sk-estimator {\n",
       "  font-family: monospace;\n",
       "  border: 1px dotted var(--sklearn-color-border-box);\n",
       "  border-radius: 0.25em;\n",
       "  box-sizing: border-box;\n",
       "  margin-bottom: 0.5em;\n",
       "  /* unfitted */\n",
       "  background-color: var(--sklearn-color-unfitted-level-0);\n",
       "}\n",
       "\n",
       "#sk-container-id-17 div.sk-estimator.fitted {\n",
       "  /* fitted */\n",
       "  background-color: var(--sklearn-color-fitted-level-0);\n",
       "}\n",
       "\n",
       "/* on hover */\n",
       "#sk-container-id-17 div.sk-estimator:hover {\n",
       "  /* unfitted */\n",
       "  background-color: var(--sklearn-color-unfitted-level-2);\n",
       "}\n",
       "\n",
       "#sk-container-id-17 div.sk-estimator.fitted:hover {\n",
       "  /* fitted */\n",
       "  background-color: var(--sklearn-color-fitted-level-2);\n",
       "}\n",
       "\n",
       "/* Specification for estimator info (e.g. \"i\" and \"?\") */\n",
       "\n",
       "/* Common style for \"i\" and \"?\" */\n",
       "\n",
       ".sk-estimator-doc-link,\n",
       "a:link.sk-estimator-doc-link,\n",
       "a:visited.sk-estimator-doc-link {\n",
       "  float: right;\n",
       "  font-size: smaller;\n",
       "  line-height: 1em;\n",
       "  font-family: monospace;\n",
       "  background-color: var(--sklearn-color-background);\n",
       "  border-radius: 1em;\n",
       "  height: 1em;\n",
       "  width: 1em;\n",
       "  text-decoration: none !important;\n",
       "  margin-left: 1ex;\n",
       "  /* unfitted */\n",
       "  border: var(--sklearn-color-unfitted-level-1) 1pt solid;\n",
       "  color: var(--sklearn-color-unfitted-level-1);\n",
       "}\n",
       "\n",
       ".sk-estimator-doc-link.fitted,\n",
       "a:link.sk-estimator-doc-link.fitted,\n",
       "a:visited.sk-estimator-doc-link.fitted {\n",
       "  /* fitted */\n",
       "  border: var(--sklearn-color-fitted-level-1) 1pt solid;\n",
       "  color: var(--sklearn-color-fitted-level-1);\n",
       "}\n",
       "\n",
       "/* On hover */\n",
       "div.sk-estimator:hover .sk-estimator-doc-link:hover,\n",
       ".sk-estimator-doc-link:hover,\n",
       "div.sk-label-container:hover .sk-estimator-doc-link:hover,\n",
       ".sk-estimator-doc-link:hover {\n",
       "  /* unfitted */\n",
       "  background-color: var(--sklearn-color-unfitted-level-3);\n",
       "  color: var(--sklearn-color-background);\n",
       "  text-decoration: none;\n",
       "}\n",
       "\n",
       "div.sk-estimator.fitted:hover .sk-estimator-doc-link.fitted:hover,\n",
       ".sk-estimator-doc-link.fitted:hover,\n",
       "div.sk-label-container:hover .sk-estimator-doc-link.fitted:hover,\n",
       ".sk-estimator-doc-link.fitted:hover {\n",
       "  /* fitted */\n",
       "  background-color: var(--sklearn-color-fitted-level-3);\n",
       "  color: var(--sklearn-color-background);\n",
       "  text-decoration: none;\n",
       "}\n",
       "\n",
       "/* Span, style for the box shown on hovering the info icon */\n",
       ".sk-estimator-doc-link span {\n",
       "  display: none;\n",
       "  z-index: 9999;\n",
       "  position: relative;\n",
       "  font-weight: normal;\n",
       "  right: .2ex;\n",
       "  padding: .5ex;\n",
       "  margin: .5ex;\n",
       "  width: min-content;\n",
       "  min-width: 20ex;\n",
       "  max-width: 50ex;\n",
       "  color: var(--sklearn-color-text);\n",
       "  box-shadow: 2pt 2pt 4pt #999;\n",
       "  /* unfitted */\n",
       "  background: var(--sklearn-color-unfitted-level-0);\n",
       "  border: .5pt solid var(--sklearn-color-unfitted-level-3);\n",
       "}\n",
       "\n",
       ".sk-estimator-doc-link.fitted span {\n",
       "  /* fitted */\n",
       "  background: var(--sklearn-color-fitted-level-0);\n",
       "  border: var(--sklearn-color-fitted-level-3);\n",
       "}\n",
       "\n",
       ".sk-estimator-doc-link:hover span {\n",
       "  display: block;\n",
       "}\n",
       "\n",
       "/* \"?\"-specific style due to the `<a>` HTML tag */\n",
       "\n",
       "#sk-container-id-17 a.estimator_doc_link {\n",
       "  float: right;\n",
       "  font-size: 1rem;\n",
       "  line-height: 1em;\n",
       "  font-family: monospace;\n",
       "  background-color: var(--sklearn-color-background);\n",
       "  border-radius: 1rem;\n",
       "  height: 1rem;\n",
       "  width: 1rem;\n",
       "  text-decoration: none;\n",
       "  /* unfitted */\n",
       "  color: var(--sklearn-color-unfitted-level-1);\n",
       "  border: var(--sklearn-color-unfitted-level-1) 1pt solid;\n",
       "}\n",
       "\n",
       "#sk-container-id-17 a.estimator_doc_link.fitted {\n",
       "  /* fitted */\n",
       "  border: var(--sklearn-color-fitted-level-1) 1pt solid;\n",
       "  color: var(--sklearn-color-fitted-level-1);\n",
       "}\n",
       "\n",
       "/* On hover */\n",
       "#sk-container-id-17 a.estimator_doc_link:hover {\n",
       "  /* unfitted */\n",
       "  background-color: var(--sklearn-color-unfitted-level-3);\n",
       "  color: var(--sklearn-color-background);\n",
       "  text-decoration: none;\n",
       "}\n",
       "\n",
       "#sk-container-id-17 a.estimator_doc_link.fitted:hover {\n",
       "  /* fitted */\n",
       "  background-color: var(--sklearn-color-fitted-level-3);\n",
       "}\n",
       "</style><div id=\"sk-container-id-17\" class=\"sk-top-container\"><div class=\"sk-text-repr-fallback\"><pre>GradientBoostingClassifier(learning_rate=0.01, max_features=&#x27;sqrt&#x27;,\n",
       "                           min_samples_leaf=5, min_samples_split=12,\n",
       "                           n_estimators=15, subsample=0.8)</pre><b>In a Jupyter environment, please rerun this cell to show the HTML representation or trust the notebook. <br />On GitHub, the HTML representation is unable to render, please try loading this page with nbviewer.org.</b></div><div class=\"sk-container\" hidden><div class=\"sk-item\"><div class=\"sk-estimator fitted sk-toggleable\"><input class=\"sk-toggleable__control sk-hidden--visually\" id=\"sk-estimator-id-41\" type=\"checkbox\" checked><label for=\"sk-estimator-id-41\" class=\"sk-toggleable__label fitted sk-toggleable__label-arrow fitted\">&nbsp;&nbsp;GradientBoostingClassifier<a class=\"sk-estimator-doc-link fitted\" rel=\"noreferrer\" target=\"_blank\" href=\"https://scikit-learn.org/1.5/modules/generated/sklearn.ensemble.GradientBoostingClassifier.html\">?<span>Documentation for GradientBoostingClassifier</span></a><span class=\"sk-estimator-doc-link fitted\">i<span>Fitted</span></span></label><div class=\"sk-toggleable__content fitted\"><pre>GradientBoostingClassifier(learning_rate=0.01, max_features=&#x27;sqrt&#x27;,\n",
       "                           min_samples_leaf=5, min_samples_split=12,\n",
       "                           n_estimators=15, subsample=0.8)</pre></div> </div></div></div></div>"
      ],
      "text/plain": [
       "GradientBoostingClassifier(learning_rate=0.01, max_features='sqrt',\n",
       "                           min_samples_leaf=5, min_samples_split=12,\n",
       "                           n_estimators=15, subsample=0.8)"
      ]
     },
     "execution_count": 71,
     "metadata": {},
     "output_type": "execute_result"
    }
   ],
   "source": [
    "#Choose all predictors except target & IDcols\n",
    "gbm_tuned_1 = GradientBoostingClassifier(learning_rate=0.01, n_estimators=15,min_samples_split=12,min_samples_leaf=5,\\\n",
    "                                         subsample=0.8,max_features='sqrt')\n",
    "modelfit(gbm_tuned_1,  X_train, y_train,X_test_all,y_test_all)"
   ]
  },
  {
   "cell_type": "code",
   "execution_count": null,
   "id": "69e21524",
   "metadata": {},
   "outputs": [],
   "source": []
  },
  {
   "cell_type": "code",
   "execution_count": 113,
   "id": "9de06682",
   "metadata": {},
   "outputs": [],
   "source": [
    "mlflow.end_run()"
   ]
  },
  {
   "cell_type": "code",
   "execution_count": 18,
   "id": "85dff344",
   "metadata": {},
   "outputs": [],
   "source": [
    "def modelfit(alg, X_train, y_train, X_test, y_test, printFeatureImportance=True):\n",
    "    with mlflow.start_run():\n",
    "        # Fit the algorithm on the data\n",
    "        alg.fit(X_train, y_train)\n",
    "            \n",
    "        # Predict training set:\n",
    "        dtrain_predictions = alg.predict(X_train)\n",
    "        dtrain_predprob = alg.predict_proba(X_train)[:, 1]\n",
    "\n",
    "        # Predict test set:\n",
    "        dtest_predictions = alg.predict(X_test)\n",
    "        dtest_predprob = alg.predict_proba(X_test)[:, 1]\n",
    "\n",
    "        # Log model parameters\n",
    "        mlflow.log_params(alg.get_params())\n",
    "\n",
    "        # Log metrics for Train\n",
    "        mlflow.log_metric(\"train_auc\", roc_auc_score(y_train, dtrain_predprob))\n",
    "        mlflow.log_metric(\"train_accuracy\", accuracy_score(y_train, dtrain_predictions))\n",
    "        mlflow.log_metric(\"train_precision\", precision_score(y_train, dtrain_predictions))\n",
    "        mlflow.log_metric(\"train_recall\", recall_score(y_train, dtrain_predictions))\n",
    "\n",
    "        # Log metrics for Test\n",
    "        mlflow.log_metric(\"test_auc\", roc_auc_score(y_test, dtest_predprob))\n",
    "        mlflow.log_metric(\"test_accuracy\", accuracy_score(y_test, dtest_predictions))\n",
    "        mlflow.log_metric(\"test_precision\", precision_score(y_test, dtest_predictions))\n",
    "        mlflow.log_metric(\"test_recall\", recall_score(y_test, dtest_predictions))\n",
    "\n",
    "        # Print model report for Train\n",
    "        print(\"\\nModel Report Train\")\n",
    "        print(\"AUC Score : %f\" % roc_auc_score(y_train, dtrain_predprob))\n",
    "        print(\"Accuracy : %.4g\" % accuracy_score(y_train, dtrain_predictions))\n",
    "        print(\"Precision : %.4g\" % precision_score(y_train, dtrain_predictions))\n",
    "        print(\"Recall : %f\" % recall_score(y_train, dtrain_predictions))\n",
    "\n",
    "        # Plot confusion matrix for Train\n",
    "        \n",
    "        #plt.figure(figsize=(10, 5))\n",
    "        #plt.subplot(1, 2, 1)\n",
    "        #sns.heatmap(confusion_matrix(y_train, dtrain_predictions), annot=True, fmt=\"d\", cmap=\"Blues\")\n",
    "        #plt.title(\"Confusion Matrix - Train\")\n",
    "        #plt.xlabel(\"Predicted\")\n",
    "        #plt.ylabel(\"Actual\")\n",
    "\n",
    "        # Log confusion matrix for Train\n",
    "        train_cm = confusion_matrix(y_train, dtrain_predictions)\n",
    "        mlflow.log_artifact(plot_confusion_matrix(train_cm, \"Train\"))\n",
    "\n",
    "        # Print model report for Test\n",
    "        print(\"\\nModel Report Test\")\n",
    "        print(\"AUC Score : %f\" % roc_auc_score(y_test, dtest_predprob))\n",
    "        print(\"Accuracy : %.4g\" % accuracy_score(y_test, dtest_predictions))\n",
    "        print(\"Precision : %.4g\" % precision_score(y_test, dtest_predictions))\n",
    "        print(\"Recall : %f\" % recall_score(y_test, dtest_predictions))\n",
    "\n",
    "        # Plot confusion matrix for Test\n",
    "        #plt.subplot(1, 2, 2)\n",
    "        #sns.heatmap(confusion_matrix(y_test, dtest_predictions), annot=True, fmt=\"d\", cmap=\"Blues\")\n",
    "        #plt.title(\"Confusion Matrix - Test\")\n",
    "        #plt.xlabel(\"Predicted\")\n",
    "        #plt.ylabel(\"Actual\")\n",
    "\n",
    "        # Log confusion matrix for Test\n",
    "        test_cm = confusion_matrix(y_test, dtest_predictions)\n",
    "        mlflow.log_artifact(plot_confusion_matrix(test_cm, \"Test\"))\n",
    "\n",
    "        plt.tight_layout()\n",
    "        plt.show()\n",
    "\n",
    "        # Log the model with input example\n",
    "        input_example = X_train[0:1]   # Use the first row of X_train as an example\n",
    "        mlflow.sklearn.log_model(alg, \"model\", input_example=input_example)\n",
    "        mlflow.log_metric(\"time_cut\", time_cut)\n",
    "    \n",
    "    # Explicitly end the MLflow run\n",
    "    mlflow.end_run()\n",
    "\n",
    "    return alg\n",
    "\n",
    "def plot_confusion_matrix(cm, title):\n",
    "    plt.figure(figsize=(6, 4))\n",
    "    sns.heatmap(cm, annot=True, fmt=\"d\", cmap=\"Blues\")\n",
    "    plt.title(f\"Confusion Matrix - {title}\")\n",
    "    plt.xlabel(\"Predicted\")\n",
    "    plt.ylabel(\"Actual\")\n",
    "    plt.savefig(f\"confusion_matrix_{title}.png\")\n",
    "    plt.close()\n",
    "    return f\"confusion_matrix_{title}.png\""
   ]
  },
  {
   "cell_type": "code",
   "execution_count": null,
   "id": "f1e49aa1",
   "metadata": {},
   "outputs": [],
   "source": []
  },
  {
   "cell_type": "code",
   "execution_count": null,
   "id": "b927e17d",
   "metadata": {},
   "outputs": [],
   "source": []
  },
  {
   "cell_type": "code",
   "execution_count": 19,
   "id": "8be73fc5",
   "metadata": {},
   "outputs": [
    {
     "name": "stdout",
     "output_type": "stream",
     "text": [
      "5\n",
      "\n",
      "Model Report Train\n",
      "AUC Score : 0.930367\n",
      "Accuracy : 0.8587\n",
      "Precision : 0.8391\n",
      "Recall : 0.888268\n",
      "\n",
      "Model Report Test\n",
      "AUC Score : 0.895439\n",
      "Accuracy : 0.8127\n",
      "Precision : 0.245\n",
      "Recall : 0.820225\n"
     ]
    },
    {
     "data": {
      "text/plain": [
       "<Figure size 640x480 with 0 Axes>"
      ]
     },
     "metadata": {},
     "output_type": "display_data"
    },
    {
     "name": "stderr",
     "output_type": "stream",
     "text": [
      "Downloading artifacts: 100%|██████████████████████████████████| 7/7 [00:00<00:00, 1685.04it/s]\n"
     ]
    },
    {
     "name": "stdout",
     "output_type": "stream",
     "text": [
      "20\n",
      "\n",
      "Model Report Train\n",
      "AUC Score : 0.935594\n",
      "Accuracy : 0.8601\n",
      "Precision : 0.8564\n",
      "Recall : 0.865922\n",
      "\n",
      "Model Report Test\n",
      "AUC Score : 0.887673\n",
      "Accuracy : 0.7941\n",
      "Precision : 0.2381\n",
      "Recall : 0.898876\n"
     ]
    },
    {
     "data": {
      "text/plain": [
       "<Figure size 640x480 with 0 Axes>"
      ]
     },
     "metadata": {},
     "output_type": "display_data"
    },
    {
     "name": "stderr",
     "output_type": "stream",
     "text": [
      "Downloading artifacts: 100%|██████████████████████████████████| 7/7 [00:00<00:00, 1610.54it/s]\n"
     ]
    },
    {
     "name": "stdout",
     "output_type": "stream",
     "text": [
      "35\n",
      "\n",
      "Model Report Train\n",
      "AUC Score : 0.920868\n",
      "Accuracy : 0.8364\n",
      "Precision : 0.8051\n",
      "Recall : 0.888268\n",
      "\n",
      "Model Report Test\n",
      "AUC Score : 0.908232\n",
      "Accuracy : 0.8205\n",
      "Precision : 0.2601\n",
      "Recall : 0.865169\n"
     ]
    },
    {
     "data": {
      "text/plain": [
       "<Figure size 640x480 with 0 Axes>"
      ]
     },
     "metadata": {},
     "output_type": "display_data"
    },
    {
     "name": "stderr",
     "output_type": "stream",
     "text": [
      "Downloading artifacts: 100%|██████████████████████████████████| 7/7 [00:00<00:00, 1662.24it/s]\n"
     ]
    },
    {
     "name": "stdout",
     "output_type": "stream",
     "text": [
      "50\n",
      "\n",
      "Model Report Train\n",
      "AUC Score : 0.930825\n",
      "Accuracy : 0.8629\n",
      "Precision : 0.8351\n",
      "Recall : 0.905028\n",
      "\n",
      "Model Report Test\n",
      "AUC Score : 0.896293\n",
      "Accuracy : 0.777\n",
      "Precision : 0.2219\n",
      "Recall : 0.887640\n"
     ]
    },
    {
     "data": {
      "text/plain": [
       "<Figure size 640x480 with 0 Axes>"
      ]
     },
     "metadata": {},
     "output_type": "display_data"
    },
    {
     "name": "stderr",
     "output_type": "stream",
     "text": [
      "Downloading artifacts: 100%|██████████████████████████████████| 7/7 [00:00<00:00, 1578.42it/s]\n"
     ]
    },
    {
     "name": "stdout",
     "output_type": "stream",
     "text": [
      "65\n",
      "\n",
      "Model Report Train\n",
      "AUC Score : 0.940625\n",
      "Accuracy : 0.8713\n",
      "Precision : 0.8736\n",
      "Recall : 0.868715\n",
      "\n",
      "Model Report Test\n",
      "AUC Score : 0.889338\n",
      "Accuracy : 0.8057\n",
      "Precision : 0.2444\n",
      "Recall : 0.865169\n"
     ]
    },
    {
     "data": {
      "text/plain": [
       "<Figure size 640x480 with 0 Axes>"
      ]
     },
     "metadata": {},
     "output_type": "display_data"
    },
    {
     "name": "stderr",
     "output_type": "stream",
     "text": [
      "Downloading artifacts: 100%|██████████████████████████████████| 7/7 [00:00<00:00, 1104.89it/s]\n"
     ]
    },
    {
     "name": "stdout",
     "output_type": "stream",
     "text": [
      "80\n",
      "\n",
      "Model Report Train\n",
      "AUC Score : 0.936278\n",
      "Accuracy : 0.8601\n",
      "Precision : 0.8468\n",
      "Recall : 0.879888\n",
      "\n",
      "Model Report Test\n",
      "AUC Score : 0.892883\n",
      "Accuracy : 0.7995\n",
      "Precision : 0.2334\n",
      "Recall : 0.831461\n"
     ]
    },
    {
     "data": {
      "text/plain": [
       "<Figure size 640x480 with 0 Axes>"
      ]
     },
     "metadata": {},
     "output_type": "display_data"
    },
    {
     "name": "stderr",
     "output_type": "stream",
     "text": [
      "Downloading artifacts: 100%|██████████████████████████████████| 7/7 [00:00<00:00, 1623.27it/s]\n"
     ]
    },
    {
     "name": "stdout",
     "output_type": "stream",
     "text": [
      "95\n",
      "\n",
      "Model Report Train\n",
      "AUC Score : 0.936501\n",
      "Accuracy : 0.8643\n",
      "Precision : 0.8304\n",
      "Recall : 0.916201\n",
      "\n",
      "Model Report Test\n",
      "AUC Score : 0.887734\n",
      "Accuracy : 0.7778\n",
      "Precision : 0.2111\n",
      "Recall : 0.808989\n"
     ]
    },
    {
     "data": {
      "text/plain": [
       "<Figure size 640x480 with 0 Axes>"
      ]
     },
     "metadata": {},
     "output_type": "display_data"
    },
    {
     "name": "stderr",
     "output_type": "stream",
     "text": [
      "Downloading artifacts: 100%|███████████████████████████████████| 7/7 [00:00<00:00, 884.50it/s]\n"
     ]
    },
    {
     "name": "stdout",
     "output_type": "stream",
     "text": [
      "110\n",
      "\n",
      "Model Report Train\n",
      "AUC Score : 0.929878\n",
      "Accuracy : 0.8629\n",
      "Precision : 0.8476\n",
      "Recall : 0.885475\n",
      "\n",
      "Model Report Test\n",
      "AUC Score : 0.881591\n",
      "Accuracy : 0.7809\n",
      "Precision : 0.2187\n",
      "Recall : 0.842697\n"
     ]
    },
    {
     "data": {
      "text/plain": [
       "<Figure size 640x480 with 0 Axes>"
      ]
     },
     "metadata": {},
     "output_type": "display_data"
    },
    {
     "name": "stderr",
     "output_type": "stream",
     "text": [
      "Downloading artifacts: 100%|███████████████████████████████████| 7/7 [00:00<00:00, 873.84it/s]\n"
     ]
    },
    {
     "name": "stdout",
     "output_type": "stream",
     "text": [
      "125\n",
      "\n",
      "Model Report Train\n",
      "AUC Score : 0.931212\n",
      "Accuracy : 0.8699\n",
      "Precision : 0.8496\n",
      "Recall : 0.899441\n",
      "\n",
      "Model Report Test\n",
      "AUC Score : 0.892991\n",
      "Accuracy : 0.8003\n",
      "Precision : 0.2391\n",
      "Recall : 0.865169\n"
     ]
    },
    {
     "data": {
      "text/plain": [
       "<Figure size 640x480 with 0 Axes>"
      ]
     },
     "metadata": {},
     "output_type": "display_data"
    },
    {
     "name": "stderr",
     "output_type": "stream",
     "text": [
      "Downloading artifacts: 100%|███████████████████████████████████| 7/7 [00:00<00:00, 933.46it/s]\n"
     ]
    },
    {
     "name": "stdout",
     "output_type": "stream",
     "text": [
      "140\n",
      "\n",
      "Model Report Train\n",
      "AUC Score : 0.938544\n",
      "Accuracy : 0.8643\n",
      "Precision : 0.8425\n",
      "Recall : 0.896648\n",
      "\n",
      "Model Report Test\n",
      "AUC Score : 0.882867\n",
      "Accuracy : 0.7879\n",
      "Precision : 0.2246\n",
      "Recall : 0.842697\n"
     ]
    },
    {
     "data": {
      "text/plain": [
       "<Figure size 640x480 with 0 Axes>"
      ]
     },
     "metadata": {},
     "output_type": "display_data"
    },
    {
     "name": "stderr",
     "output_type": "stream",
     "text": [
      "Downloading artifacts: 100%|██████████████████████████████████| 7/7 [00:00<00:00, 1123.45it/s]\n"
     ]
    },
    {
     "name": "stdout",
     "output_type": "stream",
     "text": [
      "155\n",
      "\n",
      "Model Report Train\n",
      "AUC Score : 0.916405\n",
      "Accuracy : 0.8392\n",
      "Precision : 0.8275\n",
      "Recall : 0.857542\n",
      "\n",
      "Model Report Test\n",
      "AUC Score : 0.889483\n",
      "Accuracy : 0.7988\n",
      "Precision : 0.2344\n",
      "Recall : 0.842697\n"
     ]
    },
    {
     "data": {
      "text/plain": [
       "<Figure size 640x480 with 0 Axes>"
      ]
     },
     "metadata": {},
     "output_type": "display_data"
    },
    {
     "name": "stderr",
     "output_type": "stream",
     "text": [
      "Downloading artifacts: 100%|███████████████████████████████████| 7/7 [00:00<00:00, 751.80it/s]\n"
     ]
    },
    {
     "name": "stdout",
     "output_type": "stream",
     "text": [
      "170\n",
      "\n",
      "Model Report Train\n",
      "AUC Score : 0.926017\n",
      "Accuracy : 0.8476\n",
      "Precision : 0.8268\n",
      "Recall : 0.879888\n",
      "\n",
      "Model Report Test\n",
      "AUC Score : 0.887486\n",
      "Accuracy : 0.7762\n",
      "Precision : 0.2197\n",
      "Recall : 0.876404\n"
     ]
    },
    {
     "data": {
      "text/plain": [
       "<Figure size 640x480 with 0 Axes>"
      ]
     },
     "metadata": {},
     "output_type": "display_data"
    },
    {
     "name": "stderr",
     "output_type": "stream",
     "text": [
      "Downloading artifacts: 100%|███████████████████████████████████| 7/7 [00:00<00:00, 590.95it/s]\n"
     ]
    },
    {
     "name": "stdout",
     "output_type": "stream",
     "text": [
      "185\n",
      "\n",
      "Model Report Train\n",
      "AUC Score : 0.936267\n",
      "Accuracy : 0.8685\n",
      "Precision : 0.8607\n",
      "Recall : 0.879888\n",
      "\n",
      "Model Report Test\n",
      "AUC Score : 0.883922\n",
      "Accuracy : 0.7778\n",
      "Precision : 0.2178\n",
      "Recall : 0.853933\n"
     ]
    },
    {
     "data": {
      "text/plain": [
       "<Figure size 640x480 with 0 Axes>"
      ]
     },
     "metadata": {},
     "output_type": "display_data"
    },
    {
     "name": "stderr",
     "output_type": "stream",
     "text": [
      "Downloading artifacts: 100%|███████████████████████████████████| 7/7 [00:00<00:00, 694.70it/s]\n"
     ]
    },
    {
     "name": "stdout",
     "output_type": "stream",
     "text": [
      "200\n",
      "\n",
      "Model Report Train\n",
      "AUC Score : 0.936024\n",
      "Accuracy : 0.8629\n",
      "Precision : 0.8591\n",
      "Recall : 0.868715\n",
      "\n",
      "Model Report Test\n",
      "AUC Score : 0.888203\n",
      "Accuracy : 0.7972\n",
      "Precision : 0.2362\n",
      "Recall : 0.865169\n"
     ]
    },
    {
     "data": {
      "text/plain": [
       "<Figure size 640x480 with 0 Axes>"
      ]
     },
     "metadata": {},
     "output_type": "display_data"
    },
    {
     "name": "stderr",
     "output_type": "stream",
     "text": [
      "Downloading artifacts: 100%|██████████████████████████████████| 7/7 [00:00<00:00, 1083.76it/s]\n"
     ]
    },
    {
     "name": "stdout",
     "output_type": "stream",
     "text": [
      "215\n",
      "\n",
      "Model Report Train\n",
      "AUC Score : 0.932617\n",
      "Accuracy : 0.8476\n",
      "Precision : 0.8268\n",
      "Recall : 0.879888\n",
      "\n",
      "Model Report Test\n",
      "AUC Score : 0.890337\n",
      "Accuracy : 0.8019\n",
      "Precision : 0.2406\n",
      "Recall : 0.865169\n"
     ]
    },
    {
     "data": {
      "text/plain": [
       "<Figure size 640x480 with 0 Axes>"
      ]
     },
     "metadata": {},
     "output_type": "display_data"
    },
    {
     "name": "stderr",
     "output_type": "stream",
     "text": [
      "Downloading artifacts: 100%|██████████████████████████████████| 7/7 [00:00<00:00, 1503.87it/s]\n"
     ]
    },
    {
     "name": "stdout",
     "output_type": "stream",
     "text": [
      "230\n",
      "\n",
      "Model Report Train\n",
      "AUC Score : 0.937229\n",
      "Accuracy : 0.8587\n",
      "Precision : 0.856\n",
      "Recall : 0.863128\n",
      "\n",
      "Model Report Test\n",
      "AUC Score : 0.885202\n",
      "Accuracy : 0.7739\n",
      "Precision : 0.2131\n",
      "Recall : 0.842697\n"
     ]
    },
    {
     "data": {
      "text/plain": [
       "<Figure size 640x480 with 0 Axes>"
      ]
     },
     "metadata": {},
     "output_type": "display_data"
    },
    {
     "name": "stderr",
     "output_type": "stream",
     "text": [
      "Downloading artifacts: 100%|███████████████████████████████████| 7/7 [00:00<00:00, 576.64it/s]\n"
     ]
    },
    {
     "name": "stdout",
     "output_type": "stream",
     "text": [
      "245\n",
      "\n",
      "Model Report Train\n",
      "AUC Score : 0.924561\n",
      "Accuracy : 0.8336\n",
      "Precision : 0.8104\n",
      "Recall : 0.871508\n",
      "\n",
      "Model Report Test\n",
      "AUC Score : 0.898966\n",
      "Accuracy : 0.8127\n",
      "Precision : 0.2516\n",
      "Recall : 0.865169\n"
     ]
    },
    {
     "data": {
      "text/plain": [
       "<Figure size 640x480 with 0 Axes>"
      ]
     },
     "metadata": {},
     "output_type": "display_data"
    },
    {
     "name": "stderr",
     "output_type": "stream",
     "text": [
      "Downloading artifacts: 100%|██████████████████████████████████| 7/7 [00:00<00:00, 1054.03it/s]\n"
     ]
    },
    {
     "name": "stdout",
     "output_type": "stream",
     "text": [
      "260\n",
      "\n",
      "Model Report Train\n",
      "AUC Score : 0.942518\n",
      "Accuracy : 0.8643\n",
      "Precision : 0.8595\n",
      "Recall : 0.871508\n",
      "\n",
      "Model Report Test\n",
      "AUC Score : 0.875893\n",
      "Accuracy : 0.7708\n",
      "Precision : 0.2107\n",
      "Recall : 0.842697\n"
     ]
    },
    {
     "data": {
      "text/plain": [
       "<Figure size 640x480 with 0 Axes>"
      ]
     },
     "metadata": {},
     "output_type": "display_data"
    },
    {
     "name": "stderr",
     "output_type": "stream",
     "text": [
      "Downloading artifacts: 100%|███████████████████████████████████| 7/7 [00:00<00:00, 737.34it/s]\n"
     ]
    },
    {
     "name": "stdout",
     "output_type": "stream",
     "text": [
      "275\n",
      "\n",
      "Model Report Train\n",
      "AUC Score : 0.928309\n",
      "Accuracy : 0.8559\n",
      "Precision : 0.8329\n",
      "Recall : 0.891061\n",
      "\n",
      "Model Report Test\n",
      "AUC Score : 0.904762\n",
      "Accuracy : 0.8019\n",
      "Precision : 0.2438\n",
      "Recall : 0.887640\n"
     ]
    },
    {
     "data": {
      "text/plain": [
       "<Figure size 640x480 with 0 Axes>"
      ]
     },
     "metadata": {},
     "output_type": "display_data"
    },
    {
     "name": "stderr",
     "output_type": "stream",
     "text": [
      "Downloading artifacts: 100%|██████████████████████████████████| 7/7 [00:00<00:00, 1090.16it/s]\n"
     ]
    },
    {
     "name": "stdout",
     "output_type": "stream",
     "text": [
      "290\n",
      "\n",
      "Model Report Train\n",
      "AUC Score : 0.929381\n",
      "Accuracy : 0.8559\n",
      "Precision : 0.8455\n",
      "Recall : 0.871508\n",
      "\n",
      "Model Report Test\n",
      "AUC Score : 0.900321\n",
      "Accuracy : 0.7918\n",
      "Precision : 0.236\n",
      "Recall : 0.898876\n"
     ]
    },
    {
     "data": {
      "text/plain": [
       "<Figure size 640x480 with 0 Axes>"
      ]
     },
     "metadata": {},
     "output_type": "display_data"
    },
    {
     "name": "stderr",
     "output_type": "stream",
     "text": [
      "Downloading artifacts: 100%|███████████████████████████████████| 7/7 [00:00<00:00, 831.14it/s]\n"
     ]
    },
    {
     "name": "stdout",
     "output_type": "stream",
     "text": [
      "305\n",
      "\n",
      "Model Report Train\n",
      "AUC Score : 0.926502\n",
      "Accuracy : 0.8601\n",
      "Precision : 0.8413\n",
      "Recall : 0.888268\n",
      "\n",
      "Model Report Test\n",
      "AUC Score : 0.892377\n",
      "Accuracy : 0.8011\n",
      "Precision : 0.2349\n",
      "Recall : 0.831461\n"
     ]
    },
    {
     "data": {
      "text/plain": [
       "<Figure size 640x480 with 0 Axes>"
      ]
     },
     "metadata": {},
     "output_type": "display_data"
    },
    {
     "name": "stderr",
     "output_type": "stream",
     "text": [
      "Downloading artifacts: 100%|███████████████████████████████████| 7/7 [00:00<00:00, 717.66it/s]\n"
     ]
    },
    {
     "name": "stdout",
     "output_type": "stream",
     "text": [
      "320\n",
      "\n",
      "Model Report Train\n",
      "AUC Score : 0.934009\n",
      "Accuracy : 0.8643\n",
      "Precision : 0.8595\n",
      "Recall : 0.871508\n",
      "\n",
      "Model Report Test\n",
      "AUC Score : 0.895753\n",
      "Accuracy : 0.7832\n",
      "Precision : 0.2254\n",
      "Recall : 0.876404\n"
     ]
    },
    {
     "data": {
      "text/plain": [
       "<Figure size 640x480 with 0 Axes>"
      ]
     },
     "metadata": {},
     "output_type": "display_data"
    },
    {
     "name": "stderr",
     "output_type": "stream",
     "text": [
      "Downloading artifacts: 100%|██████████████████████████████████| 7/7 [00:00<00:00, 1352.88it/s]\n"
     ]
    },
    {
     "name": "stdout",
     "output_type": "stream",
     "text": [
      "335\n",
      "\n",
      "Model Report Train\n",
      "AUC Score : 0.926627\n",
      "Accuracy : 0.8531\n",
      "Precision : 0.8447\n",
      "Recall : 0.865922\n",
      "\n",
      "Model Report Test\n",
      "AUC Score : 0.877999\n",
      "Accuracy : 0.7801\n",
      "Precision : 0.2164\n",
      "Recall : 0.831461\n"
     ]
    },
    {
     "data": {
      "text/plain": [
       "<Figure size 640x480 with 0 Axes>"
      ]
     },
     "metadata": {},
     "output_type": "display_data"
    },
    {
     "name": "stderr",
     "output_type": "stream",
     "text": [
      "Downloading artifacts: 100%|███████████████████████████████████| 7/7 [00:00<00:00, 929.24it/s]\n"
     ]
    },
    {
     "name": "stdout",
     "output_type": "stream",
     "text": [
      "350\n",
      "\n",
      "Model Report Train\n",
      "AUC Score : 0.928274\n",
      "Accuracy : 0.842\n",
      "Precision : 0.8232\n",
      "Recall : 0.871508\n",
      "\n",
      "Model Report Test\n",
      "AUC Score : 0.889338\n",
      "Accuracy : 0.7778\n",
      "Precision : 0.221\n",
      "Recall : 0.876404\n"
     ]
    },
    {
     "data": {
      "text/plain": [
       "<Figure size 640x480 with 0 Axes>"
      ]
     },
     "metadata": {},
     "output_type": "display_data"
    },
    {
     "name": "stderr",
     "output_type": "stream",
     "text": [
      "Downloading artifacts: 100%|███████████████████████████████████| 7/7 [00:00<00:00, 771.96it/s]\n"
     ]
    },
    {
     "name": "stdout",
     "output_type": "stream",
     "text": [
      "365\n",
      "\n",
      "Model Report Train\n",
      "AUC Score : 0.933113\n",
      "Accuracy : 0.8601\n",
      "Precision : 0.8468\n",
      "Recall : 0.879888\n",
      "\n",
      "Model Report Test\n",
      "AUC Score : 0.886215\n",
      "Accuracy : 0.7739\n",
      "Precision : 0.2163\n",
      "Recall : 0.865169\n"
     ]
    },
    {
     "data": {
      "text/plain": [
       "<Figure size 640x480 with 0 Axes>"
      ]
     },
     "metadata": {},
     "output_type": "display_data"
    },
    {
     "name": "stderr",
     "output_type": "stream",
     "text": [
      "Downloading artifacts: 100%|██████████████████████████████████| 7/7 [00:00<00:00, 1144.33it/s]\n"
     ]
    },
    {
     "name": "stdout",
     "output_type": "stream",
     "text": [
      "380\n",
      "\n",
      "Model Report Train\n",
      "AUC Score : 0.924362\n",
      "Accuracy : 0.849\n",
      "Precision : 0.8289\n",
      "Recall : 0.879888\n",
      "\n",
      "Model Report Test\n",
      "AUC Score : 0.897132\n",
      "Accuracy : 0.777\n",
      "Precision : 0.2188\n",
      "Recall : 0.865169\n"
     ]
    },
    {
     "data": {
      "text/plain": [
       "<Figure size 640x480 with 0 Axes>"
      ]
     },
     "metadata": {},
     "output_type": "display_data"
    },
    {
     "name": "stderr",
     "output_type": "stream",
     "text": [
      "Downloading artifacts: 100%|██████████████████████████████████| 7/7 [00:00<00:00, 1306.75it/s]\n"
     ]
    },
    {
     "name": "stdout",
     "output_type": "stream",
     "text": [
      "395\n",
      "\n",
      "Model Report Train\n",
      "AUC Score : 0.936975\n",
      "Accuracy : 0.8615\n",
      "Precision : 0.8472\n",
      "Recall : 0.882682\n",
      "\n",
      "Model Report Test\n",
      "AUC Score : 0.891270\n",
      "Accuracy : 0.7653\n",
      "Precision : 0.2098\n",
      "Recall : 0.865169\n"
     ]
    },
    {
     "data": {
      "text/plain": [
       "<Figure size 640x480 with 0 Axes>"
      ]
     },
     "metadata": {},
     "output_type": "display_data"
    },
    {
     "name": "stderr",
     "output_type": "stream",
     "text": [
      "Downloading artifacts: 100%|███████████████████████████████████| 7/7 [00:00<00:00, 837.81it/s]\n"
     ]
    },
    {
     "name": "stdout",
     "output_type": "stream",
     "text": [
      "410\n",
      "\n",
      "Model Report Train\n",
      "AUC Score : 0.938438\n",
      "Accuracy : 0.8671\n",
      "Precision : 0.8623\n",
      "Recall : 0.874302\n",
      "\n",
      "Model Report Test\n",
      "AUC Score : 0.897995\n",
      "Accuracy : 0.7956\n",
      "Precision : 0.2364\n",
      "Recall : 0.876404\n"
     ]
    },
    {
     "data": {
      "text/plain": [
       "<Figure size 640x480 with 0 Axes>"
      ]
     },
     "metadata": {},
     "output_type": "display_data"
    },
    {
     "name": "stderr",
     "output_type": "stream",
     "text": [
      "Downloading artifacts: 100%|███████████████████████████████████| 7/7 [00:00<00:00, 978.80it/s]\n"
     ]
    },
    {
     "name": "stdout",
     "output_type": "stream",
     "text": [
      "425\n",
      "\n",
      "Model Report Train\n",
      "AUC Score : 0.942953\n",
      "Accuracy : 0.8517\n",
      "Precision : 0.8247\n",
      "Recall : 0.893855\n",
      "\n",
      "Model Report Test\n",
      "AUC Score : 0.885915\n",
      "Accuracy : 0.7747\n",
      "Precision : 0.2201\n",
      "Recall : 0.887640\n"
     ]
    },
    {
     "data": {
      "text/plain": [
       "<Figure size 640x480 with 0 Axes>"
      ]
     },
     "metadata": {},
     "output_type": "display_data"
    },
    {
     "name": "stderr",
     "output_type": "stream",
     "text": [
      "Downloading artifacts: 100%|██████████████████████████████████| 7/7 [00:00<00:00, 1178.74it/s]\n"
     ]
    },
    {
     "name": "stdout",
     "output_type": "stream",
     "text": [
      "440\n",
      "\n",
      "Model Report Train\n",
      "AUC Score : 0.925234\n",
      "Accuracy : 0.8573\n",
      "Precision : 0.8282\n",
      "Recall : 0.902235\n",
      "\n",
      "Model Report Test\n",
      "AUC Score : 0.888447\n",
      "Accuracy : 0.8026\n",
      "Precision : 0.2477\n",
      "Recall : 0.910112\n"
     ]
    },
    {
     "data": {
      "text/plain": [
       "<Figure size 640x480 with 0 Axes>"
      ]
     },
     "metadata": {},
     "output_type": "display_data"
    },
    {
     "name": "stderr",
     "output_type": "stream",
     "text": [
      "Downloading artifacts: 100%|██████████████████████████████████| 7/7 [00:00<00:00, 1605.26it/s]\n"
     ]
    },
    {
     "name": "stdout",
     "output_type": "stream",
     "text": [
      "455\n",
      "\n",
      "Model Report Train\n",
      "AUC Score : 0.929127\n",
      "Accuracy : 0.8517\n",
      "Precision : 0.8387\n",
      "Recall : 0.871508\n",
      "\n",
      "Model Report Test\n",
      "AUC Score : 0.892353\n",
      "Accuracy : 0.8011\n",
      "Precision : 0.2399\n",
      "Recall : 0.865169\n"
     ]
    },
    {
     "data": {
      "text/plain": [
       "<Figure size 640x480 with 0 Axes>"
      ]
     },
     "metadata": {},
     "output_type": "display_data"
    },
    {
     "name": "stderr",
     "output_type": "stream",
     "text": [
      "Downloading artifacts: 100%|██████████████████████████████████| 7/7 [00:00<00:00, 1556.91it/s]\n"
     ]
    },
    {
     "name": "stdout",
     "output_type": "stream",
     "text": [
      "470\n",
      "\n",
      "Model Report Train\n",
      "AUC Score : 0.937511\n",
      "Accuracy : 0.8503\n",
      "Precision : 0.826\n",
      "Recall : 0.888268\n",
      "\n",
      "Model Report Test\n",
      "AUC Score : 0.897348\n",
      "Accuracy : 0.8042\n",
      "Precision : 0.2413\n",
      "Recall : 0.853933\n"
     ]
    },
    {
     "data": {
      "text/plain": [
       "<Figure size 640x480 with 0 Axes>"
      ]
     },
     "metadata": {},
     "output_type": "display_data"
    },
    {
     "name": "stderr",
     "output_type": "stream",
     "text": [
      "Downloading artifacts: 100%|██████████████████████████████████| 7/7 [00:00<00:00, 1278.97it/s]\n"
     ]
    },
    {
     "name": "stdout",
     "output_type": "stream",
     "text": [
      "485\n",
      "\n",
      "Model Report Train\n",
      "AUC Score : 0.931658\n",
      "Accuracy : 0.8559\n",
      "Precision : 0.8382\n",
      "Recall : 0.882682\n",
      "\n",
      "Model Report Test\n",
      "AUC Score : 0.882749\n",
      "Accuracy : 0.7887\n",
      "Precision : 0.2252\n",
      "Recall : 0.842697\n"
     ]
    },
    {
     "data": {
      "text/plain": [
       "<Figure size 640x480 with 0 Axes>"
      ]
     },
     "metadata": {},
     "output_type": "display_data"
    },
    {
     "name": "stderr",
     "output_type": "stream",
     "text": [
      "Downloading artifacts: 100%|███████████████████████████████████| 7/7 [00:00<00:00, 717.15it/s]\n"
     ]
    },
    {
     "name": "stdout",
     "output_type": "stream",
     "text": [
      "500\n",
      "\n",
      "Model Report Train\n",
      "AUC Score : 0.928403\n",
      "Accuracy : 0.8503\n",
      "Precision : 0.8294\n",
      "Recall : 0.882682\n",
      "\n",
      "Model Report Test\n",
      "AUC Score : 0.899355\n",
      "Accuracy : 0.7902\n",
      "Precision : 0.233\n",
      "Recall : 0.887640\n"
     ]
    },
    {
     "data": {
      "text/plain": [
       "<Figure size 640x480 with 0 Axes>"
      ]
     },
     "metadata": {},
     "output_type": "display_data"
    },
    {
     "name": "stderr",
     "output_type": "stream",
     "text": [
      "Downloading artifacts: 100%|███████████████████████████████████| 7/7 [00:00<00:00, 667.79it/s]\n"
     ]
    },
    {
     "name": "stdout",
     "output_type": "stream",
     "text": [
      "515\n",
      "\n",
      "Model Report Train\n",
      "AUC Score : 0.937049\n",
      "Accuracy : 0.8699\n",
      "Precision : 0.8515\n",
      "Recall : 0.896648\n",
      "\n",
      "Model Report Test\n",
      "AUC Score : 0.886651\n",
      "Accuracy : 0.7848\n",
      "Precision : 0.2186\n",
      "Recall : 0.820225\n"
     ]
    },
    {
     "data": {
      "text/plain": [
       "<Figure size 640x480 with 0 Axes>"
      ]
     },
     "metadata": {},
     "output_type": "display_data"
    },
    {
     "name": "stderr",
     "output_type": "stream",
     "text": [
      "Downloading artifacts: 100%|███████████████████████████████████| 7/7 [00:00<00:00, 994.96it/s]\n"
     ]
    },
    {
     "name": "stdout",
     "output_type": "stream",
     "text": [
      "530\n",
      "\n",
      "Model Report Train\n",
      "AUC Score : 0.941591\n",
      "Accuracy : 0.8797\n",
      "Precision : 0.8676\n",
      "Recall : 0.896648\n",
      "\n",
      "Model Report Test\n",
      "AUC Score : 0.884320\n",
      "Accuracy : 0.7793\n",
      "Precision : 0.2206\n",
      "Recall : 0.865169\n"
     ]
    },
    {
     "data": {
      "text/plain": [
       "<Figure size 640x480 with 0 Axes>"
      ]
     },
     "metadata": {},
     "output_type": "display_data"
    },
    {
     "name": "stderr",
     "output_type": "stream",
     "text": [
      "Downloading artifacts: 100%|██████████████████████████████████| 7/7 [00:00<00:00, 1848.76it/s]\n"
     ]
    },
    {
     "name": "stdout",
     "output_type": "stream",
     "text": [
      "545\n",
      "\n",
      "Model Report Train\n",
      "AUC Score : 0.935793\n",
      "Accuracy : 0.8601\n",
      "Precision : 0.8377\n",
      "Recall : 0.893855\n",
      "\n",
      "Model Report Test\n",
      "AUC Score : 0.892532\n",
      "Accuracy : 0.7832\n",
      "Precision : 0.2173\n",
      "Recall : 0.820225\n"
     ]
    },
    {
     "data": {
      "text/plain": [
       "<Figure size 640x480 with 0 Axes>"
      ]
     },
     "metadata": {},
     "output_type": "display_data"
    },
    {
     "name": "stderr",
     "output_type": "stream",
     "text": [
      "Downloading artifacts: 100%|██████████████████████████████████| 7/7 [00:00<00:00, 1166.29it/s]\n"
     ]
    },
    {
     "name": "stdout",
     "output_type": "stream",
     "text": [
      "560\n",
      "\n",
      "Model Report Train\n",
      "AUC Score : 0.935813\n",
      "Accuracy : 0.8545\n",
      "Precision : 0.836\n",
      "Recall : 0.882682\n",
      "\n",
      "Model Report Test\n",
      "AUC Score : 0.893821\n",
      "Accuracy : 0.7786\n",
      "Precision : 0.22\n",
      "Recall : 0.865169\n"
     ]
    },
    {
     "data": {
      "text/plain": [
       "<Figure size 640x480 with 0 Axes>"
      ]
     },
     "metadata": {},
     "output_type": "display_data"
    },
    {
     "name": "stderr",
     "output_type": "stream",
     "text": [
      "Downloading artifacts: 100%|██████████████████████████████████| 7/7 [00:00<00:00, 1034.97it/s]\n"
     ]
    },
    {
     "name": "stdout",
     "output_type": "stream",
     "text": [
      "575\n",
      "\n",
      "Model Report Train\n",
      "AUC Score : 0.927140\n",
      "Accuracy : 0.835\n",
      "Precision : 0.8125\n",
      "Recall : 0.871508\n",
      "\n",
      "Model Report Test\n",
      "AUC Score : 0.887594\n",
      "Accuracy : 0.805\n",
      "Precision : 0.242\n",
      "Recall : 0.853933\n"
     ]
    },
    {
     "data": {
      "text/plain": [
       "<Figure size 640x480 with 0 Axes>"
      ]
     },
     "metadata": {},
     "output_type": "display_data"
    },
    {
     "name": "stderr",
     "output_type": "stream",
     "text": [
      "Downloading artifacts: 100%|███████████████████████████████████| 7/7 [00:00<00:00, 741.40it/s]\n"
     ]
    },
    {
     "name": "stdout",
     "output_type": "stream",
     "text": [
      "590\n",
      "\n",
      "Model Report Train\n",
      "AUC Score : 0.946970\n",
      "Accuracy : 0.8769\n",
      "Precision : 0.8729\n",
      "Recall : 0.882682\n",
      "\n",
      "Model Report Test\n",
      "AUC Score : 0.891852\n",
      "Accuracy : 0.7801\n",
      "Precision : 0.2275\n",
      "Recall : 0.910112\n"
     ]
    },
    {
     "data": {
      "text/plain": [
       "<Figure size 640x480 with 0 Axes>"
      ]
     },
     "metadata": {},
     "output_type": "display_data"
    },
    {
     "name": "stderr",
     "output_type": "stream",
     "text": [
      "Downloading artifacts: 100%|██████████████████████████████████| 7/7 [00:00<00:00, 1534.29it/s]\n"
     ]
    },
    {
     "name": "stdout",
     "output_type": "stream",
     "text": [
      "605\n",
      "\n",
      "Model Report Train\n",
      "AUC Score : 0.927065\n",
      "Accuracy : 0.8573\n",
      "Precision : 0.8299\n",
      "Recall : 0.899441\n",
      "\n",
      "Model Report Test\n",
      "AUC Score : 0.885732\n",
      "Accuracy : 0.8065\n",
      "Precision : 0.2403\n",
      "Recall : 0.831461\n"
     ]
    },
    {
     "data": {
      "text/plain": [
       "<Figure size 640x480 with 0 Axes>"
      ]
     },
     "metadata": {},
     "output_type": "display_data"
    },
    {
     "name": "stderr",
     "output_type": "stream",
     "text": [
      "Downloading artifacts: 100%|███████████████████████████████████| 7/7 [00:00<00:00, 763.35it/s]\n"
     ]
    },
    {
     "name": "stdout",
     "output_type": "stream",
     "text": [
      "620\n",
      "\n",
      "Model Report Train\n",
      "AUC Score : 0.929205\n",
      "Accuracy : 0.8462\n",
      "Precision : 0.8316\n",
      "Recall : 0.868715\n",
      "\n",
      "Model Report Test\n",
      "AUC Score : 0.890900\n",
      "Accuracy : 0.8026\n",
      "Precision : 0.243\n",
      "Recall : 0.876404\n"
     ]
    },
    {
     "data": {
      "text/plain": [
       "<Figure size 640x480 with 0 Axes>"
      ]
     },
     "metadata": {},
     "output_type": "display_data"
    },
    {
     "name": "stderr",
     "output_type": "stream",
     "text": [
      "Downloading artifacts: 100%|███████████████████████████████████| 7/7 [00:00<00:00, 963.51it/s]\n"
     ]
    },
    {
     "name": "stdout",
     "output_type": "stream",
     "text": [
      "635\n",
      "\n",
      "Model Report Train\n",
      "AUC Score : 0.949322\n",
      "Accuracy : 0.8699\n",
      "Precision : 0.861\n",
      "Recall : 0.882682\n",
      "\n",
      "Model Report Test\n",
      "AUC Score : 0.887514\n",
      "Accuracy : 0.7747\n",
      "Precision : 0.2153\n",
      "Recall : 0.853933\n"
     ]
    },
    {
     "data": {
      "text/plain": [
       "<Figure size 640x480 with 0 Axes>"
      ]
     },
     "metadata": {},
     "output_type": "display_data"
    },
    {
     "name": "stderr",
     "output_type": "stream",
     "text": [
      "Downloading artifacts: 100%|███████████████████████████████████| 7/7 [00:00<00:00, 868.10it/s]\n"
     ]
    },
    {
     "name": "stdout",
     "output_type": "stream",
     "text": [
      "650\n",
      "\n",
      "Model Report Train\n",
      "AUC Score : 0.928184\n",
      "Accuracy : 0.8643\n",
      "Precision : 0.839\n",
      "Recall : 0.902235\n",
      "\n",
      "Model Report Test\n",
      "AUC Score : 0.891547\n",
      "Accuracy : 0.7778\n",
      "Precision : 0.2128\n",
      "Recall : 0.820225\n"
     ]
    },
    {
     "data": {
      "text/plain": [
       "<Figure size 640x480 with 0 Axes>"
      ]
     },
     "metadata": {},
     "output_type": "display_data"
    },
    {
     "name": "stderr",
     "output_type": "stream",
     "text": [
      "Downloading artifacts: 100%|██████████████████████████████████| 7/7 [00:00<00:00, 1158.60it/s]\n"
     ]
    },
    {
     "name": "stdout",
     "output_type": "stream",
     "text": [
      "665\n",
      "\n",
      "Model Report Train\n",
      "AUC Score : 0.935825\n",
      "Accuracy : 0.8573\n",
      "Precision : 0.8368\n",
      "Recall : 0.888268\n",
      "\n",
      "Model Report Test\n",
      "AUC Score : 0.889798\n",
      "Accuracy : 0.7995\n",
      "Precision : 0.2317\n",
      "Recall : 0.820225\n"
     ]
    },
    {
     "data": {
      "text/plain": [
       "<Figure size 640x480 with 0 Axes>"
      ]
     },
     "metadata": {},
     "output_type": "display_data"
    },
    {
     "name": "stderr",
     "output_type": "stream",
     "text": [
      "Downloading artifacts: 100%|██████████████████████████████████| 7/7 [00:00<00:00, 1028.38it/s]\n"
     ]
    },
    {
     "name": "stdout",
     "output_type": "stream",
     "text": [
      "680\n",
      "\n",
      "Model Report Train\n",
      "AUC Score : 0.924409\n",
      "Accuracy : 0.8462\n",
      "Precision : 0.8163\n",
      "Recall : 0.893855\n",
      "\n",
      "Model Report Test\n",
      "AUC Score : 0.887519\n",
      "Accuracy : 0.8011\n",
      "Precision : 0.2415\n",
      "Recall : 0.876404\n"
     ]
    },
    {
     "data": {
      "text/plain": [
       "<Figure size 640x480 with 0 Axes>"
      ]
     },
     "metadata": {},
     "output_type": "display_data"
    },
    {
     "name": "stderr",
     "output_type": "stream",
     "text": [
      "Downloading artifacts: 100%|███████████████████████████████████| 7/7 [00:00<00:00, 620.17it/s]\n"
     ]
    },
    {
     "name": "stdout",
     "output_type": "stream",
     "text": [
      "695\n",
      "\n",
      "Model Report Train\n",
      "AUC Score : 0.926658\n",
      "Accuracy : 0.8545\n",
      "Precision : 0.836\n",
      "Recall : 0.882682\n",
      "\n",
      "Model Report Test\n",
      "AUC Score : 0.891917\n",
      "Accuracy : 0.8019\n",
      "Precision : 0.234\n",
      "Recall : 0.820225\n"
     ]
    },
    {
     "data": {
      "text/plain": [
       "<Figure size 640x480 with 0 Axes>"
      ]
     },
     "metadata": {},
     "output_type": "display_data"
    },
    {
     "name": "stderr",
     "output_type": "stream",
     "text": [
      "Downloading artifacts: 100%|███████████████████████████████████| 7/7 [00:00<00:00, 880.21it/s]\n"
     ]
    },
    {
     "name": "stdout",
     "output_type": "stream",
     "text": [
      "710\n",
      "\n",
      "Model Report Train\n",
      "AUC Score : 0.932519\n",
      "Accuracy : 0.8657\n",
      "Precision : 0.8484\n",
      "Recall : 0.891061\n",
      "\n",
      "Model Report Test\n",
      "AUC Score : 0.893657\n",
      "Accuracy : 0.7661\n",
      "Precision : 0.212\n",
      "Recall : 0.876404\n"
     ]
    },
    {
     "data": {
      "text/plain": [
       "<Figure size 640x480 with 0 Axes>"
      ]
     },
     "metadata": {},
     "output_type": "display_data"
    },
    {
     "name": "stderr",
     "output_type": "stream",
     "text": [
      "Downloading artifacts: 100%|███████████████████████████████████| 7/7 [00:00<00:00, 745.11it/s]\n"
     ]
    },
    {
     "name": "stdout",
     "output_type": "stream",
     "text": [
      "725\n",
      "\n",
      "Model Report Train\n",
      "AUC Score : 0.940820\n",
      "Accuracy : 0.8671\n",
      "Precision : 0.8583\n",
      "Recall : 0.879888\n",
      "\n",
      "Model Report Test\n",
      "AUC Score : 0.886412\n",
      "Accuracy : 0.7887\n",
      "Precision : 0.2252\n",
      "Recall : 0.842697\n"
     ]
    },
    {
     "data": {
      "text/plain": [
       "<Figure size 640x480 with 0 Axes>"
      ]
     },
     "metadata": {},
     "output_type": "display_data"
    },
    {
     "name": "stderr",
     "output_type": "stream",
     "text": [
      "Downloading artifacts: 100%|███████████████████████████████████| 7/7 [00:00<00:00, 790.70it/s]\n"
     ]
    },
    {
     "name": "stdout",
     "output_type": "stream",
     "text": [
      "740\n",
      "\n",
      "Model Report Train\n",
      "AUC Score : 0.927284\n",
      "Accuracy : 0.8545\n",
      "Precision : 0.824\n",
      "Recall : 0.902235\n",
      "\n",
      "Model Report Test\n",
      "AUC Score : 0.895331\n",
      "Accuracy : 0.7754\n",
      "Precision : 0.2126\n",
      "Recall : 0.831461\n"
     ]
    },
    {
     "data": {
      "text/plain": [
       "<Figure size 640x480 with 0 Axes>"
      ]
     },
     "metadata": {},
     "output_type": "display_data"
    },
    {
     "name": "stderr",
     "output_type": "stream",
     "text": [
      "Downloading artifacts: 100%|██████████████████████████████████| 7/7 [00:00<00:00, 1652.14it/s]\n"
     ]
    },
    {
     "name": "stdout",
     "output_type": "stream",
     "text": [
      "755\n",
      "\n",
      "Model Report Train\n",
      "AUC Score : 0.935246\n",
      "Accuracy : 0.8601\n",
      "Precision : 0.8505\n",
      "Recall : 0.874302\n",
      "\n",
      "Model Report Test\n",
      "AUC Score : 0.885310\n",
      "Accuracy : 0.7716\n",
      "Precision : 0.2129\n",
      "Recall : 0.853933\n"
     ]
    },
    {
     "data": {
      "text/plain": [
       "<Figure size 640x480 with 0 Axes>"
      ]
     },
     "metadata": {},
     "output_type": "display_data"
    },
    {
     "name": "stderr",
     "output_type": "stream",
     "text": [
      "Downloading artifacts: 100%|███████████████████████████████████| 7/7 [00:00<00:00, 923.33it/s]\n"
     ]
    },
    {
     "name": "stdout",
     "output_type": "stream",
     "text": [
      "770\n",
      "\n",
      "Model Report Train\n",
      "AUC Score : 0.928638\n",
      "Accuracy : 0.8559\n",
      "Precision : 0.8382\n",
      "Recall : 0.882682\n",
      "\n",
      "Model Report Test\n",
      "AUC Score : 0.896133\n",
      "Accuracy : 0.805\n",
      "Precision : 0.2437\n",
      "Recall : 0.865169\n"
     ]
    },
    {
     "data": {
      "text/plain": [
       "<Figure size 640x480 with 0 Axes>"
      ]
     },
     "metadata": {},
     "output_type": "display_data"
    },
    {
     "name": "stderr",
     "output_type": "stream",
     "text": [
      "Downloading artifacts: 100%|███████████████████████████████████| 7/7 [00:00<00:00, 781.77it/s]\n"
     ]
    },
    {
     "name": "stdout",
     "output_type": "stream",
     "text": [
      "785\n",
      "\n",
      "Model Report Train\n",
      "AUC Score : 0.928345\n",
      "Accuracy : 0.8531\n",
      "Precision : 0.8303\n",
      "Recall : 0.888268\n",
      "\n",
      "Model Report Test\n",
      "AUC Score : 0.901474\n",
      "Accuracy : 0.7995\n",
      "Precision : 0.2334\n",
      "Recall : 0.831461\n"
     ]
    },
    {
     "data": {
      "text/plain": [
       "<Figure size 640x480 with 0 Axes>"
      ]
     },
     "metadata": {},
     "output_type": "display_data"
    },
    {
     "name": "stderr",
     "output_type": "stream",
     "text": [
      "Downloading artifacts: 100%|██████████████████████████████████| 7/7 [00:00<00:00, 1155.59it/s]\n"
     ]
    },
    {
     "name": "stdout",
     "output_type": "stream",
     "text": [
      "800\n",
      "\n",
      "Model Report Train\n",
      "AUC Score : 0.944052\n",
      "Accuracy : 0.8741\n",
      "Precision : 0.8641\n",
      "Recall : 0.888268\n",
      "\n",
      "Model Report Test\n",
      "AUC Score : 0.883054\n",
      "Accuracy : 0.7848\n",
      "Precision : 0.2251\n",
      "Recall : 0.865169\n"
     ]
    },
    {
     "data": {
      "text/plain": [
       "<Figure size 640x480 with 0 Axes>"
      ]
     },
     "metadata": {},
     "output_type": "display_data"
    },
    {
     "name": "stderr",
     "output_type": "stream",
     "text": [
      "Downloading artifacts: 100%|██████████████████████████████████| 7/7 [00:00<00:00, 1009.22it/s]\n"
     ]
    },
    {
     "name": "stdout",
     "output_type": "stream",
     "text": [
      "815\n",
      "\n",
      "Model Report Train\n",
      "AUC Score : 0.927621\n",
      "Accuracy : 0.8378\n",
      "Precision : 0.827\n",
      "Recall : 0.854749\n",
      "\n",
      "Model Report Test\n",
      "AUC Score : 0.892180\n",
      "Accuracy : 0.8003\n",
      "Precision : 0.2391\n",
      "Recall : 0.865169\n"
     ]
    },
    {
     "data": {
      "text/plain": [
       "<Figure size 640x480 with 0 Axes>"
      ]
     },
     "metadata": {},
     "output_type": "display_data"
    },
    {
     "name": "stderr",
     "output_type": "stream",
     "text": [
      "Downloading artifacts: 100%|██████████████████████████████████| 7/7 [00:00<00:00, 1443.11it/s]\n"
     ]
    },
    {
     "name": "stdout",
     "output_type": "stream",
     "text": [
      "830\n",
      "\n",
      "Model Report Train\n",
      "AUC Score : 0.938692\n",
      "Accuracy : 0.8643\n",
      "Precision : 0.8518\n",
      "Recall : 0.882682\n",
      "\n",
      "Model Report Test\n",
      "AUC Score : 0.887378\n",
      "Accuracy : 0.784\n",
      "Precision : 0.2245\n",
      "Recall : 0.865169\n"
     ]
    },
    {
     "data": {
      "text/plain": [
       "<Figure size 640x480 with 0 Axes>"
      ]
     },
     "metadata": {},
     "output_type": "display_data"
    },
    {
     "name": "stderr",
     "output_type": "stream",
     "text": [
      "Downloading artifacts: 100%|███████████████████████████████████| 7/7 [00:00<00:00, 938.32it/s]\n"
     ]
    },
    {
     "name": "stdout",
     "output_type": "stream",
     "text": [
      "845\n",
      "\n",
      "Model Report Train\n",
      "AUC Score : 0.929401\n",
      "Accuracy : 0.8531\n",
      "Precision : 0.8355\n",
      "Recall : 0.879888\n",
      "\n",
      "Model Report Test\n",
      "AUC Score : 0.889605\n",
      "Accuracy : 0.784\n",
      "Precision : 0.2261\n",
      "Recall : 0.876404\n"
     ]
    },
    {
     "data": {
      "text/plain": [
       "<Figure size 640x480 with 0 Axes>"
      ]
     },
     "metadata": {},
     "output_type": "display_data"
    },
    {
     "name": "stderr",
     "output_type": "stream",
     "text": [
      "Downloading artifacts: 100%|██████████████████████████████████| 7/7 [00:00<00:00, 1327.07it/s]\n"
     ]
    },
    {
     "name": "stdout",
     "output_type": "stream",
     "text": [
      "860\n",
      "\n",
      "Model Report Train\n",
      "AUC Score : 0.939377\n",
      "Accuracy : 0.8629\n",
      "Precision : 0.8591\n",
      "Recall : 0.868715\n",
      "\n",
      "Model Report Test\n",
      "AUC Score : 0.880072\n",
      "Accuracy : 0.7754\n",
      "Precision : 0.2126\n",
      "Recall : 0.831461\n"
     ]
    },
    {
     "data": {
      "text/plain": [
       "<Figure size 640x480 with 0 Axes>"
      ]
     },
     "metadata": {},
     "output_type": "display_data"
    },
    {
     "name": "stderr",
     "output_type": "stream",
     "text": [
      "Downloading artifacts: 100%|███████████████████████████████████| 7/7 [00:00<00:00, 806.26it/s]\n"
     ]
    },
    {
     "name": "stdout",
     "output_type": "stream",
     "text": [
      "875\n",
      "\n",
      "Model Report Train\n",
      "AUC Score : 0.921213\n",
      "Accuracy : 0.8531\n",
      "Precision : 0.841\n",
      "Recall : 0.871508\n",
      "\n",
      "Model Report Test\n",
      "AUC Score : 0.897906\n",
      "Accuracy : 0.7956\n",
      "Precision : 0.2364\n",
      "Recall : 0.876404\n"
     ]
    },
    {
     "data": {
      "text/plain": [
       "<Figure size 640x480 with 0 Axes>"
      ]
     },
     "metadata": {},
     "output_type": "display_data"
    },
    {
     "name": "stderr",
     "output_type": "stream",
     "text": [
      "Downloading artifacts: 100%|██████████████████████████████████| 7/7 [00:00<00:00, 1606.66it/s]\n"
     ]
    },
    {
     "name": "stdout",
     "output_type": "stream",
     "text": [
      "890\n",
      "\n",
      "Model Report Train\n",
      "AUC Score : 0.931971\n",
      "Accuracy : 0.842\n",
      "Precision : 0.8165\n",
      "Recall : 0.882682\n",
      "\n",
      "Model Report Test\n",
      "AUC Score : 0.877220\n",
      "Accuracy : 0.784\n",
      "Precision : 0.2212\n",
      "Recall : 0.842697\n"
     ]
    },
    {
     "data": {
      "text/plain": [
       "<Figure size 640x480 with 0 Axes>"
      ]
     },
     "metadata": {},
     "output_type": "display_data"
    },
    {
     "name": "stderr",
     "output_type": "stream",
     "text": [
      "Downloading artifacts: 100%|██████████████████████████████████| 7/7 [00:00<00:00, 1538.23it/s]\n"
     ]
    },
    {
     "name": "stdout",
     "output_type": "stream",
     "text": [
      "905\n",
      "\n",
      "Model Report Train\n",
      "AUC Score : 0.941552\n",
      "Accuracy : 0.8601\n",
      "Precision : 0.8525\n",
      "Recall : 0.871508\n",
      "\n",
      "Model Report Test\n",
      "AUC Score : 0.896283\n",
      "Accuracy : 0.7964\n",
      "Precision : 0.2387\n",
      "Recall : 0.887640\n"
     ]
    },
    {
     "data": {
      "text/plain": [
       "<Figure size 640x480 with 0 Axes>"
      ]
     },
     "metadata": {},
     "output_type": "display_data"
    },
    {
     "name": "stderr",
     "output_type": "stream",
     "text": [
      "Downloading artifacts: 100%|███████████████████████████████████| 7/7 [00:00<00:00, 958.04it/s]\n"
     ]
    },
    {
     "name": "stdout",
     "output_type": "stream",
     "text": [
      "920\n",
      "\n",
      "Model Report Train\n",
      "AUC Score : 0.933368\n",
      "Accuracy : 0.8713\n",
      "Precision : 0.8446\n",
      "Recall : 0.910615\n",
      "\n",
      "Model Report Test\n",
      "AUC Score : 0.889296\n",
      "Accuracy : 0.7902\n",
      "Precision : 0.2299\n",
      "Recall : 0.865169\n"
     ]
    },
    {
     "data": {
      "text/plain": [
       "<Figure size 640x480 with 0 Axes>"
      ]
     },
     "metadata": {},
     "output_type": "display_data"
    },
    {
     "name": "stderr",
     "output_type": "stream",
     "text": [
      "Downloading artifacts: 100%|███████████████████████████████████| 7/7 [00:00<00:00, 922.20it/s]\n"
     ]
    },
    {
     "name": "stdout",
     "output_type": "stream",
     "text": [
      "935\n",
      "\n",
      "Model Report Train\n",
      "AUC Score : 0.921631\n",
      "Accuracy : 0.842\n",
      "Precision : 0.8198\n",
      "Recall : 0.877095\n",
      "\n",
      "Model Report Test\n",
      "AUC Score : 0.889146\n",
      "Accuracy : 0.7871\n",
      "Precision : 0.2239\n",
      "Recall : 0.842697\n"
     ]
    },
    {
     "data": {
      "text/plain": [
       "<Figure size 640x480 with 0 Axes>"
      ]
     },
     "metadata": {},
     "output_type": "display_data"
    },
    {
     "name": "stderr",
     "output_type": "stream",
     "text": [
      "Downloading artifacts: 100%|███████████████████████████████████| 7/7 [00:00<00:00, 747.21it/s]\n"
     ]
    },
    {
     "name": "stdout",
     "output_type": "stream",
     "text": [
      "950\n",
      "\n",
      "Model Report Train\n",
      "AUC Score : 0.929855\n",
      "Accuracy : 0.8643\n",
      "Precision : 0.8518\n",
      "Recall : 0.882682\n",
      "\n",
      "Model Report Test\n",
      "AUC Score : 0.891181\n",
      "Accuracy : 0.7871\n",
      "Precision : 0.2255\n",
      "Recall : 0.853933\n"
     ]
    },
    {
     "data": {
      "text/plain": [
       "<Figure size 640x480 with 0 Axes>"
      ]
     },
     "metadata": {},
     "output_type": "display_data"
    },
    {
     "name": "stderr",
     "output_type": "stream",
     "text": [
      "Downloading artifacts: 100%|███████████████████████████████████| 7/7 [00:00<00:00, 664.21it/s]\n"
     ]
    },
    {
     "name": "stdout",
     "output_type": "stream",
     "text": [
      "965\n",
      "\n",
      "Model Report Train\n",
      "AUC Score : 0.928947\n",
      "Accuracy : 0.8476\n",
      "Precision : 0.8234\n",
      "Recall : 0.885475\n",
      "\n",
      "Model Report Test\n",
      "AUC Score : 0.891673\n",
      "Accuracy : 0.7801\n",
      "Precision : 0.2244\n",
      "Recall : 0.887640\n"
     ]
    },
    {
     "data": {
      "text/plain": [
       "<Figure size 640x480 with 0 Axes>"
      ]
     },
     "metadata": {},
     "output_type": "display_data"
    },
    {
     "name": "stderr",
     "output_type": "stream",
     "text": [
      "Downloading artifacts: 100%|██████████████████████████████████| 7/7 [00:00<00:00, 1616.75it/s]\n"
     ]
    },
    {
     "name": "stdout",
     "output_type": "stream",
     "text": [
      "980\n",
      "\n",
      "Model Report Train\n",
      "AUC Score : 0.932961\n",
      "Accuracy : 0.8517\n",
      "Precision : 0.8462\n",
      "Recall : 0.860335\n",
      "\n",
      "Model Report Test\n",
      "AUC Score : 0.884888\n",
      "Accuracy : 0.7902\n",
      "Precision : 0.2232\n",
      "Recall : 0.820225\n"
     ]
    },
    {
     "data": {
      "text/plain": [
       "<Figure size 640x480 with 0 Axes>"
      ]
     },
     "metadata": {},
     "output_type": "display_data"
    },
    {
     "name": "stderr",
     "output_type": "stream",
     "text": [
      "Downloading artifacts: 100%|███████████████████████████████████| 7/7 [00:00<00:00, 838.41it/s]\n"
     ]
    },
    {
     "name": "stdout",
     "output_type": "stream",
     "text": [
      "995\n",
      "\n",
      "Model Report Train\n",
      "AUC Score : 0.928603\n",
      "Accuracy : 0.8559\n",
      "Precision : 0.8329\n",
      "Recall : 0.891061\n",
      "\n",
      "Model Report Test\n",
      "AUC Score : 0.884939\n",
      "Accuracy : 0.7793\n",
      "Precision : 0.219\n",
      "Recall : 0.853933\n"
     ]
    },
    {
     "data": {
      "text/plain": [
       "<Figure size 640x480 with 0 Axes>"
      ]
     },
     "metadata": {},
     "output_type": "display_data"
    },
    {
     "name": "stderr",
     "output_type": "stream",
     "text": [
      "Downloading artifacts: 100%|██████████████████████████████████| 7/7 [00:00<00:00, 1090.28it/s]\n"
     ]
    },
    {
     "name": "stdout",
     "output_type": "stream",
     "text": [
      "1010\n",
      "\n",
      "Model Report Train\n",
      "AUC Score : 0.931764\n",
      "Accuracy : 0.8629\n",
      "Precision : 0.8514\n",
      "Recall : 0.879888\n",
      "\n",
      "Model Report Test\n",
      "AUC Score : 0.882806\n",
      "Accuracy : 0.7941\n",
      "Precision : 0.2333\n",
      "Recall : 0.865169\n"
     ]
    },
    {
     "data": {
      "text/plain": [
       "<Figure size 640x480 with 0 Axes>"
      ]
     },
     "metadata": {},
     "output_type": "display_data"
    },
    {
     "name": "stderr",
     "output_type": "stream",
     "text": [
      "Downloading artifacts: 100%|███████████████████████████████████| 7/7 [00:00<00:00, 937.30it/s]\n"
     ]
    },
    {
     "name": "stdout",
     "output_type": "stream",
     "text": [
      "1025\n",
      "\n",
      "Model Report Train\n",
      "AUC Score : 0.929659\n",
      "Accuracy : 0.8517\n",
      "Precision : 0.8333\n",
      "Recall : 0.879888\n",
      "\n",
      "Model Report Test\n",
      "AUC Score : 0.884508\n",
      "Accuracy : 0.7786\n",
      "Precision : 0.2232\n",
      "Recall : 0.887640\n"
     ]
    },
    {
     "data": {
      "text/plain": [
       "<Figure size 640x480 with 0 Axes>"
      ]
     },
     "metadata": {},
     "output_type": "display_data"
    },
    {
     "name": "stderr",
     "output_type": "stream",
     "text": [
      "Downloading artifacts: 100%|██████████████████████████████████| 7/7 [00:00<00:00, 1117.80it/s]\n"
     ]
    },
    {
     "name": "stdout",
     "output_type": "stream",
     "text": [
      "1040\n",
      "\n",
      "Model Report Train\n",
      "AUC Score : 0.926690\n",
      "Accuracy : 0.8517\n",
      "Precision : 0.8387\n",
      "Recall : 0.871508\n",
      "\n",
      "Model Report Test\n",
      "AUC Score : 0.896110\n",
      "Accuracy : 0.7925\n",
      "Precision : 0.2319\n",
      "Recall : 0.865169\n"
     ]
    },
    {
     "data": {
      "text/plain": [
       "<Figure size 640x480 with 0 Axes>"
      ]
     },
     "metadata": {},
     "output_type": "display_data"
    },
    {
     "name": "stderr",
     "output_type": "stream",
     "text": [
      "Downloading artifacts: 100%|███████████████████████████████████| 7/7 [00:00<00:00, 666.49it/s]\n"
     ]
    },
    {
     "name": "stdout",
     "output_type": "stream",
     "text": [
      "1055\n",
      "\n",
      "Model Report Train\n",
      "AUC Score : 0.938516\n",
      "Accuracy : 0.8741\n",
      "Precision : 0.8622\n",
      "Recall : 0.891061\n",
      "\n",
      "Model Report Test\n",
      "AUC Score : 0.873792\n",
      "Accuracy : 0.7692\n",
      "Precision : 0.2062\n",
      "Recall : 0.820225\n"
     ]
    },
    {
     "data": {
      "text/plain": [
       "<Figure size 640x480 with 0 Axes>"
      ]
     },
     "metadata": {},
     "output_type": "display_data"
    },
    {
     "name": "stderr",
     "output_type": "stream",
     "text": [
      "Downloading artifacts: 100%|███████████████████████████████████| 7/7 [00:00<00:00, 893.93it/s]\n"
     ]
    },
    {
     "name": "stdout",
     "output_type": "stream",
     "text": [
      "1070\n",
      "\n",
      "Model Report Train\n",
      "AUC Score : 0.932847\n",
      "Accuracy : 0.8448\n",
      "Precision : 0.8365\n",
      "Recall : 0.857542\n",
      "\n",
      "Model Report Test\n",
      "AUC Score : 0.887504\n",
      "Accuracy : 0.7964\n",
      "Precision : 0.2338\n",
      "Recall : 0.853933\n"
     ]
    },
    {
     "data": {
      "text/plain": [
       "<Figure size 640x480 with 0 Axes>"
      ]
     },
     "metadata": {},
     "output_type": "display_data"
    },
    {
     "name": "stderr",
     "output_type": "stream",
     "text": [
      "Downloading artifacts: 100%|███████████████████████████████████| 7/7 [00:00<00:00, 581.61it/s]\n"
     ]
    },
    {
     "name": "stdout",
     "output_type": "stream",
     "text": [
      "1085\n",
      "\n",
      "Model Report Train\n",
      "AUC Score : 0.929870\n",
      "Accuracy : 0.8545\n",
      "Precision : 0.8414\n",
      "Recall : 0.874302\n",
      "\n",
      "Model Report Test\n",
      "AUC Score : 0.884686\n",
      "Accuracy : 0.7832\n",
      "Precision : 0.2222\n",
      "Recall : 0.853933\n"
     ]
    },
    {
     "data": {
      "text/plain": [
       "<Figure size 640x480 with 0 Axes>"
      ]
     },
     "metadata": {},
     "output_type": "display_data"
    },
    {
     "name": "stderr",
     "output_type": "stream",
     "text": [
      "Downloading artifacts: 100%|███████████████████████████████████| 7/7 [00:00<00:00, 645.09it/s]\n"
     ]
    },
    {
     "name": "stdout",
     "output_type": "stream",
     "text": [
      "1100\n",
      "\n",
      "Model Report Train\n",
      "AUC Score : 0.923517\n",
      "Accuracy : 0.8434\n",
      "Precision : 0.8254\n",
      "Recall : 0.871508\n",
      "\n",
      "Model Report Test\n",
      "AUC Score : 0.887096\n",
      "Accuracy : 0.7988\n",
      "Precision : 0.2377\n",
      "Recall : 0.865169\n"
     ]
    },
    {
     "data": {
      "text/plain": [
       "<Figure size 640x480 with 0 Axes>"
      ]
     },
     "metadata": {},
     "output_type": "display_data"
    },
    {
     "name": "stderr",
     "output_type": "stream",
     "text": [
      "Downloading artifacts: 100%|███████████████████████████████████| 7/7 [00:00<00:00, 638.81it/s]\n"
     ]
    },
    {
     "name": "stdout",
     "output_type": "stream",
     "text": [
      "1115\n",
      "\n",
      "Model Report Train\n",
      "AUC Score : 0.922292\n",
      "Accuracy : 0.8448\n",
      "Precision : 0.8365\n",
      "Recall : 0.857542\n",
      "\n",
      "Model Report Test\n",
      "AUC Score : 0.893141\n",
      "Accuracy : 0.8151\n",
      "Precision : 0.2508\n",
      "Recall : 0.842697\n"
     ]
    },
    {
     "data": {
      "text/plain": [
       "<Figure size 640x480 with 0 Axes>"
      ]
     },
     "metadata": {},
     "output_type": "display_data"
    },
    {
     "name": "stderr",
     "output_type": "stream",
     "text": [
      "Downloading artifacts: 100%|██████████████████████████████████| 7/7 [00:00<00:00, 1097.37it/s]\n"
     ]
    },
    {
     "name": "stdout",
     "output_type": "stream",
     "text": [
      "1130\n",
      "\n",
      "Model Report Train\n",
      "AUC Score : 0.924945\n",
      "Accuracy : 0.8517\n",
      "Precision : 0.8333\n",
      "Recall : 0.879888\n",
      "\n",
      "Model Report Test\n",
      "AUC Score : 0.899735\n",
      "Accuracy : 0.8034\n",
      "Precision : 0.2437\n",
      "Recall : 0.876404\n"
     ]
    },
    {
     "data": {
      "text/plain": [
       "<Figure size 640x480 with 0 Axes>"
      ]
     },
     "metadata": {},
     "output_type": "display_data"
    },
    {
     "name": "stderr",
     "output_type": "stream",
     "text": [
      "Downloading artifacts: 100%|██████████████████████████████████| 7/7 [00:00<00:00, 1570.23it/s]\n"
     ]
    },
    {
     "name": "stdout",
     "output_type": "stream",
     "text": [
      "1145\n",
      "\n",
      "Model Report Train\n",
      "AUC Score : 0.929870\n",
      "Accuracy : 0.8615\n",
      "Precision : 0.8453\n",
      "Recall : 0.885475\n",
      "\n",
      "Model Report Test\n",
      "AUC Score : 0.889624\n",
      "Accuracy : 0.7863\n",
      "Precision : 0.2312\n",
      "Recall : 0.898876\n"
     ]
    },
    {
     "data": {
      "text/plain": [
       "<Figure size 640x480 with 0 Axes>"
      ]
     },
     "metadata": {},
     "output_type": "display_data"
    },
    {
     "name": "stderr",
     "output_type": "stream",
     "text": [
      "Downloading artifacts: 100%|███████████████████████████████████| 7/7 [00:00<00:00, 578.99it/s]\n"
     ]
    },
    {
     "name": "stdout",
     "output_type": "stream",
     "text": [
      "1160\n",
      "\n",
      "Model Report Train\n",
      "AUC Score : 0.937421\n",
      "Accuracy : 0.8657\n",
      "Precision : 0.8541\n",
      "Recall : 0.882682\n",
      "\n",
      "Model Report Test\n",
      "AUC Score : 0.880433\n",
      "Accuracy : 0.7918\n",
      "Precision : 0.2296\n",
      "Recall : 0.853933\n"
     ]
    },
    {
     "data": {
      "text/plain": [
       "<Figure size 640x480 with 0 Axes>"
      ]
     },
     "metadata": {},
     "output_type": "display_data"
    },
    {
     "name": "stderr",
     "output_type": "stream",
     "text": [
      "Downloading artifacts: 100%|██████████████████████████████████| 7/7 [00:00<00:00, 1650.19it/s]\n"
     ]
    },
    {
     "name": "stdout",
     "output_type": "stream",
     "text": [
      "1175\n",
      "\n",
      "Model Report Train\n",
      "AUC Score : 0.927202\n",
      "Accuracy : 0.8615\n",
      "Precision : 0.8509\n",
      "Recall : 0.877095\n",
      "\n",
      "Model Report Test\n",
      "AUC Score : 0.892344\n",
      "Accuracy : 0.7988\n",
      "Precision : 0.236\n",
      "Recall : 0.853933\n"
     ]
    },
    {
     "data": {
      "text/plain": [
       "<Figure size 640x480 with 0 Axes>"
      ]
     },
     "metadata": {},
     "output_type": "display_data"
    },
    {
     "name": "stderr",
     "output_type": "stream",
     "text": [
      "Downloading artifacts: 100%|███████████████████████████████████| 7/7 [00:00<00:00, 678.17it/s]\n"
     ]
    },
    {
     "name": "stdout",
     "output_type": "stream",
     "text": [
      "1190\n",
      "\n",
      "Model Report Train\n",
      "AUC Score : 0.928122\n",
      "Accuracy : 0.8601\n",
      "Precision : 0.8431\n",
      "Recall : 0.885475\n",
      "\n",
      "Model Report Test\n",
      "AUC Score : 0.897629\n",
      "Accuracy : 0.7972\n",
      "Precision : 0.2378\n",
      "Recall : 0.876404\n"
     ]
    },
    {
     "data": {
      "text/plain": [
       "<Figure size 640x480 with 0 Axes>"
      ]
     },
     "metadata": {},
     "output_type": "display_data"
    },
    {
     "name": "stderr",
     "output_type": "stream",
     "text": [
      "Downloading artifacts: 100%|███████████████████████████████████| 7/7 [00:00<00:00, 900.15it/s]\n"
     ]
    },
    {
     "name": "stdout",
     "output_type": "stream",
     "text": [
      "1205\n",
      "\n",
      "Model Report Train\n",
      "AUC Score : 0.934995\n",
      "Accuracy : 0.8629\n",
      "Precision : 0.8533\n",
      "Recall : 0.877095\n",
      "\n",
      "Model Report Test\n",
      "AUC Score : 0.893554\n",
      "Accuracy : 0.7793\n",
      "Precision : 0.219\n",
      "Recall : 0.853933\n"
     ]
    },
    {
     "data": {
      "text/plain": [
       "<Figure size 640x480 with 0 Axes>"
      ]
     },
     "metadata": {},
     "output_type": "display_data"
    },
    {
     "name": "stderr",
     "output_type": "stream",
     "text": [
      "Downloading artifacts: 100%|███████████████████████████████████| 7/7 [00:00<00:00, 803.57it/s]\n"
     ]
    },
    {
     "name": "stdout",
     "output_type": "stream",
     "text": [
      "1220\n",
      "\n",
      "Model Report Train\n",
      "AUC Score : 0.930453\n",
      "Accuracy : 0.8685\n",
      "Precision : 0.8626\n",
      "Recall : 0.877095\n",
      "\n",
      "Model Report Test\n",
      "AUC Score : 0.884705\n",
      "Accuracy : 0.7817\n",
      "Precision : 0.216\n",
      "Recall : 0.820225\n"
     ]
    },
    {
     "data": {
      "text/plain": [
       "<Figure size 640x480 with 0 Axes>"
      ]
     },
     "metadata": {},
     "output_type": "display_data"
    },
    {
     "name": "stderr",
     "output_type": "stream",
     "text": [
      "Downloading artifacts: 100%|███████████████████████████████████| 7/7 [00:00<00:00, 798.07it/s]\n"
     ]
    },
    {
     "name": "stdout",
     "output_type": "stream",
     "text": [
      "1235\n",
      "\n",
      "Model Report Train\n",
      "AUC Score : 0.928701\n",
      "Accuracy : 0.8559\n",
      "Precision : 0.84\n",
      "Recall : 0.879888\n",
      "\n",
      "Model Report Test\n",
      "AUC Score : 0.881333\n",
      "Accuracy : 0.8034\n",
      "Precision : 0.2405\n",
      "Recall : 0.853933\n"
     ]
    },
    {
     "data": {
      "text/plain": [
       "<Figure size 640x480 with 0 Axes>"
      ]
     },
     "metadata": {},
     "output_type": "display_data"
    },
    {
     "name": "stderr",
     "output_type": "stream",
     "text": [
      "Downloading artifacts: 100%|██████████████████████████████████| 7/7 [00:00<00:00, 1000.69it/s]\n"
     ]
    },
    {
     "name": "stdout",
     "output_type": "stream",
     "text": [
      "1250\n",
      "\n",
      "Model Report Train\n",
      "AUC Score : 0.929190\n",
      "Accuracy : 0.842\n",
      "Precision : 0.8338\n",
      "Recall : 0.854749\n",
      "\n",
      "Model Report Test\n",
      "AUC Score : 0.886276\n",
      "Accuracy : 0.8081\n",
      "Precision : 0.2484\n",
      "Recall : 0.876404\n"
     ]
    },
    {
     "data": {
      "text/plain": [
       "<Figure size 640x480 with 0 Axes>"
      ]
     },
     "metadata": {},
     "output_type": "display_data"
    },
    {
     "name": "stderr",
     "output_type": "stream",
     "text": [
      "Downloading artifacts: 100%|██████████████████████████████████| 7/7 [00:00<00:00, 1328.75it/s]\n"
     ]
    },
    {
     "name": "stdout",
     "output_type": "stream",
     "text": [
      "1265\n",
      "\n",
      "Model Report Train\n",
      "AUC Score : 0.922871\n",
      "Accuracy : 0.8322\n",
      "Precision : 0.8115\n",
      "Recall : 0.865922\n",
      "\n",
      "Model Report Test\n",
      "AUC Score : 0.889896\n",
      "Accuracy : 0.7918\n",
      "Precision : 0.2263\n",
      "Recall : 0.831461\n"
     ]
    },
    {
     "data": {
      "text/plain": [
       "<Figure size 640x480 with 0 Axes>"
      ]
     },
     "metadata": {},
     "output_type": "display_data"
    },
    {
     "name": "stderr",
     "output_type": "stream",
     "text": [
      "Downloading artifacts: 100%|██████████████████████████████████| 7/7 [00:00<00:00, 1042.47it/s]\n"
     ]
    },
    {
     "name": "stdout",
     "output_type": "stream",
     "text": [
      "1280\n",
      "\n",
      "Model Report Train\n",
      "AUC Score : 0.934471\n",
      "Accuracy : 0.8531\n",
      "Precision : 0.8391\n",
      "Recall : 0.874302\n",
      "\n",
      "Model Report Test\n",
      "AUC Score : 0.892682\n",
      "Accuracy : 0.7863\n",
      "Precision : 0.2328\n",
      "Recall : 0.910112\n"
     ]
    },
    {
     "data": {
      "text/plain": [
       "<Figure size 640x480 with 0 Axes>"
      ]
     },
     "metadata": {},
     "output_type": "display_data"
    },
    {
     "name": "stderr",
     "output_type": "stream",
     "text": [
      "Downloading artifacts: 100%|███████████████████████████████████| 7/7 [00:00<00:00, 735.22it/s]\n"
     ]
    },
    {
     "name": "stdout",
     "output_type": "stream",
     "text": [
      "1295\n",
      "\n",
      "Model Report Train\n",
      "AUC Score : 0.931991\n",
      "Accuracy : 0.8531\n",
      "Precision : 0.8373\n",
      "Recall : 0.877095\n",
      "\n",
      "Model Report Test\n",
      "AUC Score : 0.906572\n",
      "Accuracy : 0.7988\n",
      "Precision : 0.2377\n",
      "Recall : 0.865169\n"
     ]
    },
    {
     "data": {
      "text/plain": [
       "<Figure size 640x480 with 0 Axes>"
      ]
     },
     "metadata": {},
     "output_type": "display_data"
    },
    {
     "name": "stderr",
     "output_type": "stream",
     "text": [
      "Downloading artifacts: 100%|██████████████████████████████████| 7/7 [00:00<00:00, 1599.31it/s]\n"
     ]
    },
    {
     "name": "stdout",
     "output_type": "stream",
     "text": [
      "1310\n",
      "\n",
      "Model Report Train\n",
      "AUC Score : 0.927257\n",
      "Accuracy : 0.8434\n",
      "Precision : 0.8289\n",
      "Recall : 0.865922\n",
      "\n",
      "Model Report Test\n",
      "AUC Score : 0.886041\n",
      "Accuracy : 0.8011\n",
      "Precision : 0.2415\n",
      "Recall : 0.876404\n"
     ]
    },
    {
     "data": {
      "text/plain": [
       "<Figure size 640x480 with 0 Axes>"
      ]
     },
     "metadata": {},
     "output_type": "display_data"
    },
    {
     "name": "stderr",
     "output_type": "stream",
     "text": [
      "Downloading artifacts: 100%|███████████████████████████████████| 7/7 [00:00<00:00, 707.39it/s]\n"
     ]
    },
    {
     "name": "stdout",
     "output_type": "stream",
     "text": [
      "1325\n",
      "\n",
      "Model Report Train\n",
      "AUC Score : 0.941439\n",
      "Accuracy : 0.8685\n",
      "Precision : 0.8492\n",
      "Recall : 0.896648\n",
      "\n",
      "Model Report Test\n",
      "AUC Score : 0.893099\n",
      "Accuracy : 0.7832\n",
      "Precision : 0.2206\n",
      "Recall : 0.842697\n"
     ]
    },
    {
     "data": {
      "text/plain": [
       "<Figure size 640x480 with 0 Axes>"
      ]
     },
     "metadata": {},
     "output_type": "display_data"
    },
    {
     "name": "stderr",
     "output_type": "stream",
     "text": [
      "Downloading artifacts: 100%|██████████████████████████████████| 7/7 [00:00<00:00, 1623.81it/s]\n"
     ]
    },
    {
     "name": "stdout",
     "output_type": "stream",
     "text": [
      "1340\n",
      "\n",
      "Model Report Train\n",
      "AUC Score : 0.943770\n",
      "Accuracy : 0.8601\n",
      "Precision : 0.8395\n",
      "Recall : 0.891061\n",
      "\n",
      "Model Report Test\n",
      "AUC Score : 0.889938\n",
      "Accuracy : 0.7988\n",
      "Precision : 0.2344\n",
      "Recall : 0.842697\n"
     ]
    },
    {
     "data": {
      "text/plain": [
       "<Figure size 640x480 with 0 Axes>"
      ]
     },
     "metadata": {},
     "output_type": "display_data"
    },
    {
     "name": "stderr",
     "output_type": "stream",
     "text": [
      "Downloading artifacts: 100%|██████████████████████████████████| 7/7 [00:00<00:00, 1134.65it/s]\n"
     ]
    },
    {
     "name": "stdout",
     "output_type": "stream",
     "text": [
      "1355\n",
      "\n",
      "Model Report Train\n",
      "AUC Score : 0.928153\n",
      "Accuracy : 0.8392\n",
      "Precision : 0.8156\n",
      "Recall : 0.877095\n",
      "\n",
      "Model Report Test\n",
      "AUC Score : 0.889483\n",
      "Accuracy : 0.7848\n",
      "Precision : 0.2267\n",
      "Recall : 0.876404\n"
     ]
    },
    {
     "data": {
      "text/plain": [
       "<Figure size 640x480 with 0 Axes>"
      ]
     },
     "metadata": {},
     "output_type": "display_data"
    },
    {
     "name": "stderr",
     "output_type": "stream",
     "text": [
      "Downloading artifacts: 100%|███████████████████████████████████| 7/7 [00:00<00:00, 822.69it/s]\n"
     ]
    },
    {
     "name": "stdout",
     "output_type": "stream",
     "text": [
      "1370\n",
      "\n",
      "Model Report Train\n",
      "AUC Score : 0.931118\n",
      "Accuracy : 0.8615\n",
      "Precision : 0.8548\n",
      "Recall : 0.871508\n",
      "\n",
      "Model Report Test\n",
      "AUC Score : 0.903158\n",
      "Accuracy : 0.8135\n",
      "Precision : 0.2525\n",
      "Recall : 0.865169\n"
     ]
    },
    {
     "data": {
      "text/plain": [
       "<Figure size 640x480 with 0 Axes>"
      ]
     },
     "metadata": {},
     "output_type": "display_data"
    },
    {
     "name": "stderr",
     "output_type": "stream",
     "text": [
      "Downloading artifacts: 100%|███████████████████████████████████| 7/7 [00:00<00:00, 735.97it/s]\n"
     ]
    },
    {
     "name": "stdout",
     "output_type": "stream",
     "text": [
      "1385\n",
      "\n",
      "Model Report Train\n",
      "AUC Score : 0.925708\n",
      "Accuracy : 0.8462\n",
      "Precision : 0.8246\n",
      "Recall : 0.879888\n",
      "\n",
      "Model Report Test\n",
      "AUC Score : 0.888888\n",
      "Accuracy : 0.7972\n",
      "Precision : 0.2362\n",
      "Recall : 0.865169\n"
     ]
    },
    {
     "data": {
      "text/plain": [
       "<Figure size 640x480 with 0 Axes>"
      ]
     },
     "metadata": {},
     "output_type": "display_data"
    },
    {
     "name": "stderr",
     "output_type": "stream",
     "text": [
      "Downloading artifacts: 100%|██████████████████████████████████| 7/7 [00:00<00:00, 1411.88it/s]\n"
     ]
    },
    {
     "name": "stdout",
     "output_type": "stream",
     "text": [
      "1400\n",
      "\n",
      "Model Report Train\n",
      "AUC Score : 0.933501\n",
      "Accuracy : 0.8713\n",
      "Precision : 0.8575\n",
      "Recall : 0.891061\n",
      "\n",
      "Model Report Test\n",
      "AUC Score : 0.882374\n",
      "Accuracy : 0.77\n",
      "Precision : 0.2085\n",
      "Recall : 0.831461\n"
     ]
    },
    {
     "data": {
      "text/plain": [
       "<Figure size 640x480 with 0 Axes>"
      ]
     },
     "metadata": {},
     "output_type": "display_data"
    },
    {
     "name": "stderr",
     "output_type": "stream",
     "text": [
      "Downloading artifacts: 100%|██████████████████████████████████| 7/7 [00:00<00:00, 1196.86it/s]\n"
     ]
    },
    {
     "name": "stdout",
     "output_type": "stream",
     "text": [
      "1415\n",
      "\n",
      "Model Report Train\n",
      "AUC Score : 0.929514\n",
      "Accuracy : 0.8476\n",
      "Precision : 0.8356\n",
      "Recall : 0.865922\n",
      "\n",
      "Model Report Test\n",
      "AUC Score : 0.893033\n",
      "Accuracy : 0.8042\n",
      "Precision : 0.2445\n",
      "Recall : 0.876404\n"
     ]
    },
    {
     "data": {
      "text/plain": [
       "<Figure size 640x480 with 0 Axes>"
      ]
     },
     "metadata": {},
     "output_type": "display_data"
    },
    {
     "name": "stderr",
     "output_type": "stream",
     "text": [
      "Downloading artifacts: 100%|███████████████████████████████████| 7/7 [00:00<00:00, 860.14it/s]\n"
     ]
    },
    {
     "name": "stdout",
     "output_type": "stream",
     "text": [
      "1430\n",
      "\n",
      "Model Report Train\n",
      "AUC Score : 0.928814\n",
      "Accuracy : 0.842\n",
      "Precision : 0.8267\n",
      "Recall : 0.865922\n",
      "\n",
      "Model Report Test\n",
      "AUC Score : 0.902844\n",
      "Accuracy : 0.7956\n",
      "Precision : 0.2364\n",
      "Recall : 0.876404\n"
     ]
    },
    {
     "data": {
      "text/plain": [
       "<Figure size 640x480 with 0 Axes>"
      ]
     },
     "metadata": {},
     "output_type": "display_data"
    },
    {
     "name": "stderr",
     "output_type": "stream",
     "text": [
      "Downloading artifacts: 100%|██████████████████████████████████| 7/7 [00:00<00:00, 1670.09it/s]\n"
     ]
    },
    {
     "name": "stdout",
     "output_type": "stream",
     "text": [
      "1445\n",
      "\n",
      "Model Report Train\n",
      "AUC Score : 0.932922\n",
      "Accuracy : 0.8573\n",
      "Precision : 0.8478\n",
      "Recall : 0.871508\n",
      "\n",
      "Model Report Test\n",
      "AUC Score : 0.888897\n",
      "Accuracy : 0.7918\n",
      "Precision : 0.2328\n",
      "Recall : 0.876404\n"
     ]
    },
    {
     "data": {
      "text/plain": [
       "<Figure size 640x480 with 0 Axes>"
      ]
     },
     "metadata": {},
     "output_type": "display_data"
    },
    {
     "name": "stderr",
     "output_type": "stream",
     "text": [
      "Downloading artifacts: 100%|███████████████████████████████████| 7/7 [00:00<00:00, 851.26it/s]\n"
     ]
    },
    {
     "name": "stdout",
     "output_type": "stream",
     "text": [
      "1460\n",
      "\n",
      "Model Report Train\n",
      "AUC Score : 0.925583\n",
      "Accuracy : 0.8462\n",
      "Precision : 0.8316\n",
      "Recall : 0.868715\n",
      "\n",
      "Model Report Test\n",
      "AUC Score : 0.891294\n",
      "Accuracy : 0.8096\n",
      "Precision : 0.2417\n",
      "Recall : 0.820225\n"
     ]
    },
    {
     "data": {
      "text/plain": [
       "<Figure size 640x480 with 0 Axes>"
      ]
     },
     "metadata": {},
     "output_type": "display_data"
    },
    {
     "name": "stderr",
     "output_type": "stream",
     "text": [
      "Downloading artifacts: 100%|███████████████████████████████████| 7/7 [00:00<00:00, 919.05it/s]\n"
     ]
    },
    {
     "name": "stdout",
     "output_type": "stream",
     "text": [
      "1475\n",
      "\n",
      "Model Report Train\n",
      "AUC Score : 0.932112\n",
      "Accuracy : 0.8406\n",
      "Precision : 0.8245\n",
      "Recall : 0.865922\n",
      "\n",
      "Model Report Test\n",
      "AUC Score : 0.888799\n",
      "Accuracy : 0.7995\n",
      "Precision : 0.2317\n",
      "Recall : 0.820225\n"
     ]
    },
    {
     "data": {
      "text/plain": [
       "<Figure size 640x480 with 0 Axes>"
      ]
     },
     "metadata": {},
     "output_type": "display_data"
    },
    {
     "name": "stderr",
     "output_type": "stream",
     "text": [
      "Downloading artifacts: 100%|███████████████████████████████████| 7/7 [00:00<00:00, 810.69it/s]\n"
     ]
    },
    {
     "name": "stdout",
     "output_type": "stream",
     "text": [
      "1490\n",
      "\n",
      "Model Report Train\n",
      "AUC Score : 0.934745\n",
      "Accuracy : 0.8657\n",
      "Precision : 0.8503\n",
      "Recall : 0.888268\n",
      "\n",
      "Model Report Test\n",
      "AUC Score : 0.891200\n",
      "Accuracy : 0.7863\n",
      "Precision : 0.2312\n",
      "Recall : 0.898876\n"
     ]
    },
    {
     "data": {
      "text/plain": [
       "<Figure size 640x480 with 0 Axes>"
      ]
     },
     "metadata": {},
     "output_type": "display_data"
    },
    {
     "name": "stderr",
     "output_type": "stream",
     "text": [
      "Downloading artifacts: 100%|███████████████████████████████████| 7/7 [00:00<00:00, 945.91it/s]\n"
     ]
    },
    {
     "name": "stdout",
     "output_type": "stream",
     "text": [
      "1505\n",
      "\n",
      "Model Report Train\n",
      "AUC Score : 0.947248\n",
      "Accuracy : 0.8713\n",
      "Precision : 0.8519\n",
      "Recall : 0.899441\n",
      "\n",
      "Model Report Test\n",
      "AUC Score : 0.873563\n",
      "Accuracy : 0.7622\n",
      "Precision : 0.2091\n",
      "Recall : 0.876404\n"
     ]
    },
    {
     "data": {
      "text/plain": [
       "<Figure size 640x480 with 0 Axes>"
      ]
     },
     "metadata": {},
     "output_type": "display_data"
    },
    {
     "name": "stderr",
     "output_type": "stream",
     "text": [
      "Downloading artifacts: 100%|███████████████████████████████████| 7/7 [00:00<00:00, 495.22it/s]\n"
     ]
    },
    {
     "name": "stdout",
     "output_type": "stream",
     "text": [
      "1520\n",
      "\n",
      "Model Report Train\n",
      "AUC Score : 0.915301\n",
      "Accuracy : 0.8434\n",
      "Precision : 0.8203\n",
      "Recall : 0.879888\n",
      "\n",
      "Model Report Test\n",
      "AUC Score : 0.896761\n",
      "Accuracy : 0.805\n",
      "Precision : 0.2484\n",
      "Recall : 0.898876\n"
     ]
    },
    {
     "data": {
      "text/plain": [
       "<Figure size 640x480 with 0 Axes>"
      ]
     },
     "metadata": {},
     "output_type": "display_data"
    },
    {
     "name": "stderr",
     "output_type": "stream",
     "text": [
      "Downloading artifacts: 100%|███████████████████████████████████| 7/7 [00:00<00:00, 939.34it/s]\n"
     ]
    },
    {
     "name": "stdout",
     "output_type": "stream",
     "text": [
      "1535\n",
      "\n",
      "Model Report Train\n",
      "AUC Score : 0.939745\n",
      "Accuracy : 0.8671\n",
      "Precision : 0.8603\n",
      "Recall : 0.877095\n",
      "\n",
      "Model Report Test\n",
      "AUC Score : 0.891936\n",
      "Accuracy : 0.7879\n",
      "Precision : 0.2262\n",
      "Recall : 0.853933\n"
     ]
    },
    {
     "data": {
      "text/plain": [
       "<Figure size 640x480 with 0 Axes>"
      ]
     },
     "metadata": {},
     "output_type": "display_data"
    },
    {
     "name": "stderr",
     "output_type": "stream",
     "text": [
      "Downloading artifacts: 100%|██████████████████████████████████| 7/7 [00:00<00:00, 1369.15it/s]\n"
     ]
    },
    {
     "name": "stdout",
     "output_type": "stream",
     "text": [
      "1550\n",
      "\n",
      "Model Report Train\n",
      "AUC Score : 0.927050\n",
      "Accuracy : 0.8517\n",
      "Precision : 0.8387\n",
      "Recall : 0.871508\n",
      "\n",
      "Model Report Test\n",
      "AUC Score : 0.909114\n",
      "Accuracy : 0.8174\n",
      "Precision : 0.2534\n",
      "Recall : 0.842697\n"
     ]
    },
    {
     "data": {
      "text/plain": [
       "<Figure size 640x480 with 0 Axes>"
      ]
     },
     "metadata": {},
     "output_type": "display_data"
    },
    {
     "name": "stderr",
     "output_type": "stream",
     "text": [
      "Downloading artifacts: 100%|██████████████████████████████████| 7/7 [00:00<00:00, 1397.17it/s]\n"
     ]
    },
    {
     "name": "stdout",
     "output_type": "stream",
     "text": [
      "1565\n",
      "\n",
      "Model Report Train\n",
      "AUC Score : 0.930344\n",
      "Accuracy : 0.8643\n",
      "Precision : 0.8462\n",
      "Recall : 0.891061\n",
      "\n",
      "Model Report Test\n",
      "AUC Score : 0.887472\n",
      "Accuracy : 0.7902\n",
      "Precision : 0.2282\n",
      "Recall : 0.853933\n"
     ]
    },
    {
     "data": {
      "text/plain": [
       "<Figure size 640x480 with 0 Axes>"
      ]
     },
     "metadata": {},
     "output_type": "display_data"
    },
    {
     "name": "stderr",
     "output_type": "stream",
     "text": [
      "Downloading artifacts: 100%|███████████████████████████████████| 7/7 [00:00<00:00, 815.17it/s]\n"
     ]
    },
    {
     "name": "stdout",
     "output_type": "stream",
     "text": [
      "1580\n",
      "\n",
      "Model Report Train\n",
      "AUC Score : 0.929456\n",
      "Accuracy : 0.8476\n",
      "Precision : 0.832\n",
      "Recall : 0.871508\n",
      "\n",
      "Model Report Test\n",
      "AUC Score : 0.887973\n",
      "Accuracy : 0.7902\n",
      "Precision : 0.2249\n",
      "Recall : 0.831461\n"
     ]
    },
    {
     "data": {
      "text/plain": [
       "<Figure size 640x480 with 0 Axes>"
      ]
     },
     "metadata": {},
     "output_type": "display_data"
    },
    {
     "name": "stderr",
     "output_type": "stream",
     "text": [
      "Downloading artifacts: 100%|███████████████████████████████████| 7/7 [00:00<00:00, 776.70it/s]\n"
     ]
    },
    {
     "name": "stdout",
     "output_type": "stream",
     "text": [
      "1595\n",
      "\n",
      "Model Report Train\n",
      "AUC Score : 0.943258\n",
      "Accuracy : 0.8769\n",
      "Precision : 0.8729\n",
      "Recall : 0.882682\n",
      "\n",
      "Model Report Test\n",
      "AUC Score : 0.880170\n",
      "Accuracy : 0.7817\n",
      "Precision : 0.2193\n",
      "Recall : 0.842697\n"
     ]
    },
    {
     "data": {
      "text/plain": [
       "<Figure size 640x480 with 0 Axes>"
      ]
     },
     "metadata": {},
     "output_type": "display_data"
    },
    {
     "name": "stderr",
     "output_type": "stream",
     "text": [
      "Downloading artifacts: 100%|███████████████████████████████████| 7/7 [00:00<00:00, 754.55it/s]\n"
     ]
    },
    {
     "name": "stdout",
     "output_type": "stream",
     "text": [
      "1610\n",
      "\n",
      "Model Report Train\n",
      "AUC Score : 0.929370\n",
      "Accuracy : 0.8587\n",
      "Precision : 0.8391\n",
      "Recall : 0.888268\n",
      "\n",
      "Model Report Test\n",
      "AUC Score : 0.895533\n",
      "Accuracy : 0.7995\n",
      "Precision : 0.2384\n",
      "Recall : 0.865169\n"
     ]
    },
    {
     "data": {
      "text/plain": [
       "<Figure size 640x480 with 0 Axes>"
      ]
     },
     "metadata": {},
     "output_type": "display_data"
    },
    {
     "name": "stderr",
     "output_type": "stream",
     "text": [
      "Downloading artifacts: 100%|██████████████████████████████████| 7/7 [00:00<00:00, 1107.89it/s]\n"
     ]
    },
    {
     "name": "stdout",
     "output_type": "stream",
     "text": [
      "1625\n",
      "\n",
      "Model Report Train\n",
      "AUC Score : 0.926060\n",
      "Accuracy : 0.8378\n",
      "Precision : 0.8071\n",
      "Recall : 0.888268\n",
      "\n",
      "Model Report Test\n",
      "AUC Score : 0.898633\n",
      "Accuracy : 0.805\n",
      "Precision : 0.2437\n",
      "Recall : 0.865169\n"
     ]
    },
    {
     "data": {
      "text/plain": [
       "<Figure size 640x480 with 0 Axes>"
      ]
     },
     "metadata": {},
     "output_type": "display_data"
    },
    {
     "name": "stderr",
     "output_type": "stream",
     "text": [
      "Downloading artifacts: 100%|███████████████████████████████████| 7/7 [00:00<00:00, 860.93it/s]\n"
     ]
    },
    {
     "name": "stdout",
     "output_type": "stream",
     "text": [
      "1640\n",
      "\n",
      "Model Report Train\n",
      "AUC Score : 0.929859\n",
      "Accuracy : 0.8517\n",
      "Precision : 0.8405\n",
      "Recall : 0.868715\n",
      "\n",
      "Model Report Test\n",
      "AUC Score : 0.879448\n",
      "Accuracy : 0.7863\n",
      "Precision : 0.2249\n",
      "Recall : 0.853933\n"
     ]
    },
    {
     "data": {
      "text/plain": [
       "<Figure size 640x480 with 0 Axes>"
      ]
     },
     "metadata": {},
     "output_type": "display_data"
    },
    {
     "name": "stderr",
     "output_type": "stream",
     "text": [
      "Downloading artifacts: 100%|██████████████████████████████████| 7/7 [00:00<00:00, 1385.70it/s]\n"
     ]
    },
    {
     "name": "stdout",
     "output_type": "stream",
     "text": [
      "1655\n",
      "\n",
      "Model Report Train\n",
      "AUC Score : 0.936212\n",
      "Accuracy : 0.8476\n",
      "Precision : 0.8251\n",
      "Recall : 0.882682\n",
      "\n",
      "Model Report Test\n",
      "AUC Score : 0.885826\n",
      "Accuracy : 0.7832\n",
      "Precision : 0.2238\n",
      "Recall : 0.865169\n"
     ]
    },
    {
     "data": {
      "text/plain": [
       "<Figure size 640x480 with 0 Axes>"
      ]
     },
     "metadata": {},
     "output_type": "display_data"
    },
    {
     "name": "stderr",
     "output_type": "stream",
     "text": [
      "Downloading artifacts: 100%|███████████████████████████████████| 7/7 [00:00<00:00, 919.95it/s]\n"
     ]
    },
    {
     "name": "stdout",
     "output_type": "stream",
     "text": [
      "1670\n",
      "\n",
      "Model Report Train\n",
      "AUC Score : 0.933125\n",
      "Accuracy : 0.8643\n",
      "Precision : 0.8425\n",
      "Recall : 0.896648\n",
      "\n",
      "Model Report Test\n",
      "AUC Score : 0.896278\n",
      "Accuracy : 0.7972\n",
      "Precision : 0.2313\n",
      "Recall : 0.831461\n"
     ]
    },
    {
     "data": {
      "text/plain": [
       "<Figure size 640x480 with 0 Axes>"
      ]
     },
     "metadata": {},
     "output_type": "display_data"
    },
    {
     "name": "stderr",
     "output_type": "stream",
     "text": [
      "Downloading artifacts: 100%|███████████████████████████████████| 7/7 [00:00<00:00, 589.50it/s]\n"
     ]
    },
    {
     "name": "stdout",
     "output_type": "stream",
     "text": [
      "1685\n",
      "\n",
      "Model Report Train\n",
      "AUC Score : 0.931822\n",
      "Accuracy : 0.8545\n",
      "Precision : 0.836\n",
      "Recall : 0.882682\n",
      "\n",
      "Model Report Test\n",
      "AUC Score : 0.903969\n",
      "Accuracy : 0.8019\n",
      "Precision : 0.2406\n",
      "Recall : 0.865169\n"
     ]
    },
    {
     "data": {
      "text/plain": [
       "<Figure size 640x480 with 0 Axes>"
      ]
     },
     "metadata": {},
     "output_type": "display_data"
    },
    {
     "name": "stderr",
     "output_type": "stream",
     "text": [
      "Downloading artifacts: 100%|███████████████████████████████████| 7/7 [00:00<00:00, 664.44it/s]\n"
     ]
    },
    {
     "name": "stdout",
     "output_type": "stream",
     "text": [
      "1700\n",
      "\n",
      "Model Report Train\n",
      "AUC Score : 0.924147\n",
      "Accuracy : 0.842\n",
      "Precision : 0.8232\n",
      "Recall : 0.871508\n",
      "\n",
      "Model Report Test\n",
      "AUC Score : 0.892588\n",
      "Accuracy : 0.7871\n",
      "Precision : 0.2255\n",
      "Recall : 0.853933\n"
     ]
    },
    {
     "data": {
      "text/plain": [
       "<Figure size 640x480 with 0 Axes>"
      ]
     },
     "metadata": {},
     "output_type": "display_data"
    },
    {
     "name": "stderr",
     "output_type": "stream",
     "text": [
      "Downloading artifacts: 100%|██████████████████████████████████| 7/7 [00:00<00:00, 1644.64it/s]\n"
     ]
    },
    {
     "name": "stdout",
     "output_type": "stream",
     "text": [
      "1715\n",
      "\n",
      "Model Report Train\n",
      "AUC Score : 0.940105\n",
      "Accuracy : 0.8741\n",
      "Precision : 0.849\n",
      "Recall : 0.910615\n",
      "\n",
      "Model Report Test\n",
      "AUC Score : 0.879265\n",
      "Accuracy : 0.7832\n",
      "Precision : 0.2222\n",
      "Recall : 0.853933\n"
     ]
    },
    {
     "data": {
      "text/plain": [
       "<Figure size 640x480 with 0 Axes>"
      ]
     },
     "metadata": {},
     "output_type": "display_data"
    },
    {
     "name": "stderr",
     "output_type": "stream",
     "text": [
      "Downloading artifacts: 100%|██████████████████████████████████| 7/7 [00:00<00:00, 1143.66it/s]\n"
     ]
    },
    {
     "name": "stdout",
     "output_type": "stream",
     "text": [
      "1730\n",
      "\n",
      "Model Report Train\n",
      "AUC Score : 0.933387\n",
      "Accuracy : 0.8476\n",
      "Precision : 0.8356\n",
      "Recall : 0.865922\n",
      "\n",
      "Model Report Test\n",
      "AUC Score : 0.892766\n",
      "Accuracy : 0.7894\n",
      "Precision : 0.2292\n",
      "Recall : 0.865169\n"
     ]
    },
    {
     "data": {
      "text/plain": [
       "<Figure size 640x480 with 0 Axes>"
      ]
     },
     "metadata": {},
     "output_type": "display_data"
    },
    {
     "name": "stderr",
     "output_type": "stream",
     "text": [
      "Downloading artifacts: 100%|██████████████████████████████████| 7/7 [00:00<00:00, 1179.64it/s]\n"
     ]
    },
    {
     "name": "stdout",
     "output_type": "stream",
     "text": [
      "1745\n",
      "\n",
      "Model Report Train\n",
      "AUC Score : 0.936505\n",
      "Accuracy : 0.8685\n",
      "Precision : 0.8568\n",
      "Recall : 0.885475\n",
      "\n",
      "Model Report Test\n",
      "AUC Score : 0.881652\n",
      "Accuracy : 0.8143\n",
      "Precision : 0.2517\n",
      "Recall : 0.853933\n"
     ]
    },
    {
     "data": {
      "text/plain": [
       "<Figure size 640x480 with 0 Axes>"
      ]
     },
     "metadata": {},
     "output_type": "display_data"
    },
    {
     "name": "stderr",
     "output_type": "stream",
     "text": [
      "Downloading artifacts: 100%|██████████████████████████████████| 7/7 [00:00<00:00, 1693.40it/s]\n"
     ]
    },
    {
     "name": "stdout",
     "output_type": "stream",
     "text": [
      "1760\n",
      "\n",
      "Model Report Train\n",
      "AUC Score : 0.938594\n",
      "Accuracy : 0.8601\n",
      "Precision : 0.8359\n",
      "Recall : 0.896648\n",
      "\n",
      "Model Report Test\n",
      "AUC Score : 0.895870\n",
      "Accuracy : 0.7887\n",
      "Precision : 0.2269\n",
      "Recall : 0.853933\n"
     ]
    },
    {
     "data": {
      "text/plain": [
       "<Figure size 640x480 with 0 Axes>"
      ]
     },
     "metadata": {},
     "output_type": "display_data"
    },
    {
     "name": "stderr",
     "output_type": "stream",
     "text": [
      "Downloading artifacts: 100%|███████████████████████████████████| 7/7 [00:00<00:00, 816.24it/s]\n"
     ]
    },
    {
     "name": "stdout",
     "output_type": "stream",
     "text": [
      "1775\n",
      "\n",
      "Model Report Train\n",
      "AUC Score : 0.928556\n",
      "Accuracy : 0.8559\n",
      "Precision : 0.8493\n",
      "Recall : 0.865922\n",
      "\n",
      "Model Report Test\n",
      "AUC Score : 0.891204\n",
      "Accuracy : 0.8057\n",
      "Precision : 0.2395\n",
      "Recall : 0.831461\n"
     ]
    },
    {
     "data": {
      "text/plain": [
       "<Figure size 640x480 with 0 Axes>"
      ]
     },
     "metadata": {},
     "output_type": "display_data"
    },
    {
     "name": "stderr",
     "output_type": "stream",
     "text": [
      "Downloading artifacts: 100%|███████████████████████████████████| 7/7 [00:00<00:00, 815.79it/s]\n"
     ]
    },
    {
     "name": "stdout",
     "output_type": "stream",
     "text": [
      "1790\n",
      "\n",
      "Model Report Train\n",
      "AUC Score : 0.926713\n",
      "Accuracy : 0.842\n",
      "Precision : 0.8249\n",
      "Recall : 0.868715\n",
      "\n",
      "Model Report Test\n",
      "AUC Score : 0.883181\n",
      "Accuracy : 0.784\n",
      "Precision : 0.2196\n",
      "Recall : 0.831461\n"
     ]
    },
    {
     "data": {
      "text/plain": [
       "<Figure size 640x480 with 0 Axes>"
      ]
     },
     "metadata": {},
     "output_type": "display_data"
    },
    {
     "name": "stderr",
     "output_type": "stream",
     "text": [
      "Downloading artifacts: 100%|███████████████████████████████████| 7/7 [00:00<00:00, 777.96it/s]\n"
     ]
    },
    {
     "name": "stdout",
     "output_type": "stream",
     "text": [
      "1805\n",
      "\n",
      "Model Report Train\n",
      "AUC Score : 0.927703\n",
      "Accuracy : 0.8545\n",
      "Precision : 0.836\n",
      "Recall : 0.882682\n",
      "\n",
      "Model Report Test\n",
      "AUC Score : 0.898553\n",
      "Accuracy : 0.8003\n",
      "Precision : 0.2407\n",
      "Recall : 0.876404\n"
     ]
    },
    {
     "data": {
      "text/plain": [
       "<Figure size 640x480 with 0 Axes>"
      ]
     },
     "metadata": {},
     "output_type": "display_data"
    },
    {
     "name": "stderr",
     "output_type": "stream",
     "text": [
      "Downloading artifacts: 100%|███████████████████████████████████| 7/7 [00:00<00:00, 955.55it/s]\n"
     ]
    },
    {
     "name": "stdout",
     "output_type": "stream",
     "text": [
      "1820\n",
      "\n",
      "Model Report Train\n",
      "AUC Score : 0.937354\n",
      "Accuracy : 0.8559\n",
      "Precision : 0.8512\n",
      "Recall : 0.863128\n",
      "\n",
      "Model Report Test\n",
      "AUC Score : 0.899392\n",
      "Accuracy : 0.826\n",
      "Precision : 0.2696\n",
      "Recall : 0.887640\n"
     ]
    },
    {
     "data": {
      "text/plain": [
       "<Figure size 640x480 with 0 Axes>"
      ]
     },
     "metadata": {},
     "output_type": "display_data"
    },
    {
     "name": "stderr",
     "output_type": "stream",
     "text": [
      "Downloading artifacts: 100%|███████████████████████████████████| 7/7 [00:00<00:00, 917.30it/s]\n"
     ]
    },
    {
     "name": "stdout",
     "output_type": "stream",
     "text": [
      "1835\n",
      "\n",
      "Model Report Train\n",
      "AUC Score : 0.931013\n",
      "Accuracy : 0.8587\n",
      "Precision : 0.8408\n",
      "Recall : 0.885475\n",
      "\n",
      "Model Report Test\n",
      "AUC Score : 0.886168\n",
      "Accuracy : 0.784\n",
      "Precision : 0.2261\n",
      "Recall : 0.876404\n"
     ]
    },
    {
     "data": {
      "text/plain": [
       "<Figure size 640x480 with 0 Axes>"
      ]
     },
     "metadata": {},
     "output_type": "display_data"
    },
    {
     "name": "stderr",
     "output_type": "stream",
     "text": [
      "Downloading artifacts: 100%|██████████████████████████████████| 7/7 [00:00<00:00, 1227.07it/s]\n"
     ]
    },
    {
     "name": "stdout",
     "output_type": "stream",
     "text": [
      "1850\n",
      "\n",
      "Model Report Train\n",
      "AUC Score : 0.938755\n",
      "Accuracy : 0.8685\n",
      "Precision : 0.8587\n",
      "Recall : 0.882682\n",
      "\n",
      "Model Report Test\n",
      "AUC Score : 0.890679\n",
      "Accuracy : 0.791\n",
      "Precision : 0.2273\n",
      "Recall : 0.842697\n"
     ]
    },
    {
     "data": {
      "text/plain": [
       "<Figure size 640x480 with 0 Axes>"
      ]
     },
     "metadata": {},
     "output_type": "display_data"
    },
    {
     "name": "stderr",
     "output_type": "stream",
     "text": [
      "Downloading artifacts: 100%|██████████████████████████████████| 7/7 [00:00<00:00, 1079.58it/s]\n"
     ]
    },
    {
     "name": "stdout",
     "output_type": "stream",
     "text": [
      "1865\n",
      "\n",
      "Model Report Train\n",
      "AUC Score : 0.929233\n",
      "Accuracy : 0.8615\n",
      "Precision : 0.8607\n",
      "Recall : 0.863128\n",
      "\n",
      "Model Report Test\n",
      "AUC Score : 0.879842\n",
      "Accuracy : 0.7871\n",
      "Precision : 0.2255\n",
      "Recall : 0.853933\n"
     ]
    },
    {
     "data": {
      "text/plain": [
       "<Figure size 640x480 with 0 Axes>"
      ]
     },
     "metadata": {},
     "output_type": "display_data"
    },
    {
     "name": "stderr",
     "output_type": "stream",
     "text": [
      "Downloading artifacts: 100%|███████████████████████████████████| 7/7 [00:00<00:00, 749.33it/s]\n"
     ]
    },
    {
     "name": "stdout",
     "output_type": "stream",
     "text": [
      "1880\n",
      "\n",
      "Model Report Train\n",
      "AUC Score : 0.925438\n",
      "Accuracy : 0.849\n",
      "Precision : 0.8189\n",
      "Recall : 0.896648\n",
      "\n",
      "Model Report Test\n",
      "AUC Score : 0.897648\n",
      "Accuracy : 0.8019\n",
      "Precision : 0.2422\n",
      "Recall : 0.876404\n"
     ]
    },
    {
     "data": {
      "text/plain": [
       "<Figure size 640x480 with 0 Axes>"
      ]
     },
     "metadata": {},
     "output_type": "display_data"
    },
    {
     "name": "stderr",
     "output_type": "stream",
     "text": [
      "Downloading artifacts: 100%|██████████████████████████████████| 7/7 [00:00<00:00, 1661.11it/s]\n"
     ]
    },
    {
     "name": "stdout",
     "output_type": "stream",
     "text": [
      "1895\n",
      "\n",
      "Model Report Train\n",
      "AUC Score : 0.927018\n",
      "Accuracy : 0.842\n",
      "Precision : 0.8182\n",
      "Recall : 0.879888\n",
      "\n",
      "Model Report Test\n",
      "AUC Score : 0.886182\n",
      "Accuracy : 0.7747\n",
      "Precision : 0.2153\n",
      "Recall : 0.853933\n"
     ]
    },
    {
     "data": {
      "text/plain": [
       "<Figure size 640x480 with 0 Axes>"
      ]
     },
     "metadata": {},
     "output_type": "display_data"
    },
    {
     "name": "stderr",
     "output_type": "stream",
     "text": [
      "Downloading artifacts: 100%|███████████████████████████████████| 7/7 [00:00<00:00, 773.65it/s]\n"
     ]
    },
    {
     "name": "stdout",
     "output_type": "stream",
     "text": [
      "1910\n",
      "\n",
      "Model Report Train\n",
      "AUC Score : 0.924589\n",
      "Accuracy : 0.8448\n",
      "Precision : 0.8365\n",
      "Recall : 0.857542\n",
      "\n",
      "Model Report Test\n",
      "AUC Score : 0.891176\n",
      "Accuracy : 0.7941\n",
      "Precision : 0.2301\n",
      "Recall : 0.842697\n"
     ]
    },
    {
     "data": {
      "text/plain": [
       "<Figure size 640x480 with 0 Axes>"
      ]
     },
     "metadata": {},
     "output_type": "display_data"
    },
    {
     "name": "stderr",
     "output_type": "stream",
     "text": [
      "Downloading artifacts: 100%|██████████████████████████████████| 7/7 [00:00<00:00, 1661.86it/s]\n"
     ]
    },
    {
     "name": "stdout",
     "output_type": "stream",
     "text": [
      "1925\n",
      "\n",
      "Model Report Train\n",
      "AUC Score : 0.937550\n",
      "Accuracy : 0.8629\n",
      "Precision : 0.8591\n",
      "Recall : 0.868715\n",
      "\n",
      "Model Report Test\n",
      "AUC Score : 0.877042\n",
      "Accuracy : 0.7894\n",
      "Precision : 0.2308\n",
      "Recall : 0.876404\n"
     ]
    },
    {
     "data": {
      "text/plain": [
       "<Figure size 640x480 with 0 Axes>"
      ]
     },
     "metadata": {},
     "output_type": "display_data"
    },
    {
     "name": "stderr",
     "output_type": "stream",
     "text": [
      "Downloading artifacts: 100%|███████████████████████████████████| 7/7 [00:00<00:00, 747.48it/s]\n"
     ]
    },
    {
     "name": "stdout",
     "output_type": "stream",
     "text": [
      "1940\n",
      "\n",
      "Model Report Train\n",
      "AUC Score : 0.932503\n",
      "Accuracy : 0.8657\n",
      "Precision : 0.8484\n",
      "Recall : 0.891061\n",
      "\n",
      "Model Report Test\n",
      "AUC Score : 0.877488\n",
      "Accuracy : 0.791\n",
      "Precision : 0.2289\n",
      "Recall : 0.853933\n"
     ]
    },
    {
     "data": {
      "text/plain": [
       "<Figure size 640x480 with 0 Axes>"
      ]
     },
     "metadata": {},
     "output_type": "display_data"
    },
    {
     "name": "stderr",
     "output_type": "stream",
     "text": [
      "Downloading artifacts: 100%|███████████████████████████████████| 7/7 [00:00<00:00, 803.24it/s]\n"
     ]
    },
    {
     "name": "stdout",
     "output_type": "stream",
     "text": [
      "1955\n",
      "\n",
      "Model Report Train\n",
      "AUC Score : 0.942863\n",
      "Accuracy : 0.8643\n",
      "Precision : 0.848\n",
      "Recall : 0.888268\n",
      "\n",
      "Model Report Test\n",
      "AUC Score : 0.880226\n",
      "Accuracy : 0.7848\n",
      "Precision : 0.2235\n",
      "Recall : 0.853933\n"
     ]
    },
    {
     "data": {
      "text/plain": [
       "<Figure size 640x480 with 0 Axes>"
      ]
     },
     "metadata": {},
     "output_type": "display_data"
    },
    {
     "name": "stderr",
     "output_type": "stream",
     "text": [
      "Downloading artifacts: 100%|███████████████████████████████████| 7/7 [00:00<00:00, 774.12it/s]\n"
     ]
    },
    {
     "name": "stdout",
     "output_type": "stream",
     "text": [
      "1970\n",
      "\n",
      "Model Report Train\n",
      "AUC Score : 0.927989\n",
      "Accuracy : 0.8476\n",
      "Precision : 0.8234\n",
      "Recall : 0.885475\n",
      "\n",
      "Model Report Test\n",
      "AUC Score : 0.895622\n",
      "Accuracy : 0.7863\n",
      "Precision : 0.2312\n",
      "Recall : 0.898876\n"
     ]
    },
    {
     "data": {
      "text/plain": [
       "<Figure size 640x480 with 0 Axes>"
      ]
     },
     "metadata": {},
     "output_type": "display_data"
    },
    {
     "name": "stderr",
     "output_type": "stream",
     "text": [
      "Downloading artifacts: 100%|███████████████████████████████████| 7/7 [00:00<00:00, 938.53it/s]\n"
     ]
    },
    {
     "name": "stdout",
     "output_type": "stream",
     "text": [
      "1985\n",
      "\n",
      "Model Report Train\n",
      "AUC Score : 0.924213\n",
      "Accuracy : 0.8503\n",
      "Precision : 0.8365\n",
      "Recall : 0.871508\n",
      "\n",
      "Model Report Test\n",
      "AUC Score : 0.893516\n",
      "Accuracy : 0.7925\n",
      "Precision : 0.2335\n",
      "Recall : 0.876404\n"
     ]
    },
    {
     "data": {
      "text/plain": [
       "<Figure size 640x480 with 0 Axes>"
      ]
     },
     "metadata": {},
     "output_type": "display_data"
    },
    {
     "name": "stderr",
     "output_type": "stream",
     "text": [
      "Downloading artifacts: 100%|███████████████████████████████████| 7/7 [00:00<00:00, 522.36it/s]\n"
     ]
    },
    {
     "name": "stdout",
     "output_type": "stream",
     "text": [
      "2000\n",
      "\n",
      "Model Report Train\n",
      "AUC Score : 0.935242\n",
      "Accuracy : 0.8601\n",
      "Precision : 0.8395\n",
      "Recall : 0.891061\n",
      "\n",
      "Model Report Test\n",
      "AUC Score : 0.879476\n",
      "Accuracy : 0.7956\n",
      "Precision : 0.2364\n",
      "Recall : 0.876404\n"
     ]
    },
    {
     "data": {
      "text/plain": [
       "<Figure size 640x480 with 0 Axes>"
      ]
     },
     "metadata": {},
     "output_type": "display_data"
    },
    {
     "name": "stderr",
     "output_type": "stream",
     "text": [
      "Downloading artifacts: 100%|██████████████████████████████████| 7/7 [00:00<00:00, 1281.04it/s]\n"
     ]
    },
    {
     "name": "stdout",
     "output_type": "stream",
     "text": [
      "2015\n",
      "\n",
      "Model Report Train\n",
      "AUC Score : 0.930218\n",
      "Accuracy : 0.8559\n",
      "Precision : 0.8329\n",
      "Recall : 0.891061\n",
      "\n",
      "Model Report Test\n",
      "AUC Score : 0.899880\n",
      "Accuracy : 0.7956\n",
      "Precision : 0.238\n",
      "Recall : 0.887640\n"
     ]
    },
    {
     "data": {
      "text/plain": [
       "<Figure size 640x480 with 0 Axes>"
      ]
     },
     "metadata": {},
     "output_type": "display_data"
    },
    {
     "name": "stderr",
     "output_type": "stream",
     "text": [
      "Downloading artifacts: 100%|███████████████████████████████████| 7/7 [00:00<00:00, 820.69it/s]\n"
     ]
    },
    {
     "name": "stdout",
     "output_type": "stream",
     "text": [
      "2030\n",
      "\n",
      "Model Report Train\n",
      "AUC Score : 0.925536\n",
      "Accuracy : 0.8434\n",
      "Precision : 0.8237\n",
      "Recall : 0.874302\n",
      "\n",
      "Model Report Test\n",
      "AUC Score : 0.893432\n",
      "Accuracy : 0.8166\n",
      "Precision : 0.2525\n",
      "Recall : 0.842697\n"
     ]
    },
    {
     "data": {
      "text/plain": [
       "<Figure size 640x480 with 0 Axes>"
      ]
     },
     "metadata": {},
     "output_type": "display_data"
    },
    {
     "name": "stderr",
     "output_type": "stream",
     "text": [
      "Downloading artifacts: 100%|███████████████████████████████████| 7/7 [00:00<00:00, 952.17it/s]\n"
     ]
    },
    {
     "name": "stdout",
     "output_type": "stream",
     "text": [
      "2045\n",
      "\n",
      "Model Report Train\n",
      "AUC Score : 0.926048\n",
      "Accuracy : 0.8503\n",
      "Precision : 0.8347\n",
      "Recall : 0.874302\n",
      "\n",
      "Model Report Test\n",
      "AUC Score : 0.896851\n",
      "Accuracy : 0.791\n",
      "Precision : 0.2256\n",
      "Recall : 0.831461\n"
     ]
    },
    {
     "data": {
      "text/plain": [
       "<Figure size 640x480 with 0 Axes>"
      ]
     },
     "metadata": {},
     "output_type": "display_data"
    },
    {
     "name": "stderr",
     "output_type": "stream",
     "text": [
      "Downloading artifacts: 100%|██████████████████████████████████| 7/7 [00:00<00:00, 1055.82it/s]\n"
     ]
    },
    {
     "name": "stdout",
     "output_type": "stream",
     "text": [
      "2060\n",
      "\n",
      "Model Report Train\n",
      "AUC Score : 0.926455\n",
      "Accuracy : 0.8517\n",
      "Precision : 0.8351\n",
      "Recall : 0.877095\n",
      "\n",
      "Model Report Test\n",
      "AUC Score : 0.900485\n",
      "Accuracy : 0.7925\n",
      "Precision : 0.2351\n",
      "Recall : 0.887640\n"
     ]
    },
    {
     "data": {
      "text/plain": [
       "<Figure size 640x480 with 0 Axes>"
      ]
     },
     "metadata": {},
     "output_type": "display_data"
    },
    {
     "name": "stderr",
     "output_type": "stream",
     "text": [
      "Downloading artifacts: 100%|██████████████████████████████████| 7/7 [00:00<00:00, 1260.42it/s]\n"
     ]
    },
    {
     "name": "stdout",
     "output_type": "stream",
     "text": [
      "2075\n",
      "\n",
      "Model Report Train\n",
      "AUC Score : 0.934835\n",
      "Accuracy : 0.8587\n",
      "Precision : 0.8445\n",
      "Recall : 0.879888\n",
      "\n",
      "Model Report Test\n",
      "AUC Score : 0.888564\n",
      "Accuracy : 0.7638\n",
      "Precision : 0.2102\n",
      "Recall : 0.876404\n"
     ]
    },
    {
     "data": {
      "text/plain": [
       "<Figure size 640x480 with 0 Axes>"
      ]
     },
     "metadata": {},
     "output_type": "display_data"
    },
    {
     "name": "stderr",
     "output_type": "stream",
     "text": [
      "Downloading artifacts: 100%|███████████████████████████████████| 7/7 [00:00<00:00, 729.19it/s]\n"
     ]
    },
    {
     "name": "stdout",
     "output_type": "stream",
     "text": [
      "2090\n",
      "\n",
      "Model Report Train\n",
      "AUC Score : 0.930590\n",
      "Accuracy : 0.8699\n",
      "Precision : 0.8515\n",
      "Recall : 0.896648\n",
      "\n",
      "Model Report Test\n",
      "AUC Score : 0.885727\n",
      "Accuracy : 0.7902\n",
      "Precision : 0.2266\n",
      "Recall : 0.842697\n"
     ]
    },
    {
     "data": {
      "text/plain": [
       "<Figure size 640x480 with 0 Axes>"
      ]
     },
     "metadata": {},
     "output_type": "display_data"
    },
    {
     "name": "stderr",
     "output_type": "stream",
     "text": [
      "Downloading artifacts: 100%|███████████████████████████████████| 7/7 [00:00<00:00, 778.16it/s]\n"
     ]
    },
    {
     "name": "stdout",
     "output_type": "stream",
     "text": [
      "2105\n",
      "\n",
      "Model Report Train\n",
      "AUC Score : 0.936681\n",
      "Accuracy : 0.8601\n",
      "Precision : 0.8258\n",
      "Recall : 0.913408\n",
      "\n",
      "Model Report Test\n",
      "AUC Score : 0.890234\n",
      "Accuracy : 0.784\n",
      "Precision : 0.2277\n",
      "Recall : 0.887640\n"
     ]
    },
    {
     "data": {
      "text/plain": [
       "<Figure size 640x480 with 0 Axes>"
      ]
     },
     "metadata": {},
     "output_type": "display_data"
    },
    {
     "name": "stderr",
     "output_type": "stream",
     "text": [
      "Downloading artifacts: 100%|██████████████████████████████████| 7/7 [00:00<00:00, 1650.93it/s]\n"
     ]
    },
    {
     "name": "stdout",
     "output_type": "stream",
     "text": [
      "2120\n",
      "\n",
      "Model Report Train\n",
      "AUC Score : 0.921291\n",
      "Accuracy : 0.8462\n",
      "Precision : 0.8246\n",
      "Recall : 0.879888\n",
      "\n",
      "Model Report Test\n",
      "AUC Score : 0.896897\n",
      "Accuracy : 0.8019\n",
      "Precision : 0.2373\n",
      "Recall : 0.842697\n"
     ]
    },
    {
     "data": {
      "text/plain": [
       "<Figure size 640x480 with 0 Axes>"
      ]
     },
     "metadata": {},
     "output_type": "display_data"
    },
    {
     "name": "stderr",
     "output_type": "stream",
     "text": [
      "Downloading artifacts: 100%|███████████████████████████████████| 7/7 [00:00<00:00, 782.94it/s]\n"
     ]
    },
    {
     "name": "stdout",
     "output_type": "stream",
     "text": [
      "2135\n",
      "\n",
      "Model Report Train\n",
      "AUC Score : 0.939310\n",
      "Accuracy : 0.8629\n",
      "Precision : 0.8403\n",
      "Recall : 0.896648\n",
      "\n",
      "Model Report Test\n",
      "AUC Score : 0.891139\n",
      "Accuracy : 0.8026\n",
      "Precision : 0.243\n",
      "Recall : 0.876404\n"
     ]
    },
    {
     "data": {
      "text/plain": [
       "<Figure size 640x480 with 0 Axes>"
      ]
     },
     "metadata": {},
     "output_type": "display_data"
    },
    {
     "name": "stderr",
     "output_type": "stream",
     "text": [
      "Downloading artifacts: 100%|███████████████████████████████████| 7/7 [00:00<00:00, 995.12it/s]\n"
     ]
    },
    {
     "name": "stdout",
     "output_type": "stream",
     "text": [
      "2150\n",
      "\n",
      "Model Report Train\n",
      "AUC Score : 0.920184\n",
      "Accuracy : 0.8573\n",
      "Precision : 0.8299\n",
      "Recall : 0.899441\n",
      "\n",
      "Model Report Test\n",
      "AUC Score : 0.890928\n",
      "Accuracy : 0.791\n",
      "Precision : 0.2273\n",
      "Recall : 0.842697\n"
     ]
    },
    {
     "data": {
      "text/plain": [
       "<Figure size 640x480 with 0 Axes>"
      ]
     },
     "metadata": {},
     "output_type": "display_data"
    },
    {
     "name": "stderr",
     "output_type": "stream",
     "text": [
      "Downloading artifacts: 100%|██████████████████████████████████| 7/7 [00:00<00:00, 1598.44it/s]\n"
     ]
    },
    {
     "name": "stdout",
     "output_type": "stream",
     "text": [
      "2165\n",
      "\n",
      "Model Report Train\n",
      "AUC Score : 0.930543\n",
      "Accuracy : 0.8657\n",
      "Precision : 0.8639\n",
      "Recall : 0.868715\n",
      "\n",
      "Model Report Test\n",
      "AUC Score : 0.874529\n",
      "Accuracy : 0.8034\n",
      "Precision : 0.2355\n",
      "Recall : 0.820225\n"
     ]
    },
    {
     "data": {
      "text/plain": [
       "<Figure size 640x480 with 0 Axes>"
      ]
     },
     "metadata": {},
     "output_type": "display_data"
    },
    {
     "name": "stderr",
     "output_type": "stream",
     "text": [
      "Downloading artifacts: 100%|███████████████████████████████████| 7/7 [00:00<00:00, 905.42it/s]\n"
     ]
    },
    {
     "name": "stdout",
     "output_type": "stream",
     "text": [
      "2180\n",
      "\n",
      "Model Report Train\n",
      "AUC Score : 0.931071\n",
      "Accuracy : 0.8462\n",
      "Precision : 0.828\n",
      "Recall : 0.874302\n",
      "\n",
      "Model Report Test\n",
      "AUC Score : 0.886210\n",
      "Accuracy : 0.791\n",
      "Precision : 0.2256\n",
      "Recall : 0.831461\n"
     ]
    },
    {
     "data": {
      "text/plain": [
       "<Figure size 640x480 with 0 Axes>"
      ]
     },
     "metadata": {},
     "output_type": "display_data"
    },
    {
     "name": "stderr",
     "output_type": "stream",
     "text": [
      "Downloading artifacts: 100%|███████████████████████████████████| 7/7 [00:00<00:00, 850.25it/s]\n"
     ]
    },
    {
     "name": "stdout",
     "output_type": "stream",
     "text": [
      "2195\n",
      "\n",
      "Model Report Train\n",
      "AUC Score : 0.946556\n",
      "Accuracy : 0.8685\n",
      "Precision : 0.8529\n",
      "Recall : 0.891061\n",
      "\n",
      "Model Report Test\n",
      "AUC Score : 0.884803\n",
      "Accuracy : 0.7793\n",
      "Precision : 0.2254\n",
      "Recall : 0.898876\n"
     ]
    },
    {
     "data": {
      "text/plain": [
       "<Figure size 640x480 with 0 Axes>"
      ]
     },
     "metadata": {},
     "output_type": "display_data"
    },
    {
     "name": "stderr",
     "output_type": "stream",
     "text": [
      "Downloading artifacts: 100%|███████████████████████████████████| 7/7 [00:00<00:00, 840.71it/s]\n"
     ]
    },
    {
     "name": "stdout",
     "output_type": "stream",
     "text": [
      "2210\n",
      "\n",
      "Model Report Train\n",
      "AUC Score : 0.936310\n",
      "Accuracy : 0.8629\n",
      "Precision : 0.8514\n",
      "Recall : 0.879888\n",
      "\n",
      "Model Report Test\n",
      "AUC Score : 0.893324\n",
      "Accuracy : 0.8019\n",
      "Precision : 0.239\n",
      "Recall : 0.853933\n"
     ]
    },
    {
     "data": {
      "text/plain": [
       "<Figure size 640x480 with 0 Axes>"
      ]
     },
     "metadata": {},
     "output_type": "display_data"
    },
    {
     "name": "stderr",
     "output_type": "stream",
     "text": [
      "Downloading artifacts: 100%|███████████████████████████████████| 7/7 [00:00<00:00, 574.69it/s]\n"
     ]
    },
    {
     "name": "stdout",
     "output_type": "stream",
     "text": [
      "2225\n",
      "\n",
      "Model Report Train\n",
      "AUC Score : 0.927304\n",
      "Accuracy : 0.8545\n",
      "Precision : 0.8307\n",
      "Recall : 0.891061\n",
      "\n",
      "Model Report Test\n",
      "AUC Score : 0.878341\n",
      "Accuracy : 0.7824\n",
      "Precision : 0.2216\n",
      "Recall : 0.853933\n"
     ]
    },
    {
     "data": {
      "text/plain": [
       "<Figure size 640x480 with 0 Axes>"
      ]
     },
     "metadata": {},
     "output_type": "display_data"
    },
    {
     "name": "stderr",
     "output_type": "stream",
     "text": [
      "Downloading artifacts: 100%|██████████████████████████████████| 7/7 [00:00<00:00, 1100.04it/s]\n"
     ]
    },
    {
     "name": "stdout",
     "output_type": "stream",
     "text": [
      "2240\n",
      "\n",
      "Model Report Train\n",
      "AUC Score : 0.932421\n",
      "Accuracy : 0.8587\n",
      "Precision : 0.8303\n",
      "Recall : 0.902235\n",
      "\n",
      "Model Report Test\n",
      "AUC Score : 0.892264\n",
      "Accuracy : 0.7793\n",
      "Precision : 0.219\n",
      "Recall : 0.853933\n"
     ]
    },
    {
     "data": {
      "text/plain": [
       "<Figure size 640x480 with 0 Axes>"
      ]
     },
     "metadata": {},
     "output_type": "display_data"
    },
    {
     "name": "stderr",
     "output_type": "stream",
     "text": [
      "Downloading artifacts: 100%|██████████████████████████████████| 7/7 [00:00<00:00, 1012.77it/s]\n"
     ]
    },
    {
     "name": "stdout",
     "output_type": "stream",
     "text": [
      "2255\n",
      "\n",
      "Model Report Train\n",
      "AUC Score : 0.940527\n",
      "Accuracy : 0.8601\n",
      "Precision : 0.8449\n",
      "Recall : 0.882682\n",
      "\n",
      "Model Report Test\n",
      "AUC Score : 0.888142\n",
      "Accuracy : 0.7747\n",
      "Precision : 0.2185\n",
      "Recall : 0.876404\n"
     ]
    },
    {
     "data": {
      "text/plain": [
       "<Figure size 640x480 with 0 Axes>"
      ]
     },
     "metadata": {},
     "output_type": "display_data"
    },
    {
     "name": "stderr",
     "output_type": "stream",
     "text": [
      "Downloading artifacts: 100%|██████████████████████████████████| 7/7 [00:00<00:00, 1326.23it/s]\n"
     ]
    },
    {
     "name": "stdout",
     "output_type": "stream",
     "text": [
      "2270\n",
      "\n",
      "Model Report Train\n",
      "AUC Score : 0.926424\n",
      "Accuracy : 0.8559\n",
      "Precision : 0.8382\n",
      "Recall : 0.882682\n",
      "\n",
      "Model Report Test\n",
      "AUC Score : 0.901512\n",
      "Accuracy : 0.8065\n",
      "Precision : 0.2484\n",
      "Recall : 0.887640\n"
     ]
    },
    {
     "data": {
      "text/plain": [
       "<Figure size 640x480 with 0 Axes>"
      ]
     },
     "metadata": {},
     "output_type": "display_data"
    },
    {
     "name": "stderr",
     "output_type": "stream",
     "text": [
      "Downloading artifacts: 100%|███████████████████████████████████| 7/7 [00:00<00:00, 827.19it/s]\n"
     ]
    },
    {
     "name": "stdout",
     "output_type": "stream",
     "text": [
      "2285\n",
      "\n",
      "Model Report Train\n",
      "AUC Score : 0.923462\n",
      "Accuracy : 0.8476\n",
      "Precision : 0.8168\n",
      "Recall : 0.896648\n",
      "\n",
      "Model Report Test\n",
      "AUC Score : 0.897259\n",
      "Accuracy : 0.8019\n",
      "Precision : 0.2373\n",
      "Recall : 0.842697\n"
     ]
    },
    {
     "data": {
      "text/plain": [
       "<Figure size 640x480 with 0 Axes>"
      ]
     },
     "metadata": {},
     "output_type": "display_data"
    },
    {
     "name": "stderr",
     "output_type": "stream",
     "text": [
      "Downloading artifacts: 100%|███████████████████████████████████| 7/7 [00:00<00:00, 838.81it/s]\n"
     ]
    },
    {
     "name": "stdout",
     "output_type": "stream",
     "text": [
      "2300\n",
      "\n",
      "Model Report Train\n",
      "AUC Score : 0.940961\n",
      "Accuracy : 0.8643\n",
      "Precision : 0.8499\n",
      "Recall : 0.885475\n",
      "\n",
      "Model Report Test\n",
      "AUC Score : 0.903969\n",
      "Accuracy : 0.7933\n",
      "Precision : 0.2342\n",
      "Recall : 0.876404\n"
     ]
    },
    {
     "data": {
      "text/plain": [
       "<Figure size 640x480 with 0 Axes>"
      ]
     },
     "metadata": {},
     "output_type": "display_data"
    },
    {
     "name": "stderr",
     "output_type": "stream",
     "text": [
      "Downloading artifacts: 100%|██████████████████████████████████| 7/7 [00:00<00:00, 1292.94it/s]\n"
     ]
    },
    {
     "name": "stdout",
     "output_type": "stream",
     "text": [
      "2315\n",
      "\n",
      "Model Report Train\n",
      "AUC Score : 0.940993\n",
      "Accuracy : 0.8671\n",
      "Precision : 0.8544\n",
      "Recall : 0.885475\n",
      "\n",
      "Model Report Test\n",
      "AUC Score : 0.893254\n",
      "Accuracy : 0.8104\n",
      "Precision : 0.2492\n",
      "Recall : 0.865169\n"
     ]
    },
    {
     "data": {
      "text/plain": [
       "<Figure size 640x480 with 0 Axes>"
      ]
     },
     "metadata": {},
     "output_type": "display_data"
    },
    {
     "name": "stderr",
     "output_type": "stream",
     "text": [
      "Downloading artifacts: 100%|███████████████████████████████████| 7/7 [00:00<00:00, 639.00it/s]\n"
     ]
    },
    {
     "name": "stdout",
     "output_type": "stream",
     "text": [
      "2330\n",
      "\n",
      "Model Report Train\n",
      "AUC Score : 0.926361\n",
      "Accuracy : 0.8629\n",
      "Precision : 0.8385\n",
      "Recall : 0.899441\n",
      "\n",
      "Model Report Test\n",
      "AUC Score : 0.887589\n",
      "Accuracy : 0.7716\n",
      "Precision : 0.2176\n",
      "Recall : 0.887640\n"
     ]
    },
    {
     "data": {
      "text/plain": [
       "<Figure size 640x480 with 0 Axes>"
      ]
     },
     "metadata": {},
     "output_type": "display_data"
    },
    {
     "name": "stderr",
     "output_type": "stream",
     "text": [
      "Downloading artifacts: 100%|███████████████████████████████████| 7/7 [00:00<00:00, 825.28it/s]\n"
     ]
    },
    {
     "name": "stdout",
     "output_type": "stream",
     "text": [
      "2345\n",
      "\n",
      "Model Report Train\n",
      "AUC Score : 0.919718\n",
      "Accuracy : 0.842\n",
      "Precision : 0.8302\n",
      "Recall : 0.860335\n",
      "\n",
      "Model Report Test\n",
      "AUC Score : 0.886431\n",
      "Accuracy : 0.7995\n",
      "Precision : 0.2351\n",
      "Recall : 0.842697\n"
     ]
    },
    {
     "data": {
      "text/plain": [
       "<Figure size 640x480 with 0 Axes>"
      ]
     },
     "metadata": {},
     "output_type": "display_data"
    },
    {
     "name": "stderr",
     "output_type": "stream",
     "text": [
      "Downloading artifacts: 100%|██████████████████████████████████| 7/7 [00:00<00:00, 1473.46it/s]\n"
     ]
    },
    {
     "name": "stdout",
     "output_type": "stream",
     "text": [
      "2360\n",
      "\n",
      "Model Report Train\n",
      "AUC Score : 0.935758\n",
      "Accuracy : 0.8615\n",
      "Precision : 0.8453\n",
      "Recall : 0.885475\n",
      "\n",
      "Model Report Test\n",
      "AUC Score : 0.890070\n",
      "Accuracy : 0.7793\n",
      "Precision : 0.2238\n",
      "Recall : 0.887640\n"
     ]
    },
    {
     "data": {
      "text/plain": [
       "<Figure size 640x480 with 0 Axes>"
      ]
     },
     "metadata": {},
     "output_type": "display_data"
    },
    {
     "name": "stderr",
     "output_type": "stream",
     "text": [
      "Downloading artifacts: 100%|██████████████████████████████████| 7/7 [00:00<00:00, 1011.06it/s]\n"
     ]
    },
    {
     "name": "stdout",
     "output_type": "stream",
     "text": [
      "2375\n",
      "\n",
      "Model Report Train\n",
      "AUC Score : 0.924871\n",
      "Accuracy : 0.8392\n",
      "Precision : 0.8156\n",
      "Recall : 0.877095\n",
      "\n",
      "Model Report Test\n",
      "AUC Score : 0.879012\n",
      "Accuracy : 0.7762\n",
      "Precision : 0.2099\n",
      "Recall : 0.808989\n"
     ]
    },
    {
     "data": {
      "text/plain": [
       "<Figure size 640x480 with 0 Axes>"
      ]
     },
     "metadata": {},
     "output_type": "display_data"
    },
    {
     "name": "stderr",
     "output_type": "stream",
     "text": [
      "Downloading artifacts: 100%|███████████████████████████████████| 7/7 [00:00<00:00, 739.48it/s]\n"
     ]
    },
    {
     "name": "stdout",
     "output_type": "stream",
     "text": [
      "2390\n",
      "\n",
      "Model Report Train\n",
      "AUC Score : 0.928368\n",
      "Accuracy : 0.8462\n",
      "Precision : 0.837\n",
      "Recall : 0.860335\n",
      "\n",
      "Model Report Test\n",
      "AUC Score : 0.884794\n",
      "Accuracy : 0.812\n",
      "Precision : 0.2475\n",
      "Recall : 0.842697\n"
     ]
    },
    {
     "data": {
      "text/plain": [
       "<Figure size 640x480 with 0 Axes>"
      ]
     },
     "metadata": {},
     "output_type": "display_data"
    },
    {
     "name": "stderr",
     "output_type": "stream",
     "text": [
      "Downloading artifacts: 100%|███████████████████████████████████| 7/7 [00:00<00:00, 856.38it/s]\n"
     ]
    },
    {
     "name": "stdout",
     "output_type": "stream",
     "text": [
      "2405\n",
      "\n",
      "Model Report Train\n",
      "AUC Score : 0.915872\n",
      "Accuracy : 0.8503\n",
      "Precision : 0.8365\n",
      "Recall : 0.871508\n",
      "\n",
      "Model Report Test\n",
      "AUC Score : 0.897971\n",
      "Accuracy : 0.7809\n",
      "Precision : 0.2219\n",
      "Recall : 0.865169\n"
     ]
    },
    {
     "data": {
      "text/plain": [
       "<Figure size 640x480 with 0 Axes>"
      ]
     },
     "metadata": {},
     "output_type": "display_data"
    },
    {
     "name": "stderr",
     "output_type": "stream",
     "text": [
      "Downloading artifacts: 100%|██████████████████████████████████| 7/7 [00:00<00:00, 1899.47it/s]\n"
     ]
    },
    {
     "name": "stdout",
     "output_type": "stream",
     "text": [
      "2420\n",
      "\n",
      "Model Report Train\n",
      "AUC Score : 0.925829\n",
      "Accuracy : 0.8364\n",
      "Precision : 0.8066\n",
      "Recall : 0.885475\n",
      "\n",
      "Model Report Test\n",
      "AUC Score : 0.896063\n",
      "Accuracy : 0.8182\n",
      "Precision : 0.2559\n",
      "Recall : 0.853933\n"
     ]
    },
    {
     "data": {
      "text/plain": [
       "<Figure size 640x480 with 0 Axes>"
      ]
     },
     "metadata": {},
     "output_type": "display_data"
    },
    {
     "name": "stderr",
     "output_type": "stream",
     "text": [
      "Downloading artifacts: 100%|██████████████████████████████████| 7/7 [00:00<00:00, 1199.30it/s]\n"
     ]
    },
    {
     "name": "stdout",
     "output_type": "stream",
     "text": [
      "2435\n",
      "\n",
      "Model Report Train\n",
      "AUC Score : 0.926686\n",
      "Accuracy : 0.8545\n",
      "Precision : 0.829\n",
      "Recall : 0.893855\n",
      "\n",
      "Model Report Test\n",
      "AUC Score : 0.895749\n",
      "Accuracy : 0.7824\n",
      "Precision : 0.2264\n",
      "Recall : 0.887640\n"
     ]
    },
    {
     "data": {
      "text/plain": [
       "<Figure size 640x480 with 0 Axes>"
      ]
     },
     "metadata": {},
     "output_type": "display_data"
    },
    {
     "name": "stderr",
     "output_type": "stream",
     "text": [
      "Downloading artifacts: 100%|██████████████████████████████████| 7/7 [00:00<00:00, 1329.90it/s]\n"
     ]
    },
    {
     "name": "stdout",
     "output_type": "stream",
     "text": [
      "2450\n",
      "\n",
      "Model Report Train\n",
      "AUC Score : 0.923313\n",
      "Accuracy : 0.8364\n",
      "Precision : 0.8114\n",
      "Recall : 0.877095\n",
      "\n",
      "Model Report Test\n",
      "AUC Score : 0.887701\n",
      "Accuracy : 0.8081\n",
      "Precision : 0.2401\n",
      "Recall : 0.820225\n"
     ]
    },
    {
     "data": {
      "text/plain": [
       "<Figure size 640x480 with 0 Axes>"
      ]
     },
     "metadata": {},
     "output_type": "display_data"
    },
    {
     "name": "stderr",
     "output_type": "stream",
     "text": [
      "Downloading artifacts: 100%|███████████████████████████████████| 7/7 [00:00<00:00, 681.08it/s]\n"
     ]
    },
    {
     "name": "stdout",
     "output_type": "stream",
     "text": [
      "2465\n",
      "\n",
      "Model Report Train\n",
      "AUC Score : 0.938101\n",
      "Accuracy : 0.8587\n",
      "Precision : 0.8408\n",
      "Recall : 0.885475\n",
      "\n",
      "Model Report Test\n",
      "AUC Score : 0.886093\n",
      "Accuracy : 0.7887\n",
      "Precision : 0.2252\n",
      "Recall : 0.842697\n"
     ]
    },
    {
     "data": {
      "text/plain": [
       "<Figure size 640x480 with 0 Axes>"
      ]
     },
     "metadata": {},
     "output_type": "display_data"
    },
    {
     "name": "stderr",
     "output_type": "stream",
     "text": [
      "Downloading artifacts: 100%|███████████████████████████████████| 7/7 [00:00<00:00, 834.45it/s]\n"
     ]
    },
    {
     "name": "stdout",
     "output_type": "stream",
     "text": [
      "2480\n",
      "\n",
      "Model Report Train\n",
      "AUC Score : 0.930711\n",
      "Accuracy : 0.8476\n",
      "Precision : 0.8234\n",
      "Recall : 0.885475\n",
      "\n",
      "Model Report Test\n",
      "AUC Score : 0.888939\n",
      "Accuracy : 0.7786\n",
      "Precision : 0.22\n",
      "Recall : 0.865169\n"
     ]
    },
    {
     "data": {
      "text/plain": [
       "<Figure size 640x480 with 0 Axes>"
      ]
     },
     "metadata": {},
     "output_type": "display_data"
    },
    {
     "name": "stderr",
     "output_type": "stream",
     "text": [
      "Downloading artifacts: 100%|███████████████████████████████████| 7/7 [00:00<00:00, 588.99it/s]\n"
     ]
    },
    {
     "name": "stdout",
     "output_type": "stream",
     "text": [
      "2495\n",
      "\n",
      "Model Report Train\n",
      "AUC Score : 0.923697\n",
      "Accuracy : 0.8587\n",
      "Precision : 0.8391\n",
      "Recall : 0.888268\n",
      "\n",
      "Model Report Test\n",
      "AUC Score : 0.889329\n",
      "Accuracy : 0.7949\n",
      "Precision : 0.234\n",
      "Recall : 0.865169\n"
     ]
    },
    {
     "data": {
      "text/plain": [
       "<Figure size 640x480 with 0 Axes>"
      ]
     },
     "metadata": {},
     "output_type": "display_data"
    },
    {
     "name": "stderr",
     "output_type": "stream",
     "text": [
      "Downloading artifacts: 100%|███████████████████████████████████| 7/7 [00:00<00:00, 517.72it/s]\n"
     ]
    },
    {
     "name": "stdout",
     "output_type": "stream",
     "text": [
      "2510\n",
      "\n",
      "Model Report Train\n",
      "AUC Score : 0.934843\n",
      "Accuracy : 0.8434\n",
      "Precision : 0.8203\n",
      "Recall : 0.879888\n",
      "\n",
      "Model Report Test\n",
      "AUC Score : 0.879256\n",
      "Accuracy : 0.7894\n",
      "Precision : 0.2226\n",
      "Recall : 0.820225\n"
     ]
    },
    {
     "data": {
      "text/plain": [
       "<Figure size 640x480 with 0 Axes>"
      ]
     },
     "metadata": {},
     "output_type": "display_data"
    },
    {
     "name": "stderr",
     "output_type": "stream",
     "text": [
      "Downloading artifacts: 100%|███████████████████████████████████| 7/7 [00:00<00:00, 924.73it/s]\n"
     ]
    },
    {
     "name": "stdout",
     "output_type": "stream",
     "text": [
      "2525\n",
      "\n",
      "Model Report Train\n",
      "AUC Score : 0.927038\n",
      "Accuracy : 0.8545\n",
      "Precision : 0.829\n",
      "Recall : 0.893855\n",
      "\n",
      "Model Report Test\n",
      "AUC Score : 0.892578\n",
      "Accuracy : 0.7894\n",
      "Precision : 0.2308\n",
      "Recall : 0.876404\n"
     ]
    },
    {
     "data": {
      "text/plain": [
       "<Figure size 640x480 with 0 Axes>"
      ]
     },
     "metadata": {},
     "output_type": "display_data"
    },
    {
     "name": "stderr",
     "output_type": "stream",
     "text": [
      "Downloading artifacts: 100%|███████████████████████████████████| 7/7 [00:00<00:00, 435.29it/s]\n"
     ]
    },
    {
     "name": "stdout",
     "output_type": "stream",
     "text": [
      "2540\n",
      "\n",
      "Model Report Train\n",
      "AUC Score : 0.935148\n",
      "Accuracy : 0.8657\n",
      "Precision : 0.8541\n",
      "Recall : 0.882682\n",
      "\n",
      "Model Report Test\n",
      "AUC Score : 0.881830\n",
      "Accuracy : 0.7925\n",
      "Precision : 0.2303\n",
      "Recall : 0.853933\n"
     ]
    },
    {
     "data": {
      "text/plain": [
       "<Figure size 640x480 with 0 Axes>"
      ]
     },
     "metadata": {},
     "output_type": "display_data"
    },
    {
     "name": "stderr",
     "output_type": "stream",
     "text": [
      "Downloading artifacts: 100%|███████████████████████████████████| 7/7 [00:00<00:00, 969.14it/s]\n"
     ]
    },
    {
     "name": "stdout",
     "output_type": "stream",
     "text": [
      "2555\n",
      "\n",
      "Model Report Train\n",
      "AUC Score : 0.935488\n",
      "Accuracy : 0.8699\n",
      "Precision : 0.8591\n",
      "Recall : 0.885475\n",
      "\n",
      "Model Report Test\n",
      "AUC Score : 0.886168\n",
      "Accuracy : 0.7894\n",
      "Precision : 0.2259\n",
      "Recall : 0.842697\n"
     ]
    },
    {
     "data": {
      "text/plain": [
       "<Figure size 640x480 with 0 Axes>"
      ]
     },
     "metadata": {},
     "output_type": "display_data"
    },
    {
     "name": "stderr",
     "output_type": "stream",
     "text": [
      "Downloading artifacts: 100%|███████████████████████████████████| 7/7 [00:00<00:00, 759.88it/s]\n"
     ]
    },
    {
     "name": "stdout",
     "output_type": "stream",
     "text": [
      "2570\n",
      "\n",
      "Model Report Train\n",
      "AUC Score : 0.921678\n",
      "Accuracy : 0.8406\n",
      "Precision : 0.8112\n",
      "Recall : 0.888268\n",
      "\n",
      "Model Report Test\n",
      "AUC Score : 0.898623\n",
      "Accuracy : 0.805\n",
      "Precision : 0.242\n",
      "Recall : 0.853933\n"
     ]
    },
    {
     "data": {
      "text/plain": [
       "<Figure size 640x480 with 0 Axes>"
      ]
     },
     "metadata": {},
     "output_type": "display_data"
    },
    {
     "name": "stderr",
     "output_type": "stream",
     "text": [
      "Downloading artifacts: 100%|███████████████████████████████████| 7/7 [00:00<00:00, 593.03it/s]\n"
     ]
    },
    {
     "name": "stdout",
     "output_type": "stream",
     "text": [
      "2585\n",
      "\n",
      "Model Report Train\n",
      "AUC Score : 0.932754\n",
      "Accuracy : 0.8601\n",
      "Precision : 0.8413\n",
      "Recall : 0.888268\n",
      "\n",
      "Model Report Test\n",
      "AUC Score : 0.906924\n",
      "Accuracy : 0.805\n",
      "Precision : 0.2484\n",
      "Recall : 0.898876\n"
     ]
    },
    {
     "data": {
      "text/plain": [
       "<Figure size 640x480 with 0 Axes>"
      ]
     },
     "metadata": {},
     "output_type": "display_data"
    },
    {
     "name": "stderr",
     "output_type": "stream",
     "text": [
      "Downloading artifacts: 100%|███████████████████████████████████| 7/7 [00:00<00:00, 836.23it/s]\n"
     ]
    },
    {
     "name": "stdout",
     "output_type": "stream",
     "text": [
      "2600\n",
      "\n",
      "Model Report Train\n",
      "AUC Score : 0.938442\n",
      "Accuracy : 0.8699\n",
      "Precision : 0.8571\n",
      "Recall : 0.888268\n",
      "\n",
      "Model Report Test\n",
      "AUC Score : 0.881263\n",
      "Accuracy : 0.7933\n",
      "Precision : 0.2226\n",
      "Recall : 0.797753\n"
     ]
    },
    {
     "data": {
      "text/plain": [
       "<Figure size 640x480 with 0 Axes>"
      ]
     },
     "metadata": {},
     "output_type": "display_data"
    },
    {
     "name": "stderr",
     "output_type": "stream",
     "text": [
      "Downloading artifacts: 100%|██████████████████████████████████| 7/7 [00:00<00:00, 1612.49it/s]\n"
     ]
    },
    {
     "name": "stdout",
     "output_type": "stream",
     "text": [
      "2615\n",
      "\n",
      "Model Report Train\n",
      "AUC Score : 0.931549\n",
      "Accuracy : 0.8615\n",
      "Precision : 0.8346\n",
      "Recall : 0.902235\n",
      "\n",
      "Model Report Test\n",
      "AUC Score : 0.897915\n",
      "Accuracy : 0.7902\n",
      "Precision : 0.2315\n",
      "Recall : 0.876404\n"
     ]
    },
    {
     "data": {
      "text/plain": [
       "<Figure size 640x480 with 0 Axes>"
      ]
     },
     "metadata": {},
     "output_type": "display_data"
    },
    {
     "name": "stderr",
     "output_type": "stream",
     "text": [
      "Downloading artifacts: 100%|███████████████████████████████████| 7/7 [00:00<00:00, 777.77it/s]\n"
     ]
    },
    {
     "name": "stdout",
     "output_type": "stream",
     "text": [
      "2630\n",
      "\n",
      "Model Report Train\n",
      "AUC Score : 0.935191\n",
      "Accuracy : 0.8545\n",
      "Precision : 0.8325\n",
      "Recall : 0.888268\n",
      "\n",
      "Model Report Test\n",
      "AUC Score : 0.892161\n",
      "Accuracy : 0.7832\n",
      "Precision : 0.2222\n",
      "Recall : 0.853933\n"
     ]
    },
    {
     "data": {
      "text/plain": [
       "<Figure size 640x480 with 0 Axes>"
      ]
     },
     "metadata": {},
     "output_type": "display_data"
    },
    {
     "name": "stderr",
     "output_type": "stream",
     "text": [
      "Downloading artifacts: 100%|██████████████████████████████████| 7/7 [00:00<00:00, 1300.27it/s]\n"
     ]
    },
    {
     "name": "stdout",
     "output_type": "stream",
     "text": [
      "2645\n",
      "\n",
      "Model Report Train\n",
      "AUC Score : 0.928873\n",
      "Accuracy : 0.8462\n",
      "Precision : 0.828\n",
      "Recall : 0.874302\n",
      "\n",
      "Model Report Test\n",
      "AUC Score : 0.891997\n",
      "Accuracy : 0.8073\n",
      "Precision : 0.2492\n",
      "Recall : 0.887640\n"
     ]
    },
    {
     "data": {
      "text/plain": [
       "<Figure size 640x480 with 0 Axes>"
      ]
     },
     "metadata": {},
     "output_type": "display_data"
    },
    {
     "name": "stderr",
     "output_type": "stream",
     "text": [
      "Downloading artifacts: 100%|███████████████████████████████████| 7/7 [00:00<00:00, 771.42it/s]\n"
     ]
    },
    {
     "name": "stdout",
     "output_type": "stream",
     "text": [
      "2660\n",
      "\n",
      "Model Report Train\n",
      "AUC Score : 0.913721\n",
      "Accuracy : 0.8462\n",
      "Precision : 0.8246\n",
      "Recall : 0.879888\n",
      "\n",
      "Model Report Test\n",
      "AUC Score : 0.892166\n",
      "Accuracy : 0.7902\n",
      "Precision : 0.2249\n",
      "Recall : 0.831461\n"
     ]
    },
    {
     "data": {
      "text/plain": [
       "<Figure size 640x480 with 0 Axes>"
      ]
     },
     "metadata": {},
     "output_type": "display_data"
    },
    {
     "name": "stderr",
     "output_type": "stream",
     "text": [
      "Downloading artifacts: 100%|███████████████████████████████████| 7/7 [00:00<00:00, 826.12it/s]\n"
     ]
    },
    {
     "name": "stdout",
     "output_type": "stream",
     "text": [
      "2675\n",
      "\n",
      "Model Report Train\n",
      "AUC Score : 0.941493\n",
      "Accuracy : 0.8629\n",
      "Precision : 0.8514\n",
      "Recall : 0.879888\n",
      "\n",
      "Model Report Test\n",
      "AUC Score : 0.882309\n",
      "Accuracy : 0.7894\n",
      "Precision : 0.2242\n",
      "Recall : 0.831461\n"
     ]
    },
    {
     "data": {
      "text/plain": [
       "<Figure size 640x480 with 0 Axes>"
      ]
     },
     "metadata": {},
     "output_type": "display_data"
    },
    {
     "name": "stderr",
     "output_type": "stream",
     "text": [
      "Downloading artifacts: 100%|██████████████████████████████████| 7/7 [00:00<00:00, 1602.63it/s]\n"
     ]
    },
    {
     "name": "stdout",
     "output_type": "stream",
     "text": [
      "2690\n",
      "\n",
      "Model Report Train\n",
      "AUC Score : 0.936924\n",
      "Accuracy : 0.8615\n",
      "Precision : 0.8435\n",
      "Recall : 0.888268\n",
      "\n",
      "Model Report Test\n",
      "AUC Score : 0.895847\n",
      "Accuracy : 0.7902\n",
      "Precision : 0.2299\n",
      "Recall : 0.865169\n"
     ]
    },
    {
     "data": {
      "text/plain": [
       "<Figure size 640x480 with 0 Axes>"
      ]
     },
     "metadata": {},
     "output_type": "display_data"
    },
    {
     "name": "stderr",
     "output_type": "stream",
     "text": [
      "Downloading artifacts: 100%|██████████████████████████████████| 7/7 [00:00<00:00, 1648.98it/s]\n"
     ]
    },
    {
     "name": "stdout",
     "output_type": "stream",
     "text": [
      "2705\n",
      "\n",
      "Model Report Train\n",
      "AUC Score : 0.944584\n",
      "Accuracy : 0.8755\n",
      "Precision : 0.8625\n",
      "Recall : 0.893855\n",
      "\n",
      "Model Report Test\n",
      "AUC Score : 0.891608\n",
      "Accuracy : 0.7622\n",
      "Precision : 0.2107\n",
      "Recall : 0.887640\n"
     ]
    },
    {
     "data": {
      "text/plain": [
       "<Figure size 640x480 with 0 Axes>"
      ]
     },
     "metadata": {},
     "output_type": "display_data"
    },
    {
     "name": "stderr",
     "output_type": "stream",
     "text": [
      "Downloading artifacts: 100%|██████████████████████████████████| 7/7 [00:00<00:00, 1435.14it/s]\n"
     ]
    },
    {
     "name": "stdout",
     "output_type": "stream",
     "text": [
      "2720\n",
      "\n",
      "Model Report Train\n",
      "AUC Score : 0.929338\n",
      "Accuracy : 0.8545\n",
      "Precision : 0.8325\n",
      "Recall : 0.888268\n",
      "\n",
      "Model Report Test\n",
      "AUC Score : 0.894023\n",
      "Accuracy : 0.8026\n",
      "Precision : 0.2381\n",
      "Recall : 0.842697\n"
     ]
    },
    {
     "data": {
      "text/plain": [
       "<Figure size 640x480 with 0 Axes>"
      ]
     },
     "metadata": {},
     "output_type": "display_data"
    },
    {
     "name": "stderr",
     "output_type": "stream",
     "text": [
      "Downloading artifacts: 100%|███████████████████████████████████| 7/7 [00:00<00:00, 724.40it/s]\n"
     ]
    },
    {
     "name": "stdout",
     "output_type": "stream",
     "text": [
      "2735\n",
      "\n",
      "Model Report Train\n",
      "AUC Score : 0.927531\n",
      "Accuracy : 0.8503\n",
      "Precision : 0.8365\n",
      "Recall : 0.871508\n",
      "\n",
      "Model Report Test\n",
      "AUC Score : 0.895186\n",
      "Accuracy : 0.8026\n",
      "Precision : 0.243\n",
      "Recall : 0.876404\n"
     ]
    },
    {
     "data": {
      "text/plain": [
       "<Figure size 640x480 with 0 Axes>"
      ]
     },
     "metadata": {},
     "output_type": "display_data"
    },
    {
     "name": "stderr",
     "output_type": "stream",
     "text": [
      "Downloading artifacts: 100%|███████████████████████████████████| 7/7 [00:00<00:00, 936.08it/s]\n"
     ]
    },
    {
     "name": "stdout",
     "output_type": "stream",
     "text": [
      "2750\n",
      "\n",
      "Model Report Train\n",
      "AUC Score : 0.938516\n",
      "Accuracy : 0.8643\n",
      "Precision : 0.8499\n",
      "Recall : 0.885475\n",
      "\n",
      "Model Report Test\n",
      "AUC Score : 0.899664\n",
      "Accuracy : 0.7949\n",
      "Precision : 0.2372\n",
      "Recall : 0.887640\n"
     ]
    },
    {
     "data": {
      "text/plain": [
       "<Figure size 640x480 with 0 Axes>"
      ]
     },
     "metadata": {},
     "output_type": "display_data"
    },
    {
     "name": "stderr",
     "output_type": "stream",
     "text": [
      "Downloading artifacts: 100%|██████████████████████████████████| 7/7 [00:00<00:00, 1133.42it/s]\n"
     ]
    },
    {
     "name": "stdout",
     "output_type": "stream",
     "text": [
      "2765\n",
      "\n",
      "Model Report Train\n",
      "AUC Score : 0.929851\n",
      "Accuracy : 0.8545\n",
      "Precision : 0.8414\n",
      "Recall : 0.874302\n",
      "\n",
      "Model Report Test\n",
      "AUC Score : 0.878665\n",
      "Accuracy : 0.7879\n",
      "Precision : 0.2246\n",
      "Recall : 0.842697\n"
     ]
    },
    {
     "data": {
      "text/plain": [
       "<Figure size 640x480 with 0 Axes>"
      ]
     },
     "metadata": {},
     "output_type": "display_data"
    },
    {
     "name": "stderr",
     "output_type": "stream",
     "text": [
      "Downloading artifacts: 100%|██████████████████████████████████| 7/7 [00:00<00:00, 1144.24it/s]\n"
     ]
    },
    {
     "name": "stdout",
     "output_type": "stream",
     "text": [
      "2780\n",
      "\n",
      "Model Report Train\n",
      "AUC Score : 0.932221\n",
      "Accuracy : 0.8573\n",
      "Precision : 0.8386\n",
      "Recall : 0.885475\n",
      "\n",
      "Model Report Test\n",
      "AUC Score : 0.890215\n",
      "Accuracy : 0.7832\n",
      "Precision : 0.2222\n",
      "Recall : 0.853933\n"
     ]
    },
    {
     "data": {
      "text/plain": [
       "<Figure size 640x480 with 0 Axes>"
      ]
     },
     "metadata": {},
     "output_type": "display_data"
    },
    {
     "name": "stderr",
     "output_type": "stream",
     "text": [
      "Downloading artifacts: 100%|███████████████████████████████████| 7/7 [00:00<00:00, 729.77it/s]\n"
     ]
    },
    {
     "name": "stdout",
     "output_type": "stream",
     "text": [
      "2795\n",
      "\n",
      "Model Report Train\n",
      "AUC Score : 0.934807\n",
      "Accuracy : 0.8615\n",
      "Precision : 0.8509\n",
      "Recall : 0.877095\n",
      "\n",
      "Model Report Test\n",
      "AUC Score : 0.888794\n",
      "Accuracy : 0.7855\n",
      "Precision : 0.2242\n",
      "Recall : 0.853933\n"
     ]
    },
    {
     "data": {
      "text/plain": [
       "<Figure size 640x480 with 0 Axes>"
      ]
     },
     "metadata": {},
     "output_type": "display_data"
    },
    {
     "name": "stderr",
     "output_type": "stream",
     "text": [
      "Downloading artifacts: 100%|██████████████████████████████████| 7/7 [00:00<00:00, 1058.63it/s]\n"
     ]
    },
    {
     "name": "stdout",
     "output_type": "stream",
     "text": [
      "2810\n",
      "\n",
      "Model Report Train\n",
      "AUC Score : 0.937190\n",
      "Accuracy : 0.8587\n",
      "Precision : 0.8445\n",
      "Recall : 0.879888\n",
      "\n",
      "Model Report Test\n",
      "AUC Score : 0.901732\n",
      "Accuracy : 0.784\n",
      "Precision : 0.2245\n",
      "Recall : 0.865169\n"
     ]
    },
    {
     "data": {
      "text/plain": [
       "<Figure size 640x480 with 0 Axes>"
      ]
     },
     "metadata": {},
     "output_type": "display_data"
    },
    {
     "name": "stderr",
     "output_type": "stream",
     "text": [
      "Downloading artifacts: 100%|███████████████████████████████████| 7/7 [00:00<00:00, 553.20it/s]\n"
     ]
    },
    {
     "name": "stdout",
     "output_type": "stream",
     "text": [
      "2825\n",
      "\n",
      "Model Report Train\n",
      "AUC Score : 0.929964\n",
      "Accuracy : 0.8503\n",
      "Precision : 0.8347\n",
      "Recall : 0.874302\n",
      "\n",
      "Model Report Test\n",
      "AUC Score : 0.900068\n",
      "Accuracy : 0.7824\n",
      "Precision : 0.2248\n",
      "Recall : 0.876404\n"
     ]
    },
    {
     "data": {
      "text/plain": [
       "<Figure size 640x480 with 0 Axes>"
      ]
     },
     "metadata": {},
     "output_type": "display_data"
    },
    {
     "name": "stderr",
     "output_type": "stream",
     "text": [
      "Downloading artifacts: 100%|███████████████████████████████████| 7/7 [00:00<00:00, 607.72it/s]\n"
     ]
    },
    {
     "name": "stdout",
     "output_type": "stream",
     "text": [
      "2840\n",
      "\n",
      "Model Report Train\n",
      "AUC Score : 0.939721\n",
      "Accuracy : 0.8643\n",
      "Precision : 0.8425\n",
      "Recall : 0.896648\n",
      "\n",
      "Model Report Test\n",
      "AUC Score : 0.884076\n",
      "Accuracy : 0.784\n",
      "Precision : 0.2261\n",
      "Recall : 0.876404\n"
     ]
    },
    {
     "data": {
      "text/plain": [
       "<Figure size 640x480 with 0 Axes>"
      ]
     },
     "metadata": {},
     "output_type": "display_data"
    },
    {
     "name": "stderr",
     "output_type": "stream",
     "text": [
      "Downloading artifacts: 100%|███████████████████████████████████| 7/7 [00:00<00:00, 700.75it/s]\n"
     ]
    },
    {
     "name": "stdout",
     "output_type": "stream",
     "text": [
      "2855\n",
      "\n",
      "Model Report Train\n",
      "AUC Score : 0.933270\n",
      "Accuracy : 0.8601\n",
      "Precision : 0.8505\n",
      "Recall : 0.874302\n",
      "\n",
      "Model Report Test\n",
      "AUC Score : 0.892686\n",
      "Accuracy : 0.7918\n",
      "Precision : 0.2344\n",
      "Recall : 0.887640\n"
     ]
    },
    {
     "data": {
      "text/plain": [
       "<Figure size 640x480 with 0 Axes>"
      ]
     },
     "metadata": {},
     "output_type": "display_data"
    },
    {
     "name": "stderr",
     "output_type": "stream",
     "text": [
      "Downloading artifacts: 100%|███████████████████████████████████| 7/7 [00:00<00:00, 734.19it/s]\n"
     ]
    },
    {
     "name": "stdout",
     "output_type": "stream",
     "text": [
      "2870\n",
      "\n",
      "Model Report Train\n",
      "AUC Score : 0.942045\n",
      "Accuracy : 0.8895\n",
      "Precision : 0.87\n",
      "Recall : 0.916201\n",
      "\n",
      "Model Report Test\n",
      "AUC Score : 0.903303\n",
      "Accuracy : 0.7855\n",
      "Precision : 0.2321\n",
      "Recall : 0.910112\n"
     ]
    },
    {
     "data": {
      "text/plain": [
       "<Figure size 640x480 with 0 Axes>"
      ]
     },
     "metadata": {},
     "output_type": "display_data"
    },
    {
     "name": "stderr",
     "output_type": "stream",
     "text": [
      "Downloading artifacts: 100%|███████████████████████████████████| 7/7 [00:00<00:00, 927.74it/s]\n"
     ]
    }
   ],
   "source": [
    "#\n",
    "file_path_replies = r\"/home/azureuser/rumour-detection-pheme/replies_charlie_hebdo.pkl\"\n",
    "file_path_posts = r\"/home/azureuser/rumour-detection-pheme/posts_charlie_hebdo.pkl\"\n",
    "\n",
    "for time_cut in range(5,48*60,15):\n",
    "    print(time_cut)\n",
    "    processor = LoadRumoursDataset(file_path_replies, file_path_posts, time_cut)\n",
    "    processor.load_data()\n",
    "    processor.process_data()\n",
    "    df_final = processor.get_final_dataframe()\n",
    "    df_final['id'] = [uuid.uuid4() for _ in range(len(df_final))]\n",
    "    df_not_rumours = df_final[df_final.rumour==0]\n",
    "\n",
    "    n =  df_final[df_final.rumour==1].shape[0]  # Unique number of values in 'replies' column\n",
    "\n",
    "    # Group by 'replies' and sample 'n' rows from each group\n",
    "    subset_df_not_rumours= df_not_rumours.sample(n= n)\n",
    "    df_final_balanced =pd.concat([subset_df_not_rumours,df_final[df_final.rumour==1]])\n",
    "    df_final_remaining = df_final[(~df_final.id.isin(subset_df_not_rumours.id))&(df_final.rumour==0)]\n",
    "\n",
    "    X  = df_final_balanced.drop(columns=['rumour','id'])\n",
    "    X = np.hstack([X.drop(columns=['embeddings_avg']).values, np.array(pd.DataFrame(X.embeddings_avg.tolist()))])\n",
    "    y =df_final_balanced['rumour']\n",
    "\n",
    "    # Split the data into training and testing sets\n",
    "    X_train, X_test, y_train, y_test = train_test_split(\n",
    "        X, y, test_size=0.2, random_state=42,stratify=y,shuffle=True\n",
    "    )\n",
    "\n",
    "    X_test_all  = df_final_remaining.drop(columns=['rumour','id'])\n",
    "    X_test_all = np.hstack([X_test_all.drop(columns=['embeddings_avg']).values, np.array(pd.DataFrame(X_test_all.embeddings_avg.tolist()))])\n",
    "    y_test_all =df_final_remaining['rumour']\n",
    "    X_test_all = np.concatenate((X_test_all, X_test), axis=0)\n",
    "    y_test_all = pd.concat([y_test_all, y_test], axis=0)\n",
    "    \n",
    "    gbm_tuned_1 = GradientBoostingClassifier(learning_rate=0.01, n_estimators=15,min_samples_split=12,min_samples_leaf=5,\\\n",
    "                                         subsample=0.8,max_features='sqrt')\n",
    "    \n",
    "    modelfit(gbm_tuned_1,  X_train, y_train,X_test_all,y_test_all)"
   ]
  },
  {
   "cell_type": "code",
   "execution_count": null,
   "id": "5075aafb",
   "metadata": {},
   "outputs": [],
   "source": [
    "#Choose all predictors except target & IDcols\n",
    "gbm_tuned_1 = GradientBoostingClassifier(learning_rate=0.01, n_estimators=15,min_samples_split=12,min_samples_leaf=5,\\\n",
    "                                         subsample=0.8,max_features='sqrt')\n",
    "modelfit(gbm_tuned_1,  X_train, y_train,X_test_all,y_test_all)"
   ]
  },
  {
   "cell_type": "code",
   "execution_count": 21,
   "id": "62ecc9fe",
   "metadata": {},
   "outputs": [],
   "source": [
    "\n",
    "\n",
    "# Get the experiment ID or name\n",
    "experiment_name = \"GradientBoosting 2024-08-24\"  # Replace with your experiment name\n",
    "experiment = mlflow.get_experiment_by_name(experiment_name)\n",
    "\n",
    "if experiment is not None:\n",
    "    experiment_id = experiment.experiment_id\n",
    "\n",
    "    # Retrieve all runs in the experiment as a DataFrame\n",
    "    df = mlflow.search_runs(experiment_ids=[experiment_id])\n",
    "    \n",
    "    # Show the DataFrame\n",
    "    #print(df)\n",
    "else:\n",
    "    print(f\"Experiment '{experiment_name}' not found.\")\n"
   ]
  },
  {
   "cell_type": "code",
   "execution_count": 29,
   "id": "193b6f92",
   "metadata": {},
   "outputs": [
    {
     "data": {
      "text/plain": [
       "Index(['run_id', 'experiment_id', 'status', 'artifact_uri', 'start_time',\n",
       "       'end_time', 'metrics.test_accuracy', 'metrics.test_auc',\n",
       "       'metrics.test_recall', 'metrics.train_recall', 'metrics.train_auc',\n",
       "       'metrics.time_cut', 'metrics.train_accuracy', 'metrics.train_precision',\n",
       "       'metrics.test_precision', 'params.ccp_alpha', 'params.loss',\n",
       "       'params.init', 'params.tol', 'params.max_features',\n",
       "       'params.n_iter_no_change', 'params.verbose', 'params.learning_rate',\n",
       "       'params.validation_fraction', 'params.min_samples_leaf',\n",
       "       'params.criterion', 'params.n_estimators', 'params.max_depth',\n",
       "       'params.min_samples_split', 'params.subsample', 'params.random_state',\n",
       "       'params.max_leaf_nodes', 'params.warm_start',\n",
       "       'params.min_weight_fraction_leaf', 'params.min_impurity_decrease',\n",
       "       'tags.mlflow.source.type', 'tags.mlflow.runName',\n",
       "       'tags.mlflow.source.name', 'tags.mlflow.user',\n",
       "       'tags.mlflow.log-model.history'],\n",
       "      dtype='object')"
      ]
     },
     "execution_count": 29,
     "metadata": {},
     "output_type": "execute_result"
    }
   ],
   "source": [
    "df.columns"
   ]
  },
  {
   "cell_type": "code",
   "execution_count": 30,
   "id": "d2c82155",
   "metadata": {},
   "outputs": [
    {
     "data": {
      "image/png": "[encoded data removed]",
      "text/plain": [
       "<Figure size 1000x600 with 1 Axes>"
      ]
     },
     "metadata": {},
     "output_type": "display_data"
    }
   ],
   "source": [
    "    # Ensure the metrics are numeric\n",
    "df['metrics.time_cut'] = pd.to_numeric(df['metrics.time_cut'], errors='coerce')\n",
    "df['metrics.test_recall'] = pd.to_numeric(df['metrics.test_recall'], errors='coerce')\n",
    "    \n",
    "# Plotting time_cut vs. test_accuracy\n",
    "plt.figure(figsize=(10, 6))\n",
    "sns.lineplot(x='metrics.time_cut', y='metrics.test_accuracy', data=df)\n",
    "plt.title('Time Cut vs. Test Recall')\n",
    "plt.xlabel('Time Cut')\n",
    "plt.ylabel('Test Recall')\n",
    "plt.grid(True)\n",
    "plt.show()"
   ]
  },
  {
   "cell_type": "code",
   "execution_count": 3,
   "id": "c84a4a3e",
   "metadata": {},
   "outputs": [],
   "source": [
    "import mlflow"
   ]
  },
  {
   "cell_type": "code",
   "execution_count": 5,
   "id": "8ee74afc-8f73-4e46-90e9-1fdfa3652b59",
   "metadata": {},
   "outputs": [
    {
     "name": "stderr",
     "output_type": "stream",
     "text": [
      "WARNING:root:Malformed experiment '6'. Detailed error Yaml file '/home/azureuser/rumour-detection-pheme/mlruns/6/meta.yaml' does not exist.\n",
      "Traceback (most recent call last):\n",
      "  File \"/home/azureuser/miniconda3/envs/mastering/lib/python3.12/site-packages/mlflow/store/tracking/file_store.py\", line 317, in search_experiments\n",
      "    exp = self._get_experiment(exp_id, view_type)\n",
      "          ^^^^^^^^^^^^^^^^^^^^^^^^^^^^^^^^^^^^^^^\n",
      "  File \"/home/azureuser/miniconda3/envs/mastering/lib/python3.12/site-packages/mlflow/store/tracking/file_store.py\", line 410, in _get_experiment\n",
      "    meta = FileStore._read_yaml(experiment_dir, FileStore.META_DATA_FILE_NAME)\n",
      "           ^^^^^^^^^^^^^^^^^^^^^^^^^^^^^^^^^^^^^^^^^^^^^^^^^^^^^^^^^^^^^^^^^^^\n",
      "  File \"/home/azureuser/miniconda3/envs/mastering/lib/python3.12/site-packages/mlflow/store/tracking/file_store.py\", line 1341, in _read_yaml\n",
      "    return _read_helper(root, file_name, attempts_remaining=retries)\n",
      "           ^^^^^^^^^^^^^^^^^^^^^^^^^^^^^^^^^^^^^^^^^^^^^^^^^^^^^^^^^\n",
      "  File \"/home/azureuser/miniconda3/envs/mastering/lib/python3.12/site-packages/mlflow/store/tracking/file_store.py\", line 1334, in _read_helper\n",
      "    result = read_yaml(root, file_name)\n",
      "             ^^^^^^^^^^^^^^^^^^^^^^^^^^\n",
      "  File \"/home/azureuser/miniconda3/envs/mastering/lib/python3.12/site-packages/mlflow/utils/file_utils.py\", line 309, in read_yaml\n",
      "    raise MissingConfigException(f\"Yaml file '{file_path}' does not exist.\")\n",
      "mlflow.exceptions.MissingConfigException: Yaml file '/home/azureuser/rumour-detection-pheme/mlruns/6/meta.yaml' does not exist.\n",
      "WARNING:root:Malformed experiment '7'. Detailed error Yaml file '/home/azureuser/rumour-detection-pheme/mlruns/7/meta.yaml' does not exist.\n",
      "Traceback (most recent call last):\n",
      "  File \"/home/azureuser/miniconda3/envs/mastering/lib/python3.12/site-packages/mlflow/store/tracking/file_store.py\", line 317, in search_experiments\n",
      "    exp = self._get_experiment(exp_id, view_type)\n",
      "          ^^^^^^^^^^^^^^^^^^^^^^^^^^^^^^^^^^^^^^^\n",
      "  File \"/home/azureuser/miniconda3/envs/mastering/lib/python3.12/site-packages/mlflow/store/tracking/file_store.py\", line 410, in _get_experiment\n",
      "    meta = FileStore._read_yaml(experiment_dir, FileStore.META_DATA_FILE_NAME)\n",
      "           ^^^^^^^^^^^^^^^^^^^^^^^^^^^^^^^^^^^^^^^^^^^^^^^^^^^^^^^^^^^^^^^^^^^\n",
      "  File \"/home/azureuser/miniconda3/envs/mastering/lib/python3.12/site-packages/mlflow/store/tracking/file_store.py\", line 1341, in _read_yaml\n",
      "    return _read_helper(root, file_name, attempts_remaining=retries)\n",
      "           ^^^^^^^^^^^^^^^^^^^^^^^^^^^^^^^^^^^^^^^^^^^^^^^^^^^^^^^^^\n",
      "  File \"/home/azureuser/miniconda3/envs/mastering/lib/python3.12/site-packages/mlflow/store/tracking/file_store.py\", line 1334, in _read_helper\n",
      "    result = read_yaml(root, file_name)\n",
      "             ^^^^^^^^^^^^^^^^^^^^^^^^^^\n",
      "  File \"/home/azureuser/miniconda3/envs/mastering/lib/python3.12/site-packages/mlflow/utils/file_utils.py\", line 309, in read_yaml\n",
      "    raise MissingConfigException(f\"Yaml file '{file_path}' does not exist.\")\n",
      "mlflow.exceptions.MissingConfigException: Yaml file '/home/azureuser/rumour-detection-pheme/mlruns/7/meta.yaml' does not exist.\n",
      "WARNING:root:Malformed experiment '5'. Detailed error Yaml file '/home/azureuser/rumour-detection-pheme/mlruns/5/meta.yaml' does not exist.\n",
      "Traceback (most recent call last):\n",
      "  File \"/home/azureuser/miniconda3/envs/mastering/lib/python3.12/site-packages/mlflow/store/tracking/file_store.py\", line 317, in search_experiments\n",
      "    exp = self._get_experiment(exp_id, view_type)\n",
      "          ^^^^^^^^^^^^^^^^^^^^^^^^^^^^^^^^^^^^^^^\n",
      "  File \"/home/azureuser/miniconda3/envs/mastering/lib/python3.12/site-packages/mlflow/store/tracking/file_store.py\", line 410, in _get_experiment\n",
      "    meta = FileStore._read_yaml(experiment_dir, FileStore.META_DATA_FILE_NAME)\n",
      "           ^^^^^^^^^^^^^^^^^^^^^^^^^^^^^^^^^^^^^^^^^^^^^^^^^^^^^^^^^^^^^^^^^^^\n",
      "  File \"/home/azureuser/miniconda3/envs/mastering/lib/python3.12/site-packages/mlflow/store/tracking/file_store.py\", line 1341, in _read_yaml\n",
      "    return _read_helper(root, file_name, attempts_remaining=retries)\n",
      "           ^^^^^^^^^^^^^^^^^^^^^^^^^^^^^^^^^^^^^^^^^^^^^^^^^^^^^^^^^\n",
      "  File \"/home/azureuser/miniconda3/envs/mastering/lib/python3.12/site-packages/mlflow/store/tracking/file_store.py\", line 1334, in _read_helper\n",
      "    result = read_yaml(root, file_name)\n",
      "             ^^^^^^^^^^^^^^^^^^^^^^^^^^\n",
      "  File \"/home/azureuser/miniconda3/envs/mastering/lib/python3.12/site-packages/mlflow/utils/file_utils.py\", line 309, in read_yaml\n",
      "    raise MissingConfigException(f\"Yaml file '{file_path}' does not exist.\")\n",
      "mlflow.exceptions.MissingConfigException: Yaml file '/home/azureuser/rumour-detection-pheme/mlruns/5/meta.yaml' does not exist.\n",
      "WARNING:root:Malformed experiment '12'. Detailed error Yaml file '/home/azureuser/rumour-detection-pheme/mlruns/12/meta.yaml' does not exist.\n",
      "Traceback (most recent call last):\n",
      "  File \"/home/azureuser/miniconda3/envs/mastering/lib/python3.12/site-packages/mlflow/store/tracking/file_store.py\", line 317, in search_experiments\n",
      "    exp = self._get_experiment(exp_id, view_type)\n",
      "          ^^^^^^^^^^^^^^^^^^^^^^^^^^^^^^^^^^^^^^^\n",
      "  File \"/home/azureuser/miniconda3/envs/mastering/lib/python3.12/site-packages/mlflow/store/tracking/file_store.py\", line 410, in _get_experiment\n",
      "    meta = FileStore._read_yaml(experiment_dir, FileStore.META_DATA_FILE_NAME)\n",
      "           ^^^^^^^^^^^^^^^^^^^^^^^^^^^^^^^^^^^^^^^^^^^^^^^^^^^^^^^^^^^^^^^^^^^\n",
      "  File \"/home/azureuser/miniconda3/envs/mastering/lib/python3.12/site-packages/mlflow/store/tracking/file_store.py\", line 1341, in _read_yaml\n",
      "    return _read_helper(root, file_name, attempts_remaining=retries)\n",
      "           ^^^^^^^^^^^^^^^^^^^^^^^^^^^^^^^^^^^^^^^^^^^^^^^^^^^^^^^^^\n",
      "  File \"/home/azureuser/miniconda3/envs/mastering/lib/python3.12/site-packages/mlflow/store/tracking/file_store.py\", line 1334, in _read_helper\n",
      "    result = read_yaml(root, file_name)\n",
      "             ^^^^^^^^^^^^^^^^^^^^^^^^^^\n",
      "  File \"/home/azureuser/miniconda3/envs/mastering/lib/python3.12/site-packages/mlflow/utils/file_utils.py\", line 309, in read_yaml\n",
      "    raise MissingConfigException(f\"Yaml file '{file_path}' does not exist.\")\n",
      "mlflow.exceptions.MissingConfigException: Yaml file '/home/azureuser/rumour-detection-pheme/mlruns/12/meta.yaml' does not exist.\n",
      "WARNING:root:Malformed experiment '9'. Detailed error Yaml file '/home/azureuser/rumour-detection-pheme/mlruns/9/meta.yaml' does not exist.\n",
      "Traceback (most recent call last):\n",
      "  File \"/home/azureuser/miniconda3/envs/mastering/lib/python3.12/site-packages/mlflow/store/tracking/file_store.py\", line 317, in search_experiments\n",
      "    exp = self._get_experiment(exp_id, view_type)\n",
      "          ^^^^^^^^^^^^^^^^^^^^^^^^^^^^^^^^^^^^^^^\n",
      "  File \"/home/azureuser/miniconda3/envs/mastering/lib/python3.12/site-packages/mlflow/store/tracking/file_store.py\", line 410, in _get_experiment\n",
      "    meta = FileStore._read_yaml(experiment_dir, FileStore.META_DATA_FILE_NAME)\n",
      "           ^^^^^^^^^^^^^^^^^^^^^^^^^^^^^^^^^^^^^^^^^^^^^^^^^^^^^^^^^^^^^^^^^^^\n",
      "  File \"/home/azureuser/miniconda3/envs/mastering/lib/python3.12/site-packages/mlflow/store/tracking/file_store.py\", line 1341, in _read_yaml\n",
      "    return _read_helper(root, file_name, attempts_remaining=retries)\n",
      "           ^^^^^^^^^^^^^^^^^^^^^^^^^^^^^^^^^^^^^^^^^^^^^^^^^^^^^^^^^\n",
      "  File \"/home/azureuser/miniconda3/envs/mastering/lib/python3.12/site-packages/mlflow/store/tracking/file_store.py\", line 1334, in _read_helper\n",
      "    result = read_yaml(root, file_name)\n",
      "             ^^^^^^^^^^^^^^^^^^^^^^^^^^\n",
      "  File \"/home/azureuser/miniconda3/envs/mastering/lib/python3.12/site-packages/mlflow/utils/file_utils.py\", line 309, in read_yaml\n",
      "    raise MissingConfigException(f\"Yaml file '{file_path}' does not exist.\")\n",
      "mlflow.exceptions.MissingConfigException: Yaml file '/home/azureuser/rumour-detection-pheme/mlruns/9/meta.yaml' does not exist.\n",
      "WARNING:root:Malformed experiment '4'. Detailed error Yaml file '/home/azureuser/rumour-detection-pheme/mlruns/4/meta.yaml' does not exist.\n",
      "Traceback (most recent call last):\n",
      "  File \"/home/azureuser/miniconda3/envs/mastering/lib/python3.12/site-packages/mlflow/store/tracking/file_store.py\", line 317, in search_experiments\n",
      "    exp = self._get_experiment(exp_id, view_type)\n",
      "          ^^^^^^^^^^^^^^^^^^^^^^^^^^^^^^^^^^^^^^^\n",
      "  File \"/home/azureuser/miniconda3/envs/mastering/lib/python3.12/site-packages/mlflow/store/tracking/file_store.py\", line 410, in _get_experiment\n",
      "    meta = FileStore._read_yaml(experiment_dir, FileStore.META_DATA_FILE_NAME)\n",
      "           ^^^^^^^^^^^^^^^^^^^^^^^^^^^^^^^^^^^^^^^^^^^^^^^^^^^^^^^^^^^^^^^^^^^\n",
      "  File \"/home/azureuser/miniconda3/envs/mastering/lib/python3.12/site-packages/mlflow/store/tracking/file_store.py\", line 1341, in _read_yaml\n",
      "    return _read_helper(root, file_name, attempts_remaining=retries)\n",
      "           ^^^^^^^^^^^^^^^^^^^^^^^^^^^^^^^^^^^^^^^^^^^^^^^^^^^^^^^^^\n",
      "  File \"/home/azureuser/miniconda3/envs/mastering/lib/python3.12/site-packages/mlflow/store/tracking/file_store.py\", line 1334, in _read_helper\n",
      "    result = read_yaml(root, file_name)\n",
      "             ^^^^^^^^^^^^^^^^^^^^^^^^^^\n",
      "  File \"/home/azureuser/miniconda3/envs/mastering/lib/python3.12/site-packages/mlflow/utils/file_utils.py\", line 309, in read_yaml\n",
      "    raise MissingConfigException(f\"Yaml file '{file_path}' does not exist.\")\n",
      "mlflow.exceptions.MissingConfigException: Yaml file '/home/azureuser/rumour-detection-pheme/mlruns/4/meta.yaml' does not exist.\n",
      "WARNING:root:Malformed experiment '11'. Detailed error Yaml file '/home/azureuser/rumour-detection-pheme/mlruns/11/meta.yaml' does not exist.\n",
      "Traceback (most recent call last):\n",
      "  File \"/home/azureuser/miniconda3/envs/mastering/lib/python3.12/site-packages/mlflow/store/tracking/file_store.py\", line 317, in search_experiments\n",
      "    exp = self._get_experiment(exp_id, view_type)\n",
      "          ^^^^^^^^^^^^^^^^^^^^^^^^^^^^^^^^^^^^^^^\n",
      "  File \"/home/azureuser/miniconda3/envs/mastering/lib/python3.12/site-packages/mlflow/store/tracking/file_store.py\", line 410, in _get_experiment\n",
      "    meta = FileStore._read_yaml(experiment_dir, FileStore.META_DATA_FILE_NAME)\n",
      "           ^^^^^^^^^^^^^^^^^^^^^^^^^^^^^^^^^^^^^^^^^^^^^^^^^^^^^^^^^^^^^^^^^^^\n",
      "  File \"/home/azureuser/miniconda3/envs/mastering/lib/python3.12/site-packages/mlflow/store/tracking/file_store.py\", line 1341, in _read_yaml\n",
      "    return _read_helper(root, file_name, attempts_remaining=retries)\n",
      "           ^^^^^^^^^^^^^^^^^^^^^^^^^^^^^^^^^^^^^^^^^^^^^^^^^^^^^^^^^\n",
      "  File \"/home/azureuser/miniconda3/envs/mastering/lib/python3.12/site-packages/mlflow/store/tracking/file_store.py\", line 1334, in _read_helper\n",
      "    result = read_yaml(root, file_name)\n",
      "             ^^^^^^^^^^^^^^^^^^^^^^^^^^\n",
      "  File \"/home/azureuser/miniconda3/envs/mastering/lib/python3.12/site-packages/mlflow/utils/file_utils.py\", line 309, in read_yaml\n",
      "    raise MissingConfigException(f\"Yaml file '{file_path}' does not exist.\")\n",
      "mlflow.exceptions.MissingConfigException: Yaml file '/home/azureuser/rumour-detection-pheme/mlruns/11/meta.yaml' does not exist.\n",
      "WARNING:root:Malformed experiment '10'. Detailed error Yaml file '/home/azureuser/rumour-detection-pheme/mlruns/10/meta.yaml' does not exist.\n",
      "Traceback (most recent call last):\n",
      "  File \"/home/azureuser/miniconda3/envs/mastering/lib/python3.12/site-packages/mlflow/store/tracking/file_store.py\", line 317, in search_experiments\n",
      "    exp = self._get_experiment(exp_id, view_type)\n",
      "          ^^^^^^^^^^^^^^^^^^^^^^^^^^^^^^^^^^^^^^^\n",
      "  File \"/home/azureuser/miniconda3/envs/mastering/lib/python3.12/site-packages/mlflow/store/tracking/file_store.py\", line 410, in _get_experiment\n",
      "    meta = FileStore._read_yaml(experiment_dir, FileStore.META_DATA_FILE_NAME)\n",
      "           ^^^^^^^^^^^^^^^^^^^^^^^^^^^^^^^^^^^^^^^^^^^^^^^^^^^^^^^^^^^^^^^^^^^\n",
      "  File \"/home/azureuser/miniconda3/envs/mastering/lib/python3.12/site-packages/mlflow/store/tracking/file_store.py\", line 1341, in _read_yaml\n",
      "    return _read_helper(root, file_name, attempts_remaining=retries)\n",
      "           ^^^^^^^^^^^^^^^^^^^^^^^^^^^^^^^^^^^^^^^^^^^^^^^^^^^^^^^^^\n",
      "  File \"/home/azureuser/miniconda3/envs/mastering/lib/python3.12/site-packages/mlflow/store/tracking/file_store.py\", line 1334, in _read_helper\n",
      "    result = read_yaml(root, file_name)\n",
      "             ^^^^^^^^^^^^^^^^^^^^^^^^^^\n",
      "  File \"/home/azureuser/miniconda3/envs/mastering/lib/python3.12/site-packages/mlflow/utils/file_utils.py\", line 309, in read_yaml\n",
      "    raise MissingConfigException(f\"Yaml file '{file_path}' does not exist.\")\n",
      "mlflow.exceptions.MissingConfigException: Yaml file '/home/azureuser/rumour-detection-pheme/mlruns/10/meta.yaml' does not exist.\n"
     ]
    },
    {
     "data": {
      "text/plain": [
       "[]"
      ]
     },
     "execution_count": 5,
     "metadata": {},
     "output_type": "execute_result"
    }
   ],
   "source": [
    "mlflow.search_experiments() "
   ]
  },
  {
   "cell_type": "code",
   "execution_count": 1,
   "id": "5fedcbbb",
   "metadata": {},
   "outputs": [
    {
     "name": "stderr",
     "output_type": "stream",
     "text": [
      "WARNING:root:Malformed experiment '6'. Detailed error Yaml file '/home/azureuser/rumour-detection-pheme/mlruns/6/meta.yaml' does not exist.\n",
      "Traceback (most recent call last):\n",
      "  File \"/home/azureuser/miniconda3/envs/mastering/lib/python3.12/site-packages/mlflow/store/tracking/file_store.py\", line 317, in search_experiments\n",
      "    exp = self._get_experiment(exp_id, view_type)\n",
      "          ^^^^^^^^^^^^^^^^^^^^^^^^^^^^^^^^^^^^^^^\n",
      "  File \"/home/azureuser/miniconda3/envs/mastering/lib/python3.12/site-packages/mlflow/store/tracking/file_store.py\", line 410, in _get_experiment\n",
      "    meta = FileStore._read_yaml(experiment_dir, FileStore.META_DATA_FILE_NAME)\n",
      "           ^^^^^^^^^^^^^^^^^^^^^^^^^^^^^^^^^^^^^^^^^^^^^^^^^^^^^^^^^^^^^^^^^^^\n",
      "  File \"/home/azureuser/miniconda3/envs/mastering/lib/python3.12/site-packages/mlflow/store/tracking/file_store.py\", line 1341, in _read_yaml\n",
      "    return _read_helper(root, file_name, attempts_remaining=retries)\n",
      "           ^^^^^^^^^^^^^^^^^^^^^^^^^^^^^^^^^^^^^^^^^^^^^^^^^^^^^^^^^\n",
      "  File \"/home/azureuser/miniconda3/envs/mastering/lib/python3.12/site-packages/mlflow/store/tracking/file_store.py\", line 1334, in _read_helper\n",
      "    result = read_yaml(root, file_name)\n",
      "             ^^^^^^^^^^^^^^^^^^^^^^^^^^\n",
      "  File \"/home/azureuser/miniconda3/envs/mastering/lib/python3.12/site-packages/mlflow/utils/file_utils.py\", line 309, in read_yaml\n",
      "    raise MissingConfigException(f\"Yaml file '{file_path}' does not exist.\")\n",
      "mlflow.exceptions.MissingConfigException: Yaml file '/home/azureuser/rumour-detection-pheme/mlruns/6/meta.yaml' does not exist.\n",
      "WARNING:root:Malformed experiment '7'. Detailed error Yaml file '/home/azureuser/rumour-detection-pheme/mlruns/7/meta.yaml' does not exist.\n",
      "Traceback (most recent call last):\n",
      "  File \"/home/azureuser/miniconda3/envs/mastering/lib/python3.12/site-packages/mlflow/store/tracking/file_store.py\", line 317, in search_experiments\n",
      "    exp = self._get_experiment(exp_id, view_type)\n",
      "          ^^^^^^^^^^^^^^^^^^^^^^^^^^^^^^^^^^^^^^^\n",
      "  File \"/home/azureuser/miniconda3/envs/mastering/lib/python3.12/site-packages/mlflow/store/tracking/file_store.py\", line 410, in _get_experiment\n",
      "    meta = FileStore._read_yaml(experiment_dir, FileStore.META_DATA_FILE_NAME)\n",
      "           ^^^^^^^^^^^^^^^^^^^^^^^^^^^^^^^^^^^^^^^^^^^^^^^^^^^^^^^^^^^^^^^^^^^\n",
      "  File \"/home/azureuser/miniconda3/envs/mastering/lib/python3.12/site-packages/mlflow/store/tracking/file_store.py\", line 1341, in _read_yaml\n",
      "    return _read_helper(root, file_name, attempts_remaining=retries)\n",
      "           ^^^^^^^^^^^^^^^^^^^^^^^^^^^^^^^^^^^^^^^^^^^^^^^^^^^^^^^^^\n",
      "  File \"/home/azureuser/miniconda3/envs/mastering/lib/python3.12/site-packages/mlflow/store/tracking/file_store.py\", line 1334, in _read_helper\n",
      "    result = read_yaml(root, file_name)\n",
      "             ^^^^^^^^^^^^^^^^^^^^^^^^^^\n",
      "  File \"/home/azureuser/miniconda3/envs/mastering/lib/python3.12/site-packages/mlflow/utils/file_utils.py\", line 309, in read_yaml\n",
      "    raise MissingConfigException(f\"Yaml file '{file_path}' does not exist.\")\n",
      "mlflow.exceptions.MissingConfigException: Yaml file '/home/azureuser/rumour-detection-pheme/mlruns/7/meta.yaml' does not exist.\n",
      "WARNING:root:Malformed experiment '5'. Detailed error Yaml file '/home/azureuser/rumour-detection-pheme/mlruns/5/meta.yaml' does not exist.\n",
      "Traceback (most recent call last):\n",
      "  File \"/home/azureuser/miniconda3/envs/mastering/lib/python3.12/site-packages/mlflow/store/tracking/file_store.py\", line 317, in search_experiments\n",
      "    exp = self._get_experiment(exp_id, view_type)\n",
      "          ^^^^^^^^^^^^^^^^^^^^^^^^^^^^^^^^^^^^^^^\n",
      "  File \"/home/azureuser/miniconda3/envs/mastering/lib/python3.12/site-packages/mlflow/store/tracking/file_store.py\", line 410, in _get_experiment\n",
      "    meta = FileStore._read_yaml(experiment_dir, FileStore.META_DATA_FILE_NAME)\n",
      "           ^^^^^^^^^^^^^^^^^^^^^^^^^^^^^^^^^^^^^^^^^^^^^^^^^^^^^^^^^^^^^^^^^^^\n",
      "  File \"/home/azureuser/miniconda3/envs/mastering/lib/python3.12/site-packages/mlflow/store/tracking/file_store.py\", line 1341, in _read_yaml\n",
      "    return _read_helper(root, file_name, attempts_remaining=retries)\n",
      "           ^^^^^^^^^^^^^^^^^^^^^^^^^^^^^^^^^^^^^^^^^^^^^^^^^^^^^^^^^\n",
      "  File \"/home/azureuser/miniconda3/envs/mastering/lib/python3.12/site-packages/mlflow/store/tracking/file_store.py\", line 1334, in _read_helper\n",
      "    result = read_yaml(root, file_name)\n",
      "             ^^^^^^^^^^^^^^^^^^^^^^^^^^\n",
      "  File \"/home/azureuser/miniconda3/envs/mastering/lib/python3.12/site-packages/mlflow/utils/file_utils.py\", line 309, in read_yaml\n",
      "    raise MissingConfigException(f\"Yaml file '{file_path}' does not exist.\")\n",
      "mlflow.exceptions.MissingConfigException: Yaml file '/home/azureuser/rumour-detection-pheme/mlruns/5/meta.yaml' does not exist.\n",
      "WARNING:root:Malformed experiment '12'. Detailed error Yaml file '/home/azureuser/rumour-detection-pheme/mlruns/12/meta.yaml' does not exist.\n",
      "Traceback (most recent call last):\n",
      "  File \"/home/azureuser/miniconda3/envs/mastering/lib/python3.12/site-packages/mlflow/store/tracking/file_store.py\", line 317, in search_experiments\n",
      "    exp = self._get_experiment(exp_id, view_type)\n",
      "          ^^^^^^^^^^^^^^^^^^^^^^^^^^^^^^^^^^^^^^^\n",
      "  File \"/home/azureuser/miniconda3/envs/mastering/lib/python3.12/site-packages/mlflow/store/tracking/file_store.py\", line 410, in _get_experiment\n",
      "    meta = FileStore._read_yaml(experiment_dir, FileStore.META_DATA_FILE_NAME)\n",
      "           ^^^^^^^^^^^^^^^^^^^^^^^^^^^^^^^^^^^^^^^^^^^^^^^^^^^^^^^^^^^^^^^^^^^\n",
      "  File \"/home/azureuser/miniconda3/envs/mastering/lib/python3.12/site-packages/mlflow/store/tracking/file_store.py\", line 1341, in _read_yaml\n",
      "    return _read_helper(root, file_name, attempts_remaining=retries)\n",
      "           ^^^^^^^^^^^^^^^^^^^^^^^^^^^^^^^^^^^^^^^^^^^^^^^^^^^^^^^^^\n",
      "  File \"/home/azureuser/miniconda3/envs/mastering/lib/python3.12/site-packages/mlflow/store/tracking/file_store.py\", line 1334, in _read_helper\n",
      "    result = read_yaml(root, file_name)\n",
      "             ^^^^^^^^^^^^^^^^^^^^^^^^^^\n",
      "  File \"/home/azureuser/miniconda3/envs/mastering/lib/python3.12/site-packages/mlflow/utils/file_utils.py\", line 309, in read_yaml\n",
      "    raise MissingConfigException(f\"Yaml file '{file_path}' does not exist.\")\n",
      "mlflow.exceptions.MissingConfigException: Yaml file '/home/azureuser/rumour-detection-pheme/mlruns/12/meta.yaml' does not exist.\n",
      "WARNING:root:Malformed experiment '9'. Detailed error Yaml file '/home/azureuser/rumour-detection-pheme/mlruns/9/meta.yaml' does not exist.\n",
      "Traceback (most recent call last):\n",
      "  File \"/home/azureuser/miniconda3/envs/mastering/lib/python3.12/site-packages/mlflow/store/tracking/file_store.py\", line 317, in search_experiments\n",
      "    exp = self._get_experiment(exp_id, view_type)\n",
      "          ^^^^^^^^^^^^^^^^^^^^^^^^^^^^^^^^^^^^^^^\n",
      "  File \"/home/azureuser/miniconda3/envs/mastering/lib/python3.12/site-packages/mlflow/store/tracking/file_store.py\", line 410, in _get_experiment\n",
      "    meta = FileStore._read_yaml(experiment_dir, FileStore.META_DATA_FILE_NAME)\n",
      "           ^^^^^^^^^^^^^^^^^^^^^^^^^^^^^^^^^^^^^^^^^^^^^^^^^^^^^^^^^^^^^^^^^^^\n",
      "  File \"/home/azureuser/miniconda3/envs/mastering/lib/python3.12/site-packages/mlflow/store/tracking/file_store.py\", line 1341, in _read_yaml\n",
      "    return _read_helper(root, file_name, attempts_remaining=retries)\n",
      "           ^^^^^^^^^^^^^^^^^^^^^^^^^^^^^^^^^^^^^^^^^^^^^^^^^^^^^^^^^\n",
      "  File \"/home/azureuser/miniconda3/envs/mastering/lib/python3.12/site-packages/mlflow/store/tracking/file_store.py\", line 1334, in _read_helper\n",
      "    result = read_yaml(root, file_name)\n",
      "             ^^^^^^^^^^^^^^^^^^^^^^^^^^\n",
      "  File \"/home/azureuser/miniconda3/envs/mastering/lib/python3.12/site-packages/mlflow/utils/file_utils.py\", line 309, in read_yaml\n",
      "    raise MissingConfigException(f\"Yaml file '{file_path}' does not exist.\")\n",
      "mlflow.exceptions.MissingConfigException: Yaml file '/home/azureuser/rumour-detection-pheme/mlruns/9/meta.yaml' does not exist.\n",
      "WARNING:root:Malformed experiment '4'. Detailed error Yaml file '/home/azureuser/rumour-detection-pheme/mlruns/4/meta.yaml' does not exist.\n",
      "Traceback (most recent call last):\n",
      "  File \"/home/azureuser/miniconda3/envs/mastering/lib/python3.12/site-packages/mlflow/store/tracking/file_store.py\", line 317, in search_experiments\n",
      "    exp = self._get_experiment(exp_id, view_type)\n",
      "          ^^^^^^^^^^^^^^^^^^^^^^^^^^^^^^^^^^^^^^^\n",
      "  File \"/home/azureuser/miniconda3/envs/mastering/lib/python3.12/site-packages/mlflow/store/tracking/file_store.py\", line 410, in _get_experiment\n",
      "    meta = FileStore._read_yaml(experiment_dir, FileStore.META_DATA_FILE_NAME)\n",
      "           ^^^^^^^^^^^^^^^^^^^^^^^^^^^^^^^^^^^^^^^^^^^^^^^^^^^^^^^^^^^^^^^^^^^\n",
      "  File \"/home/azureuser/miniconda3/envs/mastering/lib/python3.12/site-packages/mlflow/store/tracking/file_store.py\", line 1341, in _read_yaml\n",
      "    return _read_helper(root, file_name, attempts_remaining=retries)\n",
      "           ^^^^^^^^^^^^^^^^^^^^^^^^^^^^^^^^^^^^^^^^^^^^^^^^^^^^^^^^^\n",
      "  File \"/home/azureuser/miniconda3/envs/mastering/lib/python3.12/site-packages/mlflow/store/tracking/file_store.py\", line 1334, in _read_helper\n",
      "    result = read_yaml(root, file_name)\n",
      "             ^^^^^^^^^^^^^^^^^^^^^^^^^^\n",
      "  File \"/home/azureuser/miniconda3/envs/mastering/lib/python3.12/site-packages/mlflow/utils/file_utils.py\", line 309, in read_yaml\n",
      "    raise MissingConfigException(f\"Yaml file '{file_path}' does not exist.\")\n",
      "mlflow.exceptions.MissingConfigException: Yaml file '/home/azureuser/rumour-detection-pheme/mlruns/4/meta.yaml' does not exist.\n",
      "WARNING:root:Malformed experiment '13'. Detailed error Yaml file '/home/azureuser/rumour-detection-pheme/mlruns/13/meta.yaml' does not exist.\n",
      "Traceback (most recent call last):\n",
      "  File \"/home/azureuser/miniconda3/envs/mastering/lib/python3.12/site-packages/mlflow/store/tracking/file_store.py\", line 317, in search_experiments\n",
      "    exp = self._get_experiment(exp_id, view_type)\n",
      "          ^^^^^^^^^^^^^^^^^^^^^^^^^^^^^^^^^^^^^^^\n",
      "  File \"/home/azureuser/miniconda3/envs/mastering/lib/python3.12/site-packages/mlflow/store/tracking/file_store.py\", line 410, in _get_experiment\n",
      "    meta = FileStore._read_yaml(experiment_dir, FileStore.META_DATA_FILE_NAME)\n",
      "           ^^^^^^^^^^^^^^^^^^^^^^^^^^^^^^^^^^^^^^^^^^^^^^^^^^^^^^^^^^^^^^^^^^^\n",
      "  File \"/home/azureuser/miniconda3/envs/mastering/lib/python3.12/site-packages/mlflow/store/tracking/file_store.py\", line 1341, in _read_yaml\n",
      "    return _read_helper(root, file_name, attempts_remaining=retries)\n",
      "           ^^^^^^^^^^^^^^^^^^^^^^^^^^^^^^^^^^^^^^^^^^^^^^^^^^^^^^^^^\n",
      "  File \"/home/azureuser/miniconda3/envs/mastering/lib/python3.12/site-packages/mlflow/store/tracking/file_store.py\", line 1334, in _read_helper\n",
      "    result = read_yaml(root, file_name)\n",
      "             ^^^^^^^^^^^^^^^^^^^^^^^^^^\n",
      "  File \"/home/azureuser/miniconda3/envs/mastering/lib/python3.12/site-packages/mlflow/utils/file_utils.py\", line 309, in read_yaml\n",
      "    raise MissingConfigException(f\"Yaml file '{file_path}' does not exist.\")\n",
      "mlflow.exceptions.MissingConfigException: Yaml file '/home/azureuser/rumour-detection-pheme/mlruns/13/meta.yaml' does not exist.\n",
      "WARNING:root:Malformed experiment '11'. Detailed error Yaml file '/home/azureuser/rumour-detection-pheme/mlruns/11/meta.yaml' does not exist.\n",
      "Traceback (most recent call last):\n",
      "  File \"/home/azureuser/miniconda3/envs/mastering/lib/python3.12/site-packages/mlflow/store/tracking/file_store.py\", line 317, in search_experiments\n",
      "    exp = self._get_experiment(exp_id, view_type)\n",
      "          ^^^^^^^^^^^^^^^^^^^^^^^^^^^^^^^^^^^^^^^\n",
      "  File \"/home/azureuser/miniconda3/envs/mastering/lib/python3.12/site-packages/mlflow/store/tracking/file_store.py\", line 410, in _get_experiment\n",
      "    meta = FileStore._read_yaml(experiment_dir, FileStore.META_DATA_FILE_NAME)\n",
      "           ^^^^^^^^^^^^^^^^^^^^^^^^^^^^^^^^^^^^^^^^^^^^^^^^^^^^^^^^^^^^^^^^^^^\n",
      "  File \"/home/azureuser/miniconda3/envs/mastering/lib/python3.12/site-packages/mlflow/store/tracking/file_store.py\", line 1341, in _read_yaml\n",
      "    return _read_helper(root, file_name, attempts_remaining=retries)\n",
      "           ^^^^^^^^^^^^^^^^^^^^^^^^^^^^^^^^^^^^^^^^^^^^^^^^^^^^^^^^^\n",
      "  File \"/home/azureuser/miniconda3/envs/mastering/lib/python3.12/site-packages/mlflow/store/tracking/file_store.py\", line 1334, in _read_helper\n",
      "    result = read_yaml(root, file_name)\n",
      "             ^^^^^^^^^^^^^^^^^^^^^^^^^^\n",
      "  File \"/home/azureuser/miniconda3/envs/mastering/lib/python3.12/site-packages/mlflow/utils/file_utils.py\", line 309, in read_yaml\n",
      "    raise MissingConfigException(f\"Yaml file '{file_path}' does not exist.\")\n",
      "mlflow.exceptions.MissingConfigException: Yaml file '/home/azureuser/rumour-detection-pheme/mlruns/11/meta.yaml' does not exist.\n",
      "WARNING:root:Malformed experiment '10'. Detailed error Yaml file '/home/azureuser/rumour-detection-pheme/mlruns/10/meta.yaml' does not exist.\n",
      "Traceback (most recent call last):\n",
      "  File \"/home/azureuser/miniconda3/envs/mastering/lib/python3.12/site-packages/mlflow/store/tracking/file_store.py\", line 317, in search_experiments\n",
      "    exp = self._get_experiment(exp_id, view_type)\n",
      "          ^^^^^^^^^^^^^^^^^^^^^^^^^^^^^^^^^^^^^^^\n",
      "  File \"/home/azureuser/miniconda3/envs/mastering/lib/python3.12/site-packages/mlflow/store/tracking/file_store.py\", line 410, in _get_experiment\n",
      "    meta = FileStore._read_yaml(experiment_dir, FileStore.META_DATA_FILE_NAME)\n",
      "           ^^^^^^^^^^^^^^^^^^^^^^^^^^^^^^^^^^^^^^^^^^^^^^^^^^^^^^^^^^^^^^^^^^^\n",
      "  File \"/home/azureuser/miniconda3/envs/mastering/lib/python3.12/site-packages/mlflow/store/tracking/file_store.py\", line 1341, in _read_yaml\n",
      "    return _read_helper(root, file_name, attempts_remaining=retries)\n",
      "           ^^^^^^^^^^^^^^^^^^^^^^^^^^^^^^^^^^^^^^^^^^^^^^^^^^^^^^^^^\n",
      "  File \"/home/azureuser/miniconda3/envs/mastering/lib/python3.12/site-packages/mlflow/store/tracking/file_store.py\", line 1334, in _read_helper\n",
      "    result = read_yaml(root, file_name)\n",
      "             ^^^^^^^^^^^^^^^^^^^^^^^^^^\n",
      "  File \"/home/azureuser/miniconda3/envs/mastering/lib/python3.12/site-packages/mlflow/utils/file_utils.py\", line 309, in read_yaml\n",
      "    raise MissingConfigException(f\"Yaml file '{file_path}' does not exist.\")\n",
      "mlflow.exceptions.MissingConfigException: Yaml file '/home/azureuser/rumour-detection-pheme/mlruns/10/meta.yaml' does not exist.\n"
     ]
    },
    {
     "name": "stdout",
     "output_type": "stream",
     "text": [
      "Experiment 'GAT Network 2024-09-05' not found.\n"
     ]
    }
   ],
   "source": [
    "import mlflow\n",
    "\n",
    "# Get the experiment ID or name\n",
    "experiment_name = \"GAT Network 2024-09-05\"  # Replace with your experiment name\n",
    "experiment = mlflow.get_experiment_by_name(experiment_name)\n",
    "\n",
    "if experiment is not None:\n",
    "    experiment_id = experiment.experiment_id\n",
    "\n",
    "    # Retrieve all runs in the experiment as a DataFrame\n",
    "    df = mlflow.search_runs(experiment_ids=[experiment_id])\n",
    "    \n",
    "    # Show the DataFrame\n",
    "    #print(df)\n",
    "else:\n",
    "    print(f\"Experiment '{experiment_name}' not found.\")\n"
   ]
  }
 ],
 "metadata": {
  "kernelspec": {
   "display_name": "mastering",
   "language": "python",
   "name": "mastering"
  },
  "language_info": {
   "codemirror_mode": {
    "name": "ipython",
    "version": 3
   },
   "file_extension": ".py",
   "mimetype": "text/x-python",
   "name": "python",
   "nbconvert_exporter": "python",
   "pygments_lexer": "ipython3",
   "version": "3.12.5"
  }
 },
 "nbformat": 4,
 "nbformat_minor": 5
}
