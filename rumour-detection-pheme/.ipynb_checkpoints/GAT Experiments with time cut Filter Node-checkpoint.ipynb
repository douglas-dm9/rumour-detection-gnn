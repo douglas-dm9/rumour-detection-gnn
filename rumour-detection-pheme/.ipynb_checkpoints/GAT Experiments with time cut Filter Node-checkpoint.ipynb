{
 "cells": [
  {
   "cell_type": "code",
   "execution_count": 2,
   "id": "60ae9bc9-2423-4b62-9c90-70bd71b117b9",
   "metadata": {},
   "outputs": [],
   "source": [
    "import pandas as pd\n",
    "from sklearn.metrics import *\n",
    "from tqdm import tqdm\n",
    "from utils import HeteroDataProcessorFilterNode\n",
    "import numpy as np"
   ]
  },
  {
   "cell_type": "code",
   "execution_count": 8,
   "id": "5ec11366-8360-4848-abde-b5e223f6b0df",
   "metadata": {},
   "outputs": [
    {
     "name": "stderr",
     "output_type": "stream",
     "text": [
      "/home/azureuser/rumour-detection-pheme/utils.py:322: SettingWithCopyWarning: \n",
      "A value is trying to be set on a copy of a slice from a DataFrame.\n",
      "Try using .loc[row_indexer,col_indexer] = value instead\n",
      "\n",
      "See the caveats in the documentation: https://pandas.pydata.org/pandas-docs/stable/user_guide/indexing.html#returning-a-view-versus-a-copy\n",
      "  reply_features[['reply_followers','time_diff']] = scaler.fit_transform(reply_features[['reply_followers','time_diff']])\n"
     ]
    }
   ],
   "source": [
    "\n",
    "# Usage\n",
    "file_path_replies = r\"/home/azureuser/rumour-detection-pheme/replies_charlie_hebdo.pkl\"\n",
    "file_path_posts = r\"/home/azureuser/rumour-detection-pheme/posts_charlie_hebdo.pkl\"\n",
    "\n",
    "time_cut =120\n",
    "\n",
    "processor = HeteroDataProcessorFilterNode(file_path_replies, file_path_posts, time_cut)\n",
    "data = processor.process()\n"
   ]
  },
  {
   "cell_type": "code",
   "execution_count": 4,
   "id": "8a3a186b-9e12-4b1f-8022-b0859d5aaef5",
   "metadata": {},
   "outputs": [
    {
     "data": {
      "text/plain": [
       "HeteroData(\n",
       "  id={\n",
       "    x=[277, 106],\n",
       "    y=[277],\n",
       "    train_mask=[277],\n",
       "    val_mask=[277],\n",
       "    test_mask=[277],\n",
       "  },\n",
       "  reply_user_id={ x=[2137, 104] },\n",
       "  (id, retweet, reply_user_id)={ edge_index=[2, 2137] },\n",
       "  (reply_user_id, rev_retweet, id)={ edge_index=[2, 2137] }\n",
       ")"
      ]
     },
     "execution_count": 4,
     "metadata": {},
     "output_type": "execute_result"
    }
   ],
   "source": [
    "data"
   ]
  },
  {
   "cell_type": "code",
   "execution_count": 24,
   "id": "4f61ac13",
   "metadata": {},
   "outputs": [],
   "source": [
    "import torch\n",
    "\n",
    "def shuffle_heterodata(data):\n",
    "    # Shuffle the 'id' node type\n",
    "    perm = torch.randperm(data['id'].x.size(0))  # Generate a random permutation\n",
    "    \n",
    "    # Shuffle node features for 'id'\n",
    "    data['id'].x = data['id'].x[perm]\n",
    "    data['id'].y = data['id'].y[perm]\n",
    "    data['id'].train_mask = data['id'].train_mask[perm]\n",
    "    data['id'].val_mask = data['id'].val_mask[perm]\n",
    "    data['id'].test_mask = data['id'].test_mask[perm]\n",
    "    \n",
    "    # Adjust edge indices for the relations involving 'id' nodes\n",
    "    data[('id', 'retweet', 'reply_user_id')].edge_index[0] = perm[data[('id', 'retweet', 'reply_user_id')].edge_index[0]]\n",
    "    data[('reply_user_id', 'rev_retweet', 'id')].edge_index[1] = perm[data[('reply_user_id', 'rev_retweet', 'id')].edge_index[1]]\n",
    "    \n",
    "    return data\n",
    "\n",
    "# Assuming 'data' is your HeteroData object\n",
    "data = shuffle_heterodata(data)\n"
   ]
  },
  {
   "cell_type": "code",
   "execution_count": 9,
   "id": "7fa97da8-1ca8-40e9-84f0-ce7d57d74249",
   "metadata": {},
   "outputs": [
    {
     "name": "stderr",
     "output_type": "stream",
     "text": [
      "2024/09/25 01:11:11 INFO mlflow.tracking.fluent: Experiment with name 'GAT Network 2024-09-24 Filter Node' does not exist. Creating a new experiment.\n"
     ]
    },
    {
     "data": {
      "text/plain": [
       "<Experiment: artifact_location='/home/azureuser/rumour-detection-pheme/mlruns/20', creation_time=1727226671698, experiment_id='20', last_update_time=1727226671698, lifecycle_stage='active', name='GAT Network 2024-09-24 Filter Node', tags={}>"
      ]
     },
     "execution_count": 9,
     "metadata": {},
     "output_type": "execute_result"
    }
   ],
   "source": [
    "import mlflow\n",
    "mlflow.set_tracking_uri(\"sqlite:///mlflow.db\")\n",
    "#mlflow.set_experiment(\"spyder-experiment\")\n",
    "import mlflow.pytorch\n",
    "mlflow.set_experiment(\"GAT Network 2024-09-24 Filter Node\")"
   ]
  },
  {
   "cell_type": "code",
   "execution_count": 10,
   "id": "cd69448a-635d-42a8-8a21-e2492eb881c9",
   "metadata": {},
   "outputs": [],
   "source": [
    "import torch\n",
    "import torch.nn as nn\n",
    "import torch.nn.functional as F\n",
    "from torch_geometric.nn import GATConv, to_hetero\n",
    "\n",
    "class GAT(torch.nn.Module):\n",
    "    def __init__(self, dim_h, dim_out):\n",
    "        super().__init__()\n",
    "        self.conv1 = GATConv((-1, -1), dim_h, add_self_loops=False)\n",
    "        self.conv2 = GATConv(dim_h, dim_h, add_self_loops=False)  # Added second GATConv layer\n",
    "        self.linear = nn.Linear(dim_h, dim_out)\n",
    "        self.dropout = nn.Dropout(p=0.4)\n",
    "\n",
    "    def forward(self, x, edge_index):\n",
    "        h = self.conv1(x, edge_index).relu()\n",
    "        h = self.dropout(h)\n",
    "        h = self.conv2(h, edge_index).relu()  # Pass through the second GATConv layer\n",
    "        h = self.dropout(h)\n",
    "        h = self.linear(h)\n",
    "        return h\n",
    "\n",
    "@torch.no_grad()\n",
    "def test(mask):\n",
    "    model.eval()\n",
    "    pred = model(data.x_dict, data.edge_index_dict)['id'].argmax(dim=-1)\n",
    "    acc = (pred[mask] == data['id'].y[mask]).sum() / mask.sum()\n",
    "    return float(acc)"
   ]
  },
  {
   "cell_type": "code",
   "execution_count": 11,
   "id": "161cd7d8-b164-41da-aa06-ffb30e141e83",
   "metadata": {},
   "outputs": [
    {
     "name": "stdout",
     "output_type": "stream",
     "text": [
      "Epoch:   0 | Train Loss: 0.6830 | Train Acc: 64.77% | Val Acc: 53.66%\n",
      "Epoch:  50 | Train Loss: 0.3573 | Train Acc: 84.97% | Val Acc: 87.80%\n",
      "Epoch: 100 | Train Loss: 0.1564 | Train Acc: 96.37% | Val Acc: 92.68%\n",
      "Epoch: 150 | Train Loss: 0.0381 | Train Acc: 100.00% | Val Acc: 90.24%\n",
      "Epoch: 200 | Train Loss: 0.0107 | Train Acc: 100.00% | Val Acc: 92.68%\n",
      "Epoch: 250 | Train Loss: 0.0051 | Train Acc: 100.00% | Val Acc: 90.24%\n",
      "Epoch: 300 | Train Loss: 0.0054 | Train Acc: 100.00% | Val Acc: 90.24%\n",
      "Epoch: 350 | Train Loss: 0.0047 | Train Acc: 100.00% | Val Acc: 92.68%\n",
      "Epoch: 400 | Train Loss: 0.0060 | Train Acc: 100.00% | Val Acc: 87.80%\n",
      "Epoch: 450 | Train Loss: 0.0019 | Train Acc: 100.00% | Val Acc: 90.24%\n",
      "Test accuracy: 86.05%\n"
     ]
    }
   ],
   "source": [
    "\n",
    "model = GAT(dim_h=64, dim_out=2)\n",
    "model = to_hetero(model, data.metadata(), aggr='sum')\n",
    "\n",
    "optimizer = torch.optim.Adam(model.parameters(), lr=0.001)\n",
    "device = torch.device('cuda' if torch.cuda.is_available() else 'cpu')\n",
    "data, model = data.to(device), model.to(device)\n",
    "\n",
    "\n",
    "\n",
    "for epoch in range(500):\n",
    "    model.train()\n",
    "    optimizer.zero_grad()\n",
    "    out = model(data.x_dict, data.edge_index_dict)['id']\n",
    "    mask = data['id'].train_mask\n",
    "    loss = F.cross_entropy(out[mask], data['id'].y[mask])\n",
    "    loss.backward()\n",
    "    optimizer.step()\n",
    "    \n",
    "    if epoch % 50 == 0:\n",
    "        train_acc = test(data['id'].train_mask)\n",
    "        val_acc = test(data['id'].val_mask)\n",
    "        print(f'Epoch: {epoch:>3} | Train Loss: {loss:.4f} | Train Acc: {train_acc*100:.2f}% | Val Acc: {val_acc*100:.2f}%')\n",
    "    \n",
    "test_acc = test(data['id'].test_mask)\n",
    "print(f'Test accuracy: {test_acc*100:.2f}%')\n",
    "    \n"
   ]
  },
  {
   "cell_type": "code",
   "execution_count": 6,
   "id": "6f6a4136-b36d-4789-8b63-f16ee35a384b",
   "metadata": {},
   "outputs": [
    {
     "data": {
      "text/plain": [
       "0.8723529411764706"
      ]
     },
     "execution_count": 6,
     "metadata": {},
     "output_type": "execute_result"
    }
   ],
   "source": [
    "test_mask = data['id'].test_mask | data['id'].val_mask\n",
    "pred = model(data.x_dict, data.edge_index_dict)['id'].argmax(dim=-1)\n",
    "true_labels = data['id'].y[test_mask]\n",
    "pred_labels = pred[test_mask]\n",
    "precision_score(true_labels, pred_labels, average='macro')"
   ]
  },
  {
   "cell_type": "code",
   "execution_count": 7,
   "id": "614509bd-4a93-4e9a-a570-62f25e1c7ae2",
   "metadata": {},
   "outputs": [
    {
     "data": {
      "text/plain": [
       "0.9113060428849902"
      ]
     },
     "execution_count": 7,
     "metadata": {},
     "output_type": "execute_result"
    }
   ],
   "source": [
    "recall_score(true_labels, pred_labels, average='macro')"
   ]
  },
  {
   "cell_type": "code",
   "execution_count": 8,
   "id": "a4346389-5925-4019-b375-12fc980c8bd0",
   "metadata": {},
   "outputs": [],
   "source": [
    "input_example = data.x_dict, data.edge_index_dict"
   ]
  },
  {
   "cell_type": "code",
   "execution_count": null,
   "id": "83ca3af5-7a1d-4913-babc-814902f0d1da",
   "metadata": {},
   "outputs": [
    {
     "name": "stdout",
     "output_type": "stream",
     "text": [
      "17\n"
     ]
    },
    {
     "name": "stderr",
     "output_type": "stream",
     "text": [
      "/home/azureuser/rumour-detection-pheme/utils.py:322: SettingWithCopyWarning: \n",
      "A value is trying to be set on a copy of a slice from a DataFrame.\n",
      "Try using .loc[row_indexer,col_indexer] = value instead\n",
      "\n",
      "See the caveats in the documentation: https://pandas.pydata.org/pandas-docs/stable/user_guide/indexing.html#returning-a-view-versus-a-copy\n",
      "  reply_features[['reply_followers','time_diff']] = scaler.fit_transform(reply_features[['reply_followers','time_diff']])\n"
     ]
    },
    {
     "name": "stdout",
     "output_type": "stream",
     "text": [
      "0\n",
      "Epoch:   0 | Train Loss: 0.7330 | Train Acc: 56.25% | Val Acc: 33.33%\n",
      "100\n",
      "Epoch: 100 | Train Loss: 0.0072 | Train Acc: 100.00% | Val Acc: 66.67%\n",
      "200\n",
      "Epoch: 200 | Train Loss: 0.0010 | Train Acc: 100.00% | Val Acc: 66.67%\n",
      "300\n",
      "Epoch: 300 | Train Loss: 0.0009 | Train Acc: 100.00% | Val Acc: 66.67%\n",
      "Test accuracy: 75.00%\n",
      "Test Recall: 66.67%\n",
      "Test Precision: 83.33%\n"
     ]
    },
    {
     "name": "stderr",
     "output_type": "stream",
     "text": [
      "2024/09/25 01:12:08 WARNING mlflow.models.model: Input example should be provided to infer model signature if the model signature is not provided when logging the model.\n"
     ]
    },
    {
     "name": "stdout",
     "output_type": "stream",
     "text": [
      "27\n"
     ]
    },
    {
     "name": "stderr",
     "output_type": "stream",
     "text": [
      "/home/azureuser/rumour-detection-pheme/utils.py:322: SettingWithCopyWarning: \n",
      "A value is trying to be set on a copy of a slice from a DataFrame.\n",
      "Try using .loc[row_indexer,col_indexer] = value instead\n",
      "\n",
      "See the caveats in the documentation: https://pandas.pydata.org/pandas-docs/stable/user_guide/indexing.html#returning-a-view-versus-a-copy\n",
      "  reply_features[['reply_followers','time_diff']] = scaler.fit_transform(reply_features[['reply_followers','time_diff']])\n"
     ]
    },
    {
     "name": "stdout",
     "output_type": "stream",
     "text": [
      "0\n",
      "Epoch:   0 | Train Loss: 0.7295 | Train Acc: 51.61% | Val Acc: 33.33%\n",
      "100\n",
      "Epoch: 100 | Train Loss: 0.0283 | Train Acc: 100.00% | Val Acc: 66.67%\n",
      "200\n",
      "Epoch: 200 | Train Loss: 0.0049 | Train Acc: 100.00% | Val Acc: 66.67%\n",
      "300\n",
      "Epoch: 300 | Train Loss: 0.0006 | Train Acc: 100.00% | Val Acc: 66.67%\n",
      "Test accuracy: 87.50%\n",
      "Test Recall: 77.08%\n",
      "Test Precision: 78.89%\n"
     ]
    },
    {
     "name": "stderr",
     "output_type": "stream",
     "text": [
      "2024/09/25 01:12:16 WARNING mlflow.models.model: Input example should be provided to infer model signature if the model signature is not provided when logging the model.\n"
     ]
    },
    {
     "name": "stdout",
     "output_type": "stream",
     "text": [
      "37\n"
     ]
    },
    {
     "name": "stderr",
     "output_type": "stream",
     "text": [
      "/home/azureuser/rumour-detection-pheme/utils.py:322: SettingWithCopyWarning: \n",
      "A value is trying to be set on a copy of a slice from a DataFrame.\n",
      "Try using .loc[row_indexer,col_indexer] = value instead\n",
      "\n",
      "See the caveats in the documentation: https://pandas.pydata.org/pandas-docs/stable/user_guide/indexing.html#returning-a-view-versus-a-copy\n",
      "  reply_features[['reply_followers','time_diff']] = scaler.fit_transform(reply_features[['reply_followers','time_diff']])\n"
     ]
    },
    {
     "name": "stdout",
     "output_type": "stream",
     "text": [
      "0\n",
      "Epoch:   0 | Train Loss: 0.7463 | Train Acc: 46.94% | Val Acc: 40.00%\n",
      "100\n",
      "Epoch: 100 | Train Loss: 0.0547 | Train Acc: 100.00% | Val Acc: 80.00%\n",
      "200\n",
      "Epoch: 200 | Train Loss: 0.0025 | Train Acc: 100.00% | Val Acc: 80.00%\n",
      "300\n",
      "Epoch: 300 | Train Loss: 0.0010 | Train Acc: 100.00% | Val Acc: 80.00%\n",
      "Test accuracy: 66.67%\n",
      "Test Recall: 74.17%\n",
      "Test Precision: 75.89%\n"
     ]
    },
    {
     "name": "stderr",
     "output_type": "stream",
     "text": [
      "2024/09/25 01:12:25 WARNING mlflow.models.model: Input example should be provided to infer model signature if the model signature is not provided when logging the model.\n"
     ]
    },
    {
     "name": "stdout",
     "output_type": "stream",
     "text": [
      "47\n"
     ]
    },
    {
     "name": "stderr",
     "output_type": "stream",
     "text": [
      "/home/azureuser/rumour-detection-pheme/utils.py:322: SettingWithCopyWarning: \n",
      "A value is trying to be set on a copy of a slice from a DataFrame.\n",
      "Try using .loc[row_indexer,col_indexer] = value instead\n",
      "\n",
      "See the caveats in the documentation: https://pandas.pydata.org/pandas-docs/stable/user_guide/indexing.html#returning-a-view-versus-a-copy\n",
      "  reply_features[['reply_followers','time_diff']] = scaler.fit_transform(reply_features[['reply_followers','time_diff']])\n"
     ]
    },
    {
     "name": "stdout",
     "output_type": "stream",
     "text": [
      "0\n",
      "Epoch:   0 | Train Loss: 0.6717 | Train Acc: 67.21% | Val Acc: 46.15%\n",
      "100\n",
      "Epoch: 100 | Train Loss: 0.0937 | Train Acc: 100.00% | Val Acc: 92.31%\n",
      "200\n",
      "Epoch: 200 | Train Loss: 0.0045 | Train Acc: 100.00% | Val Acc: 92.31%\n",
      "300\n",
      "Epoch: 300 | Train Loss: 0.0023 | Train Acc: 100.00% | Val Acc: 92.31%\n",
      "Test accuracy: 92.86%\n",
      "Test Recall: 89.29%\n",
      "Test Precision: 90.62%\n"
     ]
    },
    {
     "name": "stderr",
     "output_type": "stream",
     "text": [
      "2024/09/25 01:12:37 WARNING mlflow.models.model: Input example should be provided to infer model signature if the model signature is not provided when logging the model.\n"
     ]
    },
    {
     "name": "stdout",
     "output_type": "stream",
     "text": [
      "57\n"
     ]
    },
    {
     "name": "stderr",
     "output_type": "stream",
     "text": [
      "/home/azureuser/rumour-detection-pheme/utils.py:322: SettingWithCopyWarning: \n",
      "A value is trying to be set on a copy of a slice from a DataFrame.\n",
      "Try using .loc[row_indexer,col_indexer] = value instead\n",
      "\n",
      "See the caveats in the documentation: https://pandas.pydata.org/pandas-docs/stable/user_guide/indexing.html#returning-a-view-versus-a-copy\n",
      "  reply_features[['reply_followers','time_diff']] = scaler.fit_transform(reply_features[['reply_followers','time_diff']])\n"
     ]
    },
    {
     "name": "stdout",
     "output_type": "stream",
     "text": [
      "0\n",
      "Epoch:   0 | Train Loss: 0.6934 | Train Acc: 68.92% | Val Acc: 62.50%\n",
      "100\n",
      "Epoch: 100 | Train Loss: 0.0835 | Train Acc: 100.00% | Val Acc: 93.75%\n",
      "200\n",
      "Epoch: 200 | Train Loss: 0.0175 | Train Acc: 100.00% | Val Acc: 93.75%\n",
      "300\n",
      "Epoch: 300 | Train Loss: 0.0019 | Train Acc: 100.00% | Val Acc: 93.75%\n",
      "Test accuracy: 76.47%\n",
      "Test Recall: 84.56%\n",
      "Test Precision: 86.15%\n"
     ]
    },
    {
     "name": "stderr",
     "output_type": "stream",
     "text": [
      "2024/09/25 01:12:46 WARNING mlflow.models.model: Input example should be provided to infer model signature if the model signature is not provided when logging the model.\n"
     ]
    },
    {
     "name": "stdout",
     "output_type": "stream",
     "text": [
      "67\n"
     ]
    },
    {
     "name": "stderr",
     "output_type": "stream",
     "text": [
      "/home/azureuser/rumour-detection-pheme/utils.py:322: SettingWithCopyWarning: \n",
      "A value is trying to be set on a copy of a slice from a DataFrame.\n",
      "Try using .loc[row_indexer,col_indexer] = value instead\n",
      "\n",
      "See the caveats in the documentation: https://pandas.pydata.org/pandas-docs/stable/user_guide/indexing.html#returning-a-view-versus-a-copy\n",
      "  reply_features[['reply_followers','time_diff']] = scaler.fit_transform(reply_features[['reply_followers','time_diff']])\n"
     ]
    },
    {
     "name": "stdout",
     "output_type": "stream",
     "text": [
      "0\n",
      "Epoch:   0 | Train Loss: 0.7101 | Train Acc: 62.07% | Val Acc: 66.67%\n",
      "100\n",
      "Epoch: 100 | Train Loss: 0.0870 | Train Acc: 97.70% | Val Acc: 83.33%\n",
      "200\n",
      "Epoch: 200 | Train Loss: 0.0154 | Train Acc: 100.00% | Val Acc: 83.33%\n",
      "300\n",
      "Epoch: 300 | Train Loss: 0.0053 | Train Acc: 100.00% | Val Acc: 83.33%\n",
      "Test accuracy: 80.00%\n",
      "Test Recall: 81.67%\n",
      "Test Precision: 81.58%\n"
     ]
    },
    {
     "name": "stderr",
     "output_type": "stream",
     "text": [
      "2024/09/25 01:12:55 WARNING mlflow.models.model: Input example should be provided to infer model signature if the model signature is not provided when logging the model.\n"
     ]
    },
    {
     "name": "stdout",
     "output_type": "stream",
     "text": [
      "77\n"
     ]
    },
    {
     "name": "stderr",
     "output_type": "stream",
     "text": [
      "/home/azureuser/rumour-detection-pheme/utils.py:322: SettingWithCopyWarning: \n",
      "A value is trying to be set on a copy of a slice from a DataFrame.\n",
      "Try using .loc[row_indexer,col_indexer] = value instead\n",
      "\n",
      "See the caveats in the documentation: https://pandas.pydata.org/pandas-docs/stable/user_guide/indexing.html#returning-a-view-versus-a-copy\n",
      "  reply_features[['reply_followers','time_diff']] = scaler.fit_transform(reply_features[['reply_followers','time_diff']])\n"
     ]
    },
    {
     "name": "stdout",
     "output_type": "stream",
     "text": [
      "0\n",
      "Epoch:   0 | Train Loss: 0.7406 | Train Acc: 50.49% | Val Acc: 59.09%\n",
      "100\n",
      "Epoch: 100 | Train Loss: 0.0985 | Train Acc: 100.00% | Val Acc: 77.27%\n",
      "200\n",
      "Epoch: 200 | Train Loss: 0.0098 | Train Acc: 100.00% | Val Acc: 77.27%\n",
      "300\n",
      "Epoch: 300 | Train Loss: 0.0028 | Train Acc: 100.00% | Val Acc: 77.27%\n",
      "Test accuracy: 95.65%\n",
      "Test Recall: 85.50%\n",
      "Test Precision: 88.25%\n"
     ]
    },
    {
     "name": "stderr",
     "output_type": "stream",
     "text": [
      "2024/09/25 01:13:04 WARNING mlflow.models.model: Input example should be provided to infer model signature if the model signature is not provided when logging the model.\n"
     ]
    },
    {
     "name": "stdout",
     "output_type": "stream",
     "text": [
      "87\n"
     ]
    },
    {
     "name": "stderr",
     "output_type": "stream",
     "text": [
      "/home/azureuser/rumour-detection-pheme/utils.py:322: SettingWithCopyWarning: \n",
      "A value is trying to be set on a copy of a slice from a DataFrame.\n",
      "Try using .loc[row_indexer,col_indexer] = value instead\n",
      "\n",
      "See the caveats in the documentation: https://pandas.pydata.org/pandas-docs/stable/user_guide/indexing.html#returning-a-view-versus-a-copy\n",
      "  reply_features[['reply_followers','time_diff']] = scaler.fit_transform(reply_features[['reply_followers','time_diff']])\n"
     ]
    },
    {
     "name": "stdout",
     "output_type": "stream",
     "text": [
      "0\n",
      "Epoch:   0 | Train Loss: 0.6959 | Train Acc: 52.94% | Val Acc: 60.00%\n",
      "100\n",
      "Epoch: 100 | Train Loss: 0.0831 | Train Acc: 98.32% | Val Acc: 88.00%\n",
      "200\n",
      "Epoch: 200 | Train Loss: 0.0089 | Train Acc: 100.00% | Val Acc: 92.00%\n",
      "300\n",
      "Epoch: 300 | Train Loss: 0.0027 | Train Acc: 100.00% | Val Acc: 88.00%\n",
      "Test accuracy: 88.89%\n",
      "Test Recall: 92.19%\n",
      "Test Precision: 90.00%\n"
     ]
    },
    {
     "name": "stderr",
     "output_type": "stream",
     "text": [
      "2024/09/25 01:13:13 WARNING mlflow.models.model: Input example should be provided to infer model signature if the model signature is not provided when logging the model.\n"
     ]
    },
    {
     "name": "stdout",
     "output_type": "stream",
     "text": [
      "97\n"
     ]
    },
    {
     "name": "stderr",
     "output_type": "stream",
     "text": [
      "/home/azureuser/rumour-detection-pheme/utils.py:322: SettingWithCopyWarning: \n",
      "A value is trying to be set on a copy of a slice from a DataFrame.\n",
      "Try using .loc[row_indexer,col_indexer] = value instead\n",
      "\n",
      "See the caveats in the documentation: https://pandas.pydata.org/pandas-docs/stable/user_guide/indexing.html#returning-a-view-versus-a-copy\n",
      "  reply_features[['reply_followers','time_diff']] = scaler.fit_transform(reply_features[['reply_followers','time_diff']])\n"
     ]
    },
    {
     "name": "stdout",
     "output_type": "stream",
     "text": [
      "0\n",
      "Epoch:   0 | Train Loss: 0.7351 | Train Acc: 46.94% | Val Acc: 45.16%\n",
      "100\n",
      "Epoch: 100 | Train Loss: 0.1367 | Train Acc: 98.64% | Val Acc: 90.32%\n",
      "200\n",
      "Epoch: 200 | Train Loss: 0.0160 | Train Acc: 100.00% | Val Acc: 90.32%\n",
      "300\n",
      "Epoch: 300 | Train Loss: 0.0042 | Train Acc: 100.00% | Val Acc: 90.32%\n",
      "Test accuracy: 87.50%\n",
      "Test Recall: 89.35%\n",
      "Test Precision: 88.64%\n"
     ]
    },
    {
     "name": "stderr",
     "output_type": "stream",
     "text": [
      "2024/09/25 01:13:23 WARNING mlflow.models.model: Input example should be provided to infer model signature if the model signature is not provided when logging the model.\n"
     ]
    },
    {
     "name": "stdout",
     "output_type": "stream",
     "text": [
      "107\n"
     ]
    },
    {
     "name": "stderr",
     "output_type": "stream",
     "text": [
      "/home/azureuser/rumour-detection-pheme/utils.py:322: SettingWithCopyWarning: \n",
      "A value is trying to be set on a copy of a slice from a DataFrame.\n",
      "Try using .loc[row_indexer,col_indexer] = value instead\n",
      "\n",
      "See the caveats in the documentation: https://pandas.pydata.org/pandas-docs/stable/user_guide/indexing.html#returning-a-view-versus-a-copy\n",
      "  reply_features[['reply_followers','time_diff']] = scaler.fit_transform(reply_features[['reply_followers','time_diff']])\n"
     ]
    },
    {
     "name": "stdout",
     "output_type": "stream",
     "text": [
      "0\n",
      "Epoch:   0 | Train Loss: 0.6921 | Train Acc: 57.58% | Val Acc: 45.71%\n",
      "100\n",
      "Epoch: 100 | Train Loss: 0.1332 | Train Acc: 96.97% | Val Acc: 77.14%\n",
      "200\n",
      "Epoch: 200 | Train Loss: 0.0203 | Train Acc: 100.00% | Val Acc: 88.57%\n",
      "300\n",
      "Epoch: 300 | Train Loss: 0.0139 | Train Acc: 100.00% | Val Acc: 88.57%\n",
      "Test accuracy: 88.89%\n",
      "Test Recall: 88.68%\n",
      "Test Precision: 88.68%\n"
     ]
    },
    {
     "name": "stderr",
     "output_type": "stream",
     "text": [
      "2024/09/25 01:13:33 WARNING mlflow.models.model: Input example should be provided to infer model signature if the model signature is not provided when logging the model.\n"
     ]
    },
    {
     "name": "stdout",
     "output_type": "stream",
     "text": [
      "117\n"
     ]
    },
    {
     "name": "stderr",
     "output_type": "stream",
     "text": [
      "/home/azureuser/rumour-detection-pheme/utils.py:322: SettingWithCopyWarning: \n",
      "A value is trying to be set on a copy of a slice from a DataFrame.\n",
      "Try using .loc[row_indexer,col_indexer] = value instead\n",
      "\n",
      "See the caveats in the documentation: https://pandas.pydata.org/pandas-docs/stable/user_guide/indexing.html#returning-a-view-versus-a-copy\n",
      "  reply_features[['reply_followers','time_diff']] = scaler.fit_transform(reply_features[['reply_followers','time_diff']])\n"
     ]
    },
    {
     "name": "stdout",
     "output_type": "stream",
     "text": [
      "0\n",
      "Epoch:   0 | Train Loss: 0.7162 | Train Acc: 55.61% | Val Acc: 55.00%\n",
      "100\n",
      "Epoch: 100 | Train Loss: 0.1130 | Train Acc: 96.79% | Val Acc: 90.00%\n",
      "200\n",
      "Epoch: 200 | Train Loss: 0.0138 | Train Acc: 100.00% | Val Acc: 92.50%\n",
      "300\n",
      "Epoch: 300 | Train Loss: 0.0086 | Train Acc: 100.00% | Val Acc: 92.50%\n",
      "Test accuracy: 90.24%\n",
      "Test Recall: 92.51%\n",
      "Test Precision: 90.11%\n"
     ]
    },
    {
     "name": "stderr",
     "output_type": "stream",
     "text": [
      "2024/09/25 01:13:43 WARNING mlflow.models.model: Input example should be provided to infer model signature if the model signature is not provided when logging the model.\n"
     ]
    },
    {
     "name": "stdout",
     "output_type": "stream",
     "text": [
      "127\n"
     ]
    },
    {
     "name": "stderr",
     "output_type": "stream",
     "text": [
      "/home/azureuser/rumour-detection-pheme/utils.py:322: SettingWithCopyWarning: \n",
      "A value is trying to be set on a copy of a slice from a DataFrame.\n",
      "Try using .loc[row_indexer,col_indexer] = value instead\n",
      "\n",
      "See the caveats in the documentation: https://pandas.pydata.org/pandas-docs/stable/user_guide/indexing.html#returning-a-view-versus-a-copy\n",
      "  reply_features[['reply_followers','time_diff']] = scaler.fit_transform(reply_features[['reply_followers','time_diff']])\n"
     ]
    },
    {
     "name": "stdout",
     "output_type": "stream",
     "text": [
      "0\n",
      "Epoch:   0 | Train Loss: 0.6834 | Train Acc: 69.95% | Val Acc: 68.89%\n",
      "100\n",
      "Epoch: 100 | Train Loss: 0.1433 | Train Acc: 96.71% | Val Acc: 88.89%\n",
      "200\n",
      "Epoch: 200 | Train Loss: 0.0139 | Train Acc: 99.53% | Val Acc: 93.33%\n",
      "300\n",
      "Epoch: 300 | Train Loss: 0.0071 | Train Acc: 100.00% | Val Acc: 93.33%\n",
      "Test accuracy: 87.23%\n",
      "Test Recall: 90.16%\n",
      "Test Precision: 88.37%\n"
     ]
    },
    {
     "name": "stderr",
     "output_type": "stream",
     "text": [
      "2024/09/25 01:13:53 WARNING mlflow.models.model: Input example should be provided to infer model signature if the model signature is not provided when logging the model.\n"
     ]
    },
    {
     "name": "stdout",
     "output_type": "stream",
     "text": [
      "137\n"
     ]
    },
    {
     "name": "stderr",
     "output_type": "stream",
     "text": [
      "/home/azureuser/rumour-detection-pheme/utils.py:322: SettingWithCopyWarning: \n",
      "A value is trying to be set on a copy of a slice from a DataFrame.\n",
      "Try using .loc[row_indexer,col_indexer] = value instead\n",
      "\n",
      "See the caveats in the documentation: https://pandas.pydata.org/pandas-docs/stable/user_guide/indexing.html#returning-a-view-versus-a-copy\n",
      "  reply_features[['reply_followers','time_diff']] = scaler.fit_transform(reply_features[['reply_followers','time_diff']])\n"
     ]
    },
    {
     "name": "stdout",
     "output_type": "stream",
     "text": [
      "0\n",
      "Epoch:   0 | Train Loss: 0.7188 | Train Acc: 52.08% | Val Acc: 52.94%\n",
      "100\n",
      "Epoch: 100 | Train Loss: 0.1383 | Train Acc: 95.83% | Val Acc: 88.24%\n",
      "200\n",
      "Epoch: 200 | Train Loss: 0.0272 | Train Acc: 99.58% | Val Acc: 92.16%\n",
      "300\n",
      "Epoch: 300 | Train Loss: 0.0055 | Train Acc: 100.00% | Val Acc: 94.12%\n",
      "Test accuracy: 88.68%\n",
      "Test Recall: 90.28%\n",
      "Test Precision: 89.61%\n"
     ]
    },
    {
     "name": "stderr",
     "output_type": "stream",
     "text": [
      "2024/09/25 01:14:03 WARNING mlflow.models.model: Input example should be provided to infer model signature if the model signature is not provided when logging the model.\n"
     ]
    },
    {
     "name": "stdout",
     "output_type": "stream",
     "text": [
      "147\n"
     ]
    },
    {
     "name": "stderr",
     "output_type": "stream",
     "text": [
      "/home/azureuser/rumour-detection-pheme/utils.py:322: SettingWithCopyWarning: \n",
      "A value is trying to be set on a copy of a slice from a DataFrame.\n",
      "Try using .loc[row_indexer,col_indexer] = value instead\n",
      "\n",
      "See the caveats in the documentation: https://pandas.pydata.org/pandas-docs/stable/user_guide/indexing.html#returning-a-view-versus-a-copy\n",
      "  reply_features[['reply_followers','time_diff']] = scaler.fit_transform(reply_features[['reply_followers','time_diff']])\n"
     ]
    },
    {
     "name": "stdout",
     "output_type": "stream",
     "text": [
      "0\n",
      "Epoch:   0 | Train Loss: 0.7752 | Train Acc: 54.05% | Val Acc: 52.73%\n",
      "100\n",
      "Epoch: 100 | Train Loss: 0.1722 | Train Acc: 95.75% | Val Acc: 89.09%\n",
      "200\n",
      "Epoch: 200 | Train Loss: 0.0180 | Train Acc: 100.00% | Val Acc: 96.36%\n",
      "300\n",
      "Epoch: 300 | Train Loss: 0.0063 | Train Acc: 100.00% | Val Acc: 96.36%\n",
      "Test accuracy: 85.96%\n",
      "Test Recall: 84.23%\n",
      "Test Precision: 87.66%\n"
     ]
    },
    {
     "name": "stderr",
     "output_type": "stream",
     "text": [
      "2024/09/25 01:14:19 WARNING mlflow.models.model: Input example should be provided to infer model signature if the model signature is not provided when logging the model.\n"
     ]
    },
    {
     "name": "stdout",
     "output_type": "stream",
     "text": [
      "157\n"
     ]
    },
    {
     "name": "stderr",
     "output_type": "stream",
     "text": [
      "/home/azureuser/rumour-detection-pheme/utils.py:322: SettingWithCopyWarning: \n",
      "A value is trying to be set on a copy of a slice from a DataFrame.\n",
      "Try using .loc[row_indexer,col_indexer] = value instead\n",
      "\n",
      "See the caveats in the documentation: https://pandas.pydata.org/pandas-docs/stable/user_guide/indexing.html#returning-a-view-versus-a-copy\n",
      "  reply_features[['reply_followers','time_diff']] = scaler.fit_transform(reply_features[['reply_followers','time_diff']])\n"
     ]
    },
    {
     "name": "stdout",
     "output_type": "stream",
     "text": [
      "0\n",
      "Epoch:   0 | Train Loss: 0.8469 | Train Acc: 69.34% | Val Acc: 68.85%\n",
      "100\n",
      "Epoch: 100 | Train Loss: 0.1330 | Train Acc: 96.52% | Val Acc: 90.16%\n",
      "200\n",
      "Epoch: 200 | Train Loss: 0.0240 | Train Acc: 99.65% | Val Acc: 91.80%\n",
      "300\n",
      "Epoch: 300 | Train Loss: 0.0225 | Train Acc: 100.00% | Val Acc: 91.80%\n",
      "Test accuracy: 82.54%\n",
      "Test Recall: 83.21%\n",
      "Test Precision: 84.45%\n"
     ]
    },
    {
     "name": "stderr",
     "output_type": "stream",
     "text": [
      "2024/09/25 01:14:41 WARNING mlflow.models.model: Input example should be provided to infer model signature if the model signature is not provided when logging the model.\n"
     ]
    },
    {
     "name": "stdout",
     "output_type": "stream",
     "text": [
      "167\n"
     ]
    },
    {
     "name": "stderr",
     "output_type": "stream",
     "text": [
      "/home/azureuser/rumour-detection-pheme/utils.py:322: SettingWithCopyWarning: \n",
      "A value is trying to be set on a copy of a slice from a DataFrame.\n",
      "Try using .loc[row_indexer,col_indexer] = value instead\n",
      "\n",
      "See the caveats in the documentation: https://pandas.pydata.org/pandas-docs/stable/user_guide/indexing.html#returning-a-view-versus-a-copy\n",
      "  reply_features[['reply_followers','time_diff']] = scaler.fit_transform(reply_features[['reply_followers','time_diff']])\n"
     ]
    },
    {
     "name": "stdout",
     "output_type": "stream",
     "text": [
      "0\n",
      "Epoch:   0 | Train Loss: 0.7141 | Train Acc: 59.09% | Val Acc: 63.64%\n",
      "100\n",
      "Epoch: 100 | Train Loss: 0.1728 | Train Acc: 95.78% | Val Acc: 84.85%\n",
      "200\n",
      "Epoch: 200 | Train Loss: 0.0350 | Train Acc: 100.00% | Val Acc: 83.33%\n",
      "300\n",
      "Epoch: 300 | Train Loss: 0.0080 | Train Acc: 100.00% | Val Acc: 83.33%\n",
      "Test accuracy: 88.06%\n",
      "Test Recall: 84.27%\n",
      "Test Precision: 83.01%\n"
     ]
    },
    {
     "name": "stderr",
     "output_type": "stream",
     "text": [
      "2024/09/25 01:14:54 WARNING mlflow.models.model: Input example should be provided to infer model signature if the model signature is not provided when logging the model.\n"
     ]
    },
    {
     "name": "stdout",
     "output_type": "stream",
     "text": [
      "177\n"
     ]
    },
    {
     "name": "stderr",
     "output_type": "stream",
     "text": [
      "/home/azureuser/rumour-detection-pheme/utils.py:322: SettingWithCopyWarning: \n",
      "A value is trying to be set on a copy of a slice from a DataFrame.\n",
      "Try using .loc[row_indexer,col_indexer] = value instead\n",
      "\n",
      "See the caveats in the documentation: https://pandas.pydata.org/pandas-docs/stable/user_guide/indexing.html#returning-a-view-versus-a-copy\n",
      "  reply_features[['reply_followers','time_diff']] = scaler.fit_transform(reply_features[['reply_followers','time_diff']])\n"
     ]
    },
    {
     "name": "stdout",
     "output_type": "stream",
     "text": [
      "0\n",
      "Epoch:   0 | Train Loss: 0.6487 | Train Acc: 72.78% | Val Acc: 74.29%\n",
      "100\n",
      "Epoch: 100 | Train Loss: 0.1780 | Train Acc: 94.19% | Val Acc: 92.86%\n",
      "200\n",
      "Epoch: 200 | Train Loss: 0.0544 | Train Acc: 100.00% | Val Acc: 92.86%\n",
      "300\n",
      "Epoch: 300 | Train Loss: 0.0113 | Train Acc: 100.00% | Val Acc: 92.86%\n",
      "Test accuracy: 85.92%\n",
      "Test Recall: 85.56%\n",
      "Test Precision: 86.23%\n"
     ]
    },
    {
     "name": "stderr",
     "output_type": "stream",
     "text": [
      "2024/09/25 01:15:07 WARNING mlflow.models.model: Input example should be provided to infer model signature if the model signature is not provided when logging the model.\n"
     ]
    },
    {
     "name": "stdout",
     "output_type": "stream",
     "text": [
      "187\n"
     ]
    },
    {
     "name": "stderr",
     "output_type": "stream",
     "text": [
      "/home/azureuser/rumour-detection-pheme/utils.py:322: SettingWithCopyWarning: \n",
      "A value is trying to be set on a copy of a slice from a DataFrame.\n",
      "Try using .loc[row_indexer,col_indexer] = value instead\n",
      "\n",
      "See the caveats in the documentation: https://pandas.pydata.org/pandas-docs/stable/user_guide/indexing.html#returning-a-view-versus-a-copy\n",
      "  reply_features[['reply_followers','time_diff']] = scaler.fit_transform(reply_features[['reply_followers','time_diff']])\n"
     ]
    },
    {
     "name": "stdout",
     "output_type": "stream",
     "text": [
      "0\n",
      "Epoch:   0 | Train Loss: 0.6832 | Train Acc: 58.81% | Val Acc: 57.33%\n",
      "100\n",
      "Epoch: 100 | Train Loss: 0.2195 | Train Acc: 93.18% | Val Acc: 93.33%\n",
      "200\n",
      "Epoch: 200 | Train Loss: 0.0623 | Train Acc: 99.43% | Val Acc: 94.67%\n",
      "300\n",
      "Epoch: 300 | Train Loss: 0.0165 | Train Acc: 100.00% | Val Acc: 93.33%\n",
      "Test accuracy: 89.47%\n",
      "Test Recall: 87.11%\n",
      "Test Precision: 86.21%\n"
     ]
    },
    {
     "name": "stderr",
     "output_type": "stream",
     "text": [
      "2024/09/25 01:15:19 WARNING mlflow.models.model: Input example should be provided to infer model signature if the model signature is not provided when logging the model.\n"
     ]
    },
    {
     "name": "stdout",
     "output_type": "stream",
     "text": [
      "197\n"
     ]
    },
    {
     "name": "stderr",
     "output_type": "stream",
     "text": [
      "/home/azureuser/rumour-detection-pheme/utils.py:322: SettingWithCopyWarning: \n",
      "A value is trying to be set on a copy of a slice from a DataFrame.\n",
      "Try using .loc[row_indexer,col_indexer] = value instead\n",
      "\n",
      "See the caveats in the documentation: https://pandas.pydata.org/pandas-docs/stable/user_guide/indexing.html#returning-a-view-versus-a-copy\n",
      "  reply_features[['reply_followers','time_diff']] = scaler.fit_transform(reply_features[['reply_followers','time_diff']])\n"
     ]
    },
    {
     "name": "stdout",
     "output_type": "stream",
     "text": [
      "0\n",
      "Epoch:   0 | Train Loss: 0.8218 | Train Acc: 24.54% | Val Acc: 30.86%\n",
      "100\n",
      "Epoch: 100 | Train Loss: 0.2381 | Train Acc: 89.45% | Val Acc: 87.65%\n",
      "200\n",
      "Epoch: 200 | Train Loss: 0.0761 | Train Acc: 97.63% | Val Acc: 92.59%\n",
      "300\n",
      "Epoch: 300 | Train Loss: 0.0195 | Train Acc: 99.74% | Val Acc: 90.12%\n",
      "Test accuracy: 89.02%\n",
      "Test Recall: 83.72%\n",
      "Test Precision: 86.18%\n"
     ]
    },
    {
     "name": "stderr",
     "output_type": "stream",
     "text": [
      "2024/09/25 01:15:32 WARNING mlflow.models.model: Input example should be provided to infer model signature if the model signature is not provided when logging the model.\n"
     ]
    },
    {
     "name": "stdout",
     "output_type": "stream",
     "text": [
      "207\n"
     ]
    },
    {
     "name": "stderr",
     "output_type": "stream",
     "text": [
      "/home/azureuser/rumour-detection-pheme/utils.py:322: SettingWithCopyWarning: \n",
      "A value is trying to be set on a copy of a slice from a DataFrame.\n",
      "Try using .loc[row_indexer,col_indexer] = value instead\n",
      "\n",
      "See the caveats in the documentation: https://pandas.pydata.org/pandas-docs/stable/user_guide/indexing.html#returning-a-view-versus-a-copy\n",
      "  reply_features[['reply_followers','time_diff']] = scaler.fit_transform(reply_features[['reply_followers','time_diff']])\n"
     ]
    },
    {
     "name": "stdout",
     "output_type": "stream",
     "text": [
      "0\n",
      "Epoch:   0 | Train Loss: 0.6805 | Train Acc: 76.35% | Val Acc: 71.26%\n",
      "100\n",
      "Epoch: 100 | Train Loss: 0.1672 | Train Acc: 94.09% | Val Acc: 83.91%\n",
      "200\n",
      "Epoch: 200 | Train Loss: 0.0487 | Train Acc: 99.01% | Val Acc: 83.91%\n",
      "300\n",
      "Epoch: 300 | Train Loss: 0.0085 | Train Acc: 100.00% | Val Acc: 85.06%\n",
      "Test accuracy: 90.91%\n",
      "Test Recall: 89.22%\n",
      "Test Precision: 83.53%\n"
     ]
    },
    {
     "name": "stderr",
     "output_type": "stream",
     "text": [
      "2024/09/25 01:15:45 WARNING mlflow.models.model: Input example should be provided to infer model signature if the model signature is not provided when logging the model.\n"
     ]
    },
    {
     "name": "stdout",
     "output_type": "stream",
     "text": [
      "217\n"
     ]
    },
    {
     "name": "stderr",
     "output_type": "stream",
     "text": [
      "/home/azureuser/rumour-detection-pheme/utils.py:322: SettingWithCopyWarning: \n",
      "A value is trying to be set on a copy of a slice from a DataFrame.\n",
      "Try using .loc[row_indexer,col_indexer] = value instead\n",
      "\n",
      "See the caveats in the documentation: https://pandas.pydata.org/pandas-docs/stable/user_guide/indexing.html#returning-a-view-versus-a-copy\n",
      "  reply_features[['reply_followers','time_diff']] = scaler.fit_transform(reply_features[['reply_followers','time_diff']])\n"
     ]
    },
    {
     "name": "stdout",
     "output_type": "stream",
     "text": [
      "0\n",
      "Epoch:   0 | Train Loss: 0.7628 | Train Acc: 62.21% | Val Acc: 60.22%\n",
      "100\n",
      "Epoch: 100 | Train Loss: 0.2075 | Train Acc: 94.24% | Val Acc: 87.10%\n",
      "200\n",
      "Epoch: 200 | Train Loss: 0.0712 | Train Acc: 98.39% | Val Acc: 83.87%\n",
      "300\n",
      "Epoch: 300 | Train Loss: 0.0182 | Train Acc: 99.77% | Val Acc: 82.80%\n",
      "Test accuracy: 88.30%\n",
      "Test Recall: 82.75%\n",
      "Test Precision: 79.57%\n"
     ]
    },
    {
     "name": "stderr",
     "output_type": "stream",
     "text": [
      "2024/09/25 01:15:58 WARNING mlflow.models.model: Input example should be provided to infer model signature if the model signature is not provided when logging the model.\n"
     ]
    },
    {
     "name": "stdout",
     "output_type": "stream",
     "text": [
      "227\n"
     ]
    },
    {
     "name": "stderr",
     "output_type": "stream",
     "text": [
      "/home/azureuser/rumour-detection-pheme/utils.py:322: SettingWithCopyWarning: \n",
      "A value is trying to be set on a copy of a slice from a DataFrame.\n",
      "Try using .loc[row_indexer,col_indexer] = value instead\n",
      "\n",
      "See the caveats in the documentation: https://pandas.pydata.org/pandas-docs/stable/user_guide/indexing.html#returning-a-view-versus-a-copy\n",
      "  reply_features[['reply_followers','time_diff']] = scaler.fit_transform(reply_features[['reply_followers','time_diff']])\n"
     ]
    },
    {
     "name": "stdout",
     "output_type": "stream",
     "text": [
      "0\n",
      "Epoch:   0 | Train Loss: 0.6859 | Train Acc: 73.09% | Val Acc: 72.16%\n",
      "100\n",
      "Epoch: 100 | Train Loss: 0.1678 | Train Acc: 96.06% | Val Acc: 83.51%\n",
      "200\n",
      "Epoch: 200 | Train Loss: 0.0530 | Train Acc: 99.12% | Val Acc: 82.47%\n",
      "300\n",
      "Epoch: 300 | Train Loss: 0.0198 | Train Acc: 99.78% | Val Acc: 83.51%\n",
      "Test accuracy: 88.89%\n",
      "Test Recall: 80.48%\n",
      "Test Precision: 77.47%\n"
     ]
    },
    {
     "name": "stderr",
     "output_type": "stream",
     "text": [
      "2024/09/25 01:16:12 WARNING mlflow.models.model: Input example should be provided to infer model signature if the model signature is not provided when logging the model.\n"
     ]
    },
    {
     "name": "stdout",
     "output_type": "stream",
     "text": [
      "237\n"
     ]
    },
    {
     "name": "stderr",
     "output_type": "stream",
     "text": [
      "/home/azureuser/rumour-detection-pheme/utils.py:322: SettingWithCopyWarning: \n",
      "A value is trying to be set on a copy of a slice from a DataFrame.\n",
      "Try using .loc[row_indexer,col_indexer] = value instead\n",
      "\n",
      "See the caveats in the documentation: https://pandas.pydata.org/pandas-docs/stable/user_guide/indexing.html#returning-a-view-versus-a-copy\n",
      "  reply_features[['reply_followers','time_diff']] = scaler.fit_transform(reply_features[['reply_followers','time_diff']])\n"
     ]
    },
    {
     "name": "stdout",
     "output_type": "stream",
     "text": [
      "0\n",
      "Epoch:   0 | Train Loss: 0.6791 | Train Acc: 77.73% | Val Acc: 78.43%\n",
      "100\n",
      "Epoch: 100 | Train Loss: 0.1764 | Train Acc: 94.33% | Val Acc: 86.27%\n",
      "200\n",
      "Epoch: 200 | Train Loss: 0.0688 | Train Acc: 98.74% | Val Acc: 88.24%\n",
      "300\n",
      "Epoch: 300 | Train Loss: 0.0173 | Train Acc: 100.00% | Val Acc: 89.22%\n",
      "Test accuracy: 92.23%\n",
      "Test Recall: 85.02%\n",
      "Test Precision: 82.75%\n"
     ]
    },
    {
     "name": "stderr",
     "output_type": "stream",
     "text": [
      "2024/09/25 01:16:27 WARNING mlflow.models.model: Input example should be provided to infer model signature if the model signature is not provided when logging the model.\n"
     ]
    },
    {
     "name": "stdout",
     "output_type": "stream",
     "text": [
      "247\n"
     ]
    },
    {
     "name": "stderr",
     "output_type": "stream",
     "text": [
      "/home/azureuser/rumour-detection-pheme/utils.py:322: SettingWithCopyWarning: \n",
      "A value is trying to be set on a copy of a slice from a DataFrame.\n",
      "Try using .loc[row_indexer,col_indexer] = value instead\n",
      "\n",
      "See the caveats in the documentation: https://pandas.pydata.org/pandas-docs/stable/user_guide/indexing.html#returning-a-view-versus-a-copy\n",
      "  reply_features[['reply_followers','time_diff']] = scaler.fit_transform(reply_features[['reply_followers','time_diff']])\n"
     ]
    },
    {
     "name": "stdout",
     "output_type": "stream",
     "text": [
      "0\n",
      "Epoch:   0 | Train Loss: 0.7310 | Train Acc: 39.76% | Val Acc: 41.90%\n",
      "100\n",
      "Epoch: 100 | Train Loss: 0.2098 | Train Acc: 92.90% | Val Acc: 84.76%\n",
      "200\n",
      "Epoch: 200 | Train Loss: 0.0897 | Train Acc: 97.77% | Val Acc: 88.57%\n",
      "300\n",
      "Epoch: 300 | Train Loss: 0.0248 | Train Acc: 99.59% | Val Acc: 89.52%\n",
      "Test accuracy: 89.72%\n",
      "Test Recall: 80.76%\n",
      "Test Precision: 83.13%\n"
     ]
    },
    {
     "name": "stderr",
     "output_type": "stream",
     "text": [
      "2024/09/25 01:16:43 WARNING mlflow.models.model: Input example should be provided to infer model signature if the model signature is not provided when logging the model.\n"
     ]
    },
    {
     "name": "stdout",
     "output_type": "stream",
     "text": [
      "257\n"
     ]
    },
    {
     "name": "stderr",
     "output_type": "stream",
     "text": [
      "/home/azureuser/rumour-detection-pheme/utils.py:322: SettingWithCopyWarning: \n",
      "A value is trying to be set on a copy of a slice from a DataFrame.\n",
      "Try using .loc[row_indexer,col_indexer] = value instead\n",
      "\n",
      "See the caveats in the documentation: https://pandas.pydata.org/pandas-docs/stable/user_guide/indexing.html#returning-a-view-versus-a-copy\n",
      "  reply_features[['reply_followers','time_diff']] = scaler.fit_transform(reply_features[['reply_followers','time_diff']])\n"
     ]
    },
    {
     "name": "stdout",
     "output_type": "stream",
     "text": [
      "0\n",
      "Epoch:   0 | Train Loss: 1.0063 | Train Acc: 18.32% | Val Acc: 17.43%\n",
      "100\n",
      "Epoch: 100 | Train Loss: 0.2342 | Train Acc: 90.25% | Val Acc: 90.83%\n",
      "200\n",
      "Epoch: 200 | Train Loss: 0.0975 | Train Acc: 97.27% | Val Acc: 90.83%\n",
      "300\n",
      "Epoch: 300 | Train Loss: 0.0508 | Train Acc: 98.83% | Val Acc: 92.66%\n",
      "Test accuracy: 89.19%\n",
      "Test Recall: 86.96%\n",
      "Test Precision: 85.35%\n"
     ]
    },
    {
     "name": "stderr",
     "output_type": "stream",
     "text": [
      "2024/09/25 01:16:58 WARNING mlflow.models.model: Input example should be provided to infer model signature if the model signature is not provided when logging the model.\n"
     ]
    },
    {
     "name": "stdout",
     "output_type": "stream",
     "text": [
      "267\n"
     ]
    },
    {
     "name": "stderr",
     "output_type": "stream",
     "text": [
      "/home/azureuser/rumour-detection-pheme/utils.py:322: SettingWithCopyWarning: \n",
      "A value is trying to be set on a copy of a slice from a DataFrame.\n",
      "Try using .loc[row_indexer,col_indexer] = value instead\n",
      "\n",
      "See the caveats in the documentation: https://pandas.pydata.org/pandas-docs/stable/user_guide/indexing.html#returning-a-view-versus-a-copy\n",
      "  reply_features[['reply_followers','time_diff']] = scaler.fit_transform(reply_features[['reply_followers','time_diff']])\n"
     ]
    },
    {
     "name": "stdout",
     "output_type": "stream",
     "text": [
      "0\n",
      "Epoch:   0 | Train Loss: 0.7527 | Train Acc: 72.18% | Val Acc: 77.19%\n",
      "100\n",
      "Epoch: 100 | Train Loss: 0.2093 | Train Acc: 93.61% | Val Acc: 90.35%\n",
      "200\n",
      "Epoch: 200 | Train Loss: 0.0904 | Train Acc: 97.37% | Val Acc: 90.35%\n",
      "300\n",
      "Epoch: 300 | Train Loss: 0.0260 | Train Acc: 99.81% | Val Acc: 92.11%\n",
      "Test accuracy: 86.96%\n",
      "Test Recall: 81.39%\n",
      "Test Precision: 83.80%\n"
     ]
    },
    {
     "name": "stderr",
     "output_type": "stream",
     "text": [
      "2024/09/25 01:17:13 WARNING mlflow.models.model: Input example should be provided to infer model signature if the model signature is not provided when logging the model.\n"
     ]
    },
    {
     "name": "stdout",
     "output_type": "stream",
     "text": [
      "277\n"
     ]
    },
    {
     "name": "stderr",
     "output_type": "stream",
     "text": [
      "/home/azureuser/rumour-detection-pheme/utils.py:322: SettingWithCopyWarning: \n",
      "A value is trying to be set on a copy of a slice from a DataFrame.\n",
      "Try using .loc[row_indexer,col_indexer] = value instead\n",
      "\n",
      "See the caveats in the documentation: https://pandas.pydata.org/pandas-docs/stable/user_guide/indexing.html#returning-a-view-versus-a-copy\n",
      "  reply_features[['reply_followers','time_diff']] = scaler.fit_transform(reply_features[['reply_followers','time_diff']])\n"
     ]
    },
    {
     "name": "stdout",
     "output_type": "stream",
     "text": [
      "0\n",
      "Epoch:   0 | Train Loss: 0.8142 | Train Acc: 76.15% | Val Acc: 75.86%\n",
      "100\n",
      "Epoch: 100 | Train Loss: 0.2217 | Train Acc: 92.48% | Val Acc: 91.38%\n",
      "200\n",
      "Epoch: 200 | Train Loss: 0.1073 | Train Acc: 97.61% | Val Acc: 92.24%\n",
      "300\n",
      "Epoch: 300 | Train Loss: 0.0632 | Train Acc: 99.08% | Val Acc: 93.10%\n",
      "Test accuracy: 92.37%\n",
      "Test Recall: 91.05%\n",
      "Test Precision: 86.96%\n"
     ]
    },
    {
     "name": "stderr",
     "output_type": "stream",
     "text": [
      "2024/09/25 01:17:29 WARNING mlflow.models.model: Input example should be provided to infer model signature if the model signature is not provided when logging the model.\n"
     ]
    },
    {
     "name": "stdout",
     "output_type": "stream",
     "text": [
      "287\n"
     ]
    },
    {
     "name": "stderr",
     "output_type": "stream",
     "text": [
      "/home/azureuser/rumour-detection-pheme/utils.py:322: SettingWithCopyWarning: \n",
      "A value is trying to be set on a copy of a slice from a DataFrame.\n",
      "Try using .loc[row_indexer,col_indexer] = value instead\n",
      "\n",
      "See the caveats in the documentation: https://pandas.pydata.org/pandas-docs/stable/user_guide/indexing.html#returning-a-view-versus-a-copy\n",
      "  reply_features[['reply_followers','time_diff']] = scaler.fit_transform(reply_features[['reply_followers','time_diff']])\n"
     ]
    },
    {
     "name": "stdout",
     "output_type": "stream",
     "text": [
      "0\n",
      "Epoch:   0 | Train Loss: 0.8251 | Train Acc: 26.97% | Val Acc: 32.76%\n",
      "100\n",
      "Epoch: 100 | Train Loss: 0.2112 | Train Acc: 91.19% | Val Acc: 81.03%\n",
      "200\n",
      "Epoch: 200 | Train Loss: 0.1105 | Train Acc: 97.80% | Val Acc: 87.07%\n",
      "300\n",
      "Epoch: 300 | Train Loss: 0.0503 | Train Acc: 98.90% | Val Acc: 89.66%\n",
      "Test accuracy: 89.83%\n",
      "Test Recall: 79.73%\n",
      "Test Precision: 87.26%\n"
     ]
    },
    {
     "name": "stderr",
     "output_type": "stream",
     "text": [
      "2024/09/25 01:17:44 WARNING mlflow.models.model: Input example should be provided to infer model signature if the model signature is not provided when logging the model.\n"
     ]
    },
    {
     "name": "stdout",
     "output_type": "stream",
     "text": [
      "297\n"
     ]
    },
    {
     "name": "stderr",
     "output_type": "stream",
     "text": [
      "/home/azureuser/rumour-detection-pheme/utils.py:322: SettingWithCopyWarning: \n",
      "A value is trying to be set on a copy of a slice from a DataFrame.\n",
      "Try using .loc[row_indexer,col_indexer] = value instead\n",
      "\n",
      "See the caveats in the documentation: https://pandas.pydata.org/pandas-docs/stable/user_guide/indexing.html#returning-a-view-versus-a-copy\n",
      "  reply_features[['reply_followers','time_diff']] = scaler.fit_transform(reply_features[['reply_followers','time_diff']])\n"
     ]
    },
    {
     "name": "stdout",
     "output_type": "stream",
     "text": [
      "0\n",
      "Epoch:   0 | Train Loss: 0.6952 | Train Acc: 62.09% | Val Acc: 62.39%\n",
      "100\n",
      "Epoch: 100 | Train Loss: 0.1750 | Train Acc: 93.96% | Val Acc: 90.60%\n",
      "200\n",
      "Epoch: 200 | Train Loss: 0.0713 | Train Acc: 98.72% | Val Acc: 93.16%\n",
      "300\n",
      "Epoch: 300 | Train Loss: 0.0338 | Train Acc: 99.45% | Val Acc: 91.45%\n",
      "Test accuracy: 92.31%\n",
      "Test Recall: 87.56%\n",
      "Test Precision: 86.96%\n"
     ]
    },
    {
     "name": "stderr",
     "output_type": "stream",
     "text": [
      "2024/09/25 01:17:59 WARNING mlflow.models.model: Input example should be provided to infer model signature if the model signature is not provided when logging the model.\n"
     ]
    },
    {
     "name": "stdout",
     "output_type": "stream",
     "text": [
      "307\n"
     ]
    },
    {
     "name": "stderr",
     "output_type": "stream",
     "text": [
      "/home/azureuser/rumour-detection-pheme/utils.py:322: SettingWithCopyWarning: \n",
      "A value is trying to be set on a copy of a slice from a DataFrame.\n",
      "Try using .loc[row_indexer,col_indexer] = value instead\n",
      "\n",
      "See the caveats in the documentation: https://pandas.pydata.org/pandas-docs/stable/user_guide/indexing.html#returning-a-view-versus-a-copy\n",
      "  reply_features[['reply_followers','time_diff']] = scaler.fit_transform(reply_features[['reply_followers','time_diff']])\n"
     ]
    },
    {
     "name": "stdout",
     "output_type": "stream",
     "text": [
      "0\n",
      "Epoch:   0 | Train Loss: 0.7402 | Train Acc: 76.56% | Val Acc: 66.67%\n",
      "100\n",
      "Epoch: 100 | Train Loss: 0.2191 | Train Acc: 91.39% | Val Acc: 82.91%\n",
      "200\n",
      "Epoch: 200 | Train Loss: 0.1021 | Train Acc: 97.07% | Val Acc: 85.47%\n",
      "300\n",
      "Epoch: 300 | Train Loss: 0.0441 | Train Acc: 99.27% | Val Acc: 88.03%\n",
      "Test accuracy: 95.73%\n",
      "Test Recall: 83.34%\n",
      "Test Precision: 89.74%\n"
     ]
    },
    {
     "name": "stderr",
     "output_type": "stream",
     "text": [
      "2024/09/25 01:18:15 WARNING mlflow.models.model: Input example should be provided to infer model signature if the model signature is not provided when logging the model.\n"
     ]
    },
    {
     "name": "stdout",
     "output_type": "stream",
     "text": [
      "317\n"
     ]
    },
    {
     "name": "stderr",
     "output_type": "stream",
     "text": [
      "/home/azureuser/rumour-detection-pheme/utils.py:322: SettingWithCopyWarning: \n",
      "A value is trying to be set on a copy of a slice from a DataFrame.\n",
      "Try using .loc[row_indexer,col_indexer] = value instead\n",
      "\n",
      "See the caveats in the documentation: https://pandas.pydata.org/pandas-docs/stable/user_guide/indexing.html#returning-a-view-versus-a-copy\n",
      "  reply_features[['reply_followers','time_diff']] = scaler.fit_transform(reply_features[['reply_followers','time_diff']])\n"
     ]
    },
    {
     "name": "stdout",
     "output_type": "stream",
     "text": [
      "0\n",
      "Epoch:   0 | Train Loss: 0.7213 | Train Acc: 53.66% | Val Acc: 48.72%\n",
      "100\n",
      "Epoch: 100 | Train Loss: 0.1787 | Train Acc: 93.41% | Val Acc: 90.60%\n",
      "200\n",
      "Epoch: 200 | Train Loss: 0.0627 | Train Acc: 98.17% | Val Acc: 94.87%\n",
      "300\n",
      "Epoch: 300 | Train Loss: 0.0272 | Train Acc: 99.63% | Val Acc: 96.58%\n",
      "Test accuracy: 90.68%\n",
      "Test Recall: 87.22%\n",
      "Test Precision: 84.72%\n"
     ]
    },
    {
     "name": "stderr",
     "output_type": "stream",
     "text": [
      "2024/09/25 01:18:30 WARNING mlflow.models.model: Input example should be provided to infer model signature if the model signature is not provided when logging the model.\n"
     ]
    },
    {
     "name": "stdout",
     "output_type": "stream",
     "text": [
      "327\n"
     ]
    },
    {
     "name": "stderr",
     "output_type": "stream",
     "text": [
      "/home/azureuser/rumour-detection-pheme/utils.py:322: SettingWithCopyWarning: \n",
      "A value is trying to be set on a copy of a slice from a DataFrame.\n",
      "Try using .loc[row_indexer,col_indexer] = value instead\n",
      "\n",
      "See the caveats in the documentation: https://pandas.pydata.org/pandas-docs/stable/user_guide/indexing.html#returning-a-view-versus-a-copy\n",
      "  reply_features[['reply_followers','time_diff']] = scaler.fit_transform(reply_features[['reply_followers','time_diff']])\n"
     ]
    },
    {
     "name": "stdout",
     "output_type": "stream",
     "text": [
      "0\n",
      "Epoch:   0 | Train Loss: 0.7272 | Train Acc: 80.44% | Val Acc: 87.18%\n",
      "100\n",
      "Epoch: 100 | Train Loss: 0.2048 | Train Acc: 91.77% | Val Acc: 94.02%\n",
      "200\n",
      "Epoch: 200 | Train Loss: 0.0674 | Train Acc: 98.17% | Val Acc: 94.87%\n",
      "300\n",
      "Epoch: 300 | Train Loss: 0.0213 | Train Acc: 99.63% | Val Acc: 94.87%\n",
      "Test accuracy: 93.22%\n",
      "Test Recall: 90.01%\n",
      "Test Precision: 86.70%\n"
     ]
    },
    {
     "name": "stderr",
     "output_type": "stream",
     "text": [
      "2024/09/25 01:18:46 WARNING mlflow.models.model: Input example should be provided to infer model signature if the model signature is not provided when logging the model.\n"
     ]
    },
    {
     "name": "stdout",
     "output_type": "stream",
     "text": [
      "337\n"
     ]
    },
    {
     "name": "stderr",
     "output_type": "stream",
     "text": [
      "/home/azureuser/rumour-detection-pheme/utils.py:322: SettingWithCopyWarning: \n",
      "A value is trying to be set on a copy of a slice from a DataFrame.\n",
      "Try using .loc[row_indexer,col_indexer] = value instead\n",
      "\n",
      "See the caveats in the documentation: https://pandas.pydata.org/pandas-docs/stable/user_guide/indexing.html#returning-a-view-versus-a-copy\n",
      "  reply_features[['reply_followers','time_diff']] = scaler.fit_transform(reply_features[['reply_followers','time_diff']])\n"
     ]
    },
    {
     "name": "stdout",
     "output_type": "stream",
     "text": [
      "0\n",
      "Epoch:   0 | Train Loss: 0.6480 | Train Acc: 81.93% | Val Acc: 81.20%\n",
      "100\n",
      "Epoch: 100 | Train Loss: 0.1822 | Train Acc: 92.70% | Val Acc: 88.89%\n",
      "200\n",
      "Epoch: 200 | Train Loss: 0.0828 | Train Acc: 97.99% | Val Acc: 88.03%\n",
      "300\n",
      "Epoch: 300 | Train Loss: 0.0240 | Train Acc: 99.27% | Val Acc: 88.03%\n",
      "Test accuracy: 93.22%\n",
      "Test Recall: 86.03%\n",
      "Test Precision: 86.70%\n"
     ]
    },
    {
     "name": "stderr",
     "output_type": "stream",
     "text": [
      "2024/09/25 01:19:02 WARNING mlflow.models.model: Input example should be provided to infer model signature if the model signature is not provided when logging the model.\n"
     ]
    },
    {
     "name": "stdout",
     "output_type": "stream",
     "text": [
      "347\n"
     ]
    },
    {
     "name": "stderr",
     "output_type": "stream",
     "text": [
      "/home/azureuser/rumour-detection-pheme/utils.py:322: SettingWithCopyWarning: \n",
      "A value is trying to be set on a copy of a slice from a DataFrame.\n",
      "Try using .loc[row_indexer,col_indexer] = value instead\n",
      "\n",
      "See the caveats in the documentation: https://pandas.pydata.org/pandas-docs/stable/user_guide/indexing.html#returning-a-view-versus-a-copy\n",
      "  reply_features[['reply_followers','time_diff']] = scaler.fit_transform(reply_features[['reply_followers','time_diff']])\n"
     ]
    },
    {
     "name": "stdout",
     "output_type": "stream",
     "text": [
      "0\n",
      "Epoch:   0 | Train Loss: 0.9144 | Train Acc: 28.10% | Val Acc: 32.48%\n",
      "100\n",
      "Epoch: 100 | Train Loss: 0.2063 | Train Acc: 91.79% | Val Acc: 85.47%\n",
      "200\n",
      "Epoch: 200 | Train Loss: 0.0803 | Train Acc: 97.26% | Val Acc: 86.32%\n",
      "300\n",
      "Epoch: 300 | Train Loss: 0.0248 | Train Acc: 99.64% | Val Acc: 83.76%\n",
      "Test accuracy: 89.08%\n",
      "Test Recall: 76.88%\n",
      "Test Precision: 81.08%\n"
     ]
    },
    {
     "name": "stderr",
     "output_type": "stream",
     "text": [
      "2024/09/25 01:19:18 WARNING mlflow.models.model: Input example should be provided to infer model signature if the model signature is not provided when logging the model.\n"
     ]
    },
    {
     "name": "stdout",
     "output_type": "stream",
     "text": [
      "357\n"
     ]
    },
    {
     "name": "stderr",
     "output_type": "stream",
     "text": [
      "/home/azureuser/rumour-detection-pheme/utils.py:322: SettingWithCopyWarning: \n",
      "A value is trying to be set on a copy of a slice from a DataFrame.\n",
      "Try using .loc[row_indexer,col_indexer] = value instead\n",
      "\n",
      "See the caveats in the documentation: https://pandas.pydata.org/pandas-docs/stable/user_guide/indexing.html#returning-a-view-versus-a-copy\n",
      "  reply_features[['reply_followers','time_diff']] = scaler.fit_transform(reply_features[['reply_followers','time_diff']])\n"
     ]
    },
    {
     "name": "stdout",
     "output_type": "stream",
     "text": [
      "0\n",
      "Epoch:   0 | Train Loss: 0.6985 | Train Acc: 80.84% | Val Acc: 77.78%\n",
      "100\n",
      "Epoch: 100 | Train Loss: 0.1558 | Train Acc: 94.16% | Val Acc: 85.47%\n",
      "200\n",
      "Epoch: 200 | Train Loss: 0.0557 | Train Acc: 99.09% | Val Acc: 86.32%\n",
      "300\n",
      "Epoch: 300 | Train Loss: 0.0194 | Train Acc: 99.64% | Val Acc: 86.32%\n",
      "Test accuracy: 92.44%\n",
      "Test Recall: 87.46%\n",
      "Test Precision: 82.05%\n"
     ]
    },
    {
     "name": "stderr",
     "output_type": "stream",
     "text": [
      "2024/09/25 01:19:34 WARNING mlflow.models.model: Input example should be provided to infer model signature if the model signature is not provided when logging the model.\n"
     ]
    },
    {
     "name": "stdout",
     "output_type": "stream",
     "text": [
      "367\n"
     ]
    },
    {
     "name": "stderr",
     "output_type": "stream",
     "text": [
      "/home/azureuser/rumour-detection-pheme/utils.py:322: SettingWithCopyWarning: \n",
      "A value is trying to be set on a copy of a slice from a DataFrame.\n",
      "Try using .loc[row_indexer,col_indexer] = value instead\n",
      "\n",
      "See the caveats in the documentation: https://pandas.pydata.org/pandas-docs/stable/user_guide/indexing.html#returning-a-view-versus-a-copy\n",
      "  reply_features[['reply_followers','time_diff']] = scaler.fit_transform(reply_features[['reply_followers','time_diff']])\n"
     ]
    },
    {
     "name": "stdout",
     "output_type": "stream",
     "text": [
      "0\n",
      "Epoch:   0 | Train Loss: 0.8600 | Train Acc: 21.90% | Val Acc: 36.75%\n",
      "100\n",
      "Epoch: 100 | Train Loss: 0.2021 | Train Acc: 93.61% | Val Acc: 82.05%\n",
      "200\n",
      "Epoch: 200 | Train Loss: 0.0609 | Train Acc: 98.91% | Val Acc: 83.76%\n",
      "300\n",
      "Epoch: 300 | Train Loss: 0.0339 | Train Acc: 99.82% | Val Acc: 83.76%\n",
      "Test accuracy: 90.76%\n",
      "Test Recall: 75.81%\n",
      "Test Precision: 84.22%\n"
     ]
    },
    {
     "name": "stderr",
     "output_type": "stream",
     "text": [
      "2024/09/25 01:19:50 WARNING mlflow.models.model: Input example should be provided to infer model signature if the model signature is not provided when logging the model.\n"
     ]
    },
    {
     "name": "stdout",
     "output_type": "stream",
     "text": [
      "377\n"
     ]
    },
    {
     "name": "stderr",
     "output_type": "stream",
     "text": [
      "/home/azureuser/rumour-detection-pheme/utils.py:322: SettingWithCopyWarning: \n",
      "A value is trying to be set on a copy of a slice from a DataFrame.\n",
      "Try using .loc[row_indexer,col_indexer] = value instead\n",
      "\n",
      "See the caveats in the documentation: https://pandas.pydata.org/pandas-docs/stable/user_guide/indexing.html#returning-a-view-versus-a-copy\n",
      "  reply_features[['reply_followers','time_diff']] = scaler.fit_transform(reply_features[['reply_followers','time_diff']])\n"
     ]
    },
    {
     "name": "stdout",
     "output_type": "stream",
     "text": [
      "0\n",
      "Epoch:   0 | Train Loss: 0.6652 | Train Acc: 83.21% | Val Acc: 79.49%\n",
      "100\n",
      "Epoch: 100 | Train Loss: 0.2059 | Train Acc: 92.15% | Val Acc: 91.45%\n",
      "200\n",
      "Epoch: 200 | Train Loss: 0.1161 | Train Acc: 96.17% | Val Acc: 91.45%\n",
      "300\n",
      "Epoch: 300 | Train Loss: 0.0493 | Train Acc: 98.91% | Val Acc: 90.60%\n",
      "Test accuracy: 86.55%\n",
      "Test Recall: 83.04%\n",
      "Test Precision: 84.59%\n"
     ]
    },
    {
     "name": "stderr",
     "output_type": "stream",
     "text": [
      "2024/09/25 01:20:05 WARNING mlflow.models.model: Input example should be provided to infer model signature if the model signature is not provided when logging the model.\n"
     ]
    },
    {
     "name": "stdout",
     "output_type": "stream",
     "text": [
      "387\n"
     ]
    },
    {
     "name": "stderr",
     "output_type": "stream",
     "text": [
      "/home/azureuser/rumour-detection-pheme/utils.py:322: SettingWithCopyWarning: \n",
      "A value is trying to be set on a copy of a slice from a DataFrame.\n",
      "Try using .loc[row_indexer,col_indexer] = value instead\n",
      "\n",
      "See the caveats in the documentation: https://pandas.pydata.org/pandas-docs/stable/user_guide/indexing.html#returning-a-view-versus-a-copy\n",
      "  reply_features[['reply_followers','time_diff']] = scaler.fit_transform(reply_features[['reply_followers','time_diff']])\n"
     ]
    },
    {
     "name": "stdout",
     "output_type": "stream",
     "text": [
      "0\n",
      "Epoch:   0 | Train Loss: 1.0517 | Train Acc: 30.73% | Val Acc: 21.37%\n",
      "100\n",
      "Epoch: 100 | Train Loss: 0.2740 | Train Acc: 87.27% | Val Acc: 88.89%\n",
      "200\n",
      "Epoch: 200 | Train Loss: 0.1782 | Train Acc: 94.00% | Val Acc: 93.16%\n",
      "300\n",
      "Epoch: 300 | Train Loss: 0.1020 | Train Acc: 97.27% | Val Acc: 91.45%\n",
      "Test accuracy: 97.48%\n",
      "Test Recall: 91.76%\n",
      "Test Precision: 91.76%\n"
     ]
    },
    {
     "name": "stderr",
     "output_type": "stream",
     "text": [
      "2024/09/25 01:20:21 WARNING mlflow.models.model: Input example should be provided to infer model signature if the model signature is not provided when logging the model.\n"
     ]
    },
    {
     "name": "stdout",
     "output_type": "stream",
     "text": [
      "397\n"
     ]
    },
    {
     "name": "stderr",
     "output_type": "stream",
     "text": [
      "/home/azureuser/rumour-detection-pheme/utils.py:322: SettingWithCopyWarning: \n",
      "A value is trying to be set on a copy of a slice from a DataFrame.\n",
      "Try using .loc[row_indexer,col_indexer] = value instead\n",
      "\n",
      "See the caveats in the documentation: https://pandas.pydata.org/pandas-docs/stable/user_guide/indexing.html#returning-a-view-versus-a-copy\n",
      "  reply_features[['reply_followers','time_diff']] = scaler.fit_transform(reply_features[['reply_followers','time_diff']])\n"
     ]
    },
    {
     "name": "stdout",
     "output_type": "stream",
     "text": [
      "0\n",
      "Epoch:   0 | Train Loss: 0.7402 | Train Acc: 63.82% | Val Acc: 68.38%\n",
      "100\n",
      "Epoch: 100 | Train Loss: 0.2146 | Train Acc: 93.82% | Val Acc: 94.02%\n",
      "200\n",
      "Epoch: 200 | Train Loss: 0.0955 | Train Acc: 97.09% | Val Acc: 93.16%\n",
      "300\n",
      "Epoch: 300 | Train Loss: 0.0482 | Train Acc: 99.64% | Val Acc: 94.02%\n",
      "Test accuracy: 89.92%\n",
      "Test Recall: 83.65%\n",
      "Test Precision: 86.44%\n"
     ]
    },
    {
     "name": "stderr",
     "output_type": "stream",
     "text": [
      "2024/09/25 01:20:37 WARNING mlflow.models.model: Input example should be provided to infer model signature if the model signature is not provided when logging the model.\n"
     ]
    },
    {
     "name": "stdout",
     "output_type": "stream",
     "text": [
      "407\n"
     ]
    },
    {
     "name": "stderr",
     "output_type": "stream",
     "text": [
      "/home/azureuser/rumour-detection-pheme/utils.py:322: SettingWithCopyWarning: \n",
      "A value is trying to be set on a copy of a slice from a DataFrame.\n",
      "Try using .loc[row_indexer,col_indexer] = value instead\n",
      "\n",
      "See the caveats in the documentation: https://pandas.pydata.org/pandas-docs/stable/user_guide/indexing.html#returning-a-view-versus-a-copy\n",
      "  reply_features[['reply_followers','time_diff']] = scaler.fit_transform(reply_features[['reply_followers','time_diff']])\n"
     ]
    },
    {
     "name": "stdout",
     "output_type": "stream",
     "text": [
      "0\n",
      "Epoch:   0 | Train Loss: 0.9343 | Train Acc: 65.82% | Val Acc: 70.09%\n",
      "100\n",
      "Epoch: 100 | Train Loss: 0.2062 | Train Acc: 93.09% | Val Acc: 93.16%\n",
      "200\n",
      "Epoch: 200 | Train Loss: 0.0854 | Train Acc: 98.00% | Val Acc: 94.02%\n",
      "300\n",
      "Epoch: 300 | Train Loss: 0.0296 | Train Acc: 99.64% | Val Acc: 92.31%\n",
      "Test accuracy: 91.60%\n",
      "Test Recall: 84.12%\n",
      "Test Precision: 87.26%\n"
     ]
    },
    {
     "name": "stderr",
     "output_type": "stream",
     "text": [
      "2024/09/25 01:20:52 WARNING mlflow.models.model: Input example should be provided to infer model signature if the model signature is not provided when logging the model.\n"
     ]
    },
    {
     "name": "stdout",
     "output_type": "stream",
     "text": [
      "417\n"
     ]
    },
    {
     "name": "stderr",
     "output_type": "stream",
     "text": [
      "/home/azureuser/rumour-detection-pheme/utils.py:322: SettingWithCopyWarning: \n",
      "A value is trying to be set on a copy of a slice from a DataFrame.\n",
      "Try using .loc[row_indexer,col_indexer] = value instead\n",
      "\n",
      "See the caveats in the documentation: https://pandas.pydata.org/pandas-docs/stable/user_guide/indexing.html#returning-a-view-versus-a-copy\n",
      "  reply_features[['reply_followers','time_diff']] = scaler.fit_transform(reply_features[['reply_followers','time_diff']])\n"
     ]
    },
    {
     "name": "stdout",
     "output_type": "stream",
     "text": [
      "0\n",
      "Epoch:   0 | Train Loss: 0.7085 | Train Acc: 79.45% | Val Acc: 82.05%\n",
      "100\n",
      "Epoch: 100 | Train Loss: 0.2136 | Train Acc: 92.91% | Val Acc: 93.16%\n",
      "200\n",
      "Epoch: 200 | Train Loss: 0.0891 | Train Acc: 98.18% | Val Acc: 92.31%\n",
      "300\n",
      "Epoch: 300 | Train Loss: 0.0254 | Train Acc: 99.45% | Val Acc: 92.31%\n",
      "Test accuracy: 91.60%\n",
      "Test Recall: 82.98%\n",
      "Test Precision: 88.19%\n"
     ]
    },
    {
     "name": "stderr",
     "output_type": "stream",
     "text": [
      "2024/09/25 01:21:08 WARNING mlflow.models.model: Input example should be provided to infer model signature if the model signature is not provided when logging the model.\n"
     ]
    },
    {
     "name": "stdout",
     "output_type": "stream",
     "text": [
      "427\n"
     ]
    },
    {
     "name": "stderr",
     "output_type": "stream",
     "text": [
      "/home/azureuser/rumour-detection-pheme/utils.py:322: SettingWithCopyWarning: \n",
      "A value is trying to be set on a copy of a slice from a DataFrame.\n",
      "Try using .loc[row_indexer,col_indexer] = value instead\n",
      "\n",
      "See the caveats in the documentation: https://pandas.pydata.org/pandas-docs/stable/user_guide/indexing.html#returning-a-view-versus-a-copy\n",
      "  reply_features[['reply_followers','time_diff']] = scaler.fit_transform(reply_features[['reply_followers','time_diff']])\n"
     ]
    },
    {
     "name": "stdout",
     "output_type": "stream",
     "text": [
      "0\n",
      "Epoch:   0 | Train Loss: 0.7959 | Train Acc: 76.18% | Val Acc: 69.23%\n",
      "100\n",
      "Epoch: 100 | Train Loss: 0.2110 | Train Acc: 91.27% | Val Acc: 87.18%\n",
      "200\n",
      "Epoch: 200 | Train Loss: 0.0911 | Train Acc: 98.18% | Val Acc: 89.74%\n",
      "300\n",
      "Epoch: 300 | Train Loss: 0.0375 | Train Acc: 99.45% | Val Acc: 88.89%\n",
      "Test accuracy: 91.60%\n",
      "Test Recall: 82.25%\n",
      "Test Precision: 90.44%\n"
     ]
    },
    {
     "name": "stderr",
     "output_type": "stream",
     "text": [
      "2024/09/25 01:21:23 WARNING mlflow.models.model: Input example should be provided to infer model signature if the model signature is not provided when logging the model.\n"
     ]
    },
    {
     "name": "stdout",
     "output_type": "stream",
     "text": [
      "437\n"
     ]
    },
    {
     "name": "stderr",
     "output_type": "stream",
     "text": [
      "/home/azureuser/rumour-detection-pheme/utils.py:322: SettingWithCopyWarning: \n",
      "A value is trying to be set on a copy of a slice from a DataFrame.\n",
      "Try using .loc[row_indexer,col_indexer] = value instead\n",
      "\n",
      "See the caveats in the documentation: https://pandas.pydata.org/pandas-docs/stable/user_guide/indexing.html#returning-a-view-versus-a-copy\n",
      "  reply_features[['reply_followers','time_diff']] = scaler.fit_transform(reply_features[['reply_followers','time_diff']])\n"
     ]
    },
    {
     "name": "stdout",
     "output_type": "stream",
     "text": [
      "0\n",
      "Epoch:   0 | Train Loss: 0.7862 | Train Acc: 47.82% | Val Acc: 38.98%\n",
      "100\n",
      "Epoch: 100 | Train Loss: 0.2351 | Train Acc: 91.45% | Val Acc: 86.44%\n",
      "200\n",
      "Epoch: 200 | Train Loss: 0.1008 | Train Acc: 97.82% | Val Acc: 88.98%\n",
      "300\n",
      "Epoch: 300 | Train Loss: 0.0332 | Train Acc: 99.64% | Val Acc: 92.37%\n",
      "Test accuracy: 91.60%\n",
      "Test Recall: 89.02%\n",
      "Test Precision: 87.86%\n"
     ]
    },
    {
     "name": "stderr",
     "output_type": "stream",
     "text": [
      "2024/09/25 01:21:39 WARNING mlflow.models.model: Input example should be provided to infer model signature if the model signature is not provided when logging the model.\n"
     ]
    },
    {
     "name": "stdout",
     "output_type": "stream",
     "text": [
      "447\n"
     ]
    },
    {
     "name": "stderr",
     "output_type": "stream",
     "text": [
      "/home/azureuser/rumour-detection-pheme/utils.py:322: SettingWithCopyWarning: \n",
      "A value is trying to be set on a copy of a slice from a DataFrame.\n",
      "Try using .loc[row_indexer,col_indexer] = value instead\n",
      "\n",
      "See the caveats in the documentation: https://pandas.pydata.org/pandas-docs/stable/user_guide/indexing.html#returning-a-view-versus-a-copy\n",
      "  reply_features[['reply_followers','time_diff']] = scaler.fit_transform(reply_features[['reply_followers','time_diff']])\n"
     ]
    },
    {
     "name": "stdout",
     "output_type": "stream",
     "text": [
      "0\n",
      "Epoch:   0 | Train Loss: 0.7153 | Train Acc: 55.35% | Val Acc: 54.24%\n",
      "100\n",
      "Epoch: 100 | Train Loss: 0.1656 | Train Acc: 95.10% | Val Acc: 90.68%\n",
      "200\n",
      "Epoch: 200 | Train Loss: 0.0804 | Train Acc: 98.19% | Val Acc: 89.83%\n",
      "300\n",
      "Epoch: 300 | Train Loss: 0.0341 | Train Acc: 99.82% | Val Acc: 88.98%\n",
      "Test accuracy: 90.76%\n",
      "Test Recall: 77.13%\n",
      "Test Precision: 89.92%\n"
     ]
    },
    {
     "name": "stderr",
     "output_type": "stream",
     "text": [
      "2024/09/25 01:21:54 WARNING mlflow.models.model: Input example should be provided to infer model signature if the model signature is not provided when logging the model.\n"
     ]
    },
    {
     "name": "stdout",
     "output_type": "stream",
     "text": [
      "457\n"
     ]
    },
    {
     "name": "stderr",
     "output_type": "stream",
     "text": [
      "/home/azureuser/rumour-detection-pheme/utils.py:322: SettingWithCopyWarning: \n",
      "A value is trying to be set on a copy of a slice from a DataFrame.\n",
      "Try using .loc[row_indexer,col_indexer] = value instead\n",
      "\n",
      "See the caveats in the documentation: https://pandas.pydata.org/pandas-docs/stable/user_guide/indexing.html#returning-a-view-versus-a-copy\n",
      "  reply_features[['reply_followers','time_diff']] = scaler.fit_transform(reply_features[['reply_followers','time_diff']])\n"
     ]
    },
    {
     "name": "stdout",
     "output_type": "stream",
     "text": [
      "0\n",
      "Epoch:   0 | Train Loss: 0.7351 | Train Acc: 79.35% | Val Acc: 73.73%\n",
      "100\n",
      "Epoch: 100 | Train Loss: 0.2122 | Train Acc: 92.21% | Val Acc: 87.29%\n",
      "200\n",
      "Epoch: 200 | Train Loss: 0.0888 | Train Acc: 97.46% | Val Acc: 88.98%\n",
      "300\n",
      "Epoch: 300 | Train Loss: 0.0312 | Train Acc: 99.46% | Val Acc: 90.68%\n",
      "Test accuracy: 93.28%\n",
      "Test Recall: 82.66%\n",
      "Test Precision: 89.55%\n"
     ]
    },
    {
     "name": "stderr",
     "output_type": "stream",
     "text": [
      "2024/09/25 01:22:10 WARNING mlflow.models.model: Input example should be provided to infer model signature if the model signature is not provided when logging the model.\n"
     ]
    },
    {
     "name": "stdout",
     "output_type": "stream",
     "text": [
      "467\n"
     ]
    },
    {
     "name": "stderr",
     "output_type": "stream",
     "text": [
      "/home/azureuser/rumour-detection-pheme/utils.py:322: SettingWithCopyWarning: \n",
      "A value is trying to be set on a copy of a slice from a DataFrame.\n",
      "Try using .loc[row_indexer,col_indexer] = value instead\n",
      "\n",
      "See the caveats in the documentation: https://pandas.pydata.org/pandas-docs/stable/user_guide/indexing.html#returning-a-view-versus-a-copy\n",
      "  reply_features[['reply_followers','time_diff']] = scaler.fit_transform(reply_features[['reply_followers','time_diff']])\n"
     ]
    },
    {
     "name": "stdout",
     "output_type": "stream",
     "text": [
      "0\n",
      "Epoch:   0 | Train Loss: 0.8222 | Train Acc: 31.34% | Val Acc: 38.14%\n",
      "100\n",
      "Epoch: 100 | Train Loss: 0.2165 | Train Acc: 92.57% | Val Acc: 87.29%\n",
      "200\n",
      "Epoch: 200 | Train Loss: 0.0898 | Train Acc: 97.83% | Val Acc: 88.98%\n",
      "300\n",
      "Epoch: 300 | Train Loss: 0.0341 | Train Acc: 99.46% | Val Acc: 90.68%\n",
      "Test accuracy: 90.76%\n",
      "Test Recall: 80.18%\n",
      "Test Precision: 86.97%\n"
     ]
    },
    {
     "name": "stderr",
     "output_type": "stream",
     "text": [
      "2024/09/25 01:22:26 WARNING mlflow.models.model: Input example should be provided to infer model signature if the model signature is not provided when logging the model.\n"
     ]
    },
    {
     "name": "stdout",
     "output_type": "stream",
     "text": [
      "477\n"
     ]
    },
    {
     "name": "stderr",
     "output_type": "stream",
     "text": [
      "/home/azureuser/rumour-detection-pheme/utils.py:322: SettingWithCopyWarning: \n",
      "A value is trying to be set on a copy of a slice from a DataFrame.\n",
      "Try using .loc[row_indexer,col_indexer] = value instead\n",
      "\n",
      "See the caveats in the documentation: https://pandas.pydata.org/pandas-docs/stable/user_guide/indexing.html#returning-a-view-versus-a-copy\n",
      "  reply_features[['reply_followers','time_diff']] = scaler.fit_transform(reply_features[['reply_followers','time_diff']])\n"
     ]
    },
    {
     "name": "stdout",
     "output_type": "stream",
     "text": [
      "0\n",
      "Epoch:   0 | Train Loss: 0.8299 | Train Acc: 46.20% | Val Acc: 46.61%\n",
      "100\n",
      "Epoch: 100 | Train Loss: 0.2335 | Train Acc: 92.21% | Val Acc: 87.29%\n",
      "200\n",
      "Epoch: 200 | Train Loss: 0.1075 | Train Acc: 97.10% | Val Acc: 90.68%\n",
      "300\n",
      "Epoch: 300 | Train Loss: 0.0504 | Train Acc: 98.73% | Val Acc: 91.53%\n",
      "Test accuracy: 88.24%\n",
      "Test Recall: 90.55%\n",
      "Test Precision: 79.20%\n"
     ]
    },
    {
     "name": "stderr",
     "output_type": "stream",
     "text": [
      "2024/09/25 01:22:41 WARNING mlflow.models.model: Input example should be provided to infer model signature if the model signature is not provided when logging the model.\n"
     ]
    },
    {
     "name": "stdout",
     "output_type": "stream",
     "text": [
      "487\n"
     ]
    },
    {
     "name": "stderr",
     "output_type": "stream",
     "text": [
      "/home/azureuser/rumour-detection-pheme/utils.py:322: SettingWithCopyWarning: \n",
      "A value is trying to be set on a copy of a slice from a DataFrame.\n",
      "Try using .loc[row_indexer,col_indexer] = value instead\n",
      "\n",
      "See the caveats in the documentation: https://pandas.pydata.org/pandas-docs/stable/user_guide/indexing.html#returning-a-view-versus-a-copy\n",
      "  reply_features[['reply_followers','time_diff']] = scaler.fit_transform(reply_features[['reply_followers','time_diff']])\n"
     ]
    },
    {
     "name": "stdout",
     "output_type": "stream",
     "text": [
      "0\n",
      "Epoch:   0 | Train Loss: 0.7668 | Train Acc: 77.17% | Val Acc: 82.20%\n",
      "100\n",
      "Epoch: 100 | Train Loss: 0.2059 | Train Acc: 92.75% | Val Acc: 95.76%\n",
      "200\n",
      "Epoch: 200 | Train Loss: 0.0836 | Train Acc: 97.10% | Val Acc: 96.61%\n",
      "300\n",
      "Epoch: 300 | Train Loss: 0.0402 | Train Acc: 99.46% | Val Acc: 97.46%\n",
      "Test accuracy: 88.24%\n",
      "Test Recall: 85.72%\n",
      "Test Precision: 88.04%\n"
     ]
    },
    {
     "name": "stderr",
     "output_type": "stream",
     "text": [
      "2024/09/25 01:22:57 WARNING mlflow.models.model: Input example should be provided to infer model signature if the model signature is not provided when logging the model.\n"
     ]
    },
    {
     "name": "stdout",
     "output_type": "stream",
     "text": [
      "497\n"
     ]
    },
    {
     "name": "stderr",
     "output_type": "stream",
     "text": [
      "/home/azureuser/rumour-detection-pheme/utils.py:322: SettingWithCopyWarning: \n",
      "A value is trying to be set on a copy of a slice from a DataFrame.\n",
      "Try using .loc[row_indexer,col_indexer] = value instead\n",
      "\n",
      "See the caveats in the documentation: https://pandas.pydata.org/pandas-docs/stable/user_guide/indexing.html#returning-a-view-versus-a-copy\n",
      "  reply_features[['reply_followers','time_diff']] = scaler.fit_transform(reply_features[['reply_followers','time_diff']])\n"
     ]
    },
    {
     "name": "stdout",
     "output_type": "stream",
     "text": [
      "0\n",
      "Epoch:   0 | Train Loss: 0.8116 | Train Acc: 68.48% | Val Acc: 77.12%\n",
      "100\n",
      "Epoch: 100 | Train Loss: 0.1863 | Train Acc: 93.48% | Val Acc: 87.29%\n",
      "200\n",
      "Epoch: 200 | Train Loss: 0.0866 | Train Acc: 98.19% | Val Acc: 88.14%\n",
      "300\n",
      "Epoch: 300 | Train Loss: 0.0360 | Train Acc: 98.91% | Val Acc: 86.44%\n",
      "Test accuracy: 89.92%\n",
      "Test Recall: 82.18%\n",
      "Test Precision: 80.55%\n"
     ]
    },
    {
     "name": "stderr",
     "output_type": "stream",
     "text": [
      "2024/09/25 01:23:13 WARNING mlflow.models.model: Input example should be provided to infer model signature if the model signature is not provided when logging the model.\n"
     ]
    },
    {
     "name": "stdout",
     "output_type": "stream",
     "text": [
      "507\n"
     ]
    },
    {
     "name": "stderr",
     "output_type": "stream",
     "text": [
      "/home/azureuser/rumour-detection-pheme/utils.py:322: SettingWithCopyWarning: \n",
      "A value is trying to be set on a copy of a slice from a DataFrame.\n",
      "Try using .loc[row_indexer,col_indexer] = value instead\n",
      "\n",
      "See the caveats in the documentation: https://pandas.pydata.org/pandas-docs/stable/user_guide/indexing.html#returning-a-view-versus-a-copy\n",
      "  reply_features[['reply_followers','time_diff']] = scaler.fit_transform(reply_features[['reply_followers','time_diff']])\n"
     ]
    },
    {
     "name": "stdout",
     "output_type": "stream",
     "text": [
      "0\n",
      "Epoch:   0 | Train Loss: 1.4130 | Train Acc: 15.73% | Val Acc: 22.88%\n",
      "100\n",
      "Epoch: 100 | Train Loss: 0.2427 | Train Acc: 90.05% | Val Acc: 78.81%\n",
      "200\n",
      "Epoch: 200 | Train Loss: 0.1196 | Train Acc: 96.20% | Val Acc: 86.44%\n",
      "300\n",
      "Epoch: 300 | Train Loss: 0.0501 | Train Acc: 99.28% | Val Acc: 86.44%\n",
      "Test accuracy: 91.60%\n",
      "Test Recall: 78.63%\n",
      "Test Precision: 87.89%\n"
     ]
    },
    {
     "name": "stderr",
     "output_type": "stream",
     "text": [
      "2024/09/25 01:23:29 WARNING mlflow.models.model: Input example should be provided to infer model signature if the model signature is not provided when logging the model.\n"
     ]
    },
    {
     "name": "stdout",
     "output_type": "stream",
     "text": [
      "517\n"
     ]
    },
    {
     "name": "stderr",
     "output_type": "stream",
     "text": [
      "/home/azureuser/rumour-detection-pheme/utils.py:322: SettingWithCopyWarning: \n",
      "A value is trying to be set on a copy of a slice from a DataFrame.\n",
      "Try using .loc[row_indexer,col_indexer] = value instead\n",
      "\n",
      "See the caveats in the documentation: https://pandas.pydata.org/pandas-docs/stable/user_guide/indexing.html#returning-a-view-versus-a-copy\n",
      "  reply_features[['reply_followers','time_diff']] = scaler.fit_transform(reply_features[['reply_followers','time_diff']])\n"
     ]
    },
    {
     "name": "stdout",
     "output_type": "stream",
     "text": [
      "0\n",
      "Epoch:   0 | Train Loss: 1.1129 | Train Acc: 20.07% | Val Acc: 16.10%\n",
      "100\n",
      "Epoch: 100 | Train Loss: 0.2228 | Train Acc: 90.78% | Val Acc: 86.44%\n",
      "200\n",
      "Epoch: 200 | Train Loss: 0.0870 | Train Acc: 96.38% | Val Acc: 89.83%\n",
      "300\n",
      "Epoch: 300 | Train Loss: 0.0457 | Train Acc: 99.82% | Val Acc: 89.83%\n",
      "Test accuracy: 90.00%\n",
      "Test Recall: 83.89%\n",
      "Test Precision: 82.23%\n"
     ]
    },
    {
     "name": "stderr",
     "output_type": "stream",
     "text": [
      "2024/09/25 01:23:45 WARNING mlflow.models.model: Input example should be provided to infer model signature if the model signature is not provided when logging the model.\n"
     ]
    },
    {
     "name": "stdout",
     "output_type": "stream",
     "text": [
      "527\n"
     ]
    },
    {
     "name": "stderr",
     "output_type": "stream",
     "text": [
      "/home/azureuser/rumour-detection-pheme/utils.py:322: SettingWithCopyWarning: \n",
      "A value is trying to be set on a copy of a slice from a DataFrame.\n",
      "Try using .loc[row_indexer,col_indexer] = value instead\n",
      "\n",
      "See the caveats in the documentation: https://pandas.pydata.org/pandas-docs/stable/user_guide/indexing.html#returning-a-view-versus-a-copy\n",
      "  reply_features[['reply_followers','time_diff']] = scaler.fit_transform(reply_features[['reply_followers','time_diff']])\n"
     ]
    },
    {
     "name": "stdout",
     "output_type": "stream",
     "text": [
      "0\n",
      "Epoch:   0 | Train Loss: 0.8710 | Train Acc: 51.90% | Val Acc: 40.68%\n",
      "100\n",
      "Epoch: 100 | Train Loss: 0.2307 | Train Acc: 91.50% | Val Acc: 93.22%\n",
      "200\n",
      "Epoch: 200 | Train Loss: 0.1312 | Train Acc: 95.66% | Val Acc: 94.07%\n",
      "300\n",
      "Epoch: 300 | Train Loss: 0.0647 | Train Acc: 98.37% | Val Acc: 94.07%\n",
      "Test accuracy: 90.83%\n",
      "Test Recall: 87.73%\n",
      "Test Precision: 86.99%\n"
     ]
    },
    {
     "name": "stderr",
     "output_type": "stream",
     "text": [
      "2024/09/25 01:24:00 WARNING mlflow.models.model: Input example should be provided to infer model signature if the model signature is not provided when logging the model.\n"
     ]
    },
    {
     "name": "stdout",
     "output_type": "stream",
     "text": [
      "537\n"
     ]
    },
    {
     "name": "stderr",
     "output_type": "stream",
     "text": [
      "/home/azureuser/rumour-detection-pheme/utils.py:322: SettingWithCopyWarning: \n",
      "A value is trying to be set on a copy of a slice from a DataFrame.\n",
      "Try using .loc[row_indexer,col_indexer] = value instead\n",
      "\n",
      "See the caveats in the documentation: https://pandas.pydata.org/pandas-docs/stable/user_guide/indexing.html#returning-a-view-versus-a-copy\n",
      "  reply_features[['reply_followers','time_diff']] = scaler.fit_transform(reply_features[['reply_followers','time_diff']])\n"
     ]
    },
    {
     "name": "stdout",
     "output_type": "stream",
     "text": [
      "0\n",
      "Epoch:   0 | Train Loss: 0.9686 | Train Acc: 42.50% | Val Acc: 33.90%\n",
      "100\n",
      "Epoch: 100 | Train Loss: 0.2010 | Train Acc: 92.77% | Val Acc: 88.14%\n",
      "200\n",
      "Epoch: 200 | Train Loss: 0.0846 | Train Acc: 98.01% | Val Acc: 87.29%\n",
      "300\n",
      "Epoch: 300 | Train Loss: 0.0351 | Train Acc: 99.46% | Val Acc: 87.29%\n",
      "Test accuracy: 88.33%\n",
      "Test Recall: 75.34%\n",
      "Test Precision: 80.64%\n"
     ]
    },
    {
     "name": "stderr",
     "output_type": "stream",
     "text": [
      "2024/09/25 01:24:16 WARNING mlflow.models.model: Input example should be provided to infer model signature if the model signature is not provided when logging the model.\n"
     ]
    },
    {
     "name": "stdout",
     "output_type": "stream",
     "text": [
      "547\n"
     ]
    },
    {
     "name": "stderr",
     "output_type": "stream",
     "text": [
      "/home/azureuser/rumour-detection-pheme/utils.py:322: SettingWithCopyWarning: \n",
      "A value is trying to be set on a copy of a slice from a DataFrame.\n",
      "Try using .loc[row_indexer,col_indexer] = value instead\n",
      "\n",
      "See the caveats in the documentation: https://pandas.pydata.org/pandas-docs/stable/user_guide/indexing.html#returning-a-view-versus-a-copy\n",
      "  reply_features[['reply_followers','time_diff']] = scaler.fit_transform(reply_features[['reply_followers','time_diff']])\n"
     ]
    },
    {
     "name": "stdout",
     "output_type": "stream",
     "text": [
      "0\n",
      "Epoch:   0 | Train Loss: 1.0098 | Train Acc: 66.18% | Val Acc: 71.19%\n",
      "100\n",
      "Epoch: 100 | Train Loss: 0.2468 | Train Acc: 90.96% | Val Acc: 86.44%\n",
      "200\n",
      "Epoch: 200 | Train Loss: 0.1502 | Train Acc: 96.20% | Val Acc: 91.53%\n",
      "300\n",
      "Epoch: 300 | Train Loss: 0.0482 | Train Acc: 99.64% | Val Acc: 91.53%\n",
      "Test accuracy: 95.00%\n",
      "Test Recall: 88.30%\n",
      "Test Precision: 86.70%\n"
     ]
    },
    {
     "name": "stderr",
     "output_type": "stream",
     "text": [
      "2024/09/25 01:24:32 WARNING mlflow.models.model: Input example should be provided to infer model signature if the model signature is not provided when logging the model.\n"
     ]
    },
    {
     "name": "stdout",
     "output_type": "stream",
     "text": [
      "557\n"
     ]
    },
    {
     "name": "stderr",
     "output_type": "stream",
     "text": [
      "/home/azureuser/rumour-detection-pheme/utils.py:322: SettingWithCopyWarning: \n",
      "A value is trying to be set on a copy of a slice from a DataFrame.\n",
      "Try using .loc[row_indexer,col_indexer] = value instead\n",
      "\n",
      "See the caveats in the documentation: https://pandas.pydata.org/pandas-docs/stable/user_guide/indexing.html#returning-a-view-versus-a-copy\n",
      "  reply_features[['reply_followers','time_diff']] = scaler.fit_transform(reply_features[['reply_followers','time_diff']])\n"
     ]
    },
    {
     "name": "stdout",
     "output_type": "stream",
     "text": [
      "0\n",
      "Epoch:   0 | Train Loss: 0.8408 | Train Acc: 39.78% | Val Acc: 50.00%\n",
      "100\n",
      "Epoch: 100 | Train Loss: 0.2293 | Train Acc: 91.32% | Val Acc: 91.53%\n",
      "200\n",
      "Epoch: 200 | Train Loss: 0.1169 | Train Acc: 96.56% | Val Acc: 91.53%\n",
      "300\n",
      "Epoch: 300 | Train Loss: 0.0489 | Train Acc: 98.73% | Val Acc: 91.53%\n",
      "Test accuracy: 88.33%\n",
      "Test Recall: 82.63%\n",
      "Test Precision: 81.35%\n"
     ]
    },
    {
     "name": "stderr",
     "output_type": "stream",
     "text": [
      "2024/09/25 01:24:48 WARNING mlflow.models.model: Input example should be provided to infer model signature if the model signature is not provided when logging the model.\n"
     ]
    },
    {
     "name": "stdout",
     "output_type": "stream",
     "text": [
      "567\n"
     ]
    },
    {
     "name": "stderr",
     "output_type": "stream",
     "text": [
      "/home/azureuser/rumour-detection-pheme/utils.py:322: SettingWithCopyWarning: \n",
      "A value is trying to be set on a copy of a slice from a DataFrame.\n",
      "Try using .loc[row_indexer,col_indexer] = value instead\n",
      "\n",
      "See the caveats in the documentation: https://pandas.pydata.org/pandas-docs/stable/user_guide/indexing.html#returning-a-view-versus-a-copy\n",
      "  reply_features[['reply_followers','time_diff']] = scaler.fit_transform(reply_features[['reply_followers','time_diff']])\n"
     ]
    },
    {
     "name": "stdout",
     "output_type": "stream",
     "text": [
      "0\n",
      "Epoch:   0 | Train Loss: 0.8459 | Train Acc: 41.59% | Val Acc: 50.00%\n",
      "100\n",
      "Epoch: 100 | Train Loss: 0.2392 | Train Acc: 90.78% | Val Acc: 83.90%\n",
      "200\n",
      "Epoch: 200 | Train Loss: 0.1144 | Train Acc: 97.11% | Val Acc: 90.68%\n",
      "300\n",
      "Epoch: 300 | Train Loss: 0.0382 | Train Acc: 98.92% | Val Acc: 90.68%\n",
      "Test accuracy: 90.00%\n",
      "Test Recall: 79.96%\n",
      "Test Precision: 87.24%\n"
     ]
    },
    {
     "name": "stderr",
     "output_type": "stream",
     "text": [
      "2024/09/25 01:25:04 WARNING mlflow.models.model: Input example should be provided to infer model signature if the model signature is not provided when logging the model.\n"
     ]
    },
    {
     "name": "stdout",
     "output_type": "stream",
     "text": [
      "577\n"
     ]
    },
    {
     "name": "stderr",
     "output_type": "stream",
     "text": [
      "/home/azureuser/rumour-detection-pheme/utils.py:322: SettingWithCopyWarning: \n",
      "A value is trying to be set on a copy of a slice from a DataFrame.\n",
      "Try using .loc[row_indexer,col_indexer] = value instead\n",
      "\n",
      "See the caveats in the documentation: https://pandas.pydata.org/pandas-docs/stable/user_guide/indexing.html#returning-a-view-versus-a-copy\n",
      "  reply_features[['reply_followers','time_diff']] = scaler.fit_transform(reply_features[['reply_followers','time_diff']])\n"
     ]
    },
    {
     "name": "stdout",
     "output_type": "stream",
     "text": [
      "0\n",
      "Epoch:   0 | Train Loss: 1.0514 | Train Acc: 21.52% | Val Acc: 22.88%\n",
      "100\n",
      "Epoch: 100 | Train Loss: 0.2330 | Train Acc: 91.32% | Val Acc: 88.14%\n",
      "200\n",
      "Epoch: 200 | Train Loss: 0.1031 | Train Acc: 96.56% | Val Acc: 90.68%\n",
      "300\n",
      "Epoch: 300 | Train Loss: 0.0300 | Train Acc: 99.64% | Val Acc: 92.37%\n",
      "Test accuracy: 87.50%\n",
      "Test Recall: 85.96%\n",
      "Test Precision: 81.23%\n"
     ]
    },
    {
     "name": "stderr",
     "output_type": "stream",
     "text": [
      "2024/09/25 01:25:20 WARNING mlflow.models.model: Input example should be provided to infer model signature if the model signature is not provided when logging the model.\n"
     ]
    },
    {
     "name": "stdout",
     "output_type": "stream",
     "text": [
      "587\n"
     ]
    },
    {
     "name": "stderr",
     "output_type": "stream",
     "text": [
      "/home/azureuser/rumour-detection-pheme/utils.py:322: SettingWithCopyWarning: \n",
      "A value is trying to be set on a copy of a slice from a DataFrame.\n",
      "Try using .loc[row_indexer,col_indexer] = value instead\n",
      "\n",
      "See the caveats in the documentation: https://pandas.pydata.org/pandas-docs/stable/user_guide/indexing.html#returning-a-view-versus-a-copy\n",
      "  reply_features[['reply_followers','time_diff']] = scaler.fit_transform(reply_features[['reply_followers','time_diff']])\n"
     ]
    },
    {
     "name": "stdout",
     "output_type": "stream",
     "text": [
      "0\n",
      "Epoch:   0 | Train Loss: 0.7401 | Train Acc: 68.72% | Val Acc: 65.25%\n",
      "100\n",
      "Epoch: 100 | Train Loss: 0.1795 | Train Acc: 93.13% | Val Acc: 92.37%\n",
      "200\n",
      "Epoch: 200 | Train Loss: 0.0855 | Train Acc: 98.19% | Val Acc: 94.07%\n",
      "300\n",
      "Epoch: 300 | Train Loss: 0.0345 | Train Acc: 99.28% | Val Acc: 94.07%\n",
      "Test accuracy: 88.33%\n",
      "Test Recall: 84.92%\n",
      "Test Precision: 85.55%\n"
     ]
    },
    {
     "name": "stderr",
     "output_type": "stream",
     "text": [
      "2024/09/25 01:25:35 WARNING mlflow.models.model: Input example should be provided to infer model signature if the model signature is not provided when logging the model.\n"
     ]
    },
    {
     "name": "stdout",
     "output_type": "stream",
     "text": [
      "597\n"
     ]
    },
    {
     "name": "stderr",
     "output_type": "stream",
     "text": [
      "/home/azureuser/rumour-detection-pheme/utils.py:322: SettingWithCopyWarning: \n",
      "A value is trying to be set on a copy of a slice from a DataFrame.\n",
      "Try using .loc[row_indexer,col_indexer] = value instead\n",
      "\n",
      "See the caveats in the documentation: https://pandas.pydata.org/pandas-docs/stable/user_guide/indexing.html#returning-a-view-versus-a-copy\n",
      "  reply_features[['reply_followers','time_diff']] = scaler.fit_transform(reply_features[['reply_followers','time_diff']])\n"
     ]
    },
    {
     "name": "stdout",
     "output_type": "stream",
     "text": [
      "0\n",
      "Epoch:   0 | Train Loss: 0.7467 | Train Acc: 79.20% | Val Acc: 82.20%\n",
      "100\n",
      "Epoch: 100 | Train Loss: 0.2430 | Train Acc: 90.42% | Val Acc: 91.53%\n",
      "200\n",
      "Epoch: 200 | Train Loss: 0.1312 | Train Acc: 96.38% | Val Acc: 92.37%\n",
      "300\n",
      "Epoch: 300 | Train Loss: 0.0469 | Train Acc: 98.92% | Val Acc: 94.92%\n",
      "Test accuracy: 92.50%\n",
      "Test Recall: 87.47%\n",
      "Test Precision: 87.47%\n"
     ]
    },
    {
     "name": "stderr",
     "output_type": "stream",
     "text": [
      "2024/09/25 01:25:52 WARNING mlflow.models.model: Input example should be provided to infer model signature if the model signature is not provided when logging the model.\n"
     ]
    },
    {
     "name": "stdout",
     "output_type": "stream",
     "text": [
      "607\n"
     ]
    },
    {
     "name": "stderr",
     "output_type": "stream",
     "text": [
      "/home/azureuser/rumour-detection-pheme/utils.py:322: SettingWithCopyWarning: \n",
      "A value is trying to be set on a copy of a slice from a DataFrame.\n",
      "Try using .loc[row_indexer,col_indexer] = value instead\n",
      "\n",
      "See the caveats in the documentation: https://pandas.pydata.org/pandas-docs/stable/user_guide/indexing.html#returning-a-view-versus-a-copy\n",
      "  reply_features[['reply_followers','time_diff']] = scaler.fit_transform(reply_features[['reply_followers','time_diff']])\n"
     ]
    },
    {
     "name": "stdout",
     "output_type": "stream",
     "text": [
      "0\n",
      "Epoch:   0 | Train Loss: 0.6965 | Train Acc: 82.10% | Val Acc: 83.05%\n",
      "100\n",
      "Epoch: 100 | Train Loss: 0.2047 | Train Acc: 92.77% | Val Acc: 92.37%\n",
      "200\n",
      "Epoch: 200 | Train Loss: 0.0890 | Train Acc: 98.55% | Val Acc: 93.22%\n",
      "300\n",
      "Epoch: 300 | Train Loss: 0.0351 | Train Acc: 99.82% | Val Acc: 93.22%\n",
      "Test accuracy: 90.83%\n",
      "Test Recall: 85.55%\n",
      "Test Precision: 84.92%\n"
     ]
    },
    {
     "name": "stderr",
     "output_type": "stream",
     "text": [
      "2024/09/25 01:26:08 WARNING mlflow.models.model: Input example should be provided to infer model signature if the model signature is not provided when logging the model.\n"
     ]
    },
    {
     "name": "stdout",
     "output_type": "stream",
     "text": [
      "617\n"
     ]
    },
    {
     "name": "stderr",
     "output_type": "stream",
     "text": [
      "/home/azureuser/rumour-detection-pheme/utils.py:322: SettingWithCopyWarning: \n",
      "A value is trying to be set on a copy of a slice from a DataFrame.\n",
      "Try using .loc[row_indexer,col_indexer] = value instead\n",
      "\n",
      "See the caveats in the documentation: https://pandas.pydata.org/pandas-docs/stable/user_guide/indexing.html#returning-a-view-versus-a-copy\n",
      "  reply_features[['reply_followers','time_diff']] = scaler.fit_transform(reply_features[['reply_followers','time_diff']])\n"
     ]
    },
    {
     "name": "stdout",
     "output_type": "stream",
     "text": [
      "0\n",
      "Epoch:   0 | Train Loss: 0.7032 | Train Acc: 66.37% | Val Acc: 69.49%\n",
      "100\n",
      "Epoch: 100 | Train Loss: 0.2098 | Train Acc: 91.86% | Val Acc: 88.98%\n",
      "200\n",
      "Epoch: 200 | Train Loss: 0.0920 | Train Acc: 98.19% | Val Acc: 90.68%\n",
      "300\n",
      "Epoch: 300 | Train Loss: 0.0350 | Train Acc: 99.46% | Val Acc: 93.22%\n",
      "Test accuracy: 90.83%\n",
      "Test Recall: 82.04%\n",
      "Test Precision: 86.15%\n"
     ]
    },
    {
     "name": "stderr",
     "output_type": "stream",
     "text": [
      "2024/09/25 01:26:23 WARNING mlflow.models.model: Input example should be provided to infer model signature if the model signature is not provided when logging the model.\n"
     ]
    },
    {
     "name": "stdout",
     "output_type": "stream",
     "text": [
      "627\n"
     ]
    },
    {
     "name": "stderr",
     "output_type": "stream",
     "text": [
      "/home/azureuser/rumour-detection-pheme/utils.py:322: SettingWithCopyWarning: \n",
      "A value is trying to be set on a copy of a slice from a DataFrame.\n",
      "Try using .loc[row_indexer,col_indexer] = value instead\n",
      "\n",
      "See the caveats in the documentation: https://pandas.pydata.org/pandas-docs/stable/user_guide/indexing.html#returning-a-view-versus-a-copy\n",
      "  reply_features[['reply_followers','time_diff']] = scaler.fit_transform(reply_features[['reply_followers','time_diff']])\n"
     ]
    },
    {
     "name": "stdout",
     "output_type": "stream",
     "text": [
      "0\n",
      "Epoch:   0 | Train Loss: 0.8159 | Train Acc: 62.39% | Val Acc: 62.71%\n",
      "100\n",
      "Epoch: 100 | Train Loss: 0.2025 | Train Acc: 92.22% | Val Acc: 90.68%\n",
      "200\n",
      "Epoch: 200 | Train Loss: 0.0675 | Train Acc: 98.01% | Val Acc: 88.98%\n",
      "300\n",
      "Epoch: 300 | Train Loss: 0.0279 | Train Acc: 98.92% | Val Acc: 91.53%\n",
      "Test accuracy: 90.00%\n",
      "Test Recall: 85.22%\n",
      "Test Precision: 81.69%\n"
     ]
    },
    {
     "name": "stderr",
     "output_type": "stream",
     "text": [
      "2024/09/25 01:26:40 WARNING mlflow.models.model: Input example should be provided to infer model signature if the model signature is not provided when logging the model.\n"
     ]
    },
    {
     "name": "stdout",
     "output_type": "stream",
     "text": [
      "637\n"
     ]
    },
    {
     "name": "stderr",
     "output_type": "stream",
     "text": [
      "/home/azureuser/rumour-detection-pheme/utils.py:322: SettingWithCopyWarning: \n",
      "A value is trying to be set on a copy of a slice from a DataFrame.\n",
      "Try using .loc[row_indexer,col_indexer] = value instead\n",
      "\n",
      "See the caveats in the documentation: https://pandas.pydata.org/pandas-docs/stable/user_guide/indexing.html#returning-a-view-versus-a-copy\n",
      "  reply_features[['reply_followers','time_diff']] = scaler.fit_transform(reply_features[['reply_followers','time_diff']])\n"
     ]
    },
    {
     "name": "stdout",
     "output_type": "stream",
     "text": [
      "0\n",
      "Epoch:   0 | Train Loss: 0.7417 | Train Acc: 48.28% | Val Acc: 48.31%\n",
      "100\n",
      "Epoch: 100 | Train Loss: 0.2184 | Train Acc: 92.77% | Val Acc: 90.68%\n",
      "200\n",
      "Epoch: 200 | Train Loss: 0.1022 | Train Acc: 97.11% | Val Acc: 88.98%\n",
      "300\n",
      "Epoch: 300 | Train Loss: 0.0561 | Train Acc: 98.55% | Val Acc: 90.68%\n",
      "Test accuracy: 92.50%\n",
      "Test Recall: 90.35%\n",
      "Test Precision: 82.31%\n"
     ]
    },
    {
     "name": "stderr",
     "output_type": "stream",
     "text": [
      "2024/09/25 01:26:56 WARNING mlflow.models.model: Input example should be provided to infer model signature if the model signature is not provided when logging the model.\n"
     ]
    },
    {
     "name": "stdout",
     "output_type": "stream",
     "text": [
      "647\n"
     ]
    },
    {
     "name": "stderr",
     "output_type": "stream",
     "text": [
      "/home/azureuser/rumour-detection-pheme/utils.py:322: SettingWithCopyWarning: \n",
      "A value is trying to be set on a copy of a slice from a DataFrame.\n",
      "Try using .loc[row_indexer,col_indexer] = value instead\n",
      "\n",
      "See the caveats in the documentation: https://pandas.pydata.org/pandas-docs/stable/user_guide/indexing.html#returning-a-view-versus-a-copy\n",
      "  reply_features[['reply_followers','time_diff']] = scaler.fit_transform(reply_features[['reply_followers','time_diff']])\n"
     ]
    },
    {
     "name": "stdout",
     "output_type": "stream",
     "text": [
      "0\n",
      "Epoch:   0 | Train Loss: 0.8958 | Train Acc: 32.55% | Val Acc: 29.66%\n",
      "100\n",
      "Epoch: 100 | Train Loss: 0.2294 | Train Acc: 90.42% | Val Acc: 94.07%\n",
      "200\n",
      "Epoch: 200 | Train Loss: 0.1182 | Train Acc: 97.11% | Val Acc: 90.68%\n",
      "300\n",
      "Epoch: 300 | Train Loss: 0.0457 | Train Acc: 99.10% | Val Acc: 91.53%\n",
      "Test accuracy: 91.67%\n",
      "Test Recall: 89.80%\n",
      "Test Precision: 85.18%\n"
     ]
    },
    {
     "name": "stderr",
     "output_type": "stream",
     "text": [
      "2024/09/25 01:27:12 WARNING mlflow.models.model: Input example should be provided to infer model signature if the model signature is not provided when logging the model.\n"
     ]
    },
    {
     "name": "stdout",
     "output_type": "stream",
     "text": [
      "657\n"
     ]
    },
    {
     "name": "stderr",
     "output_type": "stream",
     "text": [
      "/home/azureuser/rumour-detection-pheme/utils.py:322: SettingWithCopyWarning: \n",
      "A value is trying to be set on a copy of a slice from a DataFrame.\n",
      "Try using .loc[row_indexer,col_indexer] = value instead\n",
      "\n",
      "See the caveats in the documentation: https://pandas.pydata.org/pandas-docs/stable/user_guide/indexing.html#returning-a-view-versus-a-copy\n",
      "  reply_features[['reply_followers','time_diff']] = scaler.fit_transform(reply_features[['reply_followers','time_diff']])\n"
     ]
    },
    {
     "name": "stdout",
     "output_type": "stream",
     "text": [
      "0\n",
      "Epoch:   0 | Train Loss: 0.6427 | Train Acc: 81.92% | Val Acc: 85.59%\n",
      "100\n",
      "Epoch: 100 | Train Loss: 0.1905 | Train Acc: 92.41% | Val Acc: 89.83%\n",
      "200\n",
      "Epoch: 200 | Train Loss: 0.0822 | Train Acc: 98.19% | Val Acc: 91.53%\n",
      "300\n",
      "Epoch: 300 | Train Loss: 0.0259 | Train Acc: 99.28% | Val Acc: 90.68%\n",
      "Test accuracy: 91.67%\n",
      "Test Recall: 83.84%\n",
      "Test Precision: 83.23%\n"
     ]
    },
    {
     "name": "stderr",
     "output_type": "stream",
     "text": [
      "2024/09/25 01:27:28 WARNING mlflow.models.model: Input example should be provided to infer model signature if the model signature is not provided when logging the model.\n"
     ]
    },
    {
     "name": "stdout",
     "output_type": "stream",
     "text": [
      "667\n"
     ]
    },
    {
     "name": "stderr",
     "output_type": "stream",
     "text": [
      "/home/azureuser/rumour-detection-pheme/utils.py:322: SettingWithCopyWarning: \n",
      "A value is trying to be set on a copy of a slice from a DataFrame.\n",
      "Try using .loc[row_indexer,col_indexer] = value instead\n",
      "\n",
      "See the caveats in the documentation: https://pandas.pydata.org/pandas-docs/stable/user_guide/indexing.html#returning-a-view-versus-a-copy\n",
      "  reply_features[['reply_followers','time_diff']] = scaler.fit_transform(reply_features[['reply_followers','time_diff']])\n"
     ]
    },
    {
     "name": "stdout",
     "output_type": "stream",
     "text": [
      "0\n",
      "Epoch:   0 | Train Loss: 0.8062 | Train Acc: 70.71% | Val Acc: 76.27%\n",
      "100\n",
      "Epoch: 100 | Train Loss: 0.2280 | Train Acc: 91.32% | Val Acc: 86.44%\n",
      "200\n",
      "Epoch: 200 | Train Loss: 0.1137 | Train Acc: 96.02% | Val Acc: 89.83%\n",
      "300\n",
      "Epoch: 300 | Train Loss: 0.0661 | Train Acc: 98.19% | Val Acc: 87.29%\n",
      "Test accuracy: 89.17%\n",
      "Test Recall: 85.53%\n",
      "Test Precision: 76.09%\n"
     ]
    },
    {
     "name": "stderr",
     "output_type": "stream",
     "text": [
      "2024/09/25 01:27:44 WARNING mlflow.models.model: Input example should be provided to infer model signature if the model signature is not provided when logging the model.\n"
     ]
    },
    {
     "name": "stdout",
     "output_type": "stream",
     "text": [
      "677\n"
     ]
    },
    {
     "name": "stderr",
     "output_type": "stream",
     "text": [
      "/home/azureuser/rumour-detection-pheme/utils.py:322: SettingWithCopyWarning: \n",
      "A value is trying to be set on a copy of a slice from a DataFrame.\n",
      "Try using .loc[row_indexer,col_indexer] = value instead\n",
      "\n",
      "See the caveats in the documentation: https://pandas.pydata.org/pandas-docs/stable/user_guide/indexing.html#returning-a-view-versus-a-copy\n",
      "  reply_features[['reply_followers','time_diff']] = scaler.fit_transform(reply_features[['reply_followers','time_diff']])\n"
     ]
    },
    {
     "name": "stdout",
     "output_type": "stream",
     "text": [
      "0\n",
      "Epoch:   0 | Train Loss: 0.7861 | Train Acc: 81.56% | Val Acc: 82.20%\n",
      "100\n",
      "Epoch: 100 | Train Loss: 0.2121 | Train Acc: 92.77% | Val Acc: 88.98%\n",
      "200\n",
      "Epoch: 200 | Train Loss: 0.0940 | Train Acc: 98.01% | Val Acc: 89.83%\n",
      "300\n",
      "Epoch: 300 | Train Loss: 0.0349 | Train Acc: 99.64% | Val Acc: 91.53%\n",
      "Test accuracy: 90.83%\n",
      "Test Recall: 82.22%\n",
      "Test Precision: 82.88%\n"
     ]
    },
    {
     "name": "stderr",
     "output_type": "stream",
     "text": [
      "2024/09/25 01:28:00 WARNING mlflow.models.model: Input example should be provided to infer model signature if the model signature is not provided when logging the model.\n"
     ]
    },
    {
     "name": "stdout",
     "output_type": "stream",
     "text": [
      "687\n"
     ]
    },
    {
     "name": "stderr",
     "output_type": "stream",
     "text": [
      "/home/azureuser/rumour-detection-pheme/utils.py:322: SettingWithCopyWarning: \n",
      "A value is trying to be set on a copy of a slice from a DataFrame.\n",
      "Try using .loc[row_indexer,col_indexer] = value instead\n",
      "\n",
      "See the caveats in the documentation: https://pandas.pydata.org/pandas-docs/stable/user_guide/indexing.html#returning-a-view-versus-a-copy\n",
      "  reply_features[['reply_followers','time_diff']] = scaler.fit_transform(reply_features[['reply_followers','time_diff']])\n"
     ]
    },
    {
     "name": "stdout",
     "output_type": "stream",
     "text": [
      "0\n",
      "Epoch:   0 | Train Loss: 0.7993 | Train Acc: 31.77% | Val Acc: 32.20%\n",
      "100\n",
      "Epoch: 100 | Train Loss: 0.2299 | Train Acc: 92.24% | Val Acc: 85.59%\n",
      "200\n",
      "Epoch: 200 | Train Loss: 0.0974 | Train Acc: 96.57% | Val Acc: 90.68%\n",
      "300\n",
      "Epoch: 300 | Train Loss: 0.0486 | Train Acc: 99.10% | Val Acc: 93.22%\n",
      "Test accuracy: 90.00%\n",
      "Test Recall: 81.67%\n",
      "Test Precision: 85.71%\n"
     ]
    },
    {
     "name": "stderr",
     "output_type": "stream",
     "text": [
      "2024/09/25 01:28:17 WARNING mlflow.models.model: Input example should be provided to infer model signature if the model signature is not provided when logging the model.\n"
     ]
    },
    {
     "name": "stdout",
     "output_type": "stream",
     "text": [
      "697\n"
     ]
    },
    {
     "name": "stderr",
     "output_type": "stream",
     "text": [
      "/home/azureuser/rumour-detection-pheme/utils.py:322: SettingWithCopyWarning: \n",
      "A value is trying to be set on a copy of a slice from a DataFrame.\n",
      "Try using .loc[row_indexer,col_indexer] = value instead\n",
      "\n",
      "See the caveats in the documentation: https://pandas.pydata.org/pandas-docs/stable/user_guide/indexing.html#returning-a-view-versus-a-copy\n",
      "  reply_features[['reply_followers','time_diff']] = scaler.fit_transform(reply_features[['reply_followers','time_diff']])\n"
     ]
    },
    {
     "name": "stdout",
     "output_type": "stream",
     "text": [
      "0\n",
      "Epoch:   0 | Train Loss: 1.0990 | Train Acc: 39.71% | Val Acc: 43.22%\n",
      "100\n",
      "Epoch: 100 | Train Loss: 0.2387 | Train Acc: 90.61% | Val Acc: 87.29%\n",
      "200\n",
      "Epoch: 200 | Train Loss: 0.1273 | Train Acc: 96.75% | Val Acc: 93.22%\n",
      "300\n",
      "Epoch: 300 | Train Loss: 0.0579 | Train Acc: 99.10% | Val Acc: 94.92%\n",
      "Test accuracy: 85.83%\n",
      "Test Recall: 82.97%\n",
      "Test Precision: 82.97%\n"
     ]
    },
    {
     "name": "stderr",
     "output_type": "stream",
     "text": [
      "2024/09/25 01:28:33 WARNING mlflow.models.model: Input example should be provided to infer model signature if the model signature is not provided when logging the model.\n"
     ]
    },
    {
     "name": "stdout",
     "output_type": "stream",
     "text": [
      "707\n"
     ]
    },
    {
     "name": "stderr",
     "output_type": "stream",
     "text": [
      "/home/azureuser/rumour-detection-pheme/utils.py:322: SettingWithCopyWarning: \n",
      "A value is trying to be set on a copy of a slice from a DataFrame.\n",
      "Try using .loc[row_indexer,col_indexer] = value instead\n",
      "\n",
      "See the caveats in the documentation: https://pandas.pydata.org/pandas-docs/stable/user_guide/indexing.html#returning-a-view-versus-a-copy\n",
      "  reply_features[['reply_followers','time_diff']] = scaler.fit_transform(reply_features[['reply_followers','time_diff']])\n"
     ]
    },
    {
     "name": "stdout",
     "output_type": "stream",
     "text": [
      "0\n",
      "Epoch:   0 | Train Loss: 0.9382 | Train Acc: 60.47% | Val Acc: 57.63%\n",
      "100\n",
      "Epoch: 100 | Train Loss: 0.2461 | Train Acc: 90.43% | Val Acc: 89.83%\n",
      "200\n",
      "Epoch: 200 | Train Loss: 0.1204 | Train Acc: 97.11% | Val Acc: 91.53%\n",
      "300\n",
      "Epoch: 300 | Train Loss: 0.0492 | Train Acc: 98.38% | Val Acc: 90.68%\n",
      "Test accuracy: 95.83%\n",
      "Test Recall: 89.43%\n",
      "Test Precision: 88.69%\n"
     ]
    },
    {
     "name": "stderr",
     "output_type": "stream",
     "text": [
      "2024/09/25 01:28:48 WARNING mlflow.models.model: Input example should be provided to infer model signature if the model signature is not provided when logging the model.\n"
     ]
    },
    {
     "name": "stdout",
     "output_type": "stream",
     "text": [
      "717\n"
     ]
    },
    {
     "name": "stderr",
     "output_type": "stream",
     "text": [
      "/home/azureuser/rumour-detection-pheme/utils.py:322: SettingWithCopyWarning: \n",
      "A value is trying to be set on a copy of a slice from a DataFrame.\n",
      "Try using .loc[row_indexer,col_indexer] = value instead\n",
      "\n",
      "See the caveats in the documentation: https://pandas.pydata.org/pandas-docs/stable/user_guide/indexing.html#returning-a-view-versus-a-copy\n",
      "  reply_features[['reply_followers','time_diff']] = scaler.fit_transform(reply_features[['reply_followers','time_diff']])\n"
     ]
    },
    {
     "name": "stdout",
     "output_type": "stream",
     "text": [
      "0\n",
      "Epoch:   0 | Train Loss: 0.6852 | Train Acc: 72.20% | Val Acc: 72.88%\n",
      "100\n",
      "Epoch: 100 | Train Loss: 0.2068 | Train Acc: 92.96% | Val Acc: 90.68%\n",
      "200\n",
      "Epoch: 200 | Train Loss: 0.0719 | Train Acc: 98.56% | Val Acc: 91.53%\n",
      "300\n",
      "Epoch: 300 | Train Loss: 0.0447 | Train Acc: 99.64% | Val Acc: 91.53%\n",
      "Test accuracy: 89.17%\n",
      "Test Recall: 86.39%\n",
      "Test Precision: 81.87%\n"
     ]
    },
    {
     "name": "stderr",
     "output_type": "stream",
     "text": [
      "2024/09/25 01:29:04 WARNING mlflow.models.model: Input example should be provided to infer model signature if the model signature is not provided when logging the model.\n"
     ]
    },
    {
     "name": "stdout",
     "output_type": "stream",
     "text": [
      "727\n"
     ]
    },
    {
     "name": "stderr",
     "output_type": "stream",
     "text": [
      "/home/azureuser/rumour-detection-pheme/utils.py:322: SettingWithCopyWarning: \n",
      "A value is trying to be set on a copy of a slice from a DataFrame.\n",
      "Try using .loc[row_indexer,col_indexer] = value instead\n",
      "\n",
      "See the caveats in the documentation: https://pandas.pydata.org/pandas-docs/stable/user_guide/indexing.html#returning-a-view-versus-a-copy\n",
      "  reply_features[['reply_followers','time_diff']] = scaler.fit_transform(reply_features[['reply_followers','time_diff']])\n"
     ]
    },
    {
     "name": "stdout",
     "output_type": "stream",
     "text": [
      "0\n",
      "Epoch:   0 | Train Loss: 0.7778 | Train Acc: 72.56% | Val Acc: 72.88%\n",
      "100\n",
      "Epoch: 100 | Train Loss: 0.2147 | Train Acc: 91.16% | Val Acc: 93.22%\n",
      "200\n",
      "Epoch: 200 | Train Loss: 0.0917 | Train Acc: 96.93% | Val Acc: 92.37%\n",
      "300\n",
      "Epoch: 300 | Train Loss: 0.0449 | Train Acc: 99.28% | Val Acc: 91.53%\n",
      "Test accuracy: 90.00%\n",
      "Test Recall: 77.99%\n",
      "Test Precision: 84.34%\n"
     ]
    },
    {
     "name": "stderr",
     "output_type": "stream",
     "text": [
      "2024/09/25 01:29:19 WARNING mlflow.models.model: Input example should be provided to infer model signature if the model signature is not provided when logging the model.\n"
     ]
    },
    {
     "name": "stdout",
     "output_type": "stream",
     "text": [
      "737\n"
     ]
    },
    {
     "name": "stderr",
     "output_type": "stream",
     "text": [
      "/home/azureuser/rumour-detection-pheme/utils.py:322: SettingWithCopyWarning: \n",
      "A value is trying to be set on a copy of a slice from a DataFrame.\n",
      "Try using .loc[row_indexer,col_indexer] = value instead\n",
      "\n",
      "See the caveats in the documentation: https://pandas.pydata.org/pandas-docs/stable/user_guide/indexing.html#returning-a-view-versus-a-copy\n",
      "  reply_features[['reply_followers','time_diff']] = scaler.fit_transform(reply_features[['reply_followers','time_diff']])\n"
     ]
    },
    {
     "name": "stdout",
     "output_type": "stream",
     "text": [
      "0\n",
      "Epoch:   0 | Train Loss: 0.9006 | Train Acc: 26.71% | Val Acc: 27.97%\n",
      "100\n",
      "Epoch: 100 | Train Loss: 0.2390 | Train Acc: 91.34% | Val Acc: 84.75%\n",
      "200\n",
      "Epoch: 200 | Train Loss: 0.1045 | Train Acc: 96.57% | Val Acc: 88.14%\n",
      "300\n",
      "Epoch: 300 | Train Loss: 0.1548 | Train Acc: 99.28% | Val Acc: 88.14%\n",
      "Test accuracy: 95.00%\n",
      "Test Recall: 81.77%\n",
      "Test Precision: 84.94%\n"
     ]
    },
    {
     "name": "stderr",
     "output_type": "stream",
     "text": [
      "2024/09/25 01:29:36 WARNING mlflow.models.model: Input example should be provided to infer model signature if the model signature is not provided when logging the model.\n"
     ]
    },
    {
     "name": "stdout",
     "output_type": "stream",
     "text": [
      "747\n"
     ]
    },
    {
     "name": "stderr",
     "output_type": "stream",
     "text": [
      "/home/azureuser/rumour-detection-pheme/utils.py:322: SettingWithCopyWarning: \n",
      "A value is trying to be set on a copy of a slice from a DataFrame.\n",
      "Try using .loc[row_indexer,col_indexer] = value instead\n",
      "\n",
      "See the caveats in the documentation: https://pandas.pydata.org/pandas-docs/stable/user_guide/indexing.html#returning-a-view-versus-a-copy\n",
      "  reply_features[['reply_followers','time_diff']] = scaler.fit_transform(reply_features[['reply_followers','time_diff']])\n"
     ]
    },
    {
     "name": "stdout",
     "output_type": "stream",
     "text": [
      "0\n",
      "Epoch:   0 | Train Loss: 0.7007 | Train Acc: 76.35% | Val Acc: 72.03%\n",
      "100\n",
      "Epoch: 100 | Train Loss: 0.1990 | Train Acc: 92.96% | Val Acc: 86.44%\n",
      "200\n",
      "Epoch: 200 | Train Loss: 0.0579 | Train Acc: 98.01% | Val Acc: 88.14%\n",
      "300\n",
      "Epoch: 300 | Train Loss: 0.0284 | Train Acc: 99.64% | Val Acc: 88.14%\n",
      "Test accuracy: 90.83%\n",
      "Test Recall: 84.46%\n",
      "Test Precision: 79.92%\n"
     ]
    },
    {
     "name": "stderr",
     "output_type": "stream",
     "text": [
      "2024/09/25 01:29:52 WARNING mlflow.models.model: Input example should be provided to infer model signature if the model signature is not provided when logging the model.\n"
     ]
    },
    {
     "name": "stdout",
     "output_type": "stream",
     "text": [
      "757\n"
     ]
    },
    {
     "name": "stderr",
     "output_type": "stream",
     "text": [
      "/home/azureuser/rumour-detection-pheme/utils.py:322: SettingWithCopyWarning: \n",
      "A value is trying to be set on a copy of a slice from a DataFrame.\n",
      "Try using .loc[row_indexer,col_indexer] = value instead\n",
      "\n",
      "See the caveats in the documentation: https://pandas.pydata.org/pandas-docs/stable/user_guide/indexing.html#returning-a-view-versus-a-copy\n",
      "  reply_features[['reply_followers','time_diff']] = scaler.fit_transform(reply_features[['reply_followers','time_diff']])\n"
     ]
    },
    {
     "name": "stdout",
     "output_type": "stream",
     "text": [
      "0\n",
      "Epoch:   0 | Train Loss: 0.6841 | Train Acc: 78.34% | Val Acc: 72.03%\n",
      "100\n",
      "Epoch: 100 | Train Loss: 0.2076 | Train Acc: 93.14% | Val Acc: 88.98%\n",
      "200\n",
      "Epoch: 200 | Train Loss: 0.1005 | Train Acc: 97.83% | Val Acc: 89.83%\n",
      "300\n",
      "Epoch: 300 | Train Loss: 0.0375 | Train Acc: 99.46% | Val Acc: 91.53%\n",
      "Test accuracy: 91.67%\n",
      "Test Recall: 88.75%\n",
      "Test Precision: 84.90%\n"
     ]
    },
    {
     "name": "stderr",
     "output_type": "stream",
     "text": [
      "2024/09/25 01:30:08 WARNING mlflow.models.model: Input example should be provided to infer model signature if the model signature is not provided when logging the model.\n"
     ]
    },
    {
     "name": "stdout",
     "output_type": "stream",
     "text": [
      "767\n"
     ]
    },
    {
     "name": "stderr",
     "output_type": "stream",
     "text": [
      "/home/azureuser/rumour-detection-pheme/utils.py:322: SettingWithCopyWarning: \n",
      "A value is trying to be set on a copy of a slice from a DataFrame.\n",
      "Try using .loc[row_indexer,col_indexer] = value instead\n",
      "\n",
      "See the caveats in the documentation: https://pandas.pydata.org/pandas-docs/stable/user_guide/indexing.html#returning-a-view-versus-a-copy\n",
      "  reply_features[['reply_followers','time_diff']] = scaler.fit_transform(reply_features[['reply_followers','time_diff']])\n"
     ]
    },
    {
     "name": "stdout",
     "output_type": "stream",
     "text": [
      "0\n",
      "Epoch:   0 | Train Loss: 0.7946 | Train Acc: 45.67% | Val Acc: 49.15%\n",
      "100\n",
      "Epoch: 100 | Train Loss: 0.2140 | Train Acc: 92.24% | Val Acc: 86.44%\n",
      "200\n",
      "Epoch: 200 | Train Loss: 0.0797 | Train Acc: 97.65% | Val Acc: 88.14%\n",
      "300\n",
      "Epoch: 300 | Train Loss: 0.0249 | Train Acc: 99.82% | Val Acc: 89.83%\n",
      "Test accuracy: 89.17%\n",
      "Test Recall: 82.52%\n",
      "Test Precision: 84.15%\n"
     ]
    },
    {
     "name": "stderr",
     "output_type": "stream",
     "text": [
      "2024/09/25 01:30:24 WARNING mlflow.models.model: Input example should be provided to infer model signature if the model signature is not provided when logging the model.\n"
     ]
    },
    {
     "name": "stdout",
     "output_type": "stream",
     "text": [
      "777\n"
     ]
    },
    {
     "name": "stderr",
     "output_type": "stream",
     "text": [
      "/home/azureuser/rumour-detection-pheme/utils.py:322: SettingWithCopyWarning: \n",
      "A value is trying to be set on a copy of a slice from a DataFrame.\n",
      "Try using .loc[row_indexer,col_indexer] = value instead\n",
      "\n",
      "See the caveats in the documentation: https://pandas.pydata.org/pandas-docs/stable/user_guide/indexing.html#returning-a-view-versus-a-copy\n",
      "  reply_features[['reply_followers','time_diff']] = scaler.fit_transform(reply_features[['reply_followers','time_diff']])\n"
     ]
    },
    {
     "name": "stdout",
     "output_type": "stream",
     "text": [
      "0\n",
      "Epoch:   0 | Train Loss: 1.0993 | Train Acc: 17.62% | Val Acc: 19.17%\n",
      "100\n",
      "Epoch: 100 | Train Loss: 0.2718 | Train Acc: 88.26% | Val Acc: 83.33%\n",
      "200\n",
      "Epoch: 200 | Train Loss: 0.1340 | Train Acc: 95.55% | Val Acc: 86.67%\n",
      "300\n",
      "Epoch: 300 | Train Loss: 0.0702 | Train Acc: 98.22% | Val Acc: 88.33%\n",
      "Test accuracy: 86.07%\n",
      "Test Recall: 79.20%\n",
      "Test Precision: 81.78%\n"
     ]
    },
    {
     "name": "stderr",
     "output_type": "stream",
     "text": [
      "2024/09/25 01:30:40 WARNING mlflow.models.model: Input example should be provided to infer model signature if the model signature is not provided when logging the model.\n"
     ]
    },
    {
     "name": "stdout",
     "output_type": "stream",
     "text": [
      "787\n"
     ]
    },
    {
     "name": "stderr",
     "output_type": "stream",
     "text": [
      "/home/azureuser/rumour-detection-pheme/utils.py:322: SettingWithCopyWarning: \n",
      "A value is trying to be set on a copy of a slice from a DataFrame.\n",
      "Try using .loc[row_indexer,col_indexer] = value instead\n",
      "\n",
      "See the caveats in the documentation: https://pandas.pydata.org/pandas-docs/stable/user_guide/indexing.html#returning-a-view-versus-a-copy\n",
      "  reply_features[['reply_followers','time_diff']] = scaler.fit_transform(reply_features[['reply_followers','time_diff']])\n"
     ]
    },
    {
     "name": "stdout",
     "output_type": "stream",
     "text": [
      "0\n",
      "Epoch:   0 | Train Loss: 0.7381 | Train Acc: 74.74% | Val Acc: 71.54%\n",
      "100\n",
      "Epoch: 100 | Train Loss: 0.2577 | Train Acc: 90.24% | Val Acc: 88.62%\n",
      "200\n",
      "Epoch: 200 | Train Loss: 0.1188 | Train Acc: 95.30% | Val Acc: 90.24%\n",
      "300\n",
      "Epoch: 300 | Train Loss: 0.0539 | Train Acc: 99.13% | Val Acc: 90.24%\n",
      "Test accuracy: 94.31%\n",
      "Test Recall: 89.59%\n",
      "Test Precision: 85.46%\n"
     ]
    },
    {
     "name": "stderr",
     "output_type": "stream",
     "text": [
      "2024/09/25 01:30:57 WARNING mlflow.models.model: Input example should be provided to infer model signature if the model signature is not provided when logging the model.\n"
     ]
    },
    {
     "name": "stdout",
     "output_type": "stream",
     "text": [
      "797\n"
     ]
    },
    {
     "name": "stderr",
     "output_type": "stream",
     "text": [
      "/home/azureuser/rumour-detection-pheme/utils.py:322: SettingWithCopyWarning: \n",
      "A value is trying to be set on a copy of a slice from a DataFrame.\n",
      "Try using .loc[row_indexer,col_indexer] = value instead\n",
      "\n",
      "See the caveats in the documentation: https://pandas.pydata.org/pandas-docs/stable/user_guide/indexing.html#returning-a-view-versus-a-copy\n",
      "  reply_features[['reply_followers','time_diff']] = scaler.fit_transform(reply_features[['reply_followers','time_diff']])\n"
     ]
    },
    {
     "name": "stdout",
     "output_type": "stream",
     "text": [
      "0\n",
      "Epoch:   0 | Train Loss: 0.5336 | Train Acc: 82.79% | Val Acc: 81.60%\n",
      "100\n",
      "Epoch: 100 | Train Loss: 0.2314 | Train Acc: 90.46% | Val Acc: 92.80%\n",
      "200\n",
      "Epoch: 200 | Train Loss: 0.1067 | Train Acc: 97.44% | Val Acc: 92.00%\n",
      "300\n",
      "Epoch: 300 | Train Loss: 0.0379 | Train Acc: 99.49% | Val Acc: 92.00%\n",
      "Test accuracy: 92.91%\n",
      "Test Recall: 81.86%\n",
      "Test Precision: 93.00%\n"
     ]
    },
    {
     "name": "stderr",
     "output_type": "stream",
     "text": [
      "2024/09/25 01:31:13 WARNING mlflow.models.model: Input example should be provided to infer model signature if the model signature is not provided when logging the model.\n"
     ]
    },
    {
     "name": "stdout",
     "output_type": "stream",
     "text": [
      "807\n"
     ]
    },
    {
     "name": "stderr",
     "output_type": "stream",
     "text": [
      "/home/azureuser/rumour-detection-pheme/utils.py:322: SettingWithCopyWarning: \n",
      "A value is trying to be set on a copy of a slice from a DataFrame.\n",
      "Try using .loc[row_indexer,col_indexer] = value instead\n",
      "\n",
      "See the caveats in the documentation: https://pandas.pydata.org/pandas-docs/stable/user_guide/indexing.html#returning-a-view-versus-a-copy\n",
      "  reply_features[['reply_followers','time_diff']] = scaler.fit_transform(reply_features[['reply_followers','time_diff']])\n"
     ]
    },
    {
     "name": "stdout",
     "output_type": "stream",
     "text": [
      "0\n",
      "Epoch:   0 | Train Loss: 0.6802 | Train Acc: 79.30% | Val Acc: 75.00%\n",
      "100\n",
      "Epoch: 100 | Train Loss: 0.2477 | Train Acc: 90.32% | Val Acc: 84.38%\n",
      "200\n",
      "Epoch: 200 | Train Loss: 0.1337 | Train Acc: 96.33% | Val Acc: 85.94%\n",
      "300\n",
      "Epoch: 300 | Train Loss: 0.0511 | Train Acc: 99.00% | Val Acc: 86.72%\n",
      "Test accuracy: 90.77%\n",
      "Test Recall: 81.72%\n",
      "Test Precision: 80.63%\n"
     ]
    },
    {
     "name": "stderr",
     "output_type": "stream",
     "text": [
      "2024/09/25 01:31:30 WARNING mlflow.models.model: Input example should be provided to infer model signature if the model signature is not provided when logging the model.\n"
     ]
    },
    {
     "name": "stdout",
     "output_type": "stream",
     "text": [
      "817\n"
     ]
    },
    {
     "name": "stderr",
     "output_type": "stream",
     "text": [
      "/home/azureuser/rumour-detection-pheme/utils.py:322: SettingWithCopyWarning: \n",
      "A value is trying to be set on a copy of a slice from a DataFrame.\n",
      "Try using .loc[row_indexer,col_indexer] = value instead\n",
      "\n",
      "See the caveats in the documentation: https://pandas.pydata.org/pandas-docs/stable/user_guide/indexing.html#returning-a-view-versus-a-copy\n",
      "  reply_features[['reply_followers','time_diff']] = scaler.fit_transform(reply_features[['reply_followers','time_diff']])\n"
     ]
    },
    {
     "name": "stdout",
     "output_type": "stream",
     "text": [
      "0\n",
      "Epoch:   0 | Train Loss: 0.8472 | Train Acc: 61.67% | Val Acc: 67.97%\n",
      "100\n",
      "Epoch: 100 | Train Loss: 0.2724 | Train Acc: 88.67% | Val Acc: 89.84%\n",
      "200\n",
      "Epoch: 200 | Train Loss: 0.1520 | Train Acc: 94.00% | Val Acc: 92.19%\n",
      "300\n",
      "Epoch: 300 | Train Loss: 0.0893 | Train Acc: 97.83% | Val Acc: 90.62%\n",
      "Test accuracy: 88.46%\n",
      "Test Recall: 81.73%\n",
      "Test Precision: 84.87%\n"
     ]
    },
    {
     "name": "stderr",
     "output_type": "stream",
     "text": [
      "2024/09/25 01:31:47 WARNING mlflow.models.model: Input example should be provided to infer model signature if the model signature is not provided when logging the model.\n"
     ]
    },
    {
     "name": "stdout",
     "output_type": "stream",
     "text": [
      "827\n"
     ]
    },
    {
     "name": "stderr",
     "output_type": "stream",
     "text": [
      "/home/azureuser/rumour-detection-pheme/utils.py:322: SettingWithCopyWarning: \n",
      "A value is trying to be set on a copy of a slice from a DataFrame.\n",
      "Try using .loc[row_indexer,col_indexer] = value instead\n",
      "\n",
      "See the caveats in the documentation: https://pandas.pydata.org/pandas-docs/stable/user_guide/indexing.html#returning-a-view-versus-a-copy\n",
      "  reply_features[['reply_followers','time_diff']] = scaler.fit_transform(reply_features[['reply_followers','time_diff']])\n"
     ]
    },
    {
     "name": "stdout",
     "output_type": "stream",
     "text": [
      "0\n",
      "Epoch:   0 | Train Loss: 0.8369 | Train Acc: 18.00% | Val Acc: 25.00%\n",
      "100\n",
      "Epoch: 100 | Train Loss: 0.2518 | Train Acc: 88.67% | Val Acc: 85.94%\n",
      "200\n",
      "Epoch: 200 | Train Loss: 0.1295 | Train Acc: 95.83% | Val Acc: 89.06%\n",
      "300\n",
      "Epoch: 300 | Train Loss: 0.0584 | Train Acc: 99.17% | Val Acc: 89.06%\n",
      "Test accuracy: 89.23%\n",
      "Test Recall: 80.92%\n",
      "Test Precision: 84.66%\n"
     ]
    },
    {
     "name": "stderr",
     "output_type": "stream",
     "text": [
      "2024/09/25 01:32:04 WARNING mlflow.models.model: Input example should be provided to infer model signature if the model signature is not provided when logging the model.\n"
     ]
    },
    {
     "name": "stdout",
     "output_type": "stream",
     "text": [
      "837\n"
     ]
    },
    {
     "name": "stderr",
     "output_type": "stream",
     "text": [
      "/home/azureuser/rumour-detection-pheme/utils.py:322: SettingWithCopyWarning: \n",
      "A value is trying to be set on a copy of a slice from a DataFrame.\n",
      "Try using .loc[row_indexer,col_indexer] = value instead\n",
      "\n",
      "See the caveats in the documentation: https://pandas.pydata.org/pandas-docs/stable/user_guide/indexing.html#returning-a-view-versus-a-copy\n",
      "  reply_features[['reply_followers','time_diff']] = scaler.fit_transform(reply_features[['reply_followers','time_diff']])\n"
     ]
    },
    {
     "name": "stdout",
     "output_type": "stream",
     "text": [
      "0\n",
      "Epoch:   0 | Train Loss: 0.9750 | Train Acc: 72.92% | Val Acc: 69.77%\n",
      "100\n",
      "Epoch: 100 | Train Loss: 0.2447 | Train Acc: 89.70% | Val Acc: 83.72%\n",
      "200\n",
      "Epoch: 200 | Train Loss: 0.1302 | Train Acc: 95.51% | Val Acc: 84.50%\n",
      "300\n",
      "Epoch: 300 | Train Loss: 0.0484 | Train Acc: 99.17% | Val Acc: 86.82%\n",
      "Test accuracy: 90.70%\n",
      "Test Recall: 77.83%\n",
      "Test Precision: 82.84%\n"
     ]
    },
    {
     "name": "stderr",
     "output_type": "stream",
     "text": [
      "2024/09/25 01:32:21 WARNING mlflow.models.model: Input example should be provided to infer model signature if the model signature is not provided when logging the model.\n"
     ]
    },
    {
     "name": "stdout",
     "output_type": "stream",
     "text": [
      "847\n"
     ]
    },
    {
     "name": "stderr",
     "output_type": "stream",
     "text": [
      "/home/azureuser/rumour-detection-pheme/utils.py:322: SettingWithCopyWarning: \n",
      "A value is trying to be set on a copy of a slice from a DataFrame.\n",
      "Try using .loc[row_indexer,col_indexer] = value instead\n",
      "\n",
      "See the caveats in the documentation: https://pandas.pydata.org/pandas-docs/stable/user_guide/indexing.html#returning-a-view-versus-a-copy\n",
      "  reply_features[['reply_followers','time_diff']] = scaler.fit_transform(reply_features[['reply_followers','time_diff']])\n"
     ]
    },
    {
     "name": "stdout",
     "output_type": "stream",
     "text": [
      "0\n",
      "Epoch:   0 | Train Loss: 0.6150 | Train Acc: 82.56% | Val Acc: 77.52%\n",
      "100\n",
      "Epoch: 100 | Train Loss: 0.2445 | Train Acc: 90.86% | Val Acc: 91.47%\n",
      "200\n",
      "Epoch: 200 | Train Loss: 0.1159 | Train Acc: 96.51% | Val Acc: 90.70%\n",
      "300\n",
      "Epoch: 300 | Train Loss: 0.0400 | Train Acc: 99.34% | Val Acc: 92.25%\n",
      "Test accuracy: 86.92%\n",
      "Test Recall: 85.76%\n",
      "Test Precision: 84.48%\n"
     ]
    },
    {
     "name": "stderr",
     "output_type": "stream",
     "text": [
      "2024/09/25 01:32:37 WARNING mlflow.models.model: Input example should be provided to infer model signature if the model signature is not provided when logging the model.\n"
     ]
    },
    {
     "name": "stdout",
     "output_type": "stream",
     "text": [
      "857\n"
     ]
    },
    {
     "name": "stderr",
     "output_type": "stream",
     "text": [
      "/home/azureuser/rumour-detection-pheme/utils.py:322: SettingWithCopyWarning: \n",
      "A value is trying to be set on a copy of a slice from a DataFrame.\n",
      "Try using .loc[row_indexer,col_indexer] = value instead\n",
      "\n",
      "See the caveats in the documentation: https://pandas.pydata.org/pandas-docs/stable/user_guide/indexing.html#returning-a-view-versus-a-copy\n",
      "  reply_features[['reply_followers','time_diff']] = scaler.fit_transform(reply_features[['reply_followers','time_diff']])\n"
     ]
    },
    {
     "name": "stdout",
     "output_type": "stream",
     "text": [
      "0\n",
      "Epoch:   0 | Train Loss: 1.0226 | Train Acc: 46.68% | Val Acc: 41.86%\n",
      "100\n",
      "Epoch: 100 | Train Loss: 0.2787 | Train Acc: 88.87% | Val Acc: 88.37%\n",
      "200\n",
      "Epoch: 200 | Train Loss: 0.1843 | Train Acc: 93.69% | Val Acc: 91.47%\n",
      "300\n",
      "Epoch: 300 | Train Loss: 0.0939 | Train Acc: 97.18% | Val Acc: 93.80%\n",
      "Test accuracy: 84.62%\n",
      "Test Recall: 80.45%\n",
      "Test Precision: 82.97%\n"
     ]
    },
    {
     "name": "stderr",
     "output_type": "stream",
     "text": [
      "2024/09/25 01:32:54 WARNING mlflow.models.model: Input example should be provided to infer model signature if the model signature is not provided when logging the model.\n"
     ]
    },
    {
     "name": "stdout",
     "output_type": "stream",
     "text": [
      "867\n"
     ]
    },
    {
     "name": "stderr",
     "output_type": "stream",
     "text": [
      "/home/azureuser/rumour-detection-pheme/utils.py:322: SettingWithCopyWarning: \n",
      "A value is trying to be set on a copy of a slice from a DataFrame.\n",
      "Try using .loc[row_indexer,col_indexer] = value instead\n",
      "\n",
      "See the caveats in the documentation: https://pandas.pydata.org/pandas-docs/stable/user_guide/indexing.html#returning-a-view-versus-a-copy\n",
      "  reply_features[['reply_followers','time_diff']] = scaler.fit_transform(reply_features[['reply_followers','time_diff']])\n"
     ]
    },
    {
     "name": "stdout",
     "output_type": "stream",
     "text": [
      "0\n",
      "Epoch:   0 | Train Loss: 1.0585 | Train Acc: 19.77% | Val Acc: 24.03%\n",
      "100\n",
      "Epoch: 100 | Train Loss: 0.2482 | Train Acc: 91.20% | Val Acc: 82.17%\n",
      "200\n",
      "Epoch: 200 | Train Loss: 0.1405 | Train Acc: 95.68% | Val Acc: 85.27%\n",
      "300\n",
      "Epoch: 300 | Train Loss: 0.0728 | Train Acc: 98.50% | Val Acc: 86.05%\n",
      "Test accuracy: 90.77%\n",
      "Test Recall: 80.74%\n",
      "Test Precision: 81.26%\n"
     ]
    },
    {
     "name": "stderr",
     "output_type": "stream",
     "text": [
      "2024/09/25 01:33:10 WARNING mlflow.models.model: Input example should be provided to infer model signature if the model signature is not provided when logging the model.\n"
     ]
    },
    {
     "name": "stdout",
     "output_type": "stream",
     "text": [
      "877\n"
     ]
    },
    {
     "name": "stderr",
     "output_type": "stream",
     "text": [
      "/home/azureuser/rumour-detection-pheme/utils.py:322: SettingWithCopyWarning: \n",
      "A value is trying to be set on a copy of a slice from a DataFrame.\n",
      "Try using .loc[row_indexer,col_indexer] = value instead\n",
      "\n",
      "See the caveats in the documentation: https://pandas.pydata.org/pandas-docs/stable/user_guide/indexing.html#returning-a-view-versus-a-copy\n",
      "  reply_features[['reply_followers','time_diff']] = scaler.fit_transform(reply_features[['reply_followers','time_diff']])\n"
     ]
    },
    {
     "name": "stdout",
     "output_type": "stream",
     "text": [
      "0\n",
      "Epoch:   0 | Train Loss: 0.9152 | Train Acc: 33.89% | Val Acc: 34.88%\n",
      "100\n",
      "Epoch: 100 | Train Loss: 0.2688 | Train Acc: 89.20% | Val Acc: 89.15%\n",
      "200\n",
      "Epoch: 200 | Train Loss: 0.1504 | Train Acc: 96.01% | Val Acc: 89.92%\n",
      "300\n",
      "Epoch: 300 | Train Loss: 0.0549 | Train Acc: 98.84% | Val Acc: 88.37%\n",
      "Test accuracy: 92.31%\n",
      "Test Recall: 79.18%\n",
      "Test Precision: 87.41%\n"
     ]
    },
    {
     "name": "stderr",
     "output_type": "stream",
     "text": [
      "2024/09/25 01:33:27 WARNING mlflow.models.model: Input example should be provided to infer model signature if the model signature is not provided when logging the model.\n"
     ]
    },
    {
     "name": "stdout",
     "output_type": "stream",
     "text": [
      "887\n"
     ]
    },
    {
     "name": "stderr",
     "output_type": "stream",
     "text": [
      "/home/azureuser/rumour-detection-pheme/utils.py:322: SettingWithCopyWarning: \n",
      "A value is trying to be set on a copy of a slice from a DataFrame.\n",
      "Try using .loc[row_indexer,col_indexer] = value instead\n",
      "\n",
      "See the caveats in the documentation: https://pandas.pydata.org/pandas-docs/stable/user_guide/indexing.html#returning-a-view-versus-a-copy\n",
      "  reply_features[['reply_followers','time_diff']] = scaler.fit_transform(reply_features[['reply_followers','time_diff']])\n"
     ]
    },
    {
     "name": "stdout",
     "output_type": "stream",
     "text": [
      "0\n",
      "Epoch:   0 | Train Loss: 0.7532 | Train Acc: 70.10% | Val Acc: 73.64%\n",
      "100\n",
      "Epoch: 100 | Train Loss: 0.2709 | Train Acc: 89.70% | Val Acc: 87.60%\n",
      "200\n",
      "Epoch: 200 | Train Loss: 0.1540 | Train Acc: 94.35% | Val Acc: 85.27%\n",
      "300\n",
      "Epoch: 300 | Train Loss: 0.0871 | Train Acc: 96.51% | Val Acc: 85.27%\n",
      "Test accuracy: 88.46%\n",
      "Test Recall: 72.93%\n",
      "Test Precision: 75.21%\n"
     ]
    },
    {
     "name": "stderr",
     "output_type": "stream",
     "text": [
      "2024/09/25 01:33:43 WARNING mlflow.models.model: Input example should be provided to infer model signature if the model signature is not provided when logging the model.\n"
     ]
    },
    {
     "name": "stdout",
     "output_type": "stream",
     "text": [
      "897\n"
     ]
    },
    {
     "name": "stderr",
     "output_type": "stream",
     "text": [
      "/home/azureuser/rumour-detection-pheme/utils.py:322: SettingWithCopyWarning: \n",
      "A value is trying to be set on a copy of a slice from a DataFrame.\n",
      "Try using .loc[row_indexer,col_indexer] = value instead\n",
      "\n",
      "See the caveats in the documentation: https://pandas.pydata.org/pandas-docs/stable/user_guide/indexing.html#returning-a-view-versus-a-copy\n",
      "  reply_features[['reply_followers','time_diff']] = scaler.fit_transform(reply_features[['reply_followers','time_diff']])\n"
     ]
    },
    {
     "name": "stdout",
     "output_type": "stream",
     "text": [
      "0\n",
      "Epoch:   0 | Train Loss: 0.8555 | Train Acc: 53.82% | Val Acc: 54.26%\n",
      "100\n",
      "Epoch: 100 | Train Loss: 0.2814 | Train Acc: 90.37% | Val Acc: 94.57%\n",
      "200\n",
      "Epoch: 200 | Train Loss: 0.1231 | Train Acc: 95.85% | Val Acc: 93.80%\n",
      "300\n",
      "Epoch: 300 | Train Loss: 0.0568 | Train Acc: 99.00% | Val Acc: 91.47%\n",
      "Test accuracy: 87.69%\n",
      "Test Recall: 83.54%\n",
      "Test Precision: 76.73%\n"
     ]
    },
    {
     "name": "stderr",
     "output_type": "stream",
     "text": [
      "2024/09/25 01:34:00 WARNING mlflow.models.model: Input example should be provided to infer model signature if the model signature is not provided when logging the model.\n"
     ]
    },
    {
     "name": "stdout",
     "output_type": "stream",
     "text": [
      "907\n"
     ]
    },
    {
     "name": "stderr",
     "output_type": "stream",
     "text": [
      "/home/azureuser/rumour-detection-pheme/utils.py:322: SettingWithCopyWarning: \n",
      "A value is trying to be set on a copy of a slice from a DataFrame.\n",
      "Try using .loc[row_indexer,col_indexer] = value instead\n",
      "\n",
      "See the caveats in the documentation: https://pandas.pydata.org/pandas-docs/stable/user_guide/indexing.html#returning-a-view-versus-a-copy\n",
      "  reply_features[['reply_followers','time_diff']] = scaler.fit_transform(reply_features[['reply_followers','time_diff']])\n"
     ]
    },
    {
     "name": "stdout",
     "output_type": "stream",
     "text": [
      "0\n",
      "Epoch:   0 | Train Loss: 0.9819 | Train Acc: 76.58% | Val Acc: 73.64%\n",
      "100\n",
      "Epoch: 100 | Train Loss: 0.2801 | Train Acc: 89.37% | Val Acc: 83.72%\n",
      "200\n",
      "Epoch: 200 | Train Loss: 0.1277 | Train Acc: 96.84% | Val Acc: 82.95%\n",
      "300\n",
      "Epoch: 300 | Train Loss: 0.0468 | Train Acc: 99.00% | Val Acc: 83.72%\n",
      "Test accuracy: 93.85%\n",
      "Test Recall: 75.19%\n",
      "Test Precision: 83.35%\n"
     ]
    },
    {
     "name": "stderr",
     "output_type": "stream",
     "text": [
      "2024/09/25 01:34:17 WARNING mlflow.models.model: Input example should be provided to infer model signature if the model signature is not provided when logging the model.\n"
     ]
    },
    {
     "name": "stdout",
     "output_type": "stream",
     "text": [
      "917\n"
     ]
    },
    {
     "name": "stderr",
     "output_type": "stream",
     "text": [
      "/home/azureuser/rumour-detection-pheme/utils.py:322: SettingWithCopyWarning: \n",
      "A value is trying to be set on a copy of a slice from a DataFrame.\n",
      "Try using .loc[row_indexer,col_indexer] = value instead\n",
      "\n",
      "See the caveats in the documentation: https://pandas.pydata.org/pandas-docs/stable/user_guide/indexing.html#returning-a-view-versus-a-copy\n",
      "  reply_features[['reply_followers','time_diff']] = scaler.fit_transform(reply_features[['reply_followers','time_diff']])\n"
     ]
    },
    {
     "name": "stdout",
     "output_type": "stream",
     "text": [
      "0\n",
      "Epoch:   0 | Train Loss: 0.8881 | Train Acc: 24.75% | Val Acc: 26.36%\n",
      "100\n",
      "Epoch: 100 | Train Loss: 0.2611 | Train Acc: 90.70% | Val Acc: 89.15%\n",
      "200\n",
      "Epoch: 200 | Train Loss: 0.1073 | Train Acc: 97.18% | Val Acc: 89.92%\n",
      "300\n",
      "Epoch: 300 | Train Loss: 0.0639 | Train Acc: 98.67% | Val Acc: 88.37%\n",
      "Test accuracy: 83.85%\n",
      "Test Recall: 82.83%\n",
      "Test Precision: 74.87%\n"
     ]
    },
    {
     "name": "stderr",
     "output_type": "stream",
     "text": [
      "2024/09/25 01:34:33 WARNING mlflow.models.model: Input example should be provided to infer model signature if the model signature is not provided when logging the model.\n"
     ]
    },
    {
     "name": "stdout",
     "output_type": "stream",
     "text": [
      "927\n"
     ]
    },
    {
     "name": "stderr",
     "output_type": "stream",
     "text": [
      "/home/azureuser/rumour-detection-pheme/utils.py:322: SettingWithCopyWarning: \n",
      "A value is trying to be set on a copy of a slice from a DataFrame.\n",
      "Try using .loc[row_indexer,col_indexer] = value instead\n",
      "\n",
      "See the caveats in the documentation: https://pandas.pydata.org/pandas-docs/stable/user_guide/indexing.html#returning-a-view-versus-a-copy\n",
      "  reply_features[['reply_followers','time_diff']] = scaler.fit_transform(reply_features[['reply_followers','time_diff']])\n"
     ]
    },
    {
     "name": "stdout",
     "output_type": "stream",
     "text": [
      "0\n",
      "Epoch:   0 | Train Loss: 0.7689 | Train Acc: 41.53% | Val Acc: 41.86%\n",
      "100\n",
      "Epoch: 100 | Train Loss: 0.2426 | Train Acc: 90.03% | Val Acc: 91.47%\n",
      "200\n",
      "Epoch: 200 | Train Loss: 0.1306 | Train Acc: 95.51% | Val Acc: 91.47%\n",
      "300\n",
      "Epoch: 300 | Train Loss: 0.0617 | Train Acc: 99.34% | Val Acc: 89.92%\n",
      "Test accuracy: 90.77%\n",
      "Test Recall: 81.01%\n",
      "Test Precision: 87.46%\n"
     ]
    },
    {
     "name": "stderr",
     "output_type": "stream",
     "text": [
      "2024/09/25 01:34:49 WARNING mlflow.models.model: Input example should be provided to infer model signature if the model signature is not provided when logging the model.\n"
     ]
    },
    {
     "name": "stdout",
     "output_type": "stream",
     "text": [
      "937\n"
     ]
    },
    {
     "name": "stderr",
     "output_type": "stream",
     "text": [
      "/home/azureuser/rumour-detection-pheme/utils.py:322: SettingWithCopyWarning: \n",
      "A value is trying to be set on a copy of a slice from a DataFrame.\n",
      "Try using .loc[row_indexer,col_indexer] = value instead\n",
      "\n",
      "See the caveats in the documentation: https://pandas.pydata.org/pandas-docs/stable/user_guide/indexing.html#returning-a-view-versus-a-copy\n",
      "  reply_features[['reply_followers','time_diff']] = scaler.fit_transform(reply_features[['reply_followers','time_diff']])\n"
     ]
    },
    {
     "name": "stdout",
     "output_type": "stream",
     "text": [
      "0\n",
      "Epoch:   0 | Train Loss: 0.9609 | Train Acc: 35.16% | Val Acc: 30.23%\n",
      "100\n",
      "Epoch: 100 | Train Loss: 0.2724 | Train Acc: 88.39% | Val Acc: 87.60%\n",
      "200\n",
      "Epoch: 200 | Train Loss: 0.1760 | Train Acc: 93.86% | Val Acc: 89.15%\n",
      "300\n",
      "Epoch: 300 | Train Loss: 0.1296 | Train Acc: 97.18% | Val Acc: 89.15%\n",
      "Test accuracy: 87.69%\n",
      "Test Recall: 80.01%\n",
      "Test Precision: 77.65%\n"
     ]
    },
    {
     "name": "stderr",
     "output_type": "stream",
     "text": [
      "2024/09/25 01:35:06 WARNING mlflow.models.model: Input example should be provided to infer model signature if the model signature is not provided when logging the model.\n"
     ]
    },
    {
     "name": "stdout",
     "output_type": "stream",
     "text": [
      "947\n"
     ]
    },
    {
     "name": "stderr",
     "output_type": "stream",
     "text": [
      "/home/azureuser/rumour-detection-pheme/utils.py:322: SettingWithCopyWarning: \n",
      "A value is trying to be set on a copy of a slice from a DataFrame.\n",
      "Try using .loc[row_indexer,col_indexer] = value instead\n",
      "\n",
      "See the caveats in the documentation: https://pandas.pydata.org/pandas-docs/stable/user_guide/indexing.html#returning-a-view-versus-a-copy\n",
      "  reply_features[['reply_followers','time_diff']] = scaler.fit_transform(reply_features[['reply_followers','time_diff']])\n"
     ]
    },
    {
     "name": "stdout",
     "output_type": "stream",
     "text": [
      "0\n",
      "Epoch:   0 | Train Loss: 1.0736 | Train Acc: 27.36% | Val Acc: 30.23%\n",
      "100\n",
      "Epoch: 100 | Train Loss: 0.2832 | Train Acc: 88.89% | Val Acc: 89.15%\n",
      "200\n",
      "Epoch: 200 | Train Loss: 0.1634 | Train Acc: 94.03% | Val Acc: 87.60%\n",
      "300\n",
      "Epoch: 300 | Train Loss: 0.1160 | Train Acc: 96.85% | Val Acc: 89.92%\n",
      "Test accuracy: 90.77%\n",
      "Test Recall: 81.78%\n",
      "Test Precision: 86.03%\n"
     ]
    },
    {
     "name": "stderr",
     "output_type": "stream",
     "text": [
      "2024/09/25 01:35:23 WARNING mlflow.models.model: Input example should be provided to infer model signature if the model signature is not provided when logging the model.\n"
     ]
    },
    {
     "name": "stdout",
     "output_type": "stream",
     "text": [
      "957\n"
     ]
    },
    {
     "name": "stderr",
     "output_type": "stream",
     "text": [
      "/home/azureuser/rumour-detection-pheme/utils.py:322: SettingWithCopyWarning: \n",
      "A value is trying to be set on a copy of a slice from a DataFrame.\n",
      "Try using .loc[row_indexer,col_indexer] = value instead\n",
      "\n",
      "See the caveats in the documentation: https://pandas.pydata.org/pandas-docs/stable/user_guide/indexing.html#returning-a-view-versus-a-copy\n",
      "  reply_features[['reply_followers','time_diff']] = scaler.fit_transform(reply_features[['reply_followers','time_diff']])\n"
     ]
    },
    {
     "name": "stdout",
     "output_type": "stream",
     "text": [
      "0\n",
      "Epoch:   0 | Train Loss: 0.6807 | Train Acc: 69.82% | Val Acc: 76.74%\n",
      "100\n",
      "Epoch: 100 | Train Loss: 0.2499 | Train Acc: 90.38% | Val Acc: 90.70%\n",
      "200\n",
      "Epoch: 200 | Train Loss: 0.1191 | Train Acc: 95.36% | Val Acc: 91.47%\n",
      "300\n",
      "Epoch: 300 | Train Loss: 0.0428 | Train Acc: 99.34% | Val Acc: 90.70%\n",
      "Test accuracy: 93.08%\n",
      "Test Recall: 88.05%\n",
      "Test Precision: 83.46%\n"
     ]
    },
    {
     "name": "stderr",
     "output_type": "stream",
     "text": [
      "2024/09/25 01:35:39 WARNING mlflow.models.model: Input example should be provided to infer model signature if the model signature is not provided when logging the model.\n"
     ]
    },
    {
     "name": "stdout",
     "output_type": "stream",
     "text": [
      "967\n"
     ]
    },
    {
     "name": "stderr",
     "output_type": "stream",
     "text": [
      "/home/azureuser/rumour-detection-pheme/utils.py:322: SettingWithCopyWarning: \n",
      "A value is trying to be set on a copy of a slice from a DataFrame.\n",
      "Try using .loc[row_indexer,col_indexer] = value instead\n",
      "\n",
      "See the caveats in the documentation: https://pandas.pydata.org/pandas-docs/stable/user_guide/indexing.html#returning-a-view-versus-a-copy\n",
      "  reply_features[['reply_followers','time_diff']] = scaler.fit_transform(reply_features[['reply_followers','time_diff']])\n"
     ]
    },
    {
     "name": "stdout",
     "output_type": "stream",
     "text": [
      "0\n",
      "Epoch:   0 | Train Loss: 0.7432 | Train Acc: 69.70% | Val Acc: 69.77%\n",
      "100\n",
      "Epoch: 100 | Train Loss: 0.2613 | Train Acc: 90.40% | Val Acc: 93.02%\n",
      "200\n",
      "Epoch: 200 | Train Loss: 0.1262 | Train Acc: 97.02% | Val Acc: 91.47%\n",
      "300\n",
      "Epoch: 300 | Train Loss: 0.0487 | Train Acc: 99.50% | Val Acc: 91.47%\n",
      "Test accuracy: 83.85%\n",
      "Test Recall: 74.67%\n",
      "Test Precision: 77.28%\n"
     ]
    },
    {
     "name": "stderr",
     "output_type": "stream",
     "text": [
      "2024/09/25 01:35:56 WARNING mlflow.models.model: Input example should be provided to infer model signature if the model signature is not provided when logging the model.\n"
     ]
    },
    {
     "name": "stdout",
     "output_type": "stream",
     "text": [
      "977\n"
     ]
    },
    {
     "name": "stderr",
     "output_type": "stream",
     "text": [
      "/home/azureuser/rumour-detection-pheme/utils.py:322: SettingWithCopyWarning: \n",
      "A value is trying to be set on a copy of a slice from a DataFrame.\n",
      "Try using .loc[row_indexer,col_indexer] = value instead\n",
      "\n",
      "See the caveats in the documentation: https://pandas.pydata.org/pandas-docs/stable/user_guide/indexing.html#returning-a-view-versus-a-copy\n",
      "  reply_features[['reply_followers','time_diff']] = scaler.fit_transform(reply_features[['reply_followers','time_diff']])\n"
     ]
    },
    {
     "name": "stdout",
     "output_type": "stream",
     "text": [
      "0\n",
      "Epoch:   0 | Train Loss: 0.7960 | Train Acc: 49.50% | Val Acc: 41.86%\n",
      "100\n",
      "Epoch: 100 | Train Loss: 0.2817 | Train Acc: 88.58% | Val Acc: 87.60%\n",
      "200\n",
      "Epoch: 200 | Train Loss: 0.1449 | Train Acc: 94.87% | Val Acc: 89.15%\n",
      "300\n",
      "Epoch: 300 | Train Loss: 0.0769 | Train Acc: 98.18% | Val Acc: 89.15%\n",
      "Test accuracy: 92.31%\n",
      "Test Recall: 81.17%\n",
      "Test Precision: 83.05%\n"
     ]
    },
    {
     "name": "stderr",
     "output_type": "stream",
     "text": [
      "2024/09/25 01:36:13 WARNING mlflow.models.model: Input example should be provided to infer model signature if the model signature is not provided when logging the model.\n"
     ]
    },
    {
     "name": "stdout",
     "output_type": "stream",
     "text": [
      "987\n"
     ]
    },
    {
     "name": "stderr",
     "output_type": "stream",
     "text": [
      "/home/azureuser/rumour-detection-pheme/utils.py:322: SettingWithCopyWarning: \n",
      "A value is trying to be set on a copy of a slice from a DataFrame.\n",
      "Try using .loc[row_indexer,col_indexer] = value instead\n",
      "\n",
      "See the caveats in the documentation: https://pandas.pydata.org/pandas-docs/stable/user_guide/indexing.html#returning-a-view-versus-a-copy\n",
      "  reply_features[['reply_followers','time_diff']] = scaler.fit_transform(reply_features[['reply_followers','time_diff']])\n"
     ]
    },
    {
     "name": "stdout",
     "output_type": "stream",
     "text": [
      "0\n",
      "Epoch:   0 | Train Loss: 0.7618 | Train Acc: 69.87% | Val Acc: 74.42%\n",
      "100\n",
      "Epoch: 100 | Train Loss: 0.2700 | Train Acc: 89.40% | Val Acc: 87.60%\n",
      "200\n",
      "Epoch: 200 | Train Loss: 0.1468 | Train Acc: 95.86% | Val Acc: 88.37%\n",
      "300\n",
      "Epoch: 300 | Train Loss: 0.0507 | Train Acc: 99.34% | Val Acc: 88.37%\n",
      "Test accuracy: 91.54%\n",
      "Test Recall: 82.44%\n",
      "Test Precision: 83.04%\n"
     ]
    },
    {
     "name": "stderr",
     "output_type": "stream",
     "text": [
      "2024/09/25 01:36:30 WARNING mlflow.models.model: Input example should be provided to infer model signature if the model signature is not provided when logging the model.\n"
     ]
    },
    {
     "name": "stdout",
     "output_type": "stream",
     "text": [
      "997\n"
     ]
    },
    {
     "name": "stderr",
     "output_type": "stream",
     "text": [
      "/home/azureuser/rumour-detection-pheme/utils.py:322: SettingWithCopyWarning: \n",
      "A value is trying to be set on a copy of a slice from a DataFrame.\n",
      "Try using .loc[row_indexer,col_indexer] = value instead\n",
      "\n",
      "See the caveats in the documentation: https://pandas.pydata.org/pandas-docs/stable/user_guide/indexing.html#returning-a-view-versus-a-copy\n",
      "  reply_features[['reply_followers','time_diff']] = scaler.fit_transform(reply_features[['reply_followers','time_diff']])\n"
     ]
    },
    {
     "name": "stdout",
     "output_type": "stream",
     "text": [
      "0\n",
      "Epoch:   0 | Train Loss: 0.8366 | Train Acc: 70.53% | Val Acc: 68.22%\n",
      "100\n",
      "Epoch: 100 | Train Loss: 0.2353 | Train Acc: 90.56% | Val Acc: 89.15%\n",
      "200\n",
      "Epoch: 200 | Train Loss: 0.1348 | Train Acc: 95.03% | Val Acc: 89.92%\n",
      "300\n",
      "Epoch: 300 | Train Loss: 0.0723 | Train Acc: 98.34% | Val Acc: 89.15%\n",
      "Test accuracy: 86.15%\n",
      "Test Recall: 80.47%\n",
      "Test Precision: 80.47%\n"
     ]
    },
    {
     "name": "stderr",
     "output_type": "stream",
     "text": [
      "2024/09/25 01:36:47 WARNING mlflow.models.model: Input example should be provided to infer model signature if the model signature is not provided when logging the model.\n"
     ]
    },
    {
     "name": "stdout",
     "output_type": "stream",
     "text": [
      "1007\n"
     ]
    },
    {
     "name": "stderr",
     "output_type": "stream",
     "text": [
      "/home/azureuser/rumour-detection-pheme/utils.py:322: SettingWithCopyWarning: \n",
      "A value is trying to be set on a copy of a slice from a DataFrame.\n",
      "Try using .loc[row_indexer,col_indexer] = value instead\n",
      "\n",
      "See the caveats in the documentation: https://pandas.pydata.org/pandas-docs/stable/user_guide/indexing.html#returning-a-view-versus-a-copy\n",
      "  reply_features[['reply_followers','time_diff']] = scaler.fit_transform(reply_features[['reply_followers','time_diff']])\n"
     ]
    },
    {
     "name": "stdout",
     "output_type": "stream",
     "text": [
      "0\n",
      "Epoch:   0 | Train Loss: 0.9494 | Train Acc: 30.46% | Val Acc: 27.13%\n",
      "100\n",
      "Epoch: 100 | Train Loss: 0.2919 | Train Acc: 89.40% | Val Acc: 86.05%\n",
      "200\n",
      "Epoch: 200 | Train Loss: 0.1697 | Train Acc: 94.70% | Val Acc: 87.60%\n",
      "300\n",
      "Epoch: 300 | Train Loss: 0.0763 | Train Acc: 98.34% | Val Acc: 89.15%\n",
      "Test accuracy: 91.54%\n",
      "Test Recall: 83.38%\n",
      "Test Precision: 83.38%\n"
     ]
    },
    {
     "name": "stderr",
     "output_type": "stream",
     "text": [
      "2024/09/25 01:37:04 WARNING mlflow.models.model: Input example should be provided to infer model signature if the model signature is not provided when logging the model.\n"
     ]
    },
    {
     "name": "stdout",
     "output_type": "stream",
     "text": [
      "1017\n"
     ]
    },
    {
     "name": "stderr",
     "output_type": "stream",
     "text": [
      "/home/azureuser/rumour-detection-pheme/utils.py:322: SettingWithCopyWarning: \n",
      "A value is trying to be set on a copy of a slice from a DataFrame.\n",
      "Try using .loc[row_indexer,col_indexer] = value instead\n",
      "\n",
      "See the caveats in the documentation: https://pandas.pydata.org/pandas-docs/stable/user_guide/indexing.html#returning-a-view-versus-a-copy\n",
      "  reply_features[['reply_followers','time_diff']] = scaler.fit_transform(reply_features[['reply_followers','time_diff']])\n"
     ]
    },
    {
     "name": "stdout",
     "output_type": "stream",
     "text": [
      "0\n",
      "Epoch:   0 | Train Loss: 0.6976 | Train Acc: 80.13% | Val Acc: 76.74%\n",
      "100\n",
      "Epoch: 100 | Train Loss: 0.2635 | Train Acc: 90.56% | Val Acc: 87.60%\n",
      "200\n",
      "Epoch: 200 | Train Loss: 0.1156 | Train Acc: 96.19% | Val Acc: 89.92%\n",
      "300\n",
      "Epoch: 300 | Train Loss: 0.0433 | Train Acc: 99.50% | Val Acc: 91.47%\n",
      "Test accuracy: 90.00%\n",
      "Test Recall: 86.77%\n",
      "Test Precision: 86.77%\n"
     ]
    },
    {
     "name": "stderr",
     "output_type": "stream",
     "text": [
      "2024/09/25 01:37:20 WARNING mlflow.models.model: Input example should be provided to infer model signature if the model signature is not provided when logging the model.\n"
     ]
    },
    {
     "name": "stdout",
     "output_type": "stream",
     "text": [
      "1027\n"
     ]
    },
    {
     "name": "stderr",
     "output_type": "stream",
     "text": [
      "/home/azureuser/rumour-detection-pheme/utils.py:322: SettingWithCopyWarning: \n",
      "A value is trying to be set on a copy of a slice from a DataFrame.\n",
      "Try using .loc[row_indexer,col_indexer] = value instead\n",
      "\n",
      "See the caveats in the documentation: https://pandas.pydata.org/pandas-docs/stable/user_guide/indexing.html#returning-a-view-versus-a-copy\n",
      "  reply_features[['reply_followers','time_diff']] = scaler.fit_transform(reply_features[['reply_followers','time_diff']])\n"
     ]
    },
    {
     "name": "stdout",
     "output_type": "stream",
     "text": [
      "0\n",
      "Epoch:   0 | Train Loss: 0.7448 | Train Acc: 76.66% | Val Acc: 71.32%\n",
      "100\n",
      "Epoch: 100 | Train Loss: 0.2596 | Train Acc: 89.57% | Val Acc: 86.05%\n",
      "200\n",
      "Epoch: 200 | Train Loss: 0.1505 | Train Acc: 94.21% | Val Acc: 87.60%\n",
      "300\n",
      "Epoch: 300 | Train Loss: 0.1127 | Train Acc: 96.52% | Val Acc: 86.82%\n",
      "Test accuracy: 89.23%\n",
      "Test Recall: 81.05%\n",
      "Test Precision: 83.78%\n"
     ]
    },
    {
     "name": "stderr",
     "output_type": "stream",
     "text": [
      "2024/09/25 01:37:36 WARNING mlflow.models.model: Input example should be provided to infer model signature if the model signature is not provided when logging the model.\n"
     ]
    },
    {
     "name": "stdout",
     "output_type": "stream",
     "text": [
      "1037\n"
     ]
    },
    {
     "name": "stderr",
     "output_type": "stream",
     "text": [
      "/home/azureuser/rumour-detection-pheme/utils.py:322: SettingWithCopyWarning: \n",
      "A value is trying to be set on a copy of a slice from a DataFrame.\n",
      "Try using .loc[row_indexer,col_indexer] = value instead\n",
      "\n",
      "See the caveats in the documentation: https://pandas.pydata.org/pandas-docs/stable/user_guide/indexing.html#returning-a-view-versus-a-copy\n",
      "  reply_features[['reply_followers','time_diff']] = scaler.fit_transform(reply_features[['reply_followers','time_diff']])\n"
     ]
    },
    {
     "name": "stdout",
     "output_type": "stream",
     "text": [
      "0\n",
      "Epoch:   0 | Train Loss: 0.7678 | Train Acc: 80.46% | Val Acc: 80.62%\n",
      "100\n",
      "Epoch: 100 | Train Loss: 0.2448 | Train Acc: 90.56% | Val Acc: 86.05%\n",
      "200\n",
      "Epoch: 200 | Train Loss: 0.1068 | Train Acc: 97.19% | Val Acc: 84.50%\n",
      "300\n",
      "Epoch: 300 | Train Loss: 0.0402 | Train Acc: 99.34% | Val Acc: 85.27%\n",
      "Test accuracy: 94.62%\n",
      "Test Recall: 84.76%\n",
      "Test Precision: 82.65%\n"
     ]
    },
    {
     "name": "stderr",
     "output_type": "stream",
     "text": [
      "2024/09/25 01:37:53 WARNING mlflow.models.model: Input example should be provided to infer model signature if the model signature is not provided when logging the model.\n"
     ]
    },
    {
     "name": "stdout",
     "output_type": "stream",
     "text": [
      "1047\n"
     ]
    },
    {
     "name": "stderr",
     "output_type": "stream",
     "text": [
      "/home/azureuser/rumour-detection-pheme/utils.py:322: SettingWithCopyWarning: \n",
      "A value is trying to be set on a copy of a slice from a DataFrame.\n",
      "Try using .loc[row_indexer,col_indexer] = value instead\n",
      "\n",
      "See the caveats in the documentation: https://pandas.pydata.org/pandas-docs/stable/user_guide/indexing.html#returning-a-view-versus-a-copy\n",
      "  reply_features[['reply_followers','time_diff']] = scaler.fit_transform(reply_features[['reply_followers','time_diff']])\n"
     ]
    },
    {
     "name": "stdout",
     "output_type": "stream",
     "text": [
      "0\n",
      "Epoch:   0 | Train Loss: 1.4641 | Train Acc: 20.03% | Val Acc: 20.93%\n",
      "100\n",
      "Epoch: 100 | Train Loss: 0.3236 | Train Acc: 86.59% | Val Acc: 86.82%\n",
      "200\n",
      "Epoch: 200 | Train Loss: 0.1804 | Train Acc: 92.72% | Val Acc: 91.47%\n",
      "300\n",
      "Epoch: 300 | Train Loss: 0.1067 | Train Acc: 96.85% | Val Acc: 92.25%\n",
      "Test accuracy: 93.85%\n",
      "Test Recall: 85.17%\n",
      "Test Precision: 85.83%\n"
     ]
    },
    {
     "name": "stderr",
     "output_type": "stream",
     "text": [
      "2024/09/25 01:38:10 WARNING mlflow.models.model: Input example should be provided to infer model signature if the model signature is not provided when logging the model.\n"
     ]
    },
    {
     "name": "stdout",
     "output_type": "stream",
     "text": [
      "1057\n"
     ]
    },
    {
     "name": "stderr",
     "output_type": "stream",
     "text": [
      "/home/azureuser/rumour-detection-pheme/utils.py:322: SettingWithCopyWarning: \n",
      "A value is trying to be set on a copy of a slice from a DataFrame.\n",
      "Try using .loc[row_indexer,col_indexer] = value instead\n",
      "\n",
      "See the caveats in the documentation: https://pandas.pydata.org/pandas-docs/stable/user_guide/indexing.html#returning-a-view-versus-a-copy\n",
      "  reply_features[['reply_followers','time_diff']] = scaler.fit_transform(reply_features[['reply_followers','time_diff']])\n"
     ]
    },
    {
     "name": "stdout",
     "output_type": "stream",
     "text": [
      "0\n",
      "Epoch:   0 | Train Loss: 0.6267 | Train Acc: 81.79% | Val Acc: 74.42%\n",
      "100\n",
      "Epoch: 100 | Train Loss: 0.2231 | Train Acc: 91.39% | Val Acc: 84.50%\n",
      "200\n",
      "Epoch: 200 | Train Loss: 0.1105 | Train Acc: 96.19% | Val Acc: 88.37%\n",
      "300\n",
      "Epoch: 300 | Train Loss: 0.0547 | Train Acc: 98.51% | Val Acc: 88.37%\n",
      "Test accuracy: 90.00%\n",
      "Test Recall: 82.75%\n",
      "Test Precision: 84.06%\n"
     ]
    },
    {
     "name": "stderr",
     "output_type": "stream",
     "text": [
      "2024/09/25 01:38:27 WARNING mlflow.models.model: Input example should be provided to infer model signature if the model signature is not provided when logging the model.\n"
     ]
    },
    {
     "name": "stdout",
     "output_type": "stream",
     "text": [
      "1067\n"
     ]
    },
    {
     "name": "stderr",
     "output_type": "stream",
     "text": [
      "/home/azureuser/rumour-detection-pheme/utils.py:322: SettingWithCopyWarning: \n",
      "A value is trying to be set on a copy of a slice from a DataFrame.\n",
      "Try using .loc[row_indexer,col_indexer] = value instead\n",
      "\n",
      "See the caveats in the documentation: https://pandas.pydata.org/pandas-docs/stable/user_guide/indexing.html#returning-a-view-versus-a-copy\n",
      "  reply_features[['reply_followers','time_diff']] = scaler.fit_transform(reply_features[['reply_followers','time_diff']])\n"
     ]
    },
    {
     "name": "stdout",
     "output_type": "stream",
     "text": [
      "0\n",
      "Epoch:   0 | Train Loss: 0.7792 | Train Acc: 78.48% | Val Acc: 70.54%\n",
      "100\n",
      "Epoch: 100 | Train Loss: 0.2510 | Train Acc: 89.40% | Val Acc: 87.60%\n",
      "200\n",
      "Epoch: 200 | Train Loss: 0.1508 | Train Acc: 95.20% | Val Acc: 90.70%\n",
      "300\n",
      "Epoch: 300 | Train Loss: 0.0576 | Train Acc: 98.68% | Val Acc: 93.02%\n",
      "Test accuracy: 88.46%\n",
      "Test Recall: 85.35%\n",
      "Test Precision: 85.35%\n"
     ]
    },
    {
     "name": "stderr",
     "output_type": "stream",
     "text": [
      "2024/09/25 01:38:43 WARNING mlflow.models.model: Input example should be provided to infer model signature if the model signature is not provided when logging the model.\n"
     ]
    },
    {
     "name": "stdout",
     "output_type": "stream",
     "text": [
      "1077\n"
     ]
    },
    {
     "name": "stderr",
     "output_type": "stream",
     "text": [
      "/home/azureuser/rumour-detection-pheme/utils.py:322: SettingWithCopyWarning: \n",
      "A value is trying to be set on a copy of a slice from a DataFrame.\n",
      "Try using .loc[row_indexer,col_indexer] = value instead\n",
      "\n",
      "See the caveats in the documentation: https://pandas.pydata.org/pandas-docs/stable/user_guide/indexing.html#returning-a-view-versus-a-copy\n",
      "  reply_features[['reply_followers','time_diff']] = scaler.fit_transform(reply_features[['reply_followers','time_diff']])\n"
     ]
    },
    {
     "name": "stdout",
     "output_type": "stream",
     "text": [
      "0\n",
      "Epoch:   0 | Train Loss: 0.8106 | Train Acc: 68.87% | Val Acc: 65.12%\n",
      "100\n",
      "Epoch: 100 | Train Loss: 0.2313 | Train Acc: 90.07% | Val Acc: 90.70%\n",
      "200\n",
      "Epoch: 200 | Train Loss: 0.1178 | Train Acc: 96.69% | Val Acc: 91.47%\n",
      "300\n",
      "Epoch: 300 | Train Loss: 0.0398 | Train Acc: 99.17% | Val Acc: 92.25%\n",
      "Test accuracy: 86.15%\n",
      "Test Recall: 82.20%\n",
      "Test Precision: 82.67%\n"
     ]
    },
    {
     "name": "stderr",
     "output_type": "stream",
     "text": [
      "2024/09/25 01:39:01 WARNING mlflow.models.model: Input example should be provided to infer model signature if the model signature is not provided when logging the model.\n"
     ]
    },
    {
     "name": "stdout",
     "output_type": "stream",
     "text": [
      "1087\n"
     ]
    },
    {
     "name": "stderr",
     "output_type": "stream",
     "text": [
      "/home/azureuser/rumour-detection-pheme/utils.py:322: SettingWithCopyWarning: \n",
      "A value is trying to be set on a copy of a slice from a DataFrame.\n",
      "Try using .loc[row_indexer,col_indexer] = value instead\n",
      "\n",
      "See the caveats in the documentation: https://pandas.pydata.org/pandas-docs/stable/user_guide/indexing.html#returning-a-view-versus-a-copy\n",
      "  reply_features[['reply_followers','time_diff']] = scaler.fit_transform(reply_features[['reply_followers','time_diff']])\n"
     ]
    },
    {
     "name": "stdout",
     "output_type": "stream",
     "text": [
      "0\n",
      "Epoch:   0 | Train Loss: 0.6468 | Train Acc: 79.97% | Val Acc: 86.05%\n",
      "100\n",
      "Epoch: 100 | Train Loss: 0.2387 | Train Acc: 90.56% | Val Acc: 86.05%\n",
      "200\n",
      "Epoch: 200 | Train Loss: 0.1053 | Train Acc: 96.69% | Val Acc: 90.70%\n"
     ]
    }
   ],
   "source": [
    "#\n",
    "file_path_replies = r\"/home/azureuser/rumour-detection-pheme/replies_charlie_hebdo.pkl\"\n",
    "file_path_posts = r\"/home/azureuser/rumour-detection-pheme/posts_charlie_hebdo.pkl\"\n",
    "\n",
    "for time_cut in range(17,48*60,10):\n",
    "    print(time_cut)\n",
    "    processor = HeteroDataProcessorFilterNode(file_path_replies, file_path_posts, time_cut)\n",
    "    data = processor.process()\n",
    "\n",
    "    model = GAT(dim_h=64, dim_out=2)\n",
    "    model = to_hetero(model, data.metadata(), aggr='sum')\n",
    "    \n",
    "    optimizer = torch.optim.Adam(model.parameters(), lr=0.001)\n",
    "    device = torch.device('cuda' if torch.cuda.is_available() else 'cpu')\n",
    "    data, model = data.to(device), model.to(device)\n",
    "   \n",
    "    with mlflow.start_run():\n",
    "\n",
    "        for epoch in range(400):\n",
    "            model.train()\n",
    "            optimizer.zero_grad()\n",
    "            out = model(data.x_dict, data.edge_index_dict)['id']\n",
    "            mask = data['id'].train_mask\n",
    "            loss = F.cross_entropy(out[mask], data['id'].y[mask])\n",
    "            loss.backward()\n",
    "            optimizer.step()\n",
    "            \n",
    "            if epoch % 100 == 0:\n",
    "                print(epoch)\n",
    "                train_acc = test(data['id'].train_mask)\n",
    "                val_acc = test(data['id'].val_mask)\n",
    "                print(f'Epoch: {epoch:>3} | Train Loss: {loss:.4f} | Train Acc: {train_acc*100:.2f}% | Val Acc: {val_acc*100:.2f}%')\n",
    "\n",
    "            \n",
    "        test_acc = test(data['id'].test_mask)\n",
    "        print(f'Test accuracy: {test_acc*100:.2f}%')\n",
    "\n",
    "        test_mask = data['id'].test_mask | data['id'].val_mask\n",
    "        pred = model(data.x_dict, data.edge_index_dict)['id'].argmax(dim=-1)\n",
    "        true_labels = data['id'].y[test_mask]\n",
    "        pred_labels = pred[test_mask]\n",
    "        test_precision =precision_score(true_labels, pred_labels, average='macro')\n",
    "        test_recall=recall_score(true_labels, pred_labels, average='macro')\n",
    "        print(f'Test Recall: {test_recall*100:.2f}%')\n",
    "        print(f'Test Precision: {test_precision*100:.2f}%')\n",
    "\n",
    "        mlflow.log_metric(\"train_loss\", loss.item(), step=epoch)\n",
    "        mlflow.log_metric(\"train_acc\", train_acc, step=epoch)\n",
    "        mlflow.log_metric(\"val_acc\", val_acc, step=epoch)\n",
    "        mlflow.log_metric(\"test_acc\", test_acc)\n",
    "        mlflow.log_metric(\"test_precision\",  test_precision)\n",
    "        mlflow.log_metric(\"test_recall\",  test_recall)\n",
    "\n",
    "            \n",
    "        mlflow.log_param(\"dim_h\", 64)\n",
    "        mlflow.log_param(\"dim_out\", 2)\n",
    "        mlflow.log_param(\"learning_rate\", 0.001)\n",
    "        mlflow.log_param(\"epochs\", 400)\n",
    "        mlflow.log_metric(\"time_cut\", time_cut)\n",
    "\n",
    "\n",
    "\n",
    "        \n",
    "            \n",
    "        mlflow.pytorch.log_model(model, f\"GAT_model_{time_cut}\")\n"
   ]
  },
  {
   "cell_type": "code",
   "execution_count": 7,
   "id": "7820ab0c-884a-428d-a298-8e743e90e7ff",
   "metadata": {},
   "outputs": [
    {
     "name": "stderr",
     "output_type": "stream",
     "text": [
      "WARNING:root:Malformed experiment '6'. Detailed error Yaml file '/home/azureuser/rumour-detection-pheme/mlruns/6/meta.yaml' does not exist.\n",
      "Traceback (most recent call last):\n",
      "  File \"/home/azureuser/miniconda3/envs/mastering/lib/python3.12/site-packages/mlflow/store/tracking/file_store.py\", line 317, in search_experiments\n",
      "    exp = self._get_experiment(exp_id, view_type)\n",
      "          ^^^^^^^^^^^^^^^^^^^^^^^^^^^^^^^^^^^^^^^\n",
      "  File \"/home/azureuser/miniconda3/envs/mastering/lib/python3.12/site-packages/mlflow/store/tracking/file_store.py\", line 410, in _get_experiment\n",
      "    meta = FileStore._read_yaml(experiment_dir, FileStore.META_DATA_FILE_NAME)\n",
      "           ^^^^^^^^^^^^^^^^^^^^^^^^^^^^^^^^^^^^^^^^^^^^^^^^^^^^^^^^^^^^^^^^^^^\n",
      "  File \"/home/azureuser/miniconda3/envs/mastering/lib/python3.12/site-packages/mlflow/store/tracking/file_store.py\", line 1341, in _read_yaml\n",
      "    return _read_helper(root, file_name, attempts_remaining=retries)\n",
      "           ^^^^^^^^^^^^^^^^^^^^^^^^^^^^^^^^^^^^^^^^^^^^^^^^^^^^^^^^^\n",
      "  File \"/home/azureuser/miniconda3/envs/mastering/lib/python3.12/site-packages/mlflow/store/tracking/file_store.py\", line 1334, in _read_helper\n",
      "    result = read_yaml(root, file_name)\n",
      "             ^^^^^^^^^^^^^^^^^^^^^^^^^^\n",
      "  File \"/home/azureuser/miniconda3/envs/mastering/lib/python3.12/site-packages/mlflow/utils/file_utils.py\", line 309, in read_yaml\n",
      "    raise MissingConfigException(f\"Yaml file '{file_path}' does not exist.\")\n",
      "mlflow.exceptions.MissingConfigException: Yaml file '/home/azureuser/rumour-detection-pheme/mlruns/6/meta.yaml' does not exist.\n",
      "WARNING:root:Malformed experiment '7'. Detailed error Yaml file '/home/azureuser/rumour-detection-pheme/mlruns/7/meta.yaml' does not exist.\n",
      "Traceback (most recent call last):\n",
      "  File \"/home/azureuser/miniconda3/envs/mastering/lib/python3.12/site-packages/mlflow/store/tracking/file_store.py\", line 317, in search_experiments\n",
      "    exp = self._get_experiment(exp_id, view_type)\n",
      "          ^^^^^^^^^^^^^^^^^^^^^^^^^^^^^^^^^^^^^^^\n",
      "  File \"/home/azureuser/miniconda3/envs/mastering/lib/python3.12/site-packages/mlflow/store/tracking/file_store.py\", line 410, in _get_experiment\n",
      "    meta = FileStore._read_yaml(experiment_dir, FileStore.META_DATA_FILE_NAME)\n",
      "           ^^^^^^^^^^^^^^^^^^^^^^^^^^^^^^^^^^^^^^^^^^^^^^^^^^^^^^^^^^^^^^^^^^^\n",
      "  File \"/home/azureuser/miniconda3/envs/mastering/lib/python3.12/site-packages/mlflow/store/tracking/file_store.py\", line 1341, in _read_yaml\n",
      "    return _read_helper(root, file_name, attempts_remaining=retries)\n",
      "           ^^^^^^^^^^^^^^^^^^^^^^^^^^^^^^^^^^^^^^^^^^^^^^^^^^^^^^^^^\n",
      "  File \"/home/azureuser/miniconda3/envs/mastering/lib/python3.12/site-packages/mlflow/store/tracking/file_store.py\", line 1334, in _read_helper\n",
      "    result = read_yaml(root, file_name)\n",
      "             ^^^^^^^^^^^^^^^^^^^^^^^^^^\n",
      "  File \"/home/azureuser/miniconda3/envs/mastering/lib/python3.12/site-packages/mlflow/utils/file_utils.py\", line 309, in read_yaml\n",
      "    raise MissingConfigException(f\"Yaml file '{file_path}' does not exist.\")\n",
      "mlflow.exceptions.MissingConfigException: Yaml file '/home/azureuser/rumour-detection-pheme/mlruns/7/meta.yaml' does not exist.\n",
      "WARNING:root:Malformed experiment '16'. Detailed error Yaml file '/home/azureuser/rumour-detection-pheme/mlruns/16/meta.yaml' does not exist.\n",
      "Traceback (most recent call last):\n",
      "  File \"/home/azureuser/miniconda3/envs/mastering/lib/python3.12/site-packages/mlflow/store/tracking/file_store.py\", line 317, in search_experiments\n",
      "    exp = self._get_experiment(exp_id, view_type)\n",
      "          ^^^^^^^^^^^^^^^^^^^^^^^^^^^^^^^^^^^^^^^\n",
      "  File \"/home/azureuser/miniconda3/envs/mastering/lib/python3.12/site-packages/mlflow/store/tracking/file_store.py\", line 410, in _get_experiment\n",
      "    meta = FileStore._read_yaml(experiment_dir, FileStore.META_DATA_FILE_NAME)\n",
      "           ^^^^^^^^^^^^^^^^^^^^^^^^^^^^^^^^^^^^^^^^^^^^^^^^^^^^^^^^^^^^^^^^^^^\n",
      "  File \"/home/azureuser/miniconda3/envs/mastering/lib/python3.12/site-packages/mlflow/store/tracking/file_store.py\", line 1341, in _read_yaml\n",
      "    return _read_helper(root, file_name, attempts_remaining=retries)\n",
      "           ^^^^^^^^^^^^^^^^^^^^^^^^^^^^^^^^^^^^^^^^^^^^^^^^^^^^^^^^^\n",
      "  File \"/home/azureuser/miniconda3/envs/mastering/lib/python3.12/site-packages/mlflow/store/tracking/file_store.py\", line 1334, in _read_helper\n",
      "    result = read_yaml(root, file_name)\n",
      "             ^^^^^^^^^^^^^^^^^^^^^^^^^^\n",
      "  File \"/home/azureuser/miniconda3/envs/mastering/lib/python3.12/site-packages/mlflow/utils/file_utils.py\", line 309, in read_yaml\n",
      "    raise MissingConfigException(f\"Yaml file '{file_path}' does not exist.\")\n",
      "mlflow.exceptions.MissingConfigException: Yaml file '/home/azureuser/rumour-detection-pheme/mlruns/16/meta.yaml' does not exist.\n",
      "WARNING:root:Malformed experiment '5'. Detailed error Yaml file '/home/azureuser/rumour-detection-pheme/mlruns/5/meta.yaml' does not exist.\n",
      "Traceback (most recent call last):\n",
      "  File \"/home/azureuser/miniconda3/envs/mastering/lib/python3.12/site-packages/mlflow/store/tracking/file_store.py\", line 317, in search_experiments\n",
      "    exp = self._get_experiment(exp_id, view_type)\n",
      "          ^^^^^^^^^^^^^^^^^^^^^^^^^^^^^^^^^^^^^^^\n",
      "  File \"/home/azureuser/miniconda3/envs/mastering/lib/python3.12/site-packages/mlflow/store/tracking/file_store.py\", line 410, in _get_experiment\n",
      "    meta = FileStore._read_yaml(experiment_dir, FileStore.META_DATA_FILE_NAME)\n",
      "           ^^^^^^^^^^^^^^^^^^^^^^^^^^^^^^^^^^^^^^^^^^^^^^^^^^^^^^^^^^^^^^^^^^^\n",
      "  File \"/home/azureuser/miniconda3/envs/mastering/lib/python3.12/site-packages/mlflow/store/tracking/file_store.py\", line 1341, in _read_yaml\n",
      "    return _read_helper(root, file_name, attempts_remaining=retries)\n",
      "           ^^^^^^^^^^^^^^^^^^^^^^^^^^^^^^^^^^^^^^^^^^^^^^^^^^^^^^^^^\n",
      "  File \"/home/azureuser/miniconda3/envs/mastering/lib/python3.12/site-packages/mlflow/store/tracking/file_store.py\", line 1334, in _read_helper\n",
      "    result = read_yaml(root, file_name)\n",
      "             ^^^^^^^^^^^^^^^^^^^^^^^^^^\n",
      "  File \"/home/azureuser/miniconda3/envs/mastering/lib/python3.12/site-packages/mlflow/utils/file_utils.py\", line 309, in read_yaml\n",
      "    raise MissingConfigException(f\"Yaml file '{file_path}' does not exist.\")\n",
      "mlflow.exceptions.MissingConfigException: Yaml file '/home/azureuser/rumour-detection-pheme/mlruns/5/meta.yaml' does not exist.\n",
      "WARNING:root:Malformed experiment '12'. Detailed error Yaml file '/home/azureuser/rumour-detection-pheme/mlruns/12/meta.yaml' does not exist.\n",
      "Traceback (most recent call last):\n",
      "  File \"/home/azureuser/miniconda3/envs/mastering/lib/python3.12/site-packages/mlflow/store/tracking/file_store.py\", line 317, in search_experiments\n",
      "    exp = self._get_experiment(exp_id, view_type)\n",
      "          ^^^^^^^^^^^^^^^^^^^^^^^^^^^^^^^^^^^^^^^\n",
      "  File \"/home/azureuser/miniconda3/envs/mastering/lib/python3.12/site-packages/mlflow/store/tracking/file_store.py\", line 410, in _get_experiment\n",
      "    meta = FileStore._read_yaml(experiment_dir, FileStore.META_DATA_FILE_NAME)\n",
      "           ^^^^^^^^^^^^^^^^^^^^^^^^^^^^^^^^^^^^^^^^^^^^^^^^^^^^^^^^^^^^^^^^^^^\n",
      "  File \"/home/azureuser/miniconda3/envs/mastering/lib/python3.12/site-packages/mlflow/store/tracking/file_store.py\", line 1341, in _read_yaml\n",
      "    return _read_helper(root, file_name, attempts_remaining=retries)\n",
      "           ^^^^^^^^^^^^^^^^^^^^^^^^^^^^^^^^^^^^^^^^^^^^^^^^^^^^^^^^^\n",
      "  File \"/home/azureuser/miniconda3/envs/mastering/lib/python3.12/site-packages/mlflow/store/tracking/file_store.py\", line 1334, in _read_helper\n",
      "    result = read_yaml(root, file_name)\n",
      "             ^^^^^^^^^^^^^^^^^^^^^^^^^^\n",
      "  File \"/home/azureuser/miniconda3/envs/mastering/lib/python3.12/site-packages/mlflow/utils/file_utils.py\", line 309, in read_yaml\n",
      "    raise MissingConfigException(f\"Yaml file '{file_path}' does not exist.\")\n",
      "mlflow.exceptions.MissingConfigException: Yaml file '/home/azureuser/rumour-detection-pheme/mlruns/12/meta.yaml' does not exist.\n",
      "WARNING:root:Malformed experiment '9'. Detailed error Yaml file '/home/azureuser/rumour-detection-pheme/mlruns/9/meta.yaml' does not exist.\n",
      "Traceback (most recent call last):\n",
      "  File \"/home/azureuser/miniconda3/envs/mastering/lib/python3.12/site-packages/mlflow/store/tracking/file_store.py\", line 317, in search_experiments\n",
      "    exp = self._get_experiment(exp_id, view_type)\n",
      "          ^^^^^^^^^^^^^^^^^^^^^^^^^^^^^^^^^^^^^^^\n",
      "  File \"/home/azureuser/miniconda3/envs/mastering/lib/python3.12/site-packages/mlflow/store/tracking/file_store.py\", line 410, in _get_experiment\n",
      "    meta = FileStore._read_yaml(experiment_dir, FileStore.META_DATA_FILE_NAME)\n",
      "           ^^^^^^^^^^^^^^^^^^^^^^^^^^^^^^^^^^^^^^^^^^^^^^^^^^^^^^^^^^^^^^^^^^^\n",
      "  File \"/home/azureuser/miniconda3/envs/mastering/lib/python3.12/site-packages/mlflow/store/tracking/file_store.py\", line 1341, in _read_yaml\n",
      "    return _read_helper(root, file_name, attempts_remaining=retries)\n",
      "           ^^^^^^^^^^^^^^^^^^^^^^^^^^^^^^^^^^^^^^^^^^^^^^^^^^^^^^^^^\n",
      "  File \"/home/azureuser/miniconda3/envs/mastering/lib/python3.12/site-packages/mlflow/store/tracking/file_store.py\", line 1334, in _read_helper\n",
      "    result = read_yaml(root, file_name)\n",
      "             ^^^^^^^^^^^^^^^^^^^^^^^^^^\n",
      "  File \"/home/azureuser/miniconda3/envs/mastering/lib/python3.12/site-packages/mlflow/utils/file_utils.py\", line 309, in read_yaml\n",
      "    raise MissingConfigException(f\"Yaml file '{file_path}' does not exist.\")\n",
      "mlflow.exceptions.MissingConfigException: Yaml file '/home/azureuser/rumour-detection-pheme/mlruns/9/meta.yaml' does not exist.\n",
      "WARNING:root:Malformed experiment '15'. Detailed error Yaml file '/home/azureuser/rumour-detection-pheme/mlruns/15/meta.yaml' does not exist.\n",
      "Traceback (most recent call last):\n",
      "  File \"/home/azureuser/miniconda3/envs/mastering/lib/python3.12/site-packages/mlflow/store/tracking/file_store.py\", line 317, in search_experiments\n",
      "    exp = self._get_experiment(exp_id, view_type)\n",
      "          ^^^^^^^^^^^^^^^^^^^^^^^^^^^^^^^^^^^^^^^\n",
      "  File \"/home/azureuser/miniconda3/envs/mastering/lib/python3.12/site-packages/mlflow/store/tracking/file_store.py\", line 410, in _get_experiment\n",
      "    meta = FileStore._read_yaml(experiment_dir, FileStore.META_DATA_FILE_NAME)\n",
      "           ^^^^^^^^^^^^^^^^^^^^^^^^^^^^^^^^^^^^^^^^^^^^^^^^^^^^^^^^^^^^^^^^^^^\n",
      "  File \"/home/azureuser/miniconda3/envs/mastering/lib/python3.12/site-packages/mlflow/store/tracking/file_store.py\", line 1341, in _read_yaml\n",
      "    return _read_helper(root, file_name, attempts_remaining=retries)\n",
      "           ^^^^^^^^^^^^^^^^^^^^^^^^^^^^^^^^^^^^^^^^^^^^^^^^^^^^^^^^^\n",
      "  File \"/home/azureuser/miniconda3/envs/mastering/lib/python3.12/site-packages/mlflow/store/tracking/file_store.py\", line 1334, in _read_helper\n",
      "    result = read_yaml(root, file_name)\n",
      "             ^^^^^^^^^^^^^^^^^^^^^^^^^^\n",
      "  File \"/home/azureuser/miniconda3/envs/mastering/lib/python3.12/site-packages/mlflow/utils/file_utils.py\", line 309, in read_yaml\n",
      "    raise MissingConfigException(f\"Yaml file '{file_path}' does not exist.\")\n",
      "mlflow.exceptions.MissingConfigException: Yaml file '/home/azureuser/rumour-detection-pheme/mlruns/15/meta.yaml' does not exist.\n",
      "WARNING:root:Malformed experiment '14'. Detailed error Yaml file '/home/azureuser/rumour-detection-pheme/mlruns/14/meta.yaml' does not exist.\n",
      "Traceback (most recent call last):\n",
      "  File \"/home/azureuser/miniconda3/envs/mastering/lib/python3.12/site-packages/mlflow/store/tracking/file_store.py\", line 317, in search_experiments\n",
      "    exp = self._get_experiment(exp_id, view_type)\n",
      "          ^^^^^^^^^^^^^^^^^^^^^^^^^^^^^^^^^^^^^^^\n",
      "  File \"/home/azureuser/miniconda3/envs/mastering/lib/python3.12/site-packages/mlflow/store/tracking/file_store.py\", line 410, in _get_experiment\n",
      "    meta = FileStore._read_yaml(experiment_dir, FileStore.META_DATA_FILE_NAME)\n",
      "           ^^^^^^^^^^^^^^^^^^^^^^^^^^^^^^^^^^^^^^^^^^^^^^^^^^^^^^^^^^^^^^^^^^^\n",
      "  File \"/home/azureuser/miniconda3/envs/mastering/lib/python3.12/site-packages/mlflow/store/tracking/file_store.py\", line 1341, in _read_yaml\n",
      "    return _read_helper(root, file_name, attempts_remaining=retries)\n",
      "           ^^^^^^^^^^^^^^^^^^^^^^^^^^^^^^^^^^^^^^^^^^^^^^^^^^^^^^^^^\n",
      "  File \"/home/azureuser/miniconda3/envs/mastering/lib/python3.12/site-packages/mlflow/store/tracking/file_store.py\", line 1334, in _read_helper\n",
      "    result = read_yaml(root, file_name)\n",
      "             ^^^^^^^^^^^^^^^^^^^^^^^^^^\n",
      "  File \"/home/azureuser/miniconda3/envs/mastering/lib/python3.12/site-packages/mlflow/utils/file_utils.py\", line 309, in read_yaml\n",
      "    raise MissingConfigException(f\"Yaml file '{file_path}' does not exist.\")\n",
      "mlflow.exceptions.MissingConfigException: Yaml file '/home/azureuser/rumour-detection-pheme/mlruns/14/meta.yaml' does not exist.\n",
      "WARNING:root:Malformed experiment '19'. Detailed error Yaml file '/home/azureuser/rumour-detection-pheme/mlruns/19/meta.yaml' does not exist.\n",
      "Traceback (most recent call last):\n",
      "  File \"/home/azureuser/miniconda3/envs/mastering/lib/python3.12/site-packages/mlflow/store/tracking/file_store.py\", line 317, in search_experiments\n",
      "    exp = self._get_experiment(exp_id, view_type)\n",
      "          ^^^^^^^^^^^^^^^^^^^^^^^^^^^^^^^^^^^^^^^\n",
      "  File \"/home/azureuser/miniconda3/envs/mastering/lib/python3.12/site-packages/mlflow/store/tracking/file_store.py\", line 410, in _get_experiment\n",
      "    meta = FileStore._read_yaml(experiment_dir, FileStore.META_DATA_FILE_NAME)\n",
      "           ^^^^^^^^^^^^^^^^^^^^^^^^^^^^^^^^^^^^^^^^^^^^^^^^^^^^^^^^^^^^^^^^^^^\n",
      "  File \"/home/azureuser/miniconda3/envs/mastering/lib/python3.12/site-packages/mlflow/store/tracking/file_store.py\", line 1341, in _read_yaml\n",
      "    return _read_helper(root, file_name, attempts_remaining=retries)\n",
      "           ^^^^^^^^^^^^^^^^^^^^^^^^^^^^^^^^^^^^^^^^^^^^^^^^^^^^^^^^^\n",
      "  File \"/home/azureuser/miniconda3/envs/mastering/lib/python3.12/site-packages/mlflow/store/tracking/file_store.py\", line 1334, in _read_helper\n",
      "    result = read_yaml(root, file_name)\n",
      "             ^^^^^^^^^^^^^^^^^^^^^^^^^^\n",
      "  File \"/home/azureuser/miniconda3/envs/mastering/lib/python3.12/site-packages/mlflow/utils/file_utils.py\", line 309, in read_yaml\n",
      "    raise MissingConfigException(f\"Yaml file '{file_path}' does not exist.\")\n",
      "mlflow.exceptions.MissingConfigException: Yaml file '/home/azureuser/rumour-detection-pheme/mlruns/19/meta.yaml' does not exist.\n",
      "WARNING:root:Malformed experiment '4'. Detailed error Yaml file '/home/azureuser/rumour-detection-pheme/mlruns/4/meta.yaml' does not exist.\n",
      "Traceback (most recent call last):\n",
      "  File \"/home/azureuser/miniconda3/envs/mastering/lib/python3.12/site-packages/mlflow/store/tracking/file_store.py\", line 317, in search_experiments\n",
      "    exp = self._get_experiment(exp_id, view_type)\n",
      "          ^^^^^^^^^^^^^^^^^^^^^^^^^^^^^^^^^^^^^^^\n",
      "  File \"/home/azureuser/miniconda3/envs/mastering/lib/python3.12/site-packages/mlflow/store/tracking/file_store.py\", line 410, in _get_experiment\n",
      "    meta = FileStore._read_yaml(experiment_dir, FileStore.META_DATA_FILE_NAME)\n",
      "           ^^^^^^^^^^^^^^^^^^^^^^^^^^^^^^^^^^^^^^^^^^^^^^^^^^^^^^^^^^^^^^^^^^^\n",
      "  File \"/home/azureuser/miniconda3/envs/mastering/lib/python3.12/site-packages/mlflow/store/tracking/file_store.py\", line 1341, in _read_yaml\n",
      "    return _read_helper(root, file_name, attempts_remaining=retries)\n",
      "           ^^^^^^^^^^^^^^^^^^^^^^^^^^^^^^^^^^^^^^^^^^^^^^^^^^^^^^^^^\n",
      "  File \"/home/azureuser/miniconda3/envs/mastering/lib/python3.12/site-packages/mlflow/store/tracking/file_store.py\", line 1334, in _read_helper\n",
      "    result = read_yaml(root, file_name)\n",
      "             ^^^^^^^^^^^^^^^^^^^^^^^^^^\n",
      "  File \"/home/azureuser/miniconda3/envs/mastering/lib/python3.12/site-packages/mlflow/utils/file_utils.py\", line 309, in read_yaml\n",
      "    raise MissingConfigException(f\"Yaml file '{file_path}' does not exist.\")\n",
      "mlflow.exceptions.MissingConfigException: Yaml file '/home/azureuser/rumour-detection-pheme/mlruns/4/meta.yaml' does not exist.\n",
      "WARNING:root:Malformed experiment '13'. Detailed error Yaml file '/home/azureuser/rumour-detection-pheme/mlruns/13/meta.yaml' does not exist.\n",
      "Traceback (most recent call last):\n",
      "  File \"/home/azureuser/miniconda3/envs/mastering/lib/python3.12/site-packages/mlflow/store/tracking/file_store.py\", line 317, in search_experiments\n",
      "    exp = self._get_experiment(exp_id, view_type)\n",
      "          ^^^^^^^^^^^^^^^^^^^^^^^^^^^^^^^^^^^^^^^\n",
      "  File \"/home/azureuser/miniconda3/envs/mastering/lib/python3.12/site-packages/mlflow/store/tracking/file_store.py\", line 410, in _get_experiment\n",
      "    meta = FileStore._read_yaml(experiment_dir, FileStore.META_DATA_FILE_NAME)\n",
      "           ^^^^^^^^^^^^^^^^^^^^^^^^^^^^^^^^^^^^^^^^^^^^^^^^^^^^^^^^^^^^^^^^^^^\n",
      "  File \"/home/azureuser/miniconda3/envs/mastering/lib/python3.12/site-packages/mlflow/store/tracking/file_store.py\", line 1341, in _read_yaml\n",
      "    return _read_helper(root, file_name, attempts_remaining=retries)\n",
      "           ^^^^^^^^^^^^^^^^^^^^^^^^^^^^^^^^^^^^^^^^^^^^^^^^^^^^^^^^^\n",
      "  File \"/home/azureuser/miniconda3/envs/mastering/lib/python3.12/site-packages/mlflow/store/tracking/file_store.py\", line 1334, in _read_helper\n",
      "    result = read_yaml(root, file_name)\n",
      "             ^^^^^^^^^^^^^^^^^^^^^^^^^^\n",
      "  File \"/home/azureuser/miniconda3/envs/mastering/lib/python3.12/site-packages/mlflow/utils/file_utils.py\", line 309, in read_yaml\n",
      "    raise MissingConfigException(f\"Yaml file '{file_path}' does not exist.\")\n",
      "mlflow.exceptions.MissingConfigException: Yaml file '/home/azureuser/rumour-detection-pheme/mlruns/13/meta.yaml' does not exist.\n",
      "WARNING:root:Malformed experiment '11'. Detailed error Yaml file '/home/azureuser/rumour-detection-pheme/mlruns/11/meta.yaml' does not exist.\n",
      "Traceback (most recent call last):\n",
      "  File \"/home/azureuser/miniconda3/envs/mastering/lib/python3.12/site-packages/mlflow/store/tracking/file_store.py\", line 317, in search_experiments\n",
      "    exp = self._get_experiment(exp_id, view_type)\n",
      "          ^^^^^^^^^^^^^^^^^^^^^^^^^^^^^^^^^^^^^^^\n",
      "  File \"/home/azureuser/miniconda3/envs/mastering/lib/python3.12/site-packages/mlflow/store/tracking/file_store.py\", line 410, in _get_experiment\n",
      "    meta = FileStore._read_yaml(experiment_dir, FileStore.META_DATA_FILE_NAME)\n",
      "           ^^^^^^^^^^^^^^^^^^^^^^^^^^^^^^^^^^^^^^^^^^^^^^^^^^^^^^^^^^^^^^^^^^^\n",
      "  File \"/home/azureuser/miniconda3/envs/mastering/lib/python3.12/site-packages/mlflow/store/tracking/file_store.py\", line 1341, in _read_yaml\n",
      "    return _read_helper(root, file_name, attempts_remaining=retries)\n",
      "           ^^^^^^^^^^^^^^^^^^^^^^^^^^^^^^^^^^^^^^^^^^^^^^^^^^^^^^^^^\n",
      "  File \"/home/azureuser/miniconda3/envs/mastering/lib/python3.12/site-packages/mlflow/store/tracking/file_store.py\", line 1334, in _read_helper\n",
      "    result = read_yaml(root, file_name)\n",
      "             ^^^^^^^^^^^^^^^^^^^^^^^^^^\n",
      "  File \"/home/azureuser/miniconda3/envs/mastering/lib/python3.12/site-packages/mlflow/utils/file_utils.py\", line 309, in read_yaml\n",
      "    raise MissingConfigException(f\"Yaml file '{file_path}' does not exist.\")\n",
      "mlflow.exceptions.MissingConfigException: Yaml file '/home/azureuser/rumour-detection-pheme/mlruns/11/meta.yaml' does not exist.\n",
      "WARNING:root:Malformed experiment '10'. Detailed error Yaml file '/home/azureuser/rumour-detection-pheme/mlruns/10/meta.yaml' does not exist.\n",
      "Traceback (most recent call last):\n",
      "  File \"/home/azureuser/miniconda3/envs/mastering/lib/python3.12/site-packages/mlflow/store/tracking/file_store.py\", line 317, in search_experiments\n",
      "    exp = self._get_experiment(exp_id, view_type)\n",
      "          ^^^^^^^^^^^^^^^^^^^^^^^^^^^^^^^^^^^^^^^\n",
      "  File \"/home/azureuser/miniconda3/envs/mastering/lib/python3.12/site-packages/mlflow/store/tracking/file_store.py\", line 410, in _get_experiment\n",
      "    meta = FileStore._read_yaml(experiment_dir, FileStore.META_DATA_FILE_NAME)\n",
      "           ^^^^^^^^^^^^^^^^^^^^^^^^^^^^^^^^^^^^^^^^^^^^^^^^^^^^^^^^^^^^^^^^^^^\n",
      "  File \"/home/azureuser/miniconda3/envs/mastering/lib/python3.12/site-packages/mlflow/store/tracking/file_store.py\", line 1341, in _read_yaml\n",
      "    return _read_helper(root, file_name, attempts_remaining=retries)\n",
      "           ^^^^^^^^^^^^^^^^^^^^^^^^^^^^^^^^^^^^^^^^^^^^^^^^^^^^^^^^^\n",
      "  File \"/home/azureuser/miniconda3/envs/mastering/lib/python3.12/site-packages/mlflow/store/tracking/file_store.py\", line 1334, in _read_helper\n",
      "    result = read_yaml(root, file_name)\n",
      "             ^^^^^^^^^^^^^^^^^^^^^^^^^^\n",
      "  File \"/home/azureuser/miniconda3/envs/mastering/lib/python3.12/site-packages/mlflow/utils/file_utils.py\", line 309, in read_yaml\n",
      "    raise MissingConfigException(f\"Yaml file '{file_path}' does not exist.\")\n",
      "mlflow.exceptions.MissingConfigException: Yaml file '/home/azureuser/rumour-detection-pheme/mlruns/10/meta.yaml' does not exist.\n",
      "WARNING:root:Malformed experiment '17'. Detailed error Yaml file '/home/azureuser/rumour-detection-pheme/mlruns/17/meta.yaml' does not exist.\n",
      "Traceback (most recent call last):\n",
      "  File \"/home/azureuser/miniconda3/envs/mastering/lib/python3.12/site-packages/mlflow/store/tracking/file_store.py\", line 317, in search_experiments\n",
      "    exp = self._get_experiment(exp_id, view_type)\n",
      "          ^^^^^^^^^^^^^^^^^^^^^^^^^^^^^^^^^^^^^^^\n",
      "  File \"/home/azureuser/miniconda3/envs/mastering/lib/python3.12/site-packages/mlflow/store/tracking/file_store.py\", line 410, in _get_experiment\n",
      "    meta = FileStore._read_yaml(experiment_dir, FileStore.META_DATA_FILE_NAME)\n",
      "           ^^^^^^^^^^^^^^^^^^^^^^^^^^^^^^^^^^^^^^^^^^^^^^^^^^^^^^^^^^^^^^^^^^^\n",
      "  File \"/home/azureuser/miniconda3/envs/mastering/lib/python3.12/site-packages/mlflow/store/tracking/file_store.py\", line 1341, in _read_yaml\n",
      "    return _read_helper(root, file_name, attempts_remaining=retries)\n",
      "           ^^^^^^^^^^^^^^^^^^^^^^^^^^^^^^^^^^^^^^^^^^^^^^^^^^^^^^^^^\n",
      "  File \"/home/azureuser/miniconda3/envs/mastering/lib/python3.12/site-packages/mlflow/store/tracking/file_store.py\", line 1334, in _read_helper\n",
      "    result = read_yaml(root, file_name)\n",
      "             ^^^^^^^^^^^^^^^^^^^^^^^^^^\n",
      "  File \"/home/azureuser/miniconda3/envs/mastering/lib/python3.12/site-packages/mlflow/utils/file_utils.py\", line 309, in read_yaml\n",
      "    raise MissingConfigException(f\"Yaml file '{file_path}' does not exist.\")\n",
      "mlflow.exceptions.MissingConfigException: Yaml file '/home/azureuser/rumour-detection-pheme/mlruns/17/meta.yaml' does not exist.\n",
      "WARNING:root:Malformed experiment '18'. Detailed error Yaml file '/home/azureuser/rumour-detection-pheme/mlruns/18/meta.yaml' does not exist.\n",
      "Traceback (most recent call last):\n",
      "  File \"/home/azureuser/miniconda3/envs/mastering/lib/python3.12/site-packages/mlflow/store/tracking/file_store.py\", line 317, in search_experiments\n",
      "    exp = self._get_experiment(exp_id, view_type)\n",
      "          ^^^^^^^^^^^^^^^^^^^^^^^^^^^^^^^^^^^^^^^\n",
      "  File \"/home/azureuser/miniconda3/envs/mastering/lib/python3.12/site-packages/mlflow/store/tracking/file_store.py\", line 410, in _get_experiment\n",
      "    meta = FileStore._read_yaml(experiment_dir, FileStore.META_DATA_FILE_NAME)\n",
      "           ^^^^^^^^^^^^^^^^^^^^^^^^^^^^^^^^^^^^^^^^^^^^^^^^^^^^^^^^^^^^^^^^^^^\n",
      "  File \"/home/azureuser/miniconda3/envs/mastering/lib/python3.12/site-packages/mlflow/store/tracking/file_store.py\", line 1341, in _read_yaml\n",
      "    return _read_helper(root, file_name, attempts_remaining=retries)\n",
      "           ^^^^^^^^^^^^^^^^^^^^^^^^^^^^^^^^^^^^^^^^^^^^^^^^^^^^^^^^^\n",
      "  File \"/home/azureuser/miniconda3/envs/mastering/lib/python3.12/site-packages/mlflow/store/tracking/file_store.py\", line 1334, in _read_helper\n",
      "    result = read_yaml(root, file_name)\n",
      "             ^^^^^^^^^^^^^^^^^^^^^^^^^^\n",
      "  File \"/home/azureuser/miniconda3/envs/mastering/lib/python3.12/site-packages/mlflow/utils/file_utils.py\", line 309, in read_yaml\n",
      "    raise MissingConfigException(f\"Yaml file '{file_path}' does not exist.\")\n",
      "mlflow.exceptions.MissingConfigException: Yaml file '/home/azureuser/rumour-detection-pheme/mlruns/18/meta.yaml' does not exist.\n"
     ]
    },
    {
     "name": "stdout",
     "output_type": "stream",
     "text": [
      "Experiment 'GAT Network 2024-09-23 Filter Node' not found.\n"
     ]
    }
   ],
   "source": [
    "import mlflow\n",
    "\n",
    "# Get the experiment ID or name\n",
    "experiment_name = \"GAT Network 2024-09-23 Filter Node\"  # Replace with your experiment name\n",
    "experiment = mlflow.get_experiment_by_name(experiment_name)\n",
    "\n",
    "if experiment is not None:\n",
    "    experiment_id = experiment.experiment_id\n",
    "\n",
    "    # Retrieve all runs in the experiment as a DataFrame\n",
    "    df = mlflow.search_runs(experiment_ids=[experiment_id])\n",
    "    \n",
    "    # Show the DataFrame\n",
    "    #print(df)\n",
    "else:\n",
    "    print(f\"Experiment '{experiment_name}' not found.\")\n"
   ]
  },
  {
   "cell_type": "code",
   "execution_count": 10,
   "id": "14b0bc12",
   "metadata": {},
   "outputs": [
    {
     "data": {
      "text/plain": [
       "0         NaN\n",
       "1      2015.0\n",
       "2      2000.0\n",
       "3      1985.0\n",
       "4      1970.0\n",
       "        ...  \n",
       "131      65.0\n",
       "132      50.0\n",
       "133      35.0\n",
       "134      20.0\n",
       "135       5.0\n",
       "Name: metrics.time_cut, Length: 136, dtype: float64"
      ]
     },
     "execution_count": 10,
     "metadata": {},
     "output_type": "execute_result"
    }
   ],
   "source": [
    "df['metrics.time_cut']"
   ]
  },
  {
   "cell_type": "code",
   "execution_count": 11,
   "id": "4fb20f59-1fab-47f2-ab74-c2b436c88b00",
   "metadata": {},
   "outputs": [
    {
     "data": {
      "image/png": "[encoded data removed]",
      "text/plain": [
       "<Figure size 1000x600 with 1 Axes>"
      ]
     },
     "metadata": {},
     "output_type": "display_data"
    }
   ],
   "source": [
    "    # Ensure the metrics are numeric\n",
    "import pandas as pd\n",
    "import matplotlib.pyplot as plt\n",
    "import seaborn as sns\n",
    "df['metrics.time_cut'] = pd.to_numeric(df['metrics.time_cut'], errors='coerce')\n",
    "df['metrics.test_recall'] = pd.to_numeric(df['metrics.test_recall'], errors='coerce')\n",
    "    \n",
    "# Plotting time_cut vs. test_accuracy\n",
    "plt.figure(figsize=(10, 6))\n",
    "sns.lineplot(x='metrics.time_cut', y='metrics.test_recall', data=df)\n",
    "plt.title('Time Cut vs. Test Recall')\n",
    "plt.xlabel('Time Cut')\n",
    "plt.ylabel('Test Recall')\n",
    "plt.grid(True)\n",
    "plt.show()"
   ]
  },
  {
   "cell_type": "code",
   "execution_count": 18,
   "id": "cd33f46d",
   "metadata": {},
   "outputs": [
    {
     "data": {
      "text/html": [
       "<div>\n",
       "<style scoped>\n",
       "    .dataframe tbody tr th:only-of-type {\n",
       "        vertical-align: middle;\n",
       "    }\n",
       "\n",
       "    .dataframe tbody tr th {\n",
       "        vertical-align: top;\n",
       "    }\n",
       "\n",
       "    .dataframe thead th {\n",
       "        text-align: right;\n",
       "    }\n",
       "</style>\n",
       "<table border=\"1\" class=\"dataframe\">\n",
       "  <thead>\n",
       "    <tr style=\"text-align: right;\">\n",
       "      <th></th>\n",
       "      <th>metrics.time_cut</th>\n",
       "      <th>metrics.test_recall</th>\n",
       "    </tr>\n",
       "  </thead>\n",
       "  <tbody>\n",
       "    <tr>\n",
       "      <th>135</th>\n",
       "      <td>5.0</td>\n",
       "      <td>0.763326</td>\n",
       "    </tr>\n",
       "    <tr>\n",
       "      <th>134</th>\n",
       "      <td>20.0</td>\n",
       "      <td>0.792002</td>\n",
       "    </tr>\n",
       "    <tr>\n",
       "      <th>133</th>\n",
       "      <td>35.0</td>\n",
       "      <td>0.823692</td>\n",
       "    </tr>\n",
       "    <tr>\n",
       "      <th>132</th>\n",
       "      <td>50.0</td>\n",
       "      <td>0.785647</td>\n",
       "    </tr>\n",
       "    <tr>\n",
       "      <th>131</th>\n",
       "      <td>65.0</td>\n",
       "      <td>0.827647</td>\n",
       "    </tr>\n",
       "    <tr>\n",
       "      <th>130</th>\n",
       "      <td>80.0</td>\n",
       "      <td>0.809197</td>\n",
       "    </tr>\n",
       "    <tr>\n",
       "      <th>129</th>\n",
       "      <td>95.0</td>\n",
       "      <td>0.786748</td>\n",
       "    </tr>\n",
       "    <tr>\n",
       "      <th>128</th>\n",
       "      <td>110.0</td>\n",
       "      <td>0.804933</td>\n",
       "    </tr>\n",
       "    <tr>\n",
       "      <th>127</th>\n",
       "      <td>125.0</td>\n",
       "      <td>0.795032</td>\n",
       "    </tr>\n",
       "    <tr>\n",
       "      <th>126</th>\n",
       "      <td>140.0</td>\n",
       "      <td>0.835259</td>\n",
       "    </tr>\n",
       "    <tr>\n",
       "      <th>125</th>\n",
       "      <td>155.0</td>\n",
       "      <td>0.805190</td>\n",
       "    </tr>\n",
       "    <tr>\n",
       "      <th>124</th>\n",
       "      <td>170.0</td>\n",
       "      <td>0.795675</td>\n",
       "    </tr>\n",
       "    <tr>\n",
       "      <th>123</th>\n",
       "      <td>185.0</td>\n",
       "      <td>0.829134</td>\n",
       "    </tr>\n",
       "    <tr>\n",
       "      <th>122</th>\n",
       "      <td>200.0</td>\n",
       "      <td>0.788430</td>\n",
       "    </tr>\n",
       "    <tr>\n",
       "      <th>121</th>\n",
       "      <td>215.0</td>\n",
       "      <td>0.784522</td>\n",
       "    </tr>\n",
       "    <tr>\n",
       "      <th>120</th>\n",
       "      <td>230.0</td>\n",
       "      <td>0.838073</td>\n",
       "    </tr>\n",
       "    <tr>\n",
       "      <th>119</th>\n",
       "      <td>245.0</td>\n",
       "      <td>0.793485</td>\n",
       "    </tr>\n",
       "    <tr>\n",
       "      <th>118</th>\n",
       "      <td>260.0</td>\n",
       "      <td>0.786667</td>\n",
       "    </tr>\n",
       "    <tr>\n",
       "      <th>117</th>\n",
       "      <td>275.0</td>\n",
       "      <td>0.801714</td>\n",
       "    </tr>\n",
       "    <tr>\n",
       "      <th>116</th>\n",
       "      <td>290.0</td>\n",
       "      <td>0.774906</td>\n",
       "    </tr>\n",
       "  </tbody>\n",
       "</table>\n",
       "</div>"
      ],
      "text/plain": [
       "     metrics.time_cut  metrics.test_recall\n",
       "135               5.0             0.763326\n",
       "134              20.0             0.792002\n",
       "133              35.0             0.823692\n",
       "132              50.0             0.785647\n",
       "131              65.0             0.827647\n",
       "130              80.0             0.809197\n",
       "129              95.0             0.786748\n",
       "128             110.0             0.804933\n",
       "127             125.0             0.795032\n",
       "126             140.0             0.835259\n",
       "125             155.0             0.805190\n",
       "124             170.0             0.795675\n",
       "123             185.0             0.829134\n",
       "122             200.0             0.788430\n",
       "121             215.0             0.784522\n",
       "120             230.0             0.838073\n",
       "119             245.0             0.793485\n",
       "118             260.0             0.786667\n",
       "117             275.0             0.801714\n",
       "116             290.0             0.774906"
      ]
     },
     "execution_count": 18,
     "metadata": {},
     "output_type": "execute_result"
    }
   ],
   "source": [
    "df[['metrics.time_cut','metrics.test_recall']].sort_values(by='metrics.time_cut').head(20)"
   ]
  },
  {
   "cell_type": "code",
   "execution_count": 13,
   "id": "268c350d",
   "metadata": {},
   "outputs": [
    {
     "data": {
      "image/png": "[encoded data removed]",
      "text/plain": [
       "<Figure size 1000x600 with 1 Axes>"
      ]
     },
     "metadata": {},
     "output_type": "display_data"
    }
   ],
   "source": [
    "    # Ensure the metrics are numeric\n",
    "import pandas as pd\n",
    "import matplotlib.pyplot as plt\n",
    "import seaborn as sns\n",
    "df['metrics.time_cut'] = pd.to_numeric(df['metrics.time_cut'], errors='coerce')\n",
    "df['metrics.test_recall'] = pd.to_numeric(df['metrics.test_precision'], errors='coerce')\n",
    "    \n",
    "# Plotting time_cut vs. test_accuracy\n",
    "plt.figure(figsize=(10, 6))\n",
    "sns.lineplot(x='metrics.time_cut', y='metrics.test_precision', data=df)\n",
    "plt.title('Time Cut vs. Test Precison')\n",
    "plt.xlabel('Time Cut')\n",
    "plt.ylabel('Test Recall')\n",
    "plt.grid(True)\n",
    "plt.show()"
   ]
  },
  {
   "cell_type": "code",
   "execution_count": 17,
   "id": "e83e1350",
   "metadata": {},
   "outputs": [
    {
     "name": "stderr",
     "output_type": "stream",
     "text": [
      "2024/09/08 17:21:52 INFO mlflow.tracking.fluent: Experiment with name 'GAT Network 2024-09-08 short time cut' does not exist. Creating a new experiment.\n"
     ]
    },
    {
     "data": {
      "text/plain": [
       "<Experiment: artifact_location='/home/azureuser/rumour-detection-pheme/mlruns/17', creation_time=1725816112710, experiment_id='17', last_update_time=1725816112710, lifecycle_stage='active', name='GAT Network 2024-09-08 short time cut', tags={}>"
      ]
     },
     "execution_count": 17,
     "metadata": {},
     "output_type": "execute_result"
    }
   ],
   "source": [
    "import mlflow\n",
    "mlflow.set_tracking_uri(\"sqlite:///mlflow.db\")\n",
    "#mlflow.set_experiment(\"spyder-experiment\")\n",
    "import mlflow.pytorch\n",
    "mlflow.set_experiment(\"GAT Network 2024-09-08 short time cut\")"
   ]
  },
  {
   "cell_type": "code",
   "execution_count": 18,
   "id": "4c0afb87",
   "metadata": {},
   "outputs": [
    {
     "name": "stdout",
     "output_type": "stream",
     "text": [
      "1\n"
     ]
    },
    {
     "name": "stderr",
     "output_type": "stream",
     "text": [
      "/home/azureuser/rumour-detection-pheme/utils.py:139: SettingWithCopyWarning: \n",
      "A value is trying to be set on a copy of a slice from a DataFrame.\n",
      "Try using .loc[row_indexer,col_indexer] = value instead\n",
      "\n",
      "See the caveats in the documentation: https://pandas.pydata.org/pandas-docs/stable/user_guide/indexing.html#returning-a-view-versus-a-copy\n",
      "  reply_features[['reply_followers','time_diff']] = scaler.fit_transform(reply_features[['reply_followers','time_diff']])\n"
     ]
    },
    {
     "name": "stdout",
     "output_type": "stream",
     "text": [
      "0\n",
      "Epoch:   0 | Train Loss: 0.6940 | Train Acc: 75.59% | Val Acc: 69.67%\n",
      "100\n",
      "Epoch: 100 | Train Loss: 0.4622 | Train Acc: 82.87% | Val Acc: 78.00%\n",
      "200\n",
      "Epoch: 200 | Train Loss: 0.4081 | Train Acc: 84.37% | Val Acc: 78.00%\n",
      "300\n",
      "Epoch: 300 | Train Loss: 0.3950 | Train Acc: 85.37% | Val Acc: 78.33%\n",
      "Test accuracy: 78.41%\n",
      "Test Recall: 57.85%\n",
      "Test Precision: 68.66%\n"
     ]
    },
    {
     "name": "stderr",
     "output_type": "stream",
     "text": [
      "2024/09/08 17:22:18 WARNING mlflow.models.model: Input example should be provided to infer model signature if the model signature is not provided when logging the model.\n"
     ]
    },
    {
     "name": "stdout",
     "output_type": "stream",
     "text": [
      "2\n"
     ]
    },
    {
     "name": "stderr",
     "output_type": "stream",
     "text": [
      "/home/azureuser/rumour-detection-pheme/utils.py:139: SettingWithCopyWarning: \n",
      "A value is trying to be set on a copy of a slice from a DataFrame.\n",
      "Try using .loc[row_indexer,col_indexer] = value instead\n",
      "\n",
      "See the caveats in the documentation: https://pandas.pydata.org/pandas-docs/stable/user_guide/indexing.html#returning-a-view-versus-a-copy\n",
      "  reply_features[['reply_followers','time_diff']] = scaler.fit_transform(reply_features[['reply_followers','time_diff']])\n"
     ]
    },
    {
     "name": "stdout",
     "output_type": "stream",
     "text": [
      "0\n",
      "Epoch:   0 | Train Loss: 0.6995 | Train Acc: 70.74% | Val Acc: 70.33%\n",
      "100\n",
      "Epoch: 100 | Train Loss: 0.4179 | Train Acc: 83.30% | Val Acc: 80.00%\n",
      "200\n",
      "Epoch: 200 | Train Loss: 0.3435 | Train Acc: 87.15% | Val Acc: 82.00%\n",
      "300\n",
      "Epoch: 300 | Train Loss: 0.3022 | Train Acc: 89.72% | Val Acc: 82.33%\n",
      "Test accuracy: 81.73%\n",
      "Test Recall: 64.25%\n",
      "Test Precision: 74.47%\n"
     ]
    },
    {
     "name": "stderr",
     "output_type": "stream",
     "text": [
      "2024/09/08 17:22:30 WARNING mlflow.models.model: Input example should be provided to infer model signature if the model signature is not provided when logging the model.\n"
     ]
    },
    {
     "name": "stdout",
     "output_type": "stream",
     "text": [
      "3\n"
     ]
    },
    {
     "name": "stderr",
     "output_type": "stream",
     "text": [
      "/home/azureuser/rumour-detection-pheme/utils.py:139: SettingWithCopyWarning: \n",
      "A value is trying to be set on a copy of a slice from a DataFrame.\n",
      "Try using .loc[row_indexer,col_indexer] = value instead\n",
      "\n",
      "See the caveats in the documentation: https://pandas.pydata.org/pandas-docs/stable/user_guide/indexing.html#returning-a-view-versus-a-copy\n",
      "  reply_features[['reply_followers','time_diff']] = scaler.fit_transform(reply_features[['reply_followers','time_diff']])\n"
     ]
    },
    {
     "name": "stdout",
     "output_type": "stream",
     "text": [
      "0\n",
      "Epoch:   0 | Train Loss: 0.6742 | Train Acc: 77.09% | Val Acc: 80.00%\n",
      "100\n",
      "Epoch: 100 | Train Loss: 0.3911 | Train Acc: 84.51% | Val Acc: 83.67%\n",
      "200\n",
      "Epoch: 200 | Train Loss: 0.2945 | Train Acc: 89.65% | Val Acc: 85.67%\n",
      "300\n",
      "Epoch: 300 | Train Loss: 0.2411 | Train Acc: 91.93% | Val Acc: 85.67%\n",
      "Test accuracy: 80.73%\n",
      "Test Recall: 71.42%\n",
      "Test Precision: 75.14%\n"
     ]
    },
    {
     "name": "stderr",
     "output_type": "stream",
     "text": [
      "2024/09/08 17:22:43 WARNING mlflow.models.model: Input example should be provided to infer model signature if the model signature is not provided when logging the model.\n"
     ]
    },
    {
     "name": "stdout",
     "output_type": "stream",
     "text": [
      "4\n"
     ]
    },
    {
     "name": "stderr",
     "output_type": "stream",
     "text": [
      "/home/azureuser/rumour-detection-pheme/utils.py:139: SettingWithCopyWarning: \n",
      "A value is trying to be set on a copy of a slice from a DataFrame.\n",
      "Try using .loc[row_indexer,col_indexer] = value instead\n",
      "\n",
      "See the caveats in the documentation: https://pandas.pydata.org/pandas-docs/stable/user_guide/indexing.html#returning-a-view-versus-a-copy\n",
      "  reply_features[['reply_followers','time_diff']] = scaler.fit_transform(reply_features[['reply_followers','time_diff']])\n"
     ]
    },
    {
     "name": "stdout",
     "output_type": "stream",
     "text": [
      "0\n",
      "Epoch:   0 | Train Loss: 0.6927 | Train Acc: 77.30% | Val Acc: 77.33%\n",
      "100\n",
      "Epoch: 100 | Train Loss: 0.3875 | Train Acc: 85.87% | Val Acc: 83.00%\n",
      "200\n",
      "Epoch: 200 | Train Loss: 0.2851 | Train Acc: 90.15% | Val Acc: 83.67%\n",
      "300\n",
      "Epoch: 300 | Train Loss: 0.2414 | Train Acc: 92.51% | Val Acc: 83.33%\n",
      "Test accuracy: 83.39%\n",
      "Test Recall: 70.37%\n",
      "Test Precision: 78.26%\n"
     ]
    },
    {
     "name": "stderr",
     "output_type": "stream",
     "text": [
      "2024/09/08 17:22:57 WARNING mlflow.models.model: Input example should be provided to infer model signature if the model signature is not provided when logging the model.\n"
     ]
    },
    {
     "name": "stdout",
     "output_type": "stream",
     "text": [
      "5\n"
     ]
    },
    {
     "name": "stderr",
     "output_type": "stream",
     "text": [
      "/home/azureuser/rumour-detection-pheme/utils.py:139: SettingWithCopyWarning: \n",
      "A value is trying to be set on a copy of a slice from a DataFrame.\n",
      "Try using .loc[row_indexer,col_indexer] = value instead\n",
      "\n",
      "See the caveats in the documentation: https://pandas.pydata.org/pandas-docs/stable/user_guide/indexing.html#returning-a-view-versus-a-copy\n",
      "  reply_features[['reply_followers','time_diff']] = scaler.fit_transform(reply_features[['reply_followers','time_diff']])\n"
     ]
    },
    {
     "name": "stdout",
     "output_type": "stream",
     "text": [
      "0\n",
      "Epoch:   0 | Train Loss: 0.6778 | Train Acc: 76.16% | Val Acc: 79.00%\n",
      "100\n",
      "Epoch: 100 | Train Loss: 0.3712 | Train Acc: 86.08% | Val Acc: 84.00%\n",
      "200\n",
      "Epoch: 200 | Train Loss: 0.2719 | Train Acc: 91.29% | Val Acc: 84.33%\n",
      "300\n",
      "Epoch: 300 | Train Loss: 0.2058 | Train Acc: 94.22% | Val Acc: 84.67%\n",
      "Test accuracy: 82.72%\n",
      "Test Recall: 71.88%\n",
      "Test Precision: 75.77%\n"
     ]
    },
    {
     "name": "stderr",
     "output_type": "stream",
     "text": [
      "2024/09/08 17:23:12 WARNING mlflow.models.model: Input example should be provided to infer model signature if the model signature is not provided when logging the model.\n"
     ]
    },
    {
     "name": "stdout",
     "output_type": "stream",
     "text": [
      "6\n"
     ]
    },
    {
     "name": "stderr",
     "output_type": "stream",
     "text": [
      "/home/azureuser/rumour-detection-pheme/utils.py:139: SettingWithCopyWarning: \n",
      "A value is trying to be set on a copy of a slice from a DataFrame.\n",
      "Try using .loc[row_indexer,col_indexer] = value instead\n",
      "\n",
      "See the caveats in the documentation: https://pandas.pydata.org/pandas-docs/stable/user_guide/indexing.html#returning-a-view-versus-a-copy\n",
      "  reply_features[['reply_followers','time_diff']] = scaler.fit_transform(reply_features[['reply_followers','time_diff']])\n"
     ]
    },
    {
     "name": "stdout",
     "output_type": "stream",
     "text": [
      "0\n",
      "Epoch:   0 | Train Loss: 0.7342 | Train Acc: 30.69% | Val Acc: 39.67%\n",
      "100\n",
      "Epoch: 100 | Train Loss: 0.3710 | Train Acc: 85.58% | Val Acc: 79.00%\n",
      "200\n",
      "Epoch: 200 | Train Loss: 0.2489 | Train Acc: 91.29% | Val Acc: 81.67%\n",
      "300\n",
      "Epoch: 300 | Train Loss: 0.1834 | Train Acc: 95.22% | Val Acc: 82.67%\n",
      "Test accuracy: 86.71%\n",
      "Test Recall: 74.67%\n",
      "Test Precision: 82.47%\n"
     ]
    },
    {
     "name": "stderr",
     "output_type": "stream",
     "text": [
      "2024/09/08 17:23:28 WARNING mlflow.models.model: Input example should be provided to infer model signature if the model signature is not provided when logging the model.\n"
     ]
    },
    {
     "name": "stdout",
     "output_type": "stream",
     "text": [
      "7\n"
     ]
    },
    {
     "name": "stderr",
     "output_type": "stream",
     "text": [
      "/home/azureuser/rumour-detection-pheme/utils.py:139: SettingWithCopyWarning: \n",
      "A value is trying to be set on a copy of a slice from a DataFrame.\n",
      "Try using .loc[row_indexer,col_indexer] = value instead\n",
      "\n",
      "See the caveats in the documentation: https://pandas.pydata.org/pandas-docs/stable/user_guide/indexing.html#returning-a-view-versus-a-copy\n",
      "  reply_features[['reply_followers','time_diff']] = scaler.fit_transform(reply_features[['reply_followers','time_diff']])\n"
     ]
    },
    {
     "name": "stdout",
     "output_type": "stream",
     "text": [
      "0\n",
      "Epoch:   0 | Train Loss: 0.7147 | Train Acc: 76.30% | Val Acc: 73.67%\n",
      "100\n",
      "Epoch: 100 | Train Loss: 0.3580 | Train Acc: 86.15% | Val Acc: 82.33%\n",
      "200\n",
      "Epoch: 200 | Train Loss: 0.2441 | Train Acc: 91.65% | Val Acc: 84.67%\n",
      "300\n",
      "Epoch: 300 | Train Loss: 0.1687 | Train Acc: 95.29% | Val Acc: 85.67%\n",
      "Test accuracy: 85.38%\n",
      "Test Recall: 75.56%\n",
      "Test Precision: 80.58%\n"
     ]
    },
    {
     "name": "stderr",
     "output_type": "stream",
     "text": [
      "2024/09/08 17:23:44 WARNING mlflow.models.model: Input example should be provided to infer model signature if the model signature is not provided when logging the model.\n"
     ]
    },
    {
     "name": "stdout",
     "output_type": "stream",
     "text": [
      "8\n"
     ]
    },
    {
     "name": "stderr",
     "output_type": "stream",
     "text": [
      "/home/azureuser/rumour-detection-pheme/utils.py:139: SettingWithCopyWarning: \n",
      "A value is trying to be set on a copy of a slice from a DataFrame.\n",
      "Try using .loc[row_indexer,col_indexer] = value instead\n",
      "\n",
      "See the caveats in the documentation: https://pandas.pydata.org/pandas-docs/stable/user_guide/indexing.html#returning-a-view-versus-a-copy\n",
      "  reply_features[['reply_followers','time_diff']] = scaler.fit_transform(reply_features[['reply_followers','time_diff']])\n"
     ]
    },
    {
     "name": "stdout",
     "output_type": "stream",
     "text": [
      "0\n",
      "Epoch:   0 | Train Loss: 0.7703 | Train Acc: 24.27% | Val Acc: 25.33%\n",
      "100\n",
      "Epoch: 100 | Train Loss: 0.3695 | Train Acc: 84.87% | Val Acc: 85.33%\n",
      "200\n",
      "Epoch: 200 | Train Loss: 0.2496 | Train Acc: 90.44% | Val Acc: 86.33%\n",
      "300\n",
      "Epoch: 300 | Train Loss: 0.1679 | Train Acc: 94.72% | Val Acc: 86.67%\n",
      "Test accuracy: 85.38%\n",
      "Test Recall: 78.01%\n",
      "Test Precision: 80.92%\n"
     ]
    },
    {
     "name": "stderr",
     "output_type": "stream",
     "text": [
      "2024/09/08 17:24:01 WARNING mlflow.models.model: Input example should be provided to infer model signature if the model signature is not provided when logging the model.\n"
     ]
    },
    {
     "name": "stdout",
     "output_type": "stream",
     "text": [
      "9\n"
     ]
    },
    {
     "name": "stderr",
     "output_type": "stream",
     "text": [
      "/home/azureuser/rumour-detection-pheme/utils.py:139: SettingWithCopyWarning: \n",
      "A value is trying to be set on a copy of a slice from a DataFrame.\n",
      "Try using .loc[row_indexer,col_indexer] = value instead\n",
      "\n",
      "See the caveats in the documentation: https://pandas.pydata.org/pandas-docs/stable/user_guide/indexing.html#returning-a-view-versus-a-copy\n",
      "  reply_features[['reply_followers','time_diff']] = scaler.fit_transform(reply_features[['reply_followers','time_diff']])\n"
     ]
    },
    {
     "name": "stdout",
     "output_type": "stream",
     "text": [
      "0\n",
      "Epoch:   0 | Train Loss: 0.7420 | Train Acc: 43.61% | Val Acc: 46.33%\n",
      "100\n",
      "Epoch: 100 | Train Loss: 0.3763 | Train Acc: 85.15% | Val Acc: 85.00%\n",
      "200\n",
      "Epoch: 200 | Train Loss: 0.2426 | Train Acc: 91.15% | Val Acc: 86.67%\n",
      "300\n",
      "Epoch: 300 | Train Loss: 0.1668 | Train Acc: 95.50% | Val Acc: 86.00%\n",
      "Test accuracy: 84.39%\n",
      "Test Recall: 75.15%\n",
      "Test Precision: 79.40%\n"
     ]
    },
    {
     "name": "stderr",
     "output_type": "stream",
     "text": [
      "2024/09/08 17:24:19 WARNING mlflow.models.model: Input example should be provided to infer model signature if the model signature is not provided when logging the model.\n"
     ]
    },
    {
     "name": "stdout",
     "output_type": "stream",
     "text": [
      "10\n"
     ]
    },
    {
     "name": "stderr",
     "output_type": "stream",
     "text": [
      "/home/azureuser/rumour-detection-pheme/utils.py:139: SettingWithCopyWarning: \n",
      "A value is trying to be set on a copy of a slice from a DataFrame.\n",
      "Try using .loc[row_indexer,col_indexer] = value instead\n",
      "\n",
      "See the caveats in the documentation: https://pandas.pydata.org/pandas-docs/stable/user_guide/indexing.html#returning-a-view-versus-a-copy\n",
      "  reply_features[['reply_followers','time_diff']] = scaler.fit_transform(reply_features[['reply_followers','time_diff']])\n"
     ]
    },
    {
     "name": "stdout",
     "output_type": "stream",
     "text": [
      "0\n",
      "Epoch:   0 | Train Loss: 0.7645 | Train Acc: 29.19% | Val Acc: 25.33%\n",
      "100\n",
      "Epoch: 100 | Train Loss: 0.3591 | Train Acc: 85.80% | Val Acc: 83.00%\n",
      "200\n",
      "Epoch: 200 | Train Loss: 0.2396 | Train Acc: 90.86% | Val Acc: 86.00%\n",
      "300\n",
      "Epoch: 300 | Train Loss: 0.1629 | Train Acc: 95.79% | Val Acc: 86.00%\n",
      "Test accuracy: 81.40%\n",
      "Test Recall: 75.74%\n",
      "Test Precision: 76.42%\n"
     ]
    },
    {
     "name": "stderr",
     "output_type": "stream",
     "text": [
      "2024/09/08 17:24:36 WARNING mlflow.models.model: Input example should be provided to infer model signature if the model signature is not provided when logging the model.\n"
     ]
    },
    {
     "name": "stdout",
     "output_type": "stream",
     "text": [
      "11\n"
     ]
    },
    {
     "name": "stderr",
     "output_type": "stream",
     "text": [
      "/home/azureuser/rumour-detection-pheme/utils.py:139: SettingWithCopyWarning: \n",
      "A value is trying to be set on a copy of a slice from a DataFrame.\n",
      "Try using .loc[row_indexer,col_indexer] = value instead\n",
      "\n",
      "See the caveats in the documentation: https://pandas.pydata.org/pandas-docs/stable/user_guide/indexing.html#returning-a-view-versus-a-copy\n",
      "  reply_features[['reply_followers','time_diff']] = scaler.fit_transform(reply_features[['reply_followers','time_diff']])\n"
     ]
    },
    {
     "name": "stdout",
     "output_type": "stream",
     "text": [
      "0\n",
      "Epoch:   0 | Train Loss: 0.7822 | Train Acc: 24.34% | Val Acc: 23.33%\n",
      "100\n",
      "Epoch: 100 | Train Loss: 0.3715 | Train Acc: 84.87% | Val Acc: 80.67%\n",
      "200\n",
      "Epoch: 200 | Train Loss: 0.2585 | Train Acc: 89.36% | Val Acc: 82.33%\n",
      "300\n",
      "Epoch: 300 | Train Loss: 0.1894 | Train Acc: 94.00% | Val Acc: 82.67%\n",
      "Test accuracy: 88.37%\n",
      "Test Recall: 77.09%\n",
      "Test Precision: 80.72%\n"
     ]
    },
    {
     "name": "stderr",
     "output_type": "stream",
     "text": [
      "2024/09/08 17:24:55 WARNING mlflow.models.model: Input example should be provided to infer model signature if the model signature is not provided when logging the model.\n"
     ]
    },
    {
     "name": "stdout",
     "output_type": "stream",
     "text": [
      "12\n"
     ]
    },
    {
     "name": "stderr",
     "output_type": "stream",
     "text": [
      "/home/azureuser/rumour-detection-pheme/utils.py:139: SettingWithCopyWarning: \n",
      "A value is trying to be set on a copy of a slice from a DataFrame.\n",
      "Try using .loc[row_indexer,col_indexer] = value instead\n",
      "\n",
      "See the caveats in the documentation: https://pandas.pydata.org/pandas-docs/stable/user_guide/indexing.html#returning-a-view-versus-a-copy\n",
      "  reply_features[['reply_followers','time_diff']] = scaler.fit_transform(reply_features[['reply_followers','time_diff']])\n"
     ]
    },
    {
     "name": "stdout",
     "output_type": "stream",
     "text": [
      "0\n",
      "Epoch:   0 | Train Loss: 0.6599 | Train Acc: 77.73% | Val Acc: 75.67%\n",
      "100\n",
      "Epoch: 100 | Train Loss: 0.3270 | Train Acc: 86.94% | Val Acc: 81.33%\n",
      "200\n",
      "Epoch: 200 | Train Loss: 0.2126 | Train Acc: 93.65% | Val Acc: 82.67%\n",
      "300\n",
      "Epoch: 300 | Train Loss: 0.1384 | Train Acc: 96.86% | Val Acc: 83.33%\n",
      "Test accuracy: 87.71%\n",
      "Test Recall: 77.73%\n",
      "Test Precision: 80.22%\n"
     ]
    },
    {
     "name": "stderr",
     "output_type": "stream",
     "text": [
      "2024/09/08 17:25:15 WARNING mlflow.models.model: Input example should be provided to infer model signature if the model signature is not provided when logging the model.\n"
     ]
    },
    {
     "name": "stdout",
     "output_type": "stream",
     "text": [
      "13\n"
     ]
    },
    {
     "name": "stderr",
     "output_type": "stream",
     "text": [
      "/home/azureuser/rumour-detection-pheme/utils.py:139: SettingWithCopyWarning: \n",
      "A value is trying to be set on a copy of a slice from a DataFrame.\n",
      "Try using .loc[row_indexer,col_indexer] = value instead\n",
      "\n",
      "See the caveats in the documentation: https://pandas.pydata.org/pandas-docs/stable/user_guide/indexing.html#returning-a-view-versus-a-copy\n",
      "  reply_features[['reply_followers','time_diff']] = scaler.fit_transform(reply_features[['reply_followers','time_diff']])\n"
     ]
    },
    {
     "name": "stdout",
     "output_type": "stream",
     "text": [
      "0\n",
      "Epoch:   0 | Train Loss: 0.7233 | Train Acc: 64.24% | Val Acc: 62.67%\n",
      "100\n",
      "Epoch: 100 | Train Loss: 0.3440 | Train Acc: 85.80% | Val Acc: 85.67%\n",
      "200\n",
      "Epoch: 200 | Train Loss: 0.2203 | Train Acc: 92.01% | Val Acc: 85.67%\n",
      "300\n",
      "Epoch: 300 | Train Loss: 0.1497 | Train Acc: 95.72% | Val Acc: 84.33%\n",
      "Test accuracy: 84.05%\n",
      "Test Recall: 76.34%\n",
      "Test Precision: 81.07%\n"
     ]
    },
    {
     "name": "stderr",
     "output_type": "stream",
     "text": [
      "2024/09/08 17:25:34 WARNING mlflow.models.model: Input example should be provided to infer model signature if the model signature is not provided when logging the model.\n"
     ]
    },
    {
     "name": "stdout",
     "output_type": "stream",
     "text": [
      "14\n"
     ]
    },
    {
     "name": "stderr",
     "output_type": "stream",
     "text": [
      "/home/azureuser/rumour-detection-pheme/utils.py:139: SettingWithCopyWarning: \n",
      "A value is trying to be set on a copy of a slice from a DataFrame.\n",
      "Try using .loc[row_indexer,col_indexer] = value instead\n",
      "\n",
      "See the caveats in the documentation: https://pandas.pydata.org/pandas-docs/stable/user_guide/indexing.html#returning-a-view-versus-a-copy\n",
      "  reply_features[['reply_followers','time_diff']] = scaler.fit_transform(reply_features[['reply_followers','time_diff']])\n"
     ]
    },
    {
     "name": "stdout",
     "output_type": "stream",
     "text": [
      "0\n",
      "Epoch:   0 | Train Loss: 0.6990 | Train Acc: 62.24% | Val Acc: 61.00%\n",
      "100\n",
      "Epoch: 100 | Train Loss: 0.3281 | Train Acc: 87.51% | Val Acc: 84.67%\n",
      "200\n",
      "Epoch: 200 | Train Loss: 0.1749 | Train Acc: 94.36% | Val Acc: 84.67%\n",
      "300\n",
      "Epoch: 300 | Train Loss: 0.1176 | Train Acc: 97.14% | Val Acc: 85.33%\n",
      "Test accuracy: 84.39%\n",
      "Test Recall: 77.30%\n",
      "Test Precision: 77.14%\n"
     ]
    },
    {
     "name": "stderr",
     "output_type": "stream",
     "text": [
      "2024/09/08 17:25:54 WARNING mlflow.models.model: Input example should be provided to infer model signature if the model signature is not provided when logging the model.\n"
     ]
    },
    {
     "name": "stdout",
     "output_type": "stream",
     "text": [
      "15\n"
     ]
    },
    {
     "name": "stderr",
     "output_type": "stream",
     "text": [
      "/home/azureuser/rumour-detection-pheme/utils.py:139: SettingWithCopyWarning: \n",
      "A value is trying to be set on a copy of a slice from a DataFrame.\n",
      "Try using .loc[row_indexer,col_indexer] = value instead\n",
      "\n",
      "See the caveats in the documentation: https://pandas.pydata.org/pandas-docs/stable/user_guide/indexing.html#returning-a-view-versus-a-copy\n",
      "  reply_features[['reply_followers','time_diff']] = scaler.fit_transform(reply_features[['reply_followers','time_diff']])\n"
     ]
    },
    {
     "name": "stdout",
     "output_type": "stream",
     "text": [
      "0\n",
      "Epoch:   0 | Train Loss: 0.8797 | Train Acc: 22.41% | Val Acc: 21.33%\n",
      "100\n",
      "Epoch: 100 | Train Loss: 0.3657 | Train Acc: 84.87% | Val Acc: 80.00%\n",
      "200\n",
      "Epoch: 200 | Train Loss: 0.2542 | Train Acc: 89.86% | Val Acc: 82.00%\n",
      "300\n",
      "Epoch: 300 | Train Loss: 0.1697 | Train Acc: 94.86% | Val Acc: 84.67%\n",
      "Test accuracy: 87.04%\n",
      "Test Recall: 80.91%\n",
      "Test Precision: 79.81%\n"
     ]
    },
    {
     "name": "stderr",
     "output_type": "stream",
     "text": [
      "2024/09/08 17:26:13 WARNING mlflow.models.model: Input example should be provided to infer model signature if the model signature is not provided when logging the model.\n"
     ]
    },
    {
     "name": "stdout",
     "output_type": "stream",
     "text": [
      "16\n"
     ]
    },
    {
     "name": "stderr",
     "output_type": "stream",
     "text": [
      "/home/azureuser/rumour-detection-pheme/utils.py:139: SettingWithCopyWarning: \n",
      "A value is trying to be set on a copy of a slice from a DataFrame.\n",
      "Try using .loc[row_indexer,col_indexer] = value instead\n",
      "\n",
      "See the caveats in the documentation: https://pandas.pydata.org/pandas-docs/stable/user_guide/indexing.html#returning-a-view-versus-a-copy\n",
      "  reply_features[['reply_followers','time_diff']] = scaler.fit_transform(reply_features[['reply_followers','time_diff']])\n"
     ]
    },
    {
     "name": "stdout",
     "output_type": "stream",
     "text": [
      "0\n",
      "Epoch:   0 | Train Loss: 0.6799 | Train Acc: 76.30% | Val Acc: 77.33%\n",
      "100\n",
      "Epoch: 100 | Train Loss: 0.3388 | Train Acc: 86.30% | Val Acc: 83.33%\n",
      "200\n",
      "Epoch: 200 | Train Loss: 0.2195 | Train Acc: 92.01% | Val Acc: 86.00%\n",
      "300\n",
      "Epoch: 300 | Train Loss: 0.1440 | Train Acc: 95.57% | Val Acc: 84.67%\n",
      "Test accuracy: 88.37%\n",
      "Test Recall: 76.79%\n",
      "Test Precision: 81.44%\n"
     ]
    },
    {
     "name": "stderr",
     "output_type": "stream",
     "text": [
      "2024/09/08 17:26:33 WARNING mlflow.models.model: Input example should be provided to infer model signature if the model signature is not provided when logging the model.\n"
     ]
    },
    {
     "name": "stdout",
     "output_type": "stream",
     "text": [
      "17\n"
     ]
    },
    {
     "name": "stderr",
     "output_type": "stream",
     "text": [
      "/home/azureuser/rumour-detection-pheme/utils.py:139: SettingWithCopyWarning: \n",
      "A value is trying to be set on a copy of a slice from a DataFrame.\n",
      "Try using .loc[row_indexer,col_indexer] = value instead\n",
      "\n",
      "See the caveats in the documentation: https://pandas.pydata.org/pandas-docs/stable/user_guide/indexing.html#returning-a-view-versus-a-copy\n",
      "  reply_features[['reply_followers','time_diff']] = scaler.fit_transform(reply_features[['reply_followers','time_diff']])\n"
     ]
    },
    {
     "name": "stdout",
     "output_type": "stream",
     "text": [
      "0\n",
      "Epoch:   0 | Train Loss: 0.7474 | Train Acc: 40.83% | Val Acc: 36.67%\n",
      "100\n",
      "Epoch: 100 | Train Loss: 0.3526 | Train Acc: 85.22% | Val Acc: 86.67%\n",
      "200\n",
      "Epoch: 200 | Train Loss: 0.2230 | Train Acc: 91.58% | Val Acc: 88.00%\n",
      "300\n",
      "Epoch: 300 | Train Loss: 0.1458 | Train Acc: 95.57% | Val Acc: 87.67%\n",
      "Test accuracy: 83.72%\n",
      "Test Recall: 76.26%\n",
      "Test Precision: 77.83%\n"
     ]
    },
    {
     "name": "stderr",
     "output_type": "stream",
     "text": [
      "2024/09/08 17:26:53 WARNING mlflow.models.model: Input example should be provided to infer model signature if the model signature is not provided when logging the model.\n"
     ]
    },
    {
     "name": "stdout",
     "output_type": "stream",
     "text": [
      "18\n"
     ]
    },
    {
     "name": "stderr",
     "output_type": "stream",
     "text": [
      "/home/azureuser/rumour-detection-pheme/utils.py:139: SettingWithCopyWarning: \n",
      "A value is trying to be set on a copy of a slice from a DataFrame.\n",
      "Try using .loc[row_indexer,col_indexer] = value instead\n",
      "\n",
      "See the caveats in the documentation: https://pandas.pydata.org/pandas-docs/stable/user_guide/indexing.html#returning-a-view-versus-a-copy\n",
      "  reply_features[['reply_followers','time_diff']] = scaler.fit_transform(reply_features[['reply_followers','time_diff']])\n"
     ]
    },
    {
     "name": "stdout",
     "output_type": "stream",
     "text": [
      "0\n",
      "Epoch:   0 | Train Loss: 0.7483 | Train Acc: 26.34% | Val Acc: 30.00%\n",
      "100\n",
      "Epoch: 100 | Train Loss: 0.3453 | Train Acc: 86.08% | Val Acc: 82.33%\n",
      "200\n",
      "Epoch: 200 | Train Loss: 0.2223 | Train Acc: 91.79% | Val Acc: 83.33%\n",
      "300\n",
      "Epoch: 300 | Train Loss: 0.1220 | Train Acc: 96.72% | Val Acc: 83.67%\n",
      "Test accuracy: 85.05%\n",
      "Test Recall: 71.93%\n",
      "Test Precision: 79.70%\n"
     ]
    },
    {
     "name": "stderr",
     "output_type": "stream",
     "text": [
      "2024/09/08 17:27:14 WARNING mlflow.models.model: Input example should be provided to infer model signature if the model signature is not provided when logging the model.\n"
     ]
    },
    {
     "name": "stdout",
     "output_type": "stream",
     "text": [
      "19\n"
     ]
    },
    {
     "name": "stderr",
     "output_type": "stream",
     "text": [
      "/home/azureuser/rumour-detection-pheme/utils.py:139: SettingWithCopyWarning: \n",
      "A value is trying to be set on a copy of a slice from a DataFrame.\n",
      "Try using .loc[row_indexer,col_indexer] = value instead\n",
      "\n",
      "See the caveats in the documentation: https://pandas.pydata.org/pandas-docs/stable/user_guide/indexing.html#returning-a-view-versus-a-copy\n",
      "  reply_features[['reply_followers','time_diff']] = scaler.fit_transform(reply_features[['reply_followers','time_diff']])\n"
     ]
    },
    {
     "name": "stdout",
     "output_type": "stream",
     "text": [
      "0\n",
      "Epoch:   0 | Train Loss: 0.8014 | Train Acc: 30.62% | Val Acc: 25.33%\n",
      "100\n",
      "Epoch: 100 | Train Loss: 0.3465 | Train Acc: 85.94% | Val Acc: 80.00%\n",
      "200\n",
      "Epoch: 200 | Train Loss: 0.2223 | Train Acc: 91.22% | Val Acc: 81.67%\n",
      "300\n",
      "Epoch: 300 | Train Loss: 0.1620 | Train Acc: 95.29% | Val Acc: 83.67%\n",
      "Test accuracy: 88.37%\n",
      "Test Recall: 82.60%\n",
      "Test Precision: 78.11%\n"
     ]
    },
    {
     "name": "stderr",
     "output_type": "stream",
     "text": [
      "2024/09/08 17:27:35 WARNING mlflow.models.model: Input example should be provided to infer model signature if the model signature is not provided when logging the model.\n"
     ]
    },
    {
     "name": "stdout",
     "output_type": "stream",
     "text": [
      "20\n"
     ]
    },
    {
     "name": "stderr",
     "output_type": "stream",
     "text": [
      "/home/azureuser/rumour-detection-pheme/utils.py:139: SettingWithCopyWarning: \n",
      "A value is trying to be set on a copy of a slice from a DataFrame.\n",
      "Try using .loc[row_indexer,col_indexer] = value instead\n",
      "\n",
      "See the caveats in the documentation: https://pandas.pydata.org/pandas-docs/stable/user_guide/indexing.html#returning-a-view-versus-a-copy\n",
      "  reply_features[['reply_followers','time_diff']] = scaler.fit_transform(reply_features[['reply_followers','time_diff']])\n"
     ]
    },
    {
     "name": "stdout",
     "output_type": "stream",
     "text": [
      "0\n",
      "Epoch:   0 | Train Loss: 0.7420 | Train Acc: 40.76% | Val Acc: 42.67%\n",
      "100\n",
      "Epoch: 100 | Train Loss: 0.3462 | Train Acc: 85.37% | Val Acc: 87.33%\n",
      "200\n",
      "Epoch: 200 | Train Loss: 0.2107 | Train Acc: 92.79% | Val Acc: 87.67%\n",
      "300\n",
      "Epoch: 300 | Train Loss: 0.1285 | Train Acc: 97.50% | Val Acc: 88.00%\n",
      "Test accuracy: 86.38%\n",
      "Test Recall: 80.51%\n",
      "Test Precision: 83.54%\n"
     ]
    },
    {
     "name": "stderr",
     "output_type": "stream",
     "text": [
      "2024/09/08 17:27:56 WARNING mlflow.models.model: Input example should be provided to infer model signature if the model signature is not provided when logging the model.\n"
     ]
    },
    {
     "name": "stdout",
     "output_type": "stream",
     "text": [
      "21\n"
     ]
    },
    {
     "name": "stderr",
     "output_type": "stream",
     "text": [
      "/home/azureuser/rumour-detection-pheme/utils.py:139: SettingWithCopyWarning: \n",
      "A value is trying to be set on a copy of a slice from a DataFrame.\n",
      "Try using .loc[row_indexer,col_indexer] = value instead\n",
      "\n",
      "See the caveats in the documentation: https://pandas.pydata.org/pandas-docs/stable/user_guide/indexing.html#returning-a-view-versus-a-copy\n",
      "  reply_features[['reply_followers','time_diff']] = scaler.fit_transform(reply_features[['reply_followers','time_diff']])\n"
     ]
    },
    {
     "name": "stdout",
     "output_type": "stream",
     "text": [
      "0\n",
      "Epoch:   0 | Train Loss: 0.6763 | Train Acc: 69.59% | Val Acc: 70.67%\n",
      "100\n",
      "Epoch: 100 | Train Loss: 0.3321 | Train Acc: 86.80% | Val Acc: 84.67%\n",
      "200\n",
      "Epoch: 200 | Train Loss: 0.1919 | Train Acc: 94.43% | Val Acc: 86.67%\n",
      "300\n",
      "Epoch: 300 | Train Loss: 0.1152 | Train Acc: 97.50% | Val Acc: 88.33%\n",
      "Test accuracy: 86.38%\n",
      "Test Recall: 79.06%\n",
      "Test Precision: 81.25%\n"
     ]
    },
    {
     "name": "stderr",
     "output_type": "stream",
     "text": [
      "2024/09/08 17:28:16 WARNING mlflow.models.model: Input example should be provided to infer model signature if the model signature is not provided when logging the model.\n"
     ]
    },
    {
     "name": "stdout",
     "output_type": "stream",
     "text": [
      "22\n"
     ]
    },
    {
     "name": "stderr",
     "output_type": "stream",
     "text": [
      "/home/azureuser/rumour-detection-pheme/utils.py:139: SettingWithCopyWarning: \n",
      "A value is trying to be set on a copy of a slice from a DataFrame.\n",
      "Try using .loc[row_indexer,col_indexer] = value instead\n",
      "\n",
      "See the caveats in the documentation: https://pandas.pydata.org/pandas-docs/stable/user_guide/indexing.html#returning-a-view-versus-a-copy\n",
      "  reply_features[['reply_followers','time_diff']] = scaler.fit_transform(reply_features[['reply_followers','time_diff']])\n"
     ]
    },
    {
     "name": "stdout",
     "output_type": "stream",
     "text": [
      "0\n",
      "Epoch:   0 | Train Loss: 0.7452 | Train Acc: 53.68% | Val Acc: 48.33%\n",
      "100\n",
      "Epoch: 100 | Train Loss: 0.3307 | Train Acc: 86.72% | Val Acc: 81.67%\n",
      "200\n",
      "Epoch: 200 | Train Loss: 0.2087 | Train Acc: 93.15% | Val Acc: 86.33%\n",
      "300\n",
      "Epoch: 300 | Train Loss: 0.1035 | Train Acc: 97.14% | Val Acc: 86.67%\n",
      "Test accuracy: 87.38%\n",
      "Test Recall: 80.71%\n",
      "Test Precision: 82.76%\n"
     ]
    },
    {
     "name": "stderr",
     "output_type": "stream",
     "text": [
      "2024/09/08 17:28:38 WARNING mlflow.models.model: Input example should be provided to infer model signature if the model signature is not provided when logging the model.\n"
     ]
    },
    {
     "name": "stdout",
     "output_type": "stream",
     "text": [
      "23\n"
     ]
    },
    {
     "name": "stderr",
     "output_type": "stream",
     "text": [
      "/home/azureuser/rumour-detection-pheme/utils.py:139: SettingWithCopyWarning: \n",
      "A value is trying to be set on a copy of a slice from a DataFrame.\n",
      "Try using .loc[row_indexer,col_indexer] = value instead\n",
      "\n",
      "See the caveats in the documentation: https://pandas.pydata.org/pandas-docs/stable/user_guide/indexing.html#returning-a-view-versus-a-copy\n",
      "  reply_features[['reply_followers','time_diff']] = scaler.fit_transform(reply_features[['reply_followers','time_diff']])\n"
     ]
    },
    {
     "name": "stdout",
     "output_type": "stream",
     "text": [
      "0\n",
      "Epoch:   0 | Train Loss: 0.6545 | Train Acc: 77.52% | Val Acc: 75.33%\n",
      "100\n",
      "Epoch: 100 | Train Loss: 0.3021 | Train Acc: 88.15% | Val Acc: 84.33%\n",
      "200\n",
      "Epoch: 200 | Train Loss: 0.1795 | Train Acc: 94.22% | Val Acc: 86.00%\n",
      "300\n",
      "Epoch: 300 | Train Loss: 0.1113 | Train Acc: 97.07% | Val Acc: 86.00%\n",
      "Test accuracy: 86.38%\n",
      "Test Recall: 81.16%\n",
      "Test Precision: 80.32%\n"
     ]
    },
    {
     "name": "stderr",
     "output_type": "stream",
     "text": [
      "2024/09/08 17:29:00 WARNING mlflow.models.model: Input example should be provided to infer model signature if the model signature is not provided when logging the model.\n"
     ]
    },
    {
     "name": "stdout",
     "output_type": "stream",
     "text": [
      "24\n"
     ]
    },
    {
     "name": "stderr",
     "output_type": "stream",
     "text": [
      "/home/azureuser/rumour-detection-pheme/utils.py:139: SettingWithCopyWarning: \n",
      "A value is trying to be set on a copy of a slice from a DataFrame.\n",
      "Try using .loc[row_indexer,col_indexer] = value instead\n",
      "\n",
      "See the caveats in the documentation: https://pandas.pydata.org/pandas-docs/stable/user_guide/indexing.html#returning-a-view-versus-a-copy\n",
      "  reply_features[['reply_followers','time_diff']] = scaler.fit_transform(reply_features[['reply_followers','time_diff']])\n"
     ]
    },
    {
     "name": "stdout",
     "output_type": "stream",
     "text": [
      "0\n",
      "Epoch:   0 | Train Loss: 0.7517 | Train Acc: 53.89% | Val Acc: 55.67%\n",
      "100\n",
      "Epoch: 100 | Train Loss: 0.3278 | Train Acc: 86.65% | Val Acc: 84.00%\n",
      "200\n",
      "Epoch: 200 | Train Loss: 0.1958 | Train Acc: 93.29% | Val Acc: 88.00%\n",
      "300\n",
      "Epoch: 300 | Train Loss: 0.1160 | Train Acc: 97.14% | Val Acc: 88.67%\n",
      "Test accuracy: 83.72%\n",
      "Test Recall: 80.07%\n",
      "Test Precision: 79.19%\n"
     ]
    },
    {
     "name": "stderr",
     "output_type": "stream",
     "text": [
      "2024/09/08 17:29:22 WARNING mlflow.models.model: Input example should be provided to infer model signature if the model signature is not provided when logging the model.\n"
     ]
    },
    {
     "name": "stdout",
     "output_type": "stream",
     "text": [
      "25\n"
     ]
    },
    {
     "name": "stderr",
     "output_type": "stream",
     "text": [
      "/home/azureuser/rumour-detection-pheme/utils.py:139: SettingWithCopyWarning: \n",
      "A value is trying to be set on a copy of a slice from a DataFrame.\n",
      "Try using .loc[row_indexer,col_indexer] = value instead\n",
      "\n",
      "See the caveats in the documentation: https://pandas.pydata.org/pandas-docs/stable/user_guide/indexing.html#returning-a-view-versus-a-copy\n",
      "  reply_features[['reply_followers','time_diff']] = scaler.fit_transform(reply_features[['reply_followers','time_diff']])\n"
     ]
    },
    {
     "name": "stdout",
     "output_type": "stream",
     "text": [
      "0\n",
      "Epoch:   0 | Train Loss: 0.7669 | Train Acc: 36.90% | Val Acc: 34.33%\n",
      "100\n",
      "Epoch: 100 | Train Loss: 0.3273 | Train Acc: 86.58% | Val Acc: 84.00%\n",
      "200\n",
      "Epoch: 200 | Train Loss: 0.1988 | Train Acc: 94.08% | Val Acc: 83.33%\n",
      "300\n",
      "Epoch: 300 | Train Loss: 0.1101 | Train Acc: 97.50% | Val Acc: 82.67%\n",
      "Test accuracy: 87.04%\n",
      "Test Recall: 77.73%\n",
      "Test Precision: 77.10%\n"
     ]
    },
    {
     "name": "stderr",
     "output_type": "stream",
     "text": [
      "2024/09/08 17:29:43 WARNING mlflow.models.model: Input example should be provided to infer model signature if the model signature is not provided when logging the model.\n"
     ]
    },
    {
     "name": "stdout",
     "output_type": "stream",
     "text": [
      "26\n"
     ]
    },
    {
     "name": "stderr",
     "output_type": "stream",
     "text": [
      "/home/azureuser/rumour-detection-pheme/utils.py:139: SettingWithCopyWarning: \n",
      "A value is trying to be set on a copy of a slice from a DataFrame.\n",
      "Try using .loc[row_indexer,col_indexer] = value instead\n",
      "\n",
      "See the caveats in the documentation: https://pandas.pydata.org/pandas-docs/stable/user_guide/indexing.html#returning-a-view-versus-a-copy\n",
      "  reply_features[['reply_followers','time_diff']] = scaler.fit_transform(reply_features[['reply_followers','time_diff']])\n"
     ]
    },
    {
     "name": "stdout",
     "output_type": "stream",
     "text": [
      "0\n",
      "Epoch:   0 | Train Loss: 0.6959 | Train Acc: 67.38% | Val Acc: 69.00%\n",
      "100\n",
      "Epoch: 100 | Train Loss: 0.3298 | Train Acc: 86.22% | Val Acc: 86.00%\n",
      "200\n",
      "Epoch: 200 | Train Loss: 0.2012 | Train Acc: 93.43% | Val Acc: 87.33%\n",
      "300\n",
      "Epoch: 300 | Train Loss: 0.1049 | Train Acc: 97.00% | Val Acc: 88.00%\n",
      "Test accuracy: 87.71%\n",
      "Test Recall: 77.86%\n",
      "Test Precision: 82.20%\n"
     ]
    },
    {
     "name": "stderr",
     "output_type": "stream",
     "text": [
      "2024/09/08 17:30:06 WARNING mlflow.models.model: Input example should be provided to infer model signature if the model signature is not provided when logging the model.\n"
     ]
    },
    {
     "name": "stdout",
     "output_type": "stream",
     "text": [
      "27\n"
     ]
    },
    {
     "name": "stderr",
     "output_type": "stream",
     "text": [
      "/home/azureuser/rumour-detection-pheme/utils.py:139: SettingWithCopyWarning: \n",
      "A value is trying to be set on a copy of a slice from a DataFrame.\n",
      "Try using .loc[row_indexer,col_indexer] = value instead\n",
      "\n",
      "See the caveats in the documentation: https://pandas.pydata.org/pandas-docs/stable/user_guide/indexing.html#returning-a-view-versus-a-copy\n",
      "  reply_features[['reply_followers','time_diff']] = scaler.fit_transform(reply_features[['reply_followers','time_diff']])\n"
     ]
    },
    {
     "name": "stdout",
     "output_type": "stream",
     "text": [
      "0\n",
      "Epoch:   0 | Train Loss: 0.7146 | Train Acc: 70.81% | Val Acc: 66.00%\n",
      "100\n",
      "Epoch: 100 | Train Loss: 0.3242 | Train Acc: 85.94% | Val Acc: 83.33%\n",
      "200\n",
      "Epoch: 200 | Train Loss: 0.1896 | Train Acc: 93.58% | Val Acc: 83.33%\n",
      "300\n",
      "Epoch: 300 | Train Loss: 0.1045 | Train Acc: 97.64% | Val Acc: 82.00%\n",
      "Test accuracy: 87.71%\n",
      "Test Recall: 74.16%\n",
      "Test Precision: 80.73%\n"
     ]
    },
    {
     "name": "stderr",
     "output_type": "stream",
     "text": [
      "2024/09/08 17:30:28 WARNING mlflow.models.model: Input example should be provided to infer model signature if the model signature is not provided when logging the model.\n"
     ]
    },
    {
     "name": "stdout",
     "output_type": "stream",
     "text": [
      "28\n"
     ]
    },
    {
     "name": "stderr",
     "output_type": "stream",
     "text": [
      "/home/azureuser/rumour-detection-pheme/utils.py:139: SettingWithCopyWarning: \n",
      "A value is trying to be set on a copy of a slice from a DataFrame.\n",
      "Try using .loc[row_indexer,col_indexer] = value instead\n",
      "\n",
      "See the caveats in the documentation: https://pandas.pydata.org/pandas-docs/stable/user_guide/indexing.html#returning-a-view-versus-a-copy\n",
      "  reply_features[['reply_followers','time_diff']] = scaler.fit_transform(reply_features[['reply_followers','time_diff']])\n"
     ]
    },
    {
     "name": "stdout",
     "output_type": "stream",
     "text": [
      "0\n",
      "Epoch:   0 | Train Loss: 0.7599 | Train Acc: 26.55% | Val Acc: 26.67%\n",
      "100\n",
      "Epoch: 100 | Train Loss: 0.3441 | Train Acc: 86.22% | Val Acc: 82.33%\n",
      "200\n",
      "Epoch: 200 | Train Loss: 0.2091 | Train Acc: 92.29% | Val Acc: 81.67%\n",
      "300\n",
      "Epoch: 300 | Train Loss: 0.1102 | Train Acc: 97.14% | Val Acc: 84.00%\n",
      "Test accuracy: 87.04%\n",
      "Test Recall: 76.79%\n",
      "Test Precision: 77.61%\n"
     ]
    },
    {
     "name": "stderr",
     "output_type": "stream",
     "text": [
      "2024/09/08 17:30:50 WARNING mlflow.models.model: Input example should be provided to infer model signature if the model signature is not provided when logging the model.\n"
     ]
    },
    {
     "name": "stdout",
     "output_type": "stream",
     "text": [
      "29\n"
     ]
    },
    {
     "name": "stderr",
     "output_type": "stream",
     "text": [
      "/home/azureuser/rumour-detection-pheme/utils.py:139: SettingWithCopyWarning: \n",
      "A value is trying to be set on a copy of a slice from a DataFrame.\n",
      "Try using .loc[row_indexer,col_indexer] = value instead\n",
      "\n",
      "See the caveats in the documentation: https://pandas.pydata.org/pandas-docs/stable/user_guide/indexing.html#returning-a-view-versus-a-copy\n",
      "  reply_features[['reply_followers','time_diff']] = scaler.fit_transform(reply_features[['reply_followers','time_diff']])\n"
     ]
    },
    {
     "name": "stdout",
     "output_type": "stream",
     "text": [
      "0\n",
      "Epoch:   0 | Train Loss: 0.7225 | Train Acc: 56.53% | Val Acc: 56.67%\n",
      "100\n",
      "Epoch: 100 | Train Loss: 0.3108 | Train Acc: 86.87% | Val Acc: 82.33%\n",
      "200\n",
      "Epoch: 200 | Train Loss: 0.1807 | Train Acc: 93.29% | Val Acc: 85.00%\n",
      "300\n",
      "Epoch: 300 | Train Loss: 0.1272 | Train Acc: 96.15% | Val Acc: 86.33%\n",
      "Test accuracy: 85.38%\n",
      "Test Recall: 78.28%\n",
      "Test Precision: 76.78%\n"
     ]
    },
    {
     "name": "stderr",
     "output_type": "stream",
     "text": [
      "2024/09/08 17:31:13 WARNING mlflow.models.model: Input example should be provided to infer model signature if the model signature is not provided when logging the model.\n"
     ]
    },
    {
     "name": "stdout",
     "output_type": "stream",
     "text": [
      "30\n"
     ]
    },
    {
     "name": "stderr",
     "output_type": "stream",
     "text": [
      "/home/azureuser/rumour-detection-pheme/utils.py:139: SettingWithCopyWarning: \n",
      "A value is trying to be set on a copy of a slice from a DataFrame.\n",
      "Try using .loc[row_indexer,col_indexer] = value instead\n",
      "\n",
      "See the caveats in the documentation: https://pandas.pydata.org/pandas-docs/stable/user_guide/indexing.html#returning-a-view-versus-a-copy\n",
      "  reply_features[['reply_followers','time_diff']] = scaler.fit_transform(reply_features[['reply_followers','time_diff']])\n"
     ]
    },
    {
     "name": "stdout",
     "output_type": "stream",
     "text": [
      "0\n",
      "Epoch:   0 | Train Loss: 0.7123 | Train Acc: 56.10% | Val Acc: 55.33%\n",
      "100\n",
      "Epoch: 100 | Train Loss: 0.3123 | Train Acc: 87.29% | Val Acc: 84.67%\n",
      "200\n",
      "Epoch: 200 | Train Loss: 0.1898 | Train Acc: 93.72% | Val Acc: 85.67%\n",
      "300\n",
      "Epoch: 300 | Train Loss: 0.0957 | Train Acc: 98.00% | Val Acc: 87.00%\n",
      "Test accuracy: 87.71%\n",
      "Test Recall: 78.33%\n",
      "Test Precision: 84.34%\n"
     ]
    },
    {
     "name": "stderr",
     "output_type": "stream",
     "text": [
      "2024/09/08 17:31:36 WARNING mlflow.models.model: Input example should be provided to infer model signature if the model signature is not provided when logging the model.\n"
     ]
    },
    {
     "name": "stdout",
     "output_type": "stream",
     "text": [
      "31\n"
     ]
    },
    {
     "name": "stderr",
     "output_type": "stream",
     "text": [
      "/home/azureuser/rumour-detection-pheme/utils.py:139: SettingWithCopyWarning: \n",
      "A value is trying to be set on a copy of a slice from a DataFrame.\n",
      "Try using .loc[row_indexer,col_indexer] = value instead\n",
      "\n",
      "See the caveats in the documentation: https://pandas.pydata.org/pandas-docs/stable/user_guide/indexing.html#returning-a-view-versus-a-copy\n",
      "  reply_features[['reply_followers','time_diff']] = scaler.fit_transform(reply_features[['reply_followers','time_diff']])\n"
     ]
    },
    {
     "name": "stdout",
     "output_type": "stream",
     "text": [
      "0\n",
      "Epoch:   0 | Train Loss: 0.7075 | Train Acc: 57.46% | Val Acc: 63.33%\n",
      "100\n",
      "Epoch: 100 | Train Loss: 0.3186 | Train Acc: 87.37% | Val Acc: 83.67%\n",
      "200\n",
      "Epoch: 200 | Train Loss: 0.1921 | Train Acc: 93.72% | Val Acc: 85.33%\n",
      "300\n",
      "Epoch: 300 | Train Loss: 0.1090 | Train Acc: 97.64% | Val Acc: 84.00%\n",
      "Test accuracy: 87.38%\n",
      "Test Recall: 74.93%\n",
      "Test Precision: 80.50%\n"
     ]
    },
    {
     "name": "stderr",
     "output_type": "stream",
     "text": [
      "2024/09/08 17:32:00 WARNING mlflow.models.model: Input example should be provided to infer model signature if the model signature is not provided when logging the model.\n"
     ]
    },
    {
     "name": "stdout",
     "output_type": "stream",
     "text": [
      "32\n"
     ]
    },
    {
     "name": "stderr",
     "output_type": "stream",
     "text": [
      "/home/azureuser/rumour-detection-pheme/utils.py:139: SettingWithCopyWarning: \n",
      "A value is trying to be set on a copy of a slice from a DataFrame.\n",
      "Try using .loc[row_indexer,col_indexer] = value instead\n",
      "\n",
      "See the caveats in the documentation: https://pandas.pydata.org/pandas-docs/stable/user_guide/indexing.html#returning-a-view-versus-a-copy\n",
      "  reply_features[['reply_followers','time_diff']] = scaler.fit_transform(reply_features[['reply_followers','time_diff']])\n"
     ]
    },
    {
     "name": "stdout",
     "output_type": "stream",
     "text": [
      "0\n",
      "Epoch:   0 | Train Loss: 0.7789 | Train Acc: 29.26% | Val Acc: 31.67%\n",
      "100\n",
      "Epoch: 100 | Train Loss: 0.3323 | Train Acc: 86.37% | Val Acc: 85.33%\n",
      "200\n",
      "Epoch: 200 | Train Loss: 0.1901 | Train Acc: 93.79% | Val Acc: 86.67%\n",
      "300\n",
      "Epoch: 300 | Train Loss: 0.1132 | Train Acc: 97.00% | Val Acc: 86.33%\n",
      "Test accuracy: 85.71%\n",
      "Test Recall: 80.88%\n",
      "Test Precision: 80.58%\n"
     ]
    },
    {
     "name": "stderr",
     "output_type": "stream",
     "text": [
      "2024/09/08 17:32:23 WARNING mlflow.models.model: Input example should be provided to infer model signature if the model signature is not provided when logging the model.\n"
     ]
    },
    {
     "name": "stdout",
     "output_type": "stream",
     "text": [
      "33\n"
     ]
    },
    {
     "name": "stderr",
     "output_type": "stream",
     "text": [
      "/home/azureuser/rumour-detection-pheme/utils.py:139: SettingWithCopyWarning: \n",
      "A value is trying to be set on a copy of a slice from a DataFrame.\n",
      "Try using .loc[row_indexer,col_indexer] = value instead\n",
      "\n",
      "See the caveats in the documentation: https://pandas.pydata.org/pandas-docs/stable/user_guide/indexing.html#returning-a-view-versus-a-copy\n",
      "  reply_features[['reply_followers','time_diff']] = scaler.fit_transform(reply_features[['reply_followers','time_diff']])\n"
     ]
    },
    {
     "name": "stdout",
     "output_type": "stream",
     "text": [
      "0\n",
      "Epoch:   0 | Train Loss: 0.8278 | Train Acc: 69.16% | Val Acc: 69.00%\n",
      "100\n",
      "Epoch: 100 | Train Loss: 0.3292 | Train Acc: 85.51% | Val Acc: 86.67%\n",
      "200\n",
      "Epoch: 200 | Train Loss: 0.1986 | Train Acc: 92.58% | Val Acc: 86.33%\n",
      "300\n",
      "Epoch: 300 | Train Loss: 0.1124 | Train Acc: 96.50% | Val Acc: 87.00%\n",
      "Test accuracy: 86.71%\n",
      "Test Recall: 82.02%\n",
      "Test Precision: 81.68%\n"
     ]
    },
    {
     "name": "stderr",
     "output_type": "stream",
     "text": [
      "2024/09/08 17:32:46 WARNING mlflow.models.model: Input example should be provided to infer model signature if the model signature is not provided when logging the model.\n"
     ]
    },
    {
     "name": "stdout",
     "output_type": "stream",
     "text": [
      "34\n"
     ]
    },
    {
     "name": "stderr",
     "output_type": "stream",
     "text": [
      "/home/azureuser/rumour-detection-pheme/utils.py:139: SettingWithCopyWarning: \n",
      "A value is trying to be set on a copy of a slice from a DataFrame.\n",
      "Try using .loc[row_indexer,col_indexer] = value instead\n",
      "\n",
      "See the caveats in the documentation: https://pandas.pydata.org/pandas-docs/stable/user_guide/indexing.html#returning-a-view-versus-a-copy\n",
      "  reply_features[['reply_followers','time_diff']] = scaler.fit_transform(reply_features[['reply_followers','time_diff']])\n"
     ]
    },
    {
     "name": "stdout",
     "output_type": "stream",
     "text": [
      "0\n",
      "Epoch:   0 | Train Loss: 0.9496 | Train Acc: 22.34% | Val Acc: 20.67%\n",
      "100\n",
      "Epoch: 100 | Train Loss: 0.3393 | Train Acc: 85.01% | Val Acc: 79.67%\n",
      "200\n",
      "Epoch: 200 | Train Loss: 0.2307 | Train Acc: 91.51% | Val Acc: 83.67%\n",
      "300\n",
      "Epoch: 300 | Train Loss: 0.1383 | Train Acc: 96.00% | Val Acc: 85.33%\n",
      "Test accuracy: 82.39%\n",
      "Test Recall: 74.61%\n",
      "Test Precision: 78.32%\n"
     ]
    },
    {
     "name": "stderr",
     "output_type": "stream",
     "text": [
      "2024/09/08 17:33:08 WARNING mlflow.models.model: Input example should be provided to infer model signature if the model signature is not provided when logging the model.\n"
     ]
    },
    {
     "name": "stdout",
     "output_type": "stream",
     "text": [
      "35\n"
     ]
    },
    {
     "name": "stderr",
     "output_type": "stream",
     "text": [
      "/home/azureuser/rumour-detection-pheme/utils.py:139: SettingWithCopyWarning: \n",
      "A value is trying to be set on a copy of a slice from a DataFrame.\n",
      "Try using .loc[row_indexer,col_indexer] = value instead\n",
      "\n",
      "See the caveats in the documentation: https://pandas.pydata.org/pandas-docs/stable/user_guide/indexing.html#returning-a-view-versus-a-copy\n",
      "  reply_features[['reply_followers','time_diff']] = scaler.fit_transform(reply_features[['reply_followers','time_diff']])\n"
     ]
    },
    {
     "name": "stdout",
     "output_type": "stream",
     "text": [
      "0\n",
      "Epoch:   0 | Train Loss: 0.7459 | Train Acc: 34.90% | Val Acc: 36.00%\n",
      "100\n",
      "Epoch: 100 | Train Loss: 0.3313 | Train Acc: 86.44% | Val Acc: 82.00%\n",
      "200\n",
      "Epoch: 200 | Train Loss: 0.2015 | Train Acc: 92.93% | Val Acc: 83.00%\n",
      "300\n",
      "Epoch: 300 | Train Loss: 0.1194 | Train Acc: 97.00% | Val Acc: 83.00%\n",
      "Test accuracy: 86.05%\n",
      "Test Recall: 78.66%\n",
      "Test Precision: 78.36%\n"
     ]
    },
    {
     "name": "stderr",
     "output_type": "stream",
     "text": [
      "2024/09/08 17:33:30 WARNING mlflow.models.model: Input example should be provided to infer model signature if the model signature is not provided when logging the model.\n"
     ]
    },
    {
     "name": "stdout",
     "output_type": "stream",
     "text": [
      "36\n"
     ]
    },
    {
     "name": "stderr",
     "output_type": "stream",
     "text": [
      "/home/azureuser/rumour-detection-pheme/utils.py:139: SettingWithCopyWarning: \n",
      "A value is trying to be set on a copy of a slice from a DataFrame.\n",
      "Try using .loc[row_indexer,col_indexer] = value instead\n",
      "\n",
      "See the caveats in the documentation: https://pandas.pydata.org/pandas-docs/stable/user_guide/indexing.html#returning-a-view-versus-a-copy\n",
      "  reply_features[['reply_followers','time_diff']] = scaler.fit_transform(reply_features[['reply_followers','time_diff']])\n"
     ]
    },
    {
     "name": "stdout",
     "output_type": "stream",
     "text": [
      "0\n",
      "Epoch:   0 | Train Loss: 0.7908 | Train Acc: 64.88% | Val Acc: 68.33%\n",
      "100\n",
      "Epoch: 100 | Train Loss: 0.3263 | Train Acc: 84.80% | Val Acc: 84.33%\n",
      "200\n",
      "Epoch: 200 | Train Loss: 0.2248 | Train Acc: 91.58% | Val Acc: 86.67%\n",
      "300\n",
      "Epoch: 300 | Train Loss: 0.1418 | Train Acc: 95.22% | Val Acc: 88.00%\n",
      "Test accuracy: 86.71%\n",
      "Test Recall: 82.62%\n",
      "Test Precision: 84.02%\n"
     ]
    },
    {
     "name": "stderr",
     "output_type": "stream",
     "text": [
      "2024/09/08 17:33:52 WARNING mlflow.models.model: Input example should be provided to infer model signature if the model signature is not provided when logging the model.\n"
     ]
    },
    {
     "name": "stdout",
     "output_type": "stream",
     "text": [
      "37\n"
     ]
    },
    {
     "name": "stderr",
     "output_type": "stream",
     "text": [
      "/home/azureuser/rumour-detection-pheme/utils.py:139: SettingWithCopyWarning: \n",
      "A value is trying to be set on a copy of a slice from a DataFrame.\n",
      "Try using .loc[row_indexer,col_indexer] = value instead\n",
      "\n",
      "See the caveats in the documentation: https://pandas.pydata.org/pandas-docs/stable/user_guide/indexing.html#returning-a-view-versus-a-copy\n",
      "  reply_features[['reply_followers','time_diff']] = scaler.fit_transform(reply_features[['reply_followers','time_diff']])\n"
     ]
    },
    {
     "name": "stdout",
     "output_type": "stream",
     "text": [
      "0\n",
      "Epoch:   0 | Train Loss: 0.7820 | Train Acc: 23.84% | Val Acc: 20.67%\n",
      "100\n",
      "Epoch: 100 | Train Loss: 0.3503 | Train Acc: 85.30% | Val Acc: 84.67%\n",
      "200\n",
      "Epoch: 200 | Train Loss: 0.2241 | Train Acc: 91.15% | Val Acc: 87.33%\n",
      "300\n",
      "Epoch: 300 | Train Loss: 0.1364 | Train Acc: 95.57% | Val Acc: 87.00%\n",
      "Test accuracy: 86.38%\n",
      "Test Recall: 76.43%\n",
      "Test Precision: 80.07%\n"
     ]
    },
    {
     "name": "stderr",
     "output_type": "stream",
     "text": [
      "2024/09/08 17:34:16 WARNING mlflow.models.model: Input example should be provided to infer model signature if the model signature is not provided when logging the model.\n"
     ]
    },
    {
     "name": "stdout",
     "output_type": "stream",
     "text": [
      "38\n"
     ]
    },
    {
     "name": "stderr",
     "output_type": "stream",
     "text": [
      "/home/azureuser/rumour-detection-pheme/utils.py:139: SettingWithCopyWarning: \n",
      "A value is trying to be set on a copy of a slice from a DataFrame.\n",
      "Try using .loc[row_indexer,col_indexer] = value instead\n",
      "\n",
      "See the caveats in the documentation: https://pandas.pydata.org/pandas-docs/stable/user_guide/indexing.html#returning-a-view-versus-a-copy\n",
      "  reply_features[['reply_followers','time_diff']] = scaler.fit_transform(reply_features[['reply_followers','time_diff']])\n"
     ]
    },
    {
     "name": "stdout",
     "output_type": "stream",
     "text": [
      "0\n",
      "Epoch:   0 | Train Loss: 0.8265 | Train Acc: 25.84% | Val Acc: 19.00%\n",
      "100\n",
      "Epoch: 100 | Train Loss: 0.3603 | Train Acc: 84.87% | Val Acc: 88.00%\n",
      "200\n",
      "Epoch: 200 | Train Loss: 0.2398 | Train Acc: 91.22% | Val Acc: 88.67%\n",
      "300\n",
      "Epoch: 300 | Train Loss: 0.1526 | Train Acc: 95.93% | Val Acc: 89.00%\n",
      "Test accuracy: 86.71%\n",
      "Test Recall: 77.13%\n",
      "Test Precision: 83.05%\n"
     ]
    },
    {
     "name": "stderr",
     "output_type": "stream",
     "text": [
      "2024/09/08 17:34:39 WARNING mlflow.models.model: Input example should be provided to infer model signature if the model signature is not provided when logging the model.\n"
     ]
    },
    {
     "name": "stdout",
     "output_type": "stream",
     "text": [
      "39\n"
     ]
    },
    {
     "name": "stderr",
     "output_type": "stream",
     "text": [
      "/home/azureuser/rumour-detection-pheme/utils.py:139: SettingWithCopyWarning: \n",
      "A value is trying to be set on a copy of a slice from a DataFrame.\n",
      "Try using .loc[row_indexer,col_indexer] = value instead\n",
      "\n",
      "See the caveats in the documentation: https://pandas.pydata.org/pandas-docs/stable/user_guide/indexing.html#returning-a-view-versus-a-copy\n",
      "  reply_features[['reply_followers','time_diff']] = scaler.fit_transform(reply_features[['reply_followers','time_diff']])\n"
     ]
    },
    {
     "name": "stdout",
     "output_type": "stream",
     "text": [
      "0\n",
      "Epoch:   0 | Train Loss: 0.7600 | Train Acc: 44.04% | Val Acc: 46.00%\n",
      "100\n",
      "Epoch: 100 | Train Loss: 0.3211 | Train Acc: 86.37% | Val Acc: 85.00%\n",
      "200\n",
      "Epoch: 200 | Train Loss: 0.2003 | Train Acc: 92.72% | Val Acc: 84.67%\n",
      "300\n",
      "Epoch: 300 | Train Loss: 0.1339 | Train Acc: 96.29% | Val Acc: 84.33%\n",
      "Test accuracy: 85.05%\n",
      "Test Recall: 79.16%\n",
      "Test Precision: 77.31%\n"
     ]
    },
    {
     "name": "stderr",
     "output_type": "stream",
     "text": [
      "2024/09/08 17:35:02 WARNING mlflow.models.model: Input example should be provided to infer model signature if the model signature is not provided when logging the model.\n"
     ]
    },
    {
     "name": "stdout",
     "output_type": "stream",
     "text": [
      "40\n"
     ]
    },
    {
     "name": "stderr",
     "output_type": "stream",
     "text": [
      "/home/azureuser/rumour-detection-pheme/utils.py:139: SettingWithCopyWarning: \n",
      "A value is trying to be set on a copy of a slice from a DataFrame.\n",
      "Try using .loc[row_indexer,col_indexer] = value instead\n",
      "\n",
      "See the caveats in the documentation: https://pandas.pydata.org/pandas-docs/stable/user_guide/indexing.html#returning-a-view-versus-a-copy\n",
      "  reply_features[['reply_followers','time_diff']] = scaler.fit_transform(reply_features[['reply_followers','time_diff']])\n"
     ]
    },
    {
     "name": "stdout",
     "output_type": "stream",
     "text": [
      "0\n",
      "Epoch:   0 | Train Loss: 0.7288 | Train Acc: 75.09% | Val Acc: 75.33%\n",
      "100\n",
      "Epoch: 100 | Train Loss: 0.3264 | Train Acc: 86.08% | Val Acc: 87.33%\n",
      "200\n",
      "Epoch: 200 | Train Loss: 0.2089 | Train Acc: 91.51% | Val Acc: 88.00%\n",
      "300\n",
      "Epoch: 300 | Train Loss: 0.1126 | Train Acc: 95.57% | Val Acc: 87.00%\n",
      "Test accuracy: 81.40%\n",
      "Test Recall: 79.06%\n",
      "Test Precision: 80.06%\n"
     ]
    },
    {
     "name": "stderr",
     "output_type": "stream",
     "text": [
      "2024/09/08 17:35:24 WARNING mlflow.models.model: Input example should be provided to infer model signature if the model signature is not provided when logging the model.\n"
     ]
    },
    {
     "name": "stdout",
     "output_type": "stream",
     "text": [
      "41\n"
     ]
    },
    {
     "name": "stderr",
     "output_type": "stream",
     "text": [
      "/home/azureuser/rumour-detection-pheme/utils.py:139: SettingWithCopyWarning: \n",
      "A value is trying to be set on a copy of a slice from a DataFrame.\n",
      "Try using .loc[row_indexer,col_indexer] = value instead\n",
      "\n",
      "See the caveats in the documentation: https://pandas.pydata.org/pandas-docs/stable/user_guide/indexing.html#returning-a-view-versus-a-copy\n",
      "  reply_features[['reply_followers','time_diff']] = scaler.fit_transform(reply_features[['reply_followers','time_diff']])\n"
     ]
    },
    {
     "name": "stdout",
     "output_type": "stream",
     "text": [
      "0\n",
      "Epoch:   0 | Train Loss: 0.7409 | Train Acc: 51.25% | Val Acc: 50.67%\n",
      "100\n",
      "Epoch: 100 | Train Loss: 0.3135 | Train Acc: 87.72% | Val Acc: 84.67%\n",
      "200\n",
      "Epoch: 200 | Train Loss: 0.1942 | Train Acc: 93.36% | Val Acc: 87.00%\n",
      "300\n",
      "Epoch: 300 | Train Loss: 0.1028 | Train Acc: 98.29% | Val Acc: 88.67%\n",
      "Test accuracy: 86.05%\n",
      "Test Recall: 80.79%\n",
      "Test Precision: 82.82%\n"
     ]
    },
    {
     "name": "stderr",
     "output_type": "stream",
     "text": [
      "2024/09/08 17:35:48 WARNING mlflow.models.model: Input example should be provided to infer model signature if the model signature is not provided when logging the model.\n"
     ]
    },
    {
     "name": "stdout",
     "output_type": "stream",
     "text": [
      "42\n"
     ]
    },
    {
     "name": "stderr",
     "output_type": "stream",
     "text": [
      "/home/azureuser/rumour-detection-pheme/utils.py:139: SettingWithCopyWarning: \n",
      "A value is trying to be set on a copy of a slice from a DataFrame.\n",
      "Try using .loc[row_indexer,col_indexer] = value instead\n",
      "\n",
      "See the caveats in the documentation: https://pandas.pydata.org/pandas-docs/stable/user_guide/indexing.html#returning-a-view-versus-a-copy\n",
      "  reply_features[['reply_followers','time_diff']] = scaler.fit_transform(reply_features[['reply_followers','time_diff']])\n"
     ]
    },
    {
     "name": "stdout",
     "output_type": "stream",
     "text": [
      "0\n",
      "Epoch:   0 | Train Loss: 0.8629 | Train Acc: 55.96% | Val Acc: 55.67%\n",
      "100\n",
      "Epoch: 100 | Train Loss: 0.3345 | Train Acc: 85.30% | Val Acc: 82.67%\n",
      "200\n",
      "Epoch: 200 | Train Loss: 0.2391 | Train Acc: 90.86% | Val Acc: 85.67%\n",
      "300\n",
      "Epoch: 300 | Train Loss: 0.1535 | Train Acc: 95.07% | Val Acc: 87.00%\n",
      "Test accuracy: 85.38%\n",
      "Test Recall: 80.47%\n",
      "Test Precision: 80.95%\n"
     ]
    },
    {
     "name": "stderr",
     "output_type": "stream",
     "text": [
      "2024/09/08 17:36:10 WARNING mlflow.models.model: Input example should be provided to infer model signature if the model signature is not provided when logging the model.\n"
     ]
    },
    {
     "name": "stdout",
     "output_type": "stream",
     "text": [
      "43\n"
     ]
    },
    {
     "name": "stderr",
     "output_type": "stream",
     "text": [
      "/home/azureuser/rumour-detection-pheme/utils.py:139: SettingWithCopyWarning: \n",
      "A value is trying to be set on a copy of a slice from a DataFrame.\n",
      "Try using .loc[row_indexer,col_indexer] = value instead\n",
      "\n",
      "See the caveats in the documentation: https://pandas.pydata.org/pandas-docs/stable/user_guide/indexing.html#returning-a-view-versus-a-copy\n",
      "  reply_features[['reply_followers','time_diff']] = scaler.fit_transform(reply_features[['reply_followers','time_diff']])\n"
     ]
    },
    {
     "name": "stdout",
     "output_type": "stream",
     "text": [
      "0\n",
      "Epoch:   0 | Train Loss: 0.6008 | Train Acc: 77.37% | Val Acc: 79.33%\n",
      "100\n",
      "Epoch: 100 | Train Loss: 0.3048 | Train Acc: 86.94% | Val Acc: 89.67%\n",
      "200\n",
      "Epoch: 200 | Train Loss: 0.1779 | Train Acc: 93.65% | Val Acc: 90.00%\n",
      "300\n",
      "Epoch: 300 | Train Loss: 0.1089 | Train Acc: 98.14% | Val Acc: 89.33%\n",
      "Test accuracy: 86.38%\n",
      "Test Recall: 81.28%\n",
      "Test Precision: 82.01%\n"
     ]
    },
    {
     "name": "stderr",
     "output_type": "stream",
     "text": [
      "2024/09/08 17:36:34 WARNING mlflow.models.model: Input example should be provided to infer model signature if the model signature is not provided when logging the model.\n"
     ]
    },
    {
     "name": "stdout",
     "output_type": "stream",
     "text": [
      "44\n"
     ]
    },
    {
     "name": "stderr",
     "output_type": "stream",
     "text": [
      "/home/azureuser/rumour-detection-pheme/utils.py:139: SettingWithCopyWarning: \n",
      "A value is trying to be set on a copy of a slice from a DataFrame.\n",
      "Try using .loc[row_indexer,col_indexer] = value instead\n",
      "\n",
      "See the caveats in the documentation: https://pandas.pydata.org/pandas-docs/stable/user_guide/indexing.html#returning-a-view-versus-a-copy\n",
      "  reply_features[['reply_followers','time_diff']] = scaler.fit_transform(reply_features[['reply_followers','time_diff']])\n"
     ]
    },
    {
     "name": "stdout",
     "output_type": "stream",
     "text": [
      "0\n",
      "Epoch:   0 | Train Loss: 0.8623 | Train Acc: 36.97% | Val Acc: 37.33%\n",
      "100\n",
      "Epoch: 100 | Train Loss: 0.3360 | Train Acc: 85.22% | Val Acc: 79.67%\n",
      "200\n",
      "Epoch: 200 | Train Loss: 0.2066 | Train Acc: 92.29% | Val Acc: 84.00%\n",
      "300\n",
      "Epoch: 300 | Train Loss: 0.1096 | Train Acc: 97.29% | Val Acc: 84.00%\n",
      "Test accuracy: 84.05%\n",
      "Test Recall: 75.35%\n",
      "Test Precision: 78.42%\n"
     ]
    },
    {
     "name": "stderr",
     "output_type": "stream",
     "text": [
      "2024/09/08 17:36:57 WARNING mlflow.models.model: Input example should be provided to infer model signature if the model signature is not provided when logging the model.\n"
     ]
    },
    {
     "name": "stdout",
     "output_type": "stream",
     "text": [
      "45\n"
     ]
    },
    {
     "name": "stderr",
     "output_type": "stream",
     "text": [
      "/home/azureuser/rumour-detection-pheme/utils.py:139: SettingWithCopyWarning: \n",
      "A value is trying to be set on a copy of a slice from a DataFrame.\n",
      "Try using .loc[row_indexer,col_indexer] = value instead\n",
      "\n",
      "See the caveats in the documentation: https://pandas.pydata.org/pandas-docs/stable/user_guide/indexing.html#returning-a-view-versus-a-copy\n",
      "  reply_features[['reply_followers','time_diff']] = scaler.fit_transform(reply_features[['reply_followers','time_diff']])\n"
     ]
    },
    {
     "name": "stdout",
     "output_type": "stream",
     "text": [
      "0\n",
      "Epoch:   0 | Train Loss: 0.6845 | Train Acc: 76.09% | Val Acc: 69.67%\n",
      "100\n",
      "Epoch: 100 | Train Loss: 0.3086 | Train Acc: 87.37% | Val Acc: 83.67%\n",
      "200\n",
      "Epoch: 200 | Train Loss: 0.1983 | Train Acc: 93.00% | Val Acc: 83.67%\n",
      "300\n",
      "Epoch: 300 | Train Loss: 0.1304 | Train Acc: 97.29% | Val Acc: 86.00%\n",
      "Test accuracy: 88.37%\n",
      "Test Recall: 80.18%\n",
      "Test Precision: 83.30%\n"
     ]
    },
    {
     "name": "stderr",
     "output_type": "stream",
     "text": [
      "2024/09/08 17:37:21 WARNING mlflow.models.model: Input example should be provided to infer model signature if the model signature is not provided when logging the model.\n"
     ]
    },
    {
     "name": "stdout",
     "output_type": "stream",
     "text": [
      "46\n"
     ]
    },
    {
     "name": "stderr",
     "output_type": "stream",
     "text": [
      "/home/azureuser/rumour-detection-pheme/utils.py:139: SettingWithCopyWarning: \n",
      "A value is trying to be set on a copy of a slice from a DataFrame.\n",
      "Try using .loc[row_indexer,col_indexer] = value instead\n",
      "\n",
      "See the caveats in the documentation: https://pandas.pydata.org/pandas-docs/stable/user_guide/indexing.html#returning-a-view-versus-a-copy\n",
      "  reply_features[['reply_followers','time_diff']] = scaler.fit_transform(reply_features[['reply_followers','time_diff']])\n"
     ]
    },
    {
     "name": "stdout",
     "output_type": "stream",
     "text": [
      "0\n",
      "Epoch:   0 | Train Loss: 0.6731 | Train Acc: 76.87% | Val Acc: 77.67%\n",
      "100\n",
      "Epoch: 100 | Train Loss: 0.3157 | Train Acc: 87.08% | Val Acc: 86.33%\n",
      "200\n",
      "Epoch: 200 | Train Loss: 0.1940 | Train Acc: 92.93% | Val Acc: 88.67%\n",
      "300\n",
      "Epoch: 300 | Train Loss: 0.1164 | Train Acc: 96.72% | Val Acc: 87.67%\n",
      "Test accuracy: 89.37%\n",
      "Test Recall: 80.36%\n",
      "Test Precision: 85.09%\n"
     ]
    },
    {
     "name": "stderr",
     "output_type": "stream",
     "text": [
      "2024/09/08 17:37:46 WARNING mlflow.models.model: Input example should be provided to infer model signature if the model signature is not provided when logging the model.\n"
     ]
    },
    {
     "name": "stdout",
     "output_type": "stream",
     "text": [
      "47\n"
     ]
    },
    {
     "name": "stderr",
     "output_type": "stream",
     "text": [
      "/home/azureuser/rumour-detection-pheme/utils.py:139: SettingWithCopyWarning: \n",
      "A value is trying to be set on a copy of a slice from a DataFrame.\n",
      "Try using .loc[row_indexer,col_indexer] = value instead\n",
      "\n",
      "See the caveats in the documentation: https://pandas.pydata.org/pandas-docs/stable/user_guide/indexing.html#returning-a-view-versus-a-copy\n",
      "  reply_features[['reply_followers','time_diff']] = scaler.fit_transform(reply_features[['reply_followers','time_diff']])\n"
     ]
    },
    {
     "name": "stdout",
     "output_type": "stream",
     "text": [
      "0\n",
      "Epoch:   0 | Train Loss: 0.7083 | Train Acc: 68.95% | Val Acc: 69.00%\n",
      "100\n",
      "Epoch: 100 | Train Loss: 0.3099 | Train Acc: 87.15% | Val Acc: 83.00%\n",
      "200\n",
      "Epoch: 200 | Train Loss: 0.1712 | Train Acc: 94.79% | Val Acc: 85.00%\n",
      "300\n",
      "Epoch: 300 | Train Loss: 0.0795 | Train Acc: 97.50% | Val Acc: 85.00%\n",
      "Test accuracy: 85.71%\n",
      "Test Recall: 81.44%\n",
      "Test Precision: 77.44%\n"
     ]
    },
    {
     "name": "stderr",
     "output_type": "stream",
     "text": [
      "2024/09/08 17:38:08 WARNING mlflow.models.model: Input example should be provided to infer model signature if the model signature is not provided when logging the model.\n"
     ]
    },
    {
     "name": "stdout",
     "output_type": "stream",
     "text": [
      "48\n"
     ]
    },
    {
     "name": "stderr",
     "output_type": "stream",
     "text": [
      "/home/azureuser/rumour-detection-pheme/utils.py:139: SettingWithCopyWarning: \n",
      "A value is trying to be set on a copy of a slice from a DataFrame.\n",
      "Try using .loc[row_indexer,col_indexer] = value instead\n",
      "\n",
      "See the caveats in the documentation: https://pandas.pydata.org/pandas-docs/stable/user_guide/indexing.html#returning-a-view-versus-a-copy\n",
      "  reply_features[['reply_followers','time_diff']] = scaler.fit_transform(reply_features[['reply_followers','time_diff']])\n"
     ]
    },
    {
     "name": "stdout",
     "output_type": "stream",
     "text": [
      "0\n",
      "Epoch:   0 | Train Loss: 0.7590 | Train Acc: 29.41% | Val Acc: 30.33%\n",
      "100\n",
      "Epoch: 100 | Train Loss: 0.3088 | Train Acc: 87.01% | Val Acc: 84.33%\n",
      "200\n",
      "Epoch: 200 | Train Loss: 0.1949 | Train Acc: 92.65% | Val Acc: 87.33%\n",
      "300\n",
      "Epoch: 300 | Train Loss: 0.1046 | Train Acc: 97.57% | Val Acc: 87.33%\n",
      "Test accuracy: 85.05%\n",
      "Test Recall: 76.21%\n",
      "Test Precision: 82.14%\n"
     ]
    },
    {
     "name": "stderr",
     "output_type": "stream",
     "text": [
      "2024/09/08 17:38:31 WARNING mlflow.models.model: Input example should be provided to infer model signature if the model signature is not provided when logging the model.\n"
     ]
    },
    {
     "name": "stdout",
     "output_type": "stream",
     "text": [
      "49\n"
     ]
    },
    {
     "name": "stderr",
     "output_type": "stream",
     "text": [
      "/home/azureuser/rumour-detection-pheme/utils.py:139: SettingWithCopyWarning: \n",
      "A value is trying to be set on a copy of a slice from a DataFrame.\n",
      "Try using .loc[row_indexer,col_indexer] = value instead\n",
      "\n",
      "See the caveats in the documentation: https://pandas.pydata.org/pandas-docs/stable/user_guide/indexing.html#returning-a-view-versus-a-copy\n",
      "  reply_features[['reply_followers','time_diff']] = scaler.fit_transform(reply_features[['reply_followers','time_diff']])\n"
     ]
    },
    {
     "name": "stdout",
     "output_type": "stream",
     "text": [
      "0\n",
      "Epoch:   0 | Train Loss: 0.7157 | Train Acc: 62.24% | Val Acc: 61.67%\n",
      "100\n",
      "Epoch: 100 | Train Loss: 0.3112 | Train Acc: 86.80% | Val Acc: 81.33%\n",
      "200\n",
      "Epoch: 200 | Train Loss: 0.2023 | Train Acc: 92.72% | Val Acc: 84.67%\n",
      "300\n",
      "Epoch: 300 | Train Loss: 0.1035 | Train Acc: 97.22% | Val Acc: 85.67%\n",
      "Test accuracy: 85.38%\n",
      "Test Recall: 80.05%\n",
      "Test Precision: 79.77%\n"
     ]
    },
    {
     "name": "stderr",
     "output_type": "stream",
     "text": [
      "2024/09/08 17:38:54 WARNING mlflow.models.model: Input example should be provided to infer model signature if the model signature is not provided when logging the model.\n"
     ]
    },
    {
     "name": "stdout",
     "output_type": "stream",
     "text": [
      "50\n"
     ]
    },
    {
     "name": "stderr",
     "output_type": "stream",
     "text": [
      "/home/azureuser/rumour-detection-pheme/utils.py:139: SettingWithCopyWarning: \n",
      "A value is trying to be set on a copy of a slice from a DataFrame.\n",
      "Try using .loc[row_indexer,col_indexer] = value instead\n",
      "\n",
      "See the caveats in the documentation: https://pandas.pydata.org/pandas-docs/stable/user_guide/indexing.html#returning-a-view-versus-a-copy\n",
      "  reply_features[['reply_followers','time_diff']] = scaler.fit_transform(reply_features[['reply_followers','time_diff']])\n"
     ]
    },
    {
     "name": "stdout",
     "output_type": "stream",
     "text": [
      "0\n",
      "Epoch:   0 | Train Loss: 0.6850 | Train Acc: 76.95% | Val Acc: 79.67%\n",
      "100\n",
      "Epoch: 100 | Train Loss: 0.3051 | Train Acc: 87.01% | Val Acc: 88.33%\n",
      "200\n",
      "Epoch: 200 | Train Loss: 0.1921 | Train Acc: 92.51% | Val Acc: 86.00%\n",
      "300\n",
      "Epoch: 300 | Train Loss: 0.1039 | Train Acc: 97.79% | Val Acc: 87.00%\n",
      "Test accuracy: 89.37%\n",
      "Test Recall: 78.82%\n",
      "Test Precision: 82.01%\n"
     ]
    },
    {
     "name": "stderr",
     "output_type": "stream",
     "text": [
      "2024/09/08 17:39:18 WARNING mlflow.models.model: Input example should be provided to infer model signature if the model signature is not provided when logging the model.\n"
     ]
    },
    {
     "name": "stdout",
     "output_type": "stream",
     "text": [
      "51\n"
     ]
    },
    {
     "name": "stderr",
     "output_type": "stream",
     "text": [
      "/home/azureuser/rumour-detection-pheme/utils.py:139: SettingWithCopyWarning: \n",
      "A value is trying to be set on a copy of a slice from a DataFrame.\n",
      "Try using .loc[row_indexer,col_indexer] = value instead\n",
      "\n",
      "See the caveats in the documentation: https://pandas.pydata.org/pandas-docs/stable/user_guide/indexing.html#returning-a-view-versus-a-copy\n",
      "  reply_features[['reply_followers','time_diff']] = scaler.fit_transform(reply_features[['reply_followers','time_diff']])\n"
     ]
    },
    {
     "name": "stdout",
     "output_type": "stream",
     "text": [
      "0\n",
      "Epoch:   0 | Train Loss: 0.8396 | Train Acc: 23.05% | Val Acc: 29.67%\n",
      "100\n",
      "Epoch: 100 | Train Loss: 0.3281 | Train Acc: 84.87% | Val Acc: 83.00%\n",
      "200\n",
      "Epoch: 200 | Train Loss: 0.2290 | Train Acc: 91.29% | Val Acc: 87.33%\n",
      "300\n",
      "Epoch: 300 | Train Loss: 0.1200 | Train Acc: 96.93% | Val Acc: 89.00%\n",
      "Test accuracy: 84.05%\n",
      "Test Recall: 77.02%\n",
      "Test Precision: 83.08%\n"
     ]
    },
    {
     "name": "stderr",
     "output_type": "stream",
     "text": [
      "2024/09/08 17:39:42 WARNING mlflow.models.model: Input example should be provided to infer model signature if the model signature is not provided when logging the model.\n"
     ]
    },
    {
     "name": "stdout",
     "output_type": "stream",
     "text": [
      "52\n"
     ]
    },
    {
     "name": "stderr",
     "output_type": "stream",
     "text": [
      "/home/azureuser/rumour-detection-pheme/utils.py:139: SettingWithCopyWarning: \n",
      "A value is trying to be set on a copy of a slice from a DataFrame.\n",
      "Try using .loc[row_indexer,col_indexer] = value instead\n",
      "\n",
      "See the caveats in the documentation: https://pandas.pydata.org/pandas-docs/stable/user_guide/indexing.html#returning-a-view-versus-a-copy\n",
      "  reply_features[['reply_followers','time_diff']] = scaler.fit_transform(reply_features[['reply_followers','time_diff']])\n"
     ]
    },
    {
     "name": "stdout",
     "output_type": "stream",
     "text": [
      "0\n",
      "Epoch:   0 | Train Loss: 0.7596 | Train Acc: 73.38% | Val Acc: 71.67%\n",
      "100\n",
      "Epoch: 100 | Train Loss: 0.3111 | Train Acc: 86.80% | Val Acc: 85.00%\n",
      "200\n",
      "Epoch: 200 | Train Loss: 0.2071 | Train Acc: 92.22% | Val Acc: 87.00%\n",
      "300\n",
      "Epoch: 300 | Train Loss: 0.1200 | Train Acc: 96.43% | Val Acc: 86.33%\n",
      "Test accuracy: 86.38%\n",
      "Test Recall: 78.56%\n",
      "Test Precision: 81.16%\n"
     ]
    },
    {
     "name": "stderr",
     "output_type": "stream",
     "text": [
      "2024/09/08 17:40:06 WARNING mlflow.models.model: Input example should be provided to infer model signature if the model signature is not provided when logging the model.\n"
     ]
    },
    {
     "name": "stdout",
     "output_type": "stream",
     "text": [
      "53\n"
     ]
    },
    {
     "name": "stderr",
     "output_type": "stream",
     "text": [
      "/home/azureuser/rumour-detection-pheme/utils.py:139: SettingWithCopyWarning: \n",
      "A value is trying to be set on a copy of a slice from a DataFrame.\n",
      "Try using .loc[row_indexer,col_indexer] = value instead\n",
      "\n",
      "See the caveats in the documentation: https://pandas.pydata.org/pandas-docs/stable/user_guide/indexing.html#returning-a-view-versus-a-copy\n",
      "  reply_features[['reply_followers','time_diff']] = scaler.fit_transform(reply_features[['reply_followers','time_diff']])\n"
     ]
    },
    {
     "name": "stdout",
     "output_type": "stream",
     "text": [
      "0\n",
      "Epoch:   0 | Train Loss: 0.6380 | Train Acc: 77.30% | Val Acc: 79.67%\n",
      "100\n",
      "Epoch: 100 | Train Loss: 0.3076 | Train Acc: 88.01% | Val Acc: 78.00%\n",
      "200\n",
      "Epoch: 200 | Train Loss: 0.1920 | Train Acc: 93.50% | Val Acc: 81.33%\n",
      "300\n",
      "Epoch: 300 | Train Loss: 0.1034 | Train Acc: 97.64% | Val Acc: 83.67%\n",
      "Test accuracy: 87.04%\n",
      "Test Recall: 80.29%\n",
      "Test Precision: 78.87%\n"
     ]
    },
    {
     "name": "stderr",
     "output_type": "stream",
     "text": [
      "2024/09/08 17:40:31 WARNING mlflow.models.model: Input example should be provided to infer model signature if the model signature is not provided when logging the model.\n"
     ]
    },
    {
     "name": "stdout",
     "output_type": "stream",
     "text": [
      "54\n"
     ]
    },
    {
     "name": "stderr",
     "output_type": "stream",
     "text": [
      "/home/azureuser/rumour-detection-pheme/utils.py:139: SettingWithCopyWarning: \n",
      "A value is trying to be set on a copy of a slice from a DataFrame.\n",
      "Try using .loc[row_indexer,col_indexer] = value instead\n",
      "\n",
      "See the caveats in the documentation: https://pandas.pydata.org/pandas-docs/stable/user_guide/indexing.html#returning-a-view-versus-a-copy\n",
      "  reply_features[['reply_followers','time_diff']] = scaler.fit_transform(reply_features[['reply_followers','time_diff']])\n"
     ]
    },
    {
     "name": "stdout",
     "output_type": "stream",
     "text": [
      "0\n",
      "Epoch:   0 | Train Loss: 0.7165 | Train Acc: 60.10% | Val Acc: 56.00%\n",
      "100\n",
      "Epoch: 100 | Train Loss: 0.3117 | Train Acc: 86.87% | Val Acc: 85.67%\n",
      "200\n",
      "Epoch: 200 | Train Loss: 0.2060 | Train Acc: 93.00% | Val Acc: 88.00%\n",
      "300\n",
      "Epoch: 300 | Train Loss: 0.1105 | Train Acc: 97.22% | Val Acc: 88.67%\n",
      "Test accuracy: 84.05%\n",
      "Test Recall: 78.70%\n",
      "Test Precision: 79.34%\n"
     ]
    },
    {
     "name": "stderr",
     "output_type": "stream",
     "text": [
      "2024/09/08 17:40:55 WARNING mlflow.models.model: Input example should be provided to infer model signature if the model signature is not provided when logging the model.\n"
     ]
    },
    {
     "name": "stdout",
     "output_type": "stream",
     "text": [
      "55\n"
     ]
    },
    {
     "name": "stderr",
     "output_type": "stream",
     "text": [
      "/home/azureuser/rumour-detection-pheme/utils.py:139: SettingWithCopyWarning: \n",
      "A value is trying to be set on a copy of a slice from a DataFrame.\n",
      "Try using .loc[row_indexer,col_indexer] = value instead\n",
      "\n",
      "See the caveats in the documentation: https://pandas.pydata.org/pandas-docs/stable/user_guide/indexing.html#returning-a-view-versus-a-copy\n",
      "  reply_features[['reply_followers','time_diff']] = scaler.fit_transform(reply_features[['reply_followers','time_diff']])\n"
     ]
    },
    {
     "name": "stdout",
     "output_type": "stream",
     "text": [
      "0\n",
      "Epoch:   0 | Train Loss: 0.7444 | Train Acc: 44.54% | Val Acc: 44.00%\n",
      "100\n",
      "Epoch: 100 | Train Loss: 0.3063 | Train Acc: 87.79% | Val Acc: 81.00%\n",
      "200\n",
      "Epoch: 200 | Train Loss: 0.1914 | Train Acc: 92.29% | Val Acc: 83.33%\n",
      "300\n",
      "Epoch: 300 | Train Loss: 0.1340 | Train Acc: 96.07% | Val Acc: 84.33%\n",
      "Test accuracy: 88.04%\n",
      "Test Recall: 81.05%\n",
      "Test Precision: 79.39%\n"
     ]
    },
    {
     "name": "stderr",
     "output_type": "stream",
     "text": [
      "2024/09/08 17:41:19 WARNING mlflow.models.model: Input example should be provided to infer model signature if the model signature is not provided when logging the model.\n"
     ]
    },
    {
     "name": "stdout",
     "output_type": "stream",
     "text": [
      "56\n"
     ]
    },
    {
     "name": "stderr",
     "output_type": "stream",
     "text": [
      "/home/azureuser/rumour-detection-pheme/utils.py:139: SettingWithCopyWarning: \n",
      "A value is trying to be set on a copy of a slice from a DataFrame.\n",
      "Try using .loc[row_indexer,col_indexer] = value instead\n",
      "\n",
      "See the caveats in the documentation: https://pandas.pydata.org/pandas-docs/stable/user_guide/indexing.html#returning-a-view-versus-a-copy\n",
      "  reply_features[['reply_followers','time_diff']] = scaler.fit_transform(reply_features[['reply_followers','time_diff']])\n"
     ]
    },
    {
     "name": "stdout",
     "output_type": "stream",
     "text": [
      "0\n",
      "Epoch:   0 | Train Loss: 0.7611 | Train Acc: 65.95% | Val Acc: 69.00%\n",
      "100\n",
      "Epoch: 100 | Train Loss: 0.3206 | Train Acc: 86.72% | Val Acc: 83.33%\n",
      "200\n",
      "Epoch: 200 | Train Loss: 0.1972 | Train Acc: 92.79% | Val Acc: 85.33%\n",
      "300\n",
      "Epoch: 300 | Train Loss: 0.1207 | Train Acc: 96.36% | Val Acc: 86.33%\n",
      "Test accuracy: 87.04%\n",
      "Test Recall: 81.88%\n",
      "Test Precision: 81.08%\n"
     ]
    },
    {
     "name": "stderr",
     "output_type": "stream",
     "text": [
      "2024/09/08 17:41:43 WARNING mlflow.models.model: Input example should be provided to infer model signature if the model signature is not provided when logging the model.\n"
     ]
    },
    {
     "name": "stdout",
     "output_type": "stream",
     "text": [
      "57\n"
     ]
    },
    {
     "name": "stderr",
     "output_type": "stream",
     "text": [
      "/home/azureuser/rumour-detection-pheme/utils.py:139: SettingWithCopyWarning: \n",
      "A value is trying to be set on a copy of a slice from a DataFrame.\n",
      "Try using .loc[row_indexer,col_indexer] = value instead\n",
      "\n",
      "See the caveats in the documentation: https://pandas.pydata.org/pandas-docs/stable/user_guide/indexing.html#returning-a-view-versus-a-copy\n",
      "  reply_features[['reply_followers','time_diff']] = scaler.fit_transform(reply_features[['reply_followers','time_diff']])\n"
     ]
    },
    {
     "name": "stdout",
     "output_type": "stream",
     "text": [
      "0\n",
      "Epoch:   0 | Train Loss: 0.7328 | Train Acc: 49.96% | Val Acc: 46.33%\n",
      "100\n",
      "Epoch: 100 | Train Loss: 0.3124 | Train Acc: 86.51% | Val Acc: 84.33%\n",
      "200\n",
      "Epoch: 200 | Train Loss: 0.1935 | Train Acc: 92.51% | Val Acc: 86.33%\n",
      "300\n",
      "Epoch: 300 | Train Loss: 0.1240 | Train Acc: 96.07% | Val Acc: 88.00%\n",
      "Test accuracy: 85.71%\n",
      "Test Recall: 81.38%\n",
      "Test Precision: 79.92%\n"
     ]
    },
    {
     "name": "stderr",
     "output_type": "stream",
     "text": [
      "2024/09/08 17:42:07 WARNING mlflow.models.model: Input example should be provided to infer model signature if the model signature is not provided when logging the model.\n"
     ]
    },
    {
     "name": "stdout",
     "output_type": "stream",
     "text": [
      "58\n"
     ]
    },
    {
     "name": "stderr",
     "output_type": "stream",
     "text": [
      "/home/azureuser/rumour-detection-pheme/utils.py:139: SettingWithCopyWarning: \n",
      "A value is trying to be set on a copy of a slice from a DataFrame.\n",
      "Try using .loc[row_indexer,col_indexer] = value instead\n",
      "\n",
      "See the caveats in the documentation: https://pandas.pydata.org/pandas-docs/stable/user_guide/indexing.html#returning-a-view-versus-a-copy\n",
      "  reply_features[['reply_followers','time_diff']] = scaler.fit_transform(reply_features[['reply_followers','time_diff']])\n"
     ]
    },
    {
     "name": "stdout",
     "output_type": "stream",
     "text": [
      "0\n",
      "Epoch:   0 | Train Loss: 0.7507 | Train Acc: 68.67% | Val Acc: 66.00%\n",
      "100\n",
      "Epoch: 100 | Train Loss: 0.3173 | Train Acc: 86.51% | Val Acc: 83.67%\n",
      "200\n",
      "Epoch: 200 | Train Loss: 0.1850 | Train Acc: 92.36% | Val Acc: 84.00%\n",
      "300\n",
      "Epoch: 300 | Train Loss: 0.1065 | Train Acc: 95.65% | Val Acc: 86.00%\n",
      "Test accuracy: 86.38%\n",
      "Test Recall: 83.07%\n",
      "Test Precision: 80.31%\n"
     ]
    },
    {
     "name": "stderr",
     "output_type": "stream",
     "text": [
      "2024/09/08 17:42:31 WARNING mlflow.models.model: Input example should be provided to infer model signature if the model signature is not provided when logging the model.\n"
     ]
    },
    {
     "name": "stdout",
     "output_type": "stream",
     "text": [
      "59\n"
     ]
    },
    {
     "name": "stderr",
     "output_type": "stream",
     "text": [
      "/home/azureuser/rumour-detection-pheme/utils.py:139: SettingWithCopyWarning: \n",
      "A value is trying to be set on a copy of a slice from a DataFrame.\n",
      "Try using .loc[row_indexer,col_indexer] = value instead\n",
      "\n",
      "See the caveats in the documentation: https://pandas.pydata.org/pandas-docs/stable/user_guide/indexing.html#returning-a-view-versus-a-copy\n",
      "  reply_features[['reply_followers','time_diff']] = scaler.fit_transform(reply_features[['reply_followers','time_diff']])\n"
     ]
    },
    {
     "name": "stdout",
     "output_type": "stream",
     "text": [
      "0\n",
      "Epoch:   0 | Train Loss: 0.7142 | Train Acc: 60.67% | Val Acc: 58.33%\n",
      "100\n",
      "Epoch: 100 | Train Loss: 0.3307 | Train Acc: 87.01% | Val Acc: 86.33%\n",
      "200\n",
      "Epoch: 200 | Train Loss: 0.2117 | Train Acc: 91.29% | Val Acc: 85.00%\n",
      "300\n",
      "Epoch: 300 | Train Loss: 0.1353 | Train Acc: 95.93% | Val Acc: 84.67%\n",
      "Test accuracy: 87.71%\n",
      "Test Recall: 80.40%\n",
      "Test Precision: 79.12%\n"
     ]
    },
    {
     "name": "stderr",
     "output_type": "stream",
     "text": [
      "2024/09/08 17:42:55 WARNING mlflow.models.model: Input example should be provided to infer model signature if the model signature is not provided when logging the model.\n"
     ]
    },
    {
     "name": "stdout",
     "output_type": "stream",
     "text": [
      "60\n"
     ]
    },
    {
     "name": "stderr",
     "output_type": "stream",
     "text": [
      "/home/azureuser/rumour-detection-pheme/utils.py:139: SettingWithCopyWarning: \n",
      "A value is trying to be set on a copy of a slice from a DataFrame.\n",
      "Try using .loc[row_indexer,col_indexer] = value instead\n",
      "\n",
      "See the caveats in the documentation: https://pandas.pydata.org/pandas-docs/stable/user_guide/indexing.html#returning-a-view-versus-a-copy\n",
      "  reply_features[['reply_followers','time_diff']] = scaler.fit_transform(reply_features[['reply_followers','time_diff']])\n"
     ]
    },
    {
     "name": "stdout",
     "output_type": "stream",
     "text": [
      "0\n",
      "Epoch:   0 | Train Loss: 0.7931 | Train Acc: 27.69% | Val Acc: 30.00%\n",
      "100\n",
      "Epoch: 100 | Train Loss: 0.3436 | Train Acc: 84.94% | Val Acc: 84.67%\n",
      "200\n",
      "Epoch: 200 | Train Loss: 0.2415 | Train Acc: 90.65% | Val Acc: 85.67%\n",
      "300\n",
      "Epoch: 300 | Train Loss: 0.1500 | Train Acc: 95.07% | Val Acc: 86.00%\n",
      "Test accuracy: 84.72%\n",
      "Test Recall: 79.69%\n",
      "Test Precision: 80.46%\n"
     ]
    },
    {
     "name": "stderr",
     "output_type": "stream",
     "text": [
      "2024/09/08 17:43:20 WARNING mlflow.models.model: Input example should be provided to infer model signature if the model signature is not provided when logging the model.\n"
     ]
    },
    {
     "name": "stdout",
     "output_type": "stream",
     "text": [
      "61\n"
     ]
    },
    {
     "name": "stderr",
     "output_type": "stream",
     "text": [
      "/home/azureuser/rumour-detection-pheme/utils.py:139: SettingWithCopyWarning: \n",
      "A value is trying to be set on a copy of a slice from a DataFrame.\n",
      "Try using .loc[row_indexer,col_indexer] = value instead\n",
      "\n",
      "See the caveats in the documentation: https://pandas.pydata.org/pandas-docs/stable/user_guide/indexing.html#returning-a-view-versus-a-copy\n",
      "  reply_features[['reply_followers','time_diff']] = scaler.fit_transform(reply_features[['reply_followers','time_diff']])\n"
     ]
    },
    {
     "name": "stdout",
     "output_type": "stream",
     "text": [
      "0\n",
      "Epoch:   0 | Train Loss: 0.6028 | Train Acc: 77.59% | Val Acc: 76.00%\n",
      "100\n",
      "Epoch: 100 | Train Loss: 0.3111 | Train Acc: 86.30% | Val Acc: 82.33%\n",
      "200\n",
      "Epoch: 200 | Train Loss: 0.1596 | Train Acc: 94.93% | Val Acc: 85.00%\n",
      "300\n",
      "Epoch: 300 | Train Loss: 0.0772 | Train Acc: 98.72% | Val Acc: 85.00%\n",
      "Test accuracy: 86.71%\n",
      "Test Recall: 77.57%\n",
      "Test Precision: 78.68%\n"
     ]
    },
    {
     "name": "stderr",
     "output_type": "stream",
     "text": [
      "2024/09/08 17:43:44 WARNING mlflow.models.model: Input example should be provided to infer model signature if the model signature is not provided when logging the model.\n"
     ]
    },
    {
     "name": "stdout",
     "output_type": "stream",
     "text": [
      "62\n"
     ]
    },
    {
     "name": "stderr",
     "output_type": "stream",
     "text": [
      "/home/azureuser/rumour-detection-pheme/utils.py:139: SettingWithCopyWarning: \n",
      "A value is trying to be set on a copy of a slice from a DataFrame.\n",
      "Try using .loc[row_indexer,col_indexer] = value instead\n",
      "\n",
      "See the caveats in the documentation: https://pandas.pydata.org/pandas-docs/stable/user_guide/indexing.html#returning-a-view-versus-a-copy\n",
      "  reply_features[['reply_followers','time_diff']] = scaler.fit_transform(reply_features[['reply_followers','time_diff']])\n"
     ]
    },
    {
     "name": "stdout",
     "output_type": "stream",
     "text": [
      "0\n",
      "Epoch:   0 | Train Loss: 0.7994 | Train Acc: 36.19% | Val Acc: 38.33%\n",
      "100\n",
      "Epoch: 100 | Train Loss: 0.3180 | Train Acc: 87.51% | Val Acc: 83.33%\n",
      "200\n",
      "Epoch: 200 | Train Loss: 0.2198 | Train Acc: 92.22% | Val Acc: 84.00%\n",
      "300\n",
      "Epoch: 300 | Train Loss: 0.1414 | Train Acc: 95.93% | Val Acc: 84.00%\n",
      "Test accuracy: 85.71%\n",
      "Test Recall: 79.88%\n",
      "Test Precision: 79.12%\n"
     ]
    },
    {
     "name": "stderr",
     "output_type": "stream",
     "text": [
      "2024/09/08 17:44:09 WARNING mlflow.models.model: Input example should be provided to infer model signature if the model signature is not provided when logging the model.\n"
     ]
    },
    {
     "name": "stdout",
     "output_type": "stream",
     "text": [
      "63\n"
     ]
    },
    {
     "name": "stderr",
     "output_type": "stream",
     "text": [
      "/home/azureuser/rumour-detection-pheme/utils.py:139: SettingWithCopyWarning: \n",
      "A value is trying to be set on a copy of a slice from a DataFrame.\n",
      "Try using .loc[row_indexer,col_indexer] = value instead\n",
      "\n",
      "See the caveats in the documentation: https://pandas.pydata.org/pandas-docs/stable/user_guide/indexing.html#returning-a-view-versus-a-copy\n",
      "  reply_features[['reply_followers','time_diff']] = scaler.fit_transform(reply_features[['reply_followers','time_diff']])\n"
     ]
    },
    {
     "name": "stdout",
     "output_type": "stream",
     "text": [
      "0\n",
      "Epoch:   0 | Train Loss: 0.6920 | Train Acc: 77.16% | Val Acc: 72.67%\n",
      "100\n",
      "Epoch: 100 | Train Loss: 0.3129 | Train Acc: 86.72% | Val Acc: 82.67%\n",
      "200\n",
      "Epoch: 200 | Train Loss: 0.1808 | Train Acc: 93.29% | Val Acc: 85.67%\n",
      "300\n",
      "Epoch: 300 | Train Loss: 0.1050 | Train Acc: 97.07% | Val Acc: 84.33%\n",
      "Test accuracy: 88.70%\n",
      "Test Recall: 81.07%\n",
      "Test Precision: 82.29%\n"
     ]
    },
    {
     "name": "stderr",
     "output_type": "stream",
     "text": [
      "2024/09/08 17:44:35 WARNING mlflow.models.model: Input example should be provided to infer model signature if the model signature is not provided when logging the model.\n"
     ]
    },
    {
     "name": "stdout",
     "output_type": "stream",
     "text": [
      "64\n"
     ]
    },
    {
     "name": "stderr",
     "output_type": "stream",
     "text": [
      "/home/azureuser/rumour-detection-pheme/utils.py:139: SettingWithCopyWarning: \n",
      "A value is trying to be set on a copy of a slice from a DataFrame.\n",
      "Try using .loc[row_indexer,col_indexer] = value instead\n",
      "\n",
      "See the caveats in the documentation: https://pandas.pydata.org/pandas-docs/stable/user_guide/indexing.html#returning-a-view-versus-a-copy\n",
      "  reply_features[['reply_followers','time_diff']] = scaler.fit_transform(reply_features[['reply_followers','time_diff']])\n"
     ]
    },
    {
     "name": "stdout",
     "output_type": "stream",
     "text": [
      "0\n",
      "Epoch:   0 | Train Loss: 0.6790 | Train Acc: 77.44% | Val Acc: 79.33%\n",
      "100\n",
      "Epoch: 100 | Train Loss: 0.3117 | Train Acc: 87.37% | Val Acc: 86.33%\n",
      "200\n",
      "Epoch: 200 | Train Loss: 0.2180 | Train Acc: 91.65% | Val Acc: 88.33%\n",
      "300\n",
      "Epoch: 300 | Train Loss: 0.1355 | Train Acc: 95.15% | Val Acc: 90.33%\n",
      "Test accuracy: 85.71%\n",
      "Test Recall: 85.02%\n",
      "Test Precision: 82.79%\n"
     ]
    },
    {
     "name": "stderr",
     "output_type": "stream",
     "text": [
      "2024/09/08 17:44:59 WARNING mlflow.models.model: Input example should be provided to infer model signature if the model signature is not provided when logging the model.\n"
     ]
    },
    {
     "name": "stdout",
     "output_type": "stream",
     "text": [
      "65\n"
     ]
    },
    {
     "name": "stderr",
     "output_type": "stream",
     "text": [
      "/home/azureuser/rumour-detection-pheme/utils.py:139: SettingWithCopyWarning: \n",
      "A value is trying to be set on a copy of a slice from a DataFrame.\n",
      "Try using .loc[row_indexer,col_indexer] = value instead\n",
      "\n",
      "See the caveats in the documentation: https://pandas.pydata.org/pandas-docs/stable/user_guide/indexing.html#returning-a-view-versus-a-copy\n",
      "  reply_features[['reply_followers','time_diff']] = scaler.fit_transform(reply_features[['reply_followers','time_diff']])\n"
     ]
    },
    {
     "name": "stdout",
     "output_type": "stream",
     "text": [
      "0\n",
      "Epoch:   0 | Train Loss: 0.7440 | Train Acc: 66.95% | Val Acc: 63.67%\n",
      "100\n",
      "Epoch: 100 | Train Loss: 0.3118 | Train Acc: 86.87% | Val Acc: 81.33%\n",
      "200\n",
      "Epoch: 200 | Train Loss: 0.1997 | Train Acc: 92.58% | Val Acc: 84.33%\n",
      "300\n",
      "Epoch: 300 | Train Loss: 0.1020 | Train Acc: 97.07% | Val Acc: 86.33%\n",
      "Test accuracy: 92.03%\n",
      "Test Recall: 82.68%\n",
      "Test Precision: 83.80%\n"
     ]
    },
    {
     "name": "stderr",
     "output_type": "stream",
     "text": [
      "2024/09/08 17:45:24 WARNING mlflow.models.model: Input example should be provided to infer model signature if the model signature is not provided when logging the model.\n"
     ]
    },
    {
     "name": "stdout",
     "output_type": "stream",
     "text": [
      "66\n"
     ]
    },
    {
     "name": "stderr",
     "output_type": "stream",
     "text": [
      "/home/azureuser/rumour-detection-pheme/utils.py:139: SettingWithCopyWarning: \n",
      "A value is trying to be set on a copy of a slice from a DataFrame.\n",
      "Try using .loc[row_indexer,col_indexer] = value instead\n",
      "\n",
      "See the caveats in the documentation: https://pandas.pydata.org/pandas-docs/stable/user_guide/indexing.html#returning-a-view-versus-a-copy\n",
      "  reply_features[['reply_followers','time_diff']] = scaler.fit_transform(reply_features[['reply_followers','time_diff']])\n"
     ]
    },
    {
     "name": "stdout",
     "output_type": "stream",
     "text": [
      "0\n",
      "Epoch:   0 | Train Loss: 0.6633 | Train Acc: 77.52% | Val Acc: 76.67%\n",
      "100\n",
      "Epoch: 100 | Train Loss: 0.2961 | Train Acc: 87.29% | Val Acc: 77.67%\n",
      "200\n",
      "Epoch: 200 | Train Loss: 0.1870 | Train Acc: 93.72% | Val Acc: 81.67%\n",
      "300\n",
      "Epoch: 300 | Train Loss: 0.1135 | Train Acc: 97.22% | Val Acc: 82.33%\n",
      "Test accuracy: 84.72%\n",
      "Test Recall: 76.97%\n",
      "Test Precision: 76.68%\n"
     ]
    },
    {
     "name": "stderr",
     "output_type": "stream",
     "text": [
      "2024/09/08 17:45:49 WARNING mlflow.models.model: Input example should be provided to infer model signature if the model signature is not provided when logging the model.\n"
     ]
    },
    {
     "name": "stdout",
     "output_type": "stream",
     "text": [
      "67\n"
     ]
    },
    {
     "name": "stderr",
     "output_type": "stream",
     "text": [
      "/home/azureuser/rumour-detection-pheme/utils.py:139: SettingWithCopyWarning: \n",
      "A value is trying to be set on a copy of a slice from a DataFrame.\n",
      "Try using .loc[row_indexer,col_indexer] = value instead\n",
      "\n",
      "See the caveats in the documentation: https://pandas.pydata.org/pandas-docs/stable/user_guide/indexing.html#returning-a-view-versus-a-copy\n",
      "  reply_features[['reply_followers','time_diff']] = scaler.fit_transform(reply_features[['reply_followers','time_diff']])\n"
     ]
    },
    {
     "name": "stdout",
     "output_type": "stream",
     "text": [
      "0\n",
      "Epoch:   0 | Train Loss: 0.9494 | Train Acc: 44.54% | Val Acc: 42.00%\n",
      "100\n",
      "Epoch: 100 | Train Loss: 0.3383 | Train Acc: 84.08% | Val Acc: 87.33%\n",
      "200\n",
      "Epoch: 200 | Train Loss: 0.2372 | Train Acc: 90.15% | Val Acc: 87.00%\n",
      "300\n",
      "Epoch: 300 | Train Loss: 0.1491 | Train Acc: 95.43% | Val Acc: 88.33%\n",
      "Test accuracy: 82.72%\n",
      "Test Recall: 77.77%\n",
      "Test Precision: 81.33%\n"
     ]
    },
    {
     "name": "stderr",
     "output_type": "stream",
     "text": [
      "2024/09/08 17:46:13 WARNING mlflow.models.model: Input example should be provided to infer model signature if the model signature is not provided when logging the model.\n"
     ]
    },
    {
     "name": "stdout",
     "output_type": "stream",
     "text": [
      "68\n"
     ]
    },
    {
     "name": "stderr",
     "output_type": "stream",
     "text": [
      "/home/azureuser/rumour-detection-pheme/utils.py:139: SettingWithCopyWarning: \n",
      "A value is trying to be set on a copy of a slice from a DataFrame.\n",
      "Try using .loc[row_indexer,col_indexer] = value instead\n",
      "\n",
      "See the caveats in the documentation: https://pandas.pydata.org/pandas-docs/stable/user_guide/indexing.html#returning-a-view-versus-a-copy\n",
      "  reply_features[['reply_followers','time_diff']] = scaler.fit_transform(reply_features[['reply_followers','time_diff']])\n"
     ]
    },
    {
     "name": "stdout",
     "output_type": "stream",
     "text": [
      "0\n",
      "Epoch:   0 | Train Loss: 0.7559 | Train Acc: 54.03% | Val Acc: 50.33%\n",
      "100\n",
      "Epoch: 100 | Train Loss: 0.3254 | Train Acc: 86.30% | Val Acc: 84.67%\n",
      "200\n",
      "Epoch: 200 | Train Loss: 0.1976 | Train Acc: 92.36% | Val Acc: 84.33%\n",
      "300\n",
      "Epoch: 300 | Train Loss: 0.1226 | Train Acc: 96.29% | Val Acc: 84.00%\n",
      "Test accuracy: 85.05%\n",
      "Test Recall: 78.23%\n",
      "Test Precision: 76.82%\n"
     ]
    },
    {
     "name": "stderr",
     "output_type": "stream",
     "text": [
      "2024/09/08 17:46:38 WARNING mlflow.models.model: Input example should be provided to infer model signature if the model signature is not provided when logging the model.\n"
     ]
    },
    {
     "name": "stdout",
     "output_type": "stream",
     "text": [
      "69\n"
     ]
    },
    {
     "name": "stderr",
     "output_type": "stream",
     "text": [
      "/home/azureuser/rumour-detection-pheme/utils.py:139: SettingWithCopyWarning: \n",
      "A value is trying to be set on a copy of a slice from a DataFrame.\n",
      "Try using .loc[row_indexer,col_indexer] = value instead\n",
      "\n",
      "See the caveats in the documentation: https://pandas.pydata.org/pandas-docs/stable/user_guide/indexing.html#returning-a-view-versus-a-copy\n",
      "  reply_features[['reply_followers','time_diff']] = scaler.fit_transform(reply_features[['reply_followers','time_diff']])\n"
     ]
    },
    {
     "name": "stdout",
     "output_type": "stream",
     "text": [
      "0\n",
      "Epoch:   0 | Train Loss: 0.6256 | Train Acc: 77.66% | Val Acc: 76.67%\n",
      "100\n",
      "Epoch: 100 | Train Loss: 0.2990 | Train Acc: 87.37% | Val Acc: 82.67%\n",
      "200\n",
      "Epoch: 200 | Train Loss: 0.1682 | Train Acc: 94.22% | Val Acc: 83.67%\n",
      "300\n",
      "Epoch: 300 | Train Loss: 0.0951 | Train Acc: 97.07% | Val Acc: 83.00%\n",
      "Test accuracy: 88.04%\n",
      "Test Recall: 77.44%\n",
      "Test Precision: 80.52%\n"
     ]
    },
    {
     "name": "stderr",
     "output_type": "stream",
     "text": [
      "2024/09/08 17:47:03 WARNING mlflow.models.model: Input example should be provided to infer model signature if the model signature is not provided when logging the model.\n"
     ]
    },
    {
     "name": "stdout",
     "output_type": "stream",
     "text": [
      "70\n"
     ]
    },
    {
     "name": "stderr",
     "output_type": "stream",
     "text": [
      "/home/azureuser/rumour-detection-pheme/utils.py:139: SettingWithCopyWarning: \n",
      "A value is trying to be set on a copy of a slice from a DataFrame.\n",
      "Try using .loc[row_indexer,col_indexer] = value instead\n",
      "\n",
      "See the caveats in the documentation: https://pandas.pydata.org/pandas-docs/stable/user_guide/indexing.html#returning-a-view-versus-a-copy\n",
      "  reply_features[['reply_followers','time_diff']] = scaler.fit_transform(reply_features[['reply_followers','time_diff']])\n"
     ]
    },
    {
     "name": "stdout",
     "output_type": "stream",
     "text": [
      "0\n",
      "Epoch:   0 | Train Loss: 0.6704 | Train Acc: 74.52% | Val Acc: 75.33%\n",
      "100\n",
      "Epoch: 100 | Train Loss: 0.2896 | Train Acc: 87.94% | Val Acc: 85.33%\n",
      "200\n",
      "Epoch: 200 | Train Loss: 0.1716 | Train Acc: 94.08% | Val Acc: 86.67%\n",
      "300\n",
      "Epoch: 300 | Train Loss: 0.0821 | Train Acc: 98.22% | Val Acc: 86.67%\n",
      "Test accuracy: 83.06%\n",
      "Test Recall: 77.43%\n",
      "Test Precision: 78.85%\n"
     ]
    },
    {
     "name": "stderr",
     "output_type": "stream",
     "text": [
      "2024/09/08 17:47:28 WARNING mlflow.models.model: Input example should be provided to infer model signature if the model signature is not provided when logging the model.\n"
     ]
    },
    {
     "name": "stdout",
     "output_type": "stream",
     "text": [
      "71\n"
     ]
    },
    {
     "name": "stderr",
     "output_type": "stream",
     "text": [
      "/home/azureuser/rumour-detection-pheme/utils.py:139: SettingWithCopyWarning: \n",
      "A value is trying to be set on a copy of a slice from a DataFrame.\n",
      "Try using .loc[row_indexer,col_indexer] = value instead\n",
      "\n",
      "See the caveats in the documentation: https://pandas.pydata.org/pandas-docs/stable/user_guide/indexing.html#returning-a-view-versus-a-copy\n",
      "  reply_features[['reply_followers','time_diff']] = scaler.fit_transform(reply_features[['reply_followers','time_diff']])\n"
     ]
    },
    {
     "name": "stdout",
     "output_type": "stream",
     "text": [
      "0\n",
      "Epoch:   0 | Train Loss: 0.7845 | Train Acc: 28.69% | Val Acc: 28.67%\n",
      "100\n",
      "Epoch: 100 | Train Loss: 0.3289 | Train Acc: 85.44% | Val Acc: 86.00%\n",
      "200\n",
      "Epoch: 200 | Train Loss: 0.2184 | Train Acc: 90.86% | Val Acc: 89.00%\n",
      "300\n",
      "Epoch: 300 | Train Loss: 0.1218 | Train Acc: 97.00% | Val Acc: 88.67%\n",
      "Test accuracy: 81.40%\n",
      "Test Recall: 73.09%\n",
      "Test Precision: 79.20%\n"
     ]
    },
    {
     "name": "stderr",
     "output_type": "stream",
     "text": [
      "2024/09/08 17:47:53 WARNING mlflow.models.model: Input example should be provided to infer model signature if the model signature is not provided when logging the model.\n"
     ]
    },
    {
     "name": "stdout",
     "output_type": "stream",
     "text": [
      "72\n"
     ]
    },
    {
     "name": "stderr",
     "output_type": "stream",
     "text": [
      "/home/azureuser/rumour-detection-pheme/utils.py:139: SettingWithCopyWarning: \n",
      "A value is trying to be set on a copy of a slice from a DataFrame.\n",
      "Try using .loc[row_indexer,col_indexer] = value instead\n",
      "\n",
      "See the caveats in the documentation: https://pandas.pydata.org/pandas-docs/stable/user_guide/indexing.html#returning-a-view-versus-a-copy\n",
      "  reply_features[['reply_followers','time_diff']] = scaler.fit_transform(reply_features[['reply_followers','time_diff']])\n"
     ]
    },
    {
     "name": "stdout",
     "output_type": "stream",
     "text": [
      "0\n",
      "Epoch:   0 | Train Loss: 0.7475 | Train Acc: 48.61% | Val Acc: 50.00%\n",
      "100\n",
      "Epoch: 100 | Train Loss: 0.3233 | Train Acc: 86.58% | Val Acc: 86.67%\n",
      "200\n",
      "Epoch: 200 | Train Loss: 0.2298 | Train Acc: 91.36% | Val Acc: 88.67%\n",
      "300\n",
      "Epoch: 300 | Train Loss: 0.1419 | Train Acc: 95.22% | Val Acc: 88.67%\n",
      "Test accuracy: 83.72%\n",
      "Test Recall: 77.49%\n",
      "Test Precision: 82.16%\n"
     ]
    },
    {
     "name": "stderr",
     "output_type": "stream",
     "text": [
      "2024/09/08 17:48:18 WARNING mlflow.models.model: Input example should be provided to infer model signature if the model signature is not provided when logging the model.\n"
     ]
    },
    {
     "name": "stdout",
     "output_type": "stream",
     "text": [
      "73\n"
     ]
    },
    {
     "name": "stderr",
     "output_type": "stream",
     "text": [
      "/home/azureuser/rumour-detection-pheme/utils.py:139: SettingWithCopyWarning: \n",
      "A value is trying to be set on a copy of a slice from a DataFrame.\n",
      "Try using .loc[row_indexer,col_indexer] = value instead\n",
      "\n",
      "See the caveats in the documentation: https://pandas.pydata.org/pandas-docs/stable/user_guide/indexing.html#returning-a-view-versus-a-copy\n",
      "  reply_features[['reply_followers','time_diff']] = scaler.fit_transform(reply_features[['reply_followers','time_diff']])\n"
     ]
    },
    {
     "name": "stdout",
     "output_type": "stream",
     "text": [
      "0\n",
      "Epoch:   0 | Train Loss: 0.6389 | Train Acc: 74.02% | Val Acc: 73.00%\n",
      "100\n",
      "Epoch: 100 | Train Loss: 0.2853 | Train Acc: 88.58% | Val Acc: 84.67%\n",
      "200\n",
      "Epoch: 200 | Train Loss: 0.1789 | Train Acc: 93.65% | Val Acc: 85.00%\n",
      "300\n",
      "Epoch: 300 | Train Loss: 0.1124 | Train Acc: 96.22% | Val Acc: 86.67%\n",
      "Test accuracy: 87.38%\n",
      "Test Recall: 82.38%\n",
      "Test Precision: 80.64%\n"
     ]
    },
    {
     "name": "stderr",
     "output_type": "stream",
     "text": [
      "2024/09/08 17:48:43 WARNING mlflow.models.model: Input example should be provided to infer model signature if the model signature is not provided when logging the model.\n"
     ]
    },
    {
     "name": "stdout",
     "output_type": "stream",
     "text": [
      "74\n"
     ]
    },
    {
     "name": "stderr",
     "output_type": "stream",
     "text": [
      "/home/azureuser/rumour-detection-pheme/utils.py:139: SettingWithCopyWarning: \n",
      "A value is trying to be set on a copy of a slice from a DataFrame.\n",
      "Try using .loc[row_indexer,col_indexer] = value instead\n",
      "\n",
      "See the caveats in the documentation: https://pandas.pydata.org/pandas-docs/stable/user_guide/indexing.html#returning-a-view-versus-a-copy\n",
      "  reply_features[['reply_followers','time_diff']] = scaler.fit_transform(reply_features[['reply_followers','time_diff']])\n"
     ]
    },
    {
     "name": "stdout",
     "output_type": "stream",
     "text": [
      "0\n",
      "Epoch:   0 | Train Loss: 1.0592 | Train Acc: 22.20% | Val Acc: 24.00%\n",
      "100\n",
      "Epoch: 100 | Train Loss: 0.3465 | Train Acc: 84.87% | Val Acc: 80.67%\n",
      "200\n",
      "Epoch: 200 | Train Loss: 0.2518 | Train Acc: 90.22% | Val Acc: 84.00%\n",
      "300\n",
      "Epoch: 300 | Train Loss: 0.1540 | Train Acc: 95.29% | Val Acc: 86.33%\n",
      "Test accuracy: 89.04%\n",
      "Test Recall: 78.35%\n",
      "Test Precision: 82.73%\n"
     ]
    },
    {
     "name": "stderr",
     "output_type": "stream",
     "text": [
      "2024/09/08 17:49:08 WARNING mlflow.models.model: Input example should be provided to infer model signature if the model signature is not provided when logging the model.\n"
     ]
    },
    {
     "name": "stdout",
     "output_type": "stream",
     "text": [
      "75\n"
     ]
    },
    {
     "name": "stderr",
     "output_type": "stream",
     "text": [
      "/home/azureuser/rumour-detection-pheme/utils.py:139: SettingWithCopyWarning: \n",
      "A value is trying to be set on a copy of a slice from a DataFrame.\n",
      "Try using .loc[row_indexer,col_indexer] = value instead\n",
      "\n",
      "See the caveats in the documentation: https://pandas.pydata.org/pandas-docs/stable/user_guide/indexing.html#returning-a-view-versus-a-copy\n",
      "  reply_features[['reply_followers','time_diff']] = scaler.fit_transform(reply_features[['reply_followers','time_diff']])\n"
     ]
    },
    {
     "name": "stdout",
     "output_type": "stream",
     "text": [
      "0\n",
      "Epoch:   0 | Train Loss: 0.7704 | Train Acc: 29.12% | Val Acc: 25.67%\n",
      "100\n",
      "Epoch: 100 | Train Loss: 0.3309 | Train Acc: 85.72% | Val Acc: 85.67%\n",
      "200\n",
      "Epoch: 200 | Train Loss: 0.2167 | Train Acc: 91.22% | Val Acc: 85.00%\n",
      "300\n",
      "Epoch: 300 | Train Loss: 0.1202 | Train Acc: 95.22% | Val Acc: 87.33%\n",
      "Test accuracy: 85.05%\n",
      "Test Recall: 83.57%\n",
      "Test Precision: 79.78%\n"
     ]
    },
    {
     "name": "stderr",
     "output_type": "stream",
     "text": [
      "2024/09/08 17:49:33 WARNING mlflow.models.model: Input example should be provided to infer model signature if the model signature is not provided when logging the model.\n"
     ]
    },
    {
     "name": "stdout",
     "output_type": "stream",
     "text": [
      "76\n"
     ]
    },
    {
     "name": "stderr",
     "output_type": "stream",
     "text": [
      "/home/azureuser/rumour-detection-pheme/utils.py:139: SettingWithCopyWarning: \n",
      "A value is trying to be set on a copy of a slice from a DataFrame.\n",
      "Try using .loc[row_indexer,col_indexer] = value instead\n",
      "\n",
      "See the caveats in the documentation: https://pandas.pydata.org/pandas-docs/stable/user_guide/indexing.html#returning-a-view-versus-a-copy\n",
      "  reply_features[['reply_followers','time_diff']] = scaler.fit_transform(reply_features[['reply_followers','time_diff']])\n"
     ]
    },
    {
     "name": "stdout",
     "output_type": "stream",
     "text": [
      "0\n",
      "Epoch:   0 | Train Loss: 0.6203 | Train Acc: 77.52% | Val Acc: 75.67%\n",
      "100\n",
      "Epoch: 100 | Train Loss: 0.2926 | Train Acc: 89.08% | Val Acc: 82.33%\n",
      "200\n",
      "Epoch: 200 | Train Loss: 0.1488 | Train Acc: 95.15% | Val Acc: 84.67%\n",
      "300\n",
      "Epoch: 300 | Train Loss: 0.0785 | Train Acc: 98.43% | Val Acc: 82.67%\n",
      "Test accuracy: 86.05%\n",
      "Test Recall: 77.88%\n",
      "Test Precision: 78.19%\n"
     ]
    },
    {
     "name": "stderr",
     "output_type": "stream",
     "text": [
      "2024/09/08 17:49:59 WARNING mlflow.models.model: Input example should be provided to infer model signature if the model signature is not provided when logging the model.\n"
     ]
    },
    {
     "name": "stdout",
     "output_type": "stream",
     "text": [
      "77\n"
     ]
    },
    {
     "name": "stderr",
     "output_type": "stream",
     "text": [
      "/home/azureuser/rumour-detection-pheme/utils.py:139: SettingWithCopyWarning: \n",
      "A value is trying to be set on a copy of a slice from a DataFrame.\n",
      "Try using .loc[row_indexer,col_indexer] = value instead\n",
      "\n",
      "See the caveats in the documentation: https://pandas.pydata.org/pandas-docs/stable/user_guide/indexing.html#returning-a-view-versus-a-copy\n",
      "  reply_features[['reply_followers','time_diff']] = scaler.fit_transform(reply_features[['reply_followers','time_diff']])\n"
     ]
    },
    {
     "name": "stdout",
     "output_type": "stream",
     "text": [
      "0\n",
      "Epoch:   0 | Train Loss: 0.7024 | Train Acc: 75.73% | Val Acc: 75.67%\n",
      "100\n",
      "Epoch: 100 | Train Loss: 0.3048 | Train Acc: 86.72% | Val Acc: 79.00%\n",
      "200\n",
      "Epoch: 200 | Train Loss: 0.1650 | Train Acc: 93.58% | Val Acc: 83.33%\n",
      "300\n",
      "Epoch: 300 | Train Loss: 0.0838 | Train Acc: 97.57% | Val Acc: 83.67%\n",
      "Test accuracy: 86.71%\n",
      "Test Recall: 76.22%\n",
      "Test Precision: 79.93%\n"
     ]
    },
    {
     "name": "stderr",
     "output_type": "stream",
     "text": [
      "2024/09/08 17:50:24 WARNING mlflow.models.model: Input example should be provided to infer model signature if the model signature is not provided when logging the model.\n"
     ]
    },
    {
     "name": "stdout",
     "output_type": "stream",
     "text": [
      "78\n"
     ]
    },
    {
     "name": "stderr",
     "output_type": "stream",
     "text": [
      "/home/azureuser/rumour-detection-pheme/utils.py:139: SettingWithCopyWarning: \n",
      "A value is trying to be set on a copy of a slice from a DataFrame.\n",
      "Try using .loc[row_indexer,col_indexer] = value instead\n",
      "\n",
      "See the caveats in the documentation: https://pandas.pydata.org/pandas-docs/stable/user_guide/indexing.html#returning-a-view-versus-a-copy\n",
      "  reply_features[['reply_followers','time_diff']] = scaler.fit_transform(reply_features[['reply_followers','time_diff']])\n"
     ]
    },
    {
     "name": "stdout",
     "output_type": "stream",
     "text": [
      "0\n",
      "Epoch:   0 | Train Loss: 0.6882 | Train Acc: 59.46% | Val Acc: 61.00%\n",
      "100\n",
      "Epoch: 100 | Train Loss: 0.3019 | Train Acc: 87.58% | Val Acc: 82.67%\n",
      "200\n",
      "Epoch: 200 | Train Loss: 0.1827 | Train Acc: 93.15% | Val Acc: 83.33%\n",
      "300\n",
      "Epoch: 300 | Train Loss: 0.0967 | Train Acc: 97.29% | Val Acc: 84.00%\n",
      "Test accuracy: 86.38%\n",
      "Test Recall: 78.16%\n",
      "Test Precision: 75.73%\n"
     ]
    },
    {
     "name": "stderr",
     "output_type": "stream",
     "text": [
      "2024/09/08 17:50:49 WARNING mlflow.models.model: Input example should be provided to infer model signature if the model signature is not provided when logging the model.\n"
     ]
    },
    {
     "name": "stdout",
     "output_type": "stream",
     "text": [
      "79\n"
     ]
    },
    {
     "name": "stderr",
     "output_type": "stream",
     "text": [
      "/home/azureuser/rumour-detection-pheme/utils.py:139: SettingWithCopyWarning: \n",
      "A value is trying to be set on a copy of a slice from a DataFrame.\n",
      "Try using .loc[row_indexer,col_indexer] = value instead\n",
      "\n",
      "See the caveats in the documentation: https://pandas.pydata.org/pandas-docs/stable/user_guide/indexing.html#returning-a-view-versus-a-copy\n",
      "  reply_features[['reply_followers','time_diff']] = scaler.fit_transform(reply_features[['reply_followers','time_diff']])\n"
     ]
    },
    {
     "name": "stdout",
     "output_type": "stream",
     "text": [
      "0\n",
      "Epoch:   0 | Train Loss: 0.8715 | Train Acc: 28.91% | Val Acc: 25.33%\n",
      "100\n",
      "Epoch: 100 | Train Loss: 0.3462 | Train Acc: 84.51% | Val Acc: 86.67%\n",
      "200\n",
      "Epoch: 200 | Train Loss: 0.2268 | Train Acc: 91.29% | Val Acc: 87.00%\n",
      "300\n",
      "Epoch: 300 | Train Loss: 0.1403 | Train Acc: 96.93% | Val Acc: 87.33%\n",
      "Test accuracy: 86.05%\n",
      "Test Recall: 80.09%\n",
      "Test Precision: 79.74%\n"
     ]
    },
    {
     "name": "stderr",
     "output_type": "stream",
     "text": [
      "2024/09/08 17:51:15 WARNING mlflow.models.model: Input example should be provided to infer model signature if the model signature is not provided when logging the model.\n"
     ]
    },
    {
     "name": "stdout",
     "output_type": "stream",
     "text": [
      "80\n"
     ]
    },
    {
     "name": "stderr",
     "output_type": "stream",
     "text": [
      "/home/azureuser/rumour-detection-pheme/utils.py:139: SettingWithCopyWarning: \n",
      "A value is trying to be set on a copy of a slice from a DataFrame.\n",
      "Try using .loc[row_indexer,col_indexer] = value instead\n",
      "\n",
      "See the caveats in the documentation: https://pandas.pydata.org/pandas-docs/stable/user_guide/indexing.html#returning-a-view-versus-a-copy\n",
      "  reply_features[['reply_followers','time_diff']] = scaler.fit_transform(reply_features[['reply_followers','time_diff']])\n"
     ]
    },
    {
     "name": "stdout",
     "output_type": "stream",
     "text": [
      "0\n",
      "Epoch:   0 | Train Loss: 0.9108 | Train Acc: 21.48% | Val Acc: 25.00%\n",
      "100\n",
      "Epoch: 100 | Train Loss: 0.3265 | Train Acc: 84.80% | Val Acc: 81.33%\n",
      "200\n",
      "Epoch: 200 | Train Loss: 0.2150 | Train Acc: 90.44% | Val Acc: 84.33%\n",
      "300\n",
      "Epoch: 300 | Train Loss: 0.1311 | Train Acc: 94.50% | Val Acc: 84.33%\n",
      "Test accuracy: 85.38%\n",
      "Test Recall: 80.64%\n",
      "Test Precision: 80.64%\n"
     ]
    },
    {
     "name": "stderr",
     "output_type": "stream",
     "text": [
      "2024/09/08 17:51:40 WARNING mlflow.models.model: Input example should be provided to infer model signature if the model signature is not provided when logging the model.\n"
     ]
    },
    {
     "name": "stdout",
     "output_type": "stream",
     "text": [
      "81\n"
     ]
    },
    {
     "name": "stderr",
     "output_type": "stream",
     "text": [
      "/home/azureuser/rumour-detection-pheme/utils.py:139: SettingWithCopyWarning: \n",
      "A value is trying to be set on a copy of a slice from a DataFrame.\n",
      "Try using .loc[row_indexer,col_indexer] = value instead\n",
      "\n",
      "See the caveats in the documentation: https://pandas.pydata.org/pandas-docs/stable/user_guide/indexing.html#returning-a-view-versus-a-copy\n",
      "  reply_features[['reply_followers','time_diff']] = scaler.fit_transform(reply_features[['reply_followers','time_diff']])\n"
     ]
    },
    {
     "name": "stdout",
     "output_type": "stream",
     "text": [
      "0\n",
      "Epoch:   0 | Train Loss: 0.6495 | Train Acc: 77.23% | Val Acc: 80.33%\n",
      "100\n",
      "Epoch: 100 | Train Loss: 0.3107 | Train Acc: 87.08% | Val Acc: 86.00%\n",
      "200\n",
      "Epoch: 200 | Train Loss: 0.1873 | Train Acc: 93.00% | Val Acc: 86.00%\n",
      "300\n",
      "Epoch: 300 | Train Loss: 0.1035 | Train Acc: 96.79% | Val Acc: 85.33%\n",
      "Test accuracy: 87.71%\n",
      "Test Recall: 83.46%\n",
      "Test Precision: 79.55%\n"
     ]
    },
    {
     "name": "stderr",
     "output_type": "stream",
     "text": [
      "2024/09/08 17:52:04 WARNING mlflow.models.model: Input example should be provided to infer model signature if the model signature is not provided when logging the model.\n"
     ]
    },
    {
     "name": "stdout",
     "output_type": "stream",
     "text": [
      "82\n"
     ]
    },
    {
     "name": "stderr",
     "output_type": "stream",
     "text": [
      "/home/azureuser/rumour-detection-pheme/utils.py:139: SettingWithCopyWarning: \n",
      "A value is trying to be set on a copy of a slice from a DataFrame.\n",
      "Try using .loc[row_indexer,col_indexer] = value instead\n",
      "\n",
      "See the caveats in the documentation: https://pandas.pydata.org/pandas-docs/stable/user_guide/indexing.html#returning-a-view-versus-a-copy\n",
      "  reply_features[['reply_followers','time_diff']] = scaler.fit_transform(reply_features[['reply_followers','time_diff']])\n"
     ]
    },
    {
     "name": "stdout",
     "output_type": "stream",
     "text": [
      "0\n",
      "Epoch:   0 | Train Loss: 0.6577 | Train Acc: 76.52% | Val Acc: 77.00%\n",
      "100\n",
      "Epoch: 100 | Train Loss: 0.2892 | Train Acc: 87.72% | Val Acc: 86.00%\n",
      "200\n",
      "Epoch: 200 | Train Loss: 0.1793 | Train Acc: 92.86% | Val Acc: 89.00%\n",
      "300\n",
      "Epoch: 300 | Train Loss: 0.0986 | Train Acc: 97.36% | Val Acc: 88.67%\n",
      "Test accuracy: 85.38%\n",
      "Test Recall: 77.61%\n",
      "Test Precision: 82.33%\n"
     ]
    },
    {
     "name": "stderr",
     "output_type": "stream",
     "text": [
      "2024/09/08 17:52:29 WARNING mlflow.models.model: Input example should be provided to infer model signature if the model signature is not provided when logging the model.\n"
     ]
    },
    {
     "name": "stdout",
     "output_type": "stream",
     "text": [
      "83\n"
     ]
    },
    {
     "name": "stderr",
     "output_type": "stream",
     "text": [
      "/home/azureuser/rumour-detection-pheme/utils.py:139: SettingWithCopyWarning: \n",
      "A value is trying to be set on a copy of a slice from a DataFrame.\n",
      "Try using .loc[row_indexer,col_indexer] = value instead\n",
      "\n",
      "See the caveats in the documentation: https://pandas.pydata.org/pandas-docs/stable/user_guide/indexing.html#returning-a-view-versus-a-copy\n",
      "  reply_features[['reply_followers','time_diff']] = scaler.fit_transform(reply_features[['reply_followers','time_diff']])\n"
     ]
    },
    {
     "name": "stdout",
     "output_type": "stream",
     "text": [
      "0\n",
      "Epoch:   0 | Train Loss: 0.9738 | Train Acc: 23.63% | Val Acc: 24.67%\n",
      "100\n",
      "Epoch: 100 | Train Loss: 0.3493 | Train Acc: 85.01% | Val Acc: 84.00%\n",
      "200\n",
      "Epoch: 200 | Train Loss: 0.2383 | Train Acc: 90.22% | Val Acc: 84.33%\n",
      "300\n",
      "Epoch: 300 | Train Loss: 0.1338 | Train Acc: 96.07% | Val Acc: 84.33%\n",
      "Test accuracy: 87.04%\n",
      "Test Recall: 76.97%\n",
      "Test Precision: 80.31%\n"
     ]
    },
    {
     "name": "stderr",
     "output_type": "stream",
     "text": [
      "2024/09/08 17:52:55 WARNING mlflow.models.model: Input example should be provided to infer model signature if the model signature is not provided when logging the model.\n"
     ]
    },
    {
     "name": "stdout",
     "output_type": "stream",
     "text": [
      "84\n"
     ]
    },
    {
     "name": "stderr",
     "output_type": "stream",
     "text": [
      "/home/azureuser/rumour-detection-pheme/utils.py:139: SettingWithCopyWarning: \n",
      "A value is trying to be set on a copy of a slice from a DataFrame.\n",
      "Try using .loc[row_indexer,col_indexer] = value instead\n",
      "\n",
      "See the caveats in the documentation: https://pandas.pydata.org/pandas-docs/stable/user_guide/indexing.html#returning-a-view-versus-a-copy\n",
      "  reply_features[['reply_followers','time_diff']] = scaler.fit_transform(reply_features[['reply_followers','time_diff']])\n"
     ]
    },
    {
     "name": "stdout",
     "output_type": "stream",
     "text": [
      "0\n",
      "Epoch:   0 | Train Loss: 0.9316 | Train Acc: 29.26% | Val Acc: 22.33%\n",
      "100\n",
      "Epoch: 100 | Train Loss: 0.3283 | Train Acc: 87.01% | Val Acc: 81.33%\n",
      "200\n",
      "Epoch: 200 | Train Loss: 0.2320 | Train Acc: 91.15% | Val Acc: 83.33%\n",
      "300\n",
      "Epoch: 300 | Train Loss: 0.1475 | Train Acc: 96.15% | Val Acc: 84.33%\n",
      "Test accuracy: 82.72%\n",
      "Test Recall: 73.53%\n",
      "Test Precision: 72.72%\n"
     ]
    },
    {
     "name": "stderr",
     "output_type": "stream",
     "text": [
      "2024/09/08 17:53:20 WARNING mlflow.models.model: Input example should be provided to infer model signature if the model signature is not provided when logging the model.\n"
     ]
    },
    {
     "name": "stdout",
     "output_type": "stream",
     "text": [
      "85\n"
     ]
    },
    {
     "name": "stderr",
     "output_type": "stream",
     "text": [
      "/home/azureuser/rumour-detection-pheme/utils.py:139: SettingWithCopyWarning: \n",
      "A value is trying to be set on a copy of a slice from a DataFrame.\n",
      "Try using .loc[row_indexer,col_indexer] = value instead\n",
      "\n",
      "See the caveats in the documentation: https://pandas.pydata.org/pandas-docs/stable/user_guide/indexing.html#returning-a-view-versus-a-copy\n",
      "  reply_features[['reply_followers','time_diff']] = scaler.fit_transform(reply_features[['reply_followers','time_diff']])\n"
     ]
    },
    {
     "name": "stdout",
     "output_type": "stream",
     "text": [
      "0\n",
      "Epoch:   0 | Train Loss: 0.7335 | Train Acc: 70.74% | Val Acc: 63.00%\n",
      "100\n",
      "Epoch: 100 | Train Loss: 0.3032 | Train Acc: 87.01% | Val Acc: 85.00%\n",
      "200\n",
      "Epoch: 200 | Train Loss: 0.1632 | Train Acc: 94.50% | Val Acc: 84.00%\n",
      "300\n",
      "Epoch: 300 | Train Loss: 0.0874 | Train Acc: 98.36% | Val Acc: 83.00%\n",
      "Test accuracy: 83.39%\n",
      "Test Recall: 74.34%\n",
      "Test Precision: 78.35%\n"
     ]
    },
    {
     "name": "stderr",
     "output_type": "stream",
     "text": [
      "2024/09/08 17:53:45 WARNING mlflow.models.model: Input example should be provided to infer model signature if the model signature is not provided when logging the model.\n"
     ]
    },
    {
     "name": "stdout",
     "output_type": "stream",
     "text": [
      "86\n"
     ]
    },
    {
     "name": "stderr",
     "output_type": "stream",
     "text": [
      "/home/azureuser/rumour-detection-pheme/utils.py:139: SettingWithCopyWarning: \n",
      "A value is trying to be set on a copy of a slice from a DataFrame.\n",
      "Try using .loc[row_indexer,col_indexer] = value instead\n",
      "\n",
      "See the caveats in the documentation: https://pandas.pydata.org/pandas-docs/stable/user_guide/indexing.html#returning-a-view-versus-a-copy\n",
      "  reply_features[['reply_followers','time_diff']] = scaler.fit_transform(reply_features[['reply_followers','time_diff']])\n"
     ]
    },
    {
     "name": "stdout",
     "output_type": "stream",
     "text": [
      "0\n",
      "Epoch:   0 | Train Loss: 0.7232 | Train Acc: 76.87% | Val Acc: 72.33%\n",
      "100\n",
      "Epoch: 100 | Train Loss: 0.2972 | Train Acc: 87.15% | Val Acc: 83.33%\n",
      "200\n",
      "Epoch: 200 | Train Loss: 0.1891 | Train Acc: 93.36% | Val Acc: 84.67%\n",
      "300\n",
      "Epoch: 300 | Train Loss: 0.1096 | Train Acc: 96.72% | Val Acc: 85.33%\n",
      "Test accuracy: 87.71%\n",
      "Test Recall: 84.40%\n",
      "Test Precision: 81.79%\n"
     ]
    },
    {
     "name": "stderr",
     "output_type": "stream",
     "text": [
      "2024/09/08 17:54:10 WARNING mlflow.models.model: Input example should be provided to infer model signature if the model signature is not provided when logging the model.\n"
     ]
    },
    {
     "name": "stdout",
     "output_type": "stream",
     "text": [
      "87\n"
     ]
    },
    {
     "name": "stderr",
     "output_type": "stream",
     "text": [
      "/home/azureuser/rumour-detection-pheme/utils.py:139: SettingWithCopyWarning: \n",
      "A value is trying to be set on a copy of a slice from a DataFrame.\n",
      "Try using .loc[row_indexer,col_indexer] = value instead\n",
      "\n",
      "See the caveats in the documentation: https://pandas.pydata.org/pandas-docs/stable/user_guide/indexing.html#returning-a-view-versus-a-copy\n",
      "  reply_features[['reply_followers','time_diff']] = scaler.fit_transform(reply_features[['reply_followers','time_diff']])\n"
     ]
    },
    {
     "name": "stdout",
     "output_type": "stream",
     "text": [
      "0\n",
      "Epoch:   0 | Train Loss: 0.7639 | Train Acc: 56.96% | Val Acc: 58.67%\n",
      "100\n",
      "Epoch: 100 | Train Loss: 0.3379 | Train Acc: 85.22% | Val Acc: 87.67%\n",
      "200\n",
      "Epoch: 200 | Train Loss: 0.2296 | Train Acc: 90.94% | Val Acc: 86.33%\n",
      "300\n",
      "Epoch: 300 | Train Loss: 0.1430 | Train Acc: 93.93% | Val Acc: 85.33%\n",
      "Test accuracy: 89.04%\n",
      "Test Recall: 81.18%\n",
      "Test Precision: 80.45%\n"
     ]
    },
    {
     "name": "stderr",
     "output_type": "stream",
     "text": [
      "2024/09/08 17:54:35 WARNING mlflow.models.model: Input example should be provided to infer model signature if the model signature is not provided when logging the model.\n"
     ]
    },
    {
     "name": "stdout",
     "output_type": "stream",
     "text": [
      "88\n"
     ]
    },
    {
     "name": "stderr",
     "output_type": "stream",
     "text": [
      "/home/azureuser/rumour-detection-pheme/utils.py:139: SettingWithCopyWarning: \n",
      "A value is trying to be set on a copy of a slice from a DataFrame.\n",
      "Try using .loc[row_indexer,col_indexer] = value instead\n",
      "\n",
      "See the caveats in the documentation: https://pandas.pydata.org/pandas-docs/stable/user_guide/indexing.html#returning-a-view-versus-a-copy\n",
      "  reply_features[['reply_followers','time_diff']] = scaler.fit_transform(reply_features[['reply_followers','time_diff']])\n"
     ]
    },
    {
     "name": "stdout",
     "output_type": "stream",
     "text": [
      "0\n",
      "Epoch:   0 | Train Loss: 0.8103 | Train Acc: 30.98% | Val Acc: 27.67%\n",
      "100\n",
      "Epoch: 100 | Train Loss: 0.3231 | Train Acc: 87.15% | Val Acc: 84.00%\n",
      "200\n",
      "Epoch: 200 | Train Loss: 0.2048 | Train Acc: 93.65% | Val Acc: 86.33%\n",
      "300\n",
      "Epoch: 300 | Train Loss: 0.0960 | Train Acc: 98.50% | Val Acc: 87.00%\n",
      "Test accuracy: 86.38%\n",
      "Test Recall: 77.80%\n",
      "Test Precision: 79.95%\n"
     ]
    },
    {
     "name": "stderr",
     "output_type": "stream",
     "text": [
      "2024/09/08 17:55:01 WARNING mlflow.models.model: Input example should be provided to infer model signature if the model signature is not provided when logging the model.\n"
     ]
    },
    {
     "name": "stdout",
     "output_type": "stream",
     "text": [
      "89\n"
     ]
    },
    {
     "name": "stderr",
     "output_type": "stream",
     "text": [
      "/home/azureuser/rumour-detection-pheme/utils.py:139: SettingWithCopyWarning: \n",
      "A value is trying to be set on a copy of a slice from a DataFrame.\n",
      "Try using .loc[row_indexer,col_indexer] = value instead\n",
      "\n",
      "See the caveats in the documentation: https://pandas.pydata.org/pandas-docs/stable/user_guide/indexing.html#returning-a-view-versus-a-copy\n",
      "  reply_features[['reply_followers','time_diff']] = scaler.fit_transform(reply_features[['reply_followers','time_diff']])\n"
     ]
    },
    {
     "name": "stdout",
     "output_type": "stream",
     "text": [
      "0\n",
      "Epoch:   0 | Train Loss: 0.7259 | Train Acc: 50.89% | Val Acc: 52.33%\n",
      "100\n",
      "Epoch: 100 | Train Loss: 0.3317 | Train Acc: 84.73% | Val Acc: 86.67%\n",
      "200\n",
      "Epoch: 200 | Train Loss: 0.2243 | Train Acc: 89.72% | Val Acc: 87.00%\n",
      "300\n",
      "Epoch: 300 | Train Loss: 0.1529 | Train Acc: 93.79% | Val Acc: 88.00%\n",
      "Test accuracy: 88.04%\n",
      "Test Recall: 83.56%\n",
      "Test Precision: 82.85%\n"
     ]
    },
    {
     "name": "stderr",
     "output_type": "stream",
     "text": [
      "2024/09/08 17:55:26 WARNING mlflow.models.model: Input example should be provided to infer model signature if the model signature is not provided when logging the model.\n"
     ]
    },
    {
     "name": "stdout",
     "output_type": "stream",
     "text": [
      "90\n"
     ]
    },
    {
     "name": "stderr",
     "output_type": "stream",
     "text": [
      "/home/azureuser/rumour-detection-pheme/utils.py:139: SettingWithCopyWarning: \n",
      "A value is trying to be set on a copy of a slice from a DataFrame.\n",
      "Try using .loc[row_indexer,col_indexer] = value instead\n",
      "\n",
      "See the caveats in the documentation: https://pandas.pydata.org/pandas-docs/stable/user_guide/indexing.html#returning-a-view-versus-a-copy\n",
      "  reply_features[['reply_followers','time_diff']] = scaler.fit_transform(reply_features[['reply_followers','time_diff']])\n"
     ]
    },
    {
     "name": "stdout",
     "output_type": "stream",
     "text": [
      "0\n",
      "Epoch:   0 | Train Loss: 0.6692 | Train Acc: 70.88% | Val Acc: 73.67%\n",
      "100\n",
      "Epoch: 100 | Train Loss: 0.2999 | Train Acc: 87.08% | Val Acc: 84.67%\n",
      "200\n",
      "Epoch: 200 | Train Loss: 0.1586 | Train Acc: 93.50% | Val Acc: 85.67%\n",
      "300\n",
      "Epoch: 300 | Train Loss: 0.0930 | Train Acc: 97.00% | Val Acc: 86.00%\n",
      "Test accuracy: 84.05%\n",
      "Test Recall: 82.32%\n",
      "Test Precision: 79.50%\n"
     ]
    },
    {
     "name": "stderr",
     "output_type": "stream",
     "text": [
      "2024/09/08 17:55:52 WARNING mlflow.models.model: Input example should be provided to infer model signature if the model signature is not provided when logging the model.\n"
     ]
    },
    {
     "name": "stdout",
     "output_type": "stream",
     "text": [
      "91\n"
     ]
    },
    {
     "name": "stderr",
     "output_type": "stream",
     "text": [
      "/home/azureuser/rumour-detection-pheme/utils.py:139: SettingWithCopyWarning: \n",
      "A value is trying to be set on a copy of a slice from a DataFrame.\n",
      "Try using .loc[row_indexer,col_indexer] = value instead\n",
      "\n",
      "See the caveats in the documentation: https://pandas.pydata.org/pandas-docs/stable/user_guide/indexing.html#returning-a-view-versus-a-copy\n",
      "  reply_features[['reply_followers','time_diff']] = scaler.fit_transform(reply_features[['reply_followers','time_diff']])\n"
     ]
    },
    {
     "name": "stdout",
     "output_type": "stream",
     "text": [
      "0\n",
      "Epoch:   0 | Train Loss: 0.7404 | Train Acc: 33.98% | Val Acc: 36.67%\n",
      "100\n",
      "Epoch: 100 | Train Loss: 0.3228 | Train Acc: 85.44% | Val Acc: 82.33%\n",
      "200\n",
      "Epoch: 200 | Train Loss: 0.2128 | Train Acc: 91.58% | Val Acc: 84.33%\n",
      "300\n",
      "Epoch: 300 | Train Loss: 0.1159 | Train Acc: 96.50% | Val Acc: 83.33%\n",
      "Test accuracy: 89.04%\n",
      "Test Recall: 80.49%\n",
      "Test Precision: 78.96%\n"
     ]
    },
    {
     "name": "stderr",
     "output_type": "stream",
     "text": [
      "2024/09/08 17:56:17 WARNING mlflow.models.model: Input example should be provided to infer model signature if the model signature is not provided when logging the model.\n"
     ]
    },
    {
     "name": "stdout",
     "output_type": "stream",
     "text": [
      "92\n"
     ]
    },
    {
     "name": "stderr",
     "output_type": "stream",
     "text": [
      "/home/azureuser/rumour-detection-pheme/utils.py:139: SettingWithCopyWarning: \n",
      "A value is trying to be set on a copy of a slice from a DataFrame.\n",
      "Try using .loc[row_indexer,col_indexer] = value instead\n",
      "\n",
      "See the caveats in the documentation: https://pandas.pydata.org/pandas-docs/stable/user_guide/indexing.html#returning-a-view-versus-a-copy\n",
      "  reply_features[['reply_followers','time_diff']] = scaler.fit_transform(reply_features[['reply_followers','time_diff']])\n"
     ]
    },
    {
     "name": "stdout",
     "output_type": "stream",
     "text": [
      "0\n",
      "Epoch:   0 | Train Loss: 0.9032 | Train Acc: 24.63% | Val Acc: 28.67%\n",
      "100\n",
      "Epoch: 100 | Train Loss: 0.3143 | Train Acc: 86.80% | Val Acc: 77.67%\n",
      "200\n",
      "Epoch: 200 | Train Loss: 0.2230 | Train Acc: 90.58% | Val Acc: 80.67%\n",
      "300\n",
      "Epoch: 300 | Train Loss: 0.1384 | Train Acc: 94.22% | Val Acc: 83.67%\n",
      "Test accuracy: 87.04%\n",
      "Test Recall: 76.98%\n",
      "Test Precision: 84.39%\n"
     ]
    },
    {
     "name": "stderr",
     "output_type": "stream",
     "text": [
      "2024/09/08 17:56:42 WARNING mlflow.models.model: Input example should be provided to infer model signature if the model signature is not provided when logging the model.\n"
     ]
    },
    {
     "name": "stdout",
     "output_type": "stream",
     "text": [
      "93\n"
     ]
    },
    {
     "name": "stderr",
     "output_type": "stream",
     "text": [
      "/home/azureuser/rumour-detection-pheme/utils.py:139: SettingWithCopyWarning: \n",
      "A value is trying to be set on a copy of a slice from a DataFrame.\n",
      "Try using .loc[row_indexer,col_indexer] = value instead\n",
      "\n",
      "See the caveats in the documentation: https://pandas.pydata.org/pandas-docs/stable/user_guide/indexing.html#returning-a-view-versus-a-copy\n",
      "  reply_features[['reply_followers','time_diff']] = scaler.fit_transform(reply_features[['reply_followers','time_diff']])\n"
     ]
    },
    {
     "name": "stdout",
     "output_type": "stream",
     "text": [
      "0\n",
      "Epoch:   0 | Train Loss: 0.6503 | Train Acc: 75.59% | Val Acc: 72.33%\n",
      "100\n",
      "Epoch: 100 | Train Loss: 0.3044 | Train Acc: 87.65% | Val Acc: 82.67%\n",
      "200\n",
      "Epoch: 200 | Train Loss: 0.2055 | Train Acc: 93.22% | Val Acc: 84.00%\n",
      "300\n",
      "Epoch: 300 | Train Loss: 0.1166 | Train Acc: 97.14% | Val Acc: 84.67%\n",
      "Test accuracy: 86.71%\n",
      "Test Recall: 79.59%\n",
      "Test Precision: 80.19%\n"
     ]
    },
    {
     "name": "stderr",
     "output_type": "stream",
     "text": [
      "2024/09/08 17:57:09 WARNING mlflow.models.model: Input example should be provided to infer model signature if the model signature is not provided when logging the model.\n"
     ]
    },
    {
     "name": "stdout",
     "output_type": "stream",
     "text": [
      "94\n"
     ]
    },
    {
     "name": "stderr",
     "output_type": "stream",
     "text": [
      "/home/azureuser/rumour-detection-pheme/utils.py:139: SettingWithCopyWarning: \n",
      "A value is trying to be set on a copy of a slice from a DataFrame.\n",
      "Try using .loc[row_indexer,col_indexer] = value instead\n",
      "\n",
      "See the caveats in the documentation: https://pandas.pydata.org/pandas-docs/stable/user_guide/indexing.html#returning-a-view-versus-a-copy\n",
      "  reply_features[['reply_followers','time_diff']] = scaler.fit_transform(reply_features[['reply_followers','time_diff']])\n"
     ]
    },
    {
     "name": "stdout",
     "output_type": "stream",
     "text": [
      "0\n",
      "Epoch:   0 | Train Loss: 0.6517 | Train Acc: 78.02% | Val Acc: 75.00%\n",
      "100\n",
      "Epoch: 100 | Train Loss: 0.3155 | Train Acc: 86.58% | Val Acc: 83.33%\n",
      "200\n",
      "Epoch: 200 | Train Loss: 0.1843 | Train Acc: 92.86% | Val Acc: 86.33%\n",
      "300\n",
      "Epoch: 300 | Train Loss: 0.1150 | Train Acc: 96.65% | Val Acc: 86.67%\n",
      "Test accuracy: 87.71%\n",
      "Test Recall: 79.56%\n",
      "Test Precision: 83.81%\n"
     ]
    },
    {
     "name": "stderr",
     "output_type": "stream",
     "text": [
      "2024/09/08 17:57:35 WARNING mlflow.models.model: Input example should be provided to infer model signature if the model signature is not provided when logging the model.\n"
     ]
    },
    {
     "name": "stdout",
     "output_type": "stream",
     "text": [
      "95\n"
     ]
    },
    {
     "name": "stderr",
     "output_type": "stream",
     "text": [
      "/home/azureuser/rumour-detection-pheme/utils.py:139: SettingWithCopyWarning: \n",
      "A value is trying to be set on a copy of a slice from a DataFrame.\n",
      "Try using .loc[row_indexer,col_indexer] = value instead\n",
      "\n",
      "See the caveats in the documentation: https://pandas.pydata.org/pandas-docs/stable/user_guide/indexing.html#returning-a-view-versus-a-copy\n",
      "  reply_features[['reply_followers','time_diff']] = scaler.fit_transform(reply_features[['reply_followers','time_diff']])\n"
     ]
    },
    {
     "name": "stdout",
     "output_type": "stream",
     "text": [
      "0\n",
      "Epoch:   0 | Train Loss: 0.7178 | Train Acc: 68.02% | Val Acc: 70.67%\n",
      "100\n",
      "Epoch: 100 | Train Loss: 0.3078 | Train Acc: 86.80% | Val Acc: 85.67%\n",
      "200\n",
      "Epoch: 200 | Train Loss: 0.1851 | Train Acc: 92.72% | Val Acc: 89.67%\n",
      "300\n",
      "Epoch: 300 | Train Loss: 0.1032 | Train Acc: 97.50% | Val Acc: 89.67%\n",
      "Test accuracy: 81.40%\n",
      "Test Recall: 76.58%\n",
      "Test Precision: 78.42%\n"
     ]
    },
    {
     "name": "stderr",
     "output_type": "stream",
     "text": [
      "2024/09/08 17:58:01 WARNING mlflow.models.model: Input example should be provided to infer model signature if the model signature is not provided when logging the model.\n"
     ]
    },
    {
     "name": "stdout",
     "output_type": "stream",
     "text": [
      "96\n"
     ]
    },
    {
     "name": "stderr",
     "output_type": "stream",
     "text": [
      "/home/azureuser/rumour-detection-pheme/utils.py:139: SettingWithCopyWarning: \n",
      "A value is trying to be set on a copy of a slice from a DataFrame.\n",
      "Try using .loc[row_indexer,col_indexer] = value instead\n",
      "\n",
      "See the caveats in the documentation: https://pandas.pydata.org/pandas-docs/stable/user_guide/indexing.html#returning-a-view-versus-a-copy\n",
      "  reply_features[['reply_followers','time_diff']] = scaler.fit_transform(reply_features[['reply_followers','time_diff']])\n"
     ]
    },
    {
     "name": "stdout",
     "output_type": "stream",
     "text": [
      "0\n",
      "Epoch:   0 | Train Loss: 0.9114 | Train Acc: 55.60% | Val Acc: 54.67%\n",
      "100\n",
      "Epoch: 100 | Train Loss: 0.3474 | Train Acc: 84.08% | Val Acc: 85.67%\n",
      "200\n",
      "Epoch: 200 | Train Loss: 0.2551 | Train Acc: 90.65% | Val Acc: 85.00%\n",
      "300\n",
      "Epoch: 300 | Train Loss: 0.1689 | Train Acc: 93.79% | Val Acc: 84.67%\n",
      "Test accuracy: 86.05%\n",
      "Test Recall: 79.76%\n",
      "Test Precision: 78.02%\n"
     ]
    },
    {
     "name": "stderr",
     "output_type": "stream",
     "text": [
      "2024/09/08 17:58:26 WARNING mlflow.models.model: Input example should be provided to infer model signature if the model signature is not provided when logging the model.\n"
     ]
    },
    {
     "name": "stdout",
     "output_type": "stream",
     "text": [
      "97\n"
     ]
    },
    {
     "name": "stderr",
     "output_type": "stream",
     "text": [
      "/home/azureuser/rumour-detection-pheme/utils.py:139: SettingWithCopyWarning: \n",
      "A value is trying to be set on a copy of a slice from a DataFrame.\n",
      "Try using .loc[row_indexer,col_indexer] = value instead\n",
      "\n",
      "See the caveats in the documentation: https://pandas.pydata.org/pandas-docs/stable/user_guide/indexing.html#returning-a-view-versus-a-copy\n",
      "  reply_features[['reply_followers','time_diff']] = scaler.fit_transform(reply_features[['reply_followers','time_diff']])\n"
     ]
    },
    {
     "name": "stdout",
     "output_type": "stream",
     "text": [
      "0\n",
      "Epoch:   0 | Train Loss: 0.6892 | Train Acc: 72.38% | Val Acc: 71.00%\n",
      "100\n",
      "Epoch: 100 | Train Loss: 0.3161 | Train Acc: 86.30% | Val Acc: 84.67%\n",
      "200\n",
      "Epoch: 200 | Train Loss: 0.2123 | Train Acc: 91.15% | Val Acc: 87.33%\n",
      "300\n",
      "Epoch: 300 | Train Loss: 0.1274 | Train Acc: 95.43% | Val Acc: 87.00%\n",
      "Test accuracy: 88.37%\n",
      "Test Recall: 84.09%\n",
      "Test Precision: 81.62%\n"
     ]
    },
    {
     "name": "stderr",
     "output_type": "stream",
     "text": [
      "2024/09/08 17:58:52 WARNING mlflow.models.model: Input example should be provided to infer model signature if the model signature is not provided when logging the model.\n"
     ]
    },
    {
     "name": "stdout",
     "output_type": "stream",
     "text": [
      "98\n"
     ]
    },
    {
     "name": "stderr",
     "output_type": "stream",
     "text": [
      "/home/azureuser/rumour-detection-pheme/utils.py:139: SettingWithCopyWarning: \n",
      "A value is trying to be set on a copy of a slice from a DataFrame.\n",
      "Try using .loc[row_indexer,col_indexer] = value instead\n",
      "\n",
      "See the caveats in the documentation: https://pandas.pydata.org/pandas-docs/stable/user_guide/indexing.html#returning-a-view-versus-a-copy\n",
      "  reply_features[['reply_followers','time_diff']] = scaler.fit_transform(reply_features[['reply_followers','time_diff']])\n"
     ]
    },
    {
     "name": "stdout",
     "output_type": "stream",
     "text": [
      "0\n",
      "Epoch:   0 | Train Loss: 0.7096 | Train Acc: 69.38% | Val Acc: 70.33%\n",
      "100\n",
      "Epoch: 100 | Train Loss: 0.3116 | Train Acc: 87.58% | Val Acc: 84.00%\n",
      "200\n",
      "Epoch: 200 | Train Loss: 0.1841 | Train Acc: 91.86% | Val Acc: 85.00%\n",
      "300\n",
      "Epoch: 300 | Train Loss: 0.1215 | Train Acc: 96.15% | Val Acc: 84.00%\n",
      "Test accuracy: 86.05%\n",
      "Test Recall: 82.54%\n",
      "Test Precision: 77.33%\n"
     ]
    },
    {
     "name": "stderr",
     "output_type": "stream",
     "text": [
      "2024/09/08 17:59:19 WARNING mlflow.models.model: Input example should be provided to infer model signature if the model signature is not provided when logging the model.\n"
     ]
    },
    {
     "name": "stdout",
     "output_type": "stream",
     "text": [
      "99\n"
     ]
    },
    {
     "name": "stderr",
     "output_type": "stream",
     "text": [
      "/home/azureuser/rumour-detection-pheme/utils.py:139: SettingWithCopyWarning: \n",
      "A value is trying to be set on a copy of a slice from a DataFrame.\n",
      "Try using .loc[row_indexer,col_indexer] = value instead\n",
      "\n",
      "See the caveats in the documentation: https://pandas.pydata.org/pandas-docs/stable/user_guide/indexing.html#returning-a-view-versus-a-copy\n",
      "  reply_features[['reply_followers','time_diff']] = scaler.fit_transform(reply_features[['reply_followers','time_diff']])\n"
     ]
    },
    {
     "name": "stdout",
     "output_type": "stream",
     "text": [
      "0\n",
      "Epoch:   0 | Train Loss: 0.6875 | Train Acc: 62.96% | Val Acc: 65.00%\n",
      "100\n",
      "Epoch: 100 | Train Loss: 0.3126 | Train Acc: 88.01% | Val Acc: 80.33%\n",
      "200\n",
      "Epoch: 200 | Train Loss: 0.1759 | Train Acc: 93.22% | Val Acc: 83.67%\n",
      "300\n",
      "Epoch: 300 | Train Loss: 0.1058 | Train Acc: 96.79% | Val Acc: 83.67%\n",
      "Test accuracy: 87.71%\n",
      "Test Recall: 81.24%\n",
      "Test Precision: 78.12%\n"
     ]
    },
    {
     "name": "stderr",
     "output_type": "stream",
     "text": [
      "2024/09/08 17:59:45 WARNING mlflow.models.model: Input example should be provided to infer model signature if the model signature is not provided when logging the model.\n"
     ]
    },
    {
     "name": "stdout",
     "output_type": "stream",
     "text": [
      "100\n"
     ]
    },
    {
     "name": "stderr",
     "output_type": "stream",
     "text": [
      "/home/azureuser/rumour-detection-pheme/utils.py:139: SettingWithCopyWarning: \n",
      "A value is trying to be set on a copy of a slice from a DataFrame.\n",
      "Try using .loc[row_indexer,col_indexer] = value instead\n",
      "\n",
      "See the caveats in the documentation: https://pandas.pydata.org/pandas-docs/stable/user_guide/indexing.html#returning-a-view-versus-a-copy\n",
      "  reply_features[['reply_followers','time_diff']] = scaler.fit_transform(reply_features[['reply_followers','time_diff']])\n"
     ]
    },
    {
     "name": "stdout",
     "output_type": "stream",
     "text": [
      "0\n",
      "Epoch:   0 | Train Loss: 0.6984 | Train Acc: 70.24% | Val Acc: 68.33%\n",
      "100\n",
      "Epoch: 100 | Train Loss: 0.2989 | Train Acc: 86.72% | Val Acc: 86.67%\n",
      "200\n",
      "Epoch: 200 | Train Loss: 0.1916 | Train Acc: 92.86% | Val Acc: 87.33%\n",
      "300\n",
      "Epoch: 300 | Train Loss: 0.1089 | Train Acc: 96.79% | Val Acc: 86.00%\n",
      "Test accuracy: 83.06%\n",
      "Test Recall: 81.54%\n",
      "Test Precision: 76.44%\n"
     ]
    },
    {
     "name": "stderr",
     "output_type": "stream",
     "text": [
      "2024/09/08 18:00:11 WARNING mlflow.models.model: Input example should be provided to infer model signature if the model signature is not provided when logging the model.\n"
     ]
    },
    {
     "name": "stdout",
     "output_type": "stream",
     "text": [
      "101\n"
     ]
    },
    {
     "name": "stderr",
     "output_type": "stream",
     "text": [
      "/home/azureuser/rumour-detection-pheme/utils.py:139: SettingWithCopyWarning: \n",
      "A value is trying to be set on a copy of a slice from a DataFrame.\n",
      "Try using .loc[row_indexer,col_indexer] = value instead\n",
      "\n",
      "See the caveats in the documentation: https://pandas.pydata.org/pandas-docs/stable/user_guide/indexing.html#returning-a-view-versus-a-copy\n",
      "  reply_features[['reply_followers','time_diff']] = scaler.fit_transform(reply_features[['reply_followers','time_diff']])\n"
     ]
    },
    {
     "name": "stdout",
     "output_type": "stream",
     "text": [
      "0\n",
      "Epoch:   0 | Train Loss: 0.7380 | Train Acc: 78.23% | Val Acc: 76.67%\n",
      "100\n",
      "Epoch: 100 | Train Loss: 0.3020 | Train Acc: 86.15% | Val Acc: 84.67%\n",
      "200\n",
      "Epoch: 200 | Train Loss: 0.1833 | Train Acc: 91.65% | Val Acc: 86.00%\n",
      "300\n",
      "Epoch: 300 | Train Loss: 0.1187 | Train Acc: 96.07% | Val Acc: 84.33%\n",
      "Test accuracy: 88.70%\n",
      "Test Recall: 81.97%\n",
      "Test Precision: 81.27%\n"
     ]
    },
    {
     "name": "stderr",
     "output_type": "stream",
     "text": [
      "2024/09/08 18:00:39 WARNING mlflow.models.model: Input example should be provided to infer model signature if the model signature is not provided when logging the model.\n"
     ]
    },
    {
     "name": "stdout",
     "output_type": "stream",
     "text": [
      "102\n"
     ]
    },
    {
     "name": "stderr",
     "output_type": "stream",
     "text": [
      "/home/azureuser/rumour-detection-pheme/utils.py:139: SettingWithCopyWarning: \n",
      "A value is trying to be set on a copy of a slice from a DataFrame.\n",
      "Try using .loc[row_indexer,col_indexer] = value instead\n",
      "\n",
      "See the caveats in the documentation: https://pandas.pydata.org/pandas-docs/stable/user_guide/indexing.html#returning-a-view-versus-a-copy\n",
      "  reply_features[['reply_followers','time_diff']] = scaler.fit_transform(reply_features[['reply_followers','time_diff']])\n"
     ]
    },
    {
     "name": "stdout",
     "output_type": "stream",
     "text": [
      "0\n",
      "Epoch:   0 | Train Loss: 0.6755 | Train Acc: 76.37% | Val Acc: 74.00%\n",
      "100\n",
      "Epoch: 100 | Train Loss: 0.3081 | Train Acc: 87.01% | Val Acc: 87.33%\n",
      "200\n",
      "Epoch: 200 | Train Loss: 0.1947 | Train Acc: 93.72% | Val Acc: 87.00%\n",
      "300\n",
      "Epoch: 300 | Train Loss: 0.0941 | Train Acc: 97.64% | Val Acc: 88.00%\n",
      "Test accuracy: 84.05%\n",
      "Test Recall: 81.11%\n",
      "Test Precision: 79.23%\n"
     ]
    },
    {
     "name": "stderr",
     "output_type": "stream",
     "text": [
      "2024/09/08 18:01:05 WARNING mlflow.models.model: Input example should be provided to infer model signature if the model signature is not provided when logging the model.\n"
     ]
    },
    {
     "name": "stdout",
     "output_type": "stream",
     "text": [
      "103\n"
     ]
    },
    {
     "name": "stderr",
     "output_type": "stream",
     "text": [
      "/home/azureuser/rumour-detection-pheme/utils.py:139: SettingWithCopyWarning: \n",
      "A value is trying to be set on a copy of a slice from a DataFrame.\n",
      "Try using .loc[row_indexer,col_indexer] = value instead\n",
      "\n",
      "See the caveats in the documentation: https://pandas.pydata.org/pandas-docs/stable/user_guide/indexing.html#returning-a-view-versus-a-copy\n",
      "  reply_features[['reply_followers','time_diff']] = scaler.fit_transform(reply_features[['reply_followers','time_diff']])\n"
     ]
    },
    {
     "name": "stdout",
     "output_type": "stream",
     "text": [
      "0\n",
      "Epoch:   0 | Train Loss: 0.7130 | Train Acc: 71.31% | Val Acc: 73.00%\n",
      "100\n",
      "Epoch: 100 | Train Loss: 0.3170 | Train Acc: 87.58% | Val Acc: 82.67%\n",
      "200\n",
      "Epoch: 200 | Train Loss: 0.2099 | Train Acc: 91.79% | Val Acc: 83.00%\n",
      "300\n",
      "Epoch: 300 | Train Loss: 0.1140 | Train Acc: 96.15% | Val Acc: 85.00%\n",
      "Test accuracy: 88.70%\n",
      "Test Recall: 75.95%\n",
      "Test Precision: 80.86%\n"
     ]
    },
    {
     "name": "stderr",
     "output_type": "stream",
     "text": [
      "2024/09/08 18:01:33 WARNING mlflow.models.model: Input example should be provided to infer model signature if the model signature is not provided when logging the model.\n"
     ]
    },
    {
     "name": "stdout",
     "output_type": "stream",
     "text": [
      "104\n"
     ]
    },
    {
     "name": "stderr",
     "output_type": "stream",
     "text": [
      "/home/azureuser/rumour-detection-pheme/utils.py:139: SettingWithCopyWarning: \n",
      "A value is trying to be set on a copy of a slice from a DataFrame.\n",
      "Try using .loc[row_indexer,col_indexer] = value instead\n",
      "\n",
      "See the caveats in the documentation: https://pandas.pydata.org/pandas-docs/stable/user_guide/indexing.html#returning-a-view-versus-a-copy\n",
      "  reply_features[['reply_followers','time_diff']] = scaler.fit_transform(reply_features[['reply_followers','time_diff']])\n"
     ]
    },
    {
     "name": "stdout",
     "output_type": "stream",
     "text": [
      "0\n",
      "Epoch:   0 | Train Loss: 0.6743 | Train Acc: 74.59% | Val Acc: 76.00%\n",
      "100\n",
      "Epoch: 100 | Train Loss: 0.3169 | Train Acc: 87.08% | Val Acc: 86.67%\n",
      "200\n",
      "Epoch: 200 | Train Loss: 0.1603 | Train Acc: 94.36% | Val Acc: 86.67%\n",
      "300\n",
      "Epoch: 300 | Train Loss: 0.0896 | Train Acc: 97.22% | Val Acc: 86.33%\n",
      "Test accuracy: 86.05%\n",
      "Test Recall: 80.54%\n",
      "Test Precision: 79.65%\n"
     ]
    },
    {
     "name": "stderr",
     "output_type": "stream",
     "text": [
      "2024/09/08 18:01:58 WARNING mlflow.models.model: Input example should be provided to infer model signature if the model signature is not provided when logging the model.\n"
     ]
    },
    {
     "name": "stdout",
     "output_type": "stream",
     "text": [
      "105\n"
     ]
    },
    {
     "name": "stderr",
     "output_type": "stream",
     "text": [
      "/home/azureuser/rumour-detection-pheme/utils.py:139: SettingWithCopyWarning: \n",
      "A value is trying to be set on a copy of a slice from a DataFrame.\n",
      "Try using .loc[row_indexer,col_indexer] = value instead\n",
      "\n",
      "See the caveats in the documentation: https://pandas.pydata.org/pandas-docs/stable/user_guide/indexing.html#returning-a-view-versus-a-copy\n",
      "  reply_features[['reply_followers','time_diff']] = scaler.fit_transform(reply_features[['reply_followers','time_diff']])\n"
     ]
    },
    {
     "name": "stdout",
     "output_type": "stream",
     "text": [
      "0\n",
      "Epoch:   0 | Train Loss: 0.7741 | Train Acc: 27.98% | Val Acc: 27.00%\n",
      "100\n",
      "Epoch: 100 | Train Loss: 0.3051 | Train Acc: 87.51% | Val Acc: 85.33%\n",
      "200\n",
      "Epoch: 200 | Train Loss: 0.1768 | Train Acc: 94.00% | Val Acc: 87.33%\n",
      "300\n",
      "Epoch: 300 | Train Loss: 0.0996 | Train Acc: 97.64% | Val Acc: 86.67%\n",
      "Test accuracy: 85.05%\n",
      "Test Recall: 77.85%\n",
      "Test Precision: 80.64%\n"
     ]
    },
    {
     "name": "stderr",
     "output_type": "stream",
     "text": [
      "2024/09/08 18:02:25 WARNING mlflow.models.model: Input example should be provided to infer model signature if the model signature is not provided when logging the model.\n"
     ]
    },
    {
     "name": "stdout",
     "output_type": "stream",
     "text": [
      "106\n"
     ]
    },
    {
     "name": "stderr",
     "output_type": "stream",
     "text": [
      "/home/azureuser/rumour-detection-pheme/utils.py:139: SettingWithCopyWarning: \n",
      "A value is trying to be set on a copy of a slice from a DataFrame.\n",
      "Try using .loc[row_indexer,col_indexer] = value instead\n",
      "\n",
      "See the caveats in the documentation: https://pandas.pydata.org/pandas-docs/stable/user_guide/indexing.html#returning-a-view-versus-a-copy\n",
      "  reply_features[['reply_followers','time_diff']] = scaler.fit_transform(reply_features[['reply_followers','time_diff']])\n"
     ]
    },
    {
     "name": "stdout",
     "output_type": "stream",
     "text": [
      "0\n",
      "Epoch:   0 | Train Loss: 0.7393 | Train Acc: 44.61% | Val Acc: 34.67%\n",
      "100\n",
      "Epoch: 100 | Train Loss: 0.2920 | Train Acc: 86.94% | Val Acc: 87.67%\n",
      "200\n",
      "Epoch: 200 | Train Loss: 0.1886 | Train Acc: 92.22% | Val Acc: 89.67%\n",
      "300\n",
      "Epoch: 300 | Train Loss: 0.1318 | Train Acc: 94.50% | Val Acc: 88.67%\n",
      "Test accuracy: 85.38%\n",
      "Test Recall: 82.87%\n",
      "Test Precision: 79.83%\n"
     ]
    },
    {
     "name": "stderr",
     "output_type": "stream",
     "text": [
      "2024/09/08 18:02:52 WARNING mlflow.models.model: Input example should be provided to infer model signature if the model signature is not provided when logging the model.\n"
     ]
    },
    {
     "name": "stdout",
     "output_type": "stream",
     "text": [
      "107\n"
     ]
    },
    {
     "name": "stderr",
     "output_type": "stream",
     "text": [
      "/home/azureuser/rumour-detection-pheme/utils.py:139: SettingWithCopyWarning: \n",
      "A value is trying to be set on a copy of a slice from a DataFrame.\n",
      "Try using .loc[row_indexer,col_indexer] = value instead\n",
      "\n",
      "See the caveats in the documentation: https://pandas.pydata.org/pandas-docs/stable/user_guide/indexing.html#returning-a-view-versus-a-copy\n",
      "  reply_features[['reply_followers','time_diff']] = scaler.fit_transform(reply_features[['reply_followers','time_diff']])\n"
     ]
    },
    {
     "name": "stdout",
     "output_type": "stream",
     "text": [
      "0\n",
      "Epoch:   0 | Train Loss: 0.9100 | Train Acc: 22.34% | Val Acc: 23.67%\n",
      "100\n",
      "Epoch: 100 | Train Loss: 0.3532 | Train Acc: 84.73% | Val Acc: 82.33%\n",
      "200\n",
      "Epoch: 200 | Train Loss: 0.2438 | Train Acc: 90.51% | Val Acc: 87.00%\n",
      "300\n",
      "Epoch: 300 | Train Loss: 0.1543 | Train Acc: 96.00% | Val Acc: 87.67%\n",
      "Test accuracy: 86.38%\n",
      "Test Recall: 77.65%\n",
      "Test Precision: 81.17%\n"
     ]
    },
    {
     "name": "stderr",
     "output_type": "stream",
     "text": [
      "2024/09/08 18:03:18 WARNING mlflow.models.model: Input example should be provided to infer model signature if the model signature is not provided when logging the model.\n"
     ]
    },
    {
     "name": "stdout",
     "output_type": "stream",
     "text": [
      "108\n"
     ]
    },
    {
     "name": "stderr",
     "output_type": "stream",
     "text": [
      "/home/azureuser/rumour-detection-pheme/utils.py:139: SettingWithCopyWarning: \n",
      "A value is trying to be set on a copy of a slice from a DataFrame.\n",
      "Try using .loc[row_indexer,col_indexer] = value instead\n",
      "\n",
      "See the caveats in the documentation: https://pandas.pydata.org/pandas-docs/stable/user_guide/indexing.html#returning-a-view-versus-a-copy\n",
      "  reply_features[['reply_followers','time_diff']] = scaler.fit_transform(reply_features[['reply_followers','time_diff']])\n"
     ]
    },
    {
     "name": "stdout",
     "output_type": "stream",
     "text": [
      "0\n",
      "Epoch:   0 | Train Loss: 0.7475 | Train Acc: 41.18% | Val Acc: 44.67%\n",
      "100\n",
      "Epoch: 100 | Train Loss: 0.2999 | Train Acc: 87.72% | Val Acc: 84.33%\n",
      "200\n",
      "Epoch: 200 | Train Loss: 0.1884 | Train Acc: 93.43% | Val Acc: 85.33%\n",
      "300\n",
      "Epoch: 300 | Train Loss: 0.1117 | Train Acc: 96.29% | Val Acc: 85.33%\n",
      "Test accuracy: 82.39%\n",
      "Test Recall: 78.50%\n",
      "Test Precision: 78.63%\n"
     ]
    },
    {
     "name": "stderr",
     "output_type": "stream",
     "text": [
      "2024/09/08 18:03:45 WARNING mlflow.models.model: Input example should be provided to infer model signature if the model signature is not provided when logging the model.\n"
     ]
    },
    {
     "name": "stdout",
     "output_type": "stream",
     "text": [
      "109\n"
     ]
    },
    {
     "name": "stderr",
     "output_type": "stream",
     "text": [
      "/home/azureuser/rumour-detection-pheme/utils.py:139: SettingWithCopyWarning: \n",
      "A value is trying to be set on a copy of a slice from a DataFrame.\n",
      "Try using .loc[row_indexer,col_indexer] = value instead\n",
      "\n",
      "See the caveats in the documentation: https://pandas.pydata.org/pandas-docs/stable/user_guide/indexing.html#returning-a-view-versus-a-copy\n",
      "  reply_features[['reply_followers','time_diff']] = scaler.fit_transform(reply_features[['reply_followers','time_diff']])\n"
     ]
    },
    {
     "name": "stdout",
     "output_type": "stream",
     "text": [
      "0\n",
      "Epoch:   0 | Train Loss: 0.7278 | Train Acc: 54.25% | Val Acc: 50.33%\n",
      "100\n",
      "Epoch: 100 | Train Loss: 0.3030 | Train Acc: 87.44% | Val Acc: 87.33%\n",
      "200\n",
      "Epoch: 200 | Train Loss: 0.1649 | Train Acc: 93.43% | Val Acc: 87.67%\n",
      "300\n",
      "Epoch: 300 | Train Loss: 0.0937 | Train Acc: 96.65% | Val Acc: 86.33%\n",
      "Test accuracy: 84.72%\n",
      "Test Recall: 78.96%\n",
      "Test Precision: 78.34%\n"
     ]
    },
    {
     "name": "stderr",
     "output_type": "stream",
     "text": [
      "2024/09/08 18:04:11 WARNING mlflow.models.model: Input example should be provided to infer model signature if the model signature is not provided when logging the model.\n"
     ]
    },
    {
     "name": "stdout",
     "output_type": "stream",
     "text": [
      "110\n"
     ]
    },
    {
     "name": "stderr",
     "output_type": "stream",
     "text": [
      "/home/azureuser/rumour-detection-pheme/utils.py:139: SettingWithCopyWarning: \n",
      "A value is trying to be set on a copy of a slice from a DataFrame.\n",
      "Try using .loc[row_indexer,col_indexer] = value instead\n",
      "\n",
      "See the caveats in the documentation: https://pandas.pydata.org/pandas-docs/stable/user_guide/indexing.html#returning-a-view-versus-a-copy\n",
      "  reply_features[['reply_followers','time_diff']] = scaler.fit_transform(reply_features[['reply_followers','time_diff']])\n"
     ]
    },
    {
     "name": "stdout",
     "output_type": "stream",
     "text": [
      "0\n",
      "Epoch:   0 | Train Loss: 0.7608 | Train Acc: 33.19% | Val Acc: 31.33%\n",
      "100\n",
      "Epoch: 100 | Train Loss: 0.3304 | Train Acc: 85.65% | Val Acc: 83.33%\n",
      "200\n",
      "Epoch: 200 | Train Loss: 0.2061 | Train Acc: 92.58% | Val Acc: 84.00%\n",
      "300\n",
      "Epoch: 300 | Train Loss: 0.1210 | Train Acc: 97.50% | Val Acc: 84.33%\n",
      "Test accuracy: 90.03%\n",
      "Test Recall: 79.12%\n",
      "Test Precision: 82.01%\n"
     ]
    },
    {
     "name": "stderr",
     "output_type": "stream",
     "text": [
      "2024/09/08 18:04:40 WARNING mlflow.models.model: Input example should be provided to infer model signature if the model signature is not provided when logging the model.\n"
     ]
    },
    {
     "name": "stdout",
     "output_type": "stream",
     "text": [
      "111\n"
     ]
    },
    {
     "name": "stderr",
     "output_type": "stream",
     "text": [
      "/home/azureuser/rumour-detection-pheme/utils.py:139: SettingWithCopyWarning: \n",
      "A value is trying to be set on a copy of a slice from a DataFrame.\n",
      "Try using .loc[row_indexer,col_indexer] = value instead\n",
      "\n",
      "See the caveats in the documentation: https://pandas.pydata.org/pandas-docs/stable/user_guide/indexing.html#returning-a-view-versus-a-copy\n",
      "  reply_features[['reply_followers','time_diff']] = scaler.fit_transform(reply_features[['reply_followers','time_diff']])\n"
     ]
    },
    {
     "name": "stdout",
     "output_type": "stream",
     "text": [
      "0\n",
      "Epoch:   0 | Train Loss: 0.7393 | Train Acc: 74.02% | Val Acc: 75.67%\n",
      "100\n",
      "Epoch: 100 | Train Loss: 0.2896 | Train Acc: 87.94% | Val Acc: 85.00%\n",
      "200\n",
      "Epoch: 200 | Train Loss: 0.1659 | Train Acc: 93.93% | Val Acc: 86.33%\n",
      "300\n",
      "Epoch: 300 | Train Loss: 0.0981 | Train Acc: 97.57% | Val Acc: 86.67%\n",
      "Test accuracy: 84.39%\n",
      "Test Recall: 76.23%\n",
      "Test Precision: 79.02%\n"
     ]
    },
    {
     "name": "stderr",
     "output_type": "stream",
     "text": [
      "2024/09/08 18:05:08 WARNING mlflow.models.model: Input example should be provided to infer model signature if the model signature is not provided when logging the model.\n"
     ]
    },
    {
     "name": "stdout",
     "output_type": "stream",
     "text": [
      "112\n"
     ]
    },
    {
     "name": "stderr",
     "output_type": "stream",
     "text": [
      "/home/azureuser/rumour-detection-pheme/utils.py:139: SettingWithCopyWarning: \n",
      "A value is trying to be set on a copy of a slice from a DataFrame.\n",
      "Try using .loc[row_indexer,col_indexer] = value instead\n",
      "\n",
      "See the caveats in the documentation: https://pandas.pydata.org/pandas-docs/stable/user_guide/indexing.html#returning-a-view-versus-a-copy\n",
      "  reply_features[['reply_followers','time_diff']] = scaler.fit_transform(reply_features[['reply_followers','time_diff']])\n"
     ]
    },
    {
     "name": "stdout",
     "output_type": "stream",
     "text": [
      "0\n",
      "Epoch:   0 | Train Loss: 0.7376 | Train Acc: 35.26% | Val Acc: 30.67%\n",
      "100\n",
      "Epoch: 100 | Train Loss: 0.3372 | Train Acc: 86.30% | Val Acc: 82.00%\n",
      "200\n",
      "Epoch: 200 | Train Loss: 0.2024 | Train Acc: 92.22% | Val Acc: 86.67%\n",
      "300\n",
      "Epoch: 300 | Train Loss: 0.1078 | Train Acc: 97.29% | Val Acc: 86.67%\n",
      "Test accuracy: 91.03%\n",
      "Test Recall: 77.43%\n",
      "Test Precision: 80.87%\n"
     ]
    },
    {
     "name": "stderr",
     "output_type": "stream",
     "text": [
      "2024/09/08 18:05:34 WARNING mlflow.models.model: Input example should be provided to infer model signature if the model signature is not provided when logging the model.\n"
     ]
    },
    {
     "name": "stdout",
     "output_type": "stream",
     "text": [
      "113\n"
     ]
    },
    {
     "name": "stderr",
     "output_type": "stream",
     "text": [
      "/home/azureuser/rumour-detection-pheme/utils.py:139: SettingWithCopyWarning: \n",
      "A value is trying to be set on a copy of a slice from a DataFrame.\n",
      "Try using .loc[row_indexer,col_indexer] = value instead\n",
      "\n",
      "See the caveats in the documentation: https://pandas.pydata.org/pandas-docs/stable/user_guide/indexing.html#returning-a-view-versus-a-copy\n",
      "  reply_features[['reply_followers','time_diff']] = scaler.fit_transform(reply_features[['reply_followers','time_diff']])\n"
     ]
    },
    {
     "name": "stdout",
     "output_type": "stream",
     "text": [
      "0\n",
      "Epoch:   0 | Train Loss: 0.6865 | Train Acc: 69.02% | Val Acc: 67.33%\n",
      "100\n",
      "Epoch: 100 | Train Loss: 0.2897 | Train Acc: 87.51% | Val Acc: 83.67%\n",
      "200\n",
      "Epoch: 200 | Train Loss: 0.1813 | Train Acc: 92.43% | Val Acc: 84.67%\n",
      "300\n",
      "Epoch: 300 | Train Loss: 0.1059 | Train Acc: 96.79% | Val Acc: 85.00%\n",
      "Test accuracy: 82.72%\n",
      "Test Recall: 80.35%\n",
      "Test Precision: 77.68%\n"
     ]
    },
    {
     "name": "stderr",
     "output_type": "stream",
     "text": [
      "2024/09/08 18:06:00 WARNING mlflow.models.model: Input example should be provided to infer model signature if the model signature is not provided when logging the model.\n"
     ]
    },
    {
     "name": "stdout",
     "output_type": "stream",
     "text": [
      "114\n"
     ]
    },
    {
     "name": "stderr",
     "output_type": "stream",
     "text": [
      "/home/azureuser/rumour-detection-pheme/utils.py:139: SettingWithCopyWarning: \n",
      "A value is trying to be set on a copy of a slice from a DataFrame.\n",
      "Try using .loc[row_indexer,col_indexer] = value instead\n",
      "\n",
      "See the caveats in the documentation: https://pandas.pydata.org/pandas-docs/stable/user_guide/indexing.html#returning-a-view-versus-a-copy\n",
      "  reply_features[['reply_followers','time_diff']] = scaler.fit_transform(reply_features[['reply_followers','time_diff']])\n"
     ]
    },
    {
     "name": "stdout",
     "output_type": "stream",
     "text": [
      "0\n",
      "Epoch:   0 | Train Loss: 0.6948 | Train Acc: 73.66% | Val Acc: 71.33%\n",
      "100\n",
      "Epoch: 100 | Train Loss: 0.3051 | Train Acc: 86.58% | Val Acc: 84.67%\n",
      "200\n",
      "Epoch: 200 | Train Loss: 0.1969 | Train Acc: 93.65% | Val Acc: 86.33%\n",
      "300\n",
      "Epoch: 300 | Train Loss: 0.1033 | Train Acc: 97.29% | Val Acc: 86.33%\n",
      "Test accuracy: 86.71%\n",
      "Test Recall: 82.62%\n",
      "Test Precision: 81.49%\n"
     ]
    },
    {
     "name": "stderr",
     "output_type": "stream",
     "text": [
      "2024/09/08 18:06:27 WARNING mlflow.models.model: Input example should be provided to infer model signature if the model signature is not provided when logging the model.\n"
     ]
    },
    {
     "name": "stdout",
     "output_type": "stream",
     "text": [
      "115\n"
     ]
    },
    {
     "name": "stderr",
     "output_type": "stream",
     "text": [
      "/home/azureuser/rumour-detection-pheme/utils.py:139: SettingWithCopyWarning: \n",
      "A value is trying to be set on a copy of a slice from a DataFrame.\n",
      "Try using .loc[row_indexer,col_indexer] = value instead\n",
      "\n",
      "See the caveats in the documentation: https://pandas.pydata.org/pandas-docs/stable/user_guide/indexing.html#returning-a-view-versus-a-copy\n",
      "  reply_features[['reply_followers','time_diff']] = scaler.fit_transform(reply_features[['reply_followers','time_diff']])\n"
     ]
    },
    {
     "name": "stdout",
     "output_type": "stream",
     "text": [
      "0\n",
      "Epoch:   0 | Train Loss: 0.6458 | Train Acc: 75.30% | Val Acc: 76.67%\n",
      "100\n",
      "Epoch: 100 | Train Loss: 0.2971 | Train Acc: 87.37% | Val Acc: 83.33%\n",
      "200\n",
      "Epoch: 200 | Train Loss: 0.1947 | Train Acc: 94.22% | Val Acc: 85.67%\n",
      "300\n",
      "Epoch: 300 | Train Loss: 0.1034 | Train Acc: 96.93% | Val Acc: 84.00%\n",
      "Test accuracy: 84.72%\n",
      "Test Recall: 75.36%\n",
      "Test Precision: 77.93%\n"
     ]
    },
    {
     "name": "stderr",
     "output_type": "stream",
     "text": [
      "2024/09/08 18:06:54 WARNING mlflow.models.model: Input example should be provided to infer model signature if the model signature is not provided when logging the model.\n"
     ]
    },
    {
     "name": "stdout",
     "output_type": "stream",
     "text": [
      "116\n"
     ]
    },
    {
     "name": "stderr",
     "output_type": "stream",
     "text": [
      "/home/azureuser/rumour-detection-pheme/utils.py:139: SettingWithCopyWarning: \n",
      "A value is trying to be set on a copy of a slice from a DataFrame.\n",
      "Try using .loc[row_indexer,col_indexer] = value instead\n",
      "\n",
      "See the caveats in the documentation: https://pandas.pydata.org/pandas-docs/stable/user_guide/indexing.html#returning-a-view-versus-a-copy\n",
      "  reply_features[['reply_followers','time_diff']] = scaler.fit_transform(reply_features[['reply_followers','time_diff']])\n"
     ]
    },
    {
     "name": "stdout",
     "output_type": "stream",
     "text": [
      "0\n",
      "Epoch:   0 | Train Loss: 0.7032 | Train Acc: 74.95% | Val Acc: 75.00%\n",
      "100\n",
      "Epoch: 100 | Train Loss: 0.3178 | Train Acc: 86.58% | Val Acc: 85.00%\n",
      "200\n",
      "Epoch: 200 | Train Loss: 0.1939 | Train Acc: 93.15% | Val Acc: 88.67%\n",
      "300\n",
      "Epoch: 300 | Train Loss: 0.1101 | Train Acc: 96.72% | Val Acc: 89.00%\n",
      "Test accuracy: 86.05%\n",
      "Test Recall: 84.49%\n",
      "Test Precision: 82.40%\n"
     ]
    },
    {
     "name": "stderr",
     "output_type": "stream",
     "text": [
      "2024/09/08 18:07:21 WARNING mlflow.models.model: Input example should be provided to infer model signature if the model signature is not provided when logging the model.\n"
     ]
    },
    {
     "name": "stdout",
     "output_type": "stream",
     "text": [
      "117\n"
     ]
    },
    {
     "name": "stderr",
     "output_type": "stream",
     "text": [
      "/home/azureuser/rumour-detection-pheme/utils.py:139: SettingWithCopyWarning: \n",
      "A value is trying to be set on a copy of a slice from a DataFrame.\n",
      "Try using .loc[row_indexer,col_indexer] = value instead\n",
      "\n",
      "See the caveats in the documentation: https://pandas.pydata.org/pandas-docs/stable/user_guide/indexing.html#returning-a-view-versus-a-copy\n",
      "  reply_features[['reply_followers','time_diff']] = scaler.fit_transform(reply_features[['reply_followers','time_diff']])\n"
     ]
    },
    {
     "name": "stdout",
     "output_type": "stream",
     "text": [
      "0\n",
      "Epoch:   0 | Train Loss: 0.8382 | Train Acc: 23.91% | Val Acc: 21.67%\n",
      "100\n",
      "Epoch: 100 | Train Loss: 0.3239 | Train Acc: 85.51% | Val Acc: 84.00%\n",
      "200\n",
      "Epoch: 200 | Train Loss: 0.2206 | Train Acc: 91.79% | Val Acc: 85.67%\n",
      "300\n",
      "Epoch: 300 | Train Loss: 0.1315 | Train Acc: 95.72% | Val Acc: 84.67%\n",
      "Test accuracy: 85.38%\n",
      "Test Recall: 78.46%\n",
      "Test Precision: 79.11%\n"
     ]
    },
    {
     "name": "stderr",
     "output_type": "stream",
     "text": [
      "2024/09/08 18:07:49 WARNING mlflow.models.model: Input example should be provided to infer model signature if the model signature is not provided when logging the model.\n"
     ]
    },
    {
     "name": "stdout",
     "output_type": "stream",
     "text": [
      "118\n"
     ]
    },
    {
     "name": "stderr",
     "output_type": "stream",
     "text": [
      "/home/azureuser/rumour-detection-pheme/utils.py:139: SettingWithCopyWarning: \n",
      "A value is trying to be set on a copy of a slice from a DataFrame.\n",
      "Try using .loc[row_indexer,col_indexer] = value instead\n",
      "\n",
      "See the caveats in the documentation: https://pandas.pydata.org/pandas-docs/stable/user_guide/indexing.html#returning-a-view-versus-a-copy\n",
      "  reply_features[['reply_followers','time_diff']] = scaler.fit_transform(reply_features[['reply_followers','time_diff']])\n"
     ]
    },
    {
     "name": "stdout",
     "output_type": "stream",
     "text": [
      "0\n",
      "Epoch:   0 | Train Loss: 0.7942 | Train Acc: 37.54% | Val Acc: 33.33%\n",
      "100\n",
      "Epoch: 100 | Train Loss: 0.3366 | Train Acc: 84.30% | Val Acc: 87.00%\n",
      "200\n",
      "Epoch: 200 | Train Loss: 0.2490 | Train Acc: 90.15% | Val Acc: 88.67%\n",
      "300\n",
      "Epoch: 300 | Train Loss: 0.1617 | Train Acc: 95.36% | Val Acc: 91.00%\n",
      "Test accuracy: 83.72%\n",
      "Test Recall: 81.45%\n",
      "Test Precision: 81.45%\n"
     ]
    },
    {
     "name": "stderr",
     "output_type": "stream",
     "text": [
      "2024/09/08 18:08:16 WARNING mlflow.models.model: Input example should be provided to infer model signature if the model signature is not provided when logging the model.\n"
     ]
    },
    {
     "name": "stdout",
     "output_type": "stream",
     "text": [
      "119\n"
     ]
    },
    {
     "name": "stderr",
     "output_type": "stream",
     "text": [
      "/home/azureuser/rumour-detection-pheme/utils.py:139: SettingWithCopyWarning: \n",
      "A value is trying to be set on a copy of a slice from a DataFrame.\n",
      "Try using .loc[row_indexer,col_indexer] = value instead\n",
      "\n",
      "See the caveats in the documentation: https://pandas.pydata.org/pandas-docs/stable/user_guide/indexing.html#returning-a-view-versus-a-copy\n",
      "  reply_features[['reply_followers','time_diff']] = scaler.fit_transform(reply_features[['reply_followers','time_diff']])\n"
     ]
    },
    {
     "name": "stdout",
     "output_type": "stream",
     "text": [
      "0\n",
      "Epoch:   0 | Train Loss: 0.7199 | Train Acc: 52.46% | Val Acc: 53.33%\n",
      "100\n",
      "Epoch: 100 | Train Loss: 0.3319 | Train Acc: 86.30% | Val Acc: 80.67%\n",
      "200\n",
      "Epoch: 200 | Train Loss: 0.1949 | Train Acc: 92.58% | Val Acc: 81.67%\n",
      "300\n",
      "Epoch: 300 | Train Loss: 0.1088 | Train Acc: 96.93% | Val Acc: 84.00%\n",
      "Test accuracy: 82.72%\n",
      "Test Recall: 75.24%\n",
      "Test Precision: 78.62%\n"
     ]
    },
    {
     "name": "stderr",
     "output_type": "stream",
     "text": [
      "2024/09/08 18:08:43 WARNING mlflow.models.model: Input example should be provided to infer model signature if the model signature is not provided when logging the model.\n"
     ]
    }
   ],
   "source": [
    "#\n",
    "file_path_replies = r\"/home/azureuser/rumour-detection-pheme/replies_charlie_hebdo.pkl\"\n",
    "file_path_posts = r\"/home/azureuser/rumour-detection-pheme/posts_charlie_hebdo.pkl\"\n",
    "\n",
    "for time_cut in range(1,120,1):\n",
    "    print(time_cut)\n",
    "    processor = HeteroDataProcessor(file_path_replies, file_path_posts, time_cut)\n",
    "    data = processor.process()\n",
    "\n",
    "    model = GAT(dim_h=64, dim_out=2)\n",
    "    model = to_hetero(model, data.metadata(), aggr='sum')\n",
    "    \n",
    "    optimizer = torch.optim.Adam(model.parameters(), lr=0.001)\n",
    "    device = torch.device('cuda' if torch.cuda.is_available() else 'cpu')\n",
    "    data, model = data.to(device), model.to(device)\n",
    "   \n",
    "    with mlflow.start_run():\n",
    "\n",
    "        for epoch in range(400):\n",
    "            model.train()\n",
    "            optimizer.zero_grad()\n",
    "            out = model(data.x_dict, data.edge_index_dict)['id']\n",
    "            mask = data['id'].train_mask\n",
    "            loss = F.cross_entropy(out[mask], data['id'].y[mask])\n",
    "            loss.backward()\n",
    "            optimizer.step()\n",
    "            \n",
    "            if epoch % 100 == 0:\n",
    "                print(epoch)\n",
    "                train_acc = test(data['id'].train_mask)\n",
    "                val_acc = test(data['id'].val_mask)\n",
    "                print(f'Epoch: {epoch:>3} | Train Loss: {loss:.4f} | Train Acc: {train_acc*100:.2f}% | Val Acc: {val_acc*100:.2f}%')\n",
    "\n",
    "            \n",
    "        test_acc = test(data['id'].test_mask)\n",
    "        print(f'Test accuracy: {test_acc*100:.2f}%')\n",
    "\n",
    "        test_mask = data['id'].test_mask | data['id'].val_mask\n",
    "        pred = model(data.x_dict, data.edge_index_dict)['id'].argmax(dim=-1)\n",
    "        true_labels = data['id'].y[test_mask]\n",
    "        pred_labels = pred[test_mask]\n",
    "        test_precision =precision_score(true_labels, pred_labels, average='macro')\n",
    "        test_recall=recall_score(true_labels, pred_labels, average='macro')\n",
    "        print(f'Test Recall: {test_recall*100:.2f}%')\n",
    "        print(f'Test Precision: {test_precision*100:.2f}%')\n",
    "\n",
    "        mlflow.log_metric(\"train_loss\", loss.item(), step=epoch)\n",
    "        mlflow.log_metric(\"train_acc\", train_acc, step=epoch)\n",
    "        mlflow.log_metric(\"val_acc\", val_acc, step=epoch)\n",
    "        mlflow.log_metric(\"test_acc\", test_acc)\n",
    "        mlflow.log_metric(\"test_precision\",  test_precision)\n",
    "        mlflow.log_metric(\"test_recall\",  test_recall)\n",
    "\n",
    "            \n",
    "        mlflow.log_param(\"dim_h\", 64)\n",
    "        mlflow.log_param(\"dim_out\", 2)\n",
    "        mlflow.log_param(\"learning_rate\", 0.001)\n",
    "        mlflow.log_param(\"epochs\", 400)\n",
    "        mlflow.log_metric(\"time_cut\", time_cut)\n",
    "\n",
    "\n",
    "\n",
    "        \n",
    "            \n",
    "        mlflow.pytorch.log_model(model, f\"GAT_model_{time_cut}\")\n"
   ]
  },
  {
   "cell_type": "code",
   "execution_count": 21,
   "id": "857940ca",
   "metadata": {},
   "outputs": [],
   "source": [
    "import mlflow\n",
    "\n",
    "# Get the experiment ID or name\n",
    "experiment_name = \"GAT Network 2024-09-08 short time cut\"  # Replace with your experiment name\n",
    "experiment = mlflow.get_experiment_by_name(experiment_name)\n",
    "\n",
    "if experiment is not None:\n",
    "    experiment_id = experiment.experiment_id\n",
    "\n",
    "    # Retrieve all runs in the experiment as a DataFrame\n",
    "    df = mlflow.search_runs(experiment_ids=[experiment_id])\n",
    "    \n",
    "    # Show the DataFrame\n",
    "    #print(df)\n",
    "else:\n",
    "    print(f\"Experiment '{experiment_name}' not found.\")\n"
   ]
  },
  {
   "cell_type": "code",
   "execution_count": 22,
   "id": "1ff0cc0d",
   "metadata": {},
   "outputs": [
    {
     "data": {
      "image/png": "[encoded data removed]",
      "text/plain": [
       "<Figure size 1000x600 with 1 Axes>"
      ]
     },
     "metadata": {},
     "output_type": "display_data"
    }
   ],
   "source": [
    "    # Ensure the metrics are numeric\n",
    "import pandas as pd\n",
    "import matplotlib.pyplot as plt\n",
    "import seaborn as sns\n",
    "df=df.sort_values(by='start_time',ascending=True)\n",
    "df['metrics.time_cut'] = pd.to_numeric(df['metrics.time_cut'], errors='coerce')\n",
    "df['metrics.test_recall'] = pd.to_numeric(df['metrics.test_recall'], errors='coerce')\n",
    "    \n",
    "# Plotting time_cut vs. test_accuracy\n",
    "plt.figure(figsize=(10, 6))\n",
    "sns.lineplot(x='metrics.time_cut', y='metrics.test_recall', data=df)\n",
    "plt.title('Time Cut vs. Test Recall')\n",
    "plt.xlabel('Time Cut')\n",
    "plt.ylabel('Test Recall')\n",
    "plt.grid(True)\n",
    "plt.show()"
   ]
  },
  {
   "cell_type": "code",
   "execution_count": 24,
   "id": "414bacc0",
   "metadata": {},
   "outputs": [
    {
     "data": {
      "image/png": "[encoded data removed]",
      "text/plain": [
       "<Figure size 1000x600 with 1 Axes>"
      ]
     },
     "metadata": {},
     "output_type": "display_data"
    }
   ],
   "source": [
    "    # Ensure the metrics are numeric\n",
    "import pandas as pd\n",
    "import matplotlib.pyplot as plt\n",
    "import seaborn as sns\n",
    "df=df.sort_values(by='start_time',ascending=True)\n",
    "df['metrics.time_cut'] = pd.to_numeric(df['metrics.time_cut'], errors='coerce')\n",
    "df['metrics.test_recall'] = pd.to_numeric(df['metrics.test_precision'], errors='coerce')\n",
    "    \n",
    "# Plotting time_cut vs. test_accuracy\n",
    "plt.figure(figsize=(10, 6))\n",
    "sns.lineplot(x='metrics.time_cut', y='metrics.test_precision', data=df)\n",
    "plt.title('Time Cut vs. Test Precision')\n",
    "plt.xlabel('Time Cut')\n",
    "plt.ylabel('Test Recall')\n",
    "plt.grid(True)\n",
    "plt.show()"
   ]
  }
 ],
 "metadata": {
  "kernelspec": {
   "display_name": "mastering",
   "language": "python",
   "name": "mastering"
  },
  "language_info": {
   "codemirror_mode": {
    "name": "ipython",
    "version": 3
   },
   "file_extension": ".py",
   "mimetype": "text/x-python",
   "name": "python",
   "nbconvert_exporter": "python",
   "pygments_lexer": "ipython3",
   "version": "3.12.5"
  }
 },
 "nbformat": 4,
 "nbformat_minor": 5
}
