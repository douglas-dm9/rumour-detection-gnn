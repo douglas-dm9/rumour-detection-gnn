{
 "cells": [
  {
   "cell_type": "code",
   "execution_count": 1,
   "id": "24cf3cd1",
   "metadata": {},
   "outputs": [
    {
     "name": "stdout",
     "output_type": "stream",
     "text": [
      "Collecting xgboost\n",
      "  Using cached xgboost-2.1.1-py3-none-manylinux_2_28_x86_64.whl.metadata (2.1 kB)\n",
      "Requirement already satisfied: numpy in /home/azureuser/miniconda3/lib/python3.12/site-packages (from xgboost) (1.26.4)\n",
      "Collecting nvidia-nccl-cu12 (from xgboost)\n",
      "  Downloading nvidia_nccl_cu12-2.23.4-py3-none-manylinux2014_x86_64.whl.metadata (1.8 kB)\n",
      "Requirement already satisfied: scipy in /home/azureuser/miniconda3/lib/python3.12/site-packages (from xgboost) (1.13.1)\n",
      "Using cached xgboost-2.1.1-py3-none-manylinux_2_28_x86_64.whl (153.9 MB)\n",
      "Downloading nvidia_nccl_cu12-2.23.4-py3-none-manylinux2014_x86_64.whl (199.0 MB)\n",
      "\u001b[2K   \u001b[38;2;114;156;31m━━━━━━━━━━━━━━━━━━━━━━━━━━━━━━━━━━━━━━━━\u001b[0m \u001b[32m199.0/199.0 MB\u001b[0m \u001b[31m1.6 MB/s\u001b[0m eta \u001b[36m0:00:00\u001b[0m0m eta \u001b[36m0:00:01\u001b[0m0:01\u001b[0m:01\u001b[0m\n",
      "\u001b[?25hInstalling collected packages: nvidia-nccl-cu12, xgboost\n",
      "Successfully installed nvidia-nccl-cu12-2.23.4 xgboost-2.1.1\n"
     ]
    }
   ],
   "source": [
    "!python -m pip install xgboost"
   ]
  },
  {
   "cell_type": "code",
   "execution_count": 12,
   "id": "dfdb00f7",
   "metadata": {},
   "outputs": [
    {
     "name": "stdout",
     "output_type": "stream",
     "text": [
      "Collecting hyperopt\n",
      "  Using cached hyperopt-0.2.7-py2.py3-none-any.whl.metadata (1.7 kB)\n",
      "Requirement already satisfied: numpy in /home/azureuser/miniconda3/envs/mastering/lib/python3.12/site-packages (from hyperopt) (1.26.4)\n",
      "Requirement already satisfied: scipy in /home/azureuser/miniconda3/envs/mastering/lib/python3.12/site-packages (from hyperopt) (1.14.0)\n",
      "Requirement already satisfied: six in /home/azureuser/miniconda3/envs/mastering/lib/python3.12/site-packages (from hyperopt) (1.16.0)\n",
      "Requirement already satisfied: networkx>=2.2 in /home/azureuser/miniconda3/envs/mastering/lib/python3.12/site-packages (from hyperopt) (3.3)\n",
      "Collecting future (from hyperopt)\n",
      "  Using cached future-1.0.0-py3-none-any.whl.metadata (4.0 kB)\n",
      "Requirement already satisfied: tqdm in /home/azureuser/miniconda3/envs/mastering/lib/python3.12/site-packages (from hyperopt) (4.66.5)\n",
      "Requirement already satisfied: cloudpickle in /home/azureuser/miniconda3/envs/mastering/lib/python3.12/site-packages (from hyperopt) (3.0.0)\n",
      "Collecting py4j (from hyperopt)\n",
      "  Using cached py4j-0.10.9.7-py2.py3-none-any.whl.metadata (1.5 kB)\n",
      "Using cached hyperopt-0.2.7-py2.py3-none-any.whl (1.6 MB)\n",
      "Using cached future-1.0.0-py3-none-any.whl (491 kB)\n",
      "Using cached py4j-0.10.9.7-py2.py3-none-any.whl (200 kB)\n",
      "Installing collected packages: py4j, future, hyperopt\n",
      "Successfully installed future-1.0.0 hyperopt-0.2.7 py4j-0.10.9.7\n"
     ]
    }
   ],
   "source": [
    "!python -m pip install hyperopt"
   ]
  },
  {
   "cell_type": "code",
   "execution_count": 3,
   "id": "92b0137f",
   "metadata": {},
   "outputs": [],
   "source": [
    "import pandas as pd\n",
    "from sklearn.model_selection import train_test_split,GridSearchCV,StratifiedKFold\n",
    "from sklearn.ensemble import GradientBoostingClassifier\n",
    "from tqdm import tqdm\n",
    "from utils import LoadRumoursDataset,LoadRumoursDatasetFilterNode\n",
    "import numpy as np\n",
    "from sklearn.model_selection import train_test_split, cross_val_score\n",
    "import matplotlib.pylab as plt\n",
    "import uuid\n",
    "from tqdm import tqdm\n",
    "import xgboost as xgb\n",
    "from sklearn.metrics import *"
   ]
  },
  {
   "cell_type": "code",
   "execution_count": 4,
   "id": "e1759fb9",
   "metadata": {},
   "outputs": [
    {
     "name": "stderr",
     "output_type": "stream",
     "text": [
      "2024/09/25 01:14:56 INFO mlflow.tracking.fluent: Experiment with name 'Xgb experiment 2024-09-24' does not exist. Creating a new experiment.\n"
     ]
    },
    {
     "data": {
      "text/plain": [
       "<Experiment: artifact_location='/home/azureuser/rumour-detection-pheme/mlruns/21', creation_time=1727226896857, experiment_id='21', last_update_time=1727226896857, lifecycle_stage='active', name='Xgb experiment 2024-09-24', tags={}>"
      ]
     },
     "execution_count": 4,
     "metadata": {},
     "output_type": "execute_result"
    }
   ],
   "source": [
    "import mlflow\n",
    "mlflow.set_tracking_uri(\"sqlite:///mlflow.db\")\n",
    "#mlflow.set_experiment(\"spyder-experiment\")\n",
    "import mlflow.pytorch\n",
    "mlflow.set_experiment(\"Xgb experiment 2024-09-24\")"
   ]
  },
  {
   "cell_type": "code",
   "execution_count": 5,
   "id": "d32ca9d4",
   "metadata": {},
   "outputs": [],
   "source": [
    "#\n",
    "file_path_replies = r\"/home/azureuser/rumour-detection-pheme/replies_charlie_hebdo.pkl\"\n",
    "file_path_posts = r\"/home/azureuser/rumour-detection-pheme/posts_charlie_hebdo.pkl\"\n"
   ]
  },
  {
   "cell_type": "code",
   "execution_count": 9,
   "id": "a70429a1",
   "metadata": {},
   "outputs": [],
   "source": [
    "time_cut =1e10\n",
    "processor = LoadRumoursDataset(file_path_replies, file_path_posts, time_cut)\n",
    "processor.load_data()\n",
    "processor.process_data()\n",
    "df_final = processor.get_final_dataframe()\n",
    "df_final['id'] = [uuid.uuid4() for _ in range(len(df_final))]\n"
   ]
  },
  {
   "cell_type": "code",
   "execution_count": 14,
   "id": "4df74f58-613d-4a58-8e95-050503964b77",
   "metadata": {},
   "outputs": [
    {
     "data": {
      "text/html": [
       "<div>\n",
       "<style scoped>\n",
       "    .dataframe tbody tr th:only-of-type {\n",
       "        vertical-align: middle;\n",
       "    }\n",
       "\n",
       "    .dataframe tbody tr th {\n",
       "        vertical-align: top;\n",
       "    }\n",
       "\n",
       "    .dataframe thead th {\n",
       "        text-align: right;\n",
       "    }\n",
       "</style>\n",
       "<table border=\"1\" class=\"dataframe\">\n",
       "  <thead>\n",
       "    <tr style=\"text-align: right;\">\n",
       "      <th></th>\n",
       "      <th>followers</th>\n",
       "      <th>favorite_count</th>\n",
       "      <th>retweet_count</th>\n",
       "      <th>embeddings_avg</th>\n",
       "      <th>replies</th>\n",
       "      <th>first_time_diff</th>\n",
       "      <th>no_verified</th>\n",
       "      <th>verified</th>\n",
       "      <th>id</th>\n",
       "    </tr>\n",
       "    <tr>\n",
       "      <th>rumour</th>\n",
       "      <th></th>\n",
       "      <th></th>\n",
       "      <th></th>\n",
       "      <th></th>\n",
       "      <th></th>\n",
       "      <th></th>\n",
       "      <th></th>\n",
       "      <th></th>\n",
       "      <th></th>\n",
       "    </tr>\n",
       "  </thead>\n",
       "  <tbody>\n",
       "    <tr>\n",
       "      <th>0</th>\n",
       "      <td>1555</td>\n",
       "      <td>1555</td>\n",
       "      <td>1555</td>\n",
       "      <td>1555</td>\n",
       "      <td>1555</td>\n",
       "      <td>1555</td>\n",
       "      <td>1555</td>\n",
       "      <td>1555</td>\n",
       "      <td>1555</td>\n",
       "    </tr>\n",
       "    <tr>\n",
       "      <th>1</th>\n",
       "      <td>447</td>\n",
       "      <td>447</td>\n",
       "      <td>447</td>\n",
       "      <td>447</td>\n",
       "      <td>447</td>\n",
       "      <td>447</td>\n",
       "      <td>447</td>\n",
       "      <td>447</td>\n",
       "      <td>447</td>\n",
       "    </tr>\n",
       "  </tbody>\n",
       "</table>\n",
       "</div>"
      ],
      "text/plain": [
       "        followers  favorite_count  retweet_count  embeddings_avg  replies  \\\n",
       "rumour                                                                      \n",
       "0            1555            1555           1555            1555     1555   \n",
       "1             447             447            447             447      447   \n",
       "\n",
       "        first_time_diff  no_verified  verified    id  \n",
       "rumour                                                \n",
       "0                  1555         1555      1555  1555  \n",
       "1                   447          447       447   447  "
      ]
     },
     "execution_count": 14,
     "metadata": {},
     "output_type": "execute_result"
    }
   ],
   "source": [
    "df_final.groupby('rumour').count()"
   ]
  },
  {
   "cell_type": "code",
   "execution_count": 17,
   "id": "1916f497-eddb-4125-be8f-15045bb3e861",
   "metadata": {},
   "outputs": [
    {
     "data": {
      "text/html": [
       "<div>\n",
       "<style scoped>\n",
       "    .dataframe tbody tr th:only-of-type {\n",
       "        vertical-align: middle;\n",
       "    }\n",
       "\n",
       "    .dataframe tbody tr th {\n",
       "        vertical-align: top;\n",
       "    }\n",
       "\n",
       "    .dataframe thead th {\n",
       "        text-align: right;\n",
       "    }\n",
       "</style>\n",
       "<table border=\"1\" class=\"dataframe\">\n",
       "  <thead>\n",
       "    <tr style=\"text-align: right;\">\n",
       "      <th></th>\n",
       "      <th>followers</th>\n",
       "      <th>favorite_count</th>\n",
       "      <th>retweet_count</th>\n",
       "      <th>rumour</th>\n",
       "      <th>embeddings_avg</th>\n",
       "      <th>replies</th>\n",
       "      <th>first_time_diff</th>\n",
       "      <th>no_verified</th>\n",
       "      <th>verified</th>\n",
       "      <th>id</th>\n",
       "    </tr>\n",
       "  </thead>\n",
       "  <tbody>\n",
       "    <tr>\n",
       "      <th>0</th>\n",
       "      <td>-0.073004</td>\n",
       "      <td>-0.532290</td>\n",
       "      <td>-0.160000</td>\n",
       "      <td>1</td>\n",
       "      <td>[-0.12270056130364537, 0.01583862374536693, -0...</td>\n",
       "      <td>5</td>\n",
       "      <td>3.510619</td>\n",
       "      <td>1</td>\n",
       "      <td>0</td>\n",
       "      <td>456b1289-fc10-4192-871e-579b8c01aa1f</td>\n",
       "    </tr>\n",
       "    <tr>\n",
       "      <th>1</th>\n",
       "      <td>0.031065</td>\n",
       "      <td>-0.344423</td>\n",
       "      <td>1.293333</td>\n",
       "      <td>1</td>\n",
       "      <td>[-0.12335950043052435, -0.055849663292368255, ...</td>\n",
       "      <td>5</td>\n",
       "      <td>0.999077</td>\n",
       "      <td>0</td>\n",
       "      <td>1</td>\n",
       "      <td>4981be73-2565-417b-b931-ec7fc3e56458</td>\n",
       "    </tr>\n",
       "    <tr>\n",
       "      <th>2</th>\n",
       "      <td>0.356672</td>\n",
       "      <td>-0.524462</td>\n",
       "      <td>-0.302222</td>\n",
       "      <td>1</td>\n",
       "      <td>[-0.1364929385483265, -0.07159566258390744, -0...</td>\n",
       "      <td>5</td>\n",
       "      <td>0.740536</td>\n",
       "      <td>0</td>\n",
       "      <td>1</td>\n",
       "      <td>441fbaff-5f96-4fd9-a2f1-1d007357674c</td>\n",
       "    </tr>\n",
       "    <tr>\n",
       "      <th>3</th>\n",
       "      <td>0.332156</td>\n",
       "      <td>-0.524462</td>\n",
       "      <td>-0.400000</td>\n",
       "      <td>1</td>\n",
       "      <td>[-0.045377860377941816, -0.20127306692302227, ...</td>\n",
       "      <td>3</td>\n",
       "      <td>-0.164358</td>\n",
       "      <td>0</td>\n",
       "      <td>1</td>\n",
       "      <td>8f52bc5f-7f54-44d7-b44e-96cb1b49f96a</td>\n",
       "    </tr>\n",
       "    <tr>\n",
       "      <th>4</th>\n",
       "      <td>1.046022</td>\n",
       "      <td>-0.391389</td>\n",
       "      <td>0.964444</td>\n",
       "      <td>1</td>\n",
       "      <td>[-0.03706469060853124, -0.1309182441327721, -0...</td>\n",
       "      <td>10</td>\n",
       "      <td>-0.352724</td>\n",
       "      <td>0</td>\n",
       "      <td>1</td>\n",
       "      <td>6b5fed78-77bb-4213-a752-681a9b8627aa</td>\n",
       "    </tr>\n",
       "    <tr>\n",
       "      <th>...</th>\n",
       "      <td>...</td>\n",
       "      <td>...</td>\n",
       "      <td>...</td>\n",
       "      <td>...</td>\n",
       "      <td>...</td>\n",
       "      <td>...</td>\n",
       "      <td>...</td>\n",
       "      <td>...</td>\n",
       "      <td>...</td>\n",
       "      <td>...</td>\n",
       "    </tr>\n",
       "    <tr>\n",
       "      <th>1997</th>\n",
       "      <td>3.895910</td>\n",
       "      <td>-0.140900</td>\n",
       "      <td>-0.124444</td>\n",
       "      <td>0</td>\n",
       "      <td>[0.21622000262141228, -0.15450449846684933, -0...</td>\n",
       "      <td>8</td>\n",
       "      <td>0.204986</td>\n",
       "      <td>0</td>\n",
       "      <td>1</td>\n",
       "      <td>ff1db5ff-c2dd-4c47-8d51-efe94cc9a67d</td>\n",
       "    </tr>\n",
       "    <tr>\n",
       "      <th>1998</th>\n",
       "      <td>10.452911</td>\n",
       "      <td>3.859100</td>\n",
       "      <td>5.213333</td>\n",
       "      <td>0</td>\n",
       "      <td>[0.21485890651291067, 0.03315381561829285, -0....</td>\n",
       "      <td>9</td>\n",
       "      <td>-0.245614</td>\n",
       "      <td>0</td>\n",
       "      <td>1</td>\n",
       "      <td>98658bc0-2379-40db-8ed7-97101b83442e</td>\n",
       "    </tr>\n",
       "    <tr>\n",
       "      <th>1999</th>\n",
       "      <td>0.012322</td>\n",
       "      <td>1.189824</td>\n",
       "      <td>0.955556</td>\n",
       "      <td>0</td>\n",
       "      <td>[0.08846200071275234, -0.1485882457345724, 0.1...</td>\n",
       "      <td>9</td>\n",
       "      <td>0.500462</td>\n",
       "      <td>1</td>\n",
       "      <td>0</td>\n",
       "      <td>eb581d69-e6fc-4303-9464-104df528c008</td>\n",
       "    </tr>\n",
       "    <tr>\n",
       "      <th>2000</th>\n",
       "      <td>3.631498</td>\n",
       "      <td>0.477495</td>\n",
       "      <td>1.075556</td>\n",
       "      <td>0</td>\n",
       "      <td>[0.021962551607025996, -0.019428667094972398, ...</td>\n",
       "      <td>18</td>\n",
       "      <td>-0.271468</td>\n",
       "      <td>0</td>\n",
       "      <td>1</td>\n",
       "      <td>b904ad73-b441-4ba1-b79c-6735d90bf177</td>\n",
       "    </tr>\n",
       "    <tr>\n",
       "      <th>2001</th>\n",
       "      <td>0.952113</td>\n",
       "      <td>-0.320939</td>\n",
       "      <td>-0.275556</td>\n",
       "      <td>0</td>\n",
       "      <td>[0.11712110787630081, -0.1469299958811866, -0....</td>\n",
       "      <td>5</td>\n",
       "      <td>-0.049861</td>\n",
       "      <td>0</td>\n",
       "      <td>1</td>\n",
       "      <td>d41adac9-f89e-468b-bdd9-d62297f694d2</td>\n",
       "    </tr>\n",
       "  </tbody>\n",
       "</table>\n",
       "<p>2002 rows × 10 columns</p>\n",
       "</div>"
      ],
      "text/plain": [
       "      followers  favorite_count  retweet_count  rumour  \\\n",
       "0     -0.073004       -0.532290      -0.160000       1   \n",
       "1      0.031065       -0.344423       1.293333       1   \n",
       "2      0.356672       -0.524462      -0.302222       1   \n",
       "3      0.332156       -0.524462      -0.400000       1   \n",
       "4      1.046022       -0.391389       0.964444       1   \n",
       "...         ...             ...            ...     ...   \n",
       "1997   3.895910       -0.140900      -0.124444       0   \n",
       "1998  10.452911        3.859100       5.213333       0   \n",
       "1999   0.012322        1.189824       0.955556       0   \n",
       "2000   3.631498        0.477495       1.075556       0   \n",
       "2001   0.952113       -0.320939      -0.275556       0   \n",
       "\n",
       "                                         embeddings_avg  replies  \\\n",
       "0     [-0.12270056130364537, 0.01583862374536693, -0...        5   \n",
       "1     [-0.12335950043052435, -0.055849663292368255, ...        5   \n",
       "2     [-0.1364929385483265, -0.07159566258390744, -0...        5   \n",
       "3     [-0.045377860377941816, -0.20127306692302227, ...        3   \n",
       "4     [-0.03706469060853124, -0.1309182441327721, -0...       10   \n",
       "...                                                 ...      ...   \n",
       "1997  [0.21622000262141228, -0.15450449846684933, -0...        8   \n",
       "1998  [0.21485890651291067, 0.03315381561829285, -0....        9   \n",
       "1999  [0.08846200071275234, -0.1485882457345724, 0.1...        9   \n",
       "2000  [0.021962551607025996, -0.019428667094972398, ...       18   \n",
       "2001  [0.11712110787630081, -0.1469299958811866, -0....        5   \n",
       "\n",
       "      first_time_diff  no_verified  verified  \\\n",
       "0            3.510619            1         0   \n",
       "1            0.999077            0         1   \n",
       "2            0.740536            0         1   \n",
       "3           -0.164358            0         1   \n",
       "4           -0.352724            0         1   \n",
       "...               ...          ...       ...   \n",
       "1997         0.204986            0         1   \n",
       "1998        -0.245614            0         1   \n",
       "1999         0.500462            1         0   \n",
       "2000        -0.271468            0         1   \n",
       "2001        -0.049861            0         1   \n",
       "\n",
       "                                        id  \n",
       "0     456b1289-fc10-4192-871e-579b8c01aa1f  \n",
       "1     4981be73-2565-417b-b931-ec7fc3e56458  \n",
       "2     441fbaff-5f96-4fd9-a2f1-1d007357674c  \n",
       "3     8f52bc5f-7f54-44d7-b44e-96cb1b49f96a  \n",
       "4     6b5fed78-77bb-4213-a752-681a9b8627aa  \n",
       "...                                    ...  \n",
       "1997  ff1db5ff-c2dd-4c47-8d51-efe94cc9a67d  \n",
       "1998  98658bc0-2379-40db-8ed7-97101b83442e  \n",
       "1999  eb581d69-e6fc-4303-9464-104df528c008  \n",
       "2000  b904ad73-b441-4ba1-b79c-6735d90bf177  \n",
       "2001  d41adac9-f89e-468b-bdd9-d62297f694d2  \n",
       "\n",
       "[2002 rows x 10 columns]"
      ]
     },
     "execution_count": 17,
     "metadata": {},
     "output_type": "execute_result"
    }
   ],
   "source": [
    "df_final"
   ]
  },
  {
   "cell_type": "code",
   "execution_count": 10,
   "id": "fa891cdf",
   "metadata": {},
   "outputs": [],
   "source": [
    "df_not_rumours = df_final[df_final.rumour==0]\n",
    "\n",
    "#n = int((df_final.rumour.sum())*1) // df_not_rumours['replies'].nunique()  # Unique number of values in 'replies' column\n",
    "\n",
    "# Group by 'replies' and sample 'n' rows from each group\n",
    "subset_df_not_rumours= df_not_rumours.sample(n= int(df_final[df_final.rumour==1].shape[0]*1.2))\n",
    "\n",
    "#subset_df_not_rumours= df_not_rumours.groupby('replies',group_keys=False).apply(lambda x: x.sample(n=min(len(x), n))).reset_index(drop=True)\n"
   ]
  },
  {
   "cell_type": "code",
   "execution_count": 8,
   "id": "20f791a9",
   "metadata": {},
   "outputs": [],
   "source": [
    "df_final_balanced =pd.concat([subset_df_not_rumours,df_final[df_final.rumour==1]])"
   ]
  },
  {
   "cell_type": "code",
   "execution_count": 8,
   "id": "61afe71b",
   "metadata": {},
   "outputs": [],
   "source": [
    "df_final_remaining = df_final[(~df_final.id.isin(subset_df_not_rumours.id))&(df_final.rumour==0)]"
   ]
  },
  {
   "cell_type": "code",
   "execution_count": 9,
   "id": "c2c477b7",
   "metadata": {},
   "outputs": [],
   "source": [
    "X  = df_final_balanced.drop(columns=['rumour','id'])\n",
    "X = np.hstack([X.drop(columns=['embeddings_avg']).values, np.array(pd.DataFrame(X.embeddings_avg.tolist()))])\n",
    "y =df_final_balanced['rumour']\n",
    "\n",
    "# Split the data into training and testing sets\n",
    "X_train, X_test, y_train, y_test = train_test_split(\n",
    "    X, y, test_size=0.2, random_state=42,stratify=y,shuffle=True\n",
    ")"
   ]
  },
  {
   "cell_type": "code",
   "execution_count": 10,
   "id": "772305fa",
   "metadata": {},
   "outputs": [],
   "source": [
    "X_test_all  = df_final_remaining.drop(columns=['rumour','id'])\n",
    "X_test_all = np.hstack([X_test_all.drop(columns=['embeddings_avg']).values, np.array(pd.DataFrame(X_test_all.embeddings_avg.tolist()))])\n",
    "y_test_all =df_final_remaining['rumour']\n",
    "X_test_all = np.concatenate((X_test_all, X_test), axis=0)\n",
    "y_test_all = pd.concat([y_test_all, y_test], axis=0)"
   ]
  },
  {
   "cell_type": "code",
   "execution_count": 11,
   "id": "fe2258d0",
   "metadata": {},
   "outputs": [
    {
     "name": "stdout",
     "output_type": "stream",
     "text": [
      "Best set of hyperparameters:  {'learning_rate': 0.04634731817110998, 'max_depth': 7, 'n_estimators': 114, 'subsample': 0.9335825616239708}\n",
      "Best score:  0.8405320813771517\n"
     ]
    }
   ],
   "source": [
    "import xgboost as xgb\n",
    "from sklearn.model_selection import RandomizedSearchCV\n",
    "import scipy.stats as stats\n",
    "\n",
    "# Define the hyperparameter distributions\n",
    "param_dist = {\n",
    "    'max_depth': stats.randint(3, 10),\n",
    "    'learning_rate': stats.uniform(0.01, 0.1),\n",
    "    'subsample': stats.uniform(0.5, 0.5),\n",
    "    'n_estimators':stats.randint(50, 200)\n",
    "}\n",
    "\n",
    "# Create the XGBoost model object\n",
    "xgb_model = xgb.XGBClassifier()\n",
    "\n",
    "# Create the RandomizedSearchCV object\n",
    "random_search = RandomizedSearchCV(xgb_model, param_distributions=param_dist, n_iter=10, cv=5, scoring='recall')\n",
    "\n",
    "# Fit the RandomizedSearchCV object to the training data\n",
    "random_search.fit(X_train, y_train)\n",
    "\n",
    "# Print the best set of hyperparameters and the corresponding score\n",
    "print(\"Best set of hyperparameters: \", random_search.best_params_)\n",
    "print(\"Best score: \", random_search.best_score_)"
   ]
  },
  {
   "cell_type": "code",
   "execution_count": 33,
   "id": "854b741f",
   "metadata": {},
   "outputs": [
    {
     "name": "stdout",
     "output_type": "stream",
     "text": [
      "100%|█████████████████████████████████████████████████| 100/100 [01:30<00:00,  1.10trial/s, best loss: -0.8405320813771517]\n",
      "Best hyperparameters: {'colsample_bytree': 0.9171402656256009, 'gamma': 2.69311430760292, 'learning_rate': 0.2223951887873663, 'max_depth': 0, 'min_child_weight': 9.0, 'n_estimators': 60.0, 'reg_alpha': 4.880582226571204, 'reg_lambda': 0.15097743936563188, 'subsample': 0.7113495836349794}\n",
      "Final model: XGBClassifier(base_score=None, booster=None, callbacks=None,\n",
      "              colsample_bylevel=None, colsample_bynode=None,\n",
      "              colsample_bytree=None, device=None, early_stopping_rounds=None,\n",
      "              enable_categorical=False, eval_metric=None, feature_types=None,\n",
      "              gamma=None, grow_policy=None, importance_type=None,\n",
      "              interaction_constraints=None, learning_rate=0.04634731817110998,\n",
      "              max_bin=None, max_cat_threshold=None, max_cat_to_onehot=None,\n",
      "              max_delta_step=None, max_depth=7, max_leaves=None,\n",
      "              min_child_weight=None, missing=nan, monotone_constraints=None,\n",
      "              multi_strategy=None, n_estimators=114, n_jobs=None,\n",
      "              num_parallel_tree=None, random_state=None, ...)\n",
      "Best parameters: {'max_depth': 0, 'learning_rate': 0.2223951887873663, 'subsample': 0.7113495836349794, 'colsample_bytree': 0.9171402656256009, 'n_estimators': 60, 'gamma': 2.69311430760292, 'reg_alpha': 4.880582226571204, 'reg_lambda': 0.15097743936563188, 'min_child_weight': 9}\n"
     ]
    }
   ],
   "source": [
    "# Define the search space\n",
    "from hyperopt import hp\n",
    "from hyperopt.pyll.base import scope\n",
    "from hyperopt import fmin, tpe, hp, STATUS_OK, Trials\n",
    "\n",
    "space = {\n",
    "    'max_depth': hp.choice(\"max_depth\", np.arange(1,20,1,dtype=int)),\n",
    "    'learning_rate': hp.uniform('learning_rate', 0.001, 0.3),\n",
    "    'subsample': hp.uniform('subsample', 0.5, 1.0),\n",
    "    'colsample_bytree': hp.uniform('colsample_bytree', 0.5, 1.0),\n",
    "    'n_estimators': scope.int(hp.quniform('n_estimators', 50, 200, 10)),\n",
    "    'gamma': hp.uniform('gamma', 0, 5),\n",
    "    'reg_alpha': hp.loguniform('reg_alpha', np.log(1e-3), np.log(10)),\n",
    "    'reg_lambda': hp.loguniform('reg_lambda', np.log(1e-3), np.log(10)),\n",
    "    'min_child_weight': scope.int(hp.quniform('min_child_weight', 1, 10, 1)),\n",
    "}\n",
    "\n",
    "# Objective function to minimize\n",
    "def objective(params):\n",
    "    xgb_model = xgb.XGBClassifier(\n",
    "        eval_metric='error',\n",
    "        **params\n",
    "    )\n",
    "    \n",
    "    # Cross-validation\n",
    "    skf = StratifiedKFold(n_splits=5)\n",
    "    score = cross_val_score(xgb_model, X_train, y_train, cv=skf, scoring=make_scorer(recall_score)).mean()\n",
    "    \n",
    "    return {'loss': -score, 'status': STATUS_OK}\n",
    "\n",
    "# Run Hyperopt\n",
    "trials = Trials()\n",
    "best = fmin(\n",
    "    fn=objective,\n",
    "    space=space,\n",
    "    algo=tpe.suggest,\n",
    "    max_evals=100,\n",
    "    trials=trials,\n",
    "    rstate=np.random.default_rng(42)\n",
    ")\n",
    "\n",
    "# Print the best hyperparameters\n",
    "print(\"Best hyperparameters:\", best)\n",
    "\n",
    "# Convert hyperopt output to correct types\n",
    "best_params = {\n",
    "    'max_depth': int(best['max_depth']),\n",
    "    'learning_rate': best['learning_rate'],\n",
    "    'subsample': best['subsample'],\n",
    "    'colsample_bytree': best['colsample_bytree'],\n",
    "    'n_estimators': int(best['n_estimators']),\n",
    "    'gamma': best['gamma'],\n",
    "    'reg_alpha': best['reg_alpha'],\n",
    "    'reg_lambda': best['reg_lambda'],\n",
    "    'min_child_weight': int(best['min_child_weight']),\n",
    "}\n",
    "\n",
    "# Train the final model with the best hyperparameters\n",
    "final_model = xgb.XGBClassifier(\n",
    "    eval_metric='error',\n",
    "    **best_params\n",
    ")\n",
    "final_model.fit(X_train, y_train)\n",
    "\n",
    "# Output the final model and best parameters\n",
    "print(\"Final model:\", final_model)\n",
    "print(\"Best parameters:\", best_params)"
   ]
  },
  {
   "cell_type": "code",
   "execution_count": 34,
   "id": "8eeccc2f",
   "metadata": {},
   "outputs": [
    {
     "data": {
      "text/plain": [
       "{'max_depth': 0,\n",
       " 'learning_rate': 0.2223951887873663,\n",
       " 'subsample': 0.7113495836349794,\n",
       " 'colsample_bytree': 0.9171402656256009,\n",
       " 'n_estimators': 60,\n",
       " 'gamma': 2.69311430760292,\n",
       " 'reg_alpha': 4.880582226571204,\n",
       " 'reg_lambda': 0.15097743936563188,\n",
       " 'min_child_weight': 9}"
      ]
     },
     "execution_count": 34,
     "metadata": {},
     "output_type": "execute_result"
    }
   ],
   "source": [
    "best_params"
   ]
  },
  {
   "cell_type": "code",
   "execution_count": 20,
   "id": "dd1d915b",
   "metadata": {},
   "outputs": [],
   "source": [
    "from sklearn.metrics import roc_auc_score, accuracy_score, precision_score, recall_score, confusion_matrix\n",
    "import matplotlib.pyplot as plt\n",
    "import seaborn as sns\n",
    "from sklearn.model_selection import cross_val_score\n",
    "\n",
    "def modelfit(alg, X_train, y_train, X_test, y_test, performCV=True, printFeatureImportance=True, cv_folds=5):\n",
    "    # Fit the algorithm on the data\n",
    "    alg.fit(X_train, y_train)\n",
    "        \n",
    "    # Predict training set:\n",
    "    dtrain_predictions = alg.predict(X_train)\n",
    "    dtrain_predprob = alg.predict_proba(X_train)[:,1]\n",
    "\n",
    "    # Predict test set:\n",
    "    dtest_predictions = alg.predict(X_test)\n",
    "    dtest_predprob = alg.predict_proba(X_test)[:,1]\n",
    "    \n",
    "    # Perform cross-validation:\n",
    "    if performCV:\n",
    "        cv_score = cross_val_score(alg, X_train, y_train, cv=cv_folds, scoring='recall')\n",
    "    \n",
    "    # Print model report for Train:\n",
    "    print(\"\\nModel Report Train\")\n",
    "    print(\"AUC Score : %f\" % roc_auc_score(y_train, dtrain_predprob))\n",
    "    print(\"Accuracy : %.4g\" % accuracy_score(y_train, dtrain_predictions))\n",
    "    print(\"Precision : %.4g\" % precision_score(y_train, dtrain_predictions))\n",
    "    print(\"Recall : %f\" % recall_score(y_train, dtrain_predictions))\n",
    "    \n",
    "    # Plot confusion matrix for Train\n",
    "    plt.figure(figsize=(10, 5))\n",
    "    plt.subplot(1, 2, 1)\n",
    "    sns.heatmap(confusion_matrix(y_train, dtrain_predictions), annot=True, fmt=\"d\", cmap=\"Blues\")\n",
    "    plt.title(\"Confusion Matrix - Train\")\n",
    "    plt.xlabel(\"Predicted\")\n",
    "    plt.ylabel(\"Actual\")\n",
    "    \n",
    "    # Print model report for Test:\n",
    "    print(\"\\nModel Report Test\")\n",
    "    print(\"AUC Score : %f\" % roc_auc_score(y_test, dtest_predprob))\n",
    "    print(\"Accuracy : %.4g\" % accuracy_score(y_test, dtest_predictions))\n",
    "    print(\"Precision : %.4g\" % precision_score(y_test, dtest_predictions))\n",
    "    print(\"Recall : %f\" % recall_score(y_test, dtest_predictions))\n",
    "    \n",
    "    # Plot confusion matrix for Test\n",
    "    plt.subplot(1, 2, 2)\n",
    "    sns.heatmap(confusion_matrix(y_test, dtest_predictions), annot=True, fmt=\"d\", cmap=\"Blues\")\n",
    "    plt.title(\"Confusion Matrix - Test\")\n",
    "    plt.xlabel(\"Predicted\")\n",
    "    plt.ylabel(\"Actual\")\n",
    "    \n",
    "    plt.tight_layout()\n",
    "    plt.show()\n",
    "    \n",
    "    if performCV:\n",
    "        print(\"CV Score : Mean - %.7g | Std - %.7g | Min - %.7g | Max - %.7g\" % (np.mean(cv_score), np.std(cv_score), np.min(cv_score), np.max(cv_score)))\n",
    "\n",
    "    return alg\n",
    "\n"
   ]
  },
  {
   "cell_type": "code",
   "execution_count": 21,
   "id": "f86f66f2",
   "metadata": {},
   "outputs": [
    {
     "name": "stdout",
     "output_type": "stream",
     "text": [
      "Final model: XGBClassifier(base_score=None, booster=None, callbacks=None,\n",
      "              colsample_bylevel=None, colsample_bynode=None,\n",
      "              colsample_bytree=0.9171402656256009, device=None,\n",
      "              early_stopping_rounds=None, enable_categorical=False,\n",
      "              eval_metric='logloss', feature_types=None, gamma=2.69311430760292,\n",
      "              grow_policy=None, importance_type=None,\n",
      "              interaction_constraints=None, learning_rate=0.2223951887873663,\n",
      "              max_bin=None, max_cat_threshold=None, max_cat_to_onehot=None,\n",
      "              max_delta_step=None, max_depth=0, max_leaves=None,\n",
      "              min_child_weight=9, missing=nan, monotone_constraints=None,\n",
      "              multi_strategy=None, n_estimators=60, n_jobs=None,\n",
      "              num_parallel_tree=None, random_state=None, ...)\n",
      "Best parameters: {'max_depth': 0, 'learning_rate': 0.2223951887873663, 'subsample': 0.7113495836349794, 'colsample_bytree': 0.9171402656256009, 'n_estimators': 60, 'gamma': 2.69311430760292, 'reg_alpha': 4.880582226571204, 'reg_lambda': 0.15097743936563188, 'min_child_weight': 9}\n"
     ]
    }
   ],
   "source": [
    "# Train the final model with the best hyperparameters\n",
    "final_model = xgb.XGBClassifier(\n",
    "    eval_metric='logloss',\n",
    "    **best_params\n",
    ")\n",
    "final_model.fit(X_train, y_train)\n",
    "\n",
    "# Output the final model and best parameters\n",
    "print(\"Final model:\", final_model)\n",
    "print(\"Best parameters:\", best_params)"
   ]
  },
  {
   "cell_type": "code",
   "execution_count": 22,
   "id": "e95a5b56",
   "metadata": {},
   "outputs": [
    {
     "name": "stdout",
     "output_type": "stream",
     "text": [
      "\n",
      "Model Report Train\n",
      "AUC Score : 0.968123\n",
      "Accuracy : 0.8995\n",
      "Precision : 0.8819\n",
      "Recall : 0.899160\n",
      "\n",
      "Model Report Test\n",
      "AUC Score : 0.889616\n",
      "Accuracy : 0.8274\n",
      "Precision : 0.8111\n",
      "Recall : 0.811111\n"
     ]
    },
    {
     "data": {
      "image/png": "[encoded data removed]",
      "text/plain": [
       "<Figure size 1000x500 with 4 Axes>"
      ]
     },
     "metadata": {},
     "output_type": "display_data"
    },
    {
     "name": "stdout",
     "output_type": "stream",
     "text": [
      "CV Score : Mean - 0.8180751 | Std - 0.03096333 | Min - 0.7638889 | Max - 0.8591549\n"
     ]
    },
    {
     "data": {
      "text/html": [
       "<style>#sk-container-id-1 {\n",
       "  /* Definition of color scheme common for light and dark mode */\n",
       "  --sklearn-color-text: black;\n",
       "  --sklearn-color-line: gray;\n",
       "  /* Definition of color scheme for unfitted estimators */\n",
       "  --sklearn-color-unfitted-level-0: #fff5e6;\n",
       "  --sklearn-color-unfitted-level-1: #f6e4d2;\n",
       "  --sklearn-color-unfitted-level-2: #ffe0b3;\n",
       "  --sklearn-color-unfitted-level-3: chocolate;\n",
       "  /* Definition of color scheme for fitted estimators */\n",
       "  --sklearn-color-fitted-level-0: #f0f8ff;\n",
       "  --sklearn-color-fitted-level-1: #d4ebff;\n",
       "  --sklearn-color-fitted-level-2: #b3dbfd;\n",
       "  --sklearn-color-fitted-level-3: cornflowerblue;\n",
       "\n",
       "  /* Specific color for light theme */\n",
       "  --sklearn-color-text-on-default-background: var(--sg-text-color, var(--theme-code-foreground, var(--jp-content-font-color1, black)));\n",
       "  --sklearn-color-background: var(--sg-background-color, var(--theme-background, var(--jp-layout-color0, white)));\n",
       "  --sklearn-color-border-box: var(--sg-text-color, var(--theme-code-foreground, var(--jp-content-font-color1, black)));\n",
       "  --sklearn-color-icon: #696969;\n",
       "\n",
       "  @media (prefers-color-scheme: dark) {\n",
       "    /* Redefinition of color scheme for dark theme */\n",
       "    --sklearn-color-text-on-default-background: var(--sg-text-color, var(--theme-code-foreground, var(--jp-content-font-color1, white)));\n",
       "    --sklearn-color-background: var(--sg-background-color, var(--theme-background, var(--jp-layout-color0, #111)));\n",
       "    --sklearn-color-border-box: var(--sg-text-color, var(--theme-code-foreground, var(--jp-content-font-color1, white)));\n",
       "    --sklearn-color-icon: #878787;\n",
       "  }\n",
       "}\n",
       "\n",
       "#sk-container-id-1 {\n",
       "  color: var(--sklearn-color-text);\n",
       "}\n",
       "\n",
       "#sk-container-id-1 pre {\n",
       "  padding: 0;\n",
       "}\n",
       "\n",
       "#sk-container-id-1 input.sk-hidden--visually {\n",
       "  border: 0;\n",
       "  clip: rect(1px 1px 1px 1px);\n",
       "  clip: rect(1px, 1px, 1px, 1px);\n",
       "  height: 1px;\n",
       "  margin: -1px;\n",
       "  overflow: hidden;\n",
       "  padding: 0;\n",
       "  position: absolute;\n",
       "  width: 1px;\n",
       "}\n",
       "\n",
       "#sk-container-id-1 div.sk-dashed-wrapped {\n",
       "  border: 1px dashed var(--sklearn-color-line);\n",
       "  margin: 0 0.4em 0.5em 0.4em;\n",
       "  box-sizing: border-box;\n",
       "  padding-bottom: 0.4em;\n",
       "  background-color: var(--sklearn-color-background);\n",
       "}\n",
       "\n",
       "#sk-container-id-1 div.sk-container {\n",
       "  /* jupyter's `normalize.less` sets `[hidden] { display: none; }`\n",
       "     but bootstrap.min.css set `[hidden] { display: none !important; }`\n",
       "     so we also need the `!important` here to be able to override the\n",
       "     default hidden behavior on the sphinx rendered scikit-learn.org.\n",
       "     See: https://github.com/scikit-learn/scikit-learn/issues/21755 */\n",
       "  display: inline-block !important;\n",
       "  position: relative;\n",
       "}\n",
       "\n",
       "#sk-container-id-1 div.sk-text-repr-fallback {\n",
       "  display: none;\n",
       "}\n",
       "\n",
       "div.sk-parallel-item,\n",
       "div.sk-serial,\n",
       "div.sk-item {\n",
       "  /* draw centered vertical line to link estimators */\n",
       "  background-image: linear-gradient(var(--sklearn-color-text-on-default-background), var(--sklearn-color-text-on-default-background));\n",
       "  background-size: 2px 100%;\n",
       "  background-repeat: no-repeat;\n",
       "  background-position: center center;\n",
       "}\n",
       "\n",
       "/* Parallel-specific style estimator block */\n",
       "\n",
       "#sk-container-id-1 div.sk-parallel-item::after {\n",
       "  content: \"\";\n",
       "  width: 100%;\n",
       "  border-bottom: 2px solid var(--sklearn-color-text-on-default-background);\n",
       "  flex-grow: 1;\n",
       "}\n",
       "\n",
       "#sk-container-id-1 div.sk-parallel {\n",
       "  display: flex;\n",
       "  align-items: stretch;\n",
       "  justify-content: center;\n",
       "  background-color: var(--sklearn-color-background);\n",
       "  position: relative;\n",
       "}\n",
       "\n",
       "#sk-container-id-1 div.sk-parallel-item {\n",
       "  display: flex;\n",
       "  flex-direction: column;\n",
       "}\n",
       "\n",
       "#sk-container-id-1 div.sk-parallel-item:first-child::after {\n",
       "  align-self: flex-end;\n",
       "  width: 50%;\n",
       "}\n",
       "\n",
       "#sk-container-id-1 div.sk-parallel-item:last-child::after {\n",
       "  align-self: flex-start;\n",
       "  width: 50%;\n",
       "}\n",
       "\n",
       "#sk-container-id-1 div.sk-parallel-item:only-child::after {\n",
       "  width: 0;\n",
       "}\n",
       "\n",
       "/* Serial-specific style estimator block */\n",
       "\n",
       "#sk-container-id-1 div.sk-serial {\n",
       "  display: flex;\n",
       "  flex-direction: column;\n",
       "  align-items: center;\n",
       "  background-color: var(--sklearn-color-background);\n",
       "  padding-right: 1em;\n",
       "  padding-left: 1em;\n",
       "}\n",
       "\n",
       "\n",
       "/* Toggleable style: style used for estimator/Pipeline/ColumnTransformer box that is\n",
       "clickable and can be expanded/collapsed.\n",
       "- Pipeline and ColumnTransformer use this feature and define the default style\n",
       "- Estimators will overwrite some part of the style using the `sk-estimator` class\n",
       "*/\n",
       "\n",
       "/* Pipeline and ColumnTransformer style (default) */\n",
       "\n",
       "#sk-container-id-1 div.sk-toggleable {\n",
       "  /* Default theme specific background. It is overwritten whether we have a\n",
       "  specific estimator or a Pipeline/ColumnTransformer */\n",
       "  background-color: var(--sklearn-color-background);\n",
       "}\n",
       "\n",
       "/* Toggleable label */\n",
       "#sk-container-id-1 label.sk-toggleable__label {\n",
       "  cursor: pointer;\n",
       "  display: block;\n",
       "  width: 100%;\n",
       "  margin-bottom: 0;\n",
       "  padding: 0.5em;\n",
       "  box-sizing: border-box;\n",
       "  text-align: center;\n",
       "}\n",
       "\n",
       "#sk-container-id-1 label.sk-toggleable__label-arrow:before {\n",
       "  /* Arrow on the left of the label */\n",
       "  content: \"▸\";\n",
       "  float: left;\n",
       "  margin-right: 0.25em;\n",
       "  color: var(--sklearn-color-icon);\n",
       "}\n",
       "\n",
       "#sk-container-id-1 label.sk-toggleable__label-arrow:hover:before {\n",
       "  color: var(--sklearn-color-text);\n",
       "}\n",
       "\n",
       "/* Toggleable content - dropdown */\n",
       "\n",
       "#sk-container-id-1 div.sk-toggleable__content {\n",
       "  max-height: 0;\n",
       "  max-width: 0;\n",
       "  overflow: hidden;\n",
       "  text-align: left;\n",
       "  /* unfitted */\n",
       "  background-color: var(--sklearn-color-unfitted-level-0);\n",
       "}\n",
       "\n",
       "#sk-container-id-1 div.sk-toggleable__content.fitted {\n",
       "  /* fitted */\n",
       "  background-color: var(--sklearn-color-fitted-level-0);\n",
       "}\n",
       "\n",
       "#sk-container-id-1 div.sk-toggleable__content pre {\n",
       "  margin: 0.2em;\n",
       "  border-radius: 0.25em;\n",
       "  color: var(--sklearn-color-text);\n",
       "  /* unfitted */\n",
       "  background-color: var(--sklearn-color-unfitted-level-0);\n",
       "}\n",
       "\n",
       "#sk-container-id-1 div.sk-toggleable__content.fitted pre {\n",
       "  /* unfitted */\n",
       "  background-color: var(--sklearn-color-fitted-level-0);\n",
       "}\n",
       "\n",
       "#sk-container-id-1 input.sk-toggleable__control:checked~div.sk-toggleable__content {\n",
       "  /* Expand drop-down */\n",
       "  max-height: 200px;\n",
       "  max-width: 100%;\n",
       "  overflow: auto;\n",
       "}\n",
       "\n",
       "#sk-container-id-1 input.sk-toggleable__control:checked~label.sk-toggleable__label-arrow:before {\n",
       "  content: \"▾\";\n",
       "}\n",
       "\n",
       "/* Pipeline/ColumnTransformer-specific style */\n",
       "\n",
       "#sk-container-id-1 div.sk-label input.sk-toggleable__control:checked~label.sk-toggleable__label {\n",
       "  color: var(--sklearn-color-text);\n",
       "  background-color: var(--sklearn-color-unfitted-level-2);\n",
       "}\n",
       "\n",
       "#sk-container-id-1 div.sk-label.fitted input.sk-toggleable__control:checked~label.sk-toggleable__label {\n",
       "  background-color: var(--sklearn-color-fitted-level-2);\n",
       "}\n",
       "\n",
       "/* Estimator-specific style */\n",
       "\n",
       "/* Colorize estimator box */\n",
       "#sk-container-id-1 div.sk-estimator input.sk-toggleable__control:checked~label.sk-toggleable__label {\n",
       "  /* unfitted */\n",
       "  background-color: var(--sklearn-color-unfitted-level-2);\n",
       "}\n",
       "\n",
       "#sk-container-id-1 div.sk-estimator.fitted input.sk-toggleable__control:checked~label.sk-toggleable__label {\n",
       "  /* fitted */\n",
       "  background-color: var(--sklearn-color-fitted-level-2);\n",
       "}\n",
       "\n",
       "#sk-container-id-1 div.sk-label label.sk-toggleable__label,\n",
       "#sk-container-id-1 div.sk-label label {\n",
       "  /* The background is the default theme color */\n",
       "  color: var(--sklearn-color-text-on-default-background);\n",
       "}\n",
       "\n",
       "/* On hover, darken the color of the background */\n",
       "#sk-container-id-1 div.sk-label:hover label.sk-toggleable__label {\n",
       "  color: var(--sklearn-color-text);\n",
       "  background-color: var(--sklearn-color-unfitted-level-2);\n",
       "}\n",
       "\n",
       "/* Label box, darken color on hover, fitted */\n",
       "#sk-container-id-1 div.sk-label.fitted:hover label.sk-toggleable__label.fitted {\n",
       "  color: var(--sklearn-color-text);\n",
       "  background-color: var(--sklearn-color-fitted-level-2);\n",
       "}\n",
       "\n",
       "/* Estimator label */\n",
       "\n",
       "#sk-container-id-1 div.sk-label label {\n",
       "  font-family: monospace;\n",
       "  font-weight: bold;\n",
       "  display: inline-block;\n",
       "  line-height: 1.2em;\n",
       "}\n",
       "\n",
       "#sk-container-id-1 div.sk-label-container {\n",
       "  text-align: center;\n",
       "}\n",
       "\n",
       "/* Estimator-specific */\n",
       "#sk-container-id-1 div.sk-estimator {\n",
       "  font-family: monospace;\n",
       "  border: 1px dotted var(--sklearn-color-border-box);\n",
       "  border-radius: 0.25em;\n",
       "  box-sizing: border-box;\n",
       "  margin-bottom: 0.5em;\n",
       "  /* unfitted */\n",
       "  background-color: var(--sklearn-color-unfitted-level-0);\n",
       "}\n",
       "\n",
       "#sk-container-id-1 div.sk-estimator.fitted {\n",
       "  /* fitted */\n",
       "  background-color: var(--sklearn-color-fitted-level-0);\n",
       "}\n",
       "\n",
       "/* on hover */\n",
       "#sk-container-id-1 div.sk-estimator:hover {\n",
       "  /* unfitted */\n",
       "  background-color: var(--sklearn-color-unfitted-level-2);\n",
       "}\n",
       "\n",
       "#sk-container-id-1 div.sk-estimator.fitted:hover {\n",
       "  /* fitted */\n",
       "  background-color: var(--sklearn-color-fitted-level-2);\n",
       "}\n",
       "\n",
       "/* Specification for estimator info (e.g. \"i\" and \"?\") */\n",
       "\n",
       "/* Common style for \"i\" and \"?\" */\n",
       "\n",
       ".sk-estimator-doc-link,\n",
       "a:link.sk-estimator-doc-link,\n",
       "a:visited.sk-estimator-doc-link {\n",
       "  float: right;\n",
       "  font-size: smaller;\n",
       "  line-height: 1em;\n",
       "  font-family: monospace;\n",
       "  background-color: var(--sklearn-color-background);\n",
       "  border-radius: 1em;\n",
       "  height: 1em;\n",
       "  width: 1em;\n",
       "  text-decoration: none !important;\n",
       "  margin-left: 1ex;\n",
       "  /* unfitted */\n",
       "  border: var(--sklearn-color-unfitted-level-1) 1pt solid;\n",
       "  color: var(--sklearn-color-unfitted-level-1);\n",
       "}\n",
       "\n",
       ".sk-estimator-doc-link.fitted,\n",
       "a:link.sk-estimator-doc-link.fitted,\n",
       "a:visited.sk-estimator-doc-link.fitted {\n",
       "  /* fitted */\n",
       "  border: var(--sklearn-color-fitted-level-1) 1pt solid;\n",
       "  color: var(--sklearn-color-fitted-level-1);\n",
       "}\n",
       "\n",
       "/* On hover */\n",
       "div.sk-estimator:hover .sk-estimator-doc-link:hover,\n",
       ".sk-estimator-doc-link:hover,\n",
       "div.sk-label-container:hover .sk-estimator-doc-link:hover,\n",
       ".sk-estimator-doc-link:hover {\n",
       "  /* unfitted */\n",
       "  background-color: var(--sklearn-color-unfitted-level-3);\n",
       "  color: var(--sklearn-color-background);\n",
       "  text-decoration: none;\n",
       "}\n",
       "\n",
       "div.sk-estimator.fitted:hover .sk-estimator-doc-link.fitted:hover,\n",
       ".sk-estimator-doc-link.fitted:hover,\n",
       "div.sk-label-container:hover .sk-estimator-doc-link.fitted:hover,\n",
       ".sk-estimator-doc-link.fitted:hover {\n",
       "  /* fitted */\n",
       "  background-color: var(--sklearn-color-fitted-level-3);\n",
       "  color: var(--sklearn-color-background);\n",
       "  text-decoration: none;\n",
       "}\n",
       "\n",
       "/* Span, style for the box shown on hovering the info icon */\n",
       ".sk-estimator-doc-link span {\n",
       "  display: none;\n",
       "  z-index: 9999;\n",
       "  position: relative;\n",
       "  font-weight: normal;\n",
       "  right: .2ex;\n",
       "  padding: .5ex;\n",
       "  margin: .5ex;\n",
       "  width: min-content;\n",
       "  min-width: 20ex;\n",
       "  max-width: 50ex;\n",
       "  color: var(--sklearn-color-text);\n",
       "  box-shadow: 2pt 2pt 4pt #999;\n",
       "  /* unfitted */\n",
       "  background: var(--sklearn-color-unfitted-level-0);\n",
       "  border: .5pt solid var(--sklearn-color-unfitted-level-3);\n",
       "}\n",
       "\n",
       ".sk-estimator-doc-link.fitted span {\n",
       "  /* fitted */\n",
       "  background: var(--sklearn-color-fitted-level-0);\n",
       "  border: var(--sklearn-color-fitted-level-3);\n",
       "}\n",
       "\n",
       ".sk-estimator-doc-link:hover span {\n",
       "  display: block;\n",
       "}\n",
       "\n",
       "/* \"?\"-specific style due to the `<a>` HTML tag */\n",
       "\n",
       "#sk-container-id-1 a.estimator_doc_link {\n",
       "  float: right;\n",
       "  font-size: 1rem;\n",
       "  line-height: 1em;\n",
       "  font-family: monospace;\n",
       "  background-color: var(--sklearn-color-background);\n",
       "  border-radius: 1rem;\n",
       "  height: 1rem;\n",
       "  width: 1rem;\n",
       "  text-decoration: none;\n",
       "  /* unfitted */\n",
       "  color: var(--sklearn-color-unfitted-level-1);\n",
       "  border: var(--sklearn-color-unfitted-level-1) 1pt solid;\n",
       "}\n",
       "\n",
       "#sk-container-id-1 a.estimator_doc_link.fitted {\n",
       "  /* fitted */\n",
       "  border: var(--sklearn-color-fitted-level-1) 1pt solid;\n",
       "  color: var(--sklearn-color-fitted-level-1);\n",
       "}\n",
       "\n",
       "/* On hover */\n",
       "#sk-container-id-1 a.estimator_doc_link:hover {\n",
       "  /* unfitted */\n",
       "  background-color: var(--sklearn-color-unfitted-level-3);\n",
       "  color: var(--sklearn-color-background);\n",
       "  text-decoration: none;\n",
       "}\n",
       "\n",
       "#sk-container-id-1 a.estimator_doc_link.fitted:hover {\n",
       "  /* fitted */\n",
       "  background-color: var(--sklearn-color-fitted-level-3);\n",
       "}\n",
       "</style><div id=\"sk-container-id-1\" class=\"sk-top-container\"><div class=\"sk-text-repr-fallback\"><pre>XGBClassifier(base_score=None, booster=None, callbacks=None,\n",
       "              colsample_bylevel=None, colsample_bynode=None,\n",
       "              colsample_bytree=0.9171402656256009, device=None,\n",
       "              early_stopping_rounds=None, enable_categorical=False,\n",
       "              eval_metric=&#x27;logloss&#x27;, feature_types=None, gamma=2.69311430760292,\n",
       "              grow_policy=None, importance_type=None,\n",
       "              interaction_constraints=None, learning_rate=0.2223951887873663,\n",
       "              max_bin=None, max_cat_threshold=None, max_cat_to_onehot=None,\n",
       "              max_delta_step=None, max_depth=0, max_leaves=None,\n",
       "              min_child_weight=9, missing=nan, monotone_constraints=None,\n",
       "              multi_strategy=None, n_estimators=60, n_jobs=None,\n",
       "              num_parallel_tree=None, random_state=None, ...)</pre><b>In a Jupyter environment, please rerun this cell to show the HTML representation or trust the notebook. <br />On GitHub, the HTML representation is unable to render, please try loading this page with nbviewer.org.</b></div><div class=\"sk-container\" hidden><div class=\"sk-item\"><div class=\"sk-estimator fitted sk-toggleable\"><input class=\"sk-toggleable__control sk-hidden--visually\" id=\"sk-estimator-id-1\" type=\"checkbox\" checked><label for=\"sk-estimator-id-1\" class=\"sk-toggleable__label fitted sk-toggleable__label-arrow fitted\">&nbsp;XGBClassifier<span class=\"sk-estimator-doc-link fitted\">i<span>Fitted</span></span></label><div class=\"sk-toggleable__content fitted\"><pre>XGBClassifier(base_score=None, booster=None, callbacks=None,\n",
       "              colsample_bylevel=None, colsample_bynode=None,\n",
       "              colsample_bytree=0.9171402656256009, device=None,\n",
       "              early_stopping_rounds=None, enable_categorical=False,\n",
       "              eval_metric=&#x27;logloss&#x27;, feature_types=None, gamma=2.69311430760292,\n",
       "              grow_policy=None, importance_type=None,\n",
       "              interaction_constraints=None, learning_rate=0.2223951887873663,\n",
       "              max_bin=None, max_cat_threshold=None, max_cat_to_onehot=None,\n",
       "              max_delta_step=None, max_depth=0, max_leaves=None,\n",
       "              min_child_weight=9, missing=nan, monotone_constraints=None,\n",
       "              multi_strategy=None, n_estimators=60, n_jobs=None,\n",
       "              num_parallel_tree=None, random_state=None, ...)</pre></div> </div></div></div></div>"
      ],
      "text/plain": [
       "XGBClassifier(base_score=None, booster=None, callbacks=None,\n",
       "              colsample_bylevel=None, colsample_bynode=None,\n",
       "              colsample_bytree=0.9171402656256009, device=None,\n",
       "              early_stopping_rounds=None, enable_categorical=False,\n",
       "              eval_metric='logloss', feature_types=None, gamma=2.69311430760292,\n",
       "              grow_policy=None, importance_type=None,\n",
       "              interaction_constraints=None, learning_rate=0.2223951887873663,\n",
       "              max_bin=None, max_cat_threshold=None, max_cat_to_onehot=None,\n",
       "              max_delta_step=None, max_depth=0, max_leaves=None,\n",
       "              min_child_weight=9, missing=nan, monotone_constraints=None,\n",
       "              multi_strategy=None, n_estimators=60, n_jobs=None,\n",
       "              num_parallel_tree=None, random_state=None, ...)"
      ]
     },
     "execution_count": 22,
     "metadata": {},
     "output_type": "execute_result"
    }
   ],
   "source": [
    "modelfit(final_model, X_train, y_train,X_test,y_test)"
   ]
  },
  {
   "cell_type": "code",
   "execution_count": 23,
   "id": "99e12a39",
   "metadata": {},
   "outputs": [
    {
     "name": "stdout",
     "output_type": "stream",
     "text": [
      "\n",
      "Model Report Train\n",
      "AUC Score : 0.968123\n",
      "Accuracy : 0.8995\n",
      "Precision : 0.8819\n",
      "Recall : 0.899160\n",
      "\n",
      "Model Report Test\n",
      "AUC Score : 0.887641\n",
      "Accuracy : 0.8281\n",
      "Precision : 0.2755\n",
      "Recall : 0.811111\n"
     ]
    },
    {
     "data": {
      "image/png": "[encoded data removed]",
      "text/plain": [
       "<Figure size 1000x500 with 4 Axes>"
      ]
     },
     "metadata": {},
     "output_type": "display_data"
    },
    {
     "name": "stdout",
     "output_type": "stream",
     "text": [
      "CV Score : Mean - 0.8180751 | Std - 0.03096333 | Min - 0.7638889 | Max - 0.8591549\n"
     ]
    },
    {
     "data": {
      "text/html": [
       "<style>#sk-container-id-2 {\n",
       "  /* Definition of color scheme common for light and dark mode */\n",
       "  --sklearn-color-text: black;\n",
       "  --sklearn-color-line: gray;\n",
       "  /* Definition of color scheme for unfitted estimators */\n",
       "  --sklearn-color-unfitted-level-0: #fff5e6;\n",
       "  --sklearn-color-unfitted-level-1: #f6e4d2;\n",
       "  --sklearn-color-unfitted-level-2: #ffe0b3;\n",
       "  --sklearn-color-unfitted-level-3: chocolate;\n",
       "  /* Definition of color scheme for fitted estimators */\n",
       "  --sklearn-color-fitted-level-0: #f0f8ff;\n",
       "  --sklearn-color-fitted-level-1: #d4ebff;\n",
       "  --sklearn-color-fitted-level-2: #b3dbfd;\n",
       "  --sklearn-color-fitted-level-3: cornflowerblue;\n",
       "\n",
       "  /* Specific color for light theme */\n",
       "  --sklearn-color-text-on-default-background: var(--sg-text-color, var(--theme-code-foreground, var(--jp-content-font-color1, black)));\n",
       "  --sklearn-color-background: var(--sg-background-color, var(--theme-background, var(--jp-layout-color0, white)));\n",
       "  --sklearn-color-border-box: var(--sg-text-color, var(--theme-code-foreground, var(--jp-content-font-color1, black)));\n",
       "  --sklearn-color-icon: #696969;\n",
       "\n",
       "  @media (prefers-color-scheme: dark) {\n",
       "    /* Redefinition of color scheme for dark theme */\n",
       "    --sklearn-color-text-on-default-background: var(--sg-text-color, var(--theme-code-foreground, var(--jp-content-font-color1, white)));\n",
       "    --sklearn-color-background: var(--sg-background-color, var(--theme-background, var(--jp-layout-color0, #111)));\n",
       "    --sklearn-color-border-box: var(--sg-text-color, var(--theme-code-foreground, var(--jp-content-font-color1, white)));\n",
       "    --sklearn-color-icon: #878787;\n",
       "  }\n",
       "}\n",
       "\n",
       "#sk-container-id-2 {\n",
       "  color: var(--sklearn-color-text);\n",
       "}\n",
       "\n",
       "#sk-container-id-2 pre {\n",
       "  padding: 0;\n",
       "}\n",
       "\n",
       "#sk-container-id-2 input.sk-hidden--visually {\n",
       "  border: 0;\n",
       "  clip: rect(1px 1px 1px 1px);\n",
       "  clip: rect(1px, 1px, 1px, 1px);\n",
       "  height: 1px;\n",
       "  margin: -1px;\n",
       "  overflow: hidden;\n",
       "  padding: 0;\n",
       "  position: absolute;\n",
       "  width: 1px;\n",
       "}\n",
       "\n",
       "#sk-container-id-2 div.sk-dashed-wrapped {\n",
       "  border: 1px dashed var(--sklearn-color-line);\n",
       "  margin: 0 0.4em 0.5em 0.4em;\n",
       "  box-sizing: border-box;\n",
       "  padding-bottom: 0.4em;\n",
       "  background-color: var(--sklearn-color-background);\n",
       "}\n",
       "\n",
       "#sk-container-id-2 div.sk-container {\n",
       "  /* jupyter's `normalize.less` sets `[hidden] { display: none; }`\n",
       "     but bootstrap.min.css set `[hidden] { display: none !important; }`\n",
       "     so we also need the `!important` here to be able to override the\n",
       "     default hidden behavior on the sphinx rendered scikit-learn.org.\n",
       "     See: https://github.com/scikit-learn/scikit-learn/issues/21755 */\n",
       "  display: inline-block !important;\n",
       "  position: relative;\n",
       "}\n",
       "\n",
       "#sk-container-id-2 div.sk-text-repr-fallback {\n",
       "  display: none;\n",
       "}\n",
       "\n",
       "div.sk-parallel-item,\n",
       "div.sk-serial,\n",
       "div.sk-item {\n",
       "  /* draw centered vertical line to link estimators */\n",
       "  background-image: linear-gradient(var(--sklearn-color-text-on-default-background), var(--sklearn-color-text-on-default-background));\n",
       "  background-size: 2px 100%;\n",
       "  background-repeat: no-repeat;\n",
       "  background-position: center center;\n",
       "}\n",
       "\n",
       "/* Parallel-specific style estimator block */\n",
       "\n",
       "#sk-container-id-2 div.sk-parallel-item::after {\n",
       "  content: \"\";\n",
       "  width: 100%;\n",
       "  border-bottom: 2px solid var(--sklearn-color-text-on-default-background);\n",
       "  flex-grow: 1;\n",
       "}\n",
       "\n",
       "#sk-container-id-2 div.sk-parallel {\n",
       "  display: flex;\n",
       "  align-items: stretch;\n",
       "  justify-content: center;\n",
       "  background-color: var(--sklearn-color-background);\n",
       "  position: relative;\n",
       "}\n",
       "\n",
       "#sk-container-id-2 div.sk-parallel-item {\n",
       "  display: flex;\n",
       "  flex-direction: column;\n",
       "}\n",
       "\n",
       "#sk-container-id-2 div.sk-parallel-item:first-child::after {\n",
       "  align-self: flex-end;\n",
       "  width: 50%;\n",
       "}\n",
       "\n",
       "#sk-container-id-2 div.sk-parallel-item:last-child::after {\n",
       "  align-self: flex-start;\n",
       "  width: 50%;\n",
       "}\n",
       "\n",
       "#sk-container-id-2 div.sk-parallel-item:only-child::after {\n",
       "  width: 0;\n",
       "}\n",
       "\n",
       "/* Serial-specific style estimator block */\n",
       "\n",
       "#sk-container-id-2 div.sk-serial {\n",
       "  display: flex;\n",
       "  flex-direction: column;\n",
       "  align-items: center;\n",
       "  background-color: var(--sklearn-color-background);\n",
       "  padding-right: 1em;\n",
       "  padding-left: 1em;\n",
       "}\n",
       "\n",
       "\n",
       "/* Toggleable style: style used for estimator/Pipeline/ColumnTransformer box that is\n",
       "clickable and can be expanded/collapsed.\n",
       "- Pipeline and ColumnTransformer use this feature and define the default style\n",
       "- Estimators will overwrite some part of the style using the `sk-estimator` class\n",
       "*/\n",
       "\n",
       "/* Pipeline and ColumnTransformer style (default) */\n",
       "\n",
       "#sk-container-id-2 div.sk-toggleable {\n",
       "  /* Default theme specific background. It is overwritten whether we have a\n",
       "  specific estimator or a Pipeline/ColumnTransformer */\n",
       "  background-color: var(--sklearn-color-background);\n",
       "}\n",
       "\n",
       "/* Toggleable label */\n",
       "#sk-container-id-2 label.sk-toggleable__label {\n",
       "  cursor: pointer;\n",
       "  display: block;\n",
       "  width: 100%;\n",
       "  margin-bottom: 0;\n",
       "  padding: 0.5em;\n",
       "  box-sizing: border-box;\n",
       "  text-align: center;\n",
       "}\n",
       "\n",
       "#sk-container-id-2 label.sk-toggleable__label-arrow:before {\n",
       "  /* Arrow on the left of the label */\n",
       "  content: \"▸\";\n",
       "  float: left;\n",
       "  margin-right: 0.25em;\n",
       "  color: var(--sklearn-color-icon);\n",
       "}\n",
       "\n",
       "#sk-container-id-2 label.sk-toggleable__label-arrow:hover:before {\n",
       "  color: var(--sklearn-color-text);\n",
       "}\n",
       "\n",
       "/* Toggleable content - dropdown */\n",
       "\n",
       "#sk-container-id-2 div.sk-toggleable__content {\n",
       "  max-height: 0;\n",
       "  max-width: 0;\n",
       "  overflow: hidden;\n",
       "  text-align: left;\n",
       "  /* unfitted */\n",
       "  background-color: var(--sklearn-color-unfitted-level-0);\n",
       "}\n",
       "\n",
       "#sk-container-id-2 div.sk-toggleable__content.fitted {\n",
       "  /* fitted */\n",
       "  background-color: var(--sklearn-color-fitted-level-0);\n",
       "}\n",
       "\n",
       "#sk-container-id-2 div.sk-toggleable__content pre {\n",
       "  margin: 0.2em;\n",
       "  border-radius: 0.25em;\n",
       "  color: var(--sklearn-color-text);\n",
       "  /* unfitted */\n",
       "  background-color: var(--sklearn-color-unfitted-level-0);\n",
       "}\n",
       "\n",
       "#sk-container-id-2 div.sk-toggleable__content.fitted pre {\n",
       "  /* unfitted */\n",
       "  background-color: var(--sklearn-color-fitted-level-0);\n",
       "}\n",
       "\n",
       "#sk-container-id-2 input.sk-toggleable__control:checked~div.sk-toggleable__content {\n",
       "  /* Expand drop-down */\n",
       "  max-height: 200px;\n",
       "  max-width: 100%;\n",
       "  overflow: auto;\n",
       "}\n",
       "\n",
       "#sk-container-id-2 input.sk-toggleable__control:checked~label.sk-toggleable__label-arrow:before {\n",
       "  content: \"▾\";\n",
       "}\n",
       "\n",
       "/* Pipeline/ColumnTransformer-specific style */\n",
       "\n",
       "#sk-container-id-2 div.sk-label input.sk-toggleable__control:checked~label.sk-toggleable__label {\n",
       "  color: var(--sklearn-color-text);\n",
       "  background-color: var(--sklearn-color-unfitted-level-2);\n",
       "}\n",
       "\n",
       "#sk-container-id-2 div.sk-label.fitted input.sk-toggleable__control:checked~label.sk-toggleable__label {\n",
       "  background-color: var(--sklearn-color-fitted-level-2);\n",
       "}\n",
       "\n",
       "/* Estimator-specific style */\n",
       "\n",
       "/* Colorize estimator box */\n",
       "#sk-container-id-2 div.sk-estimator input.sk-toggleable__control:checked~label.sk-toggleable__label {\n",
       "  /* unfitted */\n",
       "  background-color: var(--sklearn-color-unfitted-level-2);\n",
       "}\n",
       "\n",
       "#sk-container-id-2 div.sk-estimator.fitted input.sk-toggleable__control:checked~label.sk-toggleable__label {\n",
       "  /* fitted */\n",
       "  background-color: var(--sklearn-color-fitted-level-2);\n",
       "}\n",
       "\n",
       "#sk-container-id-2 div.sk-label label.sk-toggleable__label,\n",
       "#sk-container-id-2 div.sk-label label {\n",
       "  /* The background is the default theme color */\n",
       "  color: var(--sklearn-color-text-on-default-background);\n",
       "}\n",
       "\n",
       "/* On hover, darken the color of the background */\n",
       "#sk-container-id-2 div.sk-label:hover label.sk-toggleable__label {\n",
       "  color: var(--sklearn-color-text);\n",
       "  background-color: var(--sklearn-color-unfitted-level-2);\n",
       "}\n",
       "\n",
       "/* Label box, darken color on hover, fitted */\n",
       "#sk-container-id-2 div.sk-label.fitted:hover label.sk-toggleable__label.fitted {\n",
       "  color: var(--sklearn-color-text);\n",
       "  background-color: var(--sklearn-color-fitted-level-2);\n",
       "}\n",
       "\n",
       "/* Estimator label */\n",
       "\n",
       "#sk-container-id-2 div.sk-label label {\n",
       "  font-family: monospace;\n",
       "  font-weight: bold;\n",
       "  display: inline-block;\n",
       "  line-height: 1.2em;\n",
       "}\n",
       "\n",
       "#sk-container-id-2 div.sk-label-container {\n",
       "  text-align: center;\n",
       "}\n",
       "\n",
       "/* Estimator-specific */\n",
       "#sk-container-id-2 div.sk-estimator {\n",
       "  font-family: monospace;\n",
       "  border: 1px dotted var(--sklearn-color-border-box);\n",
       "  border-radius: 0.25em;\n",
       "  box-sizing: border-box;\n",
       "  margin-bottom: 0.5em;\n",
       "  /* unfitted */\n",
       "  background-color: var(--sklearn-color-unfitted-level-0);\n",
       "}\n",
       "\n",
       "#sk-container-id-2 div.sk-estimator.fitted {\n",
       "  /* fitted */\n",
       "  background-color: var(--sklearn-color-fitted-level-0);\n",
       "}\n",
       "\n",
       "/* on hover */\n",
       "#sk-container-id-2 div.sk-estimator:hover {\n",
       "  /* unfitted */\n",
       "  background-color: var(--sklearn-color-unfitted-level-2);\n",
       "}\n",
       "\n",
       "#sk-container-id-2 div.sk-estimator.fitted:hover {\n",
       "  /* fitted */\n",
       "  background-color: var(--sklearn-color-fitted-level-2);\n",
       "}\n",
       "\n",
       "/* Specification for estimator info (e.g. \"i\" and \"?\") */\n",
       "\n",
       "/* Common style for \"i\" and \"?\" */\n",
       "\n",
       ".sk-estimator-doc-link,\n",
       "a:link.sk-estimator-doc-link,\n",
       "a:visited.sk-estimator-doc-link {\n",
       "  float: right;\n",
       "  font-size: smaller;\n",
       "  line-height: 1em;\n",
       "  font-family: monospace;\n",
       "  background-color: var(--sklearn-color-background);\n",
       "  border-radius: 1em;\n",
       "  height: 1em;\n",
       "  width: 1em;\n",
       "  text-decoration: none !important;\n",
       "  margin-left: 1ex;\n",
       "  /* unfitted */\n",
       "  border: var(--sklearn-color-unfitted-level-1) 1pt solid;\n",
       "  color: var(--sklearn-color-unfitted-level-1);\n",
       "}\n",
       "\n",
       ".sk-estimator-doc-link.fitted,\n",
       "a:link.sk-estimator-doc-link.fitted,\n",
       "a:visited.sk-estimator-doc-link.fitted {\n",
       "  /* fitted */\n",
       "  border: var(--sklearn-color-fitted-level-1) 1pt solid;\n",
       "  color: var(--sklearn-color-fitted-level-1);\n",
       "}\n",
       "\n",
       "/* On hover */\n",
       "div.sk-estimator:hover .sk-estimator-doc-link:hover,\n",
       ".sk-estimator-doc-link:hover,\n",
       "div.sk-label-container:hover .sk-estimator-doc-link:hover,\n",
       ".sk-estimator-doc-link:hover {\n",
       "  /* unfitted */\n",
       "  background-color: var(--sklearn-color-unfitted-level-3);\n",
       "  color: var(--sklearn-color-background);\n",
       "  text-decoration: none;\n",
       "}\n",
       "\n",
       "div.sk-estimator.fitted:hover .sk-estimator-doc-link.fitted:hover,\n",
       ".sk-estimator-doc-link.fitted:hover,\n",
       "div.sk-label-container:hover .sk-estimator-doc-link.fitted:hover,\n",
       ".sk-estimator-doc-link.fitted:hover {\n",
       "  /* fitted */\n",
       "  background-color: var(--sklearn-color-fitted-level-3);\n",
       "  color: var(--sklearn-color-background);\n",
       "  text-decoration: none;\n",
       "}\n",
       "\n",
       "/* Span, style for the box shown on hovering the info icon */\n",
       ".sk-estimator-doc-link span {\n",
       "  display: none;\n",
       "  z-index: 9999;\n",
       "  position: relative;\n",
       "  font-weight: normal;\n",
       "  right: .2ex;\n",
       "  padding: .5ex;\n",
       "  margin: .5ex;\n",
       "  width: min-content;\n",
       "  min-width: 20ex;\n",
       "  max-width: 50ex;\n",
       "  color: var(--sklearn-color-text);\n",
       "  box-shadow: 2pt 2pt 4pt #999;\n",
       "  /* unfitted */\n",
       "  background: var(--sklearn-color-unfitted-level-0);\n",
       "  border: .5pt solid var(--sklearn-color-unfitted-level-3);\n",
       "}\n",
       "\n",
       ".sk-estimator-doc-link.fitted span {\n",
       "  /* fitted */\n",
       "  background: var(--sklearn-color-fitted-level-0);\n",
       "  border: var(--sklearn-color-fitted-level-3);\n",
       "}\n",
       "\n",
       ".sk-estimator-doc-link:hover span {\n",
       "  display: block;\n",
       "}\n",
       "\n",
       "/* \"?\"-specific style due to the `<a>` HTML tag */\n",
       "\n",
       "#sk-container-id-2 a.estimator_doc_link {\n",
       "  float: right;\n",
       "  font-size: 1rem;\n",
       "  line-height: 1em;\n",
       "  font-family: monospace;\n",
       "  background-color: var(--sklearn-color-background);\n",
       "  border-radius: 1rem;\n",
       "  height: 1rem;\n",
       "  width: 1rem;\n",
       "  text-decoration: none;\n",
       "  /* unfitted */\n",
       "  color: var(--sklearn-color-unfitted-level-1);\n",
       "  border: var(--sklearn-color-unfitted-level-1) 1pt solid;\n",
       "}\n",
       "\n",
       "#sk-container-id-2 a.estimator_doc_link.fitted {\n",
       "  /* fitted */\n",
       "  border: var(--sklearn-color-fitted-level-1) 1pt solid;\n",
       "  color: var(--sklearn-color-fitted-level-1);\n",
       "}\n",
       "\n",
       "/* On hover */\n",
       "#sk-container-id-2 a.estimator_doc_link:hover {\n",
       "  /* unfitted */\n",
       "  background-color: var(--sklearn-color-unfitted-level-3);\n",
       "  color: var(--sklearn-color-background);\n",
       "  text-decoration: none;\n",
       "}\n",
       "\n",
       "#sk-container-id-2 a.estimator_doc_link.fitted:hover {\n",
       "  /* fitted */\n",
       "  background-color: var(--sklearn-color-fitted-level-3);\n",
       "}\n",
       "</style><div id=\"sk-container-id-2\" class=\"sk-top-container\"><div class=\"sk-text-repr-fallback\"><pre>XGBClassifier(base_score=None, booster=None, callbacks=None,\n",
       "              colsample_bylevel=None, colsample_bynode=None,\n",
       "              colsample_bytree=0.9171402656256009, device=None,\n",
       "              early_stopping_rounds=None, enable_categorical=False,\n",
       "              eval_metric=&#x27;logloss&#x27;, feature_types=None, gamma=2.69311430760292,\n",
       "              grow_policy=None, importance_type=None,\n",
       "              interaction_constraints=None, learning_rate=0.2223951887873663,\n",
       "              max_bin=None, max_cat_threshold=None, max_cat_to_onehot=None,\n",
       "              max_delta_step=None, max_depth=0, max_leaves=None,\n",
       "              min_child_weight=9, missing=nan, monotone_constraints=None,\n",
       "              multi_strategy=None, n_estimators=60, n_jobs=None,\n",
       "              num_parallel_tree=None, random_state=None, ...)</pre><b>In a Jupyter environment, please rerun this cell to show the HTML representation or trust the notebook. <br />On GitHub, the HTML representation is unable to render, please try loading this page with nbviewer.org.</b></div><div class=\"sk-container\" hidden><div class=\"sk-item\"><div class=\"sk-estimator fitted sk-toggleable\"><input class=\"sk-toggleable__control sk-hidden--visually\" id=\"sk-estimator-id-2\" type=\"checkbox\" checked><label for=\"sk-estimator-id-2\" class=\"sk-toggleable__label fitted sk-toggleable__label-arrow fitted\">&nbsp;XGBClassifier<span class=\"sk-estimator-doc-link fitted\">i<span>Fitted</span></span></label><div class=\"sk-toggleable__content fitted\"><pre>XGBClassifier(base_score=None, booster=None, callbacks=None,\n",
       "              colsample_bylevel=None, colsample_bynode=None,\n",
       "              colsample_bytree=0.9171402656256009, device=None,\n",
       "              early_stopping_rounds=None, enable_categorical=False,\n",
       "              eval_metric=&#x27;logloss&#x27;, feature_types=None, gamma=2.69311430760292,\n",
       "              grow_policy=None, importance_type=None,\n",
       "              interaction_constraints=None, learning_rate=0.2223951887873663,\n",
       "              max_bin=None, max_cat_threshold=None, max_cat_to_onehot=None,\n",
       "              max_delta_step=None, max_depth=0, max_leaves=None,\n",
       "              min_child_weight=9, missing=nan, monotone_constraints=None,\n",
       "              multi_strategy=None, n_estimators=60, n_jobs=None,\n",
       "              num_parallel_tree=None, random_state=None, ...)</pre></div> </div></div></div></div>"
      ],
      "text/plain": [
       "XGBClassifier(base_score=None, booster=None, callbacks=None,\n",
       "              colsample_bylevel=None, colsample_bynode=None,\n",
       "              colsample_bytree=0.9171402656256009, device=None,\n",
       "              early_stopping_rounds=None, enable_categorical=False,\n",
       "              eval_metric='logloss', feature_types=None, gamma=2.69311430760292,\n",
       "              grow_policy=None, importance_type=None,\n",
       "              interaction_constraints=None, learning_rate=0.2223951887873663,\n",
       "              max_bin=None, max_cat_threshold=None, max_cat_to_onehot=None,\n",
       "              max_delta_step=None, max_depth=0, max_leaves=None,\n",
       "              min_child_weight=9, missing=nan, monotone_constraints=None,\n",
       "              multi_strategy=None, n_estimators=60, n_jobs=None,\n",
       "              num_parallel_tree=None, random_state=None, ...)"
      ]
     },
     "execution_count": 23,
     "metadata": {},
     "output_type": "execute_result"
    }
   ],
   "source": [
    "modelfit(final_model, X_train, y_train,X_test_all,y_test_all)"
   ]
  },
  {
   "cell_type": "code",
   "execution_count": 27,
   "id": "b0de6e85-2c17-4024-b499-3e9c54d11fac",
   "metadata": {},
   "outputs": [
    {
     "data": {
      "text/plain": [
       "{'max_depth': 0,\n",
       " 'learning_rate': 0.2223951887873663,\n",
       " 'subsample': 0.7113495836349794,\n",
       " 'colsample_bytree': 0.9171402656256009,\n",
       " 'n_estimators': 60,\n",
       " 'gamma': 2.69311430760292,\n",
       " 'reg_alpha': 4.880582226571204,\n",
       " 'reg_lambda': 0.15097743936563188,\n",
       " 'min_child_weight': 9}"
      ]
     },
     "execution_count": 27,
     "metadata": {},
     "output_type": "execute_result"
    }
   ],
   "source": [
    "best_params"
   ]
  },
  {
   "cell_type": "code",
   "execution_count": 30,
   "id": "940ea677",
   "metadata": {},
   "outputs": [
    {
     "data": {
      "text/html": [
       "<style>#sk-container-id-6 {\n",
       "  /* Definition of color scheme common for light and dark mode */\n",
       "  --sklearn-color-text: black;\n",
       "  --sklearn-color-line: gray;\n",
       "  /* Definition of color scheme for unfitted estimators */\n",
       "  --sklearn-color-unfitted-level-0: #fff5e6;\n",
       "  --sklearn-color-unfitted-level-1: #f6e4d2;\n",
       "  --sklearn-color-unfitted-level-2: #ffe0b3;\n",
       "  --sklearn-color-unfitted-level-3: chocolate;\n",
       "  /* Definition of color scheme for fitted estimators */\n",
       "  --sklearn-color-fitted-level-0: #f0f8ff;\n",
       "  --sklearn-color-fitted-level-1: #d4ebff;\n",
       "  --sklearn-color-fitted-level-2: #b3dbfd;\n",
       "  --sklearn-color-fitted-level-3: cornflowerblue;\n",
       "\n",
       "  /* Specific color for light theme */\n",
       "  --sklearn-color-text-on-default-background: var(--sg-text-color, var(--theme-code-foreground, var(--jp-content-font-color1, black)));\n",
       "  --sklearn-color-background: var(--sg-background-color, var(--theme-background, var(--jp-layout-color0, white)));\n",
       "  --sklearn-color-border-box: var(--sg-text-color, var(--theme-code-foreground, var(--jp-content-font-color1, black)));\n",
       "  --sklearn-color-icon: #696969;\n",
       "\n",
       "  @media (prefers-color-scheme: dark) {\n",
       "    /* Redefinition of color scheme for dark theme */\n",
       "    --sklearn-color-text-on-default-background: var(--sg-text-color, var(--theme-code-foreground, var(--jp-content-font-color1, white)));\n",
       "    --sklearn-color-background: var(--sg-background-color, var(--theme-background, var(--jp-layout-color0, #111)));\n",
       "    --sklearn-color-border-box: var(--sg-text-color, var(--theme-code-foreground, var(--jp-content-font-color1, white)));\n",
       "    --sklearn-color-icon: #878787;\n",
       "  }\n",
       "}\n",
       "\n",
       "#sk-container-id-6 {\n",
       "  color: var(--sklearn-color-text);\n",
       "}\n",
       "\n",
       "#sk-container-id-6 pre {\n",
       "  padding: 0;\n",
       "}\n",
       "\n",
       "#sk-container-id-6 input.sk-hidden--visually {\n",
       "  border: 0;\n",
       "  clip: rect(1px 1px 1px 1px);\n",
       "  clip: rect(1px, 1px, 1px, 1px);\n",
       "  height: 1px;\n",
       "  margin: -1px;\n",
       "  overflow: hidden;\n",
       "  padding: 0;\n",
       "  position: absolute;\n",
       "  width: 1px;\n",
       "}\n",
       "\n",
       "#sk-container-id-6 div.sk-dashed-wrapped {\n",
       "  border: 1px dashed var(--sklearn-color-line);\n",
       "  margin: 0 0.4em 0.5em 0.4em;\n",
       "  box-sizing: border-box;\n",
       "  padding-bottom: 0.4em;\n",
       "  background-color: var(--sklearn-color-background);\n",
       "}\n",
       "\n",
       "#sk-container-id-6 div.sk-container {\n",
       "  /* jupyter's `normalize.less` sets `[hidden] { display: none; }`\n",
       "     but bootstrap.min.css set `[hidden] { display: none !important; }`\n",
       "     so we also need the `!important` here to be able to override the\n",
       "     default hidden behavior on the sphinx rendered scikit-learn.org.\n",
       "     See: https://github.com/scikit-learn/scikit-learn/issues/21755 */\n",
       "  display: inline-block !important;\n",
       "  position: relative;\n",
       "}\n",
       "\n",
       "#sk-container-id-6 div.sk-text-repr-fallback {\n",
       "  display: none;\n",
       "}\n",
       "\n",
       "div.sk-parallel-item,\n",
       "div.sk-serial,\n",
       "div.sk-item {\n",
       "  /* draw centered vertical line to link estimators */\n",
       "  background-image: linear-gradient(var(--sklearn-color-text-on-default-background), var(--sklearn-color-text-on-default-background));\n",
       "  background-size: 2px 100%;\n",
       "  background-repeat: no-repeat;\n",
       "  background-position: center center;\n",
       "}\n",
       "\n",
       "/* Parallel-specific style estimator block */\n",
       "\n",
       "#sk-container-id-6 div.sk-parallel-item::after {\n",
       "  content: \"\";\n",
       "  width: 100%;\n",
       "  border-bottom: 2px solid var(--sklearn-color-text-on-default-background);\n",
       "  flex-grow: 1;\n",
       "}\n",
       "\n",
       "#sk-container-id-6 div.sk-parallel {\n",
       "  display: flex;\n",
       "  align-items: stretch;\n",
       "  justify-content: center;\n",
       "  background-color: var(--sklearn-color-background);\n",
       "  position: relative;\n",
       "}\n",
       "\n",
       "#sk-container-id-6 div.sk-parallel-item {\n",
       "  display: flex;\n",
       "  flex-direction: column;\n",
       "}\n",
       "\n",
       "#sk-container-id-6 div.sk-parallel-item:first-child::after {\n",
       "  align-self: flex-end;\n",
       "  width: 50%;\n",
       "}\n",
       "\n",
       "#sk-container-id-6 div.sk-parallel-item:last-child::after {\n",
       "  align-self: flex-start;\n",
       "  width: 50%;\n",
       "}\n",
       "\n",
       "#sk-container-id-6 div.sk-parallel-item:only-child::after {\n",
       "  width: 0;\n",
       "}\n",
       "\n",
       "/* Serial-specific style estimator block */\n",
       "\n",
       "#sk-container-id-6 div.sk-serial {\n",
       "  display: flex;\n",
       "  flex-direction: column;\n",
       "  align-items: center;\n",
       "  background-color: var(--sklearn-color-background);\n",
       "  padding-right: 1em;\n",
       "  padding-left: 1em;\n",
       "}\n",
       "\n",
       "\n",
       "/* Toggleable style: style used for estimator/Pipeline/ColumnTransformer box that is\n",
       "clickable and can be expanded/collapsed.\n",
       "- Pipeline and ColumnTransformer use this feature and define the default style\n",
       "- Estimators will overwrite some part of the style using the `sk-estimator` class\n",
       "*/\n",
       "\n",
       "/* Pipeline and ColumnTransformer style (default) */\n",
       "\n",
       "#sk-container-id-6 div.sk-toggleable {\n",
       "  /* Default theme specific background. It is overwritten whether we have a\n",
       "  specific estimator or a Pipeline/ColumnTransformer */\n",
       "  background-color: var(--sklearn-color-background);\n",
       "}\n",
       "\n",
       "/* Toggleable label */\n",
       "#sk-container-id-6 label.sk-toggleable__label {\n",
       "  cursor: pointer;\n",
       "  display: block;\n",
       "  width: 100%;\n",
       "  margin-bottom: 0;\n",
       "  padding: 0.5em;\n",
       "  box-sizing: border-box;\n",
       "  text-align: center;\n",
       "}\n",
       "\n",
       "#sk-container-id-6 label.sk-toggleable__label-arrow:before {\n",
       "  /* Arrow on the left of the label */\n",
       "  content: \"▸\";\n",
       "  float: left;\n",
       "  margin-right: 0.25em;\n",
       "  color: var(--sklearn-color-icon);\n",
       "}\n",
       "\n",
       "#sk-container-id-6 label.sk-toggleable__label-arrow:hover:before {\n",
       "  color: var(--sklearn-color-text);\n",
       "}\n",
       "\n",
       "/* Toggleable content - dropdown */\n",
       "\n",
       "#sk-container-id-6 div.sk-toggleable__content {\n",
       "  max-height: 0;\n",
       "  max-width: 0;\n",
       "  overflow: hidden;\n",
       "  text-align: left;\n",
       "  /* unfitted */\n",
       "  background-color: var(--sklearn-color-unfitted-level-0);\n",
       "}\n",
       "\n",
       "#sk-container-id-6 div.sk-toggleable__content.fitted {\n",
       "  /* fitted */\n",
       "  background-color: var(--sklearn-color-fitted-level-0);\n",
       "}\n",
       "\n",
       "#sk-container-id-6 div.sk-toggleable__content pre {\n",
       "  margin: 0.2em;\n",
       "  border-radius: 0.25em;\n",
       "  color: var(--sklearn-color-text);\n",
       "  /* unfitted */\n",
       "  background-color: var(--sklearn-color-unfitted-level-0);\n",
       "}\n",
       "\n",
       "#sk-container-id-6 div.sk-toggleable__content.fitted pre {\n",
       "  /* unfitted */\n",
       "  background-color: var(--sklearn-color-fitted-level-0);\n",
       "}\n",
       "\n",
       "#sk-container-id-6 input.sk-toggleable__control:checked~div.sk-toggleable__content {\n",
       "  /* Expand drop-down */\n",
       "  max-height: 200px;\n",
       "  max-width: 100%;\n",
       "  overflow: auto;\n",
       "}\n",
       "\n",
       "#sk-container-id-6 input.sk-toggleable__control:checked~label.sk-toggleable__label-arrow:before {\n",
       "  content: \"▾\";\n",
       "}\n",
       "\n",
       "/* Pipeline/ColumnTransformer-specific style */\n",
       "\n",
       "#sk-container-id-6 div.sk-label input.sk-toggleable__control:checked~label.sk-toggleable__label {\n",
       "  color: var(--sklearn-color-text);\n",
       "  background-color: var(--sklearn-color-unfitted-level-2);\n",
       "}\n",
       "\n",
       "#sk-container-id-6 div.sk-label.fitted input.sk-toggleable__control:checked~label.sk-toggleable__label {\n",
       "  background-color: var(--sklearn-color-fitted-level-2);\n",
       "}\n",
       "\n",
       "/* Estimator-specific style */\n",
       "\n",
       "/* Colorize estimator box */\n",
       "#sk-container-id-6 div.sk-estimator input.sk-toggleable__control:checked~label.sk-toggleable__label {\n",
       "  /* unfitted */\n",
       "  background-color: var(--sklearn-color-unfitted-level-2);\n",
       "}\n",
       "\n",
       "#sk-container-id-6 div.sk-estimator.fitted input.sk-toggleable__control:checked~label.sk-toggleable__label {\n",
       "  /* fitted */\n",
       "  background-color: var(--sklearn-color-fitted-level-2);\n",
       "}\n",
       "\n",
       "#sk-container-id-6 div.sk-label label.sk-toggleable__label,\n",
       "#sk-container-id-6 div.sk-label label {\n",
       "  /* The background is the default theme color */\n",
       "  color: var(--sklearn-color-text-on-default-background);\n",
       "}\n",
       "\n",
       "/* On hover, darken the color of the background */\n",
       "#sk-container-id-6 div.sk-label:hover label.sk-toggleable__label {\n",
       "  color: var(--sklearn-color-text);\n",
       "  background-color: var(--sklearn-color-unfitted-level-2);\n",
       "}\n",
       "\n",
       "/* Label box, darken color on hover, fitted */\n",
       "#sk-container-id-6 div.sk-label.fitted:hover label.sk-toggleable__label.fitted {\n",
       "  color: var(--sklearn-color-text);\n",
       "  background-color: var(--sklearn-color-fitted-level-2);\n",
       "}\n",
       "\n",
       "/* Estimator label */\n",
       "\n",
       "#sk-container-id-6 div.sk-label label {\n",
       "  font-family: monospace;\n",
       "  font-weight: bold;\n",
       "  display: inline-block;\n",
       "  line-height: 1.2em;\n",
       "}\n",
       "\n",
       "#sk-container-id-6 div.sk-label-container {\n",
       "  text-align: center;\n",
       "}\n",
       "\n",
       "/* Estimator-specific */\n",
       "#sk-container-id-6 div.sk-estimator {\n",
       "  font-family: monospace;\n",
       "  border: 1px dotted var(--sklearn-color-border-box);\n",
       "  border-radius: 0.25em;\n",
       "  box-sizing: border-box;\n",
       "  margin-bottom: 0.5em;\n",
       "  /* unfitted */\n",
       "  background-color: var(--sklearn-color-unfitted-level-0);\n",
       "}\n",
       "\n",
       "#sk-container-id-6 div.sk-estimator.fitted {\n",
       "  /* fitted */\n",
       "  background-color: var(--sklearn-color-fitted-level-0);\n",
       "}\n",
       "\n",
       "/* on hover */\n",
       "#sk-container-id-6 div.sk-estimator:hover {\n",
       "  /* unfitted */\n",
       "  background-color: var(--sklearn-color-unfitted-level-2);\n",
       "}\n",
       "\n",
       "#sk-container-id-6 div.sk-estimator.fitted:hover {\n",
       "  /* fitted */\n",
       "  background-color: var(--sklearn-color-fitted-level-2);\n",
       "}\n",
       "\n",
       "/* Specification for estimator info (e.g. \"i\" and \"?\") */\n",
       "\n",
       "/* Common style for \"i\" and \"?\" */\n",
       "\n",
       ".sk-estimator-doc-link,\n",
       "a:link.sk-estimator-doc-link,\n",
       "a:visited.sk-estimator-doc-link {\n",
       "  float: right;\n",
       "  font-size: smaller;\n",
       "  line-height: 1em;\n",
       "  font-family: monospace;\n",
       "  background-color: var(--sklearn-color-background);\n",
       "  border-radius: 1em;\n",
       "  height: 1em;\n",
       "  width: 1em;\n",
       "  text-decoration: none !important;\n",
       "  margin-left: 1ex;\n",
       "  /* unfitted */\n",
       "  border: var(--sklearn-color-unfitted-level-1) 1pt solid;\n",
       "  color: var(--sklearn-color-unfitted-level-1);\n",
       "}\n",
       "\n",
       ".sk-estimator-doc-link.fitted,\n",
       "a:link.sk-estimator-doc-link.fitted,\n",
       "a:visited.sk-estimator-doc-link.fitted {\n",
       "  /* fitted */\n",
       "  border: var(--sklearn-color-fitted-level-1) 1pt solid;\n",
       "  color: var(--sklearn-color-fitted-level-1);\n",
       "}\n",
       "\n",
       "/* On hover */\n",
       "div.sk-estimator:hover .sk-estimator-doc-link:hover,\n",
       ".sk-estimator-doc-link:hover,\n",
       "div.sk-label-container:hover .sk-estimator-doc-link:hover,\n",
       ".sk-estimator-doc-link:hover {\n",
       "  /* unfitted */\n",
       "  background-color: var(--sklearn-color-unfitted-level-3);\n",
       "  color: var(--sklearn-color-background);\n",
       "  text-decoration: none;\n",
       "}\n",
       "\n",
       "div.sk-estimator.fitted:hover .sk-estimator-doc-link.fitted:hover,\n",
       ".sk-estimator-doc-link.fitted:hover,\n",
       "div.sk-label-container:hover .sk-estimator-doc-link.fitted:hover,\n",
       ".sk-estimator-doc-link.fitted:hover {\n",
       "  /* fitted */\n",
       "  background-color: var(--sklearn-color-fitted-level-3);\n",
       "  color: var(--sklearn-color-background);\n",
       "  text-decoration: none;\n",
       "}\n",
       "\n",
       "/* Span, style for the box shown on hovering the info icon */\n",
       ".sk-estimator-doc-link span {\n",
       "  display: none;\n",
       "  z-index: 9999;\n",
       "  position: relative;\n",
       "  font-weight: normal;\n",
       "  right: .2ex;\n",
       "  padding: .5ex;\n",
       "  margin: .5ex;\n",
       "  width: min-content;\n",
       "  min-width: 20ex;\n",
       "  max-width: 50ex;\n",
       "  color: var(--sklearn-color-text);\n",
       "  box-shadow: 2pt 2pt 4pt #999;\n",
       "  /* unfitted */\n",
       "  background: var(--sklearn-color-unfitted-level-0);\n",
       "  border: .5pt solid var(--sklearn-color-unfitted-level-3);\n",
       "}\n",
       "\n",
       ".sk-estimator-doc-link.fitted span {\n",
       "  /* fitted */\n",
       "  background: var(--sklearn-color-fitted-level-0);\n",
       "  border: var(--sklearn-color-fitted-level-3);\n",
       "}\n",
       "\n",
       ".sk-estimator-doc-link:hover span {\n",
       "  display: block;\n",
       "}\n",
       "\n",
       "/* \"?\"-specific style due to the `<a>` HTML tag */\n",
       "\n",
       "#sk-container-id-6 a.estimator_doc_link {\n",
       "  float: right;\n",
       "  font-size: 1rem;\n",
       "  line-height: 1em;\n",
       "  font-family: monospace;\n",
       "  background-color: var(--sklearn-color-background);\n",
       "  border-radius: 1rem;\n",
       "  height: 1rem;\n",
       "  width: 1rem;\n",
       "  text-decoration: none;\n",
       "  /* unfitted */\n",
       "  color: var(--sklearn-color-unfitted-level-1);\n",
       "  border: var(--sklearn-color-unfitted-level-1) 1pt solid;\n",
       "}\n",
       "\n",
       "#sk-container-id-6 a.estimator_doc_link.fitted {\n",
       "  /* fitted */\n",
       "  border: var(--sklearn-color-fitted-level-1) 1pt solid;\n",
       "  color: var(--sklearn-color-fitted-level-1);\n",
       "}\n",
       "\n",
       "/* On hover */\n",
       "#sk-container-id-6 a.estimator_doc_link:hover {\n",
       "  /* unfitted */\n",
       "  background-color: var(--sklearn-color-unfitted-level-3);\n",
       "  color: var(--sklearn-color-background);\n",
       "  text-decoration: none;\n",
       "}\n",
       "\n",
       "#sk-container-id-6 a.estimator_doc_link.fitted:hover {\n",
       "  /* fitted */\n",
       "  background-color: var(--sklearn-color-fitted-level-3);\n",
       "}\n",
       "</style><div id=\"sk-container-id-6\" class=\"sk-top-container\"><div class=\"sk-text-repr-fallback\"><pre>XGBClassifier(base_score=None, booster=None, callbacks=None,\n",
       "              colsample_bylevel=None, colsample_bynode=None,\n",
       "              colsample_bytree=None, device=None, early_stopping_rounds=None,\n",
       "              enable_categorical=False, eval_metric=None, feature_types=None,\n",
       "              gamma=None, grow_policy=None, importance_type=None,\n",
       "              interaction_constraints=None, learning_rate=0.04634731817110998,\n",
       "              max_bin=None, max_cat_threshold=None, max_cat_to_onehot=None,\n",
       "              max_delta_step=None, max_depth=7, max_leaves=None,\n",
       "              min_child_weight=None, missing=nan, monotone_constraints=None,\n",
       "              multi_strategy=None, n_estimators=114, n_jobs=None,\n",
       "              num_parallel_tree=None, random_state=None, ...)</pre><b>In a Jupyter environment, please rerun this cell to show the HTML representation or trust the notebook. <br />On GitHub, the HTML representation is unable to render, please try loading this page with nbviewer.org.</b></div><div class=\"sk-container\" hidden><div class=\"sk-item\"><div class=\"sk-estimator fitted sk-toggleable\"><input class=\"sk-toggleable__control sk-hidden--visually\" id=\"sk-estimator-id-6\" type=\"checkbox\" checked><label for=\"sk-estimator-id-6\" class=\"sk-toggleable__label fitted sk-toggleable__label-arrow fitted\">&nbsp;XGBClassifier<span class=\"sk-estimator-doc-link fitted\">i<span>Fitted</span></span></label><div class=\"sk-toggleable__content fitted\"><pre>XGBClassifier(base_score=None, booster=None, callbacks=None,\n",
       "              colsample_bylevel=None, colsample_bynode=None,\n",
       "              colsample_bytree=None, device=None, early_stopping_rounds=None,\n",
       "              enable_categorical=False, eval_metric=None, feature_types=None,\n",
       "              gamma=None, grow_policy=None, importance_type=None,\n",
       "              interaction_constraints=None, learning_rate=0.04634731817110998,\n",
       "              max_bin=None, max_cat_threshold=None, max_cat_to_onehot=None,\n",
       "              max_delta_step=None, max_depth=7, max_leaves=None,\n",
       "              min_child_weight=None, missing=nan, monotone_constraints=None,\n",
       "              multi_strategy=None, n_estimators=114, n_jobs=None,\n",
       "              num_parallel_tree=None, random_state=None, ...)</pre></div> </div></div></div></div>"
      ],
      "text/plain": [
       "XGBClassifier(base_score=None, booster=None, callbacks=None,\n",
       "              colsample_bylevel=None, colsample_bynode=None,\n",
       "              colsample_bytree=None, device=None, early_stopping_rounds=None,\n",
       "              enable_categorical=False, eval_metric=None, feature_types=None,\n",
       "              gamma=None, grow_policy=None, importance_type=None,\n",
       "              interaction_constraints=None, learning_rate=0.04634731817110998,\n",
       "              max_bin=None, max_cat_threshold=None, max_cat_to_onehot=None,\n",
       "              max_delta_step=None, max_depth=7, max_leaves=None,\n",
       "              min_child_weight=None, missing=nan, monotone_constraints=None,\n",
       "              multi_strategy=None, n_estimators=114, n_jobs=None,\n",
       "              num_parallel_tree=None, random_state=None, ...)"
      ]
     },
     "execution_count": 30,
     "metadata": {},
     "output_type": "execute_result"
    }
   ],
   "source": [
    "# Train the final model with the best hyperparameters\n",
    "params = {'learning_rate': 0.04634731817110998, 'max_depth': 7, 'n_estimators': 114, 'subsample': 0.9335825616239708}\n",
    "final_model = xgb.XGBClassifier(**params)\n",
    "\n",
    "final_model.fit(X_train, y_train)\n"
   ]
  },
  {
   "cell_type": "code",
   "execution_count": 31,
   "id": "f00a4458",
   "metadata": {},
   "outputs": [
    {
     "name": "stdout",
     "output_type": "stream",
     "text": [
      "\n",
      "Model Report Train\n",
      "AUC Score : 1.000000\n",
      "Accuracy : 1\n",
      "Precision : 1\n",
      "Recall : 1.000000\n",
      "\n",
      "Model Report Test\n",
      "AUC Score : 0.897404\n",
      "Accuracy : 0.8426\n",
      "Precision : 0.8242\n",
      "Recall : 0.833333\n"
     ]
    },
    {
     "data": {
      "image/png": "[encoded data removed]",
      "text/plain": [
       "<Figure size 1000x500 with 4 Axes>"
      ]
     },
     "metadata": {},
     "output_type": "display_data"
    },
    {
     "name": "stdout",
     "output_type": "stream",
     "text": [
      "CV Score : Mean - 0.8405321 | Std - 0.04409259 | Min - 0.7777778 | Max - 0.915493\n"
     ]
    },
    {
     "data": {
      "text/html": [
       "<style>#sk-container-id-7 {\n",
       "  /* Definition of color scheme common for light and dark mode */\n",
       "  --sklearn-color-text: black;\n",
       "  --sklearn-color-line: gray;\n",
       "  /* Definition of color scheme for unfitted estimators */\n",
       "  --sklearn-color-unfitted-level-0: #fff5e6;\n",
       "  --sklearn-color-unfitted-level-1: #f6e4d2;\n",
       "  --sklearn-color-unfitted-level-2: #ffe0b3;\n",
       "  --sklearn-color-unfitted-level-3: chocolate;\n",
       "  /* Definition of color scheme for fitted estimators */\n",
       "  --sklearn-color-fitted-level-0: #f0f8ff;\n",
       "  --sklearn-color-fitted-level-1: #d4ebff;\n",
       "  --sklearn-color-fitted-level-2: #b3dbfd;\n",
       "  --sklearn-color-fitted-level-3: cornflowerblue;\n",
       "\n",
       "  /* Specific color for light theme */\n",
       "  --sklearn-color-text-on-default-background: var(--sg-text-color, var(--theme-code-foreground, var(--jp-content-font-color1, black)));\n",
       "  --sklearn-color-background: var(--sg-background-color, var(--theme-background, var(--jp-layout-color0, white)));\n",
       "  --sklearn-color-border-box: var(--sg-text-color, var(--theme-code-foreground, var(--jp-content-font-color1, black)));\n",
       "  --sklearn-color-icon: #696969;\n",
       "\n",
       "  @media (prefers-color-scheme: dark) {\n",
       "    /* Redefinition of color scheme for dark theme */\n",
       "    --sklearn-color-text-on-default-background: var(--sg-text-color, var(--theme-code-foreground, var(--jp-content-font-color1, white)));\n",
       "    --sklearn-color-background: var(--sg-background-color, var(--theme-background, var(--jp-layout-color0, #111)));\n",
       "    --sklearn-color-border-box: var(--sg-text-color, var(--theme-code-foreground, var(--jp-content-font-color1, white)));\n",
       "    --sklearn-color-icon: #878787;\n",
       "  }\n",
       "}\n",
       "\n",
       "#sk-container-id-7 {\n",
       "  color: var(--sklearn-color-text);\n",
       "}\n",
       "\n",
       "#sk-container-id-7 pre {\n",
       "  padding: 0;\n",
       "}\n",
       "\n",
       "#sk-container-id-7 input.sk-hidden--visually {\n",
       "  border: 0;\n",
       "  clip: rect(1px 1px 1px 1px);\n",
       "  clip: rect(1px, 1px, 1px, 1px);\n",
       "  height: 1px;\n",
       "  margin: -1px;\n",
       "  overflow: hidden;\n",
       "  padding: 0;\n",
       "  position: absolute;\n",
       "  width: 1px;\n",
       "}\n",
       "\n",
       "#sk-container-id-7 div.sk-dashed-wrapped {\n",
       "  border: 1px dashed var(--sklearn-color-line);\n",
       "  margin: 0 0.4em 0.5em 0.4em;\n",
       "  box-sizing: border-box;\n",
       "  padding-bottom: 0.4em;\n",
       "  background-color: var(--sklearn-color-background);\n",
       "}\n",
       "\n",
       "#sk-container-id-7 div.sk-container {\n",
       "  /* jupyter's `normalize.less` sets `[hidden] { display: none; }`\n",
       "     but bootstrap.min.css set `[hidden] { display: none !important; }`\n",
       "     so we also need the `!important` here to be able to override the\n",
       "     default hidden behavior on the sphinx rendered scikit-learn.org.\n",
       "     See: https://github.com/scikit-learn/scikit-learn/issues/21755 */\n",
       "  display: inline-block !important;\n",
       "  position: relative;\n",
       "}\n",
       "\n",
       "#sk-container-id-7 div.sk-text-repr-fallback {\n",
       "  display: none;\n",
       "}\n",
       "\n",
       "div.sk-parallel-item,\n",
       "div.sk-serial,\n",
       "div.sk-item {\n",
       "  /* draw centered vertical line to link estimators */\n",
       "  background-image: linear-gradient(var(--sklearn-color-text-on-default-background), var(--sklearn-color-text-on-default-background));\n",
       "  background-size: 2px 100%;\n",
       "  background-repeat: no-repeat;\n",
       "  background-position: center center;\n",
       "}\n",
       "\n",
       "/* Parallel-specific style estimator block */\n",
       "\n",
       "#sk-container-id-7 div.sk-parallel-item::after {\n",
       "  content: \"\";\n",
       "  width: 100%;\n",
       "  border-bottom: 2px solid var(--sklearn-color-text-on-default-background);\n",
       "  flex-grow: 1;\n",
       "}\n",
       "\n",
       "#sk-container-id-7 div.sk-parallel {\n",
       "  display: flex;\n",
       "  align-items: stretch;\n",
       "  justify-content: center;\n",
       "  background-color: var(--sklearn-color-background);\n",
       "  position: relative;\n",
       "}\n",
       "\n",
       "#sk-container-id-7 div.sk-parallel-item {\n",
       "  display: flex;\n",
       "  flex-direction: column;\n",
       "}\n",
       "\n",
       "#sk-container-id-7 div.sk-parallel-item:first-child::after {\n",
       "  align-self: flex-end;\n",
       "  width: 50%;\n",
       "}\n",
       "\n",
       "#sk-container-id-7 div.sk-parallel-item:last-child::after {\n",
       "  align-self: flex-start;\n",
       "  width: 50%;\n",
       "}\n",
       "\n",
       "#sk-container-id-7 div.sk-parallel-item:only-child::after {\n",
       "  width: 0;\n",
       "}\n",
       "\n",
       "/* Serial-specific style estimator block */\n",
       "\n",
       "#sk-container-id-7 div.sk-serial {\n",
       "  display: flex;\n",
       "  flex-direction: column;\n",
       "  align-items: center;\n",
       "  background-color: var(--sklearn-color-background);\n",
       "  padding-right: 1em;\n",
       "  padding-left: 1em;\n",
       "}\n",
       "\n",
       "\n",
       "/* Toggleable style: style used for estimator/Pipeline/ColumnTransformer box that is\n",
       "clickable and can be expanded/collapsed.\n",
       "- Pipeline and ColumnTransformer use this feature and define the default style\n",
       "- Estimators will overwrite some part of the style using the `sk-estimator` class\n",
       "*/\n",
       "\n",
       "/* Pipeline and ColumnTransformer style (default) */\n",
       "\n",
       "#sk-container-id-7 div.sk-toggleable {\n",
       "  /* Default theme specific background. It is overwritten whether we have a\n",
       "  specific estimator or a Pipeline/ColumnTransformer */\n",
       "  background-color: var(--sklearn-color-background);\n",
       "}\n",
       "\n",
       "/* Toggleable label */\n",
       "#sk-container-id-7 label.sk-toggleable__label {\n",
       "  cursor: pointer;\n",
       "  display: block;\n",
       "  width: 100%;\n",
       "  margin-bottom: 0;\n",
       "  padding: 0.5em;\n",
       "  box-sizing: border-box;\n",
       "  text-align: center;\n",
       "}\n",
       "\n",
       "#sk-container-id-7 label.sk-toggleable__label-arrow:before {\n",
       "  /* Arrow on the left of the label */\n",
       "  content: \"▸\";\n",
       "  float: left;\n",
       "  margin-right: 0.25em;\n",
       "  color: var(--sklearn-color-icon);\n",
       "}\n",
       "\n",
       "#sk-container-id-7 label.sk-toggleable__label-arrow:hover:before {\n",
       "  color: var(--sklearn-color-text);\n",
       "}\n",
       "\n",
       "/* Toggleable content - dropdown */\n",
       "\n",
       "#sk-container-id-7 div.sk-toggleable__content {\n",
       "  max-height: 0;\n",
       "  max-width: 0;\n",
       "  overflow: hidden;\n",
       "  text-align: left;\n",
       "  /* unfitted */\n",
       "  background-color: var(--sklearn-color-unfitted-level-0);\n",
       "}\n",
       "\n",
       "#sk-container-id-7 div.sk-toggleable__content.fitted {\n",
       "  /* fitted */\n",
       "  background-color: var(--sklearn-color-fitted-level-0);\n",
       "}\n",
       "\n",
       "#sk-container-id-7 div.sk-toggleable__content pre {\n",
       "  margin: 0.2em;\n",
       "  border-radius: 0.25em;\n",
       "  color: var(--sklearn-color-text);\n",
       "  /* unfitted */\n",
       "  background-color: var(--sklearn-color-unfitted-level-0);\n",
       "}\n",
       "\n",
       "#sk-container-id-7 div.sk-toggleable__content.fitted pre {\n",
       "  /* unfitted */\n",
       "  background-color: var(--sklearn-color-fitted-level-0);\n",
       "}\n",
       "\n",
       "#sk-container-id-7 input.sk-toggleable__control:checked~div.sk-toggleable__content {\n",
       "  /* Expand drop-down */\n",
       "  max-height: 200px;\n",
       "  max-width: 100%;\n",
       "  overflow: auto;\n",
       "}\n",
       "\n",
       "#sk-container-id-7 input.sk-toggleable__control:checked~label.sk-toggleable__label-arrow:before {\n",
       "  content: \"▾\";\n",
       "}\n",
       "\n",
       "/* Pipeline/ColumnTransformer-specific style */\n",
       "\n",
       "#sk-container-id-7 div.sk-label input.sk-toggleable__control:checked~label.sk-toggleable__label {\n",
       "  color: var(--sklearn-color-text);\n",
       "  background-color: var(--sklearn-color-unfitted-level-2);\n",
       "}\n",
       "\n",
       "#sk-container-id-7 div.sk-label.fitted input.sk-toggleable__control:checked~label.sk-toggleable__label {\n",
       "  background-color: var(--sklearn-color-fitted-level-2);\n",
       "}\n",
       "\n",
       "/* Estimator-specific style */\n",
       "\n",
       "/* Colorize estimator box */\n",
       "#sk-container-id-7 div.sk-estimator input.sk-toggleable__control:checked~label.sk-toggleable__label {\n",
       "  /* unfitted */\n",
       "  background-color: var(--sklearn-color-unfitted-level-2);\n",
       "}\n",
       "\n",
       "#sk-container-id-7 div.sk-estimator.fitted input.sk-toggleable__control:checked~label.sk-toggleable__label {\n",
       "  /* fitted */\n",
       "  background-color: var(--sklearn-color-fitted-level-2);\n",
       "}\n",
       "\n",
       "#sk-container-id-7 div.sk-label label.sk-toggleable__label,\n",
       "#sk-container-id-7 div.sk-label label {\n",
       "  /* The background is the default theme color */\n",
       "  color: var(--sklearn-color-text-on-default-background);\n",
       "}\n",
       "\n",
       "/* On hover, darken the color of the background */\n",
       "#sk-container-id-7 div.sk-label:hover label.sk-toggleable__label {\n",
       "  color: var(--sklearn-color-text);\n",
       "  background-color: var(--sklearn-color-unfitted-level-2);\n",
       "}\n",
       "\n",
       "/* Label box, darken color on hover, fitted */\n",
       "#sk-container-id-7 div.sk-label.fitted:hover label.sk-toggleable__label.fitted {\n",
       "  color: var(--sklearn-color-text);\n",
       "  background-color: var(--sklearn-color-fitted-level-2);\n",
       "}\n",
       "\n",
       "/* Estimator label */\n",
       "\n",
       "#sk-container-id-7 div.sk-label label {\n",
       "  font-family: monospace;\n",
       "  font-weight: bold;\n",
       "  display: inline-block;\n",
       "  line-height: 1.2em;\n",
       "}\n",
       "\n",
       "#sk-container-id-7 div.sk-label-container {\n",
       "  text-align: center;\n",
       "}\n",
       "\n",
       "/* Estimator-specific */\n",
       "#sk-container-id-7 div.sk-estimator {\n",
       "  font-family: monospace;\n",
       "  border: 1px dotted var(--sklearn-color-border-box);\n",
       "  border-radius: 0.25em;\n",
       "  box-sizing: border-box;\n",
       "  margin-bottom: 0.5em;\n",
       "  /* unfitted */\n",
       "  background-color: var(--sklearn-color-unfitted-level-0);\n",
       "}\n",
       "\n",
       "#sk-container-id-7 div.sk-estimator.fitted {\n",
       "  /* fitted */\n",
       "  background-color: var(--sklearn-color-fitted-level-0);\n",
       "}\n",
       "\n",
       "/* on hover */\n",
       "#sk-container-id-7 div.sk-estimator:hover {\n",
       "  /* unfitted */\n",
       "  background-color: var(--sklearn-color-unfitted-level-2);\n",
       "}\n",
       "\n",
       "#sk-container-id-7 div.sk-estimator.fitted:hover {\n",
       "  /* fitted */\n",
       "  background-color: var(--sklearn-color-fitted-level-2);\n",
       "}\n",
       "\n",
       "/* Specification for estimator info (e.g. \"i\" and \"?\") */\n",
       "\n",
       "/* Common style for \"i\" and \"?\" */\n",
       "\n",
       ".sk-estimator-doc-link,\n",
       "a:link.sk-estimator-doc-link,\n",
       "a:visited.sk-estimator-doc-link {\n",
       "  float: right;\n",
       "  font-size: smaller;\n",
       "  line-height: 1em;\n",
       "  font-family: monospace;\n",
       "  background-color: var(--sklearn-color-background);\n",
       "  border-radius: 1em;\n",
       "  height: 1em;\n",
       "  width: 1em;\n",
       "  text-decoration: none !important;\n",
       "  margin-left: 1ex;\n",
       "  /* unfitted */\n",
       "  border: var(--sklearn-color-unfitted-level-1) 1pt solid;\n",
       "  color: var(--sklearn-color-unfitted-level-1);\n",
       "}\n",
       "\n",
       ".sk-estimator-doc-link.fitted,\n",
       "a:link.sk-estimator-doc-link.fitted,\n",
       "a:visited.sk-estimator-doc-link.fitted {\n",
       "  /* fitted */\n",
       "  border: var(--sklearn-color-fitted-level-1) 1pt solid;\n",
       "  color: var(--sklearn-color-fitted-level-1);\n",
       "}\n",
       "\n",
       "/* On hover */\n",
       "div.sk-estimator:hover .sk-estimator-doc-link:hover,\n",
       ".sk-estimator-doc-link:hover,\n",
       "div.sk-label-container:hover .sk-estimator-doc-link:hover,\n",
       ".sk-estimator-doc-link:hover {\n",
       "  /* unfitted */\n",
       "  background-color: var(--sklearn-color-unfitted-level-3);\n",
       "  color: var(--sklearn-color-background);\n",
       "  text-decoration: none;\n",
       "}\n",
       "\n",
       "div.sk-estimator.fitted:hover .sk-estimator-doc-link.fitted:hover,\n",
       ".sk-estimator-doc-link.fitted:hover,\n",
       "div.sk-label-container:hover .sk-estimator-doc-link.fitted:hover,\n",
       ".sk-estimator-doc-link.fitted:hover {\n",
       "  /* fitted */\n",
       "  background-color: var(--sklearn-color-fitted-level-3);\n",
       "  color: var(--sklearn-color-background);\n",
       "  text-decoration: none;\n",
       "}\n",
       "\n",
       "/* Span, style for the box shown on hovering the info icon */\n",
       ".sk-estimator-doc-link span {\n",
       "  display: none;\n",
       "  z-index: 9999;\n",
       "  position: relative;\n",
       "  font-weight: normal;\n",
       "  right: .2ex;\n",
       "  padding: .5ex;\n",
       "  margin: .5ex;\n",
       "  width: min-content;\n",
       "  min-width: 20ex;\n",
       "  max-width: 50ex;\n",
       "  color: var(--sklearn-color-text);\n",
       "  box-shadow: 2pt 2pt 4pt #999;\n",
       "  /* unfitted */\n",
       "  background: var(--sklearn-color-unfitted-level-0);\n",
       "  border: .5pt solid var(--sklearn-color-unfitted-level-3);\n",
       "}\n",
       "\n",
       ".sk-estimator-doc-link.fitted span {\n",
       "  /* fitted */\n",
       "  background: var(--sklearn-color-fitted-level-0);\n",
       "  border: var(--sklearn-color-fitted-level-3);\n",
       "}\n",
       "\n",
       ".sk-estimator-doc-link:hover span {\n",
       "  display: block;\n",
       "}\n",
       "\n",
       "/* \"?\"-specific style due to the `<a>` HTML tag */\n",
       "\n",
       "#sk-container-id-7 a.estimator_doc_link {\n",
       "  float: right;\n",
       "  font-size: 1rem;\n",
       "  line-height: 1em;\n",
       "  font-family: monospace;\n",
       "  background-color: var(--sklearn-color-background);\n",
       "  border-radius: 1rem;\n",
       "  height: 1rem;\n",
       "  width: 1rem;\n",
       "  text-decoration: none;\n",
       "  /* unfitted */\n",
       "  color: var(--sklearn-color-unfitted-level-1);\n",
       "  border: var(--sklearn-color-unfitted-level-1) 1pt solid;\n",
       "}\n",
       "\n",
       "#sk-container-id-7 a.estimator_doc_link.fitted {\n",
       "  /* fitted */\n",
       "  border: var(--sklearn-color-fitted-level-1) 1pt solid;\n",
       "  color: var(--sklearn-color-fitted-level-1);\n",
       "}\n",
       "\n",
       "/* On hover */\n",
       "#sk-container-id-7 a.estimator_doc_link:hover {\n",
       "  /* unfitted */\n",
       "  background-color: var(--sklearn-color-unfitted-level-3);\n",
       "  color: var(--sklearn-color-background);\n",
       "  text-decoration: none;\n",
       "}\n",
       "\n",
       "#sk-container-id-7 a.estimator_doc_link.fitted:hover {\n",
       "  /* fitted */\n",
       "  background-color: var(--sklearn-color-fitted-level-3);\n",
       "}\n",
       "</style><div id=\"sk-container-id-7\" class=\"sk-top-container\"><div class=\"sk-text-repr-fallback\"><pre>XGBClassifier(base_score=None, booster=None, callbacks=None,\n",
       "              colsample_bylevel=None, colsample_bynode=None,\n",
       "              colsample_bytree=None, device=None, early_stopping_rounds=None,\n",
       "              enable_categorical=False, eval_metric=None, feature_types=None,\n",
       "              gamma=None, grow_policy=None, importance_type=None,\n",
       "              interaction_constraints=None, learning_rate=0.04634731817110998,\n",
       "              max_bin=None, max_cat_threshold=None, max_cat_to_onehot=None,\n",
       "              max_delta_step=None, max_depth=7, max_leaves=None,\n",
       "              min_child_weight=None, missing=nan, monotone_constraints=None,\n",
       "              multi_strategy=None, n_estimators=114, n_jobs=None,\n",
       "              num_parallel_tree=None, random_state=None, ...)</pre><b>In a Jupyter environment, please rerun this cell to show the HTML representation or trust the notebook. <br />On GitHub, the HTML representation is unable to render, please try loading this page with nbviewer.org.</b></div><div class=\"sk-container\" hidden><div class=\"sk-item\"><div class=\"sk-estimator fitted sk-toggleable\"><input class=\"sk-toggleable__control sk-hidden--visually\" id=\"sk-estimator-id-7\" type=\"checkbox\" checked><label for=\"sk-estimator-id-7\" class=\"sk-toggleable__label fitted sk-toggleable__label-arrow fitted\">&nbsp;XGBClassifier<span class=\"sk-estimator-doc-link fitted\">i<span>Fitted</span></span></label><div class=\"sk-toggleable__content fitted\"><pre>XGBClassifier(base_score=None, booster=None, callbacks=None,\n",
       "              colsample_bylevel=None, colsample_bynode=None,\n",
       "              colsample_bytree=None, device=None, early_stopping_rounds=None,\n",
       "              enable_categorical=False, eval_metric=None, feature_types=None,\n",
       "              gamma=None, grow_policy=None, importance_type=None,\n",
       "              interaction_constraints=None, learning_rate=0.04634731817110998,\n",
       "              max_bin=None, max_cat_threshold=None, max_cat_to_onehot=None,\n",
       "              max_delta_step=None, max_depth=7, max_leaves=None,\n",
       "              min_child_weight=None, missing=nan, monotone_constraints=None,\n",
       "              multi_strategy=None, n_estimators=114, n_jobs=None,\n",
       "              num_parallel_tree=None, random_state=None, ...)</pre></div> </div></div></div></div>"
      ],
      "text/plain": [
       "XGBClassifier(base_score=None, booster=None, callbacks=None,\n",
       "              colsample_bylevel=None, colsample_bynode=None,\n",
       "              colsample_bytree=None, device=None, early_stopping_rounds=None,\n",
       "              enable_categorical=False, eval_metric=None, feature_types=None,\n",
       "              gamma=None, grow_policy=None, importance_type=None,\n",
       "              interaction_constraints=None, learning_rate=0.04634731817110998,\n",
       "              max_bin=None, max_cat_threshold=None, max_cat_to_onehot=None,\n",
       "              max_delta_step=None, max_depth=7, max_leaves=None,\n",
       "              min_child_weight=None, missing=nan, monotone_constraints=None,\n",
       "              multi_strategy=None, n_estimators=114, n_jobs=None,\n",
       "              num_parallel_tree=None, random_state=None, ...)"
      ]
     },
     "execution_count": 31,
     "metadata": {},
     "output_type": "execute_result"
    }
   ],
   "source": [
    "modelfit(final_model, X_train, y_train,X_test,y_test)"
   ]
  },
  {
   "cell_type": "code",
   "execution_count": 32,
   "id": "e53a62e5",
   "metadata": {},
   "outputs": [
    {
     "name": "stdout",
     "output_type": "stream",
     "text": [
      "\n",
      "Model Report Train\n",
      "AUC Score : 1.000000\n",
      "Accuracy : 1\n",
      "Precision : 1\n",
      "Recall : 1.000000\n",
      "\n",
      "Model Report Test\n",
      "AUC Score : 0.900794\n",
      "Accuracy : 0.8306\n",
      "Precision : 0.282\n",
      "Recall : 0.833333\n"
     ]
    },
    {
     "data": {
      "image/png": "[encoded data removed]",
      "text/plain": [
       "<Figure size 1000x500 with 4 Axes>"
      ]
     },
     "metadata": {},
     "output_type": "display_data"
    },
    {
     "name": "stdout",
     "output_type": "stream",
     "text": [
      "CV Score : Mean - 0.8405321 | Std - 0.04409259 | Min - 0.7777778 | Max - 0.915493\n"
     ]
    },
    {
     "data": {
      "text/html": [
       "<style>#sk-container-id-8 {\n",
       "  /* Definition of color scheme common for light and dark mode */\n",
       "  --sklearn-color-text: black;\n",
       "  --sklearn-color-line: gray;\n",
       "  /* Definition of color scheme for unfitted estimators */\n",
       "  --sklearn-color-unfitted-level-0: #fff5e6;\n",
       "  --sklearn-color-unfitted-level-1: #f6e4d2;\n",
       "  --sklearn-color-unfitted-level-2: #ffe0b3;\n",
       "  --sklearn-color-unfitted-level-3: chocolate;\n",
       "  /* Definition of color scheme for fitted estimators */\n",
       "  --sklearn-color-fitted-level-0: #f0f8ff;\n",
       "  --sklearn-color-fitted-level-1: #d4ebff;\n",
       "  --sklearn-color-fitted-level-2: #b3dbfd;\n",
       "  --sklearn-color-fitted-level-3: cornflowerblue;\n",
       "\n",
       "  /* Specific color for light theme */\n",
       "  --sklearn-color-text-on-default-background: var(--sg-text-color, var(--theme-code-foreground, var(--jp-content-font-color1, black)));\n",
       "  --sklearn-color-background: var(--sg-background-color, var(--theme-background, var(--jp-layout-color0, white)));\n",
       "  --sklearn-color-border-box: var(--sg-text-color, var(--theme-code-foreground, var(--jp-content-font-color1, black)));\n",
       "  --sklearn-color-icon: #696969;\n",
       "\n",
       "  @media (prefers-color-scheme: dark) {\n",
       "    /* Redefinition of color scheme for dark theme */\n",
       "    --sklearn-color-text-on-default-background: var(--sg-text-color, var(--theme-code-foreground, var(--jp-content-font-color1, white)));\n",
       "    --sklearn-color-background: var(--sg-background-color, var(--theme-background, var(--jp-layout-color0, #111)));\n",
       "    --sklearn-color-border-box: var(--sg-text-color, var(--theme-code-foreground, var(--jp-content-font-color1, white)));\n",
       "    --sklearn-color-icon: #878787;\n",
       "  }\n",
       "}\n",
       "\n",
       "#sk-container-id-8 {\n",
       "  color: var(--sklearn-color-text);\n",
       "}\n",
       "\n",
       "#sk-container-id-8 pre {\n",
       "  padding: 0;\n",
       "}\n",
       "\n",
       "#sk-container-id-8 input.sk-hidden--visually {\n",
       "  border: 0;\n",
       "  clip: rect(1px 1px 1px 1px);\n",
       "  clip: rect(1px, 1px, 1px, 1px);\n",
       "  height: 1px;\n",
       "  margin: -1px;\n",
       "  overflow: hidden;\n",
       "  padding: 0;\n",
       "  position: absolute;\n",
       "  width: 1px;\n",
       "}\n",
       "\n",
       "#sk-container-id-8 div.sk-dashed-wrapped {\n",
       "  border: 1px dashed var(--sklearn-color-line);\n",
       "  margin: 0 0.4em 0.5em 0.4em;\n",
       "  box-sizing: border-box;\n",
       "  padding-bottom: 0.4em;\n",
       "  background-color: var(--sklearn-color-background);\n",
       "}\n",
       "\n",
       "#sk-container-id-8 div.sk-container {\n",
       "  /* jupyter's `normalize.less` sets `[hidden] { display: none; }`\n",
       "     but bootstrap.min.css set `[hidden] { display: none !important; }`\n",
       "     so we also need the `!important` here to be able to override the\n",
       "     default hidden behavior on the sphinx rendered scikit-learn.org.\n",
       "     See: https://github.com/scikit-learn/scikit-learn/issues/21755 */\n",
       "  display: inline-block !important;\n",
       "  position: relative;\n",
       "}\n",
       "\n",
       "#sk-container-id-8 div.sk-text-repr-fallback {\n",
       "  display: none;\n",
       "}\n",
       "\n",
       "div.sk-parallel-item,\n",
       "div.sk-serial,\n",
       "div.sk-item {\n",
       "  /* draw centered vertical line to link estimators */\n",
       "  background-image: linear-gradient(var(--sklearn-color-text-on-default-background), var(--sklearn-color-text-on-default-background));\n",
       "  background-size: 2px 100%;\n",
       "  background-repeat: no-repeat;\n",
       "  background-position: center center;\n",
       "}\n",
       "\n",
       "/* Parallel-specific style estimator block */\n",
       "\n",
       "#sk-container-id-8 div.sk-parallel-item::after {\n",
       "  content: \"\";\n",
       "  width: 100%;\n",
       "  border-bottom: 2px solid var(--sklearn-color-text-on-default-background);\n",
       "  flex-grow: 1;\n",
       "}\n",
       "\n",
       "#sk-container-id-8 div.sk-parallel {\n",
       "  display: flex;\n",
       "  align-items: stretch;\n",
       "  justify-content: center;\n",
       "  background-color: var(--sklearn-color-background);\n",
       "  position: relative;\n",
       "}\n",
       "\n",
       "#sk-container-id-8 div.sk-parallel-item {\n",
       "  display: flex;\n",
       "  flex-direction: column;\n",
       "}\n",
       "\n",
       "#sk-container-id-8 div.sk-parallel-item:first-child::after {\n",
       "  align-self: flex-end;\n",
       "  width: 50%;\n",
       "}\n",
       "\n",
       "#sk-container-id-8 div.sk-parallel-item:last-child::after {\n",
       "  align-self: flex-start;\n",
       "  width: 50%;\n",
       "}\n",
       "\n",
       "#sk-container-id-8 div.sk-parallel-item:only-child::after {\n",
       "  width: 0;\n",
       "}\n",
       "\n",
       "/* Serial-specific style estimator block */\n",
       "\n",
       "#sk-container-id-8 div.sk-serial {\n",
       "  display: flex;\n",
       "  flex-direction: column;\n",
       "  align-items: center;\n",
       "  background-color: var(--sklearn-color-background);\n",
       "  padding-right: 1em;\n",
       "  padding-left: 1em;\n",
       "}\n",
       "\n",
       "\n",
       "/* Toggleable style: style used for estimator/Pipeline/ColumnTransformer box that is\n",
       "clickable and can be expanded/collapsed.\n",
       "- Pipeline and ColumnTransformer use this feature and define the default style\n",
       "- Estimators will overwrite some part of the style using the `sk-estimator` class\n",
       "*/\n",
       "\n",
       "/* Pipeline and ColumnTransformer style (default) */\n",
       "\n",
       "#sk-container-id-8 div.sk-toggleable {\n",
       "  /* Default theme specific background. It is overwritten whether we have a\n",
       "  specific estimator or a Pipeline/ColumnTransformer */\n",
       "  background-color: var(--sklearn-color-background);\n",
       "}\n",
       "\n",
       "/* Toggleable label */\n",
       "#sk-container-id-8 label.sk-toggleable__label {\n",
       "  cursor: pointer;\n",
       "  display: block;\n",
       "  width: 100%;\n",
       "  margin-bottom: 0;\n",
       "  padding: 0.5em;\n",
       "  box-sizing: border-box;\n",
       "  text-align: center;\n",
       "}\n",
       "\n",
       "#sk-container-id-8 label.sk-toggleable__label-arrow:before {\n",
       "  /* Arrow on the left of the label */\n",
       "  content: \"▸\";\n",
       "  float: left;\n",
       "  margin-right: 0.25em;\n",
       "  color: var(--sklearn-color-icon);\n",
       "}\n",
       "\n",
       "#sk-container-id-8 label.sk-toggleable__label-arrow:hover:before {\n",
       "  color: var(--sklearn-color-text);\n",
       "}\n",
       "\n",
       "/* Toggleable content - dropdown */\n",
       "\n",
       "#sk-container-id-8 div.sk-toggleable__content {\n",
       "  max-height: 0;\n",
       "  max-width: 0;\n",
       "  overflow: hidden;\n",
       "  text-align: left;\n",
       "  /* unfitted */\n",
       "  background-color: var(--sklearn-color-unfitted-level-0);\n",
       "}\n",
       "\n",
       "#sk-container-id-8 div.sk-toggleable__content.fitted {\n",
       "  /* fitted */\n",
       "  background-color: var(--sklearn-color-fitted-level-0);\n",
       "}\n",
       "\n",
       "#sk-container-id-8 div.sk-toggleable__content pre {\n",
       "  margin: 0.2em;\n",
       "  border-radius: 0.25em;\n",
       "  color: var(--sklearn-color-text);\n",
       "  /* unfitted */\n",
       "  background-color: var(--sklearn-color-unfitted-level-0);\n",
       "}\n",
       "\n",
       "#sk-container-id-8 div.sk-toggleable__content.fitted pre {\n",
       "  /* unfitted */\n",
       "  background-color: var(--sklearn-color-fitted-level-0);\n",
       "}\n",
       "\n",
       "#sk-container-id-8 input.sk-toggleable__control:checked~div.sk-toggleable__content {\n",
       "  /* Expand drop-down */\n",
       "  max-height: 200px;\n",
       "  max-width: 100%;\n",
       "  overflow: auto;\n",
       "}\n",
       "\n",
       "#sk-container-id-8 input.sk-toggleable__control:checked~label.sk-toggleable__label-arrow:before {\n",
       "  content: \"▾\";\n",
       "}\n",
       "\n",
       "/* Pipeline/ColumnTransformer-specific style */\n",
       "\n",
       "#sk-container-id-8 div.sk-label input.sk-toggleable__control:checked~label.sk-toggleable__label {\n",
       "  color: var(--sklearn-color-text);\n",
       "  background-color: var(--sklearn-color-unfitted-level-2);\n",
       "}\n",
       "\n",
       "#sk-container-id-8 div.sk-label.fitted input.sk-toggleable__control:checked~label.sk-toggleable__label {\n",
       "  background-color: var(--sklearn-color-fitted-level-2);\n",
       "}\n",
       "\n",
       "/* Estimator-specific style */\n",
       "\n",
       "/* Colorize estimator box */\n",
       "#sk-container-id-8 div.sk-estimator input.sk-toggleable__control:checked~label.sk-toggleable__label {\n",
       "  /* unfitted */\n",
       "  background-color: var(--sklearn-color-unfitted-level-2);\n",
       "}\n",
       "\n",
       "#sk-container-id-8 div.sk-estimator.fitted input.sk-toggleable__control:checked~label.sk-toggleable__label {\n",
       "  /* fitted */\n",
       "  background-color: var(--sklearn-color-fitted-level-2);\n",
       "}\n",
       "\n",
       "#sk-container-id-8 div.sk-label label.sk-toggleable__label,\n",
       "#sk-container-id-8 div.sk-label label {\n",
       "  /* The background is the default theme color */\n",
       "  color: var(--sklearn-color-text-on-default-background);\n",
       "}\n",
       "\n",
       "/* On hover, darken the color of the background */\n",
       "#sk-container-id-8 div.sk-label:hover label.sk-toggleable__label {\n",
       "  color: var(--sklearn-color-text);\n",
       "  background-color: var(--sklearn-color-unfitted-level-2);\n",
       "}\n",
       "\n",
       "/* Label box, darken color on hover, fitted */\n",
       "#sk-container-id-8 div.sk-label.fitted:hover label.sk-toggleable__label.fitted {\n",
       "  color: var(--sklearn-color-text);\n",
       "  background-color: var(--sklearn-color-fitted-level-2);\n",
       "}\n",
       "\n",
       "/* Estimator label */\n",
       "\n",
       "#sk-container-id-8 div.sk-label label {\n",
       "  font-family: monospace;\n",
       "  font-weight: bold;\n",
       "  display: inline-block;\n",
       "  line-height: 1.2em;\n",
       "}\n",
       "\n",
       "#sk-container-id-8 div.sk-label-container {\n",
       "  text-align: center;\n",
       "}\n",
       "\n",
       "/* Estimator-specific */\n",
       "#sk-container-id-8 div.sk-estimator {\n",
       "  font-family: monospace;\n",
       "  border: 1px dotted var(--sklearn-color-border-box);\n",
       "  border-radius: 0.25em;\n",
       "  box-sizing: border-box;\n",
       "  margin-bottom: 0.5em;\n",
       "  /* unfitted */\n",
       "  background-color: var(--sklearn-color-unfitted-level-0);\n",
       "}\n",
       "\n",
       "#sk-container-id-8 div.sk-estimator.fitted {\n",
       "  /* fitted */\n",
       "  background-color: var(--sklearn-color-fitted-level-0);\n",
       "}\n",
       "\n",
       "/* on hover */\n",
       "#sk-container-id-8 div.sk-estimator:hover {\n",
       "  /* unfitted */\n",
       "  background-color: var(--sklearn-color-unfitted-level-2);\n",
       "}\n",
       "\n",
       "#sk-container-id-8 div.sk-estimator.fitted:hover {\n",
       "  /* fitted */\n",
       "  background-color: var(--sklearn-color-fitted-level-2);\n",
       "}\n",
       "\n",
       "/* Specification for estimator info (e.g. \"i\" and \"?\") */\n",
       "\n",
       "/* Common style for \"i\" and \"?\" */\n",
       "\n",
       ".sk-estimator-doc-link,\n",
       "a:link.sk-estimator-doc-link,\n",
       "a:visited.sk-estimator-doc-link {\n",
       "  float: right;\n",
       "  font-size: smaller;\n",
       "  line-height: 1em;\n",
       "  font-family: monospace;\n",
       "  background-color: var(--sklearn-color-background);\n",
       "  border-radius: 1em;\n",
       "  height: 1em;\n",
       "  width: 1em;\n",
       "  text-decoration: none !important;\n",
       "  margin-left: 1ex;\n",
       "  /* unfitted */\n",
       "  border: var(--sklearn-color-unfitted-level-1) 1pt solid;\n",
       "  color: var(--sklearn-color-unfitted-level-1);\n",
       "}\n",
       "\n",
       ".sk-estimator-doc-link.fitted,\n",
       "a:link.sk-estimator-doc-link.fitted,\n",
       "a:visited.sk-estimator-doc-link.fitted {\n",
       "  /* fitted */\n",
       "  border: var(--sklearn-color-fitted-level-1) 1pt solid;\n",
       "  color: var(--sklearn-color-fitted-level-1);\n",
       "}\n",
       "\n",
       "/* On hover */\n",
       "div.sk-estimator:hover .sk-estimator-doc-link:hover,\n",
       ".sk-estimator-doc-link:hover,\n",
       "div.sk-label-container:hover .sk-estimator-doc-link:hover,\n",
       ".sk-estimator-doc-link:hover {\n",
       "  /* unfitted */\n",
       "  background-color: var(--sklearn-color-unfitted-level-3);\n",
       "  color: var(--sklearn-color-background);\n",
       "  text-decoration: none;\n",
       "}\n",
       "\n",
       "div.sk-estimator.fitted:hover .sk-estimator-doc-link.fitted:hover,\n",
       ".sk-estimator-doc-link.fitted:hover,\n",
       "div.sk-label-container:hover .sk-estimator-doc-link.fitted:hover,\n",
       ".sk-estimator-doc-link.fitted:hover {\n",
       "  /* fitted */\n",
       "  background-color: var(--sklearn-color-fitted-level-3);\n",
       "  color: var(--sklearn-color-background);\n",
       "  text-decoration: none;\n",
       "}\n",
       "\n",
       "/* Span, style for the box shown on hovering the info icon */\n",
       ".sk-estimator-doc-link span {\n",
       "  display: none;\n",
       "  z-index: 9999;\n",
       "  position: relative;\n",
       "  font-weight: normal;\n",
       "  right: .2ex;\n",
       "  padding: .5ex;\n",
       "  margin: .5ex;\n",
       "  width: min-content;\n",
       "  min-width: 20ex;\n",
       "  max-width: 50ex;\n",
       "  color: var(--sklearn-color-text);\n",
       "  box-shadow: 2pt 2pt 4pt #999;\n",
       "  /* unfitted */\n",
       "  background: var(--sklearn-color-unfitted-level-0);\n",
       "  border: .5pt solid var(--sklearn-color-unfitted-level-3);\n",
       "}\n",
       "\n",
       ".sk-estimator-doc-link.fitted span {\n",
       "  /* fitted */\n",
       "  background: var(--sklearn-color-fitted-level-0);\n",
       "  border: var(--sklearn-color-fitted-level-3);\n",
       "}\n",
       "\n",
       ".sk-estimator-doc-link:hover span {\n",
       "  display: block;\n",
       "}\n",
       "\n",
       "/* \"?\"-specific style due to the `<a>` HTML tag */\n",
       "\n",
       "#sk-container-id-8 a.estimator_doc_link {\n",
       "  float: right;\n",
       "  font-size: 1rem;\n",
       "  line-height: 1em;\n",
       "  font-family: monospace;\n",
       "  background-color: var(--sklearn-color-background);\n",
       "  border-radius: 1rem;\n",
       "  height: 1rem;\n",
       "  width: 1rem;\n",
       "  text-decoration: none;\n",
       "  /* unfitted */\n",
       "  color: var(--sklearn-color-unfitted-level-1);\n",
       "  border: var(--sklearn-color-unfitted-level-1) 1pt solid;\n",
       "}\n",
       "\n",
       "#sk-container-id-8 a.estimator_doc_link.fitted {\n",
       "  /* fitted */\n",
       "  border: var(--sklearn-color-fitted-level-1) 1pt solid;\n",
       "  color: var(--sklearn-color-fitted-level-1);\n",
       "}\n",
       "\n",
       "/* On hover */\n",
       "#sk-container-id-8 a.estimator_doc_link:hover {\n",
       "  /* unfitted */\n",
       "  background-color: var(--sklearn-color-unfitted-level-3);\n",
       "  color: var(--sklearn-color-background);\n",
       "  text-decoration: none;\n",
       "}\n",
       "\n",
       "#sk-container-id-8 a.estimator_doc_link.fitted:hover {\n",
       "  /* fitted */\n",
       "  background-color: var(--sklearn-color-fitted-level-3);\n",
       "}\n",
       "</style><div id=\"sk-container-id-8\" class=\"sk-top-container\"><div class=\"sk-text-repr-fallback\"><pre>XGBClassifier(base_score=None, booster=None, callbacks=None,\n",
       "              colsample_bylevel=None, colsample_bynode=None,\n",
       "              colsample_bytree=None, device=None, early_stopping_rounds=None,\n",
       "              enable_categorical=False, eval_metric=None, feature_types=None,\n",
       "              gamma=None, grow_policy=None, importance_type=None,\n",
       "              interaction_constraints=None, learning_rate=0.04634731817110998,\n",
       "              max_bin=None, max_cat_threshold=None, max_cat_to_onehot=None,\n",
       "              max_delta_step=None, max_depth=7, max_leaves=None,\n",
       "              min_child_weight=None, missing=nan, monotone_constraints=None,\n",
       "              multi_strategy=None, n_estimators=114, n_jobs=None,\n",
       "              num_parallel_tree=None, random_state=None, ...)</pre><b>In a Jupyter environment, please rerun this cell to show the HTML representation or trust the notebook. <br />On GitHub, the HTML representation is unable to render, please try loading this page with nbviewer.org.</b></div><div class=\"sk-container\" hidden><div class=\"sk-item\"><div class=\"sk-estimator fitted sk-toggleable\"><input class=\"sk-toggleable__control sk-hidden--visually\" id=\"sk-estimator-id-8\" type=\"checkbox\" checked><label for=\"sk-estimator-id-8\" class=\"sk-toggleable__label fitted sk-toggleable__label-arrow fitted\">&nbsp;XGBClassifier<span class=\"sk-estimator-doc-link fitted\">i<span>Fitted</span></span></label><div class=\"sk-toggleable__content fitted\"><pre>XGBClassifier(base_score=None, booster=None, callbacks=None,\n",
       "              colsample_bylevel=None, colsample_bynode=None,\n",
       "              colsample_bytree=None, device=None, early_stopping_rounds=None,\n",
       "              enable_categorical=False, eval_metric=None, feature_types=None,\n",
       "              gamma=None, grow_policy=None, importance_type=None,\n",
       "              interaction_constraints=None, learning_rate=0.04634731817110998,\n",
       "              max_bin=None, max_cat_threshold=None, max_cat_to_onehot=None,\n",
       "              max_delta_step=None, max_depth=7, max_leaves=None,\n",
       "              min_child_weight=None, missing=nan, monotone_constraints=None,\n",
       "              multi_strategy=None, n_estimators=114, n_jobs=None,\n",
       "              num_parallel_tree=None, random_state=None, ...)</pre></div> </div></div></div></div>"
      ],
      "text/plain": [
       "XGBClassifier(base_score=None, booster=None, callbacks=None,\n",
       "              colsample_bylevel=None, colsample_bynode=None,\n",
       "              colsample_bytree=None, device=None, early_stopping_rounds=None,\n",
       "              enable_categorical=False, eval_metric=None, feature_types=None,\n",
       "              gamma=None, grow_policy=None, importance_type=None,\n",
       "              interaction_constraints=None, learning_rate=0.04634731817110998,\n",
       "              max_bin=None, max_cat_threshold=None, max_cat_to_onehot=None,\n",
       "              max_delta_step=None, max_depth=7, max_leaves=None,\n",
       "              min_child_weight=None, missing=nan, monotone_constraints=None,\n",
       "              multi_strategy=None, n_estimators=114, n_jobs=None,\n",
       "              num_parallel_tree=None, random_state=None, ...)"
      ]
     },
     "execution_count": 32,
     "metadata": {},
     "output_type": "execute_result"
    }
   ],
   "source": [
    "modelfit(final_model, X_train, y_train,X_test_all,y_test_all)"
   ]
  },
  {
   "cell_type": "code",
   "execution_count": 39,
   "id": "5f223251-1e70-4b04-a971-b6ec29448f7f",
   "metadata": {},
   "outputs": [],
   "source": [
    "def modelfit(alg, X_train, y_train, X_test, y_test, printFeatureImportance=True):\n",
    "    with mlflow.start_run():\n",
    "        # Fit the algorithm on the data\n",
    "        alg.fit(X_train, y_train)\n",
    "            \n",
    "        # Predict training set:\n",
    "        dtrain_predictions = alg.predict(X_train)\n",
    "        dtrain_predprob = alg.predict_proba(X_train)[:, 1]\n",
    "\n",
    "        # Predict test set:\n",
    "        dtest_predictions = alg.predict(X_test)\n",
    "        dtest_predprob = alg.predict_proba(X_test)[:, 1]\n",
    "\n",
    "        # Log model parameters\n",
    "        mlflow.log_params(alg.get_params())\n",
    "\n",
    "        # Log metrics for Train\n",
    "        mlflow.log_metric(\"train_auc\", roc_auc_score(y_train, dtrain_predprob))\n",
    "        mlflow.log_metric(\"train_accuracy\", accuracy_score(y_train, dtrain_predictions))\n",
    "        mlflow.log_metric(\"train_precision\", precision_score(y_train, dtrain_predictions))\n",
    "        mlflow.log_metric(\"train_recall\", recall_score(y_train, dtrain_predictions))\n",
    "\n",
    "        # Log metrics for Test\n",
    "        mlflow.log_metric(\"test_auc\", roc_auc_score(y_test, dtest_predprob))\n",
    "        mlflow.log_metric(\"test_accuracy\", accuracy_score(y_test, dtest_predictions))\n",
    "        mlflow.log_metric(\"test_precision\", precision_score(y_test, dtest_predictions))\n",
    "        mlflow.log_metric(\"test_recall\", recall_score(y_test, dtest_predictions))\n",
    "\n",
    "        # Print model report for Train\n",
    "        print(\"\\nModel Report Train\")\n",
    "        print(\"AUC Score : %f\" % roc_auc_score(y_train, dtrain_predprob))\n",
    "        print(\"Accuracy : %.4g\" % accuracy_score(y_train, dtrain_predictions))\n",
    "        print(\"Precision : %.4g\" % precision_score(y_train, dtrain_predictions))\n",
    "        print(\"Recall : %f\" % recall_score(y_train, dtrain_predictions))\n",
    "\n",
    "        # Plot confusion matrix for Train\n",
    "        \n",
    "        #plt.figure(figsize=(10, 5))\n",
    "        #plt.subplot(1, 2, 1)\n",
    "        #sns.heatmap(confusion_matrix(y_train, dtrain_predictions), annot=True, fmt=\"d\", cmap=\"Blues\")\n",
    "        #plt.title(\"Confusion Matrix - Train\")\n",
    "        #plt.xlabel(\"Predicted\")\n",
    "        #plt.ylabel(\"Actual\")\n",
    "\n",
    "        # Log confusion matrix for Train\n",
    "        train_cm = confusion_matrix(y_train, dtrain_predictions)\n",
    "        mlflow.log_artifact(plot_confusion_matrix(train_cm, \"Train\"))\n",
    "\n",
    "        # Print model report for Test\n",
    "        print(\"\\nModel Report Test\")\n",
    "        print(\"AUC Score : %f\" % roc_auc_score(y_test, dtest_predprob))\n",
    "        print(\"Accuracy : %.4g\" % accuracy_score(y_test, dtest_predictions))\n",
    "        print(\"Precision : %.4g\" % precision_score(y_test, dtest_predictions))\n",
    "        print(\"Recall : %f\" % recall_score(y_test, dtest_predictions))\n",
    "\n",
    "        # Plot confusion matrix for Test\n",
    "        #plt.subplot(1, 2, 2)\n",
    "        #sns.heatmap(confusion_matrix(y_test, dtest_predictions), annot=True, fmt=\"d\", cmap=\"Blues\")\n",
    "        #plt.title(\"Confusion Matrix - Test\")\n",
    "        #plt.xlabel(\"Predicted\")\n",
    "        #plt.ylabel(\"Actual\")\n",
    "\n",
    "        # Log confusion matrix for Test\n",
    "        test_cm = confusion_matrix(y_test, dtest_predictions)\n",
    "        mlflow.log_artifact(plot_confusion_matrix(test_cm, \"Test\"))\n",
    "\n",
    "        plt.tight_layout()\n",
    "        plt.show()\n",
    "\n",
    "        # Log the model with input example\n",
    "        input_example = X_train[0:1]   # Use the first row of X_train as an example\n",
    "        mlflow.sklearn.log_model(alg, \"model\", input_example=input_example)\n",
    "        mlflow.log_metric(\"time_cut\", time_cut)\n",
    "    \n",
    "    # Explicitly end the MLflow run\n",
    "    mlflow.end_run()\n",
    "\n",
    "    return alg\n",
    "\n",
    "def plot_confusion_matrix(cm, title):\n",
    "    plt.figure(figsize=(6, 4))\n",
    "    sns.heatmap(cm, annot=True, fmt=\"d\", cmap=\"Blues\")\n",
    "    plt.title(f\"Confusion Matrix - {title}\")\n",
    "    plt.xlabel(\"Predicted\")\n",
    "    plt.ylabel(\"Actual\")\n",
    "    plt.savefig(f\"confusion_matrix_{title}.png\")\n",
    "    plt.close()\n",
    "    return f\"confusion_matrix_{title}.png\""
   ]
  },
  {
   "cell_type": "code",
   "execution_count": 41,
   "id": "4c287b34-a3b5-4681-b1ca-fd0d7c84b560",
   "metadata": {},
   "outputs": [
    {
     "name": "stdout",
     "output_type": "stream",
     "text": [
      "5\n",
      "\n",
      "Model Report Train\n",
      "AUC Score : 0.966160\n",
      "Accuracy : 0.8979\n",
      "Precision : 0.876\n",
      "Recall : 0.927374\n",
      "\n",
      "Model Report Test\n",
      "AUC Score : 0.894450\n",
      "Accuracy : 0.8104\n",
      "Precision : 0.2508\n",
      "Recall : 0.876404\n"
     ]
    },
    {
     "data": {
      "text/plain": [
       "<Figure size 640x480 with 0 Axes>"
      ]
     },
     "metadata": {},
     "output_type": "display_data"
    },
    {
     "name": "stderr",
     "output_type": "stream",
     "text": [
      "/home/azureuser/miniconda3/envs/mastering/lib/python3.12/site-packages/tqdm/auto.py:21: TqdmWarning: IProgress not found. Please update jupyter and ipywidgets. See https://ipywidgets.readthedocs.io/en/stable/user_install.html\n",
      "  from .autonotebook import tqdm as notebook_tqdm\n",
      "Downloading artifacts: 100%|████████████████████████████████████████████████████████████████| 7/7 [00:00<00:00, 791.02it/s]\n"
     ]
    },
    {
     "name": "stdout",
     "output_type": "stream",
     "text": [
      "20\n",
      "\n",
      "Model Report Train\n",
      "AUC Score : 0.963366\n",
      "Accuracy : 0.8853\n",
      "Precision : 0.871\n",
      "Recall : 0.905028\n",
      "\n",
      "Model Report Test\n",
      "AUC Score : 0.897470\n",
      "Accuracy : 0.8252\n",
      "Precision : 0.2687\n",
      "Recall : 0.887640\n"
     ]
    },
    {
     "data": {
      "text/plain": [
       "<Figure size 640x480 with 0 Axes>"
      ]
     },
     "metadata": {},
     "output_type": "display_data"
    },
    {
     "name": "stderr",
     "output_type": "stream",
     "text": [
      "Downloading artifacts: 100%|███████████████████████████████████████████████████████████████| 7/7 [00:00<00:00, 1461.72it/s]\n"
     ]
    },
    {
     "name": "stdout",
     "output_type": "stream",
     "text": [
      "35\n",
      "\n",
      "Model Report Train\n",
      "AUC Score : 0.960088\n",
      "Accuracy : 0.9035\n",
      "Precision : 0.8833\n",
      "Recall : 0.930168\n",
      "\n",
      "Model Report Test\n",
      "AUC Score : 0.915055\n",
      "Accuracy : 0.8081\n",
      "Precision : 0.2516\n",
      "Recall : 0.898876\n"
     ]
    },
    {
     "data": {
      "text/plain": [
       "<Figure size 640x480 with 0 Axes>"
      ]
     },
     "metadata": {},
     "output_type": "display_data"
    },
    {
     "name": "stderr",
     "output_type": "stream",
     "text": [
      "Downloading artifacts: 100%|████████████████████████████████████████████████████████████████| 7/7 [00:00<00:00, 665.16it/s]\n"
     ]
    },
    {
     "name": "stdout",
     "output_type": "stream",
     "text": [
      "50\n",
      "\n",
      "Model Report Train\n",
      "AUC Score : 0.962560\n",
      "Accuracy : 0.8993\n",
      "Precision : 0.8803\n",
      "Recall : 0.924581\n",
      "\n",
      "Model Report Test\n",
      "AUC Score : 0.896569\n",
      "Accuracy : 0.8073\n",
      "Precision : 0.2427\n",
      "Recall : 0.842697\n"
     ]
    },
    {
     "data": {
      "text/plain": [
       "<Figure size 640x480 with 0 Axes>"
      ]
     },
     "metadata": {},
     "output_type": "display_data"
    },
    {
     "name": "stderr",
     "output_type": "stream",
     "text": [
      "Downloading artifacts: 100%|████████████████████████████████████████████████████████████████| 7/7 [00:00<00:00, 762.82it/s]\n"
     ]
    },
    {
     "name": "stdout",
     "output_type": "stream",
     "text": [
      "65\n",
      "\n",
      "Model Report Train\n",
      "AUC Score : 0.958852\n",
      "Accuracy : 0.8881\n",
      "Precision : 0.8639\n",
      "Recall : 0.921788\n",
      "\n",
      "Model Report Test\n",
      "AUC Score : 0.896560\n",
      "Accuracy : 0.7972\n",
      "Precision : 0.2362\n",
      "Recall : 0.865169\n"
     ]
    },
    {
     "data": {
      "text/plain": [
       "<Figure size 640x480 with 0 Axes>"
      ]
     },
     "metadata": {},
     "output_type": "display_data"
    },
    {
     "name": "stderr",
     "output_type": "stream",
     "text": [
      "Downloading artifacts: 100%|███████████████████████████████████████████████████████████████| 7/7 [00:00<00:00, 1096.30it/s]\n"
     ]
    },
    {
     "name": "stdout",
     "output_type": "stream",
     "text": [
      "80\n",
      "\n",
      "Model Report Train\n",
      "AUC Score : 0.958554\n",
      "Accuracy : 0.9021\n",
      "Precision : 0.8892\n",
      "Recall : 0.918994\n",
      "\n",
      "Model Report Test\n",
      "AUC Score : 0.900152\n",
      "Accuracy : 0.8135\n",
      "Precision : 0.2508\n",
      "Recall : 0.853933\n"
     ]
    },
    {
     "data": {
      "text/plain": [
       "<Figure size 640x480 with 0 Axes>"
      ]
     },
     "metadata": {},
     "output_type": "display_data"
    },
    {
     "name": "stderr",
     "output_type": "stream",
     "text": [
      "Downloading artifacts: 100%|███████████████████████████████████████████████████████████████| 7/7 [00:00<00:00, 1376.92it/s]\n"
     ]
    },
    {
     "name": "stdout",
     "output_type": "stream",
     "text": [
      "95\n",
      "\n",
      "Model Report Train\n",
      "AUC Score : 0.968765\n",
      "Accuracy : 0.9021\n",
      "Precision : 0.881\n",
      "Recall : 0.930168\n",
      "\n",
      "Model Report Test\n",
      "AUC Score : 0.890904\n",
      "Accuracy : 0.8174\n",
      "Precision : 0.255\n",
      "Recall : 0.853933\n"
     ]
    },
    {
     "data": {
      "text/plain": [
       "<Figure size 640x480 with 0 Axes>"
      ]
     },
     "metadata": {},
     "output_type": "display_data"
    },
    {
     "name": "stderr",
     "output_type": "stream",
     "text": [
      "Downloading artifacts: 100%|████████████████████████████████████████████████████████████████| 7/7 [00:00<00:00, 586.16it/s]\n"
     ]
    },
    {
     "name": "stdout",
     "output_type": "stream",
     "text": [
      "110\n",
      "\n",
      "Model Report Train\n",
      "AUC Score : 0.958144\n",
      "Accuracy : 0.8881\n",
      "Precision : 0.8737\n",
      "Recall : 0.907821\n",
      "\n",
      "Model Report Test\n",
      "AUC Score : 0.905639\n",
      "Accuracy : 0.8337\n",
      "Precision : 0.2744\n",
      "Recall : 0.853933\n"
     ]
    },
    {
     "data": {
      "text/plain": [
       "<Figure size 640x480 with 0 Axes>"
      ]
     },
     "metadata": {},
     "output_type": "display_data"
    },
    {
     "name": "stderr",
     "output_type": "stream",
     "text": [
      "Downloading artifacts: 100%|████████████████████████████████████████████████████████████████| 7/7 [00:00<00:00, 503.79it/s]\n"
     ]
    },
    {
     "name": "stdout",
     "output_type": "stream",
     "text": [
      "125\n",
      "\n",
      "Model Report Train\n",
      "AUC Score : 0.961027\n",
      "Accuracy : 0.8951\n",
      "Precision : 0.8794\n",
      "Recall : 0.916201\n",
      "\n",
      "Model Report Test\n",
      "AUC Score : 0.902562\n",
      "Accuracy : 0.8221\n",
      "Precision : 0.2603\n",
      "Recall : 0.853933\n"
     ]
    },
    {
     "data": {
      "text/plain": [
       "<Figure size 640x480 with 0 Axes>"
      ]
     },
     "metadata": {},
     "output_type": "display_data"
    },
    {
     "name": "stderr",
     "output_type": "stream",
     "text": [
      "Downloading artifacts: 100%|████████████████████████████████████████████████████████████████| 7/7 [00:00<00:00, 772.11it/s]\n"
     ]
    },
    {
     "name": "stdout",
     "output_type": "stream",
     "text": [
      "140\n",
      "\n",
      "Model Report Train\n",
      "AUC Score : 0.967916\n",
      "Accuracy : 0.8979\n",
      "Precision : 0.8841\n",
      "Recall : 0.916201\n",
      "\n",
      "Model Report Test\n",
      "AUC Score : 0.903078\n",
      "Accuracy : 0.8197\n",
      "Precision : 0.2593\n",
      "Recall : 0.865169\n"
     ]
    },
    {
     "data": {
      "text/plain": [
       "<Figure size 640x480 with 0 Axes>"
      ]
     },
     "metadata": {},
     "output_type": "display_data"
    },
    {
     "name": "stderr",
     "output_type": "stream",
     "text": [
      "Downloading artifacts: 100%|████████████████████████████████████████████████████████████████| 7/7 [00:00<00:00, 955.95it/s]\n"
     ]
    },
    {
     "name": "stdout",
     "output_type": "stream",
     "text": [
      "155\n",
      "\n",
      "Model Report Train\n",
      "AUC Score : 0.963081\n",
      "Accuracy : 0.8923\n",
      "Precision : 0.8808\n",
      "Recall : 0.907821\n",
      "\n",
      "Model Report Test\n",
      "AUC Score : 0.899289\n",
      "Accuracy : 0.8174\n",
      "Precision : 0.2517\n",
      "Recall : 0.831461\n"
     ]
    },
    {
     "data": {
      "text/plain": [
       "<Figure size 640x480 with 0 Axes>"
      ]
     },
     "metadata": {},
     "output_type": "display_data"
    },
    {
     "name": "stderr",
     "output_type": "stream",
     "text": [
      "Downloading artifacts: 100%|███████████████████████████████████████████████████████████████| 7/7 [00:00<00:00, 1222.27it/s]\n"
     ]
    },
    {
     "name": "stdout",
     "output_type": "stream",
     "text": [
      "170\n",
      "\n",
      "Model Report Train\n",
      "AUC Score : 0.970839\n",
      "Accuracy : 0.8993\n",
      "Precision : 0.8824\n",
      "Recall : 0.921788\n",
      "\n",
      "Model Report Test\n",
      "AUC Score : 0.891101\n",
      "Accuracy : 0.819\n",
      "Precision : 0.2568\n",
      "Recall : 0.853933\n"
     ]
    },
    {
     "data": {
      "text/plain": [
       "<Figure size 640x480 with 0 Axes>"
      ]
     },
     "metadata": {},
     "output_type": "display_data"
    },
    {
     "name": "stderr",
     "output_type": "stream",
     "text": [
      "Downloading artifacts: 100%|████████████████████████████████████████████████████████████████| 7/7 [00:00<00:00, 881.39it/s]\n"
     ]
    },
    {
     "name": "stdout",
     "output_type": "stream",
     "text": [
      "185\n",
      "\n",
      "Model Report Train\n",
      "AUC Score : 0.964337\n",
      "Accuracy : 0.9021\n",
      "Precision : 0.8892\n",
      "Recall : 0.918994\n",
      "\n",
      "Model Report Test\n",
      "AUC Score : 0.902928\n",
      "Accuracy : 0.8159\n",
      "Precision : 0.2517\n",
      "Recall : 0.842697\n"
     ]
    },
    {
     "data": {
      "text/plain": [
       "<Figure size 640x480 with 0 Axes>"
      ]
     },
     "metadata": {},
     "output_type": "display_data"
    },
    {
     "name": "stderr",
     "output_type": "stream",
     "text": [
      "Downloading artifacts: 100%|████████████████████████████████████████████████████████████████| 7/7 [00:00<00:00, 819.04it/s]\n"
     ]
    },
    {
     "name": "stdout",
     "output_type": "stream",
     "text": [
      "200\n",
      "\n",
      "Model Report Train\n",
      "AUC Score : 0.952780\n",
      "Accuracy : 0.8965\n",
      "Precision : 0.8777\n",
      "Recall : 0.921788\n",
      "\n",
      "Model Report Test\n",
      "AUC Score : 0.902741\n",
      "Accuracy : 0.8011\n",
      "Precision : 0.2332\n",
      "Recall : 0.820225\n"
     ]
    },
    {
     "data": {
      "text/plain": [
       "<Figure size 640x480 with 0 Axes>"
      ]
     },
     "metadata": {},
     "output_type": "display_data"
    },
    {
     "name": "stderr",
     "output_type": "stream",
     "text": [
      "Downloading artifacts: 100%|████████████████████████████████████████████████████████████████| 7/7 [00:00<00:00, 855.43it/s]\n"
     ]
    },
    {
     "name": "stdout",
     "output_type": "stream",
     "text": [
      "215\n",
      "\n",
      "Model Report Train\n",
      "AUC Score : 0.958140\n",
      "Accuracy : 0.8811\n",
      "Precision : 0.8509\n",
      "Recall : 0.924581\n",
      "\n",
      "Model Report Test\n",
      "AUC Score : 0.897282\n",
      "Accuracy : 0.8096\n",
      "Precision : 0.2417\n",
      "Recall : 0.820225\n"
     ]
    },
    {
     "data": {
      "text/plain": [
       "<Figure size 640x480 with 0 Axes>"
      ]
     },
     "metadata": {},
     "output_type": "display_data"
    },
    {
     "name": "stderr",
     "output_type": "stream",
     "text": [
      "Downloading artifacts: 100%|████████████████████████████████████████████████████████████████| 7/7 [00:00<00:00, 689.16it/s]\n"
     ]
    },
    {
     "name": "stdout",
     "output_type": "stream",
     "text": [
      "230\n",
      "\n",
      "Model Report Train\n",
      "AUC Score : 0.949486\n",
      "Accuracy : 0.8811\n",
      "Precision : 0.8621\n",
      "Recall : 0.907821\n",
      "\n",
      "Model Report Test\n",
      "AUC Score : 0.912757\n",
      "Accuracy : 0.8446\n",
      "Precision : 0.289\n",
      "Recall : 0.853933\n"
     ]
    },
    {
     "data": {
      "text/plain": [
       "<Figure size 640x480 with 0 Axes>"
      ]
     },
     "metadata": {},
     "output_type": "display_data"
    },
    {
     "name": "stderr",
     "output_type": "stream",
     "text": [
      "Downloading artifacts: 100%|████████████████████████████████████████████████████████████████| 7/7 [00:00<00:00, 521.41it/s]\n"
     ]
    },
    {
     "name": "stdout",
     "output_type": "stream",
     "text": [
      "245\n",
      "\n",
      "Model Report Train\n",
      "AUC Score : 0.966179\n",
      "Accuracy : 0.8979\n",
      "Precision : 0.88\n",
      "Recall : 0.921788\n",
      "\n",
      "Model Report Test\n",
      "AUC Score : 0.895838\n",
      "Accuracy : 0.8143\n",
      "Precision : 0.2533\n",
      "Recall : 0.865169\n"
     ]
    },
    {
     "data": {
      "text/plain": [
       "<Figure size 640x480 with 0 Axes>"
      ]
     },
     "metadata": {},
     "output_type": "display_data"
    },
    {
     "name": "stderr",
     "output_type": "stream",
     "text": [
      "Downloading artifacts: 100%|████████████████████████████████████████████████████████████████| 7/7 [00:00<00:00, 715.73it/s]\n"
     ]
    },
    {
     "name": "stdout",
     "output_type": "stream",
     "text": [
      "260\n",
      "\n",
      "Model Report Train\n",
      "AUC Score : 0.969305\n",
      "Accuracy : 0.9091\n",
      "Precision : 0.8949\n",
      "Recall : 0.927374\n",
      "\n",
      "Model Report Test\n",
      "AUC Score : 0.894806\n",
      "Accuracy : 0.805\n",
      "Precision : 0.2437\n",
      "Recall : 0.865169\n"
     ]
    },
    {
     "data": {
      "text/plain": [
       "<Figure size 640x480 with 0 Axes>"
      ]
     },
     "metadata": {},
     "output_type": "display_data"
    },
    {
     "name": "stderr",
     "output_type": "stream",
     "text": [
      "Downloading artifacts: 100%|███████████████████████████████████████████████████████████████| 7/7 [00:00<00:00, 1582.59it/s]\n"
     ]
    },
    {
     "name": "stdout",
     "output_type": "stream",
     "text": [
      "275\n",
      "\n",
      "Model Report Train\n",
      "AUC Score : 0.961089\n",
      "Accuracy : 0.8937\n",
      "Precision : 0.8852\n",
      "Recall : 0.905028\n",
      "\n",
      "Model Report Test\n",
      "AUC Score : 0.903200\n",
      "Accuracy : 0.8228\n",
      "Precision : 0.2578\n",
      "Recall : 0.831461\n"
     ]
    },
    {
     "data": {
      "text/plain": [
       "<Figure size 640x480 with 0 Axes>"
      ]
     },
     "metadata": {},
     "output_type": "display_data"
    },
    {
     "name": "stderr",
     "output_type": "stream",
     "text": [
      "Downloading artifacts: 100%|████████████████████████████████████████████████████████████████| 7/7 [00:00<00:00, 869.49it/s]\n"
     ]
    },
    {
     "name": "stdout",
     "output_type": "stream",
     "text": [
      "290\n",
      "\n",
      "Model Report Train\n",
      "AUC Score : 0.964884\n",
      "Accuracy : 0.8993\n",
      "Precision : 0.8824\n",
      "Recall : 0.921788\n",
      "\n",
      "Model Report Test\n",
      "AUC Score : 0.893990\n",
      "Accuracy : 0.8112\n",
      "Precision : 0.2416\n",
      "Recall : 0.808989\n"
     ]
    },
    {
     "data": {
      "text/plain": [
       "<Figure size 640x480 with 0 Axes>"
      ]
     },
     "metadata": {},
     "output_type": "display_data"
    },
    {
     "name": "stderr",
     "output_type": "stream",
     "text": [
      "Downloading artifacts: 100%|████████████████████████████████████████████████████████████████| 7/7 [00:00<00:00, 556.14it/s]\n"
     ]
    },
    {
     "name": "stdout",
     "output_type": "stream",
     "text": [
      "305\n",
      "\n",
      "Model Report Train\n",
      "AUC Score : 0.966383\n",
      "Accuracy : 0.9133\n",
      "Precision : 0.9044\n",
      "Recall : 0.924581\n",
      "\n",
      "Model Report Test\n",
      "AUC Score : 0.895256\n",
      "Accuracy : 0.8089\n",
      "Precision : 0.2476\n",
      "Recall : 0.865169\n"
     ]
    },
    {
     "data": {
      "text/plain": [
       "<Figure size 640x480 with 0 Axes>"
      ]
     },
     "metadata": {},
     "output_type": "display_data"
    },
    {
     "name": "stderr",
     "output_type": "stream",
     "text": [
      "Downloading artifacts: 100%|███████████████████████████████████████████████████████████████| 7/7 [00:00<00:00, 1286.43it/s]\n"
     ]
    },
    {
     "name": "stdout",
     "output_type": "stream",
     "text": [
      "320\n",
      "\n",
      "Model Report Train\n",
      "AUC Score : 0.961504\n",
      "Accuracy : 0.8979\n",
      "Precision : 0.8862\n",
      "Recall : 0.913408\n",
      "\n",
      "Model Report Test\n",
      "AUC Score : 0.900133\n",
      "Accuracy : 0.8174\n",
      "Precision : 0.2583\n",
      "Recall : 0.876404\n"
     ]
    },
    {
     "data": {
      "text/plain": [
       "<Figure size 640x480 with 0 Axes>"
      ]
     },
     "metadata": {},
     "output_type": "display_data"
    },
    {
     "name": "stderr",
     "output_type": "stream",
     "text": [
      "Downloading artifacts: 100%|████████████████████████████████████████████████████████████████| 7/7 [00:00<00:00, 850.30it/s]\n"
     ]
    },
    {
     "name": "stdout",
     "output_type": "stream",
     "text": [
      "335\n",
      "\n",
      "Model Report Train\n",
      "AUC Score : 0.961434\n",
      "Accuracy : 0.8839\n",
      "Precision : 0.8706\n",
      "Recall : 0.902235\n",
      "\n",
      "Model Report Test\n",
      "AUC Score : 0.896485\n",
      "Accuracy : 0.8306\n",
      "Precision : 0.2655\n",
      "Recall : 0.820225\n"
     ]
    },
    {
     "data": {
      "text/plain": [
       "<Figure size 640x480 with 0 Axes>"
      ]
     },
     "metadata": {},
     "output_type": "display_data"
    },
    {
     "name": "stderr",
     "output_type": "stream",
     "text": [
      "Downloading artifacts: 100%|████████████████████████████████████████████████████████████████| 7/7 [00:00<00:00, 684.37it/s]\n"
     ]
    },
    {
     "name": "stdout",
     "output_type": "stream",
     "text": [
      "350\n",
      "\n",
      "Model Report Train\n",
      "AUC Score : 0.963128\n",
      "Accuracy : 0.8965\n",
      "Precision : 0.8838\n",
      "Recall : 0.913408\n",
      "\n",
      "Model Report Test\n",
      "AUC Score : 0.904710\n",
      "Accuracy : 0.8197\n",
      "Precision : 0.2609\n",
      "Recall : 0.876404\n"
     ]
    },
    {
     "data": {
      "text/plain": [
       "<Figure size 640x480 with 0 Axes>"
      ]
     },
     "metadata": {},
     "output_type": "display_data"
    },
    {
     "name": "stderr",
     "output_type": "stream",
     "text": [
      "Downloading artifacts: 100%|████████████████████████████████████████████████████████████████| 7/7 [00:00<00:00, 946.95it/s]\n"
     ]
    },
    {
     "name": "stdout",
     "output_type": "stream",
     "text": [
      "365\n",
      "\n",
      "Model Report Train\n",
      "AUC Score : 0.961469\n",
      "Accuracy : 0.9049\n",
      "Precision : 0.8898\n",
      "Recall : 0.924581\n",
      "\n",
      "Model Report Test\n",
      "AUC Score : 0.900302\n",
      "Accuracy : 0.8026\n",
      "Precision : 0.2397\n",
      "Recall : 0.853933\n"
     ]
    },
    {
     "data": {
      "text/plain": [
       "<Figure size 640x480 with 0 Axes>"
      ]
     },
     "metadata": {},
     "output_type": "display_data"
    },
    {
     "name": "stderr",
     "output_type": "stream",
     "text": [
      "Downloading artifacts: 100%|████████████████████████████████████████████████████████████████| 7/7 [00:00<00:00, 748.41it/s]\n"
     ]
    },
    {
     "name": "stdout",
     "output_type": "stream",
     "text": [
      "380\n",
      "\n",
      "Model Report Train\n",
      "AUC Score : 0.964657\n",
      "Accuracy : 0.8993\n",
      "Precision : 0.8865\n",
      "Recall : 0.916201\n",
      "\n",
      "Model Report Test\n",
      "AUC Score : 0.895753\n",
      "Accuracy : 0.8104\n",
      "Precision : 0.2442\n",
      "Recall : 0.831461\n"
     ]
    },
    {
     "data": {
      "text/plain": [
       "<Figure size 640x480 with 0 Axes>"
      ]
     },
     "metadata": {},
     "output_type": "display_data"
    },
    {
     "name": "stderr",
     "output_type": "stream",
     "text": [
      "Downloading artifacts: 100%|████████████████████████████████████████████████████████████████| 7/7 [00:00<00:00, 707.75it/s]\n"
     ]
    },
    {
     "name": "stdout",
     "output_type": "stream",
     "text": [
      "395\n",
      "\n",
      "Model Report Train\n",
      "AUC Score : 0.965498\n",
      "Accuracy : 0.9091\n",
      "Precision : 0.897\n",
      "Recall : 0.924581\n",
      "\n",
      "Model Report Test\n",
      "AUC Score : 0.905489\n",
      "Accuracy : 0.8205\n",
      "Precision : 0.2585\n",
      "Recall : 0.853933\n"
     ]
    },
    {
     "data": {
      "text/plain": [
       "<Figure size 640x480 with 0 Axes>"
      ]
     },
     "metadata": {},
     "output_type": "display_data"
    },
    {
     "name": "stderr",
     "output_type": "stream",
     "text": [
      "Downloading artifacts: 100%|████████████████████████████████████████████████████████████████| 7/7 [00:00<00:00, 994.82it/s]\n"
     ]
    },
    {
     "name": "stdout",
     "output_type": "stream",
     "text": [
      "410\n",
      "\n",
      "Model Report Train\n",
      "AUC Score : 0.964955\n",
      "Accuracy : 0.9077\n",
      "Precision : 0.8967\n",
      "Recall : 0.921788\n",
      "\n",
      "Model Report Test\n",
      "AUC Score : 0.899749\n",
      "Accuracy : 0.819\n",
      "Precision : 0.25\n",
      "Recall : 0.808989\n"
     ]
    },
    {
     "data": {
      "text/plain": [
       "<Figure size 640x480 with 0 Axes>"
      ]
     },
     "metadata": {},
     "output_type": "display_data"
    },
    {
     "name": "stderr",
     "output_type": "stream",
     "text": [
      "Downloading artifacts: 100%|████████████████████████████████████████████████████████████████| 7/7 [00:00<00:00, 446.47it/s]\n"
     ]
    },
    {
     "name": "stdout",
     "output_type": "stream",
     "text": [
      "425\n",
      "\n",
      "Model Report Train\n",
      "AUC Score : 0.959325\n",
      "Accuracy : 0.8839\n",
      "Precision : 0.8647\n",
      "Recall : 0.910615\n",
      "\n",
      "Model Report Test\n",
      "AUC Score : 0.907186\n",
      "Accuracy : 0.8314\n",
      "Precision : 0.2681\n",
      "Recall : 0.831461\n"
     ]
    },
    {
     "data": {
      "text/plain": [
       "<Figure size 640x480 with 0 Axes>"
      ]
     },
     "metadata": {},
     "output_type": "display_data"
    },
    {
     "name": "stderr",
     "output_type": "stream",
     "text": [
      "Downloading artifacts: 100%|████████████████████████████████████████████████████████████████| 7/7 [00:00<00:00, 651.33it/s]\n"
     ]
    },
    {
     "name": "stdout",
     "output_type": "stream",
     "text": [
      "440\n",
      "\n",
      "Model Report Train\n",
      "AUC Score : 0.961942\n",
      "Accuracy : 0.8951\n",
      "Precision : 0.8753\n",
      "Recall : 0.921788\n",
      "\n",
      "Model Report Test\n",
      "AUC Score : 0.902806\n",
      "Accuracy : 0.812\n",
      "Precision : 0.2524\n",
      "Recall : 0.876404\n"
     ]
    },
    {
     "data": {
      "text/plain": [
       "<Figure size 640x480 with 0 Axes>"
      ]
     },
     "metadata": {},
     "output_type": "display_data"
    },
    {
     "name": "stderr",
     "output_type": "stream",
     "text": [
      "Downloading artifacts: 100%|████████████████████████████████████████████████████████████████| 7/7 [00:00<00:00, 656.91it/s]\n"
     ]
    },
    {
     "name": "stdout",
     "output_type": "stream",
     "text": [
      "455\n",
      "\n",
      "Model Report Train\n",
      "AUC Score : 0.963437\n",
      "Accuracy : 0.9105\n",
      "Precision : 0.893\n",
      "Recall : 0.932961\n",
      "\n",
      "Model Report Test\n",
      "AUC Score : 0.887012\n",
      "Accuracy : 0.8065\n",
      "Precision : 0.2333\n",
      "Recall : 0.786517\n"
     ]
    },
    {
     "data": {
      "text/plain": [
       "<Figure size 640x480 with 0 Axes>"
      ]
     },
     "metadata": {},
     "output_type": "display_data"
    },
    {
     "name": "stderr",
     "output_type": "stream",
     "text": [
      "Downloading artifacts: 100%|████████████████████████████████████████████████████████████████| 7/7 [00:00<00:00, 630.32it/s]\n"
     ]
    },
    {
     "name": "stdout",
     "output_type": "stream",
     "text": [
      "470\n",
      "\n",
      "Model Report Train\n",
      "AUC Score : 0.957072\n",
      "Accuracy : 0.8909\n",
      "Precision : 0.8723\n",
      "Recall : 0.916201\n",
      "\n",
      "Model Report Test\n",
      "AUC Score : 0.899983\n",
      "Accuracy : 0.8306\n",
      "Precision : 0.2705\n",
      "Recall : 0.853933\n"
     ]
    },
    {
     "data": {
      "text/plain": [
       "<Figure size 640x480 with 0 Axes>"
      ]
     },
     "metadata": {},
     "output_type": "display_data"
    },
    {
     "name": "stderr",
     "output_type": "stream",
     "text": [
      "Downloading artifacts: 100%|████████████████████████████████████████████████████████████████| 7/7 [00:00<00:00, 601.83it/s]\n"
     ]
    },
    {
     "name": "stdout",
     "output_type": "stream",
     "text": [
      "485\n",
      "\n",
      "Model Report Train\n",
      "AUC Score : 0.963445\n",
      "Accuracy : 0.9077\n",
      "Precision : 0.8925\n",
      "Recall : 0.927374\n",
      "\n",
      "Model Report Test\n",
      "AUC Score : 0.901146\n",
      "Accuracy : 0.8135\n",
      "Precision : 0.2541\n",
      "Recall : 0.876404\n"
     ]
    },
    {
     "data": {
      "text/plain": [
       "<Figure size 640x480 with 0 Axes>"
      ]
     },
     "metadata": {},
     "output_type": "display_data"
    },
    {
     "name": "stderr",
     "output_type": "stream",
     "text": [
      "Downloading artifacts: 100%|████████████████████████████████████████████████████████████████| 7/7 [00:00<00:00, 665.58it/s]\n"
     ]
    },
    {
     "name": "stdout",
     "output_type": "stream",
     "text": [
      "500\n",
      "\n",
      "Model Report Train\n",
      "AUC Score : 0.960194\n",
      "Accuracy : 0.8853\n",
      "Precision : 0.8791\n",
      "Recall : 0.893855\n",
      "\n",
      "Model Report Test\n",
      "AUC Score : 0.897019\n",
      "Accuracy : 0.8213\n",
      "Precision : 0.2594\n",
      "Recall : 0.853933\n"
     ]
    },
    {
     "data": {
      "text/plain": [
       "<Figure size 640x480 with 0 Axes>"
      ]
     },
     "metadata": {},
     "output_type": "display_data"
    },
    {
     "name": "stderr",
     "output_type": "stream",
     "text": [
      "Downloading artifacts: 100%|████████████████████████████████████████████████████████████████| 7/7 [00:00<00:00, 633.28it/s]\n"
     ]
    },
    {
     "name": "stdout",
     "output_type": "stream",
     "text": [
      "515\n",
      "\n",
      "Model Report Train\n",
      "AUC Score : 0.963484\n",
      "Accuracy : 0.9021\n",
      "Precision : 0.885\n",
      "Recall : 0.924581\n",
      "\n",
      "Model Report Test\n",
      "AUC Score : 0.901643\n",
      "Accuracy : 0.8298\n",
      "Precision : 0.2679\n",
      "Recall : 0.842697\n"
     ]
    },
    {
     "data": {
      "text/plain": [
       "<Figure size 640x480 with 0 Axes>"
      ]
     },
     "metadata": {},
     "output_type": "display_data"
    },
    {
     "name": "stderr",
     "output_type": "stream",
     "text": [
      "Downloading artifacts: 100%|████████████████████████████████████████████████████████████████| 7/7 [00:00<00:00, 623.00it/s]\n"
     ]
    },
    {
     "name": "stdout",
     "output_type": "stream",
     "text": [
      "530\n",
      "\n",
      "Model Report Train\n",
      "AUC Score : 0.963460\n",
      "Accuracy : 0.8979\n",
      "Precision : 0.8841\n",
      "Recall : 0.916201\n",
      "\n",
      "Model Report Test\n",
      "AUC Score : 0.898342\n",
      "Accuracy : 0.819\n",
      "Precision : 0.26\n",
      "Recall : 0.876404\n"
     ]
    },
    {
     "data": {
      "text/plain": [
       "<Figure size 640x480 with 0 Axes>"
      ]
     },
     "metadata": {},
     "output_type": "display_data"
    },
    {
     "name": "stderr",
     "output_type": "stream",
     "text": [
      "Downloading artifacts: 100%|████████████████████████████████████████████████████████████████| 7/7 [00:00<00:00, 723.58it/s]\n"
     ]
    },
    {
     "name": "stdout",
     "output_type": "stream",
     "text": [
      "545\n",
      "\n",
      "Model Report Train\n",
      "AUC Score : 0.970307\n",
      "Accuracy : 0.9133\n",
      "Precision : 0.9\n",
      "Recall : 0.930168\n",
      "\n",
      "Model Report Test\n",
      "AUC Score : 0.890520\n",
      "Accuracy : 0.7964\n",
      "Precision : 0.2387\n",
      "Recall : 0.887640\n"
     ]
    },
    {
     "data": {
      "text/plain": [
       "<Figure size 640x480 with 0 Axes>"
      ]
     },
     "metadata": {},
     "output_type": "display_data"
    },
    {
     "name": "stderr",
     "output_type": "stream",
     "text": [
      "Downloading artifacts: 100%|████████████████████████████████████████████████████████████████| 7/7 [00:00<00:00, 693.16it/s]\n"
     ]
    },
    {
     "name": "stdout",
     "output_type": "stream",
     "text": [
      "560\n",
      "\n",
      "Model Report Train\n",
      "AUC Score : 0.966214\n",
      "Accuracy : 0.9161\n",
      "Precision : 0.9027\n",
      "Recall : 0.932961\n",
      "\n",
      "Model Report Test\n",
      "AUC Score : 0.900752\n",
      "Accuracy : 0.791\n",
      "Precision : 0.2305\n",
      "Recall : 0.865169\n"
     ]
    },
    {
     "data": {
      "text/plain": [
       "<Figure size 640x480 with 0 Axes>"
      ]
     },
     "metadata": {},
     "output_type": "display_data"
    },
    {
     "name": "stderr",
     "output_type": "stream",
     "text": [
      "Downloading artifacts: 100%|████████████████████████████████████████████████████████████████| 7/7 [00:00<00:00, 624.92it/s]\n"
     ]
    },
    {
     "name": "stdout",
     "output_type": "stream",
     "text": [
      "575\n",
      "\n",
      "Model Report Train\n",
      "AUC Score : 0.961395\n",
      "Accuracy : 0.8965\n",
      "Precision : 0.8797\n",
      "Recall : 0.918994\n",
      "\n",
      "Model Report Test\n",
      "AUC Score : 0.906914\n",
      "Accuracy : 0.8174\n",
      "Precision : 0.2599\n",
      "Recall : 0.887640\n"
     ]
    },
    {
     "data": {
      "text/plain": [
       "<Figure size 640x480 with 0 Axes>"
      ]
     },
     "metadata": {},
     "output_type": "display_data"
    },
    {
     "name": "stderr",
     "output_type": "stream",
     "text": [
      "Downloading artifacts: 100%|███████████████████████████████████████████████████████████████| 7/7 [00:00<00:00, 1341.63it/s]\n"
     ]
    },
    {
     "name": "stdout",
     "output_type": "stream",
     "text": [
      "590\n",
      "\n",
      "Model Report Train\n",
      "AUC Score : 0.962118\n",
      "Accuracy : 0.8895\n",
      "Precision : 0.876\n",
      "Recall : 0.907821\n",
      "\n",
      "Model Report Test\n",
      "AUC Score : 0.903603\n",
      "Accuracy : 0.8166\n",
      "Precision : 0.259\n",
      "Recall : 0.887640\n"
     ]
    },
    {
     "data": {
      "text/plain": [
       "<Figure size 640x480 with 0 Axes>"
      ]
     },
     "metadata": {},
     "output_type": "display_data"
    },
    {
     "name": "stderr",
     "output_type": "stream",
     "text": [
      "Downloading artifacts: 100%|████████████████████████████████████████████████████████████████| 7/7 [00:00<00:00, 686.53it/s]\n"
     ]
    },
    {
     "name": "stdout",
     "output_type": "stream",
     "text": [
      "605\n",
      "\n",
      "Model Report Train\n",
      "AUC Score : 0.959908\n",
      "Accuracy : 0.8909\n",
      "Precision : 0.8684\n",
      "Recall : 0.921788\n",
      "\n",
      "Model Report Test\n",
      "AUC Score : 0.894253\n",
      "Accuracy : 0.8151\n",
      "Precision : 0.2475\n",
      "Recall : 0.820225\n"
     ]
    },
    {
     "data": {
      "text/plain": [
       "<Figure size 640x480 with 0 Axes>"
      ]
     },
     "metadata": {},
     "output_type": "display_data"
    },
    {
     "name": "stderr",
     "output_type": "stream",
     "text": [
      "Downloading artifacts: 100%|███████████████████████████████████████████████████████████████| 7/7 [00:00<00:00, 1296.31it/s]\n"
     ]
    },
    {
     "name": "stdout",
     "output_type": "stream",
     "text": [
      "620\n",
      "\n",
      "Model Report Train\n",
      "AUC Score : 0.960530\n",
      "Accuracy : 0.8881\n",
      "Precision : 0.8717\n",
      "Recall : 0.910615\n",
      "\n",
      "Model Report Test\n",
      "AUC Score : 0.902984\n",
      "Accuracy : 0.8182\n",
      "Precision : 0.2607\n",
      "Recall : 0.887640\n"
     ]
    },
    {
     "data": {
      "text/plain": [
       "<Figure size 640x480 with 0 Axes>"
      ]
     },
     "metadata": {},
     "output_type": "display_data"
    },
    {
     "name": "stderr",
     "output_type": "stream",
     "text": [
      "Downloading artifacts: 100%|████████████████████████████████████████████████████████████████| 7/7 [00:00<00:00, 766.86it/s]\n"
     ]
    },
    {
     "name": "stdout",
     "output_type": "stream",
     "text": [
      "635\n",
      "\n",
      "Model Report Train\n",
      "AUC Score : 0.959364\n",
      "Accuracy : 0.8937\n",
      "Precision : 0.877\n",
      "Recall : 0.916201\n",
      "\n",
      "Model Report Test\n",
      "AUC Score : 0.898098\n",
      "Accuracy : 0.8252\n",
      "Precision : 0.2589\n",
      "Recall : 0.820225\n"
     ]
    },
    {
     "data": {
      "text/plain": [
       "<Figure size 640x480 with 0 Axes>"
      ]
     },
     "metadata": {},
     "output_type": "display_data"
    },
    {
     "name": "stderr",
     "output_type": "stream",
     "text": [
      "Downloading artifacts: 100%|████████████████████████████████████████████████████████████████| 7/7 [00:00<00:00, 648.90it/s]\n"
     ]
    },
    {
     "name": "stdout",
     "output_type": "stream",
     "text": [
      "650\n",
      "\n",
      "Model Report Train\n",
      "AUC Score : 0.954771\n",
      "Accuracy : 0.9063\n",
      "Precision : 0.8819\n",
      "Recall : 0.938547\n",
      "\n",
      "Model Report Test\n",
      "AUC Score : 0.892292\n",
      "Accuracy : 0.8011\n",
      "Precision : 0.2431\n",
      "Recall : 0.887640\n"
     ]
    },
    {
     "data": {
      "text/plain": [
       "<Figure size 640x480 with 0 Axes>"
      ]
     },
     "metadata": {},
     "output_type": "display_data"
    },
    {
     "name": "stderr",
     "output_type": "stream",
     "text": [
      "Downloading artifacts: 100%|████████████████████████████████████████████████████████████████| 7/7 [00:00<00:00, 992.50it/s]\n"
     ]
    },
    {
     "name": "stdout",
     "output_type": "stream",
     "text": [
      "665\n",
      "\n",
      "Model Report Train\n",
      "AUC Score : 0.968037\n",
      "Accuracy : 0.8993\n",
      "Precision : 0.8824\n",
      "Recall : 0.921788\n",
      "\n",
      "Model Report Test\n",
      "AUC Score : 0.912673\n",
      "Accuracy : 0.8151\n",
      "Precision : 0.2557\n",
      "Recall : 0.876404\n"
     ]
    },
    {
     "data": {
      "text/plain": [
       "<Figure size 640x480 with 0 Axes>"
      ]
     },
     "metadata": {},
     "output_type": "display_data"
    },
    {
     "name": "stderr",
     "output_type": "stream",
     "text": [
      "Downloading artifacts: 100%|████████████████████████████████████████████████████████████████| 7/7 [00:00<00:00, 595.62it/s]\n"
     ]
    },
    {
     "name": "stdout",
     "output_type": "stream",
     "text": [
      "680\n",
      "\n",
      "Model Report Train\n",
      "AUC Score : 0.963934\n",
      "Accuracy : 0.8951\n",
      "Precision : 0.8794\n",
      "Recall : 0.916201\n",
      "\n",
      "Model Report Test\n",
      "AUC Score : 0.909662\n",
      "Accuracy : 0.8291\n",
      "Precision : 0.2669\n",
      "Recall : 0.842697\n"
     ]
    },
    {
     "data": {
      "text/plain": [
       "<Figure size 640x480 with 0 Axes>"
      ]
     },
     "metadata": {},
     "output_type": "display_data"
    },
    {
     "name": "stderr",
     "output_type": "stream",
     "text": [
      "Downloading artifacts: 100%|████████████████████████████████████████████████████████████████| 7/7 [00:00<00:00, 727.74it/s]\n"
     ]
    },
    {
     "name": "stdout",
     "output_type": "stream",
     "text": [
      "695\n",
      "\n",
      "Model Report Train\n",
      "AUC Score : 0.959055\n",
      "Accuracy : 0.8965\n",
      "Precision : 0.8859\n",
      "Recall : 0.910615\n",
      "\n",
      "Model Report Test\n",
      "AUC Score : 0.895547\n",
      "Accuracy : 0.8166\n",
      "Precision : 0.2558\n",
      "Recall : 0.865169\n"
     ]
    },
    {
     "data": {
      "text/plain": [
       "<Figure size 640x480 with 0 Axes>"
      ]
     },
     "metadata": {},
     "output_type": "display_data"
    },
    {
     "name": "stderr",
     "output_type": "stream",
     "text": [
      "Downloading artifacts: 100%|████████████████████████████████████████████████████████████████| 7/7 [00:00<00:00, 592.16it/s]\n"
     ]
    },
    {
     "name": "stdout",
     "output_type": "stream",
     "text": [
      "710\n",
      "\n",
      "Model Report Train\n",
      "AUC Score : 0.965573\n",
      "Accuracy : 0.9035\n",
      "Precision : 0.8895\n",
      "Recall : 0.921788\n",
      "\n",
      "Model Report Test\n",
      "AUC Score : 0.900311\n",
      "Accuracy : 0.819\n",
      "Precision : 0.2568\n",
      "Recall : 0.853933\n"
     ]
    },
    {
     "data": {
      "text/plain": [
       "<Figure size 640x480 with 0 Axes>"
      ]
     },
     "metadata": {},
     "output_type": "display_data"
    },
    {
     "name": "stderr",
     "output_type": "stream",
     "text": [
      "Downloading artifacts: 100%|████████████████████████████████████████████████████████████████| 7/7 [00:00<00:00, 424.31it/s]\n"
     ]
    },
    {
     "name": "stdout",
     "output_type": "stream",
     "text": [
      "725\n",
      "\n",
      "Model Report Train\n",
      "AUC Score : 0.959728\n",
      "Accuracy : 0.9049\n",
      "Precision : 0.8919\n",
      "Recall : 0.921788\n",
      "\n",
      "Model Report Test\n",
      "AUC Score : 0.907796\n",
      "Accuracy : 0.8159\n",
      "Precision : 0.2517\n",
      "Recall : 0.842697\n"
     ]
    },
    {
     "data": {
      "text/plain": [
       "<Figure size 640x480 with 0 Axes>"
      ]
     },
     "metadata": {},
     "output_type": "display_data"
    },
    {
     "name": "stderr",
     "output_type": "stream",
     "text": [
      "Downloading artifacts: 100%|████████████████████████████████████████████████████████████████| 7/7 [00:00<00:00, 567.17it/s]\n"
     ]
    },
    {
     "name": "stdout",
     "output_type": "stream",
     "text": [
      "740\n",
      "\n",
      "Model Report Train\n",
      "AUC Score : 0.957694\n",
      "Accuracy : 0.8825\n",
      "Precision : 0.8683\n",
      "Recall : 0.902235\n",
      "\n",
      "Model Report Test\n",
      "AUC Score : 0.908555\n",
      "Accuracy : 0.8469\n",
      "Precision : 0.2907\n",
      "Recall : 0.842697\n"
     ]
    },
    {
     "data": {
      "text/plain": [
       "<Figure size 640x480 with 0 Axes>"
      ]
     },
     "metadata": {},
     "output_type": "display_data"
    },
    {
     "name": "stderr",
     "output_type": "stream",
     "text": [
      "Downloading artifacts: 100%|████████████████████████████████████████████████████████████████| 7/7 [00:00<00:00, 661.38it/s]\n"
     ]
    },
    {
     "name": "stdout",
     "output_type": "stream",
     "text": [
      "755\n",
      "\n",
      "Model Report Train\n",
      "AUC Score : 0.960996\n",
      "Accuracy : 0.8951\n",
      "Precision : 0.8835\n",
      "Recall : 0.910615\n",
      "\n",
      "Model Report Test\n",
      "AUC Score : 0.910731\n",
      "Accuracy : 0.8221\n",
      "Precision : 0.2586\n",
      "Recall : 0.842697\n"
     ]
    },
    {
     "data": {
      "text/plain": [
       "<Figure size 640x480 with 0 Axes>"
      ]
     },
     "metadata": {},
     "output_type": "display_data"
    },
    {
     "name": "stderr",
     "output_type": "stream",
     "text": [
      "Downloading artifacts: 100%|███████████████████████████████████████████████████████████████| 7/7 [00:00<00:00, 1290.56it/s]\n"
     ]
    },
    {
     "name": "stdout",
     "output_type": "stream",
     "text": [
      "770\n",
      "\n",
      "Model Report Train\n",
      "AUC Score : 0.964243\n",
      "Accuracy : 0.9049\n",
      "Precision : 0.8877\n",
      "Recall : 0.927374\n",
      "\n",
      "Model Report Test\n",
      "AUC Score : 0.890679\n",
      "Accuracy : 0.8166\n",
      "Precision : 0.2457\n",
      "Recall : 0.797753\n"
     ]
    },
    {
     "data": {
      "text/plain": [
       "<Figure size 640x480 with 0 Axes>"
      ]
     },
     "metadata": {},
     "output_type": "display_data"
    },
    {
     "name": "stderr",
     "output_type": "stream",
     "text": [
      "Downloading artifacts: 100%|███████████████████████████████████████████████████████████████| 7/7 [00:00<00:00, 1136.62it/s]\n"
     ]
    },
    {
     "name": "stdout",
     "output_type": "stream",
     "text": [
      "785\n",
      "\n",
      "Model Report Train\n",
      "AUC Score : 0.964767\n",
      "Accuracy : 0.9021\n",
      "Precision : 0.883\n",
      "Recall : 0.927374\n",
      "\n",
      "Model Report Test\n",
      "AUC Score : 0.910441\n",
      "Accuracy : 0.8228\n",
      "Precision : 0.2676\n",
      "Recall : 0.898876\n"
     ]
    },
    {
     "data": {
      "text/plain": [
       "<Figure size 640x480 with 0 Axes>"
      ]
     },
     "metadata": {},
     "output_type": "display_data"
    },
    {
     "name": "stderr",
     "output_type": "stream",
     "text": [
      "Downloading artifacts: 100%|████████████████████████████████████████████████████████████████| 7/7 [00:00<00:00, 896.11it/s]\n"
     ]
    },
    {
     "name": "stdout",
     "output_type": "stream",
     "text": [
      "800\n",
      "\n",
      "Model Report Train\n",
      "AUC Score : 0.965393\n",
      "Accuracy : 0.8993\n",
      "Precision : 0.8865\n",
      "Recall : 0.916201\n",
      "\n",
      "Model Report Test\n",
      "AUC Score : 0.902900\n",
      "Accuracy : 0.8104\n",
      "Precision : 0.2459\n",
      "Recall : 0.842697\n"
     ]
    },
    {
     "data": {
      "text/plain": [
       "<Figure size 640x480 with 0 Axes>"
      ]
     },
     "metadata": {},
     "output_type": "display_data"
    },
    {
     "name": "stderr",
     "output_type": "stream",
     "text": [
      "Downloading artifacts: 100%|███████████████████████████████████████████████████████████████| 7/7 [00:00<00:00, 1101.94it/s]\n"
     ]
    },
    {
     "name": "stdout",
     "output_type": "stream",
     "text": [
      "815\n",
      "\n",
      "Model Report Train\n",
      "AUC Score : 0.967169\n",
      "Accuracy : 0.9021\n",
      "Precision : 0.875\n",
      "Recall : 0.938547\n",
      "\n",
      "Model Report Test\n",
      "AUC Score : 0.905057\n",
      "Accuracy : 0.8174\n",
      "Precision : 0.2599\n",
      "Recall : 0.887640\n"
     ]
    },
    {
     "data": {
      "text/plain": [
       "<Figure size 640x480 with 0 Axes>"
      ]
     },
     "metadata": {},
     "output_type": "display_data"
    },
    {
     "name": "stderr",
     "output_type": "stream",
     "text": [
      "Downloading artifacts: 100%|███████████████████████████████████████████████████████████████| 7/7 [00:00<00:00, 1268.20it/s]\n"
     ]
    },
    {
     "name": "stdout",
     "output_type": "stream",
     "text": [
      "830\n",
      "\n",
      "Model Report Train\n",
      "AUC Score : 0.967482\n",
      "Accuracy : 0.9119\n",
      "Precision : 0.8997\n",
      "Recall : 0.927374\n",
      "\n",
      "Model Report Test\n",
      "AUC Score : 0.893484\n",
      "Accuracy : 0.7871\n",
      "Precision : 0.2255\n",
      "Recall : 0.853933\n"
     ]
    },
    {
     "data": {
      "text/plain": [
       "<Figure size 640x480 with 0 Axes>"
      ]
     },
     "metadata": {},
     "output_type": "display_data"
    },
    {
     "name": "stderr",
     "output_type": "stream",
     "text": [
      "Downloading artifacts: 100%|████████████████████████████████████████████████████████████████| 7/7 [00:00<00:00, 711.57it/s]\n"
     ]
    },
    {
     "name": "stdout",
     "output_type": "stream",
     "text": [
      "845\n",
      "\n",
      "Model Report Train\n",
      "AUC Score : 0.960315\n",
      "Accuracy : 0.9035\n",
      "Precision : 0.8874\n",
      "Recall : 0.924581\n",
      "\n",
      "Model Report Test\n",
      "AUC Score : 0.912907\n",
      "Accuracy : 0.826\n",
      "Precision : 0.268\n",
      "Recall : 0.876404\n"
     ]
    },
    {
     "data": {
      "text/plain": [
       "<Figure size 640x480 with 0 Axes>"
      ]
     },
     "metadata": {},
     "output_type": "display_data"
    },
    {
     "name": "stderr",
     "output_type": "stream",
     "text": [
      "Downloading artifacts: 100%|████████████████████████████████████████████████████████████████| 7/7 [00:00<00:00, 576.70it/s]\n"
     ]
    },
    {
     "name": "stdout",
     "output_type": "stream",
     "text": [
      "860\n",
      "\n",
      "Model Report Train\n",
      "AUC Score : 0.957643\n",
      "Accuracy : 0.9007\n",
      "Precision : 0.8827\n",
      "Recall : 0.924581\n",
      "\n",
      "Model Report Test\n",
      "AUC Score : 0.905142\n",
      "Accuracy : 0.8127\n",
      "Precision : 0.2483\n",
      "Recall : 0.842697\n"
     ]
    },
    {
     "data": {
      "text/plain": [
       "<Figure size 640x480 with 0 Axes>"
      ]
     },
     "metadata": {},
     "output_type": "display_data"
    },
    {
     "name": "stderr",
     "output_type": "stream",
     "text": [
      "Downloading artifacts: 100%|████████████████████████████████████████████████████████████████| 7/7 [00:00<00:00, 722.57it/s]\n"
     ]
    },
    {
     "name": "stdout",
     "output_type": "stream",
     "text": [
      "875\n",
      "\n",
      "Model Report Train\n",
      "AUC Score : 0.961653\n",
      "Accuracy : 0.8923\n",
      "Precision : 0.8688\n",
      "Recall : 0.924581\n",
      "\n",
      "Model Report Test\n",
      "AUC Score : 0.904180\n",
      "Accuracy : 0.8042\n",
      "Precision : 0.2477\n",
      "Recall : 0.898876\n"
     ]
    },
    {
     "data": {
      "text/plain": [
       "<Figure size 640x480 with 0 Axes>"
      ]
     },
     "metadata": {},
     "output_type": "display_data"
    },
    {
     "name": "stderr",
     "output_type": "stream",
     "text": [
      "Downloading artifacts: 100%|███████████████████████████████████████████████████████████████| 7/7 [00:00<00:00, 1204.72it/s]\n"
     ]
    },
    {
     "name": "stdout",
     "output_type": "stream",
     "text": [
      "890\n",
      "\n",
      "Model Report Train\n",
      "AUC Score : 0.962404\n",
      "Accuracy : 0.8867\n",
      "Precision : 0.8713\n",
      "Recall : 0.907821\n",
      "\n",
      "Model Report Test\n",
      "AUC Score : 0.899008\n",
      "Accuracy : 0.8252\n",
      "Precision : 0.2536\n",
      "Recall : 0.786517\n"
     ]
    },
    {
     "data": {
      "text/plain": [
       "<Figure size 640x480 with 0 Axes>"
      ]
     },
     "metadata": {},
     "output_type": "display_data"
    },
    {
     "name": "stderr",
     "output_type": "stream",
     "text": [
      "Downloading artifacts: 100%|████████████████████████████████████████████████████████████████| 7/7 [00:00<00:00, 662.01it/s]\n"
     ]
    },
    {
     "name": "stdout",
     "output_type": "stream",
     "text": [
      "905\n",
      "\n",
      "Model Report Train\n",
      "AUC Score : 0.960464\n",
      "Accuracy : 0.8965\n",
      "Precision : 0.888\n",
      "Recall : 0.907821\n",
      "\n",
      "Model Report Test\n",
      "AUC Score : 0.892597\n",
      "Accuracy : 0.8228\n",
      "Precision : 0.2561\n",
      "Recall : 0.820225\n"
     ]
    },
    {
     "data": {
      "text/plain": [
       "<Figure size 640x480 with 0 Axes>"
      ]
     },
     "metadata": {},
     "output_type": "display_data"
    },
    {
     "name": "stderr",
     "output_type": "stream",
     "text": [
      "Downloading artifacts: 100%|███████████████████████████████████████████████████████████████| 7/7 [00:00<00:00, 1047.75it/s]\n"
     ]
    },
    {
     "name": "stdout",
     "output_type": "stream",
     "text": [
      "920\n",
      "\n",
      "Model Report Train\n",
      "AUC Score : 0.965655\n",
      "Accuracy : 0.9049\n",
      "Precision : 0.8984\n",
      "Recall : 0.913408\n",
      "\n",
      "Model Report Test\n",
      "AUC Score : 0.894618\n",
      "Accuracy : 0.8057\n",
      "Precision : 0.2378\n",
      "Recall : 0.820225\n"
     ]
    },
    {
     "data": {
      "text/plain": [
       "<Figure size 640x480 with 0 Axes>"
      ]
     },
     "metadata": {},
     "output_type": "display_data"
    },
    {
     "name": "stderr",
     "output_type": "stream",
     "text": [
      "Downloading artifacts: 100%|████████████████████████████████████████████████████████████████| 7/7 [00:00<00:00, 642.27it/s]\n"
     ]
    },
    {
     "name": "stdout",
     "output_type": "stream",
     "text": [
      "935\n",
      "\n",
      "Model Report Train\n",
      "AUC Score : 0.962701\n",
      "Accuracy : 0.8923\n",
      "Precision : 0.8747\n",
      "Recall : 0.916201\n",
      "\n",
      "Model Report Test\n",
      "AUC Score : 0.902243\n",
      "Accuracy : 0.8143\n",
      "Precision : 0.2533\n",
      "Recall : 0.865169\n"
     ]
    },
    {
     "data": {
      "text/plain": [
       "<Figure size 640x480 with 0 Axes>"
      ]
     },
     "metadata": {},
     "output_type": "display_data"
    },
    {
     "name": "stderr",
     "output_type": "stream",
     "text": [
      "Downloading artifacts: 100%|███████████████████████████████████████████████████████████████| 7/7 [00:00<00:00, 1369.15it/s]\n"
     ]
    },
    {
     "name": "stdout",
     "output_type": "stream",
     "text": [
      "950\n",
      "\n",
      "Model Report Train\n",
      "AUC Score : 0.965495\n",
      "Accuracy : 0.9119\n",
      "Precision : 0.9086\n",
      "Recall : 0.916201\n",
      "\n",
      "Model Report Test\n",
      "AUC Score : 0.896157\n",
      "Accuracy : 0.819\n",
      "Precision : 0.2517\n",
      "Recall : 0.820225\n"
     ]
    },
    {
     "data": {
      "text/plain": [
       "<Figure size 640x480 with 0 Axes>"
      ]
     },
     "metadata": {},
     "output_type": "display_data"
    },
    {
     "name": "stderr",
     "output_type": "stream",
     "text": [
      "Downloading artifacts: 100%|████████████████████████████████████████████████████████████████| 7/7 [00:00<00:00, 607.12it/s]\n"
     ]
    },
    {
     "name": "stdout",
     "output_type": "stream",
     "text": [
      "965\n",
      "\n",
      "Model Report Train\n",
      "AUC Score : 0.966809\n",
      "Accuracy : 0.9007\n",
      "Precision : 0.8786\n",
      "Recall : 0.930168\n",
      "\n",
      "Model Report Test\n",
      "AUC Score : 0.896747\n",
      "Accuracy : 0.8205\n",
      "Precision : 0.2535\n",
      "Recall : 0.820225\n"
     ]
    },
    {
     "data": {
      "text/plain": [
       "<Figure size 640x480 with 0 Axes>"
      ]
     },
     "metadata": {},
     "output_type": "display_data"
    },
    {
     "name": "stderr",
     "output_type": "stream",
     "text": [
      "Downloading artifacts: 100%|████████████████████████████████████████████████████████████████| 7/7 [00:00<00:00, 679.41it/s]\n"
     ]
    },
    {
     "name": "stdout",
     "output_type": "stream",
     "text": [
      "980\n",
      "\n",
      "Model Report Train\n",
      "AUC Score : 0.962647\n",
      "Accuracy : 0.9021\n",
      "Precision : 0.883\n",
      "Recall : 0.927374\n",
      "\n",
      "Model Report Test\n",
      "AUC Score : 0.886412\n",
      "Accuracy : 0.8159\n",
      "Precision : 0.2483\n",
      "Recall : 0.820225\n"
     ]
    },
    {
     "data": {
      "text/plain": [
       "<Figure size 640x480 with 0 Axes>"
      ]
     },
     "metadata": {},
     "output_type": "display_data"
    },
    {
     "name": "stderr",
     "output_type": "stream",
     "text": [
      "Downloading artifacts: 100%|████████████████████████████████████████████████████████████████| 7/7 [00:00<00:00, 730.92it/s]\n"
     ]
    },
    {
     "name": "stdout",
     "output_type": "stream",
     "text": [
      "995\n",
      "\n",
      "Model Report Train\n",
      "AUC Score : 0.960620\n",
      "Accuracy : 0.8909\n",
      "Precision : 0.8743\n",
      "Recall : 0.913408\n",
      "\n",
      "Model Report Test\n",
      "AUC Score : 0.893183\n",
      "Accuracy : 0.8151\n",
      "Precision : 0.2541\n",
      "Recall : 0.865169\n"
     ]
    },
    {
     "data": {
      "text/plain": [
       "<Figure size 640x480 with 0 Axes>"
      ]
     },
     "metadata": {},
     "output_type": "display_data"
    },
    {
     "name": "stderr",
     "output_type": "stream",
     "text": [
      "Downloading artifacts: 100%|████████████████████████████████████████████████████████████████| 7/7 [00:00<00:00, 760.21it/s]\n"
     ]
    },
    {
     "name": "stdout",
     "output_type": "stream",
     "text": [
      "1010\n",
      "\n",
      "Model Report Train\n",
      "AUC Score : 0.967106\n",
      "Accuracy : 0.9119\n",
      "Precision : 0.8997\n",
      "Recall : 0.927374\n",
      "\n",
      "Model Report Test\n",
      "AUC Score : 0.900349\n",
      "Accuracy : 0.8151\n",
      "Precision : 0.2492\n",
      "Recall : 0.831461\n"
     ]
    },
    {
     "data": {
      "text/plain": [
       "<Figure size 640x480 with 0 Axes>"
      ]
     },
     "metadata": {},
     "output_type": "display_data"
    },
    {
     "name": "stderr",
     "output_type": "stream",
     "text": [
      "Downloading artifacts: 100%|███████████████████████████████████████████████████████████████| 7/7 [00:00<00:00, 1492.48it/s]\n"
     ]
    },
    {
     "name": "stdout",
     "output_type": "stream",
     "text": [
      "1025\n",
      "\n",
      "Model Report Train\n",
      "AUC Score : 0.966527\n",
      "Accuracy : 0.8881\n",
      "Precision : 0.8777\n",
      "Recall : 0.902235\n",
      "\n",
      "Model Report Test\n",
      "AUC Score : 0.891139\n",
      "Accuracy : 0.8353\n",
      "Precision : 0.2679\n",
      "Recall : 0.797753\n"
     ]
    },
    {
     "data": {
      "text/plain": [
       "<Figure size 640x480 with 0 Axes>"
      ]
     },
     "metadata": {},
     "output_type": "display_data"
    },
    {
     "name": "stderr",
     "output_type": "stream",
     "text": [
      "Downloading artifacts: 100%|███████████████████████████████████████████████████████████████| 7/7 [00:00<00:00, 1380.42it/s]\n"
     ]
    },
    {
     "name": "stdout",
     "output_type": "stream",
     "text": [
      "1040\n",
      "\n",
      "Model Report Train\n",
      "AUC Score : 0.961355\n",
      "Accuracy : 0.8937\n",
      "Precision : 0.8691\n",
      "Recall : 0.927374\n",
      "\n",
      "Model Report Test\n",
      "AUC Score : 0.903219\n",
      "Accuracy : 0.8221\n",
      "Precision : 0.2619\n",
      "Recall : 0.865169\n"
     ]
    },
    {
     "data": {
      "text/plain": [
       "<Figure size 640x480 with 0 Axes>"
      ]
     },
     "metadata": {},
     "output_type": "display_data"
    },
    {
     "name": "stderr",
     "output_type": "stream",
     "text": [
      "Downloading artifacts: 100%|███████████████████████████████████████████████████████████████| 7/7 [00:00<00:00, 1360.90it/s]\n"
     ]
    },
    {
     "name": "stdout",
     "output_type": "stream",
     "text": [
      "1055\n",
      "\n",
      "Model Report Train\n",
      "AUC Score : 0.962040\n",
      "Accuracy : 0.9133\n",
      "Precision : 0.9044\n",
      "Recall : 0.924581\n",
      "\n",
      "Model Report Test\n",
      "AUC Score : 0.900077\n",
      "Accuracy : 0.8306\n",
      "Precision : 0.2671\n",
      "Recall : 0.831461\n"
     ]
    },
    {
     "data": {
      "text/plain": [
       "<Figure size 640x480 with 0 Axes>"
      ]
     },
     "metadata": {},
     "output_type": "display_data"
    },
    {
     "name": "stderr",
     "output_type": "stream",
     "text": [
      "Downloading artifacts: 100%|████████████████████████████████████████████████████████████████| 7/7 [00:00<00:00, 914.96it/s]\n"
     ]
    },
    {
     "name": "stdout",
     "output_type": "stream",
     "text": [
      "1070\n",
      "\n",
      "Model Report Train\n",
      "AUC Score : 0.959493\n",
      "Accuracy : 0.8825\n",
      "Precision : 0.8531\n",
      "Recall : 0.924581\n",
      "\n",
      "Model Report Test\n",
      "AUC Score : 0.897770\n",
      "Accuracy : 0.8159\n",
      "Precision : 0.2483\n",
      "Recall : 0.820225\n"
     ]
    },
    {
     "data": {
      "text/plain": [
       "<Figure size 640x480 with 0 Axes>"
      ]
     },
     "metadata": {},
     "output_type": "display_data"
    },
    {
     "name": "stderr",
     "output_type": "stream",
     "text": [
      "Downloading artifacts: 100%|████████████████████████████████████████████████████████████████| 7/7 [00:00<00:00, 676.75it/s]\n"
     ]
    },
    {
     "name": "stdout",
     "output_type": "stream",
     "text": [
      "1085\n",
      "\n",
      "Model Report Train\n",
      "AUC Score : 0.961696\n",
      "Accuracy : 0.9063\n",
      "Precision : 0.8965\n",
      "Recall : 0.918994\n",
      "\n",
      "Model Report Test\n",
      "AUC Score : 0.903641\n",
      "Accuracy : 0.8275\n",
      "Precision : 0.2667\n",
      "Recall : 0.853933\n"
     ]
    },
    {
     "data": {
      "text/plain": [
       "<Figure size 640x480 with 0 Axes>"
      ]
     },
     "metadata": {},
     "output_type": "display_data"
    },
    {
     "name": "stderr",
     "output_type": "stream",
     "text": [
      "Downloading artifacts: 100%|████████████████████████████████████████████████████████████████| 7/7 [00:00<00:00, 752.19it/s]\n"
     ]
    },
    {
     "name": "stdout",
     "output_type": "stream",
     "text": [
      "1100\n",
      "\n",
      "Model Report Train\n",
      "AUC Score : 0.968812\n",
      "Accuracy : 0.9049\n",
      "Precision : 0.8962\n",
      "Recall : 0.916201\n",
      "\n",
      "Model Report Test\n",
      "AUC Score : 0.904466\n",
      "Accuracy : 0.8345\n",
      "Precision : 0.2754\n",
      "Recall : 0.853933\n"
     ]
    },
    {
     "data": {
      "text/plain": [
       "<Figure size 640x480 with 0 Axes>"
      ]
     },
     "metadata": {},
     "output_type": "display_data"
    },
    {
     "name": "stderr",
     "output_type": "stream",
     "text": [
      "Downloading artifacts: 100%|████████████████████████████████████████████████████████████████| 7/7 [00:00<00:00, 644.19it/s]\n"
     ]
    },
    {
     "name": "stdout",
     "output_type": "stream",
     "text": [
      "1115\n",
      "\n",
      "Model Report Train\n",
      "AUC Score : 0.960424\n",
      "Accuracy : 0.8979\n",
      "Precision : 0.878\n",
      "Recall : 0.924581\n",
      "\n",
      "Model Report Test\n",
      "AUC Score : 0.912429\n",
      "Accuracy : 0.8166\n",
      "Precision : 0.2606\n",
      "Recall : 0.898876\n"
     ]
    },
    {
     "data": {
      "text/plain": [
       "<Figure size 640x480 with 0 Axes>"
      ]
     },
     "metadata": {},
     "output_type": "display_data"
    },
    {
     "name": "stderr",
     "output_type": "stream",
     "text": [
      "Downloading artifacts: 100%|████████████████████████████████████████████████████████████████| 7/7 [00:00<00:00, 914.85it/s]\n"
     ]
    },
    {
     "name": "stdout",
     "output_type": "stream",
     "text": [
      "1130\n",
      "\n",
      "Model Report Train\n",
      "AUC Score : 0.956966\n",
      "Accuracy : 0.8895\n",
      "Precision : 0.872\n",
      "Recall : 0.913408\n",
      "\n",
      "Model Report Test\n",
      "AUC Score : 0.888400\n",
      "Accuracy : 0.8081\n",
      "Precision : 0.2418\n",
      "Recall : 0.831461\n"
     ]
    },
    {
     "data": {
      "text/plain": [
       "<Figure size 640x480 with 0 Axes>"
      ]
     },
     "metadata": {},
     "output_type": "display_data"
    },
    {
     "name": "stderr",
     "output_type": "stream",
     "text": [
      "Downloading artifacts: 100%|████████████████████████████████████████████████████████████████| 7/7 [00:00<00:00, 702.56it/s]\n"
     ]
    },
    {
     "name": "stdout",
     "output_type": "stream",
     "text": [
      "1145\n",
      "\n",
      "Model Report Train\n",
      "AUC Score : 0.962091\n",
      "Accuracy : 0.8923\n",
      "Precision : 0.8688\n",
      "Recall : 0.924581\n",
      "\n",
      "Model Report Test\n",
      "AUC Score : 0.907758\n",
      "Accuracy : 0.8221\n",
      "Precision : 0.2586\n",
      "Recall : 0.842697\n"
     ]
    },
    {
     "data": {
      "text/plain": [
       "<Figure size 640x480 with 0 Axes>"
      ]
     },
     "metadata": {},
     "output_type": "display_data"
    },
    {
     "name": "stderr",
     "output_type": "stream",
     "text": [
      "Downloading artifacts: 100%|███████████████████████████████████████████████████████████████| 7/7 [00:00<00:00, 1297.00it/s]\n"
     ]
    },
    {
     "name": "stdout",
     "output_type": "stream",
     "text": [
      "1160\n",
      "\n",
      "Model Report Train\n",
      "AUC Score : 0.962302\n",
      "Accuracy : 0.9021\n",
      "Precision : 0.883\n",
      "Recall : 0.927374\n",
      "\n",
      "Model Report Test\n",
      "AUC Score : 0.895416\n",
      "Accuracy : 0.8112\n",
      "Precision : 0.2484\n",
      "Recall : 0.853933\n"
     ]
    },
    {
     "data": {
      "text/plain": [
       "<Figure size 640x480 with 0 Axes>"
      ]
     },
     "metadata": {},
     "output_type": "display_data"
    },
    {
     "name": "stderr",
     "output_type": "stream",
     "text": [
      "Downloading artifacts: 100%|████████████████████████████████████████████████████████████████| 7/7 [00:00<00:00, 870.45it/s]\n"
     ]
    },
    {
     "name": "stdout",
     "output_type": "stream",
     "text": [
      "1175\n",
      "\n",
      "Model Report Train\n",
      "AUC Score : 0.963672\n",
      "Accuracy : 0.8965\n",
      "Precision : 0.8717\n",
      "Recall : 0.930168\n",
      "\n",
      "Model Report Test\n",
      "AUC Score : 0.906361\n",
      "Accuracy : 0.8252\n",
      "Precision : 0.2622\n",
      "Recall : 0.842697\n"
     ]
    },
    {
     "data": {
      "text/plain": [
       "<Figure size 640x480 with 0 Axes>"
      ]
     },
     "metadata": {},
     "output_type": "display_data"
    },
    {
     "name": "stderr",
     "output_type": "stream",
     "text": [
      "Downloading artifacts: 100%|████████████████████████████████████████████████████████████████| 7/7 [00:00<00:00, 862.67it/s]\n"
     ]
    },
    {
     "name": "stdout",
     "output_type": "stream",
     "text": [
      "1190\n",
      "\n",
      "Model Report Train\n",
      "AUC Score : 0.966911\n",
      "Accuracy : 0.9119\n",
      "Precision : 0.8912\n",
      "Recall : 0.938547\n",
      "\n",
      "Model Report Test\n",
      "AUC Score : 0.891974\n",
      "Accuracy : 0.8011\n",
      "Precision : 0.2399\n",
      "Recall : 0.865169\n"
     ]
    },
    {
     "data": {
      "text/plain": [
       "<Figure size 640x480 with 0 Axes>"
      ]
     },
     "metadata": {},
     "output_type": "display_data"
    },
    {
     "name": "stderr",
     "output_type": "stream",
     "text": [
      "Downloading artifacts: 100%|████████████████████████████████████████████████████████████████| 7/7 [00:00<00:00, 644.27it/s]\n"
     ]
    },
    {
     "name": "stdout",
     "output_type": "stream",
     "text": [
      "1205\n",
      "\n",
      "Model Report Train\n",
      "AUC Score : 0.966434\n",
      "Accuracy : 0.8993\n",
      "Precision : 0.8803\n",
      "Recall : 0.924581\n",
      "\n",
      "Model Report Test\n",
      "AUC Score : 0.902215\n",
      "Accuracy : 0.8166\n",
      "Precision : 0.2542\n",
      "Recall : 0.853933\n"
     ]
    },
    {
     "data": {
      "text/plain": [
       "<Figure size 640x480 with 0 Axes>"
      ]
     },
     "metadata": {},
     "output_type": "display_data"
    },
    {
     "name": "stderr",
     "output_type": "stream",
     "text": [
      "Downloading artifacts: 100%|████████████████████████████████████████████████████████████████| 7/7 [00:00<00:00, 992.23it/s]\n"
     ]
    },
    {
     "name": "stdout",
     "output_type": "stream",
     "text": [
      "1220\n",
      "\n",
      "Model Report Train\n",
      "AUC Score : 0.960765\n",
      "Accuracy : 0.8923\n",
      "Precision : 0.8747\n",
      "Recall : 0.916201\n",
      "\n",
      "Model Report Test\n",
      "AUC Score : 0.907608\n",
      "Accuracy : 0.8368\n",
      "Precision : 0.2734\n",
      "Recall : 0.820225\n"
     ]
    },
    {
     "data": {
      "text/plain": [
       "<Figure size 640x480 with 0 Axes>"
      ]
     },
     "metadata": {},
     "output_type": "display_data"
    },
    {
     "name": "stderr",
     "output_type": "stream",
     "text": [
      "Downloading artifacts: 100%|████████████████████████████████████████████████████████████████| 7/7 [00:00<00:00, 540.77it/s]\n"
     ]
    },
    {
     "name": "stdout",
     "output_type": "stream",
     "text": [
      "1235\n",
      "\n",
      "Model Report Train\n",
      "AUC Score : 0.973295\n",
      "Accuracy : 0.9231\n",
      "Precision : 0.9268\n",
      "Recall : 0.918994\n",
      "\n",
      "Model Report Test\n",
      "AUC Score : 0.890895\n",
      "Accuracy : 0.7956\n",
      "Precision : 0.2411\n",
      "Recall : 0.910112\n"
     ]
    },
    {
     "data": {
      "text/plain": [
       "<Figure size 640x480 with 0 Axes>"
      ]
     },
     "metadata": {},
     "output_type": "display_data"
    },
    {
     "name": "stderr",
     "output_type": "stream",
     "text": [
      "Downloading artifacts: 100%|████████████████████████████████████████████████████████████████| 7/7 [00:00<00:00, 731.57it/s]\n"
     ]
    },
    {
     "name": "stdout",
     "output_type": "stream",
     "text": [
      "1250\n",
      "\n",
      "Model Report Train\n",
      "AUC Score : 0.963844\n",
      "Accuracy : 0.9049\n",
      "Precision : 0.8962\n",
      "Recall : 0.916201\n",
      "\n",
      "Model Report Test\n",
      "AUC Score : 0.903364\n",
      "Accuracy : 0.819\n",
      "Precision : 0.2551\n",
      "Recall : 0.842697\n"
     ]
    },
    {
     "data": {
      "text/plain": [
       "<Figure size 640x480 with 0 Axes>"
      ]
     },
     "metadata": {},
     "output_type": "display_data"
    },
    {
     "name": "stderr",
     "output_type": "stream",
     "text": [
      "Downloading artifacts: 100%|███████████████████████████████████████████████████████████████| 7/7 [00:00<00:00, 1027.08it/s]\n"
     ]
    },
    {
     "name": "stdout",
     "output_type": "stream",
     "text": [
      "1265\n",
      "\n",
      "Model Report Train\n",
      "AUC Score : 0.965741\n",
      "Accuracy : 0.9035\n",
      "Precision : 0.8959\n",
      "Recall : 0.913408\n",
      "\n",
      "Model Report Test\n",
      "AUC Score : 0.894196\n",
      "Accuracy : 0.8174\n",
      "Precision : 0.2483\n",
      "Recall : 0.808989\n"
     ]
    },
    {
     "data": {
      "text/plain": [
       "<Figure size 640x480 with 0 Axes>"
      ]
     },
     "metadata": {},
     "output_type": "display_data"
    },
    {
     "name": "stderr",
     "output_type": "stream",
     "text": [
      "Downloading artifacts: 100%|████████████████████████████████████████████████████████████████| 7/7 [00:00<00:00, 766.10it/s]\n"
     ]
    },
    {
     "name": "stdout",
     "output_type": "stream",
     "text": [
      "1280\n",
      "\n",
      "Model Report Train\n",
      "AUC Score : 0.964857\n",
      "Accuracy : 0.8993\n",
      "Precision : 0.8824\n",
      "Recall : 0.921788\n",
      "\n",
      "Model Report Test\n",
      "AUC Score : 0.899467\n",
      "Accuracy : 0.8252\n",
      "Precision : 0.2639\n",
      "Recall : 0.853933\n"
     ]
    },
    {
     "data": {
      "text/plain": [
       "<Figure size 640x480 with 0 Axes>"
      ]
     },
     "metadata": {},
     "output_type": "display_data"
    },
    {
     "name": "stderr",
     "output_type": "stream",
     "text": [
      "Downloading artifacts: 100%|████████████████████████████████████████████████████████████████| 7/7 [00:00<00:00, 781.79it/s]\n"
     ]
    },
    {
     "name": "stdout",
     "output_type": "stream",
     "text": [
      "1295\n",
      "\n",
      "Model Report Train\n",
      "AUC Score : 0.967247\n",
      "Accuracy : 0.9077\n",
      "Precision : 0.8946\n",
      "Recall : 0.924581\n",
      "\n",
      "Model Report Test\n",
      "AUC Score : 0.894356\n",
      "Accuracy : 0.8019\n",
      "Precision : 0.2422\n",
      "Recall : 0.876404\n"
     ]
    },
    {
     "data": {
      "text/plain": [
       "<Figure size 640x480 with 0 Axes>"
      ]
     },
     "metadata": {},
     "output_type": "display_data"
    },
    {
     "name": "stderr",
     "output_type": "stream",
     "text": [
      "Downloading artifacts: 100%|████████████████████████████████████████████████████████████████| 7/7 [00:00<00:00, 666.94it/s]\n"
     ]
    },
    {
     "name": "stdout",
     "output_type": "stream",
     "text": [
      "1310\n",
      "\n",
      "Model Report Train\n",
      "AUC Score : 0.972075\n",
      "Accuracy : 0.9147\n",
      "Precision : 0.9091\n",
      "Recall : 0.921788\n",
      "\n",
      "Model Report Test\n",
      "AUC Score : 0.895538\n",
      "Accuracy : 0.8166\n",
      "Precision : 0.2508\n",
      "Recall : 0.831461\n"
     ]
    },
    {
     "data": {
      "text/plain": [
       "<Figure size 640x480 with 0 Axes>"
      ]
     },
     "metadata": {},
     "output_type": "display_data"
    },
    {
     "name": "stderr",
     "output_type": "stream",
     "text": [
      "Downloading artifacts: 100%|████████████████████████████████████████████████████████████████| 7/7 [00:00<00:00, 692.57it/s]\n"
     ]
    },
    {
     "name": "stdout",
     "output_type": "stream",
     "text": [
      "1325\n",
      "\n",
      "Model Report Train\n",
      "AUC Score : 0.967310\n",
      "Accuracy : 0.8993\n",
      "Precision : 0.8803\n",
      "Recall : 0.924581\n",
      "\n",
      "Model Report Test\n",
      "AUC Score : 0.901850\n",
      "Accuracy : 0.8197\n",
      "Precision : 0.264\n",
      "Recall : 0.898876\n"
     ]
    },
    {
     "data": {
      "text/plain": [
       "<Figure size 640x480 with 0 Axes>"
      ]
     },
     "metadata": {},
     "output_type": "display_data"
    },
    {
     "name": "stderr",
     "output_type": "stream",
     "text": [
      "Downloading artifacts: 100%|████████████████████████████████████████████████████████████████| 7/7 [00:00<00:00, 808.53it/s]\n"
     ]
    },
    {
     "name": "stdout",
     "output_type": "stream",
     "text": [
      "1340\n",
      "\n",
      "Model Report Train\n",
      "AUC Score : 0.964626\n",
      "Accuracy : 0.8965\n",
      "Precision : 0.8737\n",
      "Recall : 0.927374\n",
      "\n",
      "Model Report Test\n",
      "AUC Score : 0.906830\n",
      "Accuracy : 0.8197\n",
      "Precision : 0.256\n",
      "Recall : 0.842697\n"
     ]
    },
    {
     "data": {
      "text/plain": [
       "<Figure size 640x480 with 0 Axes>"
      ]
     },
     "metadata": {},
     "output_type": "display_data"
    },
    {
     "name": "stderr",
     "output_type": "stream",
     "text": [
      "Downloading artifacts: 100%|███████████████████████████████████████████████████████████████| 7/7 [00:00<00:00, 1349.64it/s]\n"
     ]
    },
    {
     "name": "stdout",
     "output_type": "stream",
     "text": [
      "1355\n",
      "\n",
      "Model Report Train\n",
      "AUC Score : 0.964501\n",
      "Accuracy : 0.8965\n",
      "Precision : 0.8859\n",
      "Recall : 0.910615\n",
      "\n",
      "Model Report Test\n",
      "AUC Score : 0.892855\n",
      "Accuracy : 0.8267\n",
      "Precision : 0.2607\n",
      "Recall : 0.820225\n"
     ]
    },
    {
     "data": {
      "text/plain": [
       "<Figure size 640x480 with 0 Axes>"
      ]
     },
     "metadata": {},
     "output_type": "display_data"
    },
    {
     "name": "stderr",
     "output_type": "stream",
     "text": [
      "Downloading artifacts: 100%|████████████████████████████████████████████████████████████████| 7/7 [00:00<00:00, 645.42it/s]\n"
     ]
    },
    {
     "name": "stdout",
     "output_type": "stream",
     "text": [
      "1370\n",
      "\n",
      "Model Report Train\n",
      "AUC Score : 0.963609\n",
      "Accuracy : 0.8881\n",
      "Precision : 0.8777\n",
      "Recall : 0.902235\n",
      "\n",
      "Model Report Test\n",
      "AUC Score : 0.911885\n",
      "Accuracy : 0.8267\n",
      "Precision : 0.2607\n",
      "Recall : 0.820225\n"
     ]
    },
    {
     "data": {
      "text/plain": [
       "<Figure size 640x480 with 0 Axes>"
      ]
     },
     "metadata": {},
     "output_type": "display_data"
    },
    {
     "name": "stderr",
     "output_type": "stream",
     "text": [
      "Downloading artifacts: 100%|████████████████████████████████████████████████████████████████| 7/7 [00:00<00:00, 545.82it/s]\n"
     ]
    },
    {
     "name": "stdout",
     "output_type": "stream",
     "text": [
      "1385\n",
      "\n",
      "Model Report Train\n",
      "AUC Score : 0.964157\n",
      "Accuracy : 0.8937\n",
      "Precision : 0.873\n",
      "Recall : 0.921788\n",
      "\n",
      "Model Report Test\n",
      "AUC Score : 0.904532\n",
      "Accuracy : 0.8236\n",
      "Precision : 0.2621\n",
      "Recall : 0.853933\n"
     ]
    },
    {
     "data": {
      "text/plain": [
       "<Figure size 640x480 with 0 Axes>"
      ]
     },
     "metadata": {},
     "output_type": "display_data"
    },
    {
     "name": "stderr",
     "output_type": "stream",
     "text": [
      "Downloading artifacts: 100%|████████████████████████████████████████████████████████████████| 7/7 [00:00<00:00, 842.35it/s]\n"
     ]
    },
    {
     "name": "stdout",
     "output_type": "stream",
     "text": [
      "1400\n",
      "\n",
      "Model Report Train\n",
      "AUC Score : 0.967991\n",
      "Accuracy : 0.8979\n",
      "Precision : 0.8926\n",
      "Recall : 0.905028\n",
      "\n",
      "Model Report Test\n",
      "AUC Score : 0.901559\n",
      "Accuracy : 0.8228\n",
      "Precision : 0.2612\n",
      "Recall : 0.853933\n"
     ]
    },
    {
     "data": {
      "text/plain": [
       "<Figure size 640x480 with 0 Axes>"
      ]
     },
     "metadata": {},
     "output_type": "display_data"
    },
    {
     "name": "stderr",
     "output_type": "stream",
     "text": [
      "Downloading artifacts: 100%|████████████████████████████████████████████████████████████████| 7/7 [00:00<00:00, 799.94it/s]\n"
     ]
    },
    {
     "name": "stdout",
     "output_type": "stream",
     "text": [
      "1415\n",
      "\n",
      "Model Report Train\n",
      "AUC Score : 0.969970\n",
      "Accuracy : 0.9105\n",
      "Precision : 0.9038\n",
      "Recall : 0.918994\n",
      "\n",
      "Model Report Test\n",
      "AUC Score : 0.901821\n",
      "Accuracy : 0.8042\n",
      "Precision : 0.2445\n",
      "Recall : 0.876404\n"
     ]
    },
    {
     "data": {
      "text/plain": [
       "<Figure size 640x480 with 0 Axes>"
      ]
     },
     "metadata": {},
     "output_type": "display_data"
    },
    {
     "name": "stderr",
     "output_type": "stream",
     "text": [
      "Downloading artifacts: 100%|███████████████████████████████████████████████████████████████| 7/7 [00:00<00:00, 1465.00it/s]\n"
     ]
    },
    {
     "name": "stdout",
     "output_type": "stream",
     "text": [
      "1430\n",
      "\n",
      "Model Report Train\n",
      "AUC Score : 0.960241\n",
      "Accuracy : 0.8993\n",
      "Precision : 0.8803\n",
      "Recall : 0.924581\n",
      "\n",
      "Model Report Test\n",
      "AUC Score : 0.905066\n",
      "Accuracy : 0.8291\n",
      "Precision : 0.2686\n",
      "Recall : 0.853933\n"
     ]
    },
    {
     "data": {
      "text/plain": [
       "<Figure size 640x480 with 0 Axes>"
      ]
     },
     "metadata": {},
     "output_type": "display_data"
    },
    {
     "name": "stderr",
     "output_type": "stream",
     "text": [
      "Downloading artifacts: 100%|████████████████████████████████████████████████████████████████| 7/7 [00:00<00:00, 688.93it/s]\n"
     ]
    },
    {
     "name": "stdout",
     "output_type": "stream",
     "text": [
      "1445\n",
      "\n",
      "Model Report Train\n",
      "AUC Score : 0.965792\n",
      "Accuracy : 0.9007\n",
      "Precision : 0.8889\n",
      "Recall : 0.916201\n",
      "\n",
      "Model Report Test\n",
      "AUC Score : 0.904054\n",
      "Accuracy : 0.8135\n",
      "Precision : 0.2557\n",
      "Recall : 0.887640\n"
     ]
    },
    {
     "data": {
      "text/plain": [
       "<Figure size 640x480 with 0 Axes>"
      ]
     },
     "metadata": {},
     "output_type": "display_data"
    },
    {
     "name": "stderr",
     "output_type": "stream",
     "text": [
      "Downloading artifacts: 100%|████████████████████████████████████████████████████████████████| 7/7 [00:00<00:00, 637.76it/s]\n"
     ]
    },
    {
     "name": "stdout",
     "output_type": "stream",
     "text": [
      "1460\n",
      "\n",
      "Model Report Train\n",
      "AUC Score : 0.961089\n",
      "Accuracy : 0.9091\n",
      "Precision : 0.8928\n",
      "Recall : 0.930168\n",
      "\n",
      "Model Report Test\n",
      "AUC Score : 0.893033\n",
      "Accuracy : 0.8143\n",
      "Precision : 0.2533\n",
      "Recall : 0.865169\n"
     ]
    },
    {
     "data": {
      "text/plain": [
       "<Figure size 640x480 with 0 Axes>"
      ]
     },
     "metadata": {},
     "output_type": "display_data"
    },
    {
     "name": "stderr",
     "output_type": "stream",
     "text": [
      "Downloading artifacts: 100%|███████████████████████████████████████████████████████████████| 7/7 [00:00<00:00, 1325.09it/s]\n"
     ]
    },
    {
     "name": "stdout",
     "output_type": "stream",
     "text": [
      "1475\n",
      "\n",
      "Model Report Train\n",
      "AUC Score : 0.965103\n",
      "Accuracy : 0.9035\n",
      "Precision : 0.8813\n",
      "Recall : 0.932961\n",
      "\n",
      "Model Report Test\n",
      "AUC Score : 0.899430\n",
      "Accuracy : 0.8244\n",
      "Precision : 0.2678\n",
      "Recall : 0.887640\n"
     ]
    },
    {
     "data": {
      "text/plain": [
       "<Figure size 640x480 with 0 Axes>"
      ]
     },
     "metadata": {},
     "output_type": "display_data"
    },
    {
     "name": "stderr",
     "output_type": "stream",
     "text": [
      "Downloading artifacts: 100%|████████████████████████████████████████████████████████████████| 7/7 [00:00<00:00, 792.83it/s]\n"
     ]
    },
    {
     "name": "stdout",
     "output_type": "stream",
     "text": [
      "1490\n",
      "\n",
      "Model Report Train\n",
      "AUC Score : 0.967466\n",
      "Accuracy : 0.9063\n",
      "Precision : 0.8943\n",
      "Recall : 0.921788\n",
      "\n",
      "Model Report Test\n",
      "AUC Score : 0.895434\n",
      "Accuracy : 0.8174\n",
      "Precision : 0.255\n",
      "Recall : 0.853933\n"
     ]
    },
    {
     "data": {
      "text/plain": [
       "<Figure size 640x480 with 0 Axes>"
      ]
     },
     "metadata": {},
     "output_type": "display_data"
    },
    {
     "name": "stderr",
     "output_type": "stream",
     "text": [
      "Downloading artifacts: 100%|████████████████████████████████████████████████████████████████| 7/7 [00:00<00:00, 741.85it/s]\n"
     ]
    },
    {
     "name": "stdout",
     "output_type": "stream",
     "text": [
      "1505\n",
      "\n",
      "Model Report Train\n",
      "AUC Score : 0.964000\n",
      "Accuracy : 0.9035\n",
      "Precision : 0.9003\n",
      "Recall : 0.907821\n",
      "\n",
      "Model Report Test\n",
      "AUC Score : 0.891486\n",
      "Accuracy : 0.8213\n",
      "Precision : 0.2626\n",
      "Recall : 0.876404\n"
     ]
    },
    {
     "data": {
      "text/plain": [
       "<Figure size 640x480 with 0 Axes>"
      ]
     },
     "metadata": {},
     "output_type": "display_data"
    },
    {
     "name": "stderr",
     "output_type": "stream",
     "text": [
      "Downloading artifacts: 100%|████████████████████████████████████████████████████████████████| 7/7 [00:00<00:00, 779.84it/s]\n"
     ]
    },
    {
     "name": "stdout",
     "output_type": "stream",
     "text": [
      "1520\n",
      "\n",
      "Model Report Train\n",
      "AUC Score : 0.958644\n",
      "Accuracy : 0.8867\n",
      "Precision : 0.8774\n",
      "Recall : 0.899441\n",
      "\n",
      "Model Report Test\n",
      "AUC Score : 0.907983\n",
      "Accuracy : 0.843\n",
      "Precision : 0.2868\n",
      "Recall : 0.853933\n"
     ]
    },
    {
     "data": {
      "text/plain": [
       "<Figure size 640x480 with 0 Axes>"
      ]
     },
     "metadata": {},
     "output_type": "display_data"
    },
    {
     "name": "stderr",
     "output_type": "stream",
     "text": [
      "Downloading artifacts: 100%|███████████████████████████████████████████████████████████████| 7/7 [00:00<00:00, 1527.34it/s]\n"
     ]
    },
    {
     "name": "stdout",
     "output_type": "stream",
     "text": [
      "1535\n",
      "\n",
      "Model Report Train\n",
      "AUC Score : 0.964039\n",
      "Accuracy : 0.8993\n",
      "Precision : 0.8907\n",
      "Recall : 0.910615\n",
      "\n",
      "Model Report Test\n",
      "AUC Score : 0.897329\n",
      "Accuracy : 0.8213\n",
      "Precision : 0.261\n",
      "Recall : 0.865169\n"
     ]
    },
    {
     "data": {
      "text/plain": [
       "<Figure size 640x480 with 0 Axes>"
      ]
     },
     "metadata": {},
     "output_type": "display_data"
    },
    {
     "name": "stderr",
     "output_type": "stream",
     "text": [
      "Downloading artifacts: 100%|████████████████████████████████████████████████████████████████| 7/7 [00:00<00:00, 820.96it/s]\n"
     ]
    },
    {
     "name": "stdout",
     "output_type": "stream",
     "text": [
      "1550\n",
      "\n",
      "Model Report Train\n",
      "AUC Score : 0.960397\n",
      "Accuracy : 0.8923\n",
      "Precision : 0.8707\n",
      "Recall : 0.921788\n",
      "\n",
      "Model Report Test\n",
      "AUC Score : 0.890979\n",
      "Accuracy : 0.8228\n",
      "Precision : 0.2628\n",
      "Recall : 0.865169\n"
     ]
    },
    {
     "data": {
      "text/plain": [
       "<Figure size 640x480 with 0 Axes>"
      ]
     },
     "metadata": {},
     "output_type": "display_data"
    },
    {
     "name": "stderr",
     "output_type": "stream",
     "text": [
      "Downloading artifacts: 100%|███████████████████████████████████████████████████████████████| 7/7 [00:00<00:00, 1339.85it/s]\n"
     ]
    },
    {
     "name": "stdout",
     "output_type": "stream",
     "text": [
      "1565\n",
      "\n",
      "Model Report Train\n",
      "AUC Score : 0.964125\n",
      "Accuracy : 0.9007\n",
      "Precision : 0.8766\n",
      "Recall : 0.932961\n",
      "\n",
      "Model Report Test\n",
      "AUC Score : 0.890238\n",
      "Accuracy : 0.8081\n",
      "Precision : 0.2367\n",
      "Recall : 0.797753\n"
     ]
    },
    {
     "data": {
      "text/plain": [
       "<Figure size 640x480 with 0 Axes>"
      ]
     },
     "metadata": {},
     "output_type": "display_data"
    },
    {
     "name": "stderr",
     "output_type": "stream",
     "text": [
      "Downloading artifacts: 100%|████████████████████████████████████████████████████████████████| 7/7 [00:00<00:00, 684.80it/s]\n"
     ]
    },
    {
     "name": "stdout",
     "output_type": "stream",
     "text": [
      "1580\n",
      "\n",
      "Model Report Train\n",
      "AUC Score : 0.962905\n",
      "Accuracy : 0.9077\n",
      "Precision : 0.8925\n",
      "Recall : 0.927374\n",
      "\n",
      "Model Report Test\n",
      "AUC Score : 0.894900\n",
      "Accuracy : 0.7995\n",
      "Precision : 0.24\n",
      "Recall : 0.876404\n"
     ]
    },
    {
     "data": {
      "text/plain": [
       "<Figure size 640x480 with 0 Axes>"
      ]
     },
     "metadata": {},
     "output_type": "display_data"
    },
    {
     "name": "stderr",
     "output_type": "stream",
     "text": [
      "Downloading artifacts: 100%|███████████████████████████████████████████████████████████████| 7/7 [00:00<00:00, 1239.24it/s]\n"
     ]
    },
    {
     "name": "stdout",
     "output_type": "stream",
     "text": [
      "1595\n",
      "\n",
      "Model Report Train\n",
      "AUC Score : 0.966434\n",
      "Accuracy : 0.8965\n",
      "Precision : 0.8797\n",
      "Recall : 0.918994\n",
      "\n",
      "Model Report Test\n",
      "AUC Score : 0.892986\n",
      "Accuracy : 0.8026\n",
      "Precision : 0.2347\n",
      "Recall : 0.820225\n"
     ]
    },
    {
     "data": {
      "text/plain": [
       "<Figure size 640x480 with 0 Axes>"
      ]
     },
     "metadata": {},
     "output_type": "display_data"
    },
    {
     "name": "stderr",
     "output_type": "stream",
     "text": [
      "Downloading artifacts: 100%|████████████████████████████████████████████████████████████████| 7/7 [00:00<00:00, 547.51it/s]\n"
     ]
    },
    {
     "name": "stdout",
     "output_type": "stream",
     "text": [
      "1610\n",
      "\n",
      "Model Report Train\n",
      "AUC Score : 0.969884\n",
      "Accuracy : 0.9077\n",
      "Precision : 0.8904\n",
      "Recall : 0.930168\n",
      "\n",
      "Model Report Test\n",
      "AUC Score : 0.892827\n",
      "Accuracy : 0.8003\n",
      "Precision : 0.2391\n",
      "Recall : 0.865169\n"
     ]
    },
    {
     "data": {
      "text/plain": [
       "<Figure size 640x480 with 0 Axes>"
      ]
     },
     "metadata": {},
     "output_type": "display_data"
    },
    {
     "name": "stderr",
     "output_type": "stream",
     "text": [
      "Downloading artifacts: 100%|████████████████████████████████████████████████████████████████| 7/7 [00:00<00:00, 484.89it/s]\n"
     ]
    },
    {
     "name": "stdout",
     "output_type": "stream",
     "text": [
      "1625\n",
      "\n",
      "Model Report Train\n",
      "AUC Score : 0.966762\n",
      "Accuracy : 0.9063\n",
      "Precision : 0.8943\n",
      "Recall : 0.921788\n",
      "\n",
      "Model Report Test\n",
      "AUC Score : 0.896935\n",
      "Accuracy : 0.8065\n",
      "Precision : 0.2436\n",
      "Recall : 0.853933\n"
     ]
    },
    {
     "data": {
      "text/plain": [
       "<Figure size 640x480 with 0 Axes>"
      ]
     },
     "metadata": {},
     "output_type": "display_data"
    },
    {
     "name": "stderr",
     "output_type": "stream",
     "text": [
      "Downloading artifacts: 100%|████████████████████████████████████████████████████████████████| 7/7 [00:00<00:00, 912.23it/s]\n"
     ]
    },
    {
     "name": "stdout",
     "output_type": "stream",
     "text": [
      "1640\n",
      "\n",
      "Model Report Train\n",
      "AUC Score : 0.963116\n",
      "Accuracy : 0.8993\n",
      "Precision : 0.8844\n",
      "Recall : 0.918994\n",
      "\n",
      "Model Report Test\n",
      "AUC Score : 0.894581\n",
      "Accuracy : 0.8065\n",
      "Precision : 0.2436\n",
      "Recall : 0.853933\n"
     ]
    },
    {
     "data": {
      "text/plain": [
       "<Figure size 640x480 with 0 Axes>"
      ]
     },
     "metadata": {},
     "output_type": "display_data"
    },
    {
     "name": "stderr",
     "output_type": "stream",
     "text": [
      "Downloading artifacts: 100%|███████████████████████████████████████████████████████████████| 7/7 [00:00<00:00, 1273.32it/s]\n"
     ]
    },
    {
     "name": "stdout",
     "output_type": "stream",
     "text": [
      "1655\n",
      "\n",
      "Model Report Train\n",
      "AUC Score : 0.973671\n",
      "Accuracy : 0.9189\n",
      "Precision : 0.9076\n",
      "Recall : 0.932961\n",
      "\n",
      "Model Report Test\n",
      "AUC Score : 0.892639\n",
      "Accuracy : 0.812\n",
      "Precision : 0.2508\n",
      "Recall : 0.865169\n"
     ]
    },
    {
     "data": {
      "text/plain": [
       "<Figure size 640x480 with 0 Axes>"
      ]
     },
     "metadata": {},
     "output_type": "display_data"
    },
    {
     "name": "stderr",
     "output_type": "stream",
     "text": [
      "Downloading artifacts: 100%|████████████████████████████████████████████████████████████████| 7/7 [00:00<00:00, 622.21it/s]\n"
     ]
    },
    {
     "name": "stdout",
     "output_type": "stream",
     "text": [
      "1670\n",
      "\n",
      "Model Report Train\n",
      "AUC Score : 0.958805\n",
      "Accuracy : 0.8993\n",
      "Precision : 0.8844\n",
      "Recall : 0.918994\n",
      "\n",
      "Model Report Test\n",
      "AUC Score : 0.904269\n",
      "Accuracy : 0.8306\n",
      "Precision : 0.2768\n",
      "Recall : 0.898876\n"
     ]
    },
    {
     "data": {
      "text/plain": [
       "<Figure size 640x480 with 0 Axes>"
      ]
     },
     "metadata": {},
     "output_type": "display_data"
    },
    {
     "name": "stderr",
     "output_type": "stream",
     "text": [
      "Downloading artifacts: 100%|███████████████████████████████████████████████████████████████| 7/7 [00:00<00:00, 1016.73it/s]\n"
     ]
    },
    {
     "name": "stdout",
     "output_type": "stream",
     "text": [
      "1685\n",
      "\n",
      "Model Report Train\n",
      "AUC Score : 0.967748\n",
      "Accuracy : 0.9105\n",
      "Precision : 0.8952\n",
      "Recall : 0.930168\n",
      "\n",
      "Model Report Test\n",
      "AUC Score : 0.888813\n",
      "Accuracy : 0.8127\n",
      "Precision : 0.25\n",
      "Recall : 0.853933\n"
     ]
    },
    {
     "data": {
      "text/plain": [
       "<Figure size 640x480 with 0 Axes>"
      ]
     },
     "metadata": {},
     "output_type": "display_data"
    },
    {
     "name": "stderr",
     "output_type": "stream",
     "text": [
      "Downloading artifacts: 100%|████████████████████████████████████████████████████████████████| 7/7 [00:00<00:00, 861.61it/s]\n"
     ]
    },
    {
     "name": "stdout",
     "output_type": "stream",
     "text": [
      "1700\n",
      "\n",
      "Model Report Train\n",
      "AUC Score : 0.961942\n",
      "Accuracy : 0.8937\n",
      "Precision : 0.877\n",
      "Recall : 0.916201\n",
      "\n",
      "Model Report Test\n",
      "AUC Score : 0.893258\n",
      "Accuracy : 0.8143\n",
      "Precision : 0.2432\n",
      "Recall : 0.797753\n"
     ]
    },
    {
     "data": {
      "text/plain": [
       "<Figure size 640x480 with 0 Axes>"
      ]
     },
     "metadata": {},
     "output_type": "display_data"
    },
    {
     "name": "stderr",
     "output_type": "stream",
     "text": [
      "Downloading artifacts: 100%|████████████████████████████████████████████████████████████████| 7/7 [00:00<00:00, 805.05it/s]\n"
     ]
    },
    {
     "name": "stdout",
     "output_type": "stream",
     "text": [
      "1715\n",
      "\n",
      "Model Report Train\n",
      "AUC Score : 0.965761\n",
      "Accuracy : 0.9077\n",
      "Precision : 0.8946\n",
      "Recall : 0.924581\n",
      "\n",
      "Model Report Test\n",
      "AUC Score : 0.887228\n",
      "Accuracy : 0.8096\n",
      "Precision : 0.24\n",
      "Recall : 0.808989\n"
     ]
    },
    {
     "data": {
      "text/plain": [
       "<Figure size 640x480 with 0 Axes>"
      ]
     },
     "metadata": {},
     "output_type": "display_data"
    },
    {
     "name": "stderr",
     "output_type": "stream",
     "text": [
      "Downloading artifacts: 100%|████████████████████████████████████████████████████████████████| 7/7 [00:00<00:00, 796.12it/s]\n"
     ]
    },
    {
     "name": "stdout",
     "output_type": "stream",
     "text": [
      "1730\n",
      "\n",
      "Model Report Train\n",
      "AUC Score : 0.961262\n",
      "Accuracy : 0.8937\n",
      "Precision : 0.877\n",
      "Recall : 0.916201\n",
      "\n",
      "Model Report Test\n",
      "AUC Score : 0.904888\n",
      "Accuracy : 0.8182\n",
      "Precision : 0.2559\n",
      "Recall : 0.853933\n"
     ]
    },
    {
     "data": {
      "text/plain": [
       "<Figure size 640x480 with 0 Axes>"
      ]
     },
     "metadata": {},
     "output_type": "display_data"
    },
    {
     "name": "stderr",
     "output_type": "stream",
     "text": [
      "Downloading artifacts: 100%|████████████████████████████████████████████████████████████████| 7/7 [00:00<00:00, 699.47it/s]\n"
     ]
    },
    {
     "name": "stdout",
     "output_type": "stream",
     "text": [
      "1745\n",
      "\n",
      "Model Report Train\n",
      "AUC Score : 0.969266\n",
      "Accuracy : 0.9049\n",
      "Precision : 0.8877\n",
      "Recall : 0.927374\n",
      "\n",
      "Model Report Test\n",
      "AUC Score : 0.898839\n",
      "Accuracy : 0.8135\n",
      "Precision : 0.2508\n",
      "Recall : 0.853933\n"
     ]
    },
    {
     "data": {
      "text/plain": [
       "<Figure size 640x480 with 0 Axes>"
      ]
     },
     "metadata": {},
     "output_type": "display_data"
    },
    {
     "name": "stderr",
     "output_type": "stream",
     "text": [
      "Downloading artifacts: 100%|████████████████████████████████████████████████████████████████| 7/7 [00:00<00:00, 617.86it/s]\n"
     ]
    },
    {
     "name": "stdout",
     "output_type": "stream",
     "text": [
      "1760\n",
      "\n",
      "Model Report Train\n",
      "AUC Score : 0.969360\n",
      "Accuracy : 0.9091\n",
      "Precision : 0.9014\n",
      "Recall : 0.918994\n",
      "\n",
      "Model Report Test\n",
      "AUC Score : 0.897751\n",
      "Accuracy : 0.8127\n",
      "Precision : 0.245\n",
      "Recall : 0.820225\n"
     ]
    },
    {
     "data": {
      "text/plain": [
       "<Figure size 640x480 with 0 Axes>"
      ]
     },
     "metadata": {},
     "output_type": "display_data"
    },
    {
     "name": "stderr",
     "output_type": "stream",
     "text": [
      "Downloading artifacts: 100%|████████████████████████████████████████████████████████████████| 7/7 [00:00<00:00, 615.94it/s]\n"
     ]
    },
    {
     "name": "stdout",
     "output_type": "stream",
     "text": [
      "1775\n",
      "\n",
      "Model Report Train\n",
      "AUC Score : 0.970846\n",
      "Accuracy : 0.9147\n",
      "Precision : 0.9046\n",
      "Recall : 0.927374\n",
      "\n",
      "Model Report Test\n",
      "AUC Score : 0.894909\n",
      "Accuracy : 0.7988\n",
      "Precision : 0.2377\n",
      "Recall : 0.865169\n"
     ]
    },
    {
     "data": {
      "text/plain": [
       "<Figure size 640x480 with 0 Axes>"
      ]
     },
     "metadata": {},
     "output_type": "display_data"
    },
    {
     "name": "stderr",
     "output_type": "stream",
     "text": [
      "Downloading artifacts: 100%|████████████████████████████████████████████████████████████████| 7/7 [00:00<00:00, 955.86it/s]\n"
     ]
    },
    {
     "name": "stdout",
     "output_type": "stream",
     "text": [
      "1790\n",
      "\n",
      "Model Report Train\n",
      "AUC Score : 0.960573\n",
      "Accuracy : 0.9021\n",
      "Precision : 0.885\n",
      "Recall : 0.924581\n",
      "\n",
      "Model Report Test\n",
      "AUC Score : 0.892668\n",
      "Accuracy : 0.8221\n",
      "Precision : 0.2569\n",
      "Recall : 0.831461\n"
     ]
    },
    {
     "data": {
      "text/plain": [
       "<Figure size 640x480 with 0 Axes>"
      ]
     },
     "metadata": {},
     "output_type": "display_data"
    },
    {
     "name": "stderr",
     "output_type": "stream",
     "text": [
      "Downloading artifacts: 100%|████████████████████████████████████████████████████████████████| 7/7 [00:00<00:00, 582.96it/s]\n"
     ]
    },
    {
     "name": "stdout",
     "output_type": "stream",
     "text": [
      "1805\n",
      "\n",
      "Model Report Train\n",
      "AUC Score : 0.967486\n",
      "Accuracy : 0.8937\n",
      "Precision : 0.877\n",
      "Recall : 0.916201\n",
      "\n",
      "Model Report Test\n",
      "AUC Score : 0.892743\n",
      "Accuracy : 0.8127\n",
      "Precision : 0.25\n",
      "Recall : 0.853933\n"
     ]
    },
    {
     "data": {
      "text/plain": [
       "<Figure size 640x480 with 0 Axes>"
      ]
     },
     "metadata": {},
     "output_type": "display_data"
    },
    {
     "name": "stderr",
     "output_type": "stream",
     "text": [
      "Downloading artifacts: 100%|████████████████████████████████████████████████████████████████| 7/7 [00:00<00:00, 730.37it/s]\n"
     ]
    },
    {
     "name": "stdout",
     "output_type": "stream",
     "text": [
      "1820\n",
      "\n",
      "Model Report Train\n",
      "AUC Score : 0.959446\n",
      "Accuracy : 0.8951\n",
      "Precision : 0.8773\n",
      "Recall : 0.918994\n",
      "\n",
      "Model Report Test\n",
      "AUC Score : 0.917569\n",
      "Accuracy : 0.826\n",
      "Precision : 0.2696\n",
      "Recall : 0.887640\n"
     ]
    },
    {
     "data": {
      "text/plain": [
       "<Figure size 640x480 with 0 Axes>"
      ]
     },
     "metadata": {},
     "output_type": "display_data"
    },
    {
     "name": "stderr",
     "output_type": "stream",
     "text": [
      "Downloading artifacts: 100%|████████████████████████████████████████████████████████████████| 7/7 [00:00<00:00, 790.12it/s]\n"
     ]
    },
    {
     "name": "stdout",
     "output_type": "stream",
     "text": [
      "1835\n",
      "\n",
      "Model Report Train\n",
      "AUC Score : 0.965053\n",
      "Accuracy : 0.8881\n",
      "Precision : 0.8777\n",
      "Recall : 0.902235\n",
      "\n",
      "Model Report Test\n",
      "AUC Score : 0.904044\n",
      "Accuracy : 0.8361\n",
      "Precision : 0.2741\n",
      "Recall : 0.831461\n"
     ]
    },
    {
     "data": {
      "text/plain": [
       "<Figure size 640x480 with 0 Axes>"
      ]
     },
     "metadata": {},
     "output_type": "display_data"
    },
    {
     "name": "stderr",
     "output_type": "stream",
     "text": [
      "Downloading artifacts: 100%|███████████████████████████████████████████████████████████████| 7/7 [00:00<00:00, 1103.35it/s]\n"
     ]
    },
    {
     "name": "stdout",
     "output_type": "stream",
     "text": [
      "1850\n",
      "\n",
      "Model Report Train\n",
      "AUC Score : 0.968609\n",
      "Accuracy : 0.9091\n",
      "Precision : 0.9058\n",
      "Recall : 0.913408\n",
      "\n",
      "Model Report Test\n",
      "AUC Score : 0.901971\n",
      "Accuracy : 0.8159\n",
      "Precision : 0.25\n",
      "Recall : 0.831461\n"
     ]
    },
    {
     "data": {
      "text/plain": [
       "<Figure size 640x480 with 0 Axes>"
      ]
     },
     "metadata": {},
     "output_type": "display_data"
    },
    {
     "name": "stderr",
     "output_type": "stream",
     "text": [
      "Downloading artifacts: 100%|████████████████████████████████████████████████████████████████| 7/7 [00:00<00:00, 879.12it/s]\n"
     ]
    },
    {
     "name": "stdout",
     "output_type": "stream",
     "text": [
      "1865\n",
      "\n",
      "Model Report Train\n",
      "AUC Score : 0.965103\n",
      "Accuracy : 0.9035\n",
      "Precision : 0.8874\n",
      "Recall : 0.924581\n",
      "\n",
      "Model Report Test\n",
      "AUC Score : 0.897685\n",
      "Accuracy : 0.8104\n",
      "Precision : 0.2492\n",
      "Recall : 0.865169\n"
     ]
    },
    {
     "data": {
      "text/plain": [
       "<Figure size 640x480 with 0 Axes>"
      ]
     },
     "metadata": {},
     "output_type": "display_data"
    },
    {
     "name": "stderr",
     "output_type": "stream",
     "text": [
      "Downloading artifacts: 100%|████████████████████████████████████████████████████████████████| 7/7 [00:00<00:00, 511.95it/s]\n"
     ]
    },
    {
     "name": "stdout",
     "output_type": "stream",
     "text": [
      "1880\n",
      "\n",
      "Model Report Train\n",
      "AUC Score : 0.965009\n",
      "Accuracy : 0.8965\n",
      "Precision : 0.8797\n",
      "Recall : 0.918994\n",
      "\n",
      "Model Report Test\n",
      "AUC Score : 0.901231\n",
      "Accuracy : 0.8291\n",
      "Precision : 0.2565\n",
      "Recall : 0.775281\n"
     ]
    },
    {
     "data": {
      "text/plain": [
       "<Figure size 640x480 with 0 Axes>"
      ]
     },
     "metadata": {},
     "output_type": "display_data"
    },
    {
     "name": "stderr",
     "output_type": "stream",
     "text": [
      "Downloading artifacts: 100%|████████████████████████████████████████████████████████████████| 7/7 [00:00<00:00, 801.55it/s]\n"
     ]
    },
    {
     "name": "stdout",
     "output_type": "stream",
     "text": [
      "1895\n",
      "\n",
      "Model Report Train\n",
      "AUC Score : 0.961266\n",
      "Accuracy : 0.9007\n",
      "Precision : 0.891\n",
      "Recall : 0.913408\n",
      "\n",
      "Model Report Test\n",
      "AUC Score : 0.906117\n",
      "Accuracy : 0.8244\n",
      "Precision : 0.2662\n",
      "Recall : 0.876404\n"
     ]
    },
    {
     "data": {
      "text/plain": [
       "<Figure size 640x480 with 0 Axes>"
      ]
     },
     "metadata": {},
     "output_type": "display_data"
    },
    {
     "name": "stderr",
     "output_type": "stream",
     "text": [
      "Downloading artifacts: 100%|████████████████████████████████████████████████████████████████| 7/7 [00:00<00:00, 644.26it/s]\n"
     ]
    },
    {
     "name": "stdout",
     "output_type": "stream",
     "text": [
      "1910\n",
      "\n",
      "Model Report Train\n",
      "AUC Score : 0.974641\n",
      "Accuracy : 0.9091\n",
      "Precision : 0.8928\n",
      "Recall : 0.930168\n",
      "\n",
      "Model Report Test\n",
      "AUC Score : 0.898539\n",
      "Accuracy : 0.8228\n",
      "Precision : 0.2612\n",
      "Recall : 0.853933\n"
     ]
    },
    {
     "data": {
      "text/plain": [
       "<Figure size 640x480 with 0 Axes>"
      ]
     },
     "metadata": {},
     "output_type": "display_data"
    },
    {
     "name": "stderr",
     "output_type": "stream",
     "text": [
      "Downloading artifacts: 100%|███████████████████████████████████████████████████████████████| 7/7 [00:00<00:00, 1204.96it/s]\n"
     ]
    },
    {
     "name": "stdout",
     "output_type": "stream",
     "text": [
      "1925\n",
      "\n",
      "Model Report Train\n",
      "AUC Score : 0.956532\n",
      "Accuracy : 0.8699\n",
      "Precision : 0.8496\n",
      "Recall : 0.899441\n",
      "\n",
      "Model Report Test\n",
      "AUC Score : 0.906286\n",
      "Accuracy : 0.8221\n",
      "Precision : 0.2635\n",
      "Recall : 0.876404\n"
     ]
    },
    {
     "data": {
      "text/plain": [
       "<Figure size 640x480 with 0 Axes>"
      ]
     },
     "metadata": {},
     "output_type": "display_data"
    },
    {
     "name": "stderr",
     "output_type": "stream",
     "text": [
      "Downloading artifacts: 100%|████████████████████████████████████████████████████████████████| 7/7 [00:00<00:00, 812.22it/s]\n"
     ]
    },
    {
     "name": "stdout",
     "output_type": "stream",
     "text": [
      "1940\n",
      "\n",
      "Model Report Train\n",
      "AUC Score : 0.965189\n",
      "Accuracy : 0.9077\n",
      "Precision : 0.9011\n",
      "Recall : 0.916201\n",
      "\n",
      "Model Report Test\n",
      "AUC Score : 0.892330\n",
      "Accuracy : 0.8151\n",
      "Precision : 0.244\n",
      "Recall : 0.797753\n"
     ]
    },
    {
     "data": {
      "text/plain": [
       "<Figure size 640x480 with 0 Axes>"
      ]
     },
     "metadata": {},
     "output_type": "display_data"
    },
    {
     "name": "stderr",
     "output_type": "stream",
     "text": [
      "Downloading artifacts: 100%|████████████████████████████████████████████████████████████████| 7/7 [00:00<00:00, 472.68it/s]\n"
     ]
    },
    {
     "name": "stdout",
     "output_type": "stream",
     "text": [
      "1955\n",
      "\n",
      "Model Report Train\n",
      "AUC Score : 0.964035\n",
      "Accuracy : 0.8937\n",
      "Precision : 0.873\n",
      "Recall : 0.921788\n",
      "\n",
      "Model Report Test\n",
      "AUC Score : 0.901662\n",
      "Accuracy : 0.8275\n",
      "Precision : 0.265\n",
      "Recall : 0.842697\n"
     ]
    },
    {
     "data": {
      "text/plain": [
       "<Figure size 640x480 with 0 Axes>"
      ]
     },
     "metadata": {},
     "output_type": "display_data"
    },
    {
     "name": "stderr",
     "output_type": "stream",
     "text": [
      "Downloading artifacts: 100%|████████████████████████████████████████████████████████████████| 7/7 [00:00<00:00, 894.42it/s]\n"
     ]
    },
    {
     "name": "stdout",
     "output_type": "stream",
     "text": [
      "1970\n",
      "\n",
      "Model Report Train\n",
      "AUC Score : 0.962952\n",
      "Accuracy : 0.8909\n",
      "Precision : 0.8784\n",
      "Recall : 0.907821\n",
      "\n",
      "Model Report Test\n",
      "AUC Score : 0.899139\n",
      "Accuracy : 0.8197\n",
      "Precision : 0.256\n",
      "Recall : 0.842697\n"
     ]
    },
    {
     "data": {
      "text/plain": [
       "<Figure size 640x480 with 0 Axes>"
      ]
     },
     "metadata": {},
     "output_type": "display_data"
    },
    {
     "name": "stderr",
     "output_type": "stream",
     "text": [
      "Downloading artifacts: 100%|███████████████████████████████████████████████████████████████| 7/7 [00:00<00:00, 1262.48it/s]\n"
     ]
    },
    {
     "name": "stdout",
     "output_type": "stream",
     "text": [
      "1985\n",
      "\n",
      "Model Report Train\n",
      "AUC Score : 0.961528\n",
      "Accuracy : 0.9021\n",
      "Precision : 0.8913\n",
      "Recall : 0.916201\n",
      "\n",
      "Model Report Test\n",
      "AUC Score : 0.900199\n",
      "Accuracy : 0.8089\n",
      "Precision : 0.2443\n",
      "Recall : 0.842697\n"
     ]
    },
    {
     "data": {
      "text/plain": [
       "<Figure size 640x480 with 0 Axes>"
      ]
     },
     "metadata": {},
     "output_type": "display_data"
    },
    {
     "name": "stderr",
     "output_type": "stream",
     "text": [
      "Downloading artifacts: 100%|████████████████████████████████████████████████████████████████| 7/7 [00:00<00:00, 836.95it/s]\n"
     ]
    },
    {
     "name": "stdout",
     "output_type": "stream",
     "text": [
      "2000\n",
      "\n",
      "Model Report Train\n",
      "AUC Score : 0.966711\n",
      "Accuracy : 0.8895\n",
      "Precision : 0.8822\n",
      "Recall : 0.899441\n",
      "\n",
      "Model Report Test\n",
      "AUC Score : 0.890782\n",
      "Accuracy : 0.8174\n",
      "Precision : 0.2567\n",
      "Recall : 0.865169\n"
     ]
    },
    {
     "data": {
      "text/plain": [
       "<Figure size 640x480 with 0 Axes>"
      ]
     },
     "metadata": {},
     "output_type": "display_data"
    },
    {
     "name": "stderr",
     "output_type": "stream",
     "text": [
      "Downloading artifacts: 100%|████████████████████████████████████████████████████████████████| 7/7 [00:00<00:00, 706.42it/s]\n"
     ]
    },
    {
     "name": "stdout",
     "output_type": "stream",
     "text": [
      "2015\n",
      "\n",
      "Model Report Train\n",
      "AUC Score : 0.967200\n",
      "Accuracy : 0.9161\n",
      "Precision : 0.8921\n",
      "Recall : 0.946927\n",
      "\n",
      "Model Report Test\n",
      "AUC Score : 0.910469\n",
      "Accuracy : 0.819\n",
      "Precision : 0.2632\n",
      "Recall : 0.898876\n"
     ]
    },
    {
     "data": {
      "text/plain": [
       "<Figure size 640x480 with 0 Axes>"
      ]
     },
     "metadata": {},
     "output_type": "display_data"
    },
    {
     "name": "stderr",
     "output_type": "stream",
     "text": [
      "Downloading artifacts: 100%|████████████████████████████████████████████████████████████████| 7/7 [00:00<00:00, 648.28it/s]\n"
     ]
    },
    {
     "name": "stdout",
     "output_type": "stream",
     "text": [
      "2030\n",
      "\n",
      "Model Report Train\n",
      "AUC Score : 0.965440\n",
      "Accuracy : 0.8979\n",
      "Precision : 0.8904\n",
      "Recall : 0.907821\n",
      "\n",
      "Model Report Test\n",
      "AUC Score : 0.894722\n",
      "Accuracy : 0.819\n",
      "Precision : 0.2551\n",
      "Recall : 0.842697\n"
     ]
    },
    {
     "data": {
      "text/plain": [
       "<Figure size 640x480 with 0 Axes>"
      ]
     },
     "metadata": {},
     "output_type": "display_data"
    },
    {
     "name": "stderr",
     "output_type": "stream",
     "text": [
      "Downloading artifacts: 100%|████████████████████████████████████████████████████████████████| 7/7 [00:00<00:00, 735.16it/s]\n"
     ]
    },
    {
     "name": "stdout",
     "output_type": "stream",
     "text": [
      "2045\n",
      "\n",
      "Model Report Train\n",
      "AUC Score : 0.964963\n",
      "Accuracy : 0.8993\n",
      "Precision : 0.8886\n",
      "Recall : 0.913408\n",
      "\n",
      "Model Report Test\n",
      "AUC Score : 0.910750\n",
      "Accuracy : 0.8368\n",
      "Precision : 0.2784\n",
      "Recall : 0.853933\n"
     ]
    },
    {
     "data": {
      "text/plain": [
       "<Figure size 640x480 with 0 Axes>"
      ]
     },
     "metadata": {},
     "output_type": "display_data"
    },
    {
     "name": "stderr",
     "output_type": "stream",
     "text": [
      "Downloading artifacts: 100%|████████████████████████████████████████████████████████████████| 7/7 [00:00<00:00, 605.84it/s]\n"
     ]
    },
    {
     "name": "stdout",
     "output_type": "stream",
     "text": [
      "2060\n",
      "\n",
      "Model Report Train\n",
      "AUC Score : 0.963085\n",
      "Accuracy : 0.8979\n",
      "Precision : 0.8992\n",
      "Recall : 0.896648\n",
      "\n",
      "Model Report Test\n",
      "AUC Score : 0.889432\n",
      "Accuracy : 0.8151\n",
      "Precision : 0.2492\n",
      "Recall : 0.831461\n"
     ]
    },
    {
     "data": {
      "text/plain": [
       "<Figure size 640x480 with 0 Axes>"
      ]
     },
     "metadata": {},
     "output_type": "display_data"
    },
    {
     "name": "stderr",
     "output_type": "stream",
     "text": [
      "Downloading artifacts: 100%|████████████████████████████████████████████████████████████████| 7/7 [00:00<00:00, 553.93it/s]\n"
     ]
    },
    {
     "name": "stdout",
     "output_type": "stream",
     "text": [
      "2075\n",
      "\n",
      "Model Report Train\n",
      "AUC Score : 0.967858\n",
      "Accuracy : 0.9105\n",
      "Precision : 0.8995\n",
      "Recall : 0.924581\n",
      "\n",
      "Model Report Test\n",
      "AUC Score : 0.902665\n",
      "Accuracy : 0.8236\n",
      "Precision : 0.2669\n",
      "Recall : 0.887640\n"
     ]
    },
    {
     "data": {
      "text/plain": [
       "<Figure size 640x480 with 0 Axes>"
      ]
     },
     "metadata": {},
     "output_type": "display_data"
    },
    {
     "name": "stderr",
     "output_type": "stream",
     "text": [
      "Downloading artifacts: 100%|███████████████████████████████████████████████████████████████| 7/7 [00:00<00:00, 1331.59it/s]\n"
     ]
    },
    {
     "name": "stdout",
     "output_type": "stream",
     "text": [
      "2090\n",
      "\n",
      "Model Report Train\n",
      "AUC Score : 0.965088\n",
      "Accuracy : 0.9091\n",
      "Precision : 0.8949\n",
      "Recall : 0.927374\n",
      "\n",
      "Model Report Test\n",
      "AUC Score : 0.901868\n",
      "Accuracy : 0.8151\n",
      "Precision : 0.2508\n",
      "Recall : 0.842697\n"
     ]
    },
    {
     "data": {
      "text/plain": [
       "<Figure size 640x480 with 0 Axes>"
      ]
     },
     "metadata": {},
     "output_type": "display_data"
    },
    {
     "name": "stderr",
     "output_type": "stream",
     "text": [
      "Downloading artifacts: 100%|████████████████████████████████████████████████████████████████| 7/7 [00:00<00:00, 960.33it/s]\n"
     ]
    },
    {
     "name": "stdout",
     "output_type": "stream",
     "text": [
      "2105\n",
      "\n",
      "Model Report Train\n",
      "AUC Score : 0.968397\n",
      "Accuracy : 0.9105\n",
      "Precision : 0.891\n",
      "Recall : 0.935754\n",
      "\n",
      "Model Report Test\n",
      "AUC Score : 0.895219\n",
      "Accuracy : 0.8065\n",
      "Precision : 0.2484\n",
      "Recall : 0.887640\n"
     ]
    },
    {
     "data": {
      "text/plain": [
       "<Figure size 640x480 with 0 Axes>"
      ]
     },
     "metadata": {},
     "output_type": "display_data"
    },
    {
     "name": "stderr",
     "output_type": "stream",
     "text": [
      "Downloading artifacts: 100%|███████████████████████████████████████████████████████████████| 7/7 [00:00<00:00, 1058.52it/s]\n"
     ]
    },
    {
     "name": "stdout",
     "output_type": "stream",
     "text": [
      "2120\n",
      "\n",
      "Model Report Train\n",
      "AUC Score : 0.964869\n",
      "Accuracy : 0.9007\n",
      "Precision : 0.8868\n",
      "Recall : 0.918994\n",
      "\n",
      "Model Report Test\n",
      "AUC Score : 0.906004\n",
      "Accuracy : 0.8298\n",
      "Precision : 0.2695\n",
      "Recall : 0.853933\n"
     ]
    },
    {
     "data": {
      "text/plain": [
       "<Figure size 640x480 with 0 Axes>"
      ]
     },
     "metadata": {},
     "output_type": "display_data"
    },
    {
     "name": "stderr",
     "output_type": "stream",
     "text": [
      "Downloading artifacts: 100%|████████████████████████████████████████████████████████████████| 7/7 [00:00<00:00, 605.81it/s]\n"
     ]
    },
    {
     "name": "stdout",
     "output_type": "stream",
     "text": [
      "2135\n",
      "\n",
      "Model Report Train\n",
      "AUC Score : 0.967623\n",
      "Accuracy : 0.8993\n",
      "Precision : 0.8865\n",
      "Recall : 0.916201\n",
      "\n",
      "Model Report Test\n",
      "AUC Score : 0.892893\n",
      "Accuracy : 0.8096\n",
      "Precision : 0.25\n",
      "Recall : 0.876404\n"
     ]
    },
    {
     "data": {
      "text/plain": [
       "<Figure size 640x480 with 0 Axes>"
      ]
     },
     "metadata": {},
     "output_type": "display_data"
    },
    {
     "name": "stderr",
     "output_type": "stream",
     "text": [
      "Downloading artifacts: 100%|███████████████████████████████████████████████████████████████| 7/7 [00:00<00:00, 1021.40it/s]\n"
     ]
    },
    {
     "name": "stdout",
     "output_type": "stream",
     "text": [
      "2150\n",
      "\n",
      "Model Report Train\n",
      "AUC Score : 0.971054\n",
      "Accuracy : 0.9035\n",
      "Precision : 0.8874\n",
      "Recall : 0.924581\n",
      "\n",
      "Model Report Test\n",
      "AUC Score : 0.897545\n",
      "Accuracy : 0.7995\n",
      "Precision : 0.2416\n",
      "Recall : 0.887640\n"
     ]
    },
    {
     "data": {
      "text/plain": [
       "<Figure size 640x480 with 0 Axes>"
      ]
     },
     "metadata": {},
     "output_type": "display_data"
    },
    {
     "name": "stderr",
     "output_type": "stream",
     "text": [
      "Downloading artifacts: 100%|███████████████████████████████████████████████████████████████| 7/7 [00:00<00:00, 1261.88it/s]\n"
     ]
    },
    {
     "name": "stdout",
     "output_type": "stream",
     "text": [
      "2165\n",
      "\n",
      "Model Report Train\n",
      "AUC Score : 0.964438\n",
      "Accuracy : 0.8993\n",
      "Precision : 0.8865\n",
      "Recall : 0.916201\n",
      "\n",
      "Model Report Test\n",
      "AUC Score : 0.891448\n",
      "Accuracy : 0.8003\n",
      "Precision : 0.2342\n",
      "Recall : 0.831461\n"
     ]
    },
    {
     "data": {
      "text/plain": [
       "<Figure size 640x480 with 0 Axes>"
      ]
     },
     "metadata": {},
     "output_type": "display_data"
    },
    {
     "name": "stderr",
     "output_type": "stream",
     "text": [
      "Downloading artifacts: 100%|████████████████████████████████████████████████████████████████| 7/7 [00:00<00:00, 945.42it/s]\n"
     ]
    },
    {
     "name": "stdout",
     "output_type": "stream",
     "text": [
      "2180\n",
      "\n",
      "Model Report Train\n",
      "AUC Score : 0.963938\n",
      "Accuracy : 0.8923\n",
      "Precision : 0.8747\n",
      "Recall : 0.916201\n",
      "\n",
      "Model Report Test\n",
      "AUC Score : 0.896128\n",
      "Accuracy : 0.826\n",
      "Precision : 0.2648\n",
      "Recall : 0.853933\n"
     ]
    },
    {
     "data": {
      "text/plain": [
       "<Figure size 640x480 with 0 Axes>"
      ]
     },
     "metadata": {},
     "output_type": "display_data"
    },
    {
     "name": "stderr",
     "output_type": "stream",
     "text": [
      "Downloading artifacts: 100%|███████████████████████████████████████████████████████████████| 7/7 [00:00<00:00, 1001.10it/s]\n"
     ]
    },
    {
     "name": "stdout",
     "output_type": "stream",
     "text": [
      "2195\n",
      "\n",
      "Model Report Train\n",
      "AUC Score : 0.959431\n",
      "Accuracy : 0.8979\n",
      "Precision : 0.878\n",
      "Recall : 0.924581\n",
      "\n",
      "Model Report Test\n",
      "AUC Score : 0.897863\n",
      "Accuracy : 0.8298\n",
      "Precision : 0.261\n",
      "Recall : 0.797753\n"
     ]
    },
    {
     "data": {
      "text/plain": [
       "<Figure size 640x480 with 0 Axes>"
      ]
     },
     "metadata": {},
     "output_type": "display_data"
    },
    {
     "name": "stderr",
     "output_type": "stream",
     "text": [
      "Downloading artifacts: 100%|████████████████████████████████████████████████████████████████| 7/7 [00:00<00:00, 914.62it/s]\n"
     ]
    },
    {
     "name": "stdout",
     "output_type": "stream",
     "text": [
      "2210\n",
      "\n",
      "Model Report Train\n",
      "AUC Score : 0.968178\n",
      "Accuracy : 0.9007\n",
      "Precision : 0.8868\n",
      "Recall : 0.918994\n",
      "\n",
      "Model Report Test\n",
      "AUC Score : 0.890060\n",
      "Accuracy : 0.8042\n",
      "Precision : 0.2429\n",
      "Recall : 0.865169\n"
     ]
    },
    {
     "data": {
      "text/plain": [
       "<Figure size 640x480 with 0 Axes>"
      ]
     },
     "metadata": {},
     "output_type": "display_data"
    },
    {
     "name": "stderr",
     "output_type": "stream",
     "text": [
      "Downloading artifacts: 100%|████████████████████████████████████████████████████████████████| 7/7 [00:00<00:00, 570.85it/s]\n"
     ]
    },
    {
     "name": "stdout",
     "output_type": "stream",
     "text": [
      "2225\n",
      "\n",
      "Model Report Train\n",
      "AUC Score : 0.963711\n",
      "Accuracy : 0.8853\n",
      "Precision : 0.875\n",
      "Recall : 0.899441\n",
      "\n",
      "Model Report Test\n",
      "AUC Score : 0.893193\n",
      "Accuracy : 0.8182\n",
      "Precision : 0.2509\n",
      "Recall : 0.820225\n"
     ]
    },
    {
     "data": {
      "text/plain": [
       "<Figure size 640x480 with 0 Axes>"
      ]
     },
     "metadata": {},
     "output_type": "display_data"
    },
    {
     "name": "stderr",
     "output_type": "stream",
     "text": [
      "Downloading artifacts: 100%|████████████████████████████████████████████████████████████████| 7/7 [00:00<00:00, 773.90it/s]\n"
     ]
    },
    {
     "name": "stdout",
     "output_type": "stream",
     "text": [
      "2240\n",
      "\n",
      "Model Report Train\n",
      "AUC Score : 0.963797\n",
      "Accuracy : 0.8867\n",
      "Precision : 0.8674\n",
      "Recall : 0.913408\n",
      "\n",
      "Model Report Test\n",
      "AUC Score : 0.900940\n",
      "Accuracy : 0.8376\n",
      "Precision : 0.2778\n",
      "Recall : 0.842697\n"
     ]
    },
    {
     "data": {
      "text/plain": [
       "<Figure size 640x480 with 0 Axes>"
      ]
     },
     "metadata": {},
     "output_type": "display_data"
    },
    {
     "name": "stderr",
     "output_type": "stream",
     "text": [
      "Downloading artifacts: 100%|████████████████████████████████████████████████████████████████| 7/7 [00:00<00:00, 848.68it/s]\n"
     ]
    },
    {
     "name": "stdout",
     "output_type": "stream",
     "text": [
      "2255\n",
      "\n",
      "Model Report Train\n",
      "AUC Score : 0.971245\n",
      "Accuracy : 0.9119\n",
      "Precision : 0.8851\n",
      "Recall : 0.946927\n",
      "\n",
      "Model Report Test\n",
      "AUC Score : 0.905836\n",
      "Accuracy : 0.8065\n",
      "Precision : 0.2484\n",
      "Recall : 0.887640\n"
     ]
    },
    {
     "data": {
      "text/plain": [
       "<Figure size 640x480 with 0 Axes>"
      ]
     },
     "metadata": {},
     "output_type": "display_data"
    },
    {
     "name": "stderr",
     "output_type": "stream",
     "text": [
      "Downloading artifacts: 100%|███████████████████████████████████████████████████████████████| 7/7 [00:00<00:00, 1171.31it/s]\n"
     ]
    },
    {
     "name": "stdout",
     "output_type": "stream",
     "text": [
      "2270\n",
      "\n",
      "Model Report Train\n",
      "AUC Score : 0.963405\n",
      "Accuracy : 0.8923\n",
      "Precision : 0.8787\n",
      "Recall : 0.910615\n",
      "\n",
      "Model Report Test\n",
      "AUC Score : 0.892105\n",
      "Accuracy : 0.8065\n",
      "Precision : 0.2468\n",
      "Recall : 0.876404\n"
     ]
    },
    {
     "data": {
      "text/plain": [
       "<Figure size 640x480 with 0 Axes>"
      ]
     },
     "metadata": {},
     "output_type": "display_data"
    },
    {
     "name": "stderr",
     "output_type": "stream",
     "text": [
      "Downloading artifacts: 100%|███████████████████████████████████████████████████████████████| 7/7 [00:00<00:00, 1340.28it/s]\n"
     ]
    },
    {
     "name": "stdout",
     "output_type": "stream",
     "text": [
      "2285\n",
      "\n",
      "Model Report Train\n",
      "AUC Score : 0.962772\n",
      "Accuracy : 0.8937\n",
      "Precision : 0.8874\n",
      "Recall : 0.902235\n",
      "\n",
      "Model Report Test\n",
      "AUC Score : 0.891026\n",
      "Accuracy : 0.8244\n",
      "Precision : 0.263\n",
      "Recall : 0.853933\n"
     ]
    },
    {
     "data": {
      "text/plain": [
       "<Figure size 640x480 with 0 Axes>"
      ]
     },
     "metadata": {},
     "output_type": "display_data"
    },
    {
     "name": "stderr",
     "output_type": "stream",
     "text": [
      "Downloading artifacts: 100%|████████████████████████████████████████████████████████████████| 7/7 [00:00<00:00, 517.81it/s]\n"
     ]
    },
    {
     "name": "stdout",
     "output_type": "stream",
     "text": [
      "2300\n",
      "\n",
      "Model Report Train\n",
      "AUC Score : 0.962513\n",
      "Accuracy : 0.8965\n",
      "Precision : 0.8901\n",
      "Recall : 0.905028\n",
      "\n",
      "Model Report Test\n",
      "AUC Score : 0.904419\n",
      "Accuracy : 0.8298\n",
      "Precision : 0.2679\n",
      "Recall : 0.842697\n"
     ]
    },
    {
     "data": {
      "text/plain": [
       "<Figure size 640x480 with 0 Axes>"
      ]
     },
     "metadata": {},
     "output_type": "display_data"
    },
    {
     "name": "stderr",
     "output_type": "stream",
     "text": [
      "Downloading artifacts: 100%|████████████████████████████████████████████████████████████████| 7/7 [00:00<00:00, 636.98it/s]\n"
     ]
    },
    {
     "name": "stdout",
     "output_type": "stream",
     "text": [
      "2315\n",
      "\n",
      "Model Report Train\n",
      "AUC Score : 0.967505\n",
      "Accuracy : 0.9077\n",
      "Precision : 0.8904\n",
      "Recall : 0.930168\n",
      "\n",
      "Model Report Test\n",
      "AUC Score : 0.902769\n",
      "Accuracy : 0.826\n",
      "Precision : 0.268\n",
      "Recall : 0.876404\n"
     ]
    },
    {
     "data": {
      "text/plain": [
       "<Figure size 640x480 with 0 Axes>"
      ]
     },
     "metadata": {},
     "output_type": "display_data"
    },
    {
     "name": "stderr",
     "output_type": "stream",
     "text": [
      "Downloading artifacts: 100%|████████████████████████████████████████████████████████████████| 7/7 [00:00<00:00, 552.75it/s]\n"
     ]
    },
    {
     "name": "stdout",
     "output_type": "stream",
     "text": [
      "2330\n",
      "\n",
      "Model Report Train\n",
      "AUC Score : 0.967200\n",
      "Accuracy : 0.9007\n",
      "Precision : 0.8827\n",
      "Recall : 0.924581\n",
      "\n",
      "Model Report Test\n",
      "AUC Score : 0.897573\n",
      "Accuracy : 0.8228\n",
      "Precision : 0.2491\n",
      "Recall : 0.775281\n"
     ]
    },
    {
     "data": {
      "text/plain": [
       "<Figure size 640x480 with 0 Axes>"
      ]
     },
     "metadata": {},
     "output_type": "display_data"
    },
    {
     "name": "stderr",
     "output_type": "stream",
     "text": [
      "Downloading artifacts: 100%|████████████████████████████████████████████████████████████████| 7/7 [00:00<00:00, 676.20it/s]\n"
     ]
    },
    {
     "name": "stdout",
     "output_type": "stream",
     "text": [
      "2345\n",
      "\n",
      "Model Report Train\n",
      "AUC Score : 0.964337\n",
      "Accuracy : 0.9119\n",
      "Precision : 0.9086\n",
      "Recall : 0.916201\n",
      "\n",
      "Model Report Test\n",
      "AUC Score : 0.906895\n",
      "Accuracy : 0.8353\n",
      "Precision : 0.2764\n",
      "Recall : 0.853933\n"
     ]
    },
    {
     "data": {
      "text/plain": [
       "<Figure size 640x480 with 0 Axes>"
      ]
     },
     "metadata": {},
     "output_type": "display_data"
    },
    {
     "name": "stderr",
     "output_type": "stream",
     "text": [
      "Downloading artifacts: 100%|████████████████████████████████████████████████████████████████| 7/7 [00:00<00:00, 566.87it/s]\n"
     ]
    },
    {
     "name": "stdout",
     "output_type": "stream",
     "text": [
      "2360\n",
      "\n",
      "Model Report Train\n",
      "AUC Score : 0.962928\n",
      "Accuracy : 0.8923\n",
      "Precision : 0.8849\n",
      "Recall : 0.902235\n",
      "\n",
      "Model Report Test\n",
      "AUC Score : 0.897123\n",
      "Accuracy : 0.826\n",
      "Precision : 0.2632\n",
      "Recall : 0.842697\n"
     ]
    },
    {
     "data": {
      "text/plain": [
       "<Figure size 640x480 with 0 Axes>"
      ]
     },
     "metadata": {},
     "output_type": "display_data"
    },
    {
     "name": "stderr",
     "output_type": "stream",
     "text": [
      "Downloading artifacts: 100%|████████████████████████████████████████████████████████████████| 7/7 [00:00<00:00, 606.97it/s]\n"
     ]
    },
    {
     "name": "stdout",
     "output_type": "stream",
     "text": [
      "2375\n",
      "\n",
      "Model Report Train\n",
      "AUC Score : 0.956958\n",
      "Accuracy : 0.8923\n",
      "Precision : 0.8767\n",
      "Recall : 0.913408\n",
      "\n",
      "Model Report Test\n",
      "AUC Score : 0.907167\n",
      "Accuracy : 0.8275\n",
      "Precision : 0.2699\n",
      "Recall : 0.876404\n"
     ]
    },
    {
     "data": {
      "text/plain": [
       "<Figure size 640x480 with 0 Axes>"
      ]
     },
     "metadata": {},
     "output_type": "display_data"
    },
    {
     "name": "stderr",
     "output_type": "stream",
     "text": [
      "Downloading artifacts: 100%|███████████████████████████████████████████████████████████████| 7/7 [00:00<00:00, 1210.23it/s]\n"
     ]
    },
    {
     "name": "stdout",
     "output_type": "stream",
     "text": [
      "2390\n",
      "\n",
      "Model Report Train\n",
      "AUC Score : 0.963492\n",
      "Accuracy : 0.8993\n",
      "Precision : 0.895\n",
      "Recall : 0.905028\n",
      "\n",
      "Model Report Test\n",
      "AUC Score : 0.891945\n",
      "Accuracy : 0.8205\n",
      "Precision : 0.2633\n",
      "Recall : 0.887640\n"
     ]
    },
    {
     "data": {
      "text/plain": [
       "<Figure size 640x480 with 0 Axes>"
      ]
     },
     "metadata": {},
     "output_type": "display_data"
    },
    {
     "name": "stderr",
     "output_type": "stream",
     "text": [
      "Downloading artifacts: 100%|████████████████████████████████████████████████████████████████| 7/7 [00:00<00:00, 756.67it/s]\n"
     ]
    },
    {
     "name": "stdout",
     "output_type": "stream",
     "text": [
      "2405\n",
      "\n",
      "Model Report Train\n",
      "AUC Score : 0.964978\n",
      "Accuracy : 0.8965\n",
      "Precision : 0.8737\n",
      "Recall : 0.927374\n",
      "\n",
      "Model Report Test\n",
      "AUC Score : 0.899345\n",
      "Accuracy : 0.8151\n",
      "Precision : 0.2541\n",
      "Recall : 0.865169\n"
     ]
    },
    {
     "data": {
      "text/plain": [
       "<Figure size 640x480 with 0 Axes>"
      ]
     },
     "metadata": {},
     "output_type": "display_data"
    },
    {
     "name": "stderr",
     "output_type": "stream",
     "text": [
      "Downloading artifacts: 100%|███████████████████████████████████████████████████████████████| 7/7 [00:00<00:00, 1013.29it/s]\n"
     ]
    },
    {
     "name": "stdout",
     "output_type": "stream",
     "text": [
      "2420\n",
      "\n",
      "Model Report Train\n",
      "AUC Score : 0.966254\n",
      "Accuracy : 0.8993\n",
      "Precision : 0.8844\n",
      "Recall : 0.918994\n",
      "\n",
      "Model Report Test\n",
      "AUC Score : 0.914614\n",
      "Accuracy : 0.8298\n",
      "Precision : 0.2645\n",
      "Recall : 0.820225\n"
     ]
    },
    {
     "data": {
      "text/plain": [
       "<Figure size 640x480 with 0 Axes>"
      ]
     },
     "metadata": {},
     "output_type": "display_data"
    },
    {
     "name": "stderr",
     "output_type": "stream",
     "text": [
      "Downloading artifacts: 100%|████████████████████████████████████████████████████████████████| 7/7 [00:00<00:00, 947.68it/s]\n"
     ]
    },
    {
     "name": "stdout",
     "output_type": "stream",
     "text": [
      "2435\n",
      "\n",
      "Model Report Train\n",
      "AUC Score : 0.969465\n",
      "Accuracy : 0.9133\n",
      "Precision : 0.9044\n",
      "Recall : 0.924581\n",
      "\n",
      "Model Report Test\n",
      "AUC Score : 0.886112\n",
      "Accuracy : 0.8112\n",
      "Precision : 0.245\n",
      "Recall : 0.831461\n"
     ]
    },
    {
     "data": {
      "text/plain": [
       "<Figure size 640x480 with 0 Axes>"
      ]
     },
     "metadata": {},
     "output_type": "display_data"
    },
    {
     "name": "stderr",
     "output_type": "stream",
     "text": [
      "Downloading artifacts: 100%|████████████████████████████████████████████████████████████████| 7/7 [00:00<00:00, 774.22it/s]\n"
     ]
    },
    {
     "name": "stdout",
     "output_type": "stream",
     "text": [
      "2450\n",
      "\n",
      "Model Report Train\n",
      "AUC Score : 0.960761\n",
      "Accuracy : 0.8909\n",
      "Precision : 0.8784\n",
      "Recall : 0.907821\n",
      "\n",
      "Model Report Test\n",
      "AUC Score : 0.901643\n",
      "Accuracy : 0.8112\n",
      "Precision : 0.2484\n",
      "Recall : 0.853933\n"
     ]
    },
    {
     "data": {
      "text/plain": [
       "<Figure size 640x480 with 0 Axes>"
      ]
     },
     "metadata": {},
     "output_type": "display_data"
    },
    {
     "name": "stderr",
     "output_type": "stream",
     "text": [
      "Downloading artifacts: 100%|████████████████████████████████████████████████████████████████| 7/7 [00:00<00:00, 670.63it/s]\n"
     ]
    },
    {
     "name": "stdout",
     "output_type": "stream",
     "text": [
      "2465\n",
      "\n",
      "Model Report Train\n",
      "AUC Score : 0.960268\n",
      "Accuracy : 0.8951\n",
      "Precision : 0.8794\n",
      "Recall : 0.916201\n",
      "\n",
      "Model Report Test\n",
      "AUC Score : 0.902103\n",
      "Accuracy : 0.8159\n",
      "Precision : 0.2517\n",
      "Recall : 0.842697\n"
     ]
    },
    {
     "data": {
      "text/plain": [
       "<Figure size 640x480 with 0 Axes>"
      ]
     },
     "metadata": {},
     "output_type": "display_data"
    },
    {
     "name": "stderr",
     "output_type": "stream",
     "text": [
      "Downloading artifacts: 100%|████████████████████████████████████████████████████████████████| 7/7 [00:00<00:00, 805.87it/s]\n"
     ]
    },
    {
     "name": "stdout",
     "output_type": "stream",
     "text": [
      "2480\n",
      "\n",
      "Model Report Train\n",
      "AUC Score : 0.960804\n",
      "Accuracy : 0.8951\n",
      "Precision : 0.8714\n",
      "Recall : 0.927374\n",
      "\n",
      "Model Report Test\n",
      "AUC Score : 0.898661\n",
      "Accuracy : 0.826\n",
      "Precision : 0.2615\n",
      "Recall : 0.831461\n"
     ]
    },
    {
     "data": {
      "text/plain": [
       "<Figure size 640x480 with 0 Axes>"
      ]
     },
     "metadata": {},
     "output_type": "display_data"
    },
    {
     "name": "stderr",
     "output_type": "stream",
     "text": [
      "Downloading artifacts: 100%|████████████████████████████████████████████████████████████████| 7/7 [00:00<00:00, 510.05it/s]\n"
     ]
    },
    {
     "name": "stdout",
     "output_type": "stream",
     "text": [
      "2495\n",
      "\n",
      "Model Report Train\n",
      "AUC Score : 0.968836\n",
      "Accuracy : 0.9035\n",
      "Precision : 0.8895\n",
      "Recall : 0.921788\n",
      "\n",
      "Model Report Test\n",
      "AUC Score : 0.890735\n",
      "Accuracy : 0.8081\n",
      "Precision : 0.2418\n",
      "Recall : 0.831461\n"
     ]
    },
    {
     "data": {
      "text/plain": [
       "<Figure size 640x480 with 0 Axes>"
      ]
     },
     "metadata": {},
     "output_type": "display_data"
    },
    {
     "name": "stderr",
     "output_type": "stream",
     "text": [
      "Downloading artifacts: 100%|████████████████████████████████████████████████████████████████| 7/7 [00:00<00:00, 677.56it/s]\n"
     ]
    },
    {
     "name": "stdout",
     "output_type": "stream",
     "text": [
      "2510\n",
      "\n",
      "Model Report Train\n",
      "AUC Score : 0.964599\n",
      "Accuracy : 0.9035\n",
      "Precision : 0.8853\n",
      "Recall : 0.927374\n",
      "\n",
      "Model Report Test\n",
      "AUC Score : 0.891730\n",
      "Accuracy : 0.8073\n",
      "Precision : 0.2427\n",
      "Recall : 0.842697\n"
     ]
    },
    {
     "data": {
      "text/plain": [
       "<Figure size 640x480 with 0 Axes>"
      ]
     },
     "metadata": {},
     "output_type": "display_data"
    },
    {
     "name": "stderr",
     "output_type": "stream",
     "text": [
      "Downloading artifacts: 100%|████████████████████████████████████████████████████████████████| 7/7 [00:00<00:00, 513.28it/s]\n"
     ]
    },
    {
     "name": "stdout",
     "output_type": "stream",
     "text": [
      "2525\n",
      "\n",
      "Model Report Train\n",
      "AUC Score : 0.959212\n",
      "Accuracy : 0.9035\n",
      "Precision : 0.8895\n",
      "Recall : 0.921788\n",
      "\n",
      "Model Report Test\n",
      "AUC Score : 0.897648\n",
      "Accuracy : 0.8252\n",
      "Precision : 0.2589\n",
      "Recall : 0.820225\n"
     ]
    },
    {
     "data": {
      "text/plain": [
       "<Figure size 640x480 with 0 Axes>"
      ]
     },
     "metadata": {},
     "output_type": "display_data"
    },
    {
     "name": "stderr",
     "output_type": "stream",
     "text": [
      "Downloading artifacts: 100%|████████████████████████████████████████████████████████████████| 7/7 [00:00<00:00, 755.30it/s]\n"
     ]
    },
    {
     "name": "stdout",
     "output_type": "stream",
     "text": [
      "2540\n",
      "\n",
      "Model Report Train\n",
      "AUC Score : 0.965326\n",
      "Accuracy : 0.8993\n",
      "Precision : 0.8865\n",
      "Recall : 0.916201\n",
      "\n",
      "Model Report Test\n",
      "AUC Score : 0.903331\n",
      "Accuracy : 0.8291\n",
      "Precision : 0.2635\n",
      "Recall : 0.820225\n"
     ]
    },
    {
     "data": {
      "text/plain": [
       "<Figure size 640x480 with 0 Axes>"
      ]
     },
     "metadata": {},
     "output_type": "display_data"
    },
    {
     "name": "stderr",
     "output_type": "stream",
     "text": [
      "Downloading artifacts: 100%|███████████████████████████████████████████████████████████████| 7/7 [00:00<00:00, 1339.97it/s]\n"
     ]
    },
    {
     "name": "stdout",
     "output_type": "stream",
     "text": [
      "2555\n",
      "\n",
      "Model Report Train\n",
      "AUC Score : 0.962506\n",
      "Accuracy : 0.9007\n",
      "Precision : 0.8889\n",
      "Recall : 0.916201\n",
      "\n",
      "Model Report Test\n",
      "AUC Score : 0.900949\n",
      "Accuracy : 0.8291\n",
      "Precision : 0.2601\n",
      "Recall : 0.797753\n"
     ]
    },
    {
     "data": {
      "text/plain": [
       "<Figure size 640x480 with 0 Axes>"
      ]
     },
     "metadata": {},
     "output_type": "display_data"
    },
    {
     "name": "stderr",
     "output_type": "stream",
     "text": [
      "Downloading artifacts: 100%|████████████████████████████████████████████████████████████████| 7/7 [00:00<00:00, 985.24it/s]\n"
     ]
    },
    {
     "name": "stdout",
     "output_type": "stream",
     "text": [
      "2570\n",
      "\n",
      "Model Report Train\n",
      "AUC Score : 0.960064\n",
      "Accuracy : 0.8937\n",
      "Precision : 0.879\n",
      "Recall : 0.913408\n",
      "\n",
      "Model Report Test\n",
      "AUC Score : 0.900180\n",
      "Accuracy : 0.8236\n",
      "Precision : 0.2621\n",
      "Recall : 0.853933\n"
     ]
    },
    {
     "data": {
      "text/plain": [
       "<Figure size 640x480 with 0 Axes>"
      ]
     },
     "metadata": {},
     "output_type": "display_data"
    },
    {
     "name": "stderr",
     "output_type": "stream",
     "text": [
      "Downloading artifacts: 100%|███████████████████████████████████████████████████████████████| 7/7 [00:00<00:00, 1009.63it/s]\n"
     ]
    },
    {
     "name": "stdout",
     "output_type": "stream",
     "text": [
      "2585\n",
      "\n",
      "Model Report Train\n",
      "AUC Score : 0.966754\n",
      "Accuracy : 0.8965\n",
      "Precision : 0.8797\n",
      "Recall : 0.918994\n",
      "\n",
      "Model Report Test\n",
      "AUC Score : 0.890745\n",
      "Accuracy : 0.798\n",
      "Precision : 0.2303\n",
      "Recall : 0.820225\n"
     ]
    },
    {
     "data": {
      "text/plain": [
       "<Figure size 640x480 with 0 Axes>"
      ]
     },
     "metadata": {},
     "output_type": "display_data"
    },
    {
     "name": "stderr",
     "output_type": "stream",
     "text": [
      "Downloading artifacts: 100%|████████████████████████████████████████████████████████████████| 7/7 [00:00<00:00, 923.19it/s]\n"
     ]
    },
    {
     "name": "stdout",
     "output_type": "stream",
     "text": [
      "2600\n",
      "\n",
      "Model Report Train\n",
      "AUC Score : 0.969493\n",
      "Accuracy : 0.9077\n",
      "Precision : 0.8967\n",
      "Recall : 0.921788\n",
      "\n",
      "Model Report Test\n",
      "AUC Score : 0.892396\n",
      "Accuracy : 0.8089\n",
      "Precision : 0.2508\n",
      "Recall : 0.887640\n"
     ]
    },
    {
     "data": {
      "text/plain": [
       "<Figure size 640x480 with 0 Axes>"
      ]
     },
     "metadata": {},
     "output_type": "display_data"
    },
    {
     "name": "stderr",
     "output_type": "stream",
     "text": [
      "Downloading artifacts: 100%|███████████████████████████████████████████████████████████████| 7/7 [00:00<00:00, 1126.51it/s]\n"
     ]
    },
    {
     "name": "stdout",
     "output_type": "stream",
     "text": [
      "2615\n",
      "\n",
      "Model Report Train\n",
      "AUC Score : 0.973569\n",
      "Accuracy : 0.9217\n",
      "Precision : 0.9126\n",
      "Recall : 0.932961\n",
      "\n",
      "Model Report Test\n",
      "AUC Score : 0.890595\n",
      "Accuracy : 0.8019\n",
      "Precision : 0.2438\n",
      "Recall : 0.887640\n"
     ]
    },
    {
     "data": {
      "text/plain": [
       "<Figure size 640x480 with 0 Axes>"
      ]
     },
     "metadata": {},
     "output_type": "display_data"
    },
    {
     "name": "stderr",
     "output_type": "stream",
     "text": [
      "Downloading artifacts: 100%|███████████████████████████████████████████████████████████████| 7/7 [00:00<00:00, 1392.86it/s]\n"
     ]
    },
    {
     "name": "stdout",
     "output_type": "stream",
     "text": [
      "2630\n",
      "\n",
      "Model Report Train\n",
      "AUC Score : 0.960405\n",
      "Accuracy : 0.8965\n",
      "Precision : 0.8737\n",
      "Recall : 0.927374\n",
      "\n",
      "Model Report Test\n",
      "AUC Score : 0.899974\n",
      "Accuracy : 0.8159\n",
      "Precision : 0.2517\n",
      "Recall : 0.842697\n"
     ]
    },
    {
     "data": {
      "text/plain": [
       "<Figure size 640x480 with 0 Axes>"
      ]
     },
     "metadata": {},
     "output_type": "display_data"
    },
    {
     "name": "stderr",
     "output_type": "stream",
     "text": [
      "Downloading artifacts: 100%|████████████████████████████████████████████████████████████████| 7/7 [00:00<00:00, 918.34it/s]\n"
     ]
    },
    {
     "name": "stdout",
     "output_type": "stream",
     "text": [
      "2645\n",
      "\n",
      "Model Report Train\n",
      "AUC Score : 0.970494\n",
      "Accuracy : 0.8993\n",
      "Precision : 0.8844\n",
      "Recall : 0.918994\n",
      "\n",
      "Model Report Test\n",
      "AUC Score : 0.906473\n",
      "Accuracy : 0.8205\n",
      "Precision : 0.2552\n",
      "Recall : 0.831461\n"
     ]
    },
    {
     "data": {
      "text/plain": [
       "<Figure size 640x480 with 0 Axes>"
      ]
     },
     "metadata": {},
     "output_type": "display_data"
    },
    {
     "name": "stderr",
     "output_type": "stream",
     "text": [
      "Downloading artifacts: 100%|████████████████████████████████████████████████████████████████| 7/7 [00:00<00:00, 965.35it/s]\n"
     ]
    },
    {
     "name": "stdout",
     "output_type": "stream",
     "text": [
      "2660\n",
      "\n",
      "Model Report Train\n",
      "AUC Score : 0.966293\n",
      "Accuracy : 0.9007\n",
      "Precision : 0.8786\n",
      "Recall : 0.930168\n",
      "\n",
      "Model Report Test\n",
      "AUC Score : 0.895153\n",
      "Accuracy : 0.8151\n",
      "Precision : 0.2492\n",
      "Recall : 0.831461\n"
     ]
    },
    {
     "data": {
      "text/plain": [
       "<Figure size 640x480 with 0 Axes>"
      ]
     },
     "metadata": {},
     "output_type": "display_data"
    },
    {
     "name": "stderr",
     "output_type": "stream",
     "text": [
      "Downloading artifacts: 100%|████████████████████████████████████████████████████████████████| 7/7 [00:00<00:00, 697.75it/s]\n"
     ]
    },
    {
     "name": "stdout",
     "output_type": "stream",
     "text": [
      "2675\n",
      "\n",
      "Model Report Train\n",
      "AUC Score : 0.962717\n",
      "Accuracy : 0.9035\n",
      "Precision : 0.8853\n",
      "Recall : 0.927374\n",
      "\n",
      "Model Report Test\n",
      "AUC Score : 0.885211\n",
      "Accuracy : 0.7964\n",
      "Precision : 0.2322\n",
      "Recall : 0.842697\n"
     ]
    },
    {
     "data": {
      "text/plain": [
       "<Figure size 640x480 with 0 Axes>"
      ]
     },
     "metadata": {},
     "output_type": "display_data"
    },
    {
     "name": "stderr",
     "output_type": "stream",
     "text": [
      "Downloading artifacts: 100%|████████████████████████████████████████████████████████████████| 7/7 [00:00<00:00, 879.36it/s]\n"
     ]
    },
    {
     "name": "stdout",
     "output_type": "stream",
     "text": [
      "2690\n",
      "\n",
      "Model Report Train\n",
      "AUC Score : 0.967192\n",
      "Accuracy : 0.9091\n",
      "Precision : 0.9014\n",
      "Recall : 0.918994\n",
      "\n",
      "Model Report Test\n",
      "AUC Score : 0.903716\n",
      "Accuracy : 0.819\n",
      "Precision : 0.2616\n",
      "Recall : 0.887640\n"
     ]
    },
    {
     "data": {
      "text/plain": [
       "<Figure size 640x480 with 0 Axes>"
      ]
     },
     "metadata": {},
     "output_type": "display_data"
    },
    {
     "name": "stderr",
     "output_type": "stream",
     "text": [
      "Downloading artifacts: 100%|████████████████████████████████████████████████████████████████| 7/7 [00:00<00:00, 712.85it/s]\n"
     ]
    },
    {
     "name": "stdout",
     "output_type": "stream",
     "text": [
      "2705\n",
      "\n",
      "Model Report Train\n",
      "AUC Score : 0.968570\n",
      "Accuracy : 0.9063\n",
      "Precision : 0.9053\n",
      "Recall : 0.907821\n",
      "\n",
      "Model Report Test\n",
      "AUC Score : 0.895397\n",
      "Accuracy : 0.8236\n",
      "Precision : 0.2604\n",
      "Recall : 0.842697\n"
     ]
    },
    {
     "data": {
      "text/plain": [
       "<Figure size 640x480 with 0 Axes>"
      ]
     },
     "metadata": {},
     "output_type": "display_data"
    },
    {
     "name": "stderr",
     "output_type": "stream",
     "text": [
      "Downloading artifacts: 100%|████████████████████████████████████████████████████████████████| 7/7 [00:00<00:00, 840.04it/s]\n"
     ]
    },
    {
     "name": "stdout",
     "output_type": "stream",
     "text": [
      "2720\n",
      "\n",
      "Model Report Train\n",
      "AUC Score : 0.968871\n",
      "Accuracy : 0.9021\n",
      "Precision : 0.8934\n",
      "Recall : 0.913408\n",
      "\n",
      "Model Report Test\n",
      "AUC Score : 0.884620\n",
      "Accuracy : 0.8096\n",
      "Precision : 0.2417\n",
      "Recall : 0.820225\n"
     ]
    },
    {
     "data": {
      "text/plain": [
       "<Figure size 640x480 with 0 Axes>"
      ]
     },
     "metadata": {},
     "output_type": "display_data"
    },
    {
     "name": "stderr",
     "output_type": "stream",
     "text": [
      "Downloading artifacts: 100%|███████████████████████████████████████████████████████████████| 7/7 [00:00<00:00, 1352.19it/s]\n"
     ]
    },
    {
     "name": "stdout",
     "output_type": "stream",
     "text": [
      "2735\n",
      "\n",
      "Model Report Train\n",
      "AUC Score : 0.961050\n",
      "Accuracy : 0.9035\n",
      "Precision : 0.8833\n",
      "Recall : 0.930168\n",
      "\n",
      "Model Report Test\n",
      "AUC Score : 0.903556\n",
      "Accuracy : 0.8213\n",
      "Precision : 0.2594\n",
      "Recall : 0.853933\n"
     ]
    },
    {
     "data": {
      "text/plain": [
       "<Figure size 640x480 with 0 Axes>"
      ]
     },
     "metadata": {},
     "output_type": "display_data"
    },
    {
     "name": "stderr",
     "output_type": "stream",
     "text": [
      "Downloading artifacts: 100%|████████████████████████████████████████████████████████████████| 7/7 [00:00<00:00, 884.13it/s]\n"
     ]
    },
    {
     "name": "stdout",
     "output_type": "stream",
     "text": [
      "2750\n",
      "\n",
      "Model Report Train\n",
      "AUC Score : 0.963953\n",
      "Accuracy : 0.8867\n",
      "Precision : 0.8733\n",
      "Recall : 0.905028\n",
      "\n",
      "Model Report Test\n",
      "AUC Score : 0.895669\n",
      "Accuracy : 0.8127\n",
      "Precision : 0.2467\n",
      "Recall : 0.831461\n"
     ]
    },
    {
     "data": {
      "text/plain": [
       "<Figure size 640x480 with 0 Axes>"
      ]
     },
     "metadata": {},
     "output_type": "display_data"
    },
    {
     "name": "stderr",
     "output_type": "stream",
     "text": [
      "Downloading artifacts: 100%|████████████████████████████████████████████████████████████████| 7/7 [00:00<00:00, 764.69it/s]\n"
     ]
    },
    {
     "name": "stdout",
     "output_type": "stream",
     "text": [
      "2765\n",
      "\n",
      "Model Report Train\n",
      "AUC Score : 0.960182\n",
      "Accuracy : 0.8853\n",
      "Precision : 0.8651\n",
      "Recall : 0.913408\n",
      "\n",
      "Model Report Test\n",
      "AUC Score : 0.892330\n",
      "Accuracy : 0.8089\n",
      "Precision : 0.2426\n",
      "Recall : 0.831461\n"
     ]
    },
    {
     "data": {
      "text/plain": [
       "<Figure size 640x480 with 0 Axes>"
      ]
     },
     "metadata": {},
     "output_type": "display_data"
    },
    {
     "name": "stderr",
     "output_type": "stream",
     "text": [
      "Downloading artifacts: 100%|████████████████████████████████████████████████████████████████| 7/7 [00:00<00:00, 722.84it/s]\n"
     ]
    },
    {
     "name": "stdout",
     "output_type": "stream",
     "text": [
      "2780\n",
      "\n",
      "Model Report Train\n",
      "AUC Score : 0.969477\n",
      "Accuracy : 0.9035\n",
      "Precision : 0.8895\n",
      "Recall : 0.921788\n",
      "\n",
      "Model Report Test\n",
      "AUC Score : 0.890567\n",
      "Accuracy : 0.8135\n",
      "Precision : 0.2492\n",
      "Recall : 0.842697\n"
     ]
    },
    {
     "data": {
      "text/plain": [
       "<Figure size 640x480 with 0 Axes>"
      ]
     },
     "metadata": {},
     "output_type": "display_data"
    },
    {
     "name": "stderr",
     "output_type": "stream",
     "text": [
      "Downloading artifacts: 100%|████████████████████████████████████████████████████████████████| 7/7 [00:00<00:00, 684.59it/s]\n"
     ]
    },
    {
     "name": "stdout",
     "output_type": "stream",
     "text": [
      "2795\n",
      "\n",
      "Model Report Train\n",
      "AUC Score : 0.970373\n",
      "Accuracy : 0.9035\n",
      "Precision : 0.8895\n",
      "Recall : 0.921788\n",
      "\n",
      "Model Report Test\n",
      "AUC Score : 0.902558\n",
      "Accuracy : 0.8065\n",
      "Precision : 0.2419\n",
      "Recall : 0.842697\n"
     ]
    },
    {
     "data": {
      "text/plain": [
       "<Figure size 640x480 with 0 Axes>"
      ]
     },
     "metadata": {},
     "output_type": "display_data"
    },
    {
     "name": "stderr",
     "output_type": "stream",
     "text": [
      "Downloading artifacts: 100%|████████████████████████████████████████████████████████████████| 7/7 [00:00<00:00, 727.13it/s]\n"
     ]
    },
    {
     "name": "stdout",
     "output_type": "stream",
     "text": [
      "2810\n",
      "\n",
      "Model Report Train\n",
      "AUC Score : 0.962216\n",
      "Accuracy : 0.8853\n",
      "Precision : 0.873\n",
      "Recall : 0.902235\n",
      "\n",
      "Model Report Test\n",
      "AUC Score : 0.914867\n",
      "Accuracy : 0.8361\n",
      "Precision : 0.2806\n",
      "Recall : 0.876404\n"
     ]
    },
    {
     "data": {
      "text/plain": [
       "<Figure size 640x480 with 0 Axes>"
      ]
     },
     "metadata": {},
     "output_type": "display_data"
    },
    {
     "name": "stderr",
     "output_type": "stream",
     "text": [
      "Downloading artifacts: 100%|████████████████████████████████████████████████████████████████| 7/7 [00:00<00:00, 944.91it/s]\n"
     ]
    },
    {
     "name": "stdout",
     "output_type": "stream",
     "text": [
      "2825\n",
      "\n",
      "Model Report Train\n",
      "AUC Score : 0.961473\n",
      "Accuracy : 0.9049\n",
      "Precision : 0.894\n",
      "Recall : 0.918994\n",
      "\n",
      "Model Report Test\n",
      "AUC Score : 0.908002\n",
      "Accuracy : 0.8213\n",
      "Precision : 0.261\n",
      "Recall : 0.865169\n"
     ]
    },
    {
     "data": {
      "text/plain": [
       "<Figure size 640x480 with 0 Axes>"
      ]
     },
     "metadata": {},
     "output_type": "display_data"
    },
    {
     "name": "stderr",
     "output_type": "stream",
     "text": [
      "Downloading artifacts: 100%|███████████████████████████████████████████████████████████████| 7/7 [00:00<00:00, 1006.35it/s]\n"
     ]
    },
    {
     "name": "stdout",
     "output_type": "stream",
     "text": [
      "2840\n",
      "\n",
      "Model Report Train\n",
      "AUC Score : 0.962776\n",
      "Accuracy : 0.8923\n",
      "Precision : 0.8787\n",
      "Recall : 0.910615\n",
      "\n",
      "Model Report Test\n",
      "AUC Score : 0.902515\n",
      "Accuracy : 0.8314\n",
      "Precision : 0.2698\n",
      "Recall : 0.842697\n"
     ]
    },
    {
     "data": {
      "text/plain": [
       "<Figure size 640x480 with 0 Axes>"
      ]
     },
     "metadata": {},
     "output_type": "display_data"
    },
    {
     "name": "stderr",
     "output_type": "stream",
     "text": [
      "Downloading artifacts: 100%|███████████████████████████████████████████████████████████████| 7/7 [00:00<00:00, 1205.26it/s]\n"
     ]
    },
    {
     "name": "stdout",
     "output_type": "stream",
     "text": [
      "2855\n",
      "\n",
      "Model Report Train\n",
      "AUC Score : 0.963249\n",
      "Accuracy : 0.9091\n",
      "Precision : 0.8992\n",
      "Recall : 0.921788\n",
      "\n",
      "Model Report Test\n",
      "AUC Score : 0.897404\n",
      "Accuracy : 0.8089\n",
      "Precision : 0.2443\n",
      "Recall : 0.842697\n"
     ]
    },
    {
     "data": {
      "text/plain": [
       "<Figure size 640x480 with 0 Axes>"
      ]
     },
     "metadata": {},
     "output_type": "display_data"
    },
    {
     "name": "stderr",
     "output_type": "stream",
     "text": [
      "Downloading artifacts: 100%|████████████████████████████████████████████████████████████████| 7/7 [00:00<00:00, 810.18it/s]\n"
     ]
    },
    {
     "name": "stdout",
     "output_type": "stream",
     "text": [
      "2870\n",
      "\n",
      "Model Report Train\n",
      "AUC Score : 0.954846\n",
      "Accuracy : 0.8881\n",
      "Precision : 0.8697\n",
      "Recall : 0.913408\n",
      "\n",
      "Model Report Test\n",
      "AUC Score : 0.907908\n",
      "Accuracy : 0.8089\n",
      "Precision : 0.2443\n",
      "Recall : 0.842697\n"
     ]
    },
    {
     "data": {
      "text/plain": [
       "<Figure size 640x480 with 0 Axes>"
      ]
     },
     "metadata": {},
     "output_type": "display_data"
    },
    {
     "name": "stderr",
     "output_type": "stream",
     "text": [
      "Downloading artifacts: 100%|███████████████████████████████████████████████████████████████| 7/7 [00:00<00:00, 1386.55it/s]\n"
     ]
    }
   ],
   "source": [
    "#\n",
    "file_path_replies = r\"/home/azureuser/rumour-detection-pheme/replies_charlie_hebdo.pkl\"\n",
    "file_path_posts = r\"/home/azureuser/rumour-detection-pheme/posts_charlie_hebdo.pkl\"\n",
    "\n",
    "for time_cut in range(5,48*60,15):\n",
    "    print(time_cut)\n",
    "    processor = LoadRumoursDataset(file_path_replies, file_path_posts, time_cut)\n",
    "    processor.load_data()\n",
    "    processor.process_data()\n",
    "    df_final = processor.get_final_dataframe()\n",
    "    df_final['id'] = [uuid.uuid4() for _ in range(len(df_final))]\n",
    "    df_not_rumours = df_final[df_final.rumour==0]\n",
    "\n",
    "    n =  df_final[df_final.rumour==1].shape[0]  # Unique number of values in 'replies' column\n",
    "\n",
    "    # Group by 'replies' and sample 'n' rows from each group\n",
    "    subset_df_not_rumours= df_not_rumours.sample(n= n)\n",
    "    df_final_balanced =pd.concat([subset_df_not_rumours,df_final[df_final.rumour==1]])\n",
    "    df_final_remaining = df_final[(~df_final.id.isin(subset_df_not_rumours.id))&(df_final.rumour==0)]\n",
    "\n",
    "    X  = df_final_balanced.drop(columns=['rumour','id'])\n",
    "    X = np.hstack([X.drop(columns=['embeddings_avg']).values, np.array(pd.DataFrame(X.embeddings_avg.tolist()))])\n",
    "    y =df_final_balanced['rumour']\n",
    "\n",
    "    # Split the data into training and testing sets\n",
    "    X_train, X_test, y_train, y_test = train_test_split(\n",
    "        X, y, test_size=0.2, random_state=42,stratify=y,shuffle=True\n",
    "    )\n",
    "\n",
    "    X_test_all  = df_final_remaining.drop(columns=['rumour','id'])\n",
    "    X_test_all = np.hstack([X_test_all.drop(columns=['embeddings_avg']).values, np.array(pd.DataFrame(X_test_all.embeddings_avg.tolist()))])\n",
    "    y_test_all =df_final_remaining['rumour']\n",
    "    X_test_all = np.concatenate((X_test_all, X_test), axis=0)\n",
    "    y_test_all = pd.concat([y_test_all, y_test], axis=0)\n",
    "    \n",
    "    final_model = xgb.XGBClassifier(eval_metric='logloss',**best_params)\n",
    "    \n",
    "    modelfit(final_model,  X_train, y_train,X_test_all,y_test_all)"
   ]
  },
  {
   "cell_type": "code",
   "execution_count": 45,
   "id": "eb9cb159-c304-4e6a-9cfe-7e7f58cf90da",
   "metadata": {},
   "outputs": [],
   "source": [
    "\n",
    "\n",
    "# Get the experiment ID or name\n",
    "experiment_name = \"Xgb experiment 2024-09-03\"  # Replace with your experiment name\n",
    "experiment = mlflow.get_experiment_by_name(experiment_name)\n",
    "\n",
    "if experiment is not None:\n",
    "    experiment_id = experiment.experiment_id\n",
    "\n",
    "    # Retrieve all runs in the experiment as a DataFrame\n",
    "    df = mlflow.search_runs(experiment_ids=[experiment_id])\n",
    "    \n",
    "    # Show the DataFrame\n",
    "    #print(df)\n",
    "else:\n",
    "    print(f\"Experiment '{experiment_name}' not found.\")\n"
   ]
  },
  {
   "cell_type": "code",
   "execution_count": 53,
   "id": "f63f6b59-a05a-4f0a-b6cb-b555adb1e0dd",
   "metadata": {},
   "outputs": [
    {
     "data": {
      "text/plain": [
       "(715, 107)"
      ]
     },
     "execution_count": 53,
     "metadata": {},
     "output_type": "execute_result"
    }
   ],
   "source": [
    "X_train.shape"
   ]
  },
  {
   "cell_type": "code",
   "execution_count": 59,
   "id": "1d8c3338-c7c9-4d0d-8f2b-cf297680996e",
   "metadata": {},
   "outputs": [
    {
     "data": {
      "text/plain": [
       "(179,)"
      ]
     },
     "execution_count": 59,
     "metadata": {},
     "output_type": "execute_result"
    }
   ],
   "source": [
    "y_test.shape"
   ]
  },
  {
   "cell_type": "code",
   "execution_count": 55,
   "id": "59244101-ed01-4735-8b93-cdc8e0d222c8",
   "metadata": {},
   "outputs": [
    {
     "data": {
      "text/plain": [
       "(1287, 107)"
      ]
     },
     "execution_count": 55,
     "metadata": {},
     "output_type": "execute_result"
    }
   ],
   "source": [
    "X_test_all.shape"
   ]
  },
  {
   "cell_type": "code",
   "execution_count": 57,
   "id": "7678f311-e783-4dbd-8c26-4254d8a464a8",
   "metadata": {},
   "outputs": [
    {
     "data": {
      "text/plain": [
       "89"
      ]
     },
     "execution_count": 57,
     "metadata": {},
     "output_type": "execute_result"
    }
   ],
   "source": [
    "y_test_all.sum()"
   ]
  },
  {
   "cell_type": "code",
   "execution_count": 58,
   "id": "cc7bc29f-ddb6-44f7-a3ff-0183cda154a6",
   "metadata": {},
   "outputs": [
    {
     "data": {
      "text/plain": [
       "89"
      ]
     },
     "execution_count": 58,
     "metadata": {},
     "output_type": "execute_result"
    }
   ],
   "source": [
    "y_test.sum()"
   ]
  },
  {
   "cell_type": "code",
   "execution_count": 47,
   "id": "16d94b7e-7798-4214-bc0e-f753e16d0e5c",
   "metadata": {},
   "outputs": [
    {
     "data": {
      "image/png": "[encoded data removed]",
      "text/plain": [
       "<Figure size 1000x600 with 1 Axes>"
      ]
     },
     "metadata": {},
     "output_type": "display_data"
    }
   ],
   "source": [
    "    # Ensure the metrics are numeric\n",
    "df['metrics.time_cut'] = pd.to_numeric(df['metrics.time_cut'], errors='coerce')\n",
    "df['metrics.test_recall'] = pd.to_numeric(df['metrics.test_recall'], errors='coerce')\n",
    "    \n",
    "# Plotting time_cut vs. test_accuracy\n",
    "plt.figure(figsize=(10, 6))\n",
    "sns.lineplot(x='metrics.time_cut', y='metrics.test_accuracy', data=df)\n",
    "plt.title('Time Cut vs. Test Recall')\n",
    "plt.xlabel('Time Cut')\n",
    "plt.ylabel('Test Recall')\n",
    "plt.grid(True)\n",
    "plt.show()"
   ]
  }
 ],
 "metadata": {
  "kernelspec": {
   "display_name": "mastering",
   "language": "python",
   "name": "mastering"
  },
  "language_info": {
   "codemirror_mode": {
    "name": "ipython",
    "version": 3
   },
   "file_extension": ".py",
   "mimetype": "text/x-python",
   "name": "python",
   "nbconvert_exporter": "python",
   "pygments_lexer": "ipython3",
   "version": "3.12.5"
  }
 },
 "nbformat": 4,
 "nbformat_minor": 5
}
