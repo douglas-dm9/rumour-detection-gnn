{
 "cells": [
  {
   "cell_type": "code",
   "execution_count": 1,
   "id": "60ae9bc9-2423-4b62-9c90-70bd71b117b9",
   "metadata": {},
   "outputs": [],
   "source": [
    "import pandas as pd\n",
    "from sklearn.metrics import *\n",
    "from tqdm import tqdm\n",
    "from utils import Hetero_Data_Processor_Filter_on_Test_since_first_post\n",
    "import numpy as np\n",
    "import warnings\n",
    "warnings.filterwarnings('ignore')\n"
   ]
  },
  {
   "cell_type": "code",
   "execution_count": 2,
   "id": "5ec11366-8360-4848-abde-b5e223f6b0df",
   "metadata": {},
   "outputs": [],
   "source": [
    "\n",
    "# Usage\n",
    "file_path_replies = r\"/home/azureuser/rumour-detection-pheme/replies_charlie_hebdo.pkl\"\n",
    "file_path_posts = r\"/home/azureuser/rumour-detection-pheme/posts_charlie_hebdo.pkl\"\n",
    "\n",
    "\n",
    "processor = Hetero_Data_Processor_Filter_on_Test_since_first_post(file_path_replies, file_path_posts, time_cut=17)\n",
    "data = processor.process()\n"
   ]
  },
  {
   "cell_type": "code",
   "execution_count": 3,
   "id": "06ac034a-0b49-497d-b89b-6bc6ae717b89",
   "metadata": {},
   "outputs": [
    {
     "data": {
      "text/plain": [
       "HeteroData(\n",
       "  id={\n",
       "    x=[1407, 106],\n",
       "    y=[1407],\n",
       "    train_mask=[1407],\n",
       "    val_mask=[1407],\n",
       "    test_mask=[1407],\n",
       "  },\n",
       "  reply_user_id={ x=[13161, 104] },\n",
       "  (id, retweet, reply_user_id)={ edge_index=[2, 13161] },\n",
       "  (reply_user_id, rev_retweet, id)={ edge_index=[2, 13161] }\n",
       ")"
      ]
     },
     "execution_count": 3,
     "metadata": {},
     "output_type": "execute_result"
    }
   ],
   "source": [
    "data"
   ]
  },
  {
   "cell_type": "code",
   "execution_count": 2,
   "id": "7fa97da8-1ca8-40e9-84f0-ce7d57d74249",
   "metadata": {},
   "outputs": [
    {
     "data": {
      "text/plain": [
       "<Experiment: artifact_location='/home/azureuser/rumour-detection-pheme/mlruns/45', creation_time=1730336815570, experiment_id='45', last_update_time=1730336815570, lifecycle_stage='active', name='GAT Network 2024-10-30 2 layers Filter Node on test time since first post', tags={}>"
      ]
     },
     "execution_count": 2,
     "metadata": {},
     "output_type": "execute_result"
    }
   ],
   "source": [
    "import mlflow\n",
    "mlflow.set_tracking_uri(\"sqlite:///mlflow.db\")\n",
    "#mlflow.set_experiment(\"spyder-experiment\")\n",
    "import mlflow.pytorch\n",
    "mlflow.set_experiment(\"GAT Network 2024-10-30 2 layers Filter Node on test time since first post\")"
   ]
  },
  {
   "cell_type": "code",
   "execution_count": 6,
   "id": "cd69448a-635d-42a8-8a21-e2492eb881c9",
   "metadata": {},
   "outputs": [],
   "source": [
    "import torch\n",
    "import torch.nn as nn\n",
    "import torch.nn.functional as F\n",
    "from torch_geometric.nn import GATConv, to_hetero\n",
    "\n",
    "class GAT(torch.nn.Module):\n",
    "    def __init__(self, dim_h, dim_out):\n",
    "        super().__init__()\n",
    "        self.conv1 = GATConv((-1, -1), dim_h, add_self_loops=False)\n",
    "        self.conv2 = GATConv(dim_h, dim_h, add_self_loops=False)  # Added second GATConv layer\n",
    "        self.linear = nn.Linear(dim_h, dim_out)\n",
    "        self.dropout = nn.Dropout(p=0.4)\n",
    "\n",
    "    def forward(self, x, edge_index):\n",
    "        h = self.conv1(x, edge_index).relu()\n",
    "        h = self.dropout(h)\n",
    "        h = self.conv2(h, edge_index).relu()  # Pass through the second GATConv layer\n",
    "        h = self.dropout(h)\n",
    "        h = self.linear(h)\n",
    "        return h\n",
    "\n",
    "@torch.no_grad()\n",
    "def test(mask):\n",
    "    model.eval()\n",
    "    pred = model(data.x_dict, data.edge_index_dict)['id'].argmax(dim=-1)\n",
    "    acc = (pred[mask] == data['id'].y[mask]).sum() / mask.sum()\n",
    "    return float(acc)"
   ]
  },
  {
   "cell_type": "code",
   "execution_count": 18,
   "id": "161cd7d8-b164-41da-aa06-ffb30e141e83",
   "metadata": {},
   "outputs": [
    {
     "name": "stdout",
     "output_type": "stream",
     "text": [
      "Epoch:   0 | Train Loss: 0.9307 | Train Acc: 64.67% | Val Acc: 0.00%\n",
      "Epoch:  50 | Train Loss: 0.3778 | Train Acc: 82.94% | Val Acc: 0.00%\n",
      "Epoch: 100 | Train Loss: 0.3129 | Train Acc: 86.01% | Val Acc: 66.67%\n",
      "Epoch: 150 | Train Loss: 0.2651 | Train Acc: 88.87% | Val Acc: 66.67%\n",
      "Epoch: 200 | Train Loss: 0.2253 | Train Acc: 91.43% | Val Acc: 66.67%\n",
      "Epoch: 250 | Train Loss: 0.1910 | Train Acc: 94.08% | Val Acc: 66.67%\n",
      "Epoch: 300 | Train Loss: 0.1420 | Train Acc: 95.93% | Val Acc: 66.67%\n",
      "Epoch: 350 | Train Loss: 0.1092 | Train Acc: 97.57% | Val Acc: 66.67%\n",
      "Epoch: 400 | Train Loss: 0.0809 | Train Acc: 98.43% | Val Acc: 66.67%\n",
      "Epoch: 450 | Train Loss: 0.0679 | Train Acc: 99.21% | Val Acc: 66.67%\n",
      "Test accuracy: 100.00%\n"
     ]
    }
   ],
   "source": [
    "\n",
    "model = GAT(dim_h=64, dim_out=2)\n",
    "model = to_hetero(model, data.metadata(), aggr='sum')\n",
    "\n",
    "optimizer = torch.optim.Adam(model.parameters(), lr=0.001)\n",
    "device = torch.device('cuda' if torch.cuda.is_available() else 'cpu')\n",
    "data, model = data.to(device), model.to(device)\n",
    "\n",
    "\n",
    "\n",
    "for epoch in range(500):\n",
    "    model.train()\n",
    "    optimizer.zero_grad()\n",
    "    out = model(data.x_dict, data.edge_index_dict)['id']\n",
    "    mask = data['id'].train_mask\n",
    "    loss = F.cross_entropy(out[mask], data['id'].y[mask])\n",
    "    loss.backward()\n",
    "    optimizer.step()\n",
    "    \n",
    "    if epoch % 50 == 0:\n",
    "        train_acc = test(data['id'].train_mask)\n",
    "        val_acc = test(data['id'].val_mask)\n",
    "        print(f'Epoch: {epoch:>3} | Train Loss: {loss:.4f} | Train Acc: {train_acc*100:.2f}% | Val Acc: {val_acc*100:.2f}%')\n",
    "    \n",
    "test_acc = test(data['id'].test_mask)\n",
    "print(f'Test accuracy: {test_acc*100:.2f}%')\n",
    "    \n"
   ]
  },
  {
   "cell_type": "code",
   "execution_count": 20,
   "id": "6f6a4136-b36d-4789-8b63-f16ee35a384b",
   "metadata": {},
   "outputs": [
    {
     "data": {
      "text/plain": [
       "0.8333333333333333"
      ]
     },
     "execution_count": 20,
     "metadata": {},
     "output_type": "execute_result"
    }
   ],
   "source": [
    "test_mask = data['id'].test_mask | data['id'].val_mask\n",
    "pred = model(data.x_dict, data.edge_index_dict)['id'].argmax(dim=-1)\n",
    "true_labels = data['id'].y[test_mask]\n",
    "pred_labels = pred[test_mask]\n",
    "precision_score(true_labels, pred_labels, average='macro')"
   ]
  },
  {
   "cell_type": "code",
   "execution_count": 21,
   "id": "614509bd-4a93-4e9a-a570-62f25e1c7ae2",
   "metadata": {},
   "outputs": [
    {
     "data": {
      "text/plain": [
       "0.8333333333333333"
      ]
     },
     "execution_count": 21,
     "metadata": {},
     "output_type": "execute_result"
    }
   ],
   "source": [
    "recall_score(true_labels, pred_labels, average='macro')"
   ]
  },
  {
   "cell_type": "code",
   "execution_count": null,
   "id": "88ea830b-df92-4250-bc67-634e2157eb59",
   "metadata": {},
   "outputs": [],
   "source": []
  },
  {
   "cell_type": "code",
   "execution_count": null,
   "id": "146cc5fc-4790-471a-865a-ec376f7d9f9e",
   "metadata": {},
   "outputs": [],
   "source": []
  },
  {
   "cell_type": "code",
   "execution_count": 7,
   "id": "2b62c1fc-5e96-4e66-abd2-41589d298042",
   "metadata": {},
   "outputs": [
    {
     "name": "stdout",
     "output_type": "stream",
     "text": [
      "4008\n",
      "0\n",
      "Epoch:   0 | Train Loss: 0.8092 | Train Acc: 62.38% | Val Acc: 55.15%\n",
      "100\n",
      "Epoch: 100 | Train Loss: 0.3289 | Train Acc: 85.30% | Val Acc: 81.40%\n",
      "200\n",
      "Epoch: 200 | Train Loss: 0.2343 | Train Acc: 90.65% | Val Acc: 80.40%\n",
      "300\n",
      "Epoch: 300 | Train Loss: 0.1515 | Train Acc: 94.72% | Val Acc: 79.40%\n",
      "Test accuracy: 89.33%\n",
      "Test Recall: 74.56%\n",
      "Test Precision: 77.31%\n"
     ]
    },
    {
     "name": "stderr",
     "output_type": "stream",
     "text": [
      "2024/10/31 16:19:28 WARNING mlflow.models.model: Input example should be provided to infer model signature if the model signature is not provided when logging the model.\n"
     ]
    },
    {
     "name": "stdout",
     "output_type": "stream",
     "text": [
      "4023\n",
      "0\n",
      "Epoch:   0 | Train Loss: 0.7532 | Train Acc: 71.52% | Val Acc: 66.78%\n",
      "100\n",
      "Epoch: 100 | Train Loss: 0.2962 | Train Acc: 87.08% | Val Acc: 82.06%\n",
      "200\n",
      "Epoch: 200 | Train Loss: 0.1860 | Train Acc: 92.79% | Val Acc: 82.39%\n",
      "300\n",
      "Epoch: 300 | Train Loss: 0.1188 | Train Acc: 96.07% | Val Acc: 82.06%\n",
      "Test accuracy: 85.00%\n",
      "Test Recall: 79.40%\n",
      "Test Precision: 76.50%\n"
     ]
    },
    {
     "name": "stderr",
     "output_type": "stream",
     "text": [
      "2024/10/31 16:22:22 WARNING mlflow.models.model: Input example should be provided to infer model signature if the model signature is not provided when logging the model.\n"
     ]
    },
    {
     "name": "stdout",
     "output_type": "stream",
     "text": [
      "4038\n",
      "0\n",
      "Epoch:   0 | Train Loss: 1.0790 | Train Acc: 25.84% | Val Acc: 40.86%\n",
      "100\n",
      "Epoch: 100 | Train Loss: 0.3377 | Train Acc: 84.94% | Val Acc: 81.06%\n",
      "200\n",
      "Epoch: 200 | Train Loss: 0.2424 | Train Acc: 89.44% | Val Acc: 77.74%\n",
      "300\n",
      "Epoch: 300 | Train Loss: 0.2038 | Train Acc: 91.65% | Val Acc: 77.41%\n",
      "Test accuracy: 83.67%\n",
      "Test Recall: 72.84%\n",
      "Test Precision: 72.04%\n"
     ]
    },
    {
     "name": "stderr",
     "output_type": "stream",
     "text": [
      "2024/10/31 16:25:13 WARNING mlflow.models.model: Input example should be provided to infer model signature if the model signature is not provided when logging the model.\n"
     ]
    },
    {
     "name": "stdout",
     "output_type": "stream",
     "text": [
      "4053\n",
      "0\n",
      "Epoch:   0 | Train Loss: 1.0051 | Train Acc: 25.84% | Val Acc: 44.19%\n",
      "100\n",
      "Epoch: 100 | Train Loss: 0.3205 | Train Acc: 86.44% | Val Acc: 81.40%\n",
      "200\n",
      "Epoch: 200 | Train Loss: 0.2383 | Train Acc: 90.58% | Val Acc: 84.05%\n",
      "300\n",
      "Epoch: 300 | Train Loss: 0.1441 | Train Acc: 93.22% | Val Acc: 84.39%\n",
      "Test accuracy: 83.33%\n",
      "Test Recall: 80.20%\n",
      "Test Precision: 76.57%\n"
     ]
    },
    {
     "name": "stderr",
     "output_type": "stream",
     "text": [
      "2024/10/31 16:28:08 WARNING mlflow.models.model: Input example should be provided to infer model signature if the model signature is not provided when logging the model.\n"
     ]
    },
    {
     "name": "stdout",
     "output_type": "stream",
     "text": [
      "4068\n",
      "0\n",
      "Epoch:   0 | Train Loss: 0.6669 | Train Acc: 77.66% | Val Acc: 55.48%\n",
      "100\n",
      "Epoch: 100 | Train Loss: 0.2975 | Train Acc: 86.94% | Val Acc: 81.06%\n",
      "200\n",
      "Epoch: 200 | Train Loss: 0.1899 | Train Acc: 92.79% | Val Acc: 82.06%\n",
      "300\n",
      "Epoch: 300 | Train Loss: 0.1207 | Train Acc: 96.72% | Val Acc: 79.07%\n",
      "Test accuracy: 88.67%\n",
      "Test Recall: 77.16%\n",
      "Test Precision: 77.46%\n"
     ]
    },
    {
     "name": "stderr",
     "output_type": "stream",
     "text": [
      "2024/10/31 16:30:55 WARNING mlflow.models.model: Input example should be provided to infer model signature if the model signature is not provided when logging the model.\n"
     ]
    },
    {
     "name": "stdout",
     "output_type": "stream",
     "text": [
      "4083\n",
      "0\n",
      "Epoch:   0 | Train Loss: 1.2887 | Train Acc: 73.02% | Val Acc: 56.81%\n",
      "100\n",
      "Epoch: 100 | Train Loss: 0.2916 | Train Acc: 87.58% | Val Acc: 81.06%\n",
      "200\n",
      "Epoch: 200 | Train Loss: 0.2034 | Train Acc: 92.65% | Val Acc: 78.74%\n",
      "300\n",
      "Epoch: 300 | Train Loss: 0.1224 | Train Acc: 95.15% | Val Acc: 80.07%\n",
      "Test accuracy: 83.33%\n",
      "Test Recall: 74.28%\n",
      "Test Precision: 73.43%\n"
     ]
    },
    {
     "name": "stderr",
     "output_type": "stream",
     "text": [
      "2024/10/31 16:33:47 WARNING mlflow.models.model: Input example should be provided to infer model signature if the model signature is not provided when logging the model.\n"
     ]
    },
    {
     "name": "stdout",
     "output_type": "stream",
     "text": [
      "4098\n",
      "0\n",
      "Epoch:   0 | Train Loss: 0.7239 | Train Acc: 74.88% | Val Acc: 54.15%\n",
      "100\n",
      "Epoch: 100 | Train Loss: 0.3128 | Train Acc: 85.80% | Val Acc: 81.40%\n",
      "200\n",
      "Epoch: 200 | Train Loss: 0.2236 | Train Acc: 90.51% | Val Acc: 82.06%\n",
      "300\n",
      "Epoch: 300 | Train Loss: 0.1486 | Train Acc: 95.15% | Val Acc: 79.07%\n",
      "Test accuracy: 91.00%\n",
      "Test Recall: 76.74%\n",
      "Test Precision: 79.36%\n"
     ]
    },
    {
     "name": "stderr",
     "output_type": "stream",
     "text": [
      "2024/10/31 16:36:35 WARNING mlflow.models.model: Input example should be provided to infer model signature if the model signature is not provided when logging the model.\n"
     ]
    },
    {
     "name": "stdout",
     "output_type": "stream",
     "text": [
      "4113\n",
      "0\n",
      "Epoch:   0 | Train Loss: 0.9151 | Train Acc: 61.74% | Val Acc: 47.84%\n",
      "100\n",
      "Epoch: 100 | Train Loss: 0.3126 | Train Acc: 85.22% | Val Acc: 79.73%\n",
      "200\n",
      "Epoch: 200 | Train Loss: 0.2278 | Train Acc: 91.29% | Val Acc: 79.07%\n",
      "300\n",
      "Epoch: 300 | Train Loss: 0.1578 | Train Acc: 94.93% | Val Acc: 79.07%\n",
      "Test accuracy: 92.00%\n",
      "Test Recall: 77.06%\n",
      "Test Precision: 80.30%\n"
     ]
    },
    {
     "name": "stderr",
     "output_type": "stream",
     "text": [
      "2024/10/31 16:39:23 WARNING mlflow.models.model: Input example should be provided to infer model signature if the model signature is not provided when logging the model.\n"
     ]
    },
    {
     "name": "stdout",
     "output_type": "stream",
     "text": [
      "4128\n",
      "0\n",
      "Epoch:   0 | Train Loss: 0.9146 | Train Acc: 23.34% | Val Acc: 45.18%\n",
      "100\n",
      "Epoch: 100 | Train Loss: 0.3413 | Train Acc: 84.94% | Val Acc: 81.40%\n",
      "200\n",
      "Epoch: 200 | Train Loss: 0.2457 | Train Acc: 88.87% | Val Acc: 82.72%\n",
      "300\n",
      "Epoch: 300 | Train Loss: 0.1608 | Train Acc: 93.29% | Val Acc: 79.07%\n",
      "Test accuracy: 82.33%\n",
      "Test Recall: 74.49%\n",
      "Test Precision: 71.98%\n"
     ]
    },
    {
     "name": "stderr",
     "output_type": "stream",
     "text": [
      "2024/10/31 16:42:07 WARNING mlflow.models.model: Input example should be provided to infer model signature if the model signature is not provided when logging the model.\n"
     ]
    },
    {
     "name": "stdout",
     "output_type": "stream",
     "text": [
      "4143\n",
      "0\n",
      "Epoch:   0 | Train Loss: 0.7963 | Train Acc: 45.47% | Val Acc: 50.83%\n",
      "100\n",
      "Epoch: 100 | Train Loss: 0.3193 | Train Acc: 85.58% | Val Acc: 79.73%\n",
      "200\n",
      "Epoch: 200 | Train Loss: 0.2204 | Train Acc: 90.15% | Val Acc: 80.07%\n",
      "300\n",
      "Epoch: 300 | Train Loss: 0.1583 | Train Acc: 94.79% | Val Acc: 78.74%\n",
      "Test accuracy: 83.33%\n",
      "Test Recall: 76.67%\n",
      "Test Precision: 73.75%\n"
     ]
    },
    {
     "name": "stderr",
     "output_type": "stream",
     "text": [
      "2024/10/31 16:44:55 WARNING mlflow.models.model: Input example should be provided to infer model signature if the model signature is not provided when logging the model.\n"
     ]
    },
    {
     "name": "stdout",
     "output_type": "stream",
     "text": [
      "4158\n",
      "0\n",
      "Epoch:   0 | Train Loss: 0.7147 | Train Acc: 75.59% | Val Acc: 55.15%\n",
      "100\n",
      "Epoch: 100 | Train Loss: 0.3096 | Train Acc: 85.72% | Val Acc: 82.39%\n",
      "200\n",
      "Epoch: 200 | Train Loss: 0.2092 | Train Acc: 90.79% | Val Acc: 82.72%\n",
      "300\n",
      "Epoch: 300 | Train Loss: 0.1438 | Train Acc: 93.86% | Val Acc: 83.39%\n",
      "Test accuracy: 87.67%\n",
      "Test Recall: 79.83%\n",
      "Test Precision: 78.50%\n"
     ]
    },
    {
     "name": "stderr",
     "output_type": "stream",
     "text": [
      "2024/10/31 16:47:49 WARNING mlflow.models.model: Input example should be provided to infer model signature if the model signature is not provided when logging the model.\n"
     ]
    },
    {
     "name": "stdout",
     "output_type": "stream",
     "text": [
      "4173\n",
      "0\n",
      "Epoch:   0 | Train Loss: 1.0713 | Train Acc: 32.76% | Val Acc: 38.21%\n",
      "100\n",
      "Epoch: 100 | Train Loss: 0.3285 | Train Acc: 85.01% | Val Acc: 82.06%\n",
      "200\n",
      "Epoch: 200 | Train Loss: 0.2282 | Train Acc: 90.79% | Val Acc: 83.39%\n",
      "300\n",
      "Epoch: 300 | Train Loss: 0.1445 | Train Acc: 94.00% | Val Acc: 83.72%\n",
      "Test accuracy: 84.33%\n",
      "Test Recall: 80.30%\n",
      "Test Precision: 76.77%\n"
     ]
    },
    {
     "name": "stderr",
     "output_type": "stream",
     "text": [
      "2024/10/31 16:50:26 WARNING mlflow.models.model: Input example should be provided to infer model signature if the model signature is not provided when logging the model.\n"
     ]
    },
    {
     "name": "stdout",
     "output_type": "stream",
     "text": [
      "4188\n",
      "0\n",
      "Epoch:   0 | Train Loss: 0.8378 | Train Acc: 28.41% | Val Acc: 44.85%\n",
      "100\n",
      "Epoch: 100 | Train Loss: 0.3166 | Train Acc: 85.80% | Val Acc: 80.73%\n",
      "200\n",
      "Epoch: 200 | Train Loss: 0.2286 | Train Acc: 90.79% | Val Acc: 82.72%\n",
      "300\n",
      "Epoch: 300 | Train Loss: 0.1374 | Train Acc: 96.22% | Val Acc: 79.73%\n",
      "Test accuracy: 91.33%\n",
      "Test Recall: 77.91%\n",
      "Test Precision: 79.36%\n"
     ]
    },
    {
     "name": "stderr",
     "output_type": "stream",
     "text": [
      "2024/10/31 16:53:04 WARNING mlflow.models.model: Input example should be provided to infer model signature if the model signature is not provided when logging the model.\n"
     ]
    },
    {
     "name": "stdout",
     "output_type": "stream",
     "text": [
      "4203\n",
      "0\n",
      "Epoch:   0 | Train Loss: 0.8661 | Train Acc: 77.66% | Val Acc: 55.48%\n",
      "100\n",
      "Epoch: 100 | Train Loss: 0.3483 | Train Acc: 84.30% | Val Acc: 78.74%\n",
      "200\n",
      "Epoch: 200 | Train Loss: 0.2732 | Train Acc: 88.08% | Val Acc: 82.06%\n",
      "300\n",
      "Epoch: 300 | Train Loss: 0.1967 | Train Acc: 93.29% | Val Acc: 81.40%\n",
      "Test accuracy: 90.67%\n",
      "Test Recall: 79.25%\n",
      "Test Precision: 80.58%\n"
     ]
    },
    {
     "name": "stderr",
     "output_type": "stream",
     "text": [
      "2024/10/31 16:55:43 WARNING mlflow.models.model: Input example should be provided to infer model signature if the model signature is not provided when logging the model.\n"
     ]
    },
    {
     "name": "stdout",
     "output_type": "stream",
     "text": [
      "4218\n",
      "0\n",
      "Epoch:   0 | Train Loss: 1.1539 | Train Acc: 36.69% | Val Acc: 40.53%\n",
      "100\n",
      "Epoch: 100 | Train Loss: 0.3229 | Train Acc: 85.30% | Val Acc: 81.73%\n",
      "200\n",
      "Epoch: 200 | Train Loss: 0.2486 | Train Acc: 89.36% | Val Acc: 79.73%\n",
      "300\n",
      "Epoch: 300 | Train Loss: 0.1644 | Train Acc: 93.15% | Val Acc: 80.07%\n",
      "Test accuracy: 89.67%\n",
      "Test Recall: 76.00%\n",
      "Test Precision: 78.92%\n"
     ]
    },
    {
     "name": "stderr",
     "output_type": "stream",
     "text": [
      "2024/10/31 16:58:26 WARNING mlflow.models.model: Input example should be provided to infer model signature if the model signature is not provided when logging the model.\n"
     ]
    },
    {
     "name": "stdout",
     "output_type": "stream",
     "text": [
      "4233\n",
      "0\n",
      "Epoch:   0 | Train Loss: 0.9547 | Train Acc: 33.69% | Val Acc: 35.55%\n",
      "100\n",
      "Epoch: 100 | Train Loss: 0.3233 | Train Acc: 85.58% | Val Acc: 82.39%\n",
      "200\n",
      "Epoch: 200 | Train Loss: 0.2357 | Train Acc: 89.94% | Val Acc: 81.40%\n",
      "300\n",
      "Epoch: 300 | Train Loss: 0.1486 | Train Acc: 95.57% | Val Acc: 84.72%\n",
      "Test accuracy: 90.00%\n",
      "Test Recall: 80.05%\n",
      "Test Precision: 80.37%\n"
     ]
    },
    {
     "name": "stderr",
     "output_type": "stream",
     "text": [
      "2024/10/31 17:01:13 WARNING mlflow.models.model: Input example should be provided to infer model signature if the model signature is not provided when logging the model.\n"
     ]
    },
    {
     "name": "stdout",
     "output_type": "stream",
     "text": [
      "4248\n",
      "0\n",
      "Epoch:   0 | Train Loss: 0.8575 | Train Acc: 76.80% | Val Acc: 53.82%\n",
      "100\n",
      "Epoch: 100 | Train Loss: 0.3105 | Train Acc: 85.44% | Val Acc: 81.40%\n",
      "200\n",
      "Epoch: 200 | Train Loss: 0.2246 | Train Acc: 90.36% | Val Acc: 83.06%\n",
      "300\n",
      "Epoch: 300 | Train Loss: 0.1545 | Train Acc: 93.50% | Val Acc: 83.39%\n",
      "Test accuracy: 83.00%\n",
      "Test Recall: 79.02%\n",
      "Test Precision: 75.34%\n"
     ]
    },
    {
     "name": "stderr",
     "output_type": "stream",
     "text": [
      "2024/10/31 17:03:55 WARNING mlflow.models.model: Input example should be provided to infer model signature if the model signature is not provided when logging the model.\n"
     ]
    },
    {
     "name": "stdout",
     "output_type": "stream",
     "text": [
      "4263\n",
      "0\n",
      "Epoch:   0 | Train Loss: 0.8535 | Train Acc: 31.48% | Val Acc: 50.83%\n",
      "100\n",
      "Epoch: 100 | Train Loss: 0.3202 | Train Acc: 85.80% | Val Acc: 81.06%\n",
      "200\n",
      "Epoch: 200 | Train Loss: 0.2279 | Train Acc: 89.22% | Val Acc: 84.05%\n",
      "300\n",
      "Epoch: 300 | Train Loss: 0.1537 | Train Acc: 92.65% | Val Acc: 85.05%\n",
      "Test accuracy: 82.67%\n",
      "Test Recall: 81.31%\n",
      "Test Precision: 76.37%\n"
     ]
    },
    {
     "name": "stderr",
     "output_type": "stream",
     "text": [
      "2024/10/31 17:06:41 WARNING mlflow.models.model: Input example should be provided to infer model signature if the model signature is not provided when logging the model.\n"
     ]
    },
    {
     "name": "stdout",
     "output_type": "stream",
     "text": [
      "4278\n",
      "0\n",
      "Epoch:   0 | Train Loss: 1.2191 | Train Acc: 62.38% | Val Acc: 72.09%\n",
      "100\n",
      "Epoch: 100 | Train Loss: 0.3428 | Train Acc: 85.08% | Val Acc: 78.74%\n",
      "200\n",
      "Epoch: 200 | Train Loss: 0.2840 | Train Acc: 87.79% | Val Acc: 80.40%\n",
      "300\n",
      "Epoch: 300 | Train Loss: 0.2305 | Train Acc: 90.44% | Val Acc: 80.73%\n",
      "Test accuracy: 88.00%\n",
      "Test Recall: 78.34%\n",
      "Test Precision: 77.61%\n"
     ]
    },
    {
     "name": "stderr",
     "output_type": "stream",
     "text": [
      "2024/10/31 17:09:28 WARNING mlflow.models.model: Input example should be provided to infer model signature if the model signature is not provided when logging the model.\n"
     ]
    },
    {
     "name": "stdout",
     "output_type": "stream",
     "text": [
      "4293\n",
      "0\n",
      "Epoch:   0 | Train Loss: 0.8111 | Train Acc: 59.24% | Val Acc: 44.85%\n",
      "100\n",
      "Epoch: 100 | Train Loss: 0.3188 | Train Acc: 85.94% | Val Acc: 80.40%\n",
      "200\n",
      "Epoch: 200 | Train Loss: 0.2197 | Train Acc: 89.72% | Val Acc: 85.05%\n",
      "300\n",
      "Epoch: 300 | Train Loss: 0.1655 | Train Acc: 92.72% | Val Acc: 85.05%\n",
      "Test accuracy: 84.00%\n",
      "Test Recall: 80.30%\n",
      "Test Precision: 76.77%\n"
     ]
    },
    {
     "name": "stderr",
     "output_type": "stream",
     "text": [
      "2024/10/31 17:12:18 WARNING mlflow.models.model: Input example should be provided to infer model signature if the model signature is not provided when logging the model.\n"
     ]
    },
    {
     "name": "stdout",
     "output_type": "stream",
     "text": [
      "4308\n",
      "0\n",
      "Epoch:   0 | Train Loss: 0.7279 | Train Acc: 77.59% | Val Acc: 55.48%\n",
      "100\n",
      "Epoch: 100 | Train Loss: 0.3041 | Train Acc: 86.65% | Val Acc: 80.40%\n",
      "200\n",
      "Epoch: 200 | Train Loss: 0.2157 | Train Acc: 91.15% | Val Acc: 82.06%\n",
      "300\n",
      "Epoch: 300 | Train Loss: 0.1374 | Train Acc: 95.36% | Val Acc: 83.39%\n",
      "Test accuracy: 83.67%\n",
      "Test Recall: 80.46%\n",
      "Test Precision: 76.60%\n"
     ]
    },
    {
     "name": "stderr",
     "output_type": "stream",
     "text": [
      "2024/10/31 17:15:06 WARNING mlflow.models.model: Input example should be provided to infer model signature if the model signature is not provided when logging the model.\n"
     ]
    }
   ],
   "source": [
    "#\n",
    "file_path_replies = r\"/home/azureuser/rumour-detection-pheme/replies_charlie_hebdo.pkl\"\n",
    "file_path_posts = r\"/home/azureuser/rumour-detection-pheme/posts_charlie_hebdo.pkl\"\n",
    "\n",
    "for time_cut in range(3993+15,(60*24*3),15):\n",
    "    print(time_cut)\n",
    "    processor = Hetero_Data_Processor_Filter_on_Test_since_first_post(file_path_replies, file_path_posts, time_cut=time_cut)\n",
    "    data = processor.process()\n",
    "    \n",
    "    model = GAT(dim_h=64, dim_out=2)\n",
    "    model = to_hetero(model, data.metadata(), aggr='sum')\n",
    "        \n",
    "    optimizer = torch.optim.Adam(model.parameters(), lr=0.001)\n",
    "    device = torch.device('cuda' if torch.cuda.is_available() else 'cpu')\n",
    "    data, model = data.to(device), model.to(device)\n",
    "       \n",
    "    with mlflow.start_run():\n",
    "    \n",
    "        for epoch in range(400):\n",
    "            model.train()\n",
    "            optimizer.zero_grad()\n",
    "            out = model(data.x_dict, data.edge_index_dict)['id']\n",
    "            mask = data['id'].train_mask\n",
    "            loss = F.cross_entropy(out[mask], data['id'].y[mask])\n",
    "            loss.backward()\n",
    "            optimizer.step()\n",
    "                \n",
    "            if epoch % 100 == 0:\n",
    "                print(epoch)\n",
    "                train_acc = test(data['id'].train_mask)\n",
    "                val_acc = test(data['id'].val_mask)\n",
    "                print(f'Epoch: {epoch:>3} | Train Loss: {loss:.4f} | Train Acc: {train_acc*100:.2f}% | Val Acc: {val_acc*100:.2f}%')\n",
    "    \n",
    "                \n",
    "        test_acc = test(data['id'].test_mask)\n",
    "        print(f'Test accuracy: {test_acc*100:.2f}%')\n",
    "    \n",
    "        test_mask = data['id'].test_mask | data['id'].val_mask\n",
    "        pred = model(data.x_dict, data.edge_index_dict)['id'].argmax(dim=-1)\n",
    "        true_labels = data['id'].y[test_mask]\n",
    "        pred_labels = pred[test_mask]\n",
    "        test_precision =precision_score(true_labels, pred_labels, average='macro')\n",
    "        test_recall=recall_score(true_labels, pred_labels, average='macro')\n",
    "        print(f'Test Recall: {test_recall*100:.2f}%')\n",
    "        print(f'Test Precision: {test_precision*100:.2f}%')\n",
    "    \n",
    "        mlflow.log_metric(\"train_loss\", loss.item(), step=epoch)\n",
    "        mlflow.log_metric(\"train_acc\", train_acc, step=epoch)\n",
    "        mlflow.log_metric(\"val_acc\", val_acc, step=epoch)\n",
    "        mlflow.log_metric(\"test_acc\", test_acc)\n",
    "        mlflow.log_metric(\"test_precision\",  test_precision)\n",
    "        mlflow.log_metric(\"test_recall\",  test_recall)\n",
    "    \n",
    "                \n",
    "        mlflow.log_param(\"dim_h\", 64)\n",
    "        mlflow.log_param(\"dim_out\", 2)\n",
    "        mlflow.log_param(\"learning_rate\", 0.001)\n",
    "        mlflow.log_param(\"epochs\", 400)\n",
    "        mlflow.log_metric(\"time_cut\", time_cut)\n",
    "\n",
    "    \n",
    "    \n",
    "    \n",
    "            \n",
    "                \n",
    "        mlflow.pytorch.log_model(model, f\"GAT_model_{time_cut}\")\n"
   ]
  },
  {
   "cell_type": "code",
   "execution_count": 3,
   "id": "530f30d9-141d-4701-a986-59f25bcc733e",
   "metadata": {},
   "outputs": [],
   "source": [
    "import mlflow\n",
    "mlflow.set_tracking_uri(\"sqlite:///mlflow.db\")\n",
    "# Get the experiment ID or name\n",
    "experiment_name = \"GAT Network 2024-10-30 2 layers Filter Node on test time since first post\"\n",
    "experiment = mlflow.get_experiment_by_name(experiment_name)\n",
    "\n",
    "if experiment is not None:\n",
    "    experiment_id = experiment.experiment_id\n",
    "\n",
    "    # Retrieve all runs in the experiment as a DataFrame\n",
    "    df = mlflow.search_runs(experiment_ids=[experiment_id])\n",
    "    \n",
    "    # Show the DataFrame\n",
    "    #print(df)\n",
    "else:\n",
    "    print(f\"Experiment '{experiment_name}' not found.\")\n"
   ]
  },
  {
   "cell_type": "code",
   "execution_count": 4,
   "id": "25db3d9b-ae03-472f-bfac-3f4ba416c776",
   "metadata": {},
   "outputs": [
    {
     "data": {
      "text/plain": [
       "3993.0"
      ]
     },
     "execution_count": 4,
     "metadata": {},
     "output_type": "execute_result"
    }
   ],
   "source": [
    "df['metrics.time_cut'].max()"
   ]
  },
  {
   "cell_type": "code",
   "execution_count": 7,
   "id": "ce0a927f-3091-4762-abdd-bb1a89b9a4ca",
   "metadata": {},
   "outputs": [
    {
     "data": {
      "text/plain": [
       "2827.0"
      ]
     },
     "execution_count": 7,
     "metadata": {},
     "output_type": "execute_result"
    }
   ],
   "source": [
    "df[df['metrics.time_cut_posts']==4212]['metrics.time_cut_replies'].max()"
   ]
  },
  {
   "cell_type": "code",
   "execution_count": 8,
   "id": "c16efae8",
   "metadata": {},
   "outputs": [
    {
     "name": "stdout",
     "output_type": "stream",
     "text": [
      "4320\n"
     ]
    }
   ],
   "source": [
    "print(60*24*3)"
   ]
  }
 ],
 "metadata": {
  "kernelspec": {
   "display_name": "Python [conda env:mastering] *",
   "language": "python",
   "name": "conda-env-mastering-py"
  },
  "language_info": {
   "codemirror_mode": {
    "name": "ipython",
    "version": 3
   },
   "file_extension": ".py",
   "mimetype": "text/x-python",
   "name": "python",
   "nbconvert_exporter": "python",
   "pygments_lexer": "ipython3",
   "version": "3.12.5"
  }
 },
 "nbformat": 4,
 "nbformat_minor": 5
}
