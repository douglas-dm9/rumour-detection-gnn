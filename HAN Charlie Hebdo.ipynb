{
 "cells": [
  {
   "cell_type": "code",
   "execution_count": 1,
   "id": "b56d44f8",
   "metadata": {},
   "outputs": [],
   "source": [
    "import pandas as pd\n",
    "from sklearn.metrics import *\n",
    "from tqdm import tqdm\n",
    "from utils import Hetero_Data_Processor_Filter_on_Test_since_first_post\n",
    "import numpy as np\n",
    "import torch\n",
    "import torch.nn.functional as F\n",
    "from torch import nn\n",
    "\n",
    "import torch_geometric.transforms as T\n",
    "from torch_geometric.datasets import DBLP\n",
    "from torch_geometric.nn import HANConv, Linear\n"
   ]
  },
  {
   "cell_type": "code",
   "execution_count": 2,
   "id": "7c6cc119",
   "metadata": {},
   "outputs": [
    {
     "name": "stderr",
     "output_type": "stream",
     "text": [
      "/workspaces/rumour-detection-gnn/utils.py:1083: SettingWithCopyWarning: \n",
      "A value is trying to be set on a copy of a slice from a DataFrame.\n",
      "Try using .loc[row_indexer,col_indexer] = value instead\n",
      "\n",
      "See the caveats in the documentation: https://pandas.pydata.org/pandas-docs/stable/user_guide/indexing.html#returning-a-view-versus-a-copy\n",
      "  test_val_reply_features[['reply_followers','time_diff']] = scaler_replies.transform(test_val_reply_features[['reply_followers','time_diff']])\n"
     ]
    }
   ],
   "source": [
    "\n",
    "# Usage\n",
    "file_path_replies = r\"replies_charlie_hebdo.pkl\"\n",
    "file_path_posts = r\"posts_charlie_hebdo.pkl\"\n",
    "\n",
    "\n",
    "\n",
    "processor = Hetero_Data_Processor_Filter_on_Test_since_first_post(file_path_replies, file_path_posts, time_cut=3*60*24)\n",
    "data = processor.process()\n"
   ]
  },
  {
   "cell_type": "code",
   "execution_count": 3,
   "id": "a0c1b996",
   "metadata": {},
   "outputs": [
    {
     "data": {
      "text/plain": [
       "HeteroData(\n",
       "  id={\n",
       "    x=[2002, 106],\n",
       "    y=[2002],\n",
       "    train_mask=[2002],\n",
       "    val_mask=[2002],\n",
       "    test_mask=[2002],\n",
       "  },\n",
       "  reply_user_id={ x=[18966, 104] },\n",
       "  (id, retweet, reply_user_id)={ edge_index=[2, 18966] },\n",
       "  (reply_user_id, rev_retweet, id)={ edge_index=[2, 18966] }\n",
       ")"
      ]
     },
     "execution_count": 3,
     "metadata": {},
     "output_type": "execute_result"
    }
   ],
   "source": [
    "data"
   ]
  },
  {
   "cell_type": "code",
   "execution_count": 4,
   "id": "4d5465c4",
   "metadata": {},
   "outputs": [],
   "source": [
    "class HAN(nn.Module):\n",
    "    def __init__(self, dim_in, dim_out, dim_h=64, heads=4):\n",
    "        super().__init__()\n",
    "        self.han = HANConv(dim_in, dim_h, heads=heads,dropout=0.2, metadata=data.metadata())\n",
    "        self.han2 = HANConv(dim_h, dim_h, heads=heads, dropout=0.2, metadata=data.metadata())\n",
    "        self.linear = nn.Linear(dim_h, dim_out)\n",
    "\n",
    "    def forward(self, x_dict, edge_index_dict):\n",
    "        out = self.han(x_dict, edge_index_dict)\n",
    "        out = self.han2(out, edge_index_dict)\n",
    "        out = self.linear(out['id'])\n",
    "        return out\n",
    "    "
   ]
  },
  {
   "cell_type": "code",
   "execution_count": 7,
   "id": "2ba08abd-e63a-4f90-9306-1d36899e9d24",
   "metadata": {},
   "outputs": [],
   "source": [
    "from sklearn.metrics import accuracy_score, precision_score, recall_score, roc_auc_score\n",
    "import torch\n",
    "from torch.nn.functional import cross_entropy\n",
    "\n",
    "def evaluate(model, data, mask_names):\n",
    "    model.eval()\n",
    "    out = model(data.x_dict, data.edge_index_dict)\n",
    "    preds = out.argmax(dim=-1)\n",
    "    labels = data['id'].y\n",
    "\n",
    "    if isinstance(mask_names, str):\n",
    "        mask = data['id'][mask_names]\n",
    "    else:\n",
    "        mask = torch.zeros_like(data['id'].y, dtype=torch.bool)\n",
    "        for name in mask_names:\n",
    "            mask |= data['id'][name]\n",
    "\n",
    "    preds_masked = preds[mask]\n",
    "    labels_masked = labels[mask]\n",
    "    probs = out[mask][:, 1]  # Fixed: out is a tensor\n",
    "\n",
    "    acc = accuracy_score(labels_masked.cpu(), preds_masked.cpu())\n",
    "    precision = precision_score(labels_masked.cpu(), preds_masked.cpu(), zero_division=0)\n",
    "    recall = recall_score(labels_masked.cpu(), preds_masked.cpu(), zero_division=0)\n",
    "\n",
    "    try:\n",
    "        auc = roc_auc_score(labels_masked.cpu(), probs.detach().cpu())\n",
    "    except ValueError:\n",
    "        auc = 0.0\n",
    "\n",
    "    return acc, precision, recall, auc\n",
    "\n",
    "\n",
    "\n",
    "\n",
    "def train(model, data, optimizer, epochs=100):\n",
    "    for epoch in range(1, epochs + 1):\n",
    "        model.train()\n",
    "        optimizer.zero_grad()\n",
    "\n",
    "        out = model(data.x_dict, data.edge_index_dict)\n",
    "        mask = data['id'].train_mask\n",
    "        #out_id = out['id']\n",
    "        loss = F.cross_entropy(out[mask], data['id'].y[mask])\n",
    "        #loss = cross_entropy(out_id[data['id'].train_mask], data['id'].y[data['id'].train_mask])\n",
    "        loss.backward()\n",
    "        optimizer.step()\n",
    "\n",
    "        # Train metrics\n",
    "        acc, precision, recall, auc = evaluate(model, data, 'train_mask')\n",
    "        print(f\"[Epoch {epoch:03d}] Train - Acc: {acc:.4f} | Prec: {precision:.4f} | Recall: {recall:.4f} | AUC: {auc:.4f}\")\n",
    "\n",
    "        # Val metrics every 10 epochs\n",
    "        if epoch % 10 == 0:\n",
    "            acc_val, prec_val, recall_val, auc_val = evaluate(model, data, 'val_mask')\n",
    "            print(f\"[Epoch {epoch:03d}] Val   - Acc: {acc_val:.4f} | Prec: {prec_val:.4f} | Recall: {recall_val:.4f} | AUC: {auc_val:.4f}\")\n",
    "\n",
    "    print(\"\\nFinal Evaluation (Val + Test):\")\n",
    "    acc_final, prec_final, recall_final, auc_final = evaluate(model, data, ['val_mask', 'test_mask'])\n",
    "    print(f\"[Final] Val+Test - Acc: {acc_final:.4f} | Prec: {prec_final:.4f} | Recall: {recall_final:.4f} | AUC: {auc_final:.4f}\")\n",
    "\n",
    "\n"
   ]
  },
  {
   "cell_type": "code",
   "execution_count": 8,
   "id": "1651bb0c-4579-49c4-88a8-9146187e9b42",
   "metadata": {},
   "outputs": [],
   "source": [
    "\n",
    "model = HAN(dim_in=-1, dim_out=2)\n",
    "\n",
    "optimizer = torch.optim.Adam(model.parameters(), lr=0.001)\n",
    "device = torch.device('cuda' if torch.cuda.is_available() else 'cpu')\n",
    "data, model = data.to(device), model.to(device)"
   ]
  },
  {
   "cell_type": "code",
   "execution_count": 9,
   "id": "b40c85bc-9710-4059-a266-6f1914777b37",
   "metadata": {},
   "outputs": [
    {
     "name": "stdout",
     "output_type": "stream",
     "text": [
      "[Epoch 001] Train - Acc: 0.7159 | Prec: 0.1368 | Recall: 0.0511 | AUC: 0.5638\n",
      "[Epoch 002] Train - Acc: 0.7559 | Prec: 0.0606 | Recall: 0.0064 | AUC: 0.6245\n",
      "[Epoch 003] Train - Acc: 0.7744 | Prec: 0.2857 | Recall: 0.0064 | AUC: 0.6391\n",
      "[Epoch 004] Train - Acc: 0.7766 | Prec: 0.0000 | Recall: 0.0000 | AUC: 0.6528\n",
      "[Epoch 005] Train - Acc: 0.7766 | Prec: 0.0000 | Recall: 0.0000 | AUC: 0.6549\n",
      "[Epoch 006] Train - Acc: 0.7766 | Prec: 0.0000 | Recall: 0.0000 | AUC: 0.6578\n",
      "[Epoch 007] Train - Acc: 0.7766 | Prec: 0.0000 | Recall: 0.0000 | AUC: 0.6613\n",
      "[Epoch 008] Train - Acc: 0.7766 | Prec: 0.0000 | Recall: 0.0000 | AUC: 0.6632\n",
      "[Epoch 009] Train - Acc: 0.7766 | Prec: 0.0000 | Recall: 0.0000 | AUC: 0.6666\n",
      "[Epoch 010] Train - Acc: 0.7766 | Prec: 0.0000 | Recall: 0.0000 | AUC: 0.6726\n",
      "[Epoch 010] Val   - Acc: 0.5548 | Prec: 0.0000 | Recall: 0.0000 | AUC: 0.7136\n",
      "[Epoch 011] Train - Acc: 0.7766 | Prec: 0.0000 | Recall: 0.0000 | AUC: 0.6808\n",
      "[Epoch 012] Train - Acc: 0.7766 | Prec: 0.0000 | Recall: 0.0000 | AUC: 0.6900\n",
      "[Epoch 013] Train - Acc: 0.7766 | Prec: 0.0000 | Recall: 0.0000 | AUC: 0.7004\n",
      "[Epoch 014] Train - Acc: 0.7766 | Prec: 0.0000 | Recall: 0.0000 | AUC: 0.7104\n",
      "[Epoch 015] Train - Acc: 0.7766 | Prec: 0.0000 | Recall: 0.0000 | AUC: 0.7208\n",
      "[Epoch 016] Train - Acc: 0.7766 | Prec: 0.0000 | Recall: 0.0000 | AUC: 0.7307\n",
      "[Epoch 017] Train - Acc: 0.7766 | Prec: 0.0000 | Recall: 0.0000 | AUC: 0.7400\n",
      "[Epoch 018] Train - Acc: 0.7766 | Prec: 0.0000 | Recall: 0.0000 | AUC: 0.7492\n",
      "[Epoch 019] Train - Acc: 0.7766 | Prec: 0.0000 | Recall: 0.0000 | AUC: 0.7576\n",
      "[Epoch 020] Train - Acc: 0.7766 | Prec: 0.0000 | Recall: 0.0000 | AUC: 0.7658\n",
      "[Epoch 020] Val   - Acc: 0.5548 | Prec: 0.0000 | Recall: 0.0000 | AUC: 0.7981\n",
      "[Epoch 021] Train - Acc: 0.7766 | Prec: 0.0000 | Recall: 0.0000 | AUC: 0.7737\n",
      "[Epoch 022] Train - Acc: 0.7766 | Prec: 0.0000 | Recall: 0.0000 | AUC: 0.7809\n",
      "[Epoch 023] Train - Acc: 0.7766 | Prec: 0.0000 | Recall: 0.0000 | AUC: 0.7881\n",
      "[Epoch 024] Train - Acc: 0.7766 | Prec: 0.0000 | Recall: 0.0000 | AUC: 0.7950\n",
      "[Epoch 025] Train - Acc: 0.7766 | Prec: 0.0000 | Recall: 0.0000 | AUC: 0.8011\n",
      "[Epoch 026] Train - Acc: 0.7766 | Prec: 0.0000 | Recall: 0.0000 | AUC: 0.8068\n",
      "[Epoch 027] Train - Acc: 0.7766 | Prec: 0.0000 | Recall: 0.0000 | AUC: 0.8128\n",
      "[Epoch 028] Train - Acc: 0.7766 | Prec: 0.0000 | Recall: 0.0000 | AUC: 0.8182\n",
      "[Epoch 029] Train - Acc: 0.7766 | Prec: 0.0000 | Recall: 0.0000 | AUC: 0.8228\n",
      "[Epoch 030] Train - Acc: 0.7766 | Prec: 0.0000 | Recall: 0.0000 | AUC: 0.8256\n",
      "[Epoch 030] Val   - Acc: 0.5548 | Prec: 0.0000 | Recall: 0.0000 | AUC: 0.8642\n",
      "[Epoch 031] Train - Acc: 0.7766 | Prec: 0.0000 | Recall: 0.0000 | AUC: 0.8264\n",
      "[Epoch 032] Train - Acc: 0.7766 | Prec: 0.0000 | Recall: 0.0000 | AUC: 0.8257\n",
      "[Epoch 033] Train - Acc: 0.7780 | Prec: 0.6667 | Recall: 0.0128 | AUC: 0.8242\n",
      "[Epoch 034] Train - Acc: 0.7794 | Prec: 0.6250 | Recall: 0.0319 | AUC: 0.8228\n",
      "[Epoch 035] Train - Acc: 0.7809 | Prec: 0.6154 | Recall: 0.0511 | AUC: 0.8215\n",
      "[Epoch 036] Train - Acc: 0.7852 | Prec: 0.6500 | Recall: 0.0831 | AUC: 0.8209\n",
      "[Epoch 037] Train - Acc: 0.7844 | Prec: 0.6000 | Recall: 0.1054 | AUC: 0.8208\n",
      "[Epoch 038] Train - Acc: 0.7866 | Prec: 0.6000 | Recall: 0.1342 | AUC: 0.8212\n",
      "[Epoch 039] Train - Acc: 0.7901 | Prec: 0.6092 | Recall: 0.1693 | AUC: 0.8222\n",
      "[Epoch 040] Train - Acc: 0.7951 | Prec: 0.6327 | Recall: 0.1981 | AUC: 0.8236\n",
      "[Epoch 040] Val   - Acc: 0.6179 | Prec: 0.8800 | Recall: 0.1642 | AUC: 0.8649\n",
      "[Epoch 041] Train - Acc: 0.7994 | Prec: 0.6429 | Recall: 0.2300 | AUC: 0.8254\n",
      "[Epoch 042] Train - Acc: 0.8030 | Prec: 0.6529 | Recall: 0.2524 | AUC: 0.8277\n",
      "[Epoch 043] Train - Acc: 0.8051 | Prec: 0.6538 | Recall: 0.2716 | AUC: 0.8299\n",
      "[Epoch 044] Train - Acc: 0.8073 | Prec: 0.6547 | Recall: 0.2907 | AUC: 0.8324\n",
      "[Epoch 045] Train - Acc: 0.8094 | Prec: 0.6575 | Recall: 0.3067 | AUC: 0.8351\n",
      "[Epoch 046] Train - Acc: 0.8151 | Prec: 0.6731 | Recall: 0.3355 | AUC: 0.8377\n",
      "[Epoch 047] Train - Acc: 0.8166 | Prec: 0.6687 | Recall: 0.3546 | AUC: 0.8403\n",
      "[Epoch 048] Train - Acc: 0.8180 | Prec: 0.6648 | Recall: 0.3738 | AUC: 0.8431\n",
      "[Epoch 049] Train - Acc: 0.8208 | Prec: 0.6685 | Recall: 0.3930 | AUC: 0.8457\n",
      "[Epoch 050] Train - Acc: 0.8208 | Prec: 0.6582 | Recall: 0.4121 | AUC: 0.8486\n",
      "[Epoch 050] Val   - Acc: 0.7076 | Prec: 0.8966 | Recall: 0.3881 | AUC: 0.8841\n",
      "[Epoch 051] Train - Acc: 0.8237 | Prec: 0.6602 | Recall: 0.4345 | AUC: 0.8522\n",
      "[Epoch 052] Train - Acc: 0.8166 | Prec: 0.6250 | Recall: 0.4473 | AUC: 0.8560\n",
      "[Epoch 053] Train - Acc: 0.8158 | Prec: 0.6141 | Recall: 0.4728 | AUC: 0.8591\n",
      "[Epoch 054] Train - Acc: 0.8173 | Prec: 0.6163 | Recall: 0.4824 | AUC: 0.8617\n",
      "[Epoch 055] Train - Acc: 0.8208 | Prec: 0.6230 | Recall: 0.5016 | AUC: 0.8643\n",
      "[Epoch 056] Train - Acc: 0.8244 | Prec: 0.6284 | Recall: 0.5240 | AUC: 0.8673\n",
      "[Epoch 057] Train - Acc: 0.8266 | Prec: 0.6306 | Recall: 0.5399 | AUC: 0.8700\n",
      "[Epoch 058] Train - Acc: 0.8280 | Prec: 0.6324 | Recall: 0.5495 | AUC: 0.8736\n",
      "[Epoch 059] Train - Acc: 0.8294 | Prec: 0.6331 | Recall: 0.5623 | AUC: 0.8766\n",
      "[Epoch 060] Train - Acc: 0.8287 | Prec: 0.6308 | Recall: 0.5623 | AUC: 0.8798\n",
      "[Epoch 060] Val   - Acc: 0.7807 | Prec: 0.9250 | Recall: 0.5522 | AUC: 0.9154\n",
      "[Epoch 061] Train - Acc: 0.8301 | Prec: 0.6335 | Recall: 0.5687 | AUC: 0.8784\n",
      "[Epoch 062] Train - Acc: 0.8308 | Prec: 0.6348 | Recall: 0.5719 | AUC: 0.8783\n",
      "[Epoch 063] Train - Acc: 0.8344 | Prec: 0.6431 | Recall: 0.5815 | AUC: 0.8793\n",
      "[Epoch 064] Train - Acc: 0.8373 | Prec: 0.6451 | Recall: 0.6038 | AUC: 0.8804\n",
      "[Epoch 065] Train - Acc: 0.8394 | Prec: 0.6477 | Recall: 0.6166 | AUC: 0.8816\n",
      "[Epoch 066] Train - Acc: 0.8394 | Prec: 0.6457 | Recall: 0.6230 | AUC: 0.8829\n",
      "[Epoch 067] Train - Acc: 0.8415 | Prec: 0.6492 | Recall: 0.6326 | AUC: 0.8844\n",
      "[Epoch 068] Train - Acc: 0.8408 | Prec: 0.6442 | Recall: 0.6422 | AUC: 0.8860\n",
      "[Epoch 069] Train - Acc: 0.8401 | Prec: 0.6431 | Recall: 0.6390 | AUC: 0.8878\n",
      "[Epoch 070] Train - Acc: 0.8408 | Prec: 0.6433 | Recall: 0.6454 | AUC: 0.8899\n",
      "[Epoch 070] Val   - Acc: 0.8106 | Prec: 0.9140 | Recall: 0.6343 | AUC: 0.9185\n",
      "[Epoch 071] Train - Acc: 0.8401 | Prec: 0.6404 | Recall: 0.6486 | AUC: 0.8916\n",
      "[Epoch 072] Train - Acc: 0.8408 | Prec: 0.6415 | Recall: 0.6518 | AUC: 0.8939\n",
      "[Epoch 073] Train - Acc: 0.8423 | Prec: 0.6438 | Recall: 0.6581 | AUC: 0.8964\n",
      "[Epoch 074] Train - Acc: 0.8430 | Prec: 0.6449 | Recall: 0.6613 | AUC: 0.8963\n",
      "[Epoch 075] Train - Acc: 0.8451 | Prec: 0.6481 | Recall: 0.6709 | AUC: 0.8965\n",
      "[Epoch 076] Train - Acc: 0.8487 | Prec: 0.6535 | Recall: 0.6869 | AUC: 0.8974\n",
      "[Epoch 077] Train - Acc: 0.8480 | Prec: 0.6515 | Recall: 0.6869 | AUC: 0.8986\n",
      "[Epoch 078] Train - Acc: 0.8480 | Prec: 0.6515 | Recall: 0.6869 | AUC: 0.8996\n",
      "[Epoch 079] Train - Acc: 0.8473 | Prec: 0.6495 | Recall: 0.6869 | AUC: 0.9008\n",
      "[Epoch 080] Train - Acc: 0.8480 | Prec: 0.6506 | Recall: 0.6901 | AUC: 0.9019\n",
      "[Epoch 080] Val   - Acc: 0.8239 | Prec: 0.9091 | Recall: 0.6716 | AUC: 0.9290\n",
      "[Epoch 081] Train - Acc: 0.8487 | Prec: 0.6526 | Recall: 0.6901 | AUC: 0.9031\n",
      "[Epoch 082] Train - Acc: 0.8508 | Prec: 0.6576 | Recall: 0.6933 | AUC: 0.9044\n",
      "[Epoch 083] Train - Acc: 0.8515 | Prec: 0.6596 | Recall: 0.6933 | AUC: 0.9056\n",
      "[Epoch 084] Train - Acc: 0.8530 | Prec: 0.6626 | Recall: 0.6965 | AUC: 0.9067\n",
      "[Epoch 085] Train - Acc: 0.8530 | Prec: 0.6616 | Recall: 0.6997 | AUC: 0.9078\n",
      "[Epoch 086] Train - Acc: 0.8537 | Prec: 0.6627 | Recall: 0.7029 | AUC: 0.9085\n",
      "[Epoch 087] Train - Acc: 0.8537 | Prec: 0.6607 | Recall: 0.7093 | AUC: 0.9095\n",
      "[Epoch 088] Train - Acc: 0.8565 | Prec: 0.6647 | Recall: 0.7220 | AUC: 0.9105\n",
      "[Epoch 089] Train - Acc: 0.8565 | Prec: 0.6647 | Recall: 0.7220 | AUC: 0.9114\n",
      "[Epoch 090] Train - Acc: 0.8565 | Prec: 0.6647 | Recall: 0.7220 | AUC: 0.9123\n",
      "[Epoch 090] Val   - Acc: 0.8239 | Prec: 0.8857 | Recall: 0.6940 | AUC: 0.9327\n",
      "[Epoch 091] Train - Acc: 0.8572 | Prec: 0.6677 | Recall: 0.7188 | AUC: 0.9129\n",
      "[Epoch 092] Train - Acc: 0.8587 | Prec: 0.6737 | Recall: 0.7125 | AUC: 0.9137\n",
      "[Epoch 093] Train - Acc: 0.8587 | Prec: 0.6737 | Recall: 0.7125 | AUC: 0.9144\n",
      "[Epoch 094] Train - Acc: 0.8580 | Prec: 0.6717 | Recall: 0.7125 | AUC: 0.9152\n",
      "[Epoch 095] Train - Acc: 0.8587 | Prec: 0.6727 | Recall: 0.7157 | AUC: 0.9159\n",
      "[Epoch 096] Train - Acc: 0.8608 | Prec: 0.6756 | Recall: 0.7252 | AUC: 0.9167\n",
      "[Epoch 097] Train - Acc: 0.8622 | Prec: 0.6796 | Recall: 0.7252 | AUC: 0.9175\n",
      "[Epoch 098] Train - Acc: 0.8644 | Prec: 0.6847 | Recall: 0.7284 | AUC: 0.9181\n",
      "[Epoch 099] Train - Acc: 0.8637 | Prec: 0.6848 | Recall: 0.7220 | AUC: 0.9189\n",
      "[Epoch 100] Train - Acc: 0.8630 | Prec: 0.6839 | Recall: 0.7188 | AUC: 0.9196\n",
      "[Epoch 100] Val   - Acc: 0.8173 | Prec: 0.8990 | Recall: 0.6642 | AUC: 0.9316\n",
      "[Epoch 101] Train - Acc: 0.8630 | Prec: 0.6839 | Recall: 0.7188 | AUC: 0.9202\n",
      "[Epoch 102] Train - Acc: 0.8622 | Prec: 0.6829 | Recall: 0.7157 | AUC: 0.9209\n",
      "[Epoch 103] Train - Acc: 0.8644 | Prec: 0.6881 | Recall: 0.7188 | AUC: 0.9216\n",
      "[Epoch 104] Train - Acc: 0.8651 | Prec: 0.6890 | Recall: 0.7220 | AUC: 0.9222\n",
      "[Epoch 105] Train - Acc: 0.8665 | Prec: 0.6921 | Recall: 0.7252 | AUC: 0.9230\n",
      "[Epoch 106] Train - Acc: 0.8665 | Prec: 0.6921 | Recall: 0.7252 | AUC: 0.9237\n",
      "[Epoch 107] Train - Acc: 0.8672 | Prec: 0.6918 | Recall: 0.7316 | AUC: 0.9244\n",
      "[Epoch 108] Train - Acc: 0.8680 | Prec: 0.6928 | Recall: 0.7348 | AUC: 0.9251\n",
      "[Epoch 109] Train - Acc: 0.8694 | Prec: 0.6946 | Recall: 0.7412 | AUC: 0.9257\n",
      "[Epoch 110] Train - Acc: 0.8694 | Prec: 0.6946 | Recall: 0.7412 | AUC: 0.9263\n",
      "[Epoch 110] Val   - Acc: 0.8173 | Prec: 0.8911 | Recall: 0.6716 | AUC: 0.9311\n",
      "[Epoch 111] Train - Acc: 0.8694 | Prec: 0.6958 | Recall: 0.7380 | AUC: 0.9269\n",
      "[Epoch 112] Train - Acc: 0.8694 | Prec: 0.6970 | Recall: 0.7348 | AUC: 0.9276\n",
      "[Epoch 113] Train - Acc: 0.8701 | Prec: 0.6991 | Recall: 0.7348 | AUC: 0.9283\n",
      "[Epoch 114] Train - Acc: 0.8722 | Prec: 0.7018 | Recall: 0.7444 | AUC: 0.9290\n",
      "[Epoch 115] Train - Acc: 0.8737 | Prec: 0.7048 | Recall: 0.7476 | AUC: 0.9297\n",
      "[Epoch 116] Train - Acc: 0.8737 | Prec: 0.7048 | Recall: 0.7476 | AUC: 0.9303\n",
      "[Epoch 117] Train - Acc: 0.8751 | Prec: 0.7066 | Recall: 0.7540 | AUC: 0.9309\n",
      "[Epoch 118] Train - Acc: 0.8751 | Prec: 0.7091 | Recall: 0.7476 | AUC: 0.9314\n",
      "[Epoch 119] Train - Acc: 0.8737 | Prec: 0.7073 | Recall: 0.7412 | AUC: 0.9320\n",
      "[Epoch 120] Train - Acc: 0.8751 | Prec: 0.7117 | Recall: 0.7412 | AUC: 0.9325\n",
      "[Epoch 120] Val   - Acc: 0.8239 | Prec: 0.9175 | Recall: 0.6642 | AUC: 0.9294\n",
      "[Epoch 121] Train - Acc: 0.8758 | Prec: 0.7152 | Recall: 0.7380 | AUC: 0.9332\n",
      "[Epoch 122] Train - Acc: 0.8758 | Prec: 0.7165 | Recall: 0.7348 | AUC: 0.9336\n",
      "[Epoch 123] Train - Acc: 0.8772 | Prec: 0.7183 | Recall: 0.7412 | AUC: 0.9343\n",
      "[Epoch 124] Train - Acc: 0.8779 | Prec: 0.7191 | Recall: 0.7444 | AUC: 0.9349\n",
      "[Epoch 125] Train - Acc: 0.8794 | Prec: 0.7182 | Recall: 0.7572 | AUC: 0.9355\n",
      "[Epoch 126] Train - Acc: 0.8787 | Prec: 0.7147 | Recall: 0.7604 | AUC: 0.9362\n",
      "[Epoch 127] Train - Acc: 0.8801 | Prec: 0.7164 | Recall: 0.7668 | AUC: 0.9368\n",
      "[Epoch 128] Train - Acc: 0.8801 | Prec: 0.7164 | Recall: 0.7668 | AUC: 0.9375\n",
      "[Epoch 129] Train - Acc: 0.8815 | Prec: 0.7234 | Recall: 0.7604 | AUC: 0.9382\n",
      "[Epoch 130] Train - Acc: 0.8808 | Prec: 0.7239 | Recall: 0.7540 | AUC: 0.9389\n",
      "[Epoch 130] Val   - Acc: 0.8272 | Prec: 0.9020 | Recall: 0.6866 | AUC: 0.9302\n",
      "[Epoch 131] Train - Acc: 0.8779 | Prec: 0.7219 | Recall: 0.7380 | AUC: 0.9394\n",
      "[Epoch 132] Train - Acc: 0.8808 | Prec: 0.7281 | Recall: 0.7444 | AUC: 0.9399\n",
      "[Epoch 133] Train - Acc: 0.8801 | Prec: 0.7259 | Recall: 0.7444 | AUC: 0.9405\n",
      "[Epoch 134] Train - Acc: 0.8829 | Prec: 0.7278 | Recall: 0.7604 | AUC: 0.9410\n",
      "[Epoch 135] Train - Acc: 0.8837 | Prec: 0.7301 | Recall: 0.7604 | AUC: 0.9416\n",
      "[Epoch 136] Train - Acc: 0.8815 | Prec: 0.7290 | Recall: 0.7476 | AUC: 0.9422\n",
      "[Epoch 137] Train - Acc: 0.8829 | Prec: 0.7335 | Recall: 0.7476 | AUC: 0.9429\n",
      "[Epoch 138] Train - Acc: 0.8829 | Prec: 0.7335 | Recall: 0.7476 | AUC: 0.9434\n",
      "[Epoch 139] Train - Acc: 0.8829 | Prec: 0.7335 | Recall: 0.7476 | AUC: 0.9439\n",
      "[Epoch 140] Train - Acc: 0.8829 | Prec: 0.7350 | Recall: 0.7444 | AUC: 0.9447\n",
      "[Epoch 140] Val   - Acc: 0.8405 | Prec: 0.9216 | Recall: 0.7015 | AUC: 0.9308\n",
      "[Epoch 141] Train - Acc: 0.8822 | Prec: 0.7342 | Recall: 0.7412 | AUC: 0.9453\n",
      "[Epoch 142] Train - Acc: 0.8851 | Prec: 0.7375 | Recall: 0.7540 | AUC: 0.9458\n",
      "[Epoch 143] Train - Acc: 0.8851 | Prec: 0.7360 | Recall: 0.7572 | AUC: 0.9463\n",
      "[Epoch 144] Train - Acc: 0.8872 | Prec: 0.7385 | Recall: 0.7668 | AUC: 0.9468\n",
      "[Epoch 145] Train - Acc: 0.8872 | Prec: 0.7356 | Recall: 0.7732 | AUC: 0.9475\n",
      "[Epoch 146] Train - Acc: 0.8887 | Prec: 0.7401 | Recall: 0.7732 | AUC: 0.9480\n",
      "[Epoch 147] Train - Acc: 0.8894 | Prec: 0.7469 | Recall: 0.7636 | AUC: 0.9485\n",
      "[Epoch 148] Train - Acc: 0.8872 | Prec: 0.7460 | Recall: 0.7508 | AUC: 0.9489\n",
      "[Epoch 149] Train - Acc: 0.8887 | Prec: 0.7476 | Recall: 0.7572 | AUC: 0.9493\n",
      "[Epoch 150] Train - Acc: 0.8894 | Prec: 0.7469 | Recall: 0.7636 | AUC: 0.9497\n",
      "[Epoch 150] Val   - Acc: 0.8306 | Prec: 0.9192 | Recall: 0.6791 | AUC: 0.9332\n",
      "[Epoch 151] Train - Acc: 0.8922 | Prec: 0.7485 | Recall: 0.7796 | AUC: 0.9506\n",
      "[Epoch 152] Train - Acc: 0.8944 | Prec: 0.7554 | Recall: 0.7796 | AUC: 0.9512\n",
      "[Epoch 153] Train - Acc: 0.8958 | Prec: 0.7618 | Recall: 0.7764 | AUC: 0.9518\n",
      "[Epoch 154] Train - Acc: 0.8965 | Prec: 0.7658 | Recall: 0.7732 | AUC: 0.9523\n",
      "[Epoch 155] Train - Acc: 0.8972 | Prec: 0.7649 | Recall: 0.7796 | AUC: 0.9529\n",
      "[Epoch 156] Train - Acc: 0.8979 | Prec: 0.7640 | Recall: 0.7859 | AUC: 0.9535\n",
      "[Epoch 157] Train - Acc: 0.8979 | Prec: 0.7623 | Recall: 0.7891 | AUC: 0.9540\n",
      "[Epoch 158] Train - Acc: 0.8986 | Prec: 0.7664 | Recall: 0.7859 | AUC: 0.9547\n",
      "[Epoch 159] Train - Acc: 0.8979 | Prec: 0.7690 | Recall: 0.7764 | AUC: 0.9552\n",
      "[Epoch 160] Train - Acc: 0.8979 | Prec: 0.7690 | Recall: 0.7764 | AUC: 0.9557\n",
      "[Epoch 160] Val   - Acc: 0.8206 | Prec: 0.9167 | Recall: 0.6567 | AUC: 0.9331\n",
      "[Epoch 161] Train - Acc: 0.9001 | Prec: 0.7712 | Recall: 0.7859 | AUC: 0.9563\n",
      "[Epoch 162] Train - Acc: 0.9008 | Prec: 0.7669 | Recall: 0.7987 | AUC: 0.9567\n",
      "[Epoch 163] Train - Acc: 0.9029 | Prec: 0.7658 | Recall: 0.8147 | AUC: 0.9571\n",
      "[Epoch 164] Train - Acc: 0.9029 | Prec: 0.7690 | Recall: 0.8083 | AUC: 0.9577\n",
      "[Epoch 165] Train - Acc: 0.9029 | Prec: 0.7740 | Recall: 0.7987 | AUC: 0.9584\n",
      "[Epoch 166] Train - Acc: 0.9044 | Prec: 0.7788 | Recall: 0.7987 | AUC: 0.9592\n",
      "[Epoch 167] Train - Acc: 0.9044 | Prec: 0.7806 | Recall: 0.7955 | AUC: 0.9598\n",
      "[Epoch 168] Train - Acc: 0.9044 | Prec: 0.7806 | Recall: 0.7955 | AUC: 0.9604\n",
      "[Epoch 169] Train - Acc: 0.9072 | Prec: 0.7815 | Recall: 0.8115 | AUC: 0.9608\n",
      "[Epoch 170] Train - Acc: 0.9094 | Prec: 0.7835 | Recall: 0.8211 | AUC: 0.9613\n",
      "[Epoch 170] Val   - Acc: 0.8372 | Prec: 0.9126 | Recall: 0.7015 | AUC: 0.9341\n",
      "[Epoch 171] Train - Acc: 0.9094 | Prec: 0.7835 | Recall: 0.8211 | AUC: 0.9619\n",
      "[Epoch 172] Train - Acc: 0.9086 | Prec: 0.7864 | Recall: 0.8115 | AUC: 0.9625\n",
      "[Epoch 173] Train - Acc: 0.9072 | Prec: 0.7868 | Recall: 0.8019 | AUC: 0.9630\n",
      "[Epoch 174] Train - Acc: 0.9094 | Prec: 0.7888 | Recall: 0.8115 | AUC: 0.9634\n",
      "[Epoch 175] Train - Acc: 0.9136 | Prec: 0.7892 | Recall: 0.8371 | AUC: 0.9638\n",
      "[Epoch 176] Train - Acc: 0.9165 | Prec: 0.7934 | Recall: 0.8466 | AUC: 0.9642\n",
      "[Epoch 177] Train - Acc: 0.9136 | Prec: 0.7927 | Recall: 0.8307 | AUC: 0.9648\n",
      "[Epoch 178] Train - Acc: 0.9143 | Prec: 0.7969 | Recall: 0.8275 | AUC: 0.9654\n",
      "[Epoch 179] Train - Acc: 0.9136 | Prec: 0.7981 | Recall: 0.8211 | AUC: 0.9660\n",
      "[Epoch 180] Train - Acc: 0.9179 | Prec: 0.8018 | Recall: 0.8403 | AUC: 0.9664\n",
      "[Epoch 180] Val   - Acc: 0.8405 | Prec: 0.9135 | Recall: 0.7090 | AUC: 0.9348\n",
      "[Epoch 181] Train - Acc: 0.9179 | Prec: 0.8000 | Recall: 0.8435 | AUC: 0.9669\n",
      "[Epoch 182] Train - Acc: 0.9201 | Prec: 0.8073 | Recall: 0.8435 | AUC: 0.9675\n",
      "[Epoch 183] Train - Acc: 0.9179 | Prec: 0.8094 | Recall: 0.8275 | AUC: 0.9680\n",
      "[Epoch 184] Train - Acc: 0.9229 | Prec: 0.8233 | Recall: 0.8339 | AUC: 0.9684\n",
      "[Epoch 185] Train - Acc: 0.9222 | Prec: 0.8248 | Recall: 0.8275 | AUC: 0.9689\n",
      "[Epoch 186] Train - Acc: 0.9215 | Prec: 0.8264 | Recall: 0.8211 | AUC: 0.9695\n",
      "[Epoch 187] Train - Acc: 0.9222 | Prec: 0.8248 | Recall: 0.8275 | AUC: 0.9700\n",
      "[Epoch 188] Train - Acc: 0.9236 | Prec: 0.8160 | Recall: 0.8498 | AUC: 0.9704\n",
      "[Epoch 189] Train - Acc: 0.9243 | Prec: 0.8185 | Recall: 0.8498 | AUC: 0.9710\n",
      "[Epoch 190] Train - Acc: 0.9251 | Prec: 0.8250 | Recall: 0.8435 | AUC: 0.9717\n",
      "[Epoch 190] Val   - Acc: 0.8339 | Prec: 0.9200 | Recall: 0.6866 | AUC: 0.9363\n",
      "[Epoch 191] Train - Acc: 0.9272 | Prec: 0.8392 | Recall: 0.8339 | AUC: 0.9724\n",
      "[Epoch 192] Train - Acc: 0.9272 | Prec: 0.8459 | Recall: 0.8243 | AUC: 0.9730\n",
      "[Epoch 193] Train - Acc: 0.9293 | Prec: 0.8408 | Recall: 0.8435 | AUC: 0.9734\n",
      "[Epoch 194] Train - Acc: 0.9315 | Prec: 0.8359 | Recall: 0.8626 | AUC: 0.9738\n",
      "[Epoch 195] Train - Acc: 0.9329 | Prec: 0.8411 | Recall: 0.8626 | AUC: 0.9743\n",
      "[Epoch 196] Train - Acc: 0.9329 | Prec: 0.8521 | Recall: 0.8466 | AUC: 0.9748\n",
      "[Epoch 197] Train - Acc: 0.9322 | Prec: 0.8586 | Recall: 0.8339 | AUC: 0.9751\n",
      "[Epoch 198] Train - Acc: 0.9336 | Prec: 0.8548 | Recall: 0.8466 | AUC: 0.9753\n",
      "[Epoch 199] Train - Acc: 0.9336 | Prec: 0.8459 | Recall: 0.8594 | AUC: 0.9755\n",
      "[Epoch 200] Train - Acc: 0.9343 | Prec: 0.8486 | Recall: 0.8594 | AUC: 0.9758\n",
      "[Epoch 200] Val   - Acc: 0.8306 | Prec: 0.9109 | Recall: 0.6866 | AUC: 0.9366\n",
      "\n",
      "Final Evaluation (Val + Test):\n",
      "[Final] Val+Test - Acc: 0.8569 | Prec: 0.6765 | Recall: 0.6866 | AUC: 0.9094\n"
     ]
    }
   ],
   "source": [
    "train(model, data, optimizer, epochs=200)\n"
   ]
  },
  {
   "cell_type": "markdown",
   "id": "6e71b4d3-2a3d-49fd-9f5b-8ecf13c4443d",
   "metadata": {},
   "source": [
    "#### Testing Draft Model"
   ]
  },
  {
   "cell_type": "code",
   "execution_count": 11,
   "id": "03f55ffe",
   "metadata": {},
   "outputs": [
    {
     "data": {
      "text/plain": [
       "<Experiment: artifact_location='/workspaces/rumour-detection-gnn/mlruns/62', creation_time=1748915497164, experiment_id='62', last_update_time=1748915497164, lifecycle_stage='active', name='HAN 2025-06-02 Charlie Hebdo', tags={}>"
      ]
     },
     "execution_count": 11,
     "metadata": {},
     "output_type": "execute_result"
    }
   ],
   "source": [
    "import mlflow\n",
    "mlflow.set_tracking_uri(\"sqlite:///mlflow.db\")\n",
    "#mlflow.set_experiment(\"spyder-experiment\")\n",
    "import mlflow.pytorch\n",
    "mlflow.set_experiment(\"HAN 2025-06-02 Charlie Hebdo\")"
   ]
  },
  {
   "cell_type": "code",
   "execution_count": null,
   "id": "03e9eaee",
   "metadata": {},
   "outputs": [
    {
     "name": "stdout",
     "output_type": "stream",
     "text": [
      "\n",
      "=== Time Cut: 20 ===\n"
     ]
    },
    {
     "name": "stderr",
     "output_type": "stream",
     "text": [
      "/workspaces/rumour-detection-gnn/utils.py:1083: SettingWithCopyWarning: \n",
      "A value is trying to be set on a copy of a slice from a DataFrame.\n",
      "Try using .loc[row_indexer,col_indexer] = value instead\n",
      "\n",
      "See the caveats in the documentation: https://pandas.pydata.org/pandas-docs/stable/user_guide/indexing.html#returning-a-view-versus-a-copy\n",
      "  test_val_reply_features[['reply_followers','time_diff']] = scaler_replies.transform(test_val_reply_features[['reply_followers','time_diff']])\n"
     ]
    },
    {
     "name": "stdout",
     "output_type": "stream",
     "text": [
      "[Epoch 100] Train Loss: 0.2661 | Train Recall: 0.8304 | Train Auc: 0.9358\n",
      "[Final Val+Test] Acc: 0.7500 | Prec: 0.8333 | Recall: 0.7500 | AUC: 0.8750\n",
      "\n",
      "=== Time Cut: 35 ===\n"
     ]
    },
    {
     "name": "stderr",
     "output_type": "stream",
     "text": [
      "/workspaces/rumour-detection-gnn/utils.py:1083: SettingWithCopyWarning: \n",
      "A value is trying to be set on a copy of a slice from a DataFrame.\n",
      "Try using .loc[row_indexer,col_indexer] = value instead\n",
      "\n",
      "See the caveats in the documentation: https://pandas.pydata.org/pandas-docs/stable/user_guide/indexing.html#returning-a-view-versus-a-copy\n",
      "  test_val_reply_features[['reply_followers','time_diff']] = scaler_replies.transform(test_val_reply_features[['reply_followers','time_diff']])\n"
     ]
    },
    {
     "name": "stdout",
     "output_type": "stream",
     "text": [
      "[Epoch 100] Train Loss: 0.2883 | Train Recall: 0.8155 | Train Auc: 0.9244\n",
      "[Final Val+Test] Acc: 0.7200 | Prec: 0.7569 | Recall: 0.7403 | AUC: 0.8701\n",
      "\n",
      "=== Time Cut: 50 ===\n"
     ]
    },
    {
     "name": "stderr",
     "output_type": "stream",
     "text": [
      "/workspaces/rumour-detection-gnn/utils.py:1083: SettingWithCopyWarning: \n",
      "A value is trying to be set on a copy of a slice from a DataFrame.\n",
      "Try using .loc[row_indexer,col_indexer] = value instead\n",
      "\n",
      "See the caveats in the documentation: https://pandas.pydata.org/pandas-docs/stable/user_guide/indexing.html#returning-a-view-versus-a-copy\n",
      "  test_val_reply_features[['reply_followers','time_diff']] = scaler_replies.transform(test_val_reply_features[['reply_followers','time_diff']])\n"
     ]
    },
    {
     "name": "stdout",
     "output_type": "stream",
     "text": [
      "[Epoch 100] Train Loss: 0.2961 | Train Recall: 0.8187 | Train Auc: 0.9206\n",
      "[Final Val+Test] Acc: 0.7273 | Prec: 0.7727 | Recall: 0.7444 | AUC: 0.8778\n",
      "\n",
      "=== Time Cut: 65 ===\n"
     ]
    },
    {
     "name": "stderr",
     "output_type": "stream",
     "text": [
      "/workspaces/rumour-detection-gnn/utils.py:1083: SettingWithCopyWarning: \n",
      "A value is trying to be set on a copy of a slice from a DataFrame.\n",
      "Try using .loc[row_indexer,col_indexer] = value instead\n",
      "\n",
      "See the caveats in the documentation: https://pandas.pydata.org/pandas-docs/stable/user_guide/indexing.html#returning-a-view-versus-a-copy\n",
      "  test_val_reply_features[['reply_followers','time_diff']] = scaler_replies.transform(test_val_reply_features[['reply_followers','time_diff']])\n"
     ]
    },
    {
     "name": "stdout",
     "output_type": "stream",
     "text": [
      "[Epoch 100] Train Loss: 0.2839 | Train Recall: 0.8105 | Train Auc: 0.9291\n",
      "[Final Val+Test] Acc: 0.7317 | Prec: 0.7859 | Recall: 0.7369 | AUC: 0.8762\n",
      "\n",
      "=== Time Cut: 80 ===\n"
     ]
    },
    {
     "name": "stderr",
     "output_type": "stream",
     "text": [
      "/workspaces/rumour-detection-gnn/utils.py:1083: SettingWithCopyWarning: \n",
      "A value is trying to be set on a copy of a slice from a DataFrame.\n",
      "Try using .loc[row_indexer,col_indexer] = value instead\n",
      "\n",
      "See the caveats in the documentation: https://pandas.pydata.org/pandas-docs/stable/user_guide/indexing.html#returning-a-view-versus-a-copy\n",
      "  test_val_reply_features[['reply_followers','time_diff']] = scaler_replies.transform(test_val_reply_features[['reply_followers','time_diff']])\n"
     ]
    },
    {
     "name": "stdout",
     "output_type": "stream",
     "text": [
      "[Epoch 100] Train Loss: 0.2847 | Train Recall: 0.8212 | Train Auc: 0.9256\n",
      "[Final Val+Test] Acc: 0.7273 | Prec: 0.7609 | Recall: 0.7350 | AUC: 0.8778\n",
      "\n",
      "=== Time Cut: 95 ===\n"
     ]
    },
    {
     "name": "stderr",
     "output_type": "stream",
     "text": [
      "/workspaces/rumour-detection-gnn/utils.py:1083: SettingWithCopyWarning: \n",
      "A value is trying to be set on a copy of a slice from a DataFrame.\n",
      "Try using .loc[row_indexer,col_indexer] = value instead\n",
      "\n",
      "See the caveats in the documentation: https://pandas.pydata.org/pandas-docs/stable/user_guide/indexing.html#returning-a-view-versus-a-copy\n",
      "  test_val_reply_features[['reply_followers','time_diff']] = scaler_replies.transform(test_val_reply_features[['reply_followers','time_diff']])\n"
     ]
    },
    {
     "name": "stdout",
     "output_type": "stream",
     "text": [
      "[Epoch 100] Train Loss: 0.3004 | Train Recall: 0.8112 | Train Auc: 0.9166\n",
      "[Final Val+Test] Acc: 0.7193 | Prec: 0.7668 | Recall: 0.7155 | AUC: 0.8781\n",
      "\n",
      "=== Time Cut: 110 ===\n"
     ]
    },
    {
     "name": "stderr",
     "output_type": "stream",
     "text": [
      "/workspaces/rumour-detection-gnn/utils.py:1083: SettingWithCopyWarning: \n",
      "A value is trying to be set on a copy of a slice from a DataFrame.\n",
      "Try using .loc[row_indexer,col_indexer] = value instead\n",
      "\n",
      "See the caveats in the documentation: https://pandas.pydata.org/pandas-docs/stable/user_guide/indexing.html#returning-a-view-versus-a-copy\n",
      "  test_val_reply_features[['reply_followers','time_diff']] = scaler_replies.transform(test_val_reply_features[['reply_followers','time_diff']])\n"
     ]
    },
    {
     "name": "stdout",
     "output_type": "stream",
     "text": [
      "[Epoch 100] Train Loss: 0.2749 | Train Recall: 0.8235 | Train Auc: 0.9275\n",
      "[Final Val+Test] Acc: 0.7746 | Prec: 0.8128 | Recall: 0.7492 | AUC: 0.9040\n",
      "\n",
      "=== Time Cut: 125 ===\n"
     ]
    },
    {
     "name": "stderr",
     "output_type": "stream",
     "text": [
      "/workspaces/rumour-detection-gnn/utils.py:1083: SettingWithCopyWarning: \n",
      "A value is trying to be set on a copy of a slice from a DataFrame.\n",
      "Try using .loc[row_indexer,col_indexer] = value instead\n",
      "\n",
      "See the caveats in the documentation: https://pandas.pydata.org/pandas-docs/stable/user_guide/indexing.html#returning-a-view-versus-a-copy\n",
      "  test_val_reply_features[['reply_followers','time_diff']] = scaler_replies.transform(test_val_reply_features[['reply_followers','time_diff']])\n"
     ]
    },
    {
     "name": "stdout",
     "output_type": "stream",
     "text": [
      "[Epoch 100] Train Loss: 0.2930 | Train Recall: 0.8159 | Train Auc: 0.9211\n",
      "[Final Val+Test] Acc: 0.7711 | Prec: 0.7936 | Recall: 0.7131 | AUC: 0.9100\n",
      "\n",
      "=== Time Cut: 140 ===\n"
     ]
    },
    {
     "name": "stderr",
     "output_type": "stream",
     "text": [
      "/workspaces/rumour-detection-gnn/utils.py:1083: SettingWithCopyWarning: \n",
      "A value is trying to be set on a copy of a slice from a DataFrame.\n",
      "Try using .loc[row_indexer,col_indexer] = value instead\n",
      "\n",
      "See the caveats in the documentation: https://pandas.pydata.org/pandas-docs/stable/user_guide/indexing.html#returning-a-view-versus-a-copy\n",
      "  test_val_reply_features[['reply_followers','time_diff']] = scaler_replies.transform(test_val_reply_features[['reply_followers','time_diff']])\n"
     ]
    },
    {
     "name": "stdout",
     "output_type": "stream",
     "text": [
      "[Epoch 100] Train Loss: 0.2684 | Train Recall: 0.8167 | Train Auc: 0.9370\n",
      "[Final Val+Test] Acc: 0.7879 | Prec: 0.7885 | Recall: 0.7045 | AUC: 0.9104\n",
      "\n",
      "=== Time Cut: 155 ===\n"
     ]
    },
    {
     "name": "stderr",
     "output_type": "stream",
     "text": [
      "/workspaces/rumour-detection-gnn/utils.py:1083: SettingWithCopyWarning: \n",
      "A value is trying to be set on a copy of a slice from a DataFrame.\n",
      "Try using .loc[row_indexer,col_indexer] = value instead\n",
      "\n",
      "See the caveats in the documentation: https://pandas.pydata.org/pandas-docs/stable/user_guide/indexing.html#returning-a-view-versus-a-copy\n",
      "  test_val_reply_features[['reply_followers','time_diff']] = scaler_replies.transform(test_val_reply_features[['reply_followers','time_diff']])\n"
     ]
    },
    {
     "name": "stdout",
     "output_type": "stream",
     "text": [
      "[Epoch 100] Train Loss: 0.2922 | Train Recall: 0.8098 | Train Auc: 0.9213\n",
      "[Final Val+Test] Acc: 0.8053 | Prec: 0.7886 | Recall: 0.7112 | AUC: 0.9049\n",
      "\n",
      "=== Time Cut: 170 ===\n"
     ]
    },
    {
     "name": "stderr",
     "output_type": "stream",
     "text": [
      "/workspaces/rumour-detection-gnn/utils.py:1083: SettingWithCopyWarning: \n",
      "A value is trying to be set on a copy of a slice from a DataFrame.\n",
      "Try using .loc[row_indexer,col_indexer] = value instead\n",
      "\n",
      "See the caveats in the documentation: https://pandas.pydata.org/pandas-docs/stable/user_guide/indexing.html#returning-a-view-versus-a-copy\n",
      "  test_val_reply_features[['reply_followers','time_diff']] = scaler_replies.transform(test_val_reply_features[['reply_followers','time_diff']])\n"
     ]
    },
    {
     "name": "stdout",
     "output_type": "stream",
     "text": [
      "[Epoch 100] Train Loss: 0.2699 | Train Recall: 0.8333 | Train Auc: 0.9235\n",
      "[Final Val+Test] Acc: 0.8145 | Prec: 0.7696 | Recall: 0.7288 | AUC: 0.9174\n",
      "\n",
      "=== Time Cut: 185 ===\n"
     ]
    },
    {
     "name": "stderr",
     "output_type": "stream",
     "text": [
      "/workspaces/rumour-detection-gnn/utils.py:1083: SettingWithCopyWarning: \n",
      "A value is trying to be set on a copy of a slice from a DataFrame.\n",
      "Try using .loc[row_indexer,col_indexer] = value instead\n",
      "\n",
      "See the caveats in the documentation: https://pandas.pydata.org/pandas-docs/stable/user_guide/indexing.html#returning-a-view-versus-a-copy\n",
      "  test_val_reply_features[['reply_followers','time_diff']] = scaler_replies.transform(test_val_reply_features[['reply_followers','time_diff']])\n"
     ]
    },
    {
     "name": "stdout",
     "output_type": "stream",
     "text": [
      "[Epoch 100] Train Loss: 0.2702 | Train Recall: 0.8245 | Train Auc: 0.9369\n",
      "[Final Val+Test] Acc: 0.8538 | Prec: 0.8298 | Recall: 0.7621 | AUC: 0.9160\n",
      "\n",
      "=== Time Cut: 200 ===\n"
     ]
    },
    {
     "name": "stderr",
     "output_type": "stream",
     "text": [
      "/workspaces/rumour-detection-gnn/utils.py:1083: SettingWithCopyWarning: \n",
      "A value is trying to be set on a copy of a slice from a DataFrame.\n",
      "Try using .loc[row_indexer,col_indexer] = value instead\n",
      "\n",
      "See the caveats in the documentation: https://pandas.pydata.org/pandas-docs/stable/user_guide/indexing.html#returning-a-view-versus-a-copy\n",
      "  test_val_reply_features[['reply_followers','time_diff']] = scaler_replies.transform(test_val_reply_features[['reply_followers','time_diff']])\n"
     ]
    },
    {
     "name": "stdout",
     "output_type": "stream",
     "text": [
      "[Epoch 100] Train Loss: 0.2726 | Train Recall: 0.8315 | Train Auc: 0.9309\n",
      "[Final Val+Test] Acc: 0.8531 | Prec: 0.8205 | Recall: 0.7579 | AUC: 0.9220\n",
      "\n",
      "=== Time Cut: 215 ===\n"
     ]
    },
    {
     "name": "stderr",
     "output_type": "stream",
     "text": [
      "/workspaces/rumour-detection-gnn/utils.py:1083: SettingWithCopyWarning: \n",
      "A value is trying to be set on a copy of a slice from a DataFrame.\n",
      "Try using .loc[row_indexer,col_indexer] = value instead\n",
      "\n",
      "See the caveats in the documentation: https://pandas.pydata.org/pandas-docs/stable/user_guide/indexing.html#returning-a-view-versus-a-copy\n",
      "  test_val_reply_features[['reply_followers','time_diff']] = scaler_replies.transform(test_val_reply_features[['reply_followers','time_diff']])\n"
     ]
    },
    {
     "name": "stdout",
     "output_type": "stream",
     "text": [
      "[Epoch 100] Train Loss: 0.2869 | Train Recall: 0.8297 | Train Auc: 0.9238\n",
      "[Final Val+Test] Acc: 0.8580 | Prec: 0.8014 | Recall: 0.7698 | AUC: 0.9220\n",
      "\n",
      "=== Time Cut: 230 ===\n"
     ]
    },
    {
     "name": "stderr",
     "output_type": "stream",
     "text": [
      "/workspaces/rumour-detection-gnn/utils.py:1083: SettingWithCopyWarning: \n",
      "A value is trying to be set on a copy of a slice from a DataFrame.\n",
      "Try using .loc[row_indexer,col_indexer] = value instead\n",
      "\n",
      "See the caveats in the documentation: https://pandas.pydata.org/pandas-docs/stable/user_guide/indexing.html#returning-a-view-versus-a-copy\n",
      "  test_val_reply_features[['reply_followers','time_diff']] = scaler_replies.transform(test_val_reply_features[['reply_followers','time_diff']])\n"
     ]
    },
    {
     "name": "stdout",
     "output_type": "stream",
     "text": [
      "[Epoch 100] Train Loss: 0.2683 | Train Recall: 0.8356 | Train Auc: 0.9325\n",
      "[Final Val+Test] Acc: 0.8736 | Prec: 0.8188 | Recall: 0.7538 | AUC: 0.9309\n",
      "\n",
      "=== Time Cut: 245 ===\n"
     ]
    },
    {
     "name": "stderr",
     "output_type": "stream",
     "text": [
      "/workspaces/rumour-detection-gnn/utils.py:1083: SettingWithCopyWarning: \n",
      "A value is trying to be set on a copy of a slice from a DataFrame.\n",
      "Try using .loc[row_indexer,col_indexer] = value instead\n",
      "\n",
      "See the caveats in the documentation: https://pandas.pydata.org/pandas-docs/stable/user_guide/indexing.html#returning-a-view-versus-a-copy\n",
      "  test_val_reply_features[['reply_followers','time_diff']] = scaler_replies.transform(test_val_reply_features[['reply_followers','time_diff']])\n"
     ]
    },
    {
     "name": "stdout",
     "output_type": "stream",
     "text": [
      "[Epoch 100] Train Loss: 0.2992 | Train Recall: 0.8133 | Train Auc: 0.9174\n",
      "[Final Val+Test] Acc: 0.8534 | Prec: 0.7639 | Recall: 0.7284 | AUC: 0.9238\n",
      "\n",
      "=== Time Cut: 260 ===\n"
     ]
    },
    {
     "name": "stderr",
     "output_type": "stream",
     "text": [
      "/workspaces/rumour-detection-gnn/utils.py:1083: SettingWithCopyWarning: \n",
      "A value is trying to be set on a copy of a slice from a DataFrame.\n",
      "Try using .loc[row_indexer,col_indexer] = value instead\n",
      "\n",
      "See the caveats in the documentation: https://pandas.pydata.org/pandas-docs/stable/user_guide/indexing.html#returning-a-view-versus-a-copy\n",
      "  test_val_reply_features[['reply_followers','time_diff']] = scaler_replies.transform(test_val_reply_features[['reply_followers','time_diff']])\n"
     ]
    },
    {
     "name": "stdout",
     "output_type": "stream",
     "text": [
      "[Epoch 100] Train Loss: 0.2928 | Train Recall: 0.8274 | Train Auc: 0.9210\n",
      "[Final Val+Test] Acc: 0.8543 | Prec: 0.7574 | Recall: 0.7163 | AUC: 0.9173\n",
      "\n",
      "=== Time Cut: 275 ===\n"
     ]
    },
    {
     "name": "stderr",
     "output_type": "stream",
     "text": [
      "/workspaces/rumour-detection-gnn/utils.py:1083: SettingWithCopyWarning: \n",
      "A value is trying to be set on a copy of a slice from a DataFrame.\n",
      "Try using .loc[row_indexer,col_indexer] = value instead\n",
      "\n",
      "See the caveats in the documentation: https://pandas.pydata.org/pandas-docs/stable/user_guide/indexing.html#returning-a-view-versus-a-copy\n",
      "  test_val_reply_features[['reply_followers','time_diff']] = scaler_replies.transform(test_val_reply_features[['reply_followers','time_diff']])\n"
     ]
    },
    {
     "name": "stdout",
     "output_type": "stream",
     "text": [
      "[Epoch 100] Train Loss: 0.2913 | Train Recall: 0.8322 | Train Auc: 0.9219\n",
      "[Final Val+Test] Acc: 0.8868 | Prec: 0.8049 | Recall: 0.7771 | AUC: 0.9326\n",
      "\n",
      "=== Time Cut: 290 ===\n"
     ]
    },
    {
     "name": "stderr",
     "output_type": "stream",
     "text": [
      "/workspaces/rumour-detection-gnn/utils.py:1083: SettingWithCopyWarning: \n",
      "A value is trying to be set on a copy of a slice from a DataFrame.\n",
      "Try using .loc[row_indexer,col_indexer] = value instead\n",
      "\n",
      "See the caveats in the documentation: https://pandas.pydata.org/pandas-docs/stable/user_guide/indexing.html#returning-a-view-versus-a-copy\n",
      "  test_val_reply_features[['reply_followers','time_diff']] = scaler_replies.transform(test_val_reply_features[['reply_followers','time_diff']])\n"
     ]
    },
    {
     "name": "stdout",
     "output_type": "stream",
     "text": [
      "[Epoch 100] Train Loss: 0.2980 | Train Recall: 0.8101 | Train Auc: 0.9099\n",
      "[Final Val+Test] Acc: 0.8774 | Prec: 0.7894 | Recall: 0.7494 | AUC: 0.9276\n",
      "\n",
      "=== Time Cut: 305 ===\n"
     ]
    },
    {
     "name": "stderr",
     "output_type": "stream",
     "text": [
      "/workspaces/rumour-detection-gnn/utils.py:1083: SettingWithCopyWarning: \n",
      "A value is trying to be set on a copy of a slice from a DataFrame.\n",
      "Try using .loc[row_indexer,col_indexer] = value instead\n",
      "\n",
      "See the caveats in the documentation: https://pandas.pydata.org/pandas-docs/stable/user_guide/indexing.html#returning-a-view-versus-a-copy\n",
      "  test_val_reply_features[['reply_followers','time_diff']] = scaler_replies.transform(test_val_reply_features[['reply_followers','time_diff']])\n"
     ]
    },
    {
     "name": "stdout",
     "output_type": "stream",
     "text": [
      "[Epoch 100] Train Loss: 0.2913 | Train Recall: 0.8198 | Train Auc: 0.9232\n",
      "[Final Val+Test] Acc: 0.8679 | Prec: 0.7658 | Recall: 0.7658 | AUC: 0.9227\n",
      "\n",
      "=== Time Cut: 320 ===\n"
     ]
    },
    {
     "name": "stderr",
     "output_type": "stream",
     "text": [
      "/workspaces/rumour-detection-gnn/utils.py:1083: SettingWithCopyWarning: \n",
      "A value is trying to be set on a copy of a slice from a DataFrame.\n",
      "Try using .loc[row_indexer,col_indexer] = value instead\n",
      "\n",
      "See the caveats in the documentation: https://pandas.pydata.org/pandas-docs/stable/user_guide/indexing.html#returning-a-view-versus-a-copy\n",
      "  test_val_reply_features[['reply_followers','time_diff']] = scaler_replies.transform(test_val_reply_features[['reply_followers','time_diff']])\n"
     ]
    },
    {
     "name": "stdout",
     "output_type": "stream",
     "text": [
      "[Epoch 100] Train Loss: 0.2802 | Train Recall: 0.8162 | Train Auc: 0.9278\n",
      "[Final Val+Test] Acc: 0.8832 | Prec: 0.7977 | Recall: 0.7636 | AUC: 0.9249\n",
      "\n",
      "=== Time Cut: 335 ===\n"
     ]
    },
    {
     "name": "stderr",
     "output_type": "stream",
     "text": [
      "/workspaces/rumour-detection-gnn/utils.py:1083: SettingWithCopyWarning: \n",
      "A value is trying to be set on a copy of a slice from a DataFrame.\n",
      "Try using .loc[row_indexer,col_indexer] = value instead\n",
      "\n",
      "See the caveats in the documentation: https://pandas.pydata.org/pandas-docs/stable/user_guide/indexing.html#returning-a-view-versus-a-copy\n",
      "  test_val_reply_features[['reply_followers','time_diff']] = scaler_replies.transform(test_val_reply_features[['reply_followers','time_diff']])\n"
     ]
    },
    {
     "name": "stdout",
     "output_type": "stream",
     "text": [
      "[Epoch 100] Train Loss: 0.2821 | Train Recall: 0.8071 | Train Auc: 0.9278\n",
      "[Final Val+Test] Acc: 0.8785 | Prec: 0.7936 | Recall: 0.7386 | AUC: 0.9243\n",
      "\n",
      "=== Time Cut: 350 ===\n"
     ]
    },
    {
     "name": "stderr",
     "output_type": "stream",
     "text": [
      "/workspaces/rumour-detection-gnn/utils.py:1083: SettingWithCopyWarning: \n",
      "A value is trying to be set on a copy of a slice from a DataFrame.\n",
      "Try using .loc[row_indexer,col_indexer] = value instead\n",
      "\n",
      "See the caveats in the documentation: https://pandas.pydata.org/pandas-docs/stable/user_guide/indexing.html#returning-a-view-versus-a-copy\n",
      "  test_val_reply_features[['reply_followers','time_diff']] = scaler_replies.transform(test_val_reply_features[['reply_followers','time_diff']])\n"
     ]
    },
    {
     "name": "stdout",
     "output_type": "stream",
     "text": [
      "[Epoch 100] Train Loss: 0.2949 | Train Recall: 0.8089 | Train Auc: 0.9225\n",
      "[Final Val+Test] Acc: 0.8791 | Prec: 0.7901 | Recall: 0.7498 | AUC: 0.9302\n",
      "\n",
      "=== Time Cut: 365 ===\n"
     ]
    },
    {
     "name": "stderr",
     "output_type": "stream",
     "text": [
      "/workspaces/rumour-detection-gnn/utils.py:1083: SettingWithCopyWarning: \n",
      "A value is trying to be set on a copy of a slice from a DataFrame.\n",
      "Try using .loc[row_indexer,col_indexer] = value instead\n",
      "\n",
      "See the caveats in the documentation: https://pandas.pydata.org/pandas-docs/stable/user_guide/indexing.html#returning-a-view-versus-a-copy\n",
      "  test_val_reply_features[['reply_followers','time_diff']] = scaler_replies.transform(test_val_reply_features[['reply_followers','time_diff']])\n"
     ]
    },
    {
     "name": "stdout",
     "output_type": "stream",
     "text": [
      "[Epoch 100] Train Loss: 0.2714 | Train Recall: 0.8235 | Train Auc: 0.9329\n",
      "[Final Val+Test] Acc: 0.8930 | Prec: 0.8168 | Recall: 0.7804 | AUC: 0.9258\n",
      "\n",
      "=== Time Cut: 380 ===\n"
     ]
    },
    {
     "name": "stderr",
     "output_type": "stream",
     "text": [
      "/workspaces/rumour-detection-gnn/utils.py:1083: SettingWithCopyWarning: \n",
      "A value is trying to be set on a copy of a slice from a DataFrame.\n",
      "Try using .loc[row_indexer,col_indexer] = value instead\n",
      "\n",
      "See the caveats in the documentation: https://pandas.pydata.org/pandas-docs/stable/user_guide/indexing.html#returning-a-view-versus-a-copy\n",
      "  test_val_reply_features[['reply_followers','time_diff']] = scaler_replies.transform(test_val_reply_features[['reply_followers','time_diff']])\n"
     ]
    },
    {
     "name": "stdout",
     "output_type": "stream",
     "text": [
      "[Epoch 100] Train Loss: 0.2836 | Train Recall: 0.8162 | Train Auc: 0.9248\n",
      "[Final Val+Test] Acc: 0.8791 | Prec: 0.7901 | Recall: 0.7498 | AUC: 0.9165\n",
      "\n",
      "=== Time Cut: 395 ===\n"
     ]
    },
    {
     "name": "stderr",
     "output_type": "stream",
     "text": [
      "/workspaces/rumour-detection-gnn/utils.py:1083: SettingWithCopyWarning: \n",
      "A value is trying to be set on a copy of a slice from a DataFrame.\n",
      "Try using .loc[row_indexer,col_indexer] = value instead\n",
      "\n",
      "See the caveats in the documentation: https://pandas.pydata.org/pandas-docs/stable/user_guide/indexing.html#returning-a-view-versus-a-copy\n",
      "  test_val_reply_features[['reply_followers','time_diff']] = scaler_replies.transform(test_val_reply_features[['reply_followers','time_diff']])\n"
     ]
    },
    {
     "name": "stdout",
     "output_type": "stream",
     "text": [
      "[Epoch 100] Train Loss: 0.2781 | Train Recall: 0.8358 | Train Auc: 0.9292\n",
      "[Final Val+Test] Acc: 0.8977 | Prec: 0.8349 | Recall: 0.7721 | AUC: 0.9305\n",
      "\n",
      "=== Time Cut: 410 ===\n"
     ]
    },
    {
     "name": "stderr",
     "output_type": "stream",
     "text": [
      "/workspaces/rumour-detection-gnn/utils.py:1083: SettingWithCopyWarning: \n",
      "A value is trying to be set on a copy of a slice from a DataFrame.\n",
      "Try using .loc[row_indexer,col_indexer] = value instead\n",
      "\n",
      "See the caveats in the documentation: https://pandas.pydata.org/pandas-docs/stable/user_guide/indexing.html#returning-a-view-versus-a-copy\n",
      "  test_val_reply_features[['reply_followers','time_diff']] = scaler_replies.transform(test_val_reply_features[['reply_followers','time_diff']])\n"
     ]
    },
    {
     "name": "stdout",
     "output_type": "stream",
     "text": [
      "[Epoch 100] Train Loss: 0.2992 | Train Recall: 0.7957 | Train Auc: 0.9214\n",
      "[Final Val+Test] Acc: 0.8843 | Prec: 0.8069 | Recall: 0.7417 | AUC: 0.9273\n",
      "\n",
      "=== Time Cut: 425 ===\n"
     ]
    },
    {
     "name": "stderr",
     "output_type": "stream",
     "text": [
      "/workspaces/rumour-detection-gnn/utils.py:1083: SettingWithCopyWarning: \n",
      "A value is trying to be set on a copy of a slice from a DataFrame.\n",
      "Try using .loc[row_indexer,col_indexer] = value instead\n",
      "\n",
      "See the caveats in the documentation: https://pandas.pydata.org/pandas-docs/stable/user_guide/indexing.html#returning-a-view-versus-a-copy\n",
      "  test_val_reply_features[['reply_followers','time_diff']] = scaler_replies.transform(test_val_reply_features[['reply_followers','time_diff']])\n"
     ]
    },
    {
     "name": "stdout",
     "output_type": "stream",
     "text": [
      "[Epoch 100] Train Loss: 0.2709 | Train Recall: 0.8372 | Train Auc: 0.9326\n",
      "[Final Val+Test] Acc: 0.8843 | Prec: 0.7982 | Recall: 0.7639 | AUC: 0.9309\n",
      "\n",
      "=== Time Cut: 440 ===\n"
     ]
    },
    {
     "name": "stderr",
     "output_type": "stream",
     "text": [
      "/workspaces/rumour-detection-gnn/utils.py:1083: SettingWithCopyWarning: \n",
      "A value is trying to be set on a copy of a slice from a DataFrame.\n",
      "Try using .loc[row_indexer,col_indexer] = value instead\n",
      "\n",
      "See the caveats in the documentation: https://pandas.pydata.org/pandas-docs/stable/user_guide/indexing.html#returning-a-view-versus-a-copy\n",
      "  test_val_reply_features[['reply_followers','time_diff']] = scaler_replies.transform(test_val_reply_features[['reply_followers','time_diff']])\n"
     ]
    },
    {
     "name": "stdout",
     "output_type": "stream",
     "text": [
      "[Epoch 100] Train Loss: 0.2696 | Train Recall: 0.8201 | Train Auc: 0.9340\n",
      "[Final Val+Test] Acc: 0.8796 | Prec: 0.7874 | Recall: 0.7611 | AUC: 0.9293\n",
      "\n",
      "=== Time Cut: 455 ===\n"
     ]
    },
    {
     "name": "stderr",
     "output_type": "stream",
     "text": [
      "/workspaces/rumour-detection-gnn/utils.py:1083: SettingWithCopyWarning: \n",
      "A value is trying to be set on a copy of a slice from a DataFrame.\n",
      "Try using .loc[row_indexer,col_indexer] = value instead\n",
      "\n",
      "See the caveats in the documentation: https://pandas.pydata.org/pandas-docs/stable/user_guide/indexing.html#returning-a-view-versus-a-copy\n",
      "  test_val_reply_features[['reply_followers','time_diff']] = scaler_replies.transform(test_val_reply_features[['reply_followers','time_diff']])\n"
     ]
    },
    {
     "name": "stdout",
     "output_type": "stream",
     "text": [
      "[Epoch 100] Train Loss: 0.2823 | Train Recall: 0.7994 | Train Auc: 0.9243\n",
      "[Final Val+Test] Acc: 0.8889 | Prec: 0.8146 | Recall: 0.7556 | AUC: 0.9204\n",
      "\n",
      "=== Time Cut: 470 ===\n"
     ]
    },
    {
     "name": "stderr",
     "output_type": "stream",
     "text": [
      "/workspaces/rumour-detection-gnn/utils.py:1083: SettingWithCopyWarning: \n",
      "A value is trying to be set on a copy of a slice from a DataFrame.\n",
      "Try using .loc[row_indexer,col_indexer] = value instead\n",
      "\n",
      "See the caveats in the documentation: https://pandas.pydata.org/pandas-docs/stable/user_guide/indexing.html#returning-a-view-versus-a-copy\n",
      "  test_val_reply_features[['reply_followers','time_diff']] = scaler_replies.transform(test_val_reply_features[['reply_followers','time_diff']])\n"
     ]
    },
    {
     "name": "stdout",
     "output_type": "stream",
     "text": [
      "[Epoch 100] Train Loss: 0.2564 | Train Recall: 0.8450 | Train Auc: 0.9406\n",
      "[Final Val+Test] Acc: 0.8843 | Prec: 0.8020 | Recall: 0.7528 | AUC: 0.9281\n",
      "\n",
      "=== Time Cut: 485 ===\n"
     ]
    },
    {
     "name": "stderr",
     "output_type": "stream",
     "text": [
      "/workspaces/rumour-detection-gnn/utils.py:1083: SettingWithCopyWarning: \n",
      "A value is trying to be set on a copy of a slice from a DataFrame.\n",
      "Try using .loc[row_indexer,col_indexer] = value instead\n",
      "\n",
      "See the caveats in the documentation: https://pandas.pydata.org/pandas-docs/stable/user_guide/indexing.html#returning-a-view-versus-a-copy\n",
      "  test_val_reply_features[['reply_followers','time_diff']] = scaler_replies.transform(test_val_reply_features[['reply_followers','time_diff']])\n"
     ]
    },
    {
     "name": "stdout",
     "output_type": "stream",
     "text": [
      "[Epoch 100] Train Loss: 0.2840 | Train Recall: 0.8258 | Train Auc: 0.9278\n",
      "[Final Val+Test] Acc: 0.8796 | Prec: 0.7874 | Recall: 0.7611 | AUC: 0.9333\n",
      "\n",
      "=== Time Cut: 500 ===\n"
     ]
    },
    {
     "name": "stderr",
     "output_type": "stream",
     "text": [
      "/workspaces/rumour-detection-gnn/utils.py:1083: SettingWithCopyWarning: \n",
      "A value is trying to be set on a copy of a slice from a DataFrame.\n",
      "Try using .loc[row_indexer,col_indexer] = value instead\n",
      "\n",
      "See the caveats in the documentation: https://pandas.pydata.org/pandas-docs/stable/user_guide/indexing.html#returning-a-view-versus-a-copy\n",
      "  test_val_reply_features[['reply_followers','time_diff']] = scaler_replies.transform(test_val_reply_features[['reply_followers','time_diff']])\n"
     ]
    },
    {
     "name": "stdout",
     "output_type": "stream",
     "text": [
      "[Epoch 100] Train Loss: 0.3009 | Train Recall: 0.8148 | Train Auc: 0.9182\n",
      "[Final Val+Test] Acc: 0.8704 | Prec: 0.7710 | Recall: 0.7333 | AUC: 0.9265\n",
      "\n",
      "=== Time Cut: 515 ===\n"
     ]
    },
    {
     "name": "stderr",
     "output_type": "stream",
     "text": [
      "/workspaces/rumour-detection-gnn/utils.py:1083: SettingWithCopyWarning: \n",
      "A value is trying to be set on a copy of a slice from a DataFrame.\n",
      "Try using .loc[row_indexer,col_indexer] = value instead\n",
      "\n",
      "See the caveats in the documentation: https://pandas.pydata.org/pandas-docs/stable/user_guide/indexing.html#returning-a-view-versus-a-copy\n",
      "  test_val_reply_features[['reply_followers','time_diff']] = scaler_replies.transform(test_val_reply_features[['reply_followers','time_diff']])\n"
     ]
    },
    {
     "name": "stdout",
     "output_type": "stream",
     "text": [
      "[Epoch 100] Train Loss: 0.2795 | Train Recall: 0.8089 | Train Auc: 0.9175\n",
      "[Final Val+Test] Acc: 0.8802 | Prec: 0.7943 | Recall: 0.7390 | AUC: 0.9187\n",
      "\n",
      "=== Time Cut: 530 ===\n"
     ]
    },
    {
     "name": "stderr",
     "output_type": "stream",
     "text": [
      "/workspaces/rumour-detection-gnn/utils.py:1083: SettingWithCopyWarning: \n",
      "A value is trying to be set on a copy of a slice from a DataFrame.\n",
      "Try using .loc[row_indexer,col_indexer] = value instead\n",
      "\n",
      "See the caveats in the documentation: https://pandas.pydata.org/pandas-docs/stable/user_guide/indexing.html#returning-a-view-versus-a-copy\n",
      "  test_val_reply_features[['reply_followers','time_diff']] = scaler_replies.transform(test_val_reply_features[['reply_followers','time_diff']])\n"
     ]
    },
    {
     "name": "stdout",
     "output_type": "stream",
     "text": [
      "[Epoch 100] Train Loss: 0.3011 | Train Recall: 0.8068 | Train Auc: 0.9164\n",
      "[Final Val+Test] Acc: 0.8710 | Prec: 0.7772 | Recall: 0.7112 | AUC: 0.9228\n",
      "\n",
      "=== Time Cut: 545 ===\n"
     ]
    },
    {
     "name": "stderr",
     "output_type": "stream",
     "text": [
      "/workspaces/rumour-detection-gnn/utils.py:1083: SettingWithCopyWarning: \n",
      "A value is trying to be set on a copy of a slice from a DataFrame.\n",
      "Try using .loc[row_indexer,col_indexer] = value instead\n",
      "\n",
      "See the caveats in the documentation: https://pandas.pydata.org/pandas-docs/stable/user_guide/indexing.html#returning-a-view-versus-a-copy\n",
      "  test_val_reply_features[['reply_followers','time_diff']] = scaler_replies.transform(test_val_reply_features[['reply_followers','time_diff']])\n"
     ]
    },
    {
     "name": "stdout",
     "output_type": "stream",
     "text": [
      "[Epoch 100] Train Loss: 0.2862 | Train Recall: 0.8272 | Train Auc: 0.9249\n",
      "[Final Val+Test] Acc: 0.8802 | Prec: 0.7943 | Recall: 0.7390 | AUC: 0.9322\n",
      "\n",
      "=== Time Cut: 560 ===\n"
     ]
    },
    {
     "name": "stderr",
     "output_type": "stream",
     "text": [
      "/workspaces/rumour-detection-gnn/utils.py:1083: SettingWithCopyWarning: \n",
      "A value is trying to be set on a copy of a slice from a DataFrame.\n",
      "Try using .loc[row_indexer,col_indexer] = value instead\n",
      "\n",
      "See the caveats in the documentation: https://pandas.pydata.org/pandas-docs/stable/user_guide/indexing.html#returning-a-view-versus-a-copy\n",
      "  test_val_reply_features[['reply_followers','time_diff']] = scaler_replies.transform(test_val_reply_features[['reply_followers','time_diff']])\n"
     ]
    },
    {
     "name": "stdout",
     "output_type": "stream",
     "text": [
      "[Epoch 100] Train Loss: 0.2847 | Train Recall: 0.8219 | Train Auc: 0.9262\n",
      "[Final Val+Test] Acc: 0.8710 | Prec: 0.7738 | Recall: 0.7224 | AUC: 0.9346\n",
      "\n",
      "=== Time Cut: 575 ===\n"
     ]
    },
    {
     "name": "stderr",
     "output_type": "stream",
     "text": [
      "/workspaces/rumour-detection-gnn/utils.py:1083: SettingWithCopyWarning: \n",
      "A value is trying to be set on a copy of a slice from a DataFrame.\n",
      "Try using .loc[row_indexer,col_indexer] = value instead\n",
      "\n",
      "See the caveats in the documentation: https://pandas.pydata.org/pandas-docs/stable/user_guide/indexing.html#returning-a-view-versus-a-copy\n",
      "  test_val_reply_features[['reply_followers','time_diff']] = scaler_replies.transform(test_val_reply_features[['reply_followers','time_diff']])\n"
     ]
    },
    {
     "name": "stdout",
     "output_type": "stream",
     "text": [
      "[Epoch 100] Train Loss: 0.2863 | Train Recall: 0.8308 | Train Auc: 0.9279\n",
      "[Final Val+Test] Acc: 0.8848 | Prec: 0.7953 | Recall: 0.7752 | AUC: 0.9339\n",
      "\n",
      "=== Time Cut: 590 ===\n"
     ]
    },
    {
     "name": "stderr",
     "output_type": "stream",
     "text": [
      "/workspaces/rumour-detection-gnn/utils.py:1083: SettingWithCopyWarning: \n",
      "A value is trying to be set on a copy of a slice from a DataFrame.\n",
      "Try using .loc[row_indexer,col_indexer] = value instead\n",
      "\n",
      "See the caveats in the documentation: https://pandas.pydata.org/pandas-docs/stable/user_guide/indexing.html#returning-a-view-versus-a-copy\n",
      "  test_val_reply_features[['reply_followers','time_diff']] = scaler_replies.transform(test_val_reply_features[['reply_followers','time_diff']])\n"
     ]
    },
    {
     "name": "stdout",
     "output_type": "stream",
     "text": [
      "[Epoch 100] Train Loss: 0.2669 | Train Recall: 0.8274 | Train Auc: 0.9360\n",
      "[Final Val+Test] Acc: 0.8894 | Prec: 0.8099 | Recall: 0.7668 | AUC: 0.9351\n",
      "\n",
      "=== Time Cut: 605 ===\n"
     ]
    },
    {
     "name": "stderr",
     "output_type": "stream",
     "text": [
      "/workspaces/rumour-detection-gnn/utils.py:1083: SettingWithCopyWarning: \n",
      "A value is trying to be set on a copy of a slice from a DataFrame.\n",
      "Try using .loc[row_indexer,col_indexer] = value instead\n",
      "\n",
      "See the caveats in the documentation: https://pandas.pydata.org/pandas-docs/stable/user_guide/indexing.html#returning-a-view-versus-a-copy\n",
      "  test_val_reply_features[['reply_followers','time_diff']] = scaler_replies.transform(test_val_reply_features[['reply_followers','time_diff']])\n"
     ]
    },
    {
     "name": "stdout",
     "output_type": "stream",
     "text": [
      "[Epoch 100] Train Loss: 0.2797 | Train Recall: 0.8251 | Train Auc: 0.9321\n",
      "[Final Val+Test] Acc: 0.8986 | Prec: 0.8242 | Recall: 0.7946 | AUC: 0.9352\n",
      "\n",
      "=== Time Cut: 620 ===\n"
     ]
    },
    {
     "name": "stderr",
     "output_type": "stream",
     "text": [
      "/workspaces/rumour-detection-gnn/utils.py:1083: SettingWithCopyWarning: \n",
      "A value is trying to be set on a copy of a slice from a DataFrame.\n",
      "Try using .loc[row_indexer,col_indexer] = value instead\n",
      "\n",
      "See the caveats in the documentation: https://pandas.pydata.org/pandas-docs/stable/user_guide/indexing.html#returning-a-view-versus-a-copy\n",
      "  test_val_reply_features[['reply_followers','time_diff']] = scaler_replies.transform(test_val_reply_features[['reply_followers','time_diff']])\n"
     ]
    },
    {
     "name": "stdout",
     "output_type": "stream",
     "text": [
      "[Epoch 100] Train Loss: 0.2917 | Train Recall: 0.8171 | Train Auc: 0.9230\n",
      "[Final Val+Test] Acc: 0.8802 | Prec: 0.7943 | Recall: 0.7390 | AUC: 0.9294\n",
      "\n",
      "=== Time Cut: 635 ===\n"
     ]
    },
    {
     "name": "stderr",
     "output_type": "stream",
     "text": [
      "/workspaces/rumour-detection-gnn/utils.py:1083: SettingWithCopyWarning: \n",
      "A value is trying to be set on a copy of a slice from a DataFrame.\n",
      "Try using .loc[row_indexer,col_indexer] = value instead\n",
      "\n",
      "See the caveats in the documentation: https://pandas.pydata.org/pandas-docs/stable/user_guide/indexing.html#returning-a-view-versus-a-copy\n",
      "  test_val_reply_features[['reply_followers','time_diff']] = scaler_replies.transform(test_val_reply_features[['reply_followers','time_diff']])\n"
     ]
    },
    {
     "name": "stdout",
     "output_type": "stream",
     "text": [
      "[Epoch 100] Train Loss: 0.2839 | Train Recall: 0.8203 | Train Auc: 0.9264\n",
      "[Final Val+Test] Acc: 0.8756 | Prec: 0.7860 | Recall: 0.7251 | AUC: 0.9289\n",
      "\n",
      "=== Time Cut: 650 ===\n"
     ]
    },
    {
     "name": "stderr",
     "output_type": "stream",
     "text": [
      "/workspaces/rumour-detection-gnn/utils.py:1083: SettingWithCopyWarning: \n",
      "A value is trying to be set on a copy of a slice from a DataFrame.\n",
      "Try using .loc[row_indexer,col_indexer] = value instead\n",
      "\n",
      "See the caveats in the documentation: https://pandas.pydata.org/pandas-docs/stable/user_guide/indexing.html#returning-a-view-versus-a-copy\n",
      "  test_val_reply_features[['reply_followers','time_diff']] = scaler_replies.transform(test_val_reply_features[['reply_followers','time_diff']])\n"
     ]
    },
    {
     "name": "stdout",
     "output_type": "stream",
     "text": [
      "[Epoch 100] Train Loss: 0.2807 | Train Recall: 0.8292 | Train Auc: 0.9285\n",
      "[Final Val+Test] Acc: 0.8894 | Prec: 0.8099 | Recall: 0.7668 | AUC: 0.9339\n",
      "\n",
      "=== Time Cut: 665 ===\n"
     ]
    },
    {
     "name": "stderr",
     "output_type": "stream",
     "text": [
      "/workspaces/rumour-detection-gnn/utils.py:1083: SettingWithCopyWarning: \n",
      "A value is trying to be set on a copy of a slice from a DataFrame.\n",
      "Try using .loc[row_indexer,col_indexer] = value instead\n",
      "\n",
      "See the caveats in the documentation: https://pandas.pydata.org/pandas-docs/stable/user_guide/indexing.html#returning-a-view-versus-a-copy\n",
      "  test_val_reply_features[['reply_followers','time_diff']] = scaler_replies.transform(test_val_reply_features[['reply_followers','time_diff']])\n"
     ]
    },
    {
     "name": "stdout",
     "output_type": "stream",
     "text": [
      "[Epoch 100] Train Loss: 0.2641 | Train Recall: 0.8302 | Train Auc: 0.9361\n",
      "[Final Val+Test] Acc: 0.8802 | Prec: 0.7906 | Recall: 0.7502 | AUC: 0.9197\n",
      "\n",
      "=== Time Cut: 680 ===\n"
     ]
    },
    {
     "name": "stderr",
     "output_type": "stream",
     "text": [
      "/workspaces/rumour-detection-gnn/utils.py:1083: SettingWithCopyWarning: \n",
      "A value is trying to be set on a copy of a slice from a DataFrame.\n",
      "Try using .loc[row_indexer,col_indexer] = value instead\n",
      "\n",
      "See the caveats in the documentation: https://pandas.pydata.org/pandas-docs/stable/user_guide/indexing.html#returning-a-view-versus-a-copy\n",
      "  test_val_reply_features[['reply_followers','time_diff']] = scaler_replies.transform(test_val_reply_features[['reply_followers','time_diff']])\n"
     ]
    },
    {
     "name": "stdout",
     "output_type": "stream",
     "text": [
      "[Epoch 100] Train Loss: 0.2755 | Train Recall: 0.8172 | Train Auc: 0.9318\n",
      "[Final Val+Test] Acc: 0.8940 | Prec: 0.8132 | Recall: 0.7918 | AUC: 0.9405\n",
      "\n",
      "=== Time Cut: 695 ===\n"
     ]
    },
    {
     "name": "stderr",
     "output_type": "stream",
     "text": [
      "/workspaces/rumour-detection-gnn/utils.py:1083: SettingWithCopyWarning: \n",
      "A value is trying to be set on a copy of a slice from a DataFrame.\n",
      "Try using .loc[row_indexer,col_indexer] = value instead\n",
      "\n",
      "See the caveats in the documentation: https://pandas.pydata.org/pandas-docs/stable/user_guide/indexing.html#returning-a-view-versus-a-copy\n",
      "  test_val_reply_features[['reply_followers','time_diff']] = scaler_replies.transform(test_val_reply_features[['reply_followers','time_diff']])\n"
     ]
    },
    {
     "name": "stdout",
     "output_type": "stream",
     "text": [
      "[Epoch 100] Train Loss: 0.2855 | Train Recall: 0.8278 | Train Auc: 0.9248\n",
      "[Final Val+Test] Acc: 0.8802 | Prec: 0.7906 | Recall: 0.7502 | AUC: 0.9274\n",
      "\n",
      "=== Time Cut: 710 ===\n"
     ]
    },
    {
     "name": "stderr",
     "output_type": "stream",
     "text": [
      "/workspaces/rumour-detection-gnn/utils.py:1083: SettingWithCopyWarning: \n",
      "A value is trying to be set on a copy of a slice from a DataFrame.\n",
      "Try using .loc[row_indexer,col_indexer] = value instead\n",
      "\n",
      "See the caveats in the documentation: https://pandas.pydata.org/pandas-docs/stable/user_guide/indexing.html#returning-a-view-versus-a-copy\n",
      "  test_val_reply_features[['reply_followers','time_diff']] = scaler_replies.transform(test_val_reply_features[['reply_followers','time_diff']])\n"
     ]
    },
    {
     "name": "stdout",
     "output_type": "stream",
     "text": [
      "[Epoch 100] Train Loss: 0.2783 | Train Recall: 0.8244 | Train Auc: 0.9332\n",
      "[Final Val+Test] Acc: 0.8848 | Prec: 0.8023 | Recall: 0.7529 | AUC: 0.9325\n",
      "\n",
      "=== Time Cut: 725 ===\n"
     ]
    },
    {
     "name": "stderr",
     "output_type": "stream",
     "text": [
      "/workspaces/rumour-detection-gnn/utils.py:1083: SettingWithCopyWarning: \n",
      "A value is trying to be set on a copy of a slice from a DataFrame.\n",
      "Try using .loc[row_indexer,col_indexer] = value instead\n",
      "\n",
      "See the caveats in the documentation: https://pandas.pydata.org/pandas-docs/stable/user_guide/indexing.html#returning-a-view-versus-a-copy\n",
      "  test_val_reply_features[['reply_followers','time_diff']] = scaler_replies.transform(test_val_reply_features[['reply_followers','time_diff']])\n"
     ]
    },
    {
     "name": "stdout",
     "output_type": "stream",
     "text": [
      "[Epoch 100] Train Loss: 0.2757 | Train Recall: 0.8169 | Train Auc: 0.9295\n",
      "[Final Val+Test] Acc: 0.8802 | Prec: 0.7906 | Recall: 0.7502 | AUC: 0.9312\n",
      "\n",
      "=== Time Cut: 740 ===\n"
     ]
    },
    {
     "name": "stderr",
     "output_type": "stream",
     "text": [
      "/workspaces/rumour-detection-gnn/utils.py:1083: SettingWithCopyWarning: \n",
      "A value is trying to be set on a copy of a slice from a DataFrame.\n",
      "Try using .loc[row_indexer,col_indexer] = value instead\n",
      "\n",
      "See the caveats in the documentation: https://pandas.pydata.org/pandas-docs/stable/user_guide/indexing.html#returning-a-view-versus-a-copy\n",
      "  test_val_reply_features[['reply_followers','time_diff']] = scaler_replies.transform(test_val_reply_features[['reply_followers','time_diff']])\n"
     ]
    },
    {
     "name": "stdout",
     "output_type": "stream",
     "text": [
      "[Epoch 100] Train Loss: 0.2884 | Train Recall: 0.8317 | Train Auc: 0.9234\n",
      "[Final Val+Test] Acc: 0.8802 | Prec: 0.7853 | Recall: 0.7724 | AUC: 0.9328\n",
      "\n",
      "=== Time Cut: 755 ===\n"
     ]
    },
    {
     "name": "stderr",
     "output_type": "stream",
     "text": [
      "/workspaces/rumour-detection-gnn/utils.py:1083: SettingWithCopyWarning: \n",
      "A value is trying to be set on a copy of a slice from a DataFrame.\n",
      "Try using .loc[row_indexer,col_indexer] = value instead\n",
      "\n",
      "See the caveats in the documentation: https://pandas.pydata.org/pandas-docs/stable/user_guide/indexing.html#returning-a-view-versus-a-copy\n",
      "  test_val_reply_features[['reply_followers','time_diff']] = scaler_replies.transform(test_val_reply_features[['reply_followers','time_diff']])\n"
     ]
    },
    {
     "name": "stdout",
     "output_type": "stream",
     "text": [
      "[Epoch 100] Train Loss: 0.2753 | Train Recall: 0.8311 | Train Auc: 0.9265\n",
      "[Final Val+Test] Acc: 0.8894 | Prec: 0.8059 | Recall: 0.7779 | AUC: 0.9260\n",
      "\n",
      "=== Time Cut: 770 ===\n"
     ]
    },
    {
     "name": "stderr",
     "output_type": "stream",
     "text": [
      "/workspaces/rumour-detection-gnn/utils.py:1083: SettingWithCopyWarning: \n",
      "A value is trying to be set on a copy of a slice from a DataFrame.\n",
      "Try using .loc[row_indexer,col_indexer] = value instead\n",
      "\n",
      "See the caveats in the documentation: https://pandas.pydata.org/pandas-docs/stable/user_guide/indexing.html#returning-a-view-versus-a-copy\n",
      "  test_val_reply_features[['reply_followers','time_diff']] = scaler_replies.transform(test_val_reply_features[['reply_followers','time_diff']])\n"
     ]
    },
    {
     "name": "stdout",
     "output_type": "stream",
     "text": [
      "[Epoch 100] Train Loss: 0.2700 | Train Recall: 0.8212 | Train Auc: 0.9337\n",
      "[Final Val+Test] Acc: 0.8848 | Prec: 0.7984 | Recall: 0.7640 | AUC: 0.9317\n",
      "\n",
      "=== Time Cut: 785 ===\n"
     ]
    },
    {
     "name": "stderr",
     "output_type": "stream",
     "text": [
      "/workspaces/rumour-detection-gnn/utils.py:1083: SettingWithCopyWarning: \n",
      "A value is trying to be set on a copy of a slice from a DataFrame.\n",
      "Try using .loc[row_indexer,col_indexer] = value instead\n",
      "\n",
      "See the caveats in the documentation: https://pandas.pydata.org/pandas-docs/stable/user_guide/indexing.html#returning-a-view-versus-a-copy\n",
      "  test_val_reply_features[['reply_followers','time_diff']] = scaler_replies.transform(test_val_reply_features[['reply_followers','time_diff']])\n"
     ]
    },
    {
     "name": "stdout",
     "output_type": "stream",
     "text": [
      "[Epoch 100] Train Loss: 0.2769 | Train Recall: 0.8208 | Train Auc: 0.9295\n",
      "[Final Val+Test] Acc: 0.8694 | Prec: 0.7725 | Recall: 0.7162 | AUC: 0.9201\n",
      "\n",
      "=== Time Cut: 800 ===\n"
     ]
    },
    {
     "name": "stderr",
     "output_type": "stream",
     "text": [
      "/workspaces/rumour-detection-gnn/utils.py:1083: SettingWithCopyWarning: \n",
      "A value is trying to be set on a copy of a slice from a DataFrame.\n",
      "Try using .loc[row_indexer,col_indexer] = value instead\n",
      "\n",
      "See the caveats in the documentation: https://pandas.pydata.org/pandas-docs/stable/user_guide/indexing.html#returning-a-view-versus-a-copy\n",
      "  test_val_reply_features[['reply_followers','time_diff']] = scaler_replies.transform(test_val_reply_features[['reply_followers','time_diff']])\n"
     ]
    },
    {
     "name": "stdout",
     "output_type": "stream",
     "text": [
      "[Epoch 100] Train Loss: 0.2814 | Train Recall: 0.8221 | Train Auc: 0.9292\n",
      "[Final Val+Test] Acc: 0.8957 | Prec: 0.8267 | Recall: 0.7686 | AUC: 0.9312\n",
      "\n",
      "=== Time Cut: 815 ===\n"
     ]
    },
    {
     "name": "stderr",
     "output_type": "stream",
     "text": [
      "/workspaces/rumour-detection-gnn/utils.py:1083: SettingWithCopyWarning: \n",
      "A value is trying to be set on a copy of a slice from a DataFrame.\n",
      "Try using .loc[row_indexer,col_indexer] = value instead\n",
      "\n",
      "See the caveats in the documentation: https://pandas.pydata.org/pandas-docs/stable/user_guide/indexing.html#returning-a-view-versus-a-copy\n",
      "  test_val_reply_features[['reply_followers','time_diff']] = scaler_replies.transform(test_val_reply_features[['reply_followers','time_diff']])\n"
     ]
    },
    {
     "name": "stdout",
     "output_type": "stream",
     "text": [
      "[Epoch 100] Train Loss: 0.2852 | Train Recall: 0.8110 | Train Auc: 0.9306\n",
      "[Final Val+Test] Acc: 0.8766 | Prec: 0.8014 | Recall: 0.7170 | AUC: 0.9253\n",
      "\n",
      "=== Time Cut: 830 ===\n"
     ]
    },
    {
     "name": "stderr",
     "output_type": "stream",
     "text": [
      "/workspaces/rumour-detection-gnn/utils.py:1083: SettingWithCopyWarning: \n",
      "A value is trying to be set on a copy of a slice from a DataFrame.\n",
      "Try using .loc[row_indexer,col_indexer] = value instead\n",
      "\n",
      "See the caveats in the documentation: https://pandas.pydata.org/pandas-docs/stable/user_guide/indexing.html#returning-a-view-versus-a-copy\n",
      "  test_val_reply_features[['reply_followers','time_diff']] = scaler_replies.transform(test_val_reply_features[['reply_followers','time_diff']])\n"
     ]
    },
    {
     "name": "stdout",
     "output_type": "stream",
     "text": [
      "[Epoch 100] Train Loss: 0.2758 | Train Recall: 0.8240 | Train Auc: 0.9340\n",
      "[Final Val+Test] Acc: 0.8851 | Prec: 0.8064 | Recall: 0.7619 | AUC: 0.9259\n",
      "\n",
      "=== Time Cut: 845 ===\n"
     ]
    },
    {
     "name": "stderr",
     "output_type": "stream",
     "text": [
      "/workspaces/rumour-detection-gnn/utils.py:1083: SettingWithCopyWarning: \n",
      "A value is trying to be set on a copy of a slice from a DataFrame.\n",
      "Try using .loc[row_indexer,col_indexer] = value instead\n",
      "\n",
      "See the caveats in the documentation: https://pandas.pydata.org/pandas-docs/stable/user_guide/indexing.html#returning-a-view-versus-a-copy\n",
      "  test_val_reply_features[['reply_followers','time_diff']] = scaler_replies.transform(test_val_reply_features[['reply_followers','time_diff']])\n"
     ]
    },
    {
     "name": "stdout",
     "output_type": "stream",
     "text": [
      "[Epoch 100] Train Loss: 0.2972 | Train Recall: 0.8183 | Train Auc: 0.9204\n",
      "[Final Val+Test] Acc: 0.8571 | Prec: 0.7626 | Recall: 0.7225 | AUC: 0.9104\n",
      "\n",
      "=== Time Cut: 860 ===\n"
     ]
    },
    {
     "name": "stderr",
     "output_type": "stream",
     "text": [
      "/workspaces/rumour-detection-gnn/utils.py:1083: SettingWithCopyWarning: \n",
      "A value is trying to be set on a copy of a slice from a DataFrame.\n",
      "Try using .loc[row_indexer,col_indexer] = value instead\n",
      "\n",
      "See the caveats in the documentation: https://pandas.pydata.org/pandas-docs/stable/user_guide/indexing.html#returning-a-view-versus-a-copy\n",
      "  test_val_reply_features[['reply_followers','time_diff']] = scaler_replies.transform(test_val_reply_features[['reply_followers','time_diff']])\n"
     ]
    },
    {
     "name": "stdout",
     "output_type": "stream",
     "text": [
      "[Epoch 100] Train Loss: 0.2678 | Train Recall: 0.8201 | Train Auc: 0.9327\n",
      "[Final Val+Test] Acc: 0.8824 | Prec: 0.8060 | Recall: 0.7832 | AUC: 0.9154\n",
      "\n",
      "=== Time Cut: 875 ===\n"
     ]
    },
    {
     "name": "stderr",
     "output_type": "stream",
     "text": [
      "/workspaces/rumour-detection-gnn/utils.py:1083: SettingWithCopyWarning: \n",
      "A value is trying to be set on a copy of a slice from a DataFrame.\n",
      "Try using .loc[row_indexer,col_indexer] = value instead\n",
      "\n",
      "See the caveats in the documentation: https://pandas.pydata.org/pandas-docs/stable/user_guide/indexing.html#returning-a-view-versus-a-copy\n",
      "  test_val_reply_features[['reply_followers','time_diff']] = scaler_replies.transform(test_val_reply_features[['reply_followers','time_diff']])\n"
     ]
    },
    {
     "name": "stdout",
     "output_type": "stream",
     "text": [
      "[Epoch 100] Train Loss: 0.2812 | Train Recall: 0.8315 | Train Auc: 0.9251\n",
      "[Final Val+Test] Acc: 0.8828 | Prec: 0.8130 | Recall: 0.7652 | AUC: 0.9135\n",
      "\n",
      "=== Time Cut: 890 ===\n"
     ]
    },
    {
     "name": "stderr",
     "output_type": "stream",
     "text": [
      "/workspaces/rumour-detection-gnn/utils.py:1083: SettingWithCopyWarning: \n",
      "A value is trying to be set on a copy of a slice from a DataFrame.\n",
      "Try using .loc[row_indexer,col_indexer] = value instead\n",
      "\n",
      "See the caveats in the documentation: https://pandas.pydata.org/pandas-docs/stable/user_guide/indexing.html#returning-a-view-versus-a-copy\n",
      "  test_val_reply_features[['reply_followers','time_diff']] = scaler_replies.transform(test_val_reply_features[['reply_followers','time_diff']])\n"
     ]
    },
    {
     "name": "stdout",
     "output_type": "stream",
     "text": [
      "[Epoch 100] Train Loss: 0.2816 | Train Recall: 0.8023 | Train Auc: 0.9261\n",
      "[Final Val+Test] Acc: 0.8745 | Prec: 0.8097 | Recall: 0.7238 | AUC: 0.9075\n",
      "\n",
      "=== Time Cut: 905 ===\n"
     ]
    },
    {
     "name": "stderr",
     "output_type": "stream",
     "text": [
      "/workspaces/rumour-detection-gnn/utils.py:1083: SettingWithCopyWarning: \n",
      "A value is trying to be set on a copy of a slice from a DataFrame.\n",
      "Try using .loc[row_indexer,col_indexer] = value instead\n",
      "\n",
      "See the caveats in the documentation: https://pandas.pydata.org/pandas-docs/stable/user_guide/indexing.html#returning-a-view-versus-a-copy\n",
      "  test_val_reply_features[['reply_followers','time_diff']] = scaler_replies.transform(test_val_reply_features[['reply_followers','time_diff']])\n"
     ]
    },
    {
     "name": "stdout",
     "output_type": "stream",
     "text": [
      "[Epoch 100] Train Loss: 0.3007 | Train Recall: 0.8105 | Train Auc: 0.9175\n",
      "[Final Val+Test] Acc: 0.8619 | Prec: 0.7750 | Recall: 0.7161 | AUC: 0.9104\n",
      "\n",
      "=== Time Cut: 920 ===\n"
     ]
    },
    {
     "name": "stderr",
     "output_type": "stream",
     "text": [
      "/workspaces/rumour-detection-gnn/utils.py:1083: SettingWithCopyWarning: \n",
      "A value is trying to be set on a copy of a slice from a DataFrame.\n",
      "Try using .loc[row_indexer,col_indexer] = value instead\n",
      "\n",
      "See the caveats in the documentation: https://pandas.pydata.org/pandas-docs/stable/user_guide/indexing.html#returning-a-view-versus-a-copy\n",
      "  test_val_reply_features[['reply_followers','time_diff']] = scaler_replies.transform(test_val_reply_features[['reply_followers','time_diff']])\n"
     ]
    },
    {
     "name": "stdout",
     "output_type": "stream",
     "text": [
      "[Epoch 100] Train Loss: 0.2747 | Train Recall: 0.8192 | Train Auc: 0.9296\n",
      "[Final Val+Test] Acc: 0.8745 | Prec: 0.7963 | Recall: 0.7510 | AUC: 0.9147\n",
      "\n",
      "=== Time Cut: 935 ===\n"
     ]
    },
    {
     "name": "stderr",
     "output_type": "stream",
     "text": [
      "/workspaces/rumour-detection-gnn/utils.py:1083: SettingWithCopyWarning: \n",
      "A value is trying to be set on a copy of a slice from a DataFrame.\n",
      "Try using .loc[row_indexer,col_indexer] = value instead\n",
      "\n",
      "See the caveats in the documentation: https://pandas.pydata.org/pandas-docs/stable/user_guide/indexing.html#returning-a-view-versus-a-copy\n",
      "  test_val_reply_features[['reply_followers','time_diff']] = scaler_replies.transform(test_val_reply_features[['reply_followers','time_diff']])\n"
     ]
    },
    {
     "name": "stdout",
     "output_type": "stream",
     "text": [
      "[Epoch 100] Train Loss: 0.2723 | Train Recall: 0.8154 | Train Auc: 0.9329\n",
      "[Final Val+Test] Acc: 0.8708 | Prec: 0.8022 | Recall: 0.7270 | AUC: 0.8931\n",
      "\n",
      "=== Time Cut: 950 ===\n"
     ]
    },
    {
     "name": "stderr",
     "output_type": "stream",
     "text": [
      "/workspaces/rumour-detection-gnn/utils.py:1083: SettingWithCopyWarning: \n",
      "A value is trying to be set on a copy of a slice from a DataFrame.\n",
      "Try using .loc[row_indexer,col_indexer] = value instead\n",
      "\n",
      "See the caveats in the documentation: https://pandas.pydata.org/pandas-docs/stable/user_guide/indexing.html#returning-a-view-versus-a-copy\n",
      "  test_val_reply_features[['reply_followers','time_diff']] = scaler_replies.transform(test_val_reply_features[['reply_followers','time_diff']])\n"
     ]
    },
    {
     "name": "stdout",
     "output_type": "stream",
     "text": [
      "[Epoch 100] Train Loss: 0.2775 | Train Recall: 0.8324 | Train Auc: 0.9314\n",
      "[Final Val+Test] Acc: 0.8625 | Prec: 0.7751 | Recall: 0.7396 | AUC: 0.9164\n",
      "\n",
      "=== Time Cut: 965 ===\n"
     ]
    },
    {
     "name": "stderr",
     "output_type": "stream",
     "text": [
      "/workspaces/rumour-detection-gnn/utils.py:1083: SettingWithCopyWarning: \n",
      "A value is trying to be set on a copy of a slice from a DataFrame.\n",
      "Try using .loc[row_indexer,col_indexer] = value instead\n",
      "\n",
      "See the caveats in the documentation: https://pandas.pydata.org/pandas-docs/stable/user_guide/indexing.html#returning-a-view-versus-a-copy\n",
      "  test_val_reply_features[['reply_followers','time_diff']] = scaler_replies.transform(test_val_reply_features[['reply_followers','time_diff']])\n"
     ]
    },
    {
     "name": "stdout",
     "output_type": "stream",
     "text": [
      "[Epoch 100] Train Loss: 0.2741 | Train Recall: 0.8203 | Train Auc: 0.9317\n",
      "[Final Val+Test] Acc: 0.8708 | Prec: 0.7941 | Recall: 0.7447 | AUC: 0.9191\n",
      "\n",
      "=== Time Cut: 980 ===\n"
     ]
    },
    {
     "name": "stderr",
     "output_type": "stream",
     "text": [
      "/workspaces/rumour-detection-gnn/utils.py:1083: SettingWithCopyWarning: \n",
      "A value is trying to be set on a copy of a slice from a DataFrame.\n",
      "Try using .loc[row_indexer,col_indexer] = value instead\n",
      "\n",
      "See the caveats in the documentation: https://pandas.pydata.org/pandas-docs/stable/user_guide/indexing.html#returning-a-view-versus-a-copy\n",
      "  test_val_reply_features[['reply_followers','time_diff']] = scaler_replies.transform(test_val_reply_features[['reply_followers','time_diff']])\n"
     ]
    },
    {
     "name": "stdout",
     "output_type": "stream",
     "text": [
      "[Epoch 100] Train Loss: 0.2700 | Train Recall: 0.8308 | Train Auc: 0.9215\n",
      "[Final Val+Test] Acc: 0.8750 | Prec: 0.8044 | Recall: 0.7472 | AUC: 0.9238\n",
      "\n",
      "=== Time Cut: 995 ===\n"
     ]
    },
    {
     "name": "stderr",
     "output_type": "stream",
     "text": [
      "/workspaces/rumour-detection-gnn/utils.py:1083: SettingWithCopyWarning: \n",
      "A value is trying to be set on a copy of a slice from a DataFrame.\n",
      "Try using .loc[row_indexer,col_indexer] = value instead\n",
      "\n",
      "See the caveats in the documentation: https://pandas.pydata.org/pandas-docs/stable/user_guide/indexing.html#returning-a-view-versus-a-copy\n",
      "  test_val_reply_features[['reply_followers','time_diff']] = scaler_replies.transform(test_val_reply_features[['reply_followers','time_diff']])\n"
     ]
    },
    {
     "name": "stdout",
     "output_type": "stream",
     "text": [
      "[Epoch 100] Train Loss: 0.2959 | Train Recall: 0.8110 | Train Auc: 0.9181\n",
      "[Final Val+Test] Acc: 0.8625 | Prec: 0.7802 | Recall: 0.7219 | AUC: 0.9143\n",
      "\n",
      "=== Time Cut: 1010 ===\n"
     ]
    },
    {
     "name": "stderr",
     "output_type": "stream",
     "text": [
      "/workspaces/rumour-detection-gnn/utils.py:1083: SettingWithCopyWarning: \n",
      "A value is trying to be set on a copy of a slice from a DataFrame.\n",
      "Try using .loc[row_indexer,col_indexer] = value instead\n",
      "\n",
      "See the caveats in the documentation: https://pandas.pydata.org/pandas-docs/stable/user_guide/indexing.html#returning-a-view-versus-a-copy\n",
      "  test_val_reply_features[['reply_followers','time_diff']] = scaler_replies.transform(test_val_reply_features[['reply_followers','time_diff']])\n"
     ]
    },
    {
     "name": "stdout",
     "output_type": "stream",
     "text": [
      "[Epoch 100] Train Loss: 0.2673 | Train Recall: 0.8495 | Train Auc: 0.9351\n",
      "[Final Val+Test] Acc: 0.8917 | Prec: 0.8288 | Recall: 0.7927 | AUC: 0.9288\n",
      "\n",
      "=== Time Cut: 1025 ===\n"
     ]
    },
    {
     "name": "stderr",
     "output_type": "stream",
     "text": [
      "/workspaces/rumour-detection-gnn/utils.py:1083: SettingWithCopyWarning: \n",
      "A value is trying to be set on a copy of a slice from a DataFrame.\n",
      "Try using .loc[row_indexer,col_indexer] = value instead\n",
      "\n",
      "See the caveats in the documentation: https://pandas.pydata.org/pandas-docs/stable/user_guide/indexing.html#returning-a-view-versus-a-copy\n",
      "  test_val_reply_features[['reply_followers','time_diff']] = scaler_replies.transform(test_val_reply_features[['reply_followers','time_diff']])\n"
     ]
    },
    {
     "name": "stdout",
     "output_type": "stream",
     "text": [
      "[Epoch 100] Train Loss: 0.2855 | Train Recall: 0.8312 | Train Auc: 0.9242\n",
      "[Final Val+Test] Acc: 0.8583 | Prec: 0.7663 | Recall: 0.7370 | AUC: 0.9199\n",
      "\n",
      "=== Time Cut: 1040 ===\n"
     ]
    },
    {
     "name": "stderr",
     "output_type": "stream",
     "text": [
      "/workspaces/rumour-detection-gnn/utils.py:1083: SettingWithCopyWarning: \n",
      "A value is trying to be set on a copy of a slice from a DataFrame.\n",
      "Try using .loc[row_indexer,col_indexer] = value instead\n",
      "\n",
      "See the caveats in the documentation: https://pandas.pydata.org/pandas-docs/stable/user_guide/indexing.html#returning-a-view-versus-a-copy\n",
      "  test_val_reply_features[['reply_followers','time_diff']] = scaler_replies.transform(test_val_reply_features[['reply_followers','time_diff']])\n"
     ]
    },
    {
     "name": "stdout",
     "output_type": "stream",
     "text": [
      "[Epoch 100] Train Loss: 0.2920 | Train Recall: 0.8262 | Train Auc: 0.9224\n",
      "[Final Val+Test] Acc: 0.8542 | Prec: 0.7626 | Recall: 0.7080 | AUC: 0.9158\n",
      "\n",
      "=== Time Cut: 1055 ===\n"
     ]
    },
    {
     "name": "stderr",
     "output_type": "stream",
     "text": [
      "/workspaces/rumour-detection-gnn/utils.py:1083: SettingWithCopyWarning: \n",
      "A value is trying to be set on a copy of a slice from a DataFrame.\n",
      "Try using .loc[row_indexer,col_indexer] = value instead\n",
      "\n",
      "See the caveats in the documentation: https://pandas.pydata.org/pandas-docs/stable/user_guide/indexing.html#returning-a-view-versus-a-copy\n",
      "  test_val_reply_features[['reply_followers','time_diff']] = scaler_replies.transform(test_val_reply_features[['reply_followers','time_diff']])\n"
     ]
    },
    {
     "name": "stdout",
     "output_type": "stream",
     "text": [
      "[Epoch 100] Train Loss: 0.3112 | Train Recall: 0.8043 | Train Auc: 0.9122\n",
      "[Final Val+Test] Acc: 0.8542 | Prec: 0.7683 | Recall: 0.6904 | AUC: 0.9076\n",
      "\n",
      "=== Time Cut: 1070 ===\n"
     ]
    },
    {
     "name": "stderr",
     "output_type": "stream",
     "text": [
      "/workspaces/rumour-detection-gnn/utils.py:1083: SettingWithCopyWarning: \n",
      "A value is trying to be set on a copy of a slice from a DataFrame.\n",
      "Try using .loc[row_indexer,col_indexer] = value instead\n",
      "\n",
      "See the caveats in the documentation: https://pandas.pydata.org/pandas-docs/stable/user_guide/indexing.html#returning-a-view-versus-a-copy\n",
      "  test_val_reply_features[['reply_followers','time_diff']] = scaler_replies.transform(test_val_reply_features[['reply_followers','time_diff']])\n"
     ]
    },
    {
     "name": "stdout",
     "output_type": "stream",
     "text": [
      "[Epoch 100] Train Loss: 0.2968 | Train Recall: 0.8169 | Train Auc: 0.9180\n",
      "[Final Val+Test] Acc: 0.8667 | Prec: 0.7873 | Recall: 0.7333 | AUC: 0.9217\n",
      "\n",
      "=== Time Cut: 1085 ===\n"
     ]
    },
    {
     "name": "stderr",
     "output_type": "stream",
     "text": [
      "/workspaces/rumour-detection-gnn/utils.py:1083: SettingWithCopyWarning: \n",
      "A value is trying to be set on a copy of a slice from a DataFrame.\n",
      "Try using .loc[row_indexer,col_indexer] = value instead\n",
      "\n",
      "See the caveats in the documentation: https://pandas.pydata.org/pandas-docs/stable/user_guide/indexing.html#returning-a-view-versus-a-copy\n",
      "  test_val_reply_features[['reply_followers','time_diff']] = scaler_replies.transform(test_val_reply_features[['reply_followers','time_diff']])\n"
     ]
    },
    {
     "name": "stdout",
     "output_type": "stream",
     "text": [
      "[Epoch 100] Train Loss: 0.2747 | Train Recall: 0.8301 | Train Auc: 0.9298\n",
      "[Final Val+Test] Acc: 0.8708 | Prec: 0.7978 | Recall: 0.7359 | AUC: 0.9091\n",
      "\n",
      "=== Time Cut: 1100 ===\n"
     ]
    },
    {
     "name": "stderr",
     "output_type": "stream",
     "text": [
      "/workspaces/rumour-detection-gnn/utils.py:1083: SettingWithCopyWarning: \n",
      "A value is trying to be set on a copy of a slice from a DataFrame.\n",
      "Try using .loc[row_indexer,col_indexer] = value instead\n",
      "\n",
      "See the caveats in the documentation: https://pandas.pydata.org/pandas-docs/stable/user_guide/indexing.html#returning-a-view-versus-a-copy\n",
      "  test_val_reply_features[['reply_followers','time_diff']] = scaler_replies.transform(test_val_reply_features[['reply_followers','time_diff']])\n"
     ]
    },
    {
     "name": "stdout",
     "output_type": "stream",
     "text": [
      "[Epoch 100] Train Loss: 0.2559 | Train Recall: 0.8176 | Train Auc: 0.9411\n",
      "[Final Val+Test] Acc: 0.8750 | Prec: 0.8044 | Recall: 0.7472 | AUC: 0.9198\n",
      "\n",
      "=== Time Cut: 1115 ===\n"
     ]
    },
    {
     "name": "stderr",
     "output_type": "stream",
     "text": [
      "/workspaces/rumour-detection-gnn/utils.py:1083: SettingWithCopyWarning: \n",
      "A value is trying to be set on a copy of a slice from a DataFrame.\n",
      "Try using .loc[row_indexer,col_indexer] = value instead\n",
      "\n",
      "See the caveats in the documentation: https://pandas.pydata.org/pandas-docs/stable/user_guide/indexing.html#returning-a-view-versus-a-copy\n",
      "  test_val_reply_features[['reply_followers','time_diff']] = scaler_replies.transform(test_val_reply_features[['reply_followers','time_diff']])\n"
     ]
    },
    {
     "name": "stdout",
     "output_type": "stream",
     "text": [
      "[Epoch 100] Train Loss: 0.2849 | Train Recall: 0.8210 | Train Auc: 0.9260\n",
      "[Final Val+Test] Acc: 0.8625 | Prec: 0.7837 | Recall: 0.7131 | AUC: 0.9193\n",
      "\n",
      "=== Time Cut: 1130 ===\n"
     ]
    },
    {
     "name": "stderr",
     "output_type": "stream",
     "text": [
      "/workspaces/rumour-detection-gnn/utils.py:1083: SettingWithCopyWarning: \n",
      "A value is trying to be set on a copy of a slice from a DataFrame.\n",
      "Try using .loc[row_indexer,col_indexer] = value instead\n",
      "\n",
      "See the caveats in the documentation: https://pandas.pydata.org/pandas-docs/stable/user_guide/indexing.html#returning-a-view-versus-a-copy\n",
      "  test_val_reply_features[['reply_followers','time_diff']] = scaler_replies.transform(test_val_reply_features[['reply_followers','time_diff']])\n"
     ]
    },
    {
     "name": "stdout",
     "output_type": "stream",
     "text": [
      "[Epoch 100] Train Loss: 0.2856 | Train Recall: 0.8189 | Train Auc: 0.9286\n",
      "[Final Val+Test] Acc: 0.8708 | Prec: 0.8022 | Recall: 0.7270 | AUC: 0.9142\n",
      "\n",
      "=== Time Cut: 1145 ===\n"
     ]
    },
    {
     "name": "stderr",
     "output_type": "stream",
     "text": [
      "/workspaces/rumour-detection-gnn/utils.py:1083: SettingWithCopyWarning: \n",
      "A value is trying to be set on a copy of a slice from a DataFrame.\n",
      "Try using .loc[row_indexer,col_indexer] = value instead\n",
      "\n",
      "See the caveats in the documentation: https://pandas.pydata.org/pandas-docs/stable/user_guide/indexing.html#returning-a-view-versus-a-copy\n",
      "  test_val_reply_features[['reply_followers','time_diff']] = scaler_replies.transform(test_val_reply_features[['reply_followers','time_diff']])\n"
     ]
    },
    {
     "name": "stdout",
     "output_type": "stream",
     "text": [
      "[Epoch 100] Train Loss: 0.2762 | Train Recall: 0.8235 | Train Auc: 0.9317\n",
      "[Final Val+Test] Acc: 0.8792 | Prec: 0.8207 | Recall: 0.7410 | AUC: 0.9181\n",
      "\n",
      "=== Time Cut: 1160 ===\n"
     ]
    },
    {
     "name": "stderr",
     "output_type": "stream",
     "text": [
      "/workspaces/rumour-detection-gnn/utils.py:1083: SettingWithCopyWarning: \n",
      "A value is trying to be set on a copy of a slice from a DataFrame.\n",
      "Try using .loc[row_indexer,col_indexer] = value instead\n",
      "\n",
      "See the caveats in the documentation: https://pandas.pydata.org/pandas-docs/stable/user_guide/indexing.html#returning-a-view-versus-a-copy\n",
      "  test_val_reply_features[['reply_followers','time_diff']] = scaler_replies.transform(test_val_reply_features[['reply_followers','time_diff']])\n"
     ]
    },
    {
     "name": "stdout",
     "output_type": "stream",
     "text": [
      "[Epoch 100] Train Loss: 0.3073 | Train Recall: 0.8050 | Train Auc: 0.9108\n",
      "[Final Val+Test] Acc: 0.8625 | Prec: 0.7837 | Recall: 0.7131 | AUC: 0.9100\n",
      "\n",
      "=== Time Cut: 1175 ===\n"
     ]
    },
    {
     "name": "stderr",
     "output_type": "stream",
     "text": [
      "/workspaces/rumour-detection-gnn/utils.py:1083: SettingWithCopyWarning: \n",
      "A value is trying to be set on a copy of a slice from a DataFrame.\n",
      "Try using .loc[row_indexer,col_indexer] = value instead\n",
      "\n",
      "See the caveats in the documentation: https://pandas.pydata.org/pandas-docs/stable/user_guide/indexing.html#returning-a-view-versus-a-copy\n",
      "  test_val_reply_features[['reply_followers','time_diff']] = scaler_replies.transform(test_val_reply_features[['reply_followers','time_diff']])\n"
     ]
    },
    {
     "name": "stdout",
     "output_type": "stream",
     "text": [
      "[Epoch 100] Train Loss: 0.2839 | Train Recall: 0.8297 | Train Auc: 0.9259\n",
      "[Final Val+Test] Acc: 0.8542 | Prec: 0.7652 | Recall: 0.6992 | AUC: 0.9104\n",
      "\n",
      "=== Time Cut: 1190 ===\n"
     ]
    },
    {
     "name": "stderr",
     "output_type": "stream",
     "text": [
      "/workspaces/rumour-detection-gnn/utils.py:1083: SettingWithCopyWarning: \n",
      "A value is trying to be set on a copy of a slice from a DataFrame.\n",
      "Try using .loc[row_indexer,col_indexer] = value instead\n",
      "\n",
      "See the caveats in the documentation: https://pandas.pydata.org/pandas-docs/stable/user_guide/indexing.html#returning-a-view-versus-a-copy\n",
      "  test_val_reply_features[['reply_followers','time_diff']] = scaler_replies.transform(test_val_reply_features[['reply_followers','time_diff']])\n"
     ]
    }
   ],
   "source": [
    "def evaluate_metrics(model, data, mask):\n",
    "    model.eval()\n",
    "    with torch.no_grad():\n",
    "        out = model(data.x_dict, data.edge_index_dict)\n",
    "        preds = out.argmax(dim=1)\n",
    "        probs = out[:, 1]  # Probability of class 1\n",
    "\n",
    "    true = data['id'].y[mask]\n",
    "    pred = preds[mask]\n",
    "    prob = probs[mask]\n",
    "\n",
    "    acc = accuracy_score(true.cpu(), pred.cpu())\n",
    "    prec = precision_score(true.cpu(), pred.cpu(), average='macro', zero_division=0)\n",
    "    recall = recall_score(true.cpu(), pred.cpu(), average='macro', zero_division=0)\n",
    "    try:\n",
    "        auc = roc_auc_score(true.cpu(), prob.cpu())\n",
    "    except:\n",
    "        auc = 0.0\n",
    "\n",
    "    return acc, prec, recall, auc\n",
    "\n",
    "for time_cut in range(20, (60 * 24 * 3), 15):\n",
    "    print(f\"\\n=== Time Cut: {time_cut} ===\")\n",
    "    processor = Hetero_Data_Processor_Filter_on_Test_since_first_post(file_path_replies, file_path_posts, time_cut=time_cut)\n",
    "    data = processor.process()\n",
    "\n",
    "\n",
    "    model = HAN(dim_in=-1, dim_out=2)\n",
    "    \n",
    "    optimizer = torch.optim.Adam(model.parameters(), lr=0.001)\n",
    "    device = torch.device('cuda' if torch.cuda.is_available() else 'cpu')\n",
    "    data, model = data.to(device), model.to(device)\n",
    "\n",
    "    # Compute imbalance\n",
    "    y_train = data['id'].y[data['id'].train_mask].cpu()\n",
    "    imbalance = (y_train == 1).sum() / len(y_train)\n",
    "\n",
    "    with mlflow.start_run(run_name=f\"time_cut_{time_cut}\"):\n",
    "        for epoch in range(1, 101):\n",
    "            model.train()\n",
    "            optimizer.zero_grad()\n",
    "            out = model(data.x_dict, data.edge_index_dict)\n",
    "            mask = data['id'].train_mask\n",
    "            loss = F.cross_entropy(out[mask], data['id'].y[mask])\n",
    "            loss.backward()\n",
    "            optimizer.step()\n",
    "\n",
    "            if epoch % 100 == 0:\n",
    "                 train_acc, train_prec, train_recall, train_auc= evaluate_metrics(model, data, data['id'].train_mask)\n",
    "                 print(f\"[Epoch {epoch}] Train Loss: {loss:.4f} | Train Recall: {train_recall:.4f} | Train Auc: {train_auc:.4f}\")\n",
    "        mlflow.log_metric(\"train_recall\", train_recall, step=epoch)\n",
    "        mlflow.log_metric(\"train_precision\", train_prec, step=epoch)\n",
    "        mlflow.log_metric(\"train_auc\", train_auc, step=epoch)\n",
    "\n",
    "        # Final evaluation on val + test\n",
    "        final_mask = data['id'].val_mask | data['id'].test_mask\n",
    "        acc, prec, recall, auc = evaluate_metrics(model, data, final_mask)\n",
    "        print(f\"[Final Val+Test] Acc: {acc:.4f} | Prec: {prec:.4f} | Recall: {recall:.4f} | AUC: {auc:.4f}\")\n",
    "\n",
    "        mlflow.log_metric(\"final_acc\", acc)\n",
    "        mlflow.log_metric(\"final_precision\", prec)\n",
    "        mlflow.log_metric(\"final_recall\", recall)\n",
    "        mlflow.log_metric(\"final_auc\", auc)\n",
    "        mlflow.log_metric(\"train_imbalance_rate\", imbalance.item())\n",
    "\n",
    "        mlflow.log_metric(\"time_cut\", time_cut)\n"
   ]
  }
 ],
 "metadata": {
  "kernelspec": {
   "display_name": "Python 3 (ipykernel)",
   "language": "python",
   "name": "python3"
  },
  "language_info": {
   "codemirror_mode": {
    "name": "ipython",
    "version": 3
   },
   "file_extension": ".py",
   "mimetype": "text/x-python",
   "name": "python",
   "nbconvert_exporter": "python",
   "pygments_lexer": "ipython3",
   "version": "3.12.2"
  }
 },
 "nbformat": 4,
 "nbformat_minor": 5
}
