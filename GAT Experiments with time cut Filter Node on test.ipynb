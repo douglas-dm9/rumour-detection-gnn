{
 "cells": [
  {
   "cell_type": "code",
   "execution_count": 4,
   "id": "60ae9bc9-2423-4b62-9c90-70bd71b117b9",
   "metadata": {},
   "outputs": [],
   "source": [
    "import pandas as pd\n",
    "from sklearn.metrics import *\n",
    "from tqdm import tqdm\n",
    "from utils import HeteroDataProcessorFilterNodeonTest\n",
    "import numpy as np\n",
    "import warnings\n",
    "warnings.filterwarnings('ignore')\n"
   ]
  },
  {
   "cell_type": "code",
   "execution_count": 5,
   "id": "5ec11366-8360-4848-abde-b5e223f6b0df",
   "metadata": {},
   "outputs": [],
   "source": [
    "\n",
    "# Usage\n",
    "file_path_replies = r\"/home/azureuser/rumour-detection-pheme/replies_charlie_hebdo.pkl\"\n",
    "file_path_posts = r\"/home/azureuser/rumour-detection-pheme/posts_charlie_hebdo.pkl\"\n",
    "\n",
    "time_cut =120\n",
    "\n",
    "processor = HeteroDataProcessorFilterNodeonTest(file_path_replies, file_path_posts, time_cut)\n",
    "data = processor.process()\n"
   ]
  },
  {
   "cell_type": "code",
   "execution_count": 6,
   "id": "8a3a186b-9e12-4b1f-8022-b0859d5aaef5",
   "metadata": {},
   "outputs": [
    {
     "data": {
      "text/plain": [
       "HeteroData(\n",
       "  id={\n",
       "    x=[1485, 106],\n",
       "    y=[1485],\n",
       "    train_mask=[1485],\n",
       "    val_mask=[1485],\n",
       "    test_mask=[1485],\n",
       "  },\n",
       "  reply_user_id={ x=[13824, 104] },\n",
       "  (id, retweet, reply_user_id)={ edge_index=[2, 13824] },\n",
       "  (reply_user_id, rev_retweet, id)={ edge_index=[2, 13824] }\n",
       ")"
      ]
     },
     "execution_count": 6,
     "metadata": {},
     "output_type": "execute_result"
    }
   ],
   "source": [
    "data"
   ]
  },
  {
   "cell_type": "code",
   "execution_count": 15,
   "id": "7fa97da8-1ca8-40e9-84f0-ce7d57d74249",
   "metadata": {},
   "outputs": [
    {
     "data": {
      "text/plain": [
       "<Experiment: artifact_location='/home/azureuser/rumour-detection-pheme/mlruns/34', creation_time=1727919992274, experiment_id='34', last_update_time=1727919992274, lifecycle_stage='active', name='GAT Network 2024-09-28 2 layers Filter Node on test 17min-3days', tags={}>"
      ]
     },
     "execution_count": 15,
     "metadata": {},
     "output_type": "execute_result"
    }
   ],
   "source": [
    "import mlflow\n",
    "mlflow.set_tracking_uri(\"sqlite:///mlflow.db\")\n",
    "#mlflow.set_experiment(\"spyder-experiment\")\n",
    "import mlflow.pytorch\n",
    "mlflow.set_experiment(\"GAT Network 2024-09-28 2 layers Filter Node on test 17min-3days\")"
   ]
  },
  {
   "cell_type": "code",
   "execution_count": 8,
   "id": "cd69448a-635d-42a8-8a21-e2492eb881c9",
   "metadata": {},
   "outputs": [],
   "source": [
    "import torch\n",
    "import torch.nn as nn\n",
    "import torch.nn.functional as F\n",
    "from torch_geometric.nn import GATConv, to_hetero\n",
    "\n",
    "class GAT(torch.nn.Module):\n",
    "    def __init__(self, dim_h, dim_out):\n",
    "        super().__init__()\n",
    "        self.conv1 = GATConv((-1, -1), dim_h, add_self_loops=False)\n",
    "        self.conv2 = GATConv(dim_h, dim_h, add_self_loops=False)  # Added second GATConv layer\n",
    "        self.linear = nn.Linear(dim_h, dim_out)\n",
    "        self.dropout = nn.Dropout(p=0.4)\n",
    "\n",
    "    def forward(self, x, edge_index):\n",
    "        h = self.conv1(x, edge_index).relu()\n",
    "        h = self.dropout(h)\n",
    "        h = self.conv2(h, edge_index).relu()  # Pass through the second GATConv layer\n",
    "        h = self.dropout(h)\n",
    "        h = self.linear(h)\n",
    "        return h\n",
    "\n",
    "@torch.no_grad()\n",
    "def test(mask):\n",
    "    model.eval()\n",
    "    pred = model(data.x_dict, data.edge_index_dict)['id'].argmax(dim=-1)\n",
    "    acc = (pred[mask] == data['id'].y[mask]).sum() / mask.sum()\n",
    "    return float(acc)"
   ]
  },
  {
   "cell_type": "code",
   "execution_count": 9,
   "id": "161cd7d8-b164-41da-aa06-ffb30e141e83",
   "metadata": {},
   "outputs": [
    {
     "name": "stdout",
     "output_type": "stream",
     "text": [
      "Epoch:   0 | Train Loss: 1.2335 | Train Acc: 29.62% | Val Acc: 76.19%\n",
      "Epoch:  50 | Train Loss: 0.4279 | Train Acc: 80.51% | Val Acc: 35.71%\n",
      "Epoch: 100 | Train Loss: 0.3397 | Train Acc: 85.94% | Val Acc: 64.29%\n",
      "Epoch: 150 | Train Loss: 0.2801 | Train Acc: 87.94% | Val Acc: 66.67%\n",
      "Epoch: 200 | Train Loss: 0.2451 | Train Acc: 89.58% | Val Acc: 76.19%\n",
      "Epoch: 250 | Train Loss: 0.1966 | Train Acc: 92.79% | Val Acc: 78.57%\n",
      "Epoch: 300 | Train Loss: 0.1721 | Train Acc: 93.93% | Val Acc: 78.57%\n",
      "Epoch: 350 | Train Loss: 0.1455 | Train Acc: 95.93% | Val Acc: 83.33%\n",
      "Epoch: 400 | Train Loss: 0.1153 | Train Acc: 97.36% | Val Acc: 83.33%\n",
      "Epoch: 450 | Train Loss: 0.0860 | Train Acc: 98.29% | Val Acc: 80.95%\n",
      "Test accuracy: 95.24%\n"
     ]
    }
   ],
   "source": [
    "\n",
    "model = GAT(dim_h=64, dim_out=2)\n",
    "model = to_hetero(model, data.metadata(), aggr='sum')\n",
    "\n",
    "optimizer = torch.optim.Adam(model.parameters(), lr=0.001)\n",
    "device = torch.device('cuda' if torch.cuda.is_available() else 'cpu')\n",
    "data, model = data.to(device), model.to(device)\n",
    "\n",
    "\n",
    "\n",
    "for epoch in range(500):\n",
    "    model.train()\n",
    "    optimizer.zero_grad()\n",
    "    out = model(data.x_dict, data.edge_index_dict)['id']\n",
    "    mask = data['id'].train_mask\n",
    "    loss = F.cross_entropy(out[mask], data['id'].y[mask])\n",
    "    loss.backward()\n",
    "    optimizer.step()\n",
    "    \n",
    "    if epoch % 50 == 0:\n",
    "        train_acc = test(data['id'].train_mask)\n",
    "        val_acc = test(data['id'].val_mask)\n",
    "        print(f'Epoch: {epoch:>3} | Train Loss: {loss:.4f} | Train Acc: {train_acc*100:.2f}% | Val Acc: {val_acc*100:.2f}%')\n",
    "    \n",
    "test_acc = test(data['id'].test_mask)\n",
    "print(f'Test accuracy: {test_acc*100:.2f}%')\n",
    "    \n"
   ]
  },
  {
   "cell_type": "code",
   "execution_count": 10,
   "id": "6f6a4136-b36d-4789-8b63-f16ee35a384b",
   "metadata": {},
   "outputs": [
    {
     "data": {
      "text/plain": [
       "0.873342175066313"
      ]
     },
     "execution_count": 10,
     "metadata": {},
     "output_type": "execute_result"
    }
   ],
   "source": [
    "test_mask = data['id'].test_mask | data['id'].val_mask\n",
    "pred = model(data.x_dict, data.edge_index_dict)['id'].argmax(dim=-1)\n",
    "true_labels = data['id'].y[test_mask]\n",
    "pred_labels = pred[test_mask]\n",
    "precision_score(true_labels, pred_labels, average='macro')"
   ]
  },
  {
   "cell_type": "code",
   "execution_count": 11,
   "id": "614509bd-4a93-4e9a-a570-62f25e1c7ae2",
   "metadata": {},
   "outputs": [
    {
     "data": {
      "text/plain": [
       "0.842665855143031"
      ]
     },
     "execution_count": 11,
     "metadata": {},
     "output_type": "execute_result"
    }
   ],
   "source": [
    "recall_score(true_labels, pred_labels, average='macro')"
   ]
  },
  {
   "cell_type": "code",
   "execution_count": null,
   "id": "0f86d6e7-19ff-48ad-abd4-ff8400711a19",
   "metadata": {},
   "outputs": [],
   "source": []
  },
  {
   "cell_type": "code",
   "execution_count": null,
   "id": "2b62c1fc-5e96-4e66-abd2-41589d298042",
   "metadata": {},
   "outputs": [
    {
     "name": "stdout",
     "output_type": "stream",
     "text": [
      "17\n",
      "0\n",
      "Epoch:   0 | Train Loss: 0.7403 | Train Acc: 75.95% | Val Acc: 0.00%\n",
      "100\n",
      "Epoch: 100 | Train Loss: 0.3199 | Train Acc: 85.87% | Val Acc: 40.00%\n",
      "200\n",
      "Epoch: 200 | Train Loss: 0.2267 | Train Acc: 90.29% | Val Acc: 20.00%\n",
      "300\n",
      "Epoch: 300 | Train Loss: 0.1481 | Train Acc: 94.22% | Val Acc: 20.00%\n",
      "Test accuracy: 100.00%\n",
      "Test Recall: 60.00%\n",
      "Test Precision: 75.00%\n"
     ]
    },
    {
     "name": "stderr",
     "output_type": "stream",
     "text": [
      "2024/10/03 01:49:46 WARNING mlflow.models.model: Input example should be provided to infer model signature if the model signature is not provided when logging the model.\n"
     ]
    },
    {
     "name": "stdout",
     "output_type": "stream",
     "text": [
      "27\n",
      "0\n",
      "Epoch:   0 | Train Loss: 0.7895 | Train Acc: 71.95% | Val Acc: 0.00%\n",
      "100\n",
      "Epoch: 100 | Train Loss: 0.3126 | Train Acc: 86.22% | Val Acc: 53.85%\n",
      "200\n",
      "Epoch: 200 | Train Loss: 0.1959 | Train Acc: 90.65% | Val Acc: 76.92%\n",
      "300\n",
      "Epoch: 300 | Train Loss: 0.1264 | Train Acc: 93.08% | Val Acc: 76.92%\n",
      "Test accuracy: 83.33%\n",
      "Test Recall: 80.13%\n",
      "Test Precision: 80.13%\n"
     ]
    },
    {
     "name": "stderr",
     "output_type": "stream",
     "text": [
      "2024/10/03 01:50:06 WARNING mlflow.models.model: Input example should be provided to infer model signature if the model signature is not provided when logging the model.\n"
     ]
    },
    {
     "name": "stdout",
     "output_type": "stream",
     "text": [
      "37\n",
      "0\n",
      "Epoch:   0 | Train Loss: 0.7034 | Train Acc: 75.52% | Val Acc: 0.00%\n",
      "100\n",
      "Epoch: 100 | Train Loss: 0.3062 | Train Acc: 86.94% | Val Acc: 73.33%\n",
      "200\n",
      "Epoch: 200 | Train Loss: 0.2090 | Train Acc: 91.08% | Val Acc: 86.67%\n",
      "300\n",
      "Epoch: 300 | Train Loss: 0.1186 | Train Acc: 95.36% | Val Acc: 86.67%\n",
      "Test accuracy: 85.71%\n",
      "Test Recall: 82.93%\n",
      "Test Precision: 82.62%\n"
     ]
    },
    {
     "name": "stderr",
     "output_type": "stream",
     "text": [
      "2024/10/03 01:50:26 WARNING mlflow.models.model: Input example should be provided to infer model signature if the model signature is not provided when logging the model.\n"
     ]
    },
    {
     "name": "stdout",
     "output_type": "stream",
     "text": [
      "47\n",
      "0\n",
      "Epoch:   0 | Train Loss: 0.8573 | Train Acc: 77.66% | Val Acc: 0.00%\n",
      "100\n",
      "Epoch: 100 | Train Loss: 0.3300 | Train Acc: 84.51% | Val Acc: 50.00%\n",
      "200\n",
      "Epoch: 200 | Train Loss: 0.2426 | Train Acc: 89.22% | Val Acc: 66.67%\n",
      "300\n",
      "Epoch: 300 | Train Loss: 0.1650 | Train Acc: 93.36% | Val Acc: 72.22%\n",
      "Test accuracy: 94.12%\n",
      "Test Recall: 83.17%\n",
      "Test Precision: 84.52%\n"
     ]
    },
    {
     "name": "stderr",
     "output_type": "stream",
     "text": [
      "2024/10/03 01:50:46 WARNING mlflow.models.model: Input example should be provided to infer model signature if the model signature is not provided when logging the model.\n"
     ]
    },
    {
     "name": "stdout",
     "output_type": "stream",
     "text": [
      "57\n",
      "0\n",
      "Epoch:   0 | Train Loss: 0.6361 | Train Acc: 77.66% | Val Acc: 5.00%\n",
      "100\n",
      "Epoch: 100 | Train Loss: 0.2972 | Train Acc: 86.80% | Val Acc: 55.00%\n",
      "200\n",
      "Epoch: 200 | Train Loss: 0.2139 | Train Acc: 92.51% | Val Acc: 70.00%\n",
      "300\n",
      "Epoch: 300 | Train Loss: 0.1163 | Train Acc: 97.00% | Val Acc: 80.00%\n",
      "Test accuracy: 89.47%\n",
      "Test Recall: 84.47%\n",
      "Test Precision: 85.03%\n"
     ]
    },
    {
     "name": "stderr",
     "output_type": "stream",
     "text": [
      "2024/10/03 01:51:06 WARNING mlflow.models.model: Input example should be provided to infer model signature if the model signature is not provided when logging the model.\n"
     ]
    },
    {
     "name": "stdout",
     "output_type": "stream",
     "text": [
      "67\n",
      "0\n",
      "Epoch:   0 | Train Loss: 2.2680 | Train Acc: 27.98% | Val Acc: 100.00%\n",
      "100\n",
      "Epoch: 100 | Train Loss: 0.3537 | Train Acc: 84.30% | Val Acc: 38.10%\n",
      "200\n",
      "Epoch: 200 | Train Loss: 0.2646 | Train Acc: 88.65% | Val Acc: 66.67%\n",
      "300\n",
      "Epoch: 300 | Train Loss: 0.2042 | Train Acc: 92.86% | Val Acc: 76.19%\n",
      "Test accuracy: 95.24%\n",
      "Test Recall: 88.10%\n",
      "Test Precision: 88.89%\n"
     ]
    },
    {
     "name": "stderr",
     "output_type": "stream",
     "text": [
      "2024/10/03 01:51:26 WARNING mlflow.models.model: Input example should be provided to infer model signature if the model signature is not provided when logging the model.\n"
     ]
    },
    {
     "name": "stdout",
     "output_type": "stream",
     "text": [
      "77\n",
      "0\n",
      "Epoch:   0 | Train Loss: 0.9275 | Train Acc: 77.30% | Val Acc: 0.00%\n",
      "100\n",
      "Epoch: 100 | Train Loss: 0.2986 | Train Acc: 86.51% | Val Acc: 59.09%\n",
      "200\n",
      "Epoch: 200 | Train Loss: 0.1980 | Train Acc: 91.29% | Val Acc: 59.09%\n",
      "300\n",
      "Epoch: 300 | Train Loss: 0.1403 | Train Acc: 95.07% | Val Acc: 54.55%\n",
      "Test accuracy: 90.48%\n",
      "Test Recall: 72.51%\n",
      "Test Precision: 75.62%\n"
     ]
    },
    {
     "name": "stderr",
     "output_type": "stream",
     "text": [
      "2024/10/03 01:51:47 WARNING mlflow.models.model: Input example should be provided to infer model signature if the model signature is not provided when logging the model.\n"
     ]
    },
    {
     "name": "stdout",
     "output_type": "stream",
     "text": [
      "87\n",
      "0\n",
      "Epoch:   0 | Train Loss: 0.9208 | Train Acc: 36.97% | Val Acc: 40.74%\n",
      "100\n",
      "Epoch: 100 | Train Loss: 0.3322 | Train Acc: 85.94% | Val Acc: 55.56%\n",
      "200\n",
      "Epoch: 200 | Train Loss: 0.2349 | Train Acc: 91.22% | Val Acc: 77.78%\n",
      "300\n",
      "Epoch: 300 | Train Loss: 0.1447 | Train Acc: 95.57% | Val Acc: 77.78%\n",
      "Test accuracy: 92.59%\n",
      "Test Recall: 85.19%\n",
      "Test Precision: 85.97%\n"
     ]
    },
    {
     "name": "stderr",
     "output_type": "stream",
     "text": [
      "2024/10/03 01:52:07 WARNING mlflow.models.model: Input example should be provided to infer model signature if the model signature is not provided when logging the model.\n"
     ]
    },
    {
     "name": "stdout",
     "output_type": "stream",
     "text": [
      "97\n",
      "0\n",
      "Epoch:   0 | Train Loss: 0.7273 | Train Acc: 75.23% | Val Acc: 3.12%\n",
      "100\n",
      "Epoch: 100 | Train Loss: 0.3080 | Train Acc: 86.08% | Val Acc: 59.38%\n",
      "200\n",
      "Epoch: 200 | Train Loss: 0.2157 | Train Acc: 90.58% | Val Acc: 68.75%\n",
      "300\n",
      "Epoch: 300 | Train Loss: 0.1555 | Train Acc: 92.72% | Val Acc: 65.62%\n",
      "Test accuracy: 96.88%\n",
      "Test Recall: 83.53%\n",
      "Test Precision: 87.01%\n"
     ]
    },
    {
     "name": "stderr",
     "output_type": "stream",
     "text": [
      "2024/10/03 01:52:28 WARNING mlflow.models.model: Input example should be provided to infer model signature if the model signature is not provided when logging the model.\n"
     ]
    },
    {
     "name": "stdout",
     "output_type": "stream",
     "text": [
      "107\n",
      "0\n",
      "Epoch:   0 | Train Loss: 1.1707 | Train Acc: 36.19% | Val Acc: 47.22%\n",
      "100\n",
      "Epoch: 100 | Train Loss: 0.3376 | Train Acc: 84.30% | Val Acc: 55.56%\n",
      "200\n",
      "Epoch: 200 | Train Loss: 0.2816 | Train Acc: 88.44% | Val Acc: 66.67%\n",
      "300\n",
      "Epoch: 300 | Train Loss: 0.1804 | Train Acc: 93.08% | Val Acc: 72.22%\n",
      "Test accuracy: 94.44%\n",
      "Test Recall: 84.66%\n",
      "Test Precision: 87.49%\n"
     ]
    },
    {
     "name": "stderr",
     "output_type": "stream",
     "text": [
      "2024/10/03 01:52:48 WARNING mlflow.models.model: Input example should be provided to infer model signature if the model signature is not provided when logging the model.\n"
     ]
    },
    {
     "name": "stdout",
     "output_type": "stream",
     "text": [
      "117\n",
      "0\n",
      "Epoch:   0 | Train Loss: 0.6895 | Train Acc: 75.87% | Val Acc: 22.50%\n",
      "100\n",
      "Epoch: 100 | Train Loss: 0.3053 | Train Acc: 86.51% | Val Acc: 60.00%\n",
      "200\n",
      "Epoch: 200 | Train Loss: 0.2139 | Train Acc: 91.86% | Val Acc: 75.00%\n",
      "300\n",
      "Epoch: 300 | Train Loss: 0.1186 | Train Acc: 97.36% | Val Acc: 75.00%\n",
      "Test accuracy: 95.00%\n",
      "Test Recall: 85.65%\n",
      "Test Precision: 87.84%\n"
     ]
    },
    {
     "name": "stderr",
     "output_type": "stream",
     "text": [
      "2024/10/03 01:53:09 WARNING mlflow.models.model: Input example should be provided to infer model signature if the model signature is not provided when logging the model.\n"
     ]
    },
    {
     "name": "stdout",
     "output_type": "stream",
     "text": [
      "127\n",
      "0\n",
      "Epoch:   0 | Train Loss: 0.8364 | Train Acc: 52.53% | Val Acc: 43.48%\n",
      "100\n",
      "Epoch: 100 | Train Loss: 0.3157 | Train Acc: 86.08% | Val Acc: 58.70%\n",
      "200\n",
      "Epoch: 200 | Train Loss: 0.2434 | Train Acc: 90.29% | Val Acc: 76.09%\n",
      "300\n",
      "Epoch: 300 | Train Loss: 0.1600 | Train Acc: 94.79% | Val Acc: 80.43%\n",
      "Test accuracy: 97.78%\n",
      "Test Recall: 87.04%\n",
      "Test Precision: 90.77%\n"
     ]
    },
    {
     "name": "stderr",
     "output_type": "stream",
     "text": [
      "2024/10/03 01:53:30 WARNING mlflow.models.model: Input example should be provided to infer model signature if the model signature is not provided when logging the model.\n"
     ]
    },
    {
     "name": "stdout",
     "output_type": "stream",
     "text": [
      "137\n",
      "0\n",
      "Epoch:   0 | Train Loss: 0.9419 | Train Acc: 74.59% | Val Acc: 36.00%\n",
      "100\n",
      "Epoch: 100 | Train Loss: 0.3197 | Train Acc: 86.01% | Val Acc: 66.00%\n",
      "200\n",
      "Epoch: 200 | Train Loss: 0.2198 | Train Acc: 90.15% | Val Acc: 76.00%\n",
      "300\n",
      "Epoch: 300 | Train Loss: 0.1422 | Train Acc: 93.65% | Val Acc: 82.00%\n",
      "Test accuracy: 91.84%\n",
      "Test Recall: 83.77%\n",
      "Test Precision: 85.67%\n"
     ]
    },
    {
     "name": "stderr",
     "output_type": "stream",
     "text": [
      "2024/10/03 01:53:51 WARNING mlflow.models.model: Input example should be provided to infer model signature if the model signature is not provided when logging the model.\n"
     ]
    },
    {
     "name": "stdout",
     "output_type": "stream",
     "text": [
      "147\n",
      "0\n",
      "Epoch:   0 | Train Loss: 0.6707 | Train Acc: 77.66% | Val Acc: 40.74%\n",
      "100\n",
      "Epoch: 100 | Train Loss: 0.3062 | Train Acc: 86.65% | Val Acc: 72.22%\n",
      "200\n",
      "Epoch: 200 | Train Loss: 0.1942 | Train Acc: 92.29% | Val Acc: 70.37%\n",
      "300\n",
      "Epoch: 300 | Train Loss: 0.1257 | Train Acc: 96.00% | Val Acc: 75.93%\n",
      "Test accuracy: 94.44%\n",
      "Test Recall: 77.06%\n",
      "Test Precision: 83.66%\n"
     ]
    },
    {
     "name": "stderr",
     "output_type": "stream",
     "text": [
      "2024/10/03 01:54:12 WARNING mlflow.models.model: Input example should be provided to infer model signature if the model signature is not provided when logging the model.\n"
     ]
    },
    {
     "name": "stdout",
     "output_type": "stream",
     "text": [
      "157\n",
      "0\n",
      "Epoch:   0 | Train Loss: 0.9954 | Train Acc: 59.46% | Val Acc: 33.90%\n"
     ]
    }
   ],
   "source": [
    "#\n",
    "file_path_replies = r\"/home/azureuser/rumour-detection-pheme/replies_charlie_hebdo.pkl\"\n",
    "file_path_posts = r\"/home/azureuser/rumour-detection-pheme/posts_charlie_hebdo.pkl\"\n",
    "\n",
    "for time_cut in range(17,(60*24*3),10):\n",
    "    print(time_cut)\n",
    "    processor = HeteroDataProcessorFilterNodeonTest(file_path_replies, file_path_posts, time_cut)\n",
    "    data = processor.process()\n",
    "\n",
    "    model = GAT(dim_h=64, dim_out=2)\n",
    "    model = to_hetero(model, data.metadata(), aggr='sum')\n",
    "    \n",
    "    optimizer = torch.optim.Adam(model.parameters(), lr=0.001)\n",
    "    device = torch.device('cuda' if torch.cuda.is_available() else 'cpu')\n",
    "    data, model = data.to(device), model.to(device)\n",
    "   \n",
    "    with mlflow.start_run():\n",
    "\n",
    "        for epoch in range(400):\n",
    "            model.train()\n",
    "            optimizer.zero_grad()\n",
    "            out = model(data.x_dict, data.edge_index_dict)['id']\n",
    "            mask = data['id'].train_mask\n",
    "            loss = F.cross_entropy(out[mask], data['id'].y[mask])\n",
    "            loss.backward()\n",
    "            optimizer.step()\n",
    "            \n",
    "            if epoch % 100 == 0:\n",
    "                print(epoch)\n",
    "                train_acc = test(data['id'].train_mask)\n",
    "                val_acc = test(data['id'].val_mask)\n",
    "                print(f'Epoch: {epoch:>3} | Train Loss: {loss:.4f} | Train Acc: {train_acc*100:.2f}% | Val Acc: {val_acc*100:.2f}%')\n",
    "\n",
    "            \n",
    "        test_acc = test(data['id'].test_mask)\n",
    "        print(f'Test accuracy: {test_acc*100:.2f}%')\n",
    "\n",
    "        test_mask = data['id'].test_mask | data['id'].val_mask\n",
    "        pred = model(data.x_dict, data.edge_index_dict)['id'].argmax(dim=-1)\n",
    "        true_labels = data['id'].y[test_mask]\n",
    "        pred_labels = pred[test_mask]\n",
    "        test_precision =precision_score(true_labels, pred_labels, average='macro')\n",
    "        test_recall=recall_score(true_labels, pred_labels, average='macro')\n",
    "        print(f'Test Recall: {test_recall*100:.2f}%')\n",
    "        print(f'Test Precision: {test_precision*100:.2f}%')\n",
    "\n",
    "        mlflow.log_metric(\"train_loss\", loss.item(), step=epoch)\n",
    "        mlflow.log_metric(\"train_acc\", train_acc, step=epoch)\n",
    "        mlflow.log_metric(\"val_acc\", val_acc, step=epoch)\n",
    "        mlflow.log_metric(\"test_acc\", test_acc)\n",
    "        mlflow.log_metric(\"test_precision\",  test_precision)\n",
    "        mlflow.log_metric(\"test_recall\",  test_recall)\n",
    "\n",
    "            \n",
    "        mlflow.log_param(\"dim_h\", 64)\n",
    "        mlflow.log_param(\"dim_out\", 2)\n",
    "        mlflow.log_param(\"learning_rate\", 0.001)\n",
    "        mlflow.log_param(\"epochs\", 400)\n",
    "        mlflow.log_metric(\"time_cut\", time_cut)\n",
    "\n",
    "\n",
    "\n",
    "        \n",
    "            \n",
    "        mlflow.pytorch.log_model(model, f\"GAT_model_{time_cut}\")\n"
   ]
  }
 ],
 "metadata": {
  "kernelspec": {
   "display_name": "mastering",
   "language": "python",
   "name": "mastering"
  },
  "language_info": {
   "codemirror_mode": {
    "name": "ipython",
    "version": 3
   },
   "file_extension": ".py",
   "mimetype": "text/x-python",
   "name": "python",
   "nbconvert_exporter": "python",
   "pygments_lexer": "ipython3",
   "version": "3.12.5"
  }
 },
 "nbformat": 4,
 "nbformat_minor": 5
}
