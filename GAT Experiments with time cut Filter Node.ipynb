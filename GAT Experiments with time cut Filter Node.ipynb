{
 "cells": [
  {
   "cell_type": "code",
   "execution_count": 1,
   "id": "60ae9bc9-2423-4b62-9c90-70bd71b117b9",
   "metadata": {},
   "outputs": [],
   "source": [
    "import pandas as pd\n",
    "from sklearn.metrics import *\n",
    "from tqdm import tqdm\n",
    "from utils import HeteroDataProcessorFilterNode\n",
    "import numpy as np"
   ]
  },
  {
   "cell_type": "code",
   "execution_count": 8,
   "id": "5ec11366-8360-4848-abde-b5e223f6b0df",
   "metadata": {},
   "outputs": [
    {
     "name": "stderr",
     "output_type": "stream",
     "text": [
      "/home/azureuser/rumour-detection-pheme/utils.py:322: SettingWithCopyWarning: \n",
      "A value is trying to be set on a copy of a slice from a DataFrame.\n",
      "Try using .loc[row_indexer,col_indexer] = value instead\n",
      "\n",
      "See the caveats in the documentation: https://pandas.pydata.org/pandas-docs/stable/user_guide/indexing.html#returning-a-view-versus-a-copy\n",
      "  reply_features[['reply_followers','time_diff']] = scaler.fit_transform(reply_features[['reply_followers','time_diff']])\n"
     ]
    }
   ],
   "source": [
    "\n",
    "# Usage\n",
    "file_path_replies = r\"/home/azureuser/rumour-detection-pheme/replies_charlie_hebdo.pkl\"\n",
    "file_path_posts = r\"/home/azureuser/rumour-detection-pheme/posts_charlie_hebdo.pkl\"\n",
    "\n",
    "time_cut =(24*60*4)\n",
    "\n",
    "processor = HeteroDataProcessorFilterNode(file_path_replies, file_path_posts, time_cut)\n",
    "data = processor.process()\n"
   ]
  },
  {
   "cell_type": "code",
   "execution_count": 14,
   "id": "8a3a186b-9e12-4b1f-8022-b0859d5aaef5",
   "metadata": {},
   "outputs": [
    {
     "data": {
      "text/plain": [
       "HeteroData(\n",
       "  id={\n",
       "    x=[2002, 106],\n",
       "    y=[2002],\n",
       "    train_mask=[2002],\n",
       "    val_mask=[2002],\n",
       "    test_mask=[2002],\n",
       "  },\n",
       "  reply_user_id={ x=[18979, 104] },\n",
       "  (id, retweet, reply_user_id)={ edge_index=[2, 18979] },\n",
       "  (reply_user_id, rev_retweet, id)={ edge_index=[2, 18979] }\n",
       ")"
      ]
     },
     "execution_count": 14,
     "metadata": {},
     "output_type": "execute_result"
    }
   ],
   "source": [
    "data"
   ]
  },
  {
   "cell_type": "code",
   "execution_count": 8,
   "id": "4f61ac13",
   "metadata": {},
   "outputs": [],
   "source": [
    "import torch\n",
    "\n",
    "def shuffle_heterodata(data):\n",
    "    # Shuffle the 'id' node type\n",
    "    perm = torch.randperm(data['id'].x.size(0))  # Generate a random permutation\n",
    "    \n",
    "    # Shuffle node features for 'id'\n",
    "    data['id'].x = data['id'].x[perm]\n",
    "    data['id'].y = data['id'].y[perm]\n",
    "    data['id'].train_mask = data['id'].train_mask[perm]\n",
    "    data['id'].val_mask = data['id'].val_mask[perm]\n",
    "    data['id'].test_mask = data['id'].test_mask[perm]\n",
    "    \n",
    "    # Adjust edge indices for the relations involving 'id' nodes\n",
    "    data[('id', 'retweet', 'reply_user_id')].edge_index[0] = perm[data[('id', 'retweet', 'reply_user_id')].edge_index[0]]\n",
    "    data[('reply_user_id', 'rev_retweet', 'id')].edge_index[1] = perm[data[('reply_user_id', 'rev_retweet', 'id')].edge_index[1]]\n",
    "    \n",
    "    return data\n",
    "\n",
    "# Assuming 'data' is your HeteroData object\n",
    "data = shuffle_heterodata(data)\n"
   ]
  },
  {
   "cell_type": "code",
   "execution_count": 13,
   "id": "7fa97da8-1ca8-40e9-84f0-ce7d57d74249",
   "metadata": {},
   "outputs": [
    {
     "data": {
      "text/plain": [
       "<Experiment: artifact_location='/home/azureuser/rumour-detection-pheme/mlruns/26', creation_time=1727399827272, experiment_id='26', last_update_time=1727399827272, lifecycle_stage='active', name='GAT Network 2024-09-26 Filter Node', tags={}>"
      ]
     },
     "execution_count": 13,
     "metadata": {},
     "output_type": "execute_result"
    }
   ],
   "source": [
    "import mlflow\n",
    "mlflow.set_tracking_uri(\"sqlite:///mlflow.db\")\n",
    "#mlflow.set_experiment(\"spyder-experiment\")\n",
    "import mlflow.pytorch\n",
    "mlflow.set_experiment(\"GAT Network 2024-09-26 Filter Node\")"
   ]
  },
  {
   "cell_type": "code",
   "execution_count": 2,
   "id": "cd69448a-635d-42a8-8a21-e2492eb881c9",
   "metadata": {},
   "outputs": [],
   "source": [
    "import torch\n",
    "import torch.nn as nn\n",
    "import torch.nn.functional as F\n",
    "from torch_geometric.nn import GATConv, to_hetero\n",
    "\n",
    "class GAT(torch.nn.Module):\n",
    "    def __init__(self, dim_h, dim_out):\n",
    "        super().__init__()\n",
    "        self.conv1 = GATConv((-1, -1), dim_h, add_self_loops=False)\n",
    "        self.conv2 = GATConv(dim_h, dim_h, add_self_loops=False)  # Added second GATConv layer\n",
    "        self.linear = nn.Linear(dim_h, dim_out)\n",
    "        self.dropout = nn.Dropout(p=0.4)\n",
    "\n",
    "    def forward(self, x, edge_index):\n",
    "        h = self.conv1(x, edge_index).relu()\n",
    "        h = self.dropout(h)\n",
    "        h = self.conv2(h, edge_index).relu()  # Pass through the second GATConv layer\n",
    "        h = self.dropout(h)\n",
    "        h = self.linear(h)\n",
    "        return h\n",
    "\n",
    "@torch.no_grad()\n",
    "def test(mask):\n",
    "    model.eval()\n",
    "    pred = model(data.x_dict, data.edge_index_dict)['id'].argmax(dim=-1)\n",
    "    acc = (pred[mask] == data['id'].y[mask]).sum() / mask.sum()\n",
    "    return float(acc)"
   ]
  },
  {
   "cell_type": "code",
   "execution_count": 11,
   "id": "161cd7d8-b164-41da-aa06-ffb30e141e83",
   "metadata": {},
   "outputs": [
    {
     "name": "stdout",
     "output_type": "stream",
     "text": [
      "Epoch:   0 | Train Loss: 0.8618 | Train Acc: 35.75% | Val Acc: 34.15%\n",
      "Epoch:  50 | Train Loss: 0.3993 | Train Acc: 82.38% | Val Acc: 78.05%\n",
      "Epoch: 100 | Train Loss: 0.2330 | Train Acc: 93.26% | Val Acc: 80.49%\n",
      "Epoch: 150 | Train Loss: 0.1227 | Train Acc: 97.41% | Val Acc: 80.49%\n",
      "Epoch: 200 | Train Loss: 0.0690 | Train Acc: 98.96% | Val Acc: 80.49%\n",
      "Epoch: 250 | Train Loss: 0.0773 | Train Acc: 100.00% | Val Acc: 80.49%\n",
      "Epoch: 300 | Train Loss: 0.0217 | Train Acc: 100.00% | Val Acc: 80.49%\n",
      "Epoch: 350 | Train Loss: 0.0211 | Train Acc: 100.00% | Val Acc: 80.49%\n",
      "Epoch: 400 | Train Loss: 0.0091 | Train Acc: 100.00% | Val Acc: 80.49%\n",
      "Epoch: 450 | Train Loss: 0.0050 | Train Acc: 100.00% | Val Acc: 80.49%\n",
      "Test accuracy: 95.35%\n"
     ]
    }
   ],
   "source": [
    "\n",
    "model = GAT(dim_h=64, dim_out=2)\n",
    "model = to_hetero(model, data.metadata(), aggr='sum')\n",
    "\n",
    "optimizer = torch.optim.Adam(model.parameters(), lr=0.001)\n",
    "device = torch.device('cuda' if torch.cuda.is_available() else 'cpu')\n",
    "data, model = data.to(device), model.to(device)\n",
    "\n",
    "\n",
    "\n",
    "for epoch in range(500):\n",
    "    model.train()\n",
    "    optimizer.zero_grad()\n",
    "    out = model(data.x_dict, data.edge_index_dict)['id']\n",
    "    mask = data['id'].train_mask\n",
    "    loss = F.cross_entropy(out[mask], data['id'].y[mask])\n",
    "    loss.backward()\n",
    "    optimizer.step()\n",
    "    \n",
    "    if epoch % 50 == 0:\n",
    "        train_acc = test(data['id'].train_mask)\n",
    "        val_acc = test(data['id'].val_mask)\n",
    "        print(f'Epoch: {epoch:>3} | Train Loss: {loss:.4f} | Train Acc: {train_acc*100:.2f}% | Val Acc: {val_acc*100:.2f}%')\n",
    "    \n",
    "test_acc = test(data['id'].test_mask)\n",
    "print(f'Test accuracy: {test_acc*100:.2f}%')\n",
    "    \n"
   ]
  },
  {
   "cell_type": "code",
   "execution_count": 12,
   "id": "6f6a4136-b36d-4789-8b63-f16ee35a384b",
   "metadata": {},
   "outputs": [
    {
     "data": {
      "text/plain": [
       "0.8729977116704806"
      ]
     },
     "execution_count": 12,
     "metadata": {},
     "output_type": "execute_result"
    }
   ],
   "source": [
    "test_mask = data['id'].test_mask | data['id'].val_mask\n",
    "pred = model(data.x_dict, data.edge_index_dict)['id'].argmax(dim=-1)\n",
    "true_labels = data['id'].y[test_mask]\n",
    "pred_labels = pred[test_mask]\n",
    "precision_score(true_labels, pred_labels, average='macro')"
   ]
  },
  {
   "cell_type": "code",
   "execution_count": 13,
   "id": "614509bd-4a93-4e9a-a570-62f25e1c7ae2",
   "metadata": {},
   "outputs": [
    {
     "data": {
      "text/plain": [
       "0.8918269230769231"
      ]
     },
     "execution_count": 13,
     "metadata": {},
     "output_type": "execute_result"
    }
   ],
   "source": [
    "recall_score(true_labels, pred_labels, average='macro')"
   ]
  },
  {
   "cell_type": "code",
   "execution_count": 14,
   "id": "a4346389-5925-4019-b375-12fc980c8bd0",
   "metadata": {},
   "outputs": [],
   "source": [
    "input_example = data.x_dict, data.edge_index_dict"
   ]
  },
  {
   "cell_type": "code",
   "execution_count": 5,
   "id": "726dcd55-3f3d-4870-93b5-aef7dfe28a4a",
   "metadata": {},
   "outputs": [
    {
     "data": {
      "text/plain": [
       "<Experiment: artifact_location='/home/azureuser/rumour-detection-pheme/mlruns/29', creation_time=1727528004791, experiment_id='29', last_update_time=1727528004791, lifecycle_stage='active', name='GAT Network 2024-09-28 2 layers Filter Node 17min-3days', tags={}>"
      ]
     },
     "execution_count": 5,
     "metadata": {},
     "output_type": "execute_result"
    }
   ],
   "source": [
    "import mlflow\n",
    "mlflow.set_tracking_uri(\"sqlite:///mlflow.db\")\n",
    "#mlflow.set_experiment(\"spyder-experiment\")\n",
    "import mlflow.pytorch\n",
    "mlflow.set_experiment(\"GAT Network 2024-09-28 2 layers Filter Node 17min-3days\")"
   ]
  },
  {
   "cell_type": "code",
   "execution_count": null,
   "id": "83ca3af5-7a1d-4913-babc-814902f0d1da",
   "metadata": {},
   "outputs": [
    {
     "name": "stdout",
     "output_type": "stream",
     "text": [
      "2837\n"
     ]
    },
    {
     "name": "stderr",
     "output_type": "stream",
     "text": [
      "/home/azureuser/rumour-detection-pheme/utils.py:322: SettingWithCopyWarning: \n",
      "A value is trying to be set on a copy of a slice from a DataFrame.\n",
      "Try using .loc[row_indexer,col_indexer] = value instead\n",
      "\n",
      "See the caveats in the documentation: https://pandas.pydata.org/pandas-docs/stable/user_guide/indexing.html#returning-a-view-versus-a-copy\n",
      "  reply_features[['reply_followers','time_diff']] = scaler.fit_transform(reply_features[['reply_followers','time_diff']])\n"
     ]
    },
    {
     "name": "stdout",
     "output_type": "stream",
     "text": [
      "0\n",
      "Epoch:   0 | Train Loss: 0.6193 | Train Acc: 81.00% | Val Acc: 84.14%\n",
      "100\n",
      "Epoch: 100 | Train Loss: 0.2531 | Train Acc: 89.75% | Val Acc: 90.31%\n",
      "200\n",
      "Epoch: 200 | Train Loss: 0.1465 | Train Acc: 95.01% | Val Acc: 92.51%\n",
      "300\n",
      "Epoch: 300 | Train Loss: 0.0868 | Train Acc: 97.65% | Val Acc: 92.07%\n",
      "Test accuracy: 88.65%\n",
      "Test Recall: 79.67%\n",
      "Test Precision: 83.16%\n"
     ]
    },
    {
     "name": "stderr",
     "output_type": "stream",
     "text": [
      "2024/09/28 18:36:15 WARNING mlflow.models.model: Input example should be provided to infer model signature if the model signature is not provided when logging the model.\n"
     ]
    },
    {
     "name": "stdout",
     "output_type": "stream",
     "text": [
      "2847\n"
     ]
    },
    {
     "name": "stderr",
     "output_type": "stream",
     "text": [
      "/home/azureuser/rumour-detection-pheme/utils.py:322: SettingWithCopyWarning: \n",
      "A value is trying to be set on a copy of a slice from a DataFrame.\n",
      "Try using .loc[row_indexer,col_indexer] = value instead\n",
      "\n",
      "See the caveats in the documentation: https://pandas.pydata.org/pandas-docs/stable/user_guide/indexing.html#returning-a-view-versus-a-copy\n",
      "  reply_features[['reply_followers','time_diff']] = scaler.fit_transform(reply_features[['reply_followers','time_diff']])\n"
     ]
    },
    {
     "name": "stdout",
     "output_type": "stream",
     "text": [
      "0\n",
      "Epoch:   0 | Train Loss: 0.7010 | Train Acc: 80.00% | Val Acc: 86.40%\n",
      "100\n",
      "Epoch: 100 | Train Loss: 0.2554 | Train Acc: 89.95% | Val Acc: 88.16%\n",
      "200\n",
      "Epoch: 200 | Train Loss: 0.1627 | Train Acc: 93.43% | Val Acc: 89.91%\n",
      "300\n",
      "Epoch: 300 | Train Loss: 0.0921 | Train Acc: 97.00% | Val Acc: 90.35%\n",
      "Test accuracy: 92.14%\n",
      "Test Recall: 84.62%\n",
      "Test Precision: 83.01%\n"
     ]
    },
    {
     "name": "stderr",
     "output_type": "stream",
     "text": [
      "2024/09/28 18:36:40 WARNING mlflow.models.model: Input example should be provided to infer model signature if the model signature is not provided when logging the model.\n"
     ]
    },
    {
     "name": "stdout",
     "output_type": "stream",
     "text": [
      "2857\n"
     ]
    },
    {
     "name": "stderr",
     "output_type": "stream",
     "text": [
      "/home/azureuser/rumour-detection-pheme/utils.py:322: SettingWithCopyWarning: \n",
      "A value is trying to be set on a copy of a slice from a DataFrame.\n",
      "Try using .loc[row_indexer,col_indexer] = value instead\n",
      "\n",
      "See the caveats in the documentation: https://pandas.pydata.org/pandas-docs/stable/user_guide/indexing.html#returning-a-view-versus-a-copy\n",
      "  reply_features[['reply_followers','time_diff']] = scaler.fit_transform(reply_features[['reply_followers','time_diff']])\n"
     ]
    },
    {
     "name": "stdout",
     "output_type": "stream",
     "text": [
      "0\n",
      "Epoch:   0 | Train Loss: 0.7537 | Train Acc: 39.81% | Val Acc: 37.55%\n",
      "100\n",
      "Epoch: 100 | Train Loss: 0.2528 | Train Acc: 89.63% | Val Acc: 83.84%\n",
      "200\n",
      "Epoch: 200 | Train Loss: 0.1613 | Train Acc: 94.49% | Val Acc: 86.90%\n",
      "300\n",
      "Epoch: 300 | Train Loss: 0.1119 | Train Acc: 96.54% | Val Acc: 87.77%\n",
      "Test accuracy: 89.57%\n",
      "Test Recall: 80.74%\n",
      "Test Precision: 84.04%\n"
     ]
    },
    {
     "name": "stderr",
     "output_type": "stream",
     "text": [
      "2024/09/28 18:37:05 WARNING mlflow.models.model: Input example should be provided to infer model signature if the model signature is not provided when logging the model.\n"
     ]
    },
    {
     "name": "stdout",
     "output_type": "stream",
     "text": [
      "2867\n"
     ]
    },
    {
     "name": "stderr",
     "output_type": "stream",
     "text": [
      "/home/azureuser/rumour-detection-pheme/utils.py:322: SettingWithCopyWarning: \n",
      "A value is trying to be set on a copy of a slice from a DataFrame.\n",
      "Try using .loc[row_indexer,col_indexer] = value instead\n",
      "\n",
      "See the caveats in the documentation: https://pandas.pydata.org/pandas-docs/stable/user_guide/indexing.html#returning-a-view-versus-a-copy\n",
      "  reply_features[['reply_followers','time_diff']] = scaler.fit_transform(reply_features[['reply_followers','time_diff']])\n"
     ]
    },
    {
     "name": "stdout",
     "output_type": "stream",
     "text": [
      "0\n",
      "Epoch:   0 | Train Loss: 0.7259 | Train Acc: 76.84% | Val Acc: 78.26%\n",
      "100\n",
      "Epoch: 100 | Train Loss: 0.2389 | Train Acc: 90.33% | Val Acc: 90.00%\n",
      "200\n",
      "Epoch: 200 | Train Loss: 0.1417 | Train Acc: 95.35% | Val Acc: 86.52%\n",
      "300\n",
      "Epoch: 300 | Train Loss: 0.0876 | Train Acc: 97.58% | Val Acc: 86.52%\n",
      "Test accuracy: 90.48%\n",
      "Test Recall: 84.93%\n",
      "Test Precision: 80.49%\n"
     ]
    },
    {
     "name": "stderr",
     "output_type": "stream",
     "text": [
      "2024/09/28 18:37:30 WARNING mlflow.models.model: Input example should be provided to infer model signature if the model signature is not provided when logging the model.\n"
     ]
    },
    {
     "name": "stdout",
     "output_type": "stream",
     "text": [
      "2877\n"
     ]
    },
    {
     "name": "stderr",
     "output_type": "stream",
     "text": [
      "/home/azureuser/rumour-detection-pheme/utils.py:322: SettingWithCopyWarning: \n",
      "A value is trying to be set on a copy of a slice from a DataFrame.\n",
      "Try using .loc[row_indexer,col_indexer] = value instead\n",
      "\n",
      "See the caveats in the documentation: https://pandas.pydata.org/pandas-docs/stable/user_guide/indexing.html#returning-a-view-versus-a-copy\n",
      "  reply_features[['reply_followers','time_diff']] = scaler.fit_transform(reply_features[['reply_followers','time_diff']])\n"
     ]
    },
    {
     "name": "stdout",
     "output_type": "stream",
     "text": [
      "0\n",
      "Epoch:   0 | Train Loss: 0.9166 | Train Acc: 20.09% | Val Acc: 19.48%\n",
      "100\n",
      "Epoch: 100 | Train Loss: 0.2499 | Train Acc: 89.91% | Val Acc: 89.18%\n",
      "200\n",
      "Epoch: 200 | Train Loss: 0.1394 | Train Acc: 95.28% | Val Acc: 88.31%\n",
      "300\n",
      "Epoch: 300 | Train Loss: 0.0718 | Train Acc: 98.15% | Val Acc: 88.31%\n",
      "Test accuracy: 90.09%\n",
      "Test Recall: 85.49%\n",
      "Test Precision: 82.99%\n"
     ]
    },
    {
     "name": "stderr",
     "output_type": "stream",
     "text": [
      "2024/09/28 18:37:54 WARNING mlflow.models.model: Input example should be provided to infer model signature if the model signature is not provided when logging the model.\n"
     ]
    },
    {
     "name": "stdout",
     "output_type": "stream",
     "text": [
      "2887\n"
     ]
    },
    {
     "name": "stderr",
     "output_type": "stream",
     "text": [
      "/home/azureuser/rumour-detection-pheme/utils.py:322: SettingWithCopyWarning: \n",
      "A value is trying to be set on a copy of a slice from a DataFrame.\n",
      "Try using .loc[row_indexer,col_indexer] = value instead\n",
      "\n",
      "See the caveats in the documentation: https://pandas.pydata.org/pandas-docs/stable/user_guide/indexing.html#returning-a-view-versus-a-copy\n",
      "  reply_features[['reply_followers','time_diff']] = scaler.fit_transform(reply_features[['reply_followers','time_diff']])\n"
     ]
    },
    {
     "name": "stdout",
     "output_type": "stream",
     "text": [
      "0\n",
      "Epoch:   0 | Train Loss: 0.8486 | Train Acc: 74.88% | Val Acc: 77.16%\n",
      "100\n",
      "Epoch: 100 | Train Loss: 0.2693 | Train Acc: 89.47% | Val Acc: 89.22%\n",
      "200\n",
      "Epoch: 200 | Train Loss: 0.1686 | Train Acc: 94.18% | Val Acc: 87.93%\n",
      "300\n",
      "Epoch: 300 | Train Loss: 0.0918 | Train Acc: 97.14% | Val Acc: 89.66%\n",
      "Test accuracy: 90.99%\n",
      "Test Recall: 84.14%\n",
      "Test Precision: 83.34%\n"
     ]
    },
    {
     "name": "stderr",
     "output_type": "stream",
     "text": [
      "2024/09/28 18:38:18 WARNING mlflow.models.model: Input example should be provided to infer model signature if the model signature is not provided when logging the model.\n"
     ]
    },
    {
     "name": "stdout",
     "output_type": "stream",
     "text": [
      "2897\n"
     ]
    },
    {
     "name": "stderr",
     "output_type": "stream",
     "text": [
      "/home/azureuser/rumour-detection-pheme/utils.py:322: SettingWithCopyWarning: \n",
      "A value is trying to be set on a copy of a slice from a DataFrame.\n",
      "Try using .loc[row_indexer,col_indexer] = value instead\n",
      "\n",
      "See the caveats in the documentation: https://pandas.pydata.org/pandas-docs/stable/user_guide/indexing.html#returning-a-view-versus-a-copy\n",
      "  reply_features[['reply_followers','time_diff']] = scaler.fit_transform(reply_features[['reply_followers','time_diff']])\n"
     ]
    },
    {
     "name": "stdout",
     "output_type": "stream",
     "text": [
      "0\n",
      "Epoch:   0 | Train Loss: 0.6959 | Train Acc: 80.83% | Val Acc: 79.31%\n",
      "100\n",
      "Epoch: 100 | Train Loss: 0.2414 | Train Acc: 90.05% | Val Acc: 87.93%\n",
      "200\n",
      "Epoch: 200 | Train Loss: 0.1477 | Train Acc: 95.21% | Val Acc: 88.36%\n",
      "300\n",
      "Epoch: 300 | Train Loss: 0.0800 | Train Acc: 97.60% | Val Acc: 87.07%\n",
      "Test accuracy: 91.45%\n",
      "Test Recall: 85.01%\n",
      "Test Precision: 81.96%\n"
     ]
    },
    {
     "name": "stderr",
     "output_type": "stream",
     "text": [
      "2024/09/28 18:38:43 WARNING mlflow.models.model: Input example should be provided to infer model signature if the model signature is not provided when logging the model.\n"
     ]
    },
    {
     "name": "stdout",
     "output_type": "stream",
     "text": [
      "2907\n"
     ]
    },
    {
     "name": "stderr",
     "output_type": "stream",
     "text": [
      "/home/azureuser/rumour-detection-pheme/utils.py:322: SettingWithCopyWarning: \n",
      "A value is trying to be set on a copy of a slice from a DataFrame.\n",
      "Try using .loc[row_indexer,col_indexer] = value instead\n",
      "\n",
      "See the caveats in the documentation: https://pandas.pydata.org/pandas-docs/stable/user_guide/indexing.html#returning-a-view-versus-a-copy\n",
      "  reply_features[['reply_followers','time_diff']] = scaler.fit_transform(reply_features[['reply_followers','time_diff']])\n"
     ]
    },
    {
     "name": "stdout",
     "output_type": "stream",
     "text": [
      "0\n",
      "Epoch:   0 | Train Loss: 1.1669 | Train Acc: 28.95% | Val Acc: 31.33%\n",
      "100\n",
      "Epoch: 100 | Train Loss: 0.2683 | Train Acc: 88.51% | Val Acc: 87.55%\n",
      "200\n",
      "Epoch: 200 | Train Loss: 0.1721 | Train Acc: 94.30% | Val Acc: 88.41%\n",
      "300\n",
      "Epoch: 300 | Train Loss: 0.1127 | Train Acc: 96.51% | Val Acc: 87.98%\n",
      "Test accuracy: 88.89%\n",
      "Test Recall: 79.73%\n",
      "Test Precision: 80.56%\n"
     ]
    },
    {
     "name": "stderr",
     "output_type": "stream",
     "text": [
      "2024/09/28 18:39:07 WARNING mlflow.models.model: Input example should be provided to infer model signature if the model signature is not provided when logging the model.\n"
     ]
    },
    {
     "name": "stdout",
     "output_type": "stream",
     "text": [
      "2917\n"
     ]
    },
    {
     "name": "stderr",
     "output_type": "stream",
     "text": [
      "/home/azureuser/rumour-detection-pheme/utils.py:322: SettingWithCopyWarning: \n",
      "A value is trying to be set on a copy of a slice from a DataFrame.\n",
      "Try using .loc[row_indexer,col_indexer] = value instead\n",
      "\n",
      "See the caveats in the documentation: https://pandas.pydata.org/pandas-docs/stable/user_guide/indexing.html#returning-a-view-versus-a-copy\n",
      "  reply_features[['reply_followers','time_diff']] = scaler.fit_transform(reply_features[['reply_followers','time_diff']])\n"
     ]
    },
    {
     "name": "stdout",
     "output_type": "stream",
     "text": [
      "0\n",
      "Epoch:   0 | Train Loss: 0.7727 | Train Acc: 80.51% | Val Acc: 84.19%\n",
      "100\n",
      "Epoch: 100 | Train Loss: 0.2784 | Train Acc: 88.93% | Val Acc: 89.32%\n",
      "200\n",
      "Epoch: 200 | Train Loss: 0.1681 | Train Acc: 93.32% | Val Acc: 89.32%\n",
      "300\n",
      "Epoch: 300 | Train Loss: 0.0945 | Train Acc: 96.80% | Val Acc: 89.74%\n",
      "Test accuracy: 91.49%\n",
      "Test Recall: 86.01%\n",
      "Test Precision: 83.38%\n"
     ]
    },
    {
     "name": "stderr",
     "output_type": "stream",
     "text": [
      "2024/09/28 18:39:32 WARNING mlflow.models.model: Input example should be provided to infer model signature if the model signature is not provided when logging the model.\n"
     ]
    },
    {
     "name": "stdout",
     "output_type": "stream",
     "text": [
      "2927\n"
     ]
    },
    {
     "name": "stderr",
     "output_type": "stream",
     "text": [
      "/home/azureuser/rumour-detection-pheme/utils.py:322: SettingWithCopyWarning: \n",
      "A value is trying to be set on a copy of a slice from a DataFrame.\n",
      "Try using .loc[row_indexer,col_indexer] = value instead\n",
      "\n",
      "See the caveats in the documentation: https://pandas.pydata.org/pandas-docs/stable/user_guide/indexing.html#returning-a-view-versus-a-copy\n",
      "  reply_features[['reply_followers','time_diff']] = scaler.fit_transform(reply_features[['reply_followers','time_diff']])\n"
     ]
    },
    {
     "name": "stdout",
     "output_type": "stream",
     "text": [
      "0\n",
      "Epoch:   0 | Train Loss: 0.8673 | Train Acc: 70.77% | Val Acc: 79.57%\n",
      "100\n",
      "Epoch: 100 | Train Loss: 0.3112 | Train Acc: 87.89% | Val Acc: 91.49%\n",
      "200\n",
      "Epoch: 200 | Train Loss: 0.2200 | Train Acc: 92.44% | Val Acc: 91.06%\n",
      "300\n",
      "Epoch: 300 | Train Loss: 0.1533 | Train Acc: 94.99% | Val Acc: 90.64%\n",
      "Test accuracy: 88.98%\n",
      "Test Recall: 84.05%\n",
      "Test Precision: 84.67%\n"
     ]
    },
    {
     "name": "stderr",
     "output_type": "stream",
     "text": [
      "2024/09/28 18:39:56 WARNING mlflow.models.model: Input example should be provided to infer model signature if the model signature is not provided when logging the model.\n"
     ]
    },
    {
     "name": "stdout",
     "output_type": "stream",
     "text": [
      "2937\n"
     ]
    },
    {
     "name": "stderr",
     "output_type": "stream",
     "text": [
      "/home/azureuser/rumour-detection-pheme/utils.py:322: SettingWithCopyWarning: \n",
      "A value is trying to be set on a copy of a slice from a DataFrame.\n",
      "Try using .loc[row_indexer,col_indexer] = value instead\n",
      "\n",
      "See the caveats in the documentation: https://pandas.pydata.org/pandas-docs/stable/user_guide/indexing.html#returning-a-view-versus-a-copy\n",
      "  reply_features[['reply_followers','time_diff']] = scaler.fit_transform(reply_features[['reply_followers','time_diff']])\n"
     ]
    },
    {
     "name": "stdout",
     "output_type": "stream",
     "text": [
      "0\n",
      "Epoch:   0 | Train Loss: 0.8776 | Train Acc: 27.70% | Val Acc: 21.28%\n",
      "100\n",
      "Epoch: 100 | Train Loss: 0.2649 | Train Acc: 90.01% | Val Acc: 90.64%\n",
      "200\n",
      "Epoch: 200 | Train Loss: 0.1398 | Train Acc: 95.37% | Val Acc: 92.34%\n",
      "300\n",
      "Epoch: 300 | Train Loss: 0.0716 | Train Acc: 98.37% | Val Acc: 92.77%\n",
      "Test accuracy: 89.03%\n",
      "Test Recall: 84.35%\n",
      "Test Precision: 84.35%\n"
     ]
    },
    {
     "name": "stderr",
     "output_type": "stream",
     "text": [
      "2024/09/28 18:40:21 WARNING mlflow.models.model: Input example should be provided to infer model signature if the model signature is not provided when logging the model.\n"
     ]
    },
    {
     "name": "stdout",
     "output_type": "stream",
     "text": [
      "2947\n"
     ]
    },
    {
     "name": "stderr",
     "output_type": "stream",
     "text": [
      "/home/azureuser/rumour-detection-pheme/utils.py:322: SettingWithCopyWarning: \n",
      "A value is trying to be set on a copy of a slice from a DataFrame.\n",
      "Try using .loc[row_indexer,col_indexer] = value instead\n",
      "\n",
      "See the caveats in the documentation: https://pandas.pydata.org/pandas-docs/stable/user_guide/indexing.html#returning-a-view-versus-a-copy\n",
      "  reply_features[['reply_followers','time_diff']] = scaler.fit_transform(reply_features[['reply_followers','time_diff']])\n"
     ]
    },
    {
     "name": "stdout",
     "output_type": "stream",
     "text": [
      "0\n",
      "Epoch:   0 | Train Loss: 1.3272 | Train Acc: 69.17% | Val Acc: 67.37%\n",
      "100\n",
      "Epoch: 100 | Train Loss: 0.2761 | Train Acc: 88.58% | Val Acc: 91.53%\n",
      "200\n",
      "Epoch: 200 | Train Loss: 0.2021 | Train Acc: 93.11% | Val Acc: 91.10%\n",
      "300\n",
      "Epoch: 300 | Train Loss: 0.1122 | Train Acc: 96.65% | Val Acc: 90.68%\n",
      "Test accuracy: 92.02%\n",
      "Test Recall: 85.91%\n",
      "Test Precision: 86.79%\n"
     ]
    },
    {
     "name": "stderr",
     "output_type": "stream",
     "text": [
      "2024/09/28 18:43:11 WARNING mlflow.models.model: Input example should be provided to infer model signature if the model signature is not provided when logging the model.\n"
     ]
    },
    {
     "name": "stdout",
     "output_type": "stream",
     "text": [
      "2957\n"
     ]
    },
    {
     "name": "stderr",
     "output_type": "stream",
     "text": [
      "/home/azureuser/rumour-detection-pheme/utils.py:322: SettingWithCopyWarning: \n",
      "A value is trying to be set on a copy of a slice from a DataFrame.\n",
      "Try using .loc[row_indexer,col_indexer] = value instead\n",
      "\n",
      "See the caveats in the documentation: https://pandas.pydata.org/pandas-docs/stable/user_guide/indexing.html#returning-a-view-versus-a-copy\n",
      "  reply_features[['reply_followers','time_diff']] = scaler.fit_transform(reply_features[['reply_followers','time_diff']])\n"
     ]
    },
    {
     "name": "stdout",
     "output_type": "stream",
     "text": [
      "0\n",
      "Epoch:   0 | Train Loss: 1.8871 | Train Acc: 19.08% | Val Acc: 20.25%\n",
      "100\n",
      "Epoch: 100 | Train Loss: 0.3241 | Train Acc: 86.62% | Val Acc: 85.23%\n",
      "200\n",
      "Epoch: 200 | Train Loss: 0.2465 | Train Acc: 90.14% | Val Acc: 88.61%\n",
      "300\n",
      "Epoch: 300 | Train Loss: 0.1866 | Train Acc: 93.67% | Val Acc: 88.61%\n",
      "Test accuracy: 88.66%\n",
      "Test Recall: 80.63%\n",
      "Test Precision: 81.66%\n"
     ]
    },
    {
     "name": "stderr",
     "output_type": "stream",
     "text": [
      "2024/09/28 18:45:55 WARNING mlflow.models.model: Input example should be provided to infer model signature if the model signature is not provided when logging the model.\n"
     ]
    },
    {
     "name": "stdout",
     "output_type": "stream",
     "text": [
      "2967\n"
     ]
    },
    {
     "name": "stderr",
     "output_type": "stream",
     "text": [
      "/home/azureuser/rumour-detection-pheme/utils.py:322: SettingWithCopyWarning: \n",
      "A value is trying to be set on a copy of a slice from a DataFrame.\n",
      "Try using .loc[row_indexer,col_indexer] = value instead\n",
      "\n",
      "See the caveats in the documentation: https://pandas.pydata.org/pandas-docs/stable/user_guide/indexing.html#returning-a-view-versus-a-copy\n",
      "  reply_features[['reply_followers','time_diff']] = scaler.fit_transform(reply_features[['reply_followers','time_diff']])\n"
     ]
    },
    {
     "name": "stdout",
     "output_type": "stream",
     "text": [
      "0\n",
      "Epoch:   0 | Train Loss: 0.9943 | Train Acc: 20.04% | Val Acc: 17.23%\n",
      "100\n",
      "Epoch: 100 | Train Loss: 0.3009 | Train Acc: 89.58% | Val Acc: 88.66%\n",
      "200\n",
      "Epoch: 200 | Train Loss: 0.1907 | Train Acc: 93.53% | Val Acc: 90.34%\n",
      "300\n",
      "Epoch: 300 | Train Loss: 0.1404 | Train Acc: 96.14% | Val Acc: 92.02%\n",
      "Test accuracy: 87.50%\n",
      "Test Recall: 84.43%\n",
      "Test Precision: 83.56%\n"
     ]
    },
    {
     "name": "stderr",
     "output_type": "stream",
     "text": [
      "2024/09/28 18:48:36 WARNING mlflow.models.model: Input example should be provided to infer model signature if the model signature is not provided when logging the model.\n"
     ]
    },
    {
     "name": "stdout",
     "output_type": "stream",
     "text": [
      "2977\n"
     ]
    },
    {
     "name": "stderr",
     "output_type": "stream",
     "text": [
      "/home/azureuser/rumour-detection-pheme/utils.py:322: SettingWithCopyWarning: \n",
      "A value is trying to be set on a copy of a slice from a DataFrame.\n",
      "Try using .loc[row_indexer,col_indexer] = value instead\n",
      "\n",
      "See the caveats in the documentation: https://pandas.pydata.org/pandas-docs/stable/user_guide/indexing.html#returning-a-view-versus-a-copy\n",
      "  reply_features[['reply_followers','time_diff']] = scaler.fit_transform(reply_features[['reply_followers','time_diff']])\n"
     ]
    },
    {
     "name": "stdout",
     "output_type": "stream",
     "text": [
      "0\n",
      "Epoch:   0 | Train Loss: 1.0536 | Train Acc: 20.28% | Val Acc: 20.83%\n",
      "100\n",
      "Epoch: 100 | Train Loss: 0.2867 | Train Acc: 89.59% | Val Acc: 87.50%\n",
      "200\n",
      "Epoch: 200 | Train Loss: 0.1679 | Train Acc: 93.24% | Val Acc: 88.33%\n",
      "300\n",
      "Epoch: 300 | Train Loss: 0.1080 | Train Acc: 96.35% | Val Acc: 87.92%\n",
      "Test accuracy: 86.36%\n",
      "Test Recall: 80.36%\n",
      "Test Precision: 80.12%\n"
     ]
    },
    {
     "name": "stderr",
     "output_type": "stream",
     "text": [
      "2024/09/28 18:51:18 WARNING mlflow.models.model: Input example should be provided to infer model signature if the model signature is not provided when logging the model.\n"
     ]
    },
    {
     "name": "stdout",
     "output_type": "stream",
     "text": [
      "2987\n"
     ]
    },
    {
     "name": "stderr",
     "output_type": "stream",
     "text": [
      "/home/azureuser/rumour-detection-pheme/utils.py:322: SettingWithCopyWarning: \n",
      "A value is trying to be set on a copy of a slice from a DataFrame.\n",
      "Try using .loc[row_indexer,col_indexer] = value instead\n",
      "\n",
      "See the caveats in the documentation: https://pandas.pydata.org/pandas-docs/stable/user_guide/indexing.html#returning-a-view-versus-a-copy\n",
      "  reply_features[['reply_followers','time_diff']] = scaler.fit_transform(reply_features[['reply_followers','time_diff']])\n"
     ]
    },
    {
     "name": "stdout",
     "output_type": "stream",
     "text": [
      "0\n",
      "Epoch:   0 | Train Loss: 0.8011 | Train Acc: 33.92% | Val Acc: 34.71%\n",
      "100\n",
      "Epoch: 100 | Train Loss: 0.2698 | Train Acc: 90.46% | Val Acc: 89.26%\n",
      "200\n",
      "Epoch: 200 | Train Loss: 0.1637 | Train Acc: 94.70% | Val Acc: 88.84%\n",
      "300\n",
      "Epoch: 300 | Train Loss: 0.0989 | Train Acc: 96.91% | Val Acc: 88.02%\n",
      "Test accuracy: 89.34%\n",
      "Test Recall: 83.62%\n",
      "Test Precision: 83.85%\n"
     ]
    },
    {
     "name": "stderr",
     "output_type": "stream",
     "text": [
      "2024/09/28 18:53:52 WARNING mlflow.models.model: Input example should be provided to infer model signature if the model signature is not provided when logging the model.\n"
     ]
    },
    {
     "name": "stdout",
     "output_type": "stream",
     "text": [
      "2997\n"
     ]
    },
    {
     "name": "stderr",
     "output_type": "stream",
     "text": [
      "/home/azureuser/rumour-detection-pheme/utils.py:322: SettingWithCopyWarning: \n",
      "A value is trying to be set on a copy of a slice from a DataFrame.\n",
      "Try using .loc[row_indexer,col_indexer] = value instead\n",
      "\n",
      "See the caveats in the documentation: https://pandas.pydata.org/pandas-docs/stable/user_guide/indexing.html#returning-a-view-versus-a-copy\n",
      "  reply_features[['reply_followers','time_diff']] = scaler.fit_transform(reply_features[['reply_followers','time_diff']])\n"
     ]
    },
    {
     "name": "stdout",
     "output_type": "stream",
     "text": [
      "0\n",
      "Epoch:   0 | Train Loss: 0.7368 | Train Acc: 79.97% | Val Acc: 80.08%\n",
      "100\n",
      "Epoch: 100 | Train Loss: 0.2736 | Train Acc: 90.33% | Val Acc: 84.55%\n",
      "200\n",
      "Epoch: 200 | Train Loss: 0.1639 | Train Acc: 94.60% | Val Acc: 86.59%\n",
      "300\n",
      "Epoch: 300 | Train Loss: 0.1077 | Train Acc: 96.78% | Val Acc: 86.59%\n",
      "Test accuracy: 89.47%\n",
      "Test Recall: 83.72%\n",
      "Test Precision: 83.72%\n"
     ]
    },
    {
     "name": "stderr",
     "output_type": "stream",
     "text": [
      "2024/09/28 18:56:21 WARNING mlflow.models.model: Input example should be provided to infer model signature if the model signature is not provided when logging the model.\n"
     ]
    },
    {
     "name": "stdout",
     "output_type": "stream",
     "text": [
      "3007\n"
     ]
    },
    {
     "name": "stderr",
     "output_type": "stream",
     "text": [
      "/home/azureuser/rumour-detection-pheme/utils.py:322: SettingWithCopyWarning: \n",
      "A value is trying to be set on a copy of a slice from a DataFrame.\n",
      "Try using .loc[row_indexer,col_indexer] = value instead\n",
      "\n",
      "See the caveats in the documentation: https://pandas.pydata.org/pandas-docs/stable/user_guide/indexing.html#returning-a-view-versus-a-copy\n",
      "  reply_features[['reply_followers','time_diff']] = scaler.fit_transform(reply_features[['reply_followers','time_diff']])\n"
     ]
    },
    {
     "name": "stdout",
     "output_type": "stream",
     "text": [
      "0\n",
      "Epoch:   0 | Train Loss: 0.7433 | Train Acc: 78.66% | Val Acc: 75.50%\n",
      "100\n",
      "Epoch: 100 | Train Loss: 0.2745 | Train Acc: 90.36% | Val Acc: 90.36%\n",
      "200\n",
      "Epoch: 200 | Train Loss: 0.1776 | Train Acc: 94.15% | Val Acc: 89.96%\n",
      "300\n",
      "Epoch: 300 | Train Loss: 0.1125 | Train Acc: 97.07% | Val Acc: 89.96%\n",
      "Test accuracy: 86.35%\n",
      "Test Recall: 83.61%\n",
      "Test Precision: 83.20%\n"
     ]
    },
    {
     "name": "stderr",
     "output_type": "stream",
     "text": [
      "2024/09/28 18:58:54 WARNING mlflow.models.model: Input example should be provided to infer model signature if the model signature is not provided when logging the model.\n"
     ]
    },
    {
     "name": "stdout",
     "output_type": "stream",
     "text": [
      "3017\n"
     ]
    },
    {
     "name": "stderr",
     "output_type": "stream",
     "text": [
      "/home/azureuser/rumour-detection-pheme/utils.py:322: SettingWithCopyWarning: \n",
      "A value is trying to be set on a copy of a slice from a DataFrame.\n",
      "Try using .loc[row_indexer,col_indexer] = value instead\n",
      "\n",
      "See the caveats in the documentation: https://pandas.pydata.org/pandas-docs/stable/user_guide/indexing.html#returning-a-view-versus-a-copy\n",
      "  reply_features[['reply_followers','time_diff']] = scaler.fit_transform(reply_features[['reply_followers','time_diff']])\n"
     ]
    },
    {
     "name": "stdout",
     "output_type": "stream",
     "text": [
      "0\n",
      "Epoch:   0 | Train Loss: 0.7136 | Train Acc: 65.20% | Val Acc: 65.08%\n",
      "100\n",
      "Epoch: 100 | Train Loss: 0.2709 | Train Acc: 88.29% | Val Acc: 88.10%\n",
      "200\n",
      "Epoch: 200 | Train Loss: 0.1957 | Train Acc: 92.44% | Val Acc: 86.90%\n",
      "300\n",
      "Epoch: 300 | Train Loss: 0.1215 | Train Acc: 96.01% | Val Acc: 89.68%\n",
      "Test accuracy: 85.83%\n",
      "Test Recall: 81.50%\n",
      "Test Precision: 81.09%\n"
     ]
    },
    {
     "name": "stderr",
     "output_type": "stream",
     "text": [
      "2024/09/28 19:01:30 WARNING mlflow.models.model: Input example should be provided to infer model signature if the model signature is not provided when logging the model.\n"
     ]
    },
    {
     "name": "stdout",
     "output_type": "stream",
     "text": [
      "3027\n"
     ]
    },
    {
     "name": "stderr",
     "output_type": "stream",
     "text": [
      "/home/azureuser/rumour-detection-pheme/utils.py:322: SettingWithCopyWarning: \n",
      "A value is trying to be set on a copy of a slice from a DataFrame.\n",
      "Try using .loc[row_indexer,col_indexer] = value instead\n",
      "\n",
      "See the caveats in the documentation: https://pandas.pydata.org/pandas-docs/stable/user_guide/indexing.html#returning-a-view-versus-a-copy\n",
      "  reply_features[['reply_followers','time_diff']] = scaler.fit_transform(reply_features[['reply_followers','time_diff']])\n"
     ]
    },
    {
     "name": "stdout",
     "output_type": "stream",
     "text": [
      "0\n",
      "Epoch:   0 | Train Loss: 0.6178 | Train Acc: 78.69% | Val Acc: 79.61%\n",
      "100\n",
      "Epoch: 100 | Train Loss: 0.2713 | Train Acc: 87.50% | Val Acc: 89.80%\n",
      "200\n",
      "Epoch: 200 | Train Loss: 0.1832 | Train Acc: 93.37% | Val Acc: 89.02%\n",
      "300\n",
      "Epoch: 300 | Train Loss: 0.0858 | Train Acc: 97.65% | Val Acc: 89.02%\n",
      "Test accuracy: 90.66%\n",
      "Test Recall: 83.10%\n",
      "Test Precision: 84.94%\n"
     ]
    },
    {
     "name": "stderr",
     "output_type": "stream",
     "text": [
      "2024/09/28 19:04:06 WARNING mlflow.models.model: Input example should be provided to infer model signature if the model signature is not provided when logging the model.\n"
     ]
    },
    {
     "name": "stdout",
     "output_type": "stream",
     "text": [
      "3037\n"
     ]
    },
    {
     "name": "stderr",
     "output_type": "stream",
     "text": [
      "/home/azureuser/rumour-detection-pheme/utils.py:322: SettingWithCopyWarning: \n",
      "A value is trying to be set on a copy of a slice from a DataFrame.\n",
      "Try using .loc[row_indexer,col_indexer] = value instead\n",
      "\n",
      "See the caveats in the documentation: https://pandas.pydata.org/pandas-docs/stable/user_guide/indexing.html#returning-a-view-versus-a-copy\n",
      "  reply_features[['reply_followers','time_diff']] = scaler.fit_transform(reply_features[['reply_followers','time_diff']])\n"
     ]
    },
    {
     "name": "stdout",
     "output_type": "stream",
     "text": [
      "0\n",
      "Epoch:   0 | Train Loss: 1.6878 | Train Acc: 32.47% | Val Acc: 29.96%\n",
      "100\n",
      "Epoch: 100 | Train Loss: 0.3190 | Train Acc: 86.76% | Val Acc: 87.55%\n",
      "200\n",
      "Epoch: 200 | Train Loss: 0.2525 | Train Acc: 90.26% | Val Acc: 88.72%\n",
      "300\n",
      "Epoch: 300 | Train Loss: 0.1855 | Train Acc: 93.76% | Val Acc: 90.27%\n",
      "Test accuracy: 89.19%\n",
      "Test Recall: 88.67%\n",
      "Test Precision: 83.47%\n"
     ]
    },
    {
     "name": "stderr",
     "output_type": "stream",
     "text": [
      "2024/09/28 19:06:48 WARNING mlflow.models.model: Input example should be provided to infer model signature if the model signature is not provided when logging the model.\n"
     ]
    },
    {
     "name": "stdout",
     "output_type": "stream",
     "text": [
      "3047\n"
     ]
    },
    {
     "name": "stderr",
     "output_type": "stream",
     "text": [
      "/home/azureuser/rumour-detection-pheme/utils.py:322: SettingWithCopyWarning: \n",
      "A value is trying to be set on a copy of a slice from a DataFrame.\n",
      "Try using .loc[row_indexer,col_indexer] = value instead\n",
      "\n",
      "See the caveats in the documentation: https://pandas.pydata.org/pandas-docs/stable/user_guide/indexing.html#returning-a-view-versus-a-copy\n",
      "  reply_features[['reply_followers','time_diff']] = scaler.fit_transform(reply_features[['reply_followers','time_diff']])\n"
     ]
    },
    {
     "name": "stdout",
     "output_type": "stream",
     "text": [
      "0\n",
      "Epoch:   0 | Train Loss: 0.7868 | Train Acc: 50.50% | Val Acc: 52.90%\n",
      "100\n",
      "Epoch: 100 | Train Loss: 0.2769 | Train Acc: 88.91% | Val Acc: 85.71%\n",
      "200\n",
      "Epoch: 200 | Train Loss: 0.1742 | Train Acc: 92.80% | Val Acc: 87.64%\n",
      "300\n",
      "Epoch: 300 | Train Loss: 0.1107 | Train Acc: 95.70% | Val Acc: 88.03%\n",
      "Test accuracy: 90.00%\n",
      "Test Recall: 80.61%\n",
      "Test Precision: 84.58%\n"
     ]
    },
    {
     "name": "stderr",
     "output_type": "stream",
     "text": [
      "2024/09/28 19:09:29 WARNING mlflow.models.model: Input example should be provided to infer model signature if the model signature is not provided when logging the model.\n"
     ]
    },
    {
     "name": "stdout",
     "output_type": "stream",
     "text": [
      "3057\n"
     ]
    },
    {
     "name": "stderr",
     "output_type": "stream",
     "text": [
      "/home/azureuser/rumour-detection-pheme/utils.py:322: SettingWithCopyWarning: \n",
      "A value is trying to be set on a copy of a slice from a DataFrame.\n",
      "Try using .loc[row_indexer,col_indexer] = value instead\n",
      "\n",
      "See the caveats in the documentation: https://pandas.pydata.org/pandas-docs/stable/user_guide/indexing.html#returning-a-view-versus-a-copy\n",
      "  reply_features[['reply_followers','time_diff']] = scaler.fit_transform(reply_features[['reply_followers','time_diff']])\n"
     ]
    },
    {
     "name": "stdout",
     "output_type": "stream",
     "text": [
      "0\n",
      "Epoch:   0 | Train Loss: 0.7587 | Train Acc: 68.69% | Val Acc: 72.69%\n",
      "100\n",
      "Epoch: 100 | Train Loss: 0.2770 | Train Acc: 88.74% | Val Acc: 85.38%\n",
      "200\n",
      "Epoch: 200 | Train Loss: 0.1931 | Train Acc: 92.69% | Val Acc: 87.31%\n",
      "300\n",
      "Epoch: 300 | Train Loss: 0.1399 | Train Acc: 95.48% | Val Acc: 88.08%\n",
      "Test accuracy: 89.31%\n",
      "Test Recall: 83.87%\n",
      "Test Precision: 82.28%\n"
     ]
    },
    {
     "name": "stderr",
     "output_type": "stream",
     "text": [
      "2024/09/28 19:12:12 WARNING mlflow.models.model: Input example should be provided to infer model signature if the model signature is not provided when logging the model.\n"
     ]
    },
    {
     "name": "stdout",
     "output_type": "stream",
     "text": [
      "3067\n"
     ]
    },
    {
     "name": "stderr",
     "output_type": "stream",
     "text": [
      "/home/azureuser/rumour-detection-pheme/utils.py:322: SettingWithCopyWarning: \n",
      "A value is trying to be set on a copy of a slice from a DataFrame.\n",
      "Try using .loc[row_indexer,col_indexer] = value instead\n",
      "\n",
      "See the caveats in the documentation: https://pandas.pydata.org/pandas-docs/stable/user_guide/indexing.html#returning-a-view-versus-a-copy\n",
      "  reply_features[['reply_followers','time_diff']] = scaler.fit_transform(reply_features[['reply_followers','time_diff']])\n"
     ]
    },
    {
     "name": "stdout",
     "output_type": "stream",
     "text": [
      "0\n",
      "Epoch:   0 | Train Loss: 0.8088 | Train Acc: 38.88% | Val Acc: 34.98%\n",
      "100\n",
      "Epoch: 100 | Train Loss: 0.2973 | Train Acc: 87.94% | Val Acc: 85.93%\n",
      "200\n",
      "Epoch: 200 | Train Loss: 0.2086 | Train Acc: 92.01% | Val Acc: 87.83%\n",
      "300\n",
      "Epoch: 300 | Train Loss: 0.1406 | Train Acc: 96.09% | Val Acc: 87.83%\n",
      "Test accuracy: 90.53%\n",
      "Test Recall: 83.16%\n",
      "Test Precision: 84.60%\n"
     ]
    },
    {
     "name": "stderr",
     "output_type": "stream",
     "text": [
      "2024/09/28 19:14:51 WARNING mlflow.models.model: Input example should be provided to infer model signature if the model signature is not provided when logging the model.\n"
     ]
    },
    {
     "name": "stdout",
     "output_type": "stream",
     "text": [
      "3077\n"
     ]
    },
    {
     "name": "stderr",
     "output_type": "stream",
     "text": [
      "/home/azureuser/rumour-detection-pheme/utils.py:322: SettingWithCopyWarning: \n",
      "A value is trying to be set on a copy of a slice from a DataFrame.\n",
      "Try using .loc[row_indexer,col_indexer] = value instead\n",
      "\n",
      "See the caveats in the documentation: https://pandas.pydata.org/pandas-docs/stable/user_guide/indexing.html#returning-a-view-versus-a-copy\n",
      "  reply_features[['reply_followers','time_diff']] = scaler.fit_transform(reply_features[['reply_followers','time_diff']])\n"
     ]
    },
    {
     "name": "stdout",
     "output_type": "stream",
     "text": [
      "0\n",
      "Epoch:   0 | Train Loss: 0.9991 | Train Acc: 24.13% | Val Acc: 25.66%\n",
      "100\n",
      "Epoch: 100 | Train Loss: 0.2927 | Train Acc: 87.89% | Val Acc: 82.64%\n",
      "200\n",
      "Epoch: 200 | Train Loss: 0.2231 | Train Acc: 91.36% | Val Acc: 83.77%\n",
      "300\n",
      "Epoch: 300 | Train Loss: 0.1419 | Train Acc: 95.56% | Val Acc: 85.28%\n",
      "Test accuracy: 88.39%\n",
      "Test Recall: 77.84%\n",
      "Test Precision: 82.17%\n"
     ]
    },
    {
     "name": "stderr",
     "output_type": "stream",
     "text": [
      "2024/09/28 19:17:36 WARNING mlflow.models.model: Input example should be provided to infer model signature if the model signature is not provided when logging the model.\n"
     ]
    },
    {
     "name": "stdout",
     "output_type": "stream",
     "text": [
      "3087\n"
     ]
    },
    {
     "name": "stderr",
     "output_type": "stream",
     "text": [
      "/home/azureuser/rumour-detection-pheme/utils.py:322: SettingWithCopyWarning: \n",
      "A value is trying to be set on a copy of a slice from a DataFrame.\n",
      "Try using .loc[row_indexer,col_indexer] = value instead\n",
      "\n",
      "See the caveats in the documentation: https://pandas.pydata.org/pandas-docs/stable/user_guide/indexing.html#returning-a-view-versus-a-copy\n",
      "  reply_features[['reply_followers','time_diff']] = scaler.fit_transform(reply_features[['reply_followers','time_diff']])\n"
     ]
    },
    {
     "name": "stdout",
     "output_type": "stream",
     "text": [
      "0\n",
      "Epoch:   0 | Train Loss: 0.7750 | Train Acc: 71.79% | Val Acc: 70.04%\n",
      "100\n",
      "Epoch: 100 | Train Loss: 0.3216 | Train Acc: 87.10% | Val Acc: 83.90%\n",
      "200\n",
      "Epoch: 200 | Train Loss: 0.2418 | Train Acc: 90.38% | Val Acc: 86.14%\n",
      "300\n",
      "Epoch: 300 | Train Loss: 0.1615 | Train Acc: 94.15% | Val Acc: 87.27%\n",
      "Test accuracy: 87.31%\n",
      "Test Recall: 83.25%\n",
      "Test Precision: 81.59%\n"
     ]
    },
    {
     "name": "stderr",
     "output_type": "stream",
     "text": [
      "2024/09/28 19:20:15 WARNING mlflow.models.model: Input example should be provided to infer model signature if the model signature is not provided when logging the model.\n"
     ]
    },
    {
     "name": "stdout",
     "output_type": "stream",
     "text": [
      "3097\n"
     ]
    },
    {
     "name": "stderr",
     "output_type": "stream",
     "text": [
      "/home/azureuser/rumour-detection-pheme/utils.py:322: SettingWithCopyWarning: \n",
      "A value is trying to be set on a copy of a slice from a DataFrame.\n",
      "Try using .loc[row_indexer,col_indexer] = value instead\n",
      "\n",
      "See the caveats in the documentation: https://pandas.pydata.org/pandas-docs/stable/user_guide/indexing.html#returning-a-view-versus-a-copy\n",
      "  reply_features[['reply_followers','time_diff']] = scaler.fit_transform(reply_features[['reply_followers','time_diff']])\n"
     ]
    },
    {
     "name": "stdout",
     "output_type": "stream",
     "text": [
      "0\n",
      "Epoch:   0 | Train Loss: 1.0654 | Train Acc: 21.89% | Val Acc: 20.07%\n",
      "100\n",
      "Epoch: 100 | Train Loss: 0.2937 | Train Acc: 88.54% | Val Acc: 86.99%\n",
      "200\n",
      "Epoch: 200 | Train Loss: 0.2184 | Train Acc: 91.96% | Val Acc: 86.25%\n",
      "300\n",
      "Epoch: 300 | Train Loss: 0.1323 | Train Acc: 95.38% | Val Acc: 86.62%\n",
      "Test accuracy: 88.15%\n",
      "Test Recall: 87.08%\n",
      "Test Precision: 80.98%\n"
     ]
    },
    {
     "name": "stderr",
     "output_type": "stream",
     "text": [
      "2024/09/28 19:22:57 WARNING mlflow.models.model: Input example should be provided to infer model signature if the model signature is not provided when logging the model.\n"
     ]
    },
    {
     "name": "stdout",
     "output_type": "stream",
     "text": [
      "3107\n"
     ]
    },
    {
     "name": "stderr",
     "output_type": "stream",
     "text": [
      "/home/azureuser/rumour-detection-pheme/utils.py:322: SettingWithCopyWarning: \n",
      "A value is trying to be set on a copy of a slice from a DataFrame.\n",
      "Try using .loc[row_indexer,col_indexer] = value instead\n",
      "\n",
      "See the caveats in the documentation: https://pandas.pydata.org/pandas-docs/stable/user_guide/indexing.html#returning-a-view-versus-a-copy\n",
      "  reply_features[['reply_followers','time_diff']] = scaler.fit_transform(reply_features[['reply_followers','time_diff']])\n"
     ]
    },
    {
     "name": "stdout",
     "output_type": "stream",
     "text": [
      "0\n",
      "Epoch:   0 | Train Loss: 0.6796 | Train Acc: 74.60% | Val Acc: 75.93%\n",
      "100\n",
      "Epoch: 100 | Train Loss: 0.2886 | Train Acc: 88.25% | Val Acc: 84.44%\n",
      "200\n",
      "Epoch: 200 | Train Loss: 0.1719 | Train Acc: 94.52% | Val Acc: 87.41%\n",
      "300\n",
      "Epoch: 300 | Train Loss: 0.0719 | Train Acc: 97.94% | Val Acc: 88.15%\n",
      "Test accuracy: 88.93%\n",
      "Test Recall: 83.10%\n",
      "Test Precision: 83.10%\n"
     ]
    },
    {
     "name": "stderr",
     "output_type": "stream",
     "text": [
      "2024/09/28 19:25:39 WARNING mlflow.models.model: Input example should be provided to infer model signature if the model signature is not provided when logging the model.\n"
     ]
    },
    {
     "name": "stdout",
     "output_type": "stream",
     "text": [
      "3117\n"
     ]
    },
    {
     "name": "stderr",
     "output_type": "stream",
     "text": [
      "/home/azureuser/rumour-detection-pheme/utils.py:322: SettingWithCopyWarning: \n",
      "A value is trying to be set on a copy of a slice from a DataFrame.\n",
      "Try using .loc[row_indexer,col_indexer] = value instead\n",
      "\n",
      "See the caveats in the documentation: https://pandas.pydata.org/pandas-docs/stable/user_guide/indexing.html#returning-a-view-versus-a-copy\n",
      "  reply_features[['reply_followers','time_diff']] = scaler.fit_transform(reply_features[['reply_followers','time_diff']])\n"
     ]
    },
    {
     "name": "stdout",
     "output_type": "stream",
     "text": [
      "0\n",
      "Epoch:   0 | Train Loss: 0.7594 | Train Acc: 74.74% | Val Acc: 79.70%\n",
      "100\n",
      "Epoch: 100 | Train Loss: 0.3111 | Train Acc: 88.16% | Val Acc: 86.72%\n",
      "200\n",
      "Epoch: 200 | Train Loss: 0.1989 | Train Acc: 92.11% | Val Acc: 88.56%\n",
      "300\n",
      "Epoch: 300 | Train Loss: 0.1591 | Train Acc: 95.26% | Val Acc: 90.41%\n",
      "Test accuracy: 87.87%\n",
      "Test Recall: 83.23%\n",
      "Test Precision: 82.58%\n"
     ]
    },
    {
     "name": "stderr",
     "output_type": "stream",
     "text": [
      "2024/09/28 19:28:18 WARNING mlflow.models.model: Input example should be provided to infer model signature if the model signature is not provided when logging the model.\n"
     ]
    },
    {
     "name": "stdout",
     "output_type": "stream",
     "text": [
      "3127\n"
     ]
    },
    {
     "name": "stderr",
     "output_type": "stream",
     "text": [
      "/home/azureuser/rumour-detection-pheme/utils.py:322: SettingWithCopyWarning: \n",
      "A value is trying to be set on a copy of a slice from a DataFrame.\n",
      "Try using .loc[row_indexer,col_indexer] = value instead\n",
      "\n",
      "See the caveats in the documentation: https://pandas.pydata.org/pandas-docs/stable/user_guide/indexing.html#returning-a-view-versus-a-copy\n",
      "  reply_features[['reply_followers','time_diff']] = scaler.fit_transform(reply_features[['reply_followers','time_diff']])\n"
     ]
    },
    {
     "name": "stdout",
     "output_type": "stream",
     "text": [
      "0\n",
      "Epoch:   0 | Train Loss: 0.7377 | Train Acc: 78.60% | Val Acc: 75.00%\n",
      "100\n",
      "Epoch: 100 | Train Loss: 0.2860 | Train Acc: 88.51% | Val Acc: 82.72%\n",
      "200\n",
      "Epoch: 200 | Train Loss: 0.1742 | Train Acc: 93.31% | Val Acc: 83.46%\n",
      "300\n",
      "Epoch: 300 | Train Loss: 0.1150 | Train Acc: 96.07% | Val Acc: 84.93%\n",
      "Test accuracy: 88.32%\n",
      "Test Recall: 79.15%\n",
      "Test Precision: 83.74%\n"
     ]
    },
    {
     "name": "stderr",
     "output_type": "stream",
     "text": [
      "2024/09/28 19:30:59 WARNING mlflow.models.model: Input example should be provided to infer model signature if the model signature is not provided when logging the model.\n"
     ]
    },
    {
     "name": "stdout",
     "output_type": "stream",
     "text": [
      "3137\n"
     ]
    },
    {
     "name": "stderr",
     "output_type": "stream",
     "text": [
      "/home/azureuser/rumour-detection-pheme/utils.py:322: SettingWithCopyWarning: \n",
      "A value is trying to be set on a copy of a slice from a DataFrame.\n",
      "Try using .loc[row_indexer,col_indexer] = value instead\n",
      "\n",
      "See the caveats in the documentation: https://pandas.pydata.org/pandas-docs/stable/user_guide/indexing.html#returning-a-view-versus-a-copy\n",
      "  reply_features[['reply_followers','time_diff']] = scaler.fit_transform(reply_features[['reply_followers','time_diff']])\n"
     ]
    },
    {
     "name": "stdout",
     "output_type": "stream",
     "text": [
      "0\n",
      "Epoch:   0 | Train Loss: 0.7741 | Train Acc: 77.93% | Val Acc: 77.01%\n",
      "100\n",
      "Epoch: 100 | Train Loss: 0.2903 | Train Acc: 87.87% | Val Acc: 86.50%\n",
      "200\n",
      "Epoch: 200 | Train Loss: 0.2114 | Train Acc: 92.80% | Val Acc: 87.59%\n",
      "300\n",
      "Epoch: 300 | Train Loss: 0.1262 | Train Acc: 96.01% | Val Acc: 86.86%\n",
      "Test accuracy: 87.64%\n",
      "Test Recall: 82.78%\n",
      "Test Precision: 80.00%\n"
     ]
    },
    {
     "name": "stderr",
     "output_type": "stream",
     "text": [
      "2024/09/28 19:33:52 WARNING mlflow.models.model: Input example should be provided to infer model signature if the model signature is not provided when logging the model.\n"
     ]
    },
    {
     "name": "stdout",
     "output_type": "stream",
     "text": [
      "3147\n"
     ]
    },
    {
     "name": "stderr",
     "output_type": "stream",
     "text": [
      "/home/azureuser/rumour-detection-pheme/utils.py:322: SettingWithCopyWarning: \n",
      "A value is trying to be set on a copy of a slice from a DataFrame.\n",
      "Try using .loc[row_indexer,col_indexer] = value instead\n",
      "\n",
      "See the caveats in the documentation: https://pandas.pydata.org/pandas-docs/stable/user_guide/indexing.html#returning-a-view-versus-a-copy\n",
      "  reply_features[['reply_followers','time_diff']] = scaler.fit_transform(reply_features[['reply_followers','time_diff']])\n"
     ]
    },
    {
     "name": "stdout",
     "output_type": "stream",
     "text": [
      "0\n",
      "Epoch:   0 | Train Loss: 0.7180 | Train Acc: 73.97% | Val Acc: 72.73%\n",
      "100\n",
      "Epoch: 100 | Train Loss: 0.3065 | Train Acc: 87.88% | Val Acc: 85.45%\n",
      "200\n",
      "Epoch: 200 | Train Loss: 0.2001 | Train Acc: 91.92% | Val Acc: 86.55%\n",
      "300\n",
      "Epoch: 300 | Train Loss: 0.1339 | Train Acc: 95.49% | Val Acc: 84.73%\n",
      "Test accuracy: 85.20%\n",
      "Test Recall: 77.90%\n",
      "Test Precision: 79.87%\n"
     ]
    },
    {
     "name": "stderr",
     "output_type": "stream",
     "text": [
      "2024/09/28 19:36:39 WARNING mlflow.models.model: Input example should be provided to infer model signature if the model signature is not provided when logging the model.\n"
     ]
    },
    {
     "name": "stdout",
     "output_type": "stream",
     "text": [
      "3157\n"
     ]
    },
    {
     "name": "stderr",
     "output_type": "stream",
     "text": [
      "/home/azureuser/rumour-detection-pheme/utils.py:322: SettingWithCopyWarning: \n",
      "A value is trying to be set on a copy of a slice from a DataFrame.\n",
      "Try using .loc[row_indexer,col_indexer] = value instead\n",
      "\n",
      "See the caveats in the documentation: https://pandas.pydata.org/pandas-docs/stable/user_guide/indexing.html#returning-a-view-versus-a-copy\n",
      "  reply_features[['reply_followers','time_diff']] = scaler.fit_transform(reply_features[['reply_followers','time_diff']])\n"
     ]
    },
    {
     "name": "stdout",
     "output_type": "stream",
     "text": [
      "0\n",
      "Epoch:   0 | Train Loss: 0.9377 | Train Acc: 50.39% | Val Acc: 50.90%\n",
      "100\n",
      "Epoch: 100 | Train Loss: 0.3040 | Train Acc: 86.84% | Val Acc: 87.00%\n",
      "200\n",
      "Epoch: 200 | Train Loss: 0.2222 | Train Acc: 91.41% | Val Acc: 89.53%\n",
      "300\n",
      "Epoch: 300 | Train Loss: 0.1238 | Train Acc: 95.28% | Val Acc: 90.61%\n",
      "Test accuracy: 87.41%\n",
      "Test Recall: 83.11%\n",
      "Test Precision: 82.68%\n"
     ]
    },
    {
     "name": "stderr",
     "output_type": "stream",
     "text": [
      "2024/09/28 19:39:27 WARNING mlflow.models.model: Input example should be provided to infer model signature if the model signature is not provided when logging the model.\n"
     ]
    },
    {
     "name": "stdout",
     "output_type": "stream",
     "text": [
      "3167\n"
     ]
    },
    {
     "name": "stderr",
     "output_type": "stream",
     "text": [
      "/home/azureuser/rumour-detection-pheme/utils.py:322: SettingWithCopyWarning: \n",
      "A value is trying to be set on a copy of a slice from a DataFrame.\n",
      "Try using .loc[row_indexer,col_indexer] = value instead\n",
      "\n",
      "See the caveats in the documentation: https://pandas.pydata.org/pandas-docs/stable/user_guide/indexing.html#returning-a-view-versus-a-copy\n",
      "  reply_features[['reply_followers','time_diff']] = scaler.fit_transform(reply_features[['reply_followers','time_diff']])\n"
     ]
    },
    {
     "name": "stdout",
     "output_type": "stream",
     "text": [
      "0\n",
      "Epoch:   0 | Train Loss: 0.8926 | Train Acc: 73.65% | Val Acc: 71.58%\n",
      "100\n",
      "Epoch: 100 | Train Loss: 0.2909 | Train Acc: 88.14% | Val Acc: 85.25%\n",
      "200\n",
      "Epoch: 200 | Train Loss: 0.1869 | Train Acc: 92.53% | Val Acc: 85.61%\n",
      "300\n",
      "Epoch: 300 | Train Loss: 0.1293 | Train Acc: 95.07% | Val Acc: 87.05%\n",
      "Test accuracy: 87.81%\n",
      "Test Recall: 79.02%\n",
      "Test Precision: 82.03%\n"
     ]
    },
    {
     "name": "stderr",
     "output_type": "stream",
     "text": [
      "2024/09/28 19:42:11 WARNING mlflow.models.model: Input example should be provided to infer model signature if the model signature is not provided when logging the model.\n"
     ]
    },
    {
     "name": "stdout",
     "output_type": "stream",
     "text": [
      "3177\n"
     ]
    },
    {
     "name": "stderr",
     "output_type": "stream",
     "text": [
      "/home/azureuser/rumour-detection-pheme/utils.py:322: SettingWithCopyWarning: \n",
      "A value is trying to be set on a copy of a slice from a DataFrame.\n",
      "Try using .loc[row_indexer,col_indexer] = value instead\n",
      "\n",
      "See the caveats in the documentation: https://pandas.pydata.org/pandas-docs/stable/user_guide/indexing.html#returning-a-view-versus-a-copy\n",
      "  reply_features[['reply_followers','time_diff']] = scaler.fit_transform(reply_features[['reply_followers','time_diff']])\n"
     ]
    },
    {
     "name": "stdout",
     "output_type": "stream",
     "text": [
      "0\n",
      "Epoch:   0 | Train Loss: 1.4986 | Train Acc: 25.55% | Val Acc: 24.64%\n",
      "100\n",
      "Epoch: 100 | Train Loss: 0.3077 | Train Acc: 86.58% | Val Acc: 85.36%\n",
      "200\n",
      "Epoch: 200 | Train Loss: 0.2640 | Train Acc: 90.24% | Val Acc: 87.50%\n",
      "300\n",
      "Epoch: 300 | Train Loss: 0.1804 | Train Acc: 93.36% | Val Acc: 87.86%\n",
      "Test accuracy: 90.07%\n",
      "Test Recall: 79.74%\n",
      "Test Precision: 87.46%\n"
     ]
    },
    {
     "name": "stderr",
     "output_type": "stream",
     "text": [
      "2024/09/28 19:44:59 WARNING mlflow.models.model: Input example should be provided to infer model signature if the model signature is not provided when logging the model.\n"
     ]
    },
    {
     "name": "stdout",
     "output_type": "stream",
     "text": [
      "3187\n"
     ]
    },
    {
     "name": "stderr",
     "output_type": "stream",
     "text": [
      "/home/azureuser/rumour-detection-pheme/utils.py:322: SettingWithCopyWarning: \n",
      "A value is trying to be set on a copy of a slice from a DataFrame.\n",
      "Try using .loc[row_indexer,col_indexer] = value instead\n",
      "\n",
      "See the caveats in the documentation: https://pandas.pydata.org/pandas-docs/stable/user_guide/indexing.html#returning-a-view-versus-a-copy\n",
      "  reply_features[['reply_followers','time_diff']] = scaler.fit_transform(reply_features[['reply_followers','time_diff']])\n"
     ]
    },
    {
     "name": "stdout",
     "output_type": "stream",
     "text": [
      "0\n",
      "Epoch:   0 | Train Loss: 0.6929 | Train Acc: 79.27% | Val Acc: 75.27%\n",
      "100\n",
      "Epoch: 100 | Train Loss: 0.3251 | Train Acc: 85.85% | Val Acc: 85.87%\n",
      "200\n",
      "Epoch: 200 | Train Loss: 0.2230 | Train Acc: 90.32% | Val Acc: 87.63%\n",
      "300\n",
      "Epoch: 300 | Train Loss: 0.1509 | Train Acc: 94.18% | Val Acc: 88.34%\n",
      "Test accuracy: 89.44%\n",
      "Test Recall: 80.10%\n",
      "Test Precision: 87.69%\n"
     ]
    },
    {
     "name": "stderr",
     "output_type": "stream",
     "text": [
      "2024/09/28 19:47:49 WARNING mlflow.models.model: Input example should be provided to infer model signature if the model signature is not provided when logging the model.\n"
     ]
    },
    {
     "name": "stdout",
     "output_type": "stream",
     "text": [
      "3197\n"
     ]
    },
    {
     "name": "stderr",
     "output_type": "stream",
     "text": [
      "/home/azureuser/rumour-detection-pheme/utils.py:322: SettingWithCopyWarning: \n",
      "A value is trying to be set on a copy of a slice from a DataFrame.\n",
      "Try using .loc[row_indexer,col_indexer] = value instead\n",
      "\n",
      "See the caveats in the documentation: https://pandas.pydata.org/pandas-docs/stable/user_guide/indexing.html#returning-a-view-versus-a-copy\n",
      "  reply_features[['reply_followers','time_diff']] = scaler.fit_transform(reply_features[['reply_followers','time_diff']])\n"
     ]
    },
    {
     "name": "stdout",
     "output_type": "stream",
     "text": [
      "0\n",
      "Epoch:   0 | Train Loss: 0.6973 | Train Acc: 70.28% | Val Acc: 70.49%\n",
      "100\n",
      "Epoch: 100 | Train Loss: 0.3031 | Train Acc: 87.00% | Val Acc: 85.76%\n",
      "200\n",
      "Epoch: 200 | Train Loss: 0.2155 | Train Acc: 91.98% | Val Acc: 84.72%\n",
      "300\n",
      "Epoch: 300 | Train Loss: 0.1525 | Train Acc: 95.62% | Val Acc: 83.68%\n",
      "Test accuracy: 83.04%\n",
      "Test Recall: 77.16%\n",
      "Test Precision: 77.02%\n"
     ]
    },
    {
     "name": "stderr",
     "output_type": "stream",
     "text": [
      "2024/09/28 19:50:36 WARNING mlflow.models.model: Input example should be provided to infer model signature if the model signature is not provided when logging the model.\n"
     ]
    },
    {
     "name": "stdout",
     "output_type": "stream",
     "text": [
      "3207\n"
     ]
    },
    {
     "name": "stderr",
     "output_type": "stream",
     "text": [
      "/home/azureuser/rumour-detection-pheme/utils.py:322: SettingWithCopyWarning: \n",
      "A value is trying to be set on a copy of a slice from a DataFrame.\n",
      "Try using .loc[row_indexer,col_indexer] = value instead\n",
      "\n",
      "See the caveats in the documentation: https://pandas.pydata.org/pandas-docs/stable/user_guide/indexing.html#returning-a-view-versus-a-copy\n",
      "  reply_features[['reply_followers','time_diff']] = scaler.fit_transform(reply_features[['reply_followers','time_diff']])\n"
     ]
    },
    {
     "name": "stdout",
     "output_type": "stream",
     "text": [
      "0\n",
      "Epoch:   0 | Train Loss: 0.7213 | Train Acc: 77.11% | Val Acc: 78.91%\n",
      "100\n",
      "Epoch: 100 | Train Loss: 0.3074 | Train Acc: 86.22% | Val Acc: 83.33%\n",
      "200\n",
      "Epoch: 200 | Train Loss: 0.2151 | Train Acc: 90.82% | Val Acc: 83.33%\n",
      "300\n",
      "Epoch: 300 | Train Loss: 0.1581 | Train Acc: 94.17% | Val Acc: 86.05%\n",
      "Test accuracy: 87.41%\n",
      "Test Recall: 80.92%\n",
      "Test Precision: 81.10%\n"
     ]
    },
    {
     "name": "stderr",
     "output_type": "stream",
     "text": [
      "2024/09/28 19:53:20 WARNING mlflow.models.model: Input example should be provided to infer model signature if the model signature is not provided when logging the model.\n"
     ]
    },
    {
     "name": "stdout",
     "output_type": "stream",
     "text": [
      "3217\n"
     ]
    },
    {
     "name": "stderr",
     "output_type": "stream",
     "text": [
      "/home/azureuser/rumour-detection-pheme/utils.py:322: SettingWithCopyWarning: \n",
      "A value is trying to be set on a copy of a slice from a DataFrame.\n",
      "Try using .loc[row_indexer,col_indexer] = value instead\n",
      "\n",
      "See the caveats in the documentation: https://pandas.pydata.org/pandas-docs/stable/user_guide/indexing.html#returning-a-view-versus-a-copy\n",
      "  reply_features[['reply_followers','time_diff']] = scaler.fit_transform(reply_features[['reply_followers','time_diff']])\n"
     ]
    },
    {
     "name": "stdout",
     "output_type": "stream",
     "text": [
      "0\n",
      "Epoch:   0 | Train Loss: 0.6147 | Train Acc: 77.79% | Val Acc: 75.67%\n",
      "100\n",
      "Epoch: 100 | Train Loss: 0.3213 | Train Acc: 85.14% | Val Acc: 85.00%\n",
      "200\n",
      "Epoch: 200 | Train Loss: 0.2146 | Train Acc: 91.14% | Val Acc: 87.00%\n",
      "300\n",
      "Epoch: 300 | Train Loss: 0.1255 | Train Acc: 96.00% | Val Acc: 85.00%\n",
      "Test accuracy: 86.05%\n",
      "Test Recall: 79.40%\n",
      "Test Precision: 78.52%\n"
     ]
    },
    {
     "name": "stderr",
     "output_type": "stream",
     "text": [
      "2024/09/28 19:56:15 WARNING mlflow.models.model: Input example should be provided to infer model signature if the model signature is not provided when logging the model.\n"
     ]
    },
    {
     "name": "stdout",
     "output_type": "stream",
     "text": [
      "3227\n"
     ]
    },
    {
     "name": "stderr",
     "output_type": "stream",
     "text": [
      "/home/azureuser/rumour-detection-pheme/utils.py:322: SettingWithCopyWarning: \n",
      "A value is trying to be set on a copy of a slice from a DataFrame.\n",
      "Try using .loc[row_indexer,col_indexer] = value instead\n",
      "\n",
      "See the caveats in the documentation: https://pandas.pydata.org/pandas-docs/stable/user_guide/indexing.html#returning-a-view-versus-a-copy\n",
      "  reply_features[['reply_followers','time_diff']] = scaler.fit_transform(reply_features[['reply_followers','time_diff']])\n"
     ]
    },
    {
     "name": "stdout",
     "output_type": "stream",
     "text": [
      "0\n",
      "Epoch:   0 | Train Loss: 0.7674 | Train Acc: 72.14% | Val Acc: 68.33%\n",
      "100\n",
      "Epoch: 100 | Train Loss: 0.3334 | Train Acc: 84.71% | Val Acc: 84.67%\n",
      "200\n",
      "Epoch: 200 | Train Loss: 0.2514 | Train Acc: 89.64% | Val Acc: 88.67%\n",
      "300\n",
      "Epoch: 300 | Train Loss: 0.1503 | Train Acc: 94.64% | Val Acc: 88.33%\n",
      "Test accuracy: 85.05%\n",
      "Test Recall: 80.21%\n",
      "Test Precision: 81.02%\n"
     ]
    },
    {
     "name": "stderr",
     "output_type": "stream",
     "text": [
      "2024/09/28 19:59:10 WARNING mlflow.models.model: Input example should be provided to infer model signature if the model signature is not provided when logging the model.\n"
     ]
    },
    {
     "name": "stdout",
     "output_type": "stream",
     "text": [
      "3237\n"
     ]
    },
    {
     "name": "stderr",
     "output_type": "stream",
     "text": [
      "/home/azureuser/rumour-detection-pheme/utils.py:322: SettingWithCopyWarning: \n",
      "A value is trying to be set on a copy of a slice from a DataFrame.\n",
      "Try using .loc[row_indexer,col_indexer] = value instead\n",
      "\n",
      "See the caveats in the documentation: https://pandas.pydata.org/pandas-docs/stable/user_guide/indexing.html#returning-a-view-versus-a-copy\n",
      "  reply_features[['reply_followers','time_diff']] = scaler.fit_transform(reply_features[['reply_followers','time_diff']])\n"
     ]
    },
    {
     "name": "stdout",
     "output_type": "stream",
     "text": [
      "0\n",
      "Epoch:   0 | Train Loss: 0.9630 | Train Acc: 70.93% | Val Acc: 70.67%\n",
      "100\n",
      "Epoch: 100 | Train Loss: 0.3568 | Train Acc: 84.43% | Val Acc: 84.67%\n",
      "200\n",
      "Epoch: 200 | Train Loss: 0.2556 | Train Acc: 89.64% | Val Acc: 89.33%\n",
      "300\n",
      "Epoch: 300 | Train Loss: 0.1734 | Train Acc: 93.57% | Val Acc: 88.33%\n",
      "Test accuracy: 82.39%\n",
      "Test Recall: 81.08%\n",
      "Test Precision: 80.23%\n"
     ]
    },
    {
     "name": "stderr",
     "output_type": "stream",
     "text": [
      "2024/09/28 20:02:07 WARNING mlflow.models.model: Input example should be provided to infer model signature if the model signature is not provided when logging the model.\n"
     ]
    },
    {
     "name": "stdout",
     "output_type": "stream",
     "text": [
      "3247\n"
     ]
    },
    {
     "name": "stderr",
     "output_type": "stream",
     "text": [
      "/home/azureuser/rumour-detection-pheme/utils.py:322: SettingWithCopyWarning: \n",
      "A value is trying to be set on a copy of a slice from a DataFrame.\n",
      "Try using .loc[row_indexer,col_indexer] = value instead\n",
      "\n",
      "See the caveats in the documentation: https://pandas.pydata.org/pandas-docs/stable/user_guide/indexing.html#returning-a-view-versus-a-copy\n",
      "  reply_features[['reply_followers','time_diff']] = scaler.fit_transform(reply_features[['reply_followers','time_diff']])\n"
     ]
    },
    {
     "name": "stdout",
     "output_type": "stream",
     "text": [
      "0\n",
      "Epoch:   0 | Train Loss: 0.8380 | Train Acc: 29.50% | Val Acc: 30.00%\n",
      "100\n",
      "Epoch: 100 | Train Loss: 0.3290 | Train Acc: 85.50% | Val Acc: 83.00%\n",
      "200\n",
      "Epoch: 200 | Train Loss: 0.2267 | Train Acc: 90.64% | Val Acc: 81.67%\n",
      "300\n",
      "Epoch: 300 | Train Loss: 0.1438 | Train Acc: 95.00% | Val Acc: 81.33%\n",
      "Test accuracy: 90.70%\n",
      "Test Recall: 76.69%\n",
      "Test Precision: 81.08%\n"
     ]
    },
    {
     "name": "stderr",
     "output_type": "stream",
     "text": [
      "2024/09/28 20:04:57 WARNING mlflow.models.model: Input example should be provided to infer model signature if the model signature is not provided when logging the model.\n"
     ]
    },
    {
     "name": "stdout",
     "output_type": "stream",
     "text": [
      "3257\n"
     ]
    },
    {
     "name": "stderr",
     "output_type": "stream",
     "text": [
      "/home/azureuser/rumour-detection-pheme/utils.py:322: SettingWithCopyWarning: \n",
      "A value is trying to be set on a copy of a slice from a DataFrame.\n",
      "Try using .loc[row_indexer,col_indexer] = value instead\n",
      "\n",
      "See the caveats in the documentation: https://pandas.pydata.org/pandas-docs/stable/user_guide/indexing.html#returning-a-view-versus-a-copy\n",
      "  reply_features[['reply_followers','time_diff']] = scaler.fit_transform(reply_features[['reply_followers','time_diff']])\n"
     ]
    },
    {
     "name": "stdout",
     "output_type": "stream",
     "text": [
      "0\n",
      "Epoch:   0 | Train Loss: 1.1341 | Train Acc: 25.43% | Val Acc: 23.67%\n",
      "100\n",
      "Epoch: 100 | Train Loss: 0.3467 | Train Acc: 84.21% | Val Acc: 86.00%\n",
      "200\n",
      "Epoch: 200 | Train Loss: 0.2959 | Train Acc: 86.93% | Val Acc: 87.33%\n",
      "300\n",
      "Epoch: 300 | Train Loss: 0.2295 | Train Acc: 90.29% | Val Acc: 88.67%\n",
      "Test accuracy: 89.37%\n",
      "Test Recall: 81.91%\n",
      "Test Precision: 82.71%\n"
     ]
    },
    {
     "name": "stderr",
     "output_type": "stream",
     "text": [
      "2024/09/28 20:07:53 WARNING mlflow.models.model: Input example should be provided to infer model signature if the model signature is not provided when logging the model.\n"
     ]
    },
    {
     "name": "stdout",
     "output_type": "stream",
     "text": [
      "3267\n"
     ]
    },
    {
     "name": "stderr",
     "output_type": "stream",
     "text": [
      "/home/azureuser/rumour-detection-pheme/utils.py:322: SettingWithCopyWarning: \n",
      "A value is trying to be set on a copy of a slice from a DataFrame.\n",
      "Try using .loc[row_indexer,col_indexer] = value instead\n",
      "\n",
      "See the caveats in the documentation: https://pandas.pydata.org/pandas-docs/stable/user_guide/indexing.html#returning-a-view-versus-a-copy\n",
      "  reply_features[['reply_followers','time_diff']] = scaler.fit_transform(reply_features[['reply_followers','time_diff']])\n"
     ]
    },
    {
     "name": "stdout",
     "output_type": "stream",
     "text": [
      "0\n",
      "Epoch:   0 | Train Loss: 0.8148 | Train Acc: 69.07% | Val Acc: 66.67%\n",
      "100\n",
      "Epoch: 100 | Train Loss: 0.3125 | Train Acc: 86.21% | Val Acc: 83.00%\n",
      "200\n",
      "Epoch: 200 | Train Loss: 0.2179 | Train Acc: 90.29% | Val Acc: 86.00%\n",
      "300\n",
      "Epoch: 300 | Train Loss: 0.1598 | Train Acc: 93.29% | Val Acc: 85.67%\n",
      "Test accuracy: 85.05%\n",
      "Test Recall: 80.87%\n",
      "Test Precision: 79.58%\n"
     ]
    },
    {
     "name": "stderr",
     "output_type": "stream",
     "text": [
      "2024/09/28 20:10:52 WARNING mlflow.models.model: Input example should be provided to infer model signature if the model signature is not provided when logging the model.\n"
     ]
    },
    {
     "name": "stdout",
     "output_type": "stream",
     "text": [
      "3277\n"
     ]
    },
    {
     "name": "stderr",
     "output_type": "stream",
     "text": [
      "/home/azureuser/rumour-detection-pheme/utils.py:322: SettingWithCopyWarning: \n",
      "A value is trying to be set on a copy of a slice from a DataFrame.\n",
      "Try using .loc[row_indexer,col_indexer] = value instead\n",
      "\n",
      "See the caveats in the documentation: https://pandas.pydata.org/pandas-docs/stable/user_guide/indexing.html#returning-a-view-versus-a-copy\n",
      "  reply_features[['reply_followers','time_diff']] = scaler.fit_transform(reply_features[['reply_followers','time_diff']])\n"
     ]
    },
    {
     "name": "stdout",
     "output_type": "stream",
     "text": [
      "0\n",
      "Epoch:   0 | Train Loss: 1.8052 | Train Acc: 23.00% | Val Acc: 21.33%\n",
      "100\n",
      "Epoch: 100 | Train Loss: 0.3578 | Train Acc: 82.64% | Val Acc: 83.67%\n",
      "200\n",
      "Epoch: 200 | Train Loss: 0.3003 | Train Acc: 87.29% | Val Acc: 86.00%\n",
      "300\n",
      "Epoch: 300 | Train Loss: 0.2279 | Train Acc: 91.43% | Val Acc: 87.33%\n",
      "Test accuracy: 88.37%\n",
      "Test Recall: 82.48%\n",
      "Test Precision: 80.90%\n"
     ]
    },
    {
     "name": "stderr",
     "output_type": "stream",
     "text": [
      "2024/09/28 20:13:51 WARNING mlflow.models.model: Input example should be provided to infer model signature if the model signature is not provided when logging the model.\n"
     ]
    },
    {
     "name": "stdout",
     "output_type": "stream",
     "text": [
      "3287\n"
     ]
    },
    {
     "name": "stderr",
     "output_type": "stream",
     "text": [
      "/home/azureuser/rumour-detection-pheme/utils.py:322: SettingWithCopyWarning: \n",
      "A value is trying to be set on a copy of a slice from a DataFrame.\n",
      "Try using .loc[row_indexer,col_indexer] = value instead\n",
      "\n",
      "See the caveats in the documentation: https://pandas.pydata.org/pandas-docs/stable/user_guide/indexing.html#returning-a-view-versus-a-copy\n",
      "  reply_features[['reply_followers','time_diff']] = scaler.fit_transform(reply_features[['reply_followers','time_diff']])\n"
     ]
    },
    {
     "name": "stdout",
     "output_type": "stream",
     "text": [
      "0\n",
      "Epoch:   0 | Train Loss: 1.0667 | Train Acc: 45.71% | Val Acc: 48.67%\n",
      "100\n",
      "Epoch: 100 | Train Loss: 0.3436 | Train Acc: 85.14% | Val Acc: 84.00%\n",
      "200\n",
      "Epoch: 200 | Train Loss: 0.2392 | Train Acc: 89.79% | Val Acc: 85.00%\n",
      "300\n",
      "Epoch: 300 | Train Loss: 0.1607 | Train Acc: 93.36% | Val Acc: 87.00%\n",
      "Test accuracy: 82.72%\n",
      "Test Recall: 75.92%\n",
      "Test Precision: 79.19%\n"
     ]
    },
    {
     "name": "stderr",
     "output_type": "stream",
     "text": [
      "2024/09/28 20:16:48 WARNING mlflow.models.model: Input example should be provided to infer model signature if the model signature is not provided when logging the model.\n"
     ]
    },
    {
     "name": "stdout",
     "output_type": "stream",
     "text": [
      "3297\n"
     ]
    },
    {
     "name": "stderr",
     "output_type": "stream",
     "text": [
      "/home/azureuser/rumour-detection-pheme/utils.py:322: SettingWithCopyWarning: \n",
      "A value is trying to be set on a copy of a slice from a DataFrame.\n",
      "Try using .loc[row_indexer,col_indexer] = value instead\n",
      "\n",
      "See the caveats in the documentation: https://pandas.pydata.org/pandas-docs/stable/user_guide/indexing.html#returning-a-view-versus-a-copy\n",
      "  reply_features[['reply_followers','time_diff']] = scaler.fit_transform(reply_features[['reply_followers','time_diff']])\n"
     ]
    },
    {
     "name": "stdout",
     "output_type": "stream",
     "text": [
      "0\n",
      "Epoch:   0 | Train Loss: 1.0757 | Train Acc: 52.86% | Val Acc: 56.00%\n",
      "100\n",
      "Epoch: 100 | Train Loss: 0.3423 | Train Acc: 83.64% | Val Acc: 83.67%\n",
      "200\n",
      "Epoch: 200 | Train Loss: 0.2606 | Train Acc: 88.21% | Val Acc: 87.67%\n",
      "300\n",
      "Epoch: 300 | Train Loss: 0.1765 | Train Acc: 93.21% | Val Acc: 89.33%\n",
      "Test accuracy: 89.37%\n",
      "Test Recall: 84.64%\n",
      "Test Precision: 85.13%\n"
     ]
    },
    {
     "name": "stderr",
     "output_type": "stream",
     "text": [
      "2024/09/28 20:19:47 WARNING mlflow.models.model: Input example should be provided to infer model signature if the model signature is not provided when logging the model.\n"
     ]
    },
    {
     "name": "stdout",
     "output_type": "stream",
     "text": [
      "3307\n"
     ]
    },
    {
     "name": "stderr",
     "output_type": "stream",
     "text": [
      "/home/azureuser/rumour-detection-pheme/utils.py:322: SettingWithCopyWarning: \n",
      "A value is trying to be set on a copy of a slice from a DataFrame.\n",
      "Try using .loc[row_indexer,col_indexer] = value instead\n",
      "\n",
      "See the caveats in the documentation: https://pandas.pydata.org/pandas-docs/stable/user_guide/indexing.html#returning-a-view-versus-a-copy\n",
      "  reply_features[['reply_followers','time_diff']] = scaler.fit_transform(reply_features[['reply_followers','time_diff']])\n"
     ]
    },
    {
     "name": "stdout",
     "output_type": "stream",
     "text": [
      "0\n",
      "Epoch:   0 | Train Loss: 0.7756 | Train Acc: 62.21% | Val Acc: 62.67%\n",
      "100\n",
      "Epoch: 100 | Train Loss: 0.3397 | Train Acc: 84.93% | Val Acc: 84.33%\n",
      "200\n",
      "Epoch: 200 | Train Loss: 0.2452 | Train Acc: 89.93% | Val Acc: 87.00%\n",
      "300\n",
      "Epoch: 300 | Train Loss: 0.1759 | Train Acc: 94.21% | Val Acc: 87.33%\n",
      "Test accuracy: 89.04%\n",
      "Test Recall: 80.97%\n",
      "Test Precision: 84.19%\n"
     ]
    },
    {
     "name": "stderr",
     "output_type": "stream",
     "text": [
      "2024/09/28 20:22:45 WARNING mlflow.models.model: Input example should be provided to infer model signature if the model signature is not provided when logging the model.\n"
     ]
    },
    {
     "name": "stdout",
     "output_type": "stream",
     "text": [
      "3317\n"
     ]
    },
    {
     "name": "stderr",
     "output_type": "stream",
     "text": [
      "/home/azureuser/rumour-detection-pheme/utils.py:322: SettingWithCopyWarning: \n",
      "A value is trying to be set on a copy of a slice from a DataFrame.\n",
      "Try using .loc[row_indexer,col_indexer] = value instead\n",
      "\n",
      "See the caveats in the documentation: https://pandas.pydata.org/pandas-docs/stable/user_guide/indexing.html#returning-a-view-versus-a-copy\n",
      "  reply_features[['reply_followers','time_diff']] = scaler.fit_transform(reply_features[['reply_followers','time_diff']])\n"
     ]
    },
    {
     "name": "stdout",
     "output_type": "stream",
     "text": [
      "0\n",
      "Epoch:   0 | Train Loss: 0.6952 | Train Acc: 71.29% | Val Acc: 73.33%\n",
      "100\n",
      "Epoch: 100 | Train Loss: 0.3383 | Train Acc: 85.50% | Val Acc: 84.00%\n",
      "200\n",
      "Epoch: 200 | Train Loss: 0.2307 | Train Acc: 89.79% | Val Acc: 85.00%\n",
      "300\n",
      "Epoch: 300 | Train Loss: 0.1379 | Train Acc: 93.93% | Val Acc: 87.33%\n",
      "Test accuracy: 87.04%\n",
      "Test Recall: 83.10%\n",
      "Test Precision: 81.12%\n"
     ]
    },
    {
     "name": "stderr",
     "output_type": "stream",
     "text": [
      "2024/09/28 20:25:45 WARNING mlflow.models.model: Input example should be provided to infer model signature if the model signature is not provided when logging the model.\n"
     ]
    },
    {
     "name": "stdout",
     "output_type": "stream",
     "text": [
      "3327\n"
     ]
    },
    {
     "name": "stderr",
     "output_type": "stream",
     "text": [
      "/home/azureuser/rumour-detection-pheme/utils.py:322: SettingWithCopyWarning: \n",
      "A value is trying to be set on a copy of a slice from a DataFrame.\n",
      "Try using .loc[row_indexer,col_indexer] = value instead\n",
      "\n",
      "See the caveats in the documentation: https://pandas.pydata.org/pandas-docs/stable/user_guide/indexing.html#returning-a-view-versus-a-copy\n",
      "  reply_features[['reply_followers','time_diff']] = scaler.fit_transform(reply_features[['reply_followers','time_diff']])\n"
     ]
    },
    {
     "name": "stdout",
     "output_type": "stream",
     "text": [
      "0\n",
      "Epoch:   0 | Train Loss: 0.7593 | Train Acc: 61.64% | Val Acc: 57.67%\n",
      "100\n",
      "Epoch: 100 | Train Loss: 0.3187 | Train Acc: 86.79% | Val Acc: 80.00%\n",
      "200\n",
      "Epoch: 200 | Train Loss: 0.2055 | Train Acc: 91.43% | Val Acc: 87.00%\n",
      "300\n",
      "Epoch: 300 | Train Loss: 0.1362 | Train Acc: 96.14% | Val Acc: 84.67%\n",
      "Test accuracy: 90.03%\n",
      "Test Recall: 79.35%\n",
      "Test Precision: 82.21%\n"
     ]
    },
    {
     "name": "stderr",
     "output_type": "stream",
     "text": [
      "2024/09/28 20:28:47 WARNING mlflow.models.model: Input example should be provided to infer model signature if the model signature is not provided when logging the model.\n"
     ]
    },
    {
     "name": "stdout",
     "output_type": "stream",
     "text": [
      "3337\n"
     ]
    },
    {
     "name": "stderr",
     "output_type": "stream",
     "text": [
      "/home/azureuser/rumour-detection-pheme/utils.py:322: SettingWithCopyWarning: \n",
      "A value is trying to be set on a copy of a slice from a DataFrame.\n",
      "Try using .loc[row_indexer,col_indexer] = value instead\n",
      "\n",
      "See the caveats in the documentation: https://pandas.pydata.org/pandas-docs/stable/user_guide/indexing.html#returning-a-view-versus-a-copy\n",
      "  reply_features[['reply_followers','time_diff']] = scaler.fit_transform(reply_features[['reply_followers','time_diff']])\n"
     ]
    },
    {
     "name": "stdout",
     "output_type": "stream",
     "text": [
      "0\n",
      "Epoch:   0 | Train Loss: 0.7073 | Train Acc: 71.93% | Val Acc: 69.67%\n",
      "100\n",
      "Epoch: 100 | Train Loss: 0.3104 | Train Acc: 86.64% | Val Acc: 79.67%\n",
      "200\n",
      "Epoch: 200 | Train Loss: 0.2073 | Train Acc: 91.21% | Val Acc: 83.67%\n",
      "300\n",
      "Epoch: 300 | Train Loss: 0.1327 | Train Acc: 95.29% | Val Acc: 84.67%\n",
      "Test accuracy: 85.71%\n",
      "Test Recall: 74.78%\n",
      "Test Precision: 83.55%\n"
     ]
    },
    {
     "name": "stderr",
     "output_type": "stream",
     "text": [
      "2024/09/28 20:31:43 WARNING mlflow.models.model: Input example should be provided to infer model signature if the model signature is not provided when logging the model.\n"
     ]
    },
    {
     "name": "stdout",
     "output_type": "stream",
     "text": [
      "3347\n"
     ]
    },
    {
     "name": "stderr",
     "output_type": "stream",
     "text": [
      "/home/azureuser/rumour-detection-pheme/utils.py:322: SettingWithCopyWarning: \n",
      "A value is trying to be set on a copy of a slice from a DataFrame.\n",
      "Try using .loc[row_indexer,col_indexer] = value instead\n",
      "\n",
      "See the caveats in the documentation: https://pandas.pydata.org/pandas-docs/stable/user_guide/indexing.html#returning-a-view-versus-a-copy\n",
      "  reply_features[['reply_followers','time_diff']] = scaler.fit_transform(reply_features[['reply_followers','time_diff']])\n"
     ]
    },
    {
     "name": "stdout",
     "output_type": "stream",
     "text": [
      "0\n",
      "Epoch:   0 | Train Loss: 1.0144 | Train Acc: 21.21% | Val Acc: 23.67%\n",
      "100\n",
      "Epoch: 100 | Train Loss: 0.3333 | Train Acc: 84.50% | Val Acc: 83.00%\n",
      "200\n",
      "Epoch: 200 | Train Loss: 0.2351 | Train Acc: 90.07% | Val Acc: 86.67%\n",
      "Test accuracy: 84.72%\n",
      "Test Recall: 77.56%\n",
      "Test Precision: 81.53%\n"
     ]
    },
    {
     "name": "stderr",
     "output_type": "stream",
     "text": [
      "2024/09/28 20:34:41 WARNING mlflow.models.model: Input example should be provided to infer model signature if the model signature is not provided when logging the model.\n"
     ]
    },
    {
     "name": "stdout",
     "output_type": "stream",
     "text": [
      "3357\n"
     ]
    },
    {
     "name": "stderr",
     "output_type": "stream",
     "text": [
      "/home/azureuser/rumour-detection-pheme/utils.py:322: SettingWithCopyWarning: \n",
      "A value is trying to be set on a copy of a slice from a DataFrame.\n",
      "Try using .loc[row_indexer,col_indexer] = value instead\n",
      "\n",
      "See the caveats in the documentation: https://pandas.pydata.org/pandas-docs/stable/user_guide/indexing.html#returning-a-view-versus-a-copy\n",
      "  reply_features[['reply_followers','time_diff']] = scaler.fit_transform(reply_features[['reply_followers','time_diff']])\n"
     ]
    },
    {
     "name": "stdout",
     "output_type": "stream",
     "text": [
      "0\n",
      "Epoch:   0 | Train Loss: 1.3751 | Train Acc: 21.57% | Val Acc: 25.33%\n",
      "100\n",
      "Epoch: 100 | Train Loss: 0.3909 | Train Acc: 82.71% | Val Acc: 81.33%\n",
      "200\n",
      "Epoch: 200 | Train Loss: 0.2621 | Train Acc: 89.00% | Val Acc: 82.00%\n",
      "300\n",
      "Epoch: 300 | Train Loss: 0.1872 | Train Acc: 93.43% | Val Acc: 83.67%\n",
      "Test accuracy: 89.70%\n",
      "Test Recall: 83.62%\n",
      "Test Precision: 82.87%\n"
     ]
    },
    {
     "name": "stderr",
     "output_type": "stream",
     "text": [
      "2024/09/28 20:37:42 WARNING mlflow.models.model: Input example should be provided to infer model signature if the model signature is not provided when logging the model.\n"
     ]
    },
    {
     "name": "stdout",
     "output_type": "stream",
     "text": [
      "3367\n"
     ]
    },
    {
     "name": "stderr",
     "output_type": "stream",
     "text": [
      "/home/azureuser/rumour-detection-pheme/utils.py:322: SettingWithCopyWarning: \n",
      "A value is trying to be set on a copy of a slice from a DataFrame.\n",
      "Try using .loc[row_indexer,col_indexer] = value instead\n",
      "\n",
      "See the caveats in the documentation: https://pandas.pydata.org/pandas-docs/stable/user_guide/indexing.html#returning-a-view-versus-a-copy\n",
      "  reply_features[['reply_followers','time_diff']] = scaler.fit_transform(reply_features[['reply_followers','time_diff']])\n"
     ]
    },
    {
     "name": "stdout",
     "output_type": "stream",
     "text": [
      "0\n",
      "Epoch:   0 | Train Loss: 0.7781 | Train Acc: 76.45% | Val Acc: 78.33%\n",
      "100\n",
      "Epoch: 100 | Train Loss: 0.3329 | Train Acc: 85.72% | Val Acc: 86.67%\n",
      "200\n",
      "Epoch: 200 | Train Loss: 0.2245 | Train Acc: 91.36% | Val Acc: 86.00%\n",
      "300\n",
      "Epoch: 300 | Train Loss: 0.1263 | Train Acc: 96.15% | Val Acc: 88.00%\n",
      "Test accuracy: 84.72%\n",
      "Test Recall: 77.53%\n",
      "Test Precision: 79.01%\n"
     ]
    },
    {
     "name": "stderr",
     "output_type": "stream",
     "text": [
      "2024/09/28 20:40:36 WARNING mlflow.models.model: Input example should be provided to infer model signature if the model signature is not provided when logging the model.\n"
     ]
    },
    {
     "name": "stdout",
     "output_type": "stream",
     "text": [
      "3377\n"
     ]
    },
    {
     "name": "stderr",
     "output_type": "stream",
     "text": [
      "/home/azureuser/rumour-detection-pheme/utils.py:322: SettingWithCopyWarning: \n",
      "A value is trying to be set on a copy of a slice from a DataFrame.\n",
      "Try using .loc[row_indexer,col_indexer] = value instead\n",
      "\n",
      "See the caveats in the documentation: https://pandas.pydata.org/pandas-docs/stable/user_guide/indexing.html#returning-a-view-versus-a-copy\n",
      "  reply_features[['reply_followers','time_diff']] = scaler.fit_transform(reply_features[['reply_followers','time_diff']])\n"
     ]
    },
    {
     "name": "stdout",
     "output_type": "stream",
     "text": [
      "0\n",
      "Epoch:   0 | Train Loss: 2.3710 | Train Acc: 23.63% | Val Acc: 20.33%\n",
      "100\n",
      "Epoch: 100 | Train Loss: 0.3837 | Train Acc: 82.37% | Val Acc: 81.33%\n",
      "200\n",
      "Epoch: 200 | Train Loss: 0.2950 | Train Acc: 86.65% | Val Acc: 84.00%\n",
      "300\n",
      "Epoch: 300 | Train Loss: 0.2539 | Train Acc: 89.94% | Val Acc: 84.33%\n",
      "Test accuracy: 90.37%\n",
      "Test Recall: 85.72%\n",
      "Test Precision: 81.32%\n"
     ]
    },
    {
     "name": "stderr",
     "output_type": "stream",
     "text": [
      "2024/09/28 20:43:33 WARNING mlflow.models.model: Input example should be provided to infer model signature if the model signature is not provided when logging the model.\n"
     ]
    },
    {
     "name": "stdout",
     "output_type": "stream",
     "text": [
      "3387\n"
     ]
    },
    {
     "name": "stderr",
     "output_type": "stream",
     "text": [
      "/home/azureuser/rumour-detection-pheme/utils.py:322: SettingWithCopyWarning: \n",
      "A value is trying to be set on a copy of a slice from a DataFrame.\n",
      "Try using .loc[row_indexer,col_indexer] = value instead\n",
      "\n",
      "See the caveats in the documentation: https://pandas.pydata.org/pandas-docs/stable/user_guide/indexing.html#returning-a-view-versus-a-copy\n",
      "  reply_features[['reply_followers','time_diff']] = scaler.fit_transform(reply_features[['reply_followers','time_diff']])\n"
     ]
    },
    {
     "name": "stdout",
     "output_type": "stream",
     "text": [
      "0\n",
      "Epoch:   0 | Train Loss: 1.6029 | Train Acc: 58.17% | Val Acc: 53.00%\n",
      "100\n",
      "Epoch: 100 | Train Loss: 0.3340 | Train Acc: 85.51% | Val Acc: 85.00%\n",
      "200\n",
      "Epoch: 200 | Train Loss: 0.2418 | Train Acc: 90.01% | Val Acc: 85.33%\n",
      "300\n",
      "Epoch: 300 | Train Loss: 0.1767 | Train Acc: 93.58% | Val Acc: 84.67%\n",
      "Test accuracy: 83.39%\n",
      "Test Recall: 78.50%\n",
      "Test Precision: 79.49%\n"
     ]
    },
    {
     "name": "stderr",
     "output_type": "stream",
     "text": [
      "2024/09/28 20:46:27 WARNING mlflow.models.model: Input example should be provided to infer model signature if the model signature is not provided when logging the model.\n"
     ]
    },
    {
     "name": "stdout",
     "output_type": "stream",
     "text": [
      "3397\n"
     ]
    },
    {
     "name": "stderr",
     "output_type": "stream",
     "text": [
      "/home/azureuser/rumour-detection-pheme/utils.py:322: SettingWithCopyWarning: \n",
      "A value is trying to be set on a copy of a slice from a DataFrame.\n",
      "Try using .loc[row_indexer,col_indexer] = value instead\n",
      "\n",
      "See the caveats in the documentation: https://pandas.pydata.org/pandas-docs/stable/user_guide/indexing.html#returning-a-view-versus-a-copy\n",
      "  reply_features[['reply_followers','time_diff']] = scaler.fit_transform(reply_features[['reply_followers','time_diff']])\n"
     ]
    },
    {
     "name": "stdout",
     "output_type": "stream",
     "text": [
      "0\n",
      "Epoch:   0 | Train Loss: 0.8036 | Train Acc: 74.16% | Val Acc: 75.67%\n",
      "100\n",
      "Epoch: 100 | Train Loss: 0.3113 | Train Acc: 84.94% | Val Acc: 84.33%\n",
      "200\n",
      "Epoch: 200 | Train Loss: 0.2052 | Train Acc: 91.51% | Val Acc: 87.67%\n",
      "300\n",
      "Epoch: 300 | Train Loss: 0.1260 | Train Acc: 95.43% | Val Acc: 88.67%\n",
      "Test accuracy: 87.38%\n",
      "Test Recall: 80.80%\n",
      "Test Precision: 84.26%\n"
     ]
    },
    {
     "name": "stderr",
     "output_type": "stream",
     "text": [
      "2024/09/28 20:49:22 WARNING mlflow.models.model: Input example should be provided to infer model signature if the model signature is not provided when logging the model.\n"
     ]
    },
    {
     "name": "stdout",
     "output_type": "stream",
     "text": [
      "3407\n"
     ]
    },
    {
     "name": "stderr",
     "output_type": "stream",
     "text": [
      "/home/azureuser/rumour-detection-pheme/utils.py:322: SettingWithCopyWarning: \n",
      "A value is trying to be set on a copy of a slice from a DataFrame.\n",
      "Try using .loc[row_indexer,col_indexer] = value instead\n",
      "\n",
      "See the caveats in the documentation: https://pandas.pydata.org/pandas-docs/stable/user_guide/indexing.html#returning-a-view-versus-a-copy\n",
      "  reply_features[['reply_followers','time_diff']] = scaler.fit_transform(reply_features[['reply_followers','time_diff']])\n"
     ]
    },
    {
     "name": "stdout",
     "output_type": "stream",
     "text": [
      "0\n",
      "Epoch:   0 | Train Loss: 0.9599 | Train Acc: 72.31% | Val Acc: 69.67%\n",
      "100\n",
      "Epoch: 100 | Train Loss: 0.3189 | Train Acc: 84.37% | Val Acc: 84.67%\n",
      "200\n",
      "Epoch: 200 | Train Loss: 0.2219 | Train Acc: 90.72% | Val Acc: 86.33%\n",
      "300\n",
      "Epoch: 300 | Train Loss: 0.1509 | Train Acc: 95.00% | Val Acc: 89.00%\n",
      "Test accuracy: 86.05%\n",
      "Test Recall: 79.11%\n",
      "Test Precision: 83.40%\n"
     ]
    },
    {
     "name": "stderr",
     "output_type": "stream",
     "text": [
      "2024/09/28 20:52:07 WARNING mlflow.models.model: Input example should be provided to infer model signature if the model signature is not provided when logging the model.\n"
     ]
    },
    {
     "name": "stdout",
     "output_type": "stream",
     "text": [
      "3417\n"
     ]
    },
    {
     "name": "stderr",
     "output_type": "stream",
     "text": [
      "/home/azureuser/rumour-detection-pheme/utils.py:322: SettingWithCopyWarning: \n",
      "A value is trying to be set on a copy of a slice from a DataFrame.\n",
      "Try using .loc[row_indexer,col_indexer] = value instead\n",
      "\n",
      "See the caveats in the documentation: https://pandas.pydata.org/pandas-docs/stable/user_guide/indexing.html#returning-a-view-versus-a-copy\n",
      "  reply_features[['reply_followers','time_diff']] = scaler.fit_transform(reply_features[['reply_followers','time_diff']])\n"
     ]
    },
    {
     "name": "stdout",
     "output_type": "stream",
     "text": [
      "0\n",
      "Epoch:   0 | Train Loss: 0.8720 | Train Acc: 33.83% | Val Acc: 41.00%\n",
      "100\n",
      "Epoch: 100 | Train Loss: 0.3170 | Train Acc: 84.30% | Val Acc: 83.33%\n",
      "200\n",
      "Epoch: 200 | Train Loss: 0.2359 | Train Acc: 89.65% | Val Acc: 84.00%\n",
      "300\n",
      "Epoch: 300 | Train Loss: 0.1908 | Train Acc: 93.72% | Val Acc: 84.33%\n",
      "Test accuracy: 82.72%\n",
      "Test Recall: 79.40%\n",
      "Test Precision: 78.11%\n"
     ]
    },
    {
     "name": "stderr",
     "output_type": "stream",
     "text": [
      "2024/09/28 20:54:58 WARNING mlflow.models.model: Input example should be provided to infer model signature if the model signature is not provided when logging the model.\n"
     ]
    },
    {
     "name": "stdout",
     "output_type": "stream",
     "text": [
      "3427\n"
     ]
    },
    {
     "name": "stderr",
     "output_type": "stream",
     "text": [
      "/home/azureuser/rumour-detection-pheme/utils.py:322: SettingWithCopyWarning: \n",
      "A value is trying to be set on a copy of a slice from a DataFrame.\n",
      "Try using .loc[row_indexer,col_indexer] = value instead\n",
      "\n",
      "See the caveats in the documentation: https://pandas.pydata.org/pandas-docs/stable/user_guide/indexing.html#returning-a-view-versus-a-copy\n",
      "  reply_features[['reply_followers','time_diff']] = scaler.fit_transform(reply_features[['reply_followers','time_diff']])\n"
     ]
    },
    {
     "name": "stdout",
     "output_type": "stream",
     "text": [
      "0\n",
      "Epoch:   0 | Train Loss: 0.7334 | Train Acc: 77.87% | Val Acc: 78.33%\n",
      "100\n",
      "Epoch: 100 | Train Loss: 0.3025 | Train Acc: 87.65% | Val Acc: 84.67%\n",
      "200\n",
      "Epoch: 200 | Train Loss: 0.1900 | Train Acc: 93.22% | Val Acc: 86.67%\n",
      "300\n",
      "Epoch: 300 | Train Loss: 0.1150 | Train Acc: 96.22% | Val Acc: 87.33%\n",
      "Test accuracy: 85.38%\n",
      "Test Recall: 79.99%\n",
      "Test Precision: 81.00%\n"
     ]
    },
    {
     "name": "stderr",
     "output_type": "stream",
     "text": [
      "2024/09/28 20:57:53 WARNING mlflow.models.model: Input example should be provided to infer model signature if the model signature is not provided when logging the model.\n"
     ]
    },
    {
     "name": "stdout",
     "output_type": "stream",
     "text": [
      "3437\n"
     ]
    },
    {
     "name": "stderr",
     "output_type": "stream",
     "text": [
      "/home/azureuser/rumour-detection-pheme/utils.py:322: SettingWithCopyWarning: \n",
      "A value is trying to be set on a copy of a slice from a DataFrame.\n",
      "Try using .loc[row_indexer,col_indexer] = value instead\n",
      "\n",
      "See the caveats in the documentation: https://pandas.pydata.org/pandas-docs/stable/user_guide/indexing.html#returning-a-view-versus-a-copy\n",
      "  reply_features[['reply_followers','time_diff']] = scaler.fit_transform(reply_features[['reply_followers','time_diff']])\n"
     ]
    },
    {
     "name": "stdout",
     "output_type": "stream",
     "text": [
      "0\n",
      "Epoch:   0 | Train Loss: 1.0841 | Train Acc: 69.24% | Val Acc: 70.00%\n",
      "100\n",
      "Epoch: 100 | Train Loss: 0.3242 | Train Acc: 85.51% | Val Acc: 87.33%\n",
      "200\n",
      "Epoch: 200 | Train Loss: 0.2355 | Train Acc: 90.86% | Val Acc: 88.67%\n",
      "300\n",
      "Epoch: 300 | Train Loss: 0.1490 | Train Acc: 94.93% | Val Acc: 89.33%\n",
      "Test accuracy: 85.71%\n",
      "Test Recall: 82.22%\n",
      "Test Precision: 82.22%\n"
     ]
    },
    {
     "name": "stderr",
     "output_type": "stream",
     "text": [
      "2024/09/28 21:00:46 WARNING mlflow.models.model: Input example should be provided to infer model signature if the model signature is not provided when logging the model.\n"
     ]
    },
    {
     "name": "stdout",
     "output_type": "stream",
     "text": [
      "3447\n"
     ]
    },
    {
     "name": "stderr",
     "output_type": "stream",
     "text": [
      "/home/azureuser/rumour-detection-pheme/utils.py:322: SettingWithCopyWarning: \n",
      "A value is trying to be set on a copy of a slice from a DataFrame.\n",
      "Try using .loc[row_indexer,col_indexer] = value instead\n",
      "\n",
      "See the caveats in the documentation: https://pandas.pydata.org/pandas-docs/stable/user_guide/indexing.html#returning-a-view-versus-a-copy\n",
      "  reply_features[['reply_followers','time_diff']] = scaler.fit_transform(reply_features[['reply_followers','time_diff']])\n"
     ]
    },
    {
     "name": "stdout",
     "output_type": "stream",
     "text": [
      "0\n",
      "Epoch:   0 | Train Loss: 0.8720 | Train Acc: 74.59% | Val Acc: 75.33%\n",
      "100\n",
      "Epoch: 100 | Train Loss: 0.3121 | Train Acc: 86.51% | Val Acc: 83.33%\n",
      "200\n",
      "Epoch: 200 | Train Loss: 0.2080 | Train Acc: 91.22% | Val Acc: 86.33%\n",
      "300\n",
      "Epoch: 300 | Train Loss: 0.1304 | Train Acc: 94.72% | Val Acc: 85.67%\n",
      "Test accuracy: 85.38%\n",
      "Test Recall: 76.93%\n",
      "Test Precision: 78.81%\n"
     ]
    },
    {
     "name": "stderr",
     "output_type": "stream",
     "text": [
      "2024/09/28 21:03:34 WARNING mlflow.models.model: Input example should be provided to infer model signature if the model signature is not provided when logging the model.\n"
     ]
    },
    {
     "name": "stdout",
     "output_type": "stream",
     "text": [
      "3457\n"
     ]
    },
    {
     "name": "stderr",
     "output_type": "stream",
     "text": [
      "/home/azureuser/rumour-detection-pheme/utils.py:322: SettingWithCopyWarning: \n",
      "A value is trying to be set on a copy of a slice from a DataFrame.\n",
      "Try using .loc[row_indexer,col_indexer] = value instead\n",
      "\n",
      "See the caveats in the documentation: https://pandas.pydata.org/pandas-docs/stable/user_guide/indexing.html#returning-a-view-versus-a-copy\n",
      "  reply_features[['reply_followers','time_diff']] = scaler.fit_transform(reply_features[['reply_followers','time_diff']])\n"
     ]
    },
    {
     "name": "stdout",
     "output_type": "stream",
     "text": [
      "0\n",
      "Epoch:   0 | Train Loss: 0.6677 | Train Acc: 77.73% | Val Acc: 77.33%\n",
      "100\n",
      "Epoch: 100 | Train Loss: 0.3273 | Train Acc: 85.30% | Val Acc: 83.67%\n",
      "200\n",
      "Epoch: 200 | Train Loss: 0.2216 | Train Acc: 90.72% | Val Acc: 85.33%\n",
      "300\n",
      "Epoch: 300 | Train Loss: 0.1542 | Train Acc: 94.58% | Val Acc: 85.00%\n",
      "Test accuracy: 83.72%\n",
      "Test Recall: 75.60%\n",
      "Test Precision: 78.36%\n"
     ]
    },
    {
     "name": "stderr",
     "output_type": "stream",
     "text": [
      "2024/09/28 21:06:25 WARNING mlflow.models.model: Input example should be provided to infer model signature if the model signature is not provided when logging the model.\n"
     ]
    },
    {
     "name": "stdout",
     "output_type": "stream",
     "text": [
      "3467\n"
     ]
    },
    {
     "name": "stderr",
     "output_type": "stream",
     "text": [
      "/home/azureuser/rumour-detection-pheme/utils.py:322: SettingWithCopyWarning: \n",
      "A value is trying to be set on a copy of a slice from a DataFrame.\n",
      "Try using .loc[row_indexer,col_indexer] = value instead\n",
      "\n",
      "See the caveats in the documentation: https://pandas.pydata.org/pandas-docs/stable/user_guide/indexing.html#returning-a-view-versus-a-copy\n",
      "  reply_features[['reply_followers','time_diff']] = scaler.fit_transform(reply_features[['reply_followers','time_diff']])\n"
     ]
    },
    {
     "name": "stdout",
     "output_type": "stream",
     "text": [
      "0\n",
      "Epoch:   0 | Train Loss: 0.7396 | Train Acc: 36.47% | Val Acc: 38.67%\n",
      "100\n",
      "Epoch: 100 | Train Loss: 0.3066 | Train Acc: 86.15% | Val Acc: 85.67%\n",
      "200\n",
      "Epoch: 200 | Train Loss: 0.1970 | Train Acc: 90.58% | Val Acc: 85.00%\n",
      "300\n",
      "Epoch: 300 | Train Loss: 0.1167 | Train Acc: 93.79% | Val Acc: 87.33%\n",
      "Test accuracy: 87.04%\n",
      "Test Recall: 83.44%\n",
      "Test Precision: 81.77%\n"
     ]
    },
    {
     "name": "stderr",
     "output_type": "stream",
     "text": [
      "2024/09/28 21:09:21 WARNING mlflow.models.model: Input example should be provided to infer model signature if the model signature is not provided when logging the model.\n"
     ]
    },
    {
     "name": "stdout",
     "output_type": "stream",
     "text": [
      "3477\n"
     ]
    },
    {
     "name": "stderr",
     "output_type": "stream",
     "text": [
      "/home/azureuser/rumour-detection-pheme/utils.py:322: SettingWithCopyWarning: \n",
      "A value is trying to be set on a copy of a slice from a DataFrame.\n",
      "Try using .loc[row_indexer,col_indexer] = value instead\n",
      "\n",
      "See the caveats in the documentation: https://pandas.pydata.org/pandas-docs/stable/user_guide/indexing.html#returning-a-view-versus-a-copy\n",
      "  reply_features[['reply_followers','time_diff']] = scaler.fit_transform(reply_features[['reply_followers','time_diff']])\n"
     ]
    },
    {
     "name": "stdout",
     "output_type": "stream",
     "text": [
      "0\n",
      "Epoch:   0 | Train Loss: 0.8969 | Train Acc: 74.02% | Val Acc: 74.67%\n",
      "100\n",
      "Epoch: 100 | Train Loss: 0.3129 | Train Acc: 85.37% | Val Acc: 82.67%\n",
      "200\n",
      "Epoch: 200 | Train Loss: 0.2000 | Train Acc: 91.43% | Val Acc: 83.67%\n",
      "300\n",
      "Epoch: 300 | Train Loss: 0.1574 | Train Acc: 95.57% | Val Acc: 84.33%\n",
      "Test accuracy: 86.38%\n",
      "Test Recall: 77.18%\n",
      "Test Precision: 80.96%\n"
     ]
    },
    {
     "name": "stderr",
     "output_type": "stream",
     "text": [
      "2024/09/28 21:12:14 WARNING mlflow.models.model: Input example should be provided to infer model signature if the model signature is not provided when logging the model.\n"
     ]
    },
    {
     "name": "stdout",
     "output_type": "stream",
     "text": [
      "3487\n"
     ]
    },
    {
     "name": "stderr",
     "output_type": "stream",
     "text": [
      "/home/azureuser/rumour-detection-pheme/utils.py:322: SettingWithCopyWarning: \n",
      "A value is trying to be set on a copy of a slice from a DataFrame.\n",
      "Try using .loc[row_indexer,col_indexer] = value instead\n",
      "\n",
      "See the caveats in the documentation: https://pandas.pydata.org/pandas-docs/stable/user_guide/indexing.html#returning-a-view-versus-a-copy\n",
      "  reply_features[['reply_followers','time_diff']] = scaler.fit_transform(reply_features[['reply_followers','time_diff']])\n"
     ]
    },
    {
     "name": "stdout",
     "output_type": "stream",
     "text": [
      "0\n",
      "Epoch:   0 | Train Loss: 0.6830 | Train Acc: 76.59% | Val Acc: 76.00%\n",
      "100\n",
      "Epoch: 100 | Train Loss: 0.3524 | Train Acc: 85.44% | Val Acc: 85.33%\n",
      "200\n",
      "Epoch: 200 | Train Loss: 0.2522 | Train Acc: 89.01% | Val Acc: 88.67%\n",
      "300\n",
      "Epoch: 300 | Train Loss: 0.1865 | Train Acc: 93.29% | Val Acc: 89.67%\n",
      "Test accuracy: 86.38%\n",
      "Test Recall: 78.79%\n",
      "Test Precision: 82.73%\n"
     ]
    },
    {
     "name": "stderr",
     "output_type": "stream",
     "text": [
      "2024/09/28 21:15:00 WARNING mlflow.models.model: Input example should be provided to infer model signature if the model signature is not provided when logging the model.\n"
     ]
    },
    {
     "name": "stdout",
     "output_type": "stream",
     "text": [
      "3497\n"
     ]
    },
    {
     "name": "stderr",
     "output_type": "stream",
     "text": [
      "/home/azureuser/rumour-detection-pheme/utils.py:322: SettingWithCopyWarning: \n",
      "A value is trying to be set on a copy of a slice from a DataFrame.\n",
      "Try using .loc[row_indexer,col_indexer] = value instead\n",
      "\n",
      "See the caveats in the documentation: https://pandas.pydata.org/pandas-docs/stable/user_guide/indexing.html#returning-a-view-versus-a-copy\n",
      "  reply_features[['reply_followers','time_diff']] = scaler.fit_transform(reply_features[['reply_followers','time_diff']])\n"
     ]
    },
    {
     "name": "stdout",
     "output_type": "stream",
     "text": [
      "0\n",
      "Epoch:   0 | Train Loss: 0.8902 | Train Acc: 33.90% | Val Acc: 35.00%\n",
      "100\n",
      "Epoch: 100 | Train Loss: 0.3332 | Train Acc: 86.15% | Val Acc: 84.67%\n",
      "200\n",
      "Epoch: 200 | Train Loss: 0.2346 | Train Acc: 90.22% | Val Acc: 87.00%\n",
      "300\n",
      "Epoch: 300 | Train Loss: 0.1630 | Train Acc: 93.50% | Val Acc: 88.33%\n",
      "Test accuracy: 85.38%\n",
      "Test Recall: 81.29%\n",
      "Test Precision: 80.17%\n"
     ]
    },
    {
     "name": "stderr",
     "output_type": "stream",
     "text": [
      "2024/09/28 21:17:46 WARNING mlflow.models.model: Input example should be provided to infer model signature if the model signature is not provided when logging the model.\n"
     ]
    },
    {
     "name": "stdout",
     "output_type": "stream",
     "text": [
      "3507\n"
     ]
    },
    {
     "name": "stderr",
     "output_type": "stream",
     "text": [
      "/home/azureuser/rumour-detection-pheme/utils.py:322: SettingWithCopyWarning: \n",
      "A value is trying to be set on a copy of a slice from a DataFrame.\n",
      "Try using .loc[row_indexer,col_indexer] = value instead\n",
      "\n",
      "See the caveats in the documentation: https://pandas.pydata.org/pandas-docs/stable/user_guide/indexing.html#returning-a-view-versus-a-copy\n",
      "  reply_features[['reply_followers','time_diff']] = scaler.fit_transform(reply_features[['reply_followers','time_diff']])\n"
     ]
    },
    {
     "name": "stdout",
     "output_type": "stream",
     "text": [
      "0\n",
      "Epoch:   0 | Train Loss: 0.7458 | Train Acc: 74.16% | Val Acc: 74.00%\n",
      "100\n",
      "Epoch: 100 | Train Loss: 0.3514 | Train Acc: 83.94% | Val Acc: 84.33%\n",
      "200\n",
      "Epoch: 200 | Train Loss: 0.2728 | Train Acc: 88.72% | Val Acc: 86.67%\n",
      "300\n",
      "Epoch: 300 | Train Loss: 0.2089 | Train Acc: 91.79% | Val Acc: 87.00%\n",
      "Test accuracy: 86.38%\n",
      "Test Recall: 78.18%\n",
      "Test Precision: 82.18%\n"
     ]
    },
    {
     "name": "stderr",
     "output_type": "stream",
     "text": [
      "2024/09/28 21:20:37 WARNING mlflow.models.model: Input example should be provided to infer model signature if the model signature is not provided when logging the model.\n"
     ]
    },
    {
     "name": "stdout",
     "output_type": "stream",
     "text": [
      "3517\n"
     ]
    },
    {
     "name": "stderr",
     "output_type": "stream",
     "text": [
      "/home/azureuser/rumour-detection-pheme/utils.py:322: SettingWithCopyWarning: \n",
      "A value is trying to be set on a copy of a slice from a DataFrame.\n",
      "Try using .loc[row_indexer,col_indexer] = value instead\n",
      "\n",
      "See the caveats in the documentation: https://pandas.pydata.org/pandas-docs/stable/user_guide/indexing.html#returning-a-view-versus-a-copy\n",
      "  reply_features[['reply_followers','time_diff']] = scaler.fit_transform(reply_features[['reply_followers','time_diff']])\n"
     ]
    },
    {
     "name": "stdout",
     "output_type": "stream",
     "text": [
      "0\n",
      "Epoch:   0 | Train Loss: 0.9980 | Train Acc: 71.45% | Val Acc: 74.33%\n",
      "100\n",
      "Epoch: 100 | Train Loss: 0.3630 | Train Acc: 84.30% | Val Acc: 83.67%\n",
      "200\n",
      "Epoch: 200 | Train Loss: 0.2392 | Train Acc: 89.65% | Val Acc: 87.00%\n",
      "300\n",
      "Epoch: 300 | Train Loss: 0.1689 | Train Acc: 94.65% | Val Acc: 85.67%\n",
      "Test accuracy: 84.05%\n",
      "Test Recall: 73.91%\n",
      "Test Precision: 78.54%\n"
     ]
    },
    {
     "name": "stderr",
     "output_type": "stream",
     "text": [
      "2024/09/28 21:23:24 WARNING mlflow.models.model: Input example should be provided to infer model signature if the model signature is not provided when logging the model.\n"
     ]
    },
    {
     "name": "stdout",
     "output_type": "stream",
     "text": [
      "3527\n"
     ]
    },
    {
     "name": "stderr",
     "output_type": "stream",
     "text": [
      "/home/azureuser/rumour-detection-pheme/utils.py:322: SettingWithCopyWarning: \n",
      "A value is trying to be set on a copy of a slice from a DataFrame.\n",
      "Try using .loc[row_indexer,col_indexer] = value instead\n",
      "\n",
      "See the caveats in the documentation: https://pandas.pydata.org/pandas-docs/stable/user_guide/indexing.html#returning-a-view-versus-a-copy\n",
      "  reply_features[['reply_followers','time_diff']] = scaler.fit_transform(reply_features[['reply_followers','time_diff']])\n"
     ]
    },
    {
     "name": "stdout",
     "output_type": "stream",
     "text": [
      "0\n",
      "Epoch:   0 | Train Loss: 0.6221 | Train Acc: 77.52% | Val Acc: 78.33%\n",
      "100\n",
      "Epoch: 100 | Train Loss: 0.2950 | Train Acc: 86.51% | Val Acc: 85.33%\n",
      "200\n",
      "Epoch: 200 | Train Loss: 0.1716 | Train Acc: 92.86% | Val Acc: 87.00%\n",
      "300\n",
      "Epoch: 300 | Train Loss: 0.0930 | Train Acc: 96.50% | Val Acc: 85.67%\n",
      "Test accuracy: 88.37%\n",
      "Test Recall: 78.68%\n",
      "Test Precision: 81.15%\n"
     ]
    },
    {
     "name": "stderr",
     "output_type": "stream",
     "text": [
      "2024/09/28 21:26:09 WARNING mlflow.models.model: Input example should be provided to infer model signature if the model signature is not provided when logging the model.\n"
     ]
    },
    {
     "name": "stdout",
     "output_type": "stream",
     "text": [
      "3537\n"
     ]
    },
    {
     "name": "stderr",
     "output_type": "stream",
     "text": [
      "/home/azureuser/rumour-detection-pheme/utils.py:322: SettingWithCopyWarning: \n",
      "A value is trying to be set on a copy of a slice from a DataFrame.\n",
      "Try using .loc[row_indexer,col_indexer] = value instead\n",
      "\n",
      "See the caveats in the documentation: https://pandas.pydata.org/pandas-docs/stable/user_guide/indexing.html#returning-a-view-versus-a-copy\n",
      "  reply_features[['reply_followers','time_diff']] = scaler.fit_transform(reply_features[['reply_followers','time_diff']])\n"
     ]
    },
    {
     "name": "stdout",
     "output_type": "stream",
     "text": [
      "0\n",
      "Epoch:   0 | Train Loss: 0.6382 | Train Acc: 78.44% | Val Acc: 74.33%\n",
      "100\n",
      "Epoch: 100 | Train Loss: 0.2698 | Train Acc: 88.58% | Val Acc: 83.67%\n",
      "200\n",
      "Epoch: 200 | Train Loss: 0.1768 | Train Acc: 93.58% | Val Acc: 84.67%\n",
      "300\n",
      "Epoch: 300 | Train Loss: 0.1111 | Train Acc: 97.36% | Val Acc: 85.33%\n",
      "Test accuracy: 87.38%\n",
      "Test Recall: 77.84%\n",
      "Test Precision: 82.93%\n"
     ]
    },
    {
     "name": "stderr",
     "output_type": "stream",
     "text": [
      "2024/09/28 21:28:59 WARNING mlflow.models.model: Input example should be provided to infer model signature if the model signature is not provided when logging the model.\n"
     ]
    },
    {
     "name": "stdout",
     "output_type": "stream",
     "text": [
      "3547\n"
     ]
    },
    {
     "name": "stderr",
     "output_type": "stream",
     "text": [
      "/home/azureuser/rumour-detection-pheme/utils.py:322: SettingWithCopyWarning: \n",
      "A value is trying to be set on a copy of a slice from a DataFrame.\n",
      "Try using .loc[row_indexer,col_indexer] = value instead\n",
      "\n",
      "See the caveats in the documentation: https://pandas.pydata.org/pandas-docs/stable/user_guide/indexing.html#returning-a-view-versus-a-copy\n",
      "  reply_features[['reply_followers','time_diff']] = scaler.fit_transform(reply_features[['reply_followers','time_diff']])\n"
     ]
    },
    {
     "name": "stdout",
     "output_type": "stream",
     "text": [
      "0\n",
      "Epoch:   0 | Train Loss: 0.9200 | Train Acc: 78.09% | Val Acc: 77.67%\n",
      "100\n",
      "Epoch: 100 | Train Loss: 0.3397 | Train Acc: 84.23% | Val Acc: 84.67%\n",
      "200\n",
      "Epoch: 200 | Train Loss: 0.2656 | Train Acc: 87.72% | Val Acc: 87.67%\n",
      "300\n",
      "Epoch: 300 | Train Loss: 0.1817 | Train Acc: 92.72% | Val Acc: 86.67%\n",
      "Test accuracy: 86.71%\n",
      "Test Recall: 83.06%\n",
      "Test Precision: 82.18%\n"
     ]
    },
    {
     "name": "stderr",
     "output_type": "stream",
     "text": [
      "2024/09/28 21:31:50 WARNING mlflow.models.model: Input example should be provided to infer model signature if the model signature is not provided when logging the model.\n"
     ]
    },
    {
     "name": "stdout",
     "output_type": "stream",
     "text": [
      "3557\n"
     ]
    },
    {
     "name": "stderr",
     "output_type": "stream",
     "text": [
      "/home/azureuser/rumour-detection-pheme/utils.py:322: SettingWithCopyWarning: \n",
      "A value is trying to be set on a copy of a slice from a DataFrame.\n",
      "Try using .loc[row_indexer,col_indexer] = value instead\n",
      "\n",
      "See the caveats in the documentation: https://pandas.pydata.org/pandas-docs/stable/user_guide/indexing.html#returning-a-view-versus-a-copy\n",
      "  reply_features[['reply_followers','time_diff']] = scaler.fit_transform(reply_features[['reply_followers','time_diff']])\n"
     ]
    },
    {
     "name": "stdout",
     "output_type": "stream",
     "text": [
      "0\n",
      "Epoch:   0 | Train Loss: 0.8308 | Train Acc: 75.16% | Val Acc: 72.00%\n",
      "100\n",
      "Epoch: 100 | Train Loss: 0.3280 | Train Acc: 85.51% | Val Acc: 82.67%\n",
      "200\n",
      "Epoch: 200 | Train Loss: 0.2273 | Train Acc: 90.22% | Val Acc: 83.67%\n",
      "300\n",
      "Epoch: 300 | Train Loss: 0.1686 | Train Acc: 93.58% | Val Acc: 84.67%\n",
      "Test accuracy: 87.71%\n",
      "Test Recall: 81.37%\n",
      "Test Precision: 81.65%\n"
     ]
    },
    {
     "name": "stderr",
     "output_type": "stream",
     "text": [
      "2024/09/28 21:34:39 WARNING mlflow.models.model: Input example should be provided to infer model signature if the model signature is not provided when logging the model.\n"
     ]
    },
    {
     "name": "stdout",
     "output_type": "stream",
     "text": [
      "3567\n"
     ]
    },
    {
     "name": "stderr",
     "output_type": "stream",
     "text": [
      "/home/azureuser/rumour-detection-pheme/utils.py:322: SettingWithCopyWarning: \n",
      "A value is trying to be set on a copy of a slice from a DataFrame.\n",
      "Try using .loc[row_indexer,col_indexer] = value instead\n",
      "\n",
      "See the caveats in the documentation: https://pandas.pydata.org/pandas-docs/stable/user_guide/indexing.html#returning-a-view-versus-a-copy\n",
      "  reply_features[['reply_followers','time_diff']] = scaler.fit_transform(reply_features[['reply_followers','time_diff']])\n"
     ]
    },
    {
     "name": "stdout",
     "output_type": "stream",
     "text": [
      "0\n",
      "Epoch:   0 | Train Loss: 1.4631 | Train Acc: 22.56% | Val Acc: 25.00%\n",
      "100\n",
      "Epoch: 100 | Train Loss: 0.3218 | Train Acc: 85.08% | Val Acc: 82.33%\n",
      "200\n",
      "Epoch: 200 | Train Loss: 0.2369 | Train Acc: 89.86% | Val Acc: 85.33%\n",
      "300\n",
      "Epoch: 300 | Train Loss: 0.1791 | Train Acc: 92.93% | Val Acc: 85.00%\n",
      "Test accuracy: 86.05%\n",
      "Test Recall: 76.58%\n",
      "Test Precision: 83.10%\n"
     ]
    },
    {
     "name": "stderr",
     "output_type": "stream",
     "text": [
      "2024/09/28 21:37:26 WARNING mlflow.models.model: Input example should be provided to infer model signature if the model signature is not provided when logging the model.\n"
     ]
    },
    {
     "name": "stdout",
     "output_type": "stream",
     "text": [
      "3577\n"
     ]
    },
    {
     "name": "stderr",
     "output_type": "stream",
     "text": [
      "/home/azureuser/rumour-detection-pheme/utils.py:322: SettingWithCopyWarning: \n",
      "A value is trying to be set on a copy of a slice from a DataFrame.\n",
      "Try using .loc[row_indexer,col_indexer] = value instead\n",
      "\n",
      "See the caveats in the documentation: https://pandas.pydata.org/pandas-docs/stable/user_guide/indexing.html#returning-a-view-versus-a-copy\n",
      "  reply_features[['reply_followers','time_diff']] = scaler.fit_transform(reply_features[['reply_followers','time_diff']])\n"
     ]
    },
    {
     "name": "stdout",
     "output_type": "stream",
     "text": [
      "0\n",
      "Epoch:   0 | Train Loss: 0.9788 | Train Acc: 67.45% | Val Acc: 68.00%\n",
      "100\n",
      "Epoch: 100 | Train Loss: 0.3369 | Train Acc: 85.80% | Val Acc: 81.67%\n",
      "200\n",
      "Epoch: 200 | Train Loss: 0.2369 | Train Acc: 90.44% | Val Acc: 85.67%\n",
      "300\n",
      "Epoch: 300 | Train Loss: 0.1704 | Train Acc: 93.50% | Val Acc: 85.33%\n",
      "Test accuracy: 85.71%\n",
      "Test Recall: 78.23%\n",
      "Test Precision: 78.58%\n"
     ]
    },
    {
     "name": "stderr",
     "output_type": "stream",
     "text": [
      "2024/09/28 21:40:18 WARNING mlflow.models.model: Input example should be provided to infer model signature if the model signature is not provided when logging the model.\n"
     ]
    },
    {
     "name": "stdout",
     "output_type": "stream",
     "text": [
      "3587\n"
     ]
    },
    {
     "name": "stderr",
     "output_type": "stream",
     "text": [
      "/home/azureuser/rumour-detection-pheme/utils.py:322: SettingWithCopyWarning: \n",
      "A value is trying to be set on a copy of a slice from a DataFrame.\n",
      "Try using .loc[row_indexer,col_indexer] = value instead\n",
      "\n",
      "See the caveats in the documentation: https://pandas.pydata.org/pandas-docs/stable/user_guide/indexing.html#returning-a-view-versus-a-copy\n",
      "  reply_features[['reply_followers','time_diff']] = scaler.fit_transform(reply_features[['reply_followers','time_diff']])\n"
     ]
    },
    {
     "name": "stdout",
     "output_type": "stream",
     "text": [
      "0\n",
      "Epoch:   0 | Train Loss: 0.7274 | Train Acc: 77.73% | Val Acc: 78.00%\n",
      "100\n",
      "Epoch: 100 | Train Loss: 0.3075 | Train Acc: 86.37% | Val Acc: 81.33%\n",
      "200\n",
      "Epoch: 200 | Train Loss: 0.1994 | Train Acc: 91.72% | Val Acc: 82.00%\n",
      "300\n",
      "Epoch: 300 | Train Loss: 0.1189 | Train Acc: 95.50% | Val Acc: 83.67%\n",
      "Test accuracy: 87.38%\n",
      "Test Recall: 82.22%\n",
      "Test Precision: 80.31%\n"
     ]
    },
    {
     "name": "stderr",
     "output_type": "stream",
     "text": [
      "2024/09/28 21:43:04 WARNING mlflow.models.model: Input example should be provided to infer model signature if the model signature is not provided when logging the model.\n"
     ]
    },
    {
     "name": "stdout",
     "output_type": "stream",
     "text": [
      "3597\n"
     ]
    },
    {
     "name": "stderr",
     "output_type": "stream",
     "text": [
      "/home/azureuser/rumour-detection-pheme/utils.py:322: SettingWithCopyWarning: \n",
      "A value is trying to be set on a copy of a slice from a DataFrame.\n",
      "Try using .loc[row_indexer,col_indexer] = value instead\n",
      "\n",
      "See the caveats in the documentation: https://pandas.pydata.org/pandas-docs/stable/user_guide/indexing.html#returning-a-view-versus-a-copy\n",
      "  reply_features[['reply_followers','time_diff']] = scaler.fit_transform(reply_features[['reply_followers','time_diff']])\n"
     ]
    },
    {
     "name": "stdout",
     "output_type": "stream",
     "text": [
      "0\n",
      "Epoch:   0 | Train Loss: 0.6778 | Train Acc: 77.02% | Val Acc: 73.67%\n",
      "100\n",
      "Epoch: 100 | Train Loss: 0.3172 | Train Acc: 85.65% | Val Acc: 84.67%\n",
      "200\n",
      "Epoch: 200 | Train Loss: 0.2353 | Train Acc: 89.29% | Val Acc: 86.33%\n",
      "300\n",
      "Epoch: 300 | Train Loss: 0.1647 | Train Acc: 92.29% | Val Acc: 87.67%\n",
      "Test accuracy: 88.04%\n",
      "Test Recall: 84.80%\n",
      "Test Precision: 83.39%\n"
     ]
    },
    {
     "name": "stderr",
     "output_type": "stream",
     "text": [
      "2024/09/28 21:45:57 WARNING mlflow.models.model: Input example should be provided to infer model signature if the model signature is not provided when logging the model.\n"
     ]
    },
    {
     "name": "stdout",
     "output_type": "stream",
     "text": [
      "3607\n"
     ]
    },
    {
     "name": "stderr",
     "output_type": "stream",
     "text": [
      "/home/azureuser/rumour-detection-pheme/utils.py:322: SettingWithCopyWarning: \n",
      "A value is trying to be set on a copy of a slice from a DataFrame.\n",
      "Try using .loc[row_indexer,col_indexer] = value instead\n",
      "\n",
      "See the caveats in the documentation: https://pandas.pydata.org/pandas-docs/stable/user_guide/indexing.html#returning-a-view-versus-a-copy\n",
      "  reply_features[['reply_followers','time_diff']] = scaler.fit_transform(reply_features[['reply_followers','time_diff']])\n"
     ]
    },
    {
     "name": "stdout",
     "output_type": "stream",
     "text": [
      "0\n",
      "Epoch:   0 | Train Loss: 0.8721 | Train Acc: 75.80% | Val Acc: 76.33%\n",
      "100\n",
      "Epoch: 100 | Train Loss: 0.3355 | Train Acc: 85.94% | Val Acc: 85.67%\n",
      "200\n",
      "Epoch: 200 | Train Loss: 0.2416 | Train Acc: 90.29% | Val Acc: 86.00%\n",
      "300\n",
      "Epoch: 300 | Train Loss: 0.1366 | Train Acc: 95.43% | Val Acc: 86.67%\n",
      "Test accuracy: 87.04%\n",
      "Test Recall: 79.39%\n",
      "Test Precision: 80.58%\n"
     ]
    },
    {
     "name": "stderr",
     "output_type": "stream",
     "text": [
      "2024/09/28 21:48:48 WARNING mlflow.models.model: Input example should be provided to infer model signature if the model signature is not provided when logging the model.\n"
     ]
    },
    {
     "name": "stdout",
     "output_type": "stream",
     "text": [
      "3617\n"
     ]
    },
    {
     "name": "stderr",
     "output_type": "stream",
     "text": [
      "/home/azureuser/rumour-detection-pheme/utils.py:322: SettingWithCopyWarning: \n",
      "A value is trying to be set on a copy of a slice from a DataFrame.\n",
      "Try using .loc[row_indexer,col_indexer] = value instead\n",
      "\n",
      "See the caveats in the documentation: https://pandas.pydata.org/pandas-docs/stable/user_guide/indexing.html#returning-a-view-versus-a-copy\n",
      "  reply_features[['reply_followers','time_diff']] = scaler.fit_transform(reply_features[['reply_followers','time_diff']])\n"
     ]
    },
    {
     "name": "stdout",
     "output_type": "stream",
     "text": [
      "0\n",
      "Epoch:   0 | Train Loss: 0.7982 | Train Acc: 29.26% | Val Acc: 32.00%\n",
      "100\n",
      "Epoch: 100 | Train Loss: 0.3262 | Train Acc: 84.65% | Val Acc: 82.33%\n",
      "200\n",
      "Epoch: 200 | Train Loss: 0.2416 | Train Acc: 89.36% | Val Acc: 88.33%\n",
      "300\n",
      "Epoch: 300 | Train Loss: 0.1787 | Train Acc: 93.86% | Val Acc: 89.00%\n",
      "Test accuracy: 85.05%\n",
      "Test Recall: 80.28%\n",
      "Test Precision: 81.97%\n"
     ]
    },
    {
     "name": "stderr",
     "output_type": "stream",
     "text": [
      "2024/09/28 21:51:40 WARNING mlflow.models.model: Input example should be provided to infer model signature if the model signature is not provided when logging the model.\n"
     ]
    },
    {
     "name": "stdout",
     "output_type": "stream",
     "text": [
      "3627\n"
     ]
    },
    {
     "name": "stderr",
     "output_type": "stream",
     "text": [
      "/home/azureuser/rumour-detection-pheme/utils.py:322: SettingWithCopyWarning: \n",
      "A value is trying to be set on a copy of a slice from a DataFrame.\n",
      "Try using .loc[row_indexer,col_indexer] = value instead\n",
      "\n",
      "See the caveats in the documentation: https://pandas.pydata.org/pandas-docs/stable/user_guide/indexing.html#returning-a-view-versus-a-copy\n",
      "  reply_features[['reply_followers','time_diff']] = scaler.fit_transform(reply_features[['reply_followers','time_diff']])\n"
     ]
    },
    {
     "name": "stdout",
     "output_type": "stream",
     "text": [
      "0\n",
      "Epoch:   0 | Train Loss: 1.1361 | Train Acc: 34.12% | Val Acc: 27.33%\n",
      "100\n",
      "Epoch: 100 | Train Loss: 0.3434 | Train Acc: 84.44% | Val Acc: 83.67%\n",
      "200\n",
      "Epoch: 200 | Train Loss: 0.2302 | Train Acc: 90.65% | Val Acc: 85.67%\n",
      "300\n",
      "Epoch: 300 | Train Loss: 0.1434 | Train Acc: 95.36% | Val Acc: 86.00%\n",
      "Test accuracy: 84.39%\n",
      "Test Recall: 76.01%\n",
      "Test Precision: 75.37%\n"
     ]
    },
    {
     "name": "stderr",
     "output_type": "stream",
     "text": [
      "2024/09/28 21:54:35 WARNING mlflow.models.model: Input example should be provided to infer model signature if the model signature is not provided when logging the model.\n"
     ]
    },
    {
     "name": "stdout",
     "output_type": "stream",
     "text": [
      "3637\n"
     ]
    },
    {
     "name": "stderr",
     "output_type": "stream",
     "text": [
      "/home/azureuser/rumour-detection-pheme/utils.py:322: SettingWithCopyWarning: \n",
      "A value is trying to be set on a copy of a slice from a DataFrame.\n",
      "Try using .loc[row_indexer,col_indexer] = value instead\n",
      "\n",
      "See the caveats in the documentation: https://pandas.pydata.org/pandas-docs/stable/user_guide/indexing.html#returning-a-view-versus-a-copy\n",
      "  reply_features[['reply_followers','time_diff']] = scaler.fit_transform(reply_features[['reply_followers','time_diff']])\n"
     ]
    },
    {
     "name": "stdout",
     "output_type": "stream",
     "text": [
      "0\n",
      "Epoch:   0 | Train Loss: 1.3461 | Train Acc: 42.11% | Val Acc: 40.00%\n",
      "100\n",
      "Epoch: 100 | Train Loss: 0.3205 | Train Acc: 85.58% | Val Acc: 86.00%\n",
      "200\n",
      "Epoch: 200 | Train Loss: 0.2145 | Train Acc: 90.94% | Val Acc: 87.67%\n",
      "300\n",
      "Epoch: 300 | Train Loss: 0.1410 | Train Acc: 95.29% | Val Acc: 88.33%\n",
      "Test accuracy: 82.72%\n",
      "Test Recall: 74.41%\n",
      "Test Precision: 82.30%\n"
     ]
    },
    {
     "name": "stderr",
     "output_type": "stream",
     "text": [
      "2024/09/28 21:57:25 WARNING mlflow.models.model: Input example should be provided to infer model signature if the model signature is not provided when logging the model.\n"
     ]
    },
    {
     "name": "stdout",
     "output_type": "stream",
     "text": [
      "3647\n"
     ]
    },
    {
     "name": "stderr",
     "output_type": "stream",
     "text": [
      "/home/azureuser/rumour-detection-pheme/utils.py:322: SettingWithCopyWarning: \n",
      "A value is trying to be set on a copy of a slice from a DataFrame.\n",
      "Try using .loc[row_indexer,col_indexer] = value instead\n",
      "\n",
      "See the caveats in the documentation: https://pandas.pydata.org/pandas-docs/stable/user_guide/indexing.html#returning-a-view-versus-a-copy\n",
      "  reply_features[['reply_followers','time_diff']] = scaler.fit_transform(reply_features[['reply_followers','time_diff']])\n"
     ]
    },
    {
     "name": "stdout",
     "output_type": "stream",
     "text": [
      "0\n",
      "Epoch:   0 | Train Loss: 0.9412 | Train Acc: 74.02% | Val Acc: 72.67%\n",
      "100\n",
      "Epoch: 100 | Train Loss: 0.3511 | Train Acc: 83.30% | Val Acc: 85.00%\n",
      "200\n",
      "Epoch: 200 | Train Loss: 0.2608 | Train Acc: 88.65% | Val Acc: 88.00%\n",
      "300\n",
      "Epoch: 300 | Train Loss: 0.1981 | Train Acc: 93.36% | Val Acc: 90.33%\n",
      "Test accuracy: 86.71%\n",
      "Test Recall: 83.29%\n",
      "Test Precision: 83.45%\n"
     ]
    },
    {
     "name": "stderr",
     "output_type": "stream",
     "text": [
      "2024/09/28 22:00:18 WARNING mlflow.models.model: Input example should be provided to infer model signature if the model signature is not provided when logging the model.\n"
     ]
    },
    {
     "name": "stdout",
     "output_type": "stream",
     "text": [
      "3657\n"
     ]
    },
    {
     "name": "stderr",
     "output_type": "stream",
     "text": [
      "/home/azureuser/rumour-detection-pheme/utils.py:322: SettingWithCopyWarning: \n",
      "A value is trying to be set on a copy of a slice from a DataFrame.\n",
      "Try using .loc[row_indexer,col_indexer] = value instead\n",
      "\n",
      "See the caveats in the documentation: https://pandas.pydata.org/pandas-docs/stable/user_guide/indexing.html#returning-a-view-versus-a-copy\n",
      "  reply_features[['reply_followers','time_diff']] = scaler.fit_transform(reply_features[['reply_followers','time_diff']])\n"
     ]
    },
    {
     "name": "stdout",
     "output_type": "stream",
     "text": [
      "0\n",
      "Epoch:   0 | Train Loss: 0.7370 | Train Acc: 64.24% | Val Acc: 65.67%\n",
      "100\n",
      "Epoch: 100 | Train Loss: 0.3258 | Train Acc: 84.58% | Val Acc: 84.00%\n",
      "200\n",
      "Epoch: 200 | Train Loss: 0.2331 | Train Acc: 90.51% | Val Acc: 85.67%\n",
      "300\n",
      "Epoch: 300 | Train Loss: 0.1574 | Train Acc: 95.00% | Val Acc: 85.67%\n",
      "Test accuracy: 88.04%\n",
      "Test Recall: 82.62%\n",
      "Test Precision: 80.18%\n"
     ]
    },
    {
     "name": "stderr",
     "output_type": "stream",
     "text": [
      "2024/09/28 22:03:10 WARNING mlflow.models.model: Input example should be provided to infer model signature if the model signature is not provided when logging the model.\n"
     ]
    },
    {
     "name": "stdout",
     "output_type": "stream",
     "text": [
      "3667\n"
     ]
    },
    {
     "name": "stderr",
     "output_type": "stream",
     "text": [
      "/home/azureuser/rumour-detection-pheme/utils.py:322: SettingWithCopyWarning: \n",
      "A value is trying to be set on a copy of a slice from a DataFrame.\n",
      "Try using .loc[row_indexer,col_indexer] = value instead\n",
      "\n",
      "See the caveats in the documentation: https://pandas.pydata.org/pandas-docs/stable/user_guide/indexing.html#returning-a-view-versus-a-copy\n",
      "  reply_features[['reply_followers','time_diff']] = scaler.fit_transform(reply_features[['reply_followers','time_diff']])\n"
     ]
    },
    {
     "name": "stdout",
     "output_type": "stream",
     "text": [
      "0\n",
      "Epoch:   0 | Train Loss: 0.8439 | Train Acc: 78.52% | Val Acc: 78.33%\n",
      "100\n",
      "Epoch: 100 | Train Loss: 0.3894 | Train Acc: 85.87% | Val Acc: 85.00%\n",
      "200\n",
      "Epoch: 200 | Train Loss: 0.2373 | Train Acc: 89.58% | Val Acc: 86.33%\n",
      "300\n",
      "Epoch: 300 | Train Loss: 0.1851 | Train Acc: 93.58% | Val Acc: 87.67%\n",
      "Test accuracy: 84.72%\n",
      "Test Recall: 80.88%\n",
      "Test Precision: 81.32%\n"
     ]
    },
    {
     "name": "stderr",
     "output_type": "stream",
     "text": [
      "2024/09/28 22:06:00 WARNING mlflow.models.model: Input example should be provided to infer model signature if the model signature is not provided when logging the model.\n"
     ]
    },
    {
     "name": "stdout",
     "output_type": "stream",
     "text": [
      "3677\n"
     ]
    },
    {
     "name": "stderr",
     "output_type": "stream",
     "text": [
      "/home/azureuser/rumour-detection-pheme/utils.py:322: SettingWithCopyWarning: \n",
      "A value is trying to be set on a copy of a slice from a DataFrame.\n",
      "Try using .loc[row_indexer,col_indexer] = value instead\n",
      "\n",
      "See the caveats in the documentation: https://pandas.pydata.org/pandas-docs/stable/user_guide/indexing.html#returning-a-view-versus-a-copy\n",
      "  reply_features[['reply_followers','time_diff']] = scaler.fit_transform(reply_features[['reply_followers','time_diff']])\n"
     ]
    },
    {
     "name": "stdout",
     "output_type": "stream",
     "text": [
      "0\n",
      "Epoch:   0 | Train Loss: 0.9758 | Train Acc: 74.80% | Val Acc: 74.00%\n",
      "100\n",
      "Epoch: 100 | Train Loss: 0.3199 | Train Acc: 84.94% | Val Acc: 84.33%\n",
      "200\n",
      "Epoch: 200 | Train Loss: 0.2254 | Train Acc: 90.15% | Val Acc: 87.00%\n",
      "300\n",
      "Epoch: 300 | Train Loss: 0.1317 | Train Acc: 95.07% | Val Acc: 89.67%\n",
      "Test accuracy: 84.39%\n",
      "Test Recall: 81.87%\n",
      "Test Precision: 81.26%\n"
     ]
    },
    {
     "name": "stderr",
     "output_type": "stream",
     "text": [
      "2024/09/28 22:08:59 WARNING mlflow.models.model: Input example should be provided to infer model signature if the model signature is not provided when logging the model.\n"
     ]
    },
    {
     "name": "stdout",
     "output_type": "stream",
     "text": [
      "3687\n"
     ]
    },
    {
     "name": "stderr",
     "output_type": "stream",
     "text": [
      "/home/azureuser/rumour-detection-pheme/utils.py:322: SettingWithCopyWarning: \n",
      "A value is trying to be set on a copy of a slice from a DataFrame.\n",
      "Try using .loc[row_indexer,col_indexer] = value instead\n",
      "\n",
      "See the caveats in the documentation: https://pandas.pydata.org/pandas-docs/stable/user_guide/indexing.html#returning-a-view-versus-a-copy\n",
      "  reply_features[['reply_followers','time_diff']] = scaler.fit_transform(reply_features[['reply_followers','time_diff']])\n"
     ]
    },
    {
     "name": "stdout",
     "output_type": "stream",
     "text": [
      "0\n",
      "Epoch:   0 | Train Loss: 0.6918 | Train Acc: 77.44% | Val Acc: 73.00%\n",
      "100\n",
      "Epoch: 100 | Train Loss: 0.3081 | Train Acc: 85.51% | Val Acc: 84.67%\n",
      "200\n",
      "Epoch: 200 | Train Loss: 0.2111 | Train Acc: 90.22% | Val Acc: 85.67%\n",
      "300\n",
      "Epoch: 300 | Train Loss: 0.1553 | Train Acc: 93.29% | Val Acc: 87.33%\n",
      "Test accuracy: 84.39%\n",
      "Test Recall: 82.14%\n",
      "Test Precision: 79.19%\n"
     ]
    },
    {
     "name": "stderr",
     "output_type": "stream",
     "text": [
      "2024/09/28 22:11:53 WARNING mlflow.models.model: Input example should be provided to infer model signature if the model signature is not provided when logging the model.\n"
     ]
    },
    {
     "name": "stdout",
     "output_type": "stream",
     "text": [
      "3697\n"
     ]
    },
    {
     "name": "stderr",
     "output_type": "stream",
     "text": [
      "/home/azureuser/rumour-detection-pheme/utils.py:322: SettingWithCopyWarning: \n",
      "A value is trying to be set on a copy of a slice from a DataFrame.\n",
      "Try using .loc[row_indexer,col_indexer] = value instead\n",
      "\n",
      "See the caveats in the documentation: https://pandas.pydata.org/pandas-docs/stable/user_guide/indexing.html#returning-a-view-versus-a-copy\n",
      "  reply_features[['reply_followers','time_diff']] = scaler.fit_transform(reply_features[['reply_followers','time_diff']])\n"
     ]
    },
    {
     "name": "stdout",
     "output_type": "stream",
     "text": [
      "0\n",
      "Epoch:   0 | Train Loss: 0.6845 | Train Acc: 77.80% | Val Acc: 76.33%\n",
      "100\n",
      "Epoch: 100 | Train Loss: 0.3080 | Train Acc: 86.08% | Val Acc: 86.33%\n",
      "200\n",
      "Epoch: 200 | Train Loss: 0.2223 | Train Acc: 91.08% | Val Acc: 88.00%\n",
      "300\n",
      "Epoch: 300 | Train Loss: 0.1729 | Train Acc: 94.58% | Val Acc: 87.67%\n",
      "Test accuracy: 85.38%\n",
      "Test Recall: 82.68%\n",
      "Test Precision: 80.75%\n"
     ]
    },
    {
     "name": "stderr",
     "output_type": "stream",
     "text": [
      "2024/09/28 22:14:48 WARNING mlflow.models.model: Input example should be provided to infer model signature if the model signature is not provided when logging the model.\n"
     ]
    },
    {
     "name": "stdout",
     "output_type": "stream",
     "text": [
      "3707\n"
     ]
    },
    {
     "name": "stderr",
     "output_type": "stream",
     "text": [
      "/home/azureuser/rumour-detection-pheme/utils.py:322: SettingWithCopyWarning: \n",
      "A value is trying to be set on a copy of a slice from a DataFrame.\n",
      "Try using .loc[row_indexer,col_indexer] = value instead\n",
      "\n",
      "See the caveats in the documentation: https://pandas.pydata.org/pandas-docs/stable/user_guide/indexing.html#returning-a-view-versus-a-copy\n",
      "  reply_features[['reply_followers','time_diff']] = scaler.fit_transform(reply_features[['reply_followers','time_diff']])\n"
     ]
    },
    {
     "name": "stdout",
     "output_type": "stream",
     "text": [
      "0\n",
      "Epoch:   0 | Train Loss: 1.5366 | Train Acc: 22.70% | Val Acc: 22.33%\n",
      "100\n",
      "Epoch: 100 | Train Loss: 0.3643 | Train Acc: 82.80% | Val Acc: 82.33%\n",
      "200\n",
      "Epoch: 200 | Train Loss: 0.2783 | Train Acc: 88.29% | Val Acc: 84.67%\n",
      "300\n",
      "Epoch: 300 | Train Loss: 0.2019 | Train Acc: 92.36% | Val Acc: 84.67%\n",
      "Test accuracy: 88.70%\n",
      "Test Recall: 83.22%\n",
      "Test Precision: 80.88%\n"
     ]
    },
    {
     "name": "stderr",
     "output_type": "stream",
     "text": [
      "2024/09/28 22:17:42 WARNING mlflow.models.model: Input example should be provided to infer model signature if the model signature is not provided when logging the model.\n"
     ]
    },
    {
     "name": "stdout",
     "output_type": "stream",
     "text": [
      "3717\n"
     ]
    },
    {
     "name": "stderr",
     "output_type": "stream",
     "text": [
      "/home/azureuser/rumour-detection-pheme/utils.py:322: SettingWithCopyWarning: \n",
      "A value is trying to be set on a copy of a slice from a DataFrame.\n",
      "Try using .loc[row_indexer,col_indexer] = value instead\n",
      "\n",
      "See the caveats in the documentation: https://pandas.pydata.org/pandas-docs/stable/user_guide/indexing.html#returning-a-view-versus-a-copy\n",
      "  reply_features[['reply_followers','time_diff']] = scaler.fit_transform(reply_features[['reply_followers','time_diff']])\n"
     ]
    },
    {
     "name": "stdout",
     "output_type": "stream",
     "text": [
      "0\n",
      "Epoch:   0 | Train Loss: 0.7801 | Train Acc: 41.11% | Val Acc: 39.33%\n",
      "100\n",
      "Epoch: 100 | Train Loss: 0.3513 | Train Acc: 84.23% | Val Acc: 83.67%\n",
      "200\n",
      "Epoch: 200 | Train Loss: 0.2746 | Train Acc: 87.72% | Val Acc: 86.33%\n",
      "300\n",
      "Epoch: 300 | Train Loss: 0.2039 | Train Acc: 91.29% | Val Acc: 86.67%\n",
      "Test accuracy: 88.04%\n",
      "Test Recall: 79.57%\n",
      "Test Precision: 83.14%\n"
     ]
    },
    {
     "name": "stderr",
     "output_type": "stream",
     "text": [
      "2024/09/28 22:20:36 WARNING mlflow.models.model: Input example should be provided to infer model signature if the model signature is not provided when logging the model.\n"
     ]
    },
    {
     "name": "stdout",
     "output_type": "stream",
     "text": [
      "3727\n"
     ]
    },
    {
     "name": "stderr",
     "output_type": "stream",
     "text": [
      "/home/azureuser/rumour-detection-pheme/utils.py:322: SettingWithCopyWarning: \n",
      "A value is trying to be set on a copy of a slice from a DataFrame.\n",
      "Try using .loc[row_indexer,col_indexer] = value instead\n",
      "\n",
      "See the caveats in the documentation: https://pandas.pydata.org/pandas-docs/stable/user_guide/indexing.html#returning-a-view-versus-a-copy\n",
      "  reply_features[['reply_followers','time_diff']] = scaler.fit_transform(reply_features[['reply_followers','time_diff']])\n"
     ]
    },
    {
     "name": "stdout",
     "output_type": "stream",
     "text": [
      "0\n",
      "Epoch:   0 | Train Loss: 0.6989 | Train Acc: 78.23% | Val Acc: 73.67%\n"
     ]
    }
   ],
   "source": [
    "#\n",
    "file_path_replies = r\"/home/azureuser/rumour-detection-pheme/replies_charlie_hebdo.pkl\"\n",
    "file_path_posts = r\"/home/azureuser/rumour-detection-pheme/posts_charlie_hebdo.pkl\"\n",
    "\n",
    "for time_cut in range((2837),(60*24*3),10):\n",
    "    print(time_cut)\n",
    "    processor = HeteroDataProcessorFilterNode(file_path_replies, file_path_posts, time_cut)\n",
    "    data = processor.process()\n",
    "\n",
    "    model = GAT(dim_h=64, dim_out=2)\n",
    "    model = to_hetero(model, data.metadata(), aggr='sum')\n",
    "    \n",
    "    optimizer = torch.optim.Adam(model.parameters(), lr=0.001)\n",
    "    device = torch.device('cuda' if torch.cuda.is_available() else 'cpu')\n",
    "    data, model = data.to(device), model.to(device)\n",
    "   \n",
    "    with mlflow.start_run():\n",
    "\n",
    "        for epoch in range(400):\n",
    "            model.train()\n",
    "            optimizer.zero_grad()\n",
    "            out = model(data.x_dict, data.edge_index_dict)['id']\n",
    "            mask = data['id'].train_mask\n",
    "            loss = F.cross_entropy(out[mask], data['id'].y[mask])\n",
    "            loss.backward()\n",
    "            optimizer.step()\n",
    "            \n",
    "            if epoch % 100 == 0:\n",
    "                print(epoch)\n",
    "                train_acc = test(data['id'].train_mask)\n",
    "                val_acc = test(data['id'].val_mask)\n",
    "                print(f'Epoch: {epoch:>3} | Train Loss: {loss:.4f} | Train Acc: {train_acc*100:.2f}% | Val Acc: {val_acc*100:.2f}%')\n",
    "\n",
    "            \n",
    "        test_acc = test(data['id'].test_mask)\n",
    "        print(f'Test accuracy: {test_acc*100:.2f}%')\n",
    "\n",
    "        test_mask = data['id'].test_mask | data['id'].val_mask\n",
    "        pred = model(data.x_dict, data.edge_index_dict)['id'].argmax(dim=-1)\n",
    "        true_labels = data['id'].y[test_mask]\n",
    "        pred_labels = pred[test_mask]\n",
    "        test_precision =precision_score(true_labels, pred_labels, average='macro')\n",
    "        test_recall=recall_score(true_labels, pred_labels, average='macro')\n",
    "        print(f'Test Recall: {test_recall*100:.2f}%')\n",
    "        print(f'Test Precision: {test_precision*100:.2f}%')\n",
    "\n",
    "        mlflow.log_metric(\"train_loss\", loss.item(), step=epoch)\n",
    "        mlflow.log_metric(\"train_acc\", train_acc, step=epoch)\n",
    "        mlflow.log_metric(\"val_acc\", val_acc, step=epoch)\n",
    "        mlflow.log_metric(\"test_acc\", test_acc)\n",
    "        mlflow.log_metric(\"test_precision\",  test_precision)\n",
    "        mlflow.log_metric(\"test_recall\",  test_recall)\n",
    "\n",
    "            \n",
    "        mlflow.log_param(\"dim_h\", 64)\n",
    "        mlflow.log_param(\"dim_out\", 2)\n",
    "        mlflow.log_param(\"learning_rate\", 0.001)\n",
    "        mlflow.log_param(\"epochs\", 400)\n",
    "        mlflow.log_metric(\"time_cut\", time_cut)\n",
    "\n",
    "\n",
    "\n",
    "        \n",
    "            \n",
    "        mlflow.pytorch.log_model(model, f\"GAT_model_{time_cut}\")\n"
   ]
  },
  {
   "cell_type": "markdown",
   "id": "1874da0c-a3d7-45ba-83b9-6b1c73658b8c",
   "metadata": {},
   "source": [
    "#### "
   ]
  },
  {
   "cell_type": "code",
   "execution_count": 4,
   "id": "14927e62-14c5-44ff-8364-bc089c515249",
   "metadata": {},
   "outputs": [
    {
     "data": {
      "text/plain": [
       "4320"
      ]
     },
     "execution_count": 4,
     "metadata": {},
     "output_type": "execute_result"
    }
   ],
   "source": [
    "24*60*3"
   ]
  },
  {
   "cell_type": "code",
   "execution_count": 3,
   "id": "c64fe0eb-1334-4cad-8650-ad996526d344",
   "metadata": {},
   "outputs": [
    {
     "data": {
      "text/plain": [
       "4317.0"
      ]
     },
     "execution_count": 3,
     "metadata": {},
     "output_type": "execute_result"
    }
   ],
   "source": [
    "df['metrics.time_cut'].max()"
   ]
  },
  {
   "cell_type": "code",
   "execution_count": 1,
   "id": "8b80b142-51a5-4109-be10-26c3cb613151",
   "metadata": {},
   "outputs": [],
   "source": [
    "import mlflow\n",
    "mlflow.set_tracking_uri(\"sqlite:///mlflow.db\")\n",
    "import seaborn as sns\n",
    "import matplotlib.pyplot as plt\n",
    "\n",
    "# Get the experiment ID or name\n",
    "experiment_name = \"GAT Network 2024-09-28 2 layers Filter Node 17min-3days\"  # Replace with your experiment name\n",
    "experiment = mlflow.get_experiment_by_name(experiment_name)\n",
    "\n",
    "if experiment is not None:\n",
    "    experiment_id = experiment.experiment_id\n",
    "\n",
    "    # Retrieve all runs in the experiment as a DataFrame\n",
    "    df = mlflow.search_runs(experiment_ids=[experiment_id])\n",
    "    \n",
    "    # Show the DataFrame\n",
    "    #print(df)\n",
    "else:\n",
    "    print(f\"Experiment '{experiment_name}' not found.\")\n"
   ]
  },
  {
   "cell_type": "code",
   "execution_count": 3,
   "id": "c4a3d803-9766-483e-8e97-d8c0e11ca2ec",
   "metadata": {},
   "outputs": [
    {
     "data": {
      "text/plain": [
       "Index(['run_id', 'experiment_id', 'status', 'artifact_uri', 'start_time',\n",
       "       'end_time', 'metrics.time_cut', 'metrics.train_loss',\n",
       "       'metrics.train_acc', 'metrics.test_acc', 'metrics.test_precision',\n",
       "       'metrics.test_recall', 'metrics.val_acc', 'params.dim_out',\n",
       "       'params.dim_h', 'params.epochs', 'params.learning_rate',\n",
       "       'tags.mlflow.log-model.history', 'tags.mlflow.source.name',\n",
       "       'tags.mlflow.user', 'tags.mlflow.runName', 'tags.mlflow.source.type'],\n",
       "      dtype='object')"
      ]
     },
     "execution_count": 3,
     "metadata": {},
     "output_type": "execute_result"
    }
   ],
   "source": [
    "df.columns"
   ]
  },
  {
   "cell_type": "code",
   "execution_count": 5,
   "id": "2cbfe2f7-27a0-4974-afce-ab110fbd567a",
   "metadata": {},
   "outputs": [],
   "source": [
    "df = df[['run_id','metrics.time_cut', 'metrics.train_loss',\n",
    "       'metrics.train_acc', 'metrics.test_acc', 'metrics.test_precision',\n",
    "       'metrics.test_recall', 'metrics.val_acc']]"
   ]
  },
  {
   "cell_type": "code",
   "execution_count": 7,
   "id": "74db4af3-32d2-4427-8f27-e43179176443",
   "metadata": {},
   "outputs": [],
   "source": [
    "import pandas as pd\n",
    "df = pd.read_csv(\"GAT_2024_09_28_2_layers_Filter_Node_17min_3days\")"
   ]
  },
  {
   "cell_type": "code",
   "execution_count": 8,
   "id": "d30842d5-b622-4893-a64e-ba5a3a0c1d25",
   "metadata": {},
   "outputs": [
    {
     "data": {
      "image/png": "[encoded data removed]",
      "text/plain": [
       "<Figure size 1000x600 with 1 Axes>"
      ]
     },
     "metadata": {},
     "output_type": "display_data"
    }
   ],
   "source": [
    "\n",
    "# Plotting time_cut vs. test_accuracy\n",
    "plt.figure(figsize=(10, 6))\n",
    "sns.lineplot(x='metrics.time_cut', y='metrics.test_recall', data=df)\n",
    "plt.title('Time Cut vs. Test Recall')\n",
    "plt.xlabel('Time Cut')\n",
    "plt.ylabel('Test Precision')\n",
    "plt.grid(True)\n",
    "plt.show()"
   ]
  },
  {
   "cell_type": "code",
   "execution_count": 9,
   "id": "f139dc12-00bb-42e2-8b76-2af069082193",
   "metadata": {},
   "outputs": [
    {
     "data": {
      "image/png": "[encoded data removed]",
      "text/plain": [
       "<Figure size 1000x600 with 1 Axes>"
      ]
     },
     "metadata": {},
     "output_type": "display_data"
    }
   ],
   "source": [
    "\n",
    "# Plotting time_cut vs. test_accuracy\n",
    "plt.figure(figsize=(10, 6))S\n",
    "sns.lineplot(x='metrics.time_cut', y='metrics.test_precision', data=df)\n",
    "plt.title('Time Cut vs. Test Precision')\n",
    "plt.xlabel('Time Cut')\n",
    "plt.ylabel('Test Precision')\n",
    "plt.grid(True)\n",
    "plt.show()"
   ]
  }
 ],
 "metadata": {
  "kernelspec": {
   "display_name": "mastering",
   "language": "python",
   "name": "mastering"
  },
  "language_info": {
   "codemirror_mode": {
    "name": "ipython",
    "version": 3
   },
   "file_extension": ".py",
   "mimetype": "text/x-python",
   "name": "python",
   "nbconvert_exporter": "python",
   "pygments_lexer": "ipython3",
   "version": "3.12.5"
  }
 },
 "nbformat": 4,
 "nbformat_minor": 5
}
